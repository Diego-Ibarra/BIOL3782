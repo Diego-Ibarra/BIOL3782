{
 "cells": [
  {
   "cell_type": "code",
   "execution_count": 67,
   "metadata": {},
   "outputs": [],
   "source": [
    "# Lab settings - please ingnore\n",
    "options(repr.plot.width=7, repr.plot.height=4, repr.plot.res=250 ) # Make plots a resonable size"
   ]
  },
  {
   "cell_type": "markdown",
   "metadata": {},
   "source": [
    "<div class=\"big_title\">LAB 8: Temporal data and string manipulation plus Web scrapping!</div>\n",
    "\n",
    "BIO3782: Biologist's Toolkit (Dalhousie University)\n",
    "\n",
    "----------------------------------------"
   ]
  },
  {
   "cell_type": "markdown",
   "metadata": {},
   "source": [
    "# Setup of workspace\n",
    "\n",
    "<span class=\"important\"></span> Make sure the required files are in the working directory:\n",
    "\n",
    "* Create a **folder**  on the \"desktop\" and name it <span class=\"file\">Lab8</span>\n",
    "* Create a **sub-folder** called <span class=\"file\">data_raw</span> inside your <span class=\"file\">Lab8</span> folder. Ideally, you would keep your raw and cleaned data separate in case you ever needed your raw data again.\n",
    "* From Brightspace, download the <span class=\"file\">Weather_Data_2017.csv</span> and <span class=\"file\">mlb2017_pitching.txt</span>files into your <span class=\"file\">Desktop/Lab8/data_raw</span> folder:\n",
    "* In RStudio, change the working directory to <span class=\"file\">Desktop/Lab8</span>. Click here if you need a [refresher on the **working directory**](https://diego-ibarra.github.io/biol3782/week1/index.html#RStudio's-%22Working-Directory%22)\n",
    "* In RStudio, create a new R script, name it <span class=\"file\">lab8.r</span> and make sure you save it in <span class=\"file\">Desktop\\Lab8</span>. You will be writing and copy-pasting code to your <span class=\"file\">lab8.r</span> file so that you can keep a record of all you did in this lab. Also, if your computer crashes, you can just re-run your file to get back up where you left.\n",
    "\n",
    "\n",
    "As in previous labs, we'll try simulate \"real-life\" coding, by using the tags below to indicate when to use RStudio's <span class=\"editor\"></span> and when to use the <span class=\"console\"></span>: \n",
    "\n",
    "\n",
    "<br>\n",
    "<div class=\"use_editor\"></div>\n",
    "<br><br>\n",
    "\n",
    "<div class=\"use_console\"></div>\n",
    "<br><br>\n",
    "\n",
    "----------------------------------------"
   ]
  },
  {
   "cell_type": "markdown",
   "metadata": {},
   "source": [
    "Let's load up some packages that we'll need.\n",
    "\n",
    "<br>\n",
    "<div class=\"use_editor\"></div>"
   ]
  },
  {
   "cell_type": "code",
   "execution_count": null,
   "metadata": {
    "scrolled": true
   },
   "outputs": [],
   "source": [
    "library('tidyverse')"
   ]
  },
  {
   "cell_type": "markdown",
   "metadata": {},
   "source": [
    "# Temporal data\n",
    "\n",
    "Time is a surprisingly difficult thing to get right sometimes. The problem is that so many people store time differently. French Canada uses 24-hr notation, while English-speaking Canada tends to use 12-hour notation. Then, in the US there is the habit of using month-day-year, rather than day-month-year. Time zones are a pain. This is just the start of where problems begin, and there is also daylight savings for part of the year in mant countries. So let's start with some notation.\n",
    "\n",
    "## Date coding notation in R\n",
    "\n",
    "There are several functions to manipulate dates, times, or both. It is generally recommended to stick to the simplest level you need, so stick with dates if you just have dates, and times with times. The date-only function is `as.Date()`.\n",
    "\n",
    "Because there are so many ways to keep track of time, you often need to specify the specific **date-time notation** assoacited with your data, so that R can handle and convert dates and times into a standardized format. In `as.Date()`, the notation is:\n",
    "\n",
    "| Code | Value |\n",
    "| ------------- |:-------------:|\n",
    "| %d | Day of the month (decimal number) |\n",
    "| %m | Month (decimal number) |\n",
    "| %b | Month (abbreviated) |\n",
    "| %B | Month (full name) |\n",
    "| %y | Year (2 digit) |\n",
    "| %Y | Year (4 digit) |\n",
    "\n",
    "For each piece of data one might look at, a date object can be created by passing a string into the `as.Date()` function and specifying what it looks like:"
   ]
  },
  {
   "cell_type": "code",
   "execution_count": 4,
   "metadata": {},
   "outputs": [
    {
     "data": {
      "text/html": [
       "<time datetime=\"2001-01-15\">2001-01-15</time>"
      ],
      "text/latex": [
       "2001-01-15"
      ],
      "text/markdown": [
       "2001-01-15"
      ],
      "text/plain": [
       "[1] \"2001-01-15\""
      ]
     },
     "metadata": {},
     "output_type": "display_data"
    }
   ],
   "source": [
    "as.Date('15/01/2001', format='%d/%m/%Y', tz='AST')"
   ]
  },
  {
   "cell_type": "markdown",
   "metadata": {},
   "source": [
    "Note that in `format=` argument you have to specify the **date-time notation** that matches your data, including any characters used to separete the elements of your date (e.g. `-`, `/`, `_`, etc.). The specific notation is this case is `%d` for \"day\", then a `/`, then a `%m` for \"month\", then another `/`, and finally `%Y` for year. Also, in this case, the time zone `tz=` is `AST` for Atlantic Standard Time."
   ]
  },
  {
   "cell_type": "markdown",
   "metadata": {},
   "source": [
    "## Date objects\n",
    "\n",
    "Let's make the following two varibles:\n",
    "\n",
    "<br>\n",
    "<div class=\"use_console\"></div>"
   ]
  },
  {
   "cell_type": "code",
   "execution_count": 25,
   "metadata": {},
   "outputs": [],
   "source": [
    "date1 = '15/1/2021'\n",
    "\n",
    "date2 = as.Date('15/1/2021', format='%d/%m/%Y', tz=\"America/Halifax\")"
   ]
  },
  {
   "cell_type": "markdown",
   "metadata": {},
   "source": [
    "Now lets print the two variables to screen by doing...\n",
    "\n",
    "<br>\n",
    "<div class=\"use_console\"></div>"
   ]
  },
  {
   "cell_type": "code",
   "execution_count": 26,
   "metadata": {},
   "outputs": [
    {
     "data": {
      "text/html": [
       "'15/1/2021'"
      ],
      "text/latex": [
       "'15/1/2021'"
      ],
      "text/markdown": [
       "'15/1/2021'"
      ],
      "text/plain": [
       "[1] \"15/1/2021\""
      ]
     },
     "metadata": {},
     "output_type": "display_data"
    },
    {
     "data": {
      "text/html": [
       "<time datetime=\"2021-01-15\">2021-01-15</time>"
      ],
      "text/latex": [
       "2021-01-15"
      ],
      "text/markdown": [
       "2021-01-15"
      ],
      "text/plain": [
       "[1] \"2021-01-15\""
      ]
     },
     "metadata": {},
     "output_type": "display_data"
    }
   ],
   "source": [
    "date1\n",
    "date2"
   ]
  },
  {
   "cell_type": "markdown",
   "metadata": {},
   "source": [
    "As you can see, both return something that looks like a date. Our brain quickly deduces that `'15/1/2021'` and `2021-01-15` are both dates, and in fact, they are the same date just with different format. However, R doe not sees `date1` and `date2` the same way than your brain does. R sees `date1` as simply string of charachters, like `'hello world'`, while R understand that `date2` is actually a **date object** that contains temporal information. This is evident if we quesry the class of those variables:\n",
    "\n",
    "<br>\n",
    "<div class=\"use_console\"></div>"
   ]
  },
  {
   "cell_type": "code",
   "execution_count": 27,
   "metadata": {},
   "outputs": [
    {
     "data": {
      "text/html": [
       "'character'"
      ],
      "text/latex": [
       "'character'"
      ],
      "text/markdown": [
       "'character'"
      ],
      "text/plain": [
       "[1] \"character\""
      ]
     },
     "metadata": {},
     "output_type": "display_data"
    },
    {
     "data": {
      "text/html": [
       "'Date'"
      ],
      "text/latex": [
       "'Date'"
      ],
      "text/markdown": [
       "'Date'"
      ],
      "text/plain": [
       "[1] \"Date\""
      ]
     },
     "metadata": {},
     "output_type": "display_data"
    }
   ],
   "source": [
    "class(date1)\n",
    "\n",
    "class(date2)"
   ]
  },
  {
   "cell_type": "markdown",
   "metadata": {},
   "source": [
    "Dates are weird because there are a mixture of units of uneven size - 12 months, with a range of days in them that vary by year are not easy to follow. Let's say you want to know how many days there are between a series of sampling dates. Calculating this by hand would be a nightmare to have to do, unless you cleverly stored your data in a date object, which allows you to do all kinds of \"temporal math\". We can determine the length of time between two dates by using the `diff()` function.\n",
    "\n",
    "First let's create a vector of dates called `sample_dates`.  \n",
    "\n",
    "<br>  \n",
    "<div class=\"use_console\"></div>"
   ]
  },
  {
   "cell_type": "code",
   "execution_count": 6,
   "metadata": {},
   "outputs": [
    {
     "data": {
      "text/html": [
       "<style>\n",
       ".list-inline {list-style: none; margin:0; padding: 0}\n",
       ".list-inline>li {display: inline-block}\n",
       ".list-inline>li:not(:last-child)::after {content: \"\\00b7\"; padding: 0 .5ex}\n",
       "</style>\n",
       "<ol class=list-inline><li><time datetime=\"2010-07-22\">2010-07-22</time></li><li><time datetime=\"2011-04-20\">2011-04-20</time></li><li><time datetime=\"2012-10-06\">2012-10-06</time></li><li><time datetime=\"2013-09-16\">2013-09-16</time></li><li><time datetime=\"2014-11-01\">2014-11-01</time></li><li><time datetime=\"2015-12-09\">2015-12-09</time></li><li><time datetime=\"2016-10-23\">2016-10-23</time></li><li><time datetime=\"2017-01-01\">2017-01-01</time></li><li><time datetime=\"2018-02-19\">2018-02-19</time></li></ol>\n"
      ],
      "text/latex": [
       "\\begin{enumerate*}\n",
       "\\item 2010-07-22\n",
       "\\item 2011-04-20\n",
       "\\item 2012-10-06\n",
       "\\item 2013-09-16\n",
       "\\item 2014-11-01\n",
       "\\item 2015-12-09\n",
       "\\item 2016-10-23\n",
       "\\item 2017-01-01\n",
       "\\item 2018-02-19\n",
       "\\end{enumerate*}\n"
      ],
      "text/markdown": [
       "1. 2010-07-22\n",
       "2. 2011-04-20\n",
       "3. 2012-10-06\n",
       "4. 2013-09-16\n",
       "5. 2014-11-01\n",
       "6. 2015-12-09\n",
       "7. 2016-10-23\n",
       "8. 2017-01-01\n",
       "9. 2018-02-19\n",
       "\n",
       "\n"
      ],
      "text/plain": [
       "[1] \"2010-07-22\" \"2011-04-20\" \"2012-10-06\" \"2013-09-16\" \"2014-11-01\"\n",
       "[6] \"2015-12-09\" \"2016-10-23\" \"2017-01-01\" \"2018-02-19\""
      ]
     },
     "metadata": {},
     "output_type": "display_data"
    }
   ],
   "source": [
    "sample_dates = as.Date(c('2010-07-22', '2011-04-20', '2012-10-06', '2013-09-16', '2014-11-01', '2015-12-09', '2016-10-23', '2017-01-01', '2018-02-19'))\n",
    "\n",
    "sample_dates"
   ]
  },
  {
   "cell_type": "markdown",
   "metadata": {},
   "source": [
    "Next, let's compute the difference between each date.\n",
    "\n",
    "<br>\n",
    "<div class=\"use_console\"></div>"
   ]
  },
  {
   "cell_type": "code",
   "execution_count": 7,
   "metadata": {},
   "outputs": [
    {
     "data": {
      "text/plain": [
       "Time differences in days\n",
       "[1] 272 535 345 411 403 319  70 414"
      ]
     },
     "metadata": {},
     "output_type": "display_data"
    }
   ],
   "source": [
    "diff(sample_dates)"
   ]
  },
  {
   "cell_type": "markdown",
   "metadata": {},
   "source": [
    "It's a good idea to specify the timezone where the time was collected as this will anchor time into a universal standard that can get ambiguous quickly (try sampling reefs on a trip across the Pacific and keeping track of what timezone you're in, or even what hemisphere, once you come back and look at the data). Timezones are a common pitfall, as names we use locally may not apply universally (everyone wants Eastern Standard Time it seems).\n",
    "\n",
    "The [full list](https://en.wikipedia.org/wiki/List_of_tz_database_time_zones) of timezones is long and can also be printed in R. Below is how to get the first 6 timezones:\n",
    "\n",
    "<br>\n",
    "<div class=\"use_console\"></div>"
   ]
  },
  {
   "cell_type": "code",
   "execution_count": 28,
   "metadata": {},
   "outputs": [
    {
     "data": {
      "text/html": [
       "<style>\n",
       ".list-inline {list-style: none; margin:0; padding: 0}\n",
       ".list-inline>li {display: inline-block}\n",
       ".list-inline>li:not(:last-child)::after {content: \"\\00b7\"; padding: 0 .5ex}\n",
       "</style>\n",
       "<ol class=list-inline><li>'Africa/Abidjan'</li><li>'Africa/Accra'</li><li>'Africa/Addis_Ababa'</li><li>'Africa/Algiers'</li><li>'Africa/Asmara'</li><li>'Africa/Asmera'</li></ol>\n"
      ],
      "text/latex": [
       "\\begin{enumerate*}\n",
       "\\item 'Africa/Abidjan'\n",
       "\\item 'Africa/Accra'\n",
       "\\item 'Africa/Addis\\_Ababa'\n",
       "\\item 'Africa/Algiers'\n",
       "\\item 'Africa/Asmara'\n",
       "\\item 'Africa/Asmera'\n",
       "\\end{enumerate*}\n"
      ],
      "text/markdown": [
       "1. 'Africa/Abidjan'\n",
       "2. 'Africa/Accra'\n",
       "3. 'Africa/Addis_Ababa'\n",
       "4. 'Africa/Algiers'\n",
       "5. 'Africa/Asmara'\n",
       "6. 'Africa/Asmera'\n",
       "\n",
       "\n"
      ],
      "text/plain": [
       "[1] \"Africa/Abidjan\"     \"Africa/Accra\"       \"Africa/Addis_Ababa\"\n",
       "[4] \"Africa/Algiers\"     \"Africa/Asmara\"      \"Africa/Asmera\"     "
      ]
     },
     "metadata": {},
     "output_type": "display_data"
    }
   ],
   "source": [
    "OlsonNames() %>% \n",
    "  head()"
   ]
  },
  {
   "cell_type": "markdown",
   "metadata": {},
   "source": [
    "<div class=\"Q\"><br><br>\n",
    "\n",
    "How many days passed between each of the assassinations of JFK (November 22, 1963), Malcolm X (February 21, 1965), and Martin Luther King Jr.(April 4, 1968) in the 1960's? \n",
    "\n",
    "<br><br>ANSWER: 457 and 1138 days \n",
    "\n",
    "<br><br><div class=\"qhelp\"></div></div>"
   ]
  },
  {
   "cell_type": "markdown",
   "metadata": {},
   "source": [
    "We can also create a column/vector of dates. We'll use the function `seq()`, which creates a sequence of things.\n",
    "\n",
    "<br>\n",
    "<div class=\"use_console\"></div>"
   ]
  },
  {
   "cell_type": "code",
   "execution_count": 29,
   "metadata": {},
   "outputs": [
    {
     "data": {
      "text/html": [
       "<style>\n",
       ".list-inline {list-style: none; margin:0; padding: 0}\n",
       ".list-inline>li {display: inline-block}\n",
       ".list-inline>li:not(:last-child)::after {content: \"\\00b7\"; padding: 0 .5ex}\n",
       "</style>\n",
       "<ol class=list-inline><li><time datetime=\"2021-01-15\">2021-01-15</time></li><li><time datetime=\"2021-01-22\">2021-01-22</time></li><li><time datetime=\"2021-01-29\">2021-01-29</time></li><li><time datetime=\"2021-02-05\">2021-02-05</time></li><li><time datetime=\"2021-02-12\">2021-02-12</time></li><li><time datetime=\"2021-02-19\">2021-02-19</time></li><li><time datetime=\"2021-02-26\">2021-02-26</time></li><li><time datetime=\"2021-03-05\">2021-03-05</time></li><li><time datetime=\"2021-03-12\">2021-03-12</time></li><li><time datetime=\"2021-03-19\">2021-03-19</time></li><li><time datetime=\"2021-03-26\">2021-03-26</time></li><li><time datetime=\"2021-04-02\">2021-04-02</time></li><li><time datetime=\"2021-04-09\">2021-04-09</time></li><li><time datetime=\"2021-04-16\">2021-04-16</time></li><li><time datetime=\"2021-04-23\">2021-04-23</time></li><li><time datetime=\"2021-04-30\">2021-04-30</time></li><li><time datetime=\"2021-05-07\">2021-05-07</time></li><li><time datetime=\"2021-05-14\">2021-05-14</time></li><li><time datetime=\"2021-05-21\">2021-05-21</time></li><li><time datetime=\"2021-05-28\">2021-05-28</time></li></ol>\n"
      ],
      "text/latex": [
       "\\begin{enumerate*}\n",
       "\\item 2021-01-15\n",
       "\\item 2021-01-22\n",
       "\\item 2021-01-29\n",
       "\\item 2021-02-05\n",
       "\\item 2021-02-12\n",
       "\\item 2021-02-19\n",
       "\\item 2021-02-26\n",
       "\\item 2021-03-05\n",
       "\\item 2021-03-12\n",
       "\\item 2021-03-19\n",
       "\\item 2021-03-26\n",
       "\\item 2021-04-02\n",
       "\\item 2021-04-09\n",
       "\\item 2021-04-16\n",
       "\\item 2021-04-23\n",
       "\\item 2021-04-30\n",
       "\\item 2021-05-07\n",
       "\\item 2021-05-14\n",
       "\\item 2021-05-21\n",
       "\\item 2021-05-28\n",
       "\\end{enumerate*}\n"
      ],
      "text/markdown": [
       "1. 2021-01-15\n",
       "2. 2021-01-22\n",
       "3. 2021-01-29\n",
       "4. 2021-02-05\n",
       "5. 2021-02-12\n",
       "6. 2021-02-19\n",
       "7. 2021-02-26\n",
       "8. 2021-03-05\n",
       "9. 2021-03-12\n",
       "10. 2021-03-19\n",
       "11. 2021-03-26\n",
       "12. 2021-04-02\n",
       "13. 2021-04-09\n",
       "14. 2021-04-16\n",
       "15. 2021-04-23\n",
       "16. 2021-04-30\n",
       "17. 2021-05-07\n",
       "18. 2021-05-14\n",
       "19. 2021-05-21\n",
       "20. 2021-05-28\n",
       "\n",
       "\n"
      ],
      "text/plain": [
       " [1] \"2021-01-15\" \"2021-01-22\" \"2021-01-29\" \"2021-02-05\" \"2021-02-12\"\n",
       " [6] \"2021-02-19\" \"2021-02-26\" \"2021-03-05\" \"2021-03-12\" \"2021-03-19\"\n",
       "[11] \"2021-03-26\" \"2021-04-02\" \"2021-04-09\" \"2021-04-16\" \"2021-04-23\"\n",
       "[16] \"2021-04-30\" \"2021-05-07\" \"2021-05-14\" \"2021-05-21\" \"2021-05-28\""
      ]
     },
     "metadata": {},
     "output_type": "display_data"
    }
   ],
   "source": [
    "my_dates = seq(date2, length=20, by='week')\n",
    "my_dates"
   ]
  },
  {
   "cell_type": "markdown",
   "metadata": {},
   "source": [
    "We have just created a vector of dates for 20 weeks starting from January 15,2021. Let's check to see if the dates are separated weekly (by 7 days). Let's check the time difference between each pair of elements in `my_dates`:\n",
    "\n",
    "<br>\n",
    "<div class=\"use_console\"></div>"
   ]
  },
  {
   "cell_type": "code",
   "execution_count": 11,
   "metadata": {},
   "outputs": [
    {
     "data": {
      "text/plain": [
       "Time differences in days\n",
       " [1] 7 7 7 7 7 7 7 7 7 7 7 7 7 7 7 7 7 7 7"
      ]
     },
     "metadata": {},
     "output_type": "display_data"
    }
   ],
   "source": [
    "diff(my_dates)"
   ]
  },
  {
   "cell_type": "markdown",
   "metadata": {},
   "source": [
    "In most date systems, dates are really stored as integers, with some specific day in history being day zero. Excel famously uses 1900 but [wrongly identifying it as a leap year](https://en.wikipedia.org/wiki/Leap_year_bug) so as to maintain the Microsoft obsession with backward compatability. In R, 1 January 1970 is year zero, following the tradition of [Unix](https://www.wired.com/2001/09/unix-tick-tocks-to-a-billion/).\n",
    "\n",
    "To look at the integer day format for a datetime from the `my_dates` vector we created, we can use the following functions:\n",
    "\n",
    "<br>\n",
    "<div class=\"use_console\"></div>"
   ]
  },
  {
   "cell_type": "code",
   "execution_count": 12,
   "metadata": {},
   "outputs": [
    {
     "data": {
      "text/html": [
       "<style>\n",
       ".list-inline {list-style: none; margin:0; padding: 0}\n",
       ".list-inline>li {display: inline-block}\n",
       ".list-inline>li:not(:last-child)::after {content: \"\\00b7\"; padding: 0 .5ex}\n",
       "</style>\n",
       "<ol class=list-inline><li>18642</li><li>18649</li><li>18656</li><li>18663</li><li>18670</li><li>18677</li><li>18684</li><li>18691</li><li>18698</li><li>18705</li><li>18712</li><li>18719</li><li>18726</li><li>18733</li><li>18740</li><li>18747</li><li>18754</li><li>18761</li><li>18768</li><li>18775</li></ol>\n"
      ],
      "text/latex": [
       "\\begin{enumerate*}\n",
       "\\item 18642\n",
       "\\item 18649\n",
       "\\item 18656\n",
       "\\item 18663\n",
       "\\item 18670\n",
       "\\item 18677\n",
       "\\item 18684\n",
       "\\item 18691\n",
       "\\item 18698\n",
       "\\item 18705\n",
       "\\item 18712\n",
       "\\item 18719\n",
       "\\item 18726\n",
       "\\item 18733\n",
       "\\item 18740\n",
       "\\item 18747\n",
       "\\item 18754\n",
       "\\item 18761\n",
       "\\item 18768\n",
       "\\item 18775\n",
       "\\end{enumerate*}\n"
      ],
      "text/markdown": [
       "1. 18642\n",
       "2. 18649\n",
       "3. 18656\n",
       "4. 18663\n",
       "5. 18670\n",
       "6. 18677\n",
       "7. 18684\n",
       "8. 18691\n",
       "9. 18698\n",
       "10. 18705\n",
       "11. 18712\n",
       "12. 18719\n",
       "13. 18726\n",
       "14. 18733\n",
       "15. 18740\n",
       "16. 18747\n",
       "17. 18754\n",
       "18. 18761\n",
       "19. 18768\n",
       "20. 18775\n",
       "\n",
       "\n"
      ],
      "text/plain": [
       " [1] 18642 18649 18656 18663 18670 18677 18684 18691 18698 18705 18712 18719\n",
       "[13] 18726 18733 18740 18747 18754 18761 18768 18775"
      ]
     },
     "metadata": {},
     "output_type": "display_data"
    }
   ],
   "source": [
    "unclass(my_dates)"
   ]
  },
  {
   "cell_type": "markdown",
   "metadata": {},
   "source": [
    "<div class=\"Q\"><br><br>\n",
    "\n",
    "How many days would pass between the first and last dates if we ran this string of code <b>seq(date2, length=20, by='day')</b>? \n",
    "\n",
    "<br><br>ANSWER: 20 days \n",
    "\n",
    "<br><br><div class=\"qhelp\"></div></div>"
   ]
  },
  {
   "cell_type": "markdown",
   "metadata": {},
   "source": [
    "In addition to turning dates into numbers, `as.Date()` can also turn numbers into words. A few convenience functions:\n",
    "\n",
    "* `weekdays`: returns the day of each date.\n",
    "\n",
    "<br>\n",
    "<div class=\"use_console\"></div>"
   ]
  },
  {
   "cell_type": "code",
   "execution_count": 22,
   "metadata": {},
   "outputs": [
    {
     "data": {
      "text/html": [
       "<style>\n",
       ".list-inline {list-style: none; margin:0; padding: 0}\n",
       ".list-inline>li {display: inline-block}\n",
       ".list-inline>li:not(:last-child)::after {content: \"\\00b7\"; padding: 0 .5ex}\n",
       "</style>\n",
       "<ol class=list-inline><li>'Thursday'</li><li>'Wednesday'</li><li>'Saturday'</li><li>'Monday'</li><li>'Saturday'</li><li>'Wednesday'</li><li>'Sunday'</li><li>'Sunday'</li><li>'Monday'</li></ol>\n"
      ],
      "text/latex": [
       "\\begin{enumerate*}\n",
       "\\item 'Thursday'\n",
       "\\item 'Wednesday'\n",
       "\\item 'Saturday'\n",
       "\\item 'Monday'\n",
       "\\item 'Saturday'\n",
       "\\item 'Wednesday'\n",
       "\\item 'Sunday'\n",
       "\\item 'Sunday'\n",
       "\\item 'Monday'\n",
       "\\end{enumerate*}\n"
      ],
      "text/markdown": [
       "1. 'Thursday'\n",
       "2. 'Wednesday'\n",
       "3. 'Saturday'\n",
       "4. 'Monday'\n",
       "5. 'Saturday'\n",
       "6. 'Wednesday'\n",
       "7. 'Sunday'\n",
       "8. 'Sunday'\n",
       "9. 'Monday'\n",
       "\n",
       "\n"
      ],
      "text/plain": [
       "[1] \"Thursday\"  \"Wednesday\" \"Saturday\"  \"Monday\"    \"Saturday\"  \"Wednesday\"\n",
       "[7] \"Sunday\"    \"Sunday\"    \"Monday\"   "
      ]
     },
     "metadata": {},
     "output_type": "display_data"
    }
   ],
   "source": [
    "weekdays(sample_dates)"
   ]
  },
  {
   "cell_type": "markdown",
   "metadata": {},
   "source": [
    "* `months`: returns the month of each date.\n",
    "\n",
    "<br>\n",
    "<div class=\"use_console\"></div>"
   ]
  },
  {
   "cell_type": "code",
   "execution_count": 25,
   "metadata": {},
   "outputs": [
    {
     "data": {
      "text/html": [
       "<style>\n",
       ".list-inline {list-style: none; margin:0; padding: 0}\n",
       ".list-inline>li {display: inline-block}\n",
       ".list-inline>li:not(:last-child)::after {content: \"\\00b7\"; padding: 0 .5ex}\n",
       "</style>\n",
       "<ol class=list-inline><li>'July'</li><li>'April'</li><li>'October'</li><li>'September'</li><li>'November'</li><li>'December'</li><li>'October'</li><li>'January'</li><li>'February'</li></ol>\n"
      ],
      "text/latex": [
       "\\begin{enumerate*}\n",
       "\\item 'July'\n",
       "\\item 'April'\n",
       "\\item 'October'\n",
       "\\item 'September'\n",
       "\\item 'November'\n",
       "\\item 'December'\n",
       "\\item 'October'\n",
       "\\item 'January'\n",
       "\\item 'February'\n",
       "\\end{enumerate*}\n"
      ],
      "text/markdown": [
       "1. 'July'\n",
       "2. 'April'\n",
       "3. 'October'\n",
       "4. 'September'\n",
       "5. 'November'\n",
       "6. 'December'\n",
       "7. 'October'\n",
       "8. 'January'\n",
       "9. 'February'\n",
       "\n",
       "\n"
      ],
      "text/plain": [
       "[1] \"July\"      \"April\"     \"October\"   \"September\" \"November\"  \"December\" \n",
       "[7] \"October\"   \"January\"   \"February\" "
      ]
     },
     "metadata": {},
     "output_type": "display_data"
    }
   ],
   "source": [
    "months(sample_dates)"
   ]
  },
  {
   "cell_type": "markdown",
   "metadata": {},
   "source": [
    "* `quarter`: returns the yearly quarter of each date.\n",
    "\n",
    "<br>\n",
    "<div class=\"use_console\"></div>"
   ]
  },
  {
   "cell_type": "code",
   "execution_count": 24,
   "metadata": {},
   "outputs": [
    {
     "data": {
      "text/html": [
       "<style>\n",
       ".list-inline {list-style: none; margin:0; padding: 0}\n",
       ".list-inline>li {display: inline-block}\n",
       ".list-inline>li:not(:last-child)::after {content: \"\\00b7\"; padding: 0 .5ex}\n",
       "</style>\n",
       "<ol class=list-inline><li>'Q3'</li><li>'Q2'</li><li>'Q4'</li><li>'Q3'</li><li>'Q4'</li><li>'Q4'</li><li>'Q4'</li><li>'Q1'</li><li>'Q1'</li></ol>\n"
      ],
      "text/latex": [
       "\\begin{enumerate*}\n",
       "\\item 'Q3'\n",
       "\\item 'Q2'\n",
       "\\item 'Q4'\n",
       "\\item 'Q3'\n",
       "\\item 'Q4'\n",
       "\\item 'Q4'\n",
       "\\item 'Q4'\n",
       "\\item 'Q1'\n",
       "\\item 'Q1'\n",
       "\\end{enumerate*}\n"
      ],
      "text/markdown": [
       "1. 'Q3'\n",
       "2. 'Q2'\n",
       "3. 'Q4'\n",
       "4. 'Q3'\n",
       "5. 'Q4'\n",
       "6. 'Q4'\n",
       "7. 'Q4'\n",
       "8. 'Q1'\n",
       "9. 'Q1'\n",
       "\n",
       "\n"
      ],
      "text/plain": [
       "[1] \"Q3\" \"Q2\" \"Q4\" \"Q3\" \"Q4\" \"Q4\" \"Q4\" \"Q1\" \"Q1\""
      ]
     },
     "metadata": {},
     "output_type": "display_data"
    }
   ],
   "source": [
    "quarters(sample_dates)"
   ]
  },
  {
   "cell_type": "markdown",
   "metadata": {},
   "source": [
    "There is also the `julian` function which returns the number of days since time 0. 'Julian' here refers to the Julian calendar declared by Julias Caesar in 46 BC, use of which has continued from early adoption by astronomers due to the coincidence of three astronomical cycles on Monday, January 1, 4713 BC (which preceded any dates in recorded history).\n",
    "\n",
    "<br>\n",
    "<div class=\"use_console\"></div>"
   ]
  },
  {
   "cell_type": "code",
   "execution_count": 27,
   "metadata": {},
   "outputs": [
    {
     "data": {
      "text/html": [
       "<style>\n",
       ".list-inline {list-style: none; margin:0; padding: 0}\n",
       ".list-inline>li {display: inline-block}\n",
       ".list-inline>li:not(:last-child)::after {content: \"\\00b7\"; padding: 0 .5ex}\n",
       "</style>\n",
       "<ol class=list-inline><li>14812</li><li>15084</li><li>15619</li><li>15964</li><li>16375</li><li>16778</li><li>17097</li><li>17167</li><li>17581</li></ol>\n"
      ],
      "text/latex": [
       "\\begin{enumerate*}\n",
       "\\item 14812\n",
       "\\item 15084\n",
       "\\item 15619\n",
       "\\item 15964\n",
       "\\item 16375\n",
       "\\item 16778\n",
       "\\item 17097\n",
       "\\item 17167\n",
       "\\item 17581\n",
       "\\end{enumerate*}\n"
      ],
      "text/markdown": [
       "1. 14812\n",
       "2. 15084\n",
       "3. 15619\n",
       "4. 15964\n",
       "5. 16375\n",
       "6. 16778\n",
       "7. 17097\n",
       "8. 17167\n",
       "9. 17581\n",
       "\n",
       "\n"
      ],
      "text/plain": [
       "[1] 14812 15084 15619 15964 16375 16778 17097 17167 17581\n",
       "attr(,\"origin\")\n",
       "[1] \"1970-01-01\""
      ]
     },
     "metadata": {},
     "output_type": "display_data"
    }
   ],
   "source": [
    "julian(sample_dates)"
   ]
  },
  {
   "cell_type": "markdown",
   "metadata": {},
   "source": [
    "It returns integers similar to the integer date format we talked about earlier.\n",
    "\n",
    "<br>\n",
    "<div class=\"use_console\"></div>"
   ]
  },
  {
   "cell_type": "code",
   "execution_count": 30,
   "metadata": {},
   "outputs": [
    {
     "data": {
      "text/html": [
       "<style>\n",
       ".list-inline {list-style: none; margin:0; padding: 0}\n",
       ".list-inline>li {display: inline-block}\n",
       ".list-inline>li:not(:last-child)::after {content: \"\\00b7\"; padding: 0 .5ex}\n",
       "</style>\n",
       "<ol class=list-inline><li>14812</li><li>15084</li><li>15619</li><li>15964</li><li>16375</li><li>16778</li><li>17097</li><li>17167</li><li>17581</li></ol>\n"
      ],
      "text/latex": [
       "\\begin{enumerate*}\n",
       "\\item 14812\n",
       "\\item 15084\n",
       "\\item 15619\n",
       "\\item 15964\n",
       "\\item 16375\n",
       "\\item 16778\n",
       "\\item 17097\n",
       "\\item 17167\n",
       "\\item 17581\n",
       "\\end{enumerate*}\n"
      ],
      "text/markdown": [
       "1. 14812\n",
       "2. 15084\n",
       "3. 15619\n",
       "4. 15964\n",
       "5. 16375\n",
       "6. 16778\n",
       "7. 17097\n",
       "8. 17167\n",
       "9. 17581\n",
       "\n",
       "\n"
      ],
      "text/plain": [
       "[1] 14812 15084 15619 15964 16375 16778 17097 17167 17581"
      ]
     },
     "metadata": {},
     "output_type": "display_data"
    }
   ],
   "source": [
    "unclass(sample_dates)"
   ]
  },
  {
   "cell_type": "markdown",
   "metadata": {},
   "source": [
    "## Datetime objects\n",
    "\n",
    "If you also have times in your data (datetime data), you can create a `POSIX` object. The name POSIX is an acronym for [Portable Operating System Interface](https://en.wikipedia.org/wiki/POSIX) which is a set of standards for maintaining compatability of computer systems. POSIX notation adds additional arguments to how things are specified:<br><br>\n",
    "\n",
    "| Code | Meaning | Code | Meaning |\n",
    "| ------------- |:-------------:|:-------------:|:-------------:|\n",
    "| %a | Abbreviated weekday | %A | Full weekday |\n",
    "| %b | Abbreviated month | %B | Full month |\n",
    "| %c | Locale-specific date and time | %d | Decimal date |\n",
    "| %H | Decimal hours (24 hour) | %I | Decimal hours (12 hour) |\n",
    "| %j | Decimal day of the year | %m | Decimal month |\n",
    "| %M | Decimal minute | %p | Locale-specific AM/PM |\n",
    "| %S | Decimal second | %U | Decimal week of the year (starting on Sunday) |\n",
    "| %w | Decimal Weekday (0=Sunday) | %W | Decimal week of the year (starting on Monday) |\n",
    "| %x | Locale-specific Date | %X | Locale-specific Time |\n",
    "| %y | 2-digit year | %Y | 4-digit year |\n",
    "| %z | Offset from GMT | %Z | Time zone (character) |\n",
    "\n",
    "<br><br>Reflecting the various time components and conventions that people use gobally.\n",
    "\n",
    "In R, the POSIX conversions for datetime objects is handled by two functions:\n",
    "\n",
    "1. `as.POSIXct()` creates an atomic object of the number of seconds since time zero (ct = calendar time)\n",
    "2. `as.POSIXlt()` creates a list of time attributes (lt = list time)\n",
    "\n",
    "Let's take a look at the difference between the two by creating two object using the same date.\n",
    "\n",
    "<br>\n",
    "<div class=\"use_console\"></div>"
   ]
  },
  {
   "cell_type": "code",
   "execution_count": 36,
   "metadata": {},
   "outputs": [],
   "source": [
    "time1 = as.POSIXct(\"2021-02-26 23:55:26\")\n",
    "time2 = as.POSIXlt(\"2021-02-26 23:55:23\")"
   ]
  },
  {
   "cell_type": "markdown",
   "metadata": {},
   "source": [
    "Here is the object we created with `POSIXct`\n",
    "\n",
    "<br>\n",
    "<div class=\"use_console\"></div>"
   ]
  },
  {
   "cell_type": "code",
   "execution_count": 37,
   "metadata": {},
   "outputs": [
    {
     "data": {
      "text/plain": [
       "[1] \"2021-02-26 23:55:26 AST\""
      ]
     },
     "metadata": {},
     "output_type": "display_data"
    },
    {
     "data": {
      "text/html": [
       "1614398126"
      ],
      "text/latex": [
       "1614398126"
      ],
      "text/markdown": [
       "1614398126"
      ],
      "text/plain": [
       "[1] 1614398126\n",
       "attr(,\"tzone\")\n",
       "[1] \"\""
      ]
     },
     "metadata": {},
     "output_type": "display_data"
    }
   ],
   "source": [
    "time1\n",
    "\n",
    "unclass(time1)"
   ]
  },
  {
   "cell_type": "markdown",
   "metadata": {},
   "source": [
    "Here is the object we created with `POSIXlt`\n",
    "\n",
    "<br>\n",
    "<div class=\"use_console\"></div>"
   ]
  },
  {
   "cell_type": "code",
   "execution_count": 38,
   "metadata": {},
   "outputs": [
    {
     "data": {
      "text/plain": [
       "[1] \"2021-02-26 23:55:23 AST\""
      ]
     },
     "metadata": {},
     "output_type": "display_data"
    },
    {
     "data": {
      "text/html": [
       "<dl>\n",
       "\t<dt>$sec</dt>\n",
       "\t\t<dd>23</dd>\n",
       "\t<dt>$min</dt>\n",
       "\t\t<dd>55</dd>\n",
       "\t<dt>$hour</dt>\n",
       "\t\t<dd>23</dd>\n",
       "\t<dt>$mday</dt>\n",
       "\t\t<dd>26</dd>\n",
       "\t<dt>$mon</dt>\n",
       "\t\t<dd>1</dd>\n",
       "\t<dt>$year</dt>\n",
       "\t\t<dd>121</dd>\n",
       "\t<dt>$wday</dt>\n",
       "\t\t<dd>5</dd>\n",
       "\t<dt>$yday</dt>\n",
       "\t\t<dd>56</dd>\n",
       "\t<dt>$isdst</dt>\n",
       "\t\t<dd>0</dd>\n",
       "\t<dt>$zone</dt>\n",
       "\t\t<dd>'AST'</dd>\n",
       "\t<dt>$gmtoff</dt>\n",
       "\t\t<dd>&lt;NA&gt;</dd>\n",
       "</dl>\n"
      ],
      "text/latex": [
       "\\begin{description}\n",
       "\\item[\\$sec] 23\n",
       "\\item[\\$min] 55\n",
       "\\item[\\$hour] 23\n",
       "\\item[\\$mday] 26\n",
       "\\item[\\$mon] 1\n",
       "\\item[\\$year] 121\n",
       "\\item[\\$wday] 5\n",
       "\\item[\\$yday] 56\n",
       "\\item[\\$isdst] 0\n",
       "\\item[\\$zone] 'AST'\n",
       "\\item[\\$gmtoff] <NA>\n",
       "\\end{description}\n"
      ],
      "text/markdown": [
       "$sec\n",
       ":   23\n",
       "$min\n",
       ":   55\n",
       "$hour\n",
       ":   23\n",
       "$mday\n",
       ":   26\n",
       "$mon\n",
       ":   1\n",
       "$year\n",
       ":   121\n",
       "$wday\n",
       ":   5\n",
       "$yday\n",
       ":   56\n",
       "$isdst\n",
       ":   0\n",
       "$zone\n",
       ":   'AST'\n",
       "$gmtoff\n",
       ":   &lt;NA&gt;\n",
       "\n",
       "\n"
      ],
      "text/plain": [
       "$sec\n",
       "[1] 23\n",
       "\n",
       "$min\n",
       "[1] 55\n",
       "\n",
       "$hour\n",
       "[1] 23\n",
       "\n",
       "$mday\n",
       "[1] 26\n",
       "\n",
       "$mon\n",
       "[1] 1\n",
       "\n",
       "$year\n",
       "[1] 121\n",
       "\n",
       "$wday\n",
       "[1] 5\n",
       "\n",
       "$yday\n",
       "[1] 56\n",
       "\n",
       "$isdst\n",
       "[1] 0\n",
       "\n",
       "$zone\n",
       "[1] \"AST\"\n",
       "\n",
       "$gmtoff\n",
       "[1] NA\n"
      ]
     },
     "metadata": {},
     "output_type": "display_data"
    }
   ],
   "source": [
    "time2\n",
    "\n",
    "unclass(time2)"
   ]
  },
  {
   "cell_type": "markdown",
   "metadata": {},
   "source": [
    "Because lists have more overhead computationally, unless you need the mixed categories, the best course is to stick with using `as.POSIXct`, where all the conversions are handled behind the scenes. `POSIXct` objects work a little more intutively than the `as.Date` objects.\n",
    "\n",
    "Let's take a look at the difference between the two time objects we created (time1,time2).\n",
    "\n",
    "<br>\n",
    "<div class=\"use_console\"></div>"
   ]
  },
  {
   "cell_type": "code",
   "execution_count": 39,
   "metadata": {},
   "outputs": [
    {
     "data": {
      "text/plain": [
       "Time difference of 3 secs"
      ]
     },
     "metadata": {},
     "output_type": "display_data"
    }
   ],
   "source": [
    "time1 - time2"
   ]
  },
  {
   "cell_type": "markdown",
   "metadata": {},
   "source": [
    "The fact that these work with seconds mean you can add to them coherently, provided you convert to seconds first.\n",
    "\n",
    "<br>\n",
    "<div class=\"use_console\"></div>"
   ]
  },
  {
   "cell_type": "code",
   "execution_count": 40,
   "metadata": {},
   "outputs": [
    {
     "data": {
      "text/plain": [
       "[1] \"2021-02-27 23:55:26 AST\""
      ]
     },
     "metadata": {},
     "output_type": "display_data"
    }
   ],
   "source": [
    "time1 + 24*60*60"
   ]
  },
  {
   "cell_type": "markdown",
   "metadata": {},
   "source": [
    "<div class=\"Q\"><br><br>\n",
    "\n",
    "Use <b>POSIXct</b> to determine the number of <b>seconds</b> Apollo 11 took between take off (July 16, 1969, 13:32:00) and landing on the moon (July 20, 1969, 20:17:40 ) \n",
    "\n",
    "<br><br>ANSWER: 369940 secs \n",
    "\n",
    "<br><br><div class=\"qhelp\"></div></div>"
   ]
  },
  {
   "cell_type": "markdown",
   "metadata": {},
   "source": [
    "<span class=\"note\"></span> `POSIXct` objects will keep track of daylight savings time, which is applied \"willy-nilly\" among provinces, states, and countries.\n",
    "\n",
    "<br>\n",
    "<div class=\"use_console\"></div>"
   ]
  },
  {
   "cell_type": "code",
   "execution_count": 41,
   "metadata": {},
   "outputs": [
    {
     "data": {
      "text/plain": [
       "Time difference of 8.611389 hours"
      ]
     },
     "metadata": {},
     "output_type": "display_data"
    }
   ],
   "source": [
    "as.POSIXct(\"2013-03-10 08:32:07\") - as.POSIXct(\"2013-03-09 23:55:26\")"
   ]
  },
  {
   "cell_type": "markdown",
   "metadata": {},
   "source": [
    "##  strptime()\n",
    "\n",
    "Finally there is also the `strptime()` function, which is an internal workhorse function to take a string and convert it into a time data type.\n",
    "\n",
    "Let's create a dataframe called `events`.\n",
    "\n",
    "<br>\n",
    "<div class=\"use_console\"></div>"
   ]
  },
  {
   "cell_type": "code",
   "execution_count": 42,
   "metadata": {},
   "outputs": [
    {
     "data": {
      "text/html": [
       "<table class=\"dataframe\">\n",
       "<caption>A data.frame: 4 × 2</caption>\n",
       "<thead>\n",
       "\t<tr><th scope=col>time</th><th scope=col>speed</th></tr>\n",
       "\t<tr><th scope=col>&lt;chr&gt;</th><th scope=col>&lt;dbl&gt;</th></tr>\n",
       "</thead>\n",
       "<tbody>\n",
       "\t<tr><td>2014-01-23 14:28:21</td><td>2.0</td></tr>\n",
       "\t<tr><td>2014-01-23 14:28:55</td><td>2.2</td></tr>\n",
       "\t<tr><td>2014-01-23 14:29:02</td><td>3.4</td></tr>\n",
       "\t<tr><td>2014-01-23 14:31:18</td><td>5.5</td></tr>\n",
       "</tbody>\n",
       "</table>\n"
      ],
      "text/latex": [
       "A data.frame: 4 × 2\n",
       "\\begin{tabular}{ll}\n",
       " time & speed\\\\\n",
       " <chr> & <dbl>\\\\\n",
       "\\hline\n",
       "\t 2014-01-23 14:28:21 & 2.0\\\\\n",
       "\t 2014-01-23 14:28:55 & 2.2\\\\\n",
       "\t 2014-01-23 14:29:02 & 3.4\\\\\n",
       "\t 2014-01-23 14:31:18 & 5.5\\\\\n",
       "\\end{tabular}\n"
      ],
      "text/markdown": [
       "\n",
       "A data.frame: 4 × 2\n",
       "\n",
       "| time &lt;chr&gt; | speed &lt;dbl&gt; |\n",
       "|---|---|\n",
       "| 2014-01-23 14:28:21 | 2.0 |\n",
       "| 2014-01-23 14:28:55 | 2.2 |\n",
       "| 2014-01-23 14:29:02 | 3.4 |\n",
       "| 2014-01-23 14:31:18 | 5.5 |\n",
       "\n"
      ],
      "text/plain": [
       "  time                speed\n",
       "1 2014-01-23 14:28:21 2.0  \n",
       "2 2014-01-23 14:28:55 2.2  \n",
       "3 2014-01-23 14:29:02 3.4  \n",
       "4 2014-01-23 14:31:18 5.5  "
      ]
     },
     "metadata": {},
     "output_type": "display_data"
    }
   ],
   "source": [
    "events = data.frame(\n",
    "    time=c(\"2014-01-23 14:28:21\",\"2014-01-23 14:28:55\",\"2014-01-23 14:29:02\",\"2014-01-23 14:31:18\"),\n",
    "    speed=c(2.0,2.2,3.4,5.5))\n",
    "\n",
    "events"
   ]
  },
  {
   "cell_type": "markdown",
   "metadata": {},
   "source": [
    "Notice that the `time` variable is a character instead of a date (see the `<chr>` below the `time` column title?). We could use `mutuate` and `as.Date` to change it into the right format or we could use the `strptime` function instead.\n",
    "\n",
    "<br>\n",
    "<div class=\"use_console\"></div>"
   ]
  },
  {
   "cell_type": "code",
   "execution_count": 45,
   "metadata": {},
   "outputs": [
    {
     "data": {
      "text/html": [
       "<table class=\"dataframe\">\n",
       "<caption>A data.frame: 4 × 2</caption>\n",
       "<thead>\n",
       "\t<tr><th scope=col>time</th><th scope=col>speed</th></tr>\n",
       "\t<tr><th scope=col>&lt;dttm&gt;</th><th scope=col>&lt;dbl&gt;</th></tr>\n",
       "</thead>\n",
       "<tbody>\n",
       "\t<tr><td>2014-01-23 14:28:21</td><td>2.0</td></tr>\n",
       "\t<tr><td>2014-01-23 14:28:55</td><td>2.2</td></tr>\n",
       "\t<tr><td>2014-01-23 14:29:02</td><td>3.4</td></tr>\n",
       "\t<tr><td>2014-01-23 14:31:18</td><td>5.5</td></tr>\n",
       "</tbody>\n",
       "</table>\n"
      ],
      "text/latex": [
       "A data.frame: 4 × 2\n",
       "\\begin{tabular}{ll}\n",
       " time & speed\\\\\n",
       " <dttm> & <dbl>\\\\\n",
       "\\hline\n",
       "\t 2014-01-23 14:28:21 & 2.0\\\\\n",
       "\t 2014-01-23 14:28:55 & 2.2\\\\\n",
       "\t 2014-01-23 14:29:02 & 3.4\\\\\n",
       "\t 2014-01-23 14:31:18 & 5.5\\\\\n",
       "\\end{tabular}\n"
      ],
      "text/markdown": [
       "\n",
       "A data.frame: 4 × 2\n",
       "\n",
       "| time &lt;dttm&gt; | speed &lt;dbl&gt; |\n",
       "|---|---|\n",
       "| 2014-01-23 14:28:21 | 2.0 |\n",
       "| 2014-01-23 14:28:55 | 2.2 |\n",
       "| 2014-01-23 14:29:02 | 3.4 |\n",
       "| 2014-01-23 14:31:18 | 5.5 |\n",
       "\n"
      ],
      "text/plain": [
       "  time                speed\n",
       "1 2014-01-23 14:28:21 2.0  \n",
       "2 2014-01-23 14:28:55 2.2  \n",
       "3 2014-01-23 14:29:02 3.4  \n",
       "4 2014-01-23 14:31:18 5.5  "
      ]
     },
     "metadata": {},
     "output_type": "display_data"
    }
   ],
   "source": [
    "events$time = strptime(events$time,\"%Y-%m-%d %H:%M:%S\")\n",
    "\n",
    "events"
   ]
  },
  {
   "cell_type": "markdown",
   "metadata": {},
   "source": [
    "You can see now it shows `<dttm>` below the `time` column title."
   ]
  },
  {
   "cell_type": "markdown",
   "metadata": {},
   "source": [
    "<span class=\"note\"></span> The problem with `strptime` is that it makes some assumptions that might mess things up for you if they go undetected. For example...\n",
    "\n",
    "<br>\n",
    "<div class=\"use_console\"></div>"
   ]
  },
  {
   "cell_type": "code",
   "execution_count": 46,
   "metadata": {},
   "outputs": [
    {
     "data": {
      "text/plain": [
       "Time difference of -20 secs"
      ]
     },
     "metadata": {},
     "output_type": "display_data"
    }
   ],
   "source": [
    "early = strptime(\"2000-01-01 00:00:00\",\"%Y-%m-%d %H:%M:%S\")\n",
    "late1 = strptime(\"2000-01-01 00:00:20\",\"%Y-%m-%d %H:%M:%S\")\n",
    "\n",
    "early - late1"
   ]
  },
  {
   "cell_type": "markdown",
   "metadata": {},
   "source": [
    "and...\n",
    "\n",
    "<br>\n",
    "<div class=\"use_console\"></div>"
   ]
  },
  {
   "cell_type": "code",
   "execution_count": 47,
   "metadata": {},
   "outputs": [
    {
     "data": {
      "text/plain": [
       "Time difference of -1 hours"
      ]
     },
     "metadata": {},
     "output_type": "display_data"
    }
   ],
   "source": [
    "late2 = strptime(\"2000-01-01 1:00:00\",\"%Y-%m-%d %H:%M:%S\")\n",
    "\n",
    "early - late2"
   ]
  },
  {
   "cell_type": "markdown",
   "metadata": {},
   "source": [
    "... returns the results in different units (first in seconds, then in hours). This might mess you up if you're scripting to extract times like we do below.\n",
    "\n",
    "<br>\n",
    "<div class=\"use_console\"></div>"
   ]
  },
  {
   "cell_type": "code",
   "execution_count": 48,
   "metadata": {},
   "outputs": [
    {
     "data": {
      "text/html": [
       "-20"
      ],
      "text/latex": [
       "-20"
      ],
      "text/markdown": [
       "-20"
      ],
      "text/plain": [
       "[1] -20"
      ]
     },
     "metadata": {},
     "output_type": "display_data"
    },
    {
     "data": {
      "text/html": [
       "-1"
      ],
      "text/latex": [
       "-1"
      ],
      "text/markdown": [
       "-1"
      ],
      "text/plain": [
       "[1] -1"
      ]
     },
     "metadata": {},
     "output_type": "display_data"
    }
   ],
   "source": [
    "as.numeric(early-late1)\n",
    "as.numeric(early-late2)"
   ]
  },
  {
   "cell_type": "markdown",
   "metadata": {},
   "source": [
    "<br><br><br>\n",
    "<div class=\"startTASK\"></div>\n",
    "\n",
    "Most often, we won't create dates and times by hand. Instead we will import them from a flat file. [Here](http://www.urban-climate.net/content/data/9-data) we can download daily wind and rainfall data for London. \n",
    "\n",
    "For your convenience, we have provided the data from 2017 in the <span class=\"file\">Weather_Data_2017.csv</span> file.\n",
    "\n",
    "Using the Date.and.Time column timestamp, calculate the average length of time (in hours) between gale force (i.e. >34 knots) maximum gust records.\n",
    "\n",
    "<div class=\"endTASK\"></div>\n",
    "<br><br><br>"
   ]
  },
  {
   "cell_type": "markdown",
   "metadata": {},
   "source": [
    "<div class=\"Q\"><br><br>\n",
    "\n",
    "How many observations from <b>Weather_Data_2017.csv</b> have hourly maximum gusts > 34 knots? \n",
    "\n",
    "<br><br>ANSWER: 2 \n",
    "\n",
    "<br><br><div class=\"qhelp\"></div></div>"
   ]
  },
  {
   "cell_type": "markdown",
   "metadata": {},
   "source": [
    "<div class=\"Q\"><br><br>\n",
    "\n",
    "What is the higest recorded hourly maximum gust? \n",
    "\n",
    "<br><br>ANSWER: 35.93 knots \n",
    "\n",
    "<br><br><div class=\"qhelp\"></div></div>"
   ]
  },
  {
   "cell_type": "markdown",
   "metadata": {},
   "source": [
    "<div class=\"Q\"><br><br>\n",
    "\n",
    "What is the length of time (in hours) between gale force (i.e. >34 kts) maximum gust records? \n",
    "\n",
    "<br><br>ANSWER: 3 hrs \n",
    "\n",
    "<br><br><div class=\"qhelp\"></div></div>"
   ]
  },
  {
   "cell_type": "markdown",
   "metadata": {},
   "source": [
    "<br><br><br>\n",
    "<div class=\"startTASK\"></div>\n",
    "\n",
    "Using <span class=\"file\">Weather_Data_2017.csv</span>, plot hourly maximum gust through time.\n",
    "\n",
    "<div class=\"endTASK\"></div>\n",
    "<br><br><br>\n",
    "\n",
    "Your plot should look a bit like the one below:\n",
    "\n",
    "<img src=\"time-series.png\" width=\"800px\">"
   ]
  },
  {
   "cell_type": "markdown",
   "metadata": {},
   "source": [
    "# String Manipulation\n",
    "\n",
    "A surprising amount of what people do with computers involves text - searching for and manipulating strings within a programming language. In biology, the area with the major lock on text manipulation is bioinformatics. As the name implies, bioinformatics deals with biological information - especially analysis of DNA, RNA and protein sequences. However, the challenges and scientific opportunities for analyzing the information are incredible. In its simplest form, we can represent DNA/RNA and protein as text -- either nucleic or amino acids. Each base or amino acid is represented as a single letter (e.g. A/C/G/T for DNA). Stored in the sequence of nucleic and amino acids are all the instructions to create life. So strings are important.\n",
    "\n",
    "Among the simplest but most cricial attributes of strings is determining its length. We'll use the `nchar()` function for that.\n",
    "\n",
    "<br>\n",
    "<div class=\"use_console\"></div>"
   ]
  },
  {
   "cell_type": "code",
   "execution_count": 50,
   "metadata": {},
   "outputs": [
    {
     "data": {
      "text/html": [
       "10"
      ],
      "text/latex": [
       "10"
      ],
      "text/markdown": [
       "10"
      ],
      "text/plain": [
       "[1] 10"
      ]
     },
     "metadata": {},
     "output_type": "display_data"
    }
   ],
   "source": [
    "protein = \"vlspadktnv\"\n",
    "\n",
    "nchar(protein)"
   ]
  },
  {
   "cell_type": "markdown",
   "metadata": {},
   "source": [
    "We can also take a slice of the string.  To grab a section of a string by its position of each letter, R has a `substr()` function.\n",
    "\n",
    "<br>\n",
    "<div class=\"use_console\"></div>"
   ]
  },
  {
   "cell_type": "code",
   "execution_count": 109,
   "metadata": {},
   "outputs": [
    {
     "data": {
      "text/html": [
       "'vls'"
      ],
      "text/latex": [
       "'vls'"
      ],
      "text/markdown": [
       "'vls'"
      ],
      "text/plain": [
       "[1] \"vls\""
      ]
     },
     "metadata": {},
     "output_type": "display_data"
    }
   ],
   "source": [
    "substr(protein,1,3)"
   ]
  },
  {
   "cell_type": "markdown",
   "metadata": {},
   "source": [
    "We can also split a string using the `strsplit()` function. We will use the character \"a\" to separate the strings.\n",
    "\n",
    "<br>\n",
    "<div class=\"use_console\"></div>"
   ]
  },
  {
   "cell_type": "code",
   "execution_count": 51,
   "metadata": {},
   "outputs": [
    {
     "data": {
      "text/html": [
       "<ol>\n",
       "\t<li><style>\n",
       ".list-inline {list-style: none; margin:0; padding: 0}\n",
       ".list-inline>li {display: inline-block}\n",
       ".list-inline>li:not(:last-child)::after {content: \"\\00b7\"; padding: 0 .5ex}\n",
       "</style>\n",
       "<ol class=list-inline><li>'vlsp'</li><li>'dktnv'</li></ol>\n",
       "</li>\n",
       "</ol>\n"
      ],
      "text/latex": [
       "\\begin{enumerate}\n",
       "\\item \\begin{enumerate*}\n",
       "\\item 'vlsp'\n",
       "\\item 'dktnv'\n",
       "\\end{enumerate*}\n",
       "\n",
       "\\end{enumerate}\n"
      ],
      "text/markdown": [
       "1. 1. 'vlsp'\n",
       "2. 'dktnv'\n",
       "\n",
       "\n",
       "\n",
       "\n",
       "\n"
      ],
      "text/plain": [
       "[[1]]\n",
       "[1] \"vlsp\"  \"dktnv\"\n"
      ]
     },
     "metadata": {},
     "output_type": "display_data"
    }
   ],
   "source": [
    "strsplit(protein,'a')"
   ]
  },
  {
   "cell_type": "markdown",
   "metadata": {},
   "source": [
    "Notice here that the 'a' has disappeared. If we want to keep that 'a', we need to take a slice at the 'a' position. We can use the `gregexpr()` function to find the positon of 'a'. \n",
    "\n",
    "<br>\n",
    "<div class=\"use_console\"></div>"
   ]
  },
  {
   "cell_type": "code",
   "execution_count": 53,
   "metadata": {},
   "outputs": [
    {
     "data": {
      "text/html": [
       "<ol>\n",
       "\t<li>5</li>\n",
       "</ol>\n"
      ],
      "text/latex": [
       "\\begin{enumerate}\n",
       "\\item 5\n",
       "\\end{enumerate}\n"
      ],
      "text/markdown": [
       "1. 5\n",
       "\n",
       "\n"
      ],
      "text/plain": [
       "[[1]]\n",
       "[1] 5\n",
       "attr(,\"match.length\")\n",
       "[1] 1\n",
       "attr(,\"index.type\")\n",
       "[1] \"chars\"\n",
       "attr(,\"useBytes\")\n",
       "[1] TRUE\n"
      ]
     },
     "metadata": {},
     "output_type": "display_data"
    }
   ],
   "source": [
    "gregexpr('a', protein)"
   ]
  },
  {
   "cell_type": "markdown",
   "metadata": {},
   "source": [
    "For reasons known only to the original R programmers, this returns a list object, with a number at the begnining, followed by the position we're looking for. So to use this to get that index number, we need to index the list.\n",
    "\n",
    "<br>\n",
    "<div class=\"use_console\"></div>"
   ]
  },
  {
   "cell_type": "code",
   "execution_count": 54,
   "metadata": {},
   "outputs": [
    {
     "data": {
      "text/html": [
       "5"
      ],
      "text/latex": [
       "5"
      ],
      "text/markdown": [
       "5"
      ],
      "text/plain": [
       "[1] 5\n",
       "attr(,\"match.length\")\n",
       "[1] 1\n",
       "attr(,\"index.type\")\n",
       "[1] \"chars\"\n",
       "attr(,\"useBytes\")\n",
       "[1] TRUE"
      ]
     },
     "metadata": {},
     "output_type": "display_data"
    }
   ],
   "source": [
    "gregexpr('a', protein)[[1]]"
   ]
  },
  {
   "cell_type": "markdown",
   "metadata": {},
   "source": [
    "Let's explore string manipulation using the <span class=\"file\">mlb2017_pitching.txt</span> dataset. First let's load the data.\n",
    "\n",
    "<br>\n",
    "<div class=\"use_editor\"></div>"
   ]
  },
  {
   "cell_type": "code",
   "execution_count": 55,
   "metadata": {},
   "outputs": [
    {
     "data": {
      "text/html": [
       "<table class=\"dataframe\">\n",
       "<caption>A data.frame: 6 × 35</caption>\n",
       "<thead>\n",
       "\t<tr><th></th><th scope=col>Rk</th><th scope=col>Name</th><th scope=col>Age</th><th scope=col>Tm</th><th scope=col>Lg</th><th scope=col>W</th><th scope=col>L</th><th scope=col>W.L.</th><th scope=col>ERA</th><th scope=col>G</th><th scope=col>...</th><th scope=col>WP</th><th scope=col>BF</th><th scope=col>ERA.</th><th scope=col>FIP</th><th scope=col>WHIP</th><th scope=col>H9</th><th scope=col>HR9</th><th scope=col>BB9</th><th scope=col>SO9</th><th scope=col>SO.W</th></tr>\n",
       "\t<tr><th></th><th scope=col>&lt;int&gt;</th><th scope=col>&lt;chr&gt;</th><th scope=col>&lt;int&gt;</th><th scope=col>&lt;chr&gt;</th><th scope=col>&lt;chr&gt;</th><th scope=col>&lt;int&gt;</th><th scope=col>&lt;int&gt;</th><th scope=col>&lt;dbl&gt;</th><th scope=col>&lt;dbl&gt;</th><th scope=col>&lt;int&gt;</th><th scope=col>...</th><th scope=col>&lt;int&gt;</th><th scope=col>&lt;int&gt;</th><th scope=col>&lt;int&gt;</th><th scope=col>&lt;dbl&gt;</th><th scope=col>&lt;dbl&gt;</th><th scope=col>&lt;dbl&gt;</th><th scope=col>&lt;dbl&gt;</th><th scope=col>&lt;dbl&gt;</th><th scope=col>&lt;dbl&gt;</th><th scope=col>&lt;dbl&gt;</th></tr>\n",
       "</thead>\n",
       "<tbody>\n",
       "\t<tr><th scope=row>1</th><td>1</td><td>Fernando Abad*\\abadfe01  </td><td>31</td><td>BOS</td><td>AL</td><td>2</td><td> 1</td><td>0.667</td><td>3.30</td><td>48</td><td>...</td><td>0</td><td>182</td><td>140</td><td>3.68</td><td>1.237</td><td>8.2</td><td>0.8</td><td>2.9</td><td>7.6</td><td>2.64</td></tr>\n",
       "\t<tr><th scope=row>3</th><td>3</td><td>Tim Adleman\\adlemti01    </td><td>29</td><td>CIN</td><td>NL</td><td>5</td><td>11</td><td>0.313</td><td>5.52</td><td>30</td><td>...</td><td>1</td><td>531</td><td> 80</td><td>5.87</td><td>1.431</td><td>9.1</td><td>2.1</td><td>3.8</td><td>7.9</td><td>2.12</td></tr>\n",
       "\t<tr><th scope=row>4</th><td>4</td><td>Andrew Albers*\\alberan01 </td><td>31</td><td>SEA</td><td>AL</td><td>5</td><td> 1</td><td>0.833</td><td>3.51</td><td> 9</td><td>...</td><td>1</td><td>178</td><td>121</td><td>4.13</td><td>1.293</td><td>9.4</td><td>1.3</td><td>2.2</td><td>8.1</td><td>3.70</td></tr>\n",
       "\t<tr><th scope=row>5</th><td>5</td><td>Matt Albers\\alberma01    </td><td>34</td><td>WSN</td><td>NL</td><td>7</td><td> 2</td><td>0.778</td><td>1.62</td><td>63</td><td>...</td><td>0</td><td>233</td><td>269</td><td>3.40</td><td>0.852</td><td>5.2</td><td>0.9</td><td>2.5</td><td>9.3</td><td>3.71</td></tr>\n",
       "\t<tr><th scope=row>6</th><td>6</td><td>Al Alburquerque\\albural01</td><td>31</td><td>TOT</td><td>AL</td><td>0</td><td> 2</td><td>0.000</td><td>2.50</td><td>21</td><td>...</td><td>0</td><td> 71</td><td>182</td><td>2.94</td><td>1.000</td><td>5.0</td><td>0.0</td><td>4.0</td><td>7.0</td><td>1.75</td></tr>\n",
       "\t<tr><th scope=row>7</th><td>7</td><td>Al Alburquerque\\albural01</td><td>31</td><td>KCR</td><td>AL</td><td>0</td><td> 1</td><td>0.000</td><td>3.60</td><td>11</td><td>...</td><td>0</td><td> 42</td><td>128</td><td>3.16</td><td>1.300</td><td>6.3</td><td>0.0</td><td>5.4</td><td>8.1</td><td>1.50</td></tr>\n",
       "</tbody>\n",
       "</table>\n"
      ],
      "text/latex": [
       "A data.frame: 6 × 35\n",
       "\\begin{tabular}{r|lllllllllllllllllllll}\n",
       "  & Rk & Name & Age & Tm & Lg & W & L & W.L. & ERA & G & ... & WP & BF & ERA. & FIP & WHIP & H9 & HR9 & BB9 & SO9 & SO.W\\\\\n",
       "  & <int> & <chr> & <int> & <chr> & <chr> & <int> & <int> & <dbl> & <dbl> & <int> & ... & <int> & <int> & <int> & <dbl> & <dbl> & <dbl> & <dbl> & <dbl> & <dbl> & <dbl>\\\\\n",
       "\\hline\n",
       "\t1 & 1 & Fernando Abad*\\textbackslash{}abadfe01   & 31 & BOS & AL & 2 &  1 & 0.667 & 3.30 & 48 & ... & 0 & 182 & 140 & 3.68 & 1.237 & 8.2 & 0.8 & 2.9 & 7.6 & 2.64\\\\\n",
       "\t3 & 3 & Tim Adleman\\textbackslash{}adlemti01     & 29 & CIN & NL & 5 & 11 & 0.313 & 5.52 & 30 & ... & 1 & 531 &  80 & 5.87 & 1.431 & 9.1 & 2.1 & 3.8 & 7.9 & 2.12\\\\\n",
       "\t4 & 4 & Andrew Albers*\\textbackslash{}alberan01  & 31 & SEA & AL & 5 &  1 & 0.833 & 3.51 &  9 & ... & 1 & 178 & 121 & 4.13 & 1.293 & 9.4 & 1.3 & 2.2 & 8.1 & 3.70\\\\\n",
       "\t5 & 5 & Matt Albers\\textbackslash{}alberma01     & 34 & WSN & NL & 7 &  2 & 0.778 & 1.62 & 63 & ... & 0 & 233 & 269 & 3.40 & 0.852 & 5.2 & 0.9 & 2.5 & 9.3 & 3.71\\\\\n",
       "\t6 & 6 & Al Alburquerque\\textbackslash{}albural01 & 31 & TOT & AL & 0 &  2 & 0.000 & 2.50 & 21 & ... & 0 &  71 & 182 & 2.94 & 1.000 & 5.0 & 0.0 & 4.0 & 7.0 & 1.75\\\\\n",
       "\t7 & 7 & Al Alburquerque\\textbackslash{}albural01 & 31 & KCR & AL & 0 &  1 & 0.000 & 3.60 & 11 & ... & 0 &  42 & 128 & 3.16 & 1.300 & 6.3 & 0.0 & 5.4 & 8.1 & 1.50\\\\\n",
       "\\end{tabular}\n"
      ],
      "text/markdown": [
       "\n",
       "A data.frame: 6 × 35\n",
       "\n",
       "| <!--/--> | Rk &lt;int&gt; | Name &lt;chr&gt; | Age &lt;int&gt; | Tm &lt;chr&gt; | Lg &lt;chr&gt; | W &lt;int&gt; | L &lt;int&gt; | W.L. &lt;dbl&gt; | ERA &lt;dbl&gt; | G &lt;int&gt; | ... ... | WP &lt;int&gt; | BF &lt;int&gt; | ERA. &lt;int&gt; | FIP &lt;dbl&gt; | WHIP &lt;dbl&gt; | H9 &lt;dbl&gt; | HR9 &lt;dbl&gt; | BB9 &lt;dbl&gt; | SO9 &lt;dbl&gt; | SO.W &lt;dbl&gt; |\n",
       "|---|---|---|---|---|---|---|---|---|---|---|---|---|---|---|---|---|---|---|---|---|---|\n",
       "| 1 | 1 | Fernando Abad*\\abadfe01   | 31 | BOS | AL | 2 |  1 | 0.667 | 3.30 | 48 | ... | 0 | 182 | 140 | 3.68 | 1.237 | 8.2 | 0.8 | 2.9 | 7.6 | 2.64 |\n",
       "| 3 | 3 | Tim Adleman\\adlemti01     | 29 | CIN | NL | 5 | 11 | 0.313 | 5.52 | 30 | ... | 1 | 531 |  80 | 5.87 | 1.431 | 9.1 | 2.1 | 3.8 | 7.9 | 2.12 |\n",
       "| 4 | 4 | Andrew Albers*\\alberan01  | 31 | SEA | AL | 5 |  1 | 0.833 | 3.51 |  9 | ... | 1 | 178 | 121 | 4.13 | 1.293 | 9.4 | 1.3 | 2.2 | 8.1 | 3.70 |\n",
       "| 5 | 5 | Matt Albers\\alberma01     | 34 | WSN | NL | 7 |  2 | 0.778 | 1.62 | 63 | ... | 0 | 233 | 269 | 3.40 | 0.852 | 5.2 | 0.9 | 2.5 | 9.3 | 3.71 |\n",
       "| 6 | 6 | Al Alburquerque\\albural01 | 31 | TOT | AL | 0 |  2 | 0.000 | 2.50 | 21 | ... | 0 |  71 | 182 | 2.94 | 1.000 | 5.0 | 0.0 | 4.0 | 7.0 | 1.75 |\n",
       "| 7 | 7 | Al Alburquerque\\albural01 | 31 | KCR | AL | 0 |  1 | 0.000 | 3.60 | 11 | ... | 0 |  42 | 128 | 3.16 | 1.300 | 6.3 | 0.0 | 5.4 | 8.1 | 1.50 |\n",
       "\n"
      ],
      "text/plain": [
       "  Rk Name                       Age Tm  Lg W L  W.L.  ERA  G  ... WP BF  ERA.\n",
       "1 1  Fernando Abad*\\\\abadfe01   31  BOS AL 2  1 0.667 3.30 48 ... 0  182 140 \n",
       "3 3  Tim Adleman\\\\adlemti01     29  CIN NL 5 11 0.313 5.52 30 ... 1  531  80 \n",
       "4 4  Andrew Albers*\\\\alberan01  31  SEA AL 5  1 0.833 3.51  9 ... 1  178 121 \n",
       "5 5  Matt Albers\\\\alberma01     34  WSN NL 7  2 0.778 1.62 63 ... 0  233 269 \n",
       "6 6  Al Alburquerque\\\\albural01 31  TOT AL 0  2 0.000 2.50 21 ... 0   71 182 \n",
       "7 7  Al Alburquerque\\\\albural01 31  KCR AL 0  1 0.000 3.60 11 ... 0   42 128 \n",
       "  FIP  WHIP  H9  HR9 BB9 SO9 SO.W\n",
       "1 3.68 1.237 8.2 0.8 2.9 7.6 2.64\n",
       "3 5.87 1.431 9.1 2.1 3.8 7.9 2.12\n",
       "4 4.13 1.293 9.4 1.3 2.2 8.1 3.70\n",
       "5 3.40 0.852 5.2 0.9 2.5 9.3 3.71\n",
       "6 2.94 1.000 5.0 0.0 4.0 7.0 1.75\n",
       "7 3.16 1.300 6.3 0.0 5.4 8.1 1.50"
      ]
     },
     "metadata": {},
     "output_type": "display_data"
    }
   ],
   "source": [
    "mlb_pitching <- na.omit(read.csv(\"mlb2017_pitching.txt\"))\n",
    "\n",
    "mlb_pitching  %>% \n",
    "  head()"
   ]
  },
  {
   "cell_type": "markdown",
   "metadata": {},
   "source": [
    "Next, let's clean it up a little by extracting only the first and last names of each of the players. For that, we need the help of **regular expressions**.\n",
    "\n",
    "## Regular expressions\n",
    "\n",
    "A [Regular expression](https://en.wikipedia.org/wiki/Regular_expression) (or regex) is a sequence of characters that specifies a **\"search pattern\"** to be used against a dataset made of characters. Regular expressions are really useful for sifting through and subsetting large textual datasets (like genetic sequences). Using them can impart superhero-like qualities:\n",
    "\n",
    "<img src=\"regular_expressions.png\" width=\"500px\">"
   ]
  },
  {
   "cell_type": "markdown",
   "metadata": {},
   "source": [
    "The power of regular expression lays on the ability to be able to include **\"wild cards\"** as part of the serch pattern. The most common are shown below:\n",
    "\n",
    "\n",
    "| Special characters (or wild card) | What does it do? |\n",
    "| :--------- | :------ |\n",
    "| **\\.**   |  matches any single character   |      \n",
    "| **\\***  |  match preceding character/number 0 or more times   | \n",
    "| **\\+**  |  match preceding character/number at least once  |  \n",
    "| **\\?**  |   match preceding character/number exactly once  |  \n",
    "| **\\**  | suppresses special meanings. Use this if you want to search for one of the special characters in your string |\n",
    "| **&Hat;**  |   matches the beginning of the string | \n",
    "| **\\$**   |   matches the end of a string |\n",
    "| **[]**   |    match any characters inside the square brackets   | \n",
    "| **[^]**  |    match any characters *except* those inside the brackets  |  \n",
    "| **{n}**  |   match preceding character n times    | \n",
    "| **\\{n,m\\}**  |   match preceding character between n and m times   | \n",
    "| **\\n**   |    new line   | \n",
    "| **\\t**  | tab   | \n",
    "\n",
    "<br>\n",
    "\n",
    "Below are some of the things you can do with regular expressions:"
   ]
  },
  {
   "cell_type": "markdown",
   "metadata": {},
   "source": [
    "###  Find values in strings/vectors that match your desired pattern or sequence \n",
    "\n",
    "Let's go back to our example with baseball players. We were about to clean up the \"Name\" column by extracting only the first and last names of each of the players. We can use the `str_extract()` function for that. `str_extract()` extracts matching patterns from a string.\n",
    "\n",
    "<br>\n",
    "<div class=\"use_editor\"></div>"
   ]
  },
  {
   "cell_type": "code",
   "execution_count": 158,
   "metadata": {},
   "outputs": [
    {
     "data": {
      "text/html": [
       "<table class=\"dataframe\">\n",
       "<caption>A data.frame: 6 × 2</caption>\n",
       "<thead>\n",
       "\t<tr><th></th><th scope=col>Name</th><th scope=col>Name_clean</th></tr>\n",
       "\t<tr><th></th><th scope=col>&lt;chr&gt;</th><th scope=col>&lt;chr&gt;</th></tr>\n",
       "</thead>\n",
       "<tbody>\n",
       "\t<tr><th scope=row>1</th><td>Fernando Abad*\\abadfe01  </td><td>Fernando Abad  </td></tr>\n",
       "\t<tr><th scope=row>3</th><td>Tim Adleman\\adlemti01    </td><td>Tim Adleman    </td></tr>\n",
       "\t<tr><th scope=row>4</th><td>Andrew Albers*\\alberan01 </td><td>Andrew Albers  </td></tr>\n",
       "\t<tr><th scope=row>5</th><td>Matt Albers\\alberma01    </td><td>Matt Albers    </td></tr>\n",
       "\t<tr><th scope=row>6</th><td>Al Alburquerque\\albural01</td><td>Al Alburquerque</td></tr>\n",
       "\t<tr><th scope=row>7</th><td>Al Alburquerque\\albural01</td><td>Al Alburquerque</td></tr>\n",
       "</tbody>\n",
       "</table>\n"
      ],
      "text/latex": [
       "A data.frame: 6 × 2\n",
       "\\begin{tabular}{r|ll}\n",
       "  & Name & Name\\_clean\\\\\n",
       "  & <chr> & <chr>\\\\\n",
       "\\hline\n",
       "\t1 & Fernando Abad*\\textbackslash{}abadfe01   & Fernando Abad  \\\\\n",
       "\t3 & Tim Adleman\\textbackslash{}adlemti01     & Tim Adleman    \\\\\n",
       "\t4 & Andrew Albers*\\textbackslash{}alberan01  & Andrew Albers  \\\\\n",
       "\t5 & Matt Albers\\textbackslash{}alberma01     & Matt Albers    \\\\\n",
       "\t6 & Al Alburquerque\\textbackslash{}albural01 & Al Alburquerque\\\\\n",
       "\t7 & Al Alburquerque\\textbackslash{}albural01 & Al Alburquerque\\\\\n",
       "\\end{tabular}\n"
      ],
      "text/markdown": [
       "\n",
       "A data.frame: 6 × 2\n",
       "\n",
       "| <!--/--> | Name &lt;chr&gt; | Name_clean &lt;chr&gt; |\n",
       "|---|---|---|\n",
       "| 1 | Fernando Abad*\\abadfe01   | Fernando Abad   |\n",
       "| 3 | Tim Adleman\\adlemti01     | Tim Adleman     |\n",
       "| 4 | Andrew Albers*\\alberan01  | Andrew Albers   |\n",
       "| 5 | Matt Albers\\alberma01     | Matt Albers     |\n",
       "| 6 | Al Alburquerque\\albural01 | Al Alburquerque |\n",
       "| 7 | Al Alburquerque\\albural01 | Al Alburquerque |\n",
       "\n"
      ],
      "text/plain": [
       "  Name                       Name_clean     \n",
       "1 Fernando Abad*\\\\abadfe01   Fernando Abad  \n",
       "3 Tim Adleman\\\\adlemti01     Tim Adleman    \n",
       "4 Andrew Albers*\\\\alberan01  Andrew Albers  \n",
       "5 Matt Albers\\\\alberma01     Matt Albers    \n",
       "6 Al Alburquerque\\\\albural01 Al Alburquerque\n",
       "7 Al Alburquerque\\\\albural01 Al Alburquerque"
      ]
     },
     "metadata": {},
     "output_type": "display_data"
    }
   ],
   "source": [
    "mlb_pitching <- mlb_pitching %>% \n",
    "  mutate(Name_clean = str_extract(Name,\"[A-Z][a-z]+ [A-Z][a-z]+\"))\n",
    "\n",
    "mlb_pitching  %>% \n",
    "  select(Name,Name_clean) %>% \n",
    "  head()"
   ]
  },
  {
   "cell_type": "markdown",
   "metadata": {},
   "source": [
    "We can also find all instances of a pattern. For instance, we can find all the players with the name \"Jim\". We will use `grep()` for this. `grep()` returns the position of each instance of the search string, so we can also use them inside an indexing statement to find other values.\n",
    "\n",
    "Note that we will be using the `^` character to indicate the beginning of a string (i.e. we do not want last names with the word \"jim\" in it, like \"Jimenez\").\n",
    "\n",
    "<br>\n",
    "<div class=\"use_console\"></div>"
   ]
  },
  {
   "cell_type": "code",
   "execution_count": 59,
   "metadata": {},
   "outputs": [
    {
     "data": {
      "text/html": [
       "<style>\n",
       ".list-inline {list-style: none; margin:0; padding: 0}\n",
       ".list-inline>li {display: inline-block}\n",
       ".list-inline>li:not(:last-child)::after {content: \"\\00b7\"; padding: 0 .5ex}\n",
       "</style>\n",
       "<ol class=list-inline><li>328</li><li>455</li><li>711</li></ol>\n"
      ],
      "text/latex": [
       "\\begin{enumerate*}\n",
       "\\item 328\n",
       "\\item 455\n",
       "\\item 711\n",
       "\\end{enumerate*}\n"
      ],
      "text/markdown": [
       "1. 328\n",
       "2. 455\n",
       "3. 711\n",
       "\n",
       "\n"
      ],
      "text/plain": [
       "[1] 328 455 711"
      ]
     },
     "metadata": {},
     "output_type": "display_data"
    }
   ],
   "source": [
    "grep(\"^Jim\", mlb_pitching$Name)"
   ]
  },
  {
   "cell_type": "markdown",
   "metadata": {},
   "source": [
    "Notice it returned te row index of the players with the name Jim. To return the actual entry, we will have to combined `grep()` with some indexing.\n",
    "\n",
    "<br>\n",
    "<div class=\"use_console\"></div>"
   ]
  },
  {
   "cell_type": "code",
   "execution_count": 60,
   "metadata": {},
   "outputs": [
    {
     "data": {
      "text/html": [
       "<style>\n",
       ".list-inline {list-style: none; margin:0; padding: 0}\n",
       ".list-inline>li {display: inline-block}\n",
       ".list-inline>li:not(:last-child)::after {content: \"\\00b7\"; padding: 0 .5ex}\n",
       "</style>\n",
       "<ol class=list-inline><li>'Jim Johnson\\\\johnsji04'</li><li>'Jimmy Nelson\\\\nelsoji02'</li><li>'Jimmy Yacabonis\\\\yacabji01'</li></ol>\n"
      ],
      "text/latex": [
       "\\begin{enumerate*}\n",
       "\\item 'Jim Johnson\\textbackslash{}\\textbackslash{}johnsji04'\n",
       "\\item 'Jimmy Nelson\\textbackslash{}\\textbackslash{}nelsoji02'\n",
       "\\item 'Jimmy Yacabonis\\textbackslash{}\\textbackslash{}yacabji01'\n",
       "\\end{enumerate*}\n"
      ],
      "text/markdown": [
       "1. 'Jim Johnson\\\\johnsji04'\n",
       "2. 'Jimmy Nelson\\\\nelsoji02'\n",
       "3. 'Jimmy Yacabonis\\\\yacabji01'\n",
       "\n",
       "\n"
      ],
      "text/plain": [
       "[1] \"Jim Johnson\\\\johnsji04\"     \"Jimmy Nelson\\\\nelsoji02\"   \n",
       "[3] \"Jimmy Yacabonis\\\\yacabji01\""
      ]
     },
     "metadata": {},
     "output_type": "display_data"
    }
   ],
   "source": [
    "mlb_pitching$Name[grep(\"^Jim\", mlb_pitching$Name)]"
   ]
  },
  {
   "cell_type": "markdown",
   "metadata": {},
   "source": [
    "Slightly more powerfully than just the \"Jims\" is to figure out quantitites, for example what proportion of players are in their 30's?\n",
    "\n",
    "<br>\n",
    "<div class=\"use_console\"></div>"
   ]
  },
  {
   "cell_type": "code",
   "execution_count": 61,
   "metadata": {},
   "outputs": [
    {
     "data": {
      "text/html": [
       "0.355153203342618"
      ],
      "text/latex": [
       "0.355153203342618"
      ],
      "text/markdown": [
       "0.355153203342618"
      ],
      "text/plain": [
       "[1] 0.3551532"
      ]
     },
     "metadata": {},
     "output_type": "display_data"
    }
   ],
   "source": [
    "length(grep(\"3.\", mlb_pitching$Age))/length(mlb_pitching$Age)"
   ]
  },
  {
   "cell_type": "markdown",
   "metadata": {},
   "source": [
    "<br><span class=\"note\"></span> `grep` finds and matches the strings in the `Age` column that begin with \"3\".\n"
   ]
  },
  {
   "cell_type": "code",
   "execution_count": 62,
   "metadata": {},
   "outputs": [
    {
     "data": {
      "text/html": [
       "718"
      ],
      "text/latex": [
       "718"
      ],
      "text/markdown": [
       "718"
      ],
      "text/plain": [
       "[1] 718"
      ]
     },
     "metadata": {},
     "output_type": "display_data"
    }
   ],
   "source": []
  },
  {
   "cell_type": "markdown",
   "metadata": {},
   "source": [
    "<div class=\"Q\"><br><br>\n",
    "\n",
    "How many distinct pitchers are there in <b>mlb_pitching</b>? \n",
    "\n",
    "<br><br>ANSWER: 718 \n",
    "\n",
    "<br><br><div class=\"qhelp\"></div></div>"
   ]
  },
  {
   "cell_type": "markdown",
   "metadata": {},
   "source": [
    "<div class=\"Q\"><br><br>\n",
    "\n",
    "What proportion of players are over 40yrs old? \n",
    "\n",
    "<br><br>ANSWER: 1.4% \n",
    "\n",
    "<br><br><div class=\"qhelp\"></div></div>"
   ]
  },
  {
   "cell_type": "markdown",
   "metadata": {},
   "source": [
    "<div class=\"Q\"><br><br>\n",
    "\n",
    "Who are the players over 40yrs old? \n",
    "\n",
    "<br><br>ANSWER: Bronson Arroyo, Bartolo Colon, Jason Grilli, Fernando Rodney, Koji Uehara \n",
    "\n",
    "<br><br><div class=\"qhelp\"></div></div>"
   ]
  },
  {
   "cell_type": "markdown",
   "metadata": {},
   "source": [
    "### Return logical vectors that match your pattern  \n",
    "\n",
    "The `grepl()` function will return TRUE if conditions are satisfied, and FALSE if not. Here you have to use the standard escape character `\\` to stop the function of `*` as a special character:\n",
    "\n",
    "<br>\n",
    "<div class=\"use_console\"></div>"
   ]
  },
  {
   "cell_type": "code",
   "execution_count": 159,
   "metadata": {},
   "outputs": [
    {
     "data": {
      "text/html": [
       "<style>\n",
       ".list-inline {list-style: none; margin:0; padding: 0}\n",
       ".list-inline>li {display: inline-block}\n",
       ".list-inline>li:not(:last-child)::after {content: \"\\00b7\"; padding: 0 .5ex}\n",
       "</style>\n",
       "<ol class=list-inline><li>'Fernando Abad*\\\\abadfe01'</li><li>'Andrew Albers*\\\\alberan01'</li><li>'Scott Alexander*\\\\alexasc02'</li><li>'Jose Alvarado*\\\\alvarjo03'</li><li>'Dario Alvarez*\\\\alvarda01'</li><li>'Jose Alvarez*\\\\alvarjo02'</li><li>'Brett Anderson*\\\\anderbr04'</li><li>'Brett Anderson*\\\\anderbr04'</li><li>'Brett Anderson*\\\\anderbr04'</li><li>'Tyler Anderson*\\\\anderty01'</li><li>'Jayson Aquino*\\\\aquinja01'</li><li>'Luis Avilan*\\\\avilalu01'</li><li>'Anthony Banda*\\\\bandaan01'</li><li>'Antonio Bastardo*\\\\bastaan01'</li><li>'Buddy Baumann*\\\\baumabu01'</li><li>'Jeff Beliveau*\\\\belivje01'</li><li>'Chad Bell*\\\\bellch02'</li><li>'Ty Blach*\\\\blachty01'</li><li>'Richard Bleier*\\\\bleieri01'</li><li>'Jerry Blevins*\\\\blevije01'</li><li>'Buddy Boshers*\\\\boshebu01'</li><li>'Matthew Boyd*\\\\boydma01'</li><li>'Steven Brault*\\\\braulst01'</li><li>'Craig Breslow*\\\\breslcr01'</li><li>'Craig Breslow*\\\\breslcr01'</li><li>'Zach Britton*\\\\brittza01'</li><li>'Rex Brothers*\\\\brothre01'</li><li>'Ryan Buchter*\\\\buchtry01'</li><li>'Ryan Buchter*\\\\buchtry01'</li><li>'Ryan Buchter*\\\\buchtry01'</li><li>'Madison Bumgarner*\\\\bumgama01'</li><li>'Aaron Bummer*\\\\bummeaa01'</li><li>'Brett Cecil*\\\\cecilbr01'</li><li>'Xavier Cedeno*\\\\cedenxa01'</li><li>'Andrew Chafin*\\\\chafian01'</li><li>'Aroldis Chapman*\\\\chapmar01'</li><li>'Wei-Yin Chen*\\\\chenwe02'</li><li>'Alex Claudio*\\\\claudal01'</li><li>'Adam Conley*\\\\conlead01'</li><li>'Patrick Corbin*\\\\corbipa01'</li><li>'Danny Coulombe*\\\\couloda01'</li><li>'Grant Dayton*\\\\daytogr01'</li><li>'Jorge De La Rosa*\\\\rosajo01'</li><li>'Matt Dermody*\\\\dermoma01'</li><li>'Sean Doolittle*\\\\doolise01'</li><li>'Sean Doolittle*\\\\doolise01'</li><li>'Sean Doolittle*\\\\doolise01'</li><li>'Brian Duensing*\\\\duensbr01'</li><li>'Danny Duffy*\\\\duffyda01'</li><li>'Zach Duke*\\\\dukeza01'</li><li>'Mike Dunn*\\\\dunnmi01'</li><li>'Josh Edgin*\\\\edginjo01'</li><li>'Brandon Finnegan*\\\\finnebr01'</li><li>'Kyle Freeland*\\\\freelky01'</li><li>'Sam Freeman*\\\\freemsa01'</li><li>'Max Fried*\\\\friedma01'</li><li>'Jaime Garcia*\\\\garcija02'</li><li>'Jaime Garcia*\\\\garcija02'</li><li>'Jaime Garcia*\\\\garcija02'</li><li>'Jaime Garcia*\\\\garcija02'</li><li>'Jaime Garcia*\\\\garcija02'</li><li>'Jarlin Garcia*\\\\garcija04'</li><li>'Onelki Garcia*\\\\garcion01'</li><li>'Amir Garrett*\\\\garream01'</li><li>'Luiz Gohara*\\\\goharlu01'</li><li>'Marco Gonzales*\\\\gonzama02'</li><li>'Marco Gonzales*\\\\gonzama02'</li><li>'Gio Gonzalez*\\\\gonzagi01'</li><li>'Matt Grace*\\\\gracema02'</li><li>'Josh Hader*\\\\haderjo01'</li><li>'Cole Hamels*\\\\hamelco01'</li><li>'Brad Hand*\\\\handbr01'</li><li>'J.A. Happ*\\\\happja01'</li><li>'Blaine Hardy*\\\\hardybl01'</li><li>'Donnie Hart*\\\\hartdo01'</li><li>'Andrew Heaney*\\\\heanean01'</li><li>'Rich Hill*\\\\hillri01'</li><li>'Derek Holland*\\\\hollade01'</li><li>'David Holmberg*\\\\holmbda01'</li><li>'J.P. Howell*\\\\howeljp01'</li><li>'Dan Jennings*\\\\jennida01'</li><li>'Dan Jennings*\\\\jennida01'</li><li>'Brian Johnson*\\\\johnsbr02'</li><li>'Clayton Kershaw*\\\\kershcl01'</li><li>'Dallas Keuchel*\\\\keuchda01'</li><li>'Adam Kolarek*\\\\kolarad01'</li><li>'Ian Krol*\\\\krolia01'</li><li>'Wade LeBlanc*\\\\leblawa01'</li><li>'Jon Lester*\\\\lestejo01'</li><li>'Francisco Liriano*\\\\liriafr01'</li><li>'Francisco Liriano*\\\\liriafr01'</li><li>'Francisco Liriano*\\\\liriafr01'</li><li>'Jeff Locke*\\\\lockeje01'</li><li>'Boone Logan*\\\\loganbo02'</li><li>'Aaron Loup*\\\\loupaa01'</li><li>'Tyler Lyons*\\\\lyonsty01'</li><li>'Sean Manaea*\\\\manaese01'</li><li>'Steven Matz*\\\\matzst01'</li><li>'Tim Mayza*\\\\mayzati01'</li><li>'T.J. McFarland*\\\\mcfartj01'</li><li>'Jake McGee*\\\\mcgeeja01'</li><li>'Adalberto Mejia*\\\\mejiaad01'</li><li>'Yohander Mendez*\\\\mendeyo01'</li><li>'Ryan Merritt*\\\\merriry01'</li><li>'Wade Miley*\\\\mileywa01'</li><li>'Andrew Miller*\\\\millean01'</li><li>'Tommy Milone*\\\\milonto01'</li><li>'Tommy Milone*\\\\milonto01'</li><li>'Tommy Milone*\\\\milonto01'</li><li>'Mike Minor*\\\\minormi01'</li><li>'A.J. Minter*\\\\minteaj01'</li><li>'Ariel Miranda*\\\\miranar01'</li><li>'Jordan Montgomery*\\\\montgjo01'</li><li>'Mike Montgomery*\\\\montgmi01'</li><li>'Matt Moore*\\\\moorema02'</li><li>'Adam Morgan*\\\\morgaad01'</li><li>'Sean Newcomb*\\\\newcose01'</li><li>'Justin Nicolino*\\\\nicolju01'</li><li>'Daniel Norris*\\\\norrida01'</li><li>'Vidal Nuno*\\\\nunovi01'</li><li>'Chris O\\'Grady*\\\\ogradch01'</li><li>'Steven Okert*\\\\okertst01'</li><li>'Josh Osich*\\\\osichjo01'</li><li>'Dillon Overton*\\\\overtdi01'</li><li>'Dillon Overton*\\\\overtdi01'</li><li>'James Paxton*\\\\paxtoja01'</li><li>'James Pazos*\\\\pazosja01'</li><li>'Wandy Peralta*\\\\peralwa01'</li><li>'Martin Perez*\\\\perezma02'</li><li>'Dillon Peters*\\\\peterdi01'</li><li>'Drew Pomeranz*\\\\pomerdr01'</li><li>'David Price*\\\\priceda01'</li><li>'Jose Quintana*\\\\quintjo01'</li><li>'Jose Quintana*\\\\quintjo01'</li><li>'Jose Quintana*\\\\quintjo01'</li><li>'Robbie Ray*\\\\rayro02'</li><li>'Cody Reed*\\\\reedco01'</li><li>'Clayton Richard*\\\\richacl01'</li><li>'Carlos Rodon*\\\\rodonca01'</li><li>'Eduardo Rodriguez*\\\\rodried05'</li><li>'Joely Rodriguez*\\\\rodrijo06'</li><li>'Taylor Rogers*\\\\rogerta01'</li><li>'Enny Romero*\\\\romeren01'</li><li>'Chris Rusin*\\\\rusinch01'</li><li>'Hyun-Jin Ryu*\\\\ryuhy01'</li><li>'Marc Rzepczynski*\\\\rzepcma01'</li><li>'CC Sabathia*\\\\sabatc.01'</li><li>'Chris Sale*\\\\salech01'</li><li>'Hector Santiago*\\\\santihe01'</li><li>'Robby Scott*\\\\scottro02'</li><li>'Ryan Sherriff*\\\\sherrry01'</li><li>'Chasen Shreve*\\\\shrevch01'</li><li>'Kevin Siegrist*\\\\siegrke01'</li><li>'Kevin Siegrist*\\\\siegrke01'</li><li>'Tony Sipp*\\\\sippto01'</li><li>'Tyler Skaggs*\\\\skaggty01'</li><li>'Eric Skoglund*\\\\skogler01'</li><li>'Caleb Smith*\\\\smithca03'</li><li>'Josh Smoker*\\\\smokejo01'</li><li>'Blake Snell*\\\\snellbl01'</li><li>'Sammy Solis*\\\\solissa01'</li><li>'Matt Strahm*\\\\strahma01'</li><li>'Daniel Stumpf*\\\\stumpda01'</li><li>'Brent Suter*\\\\suterbr01'</li><li>'Jose Torres*\\\\torrejo02'</li><li>'Nik Turley*\\\\turleni01'</li><li>'Julio Urias*\\\\uriasju01'</li><li>'Jason Vargas*\\\\vargaja01'</li><li>'Felipe Vazquez*\\\\riverfe01'</li><li>'Tony Watson*\\\\watsoto01'</li><li>'Tony Watson*\\\\watsoto01'</li><li>'Tony Watson*\\\\watsoto01'</li><li>'Adam Wilk*\\\\wilkad01'</li><li>'Adam Wilk*\\\\wilkad01'</li><li>'Adam Wilk*\\\\wilkad01'</li><li>'Justin Wilson*\\\\wilsoju10'</li><li>'Justin Wilson*\\\\wilsoju10'</li><li>'Justin Wilson*\\\\wilsoju10'</li><li>'Alex Wood*\\\\woodal02'</li><li>'Travis Wood*\\\\woodtr01'</li><li>'Travis Wood*\\\\woodtr01'</li><li>'Travis Wood*\\\\woodtr01'</li></ol>\n"
      ],
      "text/latex": [
       "\\begin{enumerate*}\n",
       "\\item 'Fernando Abad*\\textbackslash{}\\textbackslash{}abadfe01'\n",
       "\\item 'Andrew Albers*\\textbackslash{}\\textbackslash{}alberan01'\n",
       "\\item 'Scott Alexander*\\textbackslash{}\\textbackslash{}alexasc02'\n",
       "\\item 'Jose Alvarado*\\textbackslash{}\\textbackslash{}alvarjo03'\n",
       "\\item 'Dario Alvarez*\\textbackslash{}\\textbackslash{}alvarda01'\n",
       "\\item 'Jose Alvarez*\\textbackslash{}\\textbackslash{}alvarjo02'\n",
       "\\item 'Brett Anderson*\\textbackslash{}\\textbackslash{}anderbr04'\n",
       "\\item 'Brett Anderson*\\textbackslash{}\\textbackslash{}anderbr04'\n",
       "\\item 'Brett Anderson*\\textbackslash{}\\textbackslash{}anderbr04'\n",
       "\\item 'Tyler Anderson*\\textbackslash{}\\textbackslash{}anderty01'\n",
       "\\item 'Jayson Aquino*\\textbackslash{}\\textbackslash{}aquinja01'\n",
       "\\item 'Luis Avilan*\\textbackslash{}\\textbackslash{}avilalu01'\n",
       "\\item 'Anthony Banda*\\textbackslash{}\\textbackslash{}bandaan01'\n",
       "\\item 'Antonio Bastardo*\\textbackslash{}\\textbackslash{}bastaan01'\n",
       "\\item 'Buddy Baumann*\\textbackslash{}\\textbackslash{}baumabu01'\n",
       "\\item 'Jeff Beliveau*\\textbackslash{}\\textbackslash{}belivje01'\n",
       "\\item 'Chad Bell*\\textbackslash{}\\textbackslash{}bellch02'\n",
       "\\item 'Ty Blach*\\textbackslash{}\\textbackslash{}blachty01'\n",
       "\\item 'Richard Bleier*\\textbackslash{}\\textbackslash{}bleieri01'\n",
       "\\item 'Jerry Blevins*\\textbackslash{}\\textbackslash{}blevije01'\n",
       "\\item 'Buddy Boshers*\\textbackslash{}\\textbackslash{}boshebu01'\n",
       "\\item 'Matthew Boyd*\\textbackslash{}\\textbackslash{}boydma01'\n",
       "\\item 'Steven Brault*\\textbackslash{}\\textbackslash{}braulst01'\n",
       "\\item 'Craig Breslow*\\textbackslash{}\\textbackslash{}breslcr01'\n",
       "\\item 'Craig Breslow*\\textbackslash{}\\textbackslash{}breslcr01'\n",
       "\\item 'Zach Britton*\\textbackslash{}\\textbackslash{}brittza01'\n",
       "\\item 'Rex Brothers*\\textbackslash{}\\textbackslash{}brothre01'\n",
       "\\item 'Ryan Buchter*\\textbackslash{}\\textbackslash{}buchtry01'\n",
       "\\item 'Ryan Buchter*\\textbackslash{}\\textbackslash{}buchtry01'\n",
       "\\item 'Ryan Buchter*\\textbackslash{}\\textbackslash{}buchtry01'\n",
       "\\item 'Madison Bumgarner*\\textbackslash{}\\textbackslash{}bumgama01'\n",
       "\\item 'Aaron Bummer*\\textbackslash{}\\textbackslash{}bummeaa01'\n",
       "\\item 'Brett Cecil*\\textbackslash{}\\textbackslash{}cecilbr01'\n",
       "\\item 'Xavier Cedeno*\\textbackslash{}\\textbackslash{}cedenxa01'\n",
       "\\item 'Andrew Chafin*\\textbackslash{}\\textbackslash{}chafian01'\n",
       "\\item 'Aroldis Chapman*\\textbackslash{}\\textbackslash{}chapmar01'\n",
       "\\item 'Wei-Yin Chen*\\textbackslash{}\\textbackslash{}chenwe02'\n",
       "\\item 'Alex Claudio*\\textbackslash{}\\textbackslash{}claudal01'\n",
       "\\item 'Adam Conley*\\textbackslash{}\\textbackslash{}conlead01'\n",
       "\\item 'Patrick Corbin*\\textbackslash{}\\textbackslash{}corbipa01'\n",
       "\\item 'Danny Coulombe*\\textbackslash{}\\textbackslash{}couloda01'\n",
       "\\item 'Grant Dayton*\\textbackslash{}\\textbackslash{}daytogr01'\n",
       "\\item 'Jorge De La Rosa*\\textbackslash{}\\textbackslash{}rosajo01'\n",
       "\\item 'Matt Dermody*\\textbackslash{}\\textbackslash{}dermoma01'\n",
       "\\item 'Sean Doolittle*\\textbackslash{}\\textbackslash{}doolise01'\n",
       "\\item 'Sean Doolittle*\\textbackslash{}\\textbackslash{}doolise01'\n",
       "\\item 'Sean Doolittle*\\textbackslash{}\\textbackslash{}doolise01'\n",
       "\\item 'Brian Duensing*\\textbackslash{}\\textbackslash{}duensbr01'\n",
       "\\item 'Danny Duffy*\\textbackslash{}\\textbackslash{}duffyda01'\n",
       "\\item 'Zach Duke*\\textbackslash{}\\textbackslash{}dukeza01'\n",
       "\\item 'Mike Dunn*\\textbackslash{}\\textbackslash{}dunnmi01'\n",
       "\\item 'Josh Edgin*\\textbackslash{}\\textbackslash{}edginjo01'\n",
       "\\item 'Brandon Finnegan*\\textbackslash{}\\textbackslash{}finnebr01'\n",
       "\\item 'Kyle Freeland*\\textbackslash{}\\textbackslash{}freelky01'\n",
       "\\item 'Sam Freeman*\\textbackslash{}\\textbackslash{}freemsa01'\n",
       "\\item 'Max Fried*\\textbackslash{}\\textbackslash{}friedma01'\n",
       "\\item 'Jaime Garcia*\\textbackslash{}\\textbackslash{}garcija02'\n",
       "\\item 'Jaime Garcia*\\textbackslash{}\\textbackslash{}garcija02'\n",
       "\\item 'Jaime Garcia*\\textbackslash{}\\textbackslash{}garcija02'\n",
       "\\item 'Jaime Garcia*\\textbackslash{}\\textbackslash{}garcija02'\n",
       "\\item 'Jaime Garcia*\\textbackslash{}\\textbackslash{}garcija02'\n",
       "\\item 'Jarlin Garcia*\\textbackslash{}\\textbackslash{}garcija04'\n",
       "\\item 'Onelki Garcia*\\textbackslash{}\\textbackslash{}garcion01'\n",
       "\\item 'Amir Garrett*\\textbackslash{}\\textbackslash{}garream01'\n",
       "\\item 'Luiz Gohara*\\textbackslash{}\\textbackslash{}goharlu01'\n",
       "\\item 'Marco Gonzales*\\textbackslash{}\\textbackslash{}gonzama02'\n",
       "\\item 'Marco Gonzales*\\textbackslash{}\\textbackslash{}gonzama02'\n",
       "\\item 'Gio Gonzalez*\\textbackslash{}\\textbackslash{}gonzagi01'\n",
       "\\item 'Matt Grace*\\textbackslash{}\\textbackslash{}gracema02'\n",
       "\\item 'Josh Hader*\\textbackslash{}\\textbackslash{}haderjo01'\n",
       "\\item 'Cole Hamels*\\textbackslash{}\\textbackslash{}hamelco01'\n",
       "\\item 'Brad Hand*\\textbackslash{}\\textbackslash{}handbr01'\n",
       "\\item 'J.A. Happ*\\textbackslash{}\\textbackslash{}happja01'\n",
       "\\item 'Blaine Hardy*\\textbackslash{}\\textbackslash{}hardybl01'\n",
       "\\item 'Donnie Hart*\\textbackslash{}\\textbackslash{}hartdo01'\n",
       "\\item 'Andrew Heaney*\\textbackslash{}\\textbackslash{}heanean01'\n",
       "\\item 'Rich Hill*\\textbackslash{}\\textbackslash{}hillri01'\n",
       "\\item 'Derek Holland*\\textbackslash{}\\textbackslash{}hollade01'\n",
       "\\item 'David Holmberg*\\textbackslash{}\\textbackslash{}holmbda01'\n",
       "\\item 'J.P. Howell*\\textbackslash{}\\textbackslash{}howeljp01'\n",
       "\\item 'Dan Jennings*\\textbackslash{}\\textbackslash{}jennida01'\n",
       "\\item 'Dan Jennings*\\textbackslash{}\\textbackslash{}jennida01'\n",
       "\\item 'Brian Johnson*\\textbackslash{}\\textbackslash{}johnsbr02'\n",
       "\\item 'Clayton Kershaw*\\textbackslash{}\\textbackslash{}kershcl01'\n",
       "\\item 'Dallas Keuchel*\\textbackslash{}\\textbackslash{}keuchda01'\n",
       "\\item 'Adam Kolarek*\\textbackslash{}\\textbackslash{}kolarad01'\n",
       "\\item 'Ian Krol*\\textbackslash{}\\textbackslash{}krolia01'\n",
       "\\item 'Wade LeBlanc*\\textbackslash{}\\textbackslash{}leblawa01'\n",
       "\\item 'Jon Lester*\\textbackslash{}\\textbackslash{}lestejo01'\n",
       "\\item 'Francisco Liriano*\\textbackslash{}\\textbackslash{}liriafr01'\n",
       "\\item 'Francisco Liriano*\\textbackslash{}\\textbackslash{}liriafr01'\n",
       "\\item 'Francisco Liriano*\\textbackslash{}\\textbackslash{}liriafr01'\n",
       "\\item 'Jeff Locke*\\textbackslash{}\\textbackslash{}lockeje01'\n",
       "\\item 'Boone Logan*\\textbackslash{}\\textbackslash{}loganbo02'\n",
       "\\item 'Aaron Loup*\\textbackslash{}\\textbackslash{}loupaa01'\n",
       "\\item 'Tyler Lyons*\\textbackslash{}\\textbackslash{}lyonsty01'\n",
       "\\item 'Sean Manaea*\\textbackslash{}\\textbackslash{}manaese01'\n",
       "\\item 'Steven Matz*\\textbackslash{}\\textbackslash{}matzst01'\n",
       "\\item 'Tim Mayza*\\textbackslash{}\\textbackslash{}mayzati01'\n",
       "\\item 'T.J. McFarland*\\textbackslash{}\\textbackslash{}mcfartj01'\n",
       "\\item 'Jake McGee*\\textbackslash{}\\textbackslash{}mcgeeja01'\n",
       "\\item 'Adalberto Mejia*\\textbackslash{}\\textbackslash{}mejiaad01'\n",
       "\\item 'Yohander Mendez*\\textbackslash{}\\textbackslash{}mendeyo01'\n",
       "\\item 'Ryan Merritt*\\textbackslash{}\\textbackslash{}merriry01'\n",
       "\\item 'Wade Miley*\\textbackslash{}\\textbackslash{}mileywa01'\n",
       "\\item 'Andrew Miller*\\textbackslash{}\\textbackslash{}millean01'\n",
       "\\item 'Tommy Milone*\\textbackslash{}\\textbackslash{}milonto01'\n",
       "\\item 'Tommy Milone*\\textbackslash{}\\textbackslash{}milonto01'\n",
       "\\item 'Tommy Milone*\\textbackslash{}\\textbackslash{}milonto01'\n",
       "\\item 'Mike Minor*\\textbackslash{}\\textbackslash{}minormi01'\n",
       "\\item 'A.J. Minter*\\textbackslash{}\\textbackslash{}minteaj01'\n",
       "\\item 'Ariel Miranda*\\textbackslash{}\\textbackslash{}miranar01'\n",
       "\\item 'Jordan Montgomery*\\textbackslash{}\\textbackslash{}montgjo01'\n",
       "\\item 'Mike Montgomery*\\textbackslash{}\\textbackslash{}montgmi01'\n",
       "\\item 'Matt Moore*\\textbackslash{}\\textbackslash{}moorema02'\n",
       "\\item 'Adam Morgan*\\textbackslash{}\\textbackslash{}morgaad01'\n",
       "\\item 'Sean Newcomb*\\textbackslash{}\\textbackslash{}newcose01'\n",
       "\\item 'Justin Nicolino*\\textbackslash{}\\textbackslash{}nicolju01'\n",
       "\\item 'Daniel Norris*\\textbackslash{}\\textbackslash{}norrida01'\n",
       "\\item 'Vidal Nuno*\\textbackslash{}\\textbackslash{}nunovi01'\n",
       "\\item 'Chris O\\textbackslash{}'Grady*\\textbackslash{}\\textbackslash{}ogradch01'\n",
       "\\item 'Steven Okert*\\textbackslash{}\\textbackslash{}okertst01'\n",
       "\\item 'Josh Osich*\\textbackslash{}\\textbackslash{}osichjo01'\n",
       "\\item 'Dillon Overton*\\textbackslash{}\\textbackslash{}overtdi01'\n",
       "\\item 'Dillon Overton*\\textbackslash{}\\textbackslash{}overtdi01'\n",
       "\\item 'James Paxton*\\textbackslash{}\\textbackslash{}paxtoja01'\n",
       "\\item 'James Pazos*\\textbackslash{}\\textbackslash{}pazosja01'\n",
       "\\item 'Wandy Peralta*\\textbackslash{}\\textbackslash{}peralwa01'\n",
       "\\item 'Martin Perez*\\textbackslash{}\\textbackslash{}perezma02'\n",
       "\\item 'Dillon Peters*\\textbackslash{}\\textbackslash{}peterdi01'\n",
       "\\item 'Drew Pomeranz*\\textbackslash{}\\textbackslash{}pomerdr01'\n",
       "\\item 'David Price*\\textbackslash{}\\textbackslash{}priceda01'\n",
       "\\item 'Jose Quintana*\\textbackslash{}\\textbackslash{}quintjo01'\n",
       "\\item 'Jose Quintana*\\textbackslash{}\\textbackslash{}quintjo01'\n",
       "\\item 'Jose Quintana*\\textbackslash{}\\textbackslash{}quintjo01'\n",
       "\\item 'Robbie Ray*\\textbackslash{}\\textbackslash{}rayro02'\n",
       "\\item 'Cody Reed*\\textbackslash{}\\textbackslash{}reedco01'\n",
       "\\item 'Clayton Richard*\\textbackslash{}\\textbackslash{}richacl01'\n",
       "\\item 'Carlos Rodon*\\textbackslash{}\\textbackslash{}rodonca01'\n",
       "\\item 'Eduardo Rodriguez*\\textbackslash{}\\textbackslash{}rodried05'\n",
       "\\item 'Joely Rodriguez*\\textbackslash{}\\textbackslash{}rodrijo06'\n",
       "\\item 'Taylor Rogers*\\textbackslash{}\\textbackslash{}rogerta01'\n",
       "\\item 'Enny Romero*\\textbackslash{}\\textbackslash{}romeren01'\n",
       "\\item 'Chris Rusin*\\textbackslash{}\\textbackslash{}rusinch01'\n",
       "\\item 'Hyun-Jin Ryu*\\textbackslash{}\\textbackslash{}ryuhy01'\n",
       "\\item 'Marc Rzepczynski*\\textbackslash{}\\textbackslash{}rzepcma01'\n",
       "\\item 'CC Sabathia*\\textbackslash{}\\textbackslash{}sabatc.01'\n",
       "\\item 'Chris Sale*\\textbackslash{}\\textbackslash{}salech01'\n",
       "\\item 'Hector Santiago*\\textbackslash{}\\textbackslash{}santihe01'\n",
       "\\item 'Robby Scott*\\textbackslash{}\\textbackslash{}scottro02'\n",
       "\\item 'Ryan Sherriff*\\textbackslash{}\\textbackslash{}sherrry01'\n",
       "\\item 'Chasen Shreve*\\textbackslash{}\\textbackslash{}shrevch01'\n",
       "\\item 'Kevin Siegrist*\\textbackslash{}\\textbackslash{}siegrke01'\n",
       "\\item 'Kevin Siegrist*\\textbackslash{}\\textbackslash{}siegrke01'\n",
       "\\item 'Tony Sipp*\\textbackslash{}\\textbackslash{}sippto01'\n",
       "\\item 'Tyler Skaggs*\\textbackslash{}\\textbackslash{}skaggty01'\n",
       "\\item 'Eric Skoglund*\\textbackslash{}\\textbackslash{}skogler01'\n",
       "\\item 'Caleb Smith*\\textbackslash{}\\textbackslash{}smithca03'\n",
       "\\item 'Josh Smoker*\\textbackslash{}\\textbackslash{}smokejo01'\n",
       "\\item 'Blake Snell*\\textbackslash{}\\textbackslash{}snellbl01'\n",
       "\\item 'Sammy Solis*\\textbackslash{}\\textbackslash{}solissa01'\n",
       "\\item 'Matt Strahm*\\textbackslash{}\\textbackslash{}strahma01'\n",
       "\\item 'Daniel Stumpf*\\textbackslash{}\\textbackslash{}stumpda01'\n",
       "\\item 'Brent Suter*\\textbackslash{}\\textbackslash{}suterbr01'\n",
       "\\item 'Jose Torres*\\textbackslash{}\\textbackslash{}torrejo02'\n",
       "\\item 'Nik Turley*\\textbackslash{}\\textbackslash{}turleni01'\n",
       "\\item 'Julio Urias*\\textbackslash{}\\textbackslash{}uriasju01'\n",
       "\\item 'Jason Vargas*\\textbackslash{}\\textbackslash{}vargaja01'\n",
       "\\item 'Felipe Vazquez*\\textbackslash{}\\textbackslash{}riverfe01'\n",
       "\\item 'Tony Watson*\\textbackslash{}\\textbackslash{}watsoto01'\n",
       "\\item 'Tony Watson*\\textbackslash{}\\textbackslash{}watsoto01'\n",
       "\\item 'Tony Watson*\\textbackslash{}\\textbackslash{}watsoto01'\n",
       "\\item 'Adam Wilk*\\textbackslash{}\\textbackslash{}wilkad01'\n",
       "\\item 'Adam Wilk*\\textbackslash{}\\textbackslash{}wilkad01'\n",
       "\\item 'Adam Wilk*\\textbackslash{}\\textbackslash{}wilkad01'\n",
       "\\item 'Justin Wilson*\\textbackslash{}\\textbackslash{}wilsoju10'\n",
       "\\item 'Justin Wilson*\\textbackslash{}\\textbackslash{}wilsoju10'\n",
       "\\item 'Justin Wilson*\\textbackslash{}\\textbackslash{}wilsoju10'\n",
       "\\item 'Alex Wood*\\textbackslash{}\\textbackslash{}woodal02'\n",
       "\\item 'Travis Wood*\\textbackslash{}\\textbackslash{}woodtr01'\n",
       "\\item 'Travis Wood*\\textbackslash{}\\textbackslash{}woodtr01'\n",
       "\\item 'Travis Wood*\\textbackslash{}\\textbackslash{}woodtr01'\n",
       "\\end{enumerate*}\n"
      ],
      "text/markdown": [
       "1. 'Fernando Abad*\\\\abadfe01'\n",
       "2. 'Andrew Albers*\\\\alberan01'\n",
       "3. 'Scott Alexander*\\\\alexasc02'\n",
       "4. 'Jose Alvarado*\\\\alvarjo03'\n",
       "5. 'Dario Alvarez*\\\\alvarda01'\n",
       "6. 'Jose Alvarez*\\\\alvarjo02'\n",
       "7. 'Brett Anderson*\\\\anderbr04'\n",
       "8. 'Brett Anderson*\\\\anderbr04'\n",
       "9. 'Brett Anderson*\\\\anderbr04'\n",
       "10. 'Tyler Anderson*\\\\anderty01'\n",
       "11. 'Jayson Aquino*\\\\aquinja01'\n",
       "12. 'Luis Avilan*\\\\avilalu01'\n",
       "13. 'Anthony Banda*\\\\bandaan01'\n",
       "14. 'Antonio Bastardo*\\\\bastaan01'\n",
       "15. 'Buddy Baumann*\\\\baumabu01'\n",
       "16. 'Jeff Beliveau*\\\\belivje01'\n",
       "17. 'Chad Bell*\\\\bellch02'\n",
       "18. 'Ty Blach*\\\\blachty01'\n",
       "19. 'Richard Bleier*\\\\bleieri01'\n",
       "20. 'Jerry Blevins*\\\\blevije01'\n",
       "21. 'Buddy Boshers*\\\\boshebu01'\n",
       "22. 'Matthew Boyd*\\\\boydma01'\n",
       "23. 'Steven Brault*\\\\braulst01'\n",
       "24. 'Craig Breslow*\\\\breslcr01'\n",
       "25. 'Craig Breslow*\\\\breslcr01'\n",
       "26. 'Zach Britton*\\\\brittza01'\n",
       "27. 'Rex Brothers*\\\\brothre01'\n",
       "28. 'Ryan Buchter*\\\\buchtry01'\n",
       "29. 'Ryan Buchter*\\\\buchtry01'\n",
       "30. 'Ryan Buchter*\\\\buchtry01'\n",
       "31. 'Madison Bumgarner*\\\\bumgama01'\n",
       "32. 'Aaron Bummer*\\\\bummeaa01'\n",
       "33. 'Brett Cecil*\\\\cecilbr01'\n",
       "34. 'Xavier Cedeno*\\\\cedenxa01'\n",
       "35. 'Andrew Chafin*\\\\chafian01'\n",
       "36. 'Aroldis Chapman*\\\\chapmar01'\n",
       "37. 'Wei-Yin Chen*\\\\chenwe02'\n",
       "38. 'Alex Claudio*\\\\claudal01'\n",
       "39. 'Adam Conley*\\\\conlead01'\n",
       "40. 'Patrick Corbin*\\\\corbipa01'\n",
       "41. 'Danny Coulombe*\\\\couloda01'\n",
       "42. 'Grant Dayton*\\\\daytogr01'\n",
       "43. 'Jorge De La Rosa*\\\\rosajo01'\n",
       "44. 'Matt Dermody*\\\\dermoma01'\n",
       "45. 'Sean Doolittle*\\\\doolise01'\n",
       "46. 'Sean Doolittle*\\\\doolise01'\n",
       "47. 'Sean Doolittle*\\\\doolise01'\n",
       "48. 'Brian Duensing*\\\\duensbr01'\n",
       "49. 'Danny Duffy*\\\\duffyda01'\n",
       "50. 'Zach Duke*\\\\dukeza01'\n",
       "51. 'Mike Dunn*\\\\dunnmi01'\n",
       "52. 'Josh Edgin*\\\\edginjo01'\n",
       "53. 'Brandon Finnegan*\\\\finnebr01'\n",
       "54. 'Kyle Freeland*\\\\freelky01'\n",
       "55. 'Sam Freeman*\\\\freemsa01'\n",
       "56. 'Max Fried*\\\\friedma01'\n",
       "57. 'Jaime Garcia*\\\\garcija02'\n",
       "58. 'Jaime Garcia*\\\\garcija02'\n",
       "59. 'Jaime Garcia*\\\\garcija02'\n",
       "60. 'Jaime Garcia*\\\\garcija02'\n",
       "61. 'Jaime Garcia*\\\\garcija02'\n",
       "62. 'Jarlin Garcia*\\\\garcija04'\n",
       "63. 'Onelki Garcia*\\\\garcion01'\n",
       "64. 'Amir Garrett*\\\\garream01'\n",
       "65. 'Luiz Gohara*\\\\goharlu01'\n",
       "66. 'Marco Gonzales*\\\\gonzama02'\n",
       "67. 'Marco Gonzales*\\\\gonzama02'\n",
       "68. 'Gio Gonzalez*\\\\gonzagi01'\n",
       "69. 'Matt Grace*\\\\gracema02'\n",
       "70. 'Josh Hader*\\\\haderjo01'\n",
       "71. 'Cole Hamels*\\\\hamelco01'\n",
       "72. 'Brad Hand*\\\\handbr01'\n",
       "73. 'J.A. Happ*\\\\happja01'\n",
       "74. 'Blaine Hardy*\\\\hardybl01'\n",
       "75. 'Donnie Hart*\\\\hartdo01'\n",
       "76. 'Andrew Heaney*\\\\heanean01'\n",
       "77. 'Rich Hill*\\\\hillri01'\n",
       "78. 'Derek Holland*\\\\hollade01'\n",
       "79. 'David Holmberg*\\\\holmbda01'\n",
       "80. 'J.P. Howell*\\\\howeljp01'\n",
       "81. 'Dan Jennings*\\\\jennida01'\n",
       "82. 'Dan Jennings*\\\\jennida01'\n",
       "83. 'Brian Johnson*\\\\johnsbr02'\n",
       "84. 'Clayton Kershaw*\\\\kershcl01'\n",
       "85. 'Dallas Keuchel*\\\\keuchda01'\n",
       "86. 'Adam Kolarek*\\\\kolarad01'\n",
       "87. 'Ian Krol*\\\\krolia01'\n",
       "88. 'Wade LeBlanc*\\\\leblawa01'\n",
       "89. 'Jon Lester*\\\\lestejo01'\n",
       "90. 'Francisco Liriano*\\\\liriafr01'\n",
       "91. 'Francisco Liriano*\\\\liriafr01'\n",
       "92. 'Francisco Liriano*\\\\liriafr01'\n",
       "93. 'Jeff Locke*\\\\lockeje01'\n",
       "94. 'Boone Logan*\\\\loganbo02'\n",
       "95. 'Aaron Loup*\\\\loupaa01'\n",
       "96. 'Tyler Lyons*\\\\lyonsty01'\n",
       "97. 'Sean Manaea*\\\\manaese01'\n",
       "98. 'Steven Matz*\\\\matzst01'\n",
       "99. 'Tim Mayza*\\\\mayzati01'\n",
       "100. 'T.J. McFarland*\\\\mcfartj01'\n",
       "101. 'Jake McGee*\\\\mcgeeja01'\n",
       "102. 'Adalberto Mejia*\\\\mejiaad01'\n",
       "103. 'Yohander Mendez*\\\\mendeyo01'\n",
       "104. 'Ryan Merritt*\\\\merriry01'\n",
       "105. 'Wade Miley*\\\\mileywa01'\n",
       "106. 'Andrew Miller*\\\\millean01'\n",
       "107. 'Tommy Milone*\\\\milonto01'\n",
       "108. 'Tommy Milone*\\\\milonto01'\n",
       "109. 'Tommy Milone*\\\\milonto01'\n",
       "110. 'Mike Minor*\\\\minormi01'\n",
       "111. 'A.J. Minter*\\\\minteaj01'\n",
       "112. 'Ariel Miranda*\\\\miranar01'\n",
       "113. 'Jordan Montgomery*\\\\montgjo01'\n",
       "114. 'Mike Montgomery*\\\\montgmi01'\n",
       "115. 'Matt Moore*\\\\moorema02'\n",
       "116. 'Adam Morgan*\\\\morgaad01'\n",
       "117. 'Sean Newcomb*\\\\newcose01'\n",
       "118. 'Justin Nicolino*\\\\nicolju01'\n",
       "119. 'Daniel Norris*\\\\norrida01'\n",
       "120. 'Vidal Nuno*\\\\nunovi01'\n",
       "121. 'Chris O\\'Grady*\\\\ogradch01'\n",
       "122. 'Steven Okert*\\\\okertst01'\n",
       "123. 'Josh Osich*\\\\osichjo01'\n",
       "124. 'Dillon Overton*\\\\overtdi01'\n",
       "125. 'Dillon Overton*\\\\overtdi01'\n",
       "126. 'James Paxton*\\\\paxtoja01'\n",
       "127. 'James Pazos*\\\\pazosja01'\n",
       "128. 'Wandy Peralta*\\\\peralwa01'\n",
       "129. 'Martin Perez*\\\\perezma02'\n",
       "130. 'Dillon Peters*\\\\peterdi01'\n",
       "131. 'Drew Pomeranz*\\\\pomerdr01'\n",
       "132. 'David Price*\\\\priceda01'\n",
       "133. 'Jose Quintana*\\\\quintjo01'\n",
       "134. 'Jose Quintana*\\\\quintjo01'\n",
       "135. 'Jose Quintana*\\\\quintjo01'\n",
       "136. 'Robbie Ray*\\\\rayro02'\n",
       "137. 'Cody Reed*\\\\reedco01'\n",
       "138. 'Clayton Richard*\\\\richacl01'\n",
       "139. 'Carlos Rodon*\\\\rodonca01'\n",
       "140. 'Eduardo Rodriguez*\\\\rodried05'\n",
       "141. 'Joely Rodriguez*\\\\rodrijo06'\n",
       "142. 'Taylor Rogers*\\\\rogerta01'\n",
       "143. 'Enny Romero*\\\\romeren01'\n",
       "144. 'Chris Rusin*\\\\rusinch01'\n",
       "145. 'Hyun-Jin Ryu*\\\\ryuhy01'\n",
       "146. 'Marc Rzepczynski*\\\\rzepcma01'\n",
       "147. 'CC Sabathia*\\\\sabatc.01'\n",
       "148. 'Chris Sale*\\\\salech01'\n",
       "149. 'Hector Santiago*\\\\santihe01'\n",
       "150. 'Robby Scott*\\\\scottro02'\n",
       "151. 'Ryan Sherriff*\\\\sherrry01'\n",
       "152. 'Chasen Shreve*\\\\shrevch01'\n",
       "153. 'Kevin Siegrist*\\\\siegrke01'\n",
       "154. 'Kevin Siegrist*\\\\siegrke01'\n",
       "155. 'Tony Sipp*\\\\sippto01'\n",
       "156. 'Tyler Skaggs*\\\\skaggty01'\n",
       "157. 'Eric Skoglund*\\\\skogler01'\n",
       "158. 'Caleb Smith*\\\\smithca03'\n",
       "159. 'Josh Smoker*\\\\smokejo01'\n",
       "160. 'Blake Snell*\\\\snellbl01'\n",
       "161. 'Sammy Solis*\\\\solissa01'\n",
       "162. 'Matt Strahm*\\\\strahma01'\n",
       "163. 'Daniel Stumpf*\\\\stumpda01'\n",
       "164. 'Brent Suter*\\\\suterbr01'\n",
       "165. 'Jose Torres*\\\\torrejo02'\n",
       "166. 'Nik Turley*\\\\turleni01'\n",
       "167. 'Julio Urias*\\\\uriasju01'\n",
       "168. 'Jason Vargas*\\\\vargaja01'\n",
       "169. 'Felipe Vazquez*\\\\riverfe01'\n",
       "170. 'Tony Watson*\\\\watsoto01'\n",
       "171. 'Tony Watson*\\\\watsoto01'\n",
       "172. 'Tony Watson*\\\\watsoto01'\n",
       "173. 'Adam Wilk*\\\\wilkad01'\n",
       "174. 'Adam Wilk*\\\\wilkad01'\n",
       "175. 'Adam Wilk*\\\\wilkad01'\n",
       "176. 'Justin Wilson*\\\\wilsoju10'\n",
       "177. 'Justin Wilson*\\\\wilsoju10'\n",
       "178. 'Justin Wilson*\\\\wilsoju10'\n",
       "179. 'Alex Wood*\\\\woodal02'\n",
       "180. 'Travis Wood*\\\\woodtr01'\n",
       "181. 'Travis Wood*\\\\woodtr01'\n",
       "182. 'Travis Wood*\\\\woodtr01'\n",
       "\n",
       "\n"
      ],
      "text/plain": [
       "  [1] \"Fernando Abad*\\\\abadfe01\"      \"Andrew Albers*\\\\alberan01\"    \n",
       "  [3] \"Scott Alexander*\\\\alexasc02\"   \"Jose Alvarado*\\\\alvarjo03\"    \n",
       "  [5] \"Dario Alvarez*\\\\alvarda01\"     \"Jose Alvarez*\\\\alvarjo02\"     \n",
       "  [7] \"Brett Anderson*\\\\anderbr04\"    \"Brett Anderson*\\\\anderbr04\"   \n",
       "  [9] \"Brett Anderson*\\\\anderbr04\"    \"Tyler Anderson*\\\\anderty01\"   \n",
       " [11] \"Jayson Aquino*\\\\aquinja01\"     \"Luis Avilan*\\\\avilalu01\"      \n",
       " [13] \"Anthony Banda*\\\\bandaan01\"     \"Antonio Bastardo*\\\\bastaan01\" \n",
       " [15] \"Buddy Baumann*\\\\baumabu01\"     \"Jeff Beliveau*\\\\belivje01\"    \n",
       " [17] \"Chad Bell*\\\\bellch02\"          \"Ty Blach*\\\\blachty01\"         \n",
       " [19] \"Richard Bleier*\\\\bleieri01\"    \"Jerry Blevins*\\\\blevije01\"    \n",
       " [21] \"Buddy Boshers*\\\\boshebu01\"     \"Matthew Boyd*\\\\boydma01\"      \n",
       " [23] \"Steven Brault*\\\\braulst01\"     \"Craig Breslow*\\\\breslcr01\"    \n",
       " [25] \"Craig Breslow*\\\\breslcr01\"     \"Zach Britton*\\\\brittza01\"     \n",
       " [27] \"Rex Brothers*\\\\brothre01\"      \"Ryan Buchter*\\\\buchtry01\"     \n",
       " [29] \"Ryan Buchter*\\\\buchtry01\"      \"Ryan Buchter*\\\\buchtry01\"     \n",
       " [31] \"Madison Bumgarner*\\\\bumgama01\" \"Aaron Bummer*\\\\bummeaa01\"     \n",
       " [33] \"Brett Cecil*\\\\cecilbr01\"       \"Xavier Cedeno*\\\\cedenxa01\"    \n",
       " [35] \"Andrew Chafin*\\\\chafian01\"     \"Aroldis Chapman*\\\\chapmar01\"  \n",
       " [37] \"Wei-Yin Chen*\\\\chenwe02\"       \"Alex Claudio*\\\\claudal01\"     \n",
       " [39] \"Adam Conley*\\\\conlead01\"       \"Patrick Corbin*\\\\corbipa01\"   \n",
       " [41] \"Danny Coulombe*\\\\couloda01\"    \"Grant Dayton*\\\\daytogr01\"     \n",
       " [43] \"Jorge De La Rosa*\\\\rosajo01\"   \"Matt Dermody*\\\\dermoma01\"     \n",
       " [45] \"Sean Doolittle*\\\\doolise01\"    \"Sean Doolittle*\\\\doolise01\"   \n",
       " [47] \"Sean Doolittle*\\\\doolise01\"    \"Brian Duensing*\\\\duensbr01\"   \n",
       " [49] \"Danny Duffy*\\\\duffyda01\"       \"Zach Duke*\\\\dukeza01\"         \n",
       " [51] \"Mike Dunn*\\\\dunnmi01\"          \"Josh Edgin*\\\\edginjo01\"       \n",
       " [53] \"Brandon Finnegan*\\\\finnebr01\"  \"Kyle Freeland*\\\\freelky01\"    \n",
       " [55] \"Sam Freeman*\\\\freemsa01\"       \"Max Fried*\\\\friedma01\"        \n",
       " [57] \"Jaime Garcia*\\\\garcija02\"      \"Jaime Garcia*\\\\garcija02\"     \n",
       " [59] \"Jaime Garcia*\\\\garcija02\"      \"Jaime Garcia*\\\\garcija02\"     \n",
       " [61] \"Jaime Garcia*\\\\garcija02\"      \"Jarlin Garcia*\\\\garcija04\"    \n",
       " [63] \"Onelki Garcia*\\\\garcion01\"     \"Amir Garrett*\\\\garream01\"     \n",
       " [65] \"Luiz Gohara*\\\\goharlu01\"       \"Marco Gonzales*\\\\gonzama02\"   \n",
       " [67] \"Marco Gonzales*\\\\gonzama02\"    \"Gio Gonzalez*\\\\gonzagi01\"     \n",
       " [69] \"Matt Grace*\\\\gracema02\"        \"Josh Hader*\\\\haderjo01\"       \n",
       " [71] \"Cole Hamels*\\\\hamelco01\"       \"Brad Hand*\\\\handbr01\"         \n",
       " [73] \"J.A. Happ*\\\\happja01\"          \"Blaine Hardy*\\\\hardybl01\"     \n",
       " [75] \"Donnie Hart*\\\\hartdo01\"        \"Andrew Heaney*\\\\heanean01\"    \n",
       " [77] \"Rich Hill*\\\\hillri01\"          \"Derek Holland*\\\\hollade01\"    \n",
       " [79] \"David Holmberg*\\\\holmbda01\"    \"J.P. Howell*\\\\howeljp01\"      \n",
       " [81] \"Dan Jennings*\\\\jennida01\"      \"Dan Jennings*\\\\jennida01\"     \n",
       " [83] \"Brian Johnson*\\\\johnsbr02\"     \"Clayton Kershaw*\\\\kershcl01\"  \n",
       " [85] \"Dallas Keuchel*\\\\keuchda01\"    \"Adam Kolarek*\\\\kolarad01\"     \n",
       " [87] \"Ian Krol*\\\\krolia01\"           \"Wade LeBlanc*\\\\leblawa01\"     \n",
       " [89] \"Jon Lester*\\\\lestejo01\"        \"Francisco Liriano*\\\\liriafr01\"\n",
       " [91] \"Francisco Liriano*\\\\liriafr01\" \"Francisco Liriano*\\\\liriafr01\"\n",
       " [93] \"Jeff Locke*\\\\lockeje01\"        \"Boone Logan*\\\\loganbo02\"      \n",
       " [95] \"Aaron Loup*\\\\loupaa01\"         \"Tyler Lyons*\\\\lyonsty01\"      \n",
       " [97] \"Sean Manaea*\\\\manaese01\"       \"Steven Matz*\\\\matzst01\"       \n",
       " [99] \"Tim Mayza*\\\\mayzati01\"         \"T.J. McFarland*\\\\mcfartj01\"   \n",
       "[101] \"Jake McGee*\\\\mcgeeja01\"        \"Adalberto Mejia*\\\\mejiaad01\"  \n",
       "[103] \"Yohander Mendez*\\\\mendeyo01\"   \"Ryan Merritt*\\\\merriry01\"     \n",
       "[105] \"Wade Miley*\\\\mileywa01\"        \"Andrew Miller*\\\\millean01\"    \n",
       "[107] \"Tommy Milone*\\\\milonto01\"      \"Tommy Milone*\\\\milonto01\"     \n",
       "[109] \"Tommy Milone*\\\\milonto01\"      \"Mike Minor*\\\\minormi01\"       \n",
       "[111] \"A.J. Minter*\\\\minteaj01\"       \"Ariel Miranda*\\\\miranar01\"    \n",
       "[113] \"Jordan Montgomery*\\\\montgjo01\" \"Mike Montgomery*\\\\montgmi01\"  \n",
       "[115] \"Matt Moore*\\\\moorema02\"        \"Adam Morgan*\\\\morgaad01\"      \n",
       "[117] \"Sean Newcomb*\\\\newcose01\"      \"Justin Nicolino*\\\\nicolju01\"  \n",
       "[119] \"Daniel Norris*\\\\norrida01\"     \"Vidal Nuno*\\\\nunovi01\"        \n",
       "[121] \"Chris O'Grady*\\\\ogradch01\"     \"Steven Okert*\\\\okertst01\"     \n",
       "[123] \"Josh Osich*\\\\osichjo01\"        \"Dillon Overton*\\\\overtdi01\"   \n",
       "[125] \"Dillon Overton*\\\\overtdi01\"    \"James Paxton*\\\\paxtoja01\"     \n",
       "[127] \"James Pazos*\\\\pazosja01\"       \"Wandy Peralta*\\\\peralwa01\"    \n",
       "[129] \"Martin Perez*\\\\perezma02\"      \"Dillon Peters*\\\\peterdi01\"    \n",
       "[131] \"Drew Pomeranz*\\\\pomerdr01\"     \"David Price*\\\\priceda01\"      \n",
       "[133] \"Jose Quintana*\\\\quintjo01\"     \"Jose Quintana*\\\\quintjo01\"    \n",
       "[135] \"Jose Quintana*\\\\quintjo01\"     \"Robbie Ray*\\\\rayro02\"         \n",
       "[137] \"Cody Reed*\\\\reedco01\"          \"Clayton Richard*\\\\richacl01\"  \n",
       "[139] \"Carlos Rodon*\\\\rodonca01\"      \"Eduardo Rodriguez*\\\\rodried05\"\n",
       "[141] \"Joely Rodriguez*\\\\rodrijo06\"   \"Taylor Rogers*\\\\rogerta01\"    \n",
       "[143] \"Enny Romero*\\\\romeren01\"       \"Chris Rusin*\\\\rusinch01\"      \n",
       "[145] \"Hyun-Jin Ryu*\\\\ryuhy01\"        \"Marc Rzepczynski*\\\\rzepcma01\" \n",
       "[147] \"CC Sabathia*\\\\sabatc.01\"       \"Chris Sale*\\\\salech01\"        \n",
       "[149] \"Hector Santiago*\\\\santihe01\"   \"Robby Scott*\\\\scottro02\"      \n",
       "[151] \"Ryan Sherriff*\\\\sherrry01\"     \"Chasen Shreve*\\\\shrevch01\"    \n",
       "[153] \"Kevin Siegrist*\\\\siegrke01\"    \"Kevin Siegrist*\\\\siegrke01\"   \n",
       "[155] \"Tony Sipp*\\\\sippto01\"          \"Tyler Skaggs*\\\\skaggty01\"     \n",
       "[157] \"Eric Skoglund*\\\\skogler01\"     \"Caleb Smith*\\\\smithca03\"      \n",
       "[159] \"Josh Smoker*\\\\smokejo01\"       \"Blake Snell*\\\\snellbl01\"      \n",
       "[161] \"Sammy Solis*\\\\solissa01\"       \"Matt Strahm*\\\\strahma01\"      \n",
       "[163] \"Daniel Stumpf*\\\\stumpda01\"     \"Brent Suter*\\\\suterbr01\"      \n",
       "[165] \"Jose Torres*\\\\torrejo02\"       \"Nik Turley*\\\\turleni01\"       \n",
       "[167] \"Julio Urias*\\\\uriasju01\"       \"Jason Vargas*\\\\vargaja01\"     \n",
       "[169] \"Felipe Vazquez*\\\\riverfe01\"    \"Tony Watson*\\\\watsoto01\"      \n",
       "[171] \"Tony Watson*\\\\watsoto01\"       \"Tony Watson*\\\\watsoto01\"      \n",
       "[173] \"Adam Wilk*\\\\wilkad01\"          \"Adam Wilk*\\\\wilkad01\"         \n",
       "[175] \"Adam Wilk*\\\\wilkad01\"          \"Justin Wilson*\\\\wilsoju10\"    \n",
       "[177] \"Justin Wilson*\\\\wilsoju10\"     \"Justin Wilson*\\\\wilsoju10\"    \n",
       "[179] \"Alex Wood*\\\\woodal02\"          \"Travis Wood*\\\\woodtr01\"       \n",
       "[181] \"Travis Wood*\\\\woodtr01\"        \"Travis Wood*\\\\woodtr01\"       "
      ]
     },
     "metadata": {},
     "output_type": "display_data"
    }
   ],
   "source": [
    "mlb_pitching$Name[grepl(\"\\\\*\", mlb_pitching$Name)]"
   ]
  },
  {
   "cell_type": "markdown",
   "metadata": {},
   "source": [
    "With this, you can then do typical boolean indexing. \n",
    "\n",
    "### Find and replace values that match your pattern\n",
    "\n",
    "If you or your data provider has a spelling problem, you can correct them on the fly with the `gsub()` find and replace function. For example, we can change the name of all the players called \"Tyler\" to \"Superman\".\n",
    "\n",
    "\n",
    "<br>\n",
    "<div class=\"use_console\"></div>"
   ]
  },
  {
   "cell_type": "code",
   "execution_count": 161,
   "metadata": {},
   "outputs": [
    {
     "data": {
      "text/html": [
       "<style>\n",
       ".list-inline {list-style: none; margin:0; padding: 0}\n",
       ".list-inline>li {display: inline-block}\n",
       ".list-inline>li:not(:last-child)::after {content: \"\\00b7\"; padding: 0 .5ex}\n",
       "</style>\n",
       "<ol class=list-inline><li>'Superman Anderson*\\\\anderty01'</li><li>'Superman Chatwood\\\\chatwty01'</li><li>'Superman Clippard\\\\clippty01'</li><li>'Superman Clippard\\\\clippty01'</li><li>'Superman Clippard\\\\clippty01'</li><li>'Superman Clippard\\\\clippty01'</li><li>'Superman Duffey\\\\duffety01'</li><li>'Superman Glasnow\\\\glasnty01'</li><li>'Superman Lyons*\\\\lyonsty01'</li><li>'Superman Mahle\\\\mahlety01'</li><li>'Superman Pill\\\\pillty01'</li><li>'Superman Skaggs*\\\\skaggty01'</li><li>'Superman Wilson\\\\wilsoty01'</li></ol>\n"
      ],
      "text/latex": [
       "\\begin{enumerate*}\n",
       "\\item 'Superman Anderson*\\textbackslash{}\\textbackslash{}anderty01'\n",
       "\\item 'Superman Chatwood\\textbackslash{}\\textbackslash{}chatwty01'\n",
       "\\item 'Superman Clippard\\textbackslash{}\\textbackslash{}clippty01'\n",
       "\\item 'Superman Clippard\\textbackslash{}\\textbackslash{}clippty01'\n",
       "\\item 'Superman Clippard\\textbackslash{}\\textbackslash{}clippty01'\n",
       "\\item 'Superman Clippard\\textbackslash{}\\textbackslash{}clippty01'\n",
       "\\item 'Superman Duffey\\textbackslash{}\\textbackslash{}duffety01'\n",
       "\\item 'Superman Glasnow\\textbackslash{}\\textbackslash{}glasnty01'\n",
       "\\item 'Superman Lyons*\\textbackslash{}\\textbackslash{}lyonsty01'\n",
       "\\item 'Superman Mahle\\textbackslash{}\\textbackslash{}mahlety01'\n",
       "\\item 'Superman Pill\\textbackslash{}\\textbackslash{}pillty01'\n",
       "\\item 'Superman Skaggs*\\textbackslash{}\\textbackslash{}skaggty01'\n",
       "\\item 'Superman Wilson\\textbackslash{}\\textbackslash{}wilsoty01'\n",
       "\\end{enumerate*}\n"
      ],
      "text/markdown": [
       "1. 'Superman Anderson*\\\\anderty01'\n",
       "2. 'Superman Chatwood\\\\chatwty01'\n",
       "3. 'Superman Clippard\\\\clippty01'\n",
       "4. 'Superman Clippard\\\\clippty01'\n",
       "5. 'Superman Clippard\\\\clippty01'\n",
       "6. 'Superman Clippard\\\\clippty01'\n",
       "7. 'Superman Duffey\\\\duffety01'\n",
       "8. 'Superman Glasnow\\\\glasnty01'\n",
       "9. 'Superman Lyons*\\\\lyonsty01'\n",
       "10. 'Superman Mahle\\\\mahlety01'\n",
       "11. 'Superman Pill\\\\pillty01'\n",
       "12. 'Superman Skaggs*\\\\skaggty01'\n",
       "13. 'Superman Wilson\\\\wilsoty01'\n",
       "\n",
       "\n"
      ],
      "text/plain": [
       " [1] \"Superman Anderson*\\\\anderty01\" \"Superman Chatwood\\\\chatwty01\" \n",
       " [3] \"Superman Clippard\\\\clippty01\"  \"Superman Clippard\\\\clippty01\" \n",
       " [5] \"Superman Clippard\\\\clippty01\"  \"Superman Clippard\\\\clippty01\" \n",
       " [7] \"Superman Duffey\\\\duffety01\"    \"Superman Glasnow\\\\glasnty01\"  \n",
       " [9] \"Superman Lyons*\\\\lyonsty01\"    \"Superman Mahle\\\\mahlety01\"    \n",
       "[11] \"Superman Pill\\\\pillty01\"       \"Superman Skaggs*\\\\skaggty01\"  \n",
       "[13] \"Superman Wilson\\\\wilsoty01\"   "
      ]
     },
     "metadata": {},
     "output_type": "display_data"
    }
   ],
   "source": [
    "mlb_pitching$Name <- gsub(\"Tyler\", \"Superman\", mlb_pitching$Name)\n",
    "\n",
    "mlb_pitching$Name[grep(\"^Superman\", mlb_pitching$Name)]"
   ]
  },
  {
   "cell_type": "markdown",
   "metadata": {},
   "source": [
    "Probably a more useful thing for this data is filtering out parts of the string we don't want. Let's get rid of all the text after the back-slashes.\n",
    "\n",
    "<br>\n",
    "<div class=\"use_console\"></div>"
   ]
  },
  {
   "cell_type": "code",
   "execution_count": 162,
   "metadata": {},
   "outputs": [
    {
     "data": {
      "text/html": [
       "<style>\n",
       ".list-inline {list-style: none; margin:0; padding: 0}\n",
       ".list-inline>li {display: inline-block}\n",
       ".list-inline>li:not(:last-child)::after {content: \"\\00b7\"; padding: 0 .5ex}\n",
       "</style>\n",
       "<ol class=list-inline><li>'Fernando Abad*'</li><li>'Tim Adleman'</li><li>'Andrew Albers*'</li><li>'Matt Albers'</li><li>'Al Alburquerque'</li><li>'Al Alburquerque'</li><li>'Al Alburquerque'</li><li>'Raul Alcantara'</li><li>'Scott Alexander*'</li><li>'Cody Allen'</li></ol>\n"
      ],
      "text/latex": [
       "\\begin{enumerate*}\n",
       "\\item 'Fernando Abad*'\n",
       "\\item 'Tim Adleman'\n",
       "\\item 'Andrew Albers*'\n",
       "\\item 'Matt Albers'\n",
       "\\item 'Al Alburquerque'\n",
       "\\item 'Al Alburquerque'\n",
       "\\item 'Al Alburquerque'\n",
       "\\item 'Raul Alcantara'\n",
       "\\item 'Scott Alexander*'\n",
       "\\item 'Cody Allen'\n",
       "\\end{enumerate*}\n"
      ],
      "text/markdown": [
       "1. 'Fernando Abad*'\n",
       "2. 'Tim Adleman'\n",
       "3. 'Andrew Albers*'\n",
       "4. 'Matt Albers'\n",
       "5. 'Al Alburquerque'\n",
       "6. 'Al Alburquerque'\n",
       "7. 'Al Alburquerque'\n",
       "8. 'Raul Alcantara'\n",
       "9. 'Scott Alexander*'\n",
       "10. 'Cody Allen'\n",
       "\n",
       "\n"
      ],
      "text/plain": [
       " [1] \"Fernando Abad*\"   \"Tim Adleman\"      \"Andrew Albers*\"   \"Matt Albers\"     \n",
       " [5] \"Al Alburquerque\"  \"Al Alburquerque\"  \"Al Alburquerque\"  \"Raul Alcantara\"  \n",
       " [9] \"Scott Alexander*\" \"Cody Allen\"      "
      ]
     },
     "metadata": {},
     "output_type": "display_data"
    }
   ],
   "source": [
    "mlb_pitching$Name <- gsub(\"\\\\\\\\.{1,20}\", \"\", mlb_pitching$Name)\n",
    "\n",
    "mlb_pitching$Name[1:10]"
   ]
  },
  {
   "cell_type": "markdown",
   "metadata": {},
   "source": [
    "<div class=\"Q\"><br><br>\n",
    "\n",
    "Why are three Al Alburquerques in the MLB pitching data? \n",
    "\n",
    "<br><br>ANSWER: He played for three different teams. \n",
    "\n",
    "<br><br><div class=\"qhelp\"></div></div>"
   ]
  },
  {
   "cell_type": "markdown",
   "metadata": {},
   "source": [
    "# Web scraping\n",
    "\n",
    "Among the more functional and powerful things R can do is to pull down information from the web and process it for use. The librarary to do this is `rvest` created (again) by [Hadley Wickham](https://blog.rstudio.com/2014/11/24/rvest-easy-web-scraping-with-r/). This is a deep topic that requires some insight into `html`, a tag-driven programming language that powers most of the web.\n",
    "\n",
    "## What is Web scraping?\n",
    "\n",
    "Web scraping is a technique for converting the data present in unstructured format (HTML tags) over the web to the structured format which can easily be accessed and used. Almost all the main languages provide ways for performing web scraping.\n",
    "\n",
    "<br>\n",
    "<img src=\"web_scraping.png\" width=\"500px\">\n",
    "<br>\n",
    "\n",
    "## Ways to scrape data\n",
    "There are several ways of scraping data from the web. Some of the popular ways are:\n",
    "\n",
    "1. Human Copy-Paste: This is a slow and efficient way of scraping data from the web. This involves humans themselves analyzing and copying the data to local storage.\n",
    "1. Text pattern matching: Another simple yet powerful approach to extract information from the web is by using regular expression matching facilities of programming languages (we learned regular expressions in R in a section above).\n",
    "1. API Interface: Many websites like Facebook, Twitter, LinkedIn, etc. provides public and/ or private APIs which can be called using the standard code for retrieving the data in the prescribed format.\n",
    "1. DOM Parsing: By using web browsers, programs can retrieve the dynamic content generated by client-side scripts. It is also possible to parse web pages into a DOM tree, based on which programs can retrieve parts of these pages.\n",
    "\n",
    "We’ll use the DOM parsing approach during the course of this tutorial and rely on the CSS selectors of the webpage for finding the relevant fields which contain the desired information. But before we begin there are a few prerequisites that one need in order to proficiently scrape data from any website.\n",
    "\n",
    "## Understanding a web page\n",
    "\n",
    "Before we can start learning how to scrape a web page, we need to understand how a web page itself is structured.\n",
    "\n",
    "From a user perspective, a web page has text, images and links all organized in a way that is aesthetically pleasing and easy to read. But the web page itself is written in specific coding languages that are then interpreted by our web browsers. When we're web scraping, we’ll need to deal with the actual contents of the web page itself: the code before it’s interpreted by the browser.\n",
    "\n",
    "<span class=\"note\"></span> If you want to see \"the code\" of this website (i.e. Lab 8), simply click `Ctr + u`, or `Command + u` in Mac (this should work in most modern browsers).\n",
    "\n",
    "The main languages used to build web pages are called Hypertext Markup Language (HTML), Cascasing Style Sheets (CSS) and Javascript. HTML gives a web page its actual structure and content. CSS gives a web page its style and look, including details like fonts and colors. Javascript gives a webpage functionality.\n",
    "\n",
    "In this tutorial, we’ll focus mostly on how to use R web scraping to read the HTML and CSS that make up a web page.\n",
    "\n",
    "### HTML\n",
    "\n",
    "Unlike R, HTML is not a programming language. Instead, it’s called a markup language — it describes the content and structure of a web page. HTML is organized using tags, which are surrounded by **<>** symbols. Different tags perform different functions. Together, many tags will form and contain the content of a web page.\n",
    "\n",
    "The text below is a legitimate HTML document. If we were to save that as a .html file and open it using a web browser, we would see a page saying:\n",
    "\n",
    "    Here's a paragraph of text!\n",
    "    Here's a second paragraph of text!\n"
   ]
  },
  {
   "cell_type": "code",
   "execution_count": null,
   "metadata": {},
   "outputs": [],
   "source": [
    "<html>\n",
    "<head>\n",
    "</head>\n",
    "\n",
    "<body>\n",
    " <p>Here's a paragraph of text!</p>\n",
    " <p>Here's a second paragraph of text!</p>\n",
    "</body>\n",
    "</html>"
   ]
  },
  {
   "cell_type": "markdown",
   "metadata": {},
   "source": [
    "Notice that each of the tags are “paired” in a sense that each one is accompanied by another with a similar name. That is to say, the opening `<html>` tag is paired with another tag `</html>` that indicates the beginning and end of the HTML document. The same applies to `<body>` and `<p>`.\n",
    "\n",
    "The `<html>` `</html>` tags specify the begging and end of HTML content. The `<head>` `</head>` and `<body>` `<body>` tags, add more structure to the document specifying beginning and end of headers and main body of the file, respectively. The `<p>``</p>` tags are what we use in HTML to designate paragraphs.\n",
    "\n",
    "There are many, many tags in HTML, but we won’t be able to cover all of them in this tutorial. If interested, you can check out this [site](https://developer.mozilla.org/en-US/docs/Web/HTML/Element). The important takeaway is to know that tags have particular names (html, body, p, etc.) to make them identifiable in an HTML document.\n",
    "\n",
    "Havaving opening and endingtags (e.g. `<p>``</p>`) is important, because it allows tags to be nested within each other. The `<body>` and `<head>` tags are nested within `<html>`, and `<p>` is nested within `<body>`. This nesting gives HTML a “tree-like” structure:\n",
    "\n",
    "<img src=\"html-structure.png\">"
   ]
  },
  {
   "cell_type": "markdown",
   "metadata": {},
   "source": [
    "This tree-like structure will inform how we look for certain tags when we're using R for web scraping, so it’s important to keep it in mind. If a tag has other tags nested within it, we would refer to the containing tag as the parent and each of the tags within it as the “children”. If there is more than one child in a parent, the child tags are collectively referred to as “siblings”. These notions of parent, child and siblings give us an idea of the hierarchy of the tags.\n",
    "\n",
    "### CSS\n",
    "\n",
    "Whereas HTML provides the content and structure of a web page, CSS provides information about how a web page should be styled. Without CSS, a web page is dreadfully plain. Here's a simple HTML document [without CSS](http://dataquestio.github.io/web-scraping-pages/simple.html) that demonstrates this. \n",
    "\n",
    "When we say styling, we are referring to a wide, wide range of things. Styling can refer to the attributes (e.g. color, size, position, font, alignment, etc) of particular HTML elements. Like HTML, the scope of CSS material is so large that we can’t cover every possible concept in the language. If you’re interested, you can learn more [here](https://www.w3.org/Style/CSS/Overview.en.html).\n",
    "\n",
    "Two concepts we do need to learn before we delve into the R web scraping code are **classes and ids**.\n",
    "\n",
    "First, let's talk about classes. If we were making a website, there would often be times when we'd want similar elements of a website to look the same. For example, we might want a number of items in a list to all appear in the same color, red.\n",
    "\n",
    "We could accomplish that by directly inserting some CSS that contains the color information into each line of text's HTML tag, like so:"
   ]
  },
  {
   "cell_type": "code",
   "execution_count": null,
   "metadata": {},
   "outputs": [],
   "source": [
    "<p style=”color:red” >Text 1</p>\n",
    "<p style=”color:red” >Text 2</p>\n",
    "<p style=”color:red” >Text 3</p>"
   ]
  },
  {
   "cell_type": "markdown",
   "metadata": {},
   "source": [
    "The `style` text indicates that we are trying to apply CSS to the `<p>` tags. Inside the quotes, we see a key-value pair “color:red”. `color` refers to the color of the text in the `<p>` tags, while red describes what the color should be.\n",
    "\n",
    "If we wanted to change the color of that text, we'd have to change each line one by one.\n",
    "\n",
    "Instead of repeating this style text in all of these `<p>` tags, we can replace it with a class selector:"
   ]
  },
  {
   "cell_type": "code",
   "execution_count": null,
   "metadata": {},
   "outputs": [],
   "source": [
    "<p class=”red-text” >Text 1</p>\n",
    "<p class=”red-text” >Text 2</p>\n",
    "<p class=”red-text” >Text 3</p>"
   ]
  },
  {
   "cell_type": "markdown",
   "metadata": {},
   "source": [
    "The `class` selector, we can better indicate that these `<p>` tags are related in some way. In a separate CSS file, we can creat the red-text class and define how it looks by writing:"
   ]
  },
  {
   "cell_type": "code",
   "execution_count": null,
   "metadata": {},
   "outputs": [],
   "source": [
    ".red-text {\n",
    "    color : red;\n",
    "}"
   ]
  },
  {
   "cell_type": "markdown",
   "metadata": {},
   "source": [
    "Combining these two elements into a single web page will produce the same effect as the first set of red `<p>` tags, but it allows us to make quick changes more easily. \n",
    "\n",
    "In this tutorial, of course, we're interested in web scraping, not building a web page. But when we're web scraping, we'll often need to select a specific class of HTML tags, so we need understand the basics of how CSS classes work.\n",
    "\n",
    "Similarly, we may often want to scrape specific data that's identified using an id. CSS ids are used to give a single element an identifiable name, much like how a class helps define a class of elements.\n",
    "\n",
    "If an id is attached to a HTML tag, it makes it easier for us to identify this tag when we are performing our actual web scraping with R."
   ]
  },
  {
   "cell_type": "code",
   "execution_count": null,
   "metadata": {},
   "outputs": [],
   "source": [
    "<p id=”special” >This is a special tag.</p>"
   ]
  },
  {
   "cell_type": "markdown",
   "metadata": {},
   "source": [
    "Don’t worry if you don’t quite understand classes and ids yet, it’ll become more clear when we start manipulating the code."
   ]
  },
  {
   "cell_type": "markdown",
   "metadata": {},
   "source": [
    "## Web scraping imdb website\n",
    "\n",
    "There are several R libraries designed to take HTML and CSS and be able to traverse them to look for particular tags. The library we’ll use is `rvest`.\n",
    "\n",
    "In this tutorial, we’ll use R for scraping the data for the most popular feature films of 2019 from the IMDb website.\n",
    "\n",
    "We’ll get a number of features for each of the 100 popular feature films released in 2019. Also, we’ll look at the most common problems that one might face while scraping data from the internet because of the lack of consistency in the website code and look at how to solve these problems.\n",
    "\n",
    "If you do have `rvest` installed...\n",
    "\n",
    "<br>\n",
    "<div class=\"use_console\"></div>"
   ]
  },
  {
   "cell_type": "code",
   "execution_count": 71,
   "metadata": {},
   "outputs": [
    {
     "name": "stderr",
     "output_type": "stream",
     "text": [
      "Warning message:\n",
      "\"package 'rvest' is in use and will not be installed\"\n"
     ]
    }
   ],
   "source": [
    "install.packages('rvest')"
   ]
  },
  {
   "cell_type": "markdown",
   "metadata": {},
   "source": [
    "Then, load the library:\n",
    "\n",
    "<br>\n",
    "<div class=\"use_editor\"></div>"
   ]
  },
  {
   "cell_type": "code",
   "execution_count": null,
   "metadata": {},
   "outputs": [],
   "source": [
    "library('rvest')"
   ]
  },
  {
   "cell_type": "markdown",
   "metadata": {},
   "source": [
    "Let's specify a url for the desired website, that loads the first 100 titles of 2019. \n",
    "\n",
    "Now, as new films are added to the imdb website, the content returned by the url query may vary over time. We purposely chose a year in the past (2019) to avoid this, but changes can still happen (actually changes just happened in the last week). Therefore, I downloaded a copy of the imdb website in my github account, we will use this copy for the websraping exersises of this lab. However, below you can see as a comment the actual url that you could use if you want to perform the webscraping on the live imdb site. \n",
    "\n",
    "<br>\n",
    "<div class=\"use_editor\"></div>"
   ]
  },
  {
   "cell_type": "code",
   "execution_count": 150,
   "metadata": {},
   "outputs": [],
   "source": [
    "# url of actual live imdb website\n",
    "# url <- 'http://www.imdb.com/search/title?count=100&release_date=2019,2019&title_type=feature'\n",
    "\n",
    "# url for this lab\n",
    "url <- 'https://raw.githubusercontent.com/Diego-Ibarra/biol3782/main/week8/imdb_100titles_2019.html'"
   ]
  },
  {
   "cell_type": "markdown",
   "metadata": {},
   "source": [
    "Next, let's read the html code from the website.\n",
    "\n",
    "<br>\n",
    "<div class=\"use_editor\"></div>"
   ]
  },
  {
   "cell_type": "code",
   "execution_count": 151,
   "metadata": {},
   "outputs": [],
   "source": [
    "webpage <- read_html(url)"
   ]
  },
  {
   "cell_type": "markdown",
   "metadata": {},
   "source": [
    "Now, we’ll be scraping the following data from this website.\n",
    "\n",
    "* Rank: The rank of the film from 1 to 100 on the list of 100 most popular feature films released in 2019.\n",
    "* Title: The title of the feature film.\n",
    "* Description: The description of the feature film.\n",
    "* Runtime: The duration of the feature film.\n",
    "* Genre: The genre of the feature film,\n",
    "* Rating: The IMDb rating of the feature film.\n",
    "* Metascore: The metascore on IMDb website for the feature film.\n",
    "* Votes: Votes cast in favor of the feature film.\n",
    "* Gross_Earning_in_Mil: The gross earnings of the feature film in millions.\n",
    "* Director: The main director of the feature film. Note, in case of multiple directors, I’ll take only the first.\n",
    "* Actor: The main actor in the feature film. Note, in case of multiple actors, I’ll take only the first."
   ]
  },
  {
   "cell_type": "markdown",
   "metadata": {},
   "source": [
    "Here’s a screenshot that contains how all these fields are arranged.\n",
    "\n",
    "<img src=\"imdb1.png\">"
   ]
  },
  {
   "cell_type": "markdown",
   "metadata": {},
   "source": [
    "### Rank\n",
    "\n",
    "Now, we will start by scraping the Rank field. For that, we’ll use the selector gadget to get the specific CSS selectors that encloses the rankings. You can click on the extension in your browser and select the rankings field with the cursor. \n",
    "\n",
    "To see the html code in Google Chrome, you can go to Options -> More tools -> Developer tools or hit `Ctrl` + `Shift` + `I` (for Windows).\n",
    "\n",
    "First let's select the ranking. Highlight the \"1.\" beside \"Captain Marvel\" and hit `Ctrl` + `Shift` + `I` or right click and select \"inspect\". This should take you to rank css on the source page. \n",
    "\n",
    "Once you are sure that you have made the right selections, you need to copy the corresponding CSS selector. In our case, it's **text-primary**.\n",
    "\n",
    "Once you know the CSS selector that contains the rankings, you can use this simple R code to get all the rankings.\n",
    "\n",
    "We will use the `html_nodes` function to extract pieces of data out of HTML documents using CSS selector. You can use the help section to take a look at the code syntax for `html_node`.\n",
    "\n",
    "<br>\n",
    "<div class=\"use_editor\"></div>"
   ]
  },
  {
   "cell_type": "code",
   "execution_count": 152,
   "metadata": {},
   "outputs": [],
   "source": [
    "#Using CSS selectors to scrape the rankings section\n",
    "rank_data_html <- html_nodes(webpage,'.text-primary')"
   ]
  },
  {
   "cell_type": "markdown",
   "metadata": {},
   "source": [
    "Next, we will use `html_text` to extract attributes, text and tag name from html.\n",
    "\n",
    "<br>\n",
    "<div class=\"use_editor\"></div>"
   ]
  },
  {
   "cell_type": "code",
   "execution_count": 153,
   "metadata": {},
   "outputs": [],
   "source": [
    "#Converting the ranking data to text\n",
    "rank_data <- html_text(rank_data_html)"
   ]
  },
  {
   "cell_type": "markdown",
   "metadata": {},
   "source": [
    "Now let's see if it pulled out the rankings.\n",
    "\n",
    "<br>\n",
    "<div class=\"use_console\"></div>"
   ]
  },
  {
   "cell_type": "code",
   "execution_count": 154,
   "metadata": {},
   "outputs": [
    {
     "data": {
      "text/html": [
       "<style>\n",
       ".list-inline {list-style: none; margin:0; padding: 0}\n",
       ".list-inline>li {display: inline-block}\n",
       ".list-inline>li:not(:last-child)::after {content: \"\\00b7\"; padding: 0 .5ex}\n",
       "</style>\n",
       "<ol class=list-inline><li>'1.'</li><li>'2.'</li><li>'3.'</li><li>'4.'</li><li>'5.'</li><li>'6.'</li></ol>\n"
      ],
      "text/latex": [
       "\\begin{enumerate*}\n",
       "\\item '1.'\n",
       "\\item '2.'\n",
       "\\item '3.'\n",
       "\\item '4.'\n",
       "\\item '5.'\n",
       "\\item '6.'\n",
       "\\end{enumerate*}\n"
      ],
      "text/markdown": [
       "1. '1.'\n",
       "2. '2.'\n",
       "3. '3.'\n",
       "4. '4.'\n",
       "5. '5.'\n",
       "6. '6.'\n",
       "\n",
       "\n"
      ],
      "text/plain": [
       "[1] \"1.\" \"2.\" \"3.\" \"4.\" \"5.\" \"6.\""
      ]
     },
     "metadata": {},
     "output_type": "display_data"
    }
   ],
   "source": [
    "head(rank_data)"
   ]
  },
  {
   "cell_type": "markdown",
   "metadata": {},
   "source": [
    "Once you have the data, make sure that it looks in the desired format. In our case, we would convert the text to numeric.\n",
    "\n",
    "<br>\n",
    "<div class=\"use_editor\"></div>"
   ]
  },
  {
   "cell_type": "code",
   "execution_count": 155,
   "metadata": {},
   "outputs": [],
   "source": [
    "rank_data <- as.numeric(rank_data)"
   ]
  },
  {
   "cell_type": "markdown",
   "metadata": {},
   "source": [
    "Now we can select all the titles. You can visually inspect that all the titles are selected.\n",
    "\n",
    "<img src=\"imdbtitle.png\">"
   ]
  },
  {
   "cell_type": "markdown",
   "metadata": {},
   "source": [
    "### Title\n",
    "\n",
    "Let's scrape all the titles using the `lister-item-header a` CSS tag.\n",
    "\n",
    "<br>\n",
    "<div class=\"use_editor\"></div>"
   ]
  },
  {
   "cell_type": "code",
   "execution_count": 156,
   "metadata": {},
   "outputs": [],
   "source": [
    "title_data_html <- html_nodes(webpage,'.lister-item-header a')\n",
    "\n",
    "#Converting the title data to text\n",
    "title_data <- html_text(title_data_html)"
   ]
  },
  {
   "cell_type": "markdown",
   "metadata": {},
   "source": [
    "Let's have a look at the first 6 titles.\n",
    "\n",
    "<br>\n",
    "<div class=\"use_console\"></div>"
   ]
  },
  {
   "cell_type": "code",
   "execution_count": 157,
   "metadata": {},
   "outputs": [
    {
     "data": {
      "text/html": [
       "<style>\n",
       ".list-inline {list-style: none; margin:0; padding: 0}\n",
       ".list-inline>li {display: inline-block}\n",
       ".list-inline>li:not(:last-child)::after {content: \"\\00b7\"; padding: 0 .5ex}\n",
       "</style>\n",
       "<ol class=list-inline><li>'Avengers: Endgame'</li><li>'Captain Marvel'</li><li>'Sound of Metal'</li><li>'Parasite'</li><li>'Once Upon a Time... In Hollywood'</li><li>'Knives Out'</li></ol>\n"
      ],
      "text/latex": [
       "\\begin{enumerate*}\n",
       "\\item 'Avengers: Endgame'\n",
       "\\item 'Captain Marvel'\n",
       "\\item 'Sound of Metal'\n",
       "\\item 'Parasite'\n",
       "\\item 'Once Upon a Time... In Hollywood'\n",
       "\\item 'Knives Out'\n",
       "\\end{enumerate*}\n"
      ],
      "text/markdown": [
       "1. 'Avengers: Endgame'\n",
       "2. 'Captain Marvel'\n",
       "3. 'Sound of Metal'\n",
       "4. 'Parasite'\n",
       "5. 'Once Upon a Time... In Hollywood'\n",
       "6. 'Knives Out'\n",
       "\n",
       "\n"
      ],
      "text/plain": [
       "[1] \"Avengers: Endgame\"                \"Captain Marvel\"                  \n",
       "[3] \"Sound of Metal\"                   \"Parasite\"                        \n",
       "[5] \"Once Upon a Time... In Hollywood\" \"Knives Out\"                      "
      ]
     },
     "metadata": {},
     "output_type": "display_data"
    }
   ],
   "source": [
    "head(title_data)"
   ]
  },
  {
   "cell_type": "markdown",
   "metadata": {},
   "source": [
    "In the following code, we will do the same thing for scraping Description, Runtime, Genre, Rating, Metascore, Votes, Gross_Earning_in_Mil , Director and Actor data.\n",
    "\n",
    "<span class=\"important\"></span> Notice the web scrapping code is relatively similar acorss the criteria but CSS tags are different.\n",
    " \n",
    "### Description\n",
    "\n",
    "<br>\n",
    "Let's scrape film Description data from the webpage.\n",
    "\n",
    "<br>\n",
    "<div class=\"use_editor\"></div>"
   ]
  },
  {
   "cell_type": "code",
   "execution_count": 158,
   "metadata": {},
   "outputs": [
    {
     "data": {
      "text/html": [
       "<style>\n",
       ".list-inline {list-style: none; margin:0; padding: 0}\n",
       ".list-inline>li {display: inline-block}\n",
       ".list-inline>li:not(:last-child)::after {content: \"\\00b7\"; padding: 0 .5ex}\n",
       "</style>\n",
       "<ol class=list-inline><li><span style=white-space:pre-wrap>'\\n    After the devastating events of Avengers: Infinity War (2018), the universe is in ruins. With the help of remaining allies, the Avengers assemble once more in order to reverse Thanos\\' actions and restore balance to the universe.'</span></li><li><span style=white-space:pre-wrap>'\\n    Carol Danvers becomes one of the universe\\'s most powerful heroes when Earth is caught in the middle of a galactic war between two alien races.'</span></li><li><span style=white-space:pre-wrap>'\\n    A heavy-metal drummer\\'s life is thrown into freefall when he begins to lose his hearing.'</span></li><li><span style=white-space:pre-wrap>'\\n    Greed and class discrimination threaten the newly formed symbiotic relationship between the wealthy Park family and the destitute Kim clan.'</span></li><li><span style=white-space:pre-wrap>'\\n    A faded television actor and his stunt double strive to achieve fame and success in the final years of Hollywood\\'s Golden Age in 1969 Los Angeles.'</span></li><li><span style=white-space:pre-wrap>'\\n    A detective investigates the death of a patriarch of an eccentric, combative family.'</span></li></ol>\n"
      ],
      "text/latex": [
       "\\begin{enumerate*}\n",
       "\\item '\\textbackslash{}n    After the devastating events of Avengers: Infinity War (2018), the universe is in ruins. With the help of remaining allies, the Avengers assemble once more in order to reverse Thanos\\textbackslash{}' actions and restore balance to the universe.'\n",
       "\\item '\\textbackslash{}n    Carol Danvers becomes one of the universe\\textbackslash{}'s most powerful heroes when Earth is caught in the middle of a galactic war between two alien races.'\n",
       "\\item '\\textbackslash{}n    A heavy-metal drummer\\textbackslash{}'s life is thrown into freefall when he begins to lose his hearing.'\n",
       "\\item '\\textbackslash{}n    Greed and class discrimination threaten the newly formed symbiotic relationship between the wealthy Park family and the destitute Kim clan.'\n",
       "\\item '\\textbackslash{}n    A faded television actor and his stunt double strive to achieve fame and success in the final years of Hollywood\\textbackslash{}'s Golden Age in 1969 Los Angeles.'\n",
       "\\item '\\textbackslash{}n    A detective investigates the death of a patriarch of an eccentric, combative family.'\n",
       "\\end{enumerate*}\n"
      ],
      "text/markdown": [
       "1. <span style=white-space:pre-wrap>'\\n    After the devastating events of Avengers: Infinity War (2018), the universe is in ruins. With the help of remaining allies, the Avengers assemble once more in order to reverse Thanos\\' actions and restore balance to the universe.'</span>\n",
       "2. <span style=white-space:pre-wrap>'\\n    Carol Danvers becomes one of the universe\\'s most powerful heroes when Earth is caught in the middle of a galactic war between two alien races.'</span>\n",
       "3. <span style=white-space:pre-wrap>'\\n    A heavy-metal drummer\\'s life is thrown into freefall when he begins to lose his hearing.'</span>\n",
       "4. <span style=white-space:pre-wrap>'\\n    Greed and class discrimination threaten the newly formed symbiotic relationship between the wealthy Park family and the destitute Kim clan.'</span>\n",
       "5. <span style=white-space:pre-wrap>'\\n    A faded television actor and his stunt double strive to achieve fame and success in the final years of Hollywood\\'s Golden Age in 1969 Los Angeles.'</span>\n",
       "6. <span style=white-space:pre-wrap>'\\n    A detective investigates the death of a patriarch of an eccentric, combative family.'</span>\n",
       "\n",
       "\n"
      ],
      "text/plain": [
       "[1] \"\\n    After the devastating events of Avengers: Infinity War (2018), the universe is in ruins. With the help of remaining allies, the Avengers assemble once more in order to reverse Thanos' actions and restore balance to the universe.\"\n",
       "[2] \"\\n    Carol Danvers becomes one of the universe's most powerful heroes when Earth is caught in the middle of a galactic war between two alien races.\"                                                                                      \n",
       "[3] \"\\n    A heavy-metal drummer's life is thrown into freefall when he begins to lose his hearing.\"                                                                                                                                            \n",
       "[4] \"\\n    Greed and class discrimination threaten the newly formed symbiotic relationship between the wealthy Park family and the destitute Kim clan.\"                                                                                         \n",
       "[5] \"\\n    A faded television actor and his stunt double strive to achieve fame and success in the final years of Hollywood's Golden Age in 1969 Los Angeles.\"                                                                                  \n",
       "[6] \"\\n    A detective investigates the death of a patriarch of an eccentric, combative family.\"                                                                                                                                                "
      ]
     },
     "metadata": {},
     "output_type": "display_data"
    }
   ],
   "source": [
    "#Using CSS selectors to scrape the description section\n",
    "description_data_html <- html_nodes(webpage,'.ratings-bar+ .text-muted')\n",
    "\n",
    "#Converting the description data to text\n",
    "description_data <- html_text(description_data_html)\n",
    "\n",
    "description_data %>% \n",
    " head()"
   ]
  },
  {
   "cell_type": "markdown",
   "metadata": {},
   "source": [
    "Notice that each entry begins with \"\\n\". We will need to remove that using the `gsub` function.\n",
    "<br><br>\n",
    "<div class=\"use_editor\"></div>"
   ]
  },
  {
   "cell_type": "code",
   "execution_count": 159,
   "metadata": {},
   "outputs": [
    {
     "data": {
      "text/html": [
       "<style>\n",
       ".list-inline {list-style: none; margin:0; padding: 0}\n",
       ".list-inline>li {display: inline-block}\n",
       ".list-inline>li:not(:last-child)::after {content: \"\\00b7\"; padding: 0 .5ex}\n",
       "</style>\n",
       "<ol class=list-inline><li><span style=white-space:pre-wrap>'    After the devastating events of Avengers: Infinity War (2018), the universe is in ruins. With the help of remaining allies, the Avengers assemble once more in order to reverse Thanos\\' actions and restore balance to the universe.'</span></li><li><span style=white-space:pre-wrap>'    Carol Danvers becomes one of the universe\\'s most powerful heroes when Earth is caught in the middle of a galactic war between two alien races.'</span></li><li><span style=white-space:pre-wrap>'    A heavy-metal drummer\\'s life is thrown into freefall when he begins to lose his hearing.'</span></li><li><span style=white-space:pre-wrap>'    Greed and class discrimination threaten the newly formed symbiotic relationship between the wealthy Park family and the destitute Kim clan.'</span></li><li><span style=white-space:pre-wrap>'    A faded television actor and his stunt double strive to achieve fame and success in the final years of Hollywood\\'s Golden Age in 1969 Los Angeles.'</span></li><li><span style=white-space:pre-wrap>'    A detective investigates the death of a patriarch of an eccentric, combative family.'</span></li></ol>\n"
      ],
      "text/latex": [
       "\\begin{enumerate*}\n",
       "\\item '    After the devastating events of Avengers: Infinity War (2018), the universe is in ruins. With the help of remaining allies, the Avengers assemble once more in order to reverse Thanos\\textbackslash{}' actions and restore balance to the universe.'\n",
       "\\item '    Carol Danvers becomes one of the universe\\textbackslash{}'s most powerful heroes when Earth is caught in the middle of a galactic war between two alien races.'\n",
       "\\item '    A heavy-metal drummer\\textbackslash{}'s life is thrown into freefall when he begins to lose his hearing.'\n",
       "\\item '    Greed and class discrimination threaten the newly formed symbiotic relationship between the wealthy Park family and the destitute Kim clan.'\n",
       "\\item '    A faded television actor and his stunt double strive to achieve fame and success in the final years of Hollywood\\textbackslash{}'s Golden Age in 1969 Los Angeles.'\n",
       "\\item '    A detective investigates the death of a patriarch of an eccentric, combative family.'\n",
       "\\end{enumerate*}\n"
      ],
      "text/markdown": [
       "1. <span style=white-space:pre-wrap>'    After the devastating events of Avengers: Infinity War (2018), the universe is in ruins. With the help of remaining allies, the Avengers assemble once more in order to reverse Thanos\\' actions and restore balance to the universe.'</span>\n",
       "2. <span style=white-space:pre-wrap>'    Carol Danvers becomes one of the universe\\'s most powerful heroes when Earth is caught in the middle of a galactic war between two alien races.'</span>\n",
       "3. <span style=white-space:pre-wrap>'    A heavy-metal drummer\\'s life is thrown into freefall when he begins to lose his hearing.'</span>\n",
       "4. <span style=white-space:pre-wrap>'    Greed and class discrimination threaten the newly formed symbiotic relationship between the wealthy Park family and the destitute Kim clan.'</span>\n",
       "5. <span style=white-space:pre-wrap>'    A faded television actor and his stunt double strive to achieve fame and success in the final years of Hollywood\\'s Golden Age in 1969 Los Angeles.'</span>\n",
       "6. <span style=white-space:pre-wrap>'    A detective investigates the death of a patriarch of an eccentric, combative family.'</span>\n",
       "\n",
       "\n"
      ],
      "text/plain": [
       "[1] \"    After the devastating events of Avengers: Infinity War (2018), the universe is in ruins. With the help of remaining allies, the Avengers assemble once more in order to reverse Thanos' actions and restore balance to the universe.\"\n",
       "[2] \"    Carol Danvers becomes one of the universe's most powerful heroes when Earth is caught in the middle of a galactic war between two alien races.\"                                                                                      \n",
       "[3] \"    A heavy-metal drummer's life is thrown into freefall when he begins to lose his hearing.\"                                                                                                                                            \n",
       "[4] \"    Greed and class discrimination threaten the newly formed symbiotic relationship between the wealthy Park family and the destitute Kim clan.\"                                                                                         \n",
       "[5] \"    A faded television actor and his stunt double strive to achieve fame and success in the final years of Hollywood's Golden Age in 1969 Los Angeles.\"                                                                                  \n",
       "[6] \"    A detective investigates the death of a patriarch of an eccentric, combative family.\"                                                                                                                                                "
      ]
     },
     "metadata": {},
     "output_type": "display_data"
    }
   ],
   "source": [
    "#Removing '\\n'\n",
    "description_data <- gsub(\"\\n\",\"\",description_data)\n",
    "\n",
    "head(description_data)"
   ]
  },
  {
   "cell_type": "markdown",
   "metadata": {},
   "source": [
    "We will do similar things to the next set of data.\n",
    "\n",
    "### Runtime \n",
    "\n",
    "<br>\n",
    "Let's scrape the website data for Runtime.\n",
    "\n",
    "<br>\n",
    "<div class=\"use_editor\"></div>"
   ]
  },
  {
   "cell_type": "code",
   "execution_count": 160,
   "metadata": {},
   "outputs": [
    {
     "data": {
      "text/html": [
       "<style>\n",
       ".list-inline {list-style: none; margin:0; padding: 0}\n",
       ".list-inline>li {display: inline-block}\n",
       ".list-inline>li:not(:last-child)::after {content: \"\\00b7\"; padding: 0 .5ex}\n",
       "</style>\n",
       "<ol class=list-inline><li>'181 min'</li><li>'123 min'</li><li>'120 min'</li><li>'132 min'</li><li>'161 min'</li><li>'130 min'</li></ol>\n"
      ],
      "text/latex": [
       "\\begin{enumerate*}\n",
       "\\item '181 min'\n",
       "\\item '123 min'\n",
       "\\item '120 min'\n",
       "\\item '132 min'\n",
       "\\item '161 min'\n",
       "\\item '130 min'\n",
       "\\end{enumerate*}\n"
      ],
      "text/markdown": [
       "1. '181 min'\n",
       "2. '123 min'\n",
       "3. '120 min'\n",
       "4. '132 min'\n",
       "5. '161 min'\n",
       "6. '130 min'\n",
       "\n",
       "\n"
      ],
      "text/plain": [
       "[1] \"181 min\" \"123 min\" \"120 min\" \"132 min\" \"161 min\" \"130 min\""
      ]
     },
     "metadata": {},
     "output_type": "display_data"
    }
   ],
   "source": [
    "#Using CSS selectors to scrape the Movie runtime section\n",
    "runtime_data_html <- html_nodes(webpage,'.text-muted .runtime')\n",
    "\n",
    "#Converting the runtime data to text\n",
    "runtime_data <- html_text(runtime_data_html)\n",
    "\n",
    "head(runtime_data)"
   ]
  },
  {
   "cell_type": "markdown",
   "metadata": {},
   "source": [
    "To make it easier to deal with later, let's remove \"min\" and convert the data to numeric.\n",
    "\n",
    "<br>\n",
    "<div class=\"use_editor\"></div>"
   ]
  },
  {
   "cell_type": "code",
   "execution_count": 161,
   "metadata": {},
   "outputs": [
    {
     "data": {
      "text/html": [
       "<style>\n",
       ".list-inline {list-style: none; margin:0; padding: 0}\n",
       ".list-inline>li {display: inline-block}\n",
       ".list-inline>li:not(:last-child)::after {content: \"\\00b7\"; padding: 0 .5ex}\n",
       "</style>\n",
       "<ol class=list-inline><li>181</li><li>123</li><li>120</li><li>132</li><li>161</li><li>130</li></ol>\n"
      ],
      "text/latex": [
       "\\begin{enumerate*}\n",
       "\\item 181\n",
       "\\item 123\n",
       "\\item 120\n",
       "\\item 132\n",
       "\\item 161\n",
       "\\item 130\n",
       "\\end{enumerate*}\n"
      ],
      "text/markdown": [
       "1. 181\n",
       "2. 123\n",
       "3. 120\n",
       "4. 132\n",
       "5. 161\n",
       "6. 130\n",
       "\n",
       "\n"
      ],
      "text/plain": [
       "[1] 181 123 120 132 161 130"
      ]
     },
     "metadata": {},
     "output_type": "display_data"
    }
   ],
   "source": [
    "#Removing mins and converting it to numerical\n",
    "\n",
    "runtime_data <- gsub(\" min\",\"\",runtime_data)\n",
    "runtime_data <- as.numeric(runtime_data)\n",
    "\n",
    "head(runtime_data)"
   ]
  },
  {
   "cell_type": "markdown",
   "metadata": {},
   "source": [
    "### Genre \n",
    "\n",
    "<br>\n",
    "Let's scrape the website data for Genre.\n",
    "\n",
    "<br>\n",
    "<div class=\"use_editor\"></div>"
   ]
  },
  {
   "cell_type": "code",
   "execution_count": 162,
   "metadata": {},
   "outputs": [
    {
     "data": {
      "text/html": [
       "<style>\n",
       ".list-inline {list-style: none; margin:0; padding: 0}\n",
       ".list-inline>li {display: inline-block}\n",
       ".list-inline>li:not(:last-child)::after {content: \"\\00b7\"; padding: 0 .5ex}\n",
       "</style>\n",
       "<ol class=list-inline><li><span style=white-space:pre-wrap>'\\nAction, Adventure, Drama            '</span></li><li><span style=white-space:pre-wrap>'\\nAction, Adventure, Sci-Fi            '</span></li><li><span style=white-space:pre-wrap>'\\nDrama, Music            '</span></li><li><span style=white-space:pre-wrap>'\\nComedy, Drama, Thriller            '</span></li><li><span style=white-space:pre-wrap>'\\nComedy, Drama            '</span></li><li><span style=white-space:pre-wrap>'\\nComedy, Crime, Drama            '</span></li></ol>\n"
      ],
      "text/latex": [
       "\\begin{enumerate*}\n",
       "\\item '\\textbackslash{}nAction, Adventure, Drama            '\n",
       "\\item '\\textbackslash{}nAction, Adventure, Sci-Fi            '\n",
       "\\item '\\textbackslash{}nDrama, Music            '\n",
       "\\item '\\textbackslash{}nComedy, Drama, Thriller            '\n",
       "\\item '\\textbackslash{}nComedy, Drama            '\n",
       "\\item '\\textbackslash{}nComedy, Crime, Drama            '\n",
       "\\end{enumerate*}\n"
      ],
      "text/markdown": [
       "1. <span style=white-space:pre-wrap>'\\nAction, Adventure, Drama            '</span>\n",
       "2. <span style=white-space:pre-wrap>'\\nAction, Adventure, Sci-Fi            '</span>\n",
       "3. <span style=white-space:pre-wrap>'\\nDrama, Music            '</span>\n",
       "4. <span style=white-space:pre-wrap>'\\nComedy, Drama, Thriller            '</span>\n",
       "5. <span style=white-space:pre-wrap>'\\nComedy, Drama            '</span>\n",
       "6. <span style=white-space:pre-wrap>'\\nComedy, Crime, Drama            '</span>\n",
       "\n",
       "\n"
      ],
      "text/plain": [
       "[1] \"\\nAction, Adventure, Drama            \" \n",
       "[2] \"\\nAction, Adventure, Sci-Fi            \"\n",
       "[3] \"\\nDrama, Music            \"             \n",
       "[4] \"\\nComedy, Drama, Thriller            \"  \n",
       "[5] \"\\nComedy, Drama            \"            \n",
       "[6] \"\\nComedy, Crime, Drama            \"     "
      ]
     },
     "metadata": {},
     "output_type": "display_data"
    }
   ],
   "source": [
    "#Using CSS selectors to scrape the Movie genre section\n",
    "genre_data_html <- html_nodes(webpage,'.genre')\n",
    "\n",
    "#Converting the genre data to text\n",
    "genre_data <- html_text(genre_data_html)\n",
    "\n",
    "head(genre_data)"
   ]
  },
  {
   "cell_type": "markdown",
   "metadata": {},
   "source": [
    "Notice we have \"\\n\" and excess spaces. let's remove that to celan up the data.\n",
    "\n",
    "<br>\n",
    "<div class=\"use_editor\"></div>"
   ]
  },
  {
   "cell_type": "code",
   "execution_count": 163,
   "metadata": {},
   "outputs": [
    {
     "data": {
      "text/html": [
       "<style>\n",
       ".list-inline {list-style: none; margin:0; padding: 0}\n",
       ".list-inline>li {display: inline-block}\n",
       ".list-inline>li:not(:last-child)::after {content: \"\\00b7\"; padding: 0 .5ex}\n",
       "</style>\n",
       "<ol class=list-inline><li>'Action,Adventure,Drama'</li><li>'Action,Adventure,Sci-Fi'</li><li>'Drama,Music'</li><li>'Comedy,Drama,Thriller'</li><li>'Comedy,Drama'</li><li>'Comedy,Crime,Drama'</li></ol>\n"
      ],
      "text/latex": [
       "\\begin{enumerate*}\n",
       "\\item 'Action,Adventure,Drama'\n",
       "\\item 'Action,Adventure,Sci-Fi'\n",
       "\\item 'Drama,Music'\n",
       "\\item 'Comedy,Drama,Thriller'\n",
       "\\item 'Comedy,Drama'\n",
       "\\item 'Comedy,Crime,Drama'\n",
       "\\end{enumerate*}\n"
      ],
      "text/markdown": [
       "1. 'Action,Adventure,Drama'\n",
       "2. 'Action,Adventure,Sci-Fi'\n",
       "3. 'Drama,Music'\n",
       "4. 'Comedy,Drama,Thriller'\n",
       "5. 'Comedy,Drama'\n",
       "6. 'Comedy,Crime,Drama'\n",
       "\n",
       "\n"
      ],
      "text/plain": [
       "[1] \"Action,Adventure,Drama\"  \"Action,Adventure,Sci-Fi\"\n",
       "[3] \"Drama,Music\"             \"Comedy,Drama,Thriller\"  \n",
       "[5] \"Comedy,Drama\"            \"Comedy,Crime,Drama\"     "
      ]
     },
     "metadata": {},
     "output_type": "display_data"
    }
   ],
   "source": [
    "#Removing \\n\n",
    "genre_data <- gsub(\"\\n\",\"\",genre_data)\n",
    "\n",
    "#Removing excess spaces\n",
    "genre_data <- gsub(\" \",\"\",genre_data)\n",
    "\n",
    "head(genre_data)"
   ]
  },
  {
   "cell_type": "markdown",
   "metadata": {},
   "source": [
    "Now let's only take the first genre of each movie and convert the data from characters to factors.\n",
    "\n",
    "<br>\n",
    "<div class=\"use_editor\"></div>"
   ]
  },
  {
   "cell_type": "code",
   "execution_count": 164,
   "metadata": {},
   "outputs": [
    {
     "data": {
      "text/html": [
       "<style>\n",
       ".list-inline {list-style: none; margin:0; padding: 0}\n",
       ".list-inline>li {display: inline-block}\n",
       ".list-inline>li:not(:last-child)::after {content: \"\\00b7\"; padding: 0 .5ex}\n",
       "</style>\n",
       "<ol class=list-inline><li>Action</li><li>Action</li><li>Drama</li><li>Comedy</li><li>Comedy</li><li>Comedy</li></ol>\n",
       "\n",
       "<details>\n",
       "\t<summary style=display:list-item;cursor:pointer>\n",
       "\t\t<strong>Levels</strong>:\n",
       "\t</summary>\n",
       "\t<style>\n",
       "\t.list-inline {list-style: none; margin:0; padding: 0}\n",
       "\t.list-inline>li {display: inline-block}\n",
       "\t.list-inline>li:not(:last-child)::after {content: \"\\00b7\"; padding: 0 .5ex}\n",
       "\t</style>\n",
       "\t<ol class=list-inline><li>'Action'</li><li>'Adventure'</li><li>'Animation'</li><li>'Biography'</li><li>'Comedy'</li><li>'Crime'</li><li>'Drama'</li><li>'Fantasy'</li><li>'Horror'</li><li>'Mystery'</li></ol>\n",
       "</details>"
      ],
      "text/latex": [
       "\\begin{enumerate*}\n",
       "\\item Action\n",
       "\\item Action\n",
       "\\item Drama\n",
       "\\item Comedy\n",
       "\\item Comedy\n",
       "\\item Comedy\n",
       "\\end{enumerate*}\n",
       "\n",
       "\\emph{Levels}: \\begin{enumerate*}\n",
       "\\item 'Action'\n",
       "\\item 'Adventure'\n",
       "\\item 'Animation'\n",
       "\\item 'Biography'\n",
       "\\item 'Comedy'\n",
       "\\item 'Crime'\n",
       "\\item 'Drama'\n",
       "\\item 'Fantasy'\n",
       "\\item 'Horror'\n",
       "\\item 'Mystery'\n",
       "\\end{enumerate*}\n"
      ],
      "text/markdown": [
       "1. Action\n",
       "2. Action\n",
       "3. Drama\n",
       "4. Comedy\n",
       "5. Comedy\n",
       "6. Comedy\n",
       "\n",
       "\n",
       "\n",
       "**Levels**: 1. 'Action'\n",
       "2. 'Adventure'\n",
       "3. 'Animation'\n",
       "4. 'Biography'\n",
       "5. 'Comedy'\n",
       "6. 'Crime'\n",
       "7. 'Drama'\n",
       "8. 'Fantasy'\n",
       "9. 'Horror'\n",
       "10. 'Mystery'\n",
       "\n",
       "\n"
      ],
      "text/plain": [
       "[1] Action Action Drama  Comedy Comedy Comedy\n",
       "10 Levels: Action Adventure Animation Biography Comedy Crime Drama ... Mystery"
      ]
     },
     "metadata": {},
     "output_type": "display_data"
    }
   ],
   "source": [
    "#taking only the first genre of each movie\n",
    "genre_data <- gsub(\",.*\",\"\",genre_data)\n",
    "\n",
    "#Convering each genre from text to factor\n",
    "genre_data <- as.factor(genre_data)\n",
    "\n",
    "head(genre_data)"
   ]
  },
  {
   "cell_type": "markdown",
   "metadata": {},
   "source": [
    "### Rating\n",
    "\n",
    "<br>\n",
    "Let's scrape the website data for Rating.\n",
    "\n",
    "<br>\n",
    "<div class=\"use_editor\"></div>"
   ]
  },
  {
   "cell_type": "code",
   "execution_count": 165,
   "metadata": {},
   "outputs": [
    {
     "name": "stdout",
     "output_type": "stream",
     "text": [
      " chr [1:100] \"8.4\" \"6.9\" \"7.8\" \"8.6\" \"7.6\" \"7.9\" \"7.8\" \"8.4\" \"7.1\" \"8.3\" ...\n"
     ]
    }
   ],
   "source": [
    "#Using CSS selectors to scrape the IMDB rating section\n",
    "rating_data_html <- html_nodes(webpage,'.ratings-imdb-rating strong')\n",
    "\n",
    "#Converting the ratings data to text\n",
    "rating_data <- html_text(rating_data_html)\n",
    "\n",
    "str(rating_data)"
   ]
  },
  {
   "cell_type": "markdown",
   "metadata": {},
   "source": [
    "Notice that rating data is saved as characters (Because that's what html_text does!). Let's change it to numeric data.\n",
    "\n",
    "<br>\n",
    "<div class=\"use_editor\"></div>"
   ]
  },
  {
   "cell_type": "code",
   "execution_count": 166,
   "metadata": {},
   "outputs": [
    {
     "data": {
      "text/html": [
       "<style>\n",
       ".list-inline {list-style: none; margin:0; padding: 0}\n",
       ".list-inline>li {display: inline-block}\n",
       ".list-inline>li:not(:last-child)::after {content: \"\\00b7\"; padding: 0 .5ex}\n",
       "</style>\n",
       "<ol class=list-inline><li>8.4</li><li>6.9</li><li>7.8</li><li>8.6</li><li>7.6</li><li>7.9</li></ol>\n"
      ],
      "text/latex": [
       "\\begin{enumerate*}\n",
       "\\item 8.4\n",
       "\\item 6.9\n",
       "\\item 7.8\n",
       "\\item 8.6\n",
       "\\item 7.6\n",
       "\\item 7.9\n",
       "\\end{enumerate*}\n"
      ],
      "text/markdown": [
       "1. 8.4\n",
       "2. 6.9\n",
       "3. 7.8\n",
       "4. 8.6\n",
       "5. 7.6\n",
       "6. 7.9\n",
       "\n",
       "\n"
      ],
      "text/plain": [
       "[1] 8.4 6.9 7.8 8.6 7.6 7.9"
      ]
     },
     "metadata": {},
     "output_type": "display_data"
    }
   ],
   "source": [
    "#Converting ratings to numeric\n",
    "rating_data <- as.numeric(rating_data)\n",
    "\n",
    "head(rating_data)"
   ]
  },
  {
   "cell_type": "markdown",
   "metadata": {},
   "source": [
    "### Votes\n",
    "\n",
    "<br>\n",
    "Let's scrape the website data for Votes. We will apply similar processes as above. First we'll read in the data, remove extra characters then convert it to numeric.\n",
    "\n",
    "<br>\n",
    "<div class=\"use_editor\"></div>"
   ]
  },
  {
   "cell_type": "code",
   "execution_count": 167,
   "metadata": {},
   "outputs": [
    {
     "data": {
      "text/html": [
       "<style>\n",
       ".list-inline {list-style: none; margin:0; padding: 0}\n",
       ".list-inline>li {display: inline-block}\n",
       ".list-inline>li:not(:last-child)::after {content: \"\\00b7\"; padding: 0 .5ex}\n",
       "</style>\n",
       "<ol class=list-inline><li>825771</li><li>451581</li><li>36445</li><li>569876</li><li>561190</li><li>466860</li></ol>\n"
      ],
      "text/latex": [
       "\\begin{enumerate*}\n",
       "\\item 825771\n",
       "\\item 451581\n",
       "\\item 36445\n",
       "\\item 569876\n",
       "\\item 561190\n",
       "\\item 466860\n",
       "\\end{enumerate*}\n"
      ],
      "text/markdown": [
       "1. 825771\n",
       "2. 451581\n",
       "3. 36445\n",
       "4. 569876\n",
       "5. 561190\n",
       "6. 466860\n",
       "\n",
       "\n"
      ],
      "text/plain": [
       "[1] 825771 451581  36445 569876 561190 466860"
      ]
     },
     "metadata": {},
     "output_type": "display_data"
    }
   ],
   "source": [
    "#Using CSS selectors to scrape the votes section\n",
    "votes_data_html <- html_nodes(webpage,'.sort-num_votes-visible span:nth-child(2)')\n",
    "\n",
    "#Converting the votes data to text\n",
    "votes_data <- html_text(votes_data_html)\n",
    "\n",
    "#Removing commas\n",
    "votes_data <- gsub(\",\",\"\",votes_data)\n",
    "\n",
    "#Converting votes to numerical\n",
    "votes_data <- as.numeric(votes_data)\n",
    "\n",
    "head(votes_data)"
   ]
  },
  {
   "cell_type": "markdown",
   "metadata": {},
   "source": [
    "### Director\n",
    "\n",
    "<br>\n",
    "Let's scrape the website data for data on Directors. First we'll read in the data then convert it from characters to factors.\n",
    "\n",
    "<br>\n",
    "<div class=\"use_editor\"></div>"
   ]
  },
  {
   "cell_type": "code",
   "execution_count": 168,
   "metadata": {},
   "outputs": [
    {
     "data": {
      "text/html": [
       "<style>\n",
       ".list-inline {list-style: none; margin:0; padding: 0}\n",
       ".list-inline>li {display: inline-block}\n",
       ".list-inline>li:not(:last-child)::after {content: \"\\00b7\"; padding: 0 .5ex}\n",
       "</style>\n",
       "<ol class=list-inline><li>Anthony Russo</li><li>Anna Boden</li><li>Darius Marder</li><li>Bong Joon Ho</li><li>Quentin Tarantino</li><li>Rian Johnson</li></ol>\n",
       "\n",
       "<details>\n",
       "\t<summary style=display:list-item;cursor:pointer>\n",
       "\t\t<strong>Levels</strong>:\n",
       "\t</summary>\n",
       "\t<style>\n",
       "\t.list-inline {list-style: none; margin:0; padding: 0}\n",
       "\t.list-inline>li {display: inline-block}\n",
       "\t.list-inline>li:not(:last-child)::after {content: \"\\00b7\"; padding: 0 .5ex}\n",
       "\t</style>\n",
       "\t<ol class=list-inline><li>'Adam Randall'</li><li>'Adam Robitel'</li><li>'Adam Shankman'</li><li>'Andrea Di Stefano'</li><li>'Andy Muschietti'</li><li>'Ang Lee'</li><li>'Anna Boden'</li><li>'Anthony Russo'</li><li>'Ari Aster'</li><li>'Benny Safdie'</li><li>'Bong Joon Ho'</li><li>'Brad Anderson'</li><li>'Brian Kirk'</li><li>'Céline Sciamma'</li><li>'Chad Stahelski'</li><li>'Chris Buck'</li><li>'Clint Eastwood'</li><li>'Dan Friedkin'</li><li>'Danny Boyle'</li><li>'Darius Marder'</li><li>'David F. Sandberg'</li><li>'David Leitch'</li><li>'David Michôd'</li><li>'Destin Daniel Cretton'</li><li>'Dexter Fletcher'</li><li>'Drake Doremus'</li><li>'Edward Norton'</li><li>'Elizabeth Banks'</li><li>'F. Gary Gray'</li><li>'Farhad Safinia'</li><li>'Fatih Akin'</li><li>'Gabriela Cowperthwaite'</li><li>'Galder Gaztelu-Urrutia'</li><li>'Greta Gerwig'</li><li>'Guy Ritchie'</li><li>'J.C. Chandor'</li><li>'J.J. Abrams'</li><li>'Jake Kasdan'</li><li>'James Gray'</li><li>'James Mangold'</li><li>'Jason Lei Howden'</li><li>'Jay Roach'</li><li>'Jeff Tremaine'</li><li>'Jenny Gage'</li><li>'Jim Jarmusch'</li><li>'Joe Berlinger'</li><li>'John Lee Hancock'</li><li>'Jon Favreau'</li><li>'Jon Watts'</li><li>'Jonas Åkerlund'</li><li>'Jordan Peele'</li><li>'Josh Cooley'</li><li>'Justin Baldoni'</li><li>'Justin Benson'</li><li>'Justin Kurzel'</li><li>'Keith Thomas'</li><li>'Keola Racela'</li><li>'Kitty Green'</li><li>'Lorcan Finnegan'</li><li>'Lorene Scafaria'</li><li>'Luc Besson'</li><li>'Lydia Dean Pilcher'</li><li>'M. Night Shyamalan'</li><li>'Marielle Heller'</li><li>'Marjane Satrapi'</li><li>'Martin Scorsese'</li><li>'Matt Bettinelli-Olpin'</li><li>'Melina Matsoukas'</li><li>'Michael Bay'</li><li>'Michael Dougherty'</li><li>'Michael Engler'</li><li>'Mike Flanagan'</li><li>'Neil Marshall'</li><li>'Noah Baumbach'</li><li>'Olivia Wilde'</li><li>'Quentin Tarantino'</li><li>'Rian Johnson'</li><li>'Ric Roman Waugh'</li><li>'Richard Stanley'</li><li>'Robert Eggers'</li><li>'Robert Rodriguez'</li><li>'Rod Lurie'</li><li>'Roland Emmerich'</li><li>'Rose Glass'</li><li>'Ruben Fleischer'</li><li>'Ryan Spindell'</li><li>'Sam Mendes'</li><li>'Severin Fiala'</li><li>'Simon Kinberg'</li><li>'Simon West'</li><li>'Taika Waititi'</li><li>'Tate Taylor'</li><li>'Tim Miller'</li><li>'Todd Haynes'</li><li>'Todd Phillips'</li><li>'Tom Hooper'</li><li>'Tyler Nilson'</li><li>'Vince Gilligan'</li><li>'Woody Allen'</li></ol>\n",
       "</details>"
      ],
      "text/latex": [
       "\\begin{enumerate*}\n",
       "\\item Anthony Russo\n",
       "\\item Anna Boden\n",
       "\\item Darius Marder\n",
       "\\item Bong Joon Ho\n",
       "\\item Quentin Tarantino\n",
       "\\item Rian Johnson\n",
       "\\end{enumerate*}\n",
       "\n",
       "\\emph{Levels}: \\begin{enumerate*}\n",
       "\\item 'Adam Randall'\n",
       "\\item 'Adam Robitel'\n",
       "\\item 'Adam Shankman'\n",
       "\\item 'Andrea Di Stefano'\n",
       "\\item 'Andy Muschietti'\n",
       "\\item 'Ang Lee'\n",
       "\\item 'Anna Boden'\n",
       "\\item 'Anthony Russo'\n",
       "\\item 'Ari Aster'\n",
       "\\item 'Benny Safdie'\n",
       "\\item 'Bong Joon Ho'\n",
       "\\item 'Brad Anderson'\n",
       "\\item 'Brian Kirk'\n",
       "\\item 'Céline Sciamma'\n",
       "\\item 'Chad Stahelski'\n",
       "\\item 'Chris Buck'\n",
       "\\item 'Clint Eastwood'\n",
       "\\item 'Dan Friedkin'\n",
       "\\item 'Danny Boyle'\n",
       "\\item 'Darius Marder'\n",
       "\\item 'David F. Sandberg'\n",
       "\\item 'David Leitch'\n",
       "\\item 'David Michôd'\n",
       "\\item 'Destin Daniel Cretton'\n",
       "\\item 'Dexter Fletcher'\n",
       "\\item 'Drake Doremus'\n",
       "\\item 'Edward Norton'\n",
       "\\item 'Elizabeth Banks'\n",
       "\\item 'F. Gary Gray'\n",
       "\\item 'Farhad Safinia'\n",
       "\\item 'Fatih Akin'\n",
       "\\item 'Gabriela Cowperthwaite'\n",
       "\\item 'Galder Gaztelu-Urrutia'\n",
       "\\item 'Greta Gerwig'\n",
       "\\item 'Guy Ritchie'\n",
       "\\item 'J.C. Chandor'\n",
       "\\item 'J.J. Abrams'\n",
       "\\item 'Jake Kasdan'\n",
       "\\item 'James Gray'\n",
       "\\item 'James Mangold'\n",
       "\\item 'Jason Lei Howden'\n",
       "\\item 'Jay Roach'\n",
       "\\item 'Jeff Tremaine'\n",
       "\\item 'Jenny Gage'\n",
       "\\item 'Jim Jarmusch'\n",
       "\\item 'Joe Berlinger'\n",
       "\\item 'John Lee Hancock'\n",
       "\\item 'Jon Favreau'\n",
       "\\item 'Jon Watts'\n",
       "\\item 'Jonas Åkerlund'\n",
       "\\item 'Jordan Peele'\n",
       "\\item 'Josh Cooley'\n",
       "\\item 'Justin Baldoni'\n",
       "\\item 'Justin Benson'\n",
       "\\item 'Justin Kurzel'\n",
       "\\item 'Keith Thomas'\n",
       "\\item 'Keola Racela'\n",
       "\\item 'Kitty Green'\n",
       "\\item 'Lorcan Finnegan'\n",
       "\\item 'Lorene Scafaria'\n",
       "\\item 'Luc Besson'\n",
       "\\item 'Lydia Dean Pilcher'\n",
       "\\item 'M. Night Shyamalan'\n",
       "\\item 'Marielle Heller'\n",
       "\\item 'Marjane Satrapi'\n",
       "\\item 'Martin Scorsese'\n",
       "\\item 'Matt Bettinelli-Olpin'\n",
       "\\item 'Melina Matsoukas'\n",
       "\\item 'Michael Bay'\n",
       "\\item 'Michael Dougherty'\n",
       "\\item 'Michael Engler'\n",
       "\\item 'Mike Flanagan'\n",
       "\\item 'Neil Marshall'\n",
       "\\item 'Noah Baumbach'\n",
       "\\item 'Olivia Wilde'\n",
       "\\item 'Quentin Tarantino'\n",
       "\\item 'Rian Johnson'\n",
       "\\item 'Ric Roman Waugh'\n",
       "\\item 'Richard Stanley'\n",
       "\\item 'Robert Eggers'\n",
       "\\item 'Robert Rodriguez'\n",
       "\\item 'Rod Lurie'\n",
       "\\item 'Roland Emmerich'\n",
       "\\item 'Rose Glass'\n",
       "\\item 'Ruben Fleischer'\n",
       "\\item 'Ryan Spindell'\n",
       "\\item 'Sam Mendes'\n",
       "\\item 'Severin Fiala'\n",
       "\\item 'Simon Kinberg'\n",
       "\\item 'Simon West'\n",
       "\\item 'Taika Waititi'\n",
       "\\item 'Tate Taylor'\n",
       "\\item 'Tim Miller'\n",
       "\\item 'Todd Haynes'\n",
       "\\item 'Todd Phillips'\n",
       "\\item 'Tom Hooper'\n",
       "\\item 'Tyler Nilson'\n",
       "\\item 'Vince Gilligan'\n",
       "\\item 'Woody Allen'\n",
       "\\end{enumerate*}\n"
      ],
      "text/markdown": [
       "1. Anthony Russo\n",
       "2. Anna Boden\n",
       "3. Darius Marder\n",
       "4. Bong Joon Ho\n",
       "5. Quentin Tarantino\n",
       "6. Rian Johnson\n",
       "\n",
       "\n",
       "\n",
       "**Levels**: 1. 'Adam Randall'\n",
       "2. 'Adam Robitel'\n",
       "3. 'Adam Shankman'\n",
       "4. 'Andrea Di Stefano'\n",
       "5. 'Andy Muschietti'\n",
       "6. 'Ang Lee'\n",
       "7. 'Anna Boden'\n",
       "8. 'Anthony Russo'\n",
       "9. 'Ari Aster'\n",
       "10. 'Benny Safdie'\n",
       "11. 'Bong Joon Ho'\n",
       "12. 'Brad Anderson'\n",
       "13. 'Brian Kirk'\n",
       "14. 'Céline Sciamma'\n",
       "15. 'Chad Stahelski'\n",
       "16. 'Chris Buck'\n",
       "17. 'Clint Eastwood'\n",
       "18. 'Dan Friedkin'\n",
       "19. 'Danny Boyle'\n",
       "20. 'Darius Marder'\n",
       "21. 'David F. Sandberg'\n",
       "22. 'David Leitch'\n",
       "23. 'David Michôd'\n",
       "24. 'Destin Daniel Cretton'\n",
       "25. 'Dexter Fletcher'\n",
       "26. 'Drake Doremus'\n",
       "27. 'Edward Norton'\n",
       "28. 'Elizabeth Banks'\n",
       "29. 'F. Gary Gray'\n",
       "30. 'Farhad Safinia'\n",
       "31. 'Fatih Akin'\n",
       "32. 'Gabriela Cowperthwaite'\n",
       "33. 'Galder Gaztelu-Urrutia'\n",
       "34. 'Greta Gerwig'\n",
       "35. 'Guy Ritchie'\n",
       "36. 'J.C. Chandor'\n",
       "37. 'J.J. Abrams'\n",
       "38. 'Jake Kasdan'\n",
       "39. 'James Gray'\n",
       "40. 'James Mangold'\n",
       "41. 'Jason Lei Howden'\n",
       "42. 'Jay Roach'\n",
       "43. 'Jeff Tremaine'\n",
       "44. 'Jenny Gage'\n",
       "45. 'Jim Jarmusch'\n",
       "46. 'Joe Berlinger'\n",
       "47. 'John Lee Hancock'\n",
       "48. 'Jon Favreau'\n",
       "49. 'Jon Watts'\n",
       "50. 'Jonas Åkerlund'\n",
       "51. 'Jordan Peele'\n",
       "52. 'Josh Cooley'\n",
       "53. 'Justin Baldoni'\n",
       "54. 'Justin Benson'\n",
       "55. 'Justin Kurzel'\n",
       "56. 'Keith Thomas'\n",
       "57. 'Keola Racela'\n",
       "58. 'Kitty Green'\n",
       "59. 'Lorcan Finnegan'\n",
       "60. 'Lorene Scafaria'\n",
       "61. 'Luc Besson'\n",
       "62. 'Lydia Dean Pilcher'\n",
       "63. 'M. Night Shyamalan'\n",
       "64. 'Marielle Heller'\n",
       "65. 'Marjane Satrapi'\n",
       "66. 'Martin Scorsese'\n",
       "67. 'Matt Bettinelli-Olpin'\n",
       "68. 'Melina Matsoukas'\n",
       "69. 'Michael Bay'\n",
       "70. 'Michael Dougherty'\n",
       "71. 'Michael Engler'\n",
       "72. 'Mike Flanagan'\n",
       "73. 'Neil Marshall'\n",
       "74. 'Noah Baumbach'\n",
       "75. 'Olivia Wilde'\n",
       "76. 'Quentin Tarantino'\n",
       "77. 'Rian Johnson'\n",
       "78. 'Ric Roman Waugh'\n",
       "79. 'Richard Stanley'\n",
       "80. 'Robert Eggers'\n",
       "81. 'Robert Rodriguez'\n",
       "82. 'Rod Lurie'\n",
       "83. 'Roland Emmerich'\n",
       "84. 'Rose Glass'\n",
       "85. 'Ruben Fleischer'\n",
       "86. 'Ryan Spindell'\n",
       "87. 'Sam Mendes'\n",
       "88. 'Severin Fiala'\n",
       "89. 'Simon Kinberg'\n",
       "90. 'Simon West'\n",
       "91. 'Taika Waititi'\n",
       "92. 'Tate Taylor'\n",
       "93. 'Tim Miller'\n",
       "94. 'Todd Haynes'\n",
       "95. 'Todd Phillips'\n",
       "96. 'Tom Hooper'\n",
       "97. 'Tyler Nilson'\n",
       "98. 'Vince Gilligan'\n",
       "99. 'Woody Allen'\n",
       "\n",
       "\n"
      ],
      "text/plain": [
       "[1] Anthony Russo     Anna Boden        Darius Marder     Bong Joon Ho     \n",
       "[5] Quentin Tarantino Rian Johnson     \n",
       "99 Levels: Adam Randall Adam Robitel Adam Shankman ... Woody Allen"
      ]
     },
     "metadata": {},
     "output_type": "display_data"
    }
   ],
   "source": [
    "#Using CSS selectors to scrape the directors section\n",
    "directors_data_html <- html_nodes(webpage,'.text-muted+ p a:nth-child(1)')\n",
    "\n",
    "#Converting the directors data to text\n",
    "directors_data <- html_text(directors_data_html)\n",
    "\n",
    "#Converting directors data into factors\n",
    "directors_data <- as.factor(directors_data)\n",
    "\n",
    "head(directors_data)\n"
   ]
  },
  {
   "cell_type": "markdown",
   "metadata": {},
   "source": [
    "### Actor \n",
    "\n",
    "<br>\n",
    "Let's scrape the website data for names of Actors. First we'll read in the data then convert it from characters to factors.\n",
    "\n",
    "<br>\n",
    "<div class=\"use_editor\"></div>"
   ]
  },
  {
   "cell_type": "code",
   "execution_count": 169,
   "metadata": {},
   "outputs": [
    {
     "data": {
      "text/html": [
       "<style>\n",
       ".list-inline {list-style: none; margin:0; padding: 0}\n",
       ".list-inline>li {display: inline-block}\n",
       ".list-inline>li:not(:last-child)::after {content: \"\\00b7\"; padding: 0 .5ex}\n",
       "</style>\n",
       "<ol class=list-inline><li>Robert Downey Jr.</li><li>Brie Larson</li><li>Riz Ahmed</li><li>Kang-ho Song</li><li>Leonardo DiCaprio</li><li>Daniel Craig</li></ol>\n",
       "\n",
       "<details>\n",
       "\t<summary style=display:list-item;cursor:pointer>\n",
       "\t\t<strong>Levels</strong>:\n",
       "\t</summary>\n",
       "\t<style>\n",
       "\t.list-inline {list-style: none; margin:0; padding: 0}\n",
       "\t.list-inline>li {display: inline-block}\n",
       "\t.list-inline>li:not(:last-child)::after {content: \"\\00b7\"; padding: 0 .5ex}\n",
       "\t</style>\n",
       "\t<ol class=list-inline><li>'Aaron Paul'</li><li>'Adam Driver'</li><li>'Adam Sandler'</li><li>'Anthony Mackie'</li><li>'Bee Rogers'</li><li>'Ben Affleck'</li><li>'Bill Murray'</li><li>'Brad Pitt'</li><li>'Brie Larson'</li><li>'Chadwick Boseman'</li><li>'Charlize Theron'</li><li>'Chris Hemsworth'</li><li>'Constance Wu'</li><li>'Daisy Ridley'</li><li>'Daniel Craig'</li><li>'Daniel Kaluuya'</li><li>'Daniel Radcliffe'</li><li>'Dave Davis'</li><li>'David Harbour'</li><li>'Dean-Charles Chapman'</li><li>'Donald Glover'</li><li>'Douglas Booth'</li><li>'Dwayne Johnson'</li><li>'Ed Skrein'</li><li>'Edward Norton'</li><li>'Evan Daves'</li><li>'Ewan McGregor'</li><li>'Florence Pugh'</li><li>'George MacKay'</li><li>'Gerard Butler'</li><li>'Guy Pearce'</li><li>'Haley Lu Richardson'</li><li>'Helen Hunt'</li><li>'Himesh Patel'</li><li>'Imogen Poots'</li><li>'Ivan Massagué'</li><li>'James Corden'</li><li>'James McAvoy'</li><li>'Jason Segel'</li><li>'Jessica Chastain'</li><li>'Joaquin Phoenix'</li><li>'Joel Kinnaman'</li><li>'Jonas Dassler'</li><li>'Josephine Langford'</li><li>'Julia Garner'</li><li>'Kaitlyn Dever'</li><li>'Kang-ho Song'</li><li>'Keanu Reeves'</li><li>'Kevin Costner'</li><li>'Kristen Bell'</li><li>'Kristen Stewart'</li><li>'Kyle Chandler'</li><li>'Leonardo DiCaprio'</li><li>'Lily Collins'</li><li>'Linda Hamilton'</li><li>'Lupita Nyong\\'o'</li><li>'Mads Mikkelsen'</li><li>'Mark Ruffalo'</li><li>'Matt Damon'</li><li>'Matthew McConaughey'</li><li>'Mel Gibson'</li><li>'Michael B. Jordan'</li><li>'Morfydd Clark'</li><li>'Nicolas Cage'</li><li>'Noémie Merlant'</li><li>'Octavia Spencer'</li><li>'Paul Walter Hauser'</li><li>'Riley Keough'</li><li>'Riz Ahmed'</li><li>'Robert De Niro'</li><li>'Robert Downey Jr.'</li><li>'Robert Pattinson'</li><li>'Roman Griffin Davis'</li><li>'Rosa Salazar'</li><li>'Rosamund Pike'</li><li>'Ryan Reynolds'</li><li>'Sam Worthington'</li><li>'Samara Weaving'</li><li>'Saoirse Ronan'</li><li>'Sarah Megan Thomas'</li><li>'Sasha Luss'</li><li>'Scott Eastwood'</li><li>'Shailene Woodley'</li><li>'Stephen Campbell Moore'</li><li>'Taraji P. Henson'</li><li>'Taron Egerton'</li><li>'Taylor Russell'</li><li>'Timothée Chalamet'</li><li>'Tom Glynn-Carney'</li><li>'Tom Hanks'</li><li>'Tom Holland'</li><li>'Tristan Byon'</li><li>'Will Smith'</li><li>'Woody Harrelson'</li><li>'Zachary Levi'</li><li>'Zack Gottsagen'</li></ol>\n",
       "</details>"
      ],
      "text/latex": [
       "\\begin{enumerate*}\n",
       "\\item Robert Downey Jr.\n",
       "\\item Brie Larson\n",
       "\\item Riz Ahmed\n",
       "\\item Kang-ho Song\n",
       "\\item Leonardo DiCaprio\n",
       "\\item Daniel Craig\n",
       "\\end{enumerate*}\n",
       "\n",
       "\\emph{Levels}: \\begin{enumerate*}\n",
       "\\item 'Aaron Paul'\n",
       "\\item 'Adam Driver'\n",
       "\\item 'Adam Sandler'\n",
       "\\item 'Anthony Mackie'\n",
       "\\item 'Bee Rogers'\n",
       "\\item 'Ben Affleck'\n",
       "\\item 'Bill Murray'\n",
       "\\item 'Brad Pitt'\n",
       "\\item 'Brie Larson'\n",
       "\\item 'Chadwick Boseman'\n",
       "\\item 'Charlize Theron'\n",
       "\\item 'Chris Hemsworth'\n",
       "\\item 'Constance Wu'\n",
       "\\item 'Daisy Ridley'\n",
       "\\item 'Daniel Craig'\n",
       "\\item 'Daniel Kaluuya'\n",
       "\\item 'Daniel Radcliffe'\n",
       "\\item 'Dave Davis'\n",
       "\\item 'David Harbour'\n",
       "\\item 'Dean-Charles Chapman'\n",
       "\\item 'Donald Glover'\n",
       "\\item 'Douglas Booth'\n",
       "\\item 'Dwayne Johnson'\n",
       "\\item 'Ed Skrein'\n",
       "\\item 'Edward Norton'\n",
       "\\item 'Evan Daves'\n",
       "\\item 'Ewan McGregor'\n",
       "\\item 'Florence Pugh'\n",
       "\\item 'George MacKay'\n",
       "\\item 'Gerard Butler'\n",
       "\\item 'Guy Pearce'\n",
       "\\item 'Haley Lu Richardson'\n",
       "\\item 'Helen Hunt'\n",
       "\\item 'Himesh Patel'\n",
       "\\item 'Imogen Poots'\n",
       "\\item 'Ivan Massagué'\n",
       "\\item 'James Corden'\n",
       "\\item 'James McAvoy'\n",
       "\\item 'Jason Segel'\n",
       "\\item 'Jessica Chastain'\n",
       "\\item 'Joaquin Phoenix'\n",
       "\\item 'Joel Kinnaman'\n",
       "\\item 'Jonas Dassler'\n",
       "\\item 'Josephine Langford'\n",
       "\\item 'Julia Garner'\n",
       "\\item 'Kaitlyn Dever'\n",
       "\\item 'Kang-ho Song'\n",
       "\\item 'Keanu Reeves'\n",
       "\\item 'Kevin Costner'\n",
       "\\item 'Kristen Bell'\n",
       "\\item 'Kristen Stewart'\n",
       "\\item 'Kyle Chandler'\n",
       "\\item 'Leonardo DiCaprio'\n",
       "\\item 'Lily Collins'\n",
       "\\item 'Linda Hamilton'\n",
       "\\item 'Lupita Nyong\\textbackslash{}'o'\n",
       "\\item 'Mads Mikkelsen'\n",
       "\\item 'Mark Ruffalo'\n",
       "\\item 'Matt Damon'\n",
       "\\item 'Matthew McConaughey'\n",
       "\\item 'Mel Gibson'\n",
       "\\item 'Michael B. Jordan'\n",
       "\\item 'Morfydd Clark'\n",
       "\\item 'Nicolas Cage'\n",
       "\\item 'Noémie Merlant'\n",
       "\\item 'Octavia Spencer'\n",
       "\\item 'Paul Walter Hauser'\n",
       "\\item 'Riley Keough'\n",
       "\\item 'Riz Ahmed'\n",
       "\\item 'Robert De Niro'\n",
       "\\item 'Robert Downey Jr.'\n",
       "\\item 'Robert Pattinson'\n",
       "\\item 'Roman Griffin Davis'\n",
       "\\item 'Rosa Salazar'\n",
       "\\item 'Rosamund Pike'\n",
       "\\item 'Ryan Reynolds'\n",
       "\\item 'Sam Worthington'\n",
       "\\item 'Samara Weaving'\n",
       "\\item 'Saoirse Ronan'\n",
       "\\item 'Sarah Megan Thomas'\n",
       "\\item 'Sasha Luss'\n",
       "\\item 'Scott Eastwood'\n",
       "\\item 'Shailene Woodley'\n",
       "\\item 'Stephen Campbell Moore'\n",
       "\\item 'Taraji P. Henson'\n",
       "\\item 'Taron Egerton'\n",
       "\\item 'Taylor Russell'\n",
       "\\item 'Timothée Chalamet'\n",
       "\\item 'Tom Glynn-Carney'\n",
       "\\item 'Tom Hanks'\n",
       "\\item 'Tom Holland'\n",
       "\\item 'Tristan Byon'\n",
       "\\item 'Will Smith'\n",
       "\\item 'Woody Harrelson'\n",
       "\\item 'Zachary Levi'\n",
       "\\item 'Zack Gottsagen'\n",
       "\\end{enumerate*}\n"
      ],
      "text/markdown": [
       "1. Robert Downey Jr.\n",
       "2. Brie Larson\n",
       "3. Riz Ahmed\n",
       "4. Kang-ho Song\n",
       "5. Leonardo DiCaprio\n",
       "6. Daniel Craig\n",
       "\n",
       "\n",
       "\n",
       "**Levels**: 1. 'Aaron Paul'\n",
       "2. 'Adam Driver'\n",
       "3. 'Adam Sandler'\n",
       "4. 'Anthony Mackie'\n",
       "5. 'Bee Rogers'\n",
       "6. 'Ben Affleck'\n",
       "7. 'Bill Murray'\n",
       "8. 'Brad Pitt'\n",
       "9. 'Brie Larson'\n",
       "10. 'Chadwick Boseman'\n",
       "11. 'Charlize Theron'\n",
       "12. 'Chris Hemsworth'\n",
       "13. 'Constance Wu'\n",
       "14. 'Daisy Ridley'\n",
       "15. 'Daniel Craig'\n",
       "16. 'Daniel Kaluuya'\n",
       "17. 'Daniel Radcliffe'\n",
       "18. 'Dave Davis'\n",
       "19. 'David Harbour'\n",
       "20. 'Dean-Charles Chapman'\n",
       "21. 'Donald Glover'\n",
       "22. 'Douglas Booth'\n",
       "23. 'Dwayne Johnson'\n",
       "24. 'Ed Skrein'\n",
       "25. 'Edward Norton'\n",
       "26. 'Evan Daves'\n",
       "27. 'Ewan McGregor'\n",
       "28. 'Florence Pugh'\n",
       "29. 'George MacKay'\n",
       "30. 'Gerard Butler'\n",
       "31. 'Guy Pearce'\n",
       "32. 'Haley Lu Richardson'\n",
       "33. 'Helen Hunt'\n",
       "34. 'Himesh Patel'\n",
       "35. 'Imogen Poots'\n",
       "36. 'Ivan Massagué'\n",
       "37. 'James Corden'\n",
       "38. 'James McAvoy'\n",
       "39. 'Jason Segel'\n",
       "40. 'Jessica Chastain'\n",
       "41. 'Joaquin Phoenix'\n",
       "42. 'Joel Kinnaman'\n",
       "43. 'Jonas Dassler'\n",
       "44. 'Josephine Langford'\n",
       "45. 'Julia Garner'\n",
       "46. 'Kaitlyn Dever'\n",
       "47. 'Kang-ho Song'\n",
       "48. 'Keanu Reeves'\n",
       "49. 'Kevin Costner'\n",
       "50. 'Kristen Bell'\n",
       "51. 'Kristen Stewart'\n",
       "52. 'Kyle Chandler'\n",
       "53. 'Leonardo DiCaprio'\n",
       "54. 'Lily Collins'\n",
       "55. 'Linda Hamilton'\n",
       "56. 'Lupita Nyong\\'o'\n",
       "57. 'Mads Mikkelsen'\n",
       "58. 'Mark Ruffalo'\n",
       "59. 'Matt Damon'\n",
       "60. 'Matthew McConaughey'\n",
       "61. 'Mel Gibson'\n",
       "62. 'Michael B. Jordan'\n",
       "63. 'Morfydd Clark'\n",
       "64. 'Nicolas Cage'\n",
       "65. 'Noémie Merlant'\n",
       "66. 'Octavia Spencer'\n",
       "67. 'Paul Walter Hauser'\n",
       "68. 'Riley Keough'\n",
       "69. 'Riz Ahmed'\n",
       "70. 'Robert De Niro'\n",
       "71. 'Robert Downey Jr.'\n",
       "72. 'Robert Pattinson'\n",
       "73. 'Roman Griffin Davis'\n",
       "74. 'Rosa Salazar'\n",
       "75. 'Rosamund Pike'\n",
       "76. 'Ryan Reynolds'\n",
       "77. 'Sam Worthington'\n",
       "78. 'Samara Weaving'\n",
       "79. 'Saoirse Ronan'\n",
       "80. 'Sarah Megan Thomas'\n",
       "81. 'Sasha Luss'\n",
       "82. 'Scott Eastwood'\n",
       "83. 'Shailene Woodley'\n",
       "84. 'Stephen Campbell Moore'\n",
       "85. 'Taraji P. Henson'\n",
       "86. 'Taron Egerton'\n",
       "87. 'Taylor Russell'\n",
       "88. 'Timothée Chalamet'\n",
       "89. 'Tom Glynn-Carney'\n",
       "90. 'Tom Hanks'\n",
       "91. 'Tom Holland'\n",
       "92. 'Tristan Byon'\n",
       "93. 'Will Smith'\n",
       "94. 'Woody Harrelson'\n",
       "95. 'Zachary Levi'\n",
       "96. 'Zack Gottsagen'\n",
       "\n",
       "\n"
      ],
      "text/plain": [
       "[1] Robert Downey Jr. Brie Larson       Riz Ahmed         Kang-ho Song     \n",
       "[5] Leonardo DiCaprio Daniel Craig     \n",
       "96 Levels: Aaron Paul Adam Driver Adam Sandler Anthony Mackie ... Zack Gottsagen"
      ]
     },
     "metadata": {},
     "output_type": "display_data"
    }
   ],
   "source": [
    "#Using CSS selectors to scrape the actors section\n",
    "actors_data_html <- html_nodes(webpage,'.lister-item-content .ghost+ a')\n",
    "\n",
    "#Converting the gross actors data to text\n",
    "actors_data <- html_text(actors_data_html)\n",
    "\n",
    "#Converting actors data into factors\n",
    "actors_data <- as.factor(actors_data)\n",
    "\n",
    "head(actors_data)"
   ]
  },
  {
   "cell_type": "markdown",
   "metadata": {},
   "source": [
    "### Metascore\n",
    "\n",
    "<br>\n",
    "Let's read in and examine the data.\n",
    "\n",
    "<br>\n",
    "<div class=\"use_editor\"></div>"
   ]
  },
  {
   "cell_type": "code",
   "execution_count": 170,
   "metadata": {},
   "outputs": [
    {
     "data": {
      "text/html": [
       "<style>\n",
       ".list-inline {list-style: none; margin:0; padding: 0}\n",
       ".list-inline>li {display: inline-block}\n",
       ".list-inline>li:not(:last-child)::after {content: \"\\00b7\"; padding: 0 .5ex}\n",
       "</style>\n",
       "<ol class=list-inline><li>'78'</li><li>'64'</li><li>'82'</li><li>'96'</li><li>'83'</li><li>'82'</li></ol>\n"
      ],
      "text/latex": [
       "\\begin{enumerate*}\n",
       "\\item '78'\n",
       "\\item '64'\n",
       "\\item '82'\n",
       "\\item '96'\n",
       "\\item '83'\n",
       "\\item '82'\n",
       "\\end{enumerate*}\n"
      ],
      "text/markdown": [
       "1. '78'\n",
       "2. '64'\n",
       "3. '82'\n",
       "4. '96'\n",
       "5. '83'\n",
       "6. '82'\n",
       "\n",
       "\n"
      ],
      "text/plain": [
       "[1] \"78\" \"64\" \"82\" \"96\" \"83\" \"82\""
      ]
     },
     "metadata": {},
     "output_type": "display_data"
    }
   ],
   "source": [
    "#Using CSS selectors to scrape the metascore section\n",
    "metascore_data_html <- html_nodes(webpage,'.metascore')\n",
    "\n",
    "#Converting the runtime data to text\n",
    "metascore_data <- html_text(metascore_data_html)\n",
    "\n",
    "#Removing extra space in metascore\n",
    "metascore_data <- gsub(\" \",\"\",metascore_data)\n",
    "\n",
    "head(metascore_data)"
   ]
  },
  {
   "cell_type": "markdown",
   "metadata": {},
   "source": [
    "This is great, but because `metascore_data` is made up of charaters, we cannot do math or carculate statistics with this data. See what happends when we try to compute descriptive statitics:\n",
    "\n",
    "<br>\n",
    "<div class=\"use_console\"></div>"
   ]
  },
  {
   "cell_type": "code",
   "execution_count": 171,
   "metadata": {},
   "outputs": [
    {
     "data": {
      "text/plain": [
       "   Length     Class      Mode \n",
       "      100 character character "
      ]
     },
     "metadata": {},
     "output_type": "display_data"
    }
   ],
   "source": [
    "summary(metascore_data)"
   ]
  },
  {
   "cell_type": "markdown",
   "metadata": {},
   "source": [
    "As you can see, the `summary()` function cannot return min, max, median, mean, etc. because this metrics connot be computed on charactersd (i.e. \"letters\").\n",
    "\n",
    "We should convert the characters to numeric!\n",
    "\n",
    "<br>\n",
    "<div class=\"use_editor\"></div>"
   ]
  },
  {
   "cell_type": "code",
   "execution_count": 172,
   "metadata": {},
   "outputs": [
    {
     "data": {
      "text/html": [
       "<style>\n",
       ".list-inline {list-style: none; margin:0; padding: 0}\n",
       ".list-inline>li {display: inline-block}\n",
       ".list-inline>li:not(:last-child)::after {content: \"\\00b7\"; padding: 0 .5ex}\n",
       "</style>\n",
       "<ol class=list-inline><li>78</li><li>64</li><li>82</li><li>96</li><li>83</li><li>82</li></ol>\n"
      ],
      "text/latex": [
       "\\begin{enumerate*}\n",
       "\\item 78\n",
       "\\item 64\n",
       "\\item 82\n",
       "\\item 96\n",
       "\\item 83\n",
       "\\item 82\n",
       "\\end{enumerate*}\n"
      ],
      "text/markdown": [
       "1. 78\n",
       "2. 64\n",
       "3. 82\n",
       "4. 96\n",
       "5. 83\n",
       "6. 82\n",
       "\n",
       "\n"
      ],
      "text/plain": [
       "[1] 78 64 82 96 83 82"
      ]
     },
     "metadata": {},
     "output_type": "display_data"
    }
   ],
   "source": [
    "#converting metascore to numerical\n",
    "metascore_data <- as.numeric(metascore_data)\n",
    "\n",
    "head(metascore_data)"
   ]
  },
  {
   "cell_type": "markdown",
   "metadata": {},
   "source": [
    "Let's take a look at the summary of `metascore_data` again...\n",
    "\n",
    "<br>\n",
    "<div class=\"use_console\"></div>"
   ]
  },
  {
   "cell_type": "code",
   "execution_count": 173,
   "metadata": {},
   "outputs": [
    {
     "data": {
      "text/plain": [
       "   Min. 1st Qu.  Median    Mean 3rd Qu.    Max. \n",
       "  19.00   51.75   61.00   61.44   73.00   96.00 "
      ]
     },
     "metadata": {},
     "output_type": "display_data"
    }
   ],
   "source": [
    "summary(metascore_data)"
   ]
  },
  {
   "cell_type": "markdown",
   "metadata": {},
   "source": [
    "Great! We computed descriptive statistics! \n",
    "\n",
    "\n",
    "--------------------"
   ]
  },
  {
   "cell_type": "markdown",
   "metadata": {},
   "source": [
    "### Gross\n",
    "\n",
    "<br>\n",
    "Here there is the problem that not all entries have reported grossed earning. We want those missing values to be filled with `NaN`. We will the `html_node()` function (See `?html_nodes` for the difference between `html_node` and `html_nodes`) to fill with `NaN`. NOte that instead of using `webpage` as input, we will use the output of `html_nodes(webpage, '.lister-item-content')` as input:\n",
    "\n",
    "<br>\n",
    "<div class=\"use_editor\"></div>"
   ]
  },
  {
   "cell_type": "code",
   "execution_count": 174,
   "metadata": {},
   "outputs": [
    {
     "data": {
      "text/html": [
       "100"
      ],
      "text/latex": [
       "100"
      ],
      "text/markdown": [
       "100"
      ],
      "text/plain": [
       "[1] 100"
      ]
     },
     "metadata": {},
     "output_type": "display_data"
    },
    {
     "data": {
      "text/html": [
       "<style>\n",
       ".list-inline {list-style: none; margin:0; padding: 0}\n",
       ".list-inline>li {display: inline-block}\n",
       ".list-inline>li:not(:last-child)::after {content: \"\\00b7\"; padding: 0 .5ex}\n",
       "</style>\n",
       "<ol class=list-inline><li>'$858.37M'</li><li>'$426.83M'</li><li>NA</li><li>'$53.37M'</li><li>'$142.50M'</li><li>'$165.36M'</li></ol>\n"
      ],
      "text/latex": [
       "\\begin{enumerate*}\n",
       "\\item '\\$858.37M'\n",
       "\\item '\\$426.83M'\n",
       "\\item NA\n",
       "\\item '\\$53.37M'\n",
       "\\item '\\$142.50M'\n",
       "\\item '\\$165.36M'\n",
       "\\end{enumerate*}\n"
      ],
      "text/markdown": [
       "1. '$858.37M'\n",
       "2. '$426.83M'\n",
       "3. NA\n",
       "4. '$53.37M'\n",
       "5. '$142.50M'\n",
       "6. '$165.36M'\n",
       "\n",
       "\n"
      ],
      "text/plain": [
       "[1] \"$858.37M\" \"$426.83M\" NA         \"$53.37M\"  \"$142.50M\" \"$165.36M\""
      ]
     },
     "metadata": {},
     "output_type": "display_data"
    }
   ],
   "source": [
    "#Using CSS selectors to scrape the gross revenue section\n",
    "gross_data_html <- html_node(html_nodes(webpage, '.lister-item-content'), '.sort-num_votes-visible span:nth-child(5)')\n",
    "\n",
    "#Converting the gross revenue data to text\n",
    "gross_data <- html_text(gross_data_html)\n",
    "\n",
    "length(gross_data)\n",
    "\n",
    "head(gross_data)"
   ]
  },
  {
   "cell_type": "markdown",
   "metadata": {},
   "source": [
    "Note that we got 100 elements, with `NaN` where there are missing grossed earnings.\n",
    "\n",
    "Let's clean up the data by eliminating `$` and `M`, and converting to numeric values.\n",
    "\n",
    "<br>\n",
    "<div class=\"use_editor\"></div>"
   ]
  },
  {
   "cell_type": "code",
   "execution_count": 175,
   "metadata": {},
   "outputs": [
    {
     "data": {
      "text/html": [
       "<style>\n",
       ".list-inline {list-style: none; margin:0; padding: 0}\n",
       ".list-inline>li {display: inline-block}\n",
       ".list-inline>li:not(:last-child)::after {content: \"\\00b7\"; padding: 0 .5ex}\n",
       "</style>\n",
       "<ol class=list-inline><li>858.3</li><li>426.8</li><li>&lt;NA&gt;</li><li>53.37</li><li>142.5</li><li>165.3</li></ol>\n"
      ],
      "text/latex": [
       "\\begin{enumerate*}\n",
       "\\item 858.3\n",
       "\\item 426.8\n",
       "\\item <NA>\n",
       "\\item 53.37\n",
       "\\item 142.5\n",
       "\\item 165.3\n",
       "\\end{enumerate*}\n"
      ],
      "text/markdown": [
       "1. 858.3\n",
       "2. 426.8\n",
       "3. &lt;NA&gt;\n",
       "4. 53.37\n",
       "5. 142.5\n",
       "6. 165.3\n",
       "\n",
       "\n"
      ],
      "text/plain": [
       "[1] 858.30 426.80     NA  53.37 142.50 165.30"
      ]
     },
     "metadata": {},
     "output_type": "display_data"
    }
   ],
   "source": [
    "#Removing '$' and 'M' signs\n",
    "gross_data <- gsub(\"M\",\"\",gross_data)\n",
    "\n",
    "gross_data <- substring(gross_data,2,6)\n",
    "\n",
    "#converting gross_data to numerical\n",
    "gross_data <- as.numeric(gross_data)\n",
    "\n",
    "gross_data  %>% \n",
    " head()"
   ]
  },
  {
   "cell_type": "markdown",
   "metadata": {},
   "source": [
    "Now let's check the statistics summary:\n",
    "\n",
    "<br>\n",
    "<div class=\"use_editor\"></div>"
   ]
  },
  {
   "cell_type": "code",
   "execution_count": 176,
   "metadata": {},
   "outputs": [
    {
     "data": {
      "text/plain": [
       "   Min. 1st Qu.  Median    Mean 3rd Qu.    Max. \n",
       "  19.00   51.75   61.00   61.44   73.00   96.00 "
      ]
     },
     "metadata": {},
     "output_type": "display_data"
    }
   ],
   "source": [
    "summary(metascore_data)"
   ]
  },
  {
   "cell_type": "markdown",
   "metadata": {},
   "source": [
    "Now that we have successfully scraped all the 11 features for the 100 most popular feature films released in 2019. Let’s combine them to create a dataframe and inspect its structure.\n",
    "\n",
    "<br>\n",
    "<div class=\"use_editor\"></div>"
   ]
  },
  {
   "cell_type": "code",
   "execution_count": 177,
   "metadata": {},
   "outputs": [
    {
     "name": "stdout",
     "output_type": "stream",
     "text": [
      "'data.frame':\t100 obs. of  11 variables:\n",
      " $ Rank                : num  1 2 3 4 5 6 7 8 9 10 ...\n",
      " $ Title               : chr  \"Avengers: Endgame\" \"Captain Marvel\" \"Sound of Metal\" \"Parasite\" ...\n",
      " $ Description         : chr  \"    After the devastating events of Avengers: Infinity War (2018), the universe is in ruins. With the help of r\"| __truncated__ \"    Carol Danvers becomes one of the universe's most powerful heroes when Earth is caught in the middle of a ga\"| __truncated__ \"    A heavy-metal drummer's life is thrown into freefall when he begins to lose his hearing.\" \"    Greed and class discrimination threaten the newly formed symbiotic relationship between the wealthy Park fa\"| __truncated__ ...\n",
      " $ Runtime             : num  181 123 120 132 161 130 113 122 148 119 ...\n",
      " $ Genre               : Factor w/ 10 levels \"Action\",\"Adventure\",..: 1 1 7 5 5 5 1 6 7 7 ...\n",
      " $ Rating              : num  8.4 6.9 7.8 8.6 7.6 7.9 7.8 8.4 7.1 8.3 ...\n",
      " $ Metascore           : num  78 64 82 96 83 82 51 59 72 78 ...\n",
      " $ Votes               : num  825771 451581 36445 569876 561190 ...\n",
      " $ Gross_Earning_in_Mil: num  858.3 426.8 NA 53.4 142.5 ...\n",
      " $ Director            : Factor w/ 99 levels \"Adam Randall\",..: 8 7 20 11 76 77 35 95 9 87 ...\n",
      " $ Actor               : Factor w/ 96 levels \"Aaron Paul\",\"Adam Driver\",..: 71 9 69 47 53 15 60 41 28 20 ...\n"
     ]
    }
   ],
   "source": [
    "#Combining all the lists to form a data frame\n",
    "\n",
    "movies_df <- data.frame(Rank = rank_data, Title = title_data,\n",
    "                      Description = description_data, Runtime = runtime_data,\n",
    "                      Genre = genre_data, Rating = rating_data,\n",
    "                      Metascore = metascore_data, \n",
    "                      Votes = votes_data,\n",
    "                      Gross_Earning_in_Mil = gross_data,\n",
    "                      Director = directors_data, Actor = actors_data)\n",
    "\n",
    "str(movies_df)"
   ]
  },
  {
   "cell_type": "markdown",
   "metadata": {},
   "source": [
    "# Analyzing scraped data from the web\n",
    "\n",
    "Once you have the data, you can perform several tasks like analyzing the data, drawing inferences from it, training machine learning models over this data, etc. I have gone on to create some interesting visualization out of the data we have just scraped.\n",
    "\n",
    "Let's take a look at the distribution of movies by runtime and genre.\n",
    "\n",
    "<br>\n",
    "<div class=\"use_editor\"></div>"
   ]
  },
  {
   "cell_type": "code",
   "execution_count": 178,
   "metadata": {},
   "outputs": [
    {
     "data": {
      "image/png": "[encoded data removed]",
      "text/plain": [
       "plot without title"
      ]
     },
     "metadata": {
      "image/png": {
       "height": 500,
       "width": 875
      }
     },
     "output_type": "display_data"
    }
   ],
   "source": [
    "qplot(data = movies_df, Runtime, fill = Genre,bins = 30)+\n",
    "  theme_classic()"
   ]
  },
  {
   "cell_type": "markdown",
   "metadata": {},
   "source": [
    "What about runtime vs rating?\n",
    "\n",
    "<br>\n",
    "<div class=\"use_editor\"></div>"
   ]
  },
  {
   "cell_type": "code",
   "execution_count": 179,
   "metadata": {},
   "outputs": [
    {
     "data": {
      "image/png": "[encoded data removed]",
      "text/plain": [
       "plot without title"
      ]
     },
     "metadata": {
      "image/png": {
       "height": 500,
       "width": 875
      }
     },
     "output_type": "display_data"
    }
   ],
   "source": [
    "# Plot of runtime vs rating\n",
    "ggplot(movies_df,aes(x = Runtime,y = Rating))+\n",
    "  geom_point(aes(size = Votes,col = Genre))+\n",
    "  theme_classic()"
   ]
  },
  {
   "cell_type": "markdown",
   "metadata": {},
   "source": [
    "What about runtime vs earnings?\n",
    "\n",
    "<br>\n",
    "<div class=\"use_editor\"></div>"
   ]
  },
  {
   "cell_type": "code",
   "execution_count": 246,
   "metadata": {},
   "outputs": [
    {
     "name": "stderr",
     "output_type": "stream",
     "text": [
      "Warning message:\n",
      "\"Removed 9 rows containing missing values (geom_point).\"\n"
     ]
    },
    {
     "data": {
      "image/png": "[encoded data removed]",
      "text/plain": [
       "plot without title"
      ]
     },
     "metadata": {
      "image/png": {
       "height": 500,
       "width": 875
      }
     },
     "output_type": "display_data"
    }
   ],
   "source": [
    "# Plot of runtime vs earnings\n",
    "ggplot(movies_df, aes(x = Runtime, y = Gross_Earning_in_Mil))+\n",
    "  geom_point(aes(size = Rating, col = Genre))+\n",
    "  theme_classic()"
   ]
  },
  {
   "cell_type": "markdown",
   "metadata": {},
   "source": [
    "Now you have a fair idea of the problems which you might come across when working with time, strings and webscrapping and how you can make your way around them. As most of the data on the web is present in an unstructured format, web scraping is a really handy skill for any data scientist.\n",
    "\n",
    "Now let's get you to play around with data on your own!"
   ]
  },
  {
   "cell_type": "markdown",
   "metadata": {},
   "source": [
    "# Your lab task: Analyzing film data from 2016!\n",
    "\n",
    "<br><br><br>\n",
    "<div class=\"startTASK\"></div>\n",
    "\n",
    "Scrape data from IMDB on the top 100 movies released in 2016 and answer the questions that follow. Use the url posted below. <br><br>\n",
    "\n",
    "Same as in the example above, to ensure that the content does not change, the url is copy of the 2016 imdb results saved in my github:\n",
    "\n",
    "https://raw.githubusercontent.com/Diego-Ibarra/biol3782/main/week8/imdb_100titles_2016.html\n",
    "\n",
    "<br><br>\n",
    "<span class=\"note\"></span> If you are curious and you want to run again your code in the live imdb site, use `http://www.imdb.com/search/title?count=100&release_date=2016,2016&title_type=feature` However, you will get different results depending on the updates and changes that imdb does to its database. <span class=\"important\"></span> **DO NOT use this url to compute the answers for your Brightspace quiz, you will get the wrong answers if you do!**\n",
    "<br><br><br><br>\n",
    "\n",
    "**HINTS**\n",
    "\n",
    "For this task you will need...\n",
    "\n",
    "* Webscraping functions learned in this lab: `read_html()`, `html_nodes()`, `html_node()`, `html_text()`\n",
    "\n",
    "* Functions commonly used with Regular Expression, as learned above: `gsub()`, `substring()`\n",
    "\n",
    "* Some of the built-in R functions: `as.numeric()`, `as.factor`, `head()`, `tail()`, `length()`, `summary()`, `n_distinct()`, `str()`, `dim()`, `data.frame()` \n",
    "\n",
    "* Some of the functions from the tidyverse: `mutate()`, `group_by()`, ` summarize()`, `filter()`, `arrange()`, `select()`, `na.omit()`, `ggplot()`\n",
    "\n",
    "<br><br><br>\n",
    "\n",
    "\n",
    "<span class=\"important\"></span> Remember to check your datasets! You can use `str()` and `dim()` or just look at your raw data to make sure your cleaned data is in the format you want.\n",
    "<br><br>\n",
    "\n",
    "\n",
    "<div class=\"endTASK\"></div>\n",
    "<br><br><br>"
   ]
  },
  {
   "cell_type": "markdown",
   "metadata": {},
   "source": [
    "<div class=\"Q\"><br><br>\n",
    "\n",
    "What was the highest ranked film by popularity of 2016? \n",
    "\n",
    "<br><br><div class=\"qhelp\"></div></div>"
   ]
  },
  {
   "cell_type": "code",
   "execution_count": 182,
   "metadata": {},
   "outputs": [
    {
     "data": {
      "text/html": [
       "<style>\n",
       ".list-inline {list-style: none; margin:0; padding: 0}\n",
       ".list-inline>li {display: inline-block}\n",
       ".list-inline>li:not(:last-child)::after {content: \"\\00b7\"; padding: 0 .5ex}\n",
       "</style>\n",
       "<ol class=list-inline><li>1</li><li>2</li><li>3</li><li>4</li><li>5</li><li>6</li></ol>\n"
      ],
      "text/latex": [
       "\\begin{enumerate*}\n",
       "\\item 1\n",
       "\\item 2\n",
       "\\item 3\n",
       "\\item 4\n",
       "\\item 5\n",
       "\\item 6\n",
       "\\end{enumerate*}\n"
      ],
      "text/markdown": [
       "1. 1\n",
       "2. 2\n",
       "3. 3\n",
       "4. 4\n",
       "5. 5\n",
       "6. 6\n",
       "\n",
       "\n"
      ],
      "text/plain": [
       "[1] 1 2 3 4 5 6"
      ]
     },
     "metadata": {},
     "output_type": "display_data"
    }
   ],
   "source": [
    "#for question below\n",
    "\n",
    "#Specifying the url for desired website to be scraped\n",
    "url <- 'https://raw.githubusercontent.com/Diego-Ibarra/biol3782/main/week8/imdb_100titles_2016.html'\n",
    "\n",
    "#Reading the HTML code from the website\n",
    "webpage <- read_html(url)\n",
    "\n",
    "#Using CSS selectors to scrape the rankings section\n",
    "rank_data_html <- html_nodes(webpage,'.text-primary')\n",
    "\n",
    "#Converting the ranking data to numeric\n",
    "rank_data <- html_text(rank_data_html) %>% \n",
    "    as.numeric()\n",
    "\n",
    "#Let's have a look at the rankings\n",
    "head(rank_data)"
   ]
  },
  {
   "cell_type": "markdown",
   "metadata": {},
   "source": [
    "<div class=\"Q\"><br><br>\n",
    "\n",
    "What is the CSS selector we use to scrape ranking data? \n",
    " \n",
    "<br><br><div class=\"qhelp\"></div></div>"
   ]
  },
  {
   "cell_type": "code",
   "execution_count": 110,
   "metadata": {},
   "outputs": [
    {
     "data": {
      "text/html": [
       "<style>\n",
       ".list-inline {list-style: none; margin:0; padding: 0}\n",
       ".list-inline>li {display: inline-block}\n",
       ".list-inline>li:not(:last-child)::after {content: \"\\00b7\"; padding: 0 .5ex}\n",
       "</style>\n",
       "<ol class=list-inline><li>'Suicide Squad'</li><li>'Deadpool'</li><li>'Split'</li><li>'X-Men: Apocalypse'</li><li>'The Nice Guys'</li><li>'Rogue One'</li></ol>\n"
      ],
      "text/latex": [
       "\\begin{enumerate*}\n",
       "\\item 'Suicide Squad'\n",
       "\\item 'Deadpool'\n",
       "\\item 'Split'\n",
       "\\item 'X-Men: Apocalypse'\n",
       "\\item 'The Nice Guys'\n",
       "\\item 'Rogue One'\n",
       "\\end{enumerate*}\n"
      ],
      "text/markdown": [
       "1. 'Suicide Squad'\n",
       "2. 'Deadpool'\n",
       "3. 'Split'\n",
       "4. 'X-Men: Apocalypse'\n",
       "5. 'The Nice Guys'\n",
       "6. 'Rogue One'\n",
       "\n",
       "\n"
      ],
      "text/plain": [
       "[1] \"Suicide Squad\"     \"Deadpool\"          \"Split\"            \n",
       "[4] \"X-Men: Apocalypse\" \"The Nice Guys\"     \"Rogue One\"        "
      ]
     },
     "metadata": {},
     "output_type": "display_data"
    }
   ],
   "source": [
    "#For questions below\n",
    "\n",
    "#Using CSS selectors to scrape the title section\n",
    "title_data_html <- html_nodes(webpage,'.lister-item-header a')\n",
    "\n",
    "#Converting the title data to text\n",
    "title_data <- html_text(title_data_html)\n",
    "\n",
    "#Let's have a look at the title\n",
    "head(title_data)"
   ]
  },
  {
   "cell_type": "code",
   "execution_count": 183,
   "metadata": {},
   "outputs": [
    {
     "data": {
      "text/html": [
       "<style>\n",
       ".list-inline {list-style: none; margin:0; padding: 0}\n",
       ".list-inline>li {display: inline-block}\n",
       ".list-inline>li:not(:last-child)::after {content: \"\\00b7\"; padding: 0 .5ex}\n",
       "</style>\n",
       "<ol class=list-inline><li>'Deadpool'</li><li>'Suicide Squad'</li><li>'War Dogs'</li><li>'X-Men: Apocalypse'</li><li>'Captain America: Civil War'</li><li>'Hidden Figures'</li></ol>\n"
      ],
      "text/latex": [
       "\\begin{enumerate*}\n",
       "\\item 'Deadpool'\n",
       "\\item 'Suicide Squad'\n",
       "\\item 'War Dogs'\n",
       "\\item 'X-Men: Apocalypse'\n",
       "\\item 'Captain America: Civil War'\n",
       "\\item 'Hidden Figures'\n",
       "\\end{enumerate*}\n"
      ],
      "text/markdown": [
       "1. 'Deadpool'\n",
       "2. 'Suicide Squad'\n",
       "3. 'War Dogs'\n",
       "4. 'X-Men: Apocalypse'\n",
       "5. 'Captain America: Civil War'\n",
       "6. 'Hidden Figures'\n",
       "\n",
       "\n"
      ],
      "text/plain": [
       "[1] \"Deadpool\"                   \"Suicide Squad\"             \n",
       "[3] \"War Dogs\"                   \"X-Men: Apocalypse\"         \n",
       "[5] \"Captain America: Civil War\" \"Hidden Figures\"            "
      ]
     },
     "metadata": {},
     "output_type": "display_data"
    }
   ],
   "source": [
    "#For questions below\n",
    "\n",
    "#Using CSS selectors to scrape the title section\n",
    "title_data_html <- html_nodes(webpage,'.lister-item-header a')\n",
    "\n",
    "#Converting the title data to text\n",
    "title_data <- html_text(title_data_html)\n",
    "\n",
    "#Let's have a look at the title\n",
    "head(title_data)"
   ]
  },
  {
   "cell_type": "markdown",
   "metadata": {},
   "source": [
    "<div class=\"Q\"><br><br>\n",
    "\n",
    "What is the titile of the sixth highest ranked film of 2016? \n",
    " \n",
    "<br><br><div class=\"qhelp\"></div></div>"
   ]
  },
  {
   "cell_type": "code",
   "execution_count": 184,
   "metadata": {},
   "outputs": [
    {
     "data": {
      "text/html": [
       "<style>\n",
       ".list-inline {list-style: none; margin:0; padding: 0}\n",
       ".list-inline>li {display: inline-block}\n",
       ".list-inline>li:not(:last-child)::after {content: \"\\00b7\"; padding: 0 .5ex}\n",
       "</style>\n",
       "<ol class=list-inline><li>'The Bad Batch'</li><li>'The Shallows'</li><li>'Lights Out'</li><li>'Free State of Jones'</li><li>'The Great Wall'</li><li>'Neighbors 2: Sorority Rising'</li></ol>\n"
      ],
      "text/latex": [
       "\\begin{enumerate*}\n",
       "\\item 'The Bad Batch'\n",
       "\\item 'The Shallows'\n",
       "\\item 'Lights Out'\n",
       "\\item 'Free State of Jones'\n",
       "\\item 'The Great Wall'\n",
       "\\item 'Neighbors 2: Sorority Rising'\n",
       "\\end{enumerate*}\n"
      ],
      "text/markdown": [
       "1. 'The Bad Batch'\n",
       "2. 'The Shallows'\n",
       "3. 'Lights Out'\n",
       "4. 'Free State of Jones'\n",
       "5. 'The Great Wall'\n",
       "6. 'Neighbors 2: Sorority Rising'\n",
       "\n",
       "\n"
      ],
      "text/plain": [
       "[1] \"The Bad Batch\"                \"The Shallows\"                \n",
       "[3] \"Lights Out\"                   \"Free State of Jones\"         \n",
       "[5] \"The Great Wall\"               \"Neighbors 2: Sorority Rising\""
      ]
     },
     "metadata": {},
     "output_type": "display_data"
    }
   ],
   "source": [
    "#For questions below\n",
    "tail(title_data)"
   ]
  },
  {
   "cell_type": "markdown",
   "metadata": {},
   "source": [
    "<div class=\"Q\"><br><br>\n",
    "\n",
    "What is the title of the lowest ranked film of 2016? \n",
    " \n",
    "<br><br><div class=\"qhelp\"></div></div>"
   ]
  },
  {
   "cell_type": "code",
   "execution_count": 112,
   "metadata": {},
   "outputs": [
    {
     "data": {
      "text/html": [
       "100"
      ],
      "text/latex": [
       "100"
      ],
      "text/markdown": [
       "100"
      ],
      "text/plain": [
       "[1] 100"
      ]
     },
     "metadata": {},
     "output_type": "display_data"
    }
   ],
   "source": [
    "#For questions below\n",
    "length(title_data)"
   ]
  },
  {
   "cell_type": "markdown",
   "metadata": {},
   "source": [
    "<div class=\"Q\"><br><br>\n",
    "\n",
    "How many observations are there in the webscraped title data object you created? \n",
    " \n",
    "<br><br><div class=\"qhelp\"></div></div>"
   ]
  },
  {
   "cell_type": "code",
   "execution_count": 185,
   "metadata": {},
   "outputs": [
    {
     "data": {
      "text/html": [
       "<style>\n",
       ".list-inline {list-style: none; margin:0; padding: 0}\n",
       ".list-inline>li {display: inline-block}\n",
       ".list-inline>li:not(:last-child)::after {content: \"\\00b7\"; padding: 0 .5ex}\n",
       "</style>\n",
       "<ol class=list-inline><li><span style=white-space:pre-wrap>'    A wisecracking mercenary gets experimented on and becomes immortal but ugly, and sets out to track down the man who ruined his looks.'</span></li><li><span style=white-space:pre-wrap>'    A secret government agency recruits some of the most dangerous incarcerated super-villains to form a defensive task force. Their first mission: save the world from the apocalypse.'</span></li><li><span style=white-space:pre-wrap>'    Loosely based on the true story of two young men, David Packouz and Efraim Diveroli, who won a three hundred million dollar contract from the Pentagon to arm America\\'s allies in Afghanistan.'</span></li><li><span style=white-space:pre-wrap>'    In the 1980s the X-Men must defeat an ancient all-powerful mutant, En Sabah Nur, who intends to thrive through bringing destruction to the world.'</span></li><li><span style=white-space:pre-wrap>'    Political involvement in the Avengers\\' affairs causes a rift between Captain America and Iron Man.'</span></li><li><span style=white-space:pre-wrap>'    The story of a team of female African-American mathematicians who served a vital role in NASA during the early years of the U.S. space program.'</span></li><li><span style=white-space:pre-wrap>'    Fearing that the actions of Superman are left unchecked, Batman takes on the Man of Steel, while the world wrestles with what kind of a hero it really needs.'</span></li><li><span style=white-space:pre-wrap>'    A divorcee becomes entangled in a missing persons investigation that promises to send shockwaves throughout her life.'</span></li><li><span style=white-space:pre-wrap>'    A successful entrepreneur accused of murder and a witness preparation expert have less than three hours to come up with an impregnable defense.'</span></li><li><span style=white-space:pre-wrap>'    Three girls are kidnapped by a man with a diagnosed 23 distinct personalities. They must try to escape before the apparent emergence of a frightful new 24th.'</span></li><li><span style=white-space:pre-wrap>'    While on a journey of physical and spiritual healing, a brilliant neurosurgeon is drawn into the world of the mystic arts.'</span></li><li><span style=white-space:pre-wrap>'    Ed and Lorraine Warren travel to North London to help a single mother raising four children alone in a house plagued by a supernatural spirit.'</span></li><li><span style=white-space:pre-wrap>'    The crew of the USS Enterprise explores the furthest reaches of uncharted space, where they encounter a new ruthless enemy, who puts them, and everything the Federation stands for, to the test.'</span></li><li><span style=white-space:pre-wrap>'    A wealthy art gallery owner is haunted by her ex-husband\\'s novel, a violent thriller she interprets as a symbolic revenge tale.'</span></li><li><span style=white-space:pre-wrap>'    In a city of anthropomorphic animals, a rookie bunny cop and a cynical con artist fox must work together to uncover a conspiracy.'</span></li><li><span style=white-space:pre-wrap>'    The daughter of an Imperial scientist joins the Rebel Alliance in a risky move to steal the plans for the Death Star.'</span></li><li><span style=white-space:pre-wrap>'    In Ancient Polynesia, when a terrible curse incurred by the Demigod Maui reaches Moana\\'s island, she answers the Ocean\\'s call to seek out the Demigod to set things right.'</span></li><li><span style=white-space:pre-wrap>'    World War II American Army Medic Desmond T. Doss, who served during the Battle of Okinawa, refuses to kill people, and becomes the first man in American history to receive the Medal of Honor without firing a shot.'</span></li><li><span style=white-space:pre-wrap>'    While a zombie virus breaks out in South Korea, passengers struggle to survive on the train from Seoul to Busan.'</span></li></ol>\n"
      ],
      "text/latex": [
       "\\begin{enumerate*}\n",
       "\\item '    A wisecracking mercenary gets experimented on and becomes immortal but ugly, and sets out to track down the man who ruined his looks.'\n",
       "\\item '    A secret government agency recruits some of the most dangerous incarcerated super-villains to form a defensive task force. Their first mission: save the world from the apocalypse.'\n",
       "\\item '    Loosely based on the true story of two young men, David Packouz and Efraim Diveroli, who won a three hundred million dollar contract from the Pentagon to arm America\\textbackslash{}'s allies in Afghanistan.'\n",
       "\\item '    In the 1980s the X-Men must defeat an ancient all-powerful mutant, En Sabah Nur, who intends to thrive through bringing destruction to the world.'\n",
       "\\item '    Political involvement in the Avengers\\textbackslash{}' affairs causes a rift between Captain America and Iron Man.'\n",
       "\\item '    The story of a team of female African-American mathematicians who served a vital role in NASA during the early years of the U.S. space program.'\n",
       "\\item '    Fearing that the actions of Superman are left unchecked, Batman takes on the Man of Steel, while the world wrestles with what kind of a hero it really needs.'\n",
       "\\item '    A divorcee becomes entangled in a missing persons investigation that promises to send shockwaves throughout her life.'\n",
       "\\item '    A successful entrepreneur accused of murder and a witness preparation expert have less than three hours to come up with an impregnable defense.'\n",
       "\\item '    Three girls are kidnapped by a man with a diagnosed 23 distinct personalities. They must try to escape before the apparent emergence of a frightful new 24th.'\n",
       "\\item '    While on a journey of physical and spiritual healing, a brilliant neurosurgeon is drawn into the world of the mystic arts.'\n",
       "\\item '    Ed and Lorraine Warren travel to North London to help a single mother raising four children alone in a house plagued by a supernatural spirit.'\n",
       "\\item '    The crew of the USS Enterprise explores the furthest reaches of uncharted space, where they encounter a new ruthless enemy, who puts them, and everything the Federation stands for, to the test.'\n",
       "\\item '    A wealthy art gallery owner is haunted by her ex-husband\\textbackslash{}'s novel, a violent thriller she interprets as a symbolic revenge tale.'\n",
       "\\item '    In a city of anthropomorphic animals, a rookie bunny cop and a cynical con artist fox must work together to uncover a conspiracy.'\n",
       "\\item '    The daughter of an Imperial scientist joins the Rebel Alliance in a risky move to steal the plans for the Death Star.'\n",
       "\\item '    In Ancient Polynesia, when a terrible curse incurred by the Demigod Maui reaches Moana\\textbackslash{}'s island, she answers the Ocean\\textbackslash{}'s call to seek out the Demigod to set things right.'\n",
       "\\item '    World War II American Army Medic Desmond T. Doss, who served during the Battle of Okinawa, refuses to kill people, and becomes the first man in American history to receive the Medal of Honor without firing a shot.'\n",
       "\\item '    While a zombie virus breaks out in South Korea, passengers struggle to survive on the train from Seoul to Busan.'\n",
       "\\end{enumerate*}\n"
      ],
      "text/markdown": [
       "1. <span style=white-space:pre-wrap>'    A wisecracking mercenary gets experimented on and becomes immortal but ugly, and sets out to track down the man who ruined his looks.'</span>\n",
       "2. <span style=white-space:pre-wrap>'    A secret government agency recruits some of the most dangerous incarcerated super-villains to form a defensive task force. Their first mission: save the world from the apocalypse.'</span>\n",
       "3. <span style=white-space:pre-wrap>'    Loosely based on the true story of two young men, David Packouz and Efraim Diveroli, who won a three hundred million dollar contract from the Pentagon to arm America\\'s allies in Afghanistan.'</span>\n",
       "4. <span style=white-space:pre-wrap>'    In the 1980s the X-Men must defeat an ancient all-powerful mutant, En Sabah Nur, who intends to thrive through bringing destruction to the world.'</span>\n",
       "5. <span style=white-space:pre-wrap>'    Political involvement in the Avengers\\' affairs causes a rift between Captain America and Iron Man.'</span>\n",
       "6. <span style=white-space:pre-wrap>'    The story of a team of female African-American mathematicians who served a vital role in NASA during the early years of the U.S. space program.'</span>\n",
       "7. <span style=white-space:pre-wrap>'    Fearing that the actions of Superman are left unchecked, Batman takes on the Man of Steel, while the world wrestles with what kind of a hero it really needs.'</span>\n",
       "8. <span style=white-space:pre-wrap>'    A divorcee becomes entangled in a missing persons investigation that promises to send shockwaves throughout her life.'</span>\n",
       "9. <span style=white-space:pre-wrap>'    A successful entrepreneur accused of murder and a witness preparation expert have less than three hours to come up with an impregnable defense.'</span>\n",
       "10. <span style=white-space:pre-wrap>'    Three girls are kidnapped by a man with a diagnosed 23 distinct personalities. They must try to escape before the apparent emergence of a frightful new 24th.'</span>\n",
       "11. <span style=white-space:pre-wrap>'    While on a journey of physical and spiritual healing, a brilliant neurosurgeon is drawn into the world of the mystic arts.'</span>\n",
       "12. <span style=white-space:pre-wrap>'    Ed and Lorraine Warren travel to North London to help a single mother raising four children alone in a house plagued by a supernatural spirit.'</span>\n",
       "13. <span style=white-space:pre-wrap>'    The crew of the USS Enterprise explores the furthest reaches of uncharted space, where they encounter a new ruthless enemy, who puts them, and everything the Federation stands for, to the test.'</span>\n",
       "14. <span style=white-space:pre-wrap>'    A wealthy art gallery owner is haunted by her ex-husband\\'s novel, a violent thriller she interprets as a symbolic revenge tale.'</span>\n",
       "15. <span style=white-space:pre-wrap>'    In a city of anthropomorphic animals, a rookie bunny cop and a cynical con artist fox must work together to uncover a conspiracy.'</span>\n",
       "16. <span style=white-space:pre-wrap>'    The daughter of an Imperial scientist joins the Rebel Alliance in a risky move to steal the plans for the Death Star.'</span>\n",
       "17. <span style=white-space:pre-wrap>'    In Ancient Polynesia, when a terrible curse incurred by the Demigod Maui reaches Moana\\'s island, she answers the Ocean\\'s call to seek out the Demigod to set things right.'</span>\n",
       "18. <span style=white-space:pre-wrap>'    World War II American Army Medic Desmond T. Doss, who served during the Battle of Okinawa, refuses to kill people, and becomes the first man in American history to receive the Medal of Honor without firing a shot.'</span>\n",
       "19. <span style=white-space:pre-wrap>'    While a zombie virus breaks out in South Korea, passengers struggle to survive on the train from Seoul to Busan.'</span>\n",
       "\n",
       "\n"
      ],
      "text/plain": [
       " [1] \"    A wisecracking mercenary gets experimented on and becomes immortal but ugly, and sets out to track down the man who ruined his looks.\"                                                                                \n",
       " [2] \"    A secret government agency recruits some of the most dangerous incarcerated super-villains to form a defensive task force. Their first mission: save the world from the apocalypse.\"                                  \n",
       " [3] \"    Loosely based on the true story of two young men, David Packouz and Efraim Diveroli, who won a three hundred million dollar contract from the Pentagon to arm America's allies in Afghanistan.\"                       \n",
       " [4] \"    In the 1980s the X-Men must defeat an ancient all-powerful mutant, En Sabah Nur, who intends to thrive through bringing destruction to the world.\"                                                                    \n",
       " [5] \"    Political involvement in the Avengers' affairs causes a rift between Captain America and Iron Man.\"                                                                                                                   \n",
       " [6] \"    The story of a team of female African-American mathematicians who served a vital role in NASA during the early years of the U.S. space program.\"                                                                      \n",
       " [7] \"    Fearing that the actions of Superman are left unchecked, Batman takes on the Man of Steel, while the world wrestles with what kind of a hero it really needs.\"                                                        \n",
       " [8] \"    A divorcee becomes entangled in a missing persons investigation that promises to send shockwaves throughout her life.\"                                                                                                \n",
       " [9] \"    A successful entrepreneur accused of murder and a witness preparation expert have less than three hours to come up with an impregnable defense.\"                                                                      \n",
       "[10] \"    Three girls are kidnapped by a man with a diagnosed 23 distinct personalities. They must try to escape before the apparent emergence of a frightful new 24th.\"                                                        \n",
       "[11] \"    While on a journey of physical and spiritual healing, a brilliant neurosurgeon is drawn into the world of the mystic arts.\"                                                                                           \n",
       "[12] \"    Ed and Lorraine Warren travel to North London to help a single mother raising four children alone in a house plagued by a supernatural spirit.\"                                                                       \n",
       "[13] \"    The crew of the USS Enterprise explores the furthest reaches of uncharted space, where they encounter a new ruthless enemy, who puts them, and everything the Federation stands for, to the test.\"                    \n",
       "[14] \"    A wealthy art gallery owner is haunted by her ex-husband's novel, a violent thriller she interprets as a symbolic revenge tale.\"                                                                                      \n",
       "[15] \"    In a city of anthropomorphic animals, a rookie bunny cop and a cynical con artist fox must work together to uncover a conspiracy.\"                                                                                    \n",
       "[16] \"    The daughter of an Imperial scientist joins the Rebel Alliance in a risky move to steal the plans for the Death Star.\"                                                                                                \n",
       "[17] \"    In Ancient Polynesia, when a terrible curse incurred by the Demigod Maui reaches Moana's island, she answers the Ocean's call to seek out the Demigod to set things right.\"                                           \n",
       "[18] \"    World War II American Army Medic Desmond T. Doss, who served during the Battle of Okinawa, refuses to kill people, and becomes the first man in American history to receive the Medal of Honor without firing a shot.\"\n",
       "[19] \"    While a zombie virus breaks out in South Korea, passengers struggle to survive on the train from Seoul to Busan.\"                                                                                                     "
      ]
     },
     "metadata": {},
     "output_type": "display_data"
    }
   ],
   "source": [
    "#Using CSS selectors to scrape the description section\n",
    "description_data_html <- html_nodes(webpage,'.ratings-bar+ .text-muted')\n",
    "\n",
    "#Converting the description data to text\n",
    "description_data <- html_text(description_data_html)\n",
    "\n",
    "description_data <- gsub(\"\\n\",\"\",description_data)\n",
    "\n",
    "#For questions below\n",
    "head(description_data, 19)"
   ]
  },
  {
   "cell_type": "markdown",
   "metadata": {},
   "source": [
    "<div class=\"Q\"><br><br>\n",
    "\n",
    "In the 19th most popular film of 2016, who was the story about? \n",
    " \n",
    "<br><br><div class=\"qhelp\"></div></div>"
   ]
  },
  {
   "cell_type": "markdown",
   "metadata": {},
   "source": [
    "<div class=\"Q\"><br><br>\n",
    "\n",
    "Where was the 17th most popular film of 2016 set? \n",
    " \n",
    "<br><br><div class=\"qhelp\"></div></div>"
   ]
  },
  {
   "cell_type": "code",
   "execution_count": 186,
   "metadata": {},
   "outputs": [],
   "source": [
    "#Using CSS selectors to scrape the Movie runtime section\n",
    "runtime_data_html <- html_nodes(webpage,'.text-muted .runtime')\n",
    "\n",
    "#Converting the runtime data to text\n",
    "runtime_data <- html_text(runtime_data_html)\n",
    "\n",
    "runtime_data<-gsub(\" min\",\"\",runtime_data)\n",
    "runtime_data<-as.numeric(runtime_data)"
   ]
  },
  {
   "cell_type": "markdown",
   "metadata": {},
   "source": [
    "<div class=\"Q\"><br><br>\n",
    "\n",
    "What is the CSS selector we use to scrape runtime data?\n",
    " \n",
    "<br><br><div class=\"qhelp\"></div></div>"
   ]
  },
  {
   "cell_type": "code",
   "execution_count": 187,
   "metadata": {},
   "outputs": [
    {
     "data": {
      "text/html": [
       "<style>\n",
       ".list-inline {list-style: none; margin:0; padding: 0}\n",
       ".list-inline>li {display: inline-block}\n",
       ".list-inline>li:not(:last-child)::after {content: \"\\00b7\"; padding: 0 .5ex}\n",
       "</style>\n",
       "<ol class=list-inline><li>Action</li><li>Action</li><li>Biography</li><li>Action</li><li>Action</li><li>Biography</li></ol>\n",
       "\n",
       "<details>\n",
       "\t<summary style=display:list-item;cursor:pointer>\n",
       "\t\t<strong>Levels</strong>:\n",
       "\t</summary>\n",
       "\t<style>\n",
       "\t.list-inline {list-style: none; margin:0; padding: 0}\n",
       "\t.list-inline>li {display: inline-block}\n",
       "\t.list-inline>li:not(:last-child)::after {content: \"\\00b7\"; padding: 0 .5ex}\n",
       "\t</style>\n",
       "\t<ol class=list-inline><li>'Action'</li><li>'Adventure'</li><li>'Animation'</li><li>'Biography'</li><li>'Comedy'</li><li>'Crime'</li><li>'Drama'</li><li>'Horror'</li></ol>\n",
       "</details>"
      ],
      "text/latex": [
       "\\begin{enumerate*}\n",
       "\\item Action\n",
       "\\item Action\n",
       "\\item Biography\n",
       "\\item Action\n",
       "\\item Action\n",
       "\\item Biography\n",
       "\\end{enumerate*}\n",
       "\n",
       "\\emph{Levels}: \\begin{enumerate*}\n",
       "\\item 'Action'\n",
       "\\item 'Adventure'\n",
       "\\item 'Animation'\n",
       "\\item 'Biography'\n",
       "\\item 'Comedy'\n",
       "\\item 'Crime'\n",
       "\\item 'Drama'\n",
       "\\item 'Horror'\n",
       "\\end{enumerate*}\n"
      ],
      "text/markdown": [
       "1. Action\n",
       "2. Action\n",
       "3. Biography\n",
       "4. Action\n",
       "5. Action\n",
       "6. Biography\n",
       "\n",
       "\n",
       "\n",
       "**Levels**: 1. 'Action'\n",
       "2. 'Adventure'\n",
       "3. 'Animation'\n",
       "4. 'Biography'\n",
       "5. 'Comedy'\n",
       "6. 'Crime'\n",
       "7. 'Drama'\n",
       "8. 'Horror'\n",
       "\n",
       "\n"
      ],
      "text/plain": [
       "[1] Action    Action    Biography Action    Action    Biography\n",
       "Levels: Action Adventure Animation Biography Comedy Crime Drama Horror"
      ]
     },
     "metadata": {},
     "output_type": "display_data"
    }
   ],
   "source": [
    "#Using CSS selectors to scrape the Movie genre section\n",
    "genre_data_html <- html_nodes(webpage,'.genre')\n",
    "\n",
    "#Converting the genre data to text\n",
    "genre_data <- html_text(genre_data_html)\n",
    "\n",
    "#Data-Preprocessing: removing \\n\n",
    "genre_data<-gsub(\"\\n\",\"\",genre_data)\n",
    "\n",
    "#Data-Preprocessing: removing excess spaces\n",
    "genre_data<-gsub(\" \",\"\",genre_data)\n",
    "\n",
    "#taking only the first genre of each movie\n",
    "genre_data<-gsub(\",.*\",\"\",genre_data)\n",
    "\n",
    "#Convering each genre from text to factor\n",
    "genre_data<-as.factor(genre_data)\n",
    "\n",
    "#Let's have another look at the genre data\n",
    "head(genre_data)\n"
   ]
  },
  {
   "cell_type": "code",
   "execution_count": 188,
   "metadata": {},
   "outputs": [
    {
     "data": {
      "text/html": [
       "<style>\n",
       ".list-inline {list-style: none; margin:0; padding: 0}\n",
       ".list-inline>li {display: inline-block}\n",
       ".list-inline>li:not(:last-child)::after {content: \"\\00b7\"; padding: 0 .5ex}\n",
       "</style>\n",
       "<ol class=list-inline><li>8</li><li>6</li><li>7.1</li><li>6.9</li><li>7.8</li><li>7.8</li></ol>\n"
      ],
      "text/latex": [
       "\\begin{enumerate*}\n",
       "\\item 8\n",
       "\\item 6\n",
       "\\item 7.1\n",
       "\\item 6.9\n",
       "\\item 7.8\n",
       "\\item 7.8\n",
       "\\end{enumerate*}\n"
      ],
      "text/markdown": [
       "1. 8\n",
       "2. 6\n",
       "3. 7.1\n",
       "4. 6.9\n",
       "5. 7.8\n",
       "6. 7.8\n",
       "\n",
       "\n"
      ],
      "text/plain": [
       "[1] 8.0 6.0 7.1 6.9 7.8 7.8"
      ]
     },
     "metadata": {},
     "output_type": "display_data"
    }
   ],
   "source": [
    "#Using CSS selectors to scrape the IMDB rating section\n",
    "rating_data_html <- html_nodes(webpage,'.ratings-imdb-rating strong')\n",
    "\n",
    "#Converting the ratings data to text\n",
    "rating_data <- html_text(rating_data_html)\n",
    "\n",
    "#Data-Preprocessing: converting ratings to numerical\n",
    "rating_data <- as.numeric(rating_data)\n",
    "\n",
    "#Let's have another look at the ratings data\n",
    "head(rating_data)"
   ]
  },
  {
   "cell_type": "code",
   "execution_count": 189,
   "metadata": {},
   "outputs": [
    {
     "data": {
      "text/html": [
       "<style>\n",
       ".list-inline {list-style: none; margin:0; padding: 0}\n",
       ".list-inline>li {display: inline-block}\n",
       ".list-inline>li:not(:last-child)::after {content: \"\\00b7\"; padding: 0 .5ex}\n",
       "</style>\n",
       "<ol class=list-inline><li>908395</li><li>604740</li><li>181127</li><li>395793</li><li>668968</li><li>202558</li></ol>\n"
      ],
      "text/latex": [
       "\\begin{enumerate*}\n",
       "\\item 908395\n",
       "\\item 604740\n",
       "\\item 181127\n",
       "\\item 395793\n",
       "\\item 668968\n",
       "\\item 202558\n",
       "\\end{enumerate*}\n"
      ],
      "text/markdown": [
       "1. 908395\n",
       "2. 604740\n",
       "3. 181127\n",
       "4. 395793\n",
       "5. 668968\n",
       "6. 202558\n",
       "\n",
       "\n"
      ],
      "text/plain": [
       "[1] 908395 604740 181127 395793 668968 202558"
      ]
     },
     "metadata": {},
     "output_type": "display_data"
    }
   ],
   "source": [
    "#Using CSS selectors to scrape the votes section\n",
    "votes_data_html <- html_nodes(webpage,'.sort-num_votes-visible span:nth-child(2)')\n",
    "\n",
    "#Converting the votes data to text\n",
    "votes_data <- html_text(votes_data_html)\n",
    "\n",
    "#Data-Preprocessing: removing commas\n",
    "votes_data <- gsub(\",\",\"\",votes_data)\n",
    "\n",
    "#Data-Preprocessing: converting votes to numerical\n",
    "votes_data <- as.numeric(votes_data)\n",
    "\n",
    "#Let's have another look at the votes data\n",
    "head(votes_data)"
   ]
  },
  {
   "cell_type": "code",
   "execution_count": 190,
   "metadata": {},
   "outputs": [
    {
     "data": {
      "text/html": [
       "<style>\n",
       ".list-inline {list-style: none; margin:0; padding: 0}\n",
       ".list-inline>li {display: inline-block}\n",
       ".list-inline>li:not(:last-child)::after {content: \"\\00b7\"; padding: 0 .5ex}\n",
       "</style>\n",
       "<ol class=list-inline><li>Tim Miller</li><li>David Ayer</li><li>Todd Phillips</li><li>Bryan Singer</li><li>Anthony Russo</li><li>Theodore Melfi</li></ol>\n",
       "\n",
       "<details>\n",
       "\t<summary style=display:list-item;cursor:pointer>\n",
       "\t\t<strong>Levels</strong>:\n",
       "\t</summary>\n",
       "\t<style>\n",
       "\t.list-inline {list-style: none; margin:0; padding: 0}\n",
       "\t.list-inline>li {display: inline-block}\n",
       "\t.list-inline>li:not(:last-child)::after {content: \"\\00b7\"; padding: 0 .5ex}\n",
       "\t</style>\n",
       "\t<ol class=list-inline><li>'Alex Proyas'</li><li>'Ana Lily Amirpour'</li><li>'Andrea Arnold'</li><li>'Andrew Stanton'</li><li>'Anna Biller'</li><li>'Anna Foerster'</li><li>'Anthony Russo'</li><li>'Antoine Fuqua'</li><li>'April Mullen'</li><li>'Barry Jenkins'</li><li>'Bryan Singer'</li><li>'Burr Steers'</li><li>'Byron Howard'</li><li>'Cedric Nicolas-Troyan'</li><li>'Chan-wook Park'</li><li>'Clint Eastwood'</li><li>'Damien Chazelle'</li><li>'Damien Leone'</li><li>'Dan Trachtenberg'</li><li>'Dave Green'</li><li>'David Ayer'</li><li>'David F. Sandberg'</li><li>'David Mackenzie'</li><li>'David Yates'</li><li>'Denis Villeneuve'</li><li>'Denzel Washington'</li><li>'Duncan Jones'</li><li>'Edward Zwick'</li><li>'Ethan Coen'</li><li>'Fede Alvarez'</li><li>'Gareth Edwards'</li><li>'Garry Marshall'</li><li>'Garth Davis'</li><li>'Garth Jennings'</li><li>'Gary Ross'</li><li>'Gavin O\\'Connor'</li><li>'Gore Verbinski'</li><li>'Greg Tiernan'</li><li>'Hideaki Anno'</li><li>'Hong-jin Na'</li><li>'J Blakeson'</li><li>'J.A. Bayona'</li><li>'Jake Szymanski'</li><li>'James Gray'</li><li>'James Wan'</li><li>'Jaume Collet-Serra'</li><li>'Jim Jarmusch'</li><li>'John Hillcoat'</li><li>'John Lee Hancock'</li><li>'Jon Favreau'</li><li>'Jon Lucas'</li><li>'Jon M. Chu'</li><li>'Justin Kurzel'</li><li>'Justin Lin'</li><li>'Kelly Fremon Craig'</li><li>'Kenneth Lonergan'</li><li>'M. Night Shyamalan'</li><li>'Makoto Shinkai'</li><li>'Martin Scorsese'</li><li>'Matt Ross'</li><li>'Mel Gibson'</li><li>'Michael Bay'</li><li>'Mike Flanagan'</li><li>'Mike Mitchell'</li><li>'Mike Thurmeier'</li><li>'Morten Tyldum'</li><li>'Naoko Yamada'</li><li>'Nicholas Stoller'</li><li>'Nicolas Winding Refn'</li><li>'Nitesh Tiwari'</li><li>'Oliver Stone'</li><li>'Oriol Paulo'</li><li>'Paul Feig'</li><li>'Paul Greengrass'</li><li>'Paul W.S. Anderson'</li><li>'Peter Berg'</li><li>'Richard Linklater'</li><li>'Rob Burnett'</li><li>'Robert Schwentke'</li><li>'Robert Zemeckis'</li><li>'Roland Emmerich'</li><li>'Ron Clements'</li><li>'Ron Howard'</li><li>'Sang-ho Yeon'</li><li>'Scott Derrickson'</li><li>'Shane Black'</li><li>'Taika Waititi'</li><li>'Tate Taylor'</li><li>'Terry George'</li><li>'Thea Sharrock'</li><li>'Theodore Melfi'</li><li>'Tim Burton'</li><li>'Tim Miller'</li><li>'Tod Williams'</li><li>'Todd Phillips'</li><li>'Tom Ford'</li><li>'William Oldroyd'</li><li>'Yimou Zhang'</li><li>'Zack Snyder'</li></ol>\n",
       "</details>"
      ],
      "text/latex": [
       "\\begin{enumerate*}\n",
       "\\item Tim Miller\n",
       "\\item David Ayer\n",
       "\\item Todd Phillips\n",
       "\\item Bryan Singer\n",
       "\\item Anthony Russo\n",
       "\\item Theodore Melfi\n",
       "\\end{enumerate*}\n",
       "\n",
       "\\emph{Levels}: \\begin{enumerate*}\n",
       "\\item 'Alex Proyas'\n",
       "\\item 'Ana Lily Amirpour'\n",
       "\\item 'Andrea Arnold'\n",
       "\\item 'Andrew Stanton'\n",
       "\\item 'Anna Biller'\n",
       "\\item 'Anna Foerster'\n",
       "\\item 'Anthony Russo'\n",
       "\\item 'Antoine Fuqua'\n",
       "\\item 'April Mullen'\n",
       "\\item 'Barry Jenkins'\n",
       "\\item 'Bryan Singer'\n",
       "\\item 'Burr Steers'\n",
       "\\item 'Byron Howard'\n",
       "\\item 'Cedric Nicolas-Troyan'\n",
       "\\item 'Chan-wook Park'\n",
       "\\item 'Clint Eastwood'\n",
       "\\item 'Damien Chazelle'\n",
       "\\item 'Damien Leone'\n",
       "\\item 'Dan Trachtenberg'\n",
       "\\item 'Dave Green'\n",
       "\\item 'David Ayer'\n",
       "\\item 'David F. Sandberg'\n",
       "\\item 'David Mackenzie'\n",
       "\\item 'David Yates'\n",
       "\\item 'Denis Villeneuve'\n",
       "\\item 'Denzel Washington'\n",
       "\\item 'Duncan Jones'\n",
       "\\item 'Edward Zwick'\n",
       "\\item 'Ethan Coen'\n",
       "\\item 'Fede Alvarez'\n",
       "\\item 'Gareth Edwards'\n",
       "\\item 'Garry Marshall'\n",
       "\\item 'Garth Davis'\n",
       "\\item 'Garth Jennings'\n",
       "\\item 'Gary Ross'\n",
       "\\item 'Gavin O\\textbackslash{}'Connor'\n",
       "\\item 'Gore Verbinski'\n",
       "\\item 'Greg Tiernan'\n",
       "\\item 'Hideaki Anno'\n",
       "\\item 'Hong-jin Na'\n",
       "\\item 'J Blakeson'\n",
       "\\item 'J.A. Bayona'\n",
       "\\item 'Jake Szymanski'\n",
       "\\item 'James Gray'\n",
       "\\item 'James Wan'\n",
       "\\item 'Jaume Collet-Serra'\n",
       "\\item 'Jim Jarmusch'\n",
       "\\item 'John Hillcoat'\n",
       "\\item 'John Lee Hancock'\n",
       "\\item 'Jon Favreau'\n",
       "\\item 'Jon Lucas'\n",
       "\\item 'Jon M. Chu'\n",
       "\\item 'Justin Kurzel'\n",
       "\\item 'Justin Lin'\n",
       "\\item 'Kelly Fremon Craig'\n",
       "\\item 'Kenneth Lonergan'\n",
       "\\item 'M. Night Shyamalan'\n",
       "\\item 'Makoto Shinkai'\n",
       "\\item 'Martin Scorsese'\n",
       "\\item 'Matt Ross'\n",
       "\\item 'Mel Gibson'\n",
       "\\item 'Michael Bay'\n",
       "\\item 'Mike Flanagan'\n",
       "\\item 'Mike Mitchell'\n",
       "\\item 'Mike Thurmeier'\n",
       "\\item 'Morten Tyldum'\n",
       "\\item 'Naoko Yamada'\n",
       "\\item 'Nicholas Stoller'\n",
       "\\item 'Nicolas Winding Refn'\n",
       "\\item 'Nitesh Tiwari'\n",
       "\\item 'Oliver Stone'\n",
       "\\item 'Oriol Paulo'\n",
       "\\item 'Paul Feig'\n",
       "\\item 'Paul Greengrass'\n",
       "\\item 'Paul W.S. Anderson'\n",
       "\\item 'Peter Berg'\n",
       "\\item 'Richard Linklater'\n",
       "\\item 'Rob Burnett'\n",
       "\\item 'Robert Schwentke'\n",
       "\\item 'Robert Zemeckis'\n",
       "\\item 'Roland Emmerich'\n",
       "\\item 'Ron Clements'\n",
       "\\item 'Ron Howard'\n",
       "\\item 'Sang-ho Yeon'\n",
       "\\item 'Scott Derrickson'\n",
       "\\item 'Shane Black'\n",
       "\\item 'Taika Waititi'\n",
       "\\item 'Tate Taylor'\n",
       "\\item 'Terry George'\n",
       "\\item 'Thea Sharrock'\n",
       "\\item 'Theodore Melfi'\n",
       "\\item 'Tim Burton'\n",
       "\\item 'Tim Miller'\n",
       "\\item 'Tod Williams'\n",
       "\\item 'Todd Phillips'\n",
       "\\item 'Tom Ford'\n",
       "\\item 'William Oldroyd'\n",
       "\\item 'Yimou Zhang'\n",
       "\\item 'Zack Snyder'\n",
       "\\end{enumerate*}\n"
      ],
      "text/markdown": [
       "1. Tim Miller\n",
       "2. David Ayer\n",
       "3. Todd Phillips\n",
       "4. Bryan Singer\n",
       "5. Anthony Russo\n",
       "6. Theodore Melfi\n",
       "\n",
       "\n",
       "\n",
       "**Levels**: 1. 'Alex Proyas'\n",
       "2. 'Ana Lily Amirpour'\n",
       "3. 'Andrea Arnold'\n",
       "4. 'Andrew Stanton'\n",
       "5. 'Anna Biller'\n",
       "6. 'Anna Foerster'\n",
       "7. 'Anthony Russo'\n",
       "8. 'Antoine Fuqua'\n",
       "9. 'April Mullen'\n",
       "10. 'Barry Jenkins'\n",
       "11. 'Bryan Singer'\n",
       "12. 'Burr Steers'\n",
       "13. 'Byron Howard'\n",
       "14. 'Cedric Nicolas-Troyan'\n",
       "15. 'Chan-wook Park'\n",
       "16. 'Clint Eastwood'\n",
       "17. 'Damien Chazelle'\n",
       "18. 'Damien Leone'\n",
       "19. 'Dan Trachtenberg'\n",
       "20. 'Dave Green'\n",
       "21. 'David Ayer'\n",
       "22. 'David F. Sandberg'\n",
       "23. 'David Mackenzie'\n",
       "24. 'David Yates'\n",
       "25. 'Denis Villeneuve'\n",
       "26. 'Denzel Washington'\n",
       "27. 'Duncan Jones'\n",
       "28. 'Edward Zwick'\n",
       "29. 'Ethan Coen'\n",
       "30. 'Fede Alvarez'\n",
       "31. 'Gareth Edwards'\n",
       "32. 'Garry Marshall'\n",
       "33. 'Garth Davis'\n",
       "34. 'Garth Jennings'\n",
       "35. 'Gary Ross'\n",
       "36. 'Gavin O\\'Connor'\n",
       "37. 'Gore Verbinski'\n",
       "38. 'Greg Tiernan'\n",
       "39. 'Hideaki Anno'\n",
       "40. 'Hong-jin Na'\n",
       "41. 'J Blakeson'\n",
       "42. 'J.A. Bayona'\n",
       "43. 'Jake Szymanski'\n",
       "44. 'James Gray'\n",
       "45. 'James Wan'\n",
       "46. 'Jaume Collet-Serra'\n",
       "47. 'Jim Jarmusch'\n",
       "48. 'John Hillcoat'\n",
       "49. 'John Lee Hancock'\n",
       "50. 'Jon Favreau'\n",
       "51. 'Jon Lucas'\n",
       "52. 'Jon M. Chu'\n",
       "53. 'Justin Kurzel'\n",
       "54. 'Justin Lin'\n",
       "55. 'Kelly Fremon Craig'\n",
       "56. 'Kenneth Lonergan'\n",
       "57. 'M. Night Shyamalan'\n",
       "58. 'Makoto Shinkai'\n",
       "59. 'Martin Scorsese'\n",
       "60. 'Matt Ross'\n",
       "61. 'Mel Gibson'\n",
       "62. 'Michael Bay'\n",
       "63. 'Mike Flanagan'\n",
       "64. 'Mike Mitchell'\n",
       "65. 'Mike Thurmeier'\n",
       "66. 'Morten Tyldum'\n",
       "67. 'Naoko Yamada'\n",
       "68. 'Nicholas Stoller'\n",
       "69. 'Nicolas Winding Refn'\n",
       "70. 'Nitesh Tiwari'\n",
       "71. 'Oliver Stone'\n",
       "72. 'Oriol Paulo'\n",
       "73. 'Paul Feig'\n",
       "74. 'Paul Greengrass'\n",
       "75. 'Paul W.S. Anderson'\n",
       "76. 'Peter Berg'\n",
       "77. 'Richard Linklater'\n",
       "78. 'Rob Burnett'\n",
       "79. 'Robert Schwentke'\n",
       "80. 'Robert Zemeckis'\n",
       "81. 'Roland Emmerich'\n",
       "82. 'Ron Clements'\n",
       "83. 'Ron Howard'\n",
       "84. 'Sang-ho Yeon'\n",
       "85. 'Scott Derrickson'\n",
       "86. 'Shane Black'\n",
       "87. 'Taika Waititi'\n",
       "88. 'Tate Taylor'\n",
       "89. 'Terry George'\n",
       "90. 'Thea Sharrock'\n",
       "91. 'Theodore Melfi'\n",
       "92. 'Tim Burton'\n",
       "93. 'Tim Miller'\n",
       "94. 'Tod Williams'\n",
       "95. 'Todd Phillips'\n",
       "96. 'Tom Ford'\n",
       "97. 'William Oldroyd'\n",
       "98. 'Yimou Zhang'\n",
       "99. 'Zack Snyder'\n",
       "\n",
       "\n"
      ],
      "text/plain": [
       "[1] Tim Miller     David Ayer     Todd Phillips  Bryan Singer   Anthony Russo \n",
       "[6] Theodore Melfi\n",
       "99 Levels: Alex Proyas Ana Lily Amirpour Andrea Arnold ... Zack Snyder"
      ]
     },
     "metadata": {},
     "output_type": "display_data"
    }
   ],
   "source": [
    "#Using CSS selectors to scrape the directors section\n",
    "directors_data_html <- html_nodes(webpage,'.text-muted+ p a:nth-child(1)')\n",
    "\n",
    "#Converting the directors data to text\n",
    "directors_data <- html_text(directors_data_html)\n",
    "\n",
    "#Data-Preprocessing: converting directors data into factors\n",
    "directors_data<-as.factor(directors_data)\n",
    "\n",
    "head(directors_data)"
   ]
  },
  {
   "cell_type": "code",
   "execution_count": 191,
   "metadata": {},
   "outputs": [
    {
     "data": {
      "text/html": [
       "<style>\n",
       ".list-inline {list-style: none; margin:0; padding: 0}\n",
       ".list-inline>li {display: inline-block}\n",
       ".list-inline>li:not(:last-child)::after {content: \"\\00b7\"; padding: 0 .5ex}\n",
       "</style>\n",
       "<ol class=list-inline><li>Ryan Reynolds</li><li>Will Smith</li><li>Jonah Hill</li><li>James McAvoy</li><li>Chris Evans</li><li>Taraji P. Henson</li></ol>\n",
       "\n",
       "<details>\n",
       "\t<summary style=display:list-item;cursor:pointer>\n",
       "\t\t<strong>Levels</strong>:\n",
       "\t</summary>\n",
       "\t<style>\n",
       "\t.list-inline {list-style: none; margin:0; padding: 0}\n",
       "\t.list-inline>li {display: inline-block}\n",
       "\t.list-inline>li:not(:last-child)::after {content: \"\\00b7\"; padding: 0 .5ex}\n",
       "\t</style>\n",
       "\t<ol class=list-inline><li>'Aamir Khan'</li><li>'Adam Driver'</li><li>'Alexander Skarsgård'</li><li>'Amy Adams'</li><li>'Andrew Garfield'</li><li>'Anna Kendrick'</li><li>'Auli\\'i Cravalho'</li><li>'Ben Affleck'</li><li>'Benedict Cumberbatch'</li><li>'Blake Jenner'</li><li>'Blake Lively'</li><li>'Brad Pitt'</li><li>'Brenton Thwaites'</li><li>'Casey Affleck'</li><li>'Charlie Hunnam'</li><li>'Chloë Grace Moretz'</li><li>'Chris Evans'</li><li>'Chris Hemsworth'</li><li>'Chris Pine'</li><li>'Craig Roberts'</li><li>'Dane DeHaan'</li><li>'Denzel Washington'</li><li>'Dev Patel'</li><li>'Eddie Redmayne'</li><li>'Elle Fanning'</li><li>'Ellen DeGeneres'</li><li>'Emilia Clarke'</li><li>'Emily Blunt'</li><li>'Erika Linder'</li><li>'Eva Green'</li><li>'Felicity Jones'</li><li>'Florence Pugh'</li><li>'Ginnifer Goodwin'</li><li>'Gong Yoo'</li><li>'Hailee Steinfeld'</li><li>'Hiroki Hasegawa'</li><li>'James McAvoy'</li><li>'Jenna Kanell'</li><li>'Jennifer Aniston'</li><li>'Jennifer Lawrence'</li><li>'Jesse Eisenberg'</li><li>'John Cusack'</li><li>'John Gallagher Jr.'</li><li>'John Goodman'</li><li>'John Krasinski'</li><li>'Jonah Hill'</li><li>'Joseph Gordon-Levitt'</li><li>'Josh Brolin'</li><li>'Jun Kunimura'</li><li>'Kate Beckinsale'</li><li>'Lewis MacDougall'</li><li>'Liam Hemsworth'</li><li>'Lily James'</li><li>'Mahershala Ali'</li><li>'Mario Casas'</li><li>'Mark Wahlberg'</li><li>'Matt Damon'</li><li>'Matthew McConaughey'</li><li>'Megan Fox'</li><li>'Melissa McCarthy'</li><li>'Michael Fassbender'</li><li>'Michael Keaton'</li><li>'Mila Kunis'</li><li>'Milla Jovovich'</li><li>'Min-hee Kim'</li><li>'Miyu Irino'</li><li>'Neel Sethi'</li><li>'Oscar Isaac'</li><li>'Ray Romano'</li><li>'Russell Crowe'</li><li>'Ryan Gosling'</li><li>'Ryan Reynolds'</li><li>'Ryûnosuke Kamiki'</li><li>'Sam Neill'</li><li>'Samantha Robinson'</li><li>'Sasha Lane'</li><li>'Seth Rogen'</li><li>'Shailene Woodley'</li><li>'Stephen Lang'</li><li>'Suki Waterhouse'</li><li>'Taraji P. Henson'</li><li>'Teresa Palmer'</li><li>'Tom Cruise'</li><li>'Tom Hanks'</li><li>'Travis Fimmel'</li><li>'Vera Farmiga'</li><li>'Viggo Mortensen'</li><li>'Will Smith'</li><li>'Zac Efron'</li></ol>\n",
       "</details>"
      ],
      "text/latex": [
       "\\begin{enumerate*}\n",
       "\\item Ryan Reynolds\n",
       "\\item Will Smith\n",
       "\\item Jonah Hill\n",
       "\\item James McAvoy\n",
       "\\item Chris Evans\n",
       "\\item Taraji P. Henson\n",
       "\\end{enumerate*}\n",
       "\n",
       "\\emph{Levels}: \\begin{enumerate*}\n",
       "\\item 'Aamir Khan'\n",
       "\\item 'Adam Driver'\n",
       "\\item 'Alexander Skarsgård'\n",
       "\\item 'Amy Adams'\n",
       "\\item 'Andrew Garfield'\n",
       "\\item 'Anna Kendrick'\n",
       "\\item 'Auli\\textbackslash{}'i Cravalho'\n",
       "\\item 'Ben Affleck'\n",
       "\\item 'Benedict Cumberbatch'\n",
       "\\item 'Blake Jenner'\n",
       "\\item 'Blake Lively'\n",
       "\\item 'Brad Pitt'\n",
       "\\item 'Brenton Thwaites'\n",
       "\\item 'Casey Affleck'\n",
       "\\item 'Charlie Hunnam'\n",
       "\\item 'Chloë Grace Moretz'\n",
       "\\item 'Chris Evans'\n",
       "\\item 'Chris Hemsworth'\n",
       "\\item 'Chris Pine'\n",
       "\\item 'Craig Roberts'\n",
       "\\item 'Dane DeHaan'\n",
       "\\item 'Denzel Washington'\n",
       "\\item 'Dev Patel'\n",
       "\\item 'Eddie Redmayne'\n",
       "\\item 'Elle Fanning'\n",
       "\\item 'Ellen DeGeneres'\n",
       "\\item 'Emilia Clarke'\n",
       "\\item 'Emily Blunt'\n",
       "\\item 'Erika Linder'\n",
       "\\item 'Eva Green'\n",
       "\\item 'Felicity Jones'\n",
       "\\item 'Florence Pugh'\n",
       "\\item 'Ginnifer Goodwin'\n",
       "\\item 'Gong Yoo'\n",
       "\\item 'Hailee Steinfeld'\n",
       "\\item 'Hiroki Hasegawa'\n",
       "\\item 'James McAvoy'\n",
       "\\item 'Jenna Kanell'\n",
       "\\item 'Jennifer Aniston'\n",
       "\\item 'Jennifer Lawrence'\n",
       "\\item 'Jesse Eisenberg'\n",
       "\\item 'John Cusack'\n",
       "\\item 'John Gallagher Jr.'\n",
       "\\item 'John Goodman'\n",
       "\\item 'John Krasinski'\n",
       "\\item 'Jonah Hill'\n",
       "\\item 'Joseph Gordon-Levitt'\n",
       "\\item 'Josh Brolin'\n",
       "\\item 'Jun Kunimura'\n",
       "\\item 'Kate Beckinsale'\n",
       "\\item 'Lewis MacDougall'\n",
       "\\item 'Liam Hemsworth'\n",
       "\\item 'Lily James'\n",
       "\\item 'Mahershala Ali'\n",
       "\\item 'Mario Casas'\n",
       "\\item 'Mark Wahlberg'\n",
       "\\item 'Matt Damon'\n",
       "\\item 'Matthew McConaughey'\n",
       "\\item 'Megan Fox'\n",
       "\\item 'Melissa McCarthy'\n",
       "\\item 'Michael Fassbender'\n",
       "\\item 'Michael Keaton'\n",
       "\\item 'Mila Kunis'\n",
       "\\item 'Milla Jovovich'\n",
       "\\item 'Min-hee Kim'\n",
       "\\item 'Miyu Irino'\n",
       "\\item 'Neel Sethi'\n",
       "\\item 'Oscar Isaac'\n",
       "\\item 'Ray Romano'\n",
       "\\item 'Russell Crowe'\n",
       "\\item 'Ryan Gosling'\n",
       "\\item 'Ryan Reynolds'\n",
       "\\item 'Ryûnosuke Kamiki'\n",
       "\\item 'Sam Neill'\n",
       "\\item 'Samantha Robinson'\n",
       "\\item 'Sasha Lane'\n",
       "\\item 'Seth Rogen'\n",
       "\\item 'Shailene Woodley'\n",
       "\\item 'Stephen Lang'\n",
       "\\item 'Suki Waterhouse'\n",
       "\\item 'Taraji P. Henson'\n",
       "\\item 'Teresa Palmer'\n",
       "\\item 'Tom Cruise'\n",
       "\\item 'Tom Hanks'\n",
       "\\item 'Travis Fimmel'\n",
       "\\item 'Vera Farmiga'\n",
       "\\item 'Viggo Mortensen'\n",
       "\\item 'Will Smith'\n",
       "\\item 'Zac Efron'\n",
       "\\end{enumerate*}\n"
      ],
      "text/markdown": [
       "1. Ryan Reynolds\n",
       "2. Will Smith\n",
       "3. Jonah Hill\n",
       "4. James McAvoy\n",
       "5. Chris Evans\n",
       "6. Taraji P. Henson\n",
       "\n",
       "\n",
       "\n",
       "**Levels**: 1. 'Aamir Khan'\n",
       "2. 'Adam Driver'\n",
       "3. 'Alexander Skarsgård'\n",
       "4. 'Amy Adams'\n",
       "5. 'Andrew Garfield'\n",
       "6. 'Anna Kendrick'\n",
       "7. 'Auli\\'i Cravalho'\n",
       "8. 'Ben Affleck'\n",
       "9. 'Benedict Cumberbatch'\n",
       "10. 'Blake Jenner'\n",
       "11. 'Blake Lively'\n",
       "12. 'Brad Pitt'\n",
       "13. 'Brenton Thwaites'\n",
       "14. 'Casey Affleck'\n",
       "15. 'Charlie Hunnam'\n",
       "16. 'Chloë Grace Moretz'\n",
       "17. 'Chris Evans'\n",
       "18. 'Chris Hemsworth'\n",
       "19. 'Chris Pine'\n",
       "20. 'Craig Roberts'\n",
       "21. 'Dane DeHaan'\n",
       "22. 'Denzel Washington'\n",
       "23. 'Dev Patel'\n",
       "24. 'Eddie Redmayne'\n",
       "25. 'Elle Fanning'\n",
       "26. 'Ellen DeGeneres'\n",
       "27. 'Emilia Clarke'\n",
       "28. 'Emily Blunt'\n",
       "29. 'Erika Linder'\n",
       "30. 'Eva Green'\n",
       "31. 'Felicity Jones'\n",
       "32. 'Florence Pugh'\n",
       "33. 'Ginnifer Goodwin'\n",
       "34. 'Gong Yoo'\n",
       "35. 'Hailee Steinfeld'\n",
       "36. 'Hiroki Hasegawa'\n",
       "37. 'James McAvoy'\n",
       "38. 'Jenna Kanell'\n",
       "39. 'Jennifer Aniston'\n",
       "40. 'Jennifer Lawrence'\n",
       "41. 'Jesse Eisenberg'\n",
       "42. 'John Cusack'\n",
       "43. 'John Gallagher Jr.'\n",
       "44. 'John Goodman'\n",
       "45. 'John Krasinski'\n",
       "46. 'Jonah Hill'\n",
       "47. 'Joseph Gordon-Levitt'\n",
       "48. 'Josh Brolin'\n",
       "49. 'Jun Kunimura'\n",
       "50. 'Kate Beckinsale'\n",
       "51. 'Lewis MacDougall'\n",
       "52. 'Liam Hemsworth'\n",
       "53. 'Lily James'\n",
       "54. 'Mahershala Ali'\n",
       "55. 'Mario Casas'\n",
       "56. 'Mark Wahlberg'\n",
       "57. 'Matt Damon'\n",
       "58. 'Matthew McConaughey'\n",
       "59. 'Megan Fox'\n",
       "60. 'Melissa McCarthy'\n",
       "61. 'Michael Fassbender'\n",
       "62. 'Michael Keaton'\n",
       "63. 'Mila Kunis'\n",
       "64. 'Milla Jovovich'\n",
       "65. 'Min-hee Kim'\n",
       "66. 'Miyu Irino'\n",
       "67. 'Neel Sethi'\n",
       "68. 'Oscar Isaac'\n",
       "69. 'Ray Romano'\n",
       "70. 'Russell Crowe'\n",
       "71. 'Ryan Gosling'\n",
       "72. 'Ryan Reynolds'\n",
       "73. 'Ryûnosuke Kamiki'\n",
       "74. 'Sam Neill'\n",
       "75. 'Samantha Robinson'\n",
       "76. 'Sasha Lane'\n",
       "77. 'Seth Rogen'\n",
       "78. 'Shailene Woodley'\n",
       "79. 'Stephen Lang'\n",
       "80. 'Suki Waterhouse'\n",
       "81. 'Taraji P. Henson'\n",
       "82. 'Teresa Palmer'\n",
       "83. 'Tom Cruise'\n",
       "84. 'Tom Hanks'\n",
       "85. 'Travis Fimmel'\n",
       "86. 'Vera Farmiga'\n",
       "87. 'Viggo Mortensen'\n",
       "88. 'Will Smith'\n",
       "89. 'Zac Efron'\n",
       "\n",
       "\n"
      ],
      "text/plain": [
       "[1] Ryan Reynolds    Will Smith       Jonah Hill       James McAvoy    \n",
       "[5] Chris Evans      Taraji P. Henson\n",
       "89 Levels: Aamir Khan Adam Driver Alexander Skarsgård ... Zac Efron"
      ]
     },
     "metadata": {},
     "output_type": "display_data"
    }
   ],
   "source": [
    "#Using CSS selectors to scrape the actors section\n",
    "actors_data_html <- html_nodes(webpage,'.lister-item-content .ghost+ a')\n",
    "\n",
    "#Converting the gross actors data to text\n",
    "actors_data <- html_text(actors_data_html)\n",
    "\n",
    "#Data-Preprocessing: converting actors data into factors\n",
    "actors_data <- as.factor(actors_data)\n",
    "\n",
    "head(actors_data)"
   ]
  },
  {
   "cell_type": "code",
   "execution_count": 192,
   "metadata": {},
   "outputs": [
    {
     "data": {
      "text/html": [
       "100"
      ],
      "text/latex": [
       "100"
      ],
      "text/markdown": [
       "100"
      ],
      "text/plain": [
       "[1] 100"
      ]
     },
     "metadata": {},
     "output_type": "display_data"
    },
    {
     "data": {
      "text/plain": [
       "   Min. 1st Qu.  Median    Mean 3rd Qu.    Max.    NA's \n",
       "  18.00   48.00   62.00   61.01   76.00   99.00       3 "
      ]
     },
     "metadata": {},
     "output_type": "display_data"
    }
   ],
   "source": [
    "#Using CSS selectors to scrape the metascore section\n",
    "metascore_data_html <- html_node(html_nodes(webpage, '.lister-item-content'), '.metascore')\n",
    "\n",
    "#Converting the runtime data to text\n",
    "metascore_data <- html_text(metascore_data_html)\n",
    "\n",
    "#Data-Preprocessing: converting metascore to numerical\n",
    "metascore_data <- as.numeric(metascore_data)\n",
    "\n",
    "#Let's have another look at length of the metascore data\n",
    "\n",
    "length(metascore_data)\n",
    "\n",
    "summary(metascore_data)"
   ]
  },
  {
   "cell_type": "markdown",
   "metadata": {},
   "source": [
    "<div class=\"Q\"><br><br>\n",
    "\n",
    "How many films have no metascore data?\n",
    " \n",
    "<br><br><div class=\"qhelp\"></div></div>"
   ]
  },
  {
   "cell_type": "code",
   "execution_count": 197,
   "metadata": {},
   "outputs": [
    {
     "data": {
      "text/html": [
       "100"
      ],
      "text/latex": [
       "100"
      ],
      "text/markdown": [
       "100"
      ],
      "text/plain": [
       "[1] 100"
      ]
     },
     "metadata": {},
     "output_type": "display_data"
    },
    {
     "data": {
      "text/html": [
       "<style>\n",
       ".list-inline {list-style: none; margin:0; padding: 0}\n",
       ".list-inline>li {display: inline-block}\n",
       ".list-inline>li:not(:last-child)::after {content: \"\\00b7\"; padding: 0 .5ex}\n",
       "</style>\n",
       "<ol class=list-inline><li>363</li><li>325.1</li><li>43.03</li><li>155.4</li><li>408</li><li>169.6</li></ol>\n"
      ],
      "text/latex": [
       "\\begin{enumerate*}\n",
       "\\item 363\n",
       "\\item 325.1\n",
       "\\item 43.03\n",
       "\\item 155.4\n",
       "\\item 408\n",
       "\\item 169.6\n",
       "\\end{enumerate*}\n"
      ],
      "text/markdown": [
       "1. 363\n",
       "2. 325.1\n",
       "3. 43.03\n",
       "4. 155.4\n",
       "5. 408\n",
       "6. 169.6\n",
       "\n",
       "\n"
      ],
      "text/plain": [
       "[1] 363.00 325.10  43.03 155.40 408.00 169.60"
      ]
     },
     "metadata": {},
     "output_type": "display_data"
    },
    {
     "data": {
      "text/plain": [
       "   Min. 1st Qu.  Median    Mean 3rd Qu.    Max.    NA's \n",
       "   0.18   17.59   55.12   92.80  108.15  532.10       9 "
      ]
     },
     "metadata": {},
     "output_type": "display_data"
    }
   ],
   "source": [
    "#Using CSS selectors to scrape the gross revenue section\n",
    "gross_data_html <- html_node(html_nodes(webpage, '.lister-item-content'), '.sort-num_votes-visible span:nth-child(5)')\n",
    "\n",
    "#Converting the gross revenue data to text\n",
    "gross_data <- html_text(gross_data_html)\n",
    "\n",
    "#Removing '$' and 'M' signs\n",
    "gross_data <- gsub(\"M\",\"\",gross_data)\n",
    "\n",
    "gross_data <- substring(gross_data,2,6)\n",
    "\n",
    "#converting gross_data to numerical\n",
    "gross_data <- as.numeric(gross_data)\n",
    "\n",
    "length(gross_data)\n",
    "\n",
    "head(gross_data)\n",
    "\n",
    "summary(gross_data)"
   ]
  },
  {
   "cell_type": "markdown",
   "metadata": {},
   "source": [
    "<div class=\"Q\"><br><br>\n",
    "\n",
    "How many films are missing gross data values?\n",
    " \n",
    "<br><br><div class=\"qhelp\"></div></div>"
   ]
  },
  {
   "cell_type": "code",
   "execution_count": 198,
   "metadata": {},
   "outputs": [
    {
     "name": "stdout",
     "output_type": "stream",
     "text": [
      "'data.frame':\t100 obs. of  11 variables:\n",
      " $ Rank                : num  1 2 3 4 5 6 7 8 9 10 ...\n",
      " $ Title               : chr  \"Deadpool\" \"Suicide Squad\" \"War Dogs\" \"X-Men: Apocalypse\" ...\n",
      " $ Description         : chr  \"    A wisecracking mercenary gets experimented on and becomes immortal but ugly, and sets out to track down the\"| __truncated__ \"    A secret government agency recruits some of the most dangerous incarcerated super-villains to form a defens\"| __truncated__ \"    Loosely based on the true story of two young men, David Packouz and Efraim Diveroli, who won a three hundre\"| __truncated__ \"    In the 1980s the X-Men must defeat an ancient all-powerful mutant, En Sabah Nur, who intends to thrive thro\"| __truncated__ ...\n",
      " $ Runtime             : num  108 123 114 144 147 127 152 112 106 117 ...\n",
      " $ Genre               : Factor w/ 8 levels \"Action\",\"Adventure\",..: 1 1 4 1 1 4 1 6 6 8 ...\n",
      " $ Rating              : num  8 6 7.1 6.9 7.8 7.8 6.4 6.5 8.1 7.3 ...\n",
      " $ Metascore           : num  65 40 57 52 75 74 44 48 NA 62 ...\n",
      " $ Votes               : num  908395 604740 181127 395793 668968 ...\n",
      " $ Gross_Earning_in_Mil: num  363 325 43 155 408 ...\n",
      " $ Director            : Factor w/ 99 levels \"Alex Proyas\",..: 93 21 95 11 7 91 99 88 72 57 ...\n",
      " $ Actor               : Factor w/ 89 levels \"Aamir Khan\",\"Adam Driver\",..: 72 88 46 37 17 81 8 28 55 37 ...\n"
     ]
    }
   ],
   "source": [
    "#Combining all the lists to form a data frame\n",
    "\n",
    "movies_df <- data.frame(Rank = rank_data, Title = title_data,\n",
    "                      Description = description_data, Runtime = runtime_data,\n",
    "                      Genre = genre_data, Rating = rating_data,\n",
    "                      Metascore = metascore_data, \n",
    "                      Votes = votes_data,\n",
    "                      Gross_Earning_in_Mil = gross_data,\n",
    "                      Director = directors_data, Actor = actors_data)\n",
    "\n",
    "str(movies_df)"
   ]
  },
  {
   "cell_type": "markdown",
   "metadata": {},
   "source": [
    "<div class=\"Q\"><br><br>\n",
    "\n",
    "After combining all the scraped datasets, (forming movies_df in our example), how many observations are there?\n",
    " \n",
    "<br><br><div class=\"qhelp\"></div></div>"
   ]
  },
  {
   "cell_type": "markdown",
   "metadata": {},
   "source": [
    "<div class=\"Q\"><br><br>\n",
    "\n",
    "After combining all the scraped datasets, (forming movies_df in our example), how many variables are there?\n",
    " \n",
    "<br><br><div class=\"qhelp\"></div></div>"
   ]
  },
  {
   "cell_type": "code",
   "execution_count": 199,
   "metadata": {},
   "outputs": [
    {
     "data": {
      "text/html": [
       "<table class=\"dataframe\">\n",
       "<caption>A data.frame: 1 × 11</caption>\n",
       "<thead>\n",
       "\t<tr><th></th><th scope=col>Rank</th><th scope=col>Title</th><th scope=col>Description</th><th scope=col>Runtime</th><th scope=col>Genre</th><th scope=col>Rating</th><th scope=col>Metascore</th><th scope=col>Votes</th><th scope=col>Gross_Earning_in_Mil</th><th scope=col>Director</th><th scope=col>Actor</th></tr>\n",
       "\t<tr><th></th><th scope=col>&lt;dbl&gt;</th><th scope=col>&lt;chr&gt;</th><th scope=col>&lt;chr&gt;</th><th scope=col>&lt;dbl&gt;</th><th scope=col>&lt;fct&gt;</th><th scope=col>&lt;dbl&gt;</th><th scope=col>&lt;dbl&gt;</th><th scope=col>&lt;dbl&gt;</th><th scope=col>&lt;dbl&gt;</th><th scope=col>&lt;fct&gt;</th><th scope=col>&lt;fct&gt;</th></tr>\n",
       "</thead>\n",
       "<tbody>\n",
       "\t<tr><th scope=row>56</th><td>56</td><td>Ice Age: Collision Course</td><td>    When Scrat's acorn sends an asteroid to Earth, the Herd must find a way to stop the asteroid from hitting Earth with the help of a returning friend.</td><td>94</td><td>Animation</td><td>5.7</td><td>34</td><td>57596</td><td>64.06</td><td>Mike Thurmeier</td><td>Ray Romano</td></tr>\n",
       "</tbody>\n",
       "</table>\n"
      ],
      "text/latex": [
       "A data.frame: 1 × 11\n",
       "\\begin{tabular}{r|lllllllllll}\n",
       "  & Rank & Title & Description & Runtime & Genre & Rating & Metascore & Votes & Gross\\_Earning\\_in\\_Mil & Director & Actor\\\\\n",
       "  & <dbl> & <chr> & <chr> & <dbl> & <fct> & <dbl> & <dbl> & <dbl> & <dbl> & <fct> & <fct>\\\\\n",
       "\\hline\n",
       "\t56 & 56 & Ice Age: Collision Course &     When Scrat's acorn sends an asteroid to Earth, the Herd must find a way to stop the asteroid from hitting Earth with the help of a returning friend. & 94 & Animation & 5.7 & 34 & 57596 & 64.06 & Mike Thurmeier & Ray Romano\\\\\n",
       "\\end{tabular}\n"
      ],
      "text/markdown": [
       "\n",
       "A data.frame: 1 × 11\n",
       "\n",
       "| <!--/--> | Rank &lt;dbl&gt; | Title &lt;chr&gt; | Description &lt;chr&gt; | Runtime &lt;dbl&gt; | Genre &lt;fct&gt; | Rating &lt;dbl&gt; | Metascore &lt;dbl&gt; | Votes &lt;dbl&gt; | Gross_Earning_in_Mil &lt;dbl&gt; | Director &lt;fct&gt; | Actor &lt;fct&gt; |\n",
       "|---|---|---|---|---|---|---|---|---|---|---|---|\n",
       "| 56 | 56 | Ice Age: Collision Course |     When Scrat's acorn sends an asteroid to Earth, the Herd must find a way to stop the asteroid from hitting Earth with the help of a returning friend. | 94 | Animation | 5.7 | 34 | 57596 | 64.06 | Mike Thurmeier | Ray Romano |\n",
       "\n"
      ],
      "text/plain": [
       "   Rank Title                    \n",
       "56 56   Ice Age: Collision Course\n",
       "   Description                                                                                                                                             \n",
       "56     When Scrat's acorn sends an asteroid to Earth, the Herd must find a way to stop the asteroid from hitting Earth with the help of a returning friend.\n",
       "   Runtime Genre     Rating Metascore Votes Gross_Earning_in_Mil Director      \n",
       "56 94      Animation 5.7    34        57596 64.06                Mike Thurmeier\n",
       "   Actor     \n",
       "56 Ray Romano"
      ]
     },
     "metadata": {},
     "output_type": "display_data"
    }
   ],
   "source": [
    "#For question below\n",
    "movies_df[56,]"
   ]
  },
  {
   "cell_type": "markdown",
   "metadata": {},
   "source": [
    "<div class=\"Q\"><br><br>\n",
    "\n",
    "What is the runtime of the 56th film in the combined dataset (i.e. movies_df)?\n",
    " \n",
    "<br><br><div class=\"qhelp\"></div></div>"
   ]
  },
  {
   "cell_type": "code",
   "execution_count": 201,
   "metadata": {},
   "outputs": [
    {
     "data": {
      "text/html": [
       "<table class=\"dataframe\">\n",
       "<caption>A data.frame: 1 × 11</caption>\n",
       "<thead>\n",
       "\t<tr><th></th><th scope=col>Rank</th><th scope=col>Title</th><th scope=col>Description</th><th scope=col>Runtime</th><th scope=col>Genre</th><th scope=col>Rating</th><th scope=col>Metascore</th><th scope=col>Votes</th><th scope=col>Gross_Earning_in_Mil</th><th scope=col>Director</th><th scope=col>Actor</th></tr>\n",
       "\t<tr><th></th><th scope=col>&lt;dbl&gt;</th><th scope=col>&lt;chr&gt;</th><th scope=col>&lt;chr&gt;</th><th scope=col>&lt;dbl&gt;</th><th scope=col>&lt;fct&gt;</th><th scope=col>&lt;dbl&gt;</th><th scope=col>&lt;dbl&gt;</th><th scope=col>&lt;dbl&gt;</th><th scope=col>&lt;dbl&gt;</th><th scope=col>&lt;fct&gt;</th><th scope=col>&lt;fct&gt;</th></tr>\n",
       "</thead>\n",
       "<tbody>\n",
       "\t<tr><th scope=row>73</th><td>73</td><td>Everybody Wants Some!!</td><td>    In 1980, a group of college baseball players navigate their way through the freedoms and responsibilities of unsupervised adulthood.</td><td>117</td><td>Comedy</td><td>6.9</td><td>83</td><td>52090</td><td>3.37</td><td>Richard Linklater</td><td>Blake Jenner</td></tr>\n",
       "</tbody>\n",
       "</table>\n"
      ],
      "text/latex": [
       "A data.frame: 1 × 11\n",
       "\\begin{tabular}{r|lllllllllll}\n",
       "  & Rank & Title & Description & Runtime & Genre & Rating & Metascore & Votes & Gross\\_Earning\\_in\\_Mil & Director & Actor\\\\\n",
       "  & <dbl> & <chr> & <chr> & <dbl> & <fct> & <dbl> & <dbl> & <dbl> & <dbl> & <fct> & <fct>\\\\\n",
       "\\hline\n",
       "\t73 & 73 & Everybody Wants Some!! &     In 1980, a group of college baseball players navigate their way through the freedoms and responsibilities of unsupervised adulthood. & 117 & Comedy & 6.9 & 83 & 52090 & 3.37 & Richard Linklater & Blake Jenner\\\\\n",
       "\\end{tabular}\n"
      ],
      "text/markdown": [
       "\n",
       "A data.frame: 1 × 11\n",
       "\n",
       "| <!--/--> | Rank &lt;dbl&gt; | Title &lt;chr&gt; | Description &lt;chr&gt; | Runtime &lt;dbl&gt; | Genre &lt;fct&gt; | Rating &lt;dbl&gt; | Metascore &lt;dbl&gt; | Votes &lt;dbl&gt; | Gross_Earning_in_Mil &lt;dbl&gt; | Director &lt;fct&gt; | Actor &lt;fct&gt; |\n",
       "|---|---|---|---|---|---|---|---|---|---|---|---|\n",
       "| 73 | 73 | Everybody Wants Some!! |     In 1980, a group of college baseball players navigate their way through the freedoms and responsibilities of unsupervised adulthood. | 117 | Comedy | 6.9 | 83 | 52090 | 3.37 | Richard Linklater | Blake Jenner |\n",
       "\n"
      ],
      "text/plain": [
       "   Rank Title                 \n",
       "73 73   Everybody Wants Some!!\n",
       "   Description                                                                                                                             \n",
       "73     In 1980, a group of college baseball players navigate their way through the freedoms and responsibilities of unsupervised adulthood.\n",
       "   Runtime Genre  Rating Metascore Votes Gross_Earning_in_Mil Director         \n",
       "73 117     Comedy 6.9    83        52090 3.37                 Richard Linklater\n",
       "   Actor       \n",
       "73 Blake Jenner"
      ]
     },
     "metadata": {},
     "output_type": "display_data"
    }
   ],
   "source": [
    "#For question below\n",
    "movies_df[73,]"
   ]
  },
  {
   "cell_type": "markdown",
   "metadata": {},
   "source": [
    "<div class=\"Q\"><br><br>\n",
    "\n",
    "What is the genre of the 73rd film in the combined dataset (i.e. movies_df)?\n",
    " \n",
    "<br><br><div class=\"qhelp\"></div></div>"
   ]
  },
  {
   "cell_type": "code",
   "execution_count": 203,
   "metadata": {},
   "outputs": [
    {
     "data": {
      "text/html": [
       "99"
      ],
      "text/latex": [
       "99"
      ],
      "text/markdown": [
       "99"
      ],
      "text/plain": [
       "[1] 99"
      ]
     },
     "metadata": {},
     "output_type": "display_data"
    }
   ],
   "source": [
    "#For question below\n",
    "n_distinct(movies_df$Director)"
   ]
  },
  {
   "cell_type": "markdown",
   "metadata": {},
   "source": [
    "<div class=\"Q\"><br><br>\n",
    "\n",
    "How many unique directors are there in the films list?\n",
    " \n",
    "<br><br><div class=\"qhelp\"></div></div>"
   ]
  },
  {
   "cell_type": "code",
   "execution_count": 205,
   "metadata": {},
   "outputs": [
    {
     "data": {
      "text/html": [
       "<table class=\"dataframe\">\n",
       "<caption>A data.frame: 2 × 11</caption>\n",
       "<thead>\n",
       "\t<tr><th></th><th scope=col>Rank</th><th scope=col>Title</th><th scope=col>Description</th><th scope=col>Runtime</th><th scope=col>Genre</th><th scope=col>Rating</th><th scope=col>Metascore</th><th scope=col>Votes</th><th scope=col>Gross_Earning_in_Mil</th><th scope=col>Director</th><th scope=col>Actor</th></tr>\n",
       "\t<tr><th></th><th scope=col>&lt;dbl&gt;</th><th scope=col>&lt;chr&gt;</th><th scope=col>&lt;chr&gt;</th><th scope=col>&lt;dbl&gt;</th><th scope=col>&lt;fct&gt;</th><th scope=col>&lt;dbl&gt;</th><th scope=col>&lt;dbl&gt;</th><th scope=col>&lt;dbl&gt;</th><th scope=col>&lt;dbl&gt;</th><th scope=col>&lt;fct&gt;</th><th scope=col>&lt;fct&gt;</th></tr>\n",
       "</thead>\n",
       "<tbody>\n",
       "\t<tr><th scope=row>35</th><td>35</td><td>Fantastic Beasts and Where to Find Them</td><td>    The adventures of writer Newt Scamander in New York's secret community of witches and wizards seventy years before Harry Potter reads his book in school.</td><td>132</td><td>Adventure</td><td>7.3</td><td>66</td><td>413086</td><td>234.0</td><td>David Yates</td><td>Eddie Redmayne     </td></tr>\n",
       "\t<tr><th scope=row>66</th><td>66</td><td>The Legend of Tarzan                   </td><td>    Tarzan, having acclimated to life in London, is called back to his former home in the jungle to investigate the activities at a mining encampment.       </td><td>110</td><td>Action   </td><td>6.2</td><td>44</td><td>164064</td><td>126.6</td><td>David Yates</td><td>Alexander Skarsgård</td></tr>\n",
       "</tbody>\n",
       "</table>\n"
      ],
      "text/latex": [
       "A data.frame: 2 × 11\n",
       "\\begin{tabular}{r|lllllllllll}\n",
       "  & Rank & Title & Description & Runtime & Genre & Rating & Metascore & Votes & Gross\\_Earning\\_in\\_Mil & Director & Actor\\\\\n",
       "  & <dbl> & <chr> & <chr> & <dbl> & <fct> & <dbl> & <dbl> & <dbl> & <dbl> & <fct> & <fct>\\\\\n",
       "\\hline\n",
       "\t35 & 35 & Fantastic Beasts and Where to Find Them &     The adventures of writer Newt Scamander in New York's secret community of witches and wizards seventy years before Harry Potter reads his book in school. & 132 & Adventure & 7.3 & 66 & 413086 & 234.0 & David Yates & Eddie Redmayne     \\\\\n",
       "\t66 & 66 & The Legend of Tarzan                    &     Tarzan, having acclimated to life in London, is called back to his former home in the jungle to investigate the activities at a mining encampment.        & 110 & Action    & 6.2 & 44 & 164064 & 126.6 & David Yates & Alexander Skarsgård\\\\\n",
       "\\end{tabular}\n"
      ],
      "text/markdown": [
       "\n",
       "A data.frame: 2 × 11\n",
       "\n",
       "| <!--/--> | Rank &lt;dbl&gt; | Title &lt;chr&gt; | Description &lt;chr&gt; | Runtime &lt;dbl&gt; | Genre &lt;fct&gt; | Rating &lt;dbl&gt; | Metascore &lt;dbl&gt; | Votes &lt;dbl&gt; | Gross_Earning_in_Mil &lt;dbl&gt; | Director &lt;fct&gt; | Actor &lt;fct&gt; |\n",
       "|---|---|---|---|---|---|---|---|---|---|---|---|\n",
       "| 35 | 35 | Fantastic Beasts and Where to Find Them |     The adventures of writer Newt Scamander in New York's secret community of witches and wizards seventy years before Harry Potter reads his book in school. | 132 | Adventure | 7.3 | 66 | 413086 | 234.0 | David Yates | Eddie Redmayne      |\n",
       "| 66 | 66 | The Legend of Tarzan                    |     Tarzan, having acclimated to life in London, is called back to his former home in the jungle to investigate the activities at a mining encampment.        | 110 | Action    | 6.2 | 44 | 164064 | 126.6 | David Yates | Alexander Skarsgård |\n",
       "\n"
      ],
      "text/plain": [
       "   Rank Title                                  \n",
       "35 35   Fantastic Beasts and Where to Find Them\n",
       "66 66   The Legend of Tarzan                   \n",
       "   Description                                                                                                                                                  \n",
       "35     The adventures of writer Newt Scamander in New York's secret community of witches and wizards seventy years before Harry Potter reads his book in school.\n",
       "66     Tarzan, having acclimated to life in London, is called back to his former home in the jungle to investigate the activities at a mining encampment.       \n",
       "   Runtime Genre     Rating Metascore Votes  Gross_Earning_in_Mil Director   \n",
       "35 132     Adventure 7.3    66        413086 234.0                David Yates\n",
       "66 110     Action    6.2    44        164064 126.6                David Yates\n",
       "   Actor              \n",
       "35 Eddie Redmayne     \n",
       "66 Alexander Skarsgård"
      ]
     },
     "metadata": {},
     "output_type": "display_data"
    }
   ],
   "source": [
    "#For question below\n",
    "movies_df[movies_df$Director %in% movies_df$Director[duplicated(movies_df$Director)],]"
   ]
  },
  {
   "cell_type": "markdown",
   "metadata": {},
   "source": [
    "<div class=\"Q\"><br><br>\n",
    "\n",
    "Which of the folks in the choices below directed more than one film?\n",
    " \n",
    "<br><br><div class=\"qhelp\"></div></div>"
   ]
  },
  {
   "cell_type": "code",
   "execution_count": 206,
   "metadata": {},
   "outputs": [
    {
     "data": {
      "text/html": [
       "200"
      ],
      "text/latex": [
       "200"
      ],
      "text/markdown": [
       "200"
      ],
      "text/plain": [
       "[1] 200"
      ]
     },
     "metadata": {},
     "output_type": "display_data"
    }
   ],
   "source": [
    "#For question below\n",
    "movies_df[50,]$Description  %>% \n",
    " nchar()"
   ]
  },
  {
   "cell_type": "markdown",
   "metadata": {},
   "source": [
    "<div class=\"Q\"><br><br>\n",
    "\n",
    "How many text characters does the description of the 50th most popular film contain?\n",
    "    <br>HINT: You can use the string functions we learned earlier\n",
    " \n",
    "<br><br><div class=\"qhelp\"></div></div>"
   ]
  },
  {
   "cell_type": "code",
   "execution_count": null,
   "metadata": {},
   "outputs": [],
   "source": [
    "#For question below\n",
    "movies_df %>% \n",
    " mutate(letter=str_extract(Director, \"[A-Z]\"))  %>% \n",
    " group_by(letter) %>% \n",
    " summarize(n=n())"
   ]
  },
  {
   "cell_type": "markdown",
   "metadata": {},
   "source": [
    "<div class=\"Q\"><br><br>\n",
    "\n",
    "How many directors have first names beggining with the letter \"J\"?\n",
    "    <br>HINT: You can use the string functions we learned earlier\n",
    " \n",
    "<br><br><div class=\"qhelp\"></div></div>"
   ]
  },
  {
   "cell_type": "code",
   "execution_count": 267,
   "metadata": {},
   "outputs": [
    {
     "data": {
      "text/html": [
       "<table class=\"dataframe\">\n",
       "<caption>A tibble: 10 × 2</caption>\n",
       "<thead>\n",
       "\t<tr><th></th><th scope=col>letter</th><th scope=col>n</th></tr>\n",
       "\t<tr><th></th><th scope=col>&lt;chr&gt;</th><th scope=col>&lt;int&gt;</th></tr>\n",
       "</thead>\n",
       "<tbody>\n",
       "\t<tr><th scope=row>1</th><td>Cedric Nicolas-Troyan</td><td> 1</td></tr>\n",
       "\t<tr><th scope=row>2</th><td>Denis Villeneuve     </td><td> 1</td></tr>\n",
       "\t<tr><th scope=row>3</th><td>Denzel Washington    </td><td> 1</td></tr>\n",
       "\t<tr><th scope=row>4</th><td>Fede Alvarez         </td><td> 1</td></tr>\n",
       "\t<tr><th scope=row>5</th><td>Kelly Fremon Craig   </td><td> 1</td></tr>\n",
       "\t<tr><th scope=row>6</th><td>Kenneth Lonergan     </td><td> 1</td></tr>\n",
       "\t<tr><th scope=row>7</th><td>Mel Gibson           </td><td> 1</td></tr>\n",
       "\t<tr><th scope=row>8</th><td>Peter Berg           </td><td> 1</td></tr>\n",
       "\t<tr><th scope=row>9</th><td>Terry George         </td><td> 1</td></tr>\n",
       "\t<tr><th scope=row>10</th><td>NA                   </td><td>91</td></tr>\n",
       "</tbody>\n",
       "</table>\n"
      ],
      "text/latex": [
       "A tibble: 10 × 2\n",
       "\\begin{tabular}{r|ll}\n",
       "  & letter & n\\\\\n",
       "  & <chr> & <int>\\\\\n",
       "\\hline\n",
       "\t1 & Cedric Nicolas-Troyan &  1\\\\\n",
       "\t2 & Denis Villeneuve      &  1\\\\\n",
       "\t3 & Denzel Washington     &  1\\\\\n",
       "\t4 & Fede Alvarez          &  1\\\\\n",
       "\t5 & Kelly Fremon Craig    &  1\\\\\n",
       "\t6 & Kenneth Lonergan      &  1\\\\\n",
       "\t7 & Mel Gibson            &  1\\\\\n",
       "\t8 & Peter Berg            &  1\\\\\n",
       "\t9 & Terry George          &  1\\\\\n",
       "\t10 & NA                    & 91\\\\\n",
       "\\end{tabular}\n"
      ],
      "text/markdown": [
       "\n",
       "A tibble: 10 × 2\n",
       "\n",
       "| <!--/--> | letter &lt;chr&gt; | n &lt;int&gt; |\n",
       "|---|---|---|\n",
       "| 1 | Cedric Nicolas-Troyan |  1 |\n",
       "| 2 | Denis Villeneuve      |  1 |\n",
       "| 3 | Denzel Washington     |  1 |\n",
       "| 4 | Fede Alvarez          |  1 |\n",
       "| 5 | Kelly Fremon Craig    |  1 |\n",
       "| 6 | Kenneth Lonergan      |  1 |\n",
       "| 7 | Mel Gibson            |  1 |\n",
       "| 8 | Peter Berg            |  1 |\n",
       "| 9 | Terry George          |  1 |\n",
       "| 10 | NA                    | 91 |\n",
       "\n"
      ],
      "text/plain": [
       "   letter                n \n",
       "1  Cedric Nicolas-Troyan  1\n",
       "2  Denis Villeneuve       1\n",
       "3  Denzel Washington      1\n",
       "4  Fede Alvarez           1\n",
       "5  Kelly Fremon Craig     1\n",
       "6  Kenneth Lonergan       1\n",
       "7  Mel Gibson             1\n",
       "8  Peter Berg             1\n",
       "9  Terry George           1\n",
       "10 NA                    91"
      ]
     },
     "metadata": {},
     "output_type": "display_data"
    }
   ],
   "source": [
    "#For question below\n",
    "movies_df %>% \n",
    " mutate(letter=str_extract(Director, \"^[A-Z]e.*\"))  %>% \n",
    " group_by(letter) %>% \n",
    " summarize(n=n())"
   ]
  },
  {
   "cell_type": "code",
   "execution_count": 268,
   "metadata": {},
   "outputs": [
    {
     "data": {
      "text/html": [
       "<table class=\"dataframe\">\n",
       "<caption>A tibble: 14 × 2</caption>\n",
       "<thead>\n",
       "\t<tr><th></th><th scope=col>letter</th><th scope=col>n</th></tr>\n",
       "\t<tr><th></th><th scope=col>&lt;chr&gt;</th><th scope=col>&lt;int&gt;</th></tr>\n",
       "</thead>\n",
       "<tbody>\n",
       "\t<tr><th scope=row>1</th><td>a</td><td>32</td></tr>\n",
       "\t<tr><th scope=row>2</th><td>c</td><td> 1</td></tr>\n",
       "\t<tr><th scope=row>3</th><td>d</td><td> 1</td></tr>\n",
       "\t<tr><th scope=row>4</th><td>e</td><td> 9</td></tr>\n",
       "\t<tr><th scope=row>5</th><td>h</td><td> 4</td></tr>\n",
       "\t<tr><th scope=row>6</th><td>i</td><td>15</td></tr>\n",
       "\t<tr><th scope=row>7</th><td>l</td><td> 4</td></tr>\n",
       "\t<tr><th scope=row>8</th><td>n</td><td> 7</td></tr>\n",
       "\t<tr><th scope=row>9</th><td>o</td><td>17</td></tr>\n",
       "\t<tr><th scope=row>10</th><td>p</td><td> 1</td></tr>\n",
       "\t<tr><th scope=row>11</th><td>r</td><td> 3</td></tr>\n",
       "\t<tr><th scope=row>12</th><td>t</td><td> 1</td></tr>\n",
       "\t<tr><th scope=row>13</th><td>u</td><td> 4</td></tr>\n",
       "\t<tr><th scope=row>14</th><td>y</td><td> 1</td></tr>\n",
       "</tbody>\n",
       "</table>\n"
      ],
      "text/latex": [
       "A tibble: 14 × 2\n",
       "\\begin{tabular}{r|ll}\n",
       "  & letter & n\\\\\n",
       "  & <chr> & <int>\\\\\n",
       "\\hline\n",
       "\t1 & a & 32\\\\\n",
       "\t2 & c &  1\\\\\n",
       "\t3 & d &  1\\\\\n",
       "\t4 & e &  9\\\\\n",
       "\t5 & h &  4\\\\\n",
       "\t6 & i & 15\\\\\n",
       "\t7 & l &  4\\\\\n",
       "\t8 & n &  7\\\\\n",
       "\t9 & o & 17\\\\\n",
       "\t10 & p &  1\\\\\n",
       "\t11 & r &  3\\\\\n",
       "\t12 & t &  1\\\\\n",
       "\t13 & u &  4\\\\\n",
       "\t14 & y &  1\\\\\n",
       "\\end{tabular}\n"
      ],
      "text/markdown": [
       "\n",
       "A tibble: 14 × 2\n",
       "\n",
       "| <!--/--> | letter &lt;chr&gt; | n &lt;int&gt; |\n",
       "|---|---|---|\n",
       "| 1 | a | 32 |\n",
       "| 2 | c |  1 |\n",
       "| 3 | d |  1 |\n",
       "| 4 | e |  9 |\n",
       "| 5 | h |  4 |\n",
       "| 6 | i | 15 |\n",
       "| 7 | l |  4 |\n",
       "| 8 | n |  7 |\n",
       "| 9 | o | 17 |\n",
       "| 10 | p |  1 |\n",
       "| 11 | r |  3 |\n",
       "| 12 | t |  1 |\n",
       "| 13 | u |  4 |\n",
       "| 14 | y |  1 |\n",
       "\n"
      ],
      "text/plain": [
       "   letter n \n",
       "1  a      32\n",
       "2  c       1\n",
       "3  d       1\n",
       "4  e       9\n",
       "5  h       4\n",
       "6  i      15\n",
       "7  l       4\n",
       "8  n       7\n",
       "9  o      17\n",
       "10 p       1\n",
       "11 r       3\n",
       "12 t       1\n",
       "13 u       4\n",
       "14 y       1"
      ]
     },
     "metadata": {},
     "output_type": "display_data"
    }
   ],
   "source": [
    "movies_df %>% \n",
    "  mutate(letter=str_extract(Director, \"[a-z]\"))  %>% \n",
    "  group_by(letter) %>% \n",
    "  summarize(n=n())"
   ]
  },
  {
   "cell_type": "markdown",
   "metadata": {},
   "source": [
    "<div class=\"Q\"><br><br>\n",
    "\n",
    "How many directors have first names whose 2nd letter is \"e\"?\n",
    "    <br>HINT: You can use the string functions we learned earlier\n",
    " \n",
    "<br><br><div class=\"qhelp\"></div></div>"
   ]
  },
  {
   "cell_type": "code",
   "execution_count": 210,
   "metadata": {},
   "outputs": [
    {
     "data": {
      "text/html": [
       "<table class=\"dataframe\">\n",
       "<caption>A data.frame: 1 × 11</caption>\n",
       "<thead>\n",
       "\t<tr><th scope=col>Rank</th><th scope=col>Title</th><th scope=col>Description</th><th scope=col>Runtime</th><th scope=col>Genre</th><th scope=col>Rating</th><th scope=col>Metascore</th><th scope=col>Votes</th><th scope=col>Gross_Earning_in_Mil</th><th scope=col>Director</th><th scope=col>Actor</th></tr>\n",
       "\t<tr><th scope=col>&lt;dbl&gt;</th><th scope=col>&lt;chr&gt;</th><th scope=col>&lt;chr&gt;</th><th scope=col>&lt;dbl&gt;</th><th scope=col>&lt;fct&gt;</th><th scope=col>&lt;dbl&gt;</th><th scope=col>&lt;dbl&gt;</th><th scope=col>&lt;dbl&gt;</th><th scope=col>&lt;dbl&gt;</th><th scope=col>&lt;fct&gt;</th><th scope=col>&lt;fct&gt;</th></tr>\n",
       "</thead>\n",
       "<tbody>\n",
       "\t<tr><td>60</td><td>Pride and Prejudice and Zombies</td><td>    Five sisters in 19th century England must cope with the pressures to marry while protecting themselves from a growing population of zombies.</td><td>108</td><td>Action</td><td>5.8</td><td>45</td><td>51932</td><td>10.91</td><td>Burr Steers</td><td>Lily James</td></tr>\n",
       "</tbody>\n",
       "</table>\n"
      ],
      "text/latex": [
       "A data.frame: 1 × 11\n",
       "\\begin{tabular}{lllllllllll}\n",
       " Rank & Title & Description & Runtime & Genre & Rating & Metascore & Votes & Gross\\_Earning\\_in\\_Mil & Director & Actor\\\\\n",
       " <dbl> & <chr> & <chr> & <dbl> & <fct> & <dbl> & <dbl> & <dbl> & <dbl> & <fct> & <fct>\\\\\n",
       "\\hline\n",
       "\t 60 & Pride and Prejudice and Zombies &     Five sisters in 19th century England must cope with the pressures to marry while protecting themselves from a growing population of zombies. & 108 & Action & 5.8 & 45 & 51932 & 10.91 & Burr Steers & Lily James\\\\\n",
       "\\end{tabular}\n"
      ],
      "text/markdown": [
       "\n",
       "A data.frame: 1 × 11\n",
       "\n",
       "| Rank &lt;dbl&gt; | Title &lt;chr&gt; | Description &lt;chr&gt; | Runtime &lt;dbl&gt; | Genre &lt;fct&gt; | Rating &lt;dbl&gt; | Metascore &lt;dbl&gt; | Votes &lt;dbl&gt; | Gross_Earning_in_Mil &lt;dbl&gt; | Director &lt;fct&gt; | Actor &lt;fct&gt; |\n",
       "|---|---|---|---|---|---|---|---|---|---|---|\n",
       "| 60 | Pride and Prejudice and Zombies |     Five sisters in 19th century England must cope with the pressures to marry while protecting themselves from a growing population of zombies. | 108 | Action | 5.8 | 45 | 51932 | 10.91 | Burr Steers | Lily James |\n",
       "\n"
      ],
      "text/plain": [
       "  Rank Title                          \n",
       "1 60   Pride and Prejudice and Zombies\n",
       "  Description                                                                                                                                     \n",
       "1     Five sisters in 19th century England must cope with the pressures to marry while protecting themselves from a growing population of zombies.\n",
       "  Runtime Genre  Rating Metascore Votes Gross_Earning_in_Mil Director   \n",
       "1 108     Action 5.8    45        51932 10.91                Burr Steers\n",
       "  Actor     \n",
       "1 Lily James"
      ]
     },
     "metadata": {},
     "output_type": "display_data"
    }
   ],
   "source": [
    "#For question below\n",
    "movies_df %>% \n",
    " filter(Actor =='Lily James')"
   ]
  },
  {
   "cell_type": "markdown",
   "metadata": {},
   "source": [
    "<div class=\"Q\"><br><br>\n",
    "\n",
    "How many movies on this list did Lily James appear in?\n",
    "    \n",
    "<br><br><div class=\"qhelp\"></div></div>"
   ]
  },
  {
   "cell_type": "markdown",
   "metadata": {},
   "source": [
    "<div class=\"Q\"><br><br>\n",
    "\n",
    "Which of the films Lily James appeared was the highest rated?\n",
    "    \n",
    "<br><br><div class=\"qhelp\"></div></div>"
   ]
  },
  {
   "cell_type": "code",
   "execution_count": 211,
   "metadata": {},
   "outputs": [
    {
     "data": {
      "text/html": [
       "<table class=\"dataframe\">\n",
       "<caption>A data.frame: 6 × 3</caption>\n",
       "<thead>\n",
       "\t<tr><th></th><th scope=col>Runtime</th><th scope=col>Genre</th><th scope=col>Title</th></tr>\n",
       "\t<tr><th></th><th scope=col>&lt;dbl&gt;</th><th scope=col>&lt;fct&gt;</th><th scope=col>&lt;chr&gt;</th></tr>\n",
       "</thead>\n",
       "<tbody>\n",
       "\t<tr><th scope=row>1</th><td>163</td><td>Adventure</td><td>American Honey                    </td></tr>\n",
       "\t<tr><th scope=row>2</th><td>161</td><td>Drama    </td><td>Silence                           </td></tr>\n",
       "\t<tr><th scope=row>3</th><td>161</td><td>Action   </td><td>Dangal                            </td></tr>\n",
       "\t<tr><th scope=row>4</th><td>156</td><td>Horror   </td><td>The Wailing                       </td></tr>\n",
       "\t<tr><th scope=row>5</th><td>152</td><td>Action   </td><td>Batman v Superman: Dawn of Justice</td></tr>\n",
       "\t<tr><th scope=row>6</th><td>147</td><td>Action   </td><td>Captain America: Civil War        </td></tr>\n",
       "</tbody>\n",
       "</table>\n"
      ],
      "text/latex": [
       "A data.frame: 6 × 3\n",
       "\\begin{tabular}{r|lll}\n",
       "  & Runtime & Genre & Title\\\\\n",
       "  & <dbl> & <fct> & <chr>\\\\\n",
       "\\hline\n",
       "\t1 & 163 & Adventure & American Honey                    \\\\\n",
       "\t2 & 161 & Drama     & Silence                           \\\\\n",
       "\t3 & 161 & Action    & Dangal                            \\\\\n",
       "\t4 & 156 & Horror    & The Wailing                       \\\\\n",
       "\t5 & 152 & Action    & Batman v Superman: Dawn of Justice\\\\\n",
       "\t6 & 147 & Action    & Captain America: Civil War        \\\\\n",
       "\\end{tabular}\n"
      ],
      "text/markdown": [
       "\n",
       "A data.frame: 6 × 3\n",
       "\n",
       "| <!--/--> | Runtime &lt;dbl&gt; | Genre &lt;fct&gt; | Title &lt;chr&gt; |\n",
       "|---|---|---|---|\n",
       "| 1 | 163 | Adventure | American Honey                     |\n",
       "| 2 | 161 | Drama     | Silence                            |\n",
       "| 3 | 161 | Action    | Dangal                             |\n",
       "| 4 | 156 | Horror    | The Wailing                        |\n",
       "| 5 | 152 | Action    | Batman v Superman: Dawn of Justice |\n",
       "| 6 | 147 | Action    | Captain America: Civil War         |\n",
       "\n"
      ],
      "text/plain": [
       "  Runtime Genre     Title                             \n",
       "1 163     Adventure American Honey                    \n",
       "2 161     Drama     Silence                           \n",
       "3 161     Action    Dangal                            \n",
       "4 156     Horror    The Wailing                       \n",
       "5 152     Action    Batman v Superman: Dawn of Justice\n",
       "6 147     Action    Captain America: Civil War        "
      ]
     },
     "metadata": {},
     "output_type": "display_data"
    }
   ],
   "source": [
    "#For question below\n",
    "movies_df %>%\n",
    " arrange(desc(Runtime)) %>% \n",
    " select(Runtime,Genre, Title) %>% \n",
    " head()"
   ]
  },
  {
   "cell_type": "markdown",
   "metadata": {},
   "source": [
    "<div class=\"Q\"><br><br>\n",
    "\n",
    "Which movie from which Genre had the 3rd longest runtime?\n",
    "    \n",
    "<br><br><div class=\"qhelp\"></div></div>"
   ]
  },
  {
   "cell_type": "code",
   "execution_count": 213,
   "metadata": {},
   "outputs": [
    {
     "data": {
      "text/html": [
       "<table class=\"dataframe\">\n",
       "<caption>A data.frame: 6 × 5</caption>\n",
       "<thead>\n",
       "\t<tr><th></th><th scope=col>Runtime</th><th scope=col>Genre</th><th scope=col>Votes</th><th scope=col>Title</th><th scope=col>Director</th></tr>\n",
       "\t<tr><th></th><th scope=col>&lt;dbl&gt;</th><th scope=col>&lt;fct&gt;</th><th scope=col>&lt;dbl&gt;</th><th scope=col>&lt;chr&gt;</th><th scope=col>&lt;fct&gt;</th></tr>\n",
       "</thead>\n",
       "<tbody>\n",
       "\t<tr><th scope=row>1</th><td>147</td><td>Action   </td><td>668968</td><td>Captain America: Civil War             </td><td>Anthony Russo </td></tr>\n",
       "\t<tr><th scope=row>2</th><td>152</td><td>Action   </td><td>628824</td><td>Batman v Superman: Dawn of Justice     </td><td>Zack Snyder   </td></tr>\n",
       "\t<tr><th scope=row>3</th><td>133</td><td>Action   </td><td>559775</td><td>Rogue One: A Star Wars Story           </td><td>Gareth Edwards</td></tr>\n",
       "\t<tr><th scope=row>4</th><td>139</td><td>Biography</td><td>440161</td><td>Hacksaw Ridge                          </td><td>Mel Gibson    </td></tr>\n",
       "\t<tr><th scope=row>5</th><td>132</td><td>Adventure</td><td>413086</td><td>Fantastic Beasts and Where to Find Them</td><td>David Yates   </td></tr>\n",
       "\t<tr><th scope=row>6</th><td>144</td><td>Action   </td><td>395793</td><td>X-Men: Apocalypse                      </td><td>Bryan Singer  </td></tr>\n",
       "</tbody>\n",
       "</table>\n"
      ],
      "text/latex": [
       "A data.frame: 6 × 5\n",
       "\\begin{tabular}{r|lllll}\n",
       "  & Runtime & Genre & Votes & Title & Director\\\\\n",
       "  & <dbl> & <fct> & <dbl> & <chr> & <fct>\\\\\n",
       "\\hline\n",
       "\t1 & 147 & Action    & 668968 & Captain America: Civil War              & Anthony Russo \\\\\n",
       "\t2 & 152 & Action    & 628824 & Batman v Superman: Dawn of Justice      & Zack Snyder   \\\\\n",
       "\t3 & 133 & Action    & 559775 & Rogue One: A Star Wars Story            & Gareth Edwards\\\\\n",
       "\t4 & 139 & Biography & 440161 & Hacksaw Ridge                           & Mel Gibson    \\\\\n",
       "\t5 & 132 & Adventure & 413086 & Fantastic Beasts and Where to Find Them & David Yates   \\\\\n",
       "\t6 & 144 & Action    & 395793 & X-Men: Apocalypse                       & Bryan Singer  \\\\\n",
       "\\end{tabular}\n"
      ],
      "text/markdown": [
       "\n",
       "A data.frame: 6 × 5\n",
       "\n",
       "| <!--/--> | Runtime &lt;dbl&gt; | Genre &lt;fct&gt; | Votes &lt;dbl&gt; | Title &lt;chr&gt; | Director &lt;fct&gt; |\n",
       "|---|---|---|---|---|---|\n",
       "| 1 | 147 | Action    | 668968 | Captain America: Civil War              | Anthony Russo  |\n",
       "| 2 | 152 | Action    | 628824 | Batman v Superman: Dawn of Justice      | Zack Snyder    |\n",
       "| 3 | 133 | Action    | 559775 | Rogue One: A Star Wars Story            | Gareth Edwards |\n",
       "| 4 | 139 | Biography | 440161 | Hacksaw Ridge                           | Mel Gibson     |\n",
       "| 5 | 132 | Adventure | 413086 | Fantastic Beasts and Where to Find Them | David Yates    |\n",
       "| 6 | 144 | Action    | 395793 | X-Men: Apocalypse                       | Bryan Singer   |\n",
       "\n"
      ],
      "text/plain": [
       "  Runtime Genre     Votes  Title                                  \n",
       "1 147     Action    668968 Captain America: Civil War             \n",
       "2 152     Action    628824 Batman v Superman: Dawn of Justice     \n",
       "3 133     Action    559775 Rogue One: A Star Wars Story           \n",
       "4 139     Biography 440161 Hacksaw Ridge                          \n",
       "5 132     Adventure 413086 Fantastic Beasts and Where to Find Them\n",
       "6 144     Action    395793 X-Men: Apocalypse                      \n",
       "  Director      \n",
       "1 Anthony Russo \n",
       "2 Zack Snyder   \n",
       "3 Gareth Edwards\n",
       "4 Mel Gibson    \n",
       "5 David Yates   \n",
       "6 Bryan Singer  "
      ]
     },
     "metadata": {},
     "output_type": "display_data"
    }
   ],
   "source": [
    "#For question below\n",
    "movies_df %>%\n",
    " filter(Runtime >= 130 & Runtime <= 160) %>%\n",
    " arrange(desc(Votes)) %>% \n",
    " select(Runtime,Genre, Votes, Title, Director) %>% \n",
    " head()"
   ]
  },
  {
   "cell_type": "markdown",
   "metadata": {},
   "source": [
    "<div class=\"Q\"><br><br>\n",
    "\n",
    "In the Runtime of 130-160 mins, which genre has the highest votes?\n",
    "    \n",
    "<br><br><div class=\"qhelp\"></div></div>"
   ]
  },
  {
   "cell_type": "markdown",
   "metadata": {},
   "source": [
    "<div class=\"Q\"><br><br>\n",
    "\n",
    "In the Runtime of 130-160 mins, who directed the film with the highest votes?\n",
    "    \n",
    "<br><br><div class=\"qhelp\"></div></div>"
   ]
  },
  {
   "cell_type": "code",
   "execution_count": 215,
   "metadata": {},
   "outputs": [
    {
     "data": {
      "text/html": [
       "<table class=\"dataframe\">\n",
       "<caption>A tibble: 8 × 2</caption>\n",
       "<thead>\n",
       "\t<tr><th></th><th scope=col>Genre</th><th scope=col>sum</th></tr>\n",
       "\t<tr><th></th><th scope=col>&lt;fct&gt;</th><th scope=col>&lt;dbl&gt;</th></tr>\n",
       "</thead>\n",
       "<tbody>\n",
       "\t<tr><th scope=row>1</th><td>Action   </td><td>1595.07</td></tr>\n",
       "\t<tr><th scope=row>2</th><td>Adventure</td><td> 372.93</td></tr>\n",
       "\t<tr><th scope=row>3</th><td>Animation</td><td> 865.32</td></tr>\n",
       "\t<tr><th scope=row>4</th><td>Biography</td><td> 107.56</td></tr>\n",
       "\t<tr><th scope=row>5</th><td>Comedy   </td><td> 201.79</td></tr>\n",
       "\t<tr><th scope=row>6</th><td>Crime    </td><td>  75.40</td></tr>\n",
       "\t<tr><th scope=row>7</th><td>Drama    </td><td> 295.42</td></tr>\n",
       "\t<tr><th scope=row>8</th><td>Horror   </td><td> 139.53</td></tr>\n",
       "</tbody>\n",
       "</table>\n"
      ],
      "text/latex": [
       "A tibble: 8 × 2\n",
       "\\begin{tabular}{r|ll}\n",
       "  & Genre & sum\\\\\n",
       "  & <fct> & <dbl>\\\\\n",
       "\\hline\n",
       "\t1 & Action    & 1595.07\\\\\n",
       "\t2 & Adventure &  372.93\\\\\n",
       "\t3 & Animation &  865.32\\\\\n",
       "\t4 & Biography &  107.56\\\\\n",
       "\t5 & Comedy    &  201.79\\\\\n",
       "\t6 & Crime     &   75.40\\\\\n",
       "\t7 & Drama     &  295.42\\\\\n",
       "\t8 & Horror    &  139.53\\\\\n",
       "\\end{tabular}\n"
      ],
      "text/markdown": [
       "\n",
       "A tibble: 8 × 2\n",
       "\n",
       "| <!--/--> | Genre &lt;fct&gt; | sum &lt;dbl&gt; |\n",
       "|---|---|---|\n",
       "| 1 | Action    | 1595.07 |\n",
       "| 2 | Adventure |  372.93 |\n",
       "| 3 | Animation |  865.32 |\n",
       "| 4 | Biography |  107.56 |\n",
       "| 5 | Comedy    |  201.79 |\n",
       "| 6 | Crime     |   75.40 |\n",
       "| 7 | Drama     |  295.42 |\n",
       "| 8 | Horror    |  139.53 |\n",
       "\n"
      ],
      "text/plain": [
       "  Genre     sum    \n",
       "1 Action    1595.07\n",
       "2 Adventure  372.93\n",
       "3 Animation  865.32\n",
       "4 Biography  107.56\n",
       "5 Comedy     201.79\n",
       "6 Crime       75.40\n",
       "7 Drama      295.42\n",
       "8 Horror     139.53"
      ]
     },
     "metadata": {},
     "output_type": "display_data"
    }
   ],
   "source": [
    "#For question below\n",
    "movies_df %>%\n",
    " filter(Runtime >= 100 & Runtime <= 120) %>%\n",
    " select(Genre, Gross_Earning_in_Mil) %>% \n",
    " group_by(Genre) %>% \n",
    " na.omit() %>% \n",
    " summarize(sum=sum(Gross_Earning_in_Mil))"
   ]
  },
  {
   "cell_type": "markdown",
   "metadata": {},
   "source": [
    "<div class=\"Q\"><br><br>\n",
    "\n",
    "Across all genres, which genre has the highest total gross earnings (combination of all the films) in runtime 100 to 120 mins?\n",
    "    \n",
    "<br><br><div class=\"qhelp\"></div></div>"
   ]
  },
  {
   "cell_type": "markdown",
   "metadata": {},
   "source": [
    "<div class=\"Q\"><br><br>\n",
    "\n",
    "In the runtime 100 to 120 mins, how much did Horror movies earn?\n",
    "    \n",
    "<br><br><div class=\"qhelp\"></div></div>"
   ]
  },
  {
   "cell_type": "code",
   "execution_count": 222,
   "metadata": {},
   "outputs": [
    {
     "data": {
      "text/html": [
       "<table class=\"dataframe\">\n",
       "<caption>A data.frame: 2 × 11</caption>\n",
       "<thead>\n",
       "\t<tr><th></th><th scope=col>Rank</th><th scope=col>Title</th><th scope=col>Description</th><th scope=col>Runtime</th><th scope=col>Genre</th><th scope=col>Rating</th><th scope=col>Metascore</th><th scope=col>Votes</th><th scope=col>Gross_Earning_in_Mil</th><th scope=col>Director</th><th scope=col>Actor</th></tr>\n",
       "\t<tr><th></th><th scope=col>&lt;dbl&gt;</th><th scope=col>&lt;chr&gt;</th><th scope=col>&lt;chr&gt;</th><th scope=col>&lt;dbl&gt;</th><th scope=col>&lt;fct&gt;</th><th scope=col>&lt;dbl&gt;</th><th scope=col>&lt;dbl&gt;</th><th scope=col>&lt;dbl&gt;</th><th scope=col>&lt;dbl&gt;</th><th scope=col>&lt;fct&gt;</th><th scope=col>&lt;fct&gt;</th></tr>\n",
       "</thead>\n",
       "<tbody>\n",
       "\t<tr><th scope=row>1</th><td>8</td><td>The Girl on the Train</td><td>    A divorcee becomes entangled in a missing persons investigation that promises to send shockwaves throughout her life.                          </td><td>112</td><td>Crime</td><td>6.5</td><td>48</td><td>170486</td><td>75.4</td><td>Tate Taylor</td><td>Emily Blunt</td></tr>\n",
       "\t<tr><th scope=row>2</th><td>9</td><td>The Invisible Guest  </td><td>    A successful entrepreneur accused of murder and a witness preparation expert have less than three hours to come up with an impregnable defense.</td><td>106</td><td>Crime</td><td>8.1</td><td>NA</td><td>145212</td><td>  NA</td><td>Oriol Paulo</td><td>Mario Casas</td></tr>\n",
       "</tbody>\n",
       "</table>\n"
      ],
      "text/latex": [
       "A data.frame: 2 × 11\n",
       "\\begin{tabular}{r|lllllllllll}\n",
       "  & Rank & Title & Description & Runtime & Genre & Rating & Metascore & Votes & Gross\\_Earning\\_in\\_Mil & Director & Actor\\\\\n",
       "  & <dbl> & <chr> & <chr> & <dbl> & <fct> & <dbl> & <dbl> & <dbl> & <dbl> & <fct> & <fct>\\\\\n",
       "\\hline\n",
       "\t1 & 8 & The Girl on the Train &     A divorcee becomes entangled in a missing persons investigation that promises to send shockwaves throughout her life.                           & 112 & Crime & 6.5 & 48 & 170486 & 75.4 & Tate Taylor & Emily Blunt\\\\\n",
       "\t2 & 9 & The Invisible Guest   &     A successful entrepreneur accused of murder and a witness preparation expert have less than three hours to come up with an impregnable defense. & 106 & Crime & 8.1 & NA & 145212 &   NA & Oriol Paulo & Mario Casas\\\\\n",
       "\\end{tabular}\n"
      ],
      "text/markdown": [
       "\n",
       "A data.frame: 2 × 11\n",
       "\n",
       "| <!--/--> | Rank &lt;dbl&gt; | Title &lt;chr&gt; | Description &lt;chr&gt; | Runtime &lt;dbl&gt; | Genre &lt;fct&gt; | Rating &lt;dbl&gt; | Metascore &lt;dbl&gt; | Votes &lt;dbl&gt; | Gross_Earning_in_Mil &lt;dbl&gt; | Director &lt;fct&gt; | Actor &lt;fct&gt; |\n",
       "|---|---|---|---|---|---|---|---|---|---|---|---|\n",
       "| 1 | 8 | The Girl on the Train |     A divorcee becomes entangled in a missing persons investigation that promises to send shockwaves throughout her life.                           | 112 | Crime | 6.5 | 48 | 170486 | 75.4 | Tate Taylor | Emily Blunt |\n",
       "| 2 | 9 | The Invisible Guest   |     A successful entrepreneur accused of murder and a witness preparation expert have less than three hours to come up with an impregnable defense. | 106 | Crime | 8.1 | NA | 145212 |   NA | Oriol Paulo | Mario Casas |\n",
       "\n"
      ],
      "text/plain": [
       "  Rank Title                \n",
       "1 8    The Girl on the Train\n",
       "2 9    The Invisible Guest  \n",
       "  Description                                                                                                                                        \n",
       "1     A divorcee becomes entangled in a missing persons investigation that promises to send shockwaves throughout her life.                          \n",
       "2     A successful entrepreneur accused of murder and a witness preparation expert have less than three hours to come up with an impregnable defense.\n",
       "  Runtime Genre Rating Metascore Votes  Gross_Earning_in_Mil Director   \n",
       "1 112     Crime 6.5    48        170486 75.4                 Tate Taylor\n",
       "2 106     Crime 8.1    NA        145212   NA                 Oriol Paulo\n",
       "  Actor      \n",
       "1 Emily Blunt\n",
       "2 Mario Casas"
      ]
     },
     "metadata": {},
     "output_type": "display_data"
    }
   ],
   "source": [
    "#For question below\n",
    "movies_df %>%\n",
    " filter(Runtime >= 100 & Runtime <= 120 & Genre == 'Crime') %>%\n",
    " head()"
   ]
  },
  {
   "cell_type": "markdown",
   "metadata": {},
   "source": [
    "<div class=\"Q\"><br><br>\n",
    "\n",
    "How many Crime films with runtimes between 100 to 120 mins earned >$100M?\n",
    "    \n",
    "<br><br><div class=\"qhelp\"></div></div>"
   ]
  },
  {
   "cell_type": "code",
   "execution_count": 223,
   "metadata": {},
   "outputs": [
    {
     "data": {
      "text/html": [
       "<table class=\"dataframe\">\n",
       "<caption>A tibble: 8 × 2</caption>\n",
       "<thead>\n",
       "\t<tr><th></th><th scope=col>Genre</th><th scope=col>sum</th></tr>\n",
       "\t<tr><th></th><th scope=col>&lt;fct&gt;</th><th scope=col>&lt;dbl&gt;</th></tr>\n",
       "</thead>\n",
       "<tbody>\n",
       "\t<tr><th scope=row>1</th><td>Action   </td><td>4236.37</td></tr>\n",
       "\t<tr><th scope=row>2</th><td>Adventure</td><td> 703.41</td></tr>\n",
       "\t<tr><th scope=row>3</th><td>Animation</td><td>1667.07</td></tr>\n",
       "\t<tr><th scope=row>4</th><td>Biography</td><td> 490.96</td></tr>\n",
       "\t<tr><th scope=row>5</th><td>Comedy   </td><td> 454.36</td></tr>\n",
       "\t<tr><th scope=row>6</th><td>Crime    </td><td> 164.62</td></tr>\n",
       "\t<tr><th scope=row>7</th><td>Drama    </td><td> 486.38</td></tr>\n",
       "\t<tr><th scope=row>8</th><td>Horror   </td><td> 241.93</td></tr>\n",
       "</tbody>\n",
       "</table>\n"
      ],
      "text/latex": [
       "A tibble: 8 × 2\n",
       "\\begin{tabular}{r|ll}\n",
       "  & Genre & sum\\\\\n",
       "  & <fct> & <dbl>\\\\\n",
       "\\hline\n",
       "\t1 & Action    & 4236.37\\\\\n",
       "\t2 & Adventure &  703.41\\\\\n",
       "\t3 & Animation & 1667.07\\\\\n",
       "\t4 & Biography &  490.96\\\\\n",
       "\t5 & Comedy    &  454.36\\\\\n",
       "\t6 & Crime     &  164.62\\\\\n",
       "\t7 & Drama     &  486.38\\\\\n",
       "\t8 & Horror    &  241.93\\\\\n",
       "\\end{tabular}\n"
      ],
      "text/markdown": [
       "\n",
       "A tibble: 8 × 2\n",
       "\n",
       "| <!--/--> | Genre &lt;fct&gt; | sum &lt;dbl&gt; |\n",
       "|---|---|---|\n",
       "| 1 | Action    | 4236.37 |\n",
       "| 2 | Adventure |  703.41 |\n",
       "| 3 | Animation | 1667.07 |\n",
       "| 4 | Biography |  490.96 |\n",
       "| 5 | Comedy    |  454.36 |\n",
       "| 6 | Crime     |  164.62 |\n",
       "| 7 | Drama     |  486.38 |\n",
       "| 8 | Horror    |  241.93 |\n",
       "\n"
      ],
      "text/plain": [
       "  Genre     sum    \n",
       "1 Action    4236.37\n",
       "2 Adventure  703.41\n",
       "3 Animation 1667.07\n",
       "4 Biography  490.96\n",
       "5 Comedy     454.36\n",
       "6 Crime      164.62\n",
       "7 Drama      486.38\n",
       "8 Horror     241.93"
      ]
     },
     "metadata": {},
     "output_type": "display_data"
    }
   ],
   "source": [
    "#For question below\n",
    "movies_df %>%\n",
    " select(Genre, Gross_Earning_in_Mil) %>% \n",
    " group_by(Genre) %>% \n",
    " na.omit() %>% \n",
    " summarize(sum=sum(Gross_Earning_in_Mil))"
   ]
  },
  {
   "cell_type": "markdown",
   "metadata": {},
   "source": [
    "<div class=\"Q\"><br><br>\n",
    "\n",
    "What was the most profitable film genre in 2016?\n",
    "    \n",
    "<br><br><div class=\"qhelp\"></div></div>"
   ]
  },
  {
   "cell_type": "code",
   "execution_count": 224,
   "metadata": {},
   "outputs": [
    {
     "name": "stderr",
     "output_type": "stream",
     "text": [
      "Warning message:\n",
      "\"Removed 9 rows containing missing values (geom_point).\"\n"
     ]
    },
    {
     "data": {
      "image/png": "[encoded data removed]",
      "text/plain": [
       "plot without title"
      ]
     },
     "metadata": {
      "image/png": {
       "height": 500,
       "width": 875
      }
     },
     "output_type": "display_data"
    }
   ],
   "source": [
    "#For the question below\n",
    "ggplot(movies_df, aes(x = Votes, y = Gross_Earning_in_Mil))+\n",
    "  geom_point(aes(size = Rating, col = Genre))+\n",
    "  theme_classic()"
   ]
  },
  {
   "cell_type": "markdown",
   "metadata": {},
   "source": [
    "<div class=\"Q\"><br><br>\n",
    "\n",
    "Was the film with the highest number of Votes also the most profitable?\n",
    "    \n",
    "<br><br><div class=\"qhelp\"></div></div>"
   ]
  },
  {
   "cell_type": "code",
   "execution_count": 245,
   "metadata": {},
   "outputs": [
    {
     "data": {
      "text/html": [
       "<table class=\"dataframe\">\n",
       "<caption>A tibble: 8 × 3</caption>\n",
       "<thead>\n",
       "\t<tr><th></th><th scope=col>Genre</th><th scope=col>aveGross</th><th scope=col>aveVotes</th></tr>\n",
       "\t<tr><th></th><th scope=col>&lt;fct&gt;</th><th scope=col>&lt;dbl&gt;</th><th scope=col>&lt;dbl&gt;</th></tr>\n",
       "</thead>\n",
       "<tbody>\n",
       "\t<tr><th scope=row>1</th><td>Action   </td><td>105.90925</td><td>234908.0</td></tr>\n",
       "\t<tr><th scope=row>2</th><td>Adventure</td><td>100.48714</td><td>163402.6</td></tr>\n",
       "\t<tr><th scope=row>3</th><td>Animation</td><td>208.38375</td><td>199492.6</td></tr>\n",
       "\t<tr><th scope=row>4</th><td>Biography</td><td> 70.13714</td><td>220878.4</td></tr>\n",
       "\t<tr><th scope=row>5</th><td>Comedy   </td><td> 41.30545</td><td>128511.5</td></tr>\n",
       "\t<tr><th scope=row>6</th><td>Crime    </td><td> 82.31000</td><td>197188.0</td></tr>\n",
       "\t<tr><th scope=row>7</th><td>Drama    </td><td> 37.41385</td><td>191835.7</td></tr>\n",
       "\t<tr><th scope=row>8</th><td>Horror   </td><td> 80.64333</td><td>247175.7</td></tr>\n",
       "</tbody>\n",
       "</table>\n"
      ],
      "text/latex": [
       "A tibble: 8 × 3\n",
       "\\begin{tabular}{r|lll}\n",
       "  & Genre & aveGross & aveVotes\\\\\n",
       "  & <fct> & <dbl> & <dbl>\\\\\n",
       "\\hline\n",
       "\t1 & Action    & 105.90925 & 234908.0\\\\\n",
       "\t2 & Adventure & 100.48714 & 163402.6\\\\\n",
       "\t3 & Animation & 208.38375 & 199492.6\\\\\n",
       "\t4 & Biography &  70.13714 & 220878.4\\\\\n",
       "\t5 & Comedy    &  41.30545 & 128511.5\\\\\n",
       "\t6 & Crime     &  82.31000 & 197188.0\\\\\n",
       "\t7 & Drama     &  37.41385 & 191835.7\\\\\n",
       "\t8 & Horror    &  80.64333 & 247175.7\\\\\n",
       "\\end{tabular}\n"
      ],
      "text/markdown": [
       "\n",
       "A tibble: 8 × 3\n",
       "\n",
       "| <!--/--> | Genre &lt;fct&gt; | aveGross &lt;dbl&gt; | aveVotes &lt;dbl&gt; |\n",
       "|---|---|---|---|\n",
       "| 1 | Action    | 105.90925 | 234908.0 |\n",
       "| 2 | Adventure | 100.48714 | 163402.6 |\n",
       "| 3 | Animation | 208.38375 | 199492.6 |\n",
       "| 4 | Biography |  70.13714 | 220878.4 |\n",
       "| 5 | Comedy    |  41.30545 | 128511.5 |\n",
       "| 6 | Crime     |  82.31000 | 197188.0 |\n",
       "| 7 | Drama     |  37.41385 | 191835.7 |\n",
       "| 8 | Horror    |  80.64333 | 247175.7 |\n",
       "\n"
      ],
      "text/plain": [
       "  Genre     aveGross  aveVotes\n",
       "1 Action    105.90925 234908.0\n",
       "2 Adventure 100.48714 163402.6\n",
       "3 Animation 208.38375 199492.6\n",
       "4 Biography  70.13714 220878.4\n",
       "5 Comedy     41.30545 128511.5\n",
       "6 Crime      82.31000 197188.0\n",
       "7 Drama      37.41385 191835.7\n",
       "8 Horror     80.64333 247175.7"
      ]
     },
     "metadata": {},
     "output_type": "display_data"
    }
   ],
   "source": [
    "movies_df %>%\n",
    " filter(!is.na(Gross_Earning_in_Mil)) %>%\n",
    " group_by(Genre) %>%\n",
    " summarize(aveGross = mean(Gross_Earning_in_Mil), aveVotes = mean(Votes))"
   ]
  },
  {
   "cell_type": "markdown",
   "metadata": {},
   "source": [
    "<div class=\"Q\"><br><br>\n",
    "\n",
    "Which genre made large profits but didn't neccesarily garner the most votes?\n",
    "    \n",
    "<br><br><div class=\"qhelp\"></div></div>"
   ]
  },
  {
   "cell_type": "markdown",
   "metadata": {},
   "source": [
    "<div class=\"Q\"><br><br>\n",
    "\n",
    "If you were to make a movie, what genre would you choose to make the most profit?\n",
    "    \n",
    "<br><br><div class=\"qhelp\"></div></div>"
   ]
  },
  {
   "cell_type": "code",
   "execution_count": 69,
   "metadata": {},
   "outputs": [
    {
     "data": {
      "text/html": [
       "<style>\r\n",
       "\r\n",
       "body {\r\n",
       "  counter-reset: question_num task_num;                     /* Set a counter named 'section', and it`s initial value is 0. */\r\n",
       "}\r\n",
       "\r\n",
       "/* Question Box */\r\n",
       ".Q {\r\n",
       "    background-color:#ff9900;\r\n",
       "    color:black;\r\n",
       "    font-size:17px;\r\n",
       "    width:100%;\r\n",
       "    border:1px solid #666666;\r\n",
       "    padding:5px;\r\n",
       "}\r\n",
       "\r\n",
       ".Q::before {\r\n",
       "    counter-increment: question_num;\r\n",
       "    content: \"QUESTION \" counter(question_num) '\\A';\r\n",
       "    white-space: pre;\r\n",
       "}\r\n",
       "\r\n",
       "\r\n",
       "/* Question Box */\r\n",
       ".T {\r\n",
       "    background-color:#00F7FF;\r\n",
       "    color:black;\r\n",
       "    font-size:17px;\r\n",
       "    font-weight: bold;\r\n",
       "    width:10%;\r\n",
       "    padding:5px;\r\n",
       "}\r\n",
       "\r\n",
       "\r\n",
       ".T::before {\r\n",
       "    counter-increment: task_num;\r\n",
       "    content: \"Task \" counter(task_num) ': ';\r\n",
       "}\r\n",
       "\r\n",
       "\r\n",
       "/* TASK BOX */\r\n",
       ".startTASK {\r\n",
       "    background: linear-gradient(to bottom, #b3ffb3 0%, #ffffff 100%);\r\n",
       "    border-top-left-radius: 10px;\r\n",
       "    border-top-right-radius: 10px;\r\n",
       "    border:1px solid #009900;\r\n",
       "    border-bottom:1px solid #ffffff;\r\n",
       "    color:#006600;\r\n",
       "    font-size:17px;\r\n",
       "    width:100%;\r\n",
       "    font-weight: bold;\r\n",
       "    padding:5px;\r\n",
       "    padding-top:15px;\r\n",
       "}\r\n",
       ".startTASK::before {\r\n",
       "    counter-increment: task_num;\r\n",
       "    content: \"Task \" counter(task_num) ': ';\r\n",
       "}\r\n",
       "\r\n",
       ".endTASK {\r\n",
       "    background: linear-gradient(to bottom, #ffffff 0%, #b3ffb3 100%);\r\n",
       "    border-bottom-left-radius: 10px;\r\n",
       "    border-bottom-right-radius: 10px;\r\n",
       "    border:1px solid #009900;\r\n",
       "    border-top:1px solid #ffffff;\r\n",
       "    color:#006600;\r\n",
       "    font-size:13px;\r\n",
       "    width:100%;\r\n",
       "    font-weight: bold;\r\n",
       "    padding:5px;\r\n",
       "    padding-top:15px;\r\n",
       "}\r\n",
       ".endTASK::before {\r\n",
       "    content: \"End of Task\";\r\n",
       "}\r\n",
       "\r\n",
       "\r\n",
       "\r\n",
       "\r\n",
       "\r\n",
       "\r\n",
       "/* Use Editor */\r\n",
       ".use_editor {\r\n",
       "    background: linear-gradient(to right, #ccffcc 0%, #ffffff 100%);\r\n",
       "    border-top-left-radius: 10px;\r\n",
       "    border-top-right-radius: 10px;\r\n",
       "    border:1px solid #ffffff;\r\n",
       "    border-bottom:1px solid #ffffff;\r\n",
       "    color:#66cc66;\r\n",
       "    font-size:10px;\r\n",
       "    width:100%;\r\n",
       "    padding:0px;\r\n",
       "    padding-bottom:3px;\r\n",
       "    padding-left:7px;\r\n",
       "    margin-left: -5px;\r\n",
       "    margin-right: 150px;\r\n",
       "    margin-bottom: -13px;\r\n",
       "}\r\n",
       ".use_editor::before {\r\n",
       "    content: \"Type in EDITOR, hightlight, and click RUN\";\r\n",
       "    }\r\n",
       "\r\n",
       "\r\n",
       "/* Use Console */\r\n",
       ".use_console {\r\n",
       "    background: linear-gradient(to right, #ffe6e6 0%, #ffffff 100%);\r\n",
       "    border-top-left-radius: 10px;\r\n",
       "    border-top-right-radius: 10px;\r\n",
       "    border:1px solid #ffffff;\r\n",
       "    border-bottom:1px solid #ffffff;\r\n",
       "    color:#ff9999;\r\n",
       "    font-size:10px;\r\n",
       "    width:100%;\r\n",
       "    padding:0px;\r\n",
       "    padding-bottom:3px;\r\n",
       "    padding-left:7px;\r\n",
       "    margin-left: -5px;\r\n",
       "    margin-right: 150px;\r\n",
       "    margin-bottom: -13px;\r\n",
       "}\r\n",
       ".use_console::before {\r\n",
       "    content: \"Type in CONSOLE and click ENTER\";\r\n",
       "    }\r\n",
       "\r\n",
       "\r\n",
       "\r\n",
       "\r\n",
       "\r\n",
       "\r\n",
       "\r\n",
       "\r\n",
       "\r\n",
       "\r\n",
       "\r\n",
       "\r\n",
       "\r\n",
       ".qhelp {\r\n",
       "    color:#666666;\r\n",
       "    font-size:15px\r\n",
       "}\r\n",
       "\r\n",
       ".qhelp::after {\r\n",
       "    content: \"Answer this question in the corresponding Brightspace LAB quiz\"\r\n",
       "}\r\n",
       "\r\n",
       "\r\n",
       "\r\n",
       "/* code */\r\n",
       ".rendered_html pre, .rendered_html code {\r\n",
       "    font-family: \"SF Mono\",\"Segoe UI Mono\",\"Roboto Mono\",\"Ubuntu Mono\",Menlo,Courier,monospace;\r\n",
       "    padding: 1px 3px;\r\n",
       "    border: 1px solid #e6e6e6;\r\n",
       "    border-radius: 3px;\r\n",
       "    background: #e6e6e6;\r\n",
       "    font-size: 12px;\r\n",
       "    line-height: 1.4;\r\n",
       "    color: #0052CC;\r\n",
       "}\r\n",
       "\r\n",
       "\r\n",
       "/* Console */\r\n",
       ".console {\r\n",
       "    background-color:#d2d2d2;\r\n",
       "    color:#FF2525;\r\n",
       "    font-size:12px;\r\n",
       "    line-height: 1.4;\r\n",
       "    border:1px solid #bfbfbf;\r\n",
       "    padding-top:0px;\r\n",
       "    padding-bottom:0px;\r\n",
       "    padding-left:3px;\r\n",
       "    padding-right:3px;\r\n",
       "    border-radius: 3px;\r\n",
       "    display: inline-block;\r\n",
       "}\r\n",
       ".console::before {\r\n",
       "    content: \"Console\";\r\n",
       "}\r\n",
       "\r\n",
       "/* Editor */\r\n",
       ".editor {\r\n",
       "    background-color:#d2d2d2;\r\n",
       "    color:#00b300;\r\n",
       "    font-size: 12px;\r\n",
       "    line-height: 1.4;\r\n",
       "    border:1px solid #bfbfbf;\r\n",
       "    padding-top:0px;\r\n",
       "    padding-bottom:0px;\r\n",
       "    padding-left:3px;\r\n",
       "    padding-right:3px;\r\n",
       "    border-radius: 3px;\r\n",
       "    display: inline-block;\r\n",
       "}\r\n",
       ".editor::before {\r\n",
       "    content: \"Editor\";\r\n",
       "}\r\n",
       "\r\n",
       "\r\n",
       "\r\n",
       "/* Copy to CONSOLE */\r\n",
       ".c2c {\r\n",
       "    background-color:#d2d2d2;\r\n",
       "    color:#ff8080;\r\n",
       "    font-size:13px;\r\n",
       "    border:1px solid #bfbfbf;\r\n",
       "    padding:1px 3px;\r\n",
       "    border-radius: 3px;\r\n",
       "    margin-top: 10px;\r\n",
       "    display: inline-block;\r\n",
       "}\r\n",
       "\r\n",
       ".c2c::before {\r\n",
       "    content: \"Copy-paste into Spyder's Console\";\r\n",
       "}\r\n",
       "\r\n",
       "/* Type in CONSOLE */\r\n",
       ".t2c {\r\n",
       "    background-color:#d2d2d2;\r\n",
       "    color:#ff8080;\r\n",
       "    font-size:13px;\r\n",
       "    border:1px solid #bfbfbf;\r\n",
       "    padding:1px 3px;\r\n",
       "    border-radius: 3px;\r\n",
       "    margin-top: 10px;\r\n",
       "    display: inline-block;\r\n",
       "}\r\n",
       "\r\n",
       ".t2c::before {\r\n",
       "    content: \"Type into Spyder's Console\";\r\n",
       "}\r\n",
       "\r\n",
       "\r\n",
       "/* SOURCE */\r\n",
       ".source {\r\n",
       "    background-color:#d2d2d2;\r\n",
       "    color:#009EBF;\r\n",
       "    font-size: 12px;\r\n",
       "    line-height: 1.4;\r\n",
       "    font-weight: bold;\r\n",
       "    border:1px solid #bfbfbf;\r\n",
       "    padding-top:0px;\r\n",
       "    padding-bottom:0px;\r\n",
       "    padding-left:3px;\r\n",
       "    padding-right:3px;\r\n",
       "    border-radius: 3px;\r\n",
       "    display: inline-block;\r\n",
       "}\r\n",
       ".source::before {\r\n",
       "    content: \"\\25B6\" \"Source\";\r\n",
       "}\r\n",
       "\r\n",
       "\r\n",
       "/* RUN */\r\n",
       ".run {\r\n",
       "    background-color:#d2d2d2;\r\n",
       "    color:#00b300;\r\n",
       "    font-size: 12px;\r\n",
       "    line-height: 1.4;\r\n",
       "    font-weight: bold;\r\n",
       "    border:1px solid #bfbfbf;\r\n",
       "    padding-top:0px;\r\n",
       "    padding-bottom:0px;\r\n",
       "    padding-left:3px;\r\n",
       "    padding-right:3px;\r\n",
       "    border-radius: 3px;\r\n",
       "    display: inline-block;\r\n",
       "}\r\n",
       ".run::before {\r\n",
       "    content: \"\\25B6\" \"RUN\";\r\n",
       "}\r\n",
       "\r\n",
       "/* RUN */\r\n",
       ".runcell {\r\n",
       "    background-color:#d2d2d2;\r\n",
       "    color:#00b300;\r\n",
       "    font-size: 12px;\r\n",
       "    line-height: 1.4;\r\n",
       "    border:1px solid #bfbfbf;\r\n",
       "    padding-top:0px;\r\n",
       "    padding-bottom:0px;\r\n",
       "    padding-left:3px;\r\n",
       "    padding-right:3px;\r\n",
       "    border-radius: 3px;\r\n",
       "    display: inline-block;\r\n",
       "}\r\n",
       ".runcell::before {\r\n",
       "    content: \"RUN current cell\";\r\n",
       "}\r\n",
       "\r\n",
       "/* FILE */\r\n",
       ".file {\r\n",
       "    color:#b36b00;\r\n",
       "    font-size: 12px;\r\n",
       "    line-height: 1.4;\r\n",
       "    font-weight: bold;\r\n",
       "    border:1px solid #bfbfbf;\r\n",
       "    padding-top:0px;\r\n",
       "    padding-bottom:0px;\r\n",
       "    padding-left:3px;\r\n",
       "    padding-right:3px;\r\n",
       "    border-radius: 3px;\r\n",
       "    display: inline-block;\r\n",
       "}\r\n",
       "\r\n",
       "/* important */\r\n",
       ".important {\r\n",
       "    background-color:#ff4d4d;\r\n",
       "    color:black;\r\n",
       "    font-size: 13px;\r\n",
       "    line-height: 1.4;\r\n",
       "    font-weight: bold;\r\n",
       "    border:1px solid #bfbfbf;\r\n",
       "    padding-top:0px;\r\n",
       "    padding-bottom:0px;\r\n",
       "    padding-left:3px;\r\n",
       "    padding-right:3px;\r\n",
       "    border-radius: 3px;\r\n",
       "    display: inline-block;\r\n",
       "    margin-top:5px;\r\n",
       "}\r\n",
       ".important::before {\r\n",
       "    content: \"Important:\";\r\n",
       "}\r\n",
       "\r\n",
       "/* important */\r\n",
       ".note {\r\n",
       "    background-color:#ffff80;\r\n",
       "    color:black;\r\n",
       "    font-size: 13px;\r\n",
       "    line-height: 1.4;\r\n",
       "    font-weight: bold;\r\n",
       "    border:1px solid #bfbfbf;\r\n",
       "    padding-top:0px;\r\n",
       "    padding-bottom:0px;\r\n",
       "    padding-left:3px;\r\n",
       "    padding-right:3px;\r\n",
       "    border-radius: 3px;\r\n",
       "    display: inline-block;\r\n",
       "    margin-top:5px;\r\n",
       "}\r\n",
       ".note::before {\r\n",
       "    content: \"Note:\";\r\n",
       "}\r\n",
       "\r\n",
       "\r\n",
       "/* TODO */\r\n",
       ".TODO {\r\n",
       "    background-color:red;\r\n",
       "    color:black;\r\n",
       "    font-size:18px;\r\n",
       "    width:100%;\r\n",
       "    padding:10px;\r\n",
       "}\r\n",
       ".TODO::before {\r\n",
       "    content: \"TO-DO:\";\r\n",
       "}\r\n",
       "\r\n",
       "\r\n",
       ".nomenclature {\r\n",
       "    font-family: \"SF Mono\",\"Segoe UI Mono\",\"Roboto Mono\",\"Ubuntu Mono\",Menlo,Courier,monospace;\r\n",
       "    background-color:#ffff80;\r\n",
       "    color:black;\r\n",
       "    font-size: 15px;\r\n",
       "    line-height: 1.4;\r\n",
       "    font-weight: bold;\r\n",
       "    border:1px solid #bfbfbf;\r\n",
       "    padding-left:3px;\r\n",
       "    padding-right:3px;\r\n",
       "    display: inline-block;\r\n",
       "    margin-top:3px;\r\n",
       "}\r\n",
       "\r\n",
       "\r\n",
       "\r\n",
       ".big_title {\r\n",
       "    background-color:#cccccc;\r\n",
       "    color:black;\r\n",
       "    font-size: 35px;\r\n",
       "    line-height: 1.4;\r\n",
       "    font-weight: bold;\r\n",
       "    border:1px solid #8c8c8c;\r\n",
       "    padding:20px;\r\n",
       "    margin-top:5px;\r\n",
       "    width:100%;\r\n",
       "}\r\n",
       "\r\n",
       "\r\n",
       ".codeX {\r\n",
       "    font-family: \"SF Mono\",\"Segoe UI Mono\",\"Roboto Mono\",\"Ubuntu Mono\",Menlo,Courier,monospace;\r\n",
       "    background-color:#e6e6e6;\r\n",
       "    color:#0066ff;\r\n",
       "    font-size: 13px;\r\n",
       "    line-height: 1.4;\r\n",
       "    padding:2px;\r\n",
       "    display: inline-block;\r\n",
       "}\r\n",
       "\r\n",
       "\r\n",
       "\r\n",
       "/* checkpoint */\r\n",
       ".checkpoint {\r\n",
       "    background-color:yellow;\r\n",
       "    color:blue;\r\n",
       "    font-size: 15px;\r\n",
       "    line-height: 1.4;\r\n",
       "    font-weight: bold;\r\n",
       "    border:1px solid #bfbfbf;\r\n",
       "    padding-top:0px;\r\n",
       "    padding-bottom:0px;\r\n",
       "    padding-left:3px;\r\n",
       "    padding-right:3px;\r\n",
       "    border-radius: 3px;\r\n",
       "    display: inline-block;\r\n",
       "    margin-top:5px;\r\n",
       "}\r\n",
       "\r\n",
       ".codeerror {\r\n",
       "    background-color:#ffb3b3;\r\n",
       "    color:red;\r\n",
       "    font-size: 13px;\r\n",
       "    line-height: 1.4;\r\n",
       "    border:1px solid #ffb3b3;\r\n",
       "    padding-top:7px;\r\n",
       "    padding-bottom:7px;\r\n",
       "    padding-left:7px;\r\n",
       "    padding-right:7px;\r\n",
       "    border-radius: 3px;\r\n",
       "    margin:20px;\r\n",
       "    margin-left:25px;\r\n",
       "}\r\n",
       "\r\n",
       ".lineerror {\r\n",
       "    background-color:#ffb3b3;\r\n",
       "    color:red;\r\n",
       "    font-size: 13px;\r\n",
       "    line-height: 1.4;\r\n",
       "    border:1px solid #ffb3b3;\r\n",
       "    padding-top:0px;\r\n",
       "    padding-bottom:0px;\r\n",
       "    padding-left:3px;\r\n",
       "    padding-right:3px;\r\n",
       "    border-radius: 3px;\r\n",
       "    display: inline-block;\r\n",
       "    margin-top:5px;\r\n",
       "}\r\n",
       "\r\n",
       "\r\n",
       "/* terminal */\r\n",
       ".terminal {\r\n",
       "    background-color:black;\r\n",
       "    color:white;\r\n",
       "    font-size: 12px;\r\n",
       "    line-height: 1.4;\r\n",
       "    border:1px solid black;\r\n",
       "    padding-top:0px;\r\n",
       "    padding-bottom:0px;\r\n",
       "    padding-left:3px;\r\n",
       "    padding-right:3px;\r\n",
       "    border-radius: 3px;\r\n",
       "    display: inline-block;\r\n",
       "}\r\n",
       ".terminal::before {\r\n",
       "    content: \"Terminal (i.e. Anaconda Promt)\";\r\n",
       "}\r\n",
       ".terminalBlock {\r\n",
       "    font-family: \"SF Mono\",\"Segoe UI Mono\",\"Roboto Mono\",\"Ubuntu Mono\",Menlo,Courier,monospace;\r\n",
       "    background-color:black;\r\n",
       "    color:white;\r\n",
       "    font-size: 14px;\r\n",
       "    line-height: 1.4;\r\n",
       "    border:1px solid black;\r\n",
       "    padding-top:7px;\r\n",
       "    padding-bottom:7px;\r\n",
       "    padding-left:7px;\r\n",
       "    padding-right:7px;\r\n",
       "    border-radius: 3px;\r\n",
       "    margin:20px;\r\n",
       "    margin-left:25px;\r\n",
       "}\r\n",
       "\r\n",
       ".fakeheader {\r\n",
       "    font-size: 20px;\r\n",
       "    font-weight:bold;\r\n",
       "    background-color:#ccebff;\r\n",
       "    border:1px solid #b3e0ff;\r\n",
       "    padding:2px;\r\n",
       "    margin-top:30px;\r\n",
       "    margin-bottom:15px;\r\n",
       "}\r\n",
       "\r\n",
       "\r\n",
       "/* Headers */\r\n",
       "h1 {\r\n",
       "    background-color:#99d6ff;\r\n",
       "    border:1px solid #007acc;\r\n",
       "    padding:8px;\r\n",
       "}\r\n",
       "\r\n",
       "h2 {\r\n",
       "    background-color:#ccebff;\r\n",
       "    border:1px solid #b3e0ff;\r\n",
       "    padding:2px;\r\n",
       "}\r\n",
       "\r\n",
       "h3 {\r\n",
       "    background-color:#e6f5ff;\r\n",
       "    padding:1px;\r\n",
       "}\r\n",
       "\r\n",
       "</style>"
      ]
     },
     "metadata": {},
     "output_type": "display_data"
    },
    {
     "data": {
      "text/html": [
       "<style>.Q::before {counter-increment: question_num;\n",
       "    content: 'QUESTION ' counter(question_num) ': '; white-space: pre; }.T::before {counter-increment: task_num;\n",
       "    content: 'Task ' counter(task_num) ': ';</style>"
      ]
     },
     "metadata": {},
     "output_type": "display_data"
    }
   ],
   "source": [
    "cssFile <- '../css/custom.css'\n",
    "IRdisplay::display_html(readChar(cssFile, file.info(cssFile)$size))\n",
    "\n",
    "IRdisplay::display_html(\"<style>.Q::before {counter-increment: question_num;\n",
    "    content: 'QUESTION ' counter(question_num) ': '; white-space: pre; }.T::before {counter-increment: task_num;\n",
    "    content: 'Task ' counter(task_num) ': ';</style>\")"
   ]
  },
  {
   "cell_type": "code",
   "execution_count": null,
   "metadata": {},
   "outputs": [],
   "source": []
  }
 ],
 "metadata": {
  "kernelspec": {
   "display_name": "R",
   "language": "R",
   "name": "ir"
  },
  "language_info": {
   "codemirror_mode": "r",
   "file_extension": ".r",
   "mimetype": "text/x-r-source",
   "name": "R",
   "pygments_lexer": "r",
   "version": "4.0.3"
  }
 },
 "nbformat": 4,
 "nbformat_minor": 4
}
