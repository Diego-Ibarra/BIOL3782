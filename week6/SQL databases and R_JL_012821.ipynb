{
 "cells": [
  {
   "cell_type": "markdown",
   "metadata": {},
   "source": [
    "<div class=\"big_title\">LAB 6: SQL databases and R</div>\n",
    "\n",
    "BIO3782: Biologist's Toolkit (Dalhousie University)\n",
    "\n",
    "----------------------------------------"
   ]
  },
  {
   "cell_type": "markdown",
   "metadata": {},
   "source": [
    "# Setup of workspace\n",
    "\n",
    "<span class=\"important\"></span> Make sure the required files are in the working directory:\n",
    "\n",
    "* Create a **folder**  on the \"desktop\" and name it `Lab6`\n",
    "* Create a **sub-folder** called `data_raw` inside your `lab6` folder. Ideally, you would keep your raw and cleaned data separete in case you ever needed your raw data again.\n",
    "* From Brightspace, download the `portal_mammals.sqlite` file into your `Desktop/Lab6/data_raw` folder:\n",
    "* In RStudio, change the working directory to `Desktop/Lab6`\n",
    "* In RStudio, create a new R script, name it `lab6.r` and make sure you save it in `Desktop\\Lab6`. You will be writting and copy-pasting code to your `lab6.r` file so that you can keep a record of all you did in this lab.\n",
    "\n",
    "\n",
    "As in previous labs, we'll try simulate \"real-life\" coding, where:\n",
    "\n",
    "1. sometimes you want to type of copy-paste directly in `lab6.r` file, using RSTudio's <span class=\"editor\"></span>, to build a script file that can be run as a whole to accomplish a series of tasks. Here you can execute sections as you type them in, by highlighting and clicking <span class=\"run\"></span>. We'll guide you when to use the <span class=\"editor\"></span> with the following:\n",
    "\n",
    "<span class=\"editor\"></span> <br>\n",
    "\n",
    "1. some other times you want to quickly type or copy-paste code into RStudio's <span class=\"console\"></span> and click [enter] as a way to do \"one-off\" queries or inspections that you do not want to be part of your script file. We'll guide you when to use the <span class=\"console\"></span> with the following:\n",
    "\n",
    "<span class=\"runcell\"></span>\n",
    "\n",
    "# What are databases\n",
    "\n",
    "A database is an organized collection of structured information, or data, typically stored electronically in a computer system. A database is usually controlled by a database management system (DBMS). Together, the data and the DBMS, along with the applications that are associated with them, are referred to as a database system, often shortened to just database.\n",
    "\n",
    "Data within the most common types of databases in operation today is typically modeled in rows and columns in a series of tables to make processing and data querying efficient. The data can then be easily accessed, managed, modified, updated, controlled, and organized. Most databases use structured query language (SQL) for writing and querying data.\n",
    "\n",
    "# What to do about very large datasets?\n",
    "\n",
    "So far, we have dealt with small datasets that easily fit into your computer's memory. But what about datasets that are too large for your computer to handle as a whole? In this case, storing the data outside of R and organizing it in a database is helpful. Connecting to the database allows you to retrieve only the chunks needed for the current analysis.\n",
    "\n",
    "Even better, many large datasets are already available in public or private databases. You can query them without having to download the data first.\n",
    "\n",
    "R can connect to almost any existing database type. Most common database types have R packages that allow you to connect to them (e.g., RSQLite, RMySQL, etc). Furthermore, the dplyr package, in conjunction with dbplyr, supports connecting to the widely-used open source databases sqlite, mysql and postgresql, as well as Google’s bigquery, and it can also be extended to other database types. \n",
    "\n",
    "The dplyr package now has a generalized SQL backend for talking to databases, and the new dbplyr package translates R code into database-specific variants. As of this writing, SQL variants are supported for the following databases: Oracle, Microsoft SQL Server, PostgreSQL, Amazon Redshift, Apache Hive, and Apache Impala. Interfacing with databases using dplyr focuses on retrieving and analyzing datasets by generating SELECT SQL statements, but it doesn't modify the database itself. dplyr does not offer functions to UPDATE or DELETE entries. If you need these functionalities, you will need to use additional R packages (e.g., RSQLite). \n",
    "\n",
    "# What is Structured Query Language (SQL)?\n",
    "\n",
    "SQL is a programming language used by nearly all relational databases to query, manipulate, and define data, and to provide access control. SQL was first developed at IBM in the 1970s with Oracle as a major contributor, which led to implementation of the SQL ANSI standard, SQL has spurred many extensions from companies such as IBM, Oracle, and Microsoft. Although SQL is still widely used today, new programming languages are beginning to appear.\n",
    "\n",
    "SQLite is the most widely deployed database in the world. It is included on Android, iPhone and IOS devices and in Firefox, Chrome and Safari web browsers. Apple and Microsoft include it in their OSX and Windows 10 operating systems respectively and there are many other products that include SQLite. It is extremely easy to use, and can be of great value to developers who need a database available but want to avoid the overhead often associated with installing and configuring an external database. In this demonstration, we will download and install the RSQLite package which will integrate SQLite into R running in RStudio. \n",
    "\n",
    "Here we will demonstrate how to interact with a database using dplyr, using both the dplyr's verb syntax and the SQL syntax."
   ]
  },
  {
   "cell_type": "markdown",
   "metadata": {},
   "source": [
    "# Connect the databases\n",
    "\n",
    "We can point R to this database using the `dplyr`, `dbplyr` and `RSQLite` packages. We will create a new, empty SQLite database where we can store the `mammals` data. SQLite has a rather simple data storage mechanism, all data for a database is installed within a single file.  The name of this file must be specified when the database is created, and a connection to this database is returned and used in subsequent commands to access and manipulate the data and data structures within the database. \n",
    "\n",
    "<span class=\"runcell\"></span>"
   ]
  },
  {
   "cell_type": "code",
   "execution_count": 4,
   "metadata": {},
   "outputs": [
    {
     "name": "stderr",
     "output_type": "stream",
     "text": [
      "Installing packages into 'C:/Users/flyin/Documents/R/win-library/3.6'\n",
      "(as 'lib' is unspecified)\n"
     ]
    },
    {
     "name": "stdout",
     "output_type": "stream",
     "text": [
      "package 'dbplyr' successfully unpacked and MD5 sums checked\n",
      "package 'RSQLite' successfully unpacked and MD5 sums checked\n"
     ]
    },
    {
     "name": "stderr",
     "output_type": "stream",
     "text": [
      "Warning message:\n",
      "\"cannot remove prior installation of package 'RSQLite'\"Warning message in file.copy(savedcopy, lib, recursive = TRUE):\n",
      "\"problem copying C:\\Users\\flyin\\Documents\\R\\win-library\\3.6\\00LOCK\\RSQLite\\libs\\x64\\RSQLite.dll to C:\\Users\\flyin\\Documents\\R\\win-library\\3.6\\RSQLite\\libs\\x64\\RSQLite.dll: Permission denied\"Warning message:\n",
      "\"restored 'RSQLite'\""
     ]
    },
    {
     "name": "stdout",
     "output_type": "stream",
     "text": [
      "\n",
      "The downloaded binary packages are in\n",
      "\tC:\\Users\\flyin\\AppData\\Local\\Temp\\RtmpqiN10R\\downloaded_packages\n"
     ]
    },
    {
     "name": "stderr",
     "output_type": "stream",
     "text": [
      "Warning message:\n",
      "\"package 'dplyr' was built under R version 3.6.3\"\n",
      "Attaching package: 'dplyr'\n",
      "\n",
      "The following objects are masked from 'package:stats':\n",
      "\n",
      "    filter, lag\n",
      "\n",
      "The following objects are masked from 'package:base':\n",
      "\n",
      "    intersect, setdiff, setequal, union\n",
      "\n",
      "Warning message:\n",
      "\"package 'dbplyr' was built under R version 3.6.3\"\n",
      "Attaching package: 'dbplyr'\n",
      "\n",
      "The following objects are masked from 'package:dplyr':\n",
      "\n",
      "    ident, sql\n",
      "\n",
      "Warning message:\n",
      "\"package 'ggplot2' was built under R version 3.6.3\""
     ]
    }
   ],
   "source": [
    "install.packages(c(\"dbplyr\", \"RSQLite\"))\n",
    "\n",
    "library(dplyr)\n",
    "library(dbplyr)\n",
    "library(ggplot2)\n",
    "\n",
    "mammals <- DBI::dbConnect(RSQLite::SQLite(), \"data_raw/portal_mammals.sqlite\")"
   ]
  },
  {
   "cell_type": "markdown",
   "metadata": {},
   "source": [
    "This command uses 2 packages that helps dbplyr and dplyr talk to the SQLite database. `DBI` is not something that you'll use directly as a user. It allows R to send commands to databases irrespective of the database management system used. The RSQLite package allows R to interface with SQLite databases.\n",
    "\n",
    "This command does not load the data into the R session (as the read_csv() function did). Instead, it merely instructs R to connect to the SQLite database contained in the `portal_mammals.sqlite` file.\n",
    "\n",
    "Using a similar approach, you could connect to many other database management systems that are supported by R including MySQL, PostgreSQL, BigQuery, etc.\n",
    "\n",
    "Let's take a closer look at the mammals database we just connected to.\n",
    "\n",
    "<span class=\"runcell\"></span> <br>"
   ]
  },
  {
   "cell_type": "markdown",
   "metadata": {},
   "source": [
    "<div class=\"Q\"><br><br>\n",
    "\n",
    "What type of file is `portal_mammals`? \n",
    "\n",
    "ANSWER: sqlite\n",
    "\n",
    "<br><br><div class=\"qhelp\"></div></div>"
   ]
  },
  {
   "cell_type": "code",
   "execution_count": 5,
   "metadata": {},
   "outputs": [
    {
     "data": {
      "text/plain": [
       "src:  sqlite 3.34.1 [C:\\Users\\flyin\\Dropbox\\Biol3782\\biol3782\\week6\\data_raw\\portal_mammals.sqlite]\n",
       "tbls: plots, species, surveys"
      ]
     },
     "metadata": {},
     "output_type": "display_data"
    }
   ],
   "source": [
    "src_dbi(mammals)"
   ]
  },
  {
   "cell_type": "markdown",
   "metadata": {},
   "source": [
    "Just like a spreadsheet with multiple worksheets, a SQLite database can contain multiple tables. In this case three of them are listed in the tbls row in the output above:\n",
    "\n",
    "* plots\n",
    "* species\n",
    "* surveys\n",
    "\n",
    "Now that we know we can connect to the database, let's explore how to get the data from its tables into R."
   ]
  },
  {
   "cell_type": "markdown",
   "metadata": {},
   "source": [
    "<div class=\"Q\"><br><br>\n",
    "\n",
    "what does the 'src:' from the `src_dbi` function tell you? \n",
    "\n",
    "ANSWER: File source (i.e. which file you're reading)\n",
    "\n",
    "<br><br><div class=\"qhelp\"></div></div>"
   ]
  },
  {
   "cell_type": "markdown",
   "metadata": {},
   "source": [
    "## Querying with SQL syntax\n",
    "\n",
    "To connect to tables within a database, you can use the `tbl()` function from dplyr. This function can be used to send SQL queries to the database. To demonstrate this functionality, let's select the columns \"year\", \"species_id\", and \"plot_id\" from the surveys table.\n",
    "\n",
    "<span class=\"runcell\"></span> <br>"
   ]
  },
  {
   "cell_type": "code",
   "execution_count": 5,
   "metadata": {},
   "outputs": [
    {
     "data": {
      "text/plain": [
       "# Source:   SQL [?? x 3]\n",
       "# Database: sqlite 3.34.0 [C:\\Users\\flyin\\Dropbox\\Biol3782\\Week\n",
       "#   5\\data_raw\\portal_mammals.sqlite]\n",
       "    year species_id plot_id\n",
       "   <int> <chr>        <int>\n",
       " 1  1977 NL               2\n",
       " 2  1977 NL               3\n",
       " 3  1977 DM               2\n",
       " 4  1977 DM               7\n",
       " 5  1977 DM               3\n",
       " 6  1977 PF               1\n",
       " 7  1977 PE               2\n",
       " 8  1977 DM               1\n",
       " 9  1977 DM               1\n",
       "10  1977 PF               6\n",
       "# ... with more rows"
      ]
     },
     "metadata": {},
     "output_type": "display_data"
    }
   ],
   "source": [
    "tbl(mammals, sql(\"SELECT year, species_id, plot_id FROM surveys\"))"
   ]
  },
  {
   "cell_type": "markdown",
   "metadata": {},
   "source": [
    "<div class=\"Q\"><br>\n",
    "\n",
    "What class of object does `tbl()` return? \n",
    "\n",
    "ANSWER: table\n",
    "<br><br><div class=\"qhelp\"></div></div>"
   ]
  },
  {
   "cell_type": "markdown",
   "metadata": {},
   "source": [
    "<div class=\"Q\"><br>\n",
    "\n",
    "How many columns does the previous table have? \n",
    "\n",
    "ANSWER: 3\n",
    "<br><br><div class=\"qhelp\"></div></div>"
   ]
  },
  {
   "cell_type": "markdown",
   "metadata": {},
   "source": [
    "## Querying with dplry syntax\n",
    "\n",
    "We can do something similar using the dplyr package. First, we select the table on which to do the operations by creating the surveys object, and then we use the standard dplyr syntax as if it were a data frame.\n",
    "\n",
    "<span class=\"runcell\"></span> <br>"
   ]
  },
  {
   "cell_type": "code",
   "execution_count": 6,
   "metadata": {},
   "outputs": [
    {
     "data": {
      "text/plain": [
       "# Source:   lazy query [?? x 3]\n",
       "# Database: sqlite 3.34.1\n",
       "#   [C:\\Users\\flyin\\Dropbox\\Biol3782\\biol3782\\week6\\data_raw\\portal_mammals.sqlite]\n",
       "    year species_id plot_id\n",
       "   <int> <chr>        <int>\n",
       " 1  1977 NL               2\n",
       " 2  1977 NL               3\n",
       " 3  1977 DM               2\n",
       " 4  1977 DM               7\n",
       " 5  1977 DM               3\n",
       " 6  1977 PF               1\n",
       " 7  1977 PE               2\n",
       " 8  1977 DM               1\n",
       " 9  1977 DM               1\n",
       "10  1977 PF               6\n",
       "# ... with more rows"
      ]
     },
     "metadata": {},
     "output_type": "display_data"
    }
   ],
   "source": [
    "surveys <- tbl(mammals, \"surveys\")\n",
    "\n",
    "surveys %>%\n",
    "    select(year, species_id, plot_id)"
   ]
  },
  {
   "cell_type": "markdown",
   "metadata": {},
   "source": [
    "The `surveys` object behaves like a data frame. Several functions that can be used with data frames can also be used on tables from a database. The ouput looks just like a regular data frame. However, the columns plot_type, taxa, genus, and species are missing. These are now located in the tables `plots` and `species` which we will join together in a moment.\n",
    "\n",
    "<span class=\"note\"></span>Some dplyr functions won't work the way we expect them too. For example, let's check to see how many rows `surveys` has with the `n_row()` function.\n",
    "\n",
    "<span class=\"runcell\"></span> <br>"
   ]
  },
  {
   "cell_type": "code",
   "execution_count": 15,
   "metadata": {},
   "outputs": [
    {
     "data": {
      "text/html": [
       "&lt;NA&gt;"
      ],
      "text/latex": [
       "<NA>"
      ],
      "text/markdown": [
       "&lt;NA&gt;"
      ],
      "text/plain": [
       "[1] NA"
      ]
     },
     "metadata": {},
     "output_type": "display_data"
    }
   ],
   "source": [
    "nrow(surveys)"
   ]
  },
  {
   "cell_type": "markdown",
   "metadata": {},
   "source": [
    "`n_row()` returns NA. You may have also noticed that the `surveys` output included \"??\" indicating the number of rows was unknown. The reason for this behavior highlights a key difference between using dplyr on datasets in memory (e.g. loaded into your R session via `read_csv()`) and those provided by a database. \n",
    "\n",
    "To understand it, we take a closer look at how dplyr communicates with our SQLite database."
   ]
  },
  {
   "cell_type": "markdown",
   "metadata": {},
   "source": [
    "<div class=\"Q\"><br>\n",
    "\n",
    "What class of object is `surveys`? \n",
    "\n",
    "ANSWER: Table\n",
    "<br><br><div class=\"qhelp\"></div></div>"
   ]
  },
  {
   "cell_type": "markdown",
   "metadata": {},
   "source": [
    "\n",
    "# SQL translation\n",
    "\n",
    "Relational databases typically use a special-purpose language, Structured Query Language (SQL), to manage and query data.\n",
    "\n",
    "For example, the following SQL query returns the first 10 rows from the surveys table."
   ]
  },
  {
   "cell_type": "code",
   "execution_count": 7,
   "metadata": {},
   "outputs": [
    {
     "ename": "ERROR",
     "evalue": "Error in parse(text = x, srcfile = src): <text>:2:6: unexpected symbol\n1: SELECT *\n2: FROM `surveys`\n        ^\n",
     "output_type": "error",
     "traceback": [
      "Error in parse(text = x, srcfile = src): <text>:2:6: unexpected symbol\n1: SELECT *\n2: FROM `surveys`\n        ^\nTraceback:\n"
     ]
    }
   ],
   "source": [
    "SELECT *\n",
    "FROM `surveys`\n",
    "LIMIT 10"
   ]
  },
  {
   "cell_type": "markdown",
   "metadata": {},
   "source": [
    "We can use dplyr's `show_query()` function to show which SQL commands are actually sent to the database.\n",
    "\n",
    "<span class=\"runcell\"></span> <br>"
   ]
  },
  {
   "cell_type": "code",
   "execution_count": 8,
   "metadata": {},
   "outputs": [
    {
     "name": "stdout",
     "output_type": "stream",
     "text": [
      "<SQL>\n",
      "SELECT *\n",
      "FROM `surveys`\n",
      "LIMIT 10\n"
     ]
    }
   ],
   "source": [
    "show_query(head(surveys, n = 10))"
   ]
  },
  {
   "cell_type": "markdown",
   "metadata": {},
   "source": [
    "The output shows the actual SQL query sent to the database; it matches our manually constructed SELECT statement above.\n",
    "\n",
    "<img src=\"sql vs r.png\" width=\"700px\">"
   ]
  },
  {
   "cell_type": "markdown",
   "metadata": {},
   "source": [
    "<div class=\"Q\"><br>\n",
    "\n",
    "What does `show_query` do? \n",
    "\n",
    "ANSWER: shows which SQL commands are sent to the database\n",
    "<br><br><div class=\"qhelp\"></div></div>"
   ]
  },
  {
   "cell_type": "markdown",
   "metadata": {},
   "source": [
    "Behind the scenes, dplyr:\n",
    "\n",
    "1. translates your R code into SQL\n",
    "1. submits it to the database\n",
    "1. translates the database's response into an R data frame\n",
    "\n",
    "Instead of having to formulate the SQL query ourselves - and having to mentally switch back and forth between R and SQL syntax - we can delegate this translation to dplyr. dplyr, in turn, doesn't do the real work of subsetting the table, either. Instead, it merely sends the query to the database, waits for its response and returns it to us.\n",
    "\n",
    "R connects to the database and downloads a bare minimum of information on fields, data types, etc. — enough to allow manipulation of the object without physical download of the data. R never gets to see the full surveys table - and that's why it could not tell us how many rows it contains.\n",
    "\n",
    "There are two components to dplyr’s SQL translation system:\n",
    "\n",
    "* translation of vector expressions like x * y + 10\n",
    "\n",
    "* translation of whole verbs like mutate() or summarise()\n",
    "\n",
    "Most filtering, mutating, or summarising operations only perform simple mathematical operations. These operations are very similar between R and SQL, so they’re easy to translate. To see what’s happening yourself, you can use `translate_sql()`. `translate_sql()` is built on top of R’s parsing engine and has been carefully designed to generate correct SQL. It also protects you against SQL injection attacks by correctly escaping the strings and variable names needed by the database that you’re connecting to.\n",
    "\n",
    "Let's take a look at some differences between R ans SQL\n",
    "\n",
    "* \" and ' aren't the same"
   ]
  },
  {
   "cell_type": "code",
   "execution_count": null,
   "metadata": {},
   "outputs": [],
   "source": [
    "# In SQLite, variable names are escaped by double quotes\n",
    "\n",
    "translate_sql(x)\n",
    "#> <SQL> `x`\n",
    "\n",
    "# And strings are escaped by single quotes\n",
    "\n",
    "translate_sql(\"x\")\n",
    "#> <SQL> 'x'"
   ]
  },
  {
   "cell_type": "markdown",
   "metadata": {},
   "source": [
    "* functions have different names"
   ]
  },
  {
   "cell_type": "code",
   "execution_count": null,
   "metadata": {},
   "outputs": [],
   "source": [
    "translate_sql(x == 1 && (y < 2 || z > 3))\n",
    "#> <SQL> `x` = 1.0 AND (`y` < 2.0 OR `z` > 3.0)\n",
    "\n",
    "translate_sql(x ^ 2 < 10)\n",
    "#> <SQL> POWER(`x`, 2.0) < 10.0\n",
    "\n",
    "translate_sql(x %% 2 == 10)\n",
    "#> <SQL> `x` % 2.0 = 10.0"
   ]
  },
  {
   "cell_type": "markdown",
   "metadata": {},
   "source": [
    "* functions have different arguement orders"
   ]
  },
  {
   "cell_type": "code",
   "execution_count": null,
   "metadata": {},
   "outputs": [],
   "source": [
    "translate_sql(substr(x, 5, 10))\n",
    "#> <SQL> SUBSTR(`x`, 5, 6)\n",
    "\n",
    "translate_sql(log(x, 10))\n",
    "#> <SQL> LOG(10.0, `x`)"
   ]
  },
  {
   "cell_type": "markdown",
   "metadata": {},
   "source": [
    "* R and SQL have different defaults for integers and reals. In R, 1 is a real, and 1L is an integer. In SQL, 1 is an integer, and 1.0 is a real number."
   ]
  },
  {
   "cell_type": "code",
   "execution_count": null,
   "metadata": {},
   "outputs": [],
   "source": [
    "translate_sql(1)\n",
    "#> <SQL> 1.0\n",
    "\n",
    "translate_sql(1L)\n",
    "#> <SQL> 1"
   ]
  },
  {
   "cell_type": "markdown",
   "metadata": {},
   "source": [
    "* If statements are translated into a case statement"
   ]
  },
  {
   "cell_type": "code",
   "execution_count": null,
   "metadata": {},
   "outputs": [],
   "source": [
    "translate_sql(if (x > 5) \"big\" else \"small\")\n",
    "#> <SQL> CASE WHEN (`x` > 5.0) THEN ('big') WHEN NOT(`x` > 5.0) THEN ('small') END"
   ]
  },
  {
   "cell_type": "markdown",
   "metadata": {},
   "source": [
    "dplyr can translate many different query types into SQL allowing us to `select()` specific columns, `filter(`) rows, or join tables. You can now manipulate `surveys` in the same way as you would manipulate other tables in R.\n",
    "\n",
    "To see this in action, let's compose a few queries with dplyr."
   ]
  },
  {
   "cell_type": "markdown",
   "metadata": {},
   "source": [
    "<div class=\"Q\"><br>\n",
    "\n",
    "In SQL, is 3 and integer or real number? \n",
    "\n",
    "ANSWER: Integer\n",
    "<br><br><div class=\"qhelp\"></div></div>"
   ]
  },
  {
   "cell_type": "markdown",
   "metadata": {},
   "source": [
    "<div class=\"Q\"><br>\n",
    "\n",
    "What does `translate_sql` do? \n",
    "\n",
    "ANSWER: generates correct SQL output\n",
    "<br><br><div class=\"qhelp\"></div></div>"
   ]
  },
  {
   "cell_type": "markdown",
   "metadata": {},
   "source": [
    "## Simple database queries\n",
    "\n",
    "First, let's only request rows of the surveys table in which weight is less than 5 and keep only the species_id, sex, and weight columns.\n",
    "\n",
    "<span class=\"runcell\"></span> <br>"
   ]
  },
  {
   "cell_type": "code",
   "execution_count": 7,
   "metadata": {},
   "outputs": [
    {
     "data": {
      "text/plain": [
       "# Source:   lazy query [?? x 3]\n",
       "# Database: sqlite 3.34.1\n",
       "#   [C:\\Users\\flyin\\Dropbox\\Biol3782\\biol3782\\week6\\data_raw\\portal_mammals.sqlite]\n",
       "   species_id sex   weight\n",
       "   <chr>      <chr>  <int>\n",
       " 1 PF         M          4\n",
       " 2 PF         F          4\n",
       " 3 PF         <NA>       4\n",
       " 4 PF         F          4\n",
       " 5 PF         F          4\n",
       " 6 RM         M          4\n",
       " 7 RM         F          4\n",
       " 8 RM         M          4\n",
       " 9 RM         M          4\n",
       "10 RM         M          4\n",
       "# ... with more rows"
      ]
     },
     "metadata": {},
     "output_type": "display_data"
    }
   ],
   "source": [
    "simple<-surveys %>%\n",
    "  filter(weight < 5) %>%\n",
    "  select(species_id, sex, weight)\n",
    "\n",
    "simple"
   ]
  },
  {
   "cell_type": "markdown",
   "metadata": {},
   "source": [
    "Executing this command will return a table showing 10 rows and the requested species_id, sex and weight columns.\n",
    "But wait, what does the last line mean?"
   ]
  },
  {
   "cell_type": "code",
   "execution_count": 11,
   "metadata": {},
   "outputs": [
    {
     "ename": "ERROR",
     "evalue": "Error in parse(text = x, srcfile = src): <text>:1:5: unexpected symbol\n1: ... with\n        ^\n",
     "output_type": "error",
     "traceback": [
      "Error in parse(text = x, srcfile = src): <text>:1:5: unexpected symbol\n1: ... with\n        ^\nTraceback:\n"
     ]
    }
   ],
   "source": [
    "# ... with more rows"
   ]
  },
  {
   "cell_type": "markdown",
   "metadata": {},
   "source": [
    "This indicates that R is only showing us the first 10 rows that fit our criterion. It does not call the whole dataset.\n",
    "\n",
    "<span class=\"note\"></span>It does not return a dataframe object! The `str()` call returns a list of tables instead.\n",
    "\n",
    "<span class=\"runcell\"></span> <br>"
   ]
  },
  {
   "cell_type": "code",
   "execution_count": 21,
   "metadata": {},
   "outputs": [
    {
     "name": "stdout",
     "output_type": "stream",
     "text": [
      "List of 2\n",
      " $ src:List of 2\n",
      "  ..$ con  :Formal class 'SQLiteConnection' [package \"RSQLite\"] with 7 slots\n",
      "  .. .. ..@ ptr                :<externalptr> \n",
      "  .. .. ..@ dbname             : chr \"C:\\\\Users\\\\flyin\\\\Dropbox\\\\Biol3782\\\\Week 5\\\\data_raw\\\\portal_mammals.sqlite\"\n",
      "  .. .. ..@ loadable.extensions: logi TRUE\n",
      "  .. .. ..@ flags              : int 70\n",
      "  .. .. ..@ vfs                : chr \"\"\n",
      "  .. .. ..@ ref                :<environment: 0x0000000008653f58> \n",
      "  .. .. ..@ bigint             : chr \"integer64\"\n",
      "  ..$ disco: NULL\n",
      "  ..- attr(*, \"class\")= chr [1:4] \"src_SQLiteConnection\" \"src_dbi\" \"src_sql\" \"src\"\n",
      " $ ops:List of 4\n",
      "  ..$ name: chr \"select\"\n",
      "  ..$ x   :List of 4\n",
      "  .. ..$ name: chr \"filter\"\n",
      "  .. ..$ x   :List of 2\n",
      "  .. .. ..$ x   : 'ident' chr \"surveys\"\n",
      "  .. .. ..$ vars: chr [1:9] \"record_id\" \"month\" \"day\" \"year\" ...\n",
      "  .. .. ..- attr(*, \"class\")= chr [1:3] \"op_base_remote\" \"op_base\" \"op\"\n",
      "  .. ..$ dots:List of 1\n",
      "  .. .. ..$ : language ~weight < 5\n",
      "  .. .. .. ..- attr(*, \".Environment\")=<environment: 0x000000000eec2af0> \n",
      "  .. ..$ args: list()\n",
      "  .. ..- attr(*, \"class\")= chr [1:3] \"op_filter\" \"op_single\" \"op\"\n",
      "  ..$ dots: list()\n",
      "  ..$ args:List of 1\n",
      "  .. ..$ vars:List of 3\n",
      "  .. .. ..$ species_id: symbol species_id\n",
      "  .. .. ..$ sex       : symbol sex\n",
      "  .. .. ..$ weight    : symbol weight\n",
      "  ..- attr(*, \"class\")= chr [1:3] \"op_select\" \"op_single\" \"op\"\n",
      " - attr(*, \"class\")= chr [1:5] \"tbl_SQLiteConnection\" \"tbl_dbi\" \"tbl_sql\" \"tbl_lazy\" ...\n"
     ]
    }
   ],
   "source": [
    "str(simple)"
   ]
  },
  {
   "cell_type": "markdown",
   "metadata": {},
   "source": [
    "When working with databases, dplyr tries to be as lazy as possible.\n",
    "\n",
    "* It never pulls data into R unless you explicitly ask for it.\n",
    "* It delays doing any work until the last possible moment - it collects together everything you want to do and then sends it to the database in one step."
   ]
  },
  {
   "cell_type": "markdown",
   "metadata": {},
   "source": [
    "<div class=\"Q\"><br>\n",
    "\n",
    "Why does the object `simple` only return 10 rows and not the whole dataset? \n",
    "\n",
    "ANSWER: dplyr never pulls all data into R unless you it to.\n",
    "<br><br><div class=\"qhelp\"></div></div>"
   ]
  },
  {
   "cell_type": "markdown",
   "metadata": {},
   "source": [
    "When you construct a dplyr query, you can connect multiple verbs into a single pipeline. For example, we combined the `filter()` and `select()` verbs using the `%>%` pipe.\n",
    "\n",
    "<span class=\"runcell\"></span> <br>"
   ]
  },
  {
   "cell_type": "code",
   "execution_count": 13,
   "metadata": {},
   "outputs": [
    {
     "data": {
      "text/plain": [
       "# Source:   lazy query [?? x 3]\n",
       "# Database: sqlite 3.34.0 [C:\\Users\\flyin\\Dropbox\\Biol3782\\Week\n",
       "#   5\\data_raw\\portal_mammals.sqlite]\n",
       "   species_id sex   weight\n",
       "   <chr>      <chr>  <int>\n",
       " 1 PF         M          4\n",
       " 2 PF         F          4\n",
       " 3 PF         <NA>       4\n",
       " 4 PF         F          4\n",
       " 5 PF         F          4\n",
       " 6 RM         M          4\n",
       " 7 RM         F          4\n",
       " 8 RM         M          4\n",
       " 9 RM         M          4\n",
       "10 RM         M          4\n",
       "# ... with more rows"
      ]
     },
     "metadata": {},
     "output_type": "display_data"
    }
   ],
   "source": [
    "data_subset <- surveys %>%\n",
    "  filter(weight < 5) %>%\n",
    "  select(species_id, sex, weight)\n",
    "\n",
    "data_subset"
   ]
  },
  {
   "cell_type": "markdown",
   "metadata": {},
   "source": [
    "Now let's take a look at the structure of `data_subset`\n",
    "\n",
    "<span class=\"runcell\"></span> <br>"
   ]
  },
  {
   "cell_type": "code",
   "execution_count": 14,
   "metadata": {},
   "outputs": [
    {
     "name": "stdout",
     "output_type": "stream",
     "text": [
      "List of 2\n",
      " $ src:List of 2\n",
      "  ..$ con  :Formal class 'SQLiteConnection' [package \"RSQLite\"] with 7 slots\n",
      "  .. .. ..@ ptr                :<externalptr> \n",
      "  .. .. ..@ dbname             : chr \"C:\\\\Users\\\\flyin\\\\Dropbox\\\\Biol3782\\\\Week 5\\\\data_raw\\\\portal_mammals.sqlite\"\n",
      "  .. .. ..@ loadable.extensions: logi TRUE\n",
      "  .. .. ..@ flags              : int 70\n",
      "  .. .. ..@ vfs                : chr \"\"\n",
      "  .. .. ..@ ref                :<environment: 0x0000000008653f58> \n",
      "  .. .. ..@ bigint             : chr \"integer64\"\n",
      "  ..$ disco: NULL\n",
      "  ..- attr(*, \"class\")= chr [1:4] \"src_SQLiteConnection\" \"src_dbi\" \"src_sql\" \"src\"\n",
      " $ ops:List of 4\n",
      "  ..$ name: chr \"select\"\n",
      "  ..$ x   :List of 4\n",
      "  .. ..$ name: chr \"filter\"\n",
      "  .. ..$ x   :List of 2\n",
      "  .. .. ..$ x   : 'ident' chr \"surveys\"\n",
      "  .. .. ..$ vars: chr [1:9] \"record_id\" \"month\" \"day\" \"year\" ...\n",
      "  .. .. ..- attr(*, \"class\")= chr [1:3] \"op_base_remote\" \"op_base\" \"op\"\n",
      "  .. ..$ dots:List of 1\n",
      "  .. .. ..$ : language ~weight < 5\n",
      "  .. .. .. ..- attr(*, \".Environment\")=<environment: 0x000000000f8b9ec8> \n",
      "  .. ..$ args: list()\n",
      "  .. ..- attr(*, \"class\")= chr [1:3] \"op_filter\" \"op_single\" \"op\"\n",
      "  ..$ dots: list()\n",
      "  ..$ args:List of 1\n",
      "  .. ..$ vars:List of 3\n",
      "  .. .. ..$ species_id: symbol species_id\n",
      "  .. .. ..$ sex       : symbol sex\n",
      "  .. .. ..$ weight    : symbol weight\n",
      "  ..- attr(*, \"class\")= chr [1:3] \"op_select\" \"op_single\" \"op\"\n",
      " - attr(*, \"class\")= chr [1:5] \"tbl_SQLiteConnection\" \"tbl_dbi\" \"tbl_sql\" \"tbl_lazy\" ...\n"
     ]
    }
   ],
   "source": [
    "str(data_subset)"
   ]
  },
  {
   "cell_type": "markdown",
   "metadata": {},
   "source": [
    "Notice that the `str()` call returns a list instead of a dataframe. The call `select(species_id, sex, weight)` command wasn't executed by R but was sent to the database instead.R doesn't retrieve the full set of results - instead it only retrieves the first 10 results from the database by default. "
   ]
  },
  {
   "cell_type": "markdown",
   "metadata": {},
   "source": [
    "<div class=\"Q\"><br>\n",
    "\n",
    "Why does the object `data_subset` only return 10 rows? \n",
    "\n",
    "ANSWER: dplyr never pulls all data into R unless you it to and  it collects together everything you want to do and then sends it to the database in one step\n",
    "<br><br><div class=\"qhelp\"></div></div>"
   ]
  },
  {
   "cell_type": "markdown",
   "metadata": {},
   "source": [
    "<div class=\"Q\"><br>\n",
    "\n",
    "What class of object is `data_subset`? \n",
    "\n",
    "ANSWER: list.\n",
    "<br><br><div class=\"qhelp\"></div></div>"
   ]
  },
  {
   "cell_type": "markdown",
   "metadata": {},
   "source": [
    "To instruct R to retrieve all of the query results from the database, we add the `collect()` command to our pipe. It indicates that our database query is finished, get the final results, then load them into the R session. \n",
    "\n",
    "<span class=\"runcell\"></span> <br>"
   ]
  },
  {
   "cell_type": "code",
   "execution_count": 26,
   "metadata": {},
   "outputs": [
    {
     "data": {
      "text/html": [
       "<table>\n",
       "<thead><tr><th scope=col>species_id</th><th scope=col>sex</th><th scope=col>weight</th></tr></thead>\n",
       "<tbody>\n",
       "\t<tr><td>DM</td><td>M </td><td>40</td></tr>\n",
       "\t<tr><td>DM</td><td>M </td><td>48</td></tr>\n",
       "\t<tr><td>DM</td><td>F </td><td>29</td></tr>\n",
       "\t<tr><td>DM</td><td>F </td><td>46</td></tr>\n",
       "\t<tr><td>DM</td><td>M </td><td>36</td></tr>\n",
       "\t<tr><td>DO</td><td>F </td><td>52</td></tr>\n",
       "</tbody>\n",
       "</table>\n"
      ],
      "text/latex": [
       "\\begin{tabular}{r|lll}\n",
       " species\\_id & sex & weight\\\\\n",
       "\\hline\n",
       "\t DM & M  & 40\\\\\n",
       "\t DM & M  & 48\\\\\n",
       "\t DM & F  & 29\\\\\n",
       "\t DM & F  & 46\\\\\n",
       "\t DM & M  & 36\\\\\n",
       "\t DO & F  & 52\\\\\n",
       "\\end{tabular}\n"
      ],
      "text/markdown": [
       "\n",
       "| species_id | sex | weight |\n",
       "|---|---|---|\n",
       "| DM | M  | 40 |\n",
       "| DM | M  | 48 |\n",
       "| DM | F  | 29 |\n",
       "| DM | F  | 46 |\n",
       "| DM | M  | 36 |\n",
       "| DO | F  | 52 |\n",
       "\n"
      ],
      "text/plain": [
       "  species_id sex weight\n",
       "1 DM         M   40    \n",
       "2 DM         M   48    \n",
       "3 DM         F   29    \n",
       "4 DM         F   46    \n",
       "5 DM         M   36    \n",
       "6 DO         F   52    "
      ]
     },
     "metadata": {},
     "output_type": "display_data"
    }
   ],
   "source": [
    "data_subset <- surveys %>%\n",
    "  filter(weight > 5) %>%\n",
    "  select(species_id, sex, weight) %>%\n",
    "  collect()\n",
    "\n",
    "data_subset %>% \n",
    "head()"
   ]
  },
  {
   "cell_type": "markdown",
   "metadata": {},
   "source": [
    "Let's take a look at `data_subset` again.\n",
    "\n",
    "<span class=\"runcell\"></span> <br>"
   ]
  },
  {
   "cell_type": "code",
   "execution_count": 27,
   "metadata": {},
   "outputs": [
    {
     "name": "stdout",
     "output_type": "stream",
     "text": [
      "Classes 'tbl_df', 'tbl' and 'data.frame':\t32208 obs. of  3 variables:\n",
      " $ species_id: chr  \"DM\" \"DM\" \"DM\" \"DM\" ...\n",
      " $ sex       : chr  \"M\" \"M\" \"F\" \"F\" ...\n",
      " $ weight    : int  40 48 29 46 36 52 8 22 35 7 ...\n"
     ]
    }
   ],
   "source": [
    "str(data_subset)"
   ]
  },
  {
   "cell_type": "markdown",
   "metadata": {},
   "source": [
    "<span class=\"editor\"></span> <br>"
   ]
  },
  {
   "cell_type": "code",
   "execution_count": 35,
   "metadata": {},
   "outputs": [
    {
     "name": "stderr",
     "output_type": "stream",
     "text": [
      "Warning message:\n",
      "\"Ignoring unknown parameters: binwidth, bins, pad\""
     ]
    },
    {
     "data": {
      "image/png": "[encoded data removed]",
      "text/plain": [
       "plot without title"
      ]
     },
     "metadata": {},
     "output_type": "display_data"
    }
   ],
   "source": [
    "ggplot(data_subset %>% na.omit(), aes(species_id))+\n",
    "geom_histogram(aes(fill=sex), position = \"dodge\",stat = \"count\", color=\"black\") +\n",
    "theme_classic()"
   ]
  },
  {
   "cell_type": "markdown",
   "metadata": {},
   "source": [
    "Notice the `str()` call now returns the structure of a dataframe. Now we have all 32208 rows that match our query in a dataframe and can continue to work with them exclusively in R, without communicating with the database."
   ]
  },
  {
   "cell_type": "markdown",
   "metadata": {},
   "source": [
    "<div class=\"Q\"><br>\n",
    "\n",
    "How many observations does `data_subset` have? \n",
    "\n",
    "ANSWER: 32208\n",
    "<br><br><div class=\"qhelp\"></div></div>"
   ]
  },
  {
   "cell_type": "markdown",
   "metadata": {},
   "source": [
    "<div class=\"Q\"><br>\n",
    "\n",
    "What class of varaible is `sex`? \n",
    "\n",
    "ANSWER: character\n",
    "<br><br><div class=\"qhelp\"></div></div>"
   ]
  },
  {
   "cell_type": "markdown",
   "metadata": {},
   "source": [
    "<div class=\"Q\"><br>\n",
    "\n",
    "TRUE or FALSE: `collect()` retrieves all queiries from our database? \n",
    "\n",
    "ANSWER: TRUE\n",
    "<br><br><div class=\"qhelp\"></div></div>"
   ]
  },
  {
   "cell_type": "markdown",
   "metadata": {},
   "source": [
    "## Complex database queries\n",
    "\n",
    "dplyr enables database queries across one or multiple database tables, using the same single- and multiple-table verbs you encountered previously. This means you can use the same commands regardless of whether you interact with a remote database or local dataset. \n",
    "\n",
    "This is a really useful feature if you work with large datasets: \n",
    "\n",
    "* you can first prototype your code on a small subset that fits into memory, and when your code is ready, \n",
    "* you can change the input dataset to your full database without having to change the syntax.\n",
    "\n",
    "Being able to use SQL queries directly can be useful if your collaborators have already put together complex queries to prepare the dataset that you need for your analysis.\n",
    "\n",
    "To illustrate how to use dplyr with these complex queries, we are going to join the plots and surveys tables. The plots table in the database contains information about the different plots surveyed by the researchers. To access it, we point the `tbl()` command to it.\n",
    "\n",
    "<span class=\"editor\"></span> <br>"
   ]
  },
  {
   "cell_type": "code",
   "execution_count": 38,
   "metadata": {},
   "outputs": [
    {
     "data": {
      "text/plain": [
       "# Source:   table<plots> [?? x 2]\n",
       "# Database: sqlite 3.34.1\n",
       "#   [C:\\Users\\flyin\\Dropbox\\Biol3782\\biol3782\\week6\\data_raw\\portal_mammals.sqlite]\n",
       "   plot_id plot_type                \n",
       "     <int> <chr>                    \n",
       " 1       1 Spectab exclosure        \n",
       " 2       2 Control                  \n",
       " 3       3 Long-term Krat Exclosure \n",
       " 4       4 Control                  \n",
       " 5       5 Rodent Exclosure         \n",
       " 6       6 Short-term Krat Exclosure\n",
       " 7       7 Rodent Exclosure         \n",
       " 8       8 Control                  \n",
       " 9       9 Spectab exclosure        \n",
       "10      10 Rodent Exclosure         \n",
       "# ... with more rows"
      ]
     },
     "metadata": {},
     "output_type": "display_data"
    }
   ],
   "source": [
    "plots <- tbl(mammals, \"plots\")\n",
    "plots"
   ]
  },
  {
   "cell_type": "markdown",
   "metadata": {},
   "source": [
    "<div class=\"Q\"><br>\n",
    "\n",
    "How many columns are there in `plots`? \n",
    "\n",
    "ANSWER: 2\n",
    "<br><br><div class=\"qhelp\"></div></div>"
   ]
  },
  {
   "cell_type": "markdown",
   "metadata": {},
   "source": [
    "<div class=\"Q\"><br>\n",
    "\n",
    "What class of object is `plots`? \n",
    "\n",
    "ANSWER: table\n",
    "<br><br><div class=\"qhelp\"></div></div>"
   ]
  },
  {
   "cell_type": "markdown",
   "metadata": {},
   "source": [
    "<div class=\"Q\"><br>\n",
    "\n",
    "TRUE or FALSE: Using this line of code:\n",
    "    \n",
    "   tbl(mammals, \"plots\")\n",
    "    \n",
    "    You will be able to see all the observations of the dataset?\n",
    "\n",
    "ANSWER: FALSE\n",
    "<br><br><div class=\"qhelp\"></div></div>"
   ]
  },
  {
   "cell_type": "markdown",
   "metadata": {},
   "source": [
    "The plot_id column also features in the `surveys` table.\n",
    "\n",
    "<span class=\"runcell\"></span> <br>"
   ]
  },
  {
   "cell_type": "code",
   "execution_count": 39,
   "metadata": {},
   "outputs": [
    {
     "data": {
      "text/plain": [
       "# Source:   table<surveys> [?? x 9]\n",
       "# Database: sqlite 3.34.1\n",
       "#   [C:\\Users\\flyin\\Dropbox\\Biol3782\\biol3782\\week6\\data_raw\\portal_mammals.sqlite]\n",
       "   record_id month   day  year plot_id species_id sex   hindfoot_length weight\n",
       "       <int> <int> <int> <int>   <int> <chr>      <chr>           <int>  <int>\n",
       " 1         1     7    16  1977       2 NL         M                  32     NA\n",
       " 2         2     7    16  1977       3 NL         M                  33     NA\n",
       " 3         3     7    16  1977       2 DM         F                  37     NA\n",
       " 4         4     7    16  1977       7 DM         M                  36     NA\n",
       " 5         5     7    16  1977       3 DM         M                  35     NA\n",
       " 6         6     7    16  1977       1 PF         M                  14     NA\n",
       " 7         7     7    16  1977       2 PE         F                  NA     NA\n",
       " 8         8     7    16  1977       1 DM         M                  37     NA\n",
       " 9         9     7    16  1977       1 DM         F                  34     NA\n",
       "10        10     7    16  1977       6 PF         F                  20     NA\n",
       "# ... with more rows"
      ]
     },
     "metadata": {},
     "output_type": "display_data"
    }
   ],
   "source": [
    "surveys"
   ]
  },
  {
   "cell_type": "markdown",
   "metadata": {},
   "source": [
    "Because plot_id is listed in both tables, we can use it to look up matching records, and join the two tables.\n",
    "\n",
    "Remember from the previous lab, if we have two tables named x and y with a common column called \"ID\", we can join them using 'join' functions, two of which are described and illustrated below.\n",
    "\n",
    "* inner_join() : This returns all rows from x where there are matching values in y, and all columns from x and y.\n",
    "\n",
    "* left_join() : This return all rows from x, and all columns from x and y. Rows in x with no match in y will have NA values in the new columns.\n",
    "\n",
    "In both forms of join, if there are multiple matches between x and y, all combinations of the matches are returned. \n",
    "\n",
    "We want to join the two tables `plot` and `surveys.`\n",
    "\n",
    "<img src=\"joins.png\" width=\"400px\">\n",
    "\n",
    "To extract all surveys for the first plot, which has plot_id 1, we can do:\n",
    "\n",
    "<span class=\"editor\"></span> <br>"
   ]
  },
  {
   "cell_type": "code",
   "execution_count": 40,
   "metadata": {},
   "outputs": [
    {
     "name": "stderr",
     "output_type": "stream",
     "text": [
      "Joining, by = \"plot_id\"\n"
     ]
    },
    {
     "data": {
      "text/html": [
       "<table>\n",
       "<thead><tr><th scope=col>plot_id</th><th scope=col>plot_type</th><th scope=col>record_id</th><th scope=col>month</th><th scope=col>day</th><th scope=col>year</th><th scope=col>species_id</th><th scope=col>sex</th><th scope=col>hindfoot_length</th><th scope=col>weight</th></tr></thead>\n",
       "<tbody>\n",
       "\t<tr><td>1                </td><td>Spectab exclosure</td><td>  6              </td><td>7                </td><td>16               </td><td>1977             </td><td>PF               </td><td>M                </td><td>14               </td><td>NA               </td></tr>\n",
       "\t<tr><td>1                </td><td>Spectab exclosure</td><td>  8              </td><td>7                </td><td>16               </td><td>1977             </td><td>DM               </td><td>M                </td><td>37               </td><td>NA               </td></tr>\n",
       "\t<tr><td>1                </td><td>Spectab exclosure</td><td>  9              </td><td>7                </td><td>16               </td><td>1977             </td><td>DM               </td><td>F                </td><td>34               </td><td>NA               </td></tr>\n",
       "\t<tr><td>1                </td><td>Spectab exclosure</td><td> 78              </td><td>8                </td><td>19               </td><td>1977             </td><td>PF               </td><td>M                </td><td>16               </td><td> 9               </td></tr>\n",
       "\t<tr><td>1                </td><td>Spectab exclosure</td><td> 80              </td><td>8                </td><td>19               </td><td>1977             </td><td>DS               </td><td>M                </td><td>48               </td><td>NA               </td></tr>\n",
       "\t<tr><td>1                </td><td>Spectab exclosure</td><td>218              </td><td>9                </td><td>13               </td><td>1977             </td><td>PF               </td><td>M                </td><td>13               </td><td> 4               </td></tr>\n",
       "</tbody>\n",
       "</table>\n"
      ],
      "text/latex": [
       "\\begin{tabular}{r|llllllllll}\n",
       " plot\\_id & plot\\_type & record\\_id & month & day & year & species\\_id & sex & hindfoot\\_length & weight\\\\\n",
       "\\hline\n",
       "\t 1                 & Spectab exclosure &   6               & 7                 & 16                & 1977              & PF                & M                 & 14                & NA               \\\\\n",
       "\t 1                 & Spectab exclosure &   8               & 7                 & 16                & 1977              & DM                & M                 & 37                & NA               \\\\\n",
       "\t 1                 & Spectab exclosure &   9               & 7                 & 16                & 1977              & DM                & F                 & 34                & NA               \\\\\n",
       "\t 1                 & Spectab exclosure &  78               & 8                 & 19                & 1977              & PF                & M                 & 16                &  9               \\\\\n",
       "\t 1                 & Spectab exclosure &  80               & 8                 & 19                & 1977              & DS                & M                 & 48                & NA               \\\\\n",
       "\t 1                 & Spectab exclosure & 218               & 9                 & 13                & 1977              & PF                & M                 & 13                &  4               \\\\\n",
       "\\end{tabular}\n"
      ],
      "text/markdown": [
       "\n",
       "| plot_id | plot_type | record_id | month | day | year | species_id | sex | hindfoot_length | weight |\n",
       "|---|---|---|---|---|---|---|---|---|---|\n",
       "| 1                 | Spectab exclosure |   6               | 7                 | 16                | 1977              | PF                | M                 | 14                | NA                |\n",
       "| 1                 | Spectab exclosure |   8               | 7                 | 16                | 1977              | DM                | M                 | 37                | NA                |\n",
       "| 1                 | Spectab exclosure |   9               | 7                 | 16                | 1977              | DM                | F                 | 34                | NA                |\n",
       "| 1                 | Spectab exclosure |  78               | 8                 | 19                | 1977              | PF                | M                 | 16                |  9                |\n",
       "| 1                 | Spectab exclosure |  80               | 8                 | 19                | 1977              | DS                | M                 | 48                | NA                |\n",
       "| 1                 | Spectab exclosure | 218               | 9                 | 13                | 1977              | PF                | M                 | 13                |  4                |\n",
       "\n"
      ],
      "text/plain": [
       "  plot_id plot_type         record_id month day year species_id sex\n",
       "1 1       Spectab exclosure   6       7     16  1977 PF         M  \n",
       "2 1       Spectab exclosure   8       7     16  1977 DM         M  \n",
       "3 1       Spectab exclosure   9       7     16  1977 DM         F  \n",
       "4 1       Spectab exclosure  78       8     19  1977 PF         M  \n",
       "5 1       Spectab exclosure  80       8     19  1977 DS         M  \n",
       "6 1       Spectab exclosure 218       9     13  1977 PF         M  \n",
       "  hindfoot_length weight\n",
       "1 14              NA    \n",
       "2 37              NA    \n",
       "3 34              NA    \n",
       "4 16               9    \n",
       "5 48              NA    \n",
       "6 13               4    "
      ]
     },
     "metadata": {},
     "output_type": "display_data"
    }
   ],
   "source": [
    "joined_plots<-plots %>%\n",
    "  filter(plot_id == 1) %>%\n",
    "  inner_join(surveys) # returns a list not a data frame!\n",
    "\n",
    "joined_plots %>%\n",
    "as.data.frame() %>% #converts table to data frame\n",
    "head()"
   ]
  },
  {
   "cell_type": "markdown",
   "metadata": {},
   "source": [
    "<span class=\"note\"></span> If we want the full set of 1,995 observations, we can add the function `collect()` instead. This also converts the table into a data frame wihtout needing to use the `as.data.frame()` function.\n",
    "\n",
    "<span class=\"editor\"></span> <br>"
   ]
  },
  {
   "cell_type": "code",
   "execution_count": 41,
   "metadata": {},
   "outputs": [
    {
     "name": "stderr",
     "output_type": "stream",
     "text": [
      "Joining, by = \"plot_id\"\n"
     ]
    }
   ],
   "source": [
    "full_plots<-plots %>%\n",
    "  filter(plot_id == 1) %>%\n",
    "  inner_join(surveys) %>%\n",
    "collect()"
   ]
  },
  {
   "cell_type": "markdown",
   "metadata": {},
   "source": [
    "Let's examine `full_plots`.\n",
    "\n",
    "<span class=\"runcell\"></span> <br>"
   ]
  },
  {
   "cell_type": "code",
   "execution_count": 42,
   "metadata": {},
   "outputs": [
    {
     "name": "stdout",
     "output_type": "stream",
     "text": [
      "Classes 'tbl_df', 'tbl' and 'data.frame':\t1995 obs. of  10 variables:\n",
      " $ plot_id        : int  1 1 1 1 1 1 1 1 1 1 ...\n",
      " $ plot_type      : chr  \"Spectab exclosure\" \"Spectab exclosure\" \"Spectab exclosure\" \"Spectab exclosure\" ...\n",
      " $ record_id      : int  6 8 9 78 80 218 222 239 263 270 ...\n",
      " $ month          : int  7 7 7 8 8 9 9 9 10 10 ...\n",
      " $ day            : int  16 16 16 19 19 13 13 13 16 16 ...\n",
      " $ year           : int  1977 1977 1977 1977 1977 1977 1977 1977 1977 1977 ...\n",
      " $ species_id     : chr  \"PF\" \"DM\" \"DM\" \"PF\" ...\n",
      " $ sex            : chr  \"M\" \"M\" \"F\" \"M\" ...\n",
      " $ hindfoot_length: int  14 37 34 16 48 13 52 48 37 36 ...\n",
      " $ weight         : int  NA NA NA 9 NA 4 NA NA 40 38 ...\n"
     ]
    }
   ],
   "source": [
    "str(full_plots)"
   ]
  },
  {
   "cell_type": "markdown",
   "metadata": {},
   "source": [
    "Now we can treat `full_plots` like we would any dataframe object in R. Let's plot hindfoot_lentgh vs weight over time by species.\n",
    "\n",
    "<span class=\"editor\"></span> <br>"
   ]
  },
  {
   "cell_type": "code",
   "execution_count": 62,
   "metadata": {},
   "outputs": [
    {
     "data": {
      "image/png": "[encoded data removed]",
      "text/plain": [
       "plot without title"
      ]
     },
     "metadata": {},
     "output_type": "display_data"
    }
   ],
   "source": [
    "full_plots %>% \n",
    "na.omit() %>% \n",
    "ggplot()+\n",
    "geom_point(aes(x=weight, y=hindfoot_length, fill= species_id), shape=21)+\n",
    "geom_abline(aes(intercept=0,slope=1))+\n",
    "facet_wrap(~year)+\n",
    "theme_classic()+\n",
    "scale_x_continuous(breaks=c(0,100,200))\n"
   ]
  },
  {
   "cell_type": "markdown",
   "metadata": {},
   "source": [
    "Now let's plot hindfoot_lentgh vs weight over time by year and sex for data between the years 1977 - 1980.\n",
    "\n",
    "<span class=\"editor\"></span> <br>"
   ]
  },
  {
   "cell_type": "code",
   "execution_count": 69,
   "metadata": {},
   "outputs": [
    {
     "data": {
      "image/png": "[encoded data removed]",
      "text/plain": [
       "plot without title"
      ]
     },
     "metadata": {},
     "output_type": "display_data"
    }
   ],
   "source": [
    "full_plots %>% \n",
    "filter(year >=1977 & year <=1980) %>% \n",
    "na.omit() %>% \n",
    "ggplot()+\n",
    "geom_point(aes(x=weight, y=hindfoot_length, fill= species_id), shape=21)+\n",
    "geom_abline(aes(intercept=0,slope=1))+\n",
    "facet_grid(year~sex)+\n",
    "theme_classic()+\n",
    "scale_x_continuous(breaks=c(0,100,200))+\n",
    "scale_y_continuous(breaks=c(0,30,60))\n"
   ]
  },
  {
   "cell_type": "markdown",
   "metadata": {},
   "source": [
    "We can also use other dplyr functions like `mutate()` on database objects. Let's use the table object `joined_plots` and create a column of hindfoot_length/weight. First we'll remove rows where weight is NA using `filter(!is.na(weight))`. Next we'll add a new column called \"ratio\" and convert the table into a dataframe usng `as.data.frame()`. Finally, we'll used `head()` to display the first 6 rows of the data frame."
   ]
  },
  {
   "cell_type": "code",
   "execution_count": 64,
   "metadata": {},
   "outputs": [
    {
     "data": {
      "text/html": [
       "<table>\n",
       "<thead><tr><th scope=col>plot_id</th><th scope=col>plot_type</th><th scope=col>record_id</th><th scope=col>month</th><th scope=col>day</th><th scope=col>year</th><th scope=col>species_id</th><th scope=col>sex</th><th scope=col>hindfoot_length</th><th scope=col>weight</th><th scope=col>ratio</th></tr></thead>\n",
       "<tbody>\n",
       "\t<tr><td>1                </td><td>Spectab exclosure</td><td> 78              </td><td> 8               </td><td>19               </td><td>1977             </td><td>PF               </td><td>M                </td><td>16               </td><td> 9               </td><td>1                </td></tr>\n",
       "\t<tr><td>1                </td><td>Spectab exclosure</td><td>218              </td><td> 9               </td><td>13               </td><td>1977             </td><td>PF               </td><td>M                </td><td>13               </td><td> 4               </td><td>3                </td></tr>\n",
       "\t<tr><td>1                </td><td>Spectab exclosure</td><td>263              </td><td>10               </td><td>16               </td><td>1977             </td><td>DM               </td><td>M                </td><td>37               </td><td>40               </td><td>0                </td></tr>\n",
       "\t<tr><td>1                </td><td>Spectab exclosure</td><td>270              </td><td>10               </td><td>16               </td><td>1977             </td><td>DM               </td><td>F                </td><td>36               </td><td>38               </td><td>0                </td></tr>\n",
       "\t<tr><td>1                </td><td>Spectab exclosure</td><td>285              </td><td>10               </td><td>16               </td><td>1977             </td><td>DM               </td><td>M                </td><td>36               </td><td>53               </td><td>0                </td></tr>\n",
       "\t<tr><td>1                </td><td>Spectab exclosure</td><td>352              </td><td>11               </td><td>12               </td><td>1977             </td><td>DM               </td><td>M                </td><td>36               </td><td>40               </td><td>0                </td></tr>\n",
       "</tbody>\n",
       "</table>\n"
      ],
      "text/latex": [
       "\\begin{tabular}{r|lllllllllll}\n",
       " plot\\_id & plot\\_type & record\\_id & month & day & year & species\\_id & sex & hindfoot\\_length & weight & ratio\\\\\n",
       "\\hline\n",
       "\t 1                 & Spectab exclosure &  78               &  8                & 19                & 1977              & PF                & M                 & 16                &  9                & 1                \\\\\n",
       "\t 1                 & Spectab exclosure & 218               &  9                & 13                & 1977              & PF                & M                 & 13                &  4                & 3                \\\\\n",
       "\t 1                 & Spectab exclosure & 263               & 10                & 16                & 1977              & DM                & M                 & 37                & 40                & 0                \\\\\n",
       "\t 1                 & Spectab exclosure & 270               & 10                & 16                & 1977              & DM                & F                 & 36                & 38                & 0                \\\\\n",
       "\t 1                 & Spectab exclosure & 285               & 10                & 16                & 1977              & DM                & M                 & 36                & 53                & 0                \\\\\n",
       "\t 1                 & Spectab exclosure & 352               & 11                & 12                & 1977              & DM                & M                 & 36                & 40                & 0                \\\\\n",
       "\\end{tabular}\n"
      ],
      "text/markdown": [
       "\n",
       "| plot_id | plot_type | record_id | month | day | year | species_id | sex | hindfoot_length | weight | ratio |\n",
       "|---|---|---|---|---|---|---|---|---|---|---|\n",
       "| 1                 | Spectab exclosure |  78               |  8                | 19                | 1977              | PF                | M                 | 16                |  9                | 1                 |\n",
       "| 1                 | Spectab exclosure | 218               |  9                | 13                | 1977              | PF                | M                 | 13                |  4                | 3                 |\n",
       "| 1                 | Spectab exclosure | 263               | 10                | 16                | 1977              | DM                | M                 | 37                | 40                | 0                 |\n",
       "| 1                 | Spectab exclosure | 270               | 10                | 16                | 1977              | DM                | F                 | 36                | 38                | 0                 |\n",
       "| 1                 | Spectab exclosure | 285               | 10                | 16                | 1977              | DM                | M                 | 36                | 53                | 0                 |\n",
       "| 1                 | Spectab exclosure | 352               | 11                | 12                | 1977              | DM                | M                 | 36                | 40                | 0                 |\n",
       "\n"
      ],
      "text/plain": [
       "  plot_id plot_type         record_id month day year species_id sex\n",
       "1 1       Spectab exclosure  78        8    19  1977 PF         M  \n",
       "2 1       Spectab exclosure 218        9    13  1977 PF         M  \n",
       "3 1       Spectab exclosure 263       10    16  1977 DM         M  \n",
       "4 1       Spectab exclosure 270       10    16  1977 DM         F  \n",
       "5 1       Spectab exclosure 285       10    16  1977 DM         M  \n",
       "6 1       Spectab exclosure 352       11    12  1977 DM         M  \n",
       "  hindfoot_length weight ratio\n",
       "1 16               9     1    \n",
       "2 13               4     3    \n",
       "3 37              40     0    \n",
       "4 36              38     0    \n",
       "5 36              53     0    \n",
       "6 36              40     0    "
      ]
     },
     "metadata": {},
     "output_type": "display_data"
    }
   ],
   "source": [
    "joined_plots %>%\n",
    "dplyr::filter(!is.na(weight)) %>% \n",
    "dplyr::mutate(ratio=hindfoot_length/weight) %>% \n",
    "as.data.frame() %>% \n",
    "head()"
   ]
  },
  {
   "cell_type": "markdown",
   "metadata": {},
   "source": [
    "<img src=\"complexquerie.png\" width=\"700px\">\n",
    "\n",
    "All these manipulations occur without physical download of the data, by translating your code into SQL in the background. Since data download is often the most time consuming step, this allows you to think about how much work you want to get done on the server before you pull the data. When you are ready to pull the data, you just use `collect()`. This will send the background compiled SQL query to the database and execute it. "
   ]
  },
  {
   "cell_type": "markdown",
   "metadata": {},
   "source": [
    "<div class=\"Q\"><br>\n",
    "\n",
    "What does he function `head()` do?\n",
    "    \n",
    "ANSWER: returns the first 6 rows of the dataframe.\n",
    "<br><br><div class=\"qhelp\"></div>"
   ]
  },
  {
   "cell_type": "markdown",
   "metadata": {},
   "source": [
    "<div class=\"Q\"><br>\n",
    "\n",
    "`inner_join` returns:\n",
    "    \n",
    "ANSWER: all rows from x where there are matching values in y, and all columns from x and y\n",
    "<br><br><div class=\"qhelp\"></div>"
   ]
  },
  {
   "cell_type": "markdown",
   "metadata": {},
   "source": [
    "<div class=\"Q\"><br>\n",
    "\n",
    "TRUE or FALSE: `left_join` will remove all entries without observations (no data).\n",
    "    \n",
    "ANSWER: FALSE\n",
    "<br><br><div class=\"qhelp\"></div>"
   ]
  },
  {
   "cell_type": "markdown",
   "metadata": {},
   "source": [
    "<div class=\"Q\"><br><br>\n",
    "What would the code that returns the number of rodents observed in each plot in each year look like in dplyr syntax?\n",
    "\n",
    "Hint: Connect to the species table and write a query that joins the species and survey tables together to exclude all non-rodents. The query should return counts of rodents by year.\n",
    "\n",
    "Answer : species <- tbl(mammals, \"species\")\n",
    "\n",
    "left_join(surveys, species) %>%\n",
    "  filter(taxa == \"Rodent\") %>%\n",
    "  group_by(taxa, year) %>%\n",
    "  tally %>%\n",
    "  collect()\n",
    "\n",
    "<br><br><div class=\"qhelp\"></div>"
   ]
  },
  {
   "cell_type": "markdown",
   "metadata": {},
   "source": [
    "<div class=\"Q\"><br><br>\n",
    "What would the code that returns the total number of rodents in each genus caught in the different plot types look like in dplyr syntax?\n",
    "\n",
    "Hint: Write a query that joins the species, plot, and survey tables together. The query should return counts of genus by plot type.\n",
    "\n",
    "Answer : species <- tbl(mammals, \"species\")\n",
    "genus_counts <- left_join(surveys, plots) %>%\n",
    "  left_join(species) %>%\n",
    "  filter(taxa == \"Rodent\") %>%\n",
    "  group_by(plot_type, genus) %>%\n",
    "  tally %>%\n",
    "  collect()\n",
    "\n",
    "<br><br><div class=\"qhelp\"></div>"
   ]
  },
  {
   "cell_type": "markdown",
   "metadata": {},
   "source": [
    "# Using databases to improve performance and decision-making\n",
    "\n",
    "With massive data collection from the Internet of Things transforming life and industry across the globe, we have access to more data than ever before. Forward-thinking organizations can now use databases to go beyond basic data storage and transactions to analyze vast quantities of data from multiple systems. Using database and other computing and business intelligence tools, organizations can now leverage the data they collect to run more efficiently, enable better decision-making, and become more agile and scalable. By having direct control over the ability to create and use databases, users gain control and autonomy while still maintaining important security standards."
   ]
  },
  {
   "cell_type": "markdown",
   "metadata": {},
   "source": [
    "<span class=\"console\"></span> <br>\n",
    "----------------------------- <br>\n",
    "<span class=\"editor\"></span> <br>\n",
    "----------------------------- <br>\n",
    "<span class=\"c2c\"></span> <br>\n",
    "<div class=\"c2c\"></div> <br>\n",
    "----------------------------- <br>\n",
    "<span class=\"run\"></span> <br>\n",
    "<div class=\"run\"></div> <br>\n",
    "----------------------------- <br>\n",
    "<span class=\"runcell\"></span> <br>\n",
    "<div class=\"runcell\"></div> <br>\n",
    "----------------------------- <br>\n",
    "<span class=\"file\">Text</span> <br>\n",
    "<div class=\"file\">Text</div> <br>\n",
    "----------------------------- <br>\n",
    "<span class=\"important\"></span> <br>\n",
    "<div class=\"important\"></div> <br>\n",
    "----------------------------- <br>\n",
    "<span class=\"note\"></span> <br>\n",
    "<div class=\"note\"></div> <br>\n",
    "----------------------------- <br>\n",
    "<span class=\"checkpoint\">Text</span> <br>\n",
    "<div class=\"checkpoint\">Text</div> <br>\n",
    "-----------------------------\n",
    "<span class=\"codeerror\">Text</span> <br>\n",
    "<div class=\"codeerror\">Text</div> <br>\n",
    "----------------------------- <br>\n",
    "<span class=\"lineerror\">Text</span> <br>\n",
    "<div class=\"lineerror\">Text</div> <br>\n",
    "----------------------------- <br>\n",
    "<span class=\"terminal\"></span> <br>\n",
    "<div class=\"terminal\"></div> <br>\n",
    "----------------------------- <br>\n",
    "<span class=\"terminalBlock\">Text</span> <br>\n",
    "<div class=\"terminalBlock\">Text</div> <br>\n",
    "----------------------------- <br>\n",
    "<span class=\"nomenclature\">nomenclature</span> <br>\n",
    "<div class=\"nomenclature\">nomenclature</div> <br>\n",
    "----------------------------- <br>\n",
    "<span class=\"code\">code</span> <br>\n",
    "<div class=\"code\">code</div> <br>\n",
    "----------------------------- <br>\n",
    "<span class=\"rendered_html\">rendered_html</span> <br>\n",
    "<div class=\"rendered_html\">rendered_html</div> <br>\n",
    "----------------------------- <br>\n",
    "\n",
    "<br><br><br>\n",
    "<div class=\"startTASK\"></div>\n",
    "\n",
    "Write task here\n",
    "\n",
    "<div class=\"endTASK\"></div>\n",
    "<br><br><br>\n",
    "\n",
    "\n",
    "\n",
    "<img src=\"../media/R_logo.png\" width=\"150px\">\n",
    "<a href=\"bad_layout.png\" target=\"_blank\"><img src=\"bad_layout.png\" width=\"700px\"></a>"
   ]
  },
  {
   "cell_type": "markdown",
   "metadata": {},
   "source": [
    "<div class=\"big_title\">This is the end of lab</div>\n",
    "\n",
    "*******************\n",
    "*******************\n",
    "\n",
    "Code below is for formatting of this lab. Do not alter!"
   ]
  },
  {
   "cell_type": "code",
   "execution_count": 1,
   "metadata": {},
   "outputs": [
    {
     "data": {
      "text/html": [
       "<style>\r\n",
       "\r\n",
       "body {\r\n",
       "  counter-reset: question_num task_num;                     /* Set a counter named 'section', and it`s initial value is 0. */\r\n",
       "}\r\n",
       "\r\n",
       "/* Question Box */\r\n",
       ".Q {\r\n",
       "    background-color:#ff9900;\r\n",
       "    color:black;\r\n",
       "    font-size:17px;\r\n",
       "    width:100%;\r\n",
       "    border:1px solid #666666;\r\n",
       "    padding:5px;\r\n",
       "}\r\n",
       "\r\n",
       ".Q::before {\r\n",
       "    counter-increment: question_num;\r\n",
       "    content: \"QUESTION \" counter(question_num) '\\A';\r\n",
       "    white-space: pre;\r\n",
       "}\r\n",
       "\r\n",
       "\r\n",
       "/* Question Box */\r\n",
       ".T {\r\n",
       "    background-color:#00F7FF;\r\n",
       "    color:black;\r\n",
       "    font-size:17px;\r\n",
       "    font-weight: bold;\r\n",
       "    width:10%;\r\n",
       "    padding:5px;\r\n",
       "}\r\n",
       "\r\n",
       "\r\n",
       ".T::before {\r\n",
       "    counter-increment: task_num;\r\n",
       "    content: \"Task \" counter(task_num) ': ';\r\n",
       "}\r\n",
       "\r\n",
       "\r\n",
       "/* TASK BOX */\r\n",
       ".startTASK {\r\n",
       "    background: linear-gradient(to bottom, #b3ffb3 0%, #ffffff 100%);\r\n",
       "    border-top-left-radius: 10px;\r\n",
       "    border-top-right-radius: 10px;\r\n",
       "    border:1px solid #009900;\r\n",
       "    border-bottom:1px solid #ffffff;\r\n",
       "    color:#006600;\r\n",
       "    font-size:17px;\r\n",
       "    width:100%;\r\n",
       "    font-weight: bold;\r\n",
       "    padding:5px;\r\n",
       "    padding-top:15px;\r\n",
       "}\r\n",
       ".startTASK::before {\r\n",
       "    counter-increment: task_num;\r\n",
       "    content: \"Task \" counter(task_num) ': ';\r\n",
       "}\r\n",
       "\r\n",
       ".endTASK {\r\n",
       "    background: linear-gradient(to bottom, #ffffff 0%, #b3ffb3 100%);\r\n",
       "    border-bottom-left-radius: 10px;\r\n",
       "    border-bottom-right-radius: 10px;\r\n",
       "    border:1px solid #009900;\r\n",
       "    border-top:1px solid #ffffff;\r\n",
       "    color:#006600;\r\n",
       "    font-size:13px;\r\n",
       "    width:100%;\r\n",
       "    font-weight: bold;\r\n",
       "    padding:5px;\r\n",
       "    padding-top:15px;\r\n",
       "}\r\n",
       ".endTASK::before {\r\n",
       "    content: \"End of Task\";\r\n",
       "}\r\n",
       "\r\n",
       "\r\n",
       "\r\n",
       "\r\n",
       "\r\n",
       "\r\n",
       "/* Use Editor */\r\n",
       ".use_editor {\r\n",
       "    background: linear-gradient(to right, #ccffcc 0%, #ffffff 100%);\r\n",
       "    border-top-left-radius: 10px;\r\n",
       "    border-top-right-radius: 10px;\r\n",
       "    border:1px solid #ffffff;\r\n",
       "    border-bottom:1px solid #ffffff;\r\n",
       "    color:#66cc66;\r\n",
       "    font-size:10px;\r\n",
       "    width:100%;\r\n",
       "    padding:0px;\r\n",
       "    padding-bottom:3px;\r\n",
       "    padding-left:7px;\r\n",
       "    margin-left: -5px;\r\n",
       "    margin-right: 150px;\r\n",
       "    margin-bottom: -13px;\r\n",
       "}\r\n",
       ".use_editor::before {\r\n",
       "    content: \"Type in EDITOR, hightlight, and click RUN\";\r\n",
       "    }\r\n",
       "\r\n",
       "\r\n",
       "/* Use Console */\r\n",
       ".use_console {\r\n",
       "    background: linear-gradient(to right, #ffe6e6 0%, #ffffff 100%);\r\n",
       "    border-top-left-radius: 10px;\r\n",
       "    border-top-right-radius: 10px;\r\n",
       "    border:1px solid #ffffff;\r\n",
       "    border-bottom:1px solid #ffffff;\r\n",
       "    color:#ff9999;\r\n",
       "    font-size:10px;\r\n",
       "    width:100%;\r\n",
       "    padding:0px;\r\n",
       "    padding-bottom:3px;\r\n",
       "    padding-left:7px;\r\n",
       "    margin-left: -5px;\r\n",
       "    margin-right: 150px;\r\n",
       "    margin-bottom: -13px;\r\n",
       "}\r\n",
       ".use_console::before {\r\n",
       "    content: \"Type in CONSOLE and click ENTER\";\r\n",
       "    }\r\n",
       "\r\n",
       "\r\n",
       "\r\n",
       "\r\n",
       "\r\n",
       "\r\n",
       "\r\n",
       "\r\n",
       "\r\n",
       "\r\n",
       "\r\n",
       "\r\n",
       "\r\n",
       ".qhelp {\r\n",
       "    color:#666666;\r\n",
       "    font-size:15px\r\n",
       "}\r\n",
       "\r\n",
       ".qhelp::after {\r\n",
       "    content: \"Answer this question in the corresponding Brightspace LAB quiz\"\r\n",
       "}\r\n",
       "\r\n",
       "\r\n",
       "\r\n",
       "/* code */\r\n",
       ".rendered_html pre, .rendered_html code {\r\n",
       "    font-family: \"SF Mono\",\"Segoe UI Mono\",\"Roboto Mono\",\"Ubuntu Mono\",Menlo,Courier,monospace;\r\n",
       "    padding: 1px 3px;\r\n",
       "    border: 1px solid #e6e6e6;\r\n",
       "    border-radius: 3px;\r\n",
       "    background: #e6e6e6;\r\n",
       "    font-size: 12px;\r\n",
       "    line-height: 1.4;\r\n",
       "    color: #0052CC;\r\n",
       "}\r\n",
       "\r\n",
       "\r\n",
       "/* Console */\r\n",
       ".console {\r\n",
       "    background-color:#d2d2d2;\r\n",
       "    color:#FF2525;\r\n",
       "    font-size:12px;\r\n",
       "    line-height: 1.4;\r\n",
       "    border:1px solid #bfbfbf;\r\n",
       "    padding-top:0px;\r\n",
       "    padding-bottom:0px;\r\n",
       "    padding-left:3px;\r\n",
       "    padding-right:3px;\r\n",
       "    border-radius: 3px;\r\n",
       "    display: inline-block;\r\n",
       "}\r\n",
       ".console::before {\r\n",
       "    content: \"Console\";\r\n",
       "}\r\n",
       "\r\n",
       "/* Editor */\r\n",
       ".editor {\r\n",
       "    background-color:#d2d2d2;\r\n",
       "    color:#00b300;\r\n",
       "    font-size: 12px;\r\n",
       "    line-height: 1.4;\r\n",
       "    border:1px solid #bfbfbf;\r\n",
       "    padding-top:0px;\r\n",
       "    padding-bottom:0px;\r\n",
       "    padding-left:3px;\r\n",
       "    padding-right:3px;\r\n",
       "    border-radius: 3px;\r\n",
       "    display: inline-block;\r\n",
       "}\r\n",
       ".editor::before {\r\n",
       "    content: \"Editor\";\r\n",
       "}\r\n",
       "\r\n",
       "\r\n",
       "\r\n",
       "/* Copy to CONSOLE */\r\n",
       ".c2c {\r\n",
       "    background-color:#d2d2d2;\r\n",
       "    color:#ff8080;\r\n",
       "    font-size:13px;\r\n",
       "    border:1px solid #bfbfbf;\r\n",
       "    padding:1px 3px;\r\n",
       "    border-radius: 3px;\r\n",
       "    margin-top: 10px;\r\n",
       "    display: inline-block;\r\n",
       "}\r\n",
       "\r\n",
       ".c2c::before {\r\n",
       "    content: \"Copy-paste into Spyder's Console\";\r\n",
       "}\r\n",
       "\r\n",
       "/* Type in CONSOLE */\r\n",
       ".t2c {\r\n",
       "    background-color:#d2d2d2;\r\n",
       "    color:#ff8080;\r\n",
       "    font-size:13px;\r\n",
       "    border:1px solid #bfbfbf;\r\n",
       "    padding:1px 3px;\r\n",
       "    border-radius: 3px;\r\n",
       "    margin-top: 10px;\r\n",
       "    display: inline-block;\r\n",
       "}\r\n",
       "\r\n",
       ".t2c::before {\r\n",
       "    content: \"Type into Spyder's Console\";\r\n",
       "}\r\n",
       "\r\n",
       "\r\n",
       "/* SOURCE */\r\n",
       ".source {\r\n",
       "    background-color:#d2d2d2;\r\n",
       "    color:#009EBF;\r\n",
       "    font-size: 12px;\r\n",
       "    line-height: 1.4;\r\n",
       "    font-weight: bold;\r\n",
       "    border:1px solid #bfbfbf;\r\n",
       "    padding-top:0px;\r\n",
       "    padding-bottom:0px;\r\n",
       "    padding-left:3px;\r\n",
       "    padding-right:3px;\r\n",
       "    border-radius: 3px;\r\n",
       "    display: inline-block;\r\n",
       "}\r\n",
       ".source::before {\r\n",
       "    content: \"\\25B6\" \"Source\";\r\n",
       "}\r\n",
       "\r\n",
       "\r\n",
       "/* RUN */\r\n",
       ".run {\r\n",
       "    background-color:#d2d2d2;\r\n",
       "    color:#00b300;\r\n",
       "    font-size: 12px;\r\n",
       "    line-height: 1.4;\r\n",
       "    font-weight: bold;\r\n",
       "    border:1px solid #bfbfbf;\r\n",
       "    padding-top:0px;\r\n",
       "    padding-bottom:0px;\r\n",
       "    padding-left:3px;\r\n",
       "    padding-right:3px;\r\n",
       "    border-radius: 3px;\r\n",
       "    display: inline-block;\r\n",
       "}\r\n",
       ".run::before {\r\n",
       "    content: \"\\25B6\" \"RUN\";\r\n",
       "}\r\n",
       "\r\n",
       "/* RUN */\r\n",
       ".runcell {\r\n",
       "    background-color:#d2d2d2;\r\n",
       "    color:#00b300;\r\n",
       "    font-size: 12px;\r\n",
       "    line-height: 1.4;\r\n",
       "    border:1px solid #bfbfbf;\r\n",
       "    padding-top:0px;\r\n",
       "    padding-bottom:0px;\r\n",
       "    padding-left:3px;\r\n",
       "    padding-right:3px;\r\n",
       "    border-radius: 3px;\r\n",
       "    display: inline-block;\r\n",
       "}\r\n",
       ".runcell::before {\r\n",
       "    content: \"RUN current cell\";\r\n",
       "}\r\n",
       "\r\n",
       "/* FILE */\r\n",
       ".file {\r\n",
       "    color:#b36b00;\r\n",
       "    font-size: 12px;\r\n",
       "    line-height: 1.4;\r\n",
       "    font-weight: bold;\r\n",
       "    border:1px solid #bfbfbf;\r\n",
       "    padding-top:0px;\r\n",
       "    padding-bottom:0px;\r\n",
       "    padding-left:3px;\r\n",
       "    padding-right:3px;\r\n",
       "    border-radius: 3px;\r\n",
       "    display: inline-block;\r\n",
       "}\r\n",
       "\r\n",
       "/* important */\r\n",
       ".important {\r\n",
       "    background-color:#ff4d4d;\r\n",
       "    color:black;\r\n",
       "    font-size: 13px;\r\n",
       "    line-height: 1.4;\r\n",
       "    font-weight: bold;\r\n",
       "    border:1px solid #bfbfbf;\r\n",
       "    padding-top:0px;\r\n",
       "    padding-bottom:0px;\r\n",
       "    padding-left:3px;\r\n",
       "    padding-right:3px;\r\n",
       "    border-radius: 3px;\r\n",
       "    display: inline-block;\r\n",
       "    margin-top:5px;\r\n",
       "}\r\n",
       ".important::before {\r\n",
       "    content: \"Important:\";\r\n",
       "}\r\n",
       "\r\n",
       "/* important */\r\n",
       ".note {\r\n",
       "    background-color:#ffff80;\r\n",
       "    color:black;\r\n",
       "    font-size: 13px;\r\n",
       "    line-height: 1.4;\r\n",
       "    font-weight: bold;\r\n",
       "    border:1px solid #bfbfbf;\r\n",
       "    padding-top:0px;\r\n",
       "    padding-bottom:0px;\r\n",
       "    padding-left:3px;\r\n",
       "    padding-right:3px;\r\n",
       "    border-radius: 3px;\r\n",
       "    display: inline-block;\r\n",
       "    margin-top:5px;\r\n",
       "}\r\n",
       ".note::before {\r\n",
       "    content: \"Note:\";\r\n",
       "}\r\n",
       "\r\n",
       "\r\n",
       "/* TODO */\r\n",
       ".TODO {\r\n",
       "    background-color:red;\r\n",
       "    color:black;\r\n",
       "    font-size:18px;\r\n",
       "    width:100%;\r\n",
       "    padding:10px;\r\n",
       "}\r\n",
       ".TODO::before {\r\n",
       "    content: \"TO-DO:\";\r\n",
       "}\r\n",
       "\r\n",
       "\r\n",
       ".nomenclature {\r\n",
       "    font-family: \"SF Mono\",\"Segoe UI Mono\",\"Roboto Mono\",\"Ubuntu Mono\",Menlo,Courier,monospace;\r\n",
       "    background-color:#ffff80;\r\n",
       "    color:black;\r\n",
       "    font-size: 15px;\r\n",
       "    line-height: 1.4;\r\n",
       "    font-weight: bold;\r\n",
       "    border:1px solid #bfbfbf;\r\n",
       "    padding-left:3px;\r\n",
       "    padding-right:3px;\r\n",
       "    display: inline-block;\r\n",
       "    margin-top:3px;\r\n",
       "}\r\n",
       "\r\n",
       "\r\n",
       "\r\n",
       ".big_title {\r\n",
       "    background-color:#cccccc;\r\n",
       "    color:black;\r\n",
       "    font-size: 35px;\r\n",
       "    line-height: 1.4;\r\n",
       "    font-weight: bold;\r\n",
       "    border:1px solid #8c8c8c;\r\n",
       "    padding:20px;\r\n",
       "    margin-top:5px;\r\n",
       "    width:100%;\r\n",
       "}\r\n",
       "\r\n",
       "\r\n",
       ".codeX {\r\n",
       "    font-family: \"SF Mono\",\"Segoe UI Mono\",\"Roboto Mono\",\"Ubuntu Mono\",Menlo,Courier,monospace;\r\n",
       "    background-color:#e6e6e6;\r\n",
       "    color:#0066ff;\r\n",
       "    font-size: 13px;\r\n",
       "    line-height: 1.4;\r\n",
       "    padding:2px;\r\n",
       "    display: inline-block;\r\n",
       "}\r\n",
       "\r\n",
       "\r\n",
       "\r\n",
       "/* checkpoint */\r\n",
       ".checkpoint {\r\n",
       "    background-color:yellow;\r\n",
       "    color:blue;\r\n",
       "    font-size: 15px;\r\n",
       "    line-height: 1.4;\r\n",
       "    font-weight: bold;\r\n",
       "    border:1px solid #bfbfbf;\r\n",
       "    padding-top:0px;\r\n",
       "    padding-bottom:0px;\r\n",
       "    padding-left:3px;\r\n",
       "    padding-right:3px;\r\n",
       "    border-radius: 3px;\r\n",
       "    display: inline-block;\r\n",
       "    margin-top:5px;\r\n",
       "}\r\n",
       "\r\n",
       ".codeerror {\r\n",
       "    background-color:#ffb3b3;\r\n",
       "    color:red;\r\n",
       "    font-size: 13px;\r\n",
       "    line-height: 1.4;\r\n",
       "    border:1px solid #ffb3b3;\r\n",
       "    padding-top:7px;\r\n",
       "    padding-bottom:7px;\r\n",
       "    padding-left:7px;\r\n",
       "    padding-right:7px;\r\n",
       "    border-radius: 3px;\r\n",
       "    margin:20px;\r\n",
       "    margin-left:25px;\r\n",
       "}\r\n",
       "\r\n",
       ".lineerror {\r\n",
       "    background-color:#ffb3b3;\r\n",
       "    color:red;\r\n",
       "    font-size: 13px;\r\n",
       "    line-height: 1.4;\r\n",
       "    border:1px solid #ffb3b3;\r\n",
       "    padding-top:0px;\r\n",
       "    padding-bottom:0px;\r\n",
       "    padding-left:3px;\r\n",
       "    padding-right:3px;\r\n",
       "    border-radius: 3px;\r\n",
       "    display: inline-block;\r\n",
       "    margin-top:5px;\r\n",
       "}\r\n",
       "\r\n",
       "\r\n",
       "/* terminal */\r\n",
       ".terminal {\r\n",
       "    background-color:black;\r\n",
       "    color:white;\r\n",
       "    font-size: 12px;\r\n",
       "    line-height: 1.4;\r\n",
       "    border:1px solid black;\r\n",
       "    padding-top:0px;\r\n",
       "    padding-bottom:0px;\r\n",
       "    padding-left:3px;\r\n",
       "    padding-right:3px;\r\n",
       "    border-radius: 3px;\r\n",
       "    display: inline-block;\r\n",
       "}\r\n",
       ".terminal::before {\r\n",
       "    content: \"Terminal (i.e. Anaconda Promt)\";\r\n",
       "}\r\n",
       ".terminalBlock {\r\n",
       "    font-family: \"SF Mono\",\"Segoe UI Mono\",\"Roboto Mono\",\"Ubuntu Mono\",Menlo,Courier,monospace;\r\n",
       "    background-color:black;\r\n",
       "    color:white;\r\n",
       "    font-size: 14px;\r\n",
       "    line-height: 1.4;\r\n",
       "    border:1px solid black;\r\n",
       "    padding-top:7px;\r\n",
       "    padding-bottom:7px;\r\n",
       "    padding-left:7px;\r\n",
       "    padding-right:7px;\r\n",
       "    border-radius: 3px;\r\n",
       "    margin:20px;\r\n",
       "    margin-left:25px;\r\n",
       "}\r\n",
       "\r\n",
       ".fakeheader {\r\n",
       "    font-size: 20px;\r\n",
       "    font-weight:bold;\r\n",
       "    background-color:#ccebff;\r\n",
       "    border:1px solid #b3e0ff;\r\n",
       "    padding:2px;\r\n",
       "    margin-top:30px;\r\n",
       "    margin-bottom:15px;\r\n",
       "}\r\n",
       "\r\n",
       "\r\n",
       "/* Headers */\r\n",
       "h1 {\r\n",
       "    background-color:#99d6ff;\r\n",
       "    border:1px solid #007acc;\r\n",
       "    padding:8px;\r\n",
       "}\r\n",
       "\r\n",
       "h2 {\r\n",
       "    background-color:#ccebff;\r\n",
       "    border:1px solid #b3e0ff;\r\n",
       "    padding:2px;\r\n",
       "}\r\n",
       "\r\n",
       "h3 {\r\n",
       "    background-color:#e6f5ff;\r\n",
       "    padding:1px;\r\n",
       "}\r\n",
       "\r\n",
       "</style>"
      ]
     },
     "metadata": {},
     "output_type": "display_data"
    },
    {
     "data": {
      "text/html": [
       "<style>body {counter-reset: question_num;}.Q::before {counter-increment: question_num;\n",
       "    content: 'QUESTION ' counter(question_num) '\\A'; white-space: pre; }</style>"
      ]
     },
     "metadata": {},
     "output_type": "display_data"
    }
   ],
   "source": [
    "cssFile <- '../css/custom.css'\n",
    "IRdisplay::display_html(readChar(cssFile, file.info(cssFile)$size))\n",
    "\n",
    "IRdisplay::display_html(\"<style>body {counter-reset: question_num;}.Q::before {counter-increment: question_num;\n",
    "    content: 'QUESTION ' counter(question_num) '\\\\A'; white-space: pre; }</style>\")"
   ]
  },
  {
   "cell_type": "code",
   "execution_count": null,
   "metadata": {},
   "outputs": [],
   "source": []
  }
 ],
 "metadata": {
  "kernelspec": {
   "display_name": "R",
   "language": "R",
   "name": "ir"
  },
  "language_info": {
   "codemirror_mode": "r",
   "file_extension": ".r",
   "mimetype": "text/x-r-source",
   "name": "R",
   "pygments_lexer": "r",
   "version": "3.6.1"
  }
 },
 "nbformat": 4,
 "nbformat_minor": 4
}
