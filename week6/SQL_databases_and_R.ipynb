{
 "cells": [
  {
   "cell_type": "code",
   "execution_count": 1,
   "metadata": {},
   "outputs": [],
   "source": [
    "# Lab settings - please ingnore\n",
    "options(repr.plot.width=7, repr.plot.height=4, repr.plot.res=250 ) # Make plots a resonable size"
   ]
  },
  {
   "cell_type": "markdown",
   "metadata": {},
   "source": [
    "<div class=\"big_title\">LAB 6: SQL databases and R</div>\n",
    "\n",
    "BIO3782: Biologist's Toolkit (Dalhousie University)\n",
    "\n",
    "----------------------------------------"
   ]
  },
  {
   "cell_type": "markdown",
   "metadata": {},
   "source": [
    "# Setup of workspace\n",
    "\n",
    "<span class=\"important\"></span> Make sure the required files are in the working directory:\n",
    "\n",
    "* Create a **folder**  on the \"desktop\" and name it <span class=\"file\">Lab6</span>\n",
    "* Create a **sub-folder** called <span class=\"file\">data_raw</span> inside your <span class=\"file\">Lab6</span> folder. Ideally, you would keep your raw and cleaned data separate in case you ever needed your raw data again.\n",
    "* From Brightspace, download the <span class=\"file\">portal_mammals.sqlite</span> and <span class=\"file\">treebase.Rdata</span> files into your <span class=\"file\">Desktop/Lab6/data_raw</span> folder:\n",
    "* In RStudio, change the working directory to <span class=\"file\">Desktop/Lab6</span>. Click here if you need a [refresher on the **working directory**](https://diego-ibarra.github.io/biol3782/week1/index.html#RStudio's-%22Working-Directory%22)\n",
    "* In RStudio, create a new R script, name it <span class=\"file\">lab6.r</span> and make sure you save it in <span class=\"file\">Desktop\\Lab6</span>. You will be writing and copy-pasting code to your <span class=\"file\">lab6.r</span> file so that you can keep a record of all you did in this lab.\n",
    "\n",
    "\n",
    "As in previous labs, we'll try simulate \"real-life\" coding, by using the tags below to indicate when to use RStudio's <span class=\"editor\"></span> and when to use the <span class=\"console\"></span>: \n",
    "\n",
    "\n",
    "<br>\n",
    "<div class=\"use_editor\"></div>\n",
    "<br><br>\n",
    "\n",
    "<div class=\"use_console\"></div>\n",
    "<br><br>\n",
    "\n",
    "----------------------------------------"
   ]
  },
  {
   "cell_type": "markdown",
   "metadata": {},
   "source": [
    "# What are databases\n",
    "\n",
    "A database is an organized collection of structured information, or data, typically stored electronically in a computer system. A database is usually controlled by a database management system (DBMS). Together, the data and the DBMS, along with the applications that are associated with them, are referred to as a database system, often shortened to just a ***database***.\n",
    "\n",
    "Data within the most common types of databases in operation today is typically modeled in rows and columns in a series of tables to make processing and data querying efficient and with minimum duplication of information. Below is diagram of typical database, where each box represents a table (similar to an MS-Excel spreadsheet) and the arrows show how the different tables are link to each other:\n",
    "\n",
    "<a href=\"database_diagram.png\" target=\"_blank\"><img src=\"database_diagram.png\" width=\"600px\"></a>\n",
    "\n",
    "\n",
    "The data within databses can then be easily accessed, managed, modified, updated, controlled, and organized; all with minimum duplication of information. Most databases (i.e. Oracle, Salesforce, MySQL, IBM DB2, etc. [see full list HERE](https://en.wikipedia.org/wiki/List_of_relational_database_management_systems)) use structured query language (SQL) for writing and querying data.\n",
    "\n",
    "Check out this brief history of [databases](https://en.wikipedia.org/wiki/Database) on Wikipedia. "
   ]
  },
  {
   "cell_type": "markdown",
   "metadata": {},
   "source": [
    "# What to do about very large datasets?\n",
    "\n",
    "So far, we have dealt with small datasets that easily fit into your computer's memory. But what about datasets that are too large for your computer's memorey to handle as a whole? In this case, memory to handle as a whole? In this case, you need to store your data in a format that can be opened in small pieces, which includes databases (note that there are other options, like NetCDF files and ERDDAP servers). Connecting to the database allows you to retrieve only the chunks needed for the current analysis. Even better, many large datasets are already available in public or private databases. You can query them without having to download the data first.\n",
    "\n",
    "R can connect to almost any existing database type. Most common database types have R packages that allow you to connect to them (e.g., `RSQLite`, `RMySQL`, etc). Furthermore, the `dplyr` package, in conjunction with `dbplyr`, supports connecting to the widely-used open source databases sqlite, mysql and postgresql, as well as Google’s bigquery, and it can also be extended to other database types. \n",
    "\n",
    "The `dplyr` package now has a generalized SQL back end for talking to databases, and the new `dbplyr` package translates R code into database-specific variants. SQL variants are supported for the following databases: Oracle, Microsoft SQL Server, PostgreSQL, Amazon Redshift, Apache Hive, and Apache Impala. Interfacing with databases using `dplyr` focuses on retrieving and analyzing datasets by generating SELECT SQL statements, but it doesn't modify the database itself. `dplyr` does not offer functions to UPDATE or DELETE entries. If you need these functionalities, you will need to use additional R packages (e.g., `RSQLite`). "
   ]
  },
  {
   "cell_type": "markdown",
   "metadata": {},
   "source": [
    "# What is Structured Query Language (SQL)?\n",
    "\n",
    "**SQL is a programming language** used by nearly all relational databases to query, manipulate, and define data, and to provide access control. SQL was first developed at IBM in the 1970s with Oracle as a major contributor, which led to implementation of the SQL ANSI standard, SQL has spurred many extensions from companies such as IBM, Oracle, and Microsoft. Although SQL is still widely used today, new programming languages are beginning to appear.\n",
    "\n",
    "SQLite is the most widely deployed database in the world. It is included on Android, iPhone and IOS devices and in Firefox, Chrome and Safari web browsers. Apple and Microsoft include it in their OSX and Windows 10 operating systems respectively and there are many other products that include SQLite. It is extremely easy to use, and can be of great value to developers who need a database available but want to avoid the overhead often associated with installing and configuring an external database. In this demonstration, we will download and install the `RSQLite` package which will integrate SQLite into R running in RStudio. \n",
    "\n",
    "Here we will demonstrate how to interact with a database using `dplyr`, using both the `dplyr`'s verb syntax and the SQL syntax."
   ]
  },
  {
   "cell_type": "markdown",
   "metadata": {},
   "source": [
    "# Connect the databases\n",
    "\n",
    "We can point R to a database using the `dplyr`, `dbplyr` and `RSQLite` packages. We will create a new, empty SQLite database where we can store the `mammals` data. SQLite has a rather simple data storage mechanism, all data for a database is installed within a single file.  The name of this file must be specified when the database is created, and a connection to this database is returned and used in subsequent commands to access and manipulate the data and data structures within the database. \n",
    "\n",
    "Let's install the `dbplyr` and `RSQLite` packages:\n",
    "\n",
    "<br>\n",
    "<div class=\"use_console\"></div>"
   ]
  },
  {
   "cell_type": "code",
   "execution_count": null,
   "metadata": {},
   "outputs": [],
   "source": [
    "install.packages(c(\"dbplyr\", \"RSQLite\"))"
   ]
  },
  {
   "cell_type": "markdown",
   "metadata": {},
   "source": [
    "Then, load the required packages....\n",
    "\n",
    "<br>\n",
    "<div class=\"use_editor\"></div>"
   ]
  },
  {
   "cell_type": "code",
   "execution_count": null,
   "metadata": {},
   "outputs": [],
   "source": [
    "library(dplyr)\n",
    "library(dbplyr)\n",
    "library(ggplot2)"
   ]
  },
  {
   "cell_type": "markdown",
   "metadata": {},
   "source": [
    "Then, connect to the database.\n",
    "\n",
    "<br>\n",
    "<div class=\"use_editor\"></div>"
   ]
  },
  {
   "cell_type": "code",
   "execution_count": 4,
   "metadata": {},
   "outputs": [],
   "source": [
    "mammals <- DBI::dbConnect(RSQLite::SQLite(), \"data_raw/portal_mammals.sqlite\")"
   ]
  },
  {
   "cell_type": "markdown",
   "metadata": {},
   "source": [
    "This command uses 2 packages that helps `dbplyr` and `dplyr` talk to the SQLite database. `DBI` is not something that you'll use directly as a user. It allows R to send commands to databases irrespective of the database management system used. The `RSQLite` package allows R to interface with SQLite databases.\n",
    "\n",
    "This command does not load the data into the R session (as the `read_csv()` function did). Instead, it merely instructs R to connect to the SQLite database contained in the <span class=\"file\">portal_mammals.sqlite</span> file.\n",
    "\n",
    "Using a similar approach, you could connect to many other database management systems that are supported by R including MySQL, PostgreSQL, BigQuery, etc.\n",
    "\n",
    "Let's take a closer look at the mammals database we just connected to.\n",
    "\n",
    "<br>\n",
    "<div class=\"use_console\"></div>"
   ]
  },
  {
   "cell_type": "code",
   "execution_count": 5,
   "metadata": {},
   "outputs": [
    {
     "data": {
      "text/plain": [
       "src:  sqlite 3.34.1 [C:\\Users\\Diego\\Documents\\6.Biologist's Toolkit\\25Jan\\biol3782\\week6\\data_raw\\portal_mammals.sqlite]\n",
       "tbls: plots, species, surveys"
      ]
     },
     "metadata": {},
     "output_type": "display_data"
    }
   ],
   "source": [
    "src_dbi(mammals)"
   ]
  },
  {
   "cell_type": "markdown",
   "metadata": {},
   "source": [
    "Just like a spreadsheet with multiple worksheets, a SQLite database can contain multiple tables. In this case three of them are listed in the tbls row in the output above:\n",
    "\n",
    "* plots\n",
    "* species\n",
    "* surveys\n",
    "\n",
    "Let's take a look to see what is inside the `surveys` table:\n",
    "<br>\n",
    "<div class=\"use_console\"></div>"
   ]
  },
  {
   "cell_type": "code",
   "execution_count": 6,
   "metadata": {},
   "outputs": [
    {
     "data": {
      "text/plain": [
       "\u001b[90m# Source:   table<surveys> [?? x 9]\u001b[39m\n",
       "\u001b[90m# Database: sqlite 3.34.1 [C:\\Users\\Diego\\Documents\\6.Biologist's\n",
       "#   Toolkit\\25Jan\\biol3782\\week6\\data_raw\\portal_mammals.sqlite]\u001b[39m\n",
       "   record_id month   day  year plot_id species_id sex   hindfoot_length weight\n",
       "       \u001b[3m\u001b[90m<int>\u001b[39m\u001b[23m \u001b[3m\u001b[90m<int>\u001b[39m\u001b[23m \u001b[3m\u001b[90m<int>\u001b[39m\u001b[23m \u001b[3m\u001b[90m<int>\u001b[39m\u001b[23m   \u001b[3m\u001b[90m<int>\u001b[39m\u001b[23m \u001b[3m\u001b[90m<chr>\u001b[39m\u001b[23m      \u001b[3m\u001b[90m<chr>\u001b[39m\u001b[23m           \u001b[3m\u001b[90m<int>\u001b[39m\u001b[23m  \u001b[3m\u001b[90m<int>\u001b[39m\u001b[23m\n",
       "\u001b[90m 1\u001b[39m         1     7    16  \u001b[4m1\u001b[24m977       2 NL         M                  32     \u001b[31mNA\u001b[39m\n",
       "\u001b[90m 2\u001b[39m         2     7    16  \u001b[4m1\u001b[24m977       3 NL         M                  33     \u001b[31mNA\u001b[39m\n",
       "\u001b[90m 3\u001b[39m         3     7    16  \u001b[4m1\u001b[24m977       2 DM         F                  37     \u001b[31mNA\u001b[39m\n",
       "\u001b[90m 4\u001b[39m         4     7    16  \u001b[4m1\u001b[24m977       7 DM         M                  36     \u001b[31mNA\u001b[39m\n",
       "\u001b[90m 5\u001b[39m         5     7    16  \u001b[4m1\u001b[24m977       3 DM         M                  35     \u001b[31mNA\u001b[39m\n",
       "\u001b[90m 6\u001b[39m         6     7    16  \u001b[4m1\u001b[24m977       1 PF         M                  14     \u001b[31mNA\u001b[39m\n",
       "\u001b[90m 7\u001b[39m         7     7    16  \u001b[4m1\u001b[24m977       2 PE         F                  \u001b[31mNA\u001b[39m     \u001b[31mNA\u001b[39m\n",
       "\u001b[90m 8\u001b[39m         8     7    16  \u001b[4m1\u001b[24m977       1 DM         M                  37     \u001b[31mNA\u001b[39m\n",
       "\u001b[90m 9\u001b[39m         9     7    16  \u001b[4m1\u001b[24m977       1 DM         F                  34     \u001b[31mNA\u001b[39m\n",
       "\u001b[90m10\u001b[39m        10     7    16  \u001b[4m1\u001b[24m977       6 PF         F                  20     \u001b[31mNA\u001b[39m\n",
       "\u001b[90m# ... with more rows\u001b[39m"
      ]
     },
     "metadata": {},
     "output_type": "display_data"
    }
   ],
   "source": [
    "tbl(mammals,\"surveys\")"
   ]
  },
  {
   "cell_type": "markdown",
   "metadata": {},
   "source": [
    "As you can see the `species` tables is made by `??` rows by `9` columns. We do not know the number of rows (i..e `??`) because the function `tbl` does not look at the entire dataset, it only looks at a small sample to give you an insite of what is inside. However, `tbl` gives you enough information to figure out that each row is probably an \"obsevation\" including date (i.e. year, month and day), IDs for \"record\", \"plot\" and \"species\", and 3 columns of data: sex, hindfoot_length and weight. \n",
    "\n",
    "Let's take a look at the `species` table:\n",
    "\n",
    "<br>\n",
    "<div class=\"use_console\"></div>"
   ]
  },
  {
   "cell_type": "code",
   "execution_count": 7,
   "metadata": {},
   "outputs": [
    {
     "data": {
      "text/plain": [
       "\u001b[90m# Source:   table<species> [?? x 4]\u001b[39m\n",
       "\u001b[90m# Database: sqlite 3.34.1 [C:\\Users\\Diego\\Documents\\6.Biologist's\n",
       "#   Toolkit\\25Jan\\biol3782\\week6\\data_raw\\portal_mammals.sqlite]\u001b[39m\n",
       "   species_id genus            species         taxa   \n",
       "   \u001b[3m\u001b[90m<chr>\u001b[39m\u001b[23m      \u001b[3m\u001b[90m<chr>\u001b[39m\u001b[23m            \u001b[3m\u001b[90m<chr>\u001b[39m\u001b[23m           \u001b[3m\u001b[90m<chr>\u001b[39m\u001b[23m  \n",
       "\u001b[90m 1\u001b[39m AB         Amphispiza       bilineata       Bird   \n",
       "\u001b[90m 2\u001b[39m AH         Ammospermophilus harrisi         Rodent \n",
       "\u001b[90m 3\u001b[39m AS         Ammodramus       savannarum      Bird   \n",
       "\u001b[90m 4\u001b[39m BA         Baiomys          taylori         Rodent \n",
       "\u001b[90m 5\u001b[39m CB         Campylorhynchus  brunneicapillus Bird   \n",
       "\u001b[90m 6\u001b[39m CM         Calamospiza      melanocorys     Bird   \n",
       "\u001b[90m 7\u001b[39m CQ         Callipepla       squamata        Bird   \n",
       "\u001b[90m 8\u001b[39m CS         Crotalus         scutalatus      Reptile\n",
       "\u001b[90m 9\u001b[39m CT         Cnemidophorus    tigris          Reptile\n",
       "\u001b[90m10\u001b[39m CU         Cnemidophorus    uniparens       Reptile\n",
       "\u001b[90m# ... with more rows\u001b[39m"
      ]
     },
     "metadata": {},
     "output_type": "display_data"
    }
   ],
   "source": [
    "tbl(mammals,\"species\")"
   ]
  },
  {
   "cell_type": "markdown",
   "metadata": {},
   "source": [
    "Here we have 4 columns and `??` unknown rows. However, note that the `species` table has `species_id`, which is also found in the `surveys` table. This is a clever way to minimaze duplication of information. In the main table, `surveys`, you only need to enter ONE number per observation (i.e. `species_id`), to be able to identify the `genus`, `species` and `taxa` of the observation (after linking the `surveys` table with the `species` table)."
   ]
  },
  {
   "cell_type": "markdown",
   "metadata": {},
   "source": [
    "<br><br><br>\n",
    "<div class=\"startTASK\"></div>\n",
    "\n",
    "Take a look inside the `plots` table.\n",
    "\n",
    "<div class=\"endTASK\"></div>\n",
    "<br><br><br><br>"
   ]
  },
  {
   "cell_type": "markdown",
   "metadata": {},
   "source": [
    "<div class=\"Q\"><br><br>\n",
    "\n",
    "What type of file is <b>portal_mammals</b>? \n",
    "\n",
    "ANSWER: sqlite\n",
    "    \n",
    "    options: rfile\n",
    "             csv\n",
    "             txt\n",
    "\n",
    "<br><br><div class=\"qhelp\"></div></div>"
   ]
  },
  {
   "cell_type": "markdown",
   "metadata": {},
   "source": [
    "<div class=\"Q\"><br><br>\n",
    "\n",
    "What does the <b>src:</b> from the <b>src_dbi</b> function tell you? \n",
    "\n",
    "ANSWER: File source (i.e. which file you're reading)\n",
    "    \n",
    "    options: location of file you're writing\n",
    "             type of file you've created\n",
    "             Name of the database\n",
    "\n",
    "<br><br><div class=\"qhelp\"></div></div>"
   ]
  },
  {
   "cell_type": "markdown",
   "metadata": {},
   "source": [
    "<div class=\"Q\"><br><br>\n",
    "\n",
    "How many columns does the <b>plots</b> table have? \n",
    "\n",
    "ANSWER: 2\n",
    "\n",
    "<br><br><div class=\"qhelp\"></div></div>"
   ]
  },
  {
   "cell_type": "markdown",
   "metadata": {},
   "source": [
    "Now that we know we can connect to the database, let's explore how to get the data from its tables into R."
   ]
  },
  {
   "cell_type": "markdown",
   "metadata": {},
   "source": [
    "## Querying with SQL syntax\n",
    "\n",
    "To connect to tables within a database, you can use the `tbl()` function from `dplyr`. This function can be used to send SQL queries to the database. That is, between quotes `\" \"`, you send an command in SQL programmin language.\n",
    "\n",
    "To demonstrate this functionality, let's select the columns \"year\", \"species_id\", and \"plot_id\" from the surveys table.\n",
    "\n",
    "<br>\n",
    "<div class=\"use_console\"></div>"
   ]
  },
  {
   "cell_type": "code",
   "execution_count": 8,
   "metadata": {},
   "outputs": [
    {
     "data": {
      "text/plain": [
       "\u001b[90m# Source:   SQL [?? x 3]\u001b[39m\n",
       "\u001b[90m# Database: sqlite 3.34.1 [C:\\Users\\Diego\\Documents\\6.Biologist's\n",
       "#   Toolkit\\25Jan\\biol3782\\week6\\data_raw\\portal_mammals.sqlite]\u001b[39m\n",
       "    year species_id plot_id\n",
       "   \u001b[3m\u001b[90m<int>\u001b[39m\u001b[23m \u001b[3m\u001b[90m<chr>\u001b[39m\u001b[23m        \u001b[3m\u001b[90m<int>\u001b[39m\u001b[23m\n",
       "\u001b[90m 1\u001b[39m  \u001b[4m1\u001b[24m977 NL               2\n",
       "\u001b[90m 2\u001b[39m  \u001b[4m1\u001b[24m977 NL               3\n",
       "\u001b[90m 3\u001b[39m  \u001b[4m1\u001b[24m977 DM               2\n",
       "\u001b[90m 4\u001b[39m  \u001b[4m1\u001b[24m977 DM               7\n",
       "\u001b[90m 5\u001b[39m  \u001b[4m1\u001b[24m977 DM               3\n",
       "\u001b[90m 6\u001b[39m  \u001b[4m1\u001b[24m977 PF               1\n",
       "\u001b[90m 7\u001b[39m  \u001b[4m1\u001b[24m977 PE               2\n",
       "\u001b[90m 8\u001b[39m  \u001b[4m1\u001b[24m977 DM               1\n",
       "\u001b[90m 9\u001b[39m  \u001b[4m1\u001b[24m977 DM               1\n",
       "\u001b[90m10\u001b[39m  \u001b[4m1\u001b[24m977 PF               6\n",
       "\u001b[90m# ... with more rows\u001b[39m"
      ]
     },
     "metadata": {},
     "output_type": "display_data"
    }
   ],
   "source": [
    "tbl(mammals, sql(\"SELECT year, species_id, plot_id FROM surveys\"))"
   ]
  },
  {
   "cell_type": "markdown",
   "metadata": {},
   "source": [
    "<div class=\"Q\"><br>\n",
    "\n",
    "What class of object does <b>tbl()</b> return? \n",
    "\n",
    "ANSWER: table\n",
    "    \n",
    "    options:character\n",
    "            list\n",
    "            S3\n",
    "    \n",
    "<br><br><div class=\"qhelp\"></div></div>"
   ]
  },
  {
   "cell_type": "markdown",
   "metadata": {},
   "source": [
    "<div class=\"Q\"><br>\n",
    "\n",
    "How many columns are in the table created using: \n",
    "    \n",
    "<span class=\"codeX\">tbl(mammals, sql(\"SELECT year, species_id, plot_id FROM surveys\"))</span>\n",
    "    \n",
    "    \n",
    "ANSWER: 3\n",
    "<br><br><div class=\"qhelp\"></div></div>"
   ]
  },
  {
   "cell_type": "markdown",
   "metadata": {},
   "source": [
    "## Querying with dplry syntax\n",
    "\n",
    "We can do something similar using the `dplyr` package. First, we select the table on which to do the operations by creating the surveys object, and then we use the standard dplyr syntax as if it were a data frame.\n",
    "\n",
    "<br>\n",
    "<div class=\"use_editor\"></div>"
   ]
  },
  {
   "cell_type": "code",
   "execution_count": 9,
   "metadata": {},
   "outputs": [
    {
     "data": {
      "text/plain": [
       "\u001b[90m# Source:   lazy query [?? x 3]\u001b[39m\n",
       "\u001b[90m# Database: sqlite 3.34.1 [C:\\Users\\Diego\\Documents\\6.Biologist's\n",
       "#   Toolkit\\25Jan\\biol3782\\week6\\data_raw\\portal_mammals.sqlite]\u001b[39m\n",
       "    year species_id plot_id\n",
       "   \u001b[3m\u001b[90m<int>\u001b[39m\u001b[23m \u001b[3m\u001b[90m<chr>\u001b[39m\u001b[23m        \u001b[3m\u001b[90m<int>\u001b[39m\u001b[23m\n",
       "\u001b[90m 1\u001b[39m  \u001b[4m1\u001b[24m977 NL               2\n",
       "\u001b[90m 2\u001b[39m  \u001b[4m1\u001b[24m977 NL               3\n",
       "\u001b[90m 3\u001b[39m  \u001b[4m1\u001b[24m977 DM               2\n",
       "\u001b[90m 4\u001b[39m  \u001b[4m1\u001b[24m977 DM               7\n",
       "\u001b[90m 5\u001b[39m  \u001b[4m1\u001b[24m977 DM               3\n",
       "\u001b[90m 6\u001b[39m  \u001b[4m1\u001b[24m977 PF               1\n",
       "\u001b[90m 7\u001b[39m  \u001b[4m1\u001b[24m977 PE               2\n",
       "\u001b[90m 8\u001b[39m  \u001b[4m1\u001b[24m977 DM               1\n",
       "\u001b[90m 9\u001b[39m  \u001b[4m1\u001b[24m977 DM               1\n",
       "\u001b[90m10\u001b[39m  \u001b[4m1\u001b[24m977 PF               6\n",
       "\u001b[90m# ... with more rows\u001b[39m"
      ]
     },
     "metadata": {},
     "output_type": "display_data"
    }
   ],
   "source": [
    "surveys <- tbl(mammals, \"surveys\")\n",
    "\n",
    "surveys %>%\n",
    "    select(year, species_id, plot_id) "
   ]
  },
  {
   "cell_type": "markdown",
   "metadata": {},
   "source": [
    "<div class=\"Q\"><br>\n",
    "\n",
    "What class of object is <b>surveys</b>? \n",
    "\n",
    "ANSWER: Table (tbl)\n",
    "    \n",
    "    options: Character (chr)\n",
    "             list (lst)\n",
    "             object (obj)\n",
    "    \n",
    "<br><br><div class=\"qhelp\"></div></div>"
   ]
  },
  {
   "cell_type": "markdown",
   "metadata": {},
   "source": [
    "Let's take a look at how SQL handles instructions from `dplyr` using the `show_query()` function.\n",
    "\n",
    "<br>\n",
    "<div class=\"use_editor\"></div>"
   ]
  },
  {
   "cell_type": "code",
   "execution_count": 10,
   "metadata": {},
   "outputs": [
    {
     "name": "stdout",
     "output_type": "stream",
     "text": [
      "<SQL>\n",
      "SELECT `year`, `species_id`, `plot_id`\n",
      "FROM `surveys`\n"
     ]
    }
   ],
   "source": [
    "surveys %>%\n",
    "    select(year, species_id, plot_id)  %>% \n",
    "    show_query()"
   ]
  },
  {
   "cell_type": "markdown",
   "metadata": {},
   "source": [
    "The `surveys` object behaves like a data frame. Several functions that can be used with data frames can also be used on tables from a database. The output looks just like a regular data frame. However, the columns `plot_type`, `taxa`, `genus`, and `species` are missing. These are now located in the tables `plots` and `species` which we will join together in a moment.\n",
    "\n",
    "<span class=\"note\"></span> Some `dplyr` functions won't work the way we expect them too. For example, let's check to see how many rows `surveys` has with the `n_row()` function.\n",
    "\n",
    "<br>\n",
    "<div class=\"use_console\"></div>"
   ]
  },
  {
   "cell_type": "code",
   "execution_count": 11,
   "metadata": {},
   "outputs": [
    {
     "data": {
      "text/html": [
       "&lt;NA&gt;"
      ],
      "text/latex": [
       "<NA>"
      ],
      "text/markdown": [
       "&lt;NA&gt;"
      ],
      "text/plain": [
       "[1] NA"
      ]
     },
     "metadata": {},
     "output_type": "display_data"
    }
   ],
   "source": [
    "nrow(surveys)"
   ]
  },
  {
   "cell_type": "markdown",
   "metadata": {},
   "source": [
    "`nrow()` returns NA. You may have also noticed that the `surveys` output included `??` indicating the number of rows was unknown. The reason for this behavior highlights a key difference between using `dplyr` on datasets in memory (e.g. loaded into your R session via `read_csv()`) and those provided by a database. \n",
    "\n",
    "To understand it, we will take a closer look at how `dplyr` communicates with our SQLite database."
   ]
  },
  {
   "cell_type": "markdown",
   "metadata": {},
   "source": [
    "\n",
    "# SQL translation\n",
    "\n",
    "Relational databases typically use the special-purpose language, Structured Query Language (SQL), to manage and query data.\n",
    "\n",
    "For example, the following SQL query returns the first 10 rows from the surveys table."
   ]
  },
  {
   "cell_type": "markdown",
   "metadata": {},
   "source": [
    "<div class=\"codeX\">\n",
    "SELECT *<br>\n",
    "FROM `surveys`<br>\n",
    "LIMIT 10<br> \n",
    "</div>"
   ]
  },
  {
   "cell_type": "markdown",
   "metadata": {},
   "source": [
    "We will use `dplyr`'s `show_query()` function to show which SQL commands are actually sent to the database.\n",
    "\n",
    "<br>\n",
    "<div class=\"use_console\"></div>"
   ]
  },
  {
   "cell_type": "code",
   "execution_count": 12,
   "metadata": {},
   "outputs": [
    {
     "name": "stdout",
     "output_type": "stream",
     "text": [
      "<SQL>\n",
      "SELECT *\n",
      "FROM `surveys`\n",
      "LIMIT 10\n"
     ]
    }
   ],
   "source": [
    "show_query(head(surveys, n = 10))"
   ]
  },
  {
   "cell_type": "markdown",
   "metadata": {},
   "source": [
    "The output shows the actual SQL query sent to the database; it matches our manually constructed SELECT statement above.\n",
    "\n",
    "<img src=\"sql vs r.png\" width=\"700px\">"
   ]
  },
  {
   "cell_type": "markdown",
   "metadata": {},
   "source": [
    "<div class=\"Q\"><br>\n",
    "\n",
    "What does <b>show_query</b> do? \n",
    "\n",
    "ANSWER: shows which SQL commands are sent to the database\n",
    "    \n",
    "    options: shows the arguements passed to dplyr\n",
    "             asks a question\n",
    "             shows the steps from dplyr to SQL\n",
    "    \n",
    "<br><br><div class=\"qhelp\"></div></div>"
   ]
  },
  {
   "cell_type": "markdown",
   "metadata": {},
   "source": [
    "Behind the scenes, `dplyr`:\n",
    "\n",
    "1. translates your R code into SQL\n",
    "1. submits it to the database\n",
    "1. translates the database's response into an R data frame\n",
    "\n",
    "**Instead of having to formulate the SQL query ourselves - and having to mentally switch back and forth between R and SQL syntax - we can delegate this translation to `dplyr`, which in turn doesn't do the real work of subsetting the table, either. Instead, it merely sends the query to the database, waits for its response and returns it to us.**\n",
    "\n",
    "R connects to the database and downloads a bare minimum of information on fields, data types, etc. — enough to allow manipulation of the object without physical download of the data. R never gets to see the full `surveys` table - and that's why it could not tell us how many rows it contains.\n",
    "\n",
    "There are two components to dplyr’s SQL translation system:\n",
    "\n",
    "* translation of vector expressions like: x * y + 10\n",
    "\n",
    "* translation of whole verbs like `mutate()` or `summarize()`\n",
    "\n",
    "Most filtering, mutating, or summarizing operations only perform simple mathematical operations. These operations are very similar between R and SQL, so they’re easy to translate. To see what’s happening yourself, you can use `translate_sql()`. The function `translate_sql()` is built on top of R’s parsing engine and has been carefully designed to generate correct SQL. It also protects you against SQL injection attacks by correctly [escaping](https://en.wikipedia.org/wiki/Escape_character) the strings and variable names needed by the database that you’re connecting to.\n",
    "\n",
    "Let's take a look at some differences between R and SQL\n",
    "\n",
    "* `\"` and `'` aren't the same"
   ]
  },
  {
   "cell_type": "code",
   "execution_count": 13,
   "metadata": {},
   "outputs": [
    {
     "data": {
      "text/html": [
       "'`x`'"
      ],
      "text/latex": [
       "'`x`'"
      ],
      "text/markdown": [
       "'`x`'"
      ],
      "text/plain": [
       "<SQL> `x`"
      ]
     },
     "metadata": {},
     "output_type": "display_data"
    },
    {
     "data": {
      "text/html": [
       "'\\'x\\''"
      ],
      "text/latex": [
       "'\\textbackslash{}'x\\textbackslash{}''"
      ],
      "text/markdown": [
       "'\\'x\\''"
      ],
      "text/plain": [
       "<SQL> 'x'"
      ]
     },
     "metadata": {},
     "output_type": "display_data"
    }
   ],
   "source": [
    "#In SQLite, variable names are escaped by double quotes\n",
    "\n",
    "translate_sql(x)\n",
    "#> <SQL> `x`\n",
    "\n",
    "# And strings are escaped by single quotes\n",
    "\n",
    "translate_sql(\"x\")\n",
    "#> <SQL> 'x'"
   ]
  },
  {
   "cell_type": "markdown",
   "metadata": {},
   "source": [
    "* functions have different names"
   ]
  },
  {
   "cell_type": "code",
   "execution_count": 14,
   "metadata": {},
   "outputs": [
    {
     "data": {
      "text/html": [
       "'`x` = 1.0 AND (`y` &lt; 2.0 OR `z` &gt; 3.0)'"
      ],
      "text/latex": [
       "'`x` = 1.0 AND (`y` < 2.0 OR `z` > 3.0)'"
      ],
      "text/markdown": [
       "'`x` = 1.0 AND (`y` &lt; 2.0 OR `z` &gt; 3.0)'"
      ],
      "text/plain": [
       "<SQL> `x` = 1.0 AND (`y` < 2.0 OR `z` > 3.0)"
      ]
     },
     "metadata": {},
     "output_type": "display_data"
    },
    {
     "data": {
      "text/html": [
       "'POWER(`x`, 2.0) &lt; 10.0'"
      ],
      "text/latex": [
       "'POWER(`x`, 2.0) < 10.0'"
      ],
      "text/markdown": [
       "'POWER(`x`, 2.0) &lt; 10.0'"
      ],
      "text/plain": [
       "<SQL> POWER(`x`, 2.0) < 10.0"
      ]
     },
     "metadata": {},
     "output_type": "display_data"
    },
    {
     "data": {
      "text/html": [
       "'`x` % 2.0 = 10.0'"
      ],
      "text/latex": [
       "'`x` \\% 2.0 = 10.0'"
      ],
      "text/markdown": [
       "'`x` % 2.0 = 10.0'"
      ],
      "text/plain": [
       "<SQL> `x` % 2.0 = 10.0"
      ]
     },
     "metadata": {},
     "output_type": "display_data"
    }
   ],
   "source": [
    "translate_sql(x == 1 && (y < 2 || z > 3))\n",
    "#> <SQL> `x` = 1.0 AND (`y` < 2.0 OR `z` > 3.0)\n",
    "\n",
    "translate_sql(x ^ 2 < 10)\n",
    "#> <SQL> POWER(`x`, 2.0) < 10.0\n",
    "\n",
    "translate_sql(x %% 2 == 10)\n",
    "#> <SQL> `x` % 2.0 = 10.0"
   ]
  },
  {
   "cell_type": "markdown",
   "metadata": {},
   "source": [
    "* functions have different argument orders"
   ]
  },
  {
   "cell_type": "code",
   "execution_count": 15,
   "metadata": {},
   "outputs": [
    {
     "data": {
      "text/html": [
       "'SUBSTR(`x`, 5, 6)'"
      ],
      "text/latex": [
       "'SUBSTR(`x`, 5, 6)'"
      ],
      "text/markdown": [
       "'SUBSTR(`x`, 5, 6)'"
      ],
      "text/plain": [
       "<SQL> SUBSTR(`x`, 5, 6)"
      ]
     },
     "metadata": {},
     "output_type": "display_data"
    },
    {
     "data": {
      "text/html": [
       "'LOG(10.0, `x`)'"
      ],
      "text/latex": [
       "'LOG(10.0, `x`)'"
      ],
      "text/markdown": [
       "'LOG(10.0, `x`)'"
      ],
      "text/plain": [
       "<SQL> LOG(10.0, `x`)"
      ]
     },
     "metadata": {},
     "output_type": "display_data"
    }
   ],
   "source": [
    "translate_sql(substr(x, 5, 10))\n",
    "#> <SQL> SUBSTR(`x`, 5, 6)\n",
    "\n",
    "translate_sql(log(x, 10))\n",
    "#> <SQL> LOG(10.0, `x`)"
   ]
  },
  {
   "cell_type": "markdown",
   "metadata": {},
   "source": [
    "* R and SQL have different defaults for integers and reals. In R, 1 is a real, and 1L is an integer. In SQL, 1 is an integer, and 1.0 is a real number."
   ]
  },
  {
   "cell_type": "code",
   "execution_count": 16,
   "metadata": {},
   "outputs": [
    {
     "data": {
      "text/html": [
       "'1.0'"
      ],
      "text/latex": [
       "'1.0'"
      ],
      "text/markdown": [
       "'1.0'"
      ],
      "text/plain": [
       "<SQL> 1.0"
      ]
     },
     "metadata": {},
     "output_type": "display_data"
    },
    {
     "data": {
      "text/html": [
       "'1'"
      ],
      "text/latex": [
       "'1'"
      ],
      "text/markdown": [
       "'1'"
      ],
      "text/plain": [
       "<SQL> 1"
      ]
     },
     "metadata": {},
     "output_type": "display_data"
    }
   ],
   "source": [
    "translate_sql(1)\n",
    "#> <SQL> 1.0\n",
    "\n",
    "translate_sql(1L)\n",
    "#> <SQL> 1"
   ]
  },
  {
   "cell_type": "markdown",
   "metadata": {},
   "source": [
    "* If statements are translated into a case statement"
   ]
  },
  {
   "cell_type": "code",
   "execution_count": 17,
   "metadata": {},
   "outputs": [
    {
     "data": {
      "text/html": [
       "'CASE WHEN (`x` &gt; 5.0) THEN (\\'big\\') WHEN NOT(`x` &gt; 5.0) THEN (\\'small\\') END'"
      ],
      "text/latex": [
       "'CASE WHEN (`x` > 5.0) THEN (\\textbackslash{}'big\\textbackslash{}') WHEN NOT(`x` > 5.0) THEN (\\textbackslash{}'small\\textbackslash{}') END'"
      ],
      "text/markdown": [
       "'CASE WHEN (`x` &gt; 5.0) THEN (\\'big\\') WHEN NOT(`x` &gt; 5.0) THEN (\\'small\\') END'"
      ],
      "text/plain": [
       "<SQL> CASE WHEN (`x` > 5.0) THEN ('big') WHEN NOT(`x` > 5.0) THEN ('small') END"
      ]
     },
     "metadata": {},
     "output_type": "display_data"
    }
   ],
   "source": [
    "translate_sql(if (x > 5) \"big\" else \"small\")\n",
    "#> <SQL> CASE WHEN (`x` > 5.0) THEN ('big') WHEN NOT(`x` > 5.0) THEN ('small') END"
   ]
  },
  {
   "cell_type": "markdown",
   "metadata": {},
   "source": [
    "`dplyr` can translate many different query types into SQL allowing us to `select()` specific columns, `filter()` rows, or join tables. You can now manipulate `surveys` in the same way as you would manipulate other tables in R.\n",
    "\n",
    "To see this in action, let's compose a few queries with `dplyr`."
   ]
  },
  {
   "cell_type": "markdown",
   "metadata": {},
   "source": [
    "<div class=\"Q\"><br>\n",
    "\n",
    "In SQL, is 3 and integer or real number? \n",
    "\n",
    "ANSWER: Integer\n",
    "<br><br><div class=\"qhelp\"></div></div>"
   ]
  },
  {
   "cell_type": "markdown",
   "metadata": {},
   "source": [
    "<div class=\"Q\"><br>\n",
    "\n",
    "What does <b>translate_sql</b> do? \n",
    "\n",
    "ANSWER: generates correct SQL output\n",
    "    \n",
    "    options: generates the dplyr code\n",
    "             shows which SQL commands are sent to the database\n",
    "             all of the above\n",
    "    \n",
    "<br><br><div class=\"qhelp\"></div></div>"
   ]
  },
  {
   "cell_type": "markdown",
   "metadata": {},
   "source": [
    "## Simple database queries\n",
    "\n",
    "First, let's only request rows of the `surveys` table in which weight is less than 5 and keep only the species_id, sex, and weight columns.\n",
    "\n",
    "<br>\n",
    "<div class=\"use_editor\"></div>"
   ]
  },
  {
   "cell_type": "code",
   "execution_count": 18,
   "metadata": {},
   "outputs": [
    {
     "data": {
      "text/plain": [
       "\u001b[90m# Source:   lazy query [?? x 3]\u001b[39m\n",
       "\u001b[90m# Database: sqlite 3.34.1 [C:\\Users\\Diego\\Documents\\6.Biologist's\n",
       "#   Toolkit\\25Jan\\biol3782\\week6\\data_raw\\portal_mammals.sqlite]\u001b[39m\n",
       "   species_id sex   weight\n",
       "   \u001b[3m\u001b[90m<chr>\u001b[39m\u001b[23m      \u001b[3m\u001b[90m<chr>\u001b[39m\u001b[23m  \u001b[3m\u001b[90m<int>\u001b[39m\u001b[23m\n",
       "\u001b[90m 1\u001b[39m PF         M          4\n",
       "\u001b[90m 2\u001b[39m PF         F          4\n",
       "\u001b[90m 3\u001b[39m PF         \u001b[31mNA\u001b[39m         4\n",
       "\u001b[90m 4\u001b[39m PF         F          4\n",
       "\u001b[90m 5\u001b[39m PF         F          4\n",
       "\u001b[90m 6\u001b[39m RM         M          4\n",
       "\u001b[90m 7\u001b[39m RM         F          4\n",
       "\u001b[90m 8\u001b[39m RM         M          4\n",
       "\u001b[90m 9\u001b[39m RM         M          4\n",
       "\u001b[90m10\u001b[39m RM         M          4\n",
       "\u001b[90m# ... with more rows\u001b[39m"
      ]
     },
     "metadata": {},
     "output_type": "display_data"
    }
   ],
   "source": [
    "simple <- surveys %>%\n",
    "  filter(weight < 5) %>%\n",
    "  select(species_id, sex, weight)\n",
    "\n",
    "simple"
   ]
  },
  {
   "cell_type": "markdown",
   "metadata": {},
   "source": [
    "Executing this command will return a table showing 10 rows and the requested species_id, sex and weight columns.\n",
    "But wait, what does the last line mean?"
   ]
  },
  {
   "cell_type": "code",
   "execution_count": 19,
   "metadata": {},
   "outputs": [],
   "source": [
    "# ... with more rows"
   ]
  },
  {
   "cell_type": "markdown",
   "metadata": {},
   "source": [
    "This indicates that R is only showing us the first 10 rows that fit our criterion. It does not call the whole dataset.\n",
    "\n",
    "<span class=\"note\"></span> It does not return a dataframe object! The `str()` call returns a list of tables instead.\n",
    "\n",
    "<br>\n",
    "<div class=\"use_console\"></div>"
   ]
  },
  {
   "cell_type": "code",
   "execution_count": 20,
   "metadata": {},
   "outputs": [
    {
     "name": "stdout",
     "output_type": "stream",
     "text": [
      "List of 2\n",
      " $ src:List of 2\n",
      "  ..$ con  :Formal class 'SQLiteConnection' [package \"RSQLite\"] with 8 slots\n",
      "  .. .. ..@ ptr                :<externalptr> \n",
      "  .. .. ..@ dbname             : chr \"C:\\\\Users\\\\Diego\\\\Documents\\\\6.Biologist's Toolkit\\\\25Jan\\\\biol3782\\\\week6\\\\data_raw\\\\portal_mammals.sqlite\"\n",
      "  .. .. ..@ loadable.extensions: logi TRUE\n",
      "  .. .. ..@ flags              : int 70\n",
      "  .. .. ..@ vfs                : chr \"\"\n",
      "  .. .. ..@ ref                :<environment: 0x000000003582f388> \n",
      "  .. .. ..@ bigint             : chr \"integer64\"\n",
      "  .. .. ..@ extended_types     : logi FALSE\n",
      "  ..$ disco: NULL\n",
      "  ..- attr(*, \"class\")= chr [1:4] \"src_SQLiteConnection\" \"src_dbi\" \"src_sql\" \"src\"\n",
      " $ ops:List of 4\n",
      "  ..$ name: chr \"select\"\n",
      "  ..$ x   :List of 4\n",
      "  .. ..$ name: chr \"filter\"\n",
      "  .. ..$ x   :List of 2\n",
      "  .. .. ..$ x   : 'ident' chr \"surveys\"\n",
      "  .. .. ..$ vars: chr [1:9] \"record_id\" \"month\" \"day\" \"year\" ...\n",
      "  .. .. ..- attr(*, \"class\")= chr [1:3] \"op_base_remote\" \"op_base\" \"op\"\n",
      "  .. ..$ dots:List of 1\n",
      "  .. .. ..$ : language ~weight < 5\n",
      "  .. .. .. ..- attr(*, \".Environment\")=<environment: 0x000000003a47f470> \n",
      "  .. ..$ args: list()\n",
      "  .. ..- attr(*, \"class\")= chr [1:3] \"op_filter\" \"op_single\" \"op\"\n",
      "  ..$ dots: list()\n",
      "  ..$ args:List of 1\n",
      "  .. ..$ vars:List of 3\n",
      "  .. .. ..$ species_id: symbol species_id\n",
      "  .. .. ..$ sex       : symbol sex\n",
      "  .. .. ..$ weight    : symbol weight\n",
      "  ..- attr(*, \"class\")= chr [1:3] \"op_select\" \"op_single\" \"op\"\n",
      " - attr(*, \"class\")= chr [1:5] \"tbl_SQLiteConnection\" \"tbl_dbi\" \"tbl_sql\" \"tbl_lazy\" ...\n"
     ]
    }
   ],
   "source": [
    "str(simple)"
   ]
  },
  {
   "cell_type": "markdown",
   "metadata": {},
   "source": [
    "When working with databases, `dplyr` tries to be as lazy as possible.\n",
    "\n",
    "* It never pulls data into R unless you explicitly ask for it.\n",
    "* It delays doing any work until the last possible moment - it collects together everything you want to do and then sends it to the database in one step."
   ]
  },
  {
   "cell_type": "markdown",
   "metadata": {},
   "source": [
    "<div class=\"Q\"><br>\n",
    "\n",
    "Why does the object <b>simple</b> only return 10 rows and not the whole dataset? \n",
    "\n",
    "ANSWER: dplyr never pulls all data into R unless you it to.\n",
    "    \n",
    "    options: Default settings in R only shows 10 rows\n",
    "             There are only 10 rows in the dataframe\n",
    "             None of the above\n",
    "    \n",
    "<br><br><div class=\"qhelp\"></div></div>"
   ]
  },
  {
   "cell_type": "markdown",
   "metadata": {},
   "source": [
    "When you construct a `dplyr` query, you can connect multiple verbs into a single pipeline. For example, we combined the `filter()` and `select()` verbs using the `%>%` pipe.\n",
    "\n",
    "<br>\n",
    "<div class=\"use_editor\"></div>"
   ]
  },
  {
   "cell_type": "code",
   "execution_count": 21,
   "metadata": {},
   "outputs": [
    {
     "data": {
      "text/plain": [
       "\u001b[90m# Source:   lazy query [?? x 3]\u001b[39m\n",
       "\u001b[90m# Database: sqlite 3.34.1 [C:\\Users\\Diego\\Documents\\6.Biologist's\n",
       "#   Toolkit\\25Jan\\biol3782\\week6\\data_raw\\portal_mammals.sqlite]\u001b[39m\n",
       "   species_id sex   weight\n",
       "   \u001b[3m\u001b[90m<chr>\u001b[39m\u001b[23m      \u001b[3m\u001b[90m<chr>\u001b[39m\u001b[23m  \u001b[3m\u001b[90m<int>\u001b[39m\u001b[23m\n",
       "\u001b[90m 1\u001b[39m PF         M          4\n",
       "\u001b[90m 2\u001b[39m PF         F          4\n",
       "\u001b[90m 3\u001b[39m PF         \u001b[31mNA\u001b[39m         4\n",
       "\u001b[90m 4\u001b[39m PF         F          4\n",
       "\u001b[90m 5\u001b[39m PF         F          4\n",
       "\u001b[90m 6\u001b[39m RM         M          4\n",
       "\u001b[90m 7\u001b[39m RM         F          4\n",
       "\u001b[90m 8\u001b[39m RM         M          4\n",
       "\u001b[90m 9\u001b[39m RM         M          4\n",
       "\u001b[90m10\u001b[39m RM         M          4\n",
       "\u001b[90m# ... with more rows\u001b[39m"
      ]
     },
     "metadata": {},
     "output_type": "display_data"
    }
   ],
   "source": [
    "data_subset <- surveys %>%\n",
    "  filter(weight < 5) %>%\n",
    "  select(species_id, sex, weight)\n",
    "\n",
    "data_subset"
   ]
  },
  {
   "cell_type": "markdown",
   "metadata": {},
   "source": [
    "Now let's take a look at the structure of `data_subset`\n",
    "\n",
    "<br>\n",
    "<div class=\"use_console\"></div>"
   ]
  },
  {
   "cell_type": "code",
   "execution_count": 22,
   "metadata": {},
   "outputs": [
    {
     "name": "stdout",
     "output_type": "stream",
     "text": [
      "List of 2\n",
      " $ src:List of 2\n",
      "  ..$ con  :Formal class 'SQLiteConnection' [package \"RSQLite\"] with 8 slots\n",
      "  .. .. ..@ ptr                :<externalptr> \n",
      "  .. .. ..@ dbname             : chr \"C:\\\\Users\\\\Diego\\\\Documents\\\\6.Biologist's Toolkit\\\\25Jan\\\\biol3782\\\\week6\\\\data_raw\\\\portal_mammals.sqlite\"\n",
      "  .. .. ..@ loadable.extensions: logi TRUE\n",
      "  .. .. ..@ flags              : int 70\n",
      "  .. .. ..@ vfs                : chr \"\"\n",
      "  .. .. ..@ ref                :<environment: 0x000000003582f388> \n",
      "  .. .. ..@ bigint             : chr \"integer64\"\n",
      "  .. .. ..@ extended_types     : logi FALSE\n",
      "  ..$ disco: NULL\n",
      "  ..- attr(*, \"class\")= chr [1:4] \"src_SQLiteConnection\" \"src_dbi\" \"src_sql\" \"src\"\n",
      " $ ops:List of 4\n",
      "  ..$ name: chr \"select\"\n",
      "  ..$ x   :List of 4\n",
      "  .. ..$ name: chr \"filter\"\n",
      "  .. ..$ x   :List of 2\n",
      "  .. .. ..$ x   : 'ident' chr \"surveys\"\n",
      "  .. .. ..$ vars: chr [1:9] \"record_id\" \"month\" \"day\" \"year\" ...\n",
      "  .. .. ..- attr(*, \"class\")= chr [1:3] \"op_base_remote\" \"op_base\" \"op\"\n",
      "  .. ..$ dots:List of 1\n",
      "  .. .. ..$ : language ~weight < 5\n",
      "  .. .. .. ..- attr(*, \".Environment\")=<environment: 0x0000000038edf0d8> \n",
      "  .. ..$ args: list()\n",
      "  .. ..- attr(*, \"class\")= chr [1:3] \"op_filter\" \"op_single\" \"op\"\n",
      "  ..$ dots: list()\n",
      "  ..$ args:List of 1\n",
      "  .. ..$ vars:List of 3\n",
      "  .. .. ..$ species_id: symbol species_id\n",
      "  .. .. ..$ sex       : symbol sex\n",
      "  .. .. ..$ weight    : symbol weight\n",
      "  ..- attr(*, \"class\")= chr [1:3] \"op_select\" \"op_single\" \"op\"\n",
      " - attr(*, \"class\")= chr [1:5] \"tbl_SQLiteConnection\" \"tbl_dbi\" \"tbl_sql\" \"tbl_lazy\" ...\n"
     ]
    }
   ],
   "source": [
    "str(data_subset)"
   ]
  },
  {
   "cell_type": "markdown",
   "metadata": {},
   "source": [
    "Notice that the `str()` call returns a list instead of a dataframe. The call `select(species_id, sex, weight)` command wasn't executed by R but was sent to the database instead. R doesn't retrieve the full set of results - instead it only retrieves the first 10 results from the database by default. "
   ]
  },
  {
   "cell_type": "markdown",
   "metadata": {},
   "source": [
    "<div class=\"Q\"><br>\n",
    "\n",
    "Why does the object <b>data_subset</b> only return 10 rows? \n",
    "\n",
    "ANSWER: dplyr never pulls all data into R unless you it to and  it collects together everything you want to do and then sends it to the database in one step\n",
    "    \n",
    "    options: There are only 10 rows in the dataframe\n",
    "             We instructed dplyr to pull and show only the first 10 rows.\n",
    "             None of the above\n",
    "    \n",
    "<br><br><div class=\"qhelp\"></div></div>"
   ]
  },
  {
   "cell_type": "markdown",
   "metadata": {},
   "source": [
    "<div class=\"Q\"><br>\n",
    "\n",
    "What class of object is <b>data_subset</b>? \n",
    "\n",
    "ANSWER: list (lst)\n",
    "    \n",
    "    options: table (tbl)\n",
    "             character (chr)\n",
    "             integer (int)\n",
    "    \n",
    "<br><br><div class=\"qhelp\"></div></div>"
   ]
  },
  {
   "cell_type": "markdown",
   "metadata": {},
   "source": [
    "To instruct R to retrieve all of the query results from the database, we add the `collect()` command to our pipe. It indicates that our database query is finished, get the final results, then load them into the R session. \n",
    "\n",
    "<br>\n",
    "<div class=\"use_editor\"></div>"
   ]
  },
  {
   "cell_type": "code",
   "execution_count": 23,
   "metadata": {},
   "outputs": [
    {
     "data": {
      "text/html": [
       "<table class=\"dataframe\">\n",
       "<caption>A tibble: 6 × 3</caption>\n",
       "<thead>\n",
       "\t<tr><th scope=col>species_id</th><th scope=col>sex</th><th scope=col>weight</th></tr>\n",
       "\t<tr><th scope=col>&lt;chr&gt;</th><th scope=col>&lt;chr&gt;</th><th scope=col>&lt;int&gt;</th></tr>\n",
       "</thead>\n",
       "<tbody>\n",
       "\t<tr><td>DM</td><td>M</td><td>40</td></tr>\n",
       "\t<tr><td>DM</td><td>M</td><td>48</td></tr>\n",
       "\t<tr><td>DM</td><td>F</td><td>29</td></tr>\n",
       "\t<tr><td>DM</td><td>F</td><td>46</td></tr>\n",
       "\t<tr><td>DM</td><td>M</td><td>36</td></tr>\n",
       "\t<tr><td>DO</td><td>F</td><td>52</td></tr>\n",
       "</tbody>\n",
       "</table>\n"
      ],
      "text/latex": [
       "A tibble: 6 × 3\n",
       "\\begin{tabular}{lll}\n",
       " species\\_id & sex & weight\\\\\n",
       " <chr> & <chr> & <int>\\\\\n",
       "\\hline\n",
       "\t DM & M & 40\\\\\n",
       "\t DM & M & 48\\\\\n",
       "\t DM & F & 29\\\\\n",
       "\t DM & F & 46\\\\\n",
       "\t DM & M & 36\\\\\n",
       "\t DO & F & 52\\\\\n",
       "\\end{tabular}\n"
      ],
      "text/markdown": [
       "\n",
       "A tibble: 6 × 3\n",
       "\n",
       "| species_id &lt;chr&gt; | sex &lt;chr&gt; | weight &lt;int&gt; |\n",
       "|---|---|---|\n",
       "| DM | M | 40 |\n",
       "| DM | M | 48 |\n",
       "| DM | F | 29 |\n",
       "| DM | F | 46 |\n",
       "| DM | M | 36 |\n",
       "| DO | F | 52 |\n",
       "\n"
      ],
      "text/plain": [
       "  species_id sex weight\n",
       "1 DM         M   40    \n",
       "2 DM         M   48    \n",
       "3 DM         F   29    \n",
       "4 DM         F   46    \n",
       "5 DM         M   36    \n",
       "6 DO         F   52    "
      ]
     },
     "metadata": {},
     "output_type": "display_data"
    }
   ],
   "source": [
    "data_subset <- surveys %>%\n",
    "  filter(weight > 5) %>%\n",
    "  select(species_id, sex, weight) %>%\n",
    "  collect()\n",
    "\n",
    "data_subset %>% \n",
    "  head()"
   ]
  },
  {
   "cell_type": "markdown",
   "metadata": {},
   "source": [
    "Let's take a look at `data_subset` again.\n",
    "\n",
    "<br>\n",
    "<div class=\"use_console\"></div>"
   ]
  },
  {
   "cell_type": "code",
   "execution_count": 24,
   "metadata": {},
   "outputs": [
    {
     "name": "stdout",
     "output_type": "stream",
     "text": [
      "tibble [32,208 x 3] (S3: tbl_df/tbl/data.frame)\n",
      " $ species_id: chr [1:32208] \"DM\" \"DM\" \"DM\" \"DM\" ...\n",
      " $ sex       : chr [1:32208] \"M\" \"M\" \"F\" \"F\" ...\n",
      " $ weight    : int [1:32208] 40 48 29 46 36 52 8 22 35 7 ...\n"
     ]
    }
   ],
   "source": [
    "str(data_subset)"
   ]
  },
  {
   "cell_type": "markdown",
   "metadata": {},
   "source": [
    "Notice the `str()` call now returns the structure of a dataframe. Now we have all **32208** rows that match our query in a dataframe and can continue to work with them exclusively in R, without communicating with the database."
   ]
  },
  {
   "cell_type": "markdown",
   "metadata": {},
   "source": [
    "Let's look at a histogram of `species_id` separated by `sex`.\n",
    "\n",
    "<br>\n",
    "<div class=\"use_editor\"></div>"
   ]
  },
  {
   "cell_type": "code",
   "execution_count": 25,
   "metadata": {},
   "outputs": [
    {
     "name": "stderr",
     "output_type": "stream",
     "text": [
      "Warning message:\n",
      "\"Ignoring unknown parameters: binwidth, bins, pad\"\n"
     ]
    },
    {
     "data": {
      "image/png": "[encoded data removed]",
      "text/plain": [
       "plot without title"
      ]
     },
     "metadata": {
      "image/png": {
       "height": 500,
       "width": 875
      }
     },
     "output_type": "display_data"
    }
   ],
   "source": [
    "data_subset %>% \n",
    "  na.omit() %>% \n",
    "  ggplot(aes(species_id)) +\n",
    "  geom_histogram(aes(fill = sex), position = \"dodge\", stat = \"count\", color = \"black\") +\n",
    "  theme_classic()"
   ]
  },
  {
   "cell_type": "markdown",
   "metadata": {},
   "source": [
    "<div class=\"Q\"><br>\n",
    "\n",
    "How many observations does <b>data_subset</b> have? \n",
    "\n",
    "ANSWER: 32208\n",
    "<br><br><div class=\"qhelp\"></div></div>"
   ]
  },
  {
   "cell_type": "markdown",
   "metadata": {},
   "source": [
    "<div class=\"Q\"><br>\n",
    "\n",
    "What class of variable is <b>sex</b>? \n",
    "\n",
    "ANSWER: character (chr)\n",
    "    \n",
    "    options: factor (fct)\n",
    "             integer (int)\n",
    "             double (dbl)\n",
    "    \n",
    "<br><br><div class=\"qhelp\"></div></div>"
   ]
  },
  {
   "cell_type": "markdown",
   "metadata": {},
   "source": [
    "<div class=\"Q\"><br>\n",
    "\n",
    "TRUE or FALSE: <b>collect()</b> retrieves all queries from our database? \n",
    "\n",
    "ANSWER: TRUE\n",
    "<br><br><div class=\"qhelp\"></div></div>"
   ]
  },
  {
   "cell_type": "markdown",
   "metadata": {},
   "source": [
    "## Complex database queries\n",
    "\n",
    "`dplyr` enables database queries across one or multiple database tables, using the same single- and multiple-table verbs you encountered previously. This means you can use the same commands regardless of whether you interact with a remote database or local dataset. \n",
    "\n",
    "This is a really useful feature if you work with large datasets: \n",
    "\n",
    "* you can first prototype your code on a small subset that fits into memory, and when your code is ready, \n",
    "* you can change the input dataset to your full database without having to change the syntax.\n",
    "\n",
    "Being able to use SQL queries directly can be useful if your collaborators have already put together complex queries to prepare the dataset that you need for your analysis.\n",
    "\n",
    "To illustrate how to use `dplyr` with these complex queries, we are going to join the plots and surveys tables. The plots table in the database contains information about the different plots surveyed by the researchers. To access it, we point the `tbl()` command to it.\n",
    "\n",
    "<br>\n",
    "<div class=\"use_editor\"></div>"
   ]
  },
  {
   "cell_type": "code",
   "execution_count": 26,
   "metadata": {},
   "outputs": [
    {
     "data": {
      "text/plain": [
       "\u001b[90m# Source:   table<plots> [?? x 2]\u001b[39m\n",
       "\u001b[90m# Database: sqlite 3.34.1 [C:\\Users\\Diego\\Documents\\6.Biologist's\n",
       "#   Toolkit\\25Jan\\biol3782\\week6\\data_raw\\portal_mammals.sqlite]\u001b[39m\n",
       "   plot_id plot_type                \n",
       "     \u001b[3m\u001b[90m<int>\u001b[39m\u001b[23m \u001b[3m\u001b[90m<chr>\u001b[39m\u001b[23m                    \n",
       "\u001b[90m 1\u001b[39m       1 Spectab exclosure        \n",
       "\u001b[90m 2\u001b[39m       2 Control                  \n",
       "\u001b[90m 3\u001b[39m       3 Long-term Krat Exclosure \n",
       "\u001b[90m 4\u001b[39m       4 Control                  \n",
       "\u001b[90m 5\u001b[39m       5 Rodent Exclosure         \n",
       "\u001b[90m 6\u001b[39m       6 Short-term Krat Exclosure\n",
       "\u001b[90m 7\u001b[39m       7 Rodent Exclosure         \n",
       "\u001b[90m 8\u001b[39m       8 Control                  \n",
       "\u001b[90m 9\u001b[39m       9 Spectab exclosure        \n",
       "\u001b[90m10\u001b[39m      10 Rodent Exclosure         \n",
       "\u001b[90m# ... with more rows\u001b[39m"
      ]
     },
     "metadata": {},
     "output_type": "display_data"
    }
   ],
   "source": [
    "plots <- tbl(mammals, \"plots\")\n",
    "\n",
    "plots"
   ]
  },
  {
   "cell_type": "markdown",
   "metadata": {},
   "source": [
    "<div class=\"Q\"><br>\n",
    "\n",
    "What class of object is <b>plots</b>? \n",
    "\n",
    "ANSWER: Table (tbl)\n",
    "    \n",
    "    options: tibble \n",
    "             data frame\n",
    "             S3\n",
    "    \n",
    "<br><br><div class=\"qhelp\"></div></div>"
   ]
  },
  {
   "cell_type": "markdown",
   "metadata": {},
   "source": [
    "<div class=\"Q\"><br>\n",
    "\n",
    "TRUE or FALSE: Using this line of code:\n",
    "   <br><br> \n",
    "    <b>tbl(mammals, \"plots\")</b>\n",
    "   <br><br>\n",
    "You will be able to see all the observations of the dataset?\n",
    "\n",
    "ANSWER: FALSE\n",
    "<br><br><div class=\"qhelp\"></div></div>"
   ]
  },
  {
   "cell_type": "markdown",
   "metadata": {},
   "source": [
    "The `plot_id` column also features in the `surveys` table.\n",
    "\n",
    "<br>\n",
    "<div class=\"use_console\"></div>"
   ]
  },
  {
   "cell_type": "code",
   "execution_count": 27,
   "metadata": {},
   "outputs": [
    {
     "data": {
      "text/plain": [
       "\u001b[90m# Source:   table<surveys> [?? x 9]\u001b[39m\n",
       "\u001b[90m# Database: sqlite 3.34.1 [C:\\Users\\Diego\\Documents\\6.Biologist's\n",
       "#   Toolkit\\25Jan\\biol3782\\week6\\data_raw\\portal_mammals.sqlite]\u001b[39m\n",
       "   record_id month   day  year plot_id species_id sex   hindfoot_length weight\n",
       "       \u001b[3m\u001b[90m<int>\u001b[39m\u001b[23m \u001b[3m\u001b[90m<int>\u001b[39m\u001b[23m \u001b[3m\u001b[90m<int>\u001b[39m\u001b[23m \u001b[3m\u001b[90m<int>\u001b[39m\u001b[23m   \u001b[3m\u001b[90m<int>\u001b[39m\u001b[23m \u001b[3m\u001b[90m<chr>\u001b[39m\u001b[23m      \u001b[3m\u001b[90m<chr>\u001b[39m\u001b[23m           \u001b[3m\u001b[90m<int>\u001b[39m\u001b[23m  \u001b[3m\u001b[90m<int>\u001b[39m\u001b[23m\n",
       "\u001b[90m 1\u001b[39m         1     7    16  \u001b[4m1\u001b[24m977       2 NL         M                  32     \u001b[31mNA\u001b[39m\n",
       "\u001b[90m 2\u001b[39m         2     7    16  \u001b[4m1\u001b[24m977       3 NL         M                  33     \u001b[31mNA\u001b[39m\n",
       "\u001b[90m 3\u001b[39m         3     7    16  \u001b[4m1\u001b[24m977       2 DM         F                  37     \u001b[31mNA\u001b[39m\n",
       "\u001b[90m 4\u001b[39m         4     7    16  \u001b[4m1\u001b[24m977       7 DM         M                  36     \u001b[31mNA\u001b[39m\n",
       "\u001b[90m 5\u001b[39m         5     7    16  \u001b[4m1\u001b[24m977       3 DM         M                  35     \u001b[31mNA\u001b[39m\n",
       "\u001b[90m 6\u001b[39m         6     7    16  \u001b[4m1\u001b[24m977       1 PF         M                  14     \u001b[31mNA\u001b[39m\n",
       "\u001b[90m 7\u001b[39m         7     7    16  \u001b[4m1\u001b[24m977       2 PE         F                  \u001b[31mNA\u001b[39m     \u001b[31mNA\u001b[39m\n",
       "\u001b[90m 8\u001b[39m         8     7    16  \u001b[4m1\u001b[24m977       1 DM         M                  37     \u001b[31mNA\u001b[39m\n",
       "\u001b[90m 9\u001b[39m         9     7    16  \u001b[4m1\u001b[24m977       1 DM         F                  34     \u001b[31mNA\u001b[39m\n",
       "\u001b[90m10\u001b[39m        10     7    16  \u001b[4m1\u001b[24m977       6 PF         F                  20     \u001b[31mNA\u001b[39m\n",
       "\u001b[90m# ... with more rows\u001b[39m"
      ]
     },
     "metadata": {},
     "output_type": "display_data"
    }
   ],
   "source": [
    "surveys"
   ]
  },
  {
   "cell_type": "markdown",
   "metadata": {},
   "source": [
    "Because `plot_id` is listed in both tables, we can use it to look up matching records, and join the two tables.\n",
    "\n",
    "Remember from the previous lab, if we have two tables named x and y with a common column called \"ID\", we can join them using 'join' functions, two of which are described and illustrated below.\n",
    "\n",
    "* `inner_join()` : This returns all rows from x where there are matching values in y, and all columns from x and y.\n",
    "\n",
    "* `left_join()` : This return all rows from x, and all columns from x and y. Rows in x with no match in y will have NA values in the new columns.\n",
    "\n",
    "In both forms of join, if there are multiple matches between x and y, all combinations of the matches are returned. \n",
    "\n",
    "We want to join the two tables `plot` and `surveys.`\n",
    "\n",
    "<img src=\"joins.png\" width=\"400px\">\n",
    "\n",
    "To extract all surveys for the first plot, which has plot_id = 1, we can do:\n",
    "\n",
    "<br>\n",
    "<div class=\"use_editor\"></div>"
   ]
  },
  {
   "cell_type": "code",
   "execution_count": 28,
   "metadata": {},
   "outputs": [
    {
     "name": "stderr",
     "output_type": "stream",
     "text": [
      "Joining, by = \"plot_id\"\n",
      "\n"
     ]
    },
    {
     "data": {
      "text/html": [
       "<table class=\"dataframe\">\n",
       "<caption>A data.frame: 6 × 10</caption>\n",
       "<thead>\n",
       "\t<tr><th></th><th scope=col>plot_id</th><th scope=col>plot_type</th><th scope=col>record_id</th><th scope=col>month</th><th scope=col>day</th><th scope=col>year</th><th scope=col>species_id</th><th scope=col>sex</th><th scope=col>hindfoot_length</th><th scope=col>weight</th></tr>\n",
       "\t<tr><th></th><th scope=col>&lt;int&gt;</th><th scope=col>&lt;chr&gt;</th><th scope=col>&lt;int&gt;</th><th scope=col>&lt;int&gt;</th><th scope=col>&lt;int&gt;</th><th scope=col>&lt;int&gt;</th><th scope=col>&lt;chr&gt;</th><th scope=col>&lt;chr&gt;</th><th scope=col>&lt;int&gt;</th><th scope=col>&lt;int&gt;</th></tr>\n",
       "</thead>\n",
       "<tbody>\n",
       "\t<tr><th scope=row>1</th><td>1</td><td>Spectab exclosure</td><td>  6</td><td>7</td><td>16</td><td>1977</td><td>PF</td><td>M</td><td>14</td><td>NA</td></tr>\n",
       "\t<tr><th scope=row>2</th><td>1</td><td>Spectab exclosure</td><td>  8</td><td>7</td><td>16</td><td>1977</td><td>DM</td><td>M</td><td>37</td><td>NA</td></tr>\n",
       "\t<tr><th scope=row>3</th><td>1</td><td>Spectab exclosure</td><td>  9</td><td>7</td><td>16</td><td>1977</td><td>DM</td><td>F</td><td>34</td><td>NA</td></tr>\n",
       "\t<tr><th scope=row>4</th><td>1</td><td>Spectab exclosure</td><td> 78</td><td>8</td><td>19</td><td>1977</td><td>PF</td><td>M</td><td>16</td><td> 9</td></tr>\n",
       "\t<tr><th scope=row>5</th><td>1</td><td>Spectab exclosure</td><td> 80</td><td>8</td><td>19</td><td>1977</td><td>DS</td><td>M</td><td>48</td><td>NA</td></tr>\n",
       "\t<tr><th scope=row>6</th><td>1</td><td>Spectab exclosure</td><td>218</td><td>9</td><td>13</td><td>1977</td><td>PF</td><td>M</td><td>13</td><td> 4</td></tr>\n",
       "</tbody>\n",
       "</table>\n"
      ],
      "text/latex": [
       "A data.frame: 6 × 10\n",
       "\\begin{tabular}{r|llllllllll}\n",
       "  & plot\\_id & plot\\_type & record\\_id & month & day & year & species\\_id & sex & hindfoot\\_length & weight\\\\\n",
       "  & <int> & <chr> & <int> & <int> & <int> & <int> & <chr> & <chr> & <int> & <int>\\\\\n",
       "\\hline\n",
       "\t1 & 1 & Spectab exclosure &   6 & 7 & 16 & 1977 & PF & M & 14 & NA\\\\\n",
       "\t2 & 1 & Spectab exclosure &   8 & 7 & 16 & 1977 & DM & M & 37 & NA\\\\\n",
       "\t3 & 1 & Spectab exclosure &   9 & 7 & 16 & 1977 & DM & F & 34 & NA\\\\\n",
       "\t4 & 1 & Spectab exclosure &  78 & 8 & 19 & 1977 & PF & M & 16 &  9\\\\\n",
       "\t5 & 1 & Spectab exclosure &  80 & 8 & 19 & 1977 & DS & M & 48 & NA\\\\\n",
       "\t6 & 1 & Spectab exclosure & 218 & 9 & 13 & 1977 & PF & M & 13 &  4\\\\\n",
       "\\end{tabular}\n"
      ],
      "text/markdown": [
       "\n",
       "A data.frame: 6 × 10\n",
       "\n",
       "| <!--/--> | plot_id &lt;int&gt; | plot_type &lt;chr&gt; | record_id &lt;int&gt; | month &lt;int&gt; | day &lt;int&gt; | year &lt;int&gt; | species_id &lt;chr&gt; | sex &lt;chr&gt; | hindfoot_length &lt;int&gt; | weight &lt;int&gt; |\n",
       "|---|---|---|---|---|---|---|---|---|---|---|\n",
       "| 1 | 1 | Spectab exclosure |   6 | 7 | 16 | 1977 | PF | M | 14 | NA |\n",
       "| 2 | 1 | Spectab exclosure |   8 | 7 | 16 | 1977 | DM | M | 37 | NA |\n",
       "| 3 | 1 | Spectab exclosure |   9 | 7 | 16 | 1977 | DM | F | 34 | NA |\n",
       "| 4 | 1 | Spectab exclosure |  78 | 8 | 19 | 1977 | PF | M | 16 |  9 |\n",
       "| 5 | 1 | Spectab exclosure |  80 | 8 | 19 | 1977 | DS | M | 48 | NA |\n",
       "| 6 | 1 | Spectab exclosure | 218 | 9 | 13 | 1977 | PF | M | 13 |  4 |\n",
       "\n"
      ],
      "text/plain": [
       "  plot_id plot_type         record_id month day year species_id sex\n",
       "1 1       Spectab exclosure   6       7     16  1977 PF         M  \n",
       "2 1       Spectab exclosure   8       7     16  1977 DM         M  \n",
       "3 1       Spectab exclosure   9       7     16  1977 DM         F  \n",
       "4 1       Spectab exclosure  78       8     19  1977 PF         M  \n",
       "5 1       Spectab exclosure  80       8     19  1977 DS         M  \n",
       "6 1       Spectab exclosure 218       9     13  1977 PF         M  \n",
       "  hindfoot_length weight\n",
       "1 14              NA    \n",
       "2 37              NA    \n",
       "3 34              NA    \n",
       "4 16               9    \n",
       "5 48              NA    \n",
       "6 13               4    "
      ]
     },
     "metadata": {},
     "output_type": "display_data"
    }
   ],
   "source": [
    "joined_plots <- plots %>%\n",
    "  filter(plot_id == 1) %>%\n",
    "  inner_join(surveys) \n",
    "\n",
    "joined_plots %>%\n",
    "  as.data.frame() %>% \n",
    "  head()"
   ]
  },
  {
   "cell_type": "markdown",
   "metadata": {},
   "source": [
    "<span class=\"note\"></span> If we want the **full set of 1,995 observations**, we can add the function `collect()` instead. This also converts the table into a data frame without needing to use the `as.data.frame()` function.\n",
    "\n",
    "<br>\n",
    "<div class=\"use_editor\"></div>"
   ]
  },
  {
   "cell_type": "code",
   "execution_count": 29,
   "metadata": {},
   "outputs": [
    {
     "name": "stderr",
     "output_type": "stream",
     "text": [
      "Joining, by = \"plot_id\"\n",
      "\n"
     ]
    }
   ],
   "source": [
    "full_plots <- plots %>%\n",
    "  filter(plot_id == 1) %>%\n",
    "  inner_join(surveys) %>%\n",
    "  collect()"
   ]
  },
  {
   "cell_type": "markdown",
   "metadata": {},
   "source": [
    "Let's examine `full_plots`.\n",
    "\n",
    "<br>\n",
    "<div class=\"use_console\"></div>"
   ]
  },
  {
   "cell_type": "code",
   "execution_count": 30,
   "metadata": {},
   "outputs": [
    {
     "name": "stdout",
     "output_type": "stream",
     "text": [
      "tibble [1,995 x 10] (S3: tbl_df/tbl/data.frame)\n",
      " $ plot_id        : int [1:1995] 1 1 1 1 1 1 1 1 1 1 ...\n",
      " $ plot_type      : chr [1:1995] \"Spectab exclosure\" \"Spectab exclosure\" \"Spectab exclosure\" \"Spectab exclosure\" ...\n",
      " $ record_id      : int [1:1995] 6 8 9 78 80 218 222 239 263 270 ...\n",
      " $ month          : int [1:1995] 7 7 7 8 8 9 9 9 10 10 ...\n",
      " $ day            : int [1:1995] 16 16 16 19 19 13 13 13 16 16 ...\n",
      " $ year           : int [1:1995] 1977 1977 1977 1977 1977 1977 1977 1977 1977 1977 ...\n",
      " $ species_id     : chr [1:1995] \"PF\" \"DM\" \"DM\" \"PF\" ...\n",
      " $ sex            : chr [1:1995] \"M\" \"M\" \"F\" \"M\" ...\n",
      " $ hindfoot_length: int [1:1995] 14 37 34 16 48 13 52 48 37 36 ...\n",
      " $ weight         : int [1:1995] NA NA NA 9 NA 4 NA NA 40 38 ...\n"
     ]
    }
   ],
   "source": [
    "str(full_plots)"
   ]
  },
  {
   "cell_type": "markdown",
   "metadata": {},
   "source": [
    "Now we can treat `full_plots` like we would any dataframe object in R. Let's plot hindfoot_length vs weight over time by species.\n",
    "\n",
    "<br>\n",
    "<div class=\"use_editor\"></div>"
   ]
  },
  {
   "cell_type": "code",
   "execution_count": 31,
   "metadata": {},
   "outputs": [
    {
     "data": {
      "image/png": "[encoded data removed]",
      "text/plain": [
       "plot without title"
      ]
     },
     "metadata": {
      "image/png": {
       "height": 500,
       "width": 875
      }
     },
     "output_type": "display_data"
    }
   ],
   "source": [
    "full_plots %>% \n",
    "  na.omit() %>% \n",
    "  ggplot() +\n",
    "  geom_point(aes(x = weight, y = hindfoot_length, fill = species_id), shape = 21) +\n",
    "  geom_abline(aes(intercept = 0, slope = 1)) +\n",
    "  facet_wrap( ~year) +\n",
    "  theme_classic() +\n",
    "  scale_x_continuous(breaks=c(0, 100, 200))\n"
   ]
  },
  {
   "cell_type": "markdown",
   "metadata": {},
   "source": [
    "Now let's plot hindfoot_length vs weight over time by year and sex for data between the years 1977 - 1980.\n",
    "\n",
    "<br>\n",
    "<div class=\"use_editor\"></div>"
   ]
  },
  {
   "cell_type": "code",
   "execution_count": 32,
   "metadata": {},
   "outputs": [
    {
     "data": {
      "image/png": "[encoded data removed]",
      "text/plain": [
       "plot without title"
      ]
     },
     "metadata": {
      "image/png": {
       "height": 500,
       "width": 875
      }
     },
     "output_type": "display_data"
    }
   ],
   "source": [
    "full_plots %>% \n",
    "  filter(year >= 1977 & year <= 1980) %>% \n",
    "  na.omit() %>% \n",
    "  ggplot() +\n",
    "  geom_point(aes(x = weight, y = hindfoot_length, fill = species_id), shape = 21) +\n",
    "  geom_abline(aes(intercept = 0, slope = 1)) +\n",
    "  facet_grid(year ~ sex) +\n",
    "  theme_classic() +\n",
    "  scale_x_continuous(breaks=c(0, 100, 200)) +\n",
    "  scale_y_continuous(breaks=c(0, 30, 60))\n"
   ]
  },
  {
   "cell_type": "markdown",
   "metadata": {},
   "source": [
    "We can also use other `dplyr` functions like `mutate()` on database objects. Let's use the table object `joined_plots` and create a column of hindfoot_length/weight. First we'll remove rows where weight is NA using `filter(!is.na(weight))`. Next we'll add a new column called \"ratio\" and convert the table into a dataframe using `as.data.frame()`. Finally, we'll used `head()` to display the first 6 rows of the data frame.\n",
    "\n",
    "<br>\n",
    "<div class=\"use_console\"></div>"
   ]
  },
  {
   "cell_type": "code",
   "execution_count": 33,
   "metadata": {},
   "outputs": [
    {
     "data": {
      "text/html": [
       "<table class=\"dataframe\">\n",
       "<caption>A data.frame: 6 × 11</caption>\n",
       "<thead>\n",
       "\t<tr><th></th><th scope=col>plot_id</th><th scope=col>plot_type</th><th scope=col>record_id</th><th scope=col>month</th><th scope=col>day</th><th scope=col>year</th><th scope=col>species_id</th><th scope=col>sex</th><th scope=col>hindfoot_length</th><th scope=col>weight</th><th scope=col>ratio</th></tr>\n",
       "\t<tr><th></th><th scope=col>&lt;int&gt;</th><th scope=col>&lt;chr&gt;</th><th scope=col>&lt;int&gt;</th><th scope=col>&lt;int&gt;</th><th scope=col>&lt;int&gt;</th><th scope=col>&lt;int&gt;</th><th scope=col>&lt;chr&gt;</th><th scope=col>&lt;chr&gt;</th><th scope=col>&lt;int&gt;</th><th scope=col>&lt;int&gt;</th><th scope=col>&lt;int&gt;</th></tr>\n",
       "</thead>\n",
       "<tbody>\n",
       "\t<tr><th scope=row>1</th><td>1</td><td>Spectab exclosure</td><td> 78</td><td> 8</td><td>19</td><td>1977</td><td>PF</td><td>M</td><td>16</td><td> 9</td><td>1</td></tr>\n",
       "\t<tr><th scope=row>2</th><td>1</td><td>Spectab exclosure</td><td>218</td><td> 9</td><td>13</td><td>1977</td><td>PF</td><td>M</td><td>13</td><td> 4</td><td>3</td></tr>\n",
       "\t<tr><th scope=row>3</th><td>1</td><td>Spectab exclosure</td><td>263</td><td>10</td><td>16</td><td>1977</td><td>DM</td><td>M</td><td>37</td><td>40</td><td>0</td></tr>\n",
       "\t<tr><th scope=row>4</th><td>1</td><td>Spectab exclosure</td><td>270</td><td>10</td><td>16</td><td>1977</td><td>DM</td><td>F</td><td>36</td><td>38</td><td>0</td></tr>\n",
       "\t<tr><th scope=row>5</th><td>1</td><td>Spectab exclosure</td><td>285</td><td>10</td><td>16</td><td>1977</td><td>DM</td><td>M</td><td>36</td><td>53</td><td>0</td></tr>\n",
       "\t<tr><th scope=row>6</th><td>1</td><td>Spectab exclosure</td><td>352</td><td>11</td><td>12</td><td>1977</td><td>DM</td><td>M</td><td>36</td><td>40</td><td>0</td></tr>\n",
       "</tbody>\n",
       "</table>\n"
      ],
      "text/latex": [
       "A data.frame: 6 × 11\n",
       "\\begin{tabular}{r|lllllllllll}\n",
       "  & plot\\_id & plot\\_type & record\\_id & month & day & year & species\\_id & sex & hindfoot\\_length & weight & ratio\\\\\n",
       "  & <int> & <chr> & <int> & <int> & <int> & <int> & <chr> & <chr> & <int> & <int> & <int>\\\\\n",
       "\\hline\n",
       "\t1 & 1 & Spectab exclosure &  78 &  8 & 19 & 1977 & PF & M & 16 &  9 & 1\\\\\n",
       "\t2 & 1 & Spectab exclosure & 218 &  9 & 13 & 1977 & PF & M & 13 &  4 & 3\\\\\n",
       "\t3 & 1 & Spectab exclosure & 263 & 10 & 16 & 1977 & DM & M & 37 & 40 & 0\\\\\n",
       "\t4 & 1 & Spectab exclosure & 270 & 10 & 16 & 1977 & DM & F & 36 & 38 & 0\\\\\n",
       "\t5 & 1 & Spectab exclosure & 285 & 10 & 16 & 1977 & DM & M & 36 & 53 & 0\\\\\n",
       "\t6 & 1 & Spectab exclosure & 352 & 11 & 12 & 1977 & DM & M & 36 & 40 & 0\\\\\n",
       "\\end{tabular}\n"
      ],
      "text/markdown": [
       "\n",
       "A data.frame: 6 × 11\n",
       "\n",
       "| <!--/--> | plot_id &lt;int&gt; | plot_type &lt;chr&gt; | record_id &lt;int&gt; | month &lt;int&gt; | day &lt;int&gt; | year &lt;int&gt; | species_id &lt;chr&gt; | sex &lt;chr&gt; | hindfoot_length &lt;int&gt; | weight &lt;int&gt; | ratio &lt;int&gt; |\n",
       "|---|---|---|---|---|---|---|---|---|---|---|---|\n",
       "| 1 | 1 | Spectab exclosure |  78 |  8 | 19 | 1977 | PF | M | 16 |  9 | 1 |\n",
       "| 2 | 1 | Spectab exclosure | 218 |  9 | 13 | 1977 | PF | M | 13 |  4 | 3 |\n",
       "| 3 | 1 | Spectab exclosure | 263 | 10 | 16 | 1977 | DM | M | 37 | 40 | 0 |\n",
       "| 4 | 1 | Spectab exclosure | 270 | 10 | 16 | 1977 | DM | F | 36 | 38 | 0 |\n",
       "| 5 | 1 | Spectab exclosure | 285 | 10 | 16 | 1977 | DM | M | 36 | 53 | 0 |\n",
       "| 6 | 1 | Spectab exclosure | 352 | 11 | 12 | 1977 | DM | M | 36 | 40 | 0 |\n",
       "\n"
      ],
      "text/plain": [
       "  plot_id plot_type         record_id month day year species_id sex\n",
       "1 1       Spectab exclosure  78        8    19  1977 PF         M  \n",
       "2 1       Spectab exclosure 218        9    13  1977 PF         M  \n",
       "3 1       Spectab exclosure 263       10    16  1977 DM         M  \n",
       "4 1       Spectab exclosure 270       10    16  1977 DM         F  \n",
       "5 1       Spectab exclosure 285       10    16  1977 DM         M  \n",
       "6 1       Spectab exclosure 352       11    12  1977 DM         M  \n",
       "  hindfoot_length weight ratio\n",
       "1 16               9     1    \n",
       "2 13               4     3    \n",
       "3 37              40     0    \n",
       "4 36              38     0    \n",
       "5 36              53     0    \n",
       "6 36              40     0    "
      ]
     },
     "metadata": {},
     "output_type": "display_data"
    }
   ],
   "source": [
    "joined_plots %>%\n",
    "  filter(!is.na(weight)) %>% \n",
    "  mutate(ratio = hindfoot_length/weight) %>% \n",
    "  as.data.frame() %>% \n",
    "  head()"
   ]
  },
  {
   "cell_type": "markdown",
   "metadata": {},
   "source": [
    "<img src=\"complexquerie.png\" width=\"700px\">\n",
    "\n",
    "All these manipulations occur without physical download of the data, by translating your code into SQL in the background. Since data download is often the most time consuming step, this allows you to think about how much work you want to get done on the server before you pull the data. When you are ready to pull the data, you just use `collect()`. This will send the background compiled SQL query to the database and execute it. "
   ]
  },
  {
   "cell_type": "markdown",
   "metadata": {},
   "source": [
    "<div class=\"Q\"><br>\n",
    "\n",
    "What does he function <b>head()</b> do?\n",
    "    \n",
    "ANSWER: returns the first 6 rows of the dataframe.\n",
    "    \n",
    "    options: returns all rows in the dataframe\n",
    "             returns only the first 10 rows arranged in descending order\n",
    "             All of the above\n",
    "             \n",
    "    \n",
    "<br><br><div class=\"qhelp\"></div>"
   ]
  },
  {
   "cell_type": "markdown",
   "metadata": {},
   "source": [
    "<div class=\"Q\"><br>\n",
    "\n",
    "<b>inner_join</b> returns:\n",
    "    \n",
    "ANSWER: all rows from x where there are matching values in y, and all columns from x and y\n",
    "    \n",
    "    options:all rows from both x and y\n",
    "            all rows from x and columns from y\n",
    "            All of the above\n",
    "     \n",
    "    \n",
    "<br><br><div class=\"qhelp\"></div>"
   ]
  },
  {
   "cell_type": "markdown",
   "metadata": {},
   "source": [
    "<div class=\"Q\"><br>\n",
    "\n",
    "TRUE or FALSE: <b>left_join</b> will remove all entries without observations (no data).\n",
    "    \n",
    "ANSWER: FALSE\n",
    "<br><br><div class=\"qhelp\"></div>"
   ]
  },
  {
   "cell_type": "markdown",
   "metadata": {},
   "source": [
    "<div class=\"Q\"><br><br>\n",
    "  \n",
    "<span class=\"TODO\"> This question may be hard to answer in multiple choice. Maybe Delete question???</span>\n",
    "    \n",
    "What would the code that returns the number of rodents observed in each plot in each year look like in dplyr syntax?\n",
    "\n",
    "Hint: Connect to the species table and write a query that joins the species and survey tables together to exclude all non-rodents. The query should return counts of rodents by year.\n",
    "\n",
    "Answer : species <- tbl(mammals, \"species\")\n",
    "\n",
    "left_join(surveys, species) %>%\n",
    "  filter(taxa == \"Rodent\") %>%\n",
    "  group_by(taxa, year) %>%\n",
    "  tally %>%\n",
    "  collect()\n",
    "    \n",
    "    \n",
    "  options: a)species <- lst(mammals, \"species\")\n",
    "             \n",
    "              join(surveys, species) %>%\n",
    "              filter(taxa == \"Rodent\") %>%\n",
    "              group_by(taxa, year)\n",
    "    \n",
    "           b)species <- tbl(mammals, \"species\")\n",
    "\n",
    "           left_join(surveys, species) %>%\n",
    "           filter(taxa == \"Rodent\") %>%\n",
    "           group_by(taxa, year) %>%\n",
    "           collect() \n",
    "    \n",
    "          c)species <- df(mammals, \"species\")\n",
    "\n",
    "          inner_join(surveys, species) %>%\n",
    "          filter(taxa == \"Rodent\") %>%\n",
    "          group_by(taxa, year) %>%\n",
    "          tally %>%\n",
    "          collect() \n",
    "    \n",
    "               \n",
    "\n",
    "<br><br><div class=\"qhelp\"></div>"
   ]
  },
  {
   "cell_type": "markdown",
   "metadata": {},
   "source": [
    "<div class=\"Q\"><br><br>\n",
    "    \n",
    "<span class=\"TODO\"> This question may be hard to answer in multiple choice. Maybe Delete question???</span>\n",
    "    \n",
    "What would the code that returns the total number of rodents in each genus caught in the different plot types look like in dplyr syntax?\n",
    "\n",
    "Hint: Write a query that joins the species, plot, and survey tables together. The query should return counts of genus by plot type.\n",
    "\n",
    "Answer : species <- tbl(mammals, \"species\")\n",
    "         genus_counts <- left_join(surveys, plots) %>%\n",
    "                         left_join(species) %>%\n",
    "                         filter(taxa == \"Rodent\") %>%\n",
    "                         group_by(plot_type, genus) %>%\n",
    "                         tally %>%\n",
    "                         collect()\n",
    "    \n",
    "    \n",
    "    options: a) species <- tbl(mammals, \"species\")\n",
    "                genus_counts <- left_join(surveys, plots) %>%\n",
    "                                inner_join(species) %>%\n",
    "                                filter(taxa == \"Rodent\") %>%\n",
    "                                group_by(plot_type, genus) %>%\n",
    "                                tally %>%\n",
    "                                collect()\n",
    "\n",
    "    \n",
    "             b) species <- tbl(mammals, \"species\")\n",
    "                genus_counts <- left_join(surveys, plots) %>%\n",
    "                inner_join(species) %>%\n",
    "                filter(taxa == \"Rodent\") %>%\n",
    "                group_by(genus) %>%\n",
    "                tally %>%\n",
    "                collect()\n",
    "    \n",
    "             c) species <- tbl(mammals, \"species\")\n",
    "                genus_counts <- left_join(surveys, plots) %>%\n",
    "                left_join(species) %>%\n",
    "                filter(taxa == \"Rodent\") %>%\n",
    "                group_by(genus) %>%\n",
    "                tally %>%\n",
    "                collect()\n",
    "\n",
    "<br><br><div class=\"qhelp\"></div>"
   ]
  },
  {
   "cell_type": "markdown",
   "metadata": {},
   "source": [
    "# Diving deeper into databases\n",
    "\n",
    "Now that we have a basic idea of how R and SQL talk to each other, let's take a look at connecting to different databases.\n",
    "\n",
    "## Example 1: Treebase\n",
    "\n",
    "Let's take a look at the TreeBASE database. We will use the `treebase` package described in [Boettiger & Lang, 2012](https://besjournals.onlinelibrary.wiley.com/doi/full/10.1111/j.2041-210X.2012.00247.x). `treebase` queries this API directly rather than the [treebase.org](https://www.treebase.org/treebase-web/home.html;jsessionid=7742E042060186616AA1F369A345ED8F) website. TreeBASE is a repository of phylogenetic information, specifically user-submitted phylogenetic trees and the data used to generate them.\n",
    "\n",
    "TreeBASE provides two APIs to query the database, one which searches by the metadata associated with different publications (called OAI-PMH), and another which queries the phylogenies directly (called Phylo-ws).  They have somewhat redundant functions, but for our purposes the second one returns the actual data, while the first returns metadata.  \n",
    "\n",
    "Let's install the `treebase` package directly from github. \n",
    "\n",
    "<br>\n",
    "<div class=\"use_console\"></div>"
   ]
  },
  {
   "cell_type": "code",
   "execution_count": null,
   "metadata": {
    "scrolled": true
   },
   "outputs": [],
   "source": [
    "library(devtools)\n",
    "\n",
    "install_github(\"ropensci/treebase\")"
   ]
  },
  {
   "cell_type": "markdown",
   "metadata": {},
   "source": [
    "Then let's load the required packages into our workspace.\n",
    "\n",
    "<br>\n",
    "<div class=\"use_editor\"></div>"
   ]
  },
  {
   "cell_type": "code",
   "execution_count": null,
   "metadata": {},
   "outputs": [],
   "source": [
    "library(treebase)\n",
    "\n",
    "library(ggplot2)\n",
    "\n",
    "library(tidyverse)"
   ]
  },
  {
   "cell_type": "markdown",
   "metadata": {},
   "source": [
    "We start with some queries of the metadata directly without downloading any trees. Let’s search the database for data from the author Huelsenbeck.\n",
    "\n",
    "Queries available in `search_treebase()`. The first argument is the keyword used in the query such as an author's name and the second argument indicates the type of query (i.e. \"author\").\n",
    "\n",
    "<br>\n",
    "<div class=\"use_editor\"></div>"
   ]
  },
  {
   "cell_type": "code",
   "execution_count": null,
   "metadata": {
    "scrolled": true
   },
   "outputs": [],
   "source": [
    "Phylogenies_from_Huelsenbeck <- search_treebase(\"Huelsenbeck\", \"author\")"
   ]
  },
  {
   "cell_type": "code",
   "execution_count": 37,
   "metadata": {},
   "outputs": [
    {
     "name": "stdout",
     "output_type": "stream",
     "text": [
      "List of 2\n",
      " $ :List of 9\n",
      "  ..$ edge     : int [1:61, 1:2] 33 33 34 35 36 37 37 36 38 38 ...\n",
      "  ..$ Nnode    : int 30\n",
      "  ..$ tip.label: chr [1:32] \"Ibalia\" \"Isocolus\" \"Aulacidea\" \"Panteliella\" ...\n",
      "  ..$ S.id     : chr \"1070\"\n",
      "  ..$ Tr.id    : chr \"5846\"\n",
      "  ..$ type     : chr \"Single\"\n",
      "  ..$ kind     : chr \"Species Tree\"\n",
      "  ..$ quality  : chr \"Unrated\"\n",
      "  ..$ ntax     : chr \"32\"\n",
      "  ..- attr(*, \"class\")= chr \"phylo\"\n",
      "  ..- attr(*, \"order\")= chr \"cladewise\"\n",
      " $ :List of 9\n",
      "  ..$ edge     : int [1:93, 1:2] 51 51 52 53 53 52 54 55 56 57 ...\n",
      "  ..$ Nnode    : int 44\n",
      "  ..$ tip.label: chr [1:50] \"Acraea_andromacha\" \"Actinote_genitrix\" \"Actinote_stratonice\" \"Anthocharis_midea\" ...\n",
      "  ..$ S.id     : chr \"1915\"\n",
      "  ..$ Tr.id    : chr \"4975\"\n",
      "  ..$ type     : chr \"Consensus\"\n",
      "  ..$ kind     : chr \"Species Tree\"\n",
      "  ..$ quality  : chr \"Unrated\"\n",
      "  ..$ ntax     : chr \"50\"\n",
      "  ..- attr(*, \"class\")= chr \"phylo\"\n",
      "  ..- attr(*, \"order\")= chr \"cladewise\"\n"
     ]
    }
   ],
   "source": [
    "str(Phylogenies_from_Huelsenbeck)"
   ]
  },
  {
   "cell_type": "markdown",
   "metadata": {},
   "source": [
    "Data discovery involves searching for existing data that meets certain desired characteristics. The Web repository uses separate interfaces (APIs) to access metadata describing the publications associated with the data entered (i.e. publisher, year of publication, etc.) and a different interface to describe the metadata associated with an individual phylogeny (i.e. the number of taxa or the kind of tree). The `treebase` package can query these individual sources of metadata separately.\n",
    "\n",
    "We can also look at all the available metadata from  a certain date range in Treebase using the `download_metadata()` function.\n",
    "\n",
    "Let's get all submissions from 2009 - present.\n",
    "\n",
    "<br>\n",
    "<div class=\"use_editor\"></div>"
   ]
  },
  {
   "cell_type": "code",
   "execution_count": null,
   "metadata": {},
   "outputs": [],
   "source": [
    "# get all trees from a certain depostition date forwards\n",
    "\n",
    "meta <- download_metadata(\"2009-01-01\", by=\"until\")\n",
    "\n",
    "# extract any metadata (i.e. publication date)\n",
    "\n",
    "dates <- sapply(meta, function(x) as.numeric(x$date))"
   ]
  },
  {
   "cell_type": "markdown",
   "metadata": {},
   "source": [
    "Let's look at trends in the growth of the database over time.\n",
    "\n",
    "<br>\n",
    "<div class=\"use_editor\"></div>"
   ]
  },
  {
   "cell_type": "code",
   "execution_count": 39,
   "metadata": {
    "scrolled": false
   },
   "outputs": [
    {
     "data": {
      "image/png": "[encoded data removed]",
      "text/plain": [
       "Plot with title \"TreeBase growth\""
      ]
     },
     "metadata": {
      "image/png": {
       "height": 500,
       "width": 875
      }
     },
     "output_type": "display_data"
    }
   ],
   "source": [
    "hist(dates, main=\"TreeBase growth\", xlab=\"Year\")"
   ]
  },
  {
   "cell_type": "markdown",
   "metadata": {},
   "source": [
    "We can also show authors with the most submissions in that date range.\n",
    "\n",
    "<br>\n",
    "<div class=\"use_editor\"></div>"
   ]
  },
  {
   "cell_type": "code",
   "execution_count": 40,
   "metadata": {
    "scrolled": false
   },
   "outputs": [
    {
     "data": {
      "text/html": [
       "<style>\n",
       ".dl-inline {width: auto; margin:0; padding: 0}\n",
       ".dl-inline>dt, .dl-inline>dd {float: none; width: auto; display: inline-block}\n",
       ".dl-inline>dt::after {content: \":\\0020\"; padding-right: .5ex}\n",
       ".dl-inline>dt:not(:first-of-type) {padding-left: .5ex}\n",
       "</style><dl class=dl-inline><dt>Crous, Pedro</dt><dd>68</dd><dt>Wingfield, Michael</dt><dd>54</dd><dt><span style=white-space:pre-wrap>Groenewald,  Johannes (Ewald)</span></dt><dd>40</dd><dt>Donoghue, Michael</dt><dd>35</dd><dt>Wingfield, Brenda</dt><dd>30</dd><dt>Hibbett, David S.</dt><dd>29</dd></dl>\n"
      ],
      "text/latex": [
       "\\begin{description*}\n",
       "\\item[Crous, Pedro] 68\n",
       "\\item[Wingfield, Michael] 54\n",
       "\\item[Groenewald,  Johannes (Ewald)] 40\n",
       "\\item[Donoghue, Michael] 35\n",
       "\\item[Wingfield, Brenda] 30\n",
       "\\item[Hibbett, David S.] 29\n",
       "\\end{description*}\n"
      ],
      "text/markdown": [
       "Crous, Pedro\n",
       ":   68Wingfield, Michael\n",
       ":   54<span style=white-space:pre-wrap>Groenewald,  Johannes (Ewald)</span>\n",
       ":   40Donoghue, Michael\n",
       ":   35Wingfield, Brenda\n",
       ":   30Hibbett, David S.\n",
       ":   29\n",
       "\n"
      ],
      "text/plain": [
       "                 Crous, Pedro            Wingfield, Michael \n",
       "                           68                            54 \n",
       "Groenewald,  Johannes (Ewald)             Donoghue, Michael \n",
       "                           40                            35 \n",
       "            Wingfield, Brenda             Hibbett, David S. \n",
       "                           30                            29 "
      ]
     },
     "metadata": {},
     "output_type": "display_data"
    }
   ],
   "source": [
    "authors <- sapply(meta, function(x){\n",
    "   index <- grep( \"creator\", names(x))\n",
    "     x[index] \n",
    "})\n",
    "\n",
    "a <- as.factor(unlist(authors))\n",
    "\n",
    "head(summary(a))"
   ]
  },
  {
   "cell_type": "markdown",
   "metadata": {},
   "source": [
    "What about if we look at journal submissions by volume. First let's load the publisher metadata from meta object\n",
    "\n",
    "<br>\n",
    "<div class=\"use_editor\"></div>"
   ]
  },
  {
   "cell_type": "code",
   "execution_count": 41,
   "metadata": {},
   "outputs": [],
   "source": [
    "journals <- sapply(meta, function(x) x$publisher)"
   ]
  },
  {
   "cell_type": "markdown",
   "metadata": {},
   "source": [
    "Then let's \"unpack\" the list of journals and sort them, keeping only the last 5 journals.\n",
    "\n",
    "<br>\n",
    "<div class=\"use_editor\"></div>"
   ]
  },
  {
   "cell_type": "code",
   "execution_count": 42,
   "metadata": {},
   "outputs": [],
   "source": [
    "J <- tail(sort(table(as.factor(unlist(journals)))),5)                 "
   ]
  },
  {
   "cell_type": "markdown",
   "metadata": {},
   "source": [
    "Finally, let's plot the object `J` as a barplot.\n",
    "\n",
    "<br>\n",
    "<div class=\"use_editor\"></div>"
   ]
  },
  {
   "cell_type": "code",
   "execution_count": 43,
   "metadata": {},
   "outputs": [
    {
     "data": {
      "image/png": "[encoded data removed]",
      "text/plain": [
       "plot without title"
      ]
     },
     "metadata": {
      "image/png": {
       "height": 500,
       "width": 875
      }
     },
     "output_type": "display_data"
    }
   ],
   "source": [
    "b <- barplot(as.numeric(J))\n",
    "                   \n",
    "text(b, names(J), srt=70, pos=4, xpd=T)"
   ]
  },
  {
   "cell_type": "markdown",
   "metadata": {},
   "source": [
    "### Tests across many phylogenies\n",
    "\n",
    "A standard test of the constant rate of diversification is the gamma statistic of [Pybus & Harvey (2009)](https://besjournals.onlinelibrary.wiley.com/doi/full/10.1111/j.2041-210X.2012.00247.x#mee3247-bib-0030) which tests the null hypothesis that the rates of speciation and extinction are constant. Under the null hypothesis, the gamma statistic is normally distributed about 0; values larger than 0 indicate that internal nodes are closer to the tip than expected, while values smaller than 0 indicate nodes farther from the tip than expected. \n",
    "\n",
    "We will collect all phylogenetic trees from TreeBASE and select those with branch length data that we can time‐calibrate using tools available in R. We can then calculate the distribution of this statistic for all available trees and compare these results with those from the analyses mentioned above.\n",
    "\n",
    "For certain applications, we may wish to download all the available phylogenies from `TreeBASE`. Using the `cache_treebase()` function allows a user to download a local copy of all trees. Because direct database dumps are not currently available from treebase.org, this function has intentional delays to avoid overtaxing the TreeBASE servers and will take **a full day to run**.\n"
   ]
  },
  {
   "cell_type": "markdown",
   "metadata": {},
   "source": [
    "    treebase <− cache_treebase()"
   ]
  },
  {
   "cell_type": "markdown",
   "metadata": {},
   "source": [
    "Once run, the cache is saved compactly in memory where it can be easily and quickly restored. For convenience, we will load the <span class=\"file\">treebase.Rdata</span> object which contains a copy of all the data already cached, which can be loaded into memory.\n",
    "\n",
    " \n",
    "<br>\n",
    "<div class=\"use_editor\"></div>"
   ]
  },
  {
   "cell_type": "code",
   "execution_count": 44,
   "metadata": {},
   "outputs": [],
   "source": [
    "load(\"data_raw/treebase.RData\")"
   ]
  },
  {
   "cell_type": "markdown",
   "metadata": {},
   "source": [
    "<div class=\"Q\"><br><br>\n",
    "\n",
    "How many elements/rows does `treebase` have?\n",
    "    \n",
    "Answer:8631\n",
    "    \n",
    "<br><br><div class=\"qhelp\"></div>"
   ]
  },
  {
   "cell_type": "markdown",
   "metadata": {},
   "source": [
    "<div class=\"Q\"><br><br>\n",
    "What does `treebase` contain?\n",
    "    \n",
    "Answer:Cached data of the whole database \n",
    "    \n",
    "    options: A link to the TreeBase website\n",
    "             A link to the raw data\n",
    "             Cached data of selected tree species only\n",
    "    \n",
    "<br><br><div class=\"qhelp\"></div>"
   ]
  },
  {
   "cell_type": "markdown",
   "metadata": {},
   "source": [
    "<div class=\"Q\"><br><br>\n",
    "What is a cache of the database?\n",
    "    \n",
    "Answer:A local copy of the database.\n",
    "    \n",
    "    options: A link to the TreeBase website\n",
    "             A link to the raw data\n",
    "             A copy of the database stored externally in the cloud or on a server\n",
    "    \n",
    "<br><br><div class=\"qhelp\"></div>"
   ]
  },
  {
   "cell_type": "markdown",
   "metadata": {},
   "source": [
    "<div class=\"Q\"><br><br>\n",
    "Why would you want to create a cache of the database?\n",
    "    \n",
    "Answer:To avoid calling/accessing the server repeatedly.\n",
    "    \n",
    "    options: To access a limited dataset\n",
    "             To create repetitive function calls\n",
    "             To create a loop for functions applied to the whole dataset\n",
    "    \n",
    "<br><br><div class=\"qhelp\"></div>"
   ]
  },
  {
   "cell_type": "markdown",
   "metadata": {},
   "source": [
    "We will only be able to use those phylogenies that include branch length data, which we can determine from the `have_branchlength` function in the treebase package. We drop those that do not from the data set.\n",
    "\n",
    "For simplicity, we will use the first 200 entries of the database only. Let's load the cached data.\n",
    "\n",
    "<br>\n",
    "<div class=\"use_editor\"></div>"
   ]
  },
  {
   "cell_type": "code",
   "execution_count": 45,
   "metadata": {},
   "outputs": [],
   "source": [
    "have <- have_branchlength(treebase) \n",
    "\n",
    "branchlengths <- treebase[have][c(1:200)]"
   ]
  },
  {
   "cell_type": "markdown",
   "metadata": {},
   "source": [
    "<div class=\"Q\"><br><br>\n",
    "What type/class of object is `branchlentghs`?\n",
    "    \n",
    "Answer: List (lst)\n",
    "      \n",
    "    options: Table (tbl)\n",
    "             dataframe (df)\n",
    "             tibble\n",
    "    \n",
    "<br><br><div class=\"qhelp\"></div>"
   ]
  },
  {
   "cell_type": "markdown",
   "metadata": {},
   "source": [
    "<div class=\"Q\"><br><br>\n",
    "    \n",
    "How many elements/rows does `branchlengths` have?\n",
    "    \n",
    "Answer:200\n",
    "    \n",
    "<br><br><div class=\"qhelp\"></div>"
   ]
  },
  {
   "cell_type": "markdown",
   "metadata": {},
   "source": [
    "This analysis will require ultrametric trees (branch lengths proportional to time, rather than to the nucleotide substitution rate). As most of these phylogenies are calibrated with branch length proportional to mutational step, we must time‐calibrate each of them first. The following function drops trees that cannot meet the assumptions of the time‐calibration function.\n",
    "\n",
    "<br>\n",
    "<div class=\"use_editor\"></div>"
   ]
  },
  {
   "cell_type": "code",
   "execution_count": null,
   "metadata": {
    "scrolled": true
   },
   "outputs": [],
   "source": [
    "#time calibration function\n",
    "timetree <- function(tree){\n",
    "    try(chronoMPL(multi2di(tree)), \n",
    "        silent=TRUE)}\n",
    "\n",
    "#cleaned data\n",
    "tt <- drop_nontrees(sapply(branchlengths,timetree))"
   ]
  },
  {
   "cell_type": "markdown",
   "metadata": {},
   "source": [
    "Let's take a look at our cleaned data `tt`.\n",
    "\n",
    "<br>\n",
    "<div class=\"use_console\"></div>"
   ]
  },
  {
   "cell_type": "code",
   "execution_count": 47,
   "metadata": {},
   "outputs": [
    {
     "name": "stdout",
     "output_type": "stream",
     "text": [
      "List of 199\n",
      " $ :List of 11\n",
      "  ..$ edge       : int [1:176, 1:2] 90 91 92 93 94 95 96 97 98 99 ...\n",
      "  ..$ Nnode      : int 88\n",
      "  ..$ tip.label  : chr [1:89] \"Ichneumon_cf_minutorius_6_8\" \"Collyria_trichophthalma_5_16\" \"Bioblapsis_cultiformis_2D12\" \"Homotropus_cf_lissosoma_5_22\" ...\n",
      "  ..$ edge.length: num [1:176] -0.0077 0.1043 0.0919 -0.0116 0.1381 ...\n",
      "  ..$ node.label : chr [1:88] \"\" \"\" \"0.82\" \"0.81\" ...\n",
      "  ..$ S.id       : chr \"11589\"\n",
      "  ..$ Tr.id      : chr \"46300\"\n",
      "  ..$ type       : chr \"Consensus\"\n",
      "  ..$ kind       : chr \"Species Tree\"\n",
      "  ..$ quality    : chr \"Unrated\"\n",
      "  ..$ ntax       : chr \"89\"\n",
      "  ..- attr(*, \"class\")= chr \"phylo\"\n",
      "  ..- attr(*, \"order\")= chr \"cladewise\"\n",
      "  ..- attr(*, \"stderr\")= num [1:88] 0.702 0.71 0.639 0.567 0.58 ...\n",
      "  ..- attr(*, \"Pval\")= num [1:88] 0.445 0.731 0.726 0.487 0.555 ...\n",
      " $ :List of 11\n",
      "  ..$ edge       : int [1:238, 1:2] 121 122 122 121 123 124 125 126 127 128 ...\n",
      "  ..$ Nnode      : int 119\n",
      "  ..$ tip.label  : chr [1:120] \"Rhipsalis_elliptica_CA022\" \"Rhipsalis_elliptica_CA023\" \"Rhipsalis_micrantha_micrantha_CA027\" \"Rhipsalis_micrantha_micrantha_CA028_PE\" ...\n",
      "  ..$ edge.length: num [1:238] 0.592 0.777 0.777 -0.01 0.401 ...\n",
      "  ..$ node.label : chr [1:119] \"\" \"\" \"\" \"1.0\" ...\n",
      "  ..$ S.id       : chr \"11416\"\n",
      "  ..$ Tr.id      : chr \"49244\"\n",
      "  ..$ type       : chr \"Consensus\"\n",
      "  ..$ kind       : chr \"Species Tree\"\n",
      "  ..$ quality    : chr \"Unrated\"\n",
      "  ..$ ntax       : chr \"120\"\n",
      "  ..- attr(*, \"class\")= chr \"phylo\"\n",
      "  ..- attr(*, \"order\")= chr \"cladewise\"\n",
      "  ..- attr(*, \"stderr\")= num [1:119] 0.852 0.623 0.867 0.604 0.631 ...\n",
      "  ..- attr(*, \"Pval\")= num [1:119] 0.573 0.919 0.566 0.866 0.873 ...\n",
      " $ :List of 10\n",
      "  ..$ edge       : int [1:36, 1:2] 20 21 22 23 24 24 25 26 26 25 ...\n",
      "  ..$ Nnode      : int 18\n",
      "  ..$ tip.label  : chr [1:19] \"'PhytophthoracinnamomicinnamomiSTEU6255-6066'\" \"Phytophthora_cinnamomi_AY302181\" \"Phytophthora_cinnamomi_AY302176\" \"Phytophthora_cinnamomi_AY964101\" ...\n",
      "  ..$ edge.length: num [1:36] 6.66 21.26 18.17 30.73 2.6 ...\n",
      "  ..$ S.id       : chr \"10489\"\n",
      "  ..$ Tr.id      : chr \"25328\"\n",
      "  ..$ type       : chr \"Single\"\n",
      "  ..$ kind       : chr \"Species Tree\"\n",
      "  ..$ quality    : chr \"Unrated\"\n",
      "  ..$ ntax       : chr \"19\"\n",
      "  ..- attr(*, \"class\")= chr \"phylo\"\n",
      "  ..- attr(*, \"order\")= chr \"cladewise\"\n",
      "  ..- attr(*, \"stderr\")= num [1:18] 5.778 5.515 4.846 4.022 0.721 ...\n",
      "  ..- attr(*, \"Pval\")= num [1:18] 1.86e-07 9.12e-03 2.01e-01 5.21e-01 1.31e-01 ...\n",
      " $ :List of 10\n",
      "  ..$ edge       : int [1:190, 1:2] 97 98 99 100 101 102 102 101 100 103 ...\n",
      "  ..$ Nnode      : int 95\n",
      "  ..$ tip.label  : chr [1:96] \"Plectosphaerella_delsorboi_AB266250\" \"Plectosphaerella_delsorboi_AB264788\" \"Plectosphaerella_delsorboi_CBS_116708\" \"Plectosphaerella_alismatis_AY572021\" ...\n",
      "  ..$ edge.length: num [1:190] -0.78 0.197 24.628 20.3 -0.167 ...\n",
      "  ..$ S.id       : chr \"12518\"\n",
      "  ..$ Tr.id      : chr \"51741\"\n",
      "  ..$ type       : chr \"Single\"\n",
      "  ..$ kind       : chr \"Species Tree\"\n",
      "  ..$ quality    : chr \"Unrated\"\n",
      "  ..$ ntax       : chr \"96\"\n",
      "  ..- attr(*, \"class\")= chr \"phylo\"\n",
      "  ..- attr(*, \"order\")= chr \"cladewise\"\n",
      "  ..- attr(*, \"stderr\")= num [1:95] 5.359 5.472 5.501 3.858 0.333 ...\n",
      "  ..- attr(*, \"Pval\")= num [1:95] 1.20e-09 9.07e-10 7.72e-01 4.31e-01 3.17e-01 ...\n",
      " $ :List of 11\n",
      "  ..$ edge       : int [1:78, 1:2] 41 42 43 44 45 45 44 43 46 47 ...\n",
      "  ..$ Nnode      : int 39\n",
      "  ..$ tip.label  : chr [1:40] \"Sphyracephala_munroi\" \"Sphyracephala_europaea\" \"Sphyracephala_brevicornis\" \"Sphyracephala_bipunctipennis\" ...\n",
      "  ..$ edge.length: num [1:78] 0.1039 0.1628 0.0361 0.0212 0.0217 ...\n",
      "  ..$ node.label : chr [1:39] \"\" \"100\" \"52\" \"48\" ...\n",
      "  ..$ S.id       : chr \"10411\"\n",
      "  ..$ Tr.id      : chr \"7876\"\n",
      "  ..$ type       : chr \"Single\"\n",
      "  ..$ kind       : chr \"Species Tree\"\n",
      "  ..$ quality    : chr \"Preferred Tree\"\n",
      "  ..$ ntax       : chr \"40\"\n",
      "  ..- attr(*, \"class\")= chr \"phylo\"\n",
      "  ..- attr(*, \"stderr\")= num [1:39] 0.443 0.318 0.146 0.14 0.104 ...\n",
      "  ..- attr(*, \"Pval\")= num [1:39] 0.677 0.73 0.833 0.977 0.983 ...\n",
      " $ :List of 10\n",
      "  ..$ edge       : int [1:82, 1:2] 43 44 44 43 45 46 47 48 48 49 ...\n",
      "  ..$ Nnode      : int 41\n",
      "  ..$ tip.label  : chr [1:42] \"Neofusicoccum_australe_CMW6837\" \"Neofusicoccum_australe_CMW9072_AY339268\" \"Neofusicoccum_parvum_CMW6235_AY615128\" \"Neofusicoccum_parvum_MUCC673_EU339520\" ...\n",
      "  ..$ edge.length: num [1:82] 392.8 100 100 80.4 249.5 ...\n",
      "  ..$ S.id       : chr \"10644\"\n",
      "  ..$ Tr.id      : chr \"19959\"\n",
      "  ..$ type       : chr \"Consensus\"\n",
      "  ..$ kind       : chr \"Species Tree\"\n",
      "  ..$ quality    : chr \"Preferred Tree\"\n",
      "  ..$ ntax       : chr \"42\"\n",
      "  ..- attr(*, \"class\")= chr \"phylo\"\n",
      "  ..- attr(*, \"order\")= chr \"cladewise\"\n",
      "  ..- attr(*, \"stderr\")= num [1:41] 14.35 7.07 11.27 7.75 8.63 ...\n",
      "  ..- attr(*, \"Pval\")= num [1:41] 1.29e-135 1.00 1.62e-26 8.09e-08 6.78e-09 ...\n",
      " $ :List of 10\n",
      "  ..$ edge       : int [1:318, 1:2] 161 162 162 161 163 163 164 164 165 165 ...\n",
      "  ..$ Nnode      : int 159\n",
      "  ..$ tip.label  : chr [1:160] \"Chlidophyllon_kaspar\" \"Pyrophyllon_subtumens\" \"Smithora_naiadum\" \"Minerva_aenigmata\" ...\n",
      "  ..$ edge.length: num [1:318] 0.6278 0.0432 0.0432 0.0728 0.5982 ...\n",
      "  ..$ S.id       : chr \"11223\"\n",
      "  ..$ Tr.id      : chr \"29854\"\n",
      "  ..$ type       : chr \"Consensus\"\n",
      "  ..$ kind       : chr \"Species Tree\"\n",
      "  ..$ quality    : chr \"Unrated\"\n",
      "  ..$ ntax       : chr \"160\"\n",
      "  ..- attr(*, \"class\")= chr \"phylo\"\n",
      "  ..- attr(*, \"order\")= chr \"cladewise\"\n",
      "  ..- attr(*, \"stderr\")= num [1:159] 0.758 0.147 0.713 0.32 0.273 ...\n",
      "  ..- attr(*, \"Pval\")= num [1:159] 0.416 0.962 0.486 0.665 0.851 ...\n",
      " $ :List of 11\n",
      "  ..$ edge       : int [1:20, 1:2] 12 12 13 14 14 15 15 16 16 13 ...\n",
      "  ..$ Nnode      : int 10\n",
      "  ..$ tip.label  : chr [1:11] \"Inocybe_geophylla\" \"Simocybe_serrulata\" \"Crepidotus_tennesseensis\" \"Crepidotus_calolepis\" ...\n",
      "  ..$ edge.length: num [1:20] 0.2873 0.1513 -0.0146 0.1506 0.0448 ...\n",
      "  ..$ node.label : chr [1:10] \"\" \"\" \"0.51\" \"0.83\" ...\n",
      "  ..$ S.id       : chr \"11593\"\n",
      "  ..$ Tr.id      : chr \"46315\"\n",
      "  ..$ type       : chr \"Consensus\"\n",
      "  ..$ kind       : chr \"Species Tree\"\n",
      "  ..$ quality    : chr \"Unrated\"\n",
      "  ..$ ntax       : chr \"11\"\n",
      "  ..- attr(*, \"class\")= chr \"phylo\"\n",
      "  ..- attr(*, \"order\")= chr \"cladewise\"\n",
      "  ..- attr(*, \"stderr\")= num [1:10] 0.4193 0.2178 0.2427 0.2358 0.0704 ...\n",
      "  ..- attr(*, \"Pval\")= num [1:10] 0.824 0.868 0.89 0.977 0.984 ...\n",
      " $ :List of 10\n",
      "  ..$ edge       : int [1:48, 1:2] 26 27 28 28 29 29 30 31 31 32 ...\n",
      "  ..$ Nnode      : int 24\n",
      "  ..$ tip.label  : chr [1:25] \"Carabus_cancellatus_ROMA94106\" \"Carabus_monilis_SAOU1538\" \"Carabus_morbillosus_MAZA5908\" \"Carabus_morbillosus_TUNC1624\" ...\n",
      "  ..$ edge.length: num [1:48] 4.58 6.92 14.25 5.26 8.99 ...\n",
      "  ..$ S.id       : chr \"12410\"\n",
      "  ..$ Tr.id      : chr \"51099\"\n",
      "  ..$ type       : chr \"Single\"\n",
      "  ..$ kind       : chr \"Species Tree\"\n",
      "  ..$ quality    : chr \"Unrated\"\n",
      "  ..$ ntax       : chr \"25\"\n",
      "  ..- attr(*, \"class\")= chr \"phylo\"\n",
      "  ..- attr(*, \"stderr\")= num [1:24] 2.71 2.31 2.64 1.77 1.62 ...\n",
      "  ..- attr(*, \"Pval\")= num [1:24] 1 1 1 1 1 ...\n",
      " $ :List of 10\n",
      "  ..$ edge       : int [1:50, 1:2] 27 28 29 30 30 29 31 31 32 32 ...\n",
      "  ..$ Nnode      : int 25\n",
      "  ..$ tip.label  : chr [1:26] \"Amytornis_merrotsyi_1a\" \"Amytornis_textilis_1a\" \"Amytornis_barbatus_3a\" \"Amytornis_goyderi_1a\" ...\n",
      "  ..$ edge.length: num [1:50] 0.0507 0.02549 0.00491 0.01577 0.01577 ...\n",
      "  ..$ S.id       : chr \"11849\"\n",
      "  ..$ Tr.id      : chr \"48412\"\n",
      "  ..$ type       : chr \"Single\"\n",
      "  ..$ kind       : chr \"Gene Tree\"\n",
      "  ..$ quality    : chr \"Unrated\"\n",
      "  ..$ ntax       : chr \"26\"\n",
      "  ..- attr(*, \"class\")= chr \"phylo\"\n",
      "  ..- attr(*, \"stderr\")= num [1:25] 0.2495 0.1215 0.0806 0.0888 0.0852 ...\n",
      "  ..- attr(*, \"Pval\")= num [1:25] 0.894 0.97 0.983 0.927 0.963 ...\n",
      " $ :List of 11\n",
      "  ..$ edge       : int [1:50, 1:2] 27 28 28 27 29 30 30 29 31 32 ...\n",
      "  ..$ Nnode      : int 25\n",
      "  ..$ tip.label  : chr [1:26] \"Carex_melanostachya\" \"Carex_cretica\" \"Carex_distans\" \"Carex_durieui_1\" ...\n",
      "  ..$ edge.length: num [1:50] -0.01366 0.05205 0.05205 0.00114 0.03379 ...\n",
      "  ..$ node.label : chr [1:25] \"\" \"\" \"\" \"1.00\" ...\n",
      "  ..$ S.id       : chr \"12111\"\n",
      "  ..$ Tr.id      : chr \"49547\"\n",
      "  ..$ type       : chr \"Single\"\n",
      "  ..$ kind       : chr \"Species Tree\"\n",
      "  ..$ quality    : chr \"Unrated\"\n",
      "  ..$ ntax       : chr \"26\"\n",
      "  ..- attr(*, \"class\")= chr \"phylo\"\n",
      "  ..- attr(*, \"order\")= chr \"cladewise\"\n",
      "  ..- attr(*, \"stderr\")= num [1:25] 0.1208 0.1613 0.1302 0.0416 0.14 ...\n",
      "  ..- attr(*, \"Pval\")= num [1:25] 0.943 0.987 0.903 0.98 0.972 ...\n",
      " $ :List of 10\n",
      "  ..$ edge       : int [1:130, 1:2] 67 68 69 70 71 72 73 74 75 76 ...\n",
      "  ..$ Nnode      : int 65\n",
      "  ..$ tip.label  : chr [1:66] \"Stemphylium_botryosum\" \"Stemphylium_vesicarium\" \"Pleospora_herbarum_\" \"Stemphylium_callistephi\" ...\n",
      "  ..$ edge.length: num [1:130] -1.61 46.48 5.79 -14.47 6.4 ...\n",
      "  ..$ S.id       : chr \"11665\"\n",
      "  ..$ Tr.id      : chr \"46945\"\n",
      "  ..$ type       : chr \"Single\"\n",
      "  ..$ kind       : chr \"Species Tree\"\n",
      "  ..$ quality    : chr \"Unrated\"\n",
      "  ..$ ntax       : chr \"66\"\n",
      "  ..- attr(*, \"class\")= chr \"phylo\"\n",
      "  ..- attr(*, \"order\")= chr \"cladewise\"\n",
      "  ..- attr(*, \"stderr\")= num [1:65] 7.84 7.96 4.19 3.74 5.19 ...\n",
      "  ..- attr(*, \"Pval\")= num [1:65] 6.77e-31 5.60e-42 1.19e-01 7.04e-08 1.71e-07 ...\n",
      " $ :List of 10\n",
      "  ..$ edge       : int [1:38, 1:2] 21 22 23 23 24 25 25 26 26 24 ...\n",
      "  ..$ Nnode      : int 19\n",
      "  ..$ tip.label  : chr [1:20] \"Proboscidea_althaeifolia_BCS\" \"Proboscidea_parviflora_subsp._sinaloensis\" \"Proboscidea_fragrans\" \"Proboscidea_triloba_subsp._diversifolia\" ...\n",
      "  ..$ edge.length: num [1:38] -0.00042 0.01046 0.00637 0.00133 0.0032 ...\n",
      "  ..$ S.id       : chr \"11991\"\n",
      "  ..$ Tr.id      : chr \"49956\"\n",
      "  ..$ type       : chr \"Single\"\n",
      "  ..$ kind       : chr \"Species Tree\"\n",
      "  ..$ quality    : chr \"Unrated\"\n",
      "  ..$ ntax       : chr \"20\"\n",
      "  ..- attr(*, \"class\")= chr \"phylo\"\n",
      "  ..- attr(*, \"order\")= chr \"cladewise\"\n",
      "  ..- attr(*, \"stderr\")= num [1:19] 0.0495 0.0519 0.0534 0.0456 0.0266 ...\n",
      "  ..- attr(*, \"Pval\")= num [1:19] 0.937 0.862 0.985 0.968 0.992 ...\n",
      " $ :List of 11\n",
      "  ..$ edge       : int [1:82, 1:2] 43 44 45 45 44 46 47 47 48 48 ...\n",
      "  ..$ Nnode      : int 41\n",
      "  ..$ tip.label  : chr [1:42] \"Acropora_millepora\" \"Nematostella_vectensis\" \"Strongylocentrotus_purpuratus\" \"Ciona_intestinalis\" ...\n",
      "  ..$ edge.length: num [1:82] -0.00288 0.23562 0.14917 0.14917 0.00595 ...\n",
      "  ..$ node.label : chr [1:41] \"\" \"\" \"1.00\" \"0.94\" ...\n",
      "  ..$ S.id       : chr \"10436\"\n",
      "  ..$ Tr.id      : chr \"25676\"\n",
      "  ..$ type       : chr \"Single\"\n",
      "  ..$ kind       : chr \"Gene Tree\"\n",
      "  ..$ quality    : chr \"Unrated\"\n",
      "  ..$ ntax       : chr \"42\"\n",
      "  ..- attr(*, \"class\")= chr \"phylo\"\n",
      "  ..- attr(*, \"order\")= chr \"cladewise\"\n",
      "  ..- attr(*, \"stderr\")= num [1:41] 0.257 0.263 0.273 0.258 0.324 ...\n",
      "  ..- attr(*, \"Pval\")= num [1:41] 0.834 0.899 0.904 0.774 0.793 ...\n",
      " $ :List of 11\n",
      "  ..$ edge       : int [1:88, 1:2] 46 47 48 49 49 48 50 51 51 52 ...\n",
      "  ..$ Nnode      : int 44\n",
      "  ..$ tip.label  : chr [1:45] \"Sphenodon_punctatus\" \"Agama_agama\" \"Uromastyx_sp\" \"Chamaleo_sp\" ...\n",
      "  ..$ edge.length: num [1:88] -0.00151 0.02377 0.12819 0.07079 0.07079 ...\n",
      "  ..$ node.label : chr [1:44] \"\" \"\" \"0.85\" \"1.00\" ...\n",
      "  ..$ S.id       : chr \"10908\"\n",
      "  ..$ Tr.id      : chr \"25403\"\n",
      "  ..$ type       : chr \"Consensus\"\n",
      "  ..$ kind       : chr \"Species Tree\"\n",
      "  ..$ quality    : chr \"Unrated\"\n",
      "  ..$ ntax       : chr \"45\"\n",
      "  ..- attr(*, \"class\")= chr \"phylo\"\n",
      "  ..- attr(*, \"order\")= chr \"cladewise\"\n",
      "  ..- attr(*, \"stderr\")= num [1:44] 0.195 0.267 0.279 0.188 0.184 ...\n",
      "  ..- attr(*, \"Pval\")= num [1:44] 0.996 0.822 0.974 0.934 0.947 ...\n",
      " $ :List of 10\n",
      "  ..$ edge       : int [1:114, 1:2] 59 60 61 61 60 62 62 63 63 64 ...\n",
      "  ..$ Nnode      : int 57\n",
      "  ..$ tip.label  : chr [1:58] \"Nodobryoria_abbreviata\" \"Nodobryoria_oregana\" \"Pseudevernia_furfuracea\" \"Pseudevernia_intensa\" ...\n",
      "  ..$ edge.length: num [1:114] -0.02344 0.08842 0.00666 0.00666 0.0337 ...\n",
      "  ..$ S.id       : chr \"11236\"\n",
      "  ..$ Tr.id      : chr \"27652\"\n",
      "  ..$ type       : chr \"Consensus\"\n",
      "  ..$ kind       : chr \"Species Tree\"\n",
      "  ..$ quality    : chr \"Unrated\"\n",
      "  ..$ ntax       : chr \"58\"\n",
      "  ..- attr(*, \"class\")= chr \"phylo\"\n",
      "  ..- attr(*, \"order\")= chr \"cladewise\"\n",
      "  ..- attr(*, \"stderr\")= num [1:57] 0.215 0.2038 0.0577 0.1964 0.0593 ...\n",
      "  ..- attr(*, \"Pval\")= num [1:57] 0.918 0.98 0.943 0.885 0.94 ...\n",
      " $ :List of 10\n",
      "  ..$ edge       : int [1:120, 1:2] 62 63 64 64 65 65 63 62 66 67 ...\n",
      "  ..$ Nnode      : int 60\n",
      "  ..$ tip.label  : chr [1:61] \"Rana_berlandieri_MVZ240088\" \"Rana_berlandieri_MVZ240089\" \"Rana_berlandieri_MVZ240087\" \"Rana_blairi_AY157644RL\" ...\n",
      "  ..$ edge.length: num [1:120] 1.3614 0.2071 0.1587 0.0839 0.0747 ...\n",
      "  ..$ S.id       : chr \"11850\"\n",
      "  ..$ Tr.id      : chr \"48054\"\n",
      "  ..$ type       : chr \"Consensus\"\n",
      "  ..$ kind       : chr \"Species Tree\"\n",
      "  ..$ quality    : chr \"Unrated\"\n",
      "  ..$ ntax       : chr \"61\"\n",
      "  ..- attr(*, \"class\")= chr \"phylo\"\n",
      "  ..- attr(*, \"order\")= chr \"cladewise\"\n",
      "  ..- attr(*, \"stderr\")= num [1:60] 1.066 0.427 0.277 0.193 0.435 ...\n",
      "  ..- attr(*, \"Pval\")= num [1:60] 0.342 0.998 0.884 0.977 0.884 ...\n",
      " $ :List of 10\n",
      "  ..$ edge       : int [1:202, 1:2] 103 104 105 106 107 108 109 110 111 112 ...\n",
      "  ..$ Nnode      : int 101\n",
      "  ..$ tip.label  : chr [1:102] \"Chaetothyriales_sp._AL4\" \"'Chaetothyrialessp.M-Mo2'\" \"'Chaetothyrialessp.CR07/3-2'\" \"'Chaetothyrialessp.CR08/2-1'\" ...\n",
      "  ..$ edge.length: num [1:202] -2.82 26.99 27.02 93.09 -11.64 ...\n",
      "  ..$ S.id       : chr \"11031\"\n",
      "  ..$ Tr.id      : chr \"25849\"\n",
      "  ..$ type       : chr \"Single\"\n",
      "  ..$ kind       : chr \"Species Tree\"\n",
      "  ..$ quality    : chr \"Unrated\"\n",
      "  ..$ ntax       : chr \"102\"\n",
      "  ..- attr(*, \"class\")= chr \"phylo\"\n",
      "  ..- attr(*, \"order\")= chr \"cladewise\"\n",
      "  ..- attr(*, \"stderr\")= num [1:101] 11.92 12.03 10.89 10.43 9.28 ...\n",
      "  ..- attr(*, \"Pval\")= num [1:101] 4.54e-78 4.08e-51 3.59e-16 6.90e-02 1.06e-05 ...\n",
      " $ :List of 10\n",
      "  ..$ edge       : int [1:48, 1:2] 26 26 27 28 29 29 30 30 28 31 ...\n",
      "  ..$ Nnode      : int 24\n",
      "  ..$ tip.label  : chr [1:25] \"Hymenoscyphus_fructigenus_CBS_650.92\" \"Hymenoscyphus_albidus_090803.16\" \"Hymenoscyphus_albidus_090805.2\" \"Hymenoscyphus_albidus_090807.15\" ...\n",
      "  ..$ edge.length: num [1:48] 14 2.42 11.58 0 0 ...\n",
      "  ..$ S.id       : chr \"12500\"\n",
      "  ..$ Tr.id      : chr \"51822\"\n",
      "  ..$ type       : chr \"Single\"\n",
      "  ..$ kind       : chr \"Species Tree\"\n",
      "  ..$ quality    : chr \"Unrated\"\n",
      "  ..$ ntax       : chr \"25\"\n",
      "  ..- attr(*, \"class\")= chr \"phylo\"\n",
      "  ..- attr(*, \"order\")= chr \"cladewise\"\n",
      "  ..- attr(*, \"stderr\")= num [1:24] 2.94 2.52 0 0 0 ...\n",
      "  ..- attr(*, \"Pval\")= num [1:24] 1.87e-06 4.64e-02 NaN NaN NaN ...\n",
      " $ :List of 10\n",
      "  ..$ edge       : int [1:80, 1:2] 42 43 44 45 45 44 46 47 48 49 ...\n",
      "  ..$ Nnode      : int 40\n",
      "  ..$ tip.label  : chr [1:41] \"Sympoventuria_capensis_DQ885906_\" \"Furcaspora_eucalypti_EF110613_\" \"Phacidiella_eucalypti_EF110617_\" \"Heteroconium_eucalypti_DQ885893_\" ...\n",
      "  ..$ edge.length: num [1:80] -2.51 15.68 147.34 5 5 ...\n",
      "  ..$ S.id       : chr \"12206\"\n",
      "  ..$ Tr.id      : chr \"50212\"\n",
      "  ..$ type       : chr \"Single\"\n",
      "  ..$ kind       : chr \"Species Tree\"\n",
      "  ..$ quality    : chr \"Unrated\"\n",
      "  ..$ ntax       : chr \"41\"\n",
      "  ..- attr(*, \"class\")= chr \"phylo\"\n",
      "  ..- attr(*, \"order\")= chr \"cladewise\"\n",
      "  ..- attr(*, \"stderr\")= num [1:40] 10.2 10.46 10 1.58 6.27 ...\n",
      "  ..- attr(*, \"Pval\")= num [1:40] 6.09e-15 3.17e-16 2.35e-15 5.27e-01 4.89e-19 ...\n",
      " $ :List of 10\n",
      "  ..$ edge       : int [1:142, 1:2] 73 74 75 76 77 78 79 80 81 82 ...\n",
      "  ..$ Nnode      : int 71\n",
      "  ..$ tip.label  : chr [1:72] \"Exserohilum_pedicellatum\" \"Embellisia_annulata\" \"Stemphylium_botryosum\" \"Stemphylium_callistephi\" ...\n",
      "  ..$ edge.length: num [1:142] -3.11 23.54 9.64 2 4.93 ...\n",
      "  ..$ S.id       : chr \"11665\"\n",
      "  ..$ Tr.id      : chr \"46980\"\n",
      "  ..$ type       : chr \"Single\"\n",
      "  ..$ kind       : chr \"Gene Tree\"\n",
      "  ..$ quality    : chr \"Unrated\"\n",
      "  ..$ ntax       : chr \"72\"\n",
      "  ..- attr(*, \"class\")= chr \"phylo\"\n",
      "  ..- attr(*, \"order\")= chr \"cladewise\"\n",
      "  ..- attr(*, \"stderr\")= num [1:71] 6.18 6.63 4.62 3.46 3.37 ...\n",
      "  ..- attr(*, \"Pval\")= num [1:71] 1.41e-08 6.88e-04 1.80e-04 1.38e-03 5.11e-07 ...\n",
      " $ :List of 10\n",
      "  ..$ edge       : int [1:306, 1:2] 155 155 156 157 158 159 160 161 161 162 ...\n",
      "  ..$ Nnode      : int 153\n",
      "  ..$ tip.label  : chr [1:154] \"Noctilio_leporinus\" \"Micronycteris_hirsuta\" \"Micronycteris_brosseti\" \"Micronycteris_microtis\" ...\n",
      "  ..$ edge.length: num [1:306] 41.92 10.61 6.12 1.65 5.77 ...\n",
      "  ..$ S.id       : chr \"12707\"\n",
      "  ..$ Tr.id      : chr \"52816\"\n",
      "  ..$ type       : chr \"Single\"\n",
      "  ..$ kind       : chr \"Species Tree\"\n",
      "  ..$ quality    : chr \"Unrated\"\n",
      "  ..$ ntax       : chr \"154\"\n",
      "  ..- attr(*, \"class\")= chr \"phylo\"\n",
      "  ..- attr(*, \"stderr\")= num [1:153] 4.85 3.63 2.76 2.5 2.95 ...\n",
      "  ..- attr(*, \"Pval\")= num [1:153] 1 1 1 1 1 ...\n",
      " $ :List of 10\n",
      "  ..$ edge       : int [1:276, 1:2] 140 141 142 143 144 145 146 147 148 149 ...\n",
      "  ..$ Nnode      : int 138\n",
      "  ..$ tip.label  : chr [1:139] \"Lippia_salviifolia\" \"Lantana_canescens\" \"Lantana_tilcarensis\" \"Lantana_rugosa\" ...\n",
      "  ..$ edge.length: num [1:276] 90.3 73.1 52.9 56.4 21.9 ...\n",
      "  ..$ S.id       : chr \"10736\"\n",
      "  ..$ Tr.id      : chr \"20796\"\n",
      "  ..$ type       : chr \"Consensus\"\n",
      "  ..$ kind       : chr \"Species Tree\"\n",
      "  ..$ quality    : chr \"Preferred Tree\"\n",
      "  ..$ ntax       : chr \"139\"\n",
      "  ..- attr(*, \"class\")= chr \"phylo\"\n",
      "  ..- attr(*, \"order\")= chr \"cladewise\"\n",
      "  ..- attr(*, \"stderr\")= num [1:138] 26.7 25 23.5 22.4 21.2 ...\n",
      "  ..- attr(*, \"Pval\")= num [1:138] 0.00 0.00 1.39e-304 2.65e-250 0.00 ...\n",
      " $ :List of 10\n",
      "  ..$ edge       : int [1:60, 1:2] 32 33 34 34 35 36 37 37 36 38 ...\n",
      "  ..$ Nnode      : int 30\n",
      "  ..$ tip.label  : chr [1:31] \"Satanocrater_paradoxa_5\" \"Satanocrater_somalensis_4\" \"Satanocrater_paradoxa_3\" \"Satanocrater_somalensis_2\" ...\n",
      "  ..$ edge.length: num [1:60] -0.003817 0.112719 0.007716 -0.000818 0.001696 ...\n",
      "  ..$ S.id       : chr \"12451\"\n",
      "  ..$ Tr.id      : chr \"51857\"\n",
      "  ..$ type       : chr \"Single\"\n",
      "  ..$ kind       : chr \"Species Tree\"\n",
      "  ..$ quality    : chr \"Unrated\"\n",
      "  ..$ ntax       : chr \"31\"\n",
      "  ..- attr(*, \"class\")= chr \"phylo\"\n",
      "  ..- attr(*, \"order\")= chr \"cladewise\"\n",
      "  ..- attr(*, \"stderr\")= num [1:30] 0.2122 0.2193 0.0477 0.0542 0.0507 ...\n",
      "  ..- attr(*, \"Pval\")= num [1:30] 0.597 0.641 0.926 0.922 0.997 ...\n",
      " $ :List of 10\n",
      "  ..$ edge       : int [1:88, 1:2] 46 47 48 49 50 51 52 53 54 55 ...\n",
      "  ..$ Nnode      : int 44\n",
      "  ..$ tip.label  : chr [1:45] \"'Euphorbiaregis-jubae'\" \"Euphorbia_atropurpurea\" \"Euphorbia_piscatoria\" \"Euphorbia_lamarckii\" ...\n",
      "  ..$ edge.length: num [1:88] 4.87 29.87 15.66 10.36 20.21 ...\n",
      "  ..$ S.id       : chr \"11337\"\n",
      "  ..$ Tr.id      : chr \"49538\"\n",
      "  ..$ type       : chr \"Consensus\"\n",
      "  ..$ kind       : chr \"Species Tree\"\n",
      "  ..$ quality    : chr \"Unrated\"\n",
      "  ..$ ntax       : chr \"45\"\n",
      "  ..- attr(*, \"class\")= chr \"phylo\"\n",
      "  ..- attr(*, \"stderr\")= num [1:44] 6.22 5.96 5.48 4.25 4.16 ...\n",
      "  ..- attr(*, \"Pval\")= num [1:44] 1 1 1 1 1 ...\n",
      " $ :List of 10\n",
      "  ..$ edge       : int [1:276, 1:2] 140 141 141 142 143 143 142 144 145 145 ...\n",
      "  ..$ Nnode      : int 138\n",
      "  ..$ tip.label  : chr [1:139] \"Nematanthus_hirsutus\" \"Digitalis_purpurea\" \"Antirrhinum_majus\" \"Myoporum_mauritianum\" ...\n",
      "  ..$ edge.length: num [1:276] 0.02991 0.04551 0.00323 -0.00496 0.04724 ...\n",
      "  ..$ S.id       : chr \"10736\"\n",
      "  ..$ Tr.id      : chr \"20793\"\n",
      "  ..$ type       : chr \"Single\"\n",
      "  ..$ kind       : chr \"Species Tree\"\n",
      "  ..$ quality    : chr \"Preferred Tree\"\n",
      "  ..$ ntax       : chr \"139\"\n",
      "  ..- attr(*, \"class\")= chr \"phylo\"\n",
      "  ..- attr(*, \"stderr\")= num [1:138] 0.219 0.135 0.123 0.154 0.119 ...\n",
      "  ..- attr(*, \"Pval\")= num [1:138] 0.871 0.975 0.955 0.968 0.945 ...\n",
      " $ :List of 11\n",
      "  ..$ edge       : int [1:216, 1:2] 110 111 111 110 112 113 114 114 113 112 ...\n",
      "  ..$ Nnode      : int 108\n",
      "  ..$ tip.label  : chr [1:109] \"Ptenochirus_jagori_AB046325\" \"Cynopterus_brachyotis_AB046321\" \"Rousettus_amplexicaudatus_AB046329\" \"Epomophorus_wahlbergi_DQ445706\" ...\n",
      "  ..$ edge.length: num [1:216] 677.3 50 50 87.3 488 ...\n",
      "  ..$ node.label : chr [1:108] \"0\" \"\" \"100\" \"94\" ...\n",
      "  ..$ S.id       : chr \"12080\"\n",
      "  ..$ Tr.id      : chr \"49466\"\n",
      "  ..$ type       : chr \"Consensus\"\n",
      "  ..$ kind       : chr \"Species Tree\"\n",
      "  ..$ quality    : chr \"Unrated\"\n",
      "  ..$ ntax       : chr \"109\"\n",
      "  ..- attr(*, \"class\")= chr \"phylo\"\n",
      "  ..- attr(*, \"order\")= chr \"cladewise\"\n",
      "  ..- attr(*, \"stderr\")= num [1:108] 21.88 5 19.92 8.25 7.07 ...\n",
      "  ..- attr(*, \"Pval\")= num [1:108] 2.13e-200 1.52e-23 2.34e-63 2.40e-07 1.00 ...\n",
      " $ :List of 11\n",
      "  ..$ edge       : int [1:258, 1:2] 131 132 132 133 133 134 134 131 135 135 ...\n",
      "  ..$ Nnode      : int 129\n",
      "  ..$ tip.label  : chr [1:130] \"Phrynopus_bracki_EF493709_USNM\" \"Eleutherodactylus_dolops_EF4933\" \"Phrynopus_brunneusEF493357_KU1\" \"Phrynopus_peraccai_EF493710\" ...\n",
      "  ..$ edge.length: num [1:258] 0.1622 0.3268 0.0473 0.2795 0.1867 ...\n",
      "  ..$ node.label : chr [1:129] \"\" \"0.98\" \"0.98\" \"1.00\" ...\n",
      "  ..$ S.id       : chr \"12162\"\n",
      "  ..$ Tr.id      : chr \"49993\"\n",
      "  ..$ type       : chr \"Consensus\"\n",
      "  ..$ kind       : chr \"Species Tree\"\n",
      "  ..$ quality    : chr \"Unrated\"\n",
      "  ..$ ntax       : chr \"130\"\n",
      "  ..- attr(*, \"class\")= chr \"phylo\"\n",
      "  ..- attr(*, \"stderr\")= num [1:129] 0.45 0.36 0.372 0.215 0.436 ...\n",
      "  ..- attr(*, \"Pval\")= num [1:129] 0.817 0.941 0.948 0.968 0.743 ...\n",
      " $ :List of 10\n",
      "  ..$ edge       : int [1:192, 1:2] 98 98 99 100 100 101 101 99 102 103 ...\n",
      "  ..$ Nnode      : int 96\n",
      "  ..$ tip.label  : chr [1:97] \"Ithomia_agnosia_20711\" \"Hypothyris_cantobrica\" \"Hypothyris_anastasia_20507\" \"Hypothyris_moebiusi_20299\" ...\n",
      "  ..$ edge.length: num [1:192] 0.07108 0.02894 0.00736 0.03478 0.01213 ...\n",
      "  ..$ S.id       : chr \"11744\"\n",
      "  ..$ Tr.id      : chr \"47670\"\n",
      "  ..$ type       : chr \"Single\"\n",
      "  ..$ kind       : chr \"Species Tree\"\n",
      "  ..$ quality    : chr \"Unrated\"\n",
      "  ..$ ntax       : chr \"97\"\n",
      "  ..- attr(*, \"class\")= chr \"phylo\"\n",
      "  ..- attr(*, \"order\")= chr \"cladewise\"\n",
      "  ..- attr(*, \"stderr\")= num [1:96] 0.227 0.152 0.121 0.106 0.106 ...\n",
      "  ..- attr(*, \"Pval\")= num [1:96] 0.883 0.983 0.984 0.929 0.954 ...\n",
      " $ :List of 11\n",
      "  ..$ edge       : int [1:842, 1:2] 423 424 425 425 424 426 426 423 427 428 ...\n",
      "  ..$ Nnode      : int 421\n",
      "  ..$ tip.label  : chr [1:422] \"Phaeolepiota_aurea_AM946522\" \"Cystoderma_amianthinum_AM946480\" \"Cyathus_striatus_EU784195\" \"Crucibulum_laeve_EU784188\" ...\n",
      "  ..$ edge.length: num [1:842] -0.226 0.28 0.375 0.375 0.081 ...\n",
      "  ..$ node.label : chr [1:421] \"\" \"95\" \"\" \"73\" ...\n",
      "  ..$ S.id       : chr \"11398\"\n",
      "  ..$ Tr.id      : chr \"47498\"\n",
      "  ..$ type       : chr \"Single\"\n",
      "  ..$ kind       : chr \"Species Tree\"\n",
      "  ..$ quality    : chr \"Unrated\"\n",
      "  ..$ ntax       : chr \"422\"\n",
      "  ..- attr(*, \"class\")= chr \"phylo\"\n",
      "  ..- attr(*, \"stderr\")= num [1:421] 0.448 0.457 0.433 0.536 0.325 ...\n",
      "  ..- attr(*, \"Pval\")= num [1:421] 0.647 0.867 0.907 0.708 0.644 ...\n",
      " $ :List of 10\n",
      "  ..$ edge       : int [1:42, 1:2] 23 24 24 25 26 26 27 27 25 28 ...\n",
      "  ..$ Nnode      : int 21\n",
      "  ..$ tip.label  : chr [1:22] \"Akebia_quinata_AY145143\" \"Cocculus_carolinus_AY145144\" \"Clematis_drummondii_AY145147\" \"Glaucidium_palmatum_AY145145\" ...\n",
      "  ..$ edge.length: num [1:42] -0.00524 0.14611 0.04154 0.02791 0.07666 ...\n",
      "  ..$ S.id       : chr \"12155\"\n",
      "  ..$ Tr.id      : chr \"49834\"\n",
      "  ..$ type       : chr \"Consensus\"\n",
      "  ..$ kind       : chr \"Species Tree\"\n",
      "  ..$ quality    : chr \"Unrated\"\n",
      "  ..$ ntax       : chr \"22\"\n",
      "  ..- attr(*, \"class\")= chr \"phylo\"\n",
      "  ..- attr(*, \"order\")= chr \"cladewise\"\n",
      "  ..- attr(*, \"stderr\")= num [1:21] 0.247 0.259 0.177 0.162 0.159 ...\n",
      "  ..- attr(*, \"Pval\")= num [1:21] 0.712 0.974 0.989 0.857 0.962 ...\n",
      " $ :List of 11\n",
      "  ..$ edge       : int [1:30, 1:2] 17 18 19 20 21 21 22 22 20 23 ...\n",
      "  ..$ Nnode      : int 15\n",
      "  ..$ tip.label  : chr [1:16] \"Canis_lupus_familiaris\" \"Canis_lupus\" \"Ailuropoda_melanoleuca\" \"Ursus_thibetanus\" ...\n",
      "  ..$ edge.length: num [1:30] -0.00922 0.08643 0.01661 0.03172 0.01451 ...\n",
      "  ..$ node.label : chr [1:15] \"\" \"\" \"1.00\" \"0.54\" ...\n",
      "  ..$ S.id       : chr \"10901\"\n",
      "  ..$ Tr.id      : chr \"24828\"\n",
      "  ..$ type       : chr \"Consensus\"\n",
      "  ..$ kind       : chr \"Species Tree\"\n",
      "  ..$ quality    : chr \"Unrated\"\n",
      "  ..$ ntax       : chr \"16\"\n",
      "  ..- attr(*, \"class\")= chr \"phylo\"\n",
      "  ..- attr(*, \"order\")= chr \"cladewise\"\n",
      "  ..- attr(*, \"stderr\")= num [1:15] 0.2894 0.3087 0.1113 0.1353 0.0854 ...\n",
      "  ..- attr(*, \"Pval\")= num [1:15] 0.636 0.634 0.893 0.978 0.994 ...\n",
      " $ :List of 11\n",
      "  ..$ edge       : int [1:170, 1:2] 87 88 88 87 89 89 90 91 91 90 ...\n",
      "  ..$ Nnode      : int 85\n",
      "  ..$ tip.label  : chr [1:86] \"Phellodon_melaleucus_EU622369\" \"Phellodon_tomentosus_EU622382\" \"Tomentella_subtestacea_AJ421256\" \"Tomentella_galzinii_UDB000260\" ...\n",
      "  ..$ edge.length: num [1:170] 0.7847 0.0896 0.0896 0.6881 0.1862 ...\n",
      "  ..$ node.label : chr [1:85] \"\" \"100\" \"7\" \"8\" ...\n",
      "  ..$ S.id       : chr \"10400\"\n",
      "  ..$ Tr.id      : chr \"25307\"\n",
      "  ..$ type       : chr \"Single\"\n",
      "  ..$ kind       : chr \"Species Tree\"\n",
      "  ..$ quality    : chr \"Unrated\"\n",
      "  ..$ ntax       : chr \"86\"\n",
      "  ..- attr(*, \"class\")= chr \"phylo\"\n",
      "  ..- attr(*, \"stderr\")= num [1:85] 0.863 0.212 0.299 0.225 0.116 ...\n",
      "  ..- attr(*, \"Pval\")= num [1:85] 0.937 0.89 0.605 0.711 0.991 ...\n",
      " $ :List of 10\n",
      "  ..$ edge       : int [1:176, 1:2] 90 91 92 93 94 95 96 97 98 98 ...\n",
      "  ..$ Nnode      : int 88\n",
      "  ..$ tip.label  : chr [1:89] \"Acanthothecis_peplophora_HQ639593\" \"Thelotrema_lepadinum_DQ431957\" \"Thelotrema_subtile_DQ871020\" \"Thelotrema_porinoides_HQ639603\" ...\n",
      "  ..$ edge.length: num [1:176] 2.315 4.719 3.297 8.416 0.212 ...\n",
      "  ..$ S.id       : chr \"11054\"\n",
      "  ..$ Tr.id      : chr \"26187\"\n",
      "  ..$ type       : chr \"Single\"\n",
      "  ..$ kind       : chr \"Species Tree\"\n",
      "  ..$ quality    : chr \"Unrated\"\n",
      "  ..$ ntax       : chr \"89\"\n",
      "  ..- attr(*, \"class\")= chr \"phylo\"\n",
      "  ..- attr(*, \"stderr\")= num [1:88] 3.64 3.86 3.17 2.85 2.62 ...\n",
      "  ..- attr(*, \"Pval\")= num [1:88] 4.45e-05 1.61e-12 2.13e-02 2.96e-03 1.08e-01 ...\n",
      " $ :List of 10\n",
      "  ..$ edge       : int [1:146, 1:2] 75 76 77 78 79 80 81 82 82 83 ...\n",
      "  ..$ Nnode      : int 73\n",
      "  ..$ tip.label  : chr [1:74] \"Chaunostoma_mecistandrum\" \"Neoeplingia_leucophylloides\" \"Lepechinia_mexicana_Hidalgo\" \"Lepechinia_mexicana_Peublo\" ...\n",
      "  ..$ edge.length: num [1:146] 170.9 26.9 103.6 76.1 67.6 ...\n",
      "  ..$ S.id       : chr \"10999\"\n",
      "  ..$ Tr.id      : chr \"25703\"\n",
      "  ..$ type       : chr \"Single\"\n",
      "  ..$ kind       : chr \"Species Tree\"\n",
      "  ..$ quality    : chr \"Unrated\"\n",
      "  ..$ ntax       : chr \"74\"\n",
      "  ..- attr(*, \"class\")= chr \"phylo\"\n",
      "  ..- attr(*, \"order\")= chr \"cladewise\"\n",
      "  ..- attr(*, \"stderr\")= num [1:73] 17.46 12.17 11.33 6.42 4.92 ...\n",
      "  ..- attr(*, \"Pval\")= num [1:73] 3.33e-07 2.84e-02 4.72e-03 9.27e-07 3.58e-28 ...\n",
      " $ :List of 10\n",
      "  ..$ edge       : int [1:202, 1:2] 103 104 104 105 106 107 107 108 109 109 ...\n",
      "  ..$ Nnode      : int 101\n",
      "  ..$ tip.label  : chr [1:102] \"Etheostoma_barrenense_A\" \"Etheostoma_rafinesquei_B\" \"Etheostoma_atripinne_A\" \"Etheostoma_atripinne_Y\" ...\n",
      "  ..$ edge.length: num [1:202] -0.00788 1.27955 1.12307 -0.04548 0.10529 ...\n",
      "  ..$ S.id       : chr \"11289\"\n",
      "  ..$ Tr.id      : chr \"31163\"\n",
      "  ..$ type       : chr \"Consensus\"\n",
      "  ..$ kind       : chr \"Species Tree\"\n",
      "  ..$ quality    : chr \"Unrated\"\n",
      "  ..$ ntax       : chr \"102\"\n",
      "  ..- attr(*, \"class\")= chr \"phylo\"\n",
      "  ..- attr(*, \"order\")= chr \"cladewise\"\n",
      "  ..- attr(*, \"stderr\")= num [1:101] 1.0452 1.0555 0.0603 0.1071 0.1175 ...\n",
      "  ..- attr(*, \"Pval\")= num [1:101] 0.524 0.407 0.436 0.473 0.85 ...\n",
      " $ :List of 11\n",
      "  ..$ edge       : int [1:532, 1:2] 268 269 269 270 271 272 273 274 274 275 ...\n",
      "  ..$ Nnode      : int 266\n",
      "  ..$ tip.label  : chr [1:267] \"Lactobacillus_sp._ex._Apis_mellifera_HM534764\" \"Lactobacillus_sanfranciscensis_X61132\" \"Lactobacillus_sanfranciscensis_X76327\" \"Lactobacillus_sp._fructophile_AB498047\" ...\n",
      "  ..$ edge.length: num [1:532] -0.00625 0.48986 0.01521 0.27925 0.12608 ...\n",
      "  ..$ node.label : chr [1:266] \"1.00\" \"\" \"0.53\" \"0.18\" ...\n",
      "  ..$ S.id       : chr \"12120\"\n",
      "  ..$ Tr.id      : chr \"49605\"\n",
      "  ..$ type       : chr \"Single\"\n",
      "  ..$ kind       : chr \"Species Tree\"\n",
      "  ..$ quality    : chr \"Unrated\"\n",
      "  ..$ ntax       : chr \"267\"\n",
      "  ..- attr(*, \"class\")= chr \"phylo\"\n",
      "  ..- attr(*, \"order\")= chr \"cladewise\"\n",
      "  ..- attr(*, \"stderr\")= num [1:266] 0.323 0.329 0.304 0.267 0.102 ...\n",
      "  ..- attr(*, \"Pval\")= num [1:266] 0.46 0.274 0.486 0.799 0.63 ...\n",
      " $ :List of 12\n",
      "  ..$ edge       : int [1:116, 1:2] 60 60 61 62 63 64 64 65 65 63 ...\n",
      "  ..$ Nnode      : int 58\n",
      "  ..$ tip.label  : chr [1:59] \"Sordaria_fimicola_AF132330\" \"Coniochaeta_ornata_AJ875228\" \"Coniochaeta_punctulata_AJ875231\" \"Coniochaeta_savoryi_AJ875229\" ...\n",
      "  ..$ edge.length: num [1:116] 0.28453 0.02228 0.17626 0.00823 0.07281 ...\n",
      "  ..$ node.label : chr [1:58] \"\" \"\" \"0.83\" \"0.78\" ...\n",
      "  ..$ root.edge  : num 0\n",
      "  ..$ S.id       : chr \"12255\"\n",
      "  ..$ Tr.id      : chr \"50382\"\n",
      "  ..$ type       : chr \"Single\"\n",
      "  ..$ kind       : chr \"Species Tree\"\n",
      "  ..$ quality    : chr \"Unrated\"\n",
      "  ..$ ntax       : chr \"59\"\n",
      "  ..- attr(*, \"class\")= chr \"phylo\"\n",
      "  ..- attr(*, \"stderr\")= num [1:58] 0.3342 0.3053 0.1306 0.1727 0.0406 ...\n",
      "  ..- attr(*, \"Pval\")= num [1:58] 1 0.811 0.96 0.747 0.944 ...\n",
      " $ :List of 10\n",
      "  ..$ edge       : int [1:230, 1:2] 117 118 118 119 119 117 120 121 122 123 ...\n",
      "  ..$ Nnode      : int 115\n",
      "  ..$ tip.label  : chr [1:116] \"Chamerion_angustifolium\" \"Epilobium_canuum\" \"Epilobium_ciliatum\" \"Oenothera_berlandieri\" ...\n",
      "  ..$ edge.length: num [1:230] 25.6 74.4 43.9 30.4 30.4 ...\n",
      "  ..$ S.id       : chr \"10384\"\n",
      "  ..$ Tr.id      : chr \"47549\"\n",
      "  ..$ type       : chr \"Single\"\n",
      "  ..$ kind       : chr \"Species Tree\"\n",
      "  ..$ quality    : chr \"Unrated\"\n",
      "  ..$ ntax       : chr \"116\"\n",
      "  ..- attr(*, \"class\")= chr \"phylo\"\n",
      "  ..- attr(*, \"stderr\")= num [1:115] 6.87 5.88 3.9 5.73 5.83 ...\n",
      "  ..- attr(*, \"Pval\")= num [1:115] 1 1 1 1 1 ...\n",
      " $ :List of 10\n",
      "  ..$ edge       : int [1:230, 1:2] 117 118 118 119 119 117 120 121 122 123 ...\n",
      "  ..$ Nnode      : int 115\n",
      "  ..$ tip.label  : chr [1:116] \"Chamerion_angustifolium\" \"Epilobium_canuum\" \"Epilobium_ciliatum\" \"Oenothera_berlandieri\" ...\n",
      "  ..$ edge.length: num [1:230] 18.8 81.2 40.2 41 41 ...\n",
      "  ..$ S.id       : chr \"10384\"\n",
      "  ..$ Tr.id      : chr \"47567\"\n",
      "  ..$ type       : chr \"Single\"\n",
      "  ..$ kind       : chr \"Species Tree\"\n",
      "  ..$ quality    : chr \"Unrated\"\n",
      "  ..$ ntax       : chr \"116\"\n",
      "  ..- attr(*, \"class\")= chr \"phylo\"\n",
      "  ..- attr(*, \"stderr\")= num [1:115] 6.93 6 4.53 6.21 5.6 ...\n",
      "  ..- attr(*, \"Pval\")= num [1:115] 1 1 1 1 1 ...\n",
      " $ :List of 11\n",
      "  ..$ edge       : int [1:94, 1:2] 49 50 51 51 50 49 52 52 53 54 ...\n",
      "  ..$ Nnode      : int 47\n",
      "  ..$ tip.label  : chr [1:48] \"Acropora_millepora\" \"Nematostella_vectensis\" \"Hydra_magnipapillata\" \"Strongylocentrotus_purpuratus\" ...\n",
      "  ..$ edge.length: num [1:94] 0.259 0.12 0.15 0.15 0.27 ...\n",
      "  ..$ node.label : chr [1:47] \"\" \"\" \"1.00\" \"1.00\" ...\n",
      "  ..$ S.id       : chr \"10436\"\n",
      "  ..$ Tr.id      : chr \"25682\"\n",
      "  ..$ type       : chr \"Single\"\n",
      "  ..$ kind       : chr \"Gene Tree\"\n",
      "  ..$ quality    : chr \"Unrated\"\n",
      "  ..$ ntax       : chr \"48\"\n",
      "  ..- attr(*, \"class\")= chr \"phylo\"\n",
      "  ..- attr(*, \"order\")= chr \"cladewise\"\n",
      "  ..- attr(*, \"stderr\")= num [1:47] 0.415 0.316 0.274 0.269 0.258 ...\n",
      "  ..- attr(*, \"Pval\")= num [1:47] 0.611 0.76 0.901 0.778 0.685 ...\n",
      " $ :List of 10\n",
      "  ..$ edge       : int [1:126, 1:2] 65 66 67 68 69 70 70 69 68 67 ...\n",
      "  ..$ Nnode      : int 63\n",
      "  ..$ tip.label  : chr [1:64] \"'Armillariacepistipes94-39-04b'\" \"'Armillariacepistipes90-10-12'\" \"'Armillariacepistipes96-19-01'\" \"Armillaria_cepistipes_ND1\" ...\n",
      "  ..$ edge.length: num [1:126] 33.57 48.58 11.5 8.83 -1.83 ...\n",
      "  ..$ S.id       : chr \"10511\"\n",
      "  ..$ Tr.id      : chr \"9376\"\n",
      "  ..$ type       : chr \"Single\"\n",
      "  ..$ kind       : chr \"Species Tree\"\n",
      "  ..$ quality    : chr \"Unrated\"\n",
      "  ..$ ntax       : chr \"64\"\n",
      "  ..- attr(*, \"class\")= chr \"phylo\"\n",
      "  ..- attr(*, \"order\")= chr \"cladewise\"\n",
      "  ..- attr(*, \"stderr\")= num [1:63] 7.11 5.62 3.57 2.69 1.11 ...\n",
      "  ..- attr(*, \"Pval\")= num [1:63] 6.27e-05 3.08e-02 7.07e-01 4.23e-02 9.11e-04 ...\n",
      " $ :List of 11\n",
      "  ..$ edge       : int [1:272, 1:2] 138 139 139 140 140 138 141 142 142 141 ...\n",
      "  ..$ Nnode      : int 136\n",
      "  ..$ tip.label  : chr [1:137] \"Ficus_yoponensis\" \"Ficus_insipida_1\" \"Ficus_insipida_2\" \"Ficus_superba_2\" ...\n",
      "  ..$ edge.length: num [1:272] NA NA NA NA NA ...\n",
      "  ..$ node.label : chr [1:136] \"\" \"\" \"\" NA ...\n",
      "  ..$ S.id       : chr \"12233\"\n",
      "  ..$ Tr.id      : chr \"50303\"\n",
      "  ..$ type       : chr \"Single\"\n",
      "  ..$ kind       : chr \"Species Tree\"\n",
      "  ..$ quality    : chr \"Unrated\"\n",
      "  ..$ ntax       : chr \"137\"\n",
      "  ..- attr(*, \"class\")= chr \"phylo\"\n",
      "  ..- attr(*, \"stderr\")= num [1:136] NA NA NA NA 0.0408 ...\n",
      "  ..- attr(*, \"Pval\")= num [1:136] NA NA NA NA 0.995 ...\n",
      " $ :List of 10\n",
      "  ..$ edge       : int [1:42, 1:2] 23 24 24 23 25 26 26 25 27 28 ...\n",
      "  ..$ Nnode      : int 21\n",
      "  ..$ tip.label  : chr [1:22] \"Browningia_hertlingiana_CA001\" \"Echinopsis_aurea_CA104\" \"Lepismium_cruciforme_CA010\" \"Rhipsalis_pentaptera_CA065\" ...\n",
      "  ..$ edge.length: num [1:42] 0.0131 0.02313 0.02313 0.01058 0.00486 ...\n",
      "  ..$ S.id       : chr \"11122\"\n",
      "  ..$ Tr.id      : chr \"26496\"\n",
      "  ..$ type       : chr \"Consensus\"\n",
      "  ..$ kind       : chr \"Species Tree\"\n",
      "  ..$ quality    : chr \"Unrated\"\n",
      "  ..$ ntax       : chr \"22\"\n",
      "  ..- attr(*, \"class\")= chr \"phylo\"\n",
      "  ..- attr(*, \"order\")= chr \"cladewise\"\n",
      "  ..- attr(*, \"stderr\")= num [1:21] 0.135 0.108 0.105 0.102 0.101 ...\n",
      "  ..- attr(*, \"Pval\")= num [1:21] 0.99 0.944 0.978 0.981 0.994 ...\n",
      " $ :List of 11\n",
      "  ..$ edge       : int [1:970, 1:2] 487 488 489 489 488 490 490 491 491 492 ...\n",
      "  ..$ Nnode      : int 485\n",
      "  ..$ tip.label  : chr [1:486] \"Cycas\" \"Zamia\" \"Ginkgo\" \"Podocarpus\" ...\n",
      "  ..$ edge.length: num [1:970] -0.0369 0.1589 0.0111 0.0111 -0.0352 ...\n",
      "  ..$ root.edge  : num 0\n",
      "  ..$ S.id       : chr \"11267\"\n",
      "  ..$ Tr.id      : chr \"31212\"\n",
      "  ..$ type       : chr \"Single\"\n",
      "  ..$ kind       : chr \"Species Tree\"\n",
      "  ..$ quality    : chr \"Unrated\"\n",
      "  ..$ ntax       : chr \"486\"\n",
      "  ..- attr(*, \"class\")= chr \"phylo\"\n",
      "  ..- attr(*, \"stderr\")= num [1:485] 0.2881 0.2135 0.0743 0.2554 0.2814 ...\n",
      "  ..- attr(*, \"Pval\")= num [1:485] 0.83 0.565 0.993 0.583 0.806 ...\n",
      " $ :List of 10\n",
      "  ..$ edge       : int [1:102, 1:2] 53 54 55 55 54 56 56 53 57 58 ...\n",
      "  ..$ Nnode      : int 51\n",
      "  ..$ tip.label  : chr [1:52] \"Agkistrodon_contortrix_1\" \"Agkistrodon_contortrix_2\" \"Agkistrodon_piscivorus_1\" \"Agkistrodon_piscivorus_2\" ...\n",
      "  ..$ edge.length: num [1:102] 0.00656 0.00341 0.00228 0.00228 0.00422 ...\n",
      "  ..$ S.id       : chr \"11174\"\n",
      "  ..$ Tr.id      : chr \"27444\"\n",
      "  ..$ type       : chr \"Consensus\"\n",
      "  ..$ kind       : chr \"Species Tree\"\n",
      "  ..$ quality    : chr \"Unrated\"\n",
      "  ..$ ntax       : chr \"52\"\n",
      "  ..- attr(*, \"class\")= chr \"phylo\"\n",
      "  ..- attr(*, \"order\")= chr \"cladewise\"\n",
      "  ..- attr(*, \"stderr\")= num [1:51] 0.0872 0.0487 0.0337 0.0271 0.0724 ...\n",
      "  ..- attr(*, \"Pval\")= num [1:51] 0.979 0.995 0.983 1 0.966 ...\n",
      " $ :List of 10\n",
      "  ..$ edge       : int [1:58, 1:2] 31 32 32 33 34 34 33 35 36 36 ...\n",
      "  ..$ Nnode      : int 29\n",
      "  ..$ tip.label  : chr [1:30] \"Vargula_hilgendorfii\" \"Euphilomedes_sordida\" \"Rutiderma_apex\" \"Tetraleberis_sp_J57056\" ...\n",
      "  ..$ edge.length: num [1:58] 0.26173 0.0952 0.00111 0.05089 0.0432 ...\n",
      "  ..$ S.id       : chr \"11258\"\n",
      "  ..$ Tr.id      : chr \"29849\"\n",
      "  ..$ type       : chr \"Single\"\n",
      "  ..$ kind       : chr \"Species Tree\"\n",
      "  ..$ quality    : chr \"Unrated\"\n",
      "  ..$ ntax       : chr \"30\"\n",
      "  ..- attr(*, \"class\")= chr \"phylo\"\n",
      "  ..- attr(*, \"stderr\")= num [1:29] 0.535 0.202 0.204 0.147 0.147 ...\n",
      "  ..- attr(*, \"Pval\")= num [1:29] 0.9 0.925 0.931 0.949 0.987 ...\n",
      " $ :List of 10\n",
      "  ..$ edge       : int [1:230, 1:2] 117 118 118 119 119 117 120 121 122 123 ...\n",
      "  ..$ Nnode      : int 115\n",
      "  ..$ tip.label  : chr [1:116] \"Chamerion_angustifolium\" \"Epilobium_canuum\" \"Epilobium_ciliatum\" \"Oenothera_berlandieri\" ...\n",
      "  ..$ edge.length: num [1:230] 23.4 76.6 52.3 24.2 24.2 ...\n",
      "  ..$ S.id       : chr \"10384\"\n",
      "  ..$ Tr.id      : chr \"47552\"\n",
      "  ..$ type       : chr \"Single\"\n",
      "  ..$ kind       : chr \"Species Tree\"\n",
      "  ..$ quality    : chr \"Unrated\"\n",
      "  ..$ ntax       : chr \"116\"\n",
      "  ..- attr(*, \"class\")= chr \"phylo\"\n",
      "  ..- attr(*, \"stderr\")= num [1:115] 7.29 6.1 3.48 5.26 5.2 ...\n",
      "  ..- attr(*, \"Pval\")= num [1:115] 1 1 1 1 1 ...\n",
      " $ :List of 10\n",
      "  ..$ edge       : int [1:592, 1:2] 298 298 299 299 300 301 301 302 303 303 ...\n",
      "  ..$ Nnode      : int 296\n",
      "  ..$ tip.label  : chr [1:297] \"Anadenanthera_colubrina_CEH2308\" \"Piptadenia_viridiflora_CEH1681\" \"Microlobius_foetidus_CEH2150\" \"Stryphnodendron_adstringens_MFS734\" ...\n",
      "  ..$ edge.length: num [1:592] 0.04466 0.00243 0.04224 -0.00011 0.03486 ...\n",
      "  ..$ S.id       : chr \"11700\"\n",
      "  ..$ Tr.id      : chr \"47391\"\n",
      "  ..$ type       : chr \"Single\"\n",
      "  ..$ kind       : chr \"Species Tree\"\n",
      "  ..$ quality    : chr \"Unrated\"\n",
      "  ..$ ntax       : chr \"297\"\n",
      "  ..- attr(*, \"class\")= chr \"phylo\"\n",
      "  ..- attr(*, \"order\")= chr \"cladewise\"\n",
      "  ..- attr(*, \"stderr\")= num [1:296] 0.1648 0.1574 0.1579 0.0483 0.0479 ...\n",
      "  ..- attr(*, \"Pval\")= num [1:296] 0.807 0.862 0.838 0.997 0.996 ...\n",
      " $ :List of 10\n",
      "  ..$ edge       : int [1:64, 1:2] 34 35 36 36 37 37 35 38 39 39 ...\n",
      "  ..$ Nnode      : int 32\n",
      "  ..$ tip.label  : chr [1:33] \"Tuomeya_americana_GenBank_AF029159\" \"Batrachospermum_gelatinosum_GenBank_AF029141\" \"Batrachospermum_gelatinosum_GenBank_EF375888\" \"Paralemanea_annulata_GenBank_DQ449029\" ...\n",
      "  ..$ edge.length: num [1:64] -0.01822 0.07847 0.07648 0.07373 0.00275 ...\n",
      "  ..$ S.id       : chr \"11800\"\n",
      "  ..$ Tr.id      : chr \"47788\"\n",
      "  ..$ type       : chr \"Single\"\n",
      "  ..$ kind       : chr \"Species Tree\"\n",
      "  ..$ quality    : chr \"Unrated\"\n",
      "  ..$ ntax       : chr \"33\"\n",
      "  ..- attr(*, \"class\")= chr \"phylo\"\n",
      "  ..- attr(*, \"order\")= chr \"cladewise\"\n",
      "  ..- attr(*, \"stderr\")= num [1:32] 0.2181 0.2408 0.1977 0.0371 0.1916 ...\n",
      "  ..- attr(*, \"Pval\")= num [1:32] 0.801 0.862 0.926 0.952 0.978 ...\n",
      " $ :List of 10\n",
      "  ..$ edge       : int [1:30, 1:2] 17 17 18 19 20 21 22 22 23 23 ...\n",
      "  ..$ Nnode      : int 15\n",
      "  ..$ tip.label  : chr [1:16] \"Ruta_macrophylla_Sn\" \"Thamnosma_africana_21900\" \"Thamnosma_africana_8927\" \"Thamnosma_crenata_224\" ...\n",
      "  ..$ edge.length: num [1:30] 30.956 16.537 1.231 0.903 5.225 ...\n",
      "  ..$ S.id       : chr \"10797\"\n",
      "  ..$ Tr.id      : chr \"26208\"\n",
      "  ..$ type       : chr \"Single\"\n",
      "  ..$ kind       : chr \"Species Tree\"\n",
      "  ..$ quality    : chr \"Unrated\"\n",
      "  ..$ ntax       : chr \"16\"\n",
      "  ..- attr(*, \"class\")= chr \"phylo\"\n",
      "  ..- attr(*, \"stderr\")= num [1:15] 4.34 2.19 2.05 2.3 1.46 ...\n",
      "  ..- attr(*, \"Pval\")= num [1:15] 1 1 1 1 1 1 1 1 1 1 ...\n",
      " $ :List of 10\n",
      "  ..$ edge       : int [1:12, 1:2] 8 9 9 10 11 11 10 12 12 8 ...\n",
      "  ..$ Nnode      : int 6\n",
      "  ..$ tip.label  : chr [1:7] \"Cyanotrama_gypsea_CN\" \"Cyanotrama_gypsea_CN_3\" \"Cyanotrama_gypsea_CN_2\" \"Cyanotrama_rimosa_IR\" ...\n",
      "  ..$ edge.length: num [1:12] -0.0255 0.0922 0.0533 0.0265 0.0124 ...\n",
      "  ..$ S.id       : chr \"11725\"\n",
      "  ..$ Tr.id      : chr \"47420\"\n",
      "  ..$ type       : chr \"Consensus\"\n",
      "  ..$ kind       : chr \"Species Tree\"\n",
      "  ..$ quality    : chr \"Unrated\"\n",
      "  ..$ ntax       : chr \"7\"\n",
      "  ..- attr(*, \"class\")= chr \"phylo\"\n",
      "  ..- attr(*, \"order\")= chr \"cladewise\"\n",
      "  ..- attr(*, \"stderr\")= num [1:6] 0.1749 0.2444 0.1323 0.0787 0.0395 ...\n",
      "  ..- attr(*, \"Pval\")= num [1:6] 0.719 0.719 0.973 0.964 1 ...\n",
      " $ :List of 10\n",
      "  ..$ edge       : int [1:186, 1:2] 95 96 97 98 99 100 101 102 103 104 ...\n",
      "  ..$ Nnode      : int 93\n",
      "  ..$ tip.label  : chr [1:94] \"Deuterocohnia_lotteae\" \"Deuterocohnia_glandulosa\" \"Deuterocohnia_longipetala\" \"Dyckia_dawsonii\" ...\n",
      "  ..$ edge.length: num [1:186] 87.9 71.1 72.6 74.1 30.1 ...\n",
      "  ..$ S.id       : chr \"11152\"\n",
      "  ..$ Tr.id      : chr \"27338\"\n",
      "  ..$ type       : chr \"Consensus\"\n",
      "  ..$ kind       : chr \"Species Tree\"\n",
      "  ..$ quality    : chr \"Preferred Tree\"\n",
      "  ..$ ntax       : chr \"94\"\n",
      "  ..- attr(*, \"class\")= chr \"phylo\"\n",
      "  ..- attr(*, \"stderr\")= num [1:93] 24.1 22.2 20.6 18.9 16.8 ...\n",
      "  ..- attr(*, \"Pval\")= num [1:93] 0.00 1.11e-250 3.71e-234 3.63e-222 8.53e-28 ...\n",
      " $ :List of 10\n",
      "  ..$ edge       : int [1:54, 1:2] 29 30 30 31 31 32 33 33 32 34 ...\n",
      "  ..$ Nnode      : int 27\n",
      "  ..$ tip.label  : chr [1:28] \"Dacrymyces_chrysospermus_AF287855\" \"Botryobasidium_isabellinum_AF393047\" \"Clavulina_cinerea_AM259211\" \"Craterellus_tubaeformis_AF287851\" ...\n",
      "  ..$ edge.length: num [1:54] -0.0106 0.8621 0.1146 0.7475 0.1157 ...\n",
      "  ..$ S.id       : chr \"12709\"\n",
      "  ..$ Tr.id      : chr \"52823\"\n",
      "  ..$ type       : chr \"Consensus\"\n",
      "  ..$ kind       : chr \"Species Tree\"\n",
      "  ..$ quality    : chr \"Preferred Tree\"\n",
      "  ..$ ntax       : chr \"28\"\n",
      "  ..- attr(*, \"class\")= chr \"phylo\"\n",
      "  ..- attr(*, \"order\")= chr \"cladewise\"\n",
      "  ..- attr(*, \"stderr\")= num [1:27] 0.793 0.822 0.771 0.71 0.168 ...\n",
      "  ..- attr(*, \"Pval\")= num [1:27] 0.791 0.622 0.523 0.722 0.978 ...\n",
      " $ :List of 10\n",
      "  ..$ edge       : int [1:244, 1:2] 124 125 125 124 126 126 127 128 128 127 ...\n",
      "  ..$ Nnode      : int 122\n",
      "  ..$ tip.label  : chr [1:123] \"Tineola_bisselliella_TBI3\" \"Tinea_columbariella_TCO2\" \"Hemerophila_felis_HFEL\" \"Alucita_sp_ALSP\" ...\n",
      "  ..$ edge.length: num [1:244] 0.825 0.093 0.093 0.283 0.634 ...\n",
      "  ..$ S.id       : chr \"11299\"\n",
      "  ..$ Tr.id      : chr \"50482\"\n",
      "  ..$ type       : chr \"Single\"\n",
      "  ..$ kind       : chr \"Species Tree\"\n",
      "  ..$ quality    : chr \"Unrated\"\n",
      "  ..$ ntax       : chr \"123\"\n",
      "  ..- attr(*, \"class\")= chr \"phylo\"\n",
      "  ..- attr(*, \"stderr\")= num [1:122] 0.657 0.216 0.392 0.321 0.436 ...\n",
      "  ..- attr(*, \"Pval\")= num [1:122] 0.541 0.99 0.847 0.773 0.908 ...\n",
      " $ :List of 10\n",
      "  ..$ edge       : int [1:54, 1:2] 29 30 31 32 33 34 35 35 34 33 ...\n",
      "  ..$ Nnode      : int 27\n",
      "  ..$ tip.label  : chr [1:28] \"Potamogeton_alpinus_EF471076\" \"Potamogeton_alpinus_EF471077\" \"Potamogeton_alpinus_AB120537\" \"Potamogeton_distinctus_EF471047\" ...\n",
      "  ..$ edge.length: num [1:54] 22.47 2.2 2.42 1.34 5.6 ...\n",
      "  ..$ S.id       : chr \"12324\"\n",
      "  ..$ Tr.id      : chr \"50653\"\n",
      "  ..$ type       : chr \"Single\"\n",
      "  ..$ kind       : chr \"Species Tree\"\n",
      "  ..$ quality    : chr \"Unrated\"\n",
      "  ..$ ntax       : chr \"28\"\n",
      "  ..- attr(*, \"class\")= chr \"phylo\"\n",
      "  ..- attr(*, \"order\")= chr \"cladewise\"\n",
      "  ..- attr(*, \"stderr\")= num [1:27] 5.14 2.32 1.95 1.7 1.67 ...\n",
      "  ..- attr(*, \"Pval\")= num [1:27] 0.0341 0.2764 0.5007 0.4354 0.8082 ...\n",
      " $ :List of 11\n",
      "  ..$ edge       : int [1:94, 1:2] 49 50 50 51 51 52 53 53 54 54 ...\n",
      "  ..$ Nnode      : int 47\n",
      "  ..$ tip.label  : chr [1:48] \"Acropora_millepora\" \"Nematostella_vectensis\" \"Hydra_magnipapillata\" \"Strongylocentrotus_purpuratus\" ...\n",
      "  ..$ edge.length: num [1:94] -0.01253 0.48891 0.10552 0.38339 0.00629 ...\n",
      "  ..$ node.label : chr [1:47] \"\" \"\" \"1.00\" \"0.97\" ...\n",
      "  ..$ S.id       : chr \"10436\"\n",
      "  ..$ Tr.id      : chr \"25684\"\n",
      "  ..$ type       : chr \"Single\"\n",
      "  ..$ kind       : chr \"Gene Tree\"\n",
      "  ..$ quality    : chr \"Unrated\"\n",
      "  ..$ ntax       : chr \"48\"\n",
      "  ..- attr(*, \"class\")= chr \"phylo\"\n",
      "  ..- attr(*, \"order\")= chr \"cladewise\"\n",
      "  ..- attr(*, \"stderr\")= num [1:47] 0.396 0.413 0.265 0.253 0.301 ...\n",
      "  ..- attr(*, \"Pval\")= num [1:47] 0.574 0.899 0.795 0.698 0.846 ...\n",
      " $ :List of 10\n",
      "  ..$ edge       : int [1:50, 1:2] 27 28 29 30 30 31 31 32 32 29 ...\n",
      "  ..$ Nnode      : int 25\n",
      "  ..$ tip.label  : chr [1:26] \"Amytornis_barbatus_3a\" \"Amytornis_merrotsyi_1a\" \"Amytornis_dorotheae_2a\" \"Amytornis_striatus_1a\" ...\n",
      "  ..$ edge.length: num [1:50] 0.033387 0.023662 0.000515 0.01269 -0.000574 ...\n",
      "  ..$ S.id       : chr \"11849\"\n",
      "  ..$ Tr.id      : chr \"48405\"\n",
      "  ..$ type       : chr \"Single\"\n",
      "  ..$ kind       : chr \"Gene Tree\"\n",
      "  ..$ quality    : chr \"Unrated\"\n",
      "  ..$ ntax       : chr \"26\"\n",
      "  ..- attr(*, \"class\")= chr \"phylo\"\n",
      "  ..- attr(*, \"stderr\")= num [1:25] 0.2031 0.0987 0.0505 0.0632 0.0767 ...\n",
      "  ..- attr(*, \"Pval\")= num [1:25] 0.896 0.972 0.977 0.986 0.951 ...\n",
      " $ :List of 10\n",
      "  ..$ edge       : int [1:22, 1:2] 13 14 15 16 16 15 17 18 18 19 ...\n",
      "  ..$ Nnode      : int 11\n",
      "  ..$ tip.label  : chr [1:12] \"Pyrenophora_semeniperda_ITS_Haplotype_A\" \"Pyrenophora_semeniperda_ITS_Haplotype_B\" \"Pyrenophora_semeniperda_ITS_Haplotype_K\" \"Pyrenophora_semeniperda_ITS_Haplotype_M\" ...\n",
      "  ..$ edge.length: num [1:22] -0.883 3.189 3.611 0.5 0.5 ...\n",
      "  ..$ S.id       : chr \"10386\"\n",
      "  ..$ Tr.id      : chr \"7802\"\n",
      "  ..$ type       : chr \"Single\"\n",
      "  ..$ kind       : chr \"Species Tree\"\n",
      "  ..$ quality    : chr \"Unrated\"\n",
      "  ..$ ntax       : chr \"12\"\n",
      "  ..- attr(*, \"class\")= chr \"phylo\"\n",
      "  ..- attr(*, \"order\")= chr \"cladewise\"\n",
      "  ..- attr(*, \"stderr\")= num [1:11] 1.84 2.19 1.38 0.5 1.07 ...\n",
      "  ..- attr(*, \"Pval\")= num [1:11] 0.03458 0.000852 0.011716 0.317311 0.657866 ...\n",
      " $ :List of 10\n",
      "  ..$ edge       : int [1:230, 1:2] 117 118 118 119 119 117 120 121 122 123 ...\n",
      "  ..$ Nnode      : int 115\n",
      "  ..$ tip.label  : chr [1:116] \"Chamerion_angustifolium\" \"Epilobium_canuum\" \"Epilobium_ciliatum\" \"Oenothera_berlandieri\" ...\n",
      "  ..$ edge.length: num [1:230] 25 75 42.7 32.3 32.3 ...\n",
      "  ..$ S.id       : chr \"10384\"\n",
      "  ..$ Tr.id      : chr \"47553\"\n",
      "  ..$ type       : chr \"Single\"\n",
      "  ..$ kind       : chr \"Species Tree\"\n",
      "  ..$ quality    : chr \"Unrated\"\n",
      "  ..$ ntax       : chr \"116\"\n",
      "  ..- attr(*, \"class\")= chr \"phylo\"\n",
      "  ..- attr(*, \"stderr\")= num [1:115] 6.79 5.87 4.02 5.78 5.2 ...\n",
      "  ..- attr(*, \"Pval\")= num [1:115] 1 1 1 1 1 ...\n",
      " $ :List of 10\n",
      "  ..$ edge       : int [1:460, 1:2] 232 233 234 234 233 235 235 236 236 232 ...\n",
      "  ..$ Nnode      : int 230\n",
      "  ..$ tip.label  : chr [1:231] \"Pristocera_sp_MAD01\" \"Pristocera_sp_Beth04\" \"Parnopes_grandior\" \"Plumarius_sp_Plu04\" ...\n",
      "  ..$ edge.length: num [1:460] 0.09351 0.14084 0.07666 0.07666 -0.00858 ...\n",
      "  ..$ S.id       : chr \"12543\"\n",
      "  ..$ Tr.id      : chr \"52006\"\n",
      "  ..$ type       : chr \"Consensus\"\n",
      "  ..$ kind       : chr \"Species Tree\"\n",
      "  ..$ quality    : chr \"Unrated\"\n",
      "  ..$ ntax       : chr \"231\"\n",
      "  ..- attr(*, \"class\")= chr \"phylo\"\n",
      "  ..- attr(*, \"stderr\")= num [1:230] 0.299 0.257 0.196 0.321 0.148 ...\n",
      "  ..- attr(*, \"Pval\")= num [1:230] 0.838 0.895 0.901 0.802 0.856 ...\n",
      " $ :List of 10\n",
      "  ..$ edge       : int [1:50, 1:2] 27 28 29 29 30 30 31 32 32 31 ...\n",
      "  ..$ Nnode      : int 25\n",
      "  ..$ tip.label  : chr [1:26] \"Amytornis_striatus_1a\" \"Amytornis_dorotheae_2a\" \"Amytornis_barbatus_3a\" \"Amytornis_merrotsyi_1a\" ...\n",
      "  ..$ edge.length: num [1:50] 0.014138 0.021705 0.008835 0.000135 0.0087 ...\n",
      "  ..$ S.id       : chr \"11849\"\n",
      "  ..$ Tr.id      : chr \"48407\"\n",
      "  ..$ type       : chr \"Single\"\n",
      "  ..$ kind       : chr \"Gene Tree\"\n",
      "  ..$ quality    : chr \"Unrated\"\n",
      "  ..$ ntax       : chr \"26\"\n",
      "  ..- attr(*, \"class\")= chr \"phylo\"\n",
      "  ..- attr(*, \"stderr\")= num [1:25] 0.1593 0.1101 0.0482 0.0528 0.0604 ...\n",
      "  ..- attr(*, \"Pval\")= num [1:25] 0.883 0.924 0.991 0.869 0.955 ...\n",
      " $ :List of 11\n",
      "  ..$ edge       : int [1:74, 1:2] 39 40 41 41 42 43 44 44 43 45 ...\n",
      "  ..$ Nnode      : int 37\n",
      "  ..$ tip.label  : chr [1:38] \"Fomitopsis_pinicola_AFTOL770_AY864874\" \"Dentocorticium_sulphurellum_FP11801\" \"Lopharia_cinerascens_FP105043sp\" \"Trametes_cubensis_TJV_93_213sp\" ...\n",
      "  ..$ edge.length: num [1:74] 0.4331 0.0298 0.5489 0.0418 0.0839 ...\n",
      "  ..$ node.label : chr [1:37] \"\" \"100\" \"60\" \"90\" ...\n",
      "  ..$ S.id       : chr \"11678\"\n",
      "  ..$ Tr.id      : chr \"50261\"\n",
      "  ..$ type       : chr \"Single\"\n",
      "  ..$ kind       : chr \"Species Tree\"\n",
      "  ..$ quality    : chr \"Unrated\"\n",
      "  ..$ ntax       : chr \"38\"\n",
      "  ..- attr(*, \"class\")= chr \"phylo\"\n",
      "  ..- attr(*, \"stderr\")= num [1:37] 0.784 0.484 0.499 0.472 0.396 ...\n",
      "  ..- attr(*, \"Pval\")= num [1:37] 0.775 0.845 0.994 0.765 0.799 ...\n",
      " $ :List of 10\n",
      "  ..$ edge       : int [1:206, 1:2] 105 106 106 105 107 108 108 109 109 110 ...\n",
      "  ..$ Nnode      : int 103\n",
      "  ..$ tip.label  : chr [1:104] \"Cryptococcus_neoformans\" \"Cryptococcus_sp\" \"Calocera_cornea\" \"Dacryopinax_spathularia\" ...\n",
      "  ..$ edge.length: num [1:206] 0.385 0.161 0.161 0.154 0.272 ...\n",
      "  ..$ S.id       : chr \"10711\"\n",
      "  ..$ Tr.id      : chr \"50442\"\n",
      "  ..$ type       : chr \"Single\"\n",
      "  ..$ kind       : chr \"Species Tree\"\n",
      "  ..$ quality    : chr \"Preferred Tree\"\n",
      "  ..$ ntax       : chr \"104\"\n",
      "  ..- attr(*, \"class\")= chr \"phylo\"\n",
      "  ..- attr(*, \"stderr\")= num [1:103] 0.583 0.284 0.442 0.213 0.208 ...\n",
      "  ..- attr(*, \"Pval\")= num [1:103] 0.764 0.888 0.932 0.939 0.842 ...\n",
      " $ :List of 10\n",
      "  ..$ edge       : int [1:128, 1:2] 66 66 67 67 68 69 69 70 70 71 ...\n",
      "  ..$ Nnode      : int 64\n",
      "  ..$ tip.label  : chr [1:65] \"Teratosphaeria_zuluensis_DQ240102\" \"Teratosphaeria_cryptica_DQ658234\" \"Teratosphaeria_molleriana_DQ240115\" \"Teratosphaeria_nubilosa_DQ658232\" ...\n",
      "  ..$ edge.length: num [1:128] 0.1959 0.0446 0.1512 0.0211 0.0262 ...\n",
      "  ..$ S.id       : chr \"11949\"\n",
      "  ..$ Tr.id      : chr \"48953\"\n",
      "  ..$ type       : chr \"Single\"\n",
      "  ..$ kind       : chr \"Species Tree\"\n",
      "  ..$ quality    : chr \"Unrated\"\n",
      "  ..$ ntax       : chr \"65\"\n",
      "  ..- attr(*, \"class\")= chr \"phylo\"\n",
      "  ..- attr(*, \"order\")= chr \"cladewise\"\n",
      "  ..- attr(*, \"stderr\")= num [1:64] 0.409 0.354 0.329 0.256 0.194 ...\n",
      "  ..- attr(*, \"Pval\")= num [1:64] 0.747 0.986 0.948 0.837 0.922 ...\n",
      " $ :List of 11\n",
      "  ..$ edge       : int [1:16, 1:2] 10 10 11 12 12 11 13 14 15 15 ...\n",
      "  ..$ Nnode      : int 8\n",
      "  ..$ tip.label  : chr [1:9] \"Danio_rerio\" \"Xenopus_tropicalis\" \"Pseudacris_feriarum\" \"Crotalus_adamanteus\" ...\n",
      "  ..$ edge.length: num [1:16] 0.38 0.1696 0.1234 0.0871 0.0871 ...\n",
      "  ..$ node.label : chr [1:8] \"\" \"1.00\" \"1.00\" \"1.00\" ...\n",
      "  ..$ S.id       : chr \"12669\"\n",
      "  ..$ Tr.id      : chr \"52567\"\n",
      "  ..$ type       : chr \"Consensus\"\n",
      "  ..$ kind       : chr \"Species Tree\"\n",
      "  ..$ quality    : chr \"Unrated\"\n",
      "  ..$ ntax       : chr \"9\"\n",
      "  ..- attr(*, \"class\")= chr \"phylo\"\n",
      "  ..- attr(*, \"stderr\")= num [1:8] 0.447 0.279 0.209 0.189 0.229 ...\n",
      "  ..- attr(*, \"Pval\")= num [1:8] 1 1 1 1 1 ...\n",
      " $ :List of 11\n",
      "  ..$ edge       : int [1:16, 1:2] 10 11 11 12 12 13 13 14 14 10 ...\n",
      "  ..$ Nnode      : int 8\n",
      "  ..$ tip.label  : chr [1:9] \"Phytophthora_ramorum_EU2\" \"Phytophthora_ramorum_EU1b\" \"Phytophthora_lateralis\" \"Phytophthora_ramorum_EU1a\" ...\n",
      "  ..$ edge.length: num [1:16] 0.00219 0.05096 0.04398 0.00697 0.00358 ...\n",
      "  ..$ node.label : chr [1:8] \"\" \"\" \"0.8880\" \"0.6450\" ...\n",
      "  ..$ S.id       : chr \"12540\"\n",
      "  ..$ Tr.id      : chr \"51991\"\n",
      "  ..$ type       : chr \"Consensus\"\n",
      "  ..$ kind       : chr \"Gene Tree\"\n",
      "  ..$ quality    : chr \"Unrated\"\n",
      "  ..$ ntax       : chr \"9\"\n",
      "  ..- attr(*, \"class\")= chr \"phylo\"\n",
      "  ..- attr(*, \"order\")= chr \"cladewise\"\n",
      "  ..- attr(*, \"stderr\")= num [1:8] 0.111 0.1453 0.0611 0.0432 0 ...\n",
      "  ..- attr(*, \"Pval\")= num [1:8] 0.982 0.772 0.982 0.998 NaN ...\n",
      " $ :List of 10\n",
      "  ..$ edge       : int [1:134, 1:2] 69 69 70 71 72 73 73 72 71 74 ...\n",
      "  ..$ Nnode      : int 67\n",
      "  ..$ tip.label  : chr [1:68] \"Articulospora_tetracladia_CCM_F_11805\" \"Articulospora_tetracladia_CCM_F_113\" \"Articulospora_tetracladia_CCM_F_11607\" \"Articulospora_tetracladia_UMB_338.07\" ...\n",
      "  ..$ edge.length: num [1:134] 2.45e-02 1.38e-02 6.97e-03 3.77e-03 1.65e-24 ...\n",
      "  ..$ S.id       : chr \"12145\"\n",
      "  ..$ Tr.id      : chr \"51293\"\n",
      "  ..$ type       : chr \"Single\"\n",
      "  ..$ kind       : chr \"Species Tree\"\n",
      "  ..$ quality    : chr \"Unrated\"\n",
      "  ..$ ntax       : chr \"68\"\n",
      "  ..- attr(*, \"class\")= chr \"phylo\"\n",
      "  ..- attr(*, \"order\")= chr \"cladewise\"\n",
      "  ..- attr(*, \"stderr\")= num [1:67] 1.37e-01 7.29e-02 5.20e-02 5.77e-05 7.07e-05 ...\n",
      "  ..- attr(*, \"Pval\")= num [1:67] 0.953 0.994 0.942 1 1 ...\n",
      " $ :List of 10\n",
      "  ..$ edge       : int [1:200, 1:2] 102 103 104 105 106 107 108 109 110 111 ...\n",
      "  ..$ Nnode      : int 100\n",
      "  ..$ tip.label  : chr [1:101] \"Crossidium_crassinerve\" \"Stegonia_latifolia\" \"Pterygoneurum_ovatum\" \"Tortula_subulata\" ...\n",
      "  ..$ edge.length: num [1:200] 0.00886 0.00275 0.00402 0.00242 0.00285 ...\n",
      "  ..$ S.id       : chr \"11093\"\n",
      "  ..$ Tr.id      : chr \"26268\"\n",
      "  ..$ type       : chr \"Single\"\n",
      "  ..$ kind       : chr \"Species Tree\"\n",
      "  ..$ quality    : chr \"Unrated\"\n",
      "  ..$ ntax       : chr \"101\"\n",
      "  ..- attr(*, \"class\")= chr \"phylo\"\n",
      "  ..- attr(*, \"order\")= chr \"cladewise\"\n",
      "  ..- attr(*, \"stderr\")= num [1:100] 0.1551 0.1233 0.1125 0.0927 0.1051 ...\n",
      "  ..- attr(*, \"Pval\")= num [1:100] 0.799 0.907 0.848 0.999 0.908 ...\n",
      " $ :List of 11\n",
      "  ..$ edge       : int [1:20, 1:2] 12 13 13 14 14 15 16 17 18 19 ...\n",
      "  ..$ Nnode      : int 10\n",
      "  ..$ tip.label  : chr [1:11] \"Chloromonas_insignis_NIES447\" \"Chloromonas_serbinowii_UTEX_492\" \"Chloromonas_augstae_SAG_5.73\" \"Chloromonas_chlorococcoides_SAG_12.96\" ...\n",
      "  ..$ edge.length: num [1:20] -0.00387 0.54196 0.04279 0.49917 0.29284 ...\n",
      "  ..$ node.label : chr [1:10] \"\" \"\" \"0.90\" \"1.00\" ...\n",
      "  ..$ S.id       : chr \"11658\"\n",
      "  ..$ Tr.id      : chr \"46921\"\n",
      "  ..$ type       : chr \"Single\"\n",
      "  ..$ kind       : chr \"Species Tree\"\n",
      "  ..$ quality    : chr \"Unrated\"\n",
      "  ..$ ntax       : chr \"11\"\n",
      "  ..- attr(*, \"class\")= chr \"phylo\"\n",
      "  ..- attr(*, \"order\")= chr \"cladewise\"\n",
      "  ..- attr(*, \"stderr\")= num [1:10] 0.504 0.55 0.556 0.329 0.277 ...\n",
      "  ..- attr(*, \"Pval\")= num [1:10] 0.962 0.842 0.854 0.925 0.955 ...\n",
      " $ :List of 11\n",
      "  ..$ edge       : int [1:78, 1:2] 41 42 42 43 44 45 46 46 45 44 ...\n",
      "  ..$ Nnode      : int 39\n",
      "  ..$ tip.label  : chr [1:40] \"Dendroaspis_polylepis_P01416_outgroup\" \"Acanthophis_antarcticus_P01434\" \"Aipysurus_laevis_P19958\" \"Aipysurus_laevis_P19960\" ...\n",
      "  ..$ edge.length: num [1:78] 0.3353 0.3202 0.1139 0.0673 0.095 ...\n",
      "  ..$ node.label : chr [1:39] \"\" \"\" \"0.61\" \"0.62\" ...\n",
      "  ..$ S.id       : chr \"10791\"\n",
      "  ..$ Tr.id      : chr \"21140\"\n",
      "  ..$ type       : chr \"Single\"\n",
      "  ..$ kind       : chr \"Gene Tree\"\n",
      "  ..$ quality    : chr \"Unrated\"\n",
      "  ..$ ntax       : chr \"40\"\n",
      "  ..- attr(*, \"class\")= chr \"phylo\"\n",
      "  ..- attr(*, \"order\")= chr \"cladewise\"\n",
      "  ..- attr(*, \"stderr\")= num [1:39] 0.502 0.417 0.314 0.222 0.148 ...\n",
      "  ..- attr(*, \"Pval\")= num [1:39] 0.565 0.986 0.931 0.986 0.893 ...\n",
      " $ :List of 11\n",
      "  ..$ edge       : int [1:52, 1:2] 28 29 29 30 30 28 31 32 33 33 ...\n",
      "  ..$ Nnode      : int 26\n",
      "  ..$ tip.label  : chr [1:27] \"Tuber_sp.1_K201\" \"Tuber_sp.2_K108\" \"Tuber_sp.2_K207\" \"Tuber_sp.2_K440\" ...\n",
      "  ..$ edge.length: num [1:52] -0.0428 0.1304 0.0994 0.031 0.031 ...\n",
      "  ..$ node.label : chr [1:26] \"\" \"\" \"0.93\" \"0.98\" ...\n",
      "  ..$ S.id       : chr \"10673\"\n",
      "  ..$ Tr.id      : chr \"25408\"\n",
      "  ..$ type       : chr \"Single\"\n",
      "  ..$ kind       : chr \"Species Tree\"\n",
      "  ..$ quality    : chr \"Unrated\"\n",
      "  ..$ ntax       : chr \"27\"\n",
      "  ..- attr(*, \"class\")= chr \"phylo\"\n",
      "  ..- attr(*, \"order\")= chr \"cladewise\"\n",
      "  ..- attr(*, \"stderr\")= num [1:26] 0.2433 0.2429 0.1244 0.0599 0.0491 ...\n",
      "  ..- attr(*, \"Pval\")= num [1:26] 0.895 0.866 1 0.977 0.883 ...\n",
      " $ :List of 11\n",
      "  ..$ edge       : int [1:28, 1:2] 16 17 18 19 19 18 17 20 20 16 ...\n",
      "  ..$ Nnode      : int 14\n",
      "  ..$ tip.label  : chr [1:15] \"Daldinia_clavata_AY951693\" \"Annulohypoxylon_elevatidiscus_AY951656\" \"Hypoxylon_duranii_AY951714\" \"Chaetomidium_subfimeti_FJ666373\" ...\n",
      "  ..$ edge.length: num [1:28] 0.03241 0.01768 0.00233 0.04796 0.04796 ...\n",
      "  ..$ node.label : chr [1:14] \"\" \"0.95\" \"0.12\" \"0.53\" ...\n",
      "  ..$ S.id       : chr \"11183\"\n",
      "  ..$ Tr.id      : chr \"27454\"\n",
      "  ..$ type       : chr \"Single\"\n",
      "  ..$ kind       : chr \"Species Tree\"\n",
      "  ..$ quality    : chr \"Unrated\"\n",
      "  ..$ ntax       : chr \"15\"\n",
      "  ..- attr(*, \"class\")= chr \"phylo\"\n",
      "  ..- attr(*, \"stderr\")= num [1:14] 0.153 0.127 0.137 0.155 0.197 ...\n",
      "  ..- attr(*, \"Pval\")= num [1:14] 0.982 0.895 0.94 0.913 0.978 ...\n",
      " $ :List of 10\n",
      "  ..$ edge       : int [1:402, 1:2] 203 204 204 203 205 206 207 207 208 208 ...\n",
      "  ..$ Nnode      : int 201\n",
      "  ..$ tip.label  : chr [1:202] \"Agalychnis_callidryas\" \"Litoria_caerulea\" \"Craugastor_daryi_UTA_A57940\" \"Craugastor_longirostris_MVUP_2019\" ...\n",
      "  ..$ edge.length: num [1:402] 0.754 0.516 0.516 0.356 -0.206 ...\n",
      "  ..$ S.id       : chr \"11988\"\n",
      "  ..$ Tr.id      : chr \"48962\"\n",
      "  ..$ type       : chr \"Consensus\"\n",
      "  ..$ kind       : chr \"Species Tree\"\n",
      "  ..$ quality    : chr \"Unrated\"\n",
      "  ..$ ntax       : chr \"202\"\n",
      "  ..- attr(*, \"class\")= chr \"phylo\"\n",
      "  ..- attr(*, \"order\")= chr \"cladewise\"\n",
      "  ..- attr(*, \"stderr\")= num [1:201] 0.837 0.508 0.593 0.656 0.639 ...\n",
      "  ..- attr(*, \"Pval\")= num [1:201] 0.44 0.723 0.762 0.894 0.626 ...\n",
      " $ :List of 10\n",
      "  ..$ edge       : int [1:142, 1:2] 73 74 75 76 77 78 79 80 81 82 ...\n",
      "  ..$ Nnode      : int 71\n",
      "  ..$ tip.label  : chr [1:72] \"Exserohilum_pedicellatum\" \"Embellisia_annulata\" \"Stemphylium_botryosum\" \"Stemphylium_vesicarium\" ...\n",
      "  ..$ edge.length: num [1:142] -3.91 38.87 4.63 5.79 5.26 ...\n",
      "  ..$ S.id       : chr \"11665\"\n",
      "  ..$ Tr.id      : chr \"46960\"\n",
      "  ..$ type       : chr \"Single\"\n",
      "  ..$ kind       : chr \"Species Tree\"\n",
      "  ..$ quality    : chr \"Unrated\"\n",
      "  ..$ ntax       : chr \"72\"\n",
      "  ..- attr(*, \"class\")= chr \"phylo\"\n",
      "  ..- attr(*, \"order\")= chr \"cladewise\"\n",
      "  ..- attr(*, \"stderr\")= num [1:71] 7.6 8.16 5.34 4.93 4.52 ...\n",
      "  ..- attr(*, \"Pval\")= num [1:71] 7.80e-08 5.91e-14 1.43e-10 2.08e-06 3.62e-03 ...\n",
      " $ :List of 10\n",
      "  ..$ edge       : int [1:48, 1:2] 26 27 28 29 30 30 31 32 33 34 ...\n",
      "  ..$ Nnode      : int 24\n",
      "  ..$ tip.label  : chr [1:25] \"'CharabrauniiA-1'\" \"'CharabrauniiA-12'\" \"'CharabrauniiA-2'\" \"'CharabrauniiA-6'\" ...\n",
      "  ..$ edge.length: num [1:48] 1.228 3.161 2.047 0.972 0.111 ...\n",
      "  ..$ S.id       : chr \"11126\"\n",
      "  ..$ Tr.id      : chr \"26555\"\n",
      "  ..$ type       : chr \"Single\"\n",
      "  ..$ kind       : chr \"Species Tree\"\n",
      "  ..$ quality    : chr \"Unrated\"\n",
      "  ..$ ntax       : chr \"25\"\n",
      "  ..- attr(*, \"class\")= chr \"phylo\"\n",
      "  ..- attr(*, \"stderr\")= num [1:24] 1.949 2.014 1.183 0.777 0.111 ...\n",
      "  ..- attr(*, \"Pval\")= num [1:24] 1.65e-06 3.08e-01 9.67e-01 9.29e-01 3.17e-01 ...\n",
      " $ :List of 10\n",
      "  ..$ edge       : int [1:166, 1:2] 85 86 87 88 89 90 91 92 93 93 ...\n",
      "  ..$ Nnode      : int 83\n",
      "  ..$ tip.label  : chr [1:84] \"'Anaeromyxobactersp.Fw109-5'\" \"Candidatus_Nitrospira_defluvii\" \"'AnaerolineathermophilaUNI-1'\" \"'Bacillussp.m3-13'\" ...\n",
      "  ..$ edge.length: num [1:166] 0.151 0.1115 0.0508 0.0314 0.1192 ...\n",
      "  ..$ S.id       : chr \"12306\"\n",
      "  ..$ Tr.id      : chr \"50575\"\n",
      "  ..$ type       : chr \"Single\"\n",
      "  ..$ kind       : chr \"Species Tree\"\n",
      "  ..$ quality    : chr \"Unrated\"\n",
      "  ..$ ntax       : chr \"84\"\n",
      "  ..- attr(*, \"class\")= chr \"phylo\"\n",
      "  ..- attr(*, \"stderr\")= num [1:83] 0.51 0.506 0.494 0.44 0.403 ...\n",
      "  ..- attr(*, \"Pval\")= num [1:83] 0.947 0.743 0.57 0.539 0.91 ...\n",
      " $ :List of 10\n",
      "  ..$ edge       : int [1:116, 1:2] 60 61 61 60 62 63 64 64 65 65 ...\n",
      "  ..$ Nnode      : int 58\n",
      "  ..$ tip.label  : chr [1:59] \"Pepinia_sanguinea\" \"Pitcairnia_orchidifolia\" \"Bromelia_agavifolia\" \"Bromelia_balansae\" ...\n",
      "  ..$ edge.length: num [1:116] 0.02807 0.00217 0.00217 0.01441 0.00372 ...\n",
      "  ..$ S.id       : chr \"11314\"\n",
      "  ..$ Tr.id      : chr \"31307\"\n",
      "  ..$ type       : chr \"Single\"\n",
      "  ..$ kind       : chr \"Species Tree\"\n",
      "  ..$ quality    : chr \"Unrated\"\n",
      "  ..$ ntax       : chr \"59\"\n",
      "  ..- attr(*, \"class\")= chr \"phylo\"\n",
      "  ..- attr(*, \"order\")= chr \"cladewise\"\n",
      "  ..- attr(*, \"stderr\")= num [1:58] 0.1366 0.0329 0.0713 0.052 0.0155 ...\n",
      "  ..- attr(*, \"Pval\")= num [1:58] 0.943 0.947 0.989 0.996 0.963 ...\n",
      " $ :List of 10\n",
      "  ..$ edge       : int [1:112, 1:2] 58 58 59 60 60 61 62 62 61 63 ...\n",
      "  ..$ Nnode      : int 56\n",
      "  ..$ tip.label  : chr [1:57] \"Acanthisitta_chloris\" \"Pitta\" \"Hypocnemis_cantator\" \"Phlegopsis\" ...\n",
      "  ..$ edge.length: num [1:112] 0.2696 0.0742 0.0493 0.1461 0.0137 ...\n",
      "  ..$ S.id       : chr \"12179\"\n",
      "  ..$ Tr.id      : chr \"50065\"\n",
      "  ..$ type       : chr \"Consensus\"\n",
      "  ..$ kind       : chr \"Species Tree\"\n",
      "  ..$ quality    : chr \"Unrated\"\n",
      "  ..$ ntax       : chr \"57\"\n",
      "  ..- attr(*, \"class\")= chr \"phylo\"\n",
      "  ..- attr(*, \"order\")= chr \"cladewise\"\n",
      "  ..- attr(*, \"stderr\")= num [1:56] 0.368 0.25 0.214 0.208 0.151 ...\n",
      "  ..- attr(*, \"Pval\")= num [1:56] 0.675 0.919 0.994 0.976 0.997 ...\n",
      " $ :List of 10\n",
      "  ..$ edge       : int [1:26, 1:2] 15 16 17 18 18 19 19 17 20 20 ...\n",
      "  ..$ Nnode      : int 13\n",
      "  ..$ tip.label  : chr [1:14] \"Drymonema_larsoni_M0D15761E\" \"Drymonema_larsoni_M0D15765I\" \"Drymonema_larsoni_M0D16430X\" \"Drymonema_larsoni_M0D15759C\" ...\n",
      "  ..$ edge.length: num [1:26] 7.09e-02 1.72e-03 1.20e-03 1.67e-08 6.67e-09 ...\n",
      "  ..$ S.id       : chr \"10857\"\n",
      "  ..$ Tr.id      : chr \"21497\"\n",
      "  ..$ type       : chr \"Single\"\n",
      "  ..$ kind       : chr \"Species Tree\"\n",
      "  ..$ quality    : chr \"Unrated\"\n",
      "  ..$ ntax       : chr \"14\"\n",
      "  ..- attr(*, \"class\")= chr \"phylo\"\n",
      "  ..- attr(*, \"stderr\")= num [1:13] 1.99e-01 3.99e-02 2.42e-02 8.82e-05 7.07e-05 ...\n",
      "  ..- attr(*, \"Pval\")= num [1:13] 0.996 0.991 0.96 1 1 ...\n",
      " $ :List of 10\n",
      "  ..$ edge       : int [1:76, 1:2] 40 41 42 43 43 42 41 44 45 46 ...\n",
      "  ..$ Nnode      : int 38\n",
      "  ..$ tip.label  : chr [1:39] \"Bufo_eichwaldi_BB62\" \"Bufo_eichwaldi_BB84\" \"Bufo_eichwaldi_BB86\" \"Bufo_bufo_BB36\" ...\n",
      "  ..$ edge.length: num [1:76] 0.4903 0.79776 -0.00293 0.01663 0.01663 ...\n",
      "  ..$ S.id       : chr \"11885\"\n",
      "  ..$ Tr.id      : chr \"48519\"\n",
      "  ..$ type       : chr \"Consensus\"\n",
      "  ..$ kind       : chr \"Species Tree\"\n",
      "  ..$ quality    : chr \"Unrated\"\n",
      "  ..$ ntax       : chr \"39\"\n",
      "  ..- attr(*, \"class\")= chr \"phylo\"\n",
      "  ..- attr(*, \"order\")= chr \"cladewise\"\n",
      "  ..- attr(*, \"stderr\")= num [1:38] 0.886 0.6805 0.0676 0.0912 0.5049 ...\n",
      "  ..- attr(*, \"Pval\")= num [1:38] 0.93 0.642 0.945 0.924 0.974 ...\n",
      " $ :List of 11\n",
      "  ..$ edge       : int [1:524, 1:2] 264 265 266 267 268 269 270 271 272 273 ...\n",
      "  ..$ Nnode      : int 262\n",
      "  ..$ tip.label  : chr [1:263] \"Selaginella_moellendorffii_LTPh3\" \"Selaginella_moellendorffii_LTPh6\" \"Selaginella_moellendorffii_LTPh5\" \"Selaginella_moellendorffii_LTPh2\" ...\n",
      "  ..$ edge.length: num [1:524] NA NA NA NA NA NA NA NA NA NA ...\n",
      "  ..$ node.label : chr [1:262] \"\" \"100.0\" \"86.0\" \"26.0\" ...\n",
      "  ..$ S.id       : chr \"11155\"\n",
      "  ..$ Tr.id      : chr \"27321\"\n",
      "  ..$ type       : chr \"Consensus\"\n",
      "  ..$ kind       : chr \"Gene Tree\"\n",
      "  ..$ quality    : chr \"Unrated\"\n",
      "  ..$ ntax       : chr \"263\"\n",
      "  ..- attr(*, \"class\")= chr \"phylo\"\n",
      "  ..- attr(*, \"order\")= chr \"cladewise\"\n",
      "  ..- attr(*, \"stderr\")= num [1:262] NA NA NA NA NA NA NA NA NA NA ...\n",
      "  ..- attr(*, \"Pval\")= num [1:262] NA NA NA NA NA NA NA NA NA NA ...\n",
      " $ :List of 10\n",
      "  ..$ edge       : int [1:26, 1:2] 15 16 16 15 17 18 18 17 19 19 ...\n",
      "  ..$ Nnode      : int 13\n",
      "  ..$ tip.label  : chr [1:14] \"Chlamydomonas_reinhardtii\" \"Ostreococcus_tauri\" \"Chlorokybus_atmophyticus\" \"Mesostigma_viride\" ...\n",
      "  ..$ edge.length: num [1:26] 0.0292 0.4679 0.4679 0.062 0.0333 ...\n",
      "  ..$ S.id       : chr \"10897\"\n",
      "  ..$ Tr.id      : chr \"22195\"\n",
      "  ..$ type       : chr \"Single\"\n",
      "  ..$ kind       : chr \"Species Tree\"\n",
      "  ..$ quality    : chr \"Unrated\"\n",
      "  ..$ ntax       : chr \"14\"\n",
      "  ..- attr(*, \"class\")= chr \"phylo\"\n",
      "  ..- attr(*, \"stderr\")= num [1:13] 0.363 0.484 0.338 0.448 0.302 ...\n",
      "  ..- attr(*, \"Pval\")= num [1:13] 0.962 0.913 0.999 0.8 0.923 ...\n",
      " $ :List of 10\n",
      "  ..$ edge       : int [1:92, 1:2] 48 49 50 51 51 52 52 50 53 54 ...\n",
      "  ..$ Nnode      : int 46\n",
      "  ..$ tip.label  : chr [1:47] \"Liolaemus_uspallatensis_12630\" \"Liolaemus_uspallatensis_12500\" \"Liolaemus_uspallatensis_12506\" \"Liolaemus_lavillai_12735\" ...\n",
      "  ..$ edge.length: num [1:92] 3.81e-04 3.97e-05 7.26e-04 7.09e-05 4.25e-05 ...\n",
      "  ..$ S.id       : chr \"11925\"\n",
      "  ..$ Tr.id      : chr \"48679\"\n",
      "  ..$ type       : chr \"Single\"\n",
      "  ..$ kind       : chr \"Gene Tree\"\n",
      "  ..$ quality    : chr \"Unrated\"\n",
      "  ..$ ntax       : chr \"47\"\n",
      "  ..- attr(*, \"class\")= chr \"phylo\"\n",
      "  ..- attr(*, \"stderr\")= num [1:46] 0.0187 0.01502 0.01665 0.00575 0.00377 ...\n",
      "  ..- attr(*, \"Pval\")= num [1:46] 1 1 1 1 1 1 1 1 1 1 ...\n",
      " $ :List of 10\n",
      "  ..$ edge       : int [1:92, 1:2] 48 49 49 50 51 52 53 54 55 56 ...\n",
      "  ..$ Nnode      : int 46\n",
      "  ..$ tip.label  : chr [1:47] \"Promyrmekiaphila_sp._MY0736\" \"Aptostichus_atomarius_MY2595\" \"Myrmekiaphila_fluviatilis_MY2025\" \"Myrmekiaphila_fluviatilis_MY3611\" ...\n",
      "  ..$ edge.length: num [1:92] -0.0178 1.4984 0.9193 0.0411 0.1339 ...\n",
      "  ..$ S.id       : chr \"10740\"\n",
      "  ..$ Tr.id      : chr \"20801\"\n",
      "  ..$ type       : chr \"Consensus\"\n",
      "  ..$ kind       : chr \"Species Tree\"\n",
      "  ..$ quality    : chr \"Unrated\"\n",
      "  ..$ ntax       : chr \"47\"\n",
      "  ..- attr(*, \"class\")= chr \"phylo\"\n",
      "  ..- attr(*, \"order\")= chr \"cladewise\"\n",
      "  ..- attr(*, \"stderr\")= num [1:46] 1.047 1.07 0.518 0.477 0.308 ...\n",
      "  ..- attr(*, \"Pval\")= num [1:46] 0.533 0.818 0.34 0.448 0.723 ...\n",
      " $ :List of 10\n",
      "  ..$ edge       : int [1:94, 1:2] 49 50 51 52 53 54 55 56 57 57 ...\n",
      "  ..$ Nnode      : int 47\n",
      "  ..$ tip.label  : chr [1:48] \"Calonectria_morganii_U17409\" \"Nectricladiella_camelliae_AY793432\" \"Leuconectria_clusiae_U17412\" \"Neonectria_coccinea_AY677327\" ...\n",
      "  ..$ edge.length: num [1:94] NA 3.86 0.853 5.933 3.825 ...\n",
      "  ..$ S.id       : chr \"10772\"\n",
      "  ..$ Tr.id      : chr \"20846\"\n",
      "  ..$ type       : chr \"Single\"\n",
      "  ..$ kind       : chr \"Species Tree\"\n",
      "  ..$ quality    : chr \"Unrated\"\n",
      "  ..$ ntax       : chr \"48\"\n",
      "  ..- attr(*, \"class\")= chr \"phylo\"\n",
      "  ..- attr(*, \"order\")= chr \"cladewise\"\n",
      "  ..- attr(*, \"stderr\")= num [1:47] NA 3.37 3.23 3.17 2.46 ...\n",
      "  ..- attr(*, \"Pval\")= num [1:47] NA 0.078828 0.000041 0.036134 0.91957 ...\n",
      " $ :List of 10\n",
      "  ..$ edge       : int [1:84, 1:2] 44 45 45 44 46 47 48 49 50 51 ...\n",
      "  ..$ Nnode      : int 42\n",
      "  ..$ tip.label  : chr [1:43] \"Fusarium_inflexum_NRRL20433\" \"Fusarium_oxysporum_NRRL22902\" \"Fusarium_verticillioides_MUCL43478\" \"Fusarium_musae_NRRL25059\" ...\n",
      "  ..$ edge.length: num [1:84] 207.5 17.5 17.5 65.9 20 ...\n",
      "  ..$ S.id       : chr \"11563\"\n",
      "  ..$ Tr.id      : chr \"47081\"\n",
      "  ..$ type       : chr \"Single\"\n",
      "  ..$ kind       : chr \"Species Tree\"\n",
      "  ..$ quality    : chr \"Unrated\"\n",
      "  ..$ ntax       : chr \"43\"\n",
      "  ..- attr(*, \"class\")= chr \"phylo\"\n",
      "  ..- attr(*, \"order\")= chr \"cladewise\"\n",
      "  ..- attr(*, \"stderr\")= num [1:42] 10.92 2.96 7.42 5.9 6.86 ...\n",
      "  ..- attr(*, \"Pval\")= num [1:42] 1.16e-75 6.12e-01 3.91e-34 1.00 1.65e-03 ...\n",
      " $ :List of 10\n",
      "  ..$ edge       : int [1:90, 1:2] 47 48 48 49 50 51 52 52 51 53 ...\n",
      "  ..$ Nnode      : int 45\n",
      "  ..$ tip.label  : chr [1:46] \"Phytophthora_cinnamomi_AF266764\" \"Phytophthora_pistaciae_AF403506\" \"Phytophthora_pistaciae_FJ746648\" \"Phytophthora_vignae_AF266766\" ...\n",
      "  ..$ edge.length: num [1:90] -0.003625 0.07154 0.028389 0.032634 0.000315 ...\n",
      "  ..$ S.id       : chr \"11575\"\n",
      "  ..$ Tr.id      : chr \"48508\"\n",
      "  ..$ type       : chr \"Single\"\n",
      "  ..$ kind       : chr \"Species Tree\"\n",
      "  ..$ quality    : chr \"Unrated\"\n",
      "  ..$ ntax       : chr \"46\"\n",
      "  ..- attr(*, \"class\")= chr \"phylo\"\n",
      "  ..- attr(*, \"order\")= chr \"cladewise\"\n",
      "  ..- attr(*, \"stderr\")= num [1:45] 0.2128 0.2275 0.1572 0.0638 0.0675 ...\n",
      "  ..- attr(*, \"Pval\")= num [1:45] 0.831 0.862 0.901 0.958 0.939 ...\n",
      " $ :List of 10\n",
      "  ..$ edge       : int [1:98, 1:2] 51 51 52 52 53 54 55 55 56 56 ...\n",
      "  ..$ Nnode      : int 49\n",
      "  ..$ tip.label  : chr [1:50] \"Didelphis_virginiana\" \"Mus_musculus\" \"Callithrix_jacchus\" \"Chlorocebus_sabaeus\" ...\n",
      "  ..$ edge.length: num [1:98] 0.857 0.4349 0.422 0.1053 0.0199 ...\n",
      "  ..$ S.id       : chr \"12161\"\n",
      "  ..$ Tr.id      : chr \"49971\"\n",
      "  ..$ type       : chr \"Single\"\n",
      "  ..$ kind       : chr \"Species Tree\"\n",
      "  ..$ quality    : chr \"Unrated\"\n",
      "  ..$ ntax       : chr \"50\"\n",
      "  ..- attr(*, \"class\")= chr \"phylo\"\n",
      "  ..- attr(*, \"stderr\")= num [1:49] 0.767 0.41 0.259 0.298 0.317 ...\n",
      "  ..- attr(*, \"Pval\")= num [1:49] 0.681 0.852 0.938 0.87 0.971 ...\n",
      " $ :List of 11\n",
      "  ..$ edge       : int [1:110, 1:2] 57 58 59 60 61 62 63 64 65 66 ...\n",
      "  ..$ Nnode      : int 55\n",
      "  ..$ tip.label  : chr [1:56] \"Rhizopus_oryzae_HQ435057\" \"Rhizopus_oryzae_HQ435051\" \"Rhizopus_oryzae_HQ435065\" \"Rhizopus_oryzae_HQ435064\" ...\n",
      "  ..$ edge.length: num [1:110] 0.000261 0.001751 -0.000187 0.000959 0.002411 ...\n",
      "  ..$ node.label : chr [1:55] \"\" \"\" \"0.4900\" \"0.0100\" ...\n",
      "  ..$ S.id       : chr \"12359\"\n",
      "  ..$ Tr.id      : chr \"50953\"\n",
      "  ..$ type       : chr \"Single\"\n",
      "  ..$ kind       : chr \"Species Tree\"\n",
      "  ..$ quality    : chr \"Unrated\"\n",
      "  ..$ ntax       : chr \"56\"\n",
      "  ..- attr(*, \"class\")= chr \"phylo\"\n",
      "  ..- attr(*, \"order\")= chr \"cladewise\"\n",
      "  ..- attr(*, \"stderr\")= num [1:55] 0.041 0.0535 0.0391 0.0421 0.0423 ...\n",
      "  ..- attr(*, \"Pval\")= num [1:55] 0.994 0.978 0.956 0.962 0.941 ...\n",
      " $ :List of 10\n",
      "  ..$ edge       : int [1:190, 1:2] 97 98 99 99 98 100 101 102 103 104 ...\n",
      "  ..$ Nnode      : int 95\n",
      "  ..$ tip.label  : chr [1:96] \"Plectosphaerella_delsorboi_AB266250\" \"Plectosphaerella_delsorboi_AB264788\" \"Plectosphaerella_delsorboi_CBS_116708\" \"Plectosphaerella_alismatis_AY572021\" ...\n",
      "  ..$ edge.length: num [1:190] -0.729 39.5 3.5 3.5 0.25 ...\n",
      "  ..$ S.id       : chr \"12518\"\n",
      "  ..$ Tr.id      : chr \"51747\"\n",
      "  ..$ type       : chr \"Single\"\n",
      "  ..$ kind       : chr \"Species Tree\"\n",
      "  ..$ quality    : chr \"Unrated\"\n",
      "  ..$ ntax       : chr \"96\"\n",
      "  ..- attr(*, \"class\")= chr \"phylo\"\n",
      "  ..- attr(*, \"order\")= chr \"cladewise\"\n",
      "  ..- attr(*, \"stderr\")= num [1:95] 5.12 5.23 1.32 5.25 3.03 ...\n",
      "  ..- attr(*, \"Pval\")= num [1:95] 3.92e-09 2.96e-09 8.15e-03 9.74e-01 4.54e-01 ...\n",
      " $ :List of 10\n",
      "  ..$ edge       : int [1:84, 1:2] 44 45 45 46 47 48 48 47 49 49 ...\n",
      "  ..$ Nnode      : int 42\n",
      "  ..$ tip.label  : chr [1:43] \"Coccotrypes_dactyliperda\" \"Coccotrypes_longior\" \"Xyleborus_affinis\" \"Xyleborus_californicus\" ...\n",
      "  ..$ edge.length: num [1:84] -0.00255 0.17355 0.04344 0.03383 0.06189 ...\n",
      "  ..$ S.id       : chr \"11978\"\n",
      "  ..$ Tr.id      : chr \"48917\"\n",
      "  ..$ type       : chr \"Single\"\n",
      "  ..$ kind       : chr \"Species Tree\"\n",
      "  ..$ quality    : chr \"Unrated\"\n",
      "  ..$ ntax       : chr \"43\"\n",
      "  ..- attr(*, \"class\")= chr \"phylo\"\n",
      "  ..- attr(*, \"order\")= chr \"cladewise\"\n",
      "  ..- attr(*, \"stderr\")= num [1:42] 0.24 0.252 0.14 0.186 0.131 ...\n",
      "  ..- attr(*, \"Pval\")= num [1:42] 0.885 0.654 0.972 0.948 0.966 ...\n",
      " $ :List of 10\n",
      "  ..$ edge       : int [1:146, 1:2] 75 76 77 78 79 80 81 82 82 83 ...\n",
      "  ..$ Nnode      : int 73\n",
      "  ..$ tip.label  : chr [1:74] \"Chaunostoma_mecistandrum\" \"Neoeplingia_leucophylloides\" \"Lepechinia_mexicana_Hidalgo\" \"Lepechinia_mexicana_Peublo\" ...\n",
      "  ..$ edge.length: num [1:146] 170.9 26.9 103.7 76.2 67.4 ...\n",
      "  ..$ S.id       : chr \"10999\"\n",
      "  ..$ Tr.id      : chr \"25704\"\n",
      "  ..$ type       : chr \"Single\"\n",
      "  ..$ kind       : chr \"Species Tree\"\n",
      "  ..$ quality    : chr \"Unrated\"\n",
      "  ..$ ntax       : chr \"74\"\n",
      "  ..- attr(*, \"class\")= chr \"phylo\"\n",
      "  ..- attr(*, \"order\")= chr \"cladewise\"\n",
      "  ..- attr(*, \"stderr\")= num [1:73] 17.46 12.17 11.33 6.42 4.92 ...\n",
      "  ..- attr(*, \"Pval\")= num [1:73] 3.39e-07 2.87e-02 4.80e-03 8.49e-07 5.00e-28 ...\n",
      " $ :List of 10\n",
      "  ..$ edge       : int [1:66, 1:2] 35 36 37 38 39 39 38 40 41 42 ...\n",
      "  ..$ Nnode      : int 33\n",
      "  ..$ tip.label  : chr [1:34] \"Oplurus_cuvieri_HER2593\" \"Oplurus_cuvieri_HER2863\" \"Oplurus_cuvieri_HER2650\" \"Oplurus_cuvieri_HER2874\" ...\n",
      "  ..$ edge.length: num [1:66] 1.0534 0.2174 0.0758 0.1851 0.0329 ...\n",
      "  ..$ S.id       : chr \"12644\"\n",
      "  ..$ Tr.id      : chr \"52835\"\n",
      "  ..$ type       : chr \"Consensus\"\n",
      "  ..$ kind       : chr \"Species Tree\"\n",
      "  ..$ quality    : chr \"Unrated\"\n",
      "  ..$ ntax       : chr \"34\"\n",
      "  ..- attr(*, \"class\")= chr \"phylo\"\n",
      "  ..- attr(*, \"stderr\")= num [1:33] 1.024 0.446 0.331 0.279 0.128 ...\n",
      "  ..- attr(*, \"Pval\")= num [1:33] 1 1 1 1 1 1 1 1 1 1 ...\n",
      " $ :List of 10\n",
      "  ..$ edge       : int [1:48, 1:2] 26 27 27 26 28 29 29 30 30 28 ...\n",
      "  ..$ Nnode      : int 24\n",
      "  ..$ tip.label  : chr [1:25] \"Parablennius_parvicornis\" \"Parablennius_sanguinolentus\" \"Coryphoblennius_galerita\" \"Lipophrys_pholis\" ...\n",
      "  ..$ edge.length: num [1:48] 494 100 100 57 377 ...\n",
      "  ..$ S.id       : chr \"10705\"\n",
      "  ..$ Tr.id      : chr \"21075\"\n",
      "  ..$ type       : chr \"Single\"\n",
      "  ..$ kind       : chr \"Species Tree\"\n",
      "  ..$ quality    : chr \"Unrated\"\n",
      "  ..$ ntax       : chr \"25\"\n",
      "  ..- attr(*, \"class\")= chr \"phylo\"\n",
      "  ..- attr(*, \"order\")= chr \"cladewise\"\n",
      "  ..- attr(*, \"stderr\")= num [1:24] 17.23 7.07 15.82 8.56 7.07 ...\n",
      "  ..- attr(*, \"Pval\")= num [1:24] 7.78e-159 1.00 3.85e-46 6.60e-09 1.00 ...\n",
      " $ :List of 10\n",
      "  ..$ edge       : int [1:122, 1:2] 63 64 64 63 65 66 66 65 67 67 ...\n",
      "  ..$ Nnode      : int 61\n",
      "  ..$ tip.label  : chr [1:62] \"Fusarium_meridionale_NRRL28436\" \"Fusarium_meridionale_NRRL29010\" \"Fusarium_brasilicum_NRRL31281\" \"Fusarium_brasilicum_NRRL31238\" ...\n",
      "  ..$ edge.length: num [1:122] 3.68e-02 0.00 0.00 8.62e-05 3.61e-02 ...\n",
      "  ..$ S.id       : chr \"10830\"\n",
      "  ..$ Tr.id      : chr \"25629\"\n",
      "  ..$ type       : chr \"Single\"\n",
      "  ..$ kind       : chr \"Species Tree\"\n",
      "  ..$ quality    : chr \"Unrated\"\n",
      "  ..$ ntax       : chr \"62\"\n",
      "  ..- attr(*, \"class\")= chr \"phylo\"\n",
      "  ..- attr(*, \"order\")= chr \"cladewise\"\n",
      "  ..- attr(*, \"stderr\")= num [1:61] 0.1519 0 0.1529 0.0177 0.1498 ...\n",
      "  ..- attr(*, \"Pval\")= num [1:61] 0.819 NaN 0.835 0.972 0.824 ...\n",
      " $ :List of 11\n",
      "  ..$ edge       : int [1:46, 1:2] 25 26 27 28 29 29 28 27 26 30 ...\n",
      "  ..$ Nnode      : int 23\n",
      "  ..$ tip.label  : chr [1:24] \"Fridericia_triplinervia\" \"Lundia_corymbifera_a\" \"Lundia_corymbifera_b\" \"Lundia_corymbifera_c\" ...\n",
      "  ..$ edge.length: num [1:46] -0.000155 0.007042 0.003666 0.001392 0.034045 ...\n",
      "  ..$ node.label : chr [1:23] \"\" \"\" \"0.64\" \"0.63\" ...\n",
      "  ..$ S.id       : chr \"12424\"\n",
      "  ..$ Tr.id      : chr \"51174\"\n",
      "  ..$ type       : chr \"Consensus\"\n",
      "  ..$ kind       : chr \"Species Tree\"\n",
      "  ..$ quality    : chr \"Unrated\"\n",
      "  ..$ ntax       : chr \"24\"\n",
      "  ..- attr(*, \"class\")= chr \"phylo\"\n",
      "  ..- attr(*, \"order\")= chr \"cladewise\"\n",
      "  ..- attr(*, \"stderr\")= num [1:23] 0.137 0.143 0.108 0.113 0.13 ...\n",
      "  ..- attr(*, \"Pval\")= num [1:23] 0.988 0.985 0.999 0.973 0.978 ...\n",
      " $ :List of 10\n",
      "  ..$ edge       : int [1:128, 1:2] 66 67 68 69 69 68 70 71 71 70 ...\n",
      "  ..$ Nnode      : int 64\n",
      "  ..$ tip.label  : chr [1:65] \"Carex_melanostachya\" \"Carex_durieui_2\" \"Carex_durieui_1\" \"Carex_cretica\" ...\n",
      "  ..$ edge.length: num [1:128] -1.03e-05 3.95e-03 -2.05e-03 1.99e-02 1.99e-02 ...\n",
      "  ..$ S.id       : chr \"12111\"\n",
      "  ..$ Tr.id      : chr \"49546\"\n",
      "  ..$ type       : chr \"Consensus\"\n",
      "  ..$ kind       : chr \"Species Tree\"\n",
      "  ..$ quality    : chr \"Unrated\"\n",
      "  ..$ ntax       : chr \"65\"\n",
      "  ..- attr(*, \"class\")= chr \"phylo\"\n",
      "  ..- attr(*, \"order\")= chr \"cladewise\"\n",
      "  ..- attr(*, \"stderr\")= num [1:64] 0.1258 0.1278 0.1158 0.0997 0.0573 ...\n",
      "  ..- attr(*, \"Pval\")= num [1:64] 0.997 0.996 0.989 0.969 0.986 ...\n",
      " $ :List of 10\n",
      "  ..$ edge       : int [1:142, 1:2] 73 74 75 76 77 78 79 80 81 82 ...\n",
      "  ..$ Nnode      : int 71\n",
      "  ..$ tip.label  : chr [1:72] \"Exserohilum_pedicellatum\" \"Embellisia_annulata\" \"Stemphylium_botryosum\" \"Stemphylium_callistephi\" ...\n",
      "  ..$ edge.length: num [1:142] -0.394 20.744 9.621 1.857 4.812 ...\n",
      "  ..$ S.id       : chr \"11665\"\n",
      "  ..$ Tr.id      : chr \"46984\"\n",
      "  ..$ type       : chr \"Single\"\n",
      "  ..$ kind       : chr \"Gene Tree\"\n",
      "  ..$ quality    : chr \"Unrated\"\n",
      "  ..$ ntax       : chr \"72\"\n",
      "  ..- attr(*, \"class\")= chr \"phylo\"\n",
      "  ..- attr(*, \"order\")= chr \"cladewise\"\n",
      "  ..- attr(*, \"stderr\")= num [1:71] 6.22 6.3 4.68 3.55 3.48 ...\n",
      "  ..- attr(*, \"Pval\")= num [1:71] 1.11e-03 7.85e-09 1.05e-04 7.19e-04 2.11e-07 ...\n",
      "  [list output truncated]\n"
     ]
    }
   ],
   "source": [
    "str(tt)"
   ]
  },
  {
   "cell_type": "markdown",
   "metadata": {},
   "source": [
    "<div class=\"Q\"><br><br>\n",
    "What does the \"11\" in \"List of 11\" represent?\n",
    "    \n",
    "Answer:Number of columns in the list\n",
    "    \n",
    "    \n",
    "    options: The number of obervations in a list\n",
    "             The number of lists\n",
    "             The number of attirbutes of each variable\n",
    "    \n",
    "<br><br><div class=\"qhelp\"></div>"
   ]
  },
  {
   "cell_type": "markdown",
   "metadata": {},
   "source": [
    "<div class=\"Q\"><br><br>\n",
    "What type of variable is type?\n",
    "    \n",
    "Answer:Character (chr)\n",
    "    \n",
    "    options: numeric (num)\n",
    "             factor (fct)\n",
    "             double (dbl)\n",
    "    \n",
    "<br><br><div class=\"qhelp\"></div>"
   ]
  },
  {
   "cell_type": "markdown",
   "metadata": {},
   "source": [
    "At this point, we have 199 time‐calibrated phylogenies over which we will apply the diversification rate analysis.\n",
    "\n",
    "<br>\n",
    "<div class=\"use_editor\"></div>"
   ]
  },
  {
   "cell_type": "code",
   "execution_count": 48,
   "metadata": {},
   "outputs": [],
   "source": [
    "gammas <- sapply(tt,  gammaStat)"
   ]
  },
  {
   "cell_type": "markdown",
   "metadata": {},
   "source": [
    "Let's take a look at `gammas`.\n",
    "\n",
    "<br>\n",
    "<div class=\"use_console\"></div>"
   ]
  },
  {
   "cell_type": "code",
   "execution_count": 49,
   "metadata": {},
   "outputs": [
    {
     "name": "stdout",
     "output_type": "stream",
     "text": [
      " num [1:199] 1.24 5.05 3.58 13.38 2.42 ...\n"
     ]
    }
   ],
   "source": [
    "str(gammas)"
   ]
  },
  {
   "cell_type": "markdown",
   "metadata": {},
   "source": [
    "<div class=\"Q\"><br><br>\n",
    "Why does `gammas` have 199 rows?\n",
    "    \n",
    "Answer:It is the gamma statistic for each of the observations in **tt**\n",
    "    \n",
    "    options: there are 199 observations (raw data).\n",
    "             It is the 1st column of each observation\n",
    "             None of the above\n",
    "    \n",
    "<br><br><div class=\"qhelp\"></div>"
   ]
  },
  {
   "cell_type": "markdown",
   "metadata": {},
   "source": [
    "Now let's see what the gamma distribution looks like.\n",
    "\n",
    "<br>\n",
    "<div class=\"use_editor\"></div>"
   ]
  },
  {
   "cell_type": "code",
   "execution_count": 50,
   "metadata": {},
   "outputs": [
    {
     "name": "stderr",
     "output_type": "stream",
     "text": [
      "Warning message:\n",
      "\"Removed 7 rows containing non-finite values (stat_bin).\"\n"
     ]
    },
    {
     "data": {
      "image/png": "[encoded data removed]",
      "text/plain": [
       "plot without title"
      ]
     },
     "metadata": {
      "image/png": {
       "height": 500,
       "width": 875
      }
     },
     "output_type": "display_data"
    }
   ],
   "source": [
    "qplot(gammas, binwidth = 0.5)+\n",
    "  xlab('gamma statistic')+\n",
    "  theme_classic()"
   ]
  },
  {
   "cell_type": "markdown",
   "metadata": {},
   "source": [
    "The overall distribution appears slightly skewed towards positive values. This could indicate increasing rate of speciation or constant extinction rates. While differences in sampling may account for much of the spread observed, the position and identity of outlier phylogenies could suggest new hypotheses and potential directions for further exploration."
   ]
  },
  {
   "cell_type": "markdown",
   "metadata": {},
   "source": [
    "## Example 2: Fishbase\n",
    "\n",
    "Let's take a look at the `FishBase` database. We will use the `rfishbase` package described in [Boettiger et al. (2012)](https://www.carlboettiger.info/assets/files/pubs/10.1111/j.1095-8649.2012.03464.x.pdf)\n",
    "\n",
    "<img src=\"fishbase.png\">  <img src=\"sealifebase.png\">\n",
    "\n",
    "The `rfishbase` package queries this API directly rather than the [FishBase.org](https://www.fishbase.de/) website. This reduces load on the FishBase web servers and increases both the performance and the breadth of data available. `rfishbase` functions are primarily aimed at facilitating queries for specific data across a given list of many species. This is a task that is common to much scientific research and tedious to perform on very large datasets.\n",
    "\n",
    "Let's install the `rfishbase` package directly from github. \n",
    "\n",
    "<br>\n",
    "<div class=\"use_console\"></div>"
   ]
  },
  {
   "cell_type": "markdown",
   "metadata": {},
   "source": [
    "Then let's use the `install_github()` function to download and install the `rfishbase' package.\n",
    "\n",
    "<br>\n",
    "<div class=\"use_editor\"></div>"
   ]
  },
  {
   "cell_type": "code",
   "execution_count": null,
   "metadata": {
    "scrolled": false
   },
   "outputs": [],
   "source": [
    "install.packages(\"rfishbase\", \n",
    "                 repos = c(\"http://packages.ropensci.org\", \"http://cran.rstudio.com\"), \n",
    "                 type=\"source\")"
   ]
  },
  {
   "cell_type": "markdown",
   "metadata": {},
   "source": [
    ".....then load the package.\n",
    "\n",
    "<br>\n",
    "<div class=\"use_editor\"></div>"
   ]
  },
  {
   "cell_type": "code",
   "execution_count": 52,
   "metadata": {},
   "outputs": [],
   "source": [
    "library('rfishbase')"
   ]
  },
  {
   "cell_type": "markdown",
   "metadata": {},
   "source": [
    "### Accesing specific versions of the database\n",
    "\n",
    "`rfishbase` relies on periodic cache releases but we can specify which version of the database to access. We will set the version of the database to \"19.04\" by setting the environmental variable.\n",
    "\n",
    "<br>\n",
    "<div class=\"use_editor\"></div>"
   ]
  },
  {
   "cell_type": "code",
   "execution_count": 53,
   "metadata": {},
   "outputs": [],
   "source": [
    "options(FISHBASE_VERSION=\"19.04\")"
   ]
  },
  {
   "cell_type": "markdown",
   "metadata": {},
   "source": [
    "### Buidling a species list\n",
    "\n",
    "Let's assemble a good list of species we are interested in. Almost all functions in `rfishbase` take a list (character vector) of species scientific names. You can also read in a list of names from any existing data you are working with. When providing your own species list, you should always begin by validating the names. Taxonomy is a moving target, and this well help align the scientific names you are using with the names used by FishBase, and alert you to any potential issues.\n",
    "\n",
    "<br>\n",
    "<div class=\"use_console\"></div>"
   ]
  },
  {
   "cell_type": "code",
   "execution_count": 54,
   "metadata": {},
   "outputs": [
    {
     "data": {
      "text/html": [
       "<style>\n",
       ".list-inline {list-style: none; margin:0; padding: 0}\n",
       ".list-inline>li {display: inline-block}\n",
       ".list-inline>li:not(:last-child)::after {content: \"\\00b7\"; padding: 0 .5ex}\n",
       "</style>\n",
       "<ol class=list-inline><li>'Oreochromis niloticus'</li><li>'Salmo trutta'</li></ol>\n"
      ],
      "text/latex": [
       "\\begin{enumerate*}\n",
       "\\item 'Oreochromis niloticus'\n",
       "\\item 'Salmo trutta'\n",
       "\\end{enumerate*}\n"
      ],
      "text/markdown": [
       "1. 'Oreochromis niloticus'\n",
       "2. 'Salmo trutta'\n",
       "\n",
       "\n"
      ],
      "text/plain": [
       "[1] \"Oreochromis niloticus\" \"Salmo trutta\"         "
      ]
     },
     "metadata": {},
     "output_type": "display_data"
    }
   ],
   "source": [
    "validate_names(c(\"Oreochromis niloticus\", \"Salmo trutta\"))"
   ]
  },
  {
   "cell_type": "markdown",
   "metadata": {},
   "source": [
    "<div class=\"Q\"><br><br>\n",
    "    What does <b>validate_names</b> return when you misspell a name? (i.e. validate_names(c(\"Salbo Frutta\")\n",
    "    \n",
    "Answer: NA\n",
    "    \n",
    "    options: NaN\n",
    "             Error \"object \"Salbo Frutta\" is not applicable to a vector\n",
    "             Not a number\n",
    "     \n",
    "    \n",
    "<br><br><div class=\"qhelp\"></div>"
   ]
  },
  {
   "cell_type": "markdown",
   "metadata": {},
   "source": [
    "We can also collect information about all species in a particular taxonomic group, such as a Genus, Family or Order using the `species_list()` function. \n",
    "\n",
    "<br>\n",
    "<div class=\"use_console\"></div>"
   ]
  },
  {
   "cell_type": "code",
   "execution_count": 55,
   "metadata": {},
   "outputs": [
    {
     "data": {
      "text/html": [
       "<style>\n",
       ".list-inline {list-style: none; margin:0; padding: 0}\n",
       ".list-inline>li {display: inline-block}\n",
       ".list-inline>li:not(:last-child)::after {content: \"\\00b7\"; padding: 0 .5ex}\n",
       "</style>\n",
       "<ol class=list-inline><li>'Labroides bicolor'</li><li>'Labroides dimidiatus'</li><li>'Labroides pectoralis'</li><li>'Labroides phthirophagus'</li><li>'Labroides rubrolabiatus'</li></ol>\n"
      ],
      "text/latex": [
       "\\begin{enumerate*}\n",
       "\\item 'Labroides bicolor'\n",
       "\\item 'Labroides dimidiatus'\n",
       "\\item 'Labroides pectoralis'\n",
       "\\item 'Labroides phthirophagus'\n",
       "\\item 'Labroides rubrolabiatus'\n",
       "\\end{enumerate*}\n"
      ],
      "text/markdown": [
       "1. 'Labroides bicolor'\n",
       "2. 'Labroides dimidiatus'\n",
       "3. 'Labroides pectoralis'\n",
       "4. 'Labroides phthirophagus'\n",
       "5. 'Labroides rubrolabiatus'\n",
       "\n",
       "\n"
      ],
      "text/plain": [
       "[1] \"Labroides bicolor\"       \"Labroides dimidiatus\"   \n",
       "[3] \"Labroides pectoralis\"    \"Labroides phthirophagus\"\n",
       "[5] \"Labroides rubrolabiatus\""
      ]
     },
     "metadata": {},
     "output_type": "display_data"
    }
   ],
   "source": [
    "species_list(Genus = \"Labroides\")"
   ]
  },
  {
   "cell_type": "markdown",
   "metadata": {},
   "source": [
    "<div class=\"Q\"><br><br>\n",
    "\n",
    "How many entries/values does the previous command return?\n",
    "    \n",
    "Answer: 5\n",
    "    \n",
    "<br><br><div class=\"qhelp\"></div>"
   ]
  },
  {
   "cell_type": "markdown",
   "metadata": {},
   "source": [
    "`rfishbase` also recognizes common names. When a common name refers to multiple species, all matching species are returned. We can use the function `common_to_sci` to see all records matching the common name.\n",
    "\n",
    "<br>\n",
    "<div class=\"use_console\"></div>"
   ]
  },
  {
   "cell_type": "code",
   "execution_count": 56,
   "metadata": {},
   "outputs": [
    {
     "data": {
      "text/html": [
       "<table class=\"dataframe\">\n",
       "<caption>A tibble: 6 × 4</caption>\n",
       "<thead>\n",
       "\t<tr><th scope=col>Species</th><th scope=col>ComName</th><th scope=col>Language</th><th scope=col>SpecCode</th></tr>\n",
       "\t<tr><th scope=col>&lt;chr&gt;</th><th scope=col>&lt;chr&gt;</th><th scope=col>&lt;chr&gt;</th><th scope=col>&lt;dbl&gt;</th></tr>\n",
       "</thead>\n",
       "<tbody>\n",
       "\t<tr><td>Salmo obtusirostris      </td><td>Adriatic trout      </td><td>English</td><td> 6210</td></tr>\n",
       "\t<tr><td>Schizothorax richardsonii</td><td>Alawan snowtrout    </td><td>English</td><td> 8705</td></tr>\n",
       "\t<tr><td>Schizopyge niger         </td><td>Alghad snowtrout    </td><td>English</td><td>24454</td></tr>\n",
       "\t<tr><td>Salvelinus fontinalis    </td><td>American brook trout</td><td>English</td><td>  246</td></tr>\n",
       "\t<tr><td>Salmo trutta             </td><td>Amu-Darya trout     </td><td>English</td><td>  238</td></tr>\n",
       "\t<tr><td>Salmo kottelati          </td><td>Antalya trout       </td><td>English</td><td>67602</td></tr>\n",
       "</tbody>\n",
       "</table>\n"
      ],
      "text/latex": [
       "A tibble: 6 × 4\n",
       "\\begin{tabular}{llll}\n",
       " Species & ComName & Language & SpecCode\\\\\n",
       " <chr> & <chr> & <chr> & <dbl>\\\\\n",
       "\\hline\n",
       "\t Salmo obtusirostris       & Adriatic trout       & English &  6210\\\\\n",
       "\t Schizothorax richardsonii & Alawan snowtrout     & English &  8705\\\\\n",
       "\t Schizopyge niger          & Alghad snowtrout     & English & 24454\\\\\n",
       "\t Salvelinus fontinalis     & American brook trout & English &   246\\\\\n",
       "\t Salmo trutta              & Amu-Darya trout      & English &   238\\\\\n",
       "\t Salmo kottelati           & Antalya trout        & English & 67602\\\\\n",
       "\\end{tabular}\n"
      ],
      "text/markdown": [
       "\n",
       "A tibble: 6 × 4\n",
       "\n",
       "| Species &lt;chr&gt; | ComName &lt;chr&gt; | Language &lt;chr&gt; | SpecCode &lt;dbl&gt; |\n",
       "|---|---|---|---|\n",
       "| Salmo obtusirostris       | Adriatic trout       | English |  6210 |\n",
       "| Schizothorax richardsonii | Alawan snowtrout     | English |  8705 |\n",
       "| Schizopyge niger          | Alghad snowtrout     | English | 24454 |\n",
       "| Salvelinus fontinalis     | American brook trout | English |   246 |\n",
       "| Salmo trutta              | Amu-Darya trout      | English |   238 |\n",
       "| Salmo kottelati           | Antalya trout        | English | 67602 |\n",
       "\n"
      ],
      "text/plain": [
       "  Species                   ComName              Language SpecCode\n",
       "1 Salmo obtusirostris       Adriatic trout       English   6210   \n",
       "2 Schizothorax richardsonii Alawan snowtrout     English   8705   \n",
       "3 Schizopyge niger          Alghad snowtrout     English  24454   \n",
       "4 Salvelinus fontinalis     American brook trout English    246   \n",
       "5 Salmo trutta              Amu-Darya trout      English    238   \n",
       "6 Salmo kottelati           Antalya trout        English  67602   "
      ]
     },
     "metadata": {},
     "output_type": "display_data"
    }
   ],
   "source": [
    "fish <- common_to_sci(\"trout\")\n",
    "\n",
    "fish  %>% \n",
    " head()"
   ]
  },
  {
   "cell_type": "markdown",
   "metadata": {},
   "source": [
    "<div class=\"Q\"><br><br>\n",
    "\n",
    "How many observations does <b>fish</b> have?\n",
    "    \n",
    "Answer: 305\n",
    "    \n",
    "<br><br><div class=\"qhelp\"></div>"
   ]
  },
  {
   "cell_type": "markdown",
   "metadata": {},
   "source": [
    "<div class=\"Q\"><br><br>\n",
    "\n",
    "How many distinct <b>Species</b> does <b>fish</b> have? HINT: use the function n_distinct()\n",
    "    \n",
    "Answer: 116\n",
    "    \n",
    "<br><br><div class=\"qhelp\"></div>"
   ]
  },
  {
   "cell_type": "markdown",
   "metadata": {},
   "source": [
    "<div class=\"Q\"><br><br>\n",
    "\n",
    "How many distinct common names does <b>fish</b> have? HINT: use the function n_distinct()\n",
    "    \n",
    "Answer: 221\n",
    "    \n",
    "<br><br><div class=\"qhelp\"></div>"
   ]
  },
  {
   "cell_type": "markdown",
   "metadata": {},
   "source": [
    "### Getting data\n",
    "\n",
    "With a species list in place, we are ready to query fishbase for data. Note that if you have a very long list of species, it is always a good idea to try out your intended functions with a subset of that list first to make sure everything is working.\n",
    "\n",
    "The `species()` function returns a table containing some of the information found on the summary or homepage for a species on fishbase.org. `rfishbase` functions always return tidy data tables and displays tables: rows are observations (e.g. a species, individual samples from a species) and columns are variables (fields).\n",
    "\n",
    "<br>\n",
    "<div class=\"use_console\"></div>"
   ]
  },
  {
   "cell_type": "code",
   "execution_count": 57,
   "metadata": {},
   "outputs": [
    {
     "data": {
      "text/html": [
       "<table class=\"dataframe\">\n",
       "<caption>A tibble: 2 × 101</caption>\n",
       "<thead>\n",
       "\t<tr><th scope=col>SpecCode</th><th scope=col>Species</th><th scope=col>Genus</th><th scope=col>SpeciesRefNo</th><th scope=col>Author</th><th scope=col>FBname</th><th scope=col>PicPreferredName</th><th scope=col>PicPreferredNameM</th><th scope=col>PicPreferredNameF</th><th scope=col>PicPreferredNameJ</th><th scope=col>...</th><th scope=col>Profile</th><th scope=col>PD50</th><th scope=col>Emblematic</th><th scope=col>Entered</th><th scope=col>DateEntered</th><th scope=col>Modified</th><th scope=col>DateModified</th><th scope=col>Expert</th><th scope=col>DateChecked</th><th scope=col>TS</th></tr>\n",
       "\t<tr><th scope=col>&lt;dbl&gt;</th><th scope=col>&lt;chr&gt;</th><th scope=col>&lt;chr&gt;</th><th scope=col>&lt;dbl&gt;</th><th scope=col>&lt;chr&gt;</th><th scope=col>&lt;chr&gt;</th><th scope=col>&lt;chr&gt;</th><th scope=col>&lt;chr&gt;</th><th scope=col>&lt;chr&gt;</th><th scope=col>&lt;chr&gt;</th><th scope=col>...</th><th scope=col>&lt;chr&gt;</th><th scope=col>&lt;dbl&gt;</th><th scope=col>&lt;dbl&gt;</th><th scope=col>&lt;dbl&gt;</th><th scope=col>&lt;dbl&gt;</th><th scope=col>&lt;dbl&gt;</th><th scope=col>&lt;dbl&gt;</th><th scope=col>&lt;dbl&gt;</th><th scope=col>&lt;dbl&gt;</th><th scope=col>&lt;int&gt;</th></tr>\n",
       "</thead>\n",
       "<tbody>\n",
       "\t<tr><td>6210</td><td>Salmo obtusirostris      </td><td>Salmo       </td><td>59043</td><td>(Heckel, 1851)</td><td>Adriatic trout</td><td>Saobt_u0.jpg</td><td>NA</td><td>NA</td><td>NA</td><td>...</td><td>NA</td><td>0.5</td><td>0</td><td>22</td><td>712800000</td><td>10</td><td>1278892800</td><td>1</td><td>763084800</td><td>NA</td></tr>\n",
       "\t<tr><td>8705</td><td>Schizothorax richardsonii</td><td>Schizothorax</td><td> 4832</td><td>(Gray, 1832)  </td><td>Snowtrout     </td><td>Scric_u1.jpg</td><td>NA</td><td>NA</td><td>NA</td><td>...</td><td>NA</td><td>0.5</td><td>0</td><td> 1</td><td>757987200</td><td> 2</td><td>1336521600</td><td>1</td><td>843696000</td><td>NA</td></tr>\n",
       "</tbody>\n",
       "</table>\n"
      ],
      "text/latex": [
       "A tibble: 2 × 101\n",
       "\\begin{tabular}{lllllllllllllllllllll}\n",
       " SpecCode & Species & Genus & SpeciesRefNo & Author & FBname & PicPreferredName & PicPreferredNameM & PicPreferredNameF & PicPreferredNameJ & ... & Profile & PD50 & Emblematic & Entered & DateEntered & Modified & DateModified & Expert & DateChecked & TS\\\\\n",
       " <dbl> & <chr> & <chr> & <dbl> & <chr> & <chr> & <chr> & <chr> & <chr> & <chr> & ... & <chr> & <dbl> & <dbl> & <dbl> & <dbl> & <dbl> & <dbl> & <dbl> & <dbl> & <int>\\\\\n",
       "\\hline\n",
       "\t 6210 & Salmo obtusirostris       & Salmo        & 59043 & (Heckel, 1851) & Adriatic trout & Saobt\\_u0.jpg & NA & NA & NA & ... & NA & 0.5 & 0 & 22 & 712800000 & 10 & 1278892800 & 1 & 763084800 & NA\\\\\n",
       "\t 8705 & Schizothorax richardsonii & Schizothorax &  4832 & (Gray, 1832)   & Snowtrout      & Scric\\_u1.jpg & NA & NA & NA & ... & NA & 0.5 & 0 &  1 & 757987200 &  2 & 1336521600 & 1 & 843696000 & NA\\\\\n",
       "\\end{tabular}\n"
      ],
      "text/markdown": [
       "\n",
       "A tibble: 2 × 101\n",
       "\n",
       "| SpecCode &lt;dbl&gt; | Species &lt;chr&gt; | Genus &lt;chr&gt; | SpeciesRefNo &lt;dbl&gt; | Author &lt;chr&gt; | FBname &lt;chr&gt; | PicPreferredName &lt;chr&gt; | PicPreferredNameM &lt;chr&gt; | PicPreferredNameF &lt;chr&gt; | PicPreferredNameJ &lt;chr&gt; | ... ... | Profile &lt;chr&gt; | PD50 &lt;dbl&gt; | Emblematic &lt;dbl&gt; | Entered &lt;dbl&gt; | DateEntered &lt;dbl&gt; | Modified &lt;dbl&gt; | DateModified &lt;dbl&gt; | Expert &lt;dbl&gt; | DateChecked &lt;dbl&gt; | TS &lt;int&gt; |\n",
       "|---|---|---|---|---|---|---|---|---|---|---|---|---|---|---|---|---|---|---|---|---|\n",
       "| 6210 | Salmo obtusirostris       | Salmo        | 59043 | (Heckel, 1851) | Adriatic trout | Saobt_u0.jpg | NA | NA | NA | ... | NA | 0.5 | 0 | 22 | 712800000 | 10 | 1278892800 | 1 | 763084800 | NA |\n",
       "| 8705 | Schizothorax richardsonii | Schizothorax |  4832 | (Gray, 1832)   | Snowtrout      | Scric_u1.jpg | NA | NA | NA | ... | NA | 0.5 | 0 |  1 | 757987200 |  2 | 1336521600 | 1 | 843696000 | NA |\n",
       "\n"
      ],
      "text/plain": [
       "  SpecCode Species                   Genus        SpeciesRefNo Author        \n",
       "1 6210     Salmo obtusirostris       Salmo        59043        (Heckel, 1851)\n",
       "2 8705     Schizothorax richardsonii Schizothorax  4832        (Gray, 1832)  \n",
       "  FBname         PicPreferredName PicPreferredNameM PicPreferredNameF\n",
       "1 Adriatic trout Saobt_u0.jpg     NA                NA               \n",
       "2 Snowtrout      Scric_u1.jpg     NA                NA               \n",
       "  PicPreferredNameJ ... Profile PD50 Emblematic Entered DateEntered Modified\n",
       "1 NA                ... NA      0.5  0          22      712800000   10      \n",
       "2 NA                ... NA      0.5  0           1      757987200    2      \n",
       "  DateModified Expert DateChecked TS\n",
       "1 1278892800   1      763084800   NA\n",
       "2 1336521600   1      843696000   NA"
      ]
     },
     "metadata": {},
     "output_type": "display_data"
    }
   ],
   "source": [
    "species(fish$Species[1:2])"
   ]
  },
  {
   "cell_type": "markdown",
   "metadata": {},
   "source": [
    "### Discovering data\n",
    "\n",
    "Because `rfishbase` accesses the back end database, it does not always line up with the web display. Frequently `rfishbase` functions will return more information than is available on the web versions of the these tables. Some information found on the summary homepage for a species is not available from the `species` summary function, but must be extracted from a different table. For instance, the species `Resilience` information is not one of the fields in the species summary table, despite appearing on the species homepage of fishbase.org. To discover which table this information is in, we can use the `rfishbase` function `list_fields`, which will list all tables with a field matching the query string:\n",
    "\n",
    "<br>\n",
    "<div class=\"use_console\"></div>"
   ]
  },
  {
   "cell_type": "code",
   "execution_count": 58,
   "metadata": {},
   "outputs": [
    {
     "data": {
      "text/html": [
       "<table class=\"dataframe\">\n",
       "<caption>A tibble: 1 × 1</caption>\n",
       "<thead>\n",
       "\t<tr><th scope=col>table</th></tr>\n",
       "\t<tr><th scope=col>&lt;chr&gt;</th></tr>\n",
       "</thead>\n",
       "<tbody>\n",
       "\t<tr><td>stocks</td></tr>\n",
       "</tbody>\n",
       "</table>\n"
      ],
      "text/latex": [
       "A tibble: 1 × 1\n",
       "\\begin{tabular}{l}\n",
       " table\\\\\n",
       " <chr>\\\\\n",
       "\\hline\n",
       "\t stocks\\\\\n",
       "\\end{tabular}\n"
      ],
      "text/markdown": [
       "\n",
       "A tibble: 1 × 1\n",
       "\n",
       "| table &lt;chr&gt; |\n",
       "|---|\n",
       "| stocks |\n",
       "\n"
      ],
      "text/plain": [
       "  table \n",
       "1 stocks"
      ]
     },
     "metadata": {},
     "output_type": "display_data"
    }
   ],
   "source": [
    "list_fields(\"Resilience\")"
   ]
  },
  {
   "cell_type": "markdown",
   "metadata": {},
   "source": [
    "This shows us that this information appears on the stocks table. Let's create an object `resil` with `Resilience` information.\n",
    "\n",
    "<br>\n",
    "<div class=\"use_editor\"></div>"
   ]
  },
  {
   "cell_type": "code",
   "execution_count": 59,
   "metadata": {},
   "outputs": [
    {
     "data": {
      "text/html": [
       "<table class=\"dataframe\">\n",
       "<caption>A tibble: 6 × 1</caption>\n",
       "<thead>\n",
       "\t<tr><th scope=col>Resilience</th></tr>\n",
       "\t<tr><th scope=col>&lt;chr&gt;</th></tr>\n",
       "</thead>\n",
       "<tbody>\n",
       "\t<tr><td>Medium</td></tr>\n",
       "\t<tr><td>Medium</td></tr>\n",
       "\t<tr><td>Medium</td></tr>\n",
       "\t<tr><td>Medium</td></tr>\n",
       "\t<tr><td>NA    </td></tr>\n",
       "\t<tr><td>NA    </td></tr>\n",
       "</tbody>\n",
       "</table>\n"
      ],
      "text/latex": [
       "A tibble: 6 × 1\n",
       "\\begin{tabular}{l}\n",
       " Resilience\\\\\n",
       " <chr>\\\\\n",
       "\\hline\n",
       "\t Medium\\\\\n",
       "\t Medium\\\\\n",
       "\t Medium\\\\\n",
       "\t Medium\\\\\n",
       "\t NA    \\\\\n",
       "\t NA    \\\\\n",
       "\\end{tabular}\n"
      ],
      "text/markdown": [
       "\n",
       "A tibble: 6 × 1\n",
       "\n",
       "| Resilience &lt;chr&gt; |\n",
       "|---|\n",
       "| Medium |\n",
       "| Medium |\n",
       "| Medium |\n",
       "| Medium |\n",
       "| NA     |\n",
       "| NA     |\n",
       "\n"
      ],
      "text/plain": [
       "  Resilience\n",
       "1 Medium    \n",
       "2 Medium    \n",
       "3 Medium    \n",
       "4 Medium    \n",
       "5 NA        \n",
       "6 NA        "
      ]
     },
     "metadata": {},
     "output_type": "display_data"
    }
   ],
   "source": [
    "resil <- stocks(fish$Species, fields=\"Resilience\")\n",
    "\n",
    "resil %>% \n",
    " head()"
   ]
  },
  {
   "cell_type": "markdown",
   "metadata": {},
   "source": [
    "<div class=\"Q\"><br><br>\n",
    "\n",
    "What is the value of the 10th row in the <b>resil</b> table?\n",
    "    \n",
    "Answer: Medium\n",
    "    \n",
    "    Options: Very low\n",
    "             Low\n",
    "             Very High\n",
    "    \n",
    "<br><br><div class=\"qhelp\"></div>"
   ]
  },
  {
   "cell_type": "markdown",
   "metadata": {},
   "source": [
    "<div class=\"Q\"><br><br>\n",
    "    \n",
    "How many distinct types/levels of Resilience are there in <b>resil</b>? HINT: Use the unique() function\n",
    "    \n",
    "Answer: 5\n",
    "    \n",
    "<br><br><div class=\"qhelp\"></div>"
   ]
  },
  {
   "cell_type": "markdown",
   "metadata": {},
   "source": [
    "<div class=\"Q\"><br><br>\n",
    "\n",
    "What are the distinct types/levels of Resilience are there in <b>resil</b>? HINT: Use the unique() function\n",
    "    \n",
    "Answer: NA, very low, Low, Medium, High\n",
    "    \n",
    "    \n",
    "    Options:a)Low, Medium, High, NaN, Very High\n",
    "            b)very low, Low, Medium, Very High, Unknown\n",
    "            b)very low, Medium, Very High, Unknown, NA\n",
    "    \n",
    "<br><br><div class=\"qhelp\"></div>"
   ]
  },
  {
   "cell_type": "markdown",
   "metadata": {},
   "source": [
    "We may only be interested in the `PriceCateg` (Price category) and the `Vulnerability` of the species. Let's creaate the object `dat` by querying for our full species list, asking for only these fields to be returned:\n",
    "\n",
    "<br>\n",
    "<div class=\"use_editor\"></div>"
   ]
  },
  {
   "cell_type": "code",
   "execution_count": 60,
   "metadata": {},
   "outputs": [
    {
     "data": {
      "text/html": [
       "<table class=\"dataframe\">\n",
       "<caption>A tibble: 6 × 3</caption>\n",
       "<thead>\n",
       "\t<tr><th scope=col>SpecCode</th><th scope=col>PriceCateg</th><th scope=col>Vulnerability</th></tr>\n",
       "\t<tr><th scope=col>&lt;dbl&gt;</th><th scope=col>&lt;chr&gt;</th><th scope=col>&lt;dbl&gt;</th></tr>\n",
       "</thead>\n",
       "<tbody>\n",
       "\t<tr><td> 6210</td><td>very high</td><td>46.98</td></tr>\n",
       "\t<tr><td> 8705</td><td>unknown  </td><td>34.78</td></tr>\n",
       "\t<tr><td>24454</td><td>unknown  </td><td>46.76</td></tr>\n",
       "\t<tr><td>  246</td><td>very high</td><td>43.37</td></tr>\n",
       "\t<tr><td>  238</td><td>very high</td><td>59.96</td></tr>\n",
       "\t<tr><td>67602</td><td>NA       </td><td>33.71</td></tr>\n",
       "</tbody>\n",
       "</table>\n"
      ],
      "text/latex": [
       "A tibble: 6 × 3\n",
       "\\begin{tabular}{lll}\n",
       " SpecCode & PriceCateg & Vulnerability\\\\\n",
       " <dbl> & <chr> & <dbl>\\\\\n",
       "\\hline\n",
       "\t  6210 & very high & 46.98\\\\\n",
       "\t  8705 & unknown   & 34.78\\\\\n",
       "\t 24454 & unknown   & 46.76\\\\\n",
       "\t   246 & very high & 43.37\\\\\n",
       "\t   238 & very high & 59.96\\\\\n",
       "\t 67602 & NA        & 33.71\\\\\n",
       "\\end{tabular}\n"
      ],
      "text/markdown": [
       "\n",
       "A tibble: 6 × 3\n",
       "\n",
       "| SpecCode &lt;dbl&gt; | PriceCateg &lt;chr&gt; | Vulnerability &lt;dbl&gt; |\n",
       "|---|---|---|\n",
       "|  6210 | very high | 46.98 |\n",
       "|  8705 | unknown   | 34.78 |\n",
       "| 24454 | unknown   | 46.76 |\n",
       "|   246 | very high | 43.37 |\n",
       "|   238 | very high | 59.96 |\n",
       "| 67602 | NA        | 33.71 |\n",
       "\n"
      ],
      "text/plain": [
       "  SpecCode PriceCateg Vulnerability\n",
       "1  6210    very high  46.98        \n",
       "2  8705    unknown    34.78        \n",
       "3 24454    unknown    46.76        \n",
       "4   246    very high  43.37        \n",
       "5   238    very high  59.96        \n",
       "6 67602    NA         33.71        "
      ]
     },
     "metadata": {},
     "output_type": "display_data"
    }
   ],
   "source": [
    "dat <- species(fish$Species, fields=c(\"SpecCode\", \"PriceCateg\", \"Vulnerability\"))\n",
    "\n",
    "dat %>% \n",
    "  head()"
   ]
  },
  {
   "cell_type": "markdown",
   "metadata": {},
   "source": [
    "<div class=\"Q\"><br><br>\n",
    "\n",
    "What is the price category (PriceCateg) of the <b>last</b> observation in <b>dat</b>? \n",
    "    \n",
    "Answer: very high\n",
    "    \n",
    "<br><br><div class=\"qhelp\"></div>"
   ]
  },
  {
   "cell_type": "markdown",
   "metadata": {},
   "source": [
    "<div class=\"Q\"><br><br>\n",
    "\n",
    "How many observations does <b>dat</b> have? \n",
    "    \n",
    "Answer: 305\n",
    "    \n",
    "<br><br><div class=\"qhelp\"></div>"
   ]
  },
  {
   "cell_type": "markdown",
   "metadata": {},
   "source": [
    "Working in R, it is easy to query additional tables and combine the results with the data we have collected so far.\n",
    "\n",
    "<br>\n",
    "<div class=\"use_editor\"></div>"
   ]
  },
  {
   "cell_type": "code",
   "execution_count": 61,
   "metadata": {},
   "outputs": [
    {
     "data": {
      "text/html": [
       "<table class=\"dataframe\">\n",
       "<caption>A data.frame: 6 × 4</caption>\n",
       "<thead>\n",
       "\t<tr><th></th><th scope=col>SpecCode</th><th scope=col>PriceCateg</th><th scope=col>Vulnerability</th><th scope=col>Resilience</th></tr>\n",
       "\t<tr><th></th><th scope=col>&lt;dbl&gt;</th><th scope=col>&lt;chr&gt;</th><th scope=col>&lt;dbl&gt;</th><th scope=col>&lt;chr&gt;</th></tr>\n",
       "</thead>\n",
       "<tbody>\n",
       "\t<tr><th scope=row>1</th><td> 6210</td><td>very high</td><td>46.98</td><td>Medium</td></tr>\n",
       "\t<tr><th scope=row>2</th><td> 8705</td><td>unknown  </td><td>34.78</td><td>Medium</td></tr>\n",
       "\t<tr><th scope=row>3</th><td>24454</td><td>unknown  </td><td>46.76</td><td>Medium</td></tr>\n",
       "\t<tr><th scope=row>4</th><td>  246</td><td>very high</td><td>43.37</td><td>Medium</td></tr>\n",
       "\t<tr><th scope=row>5</th><td>  238</td><td>very high</td><td>59.96</td><td>Medium</td></tr>\n",
       "\t<tr><th scope=row>6</th><td>67602</td><td>NA       </td><td>33.71</td><td>Medium</td></tr>\n",
       "</tbody>\n",
       "</table>\n"
      ],
      "text/latex": [
       "A data.frame: 6 × 4\n",
       "\\begin{tabular}{r|llll}\n",
       "  & SpecCode & PriceCateg & Vulnerability & Resilience\\\\\n",
       "  & <dbl> & <chr> & <dbl> & <chr>\\\\\n",
       "\\hline\n",
       "\t1 &  6210 & very high & 46.98 & Medium\\\\\n",
       "\t2 &  8705 & unknown   & 34.78 & Medium\\\\\n",
       "\t3 & 24454 & unknown   & 46.76 & Medium\\\\\n",
       "\t4 &   246 & very high & 43.37 & Medium\\\\\n",
       "\t5 &   238 & very high & 59.96 & Medium\\\\\n",
       "\t6 & 67602 & NA        & 33.71 & Medium\\\\\n",
       "\\end{tabular}\n"
      ],
      "text/markdown": [
       "\n",
       "A data.frame: 6 × 4\n",
       "\n",
       "| <!--/--> | SpecCode &lt;dbl&gt; | PriceCateg &lt;chr&gt; | Vulnerability &lt;dbl&gt; | Resilience &lt;chr&gt; |\n",
       "|---|---|---|---|---|\n",
       "| 1 |  6210 | very high | 46.98 | Medium |\n",
       "| 2 |  8705 | unknown   | 34.78 | Medium |\n",
       "| 3 | 24454 | unknown   | 46.76 | Medium |\n",
       "| 4 |   246 | very high | 43.37 | Medium |\n",
       "| 5 |   238 | very high | 59.96 | Medium |\n",
       "| 6 | 67602 | NA        | 33.71 | Medium |\n",
       "\n"
      ],
      "text/plain": [
       "  SpecCode PriceCateg Vulnerability Resilience\n",
       "1  6210    very high  46.98         Medium    \n",
       "2  8705    unknown    34.78         Medium    \n",
       "3 24454    unknown    46.76         Medium    \n",
       "4   246    very high  43.37         Medium    \n",
       "5   238    very high  59.96         Medium    \n",
       "6 67602    NA         33.71         Medium    "
      ]
     },
     "metadata": {},
     "output_type": "display_data"
    }
   ],
   "source": [
    "combined_data <- merge(dat, resil)\n",
    "\n",
    "combined_data %>% \n",
    "  head()"
   ]
  },
  {
   "cell_type": "markdown",
   "metadata": {},
   "source": [
    "Let's take a look at `combined_data`"
   ]
  },
  {
   "cell_type": "code",
   "execution_count": 62,
   "metadata": {},
   "outputs": [
    {
     "name": "stdout",
     "output_type": "stream",
     "text": [
      "'data.frame':\t124135 obs. of  4 variables:\n",
      " $ SpecCode     : num  6210 8705 24454 246 238 ...\n",
      " $ PriceCateg   : chr  \"very high\" \"unknown\" \"unknown\" \"very high\" ...\n",
      " $ Vulnerability: num  47 34.8 46.8 43.4 60 ...\n",
      " $ Resilience   : chr  \"Medium\" \"Medium\" \"Medium\" \"Medium\" ...\n"
     ]
    }
   ],
   "source": [
    "str(combined_data)"
   ]
  },
  {
   "cell_type": "markdown",
   "metadata": {},
   "source": [
    "<div class=\"Q\"><br><br>\n",
    "\n",
    "What type of object is <b>combined_data</b> have? \n",
    "    \n",
    "Answer: data frame (df)\n",
    "\n",
    "    options: table (tbl)\n",
    "             list (lst)\n",
    "             function\n",
    "    \n",
    "<br><br><div class=\"qhelp\"></div>"
   ]
  },
  {
   "cell_type": "markdown",
   "metadata": {},
   "source": [
    "<div class=\"Q\"><br><br>\n",
    "\n",
    "What type of variable is <b>PriceCateg</b>? \n",
    "    \n",
    "Answer: Character (chr)\n",
    "\n",
    "    options: numeric (nmr)\n",
    "             integer (int)\n",
    "             factor (fct)\n",
    "    \n",
    "<br><br><div class=\"qhelp\"></div>"
   ]
  },
  {
   "cell_type": "markdown",
   "metadata": {},
   "source": [
    "<div class=\"Q\"><br><br>\n",
    "\n",
    "How many distinct entries are there in the <b>SpecCode</b> variable of <b>combined_data</b>? \n",
    "    \n",
    "Answer: 116\n",
    "    \n",
    "<br><br><div class=\"qhelp\"></div>"
   ]
  },
  {
   "cell_type": "markdown",
   "metadata": {},
   "source": [
    "<div class=\"Q\"><br><br>\n",
    "\n",
    "What is the <b>SpecCode</b> of the 8th entry in <b>combined_data</b>? \n",
    "    \n",
    "Answer: 2687\n",
    "    \n",
    "<br><br><div class=\"qhelp\"></div>"
   ]
  },
  {
   "cell_type": "markdown",
   "metadata": {},
   "source": [
    "<div class=\"Q\"><br><br>\n",
    "\n",
    "How many observations in <b>combined_data</b> have an unknown PriceCateg? HINT: You'll need to use the functions group_by and summarize \n",
    "    \n",
    "Answer: 36223\n",
    "    \n",
    "<br><br><div class=\"qhelp\"></div>"
   ]
  },
  {
   "cell_type": "markdown",
   "metadata": {},
   "source": [
    "<div class=\"Q\"><br><br>\n",
    "\n",
    "How many observations would you have in <b>combined_data</b> if you only want species with Medium resilience? HINT: Use nrow() to count the number of observations.\n",
    "    \n",
    "Answer: 71065\n",
    "    \n",
    "<br><br><div class=\"qhelp\"></div>"
   ]
  },
  {
   "cell_type": "markdown",
   "metadata": {},
   "source": [
    "<div class=\"Q\"><br><br>\n",
    "\n",
    "How many distinct SpecCode entries would you have in <b>combined_data</b> if you only want species with Medium resilience? \n",
    "    \n",
    "Answer: 116\n",
    "    \n",
    "<br><br><div class=\"qhelp\"></div>"
   ]
  },
  {
   "cell_type": "code",
   "execution_count": 63,
   "metadata": {},
   "outputs": [
    {
     "name": "stderr",
     "output_type": "stream",
     "text": [
      "Warning message:\n",
      "\"Ignoring unknown parameters: binwidth, bins, pad\"\n"
     ]
    },
    {
     "data": {
      "image/png": "[encoded data removed]",
      "text/plain": [
       "plot without title"
      ]
     },
     "metadata": {
      "image/png": {
       "height": 500,
       "width": 875
      }
     },
     "output_type": "display_data"
    }
   ],
   "source": [
    "combined_data %>%  \n",
    "  ggplot(aes(x = Vulnerability)) +\n",
    "  geom_histogram(aes(fill = Resilience), stat = \"count\", position =\"dodge\") +\n",
    "  facet_wrap( ~PriceCateg) +\n",
    "  scale_y_log10() +\n",
    "  theme_classic() +\n",
    "  theme(legend.position = \"bottom\")"
   ]
  },
  {
   "cell_type": "markdown",
   "metadata": {},
   "source": [
    "# Using databases to improve performance and decision-making\n",
    "\n",
    "With massive data collection from the Internet of Things transforming life and industry across the globe, we have access to more data than ever before. Forward-thinking organizations can now use databases to go beyond basic data storage and transactions to analyze vast quantities of data from multiple systems. Using database and other computing and business intelligence tools, organizations can now leverage the data they collect to run more efficiently, enable better decision-making, and become more agile and scalable. By having direct control over the ability to create and use databases, users gain control and autonomy while still maintaining important security standards."
   ]
  },
  {
   "cell_type": "markdown",
   "metadata": {},
   "source": [
    "<div class=\"big_title\">This is the end of lab</div>\n",
    "\n",
    "*******************\n",
    "*******************\n",
    "\n",
    "Code below is for formatting of this lab. Do not alter!"
   ]
  },
  {
   "cell_type": "code",
   "execution_count": 64,
   "metadata": {},
   "outputs": [
    {
     "data": {
      "text/html": [
       "<style>\r\n",
       "\r\n",
       "body {\r\n",
       "  counter-reset: question_num task_num;                     /* Set a counter named 'section', and it`s initial value is 0. */\r\n",
       "}\r\n",
       "\r\n",
       "/* Question Box */\r\n",
       ".Q {\r\n",
       "    background-color:#ff9900;\r\n",
       "    color:black;\r\n",
       "    font-size:17px;\r\n",
       "    width:100%;\r\n",
       "    border:1px solid #666666;\r\n",
       "    padding:5px;\r\n",
       "}\r\n",
       "\r\n",
       ".Q::before {\r\n",
       "    counter-increment: question_num;\r\n",
       "    content: \"QUESTION \" counter(question_num) '\\A';\r\n",
       "    white-space: pre;\r\n",
       "}\r\n",
       "\r\n",
       "\r\n",
       "/* Question Box */\r\n",
       ".T {\r\n",
       "    background-color:#00F7FF;\r\n",
       "    color:black;\r\n",
       "    font-size:17px;\r\n",
       "    font-weight: bold;\r\n",
       "    width:10%;\r\n",
       "    padding:5px;\r\n",
       "}\r\n",
       "\r\n",
       "\r\n",
       ".T::before {\r\n",
       "    counter-increment: task_num;\r\n",
       "    content: \"Task \" counter(task_num) ': ';\r\n",
       "}\r\n",
       "\r\n",
       "\r\n",
       "/* TASK BOX */\r\n",
       ".startTASK {\r\n",
       "    background: linear-gradient(to bottom, #b3ffb3 0%, #ffffff 100%);\r\n",
       "    border-top-left-radius: 10px;\r\n",
       "    border-top-right-radius: 10px;\r\n",
       "    border:1px solid #009900;\r\n",
       "    border-bottom:1px solid #ffffff;\r\n",
       "    color:#006600;\r\n",
       "    font-size:17px;\r\n",
       "    width:100%;\r\n",
       "    font-weight: bold;\r\n",
       "    padding:5px;\r\n",
       "    padding-top:15px;\r\n",
       "}\r\n",
       ".startTASK::before {\r\n",
       "    counter-increment: task_num;\r\n",
       "    content: \"Task \" counter(task_num) ': ';\r\n",
       "}\r\n",
       "\r\n",
       ".endTASK {\r\n",
       "    background: linear-gradient(to bottom, #ffffff 0%, #b3ffb3 100%);\r\n",
       "    border-bottom-left-radius: 10px;\r\n",
       "    border-bottom-right-radius: 10px;\r\n",
       "    border:1px solid #009900;\r\n",
       "    border-top:1px solid #ffffff;\r\n",
       "    color:#006600;\r\n",
       "    font-size:13px;\r\n",
       "    width:100%;\r\n",
       "    font-weight: bold;\r\n",
       "    padding:5px;\r\n",
       "    padding-top:15px;\r\n",
       "}\r\n",
       ".endTASK::before {\r\n",
       "    content: \"End of Task\";\r\n",
       "}\r\n",
       "\r\n",
       "\r\n",
       "\r\n",
       "\r\n",
       "\r\n",
       "\r\n",
       "/* Use Editor */\r\n",
       ".use_editor {\r\n",
       "    background: linear-gradient(to right, #ccffcc 0%, #ffffff 100%);\r\n",
       "    border-top-left-radius: 10px;\r\n",
       "    border-top-right-radius: 10px;\r\n",
       "    border:1px solid #ffffff;\r\n",
       "    border-bottom:1px solid #ffffff;\r\n",
       "    color:#66cc66;\r\n",
       "    font-size:10px;\r\n",
       "    width:100%;\r\n",
       "    padding:0px;\r\n",
       "    padding-bottom:3px;\r\n",
       "    padding-left:7px;\r\n",
       "    margin-left: -5px;\r\n",
       "    margin-right: 150px;\r\n",
       "    margin-bottom: -13px;\r\n",
       "}\r\n",
       ".use_editor::before {\r\n",
       "    content: \"Type in EDITOR, hightlight, and click RUN\";\r\n",
       "    }\r\n",
       "\r\n",
       "\r\n",
       "/* Use Console */\r\n",
       ".use_console {\r\n",
       "    background: linear-gradient(to right, #ffe6e6 0%, #ffffff 100%);\r\n",
       "    border-top-left-radius: 10px;\r\n",
       "    border-top-right-radius: 10px;\r\n",
       "    border:1px solid #ffffff;\r\n",
       "    border-bottom:1px solid #ffffff;\r\n",
       "    color:#ff9999;\r\n",
       "    font-size:10px;\r\n",
       "    width:100%;\r\n",
       "    padding:0px;\r\n",
       "    padding-bottom:3px;\r\n",
       "    padding-left:7px;\r\n",
       "    margin-left: -5px;\r\n",
       "    margin-right: 150px;\r\n",
       "    margin-bottom: -13px;\r\n",
       "}\r\n",
       ".use_console::before {\r\n",
       "    content: \"Type in CONSOLE and click ENTER\";\r\n",
       "    }\r\n",
       "\r\n",
       "\r\n",
       "\r\n",
       "\r\n",
       "\r\n",
       "\r\n",
       "\r\n",
       "\r\n",
       "\r\n",
       "\r\n",
       "\r\n",
       "\r\n",
       "\r\n",
       ".qhelp {\r\n",
       "    color:#666666;\r\n",
       "    font-size:15px\r\n",
       "}\r\n",
       "\r\n",
       ".qhelp::after {\r\n",
       "    content: \"Answer this question in the corresponding Brightspace LAB quiz\"\r\n",
       "}\r\n",
       "\r\n",
       "\r\n",
       "\r\n",
       "/* code */\r\n",
       ".rendered_html pre, .rendered_html code {\r\n",
       "    font-family: \"SF Mono\",\"Segoe UI Mono\",\"Roboto Mono\",\"Ubuntu Mono\",Menlo,Courier,monospace;\r\n",
       "    padding: 1px 3px;\r\n",
       "    border: 1px solid #e6e6e6;\r\n",
       "    border-radius: 3px;\r\n",
       "    background: #e6e6e6;\r\n",
       "    font-size: 12px;\r\n",
       "    line-height: 1.4;\r\n",
       "    color: #0052CC;\r\n",
       "}\r\n",
       "\r\n",
       "\r\n",
       "/* Console */\r\n",
       ".console {\r\n",
       "    background-color:#d2d2d2;\r\n",
       "    color:#FF2525;\r\n",
       "    font-size:12px;\r\n",
       "    line-height: 1.4;\r\n",
       "    border:1px solid #bfbfbf;\r\n",
       "    padding-top:0px;\r\n",
       "    padding-bottom:0px;\r\n",
       "    padding-left:3px;\r\n",
       "    padding-right:3px;\r\n",
       "    border-radius: 3px;\r\n",
       "    display: inline-block;\r\n",
       "}\r\n",
       ".console::before {\r\n",
       "    content: \"Console\";\r\n",
       "}\r\n",
       "\r\n",
       "/* Editor */\r\n",
       ".editor {\r\n",
       "    background-color:#d2d2d2;\r\n",
       "    color:#00b300;\r\n",
       "    font-size: 12px;\r\n",
       "    line-height: 1.4;\r\n",
       "    border:1px solid #bfbfbf;\r\n",
       "    padding-top:0px;\r\n",
       "    padding-bottom:0px;\r\n",
       "    padding-left:3px;\r\n",
       "    padding-right:3px;\r\n",
       "    border-radius: 3px;\r\n",
       "    display: inline-block;\r\n",
       "}\r\n",
       ".editor::before {\r\n",
       "    content: \"Editor\";\r\n",
       "}\r\n",
       "\r\n",
       "\r\n",
       "\r\n",
       "/* Copy to CONSOLE */\r\n",
       ".c2c {\r\n",
       "    background-color:#d2d2d2;\r\n",
       "    color:#ff8080;\r\n",
       "    font-size:13px;\r\n",
       "    border:1px solid #bfbfbf;\r\n",
       "    padding:1px 3px;\r\n",
       "    border-radius: 3px;\r\n",
       "    margin-top: 10px;\r\n",
       "    display: inline-block;\r\n",
       "}\r\n",
       "\r\n",
       ".c2c::before {\r\n",
       "    content: \"Copy-paste into Spyder's Console\";\r\n",
       "}\r\n",
       "\r\n",
       "/* Type in CONSOLE */\r\n",
       ".t2c {\r\n",
       "    background-color:#d2d2d2;\r\n",
       "    color:#ff8080;\r\n",
       "    font-size:13px;\r\n",
       "    border:1px solid #bfbfbf;\r\n",
       "    padding:1px 3px;\r\n",
       "    border-radius: 3px;\r\n",
       "    margin-top: 10px;\r\n",
       "    display: inline-block;\r\n",
       "}\r\n",
       "\r\n",
       ".t2c::before {\r\n",
       "    content: \"Type into Spyder's Console\";\r\n",
       "}\r\n",
       "\r\n",
       "\r\n",
       "/* SOURCE */\r\n",
       ".source {\r\n",
       "    background-color:#d2d2d2;\r\n",
       "    color:#009EBF;\r\n",
       "    font-size: 12px;\r\n",
       "    line-height: 1.4;\r\n",
       "    font-weight: bold;\r\n",
       "    border:1px solid #bfbfbf;\r\n",
       "    padding-top:0px;\r\n",
       "    padding-bottom:0px;\r\n",
       "    padding-left:3px;\r\n",
       "    padding-right:3px;\r\n",
       "    border-radius: 3px;\r\n",
       "    display: inline-block;\r\n",
       "}\r\n",
       ".source::before {\r\n",
       "    content: \"\\25B6\" \"Source\";\r\n",
       "}\r\n",
       "\r\n",
       "\r\n",
       "/* RUN */\r\n",
       ".run {\r\n",
       "    background-color:#d2d2d2;\r\n",
       "    color:#00b300;\r\n",
       "    font-size: 12px;\r\n",
       "    line-height: 1.4;\r\n",
       "    font-weight: bold;\r\n",
       "    border:1px solid #bfbfbf;\r\n",
       "    padding-top:0px;\r\n",
       "    padding-bottom:0px;\r\n",
       "    padding-left:3px;\r\n",
       "    padding-right:3px;\r\n",
       "    border-radius: 3px;\r\n",
       "    display: inline-block;\r\n",
       "}\r\n",
       ".run::before {\r\n",
       "    content: \"\\25B6\" \"RUN\";\r\n",
       "}\r\n",
       "\r\n",
       "/* RUN */\r\n",
       ".runcell {\r\n",
       "    background-color:#d2d2d2;\r\n",
       "    color:#00b300;\r\n",
       "    font-size: 12px;\r\n",
       "    line-height: 1.4;\r\n",
       "    border:1px solid #bfbfbf;\r\n",
       "    padding-top:0px;\r\n",
       "    padding-bottom:0px;\r\n",
       "    padding-left:3px;\r\n",
       "    padding-right:3px;\r\n",
       "    border-radius: 3px;\r\n",
       "    display: inline-block;\r\n",
       "}\r\n",
       ".runcell::before {\r\n",
       "    content: \"RUN current cell\";\r\n",
       "}\r\n",
       "\r\n",
       "/* FILE */\r\n",
       ".file {\r\n",
       "    color:#b36b00;\r\n",
       "    font-size: 12px;\r\n",
       "    line-height: 1.4;\r\n",
       "    font-weight: bold;\r\n",
       "    border:1px solid #bfbfbf;\r\n",
       "    padding-top:0px;\r\n",
       "    padding-bottom:0px;\r\n",
       "    padding-left:3px;\r\n",
       "    padding-right:3px;\r\n",
       "    border-radius: 3px;\r\n",
       "    display: inline-block;\r\n",
       "}\r\n",
       "\r\n",
       "/* important */\r\n",
       ".important {\r\n",
       "    background-color:#ff4d4d;\r\n",
       "    color:black;\r\n",
       "    font-size: 13px;\r\n",
       "    line-height: 1.4;\r\n",
       "    font-weight: bold;\r\n",
       "    border:1px solid #bfbfbf;\r\n",
       "    padding-top:0px;\r\n",
       "    padding-bottom:0px;\r\n",
       "    padding-left:3px;\r\n",
       "    padding-right:3px;\r\n",
       "    border-radius: 3px;\r\n",
       "    display: inline-block;\r\n",
       "    margin-top:5px;\r\n",
       "}\r\n",
       ".important::before {\r\n",
       "    content: \"Important:\";\r\n",
       "}\r\n",
       "\r\n",
       "/* important */\r\n",
       ".note {\r\n",
       "    background-color:#ffff80;\r\n",
       "    color:black;\r\n",
       "    font-size: 13px;\r\n",
       "    line-height: 1.4;\r\n",
       "    font-weight: bold;\r\n",
       "    border:1px solid #bfbfbf;\r\n",
       "    padding-top:0px;\r\n",
       "    padding-bottom:0px;\r\n",
       "    padding-left:3px;\r\n",
       "    padding-right:3px;\r\n",
       "    border-radius: 3px;\r\n",
       "    display: inline-block;\r\n",
       "    margin-top:5px;\r\n",
       "}\r\n",
       ".note::before {\r\n",
       "    content: \"Note:\";\r\n",
       "}\r\n",
       "\r\n",
       "\r\n",
       "/* TODO */\r\n",
       ".TODO {\r\n",
       "    background-color:red;\r\n",
       "    color:black;\r\n",
       "    font-size:18px;\r\n",
       "    width:100%;\r\n",
       "    padding:10px;\r\n",
       "}\r\n",
       ".TODO::before {\r\n",
       "    content: \"TO-DO:\";\r\n",
       "}\r\n",
       "\r\n",
       "\r\n",
       ".nomenclature {\r\n",
       "    font-family: \"SF Mono\",\"Segoe UI Mono\",\"Roboto Mono\",\"Ubuntu Mono\",Menlo,Courier,monospace;\r\n",
       "    background-color:#ffff80;\r\n",
       "    color:black;\r\n",
       "    font-size: 15px;\r\n",
       "    line-height: 1.4;\r\n",
       "    font-weight: bold;\r\n",
       "    border:1px solid #bfbfbf;\r\n",
       "    padding-left:3px;\r\n",
       "    padding-right:3px;\r\n",
       "    display: inline-block;\r\n",
       "    margin-top:3px;\r\n",
       "}\r\n",
       "\r\n",
       "\r\n",
       "\r\n",
       ".big_title {\r\n",
       "    background-color:#cccccc;\r\n",
       "    color:black;\r\n",
       "    font-size: 35px;\r\n",
       "    line-height: 1.4;\r\n",
       "    font-weight: bold;\r\n",
       "    border:1px solid #8c8c8c;\r\n",
       "    padding:20px;\r\n",
       "    margin-top:5px;\r\n",
       "    width:100%;\r\n",
       "}\r\n",
       "\r\n",
       "\r\n",
       ".codeX {\r\n",
       "    font-family: \"SF Mono\",\"Segoe UI Mono\",\"Roboto Mono\",\"Ubuntu Mono\",Menlo,Courier,monospace;\r\n",
       "    background-color:#e6e6e6;\r\n",
       "    color:#0066ff;\r\n",
       "    font-size: 13px;\r\n",
       "    line-height: 1.4;\r\n",
       "    padding:2px;\r\n",
       "    display: inline-block;\r\n",
       "}\r\n",
       "\r\n",
       "\r\n",
       "\r\n",
       "/* checkpoint */\r\n",
       ".checkpoint {\r\n",
       "    background-color:yellow;\r\n",
       "    color:blue;\r\n",
       "    font-size: 15px;\r\n",
       "    line-height: 1.4;\r\n",
       "    font-weight: bold;\r\n",
       "    border:1px solid #bfbfbf;\r\n",
       "    padding-top:0px;\r\n",
       "    padding-bottom:0px;\r\n",
       "    padding-left:3px;\r\n",
       "    padding-right:3px;\r\n",
       "    border-radius: 3px;\r\n",
       "    display: inline-block;\r\n",
       "    margin-top:5px;\r\n",
       "}\r\n",
       "\r\n",
       ".codeerror {\r\n",
       "    background-color:#ffb3b3;\r\n",
       "    color:red;\r\n",
       "    font-size: 13px;\r\n",
       "    line-height: 1.4;\r\n",
       "    border:1px solid #ffb3b3;\r\n",
       "    padding-top:7px;\r\n",
       "    padding-bottom:7px;\r\n",
       "    padding-left:7px;\r\n",
       "    padding-right:7px;\r\n",
       "    border-radius: 3px;\r\n",
       "    margin:20px;\r\n",
       "    margin-left:25px;\r\n",
       "}\r\n",
       "\r\n",
       ".lineerror {\r\n",
       "    background-color:#ffb3b3;\r\n",
       "    color:red;\r\n",
       "    font-size: 13px;\r\n",
       "    line-height: 1.4;\r\n",
       "    border:1px solid #ffb3b3;\r\n",
       "    padding-top:0px;\r\n",
       "    padding-bottom:0px;\r\n",
       "    padding-left:3px;\r\n",
       "    padding-right:3px;\r\n",
       "    border-radius: 3px;\r\n",
       "    display: inline-block;\r\n",
       "    margin-top:5px;\r\n",
       "}\r\n",
       "\r\n",
       "\r\n",
       "/* terminal */\r\n",
       ".terminal {\r\n",
       "    background-color:black;\r\n",
       "    color:white;\r\n",
       "    font-size: 12px;\r\n",
       "    line-height: 1.4;\r\n",
       "    border:1px solid black;\r\n",
       "    padding-top:0px;\r\n",
       "    padding-bottom:0px;\r\n",
       "    padding-left:3px;\r\n",
       "    padding-right:3px;\r\n",
       "    border-radius: 3px;\r\n",
       "    display: inline-block;\r\n",
       "}\r\n",
       ".terminal::before {\r\n",
       "    content: \"Terminal (i.e. Anaconda Promt)\";\r\n",
       "}\r\n",
       ".terminalBlock {\r\n",
       "    font-family: \"SF Mono\",\"Segoe UI Mono\",\"Roboto Mono\",\"Ubuntu Mono\",Menlo,Courier,monospace;\r\n",
       "    background-color:black;\r\n",
       "    color:white;\r\n",
       "    font-size: 14px;\r\n",
       "    line-height: 1.4;\r\n",
       "    border:1px solid black;\r\n",
       "    padding-top:7px;\r\n",
       "    padding-bottom:7px;\r\n",
       "    padding-left:7px;\r\n",
       "    padding-right:7px;\r\n",
       "    border-radius: 3px;\r\n",
       "    margin:20px;\r\n",
       "    margin-left:25px;\r\n",
       "}\r\n",
       "\r\n",
       ".fakeheader {\r\n",
       "    font-size: 20px;\r\n",
       "    font-weight:bold;\r\n",
       "    background-color:#ccebff;\r\n",
       "    border:1px solid #b3e0ff;\r\n",
       "    padding:2px;\r\n",
       "    margin-top:30px;\r\n",
       "    margin-bottom:15px;\r\n",
       "}\r\n",
       "\r\n",
       "\r\n",
       "/* Headers */\r\n",
       "h1 {\r\n",
       "    background-color:#99d6ff;\r\n",
       "    border:1px solid #007acc;\r\n",
       "    padding:8px;\r\n",
       "}\r\n",
       "\r\n",
       "h2 {\r\n",
       "    background-color:#ccebff;\r\n",
       "    border:1px solid #b3e0ff;\r\n",
       "    padding:2px;\r\n",
       "}\r\n",
       "\r\n",
       "h3 {\r\n",
       "    background-color:#e6f5ff;\r\n",
       "    padding:1px;\r\n",
       "}\r\n",
       "\r\n",
       "</style>"
      ]
     },
     "metadata": {},
     "output_type": "display_data"
    },
    {
     "data": {
      "text/html": [
       "<style>body {counter-reset: question_num;}.Q::before {counter-increment: question_num;\n",
       "    content: 'QUESTION ' counter(question_num) '\\A'; white-space: pre; }</style>"
      ]
     },
     "metadata": {},
     "output_type": "display_data"
    }
   ],
   "source": [
    "cssFile <- '../css/custom.css'\n",
    "IRdisplay::display_html(readChar(cssFile, file.info(cssFile)$size))\n",
    "\n",
    "IRdisplay::display_html(\"<style>body {counter-reset: question_num;}.Q::before {counter-increment: question_num;\n",
    "    content: 'QUESTION ' counter(question_num) '\\\\A'; white-space: pre; }</style>\")"
   ]
  },
  {
   "cell_type": "code",
   "execution_count": null,
   "metadata": {},
   "outputs": [],
   "source": []
  }
 ],
 "metadata": {
  "kernelspec": {
   "display_name": "R",
   "language": "R",
   "name": "ir"
  },
  "language_info": {
   "codemirror_mode": "r",
   "file_extension": ".r",
   "mimetype": "text/x-r-source",
   "name": "R",
   "pygments_lexer": "r",
   "version": "4.0.3"
  }
 },
 "nbformat": 4,
 "nbformat_minor": 4
}
