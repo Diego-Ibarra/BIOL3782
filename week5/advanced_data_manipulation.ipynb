{
 "cells": [
  {
   "cell_type": "code",
   "execution_count": 84,
   "metadata": {},
   "outputs": [],
   "source": [
    "# Lab settings - please ingnore\n",
    "options(repr.plot.width=7, repr.plot.height=4, repr.plot.res=250 ) # Make plots a resonable size"
   ]
  },
  {
   "cell_type": "markdown",
   "metadata": {},
   "source": [
    "<div class=\"big_title\">LAB 5: Advanced data manipulation</div>\n",
    "\n",
    "BIO3782: Biologist's Toolkit (Dalhousie University)\n",
    "\n",
    "----------------------------------------"
   ]
  },
  {
   "cell_type": "markdown",
   "metadata": {},
   "source": [
    "# Setup of workspace\n",
    "\n",
    "<span class=\"important\"></span> Make sure all required files are in the working directory:\n",
    "\n",
    "* Create a **folder** on the \"Desktop\" and name it <span class='file'>Lab5</span>\n",
    "* From Brightspace, download the following files into your new folder <span class='file'>Desktop\\Lab5</span>:\n",
    "   * <span class=\"file\">Silver Tree Study photosynthetis.csv</span>\n",
    "   * <span class=\"file\">Silver tree study conductance.csv</span>\n",
    "   * <span class=\"file\">task_data_fox_size.csv</span>\n",
    "   * <span class=\"file\">task_data_fox_weight.csv</span>\n",
    "   \n",
    "* In RStudio, change the \"working directory\" to: <span class='file'>Desktop\\Lab5</span>. Click here if you need a [refresher on the **working directory**](https://diego-ibarra.github.io/biol3782/week1/index.html#RStudio's-%22Working-Directory%22)\n",
    "\n",
    "* In RStudio, create a new R script, name it <span class='file'>lab5.r</span> and make sure you save it in <span class='file'>Desktop\\Lab5</span>. You will be writting and copy-pasting code to your <span class='file'>lab5.r</span> file so that you can keep a record of all you did in this lab.\n",
    "\n",
    "As in previous labs, we'll try simulate \"real-life\" coding, where:\n",
    "\n",
    "1. Sometimes you want to type of copy-paste directly in a <span class='file'>.r</span> file, using RSTudio's <span class=\"editor\"></span>, to build a script file that can be run as a whole to accomplish a series of tasks. This file will allow you to save your work so that you can review it (or expand it) at a later date. In the <span class=\"editor\"></span> you can execute sections as you type them in, by highlighting and clicking <span class=\"run\"></span>. We'll guide you when to use the <span class=\"editor\"></span> by displaying the following before a \"code\" cell: <br>\n",
    "\n",
    "<div class=\"use_editor\"></div>    \n",
    "<br> \n",
    "\n",
    "2. Some other times you want to quickly do \"one-off\" queries or inspections that you do not want to be part of your script file. In this case, type or copy-paste code into RStudio's <span class=\"console\"></span> and click [enter]. We'll guide you when to use the <span class=\"console\"></span> by displaying the following before a \"code\" cell: <br>\n",
    "\n",
    "<div class=\"use_console\"></div>    \n",
    "<br> \n",
    "\n",
    "\n",
    "----------------------------------\n"
   ]
  },
  {
   "cell_type": "markdown",
   "metadata": {},
   "source": [
    "# Data manipulation\n",
    "\n",
    "The path between data collection and the final plot or analysis is a publication is, to say the least, complicated and convoluted. Raw data files contain data organized in a way that preserves all the information that was available during collection, often in a format that facilitates data entry. For each different research objective — whether it is to test a hypothesis, do a plot or run an analysis — the raw data often needs to be filtered, splitted, joined or merged with other data, reshaped, mutated, summarized, and/or many other processes and trasformations. All of these intermediate steps, which are necessary to get the raw data into a shape or format suitable for the final analysis, are collective know as **Data manipulation**.\n"
   ]
  },
  {
   "cell_type": "markdown",
   "metadata": {},
   "source": [
    "# The tidyverse\n",
    "\n",
    "The `tidyverse` package is an \"umbrella-package\" (or \"bundle-package\") that installs `tidyr`, `dplyr`, and several other packages useful for data analysis, such as `ggplot2`, `tibble`, etc. \n",
    "\n",
    "The tidyverse package tries to address 3 common issues that arise when doing data analysis with some of the built-in functions that come with R:\n",
    "\n",
    "1. The results from a base R function sometimes depend on the type of data.\n",
    "\n",
    "2. Using R expressions in a non standard way, which can be confusing for new learners.\n",
    "\n",
    "3. Hidden arguments, having default operations that new learners are not aware of.\n",
    "\n",
    "Here we will only install and load the `tidyverse` package. In the following sections we will lear how to use many functions of several packages included in the `tidyverse`\n",
    "    \n",
    "You probably already have installed the `tidyverse` package, if so skip this step.\n",
    "\n",
    "To install the `tidyverse` package...\n",
    "\n",
    "<br>\n",
    "<div class=\"use_console\"></div>"
   ]
  },
  {
   "cell_type": "code",
   "execution_count": null,
   "metadata": {},
   "outputs": [],
   "source": [
    "install.packages(\"tidyverse\")"
   ]
  },
  {
   "cell_type": "markdown",
   "metadata": {},
   "source": [
    "To **load** the `tidyverse` package...\n",
    "\n",
    "<br>\n",
    "<div class=\"use_editor\"></div>"
   ]
  },
  {
   "cell_type": "code",
   "execution_count": null,
   "metadata": {},
   "outputs": [],
   "source": [
    "library(tidyverse)"
   ]
  },
  {
   "cell_type": "markdown",
   "metadata": {},
   "source": [
    "You should also download the [dplyr cheat sheet](https://github.com/rstudio/cheatsheets/raw/master/data-transformation.pdf) for reference as well."
   ]
  },
  {
   "cell_type": "markdown",
   "metadata": {},
   "source": [
    "# What are `dplyr` and `tidyr`?\n",
    "\n",
    "Both, `dplyr` and `tidyr`, are packages included in the `tidyverse` package. They should be both loaded (when you did `library(tidyverse)`) and ready to go...\n",
    "\n",
    "`dplyr` is a package for making tabular data manipulation easier. It pairs nicely with tidyr which enables you to swiftly convert between different data formats for plotting and analysis.\n",
    "\n",
    "The package `dplyr` provides easy tools for the most common data manipulation tasks. It is built to work directly with data frames, with many common tasks optimized to run very fast (they were written in a compiled language, like C++). \n",
    "\n",
    "The package `tidyr` addresses the common problem of wanting to reshape your data for plotting and use by different R functions. Sometimes we want data sets where we have one row per measurement. Sometimes we want a data frame where each measurement type has its own column, and rows are instead more aggregated groups (e.g., a time period, an experimental unit like a plot or a batch number). Moving back and forth between these formats is non-trivial, and `tidyr` gives you tools for this and more sophisticated data manipulation."
   ]
  },
  {
   "cell_type": "markdown",
   "metadata": {},
   "source": [
    "# The data \n",
    "\n",
    "Here we will work with data collected to evaluate the cumulative effects of drought and disease on the silver tree (*Leucadendron Argenteum*). The data includes measured physiological responses of the plant such as photosynthetic oxygen evolution and electrical conductivity.\n",
    "\n",
    "<table>\n",
    "<tr>\n",
    "<td><img src=\"leucadendron_argenteum.jpg\" width=\"500px\"></td>\n",
    "<td><img src=\"silver_tree.jpg\" width=\"200px\"></td>\n",
    "</tr>\n",
    "</table>\n",
    "\n",
    "\n",
    "\n",
    "First, let's download the data. "
   ]
  },
  {
   "cell_type": "markdown",
   "metadata": {},
   "source": [
    "You should already have the data files <span class=\"file\">Silver Tree Study photosynthetis.csv</span> and <span class=\"file\">Silver tree study conductance.csv</span> inside  <span class=\"file\">Desktop/Lab5</span>, and set up that folder as your working directory. If you haven't take a look at the [beginning of this lab](#Setup-of-workspace).\n",
    "\n",
    "First, we'll read in our data using the `read_csv()` function from the tidyverse package `readr`.\n",
    "\n",
    "<br>\n",
    "<div class=\"use_editor\"></div>"
   ]
  },
  {
   "cell_type": "code",
   "execution_count": null,
   "metadata": {
    "scrolled": false
   },
   "outputs": [],
   "source": [
    "# Read data\n",
    "photosynthesis <- read_csv(\"Silver Tree Study photosynthetis.csv\")\n",
    "\n",
    "conductivity <- read_csv(\"Silver tree study conductance.csv\")"
   ]
  },
  {
   "cell_type": "markdown",
   "metadata": {},
   "source": [
    "Let's take a look at the `photosynthesis` datasets using the `head()`, `tail()` and `str()`. \n",
    "\n",
    "<br>\n",
    "<div class=\"use_console\"></div>"
   ]
  },
  {
   "cell_type": "code",
   "execution_count": 4,
   "metadata": {},
   "outputs": [
    {
     "data": {
      "text/html": [
       "<table class=\"dataframe\">\n",
       "<caption>A tibble: 6 × 12</caption>\n",
       "<thead>\n",
       "\t<tr><th scope=col>Sample type</th><th scope=col>Days after inoculation</th><th scope=col>Date</th><th scope=col>Licor</th><th scope=col>Trial</th><th scope=col>Treatment</th><th scope=col>Species</th><th scope=col>Plant Number</th><th scope=col>Isolate Number</th><th scope=col>Unique Sample Number</th><th scope=col>Obs</th><th scope=col>Photosynthesis</th></tr>\n",
       "\t<tr><th scope=col>&lt;chr&gt;</th><th scope=col>&lt;dbl&gt;</th><th scope=col>&lt;chr&gt;</th><th scope=col>&lt;dbl&gt;</th><th scope=col>&lt;dbl&gt;</th><th scope=col>&lt;chr&gt;</th><th scope=col>&lt;chr&gt;</th><th scope=col>&lt;dbl&gt;</th><th scope=col>&lt;dbl&gt;</th><th scope=col>&lt;dbl&gt;</th><th scope=col>&lt;dbl&gt;</th><th scope=col>&lt;dbl&gt;</th></tr>\n",
       "</thead>\n",
       "<tbody>\n",
       "\t<tr><td>1DroughtIndigenous Pathogen 1</td><td>9</td><td>6/8/2018</td><td>6400</td><td>1</td><td>Drought</td><td>Indigenous Pathogen</td><td>1</td><td>1</td><td>3</td><td>1</td><td>1.1459282</td></tr>\n",
       "\t<tr><td>1DroughtIndigenous Pathogen 1</td><td>9</td><td>6/8/2018</td><td>6400</td><td>1</td><td>Drought</td><td>Indigenous Pathogen</td><td>1</td><td>1</td><td>3</td><td>2</td><td>0.8224351</td></tr>\n",
       "\t<tr><td>1DroughtIndigenous Pathogen 1</td><td>9</td><td>6/8/2018</td><td>6400</td><td>1</td><td>Drought</td><td>Indigenous Pathogen</td><td>1</td><td>1</td><td>3</td><td>3</td><td>0.8382796</td></tr>\n",
       "\t<tr><td>1DroughtIndigenous Pathogen 1</td><td>9</td><td>6/8/2018</td><td>6400</td><td>1</td><td>Drought</td><td>Indigenous Pathogen</td><td>1</td><td>1</td><td>3</td><td>4</td><td>1.2894069</td></tr>\n",
       "\t<tr><td>1DroughtIndigenous Pathogen 1</td><td>9</td><td>6/8/2018</td><td>6400</td><td>1</td><td>Drought</td><td>Indigenous Pathogen</td><td>1</td><td>1</td><td>3</td><td>5</td><td>1.3339338</td></tr>\n",
       "\t<tr><td>1DroughtIndigenous Pathogen 1</td><td>9</td><td>6/8/2018</td><td>6400</td><td>1</td><td>Drought</td><td>Indigenous Pathogen</td><td>1</td><td>1</td><td>3</td><td>6</td><td>1.1601482</td></tr>\n",
       "</tbody>\n",
       "</table>\n"
      ],
      "text/latex": [
       "A tibble: 6 × 12\n",
       "\\begin{tabular}{llllllllllll}\n",
       " Sample type & Days after inoculation & Date & Licor & Trial & Treatment & Species & Plant Number & Isolate Number & Unique Sample Number & Obs & Photosynthesis\\\\\n",
       " <chr> & <dbl> & <chr> & <dbl> & <dbl> & <chr> & <chr> & <dbl> & <dbl> & <dbl> & <dbl> & <dbl>\\\\\n",
       "\\hline\n",
       "\t 1DroughtIndigenous Pathogen 1 & 9 & 6/8/2018 & 6400 & 1 & Drought & Indigenous Pathogen & 1 & 1 & 3 & 1 & 1.1459282\\\\\n",
       "\t 1DroughtIndigenous Pathogen 1 & 9 & 6/8/2018 & 6400 & 1 & Drought & Indigenous Pathogen & 1 & 1 & 3 & 2 & 0.8224351\\\\\n",
       "\t 1DroughtIndigenous Pathogen 1 & 9 & 6/8/2018 & 6400 & 1 & Drought & Indigenous Pathogen & 1 & 1 & 3 & 3 & 0.8382796\\\\\n",
       "\t 1DroughtIndigenous Pathogen 1 & 9 & 6/8/2018 & 6400 & 1 & Drought & Indigenous Pathogen & 1 & 1 & 3 & 4 & 1.2894069\\\\\n",
       "\t 1DroughtIndigenous Pathogen 1 & 9 & 6/8/2018 & 6400 & 1 & Drought & Indigenous Pathogen & 1 & 1 & 3 & 5 & 1.3339338\\\\\n",
       "\t 1DroughtIndigenous Pathogen 1 & 9 & 6/8/2018 & 6400 & 1 & Drought & Indigenous Pathogen & 1 & 1 & 3 & 6 & 1.1601482\\\\\n",
       "\\end{tabular}\n"
      ],
      "text/markdown": [
       "\n",
       "A tibble: 6 × 12\n",
       "\n",
       "| Sample type &lt;chr&gt; | Days after inoculation &lt;dbl&gt; | Date &lt;chr&gt; | Licor &lt;dbl&gt; | Trial &lt;dbl&gt; | Treatment &lt;chr&gt; | Species &lt;chr&gt; | Plant Number &lt;dbl&gt; | Isolate Number &lt;dbl&gt; | Unique Sample Number &lt;dbl&gt; | Obs &lt;dbl&gt; | Photosynthesis &lt;dbl&gt; |\n",
       "|---|---|---|---|---|---|---|---|---|---|---|---|\n",
       "| 1DroughtIndigenous Pathogen 1 | 9 | 6/8/2018 | 6400 | 1 | Drought | Indigenous Pathogen | 1 | 1 | 3 | 1 | 1.1459282 |\n",
       "| 1DroughtIndigenous Pathogen 1 | 9 | 6/8/2018 | 6400 | 1 | Drought | Indigenous Pathogen | 1 | 1 | 3 | 2 | 0.8224351 |\n",
       "| 1DroughtIndigenous Pathogen 1 | 9 | 6/8/2018 | 6400 | 1 | Drought | Indigenous Pathogen | 1 | 1 | 3 | 3 | 0.8382796 |\n",
       "| 1DroughtIndigenous Pathogen 1 | 9 | 6/8/2018 | 6400 | 1 | Drought | Indigenous Pathogen | 1 | 1 | 3 | 4 | 1.2894069 |\n",
       "| 1DroughtIndigenous Pathogen 1 | 9 | 6/8/2018 | 6400 | 1 | Drought | Indigenous Pathogen | 1 | 1 | 3 | 5 | 1.3339338 |\n",
       "| 1DroughtIndigenous Pathogen 1 | 9 | 6/8/2018 | 6400 | 1 | Drought | Indigenous Pathogen | 1 | 1 | 3 | 6 | 1.1601482 |\n",
       "\n"
      ],
      "text/plain": [
       "  Sample type                   Days after inoculation Date     Licor Trial\n",
       "1 1DroughtIndigenous Pathogen 1 9                      6/8/2018 6400  1    \n",
       "2 1DroughtIndigenous Pathogen 1 9                      6/8/2018 6400  1    \n",
       "3 1DroughtIndigenous Pathogen 1 9                      6/8/2018 6400  1    \n",
       "4 1DroughtIndigenous Pathogen 1 9                      6/8/2018 6400  1    \n",
       "5 1DroughtIndigenous Pathogen 1 9                      6/8/2018 6400  1    \n",
       "6 1DroughtIndigenous Pathogen 1 9                      6/8/2018 6400  1    \n",
       "  Treatment Species             Plant Number Isolate Number\n",
       "1 Drought   Indigenous Pathogen 1            1             \n",
       "2 Drought   Indigenous Pathogen 1            1             \n",
       "3 Drought   Indigenous Pathogen 1            1             \n",
       "4 Drought   Indigenous Pathogen 1            1             \n",
       "5 Drought   Indigenous Pathogen 1            1             \n",
       "6 Drought   Indigenous Pathogen 1            1             \n",
       "  Unique Sample Number Obs Photosynthesis\n",
       "1 3                    1   1.1459282     \n",
       "2 3                    2   0.8224351     \n",
       "3 3                    3   0.8382796     \n",
       "4 3                    4   1.2894069     \n",
       "5 3                    5   1.3339338     \n",
       "6 3                    6   1.1601482     "
      ]
     },
     "metadata": {},
     "output_type": "display_data"
    }
   ],
   "source": [
    "head(photosynthesis)"
   ]
  },
  {
   "cell_type": "markdown",
   "metadata": {},
   "source": [
    "<div class=\"Q\"><br><br>\n",
    "\n",
    "How many rows did the function <b>head()</b> display? \n",
    "\n",
    "\n",
    "<br><br><div class=\"qhelp\"></div></div>"
   ]
  },
  {
   "cell_type": "markdown",
   "metadata": {},
   "source": [
    "<div class=\"Q\"><br><br>\n",
    "\n",
    "What <b>date</b> was the first row collected on? \n",
    "\n",
    "\n",
    "<br><br><div class=\"qhelp\"></div></div>"
   ]
  },
  {
   "cell_type": "markdown",
   "metadata": {},
   "source": [
    "<div class=\"Q\"><br><br>\n",
    "\n",
    "What is the function to display the last few rows of a dataframe (opposite of <b>head()</b>)? \n",
    "\n",
    "\n",
    "<br><br><div class=\"qhelp\"></div></div>"
   ]
  },
  {
   "cell_type": "markdown",
   "metadata": {},
   "source": [
    "Now lets take a look at the structure of data frame.\n",
    "\n",
    "\n",
    "<br>\n",
    "<div class=\"use_console\"></div>"
   ]
  },
  {
   "cell_type": "code",
   "execution_count": 5,
   "metadata": {},
   "outputs": [
    {
     "name": "stdout",
     "output_type": "stream",
     "text": [
      "tibble [1,722 x 12] (S3: spec_tbl_df/tbl_df/tbl/data.frame)\n",
      " $ Sample type           : chr [1:1722] \"1DroughtIndigenous Pathogen 1\" \"1DroughtIndigenous Pathogen 1\" \"1DroughtIndigenous Pathogen 1\" \"1DroughtIndigenous Pathogen 1\" ...\n",
      " $ Days after inoculation: num [1:1722] 9 9 9 9 9 9 9 9 9 9 ...\n",
      " $ Date                  : chr [1:1722] \"6/8/2018\" \"6/8/2018\" \"6/8/2018\" \"6/8/2018\" ...\n",
      " $ Licor                 : num [1:1722] 6400 6400 6400 6400 6400 6400 6400 6400 6400 6400 ...\n",
      " $ Trial                 : num [1:1722] 1 1 1 1 1 1 1 1 1 1 ...\n",
      " $ Treatment             : chr [1:1722] \"Drought\" \"Drought\" \"Drought\" \"Drought\" ...\n",
      " $ Species               : chr [1:1722] \"Indigenous Pathogen\" \"Indigenous Pathogen\" \"Indigenous Pathogen\" \"Indigenous Pathogen\" ...\n",
      " $ Plant Number          : num [1:1722] 1 1 1 1 1 1 1 1 1 1 ...\n",
      " $ Isolate Number        : num [1:1722] 1 1 1 1 1 1 1 1 1 1 ...\n",
      " $ Unique Sample Number  : num [1:1722] 3 3 3 3 3 3 3 3 3 3 ...\n",
      " $ Obs                   : num [1:1722] 1 2 3 4 5 6 7 8 9 10 ...\n",
      " $ Photosynthesis        : num [1:1722] 1.146 0.822 0.838 1.289 1.334 ...\n",
      " - attr(*, \"spec\")=\n",
      "  .. cols(\n",
      "  ..   `Sample type` = \u001b[31mcol_character()\u001b[39m,\n",
      "  ..   `Days after inoculation` = \u001b[32mcol_double()\u001b[39m,\n",
      "  ..   Date = \u001b[31mcol_character()\u001b[39m,\n",
      "  ..   Licor = \u001b[32mcol_double()\u001b[39m,\n",
      "  ..   Trial = \u001b[32mcol_double()\u001b[39m,\n",
      "  ..   Treatment = \u001b[31mcol_character()\u001b[39m,\n",
      "  ..   Species = \u001b[31mcol_character()\u001b[39m,\n",
      "  ..   `Plant Number` = \u001b[32mcol_double()\u001b[39m,\n",
      "  ..   `Isolate Number` = \u001b[32mcol_double()\u001b[39m,\n",
      "  ..   `Unique Sample Number` = \u001b[32mcol_double()\u001b[39m,\n",
      "  ..   Obs = \u001b[32mcol_double()\u001b[39m,\n",
      "  ..   Photosynthesis = \u001b[32mcol_double()\u001b[39m\n",
      "  .. )\n"
     ]
    }
   ],
   "source": [
    "str(photosynthesis)"
   ]
  },
  {
   "cell_type": "markdown",
   "metadata": {},
   "source": [
    "<div class=\"Q\"><br><br>\n",
    "\n",
    "How many columns/variables are there in <b>photosynthesis</b>? \n",
    "\n",
    "\n",
    "<br><br><div class=\"qhelp\"></div></div>"
   ]
  },
  {
   "cell_type": "markdown",
   "metadata": {},
   "source": [
    "<div class=\"Q\"><br><br>\n",
    "\n",
    "What class of variable is <b>Species</b>?\n",
    "\n",
    "\n",
    "<br><br><div class=\"qhelp\"></div></div>"
   ]
  },
  {
   "cell_type": "markdown",
   "metadata": {},
   "source": [
    "<div class=\"Q\"><br><br>\n",
    "\n",
    "The function <b>str()</b> shows the structure of the dataframe? \n",
    "\n",
    "\n",
    "<br><br><div class=\"qhelp\"></div></div>"
   ]
  },
  {
   "cell_type": "markdown",
   "metadata": {},
   "source": [
    "Let's make a plot to quickly asseess Photosynthesis as a function of pathogen species.\n",
    "\n",
    "<br>\n",
    "<div class=\"use_editor\"></div>"
   ]
  },
  {
   "cell_type": "code",
   "execution_count": 85,
   "metadata": {},
   "outputs": [
    {
     "name": "stderr",
     "output_type": "stream",
     "text": [
      "Warning message:\n",
      "\"Removed 10 rows containing non-finite values (stat_boxplot).\"\n"
     ]
    },
    {
     "data": {
      "image/png": "[encoded data removed]",
      "text/plain": [
       "plot without title"
      ]
     },
     "metadata": {
      "image/png": {
       "height": 500,
       "width": 875
      }
     },
     "output_type": "display_data"
    }
   ],
   "source": [
    "# Photosynthesis plot \n",
    "ggplot(data = photosynthesis,\n",
    "    aes(x = factor(Species), y = Photosynthesis, fill = factor(Species))) +\n",
    "    geom_boxplot() +\n",
    "    scale_y_continuous(limits = c(-10,50)) + #sets axis limits for y-axis. We note that this will remove values > 50. A warning message will let us know how many observations were excluded (10 observations)\n",
    "    theme_classic() +\n",
    "    guides(fill = FALSE) #removes legend for fill"
   ]
  },
  {
   "cell_type": "markdown",
   "metadata": {},
   "source": [
    "As you can see, the first bar (i.e Both Pathogens) shows smaller Photosysthesis that the Control and trees with only the exotic pathogen or the indigenous pathogen. \n",
    "\n",
    "Now lets do the same with `conductivity`."
   ]
  },
  {
   "cell_type": "markdown",
   "metadata": {},
   "source": [
    "<br><br><br>\n",
    "<div class=\"startTASK\"></div>\n",
    "\n",
    "Take a look at the `conductivity` datasets using the `head()`, `tail()` and `str()`. Then answer the following questions.\n",
    "\n",
    "<div class=\"endTASK\"></div>\n",
    "<br><br><br>"
   ]
  },
  {
   "cell_type": "markdown",
   "metadata": {},
   "source": [
    "<div class=\"Q\"><br><br>\n",
    "\n",
    "How many observations are in <b>conductivity</b>? \n",
    "\n",
    "\n",
    "<br><br><div class=\"qhelp\"></div></div>"
   ]
  },
  {
   "cell_type": "markdown",
   "metadata": {},
   "source": [
    "<div class=\"Q\"><br><br>\n",
    "\n",
    "How many columns/variables are there in <b>conductivity</b>? \n",
    "\n",
    "\n",
    "<br><br><div class=\"qhelp\"></div></div>"
   ]
  },
  {
   "cell_type": "markdown",
   "metadata": {},
   "source": [
    "<div class=\"Q\"><br><br>\n",
    "\n",
    "What class of variable is <b>Conductance</b>?\n",
    "\n",
    "    \n",
    "\n",
    "<br><br><div class=\"qhelp\"></div></div>"
   ]
  },
  {
   "cell_type": "markdown",
   "metadata": {},
   "source": [
    "<div class=\"Q\"><br><br>\n",
    "\n",
    "What is the last value in the <b>Conductance</b> column? \n",
    "\n",
    "\n",
    "<br><br><div class=\"qhelp\"></div></div>"
   ]
  },
  {
   "cell_type": "markdown",
   "metadata": {},
   "source": [
    "Let's make a plot to asseess Conductance as a function of pathogen species. \n",
    "\n",
    "<br>\n",
    "<div class=\"use_editor\"></div>"
   ]
  },
  {
   "cell_type": "code",
   "execution_count": 86,
   "metadata": {},
   "outputs": [
    {
     "data": {
      "image/png": "[encoded data removed]",
      "text/plain": [
       "plot without title"
      ]
     },
     "metadata": {
      "image/png": {
       "height": 500,
       "width": 875
      }
     },
     "output_type": "display_data"
    }
   ],
   "source": [
    "# Conductance plot\n",
    "ggplot(data = conductivity,\n",
    "    aes(x = factor(Species), y = Conductance, fill = factor(Species))) +\n",
    "    geom_boxplot() +\n",
    "    theme_classic() +\n",
    "    guides(fill = FALSE) #removes legend for fill"
   ]
  },
  {
   "cell_type": "markdown",
   "metadata": {},
   "source": [
    "When looking at `conductance` the pattern is even stronger than with `photosynthesis`. Here too, the first bar (i.e Both Pathogens) shows smaller conductance that the Control and trees with only the exotic pathogen or the indigenous pathogen. \n"
   ]
  },
  {
   "cell_type": "markdown",
   "metadata": {},
   "source": [
    "Since the experiment was run with two different instruments, we ended up with two different datasets of paired measurements. We can combined both datasets into one more useful dataset.\n",
    "\n",
    "# Combining two or more datasets\n",
    "\n",
    "There are several functions that allow you to combined multiple datasets. Here we will discuss several `join` functions and also the `merge()` function."
   ]
  },
  {
   "cell_type": "markdown",
   "metadata": {},
   "source": [
    "## Join\n",
    "\n",
    "`Join` functions allow you to connect multiple tables based on common variables (columns). There are many types of `join` functions included in `dplyr`. Here we'll review a few, but you can [see the full list here](https://dplyr.tidyverse.org/reference/join.html#join-types).\n",
    "\n",
    "Most `join` functions follow the basic syntax below:\n",
    "\n",
    "<span class=\"nomenclature\">joinFunctionName(dataFrame1, dateFrame2, by = \"variable names\")</span>\n",
    "    \n",
    "However, most of the time you will use the \"joined\" product multiple times; therefore, you probably want to \"save\" the joined table in a new variable:\n",
    "\n",
    "<span class=\"nomenclature\">newJoinedDataFrame <- joinFunctionName(dataFrame1, dateFrame2, by = \"variable names\")</span>\n",
    "\n",
    "    "
   ]
  },
  {
   "cell_type": "markdown",
   "metadata": {},
   "source": [
    "### left_join\n",
    "\n",
    "The most useful of the `join` functions is a `left join()`, which takes a table (say table 1), and then adds all matching records from table 2.The resulting table will show all records from table 1 (the left hand table), and matching records from table 2 (the right hand table).\n",
    "\n",
    "The specific syntax of `left_join()` is:\n",
    "\n",
    "`dataFrame3 <- left_join(dataFrame1, dateFrame2, by = \"variable names\")`\n",
    "    \n",
    "Graphically, it would look like this:\n",
    "    \n",
    "<img src=\"left_join0.png\" width=\"500px\">\n",
    "    \n",
    "However, to make the graphics a bit simpler, we won't save the resulting \"joined\" data frame into the `df3` variable. Instead, we will only show you the command ran over the resulting joined table. The new simpler graphic looks like this: \n",
    "    \n",
    "<img src=\"left_join.png\" width=\"500px\">\n",
    "    \n",
    "From now on, we will be using the simpler graphics in all the examples below.\n",
    "    \n",
    "-----------------------------\n",
    "\n",
    "About the `left_join()`, note that R will automatically detect which columns two tables have in common **IF** they are called the same thing. If not, you have to feed the matching columns names into the `left_join()` function. \n",
    "\n",
    "We can create a new dataframe with information all the information from both `photosynthesis` and `conductivity` joining the two dataframes using the qualifying variables in the columns from \"Sample type\" to \"Obs\".\n",
    "    \n",
    "<br>\n",
    "<div class=\"use_editor\"></div>"
   ]
  },
  {
   "cell_type": "code",
   "execution_count": 32,
   "metadata": {},
   "outputs": [],
   "source": [
    "# left_join example\n",
    "combined_data <- left_join(photosynthesis,conductivity, \n",
    "                           by =c(\"Sample type\",\n",
    "                                 \"Days after inoculation\", \n",
    "                                 \"Date\", \n",
    "                                 \"Licor\", \n",
    "                                 \"Trial\",\n",
    "                                 \"Treatment\",\n",
    "                                 \"Species\",\n",
    "                                 \"Plant Number\",\n",
    "                                 \"Isolate Number\", \n",
    "                                 \"Unique Sample Number\",\n",
    "                                 \"Obs\"))"
   ]
  },
  {
   "cell_type": "markdown",
   "metadata": {},
   "source": [
    "Let's look at the combined dataset below using the `head()` and `str()` functions:\n",
    "\n",
    "<br>\n",
    "<div class=\"use_console\"></div>"
   ]
  },
  {
   "cell_type": "code",
   "execution_count": 34,
   "metadata": {},
   "outputs": [
    {
     "data": {
      "text/html": [
       "<table class=\"dataframe\">\n",
       "<caption>A tibble: 6 × 14</caption>\n",
       "<thead>\n",
       "\t<tr><th scope=col>Sample type</th><th scope=col>Days after inoculation</th><th scope=col>Date</th><th scope=col>Licor</th><th scope=col>Trial</th><th scope=col>Treatment</th><th scope=col>Species</th><th scope=col>Plant Number</th><th scope=col>Isolate Number</th><th scope=col>Unique Sample Number</th><th scope=col>Obs</th><th scope=col>Photosynthesis</th><th scope=col>Conductance</th><th scope=col>Ci</th></tr>\n",
       "\t<tr><th scope=col>&lt;chr&gt;</th><th scope=col>&lt;dbl&gt;</th><th scope=col>&lt;chr&gt;</th><th scope=col>&lt;dbl&gt;</th><th scope=col>&lt;dbl&gt;</th><th scope=col>&lt;chr&gt;</th><th scope=col>&lt;chr&gt;</th><th scope=col>&lt;dbl&gt;</th><th scope=col>&lt;dbl&gt;</th><th scope=col>&lt;dbl&gt;</th><th scope=col>&lt;dbl&gt;</th><th scope=col>&lt;dbl&gt;</th><th scope=col>&lt;dbl&gt;</th><th scope=col>&lt;dbl&gt;</th></tr>\n",
       "</thead>\n",
       "<tbody>\n",
       "\t<tr><td>1DroughtIndigenous Pathogen 1</td><td>9</td><td>6/8/2018</td><td>6400</td><td>1</td><td>Drought</td><td>Indigenous Pathogen</td><td>1</td><td>1</td><td>3</td><td>1</td><td>1.1459282</td><td>0.000407974</td><td>-4050.4585</td></tr>\n",
       "\t<tr><td>1DroughtIndigenous Pathogen 1</td><td>9</td><td>6/8/2018</td><td>6400</td><td>1</td><td>Drought</td><td>Indigenous Pathogen</td><td>1</td><td>1</td><td>3</td><td>2</td><td>0.8224351</td><td>0.000454750</td><td>-2467.0358</td></tr>\n",
       "\t<tr><td>1DroughtIndigenous Pathogen 1</td><td>9</td><td>6/8/2018</td><td>6400</td><td>1</td><td>Drought</td><td>Indigenous Pathogen</td><td>1</td><td>1</td><td>3</td><td>3</td><td>0.8382796</td><td>0.000673320</td><td>-1575.0865</td></tr>\n",
       "\t<tr><td>1DroughtIndigenous Pathogen 1</td><td>9</td><td>6/8/2018</td><td>6400</td><td>1</td><td>Drought</td><td>Indigenous Pathogen</td><td>1</td><td>1</td><td>3</td><td>4</td><td>1.2894069</td><td>0.000470876</td><td>-3938.6611</td></tr>\n",
       "\t<tr><td>1DroughtIndigenous Pathogen 1</td><td>9</td><td>6/8/2018</td><td>6400</td><td>1</td><td>Drought</td><td>Indigenous Pathogen</td><td>1</td><td>1</td><td>3</td><td>5</td><td>1.3339338</td><td>0.000676270</td><td>-2726.5778</td></tr>\n",
       "\t<tr><td>1DroughtIndigenous Pathogen 1</td><td>9</td><td>6/8/2018</td><td>6400</td><td>1</td><td>Drought</td><td>Indigenous Pathogen</td><td>1</td><td>1</td><td>3</td><td>6</td><td>1.1601482</td><td>0.002413163</td><td> -365.7831</td></tr>\n",
       "</tbody>\n",
       "</table>\n"
      ],
      "text/latex": [
       "A tibble: 6 × 14\n",
       "\\begin{tabular}{llllllllllllll}\n",
       " Sample type & Days after inoculation & Date & Licor & Trial & Treatment & Species & Plant Number & Isolate Number & Unique Sample Number & Obs & Photosynthesis & Conductance & Ci\\\\\n",
       " <chr> & <dbl> & <chr> & <dbl> & <dbl> & <chr> & <chr> & <dbl> & <dbl> & <dbl> & <dbl> & <dbl> & <dbl> & <dbl>\\\\\n",
       "\\hline\n",
       "\t 1DroughtIndigenous Pathogen 1 & 9 & 6/8/2018 & 6400 & 1 & Drought & Indigenous Pathogen & 1 & 1 & 3 & 1 & 1.1459282 & 0.000407974 & -4050.4585\\\\\n",
       "\t 1DroughtIndigenous Pathogen 1 & 9 & 6/8/2018 & 6400 & 1 & Drought & Indigenous Pathogen & 1 & 1 & 3 & 2 & 0.8224351 & 0.000454750 & -2467.0358\\\\\n",
       "\t 1DroughtIndigenous Pathogen 1 & 9 & 6/8/2018 & 6400 & 1 & Drought & Indigenous Pathogen & 1 & 1 & 3 & 3 & 0.8382796 & 0.000673320 & -1575.0865\\\\\n",
       "\t 1DroughtIndigenous Pathogen 1 & 9 & 6/8/2018 & 6400 & 1 & Drought & Indigenous Pathogen & 1 & 1 & 3 & 4 & 1.2894069 & 0.000470876 & -3938.6611\\\\\n",
       "\t 1DroughtIndigenous Pathogen 1 & 9 & 6/8/2018 & 6400 & 1 & Drought & Indigenous Pathogen & 1 & 1 & 3 & 5 & 1.3339338 & 0.000676270 & -2726.5778\\\\\n",
       "\t 1DroughtIndigenous Pathogen 1 & 9 & 6/8/2018 & 6400 & 1 & Drought & Indigenous Pathogen & 1 & 1 & 3 & 6 & 1.1601482 & 0.002413163 &  -365.7831\\\\\n",
       "\\end{tabular}\n"
      ],
      "text/markdown": [
       "\n",
       "A tibble: 6 × 14\n",
       "\n",
       "| Sample type &lt;chr&gt; | Days after inoculation &lt;dbl&gt; | Date &lt;chr&gt; | Licor &lt;dbl&gt; | Trial &lt;dbl&gt; | Treatment &lt;chr&gt; | Species &lt;chr&gt; | Plant Number &lt;dbl&gt; | Isolate Number &lt;dbl&gt; | Unique Sample Number &lt;dbl&gt; | Obs &lt;dbl&gt; | Photosynthesis &lt;dbl&gt; | Conductance &lt;dbl&gt; | Ci &lt;dbl&gt; |\n",
       "|---|---|---|---|---|---|---|---|---|---|---|---|---|---|\n",
       "| 1DroughtIndigenous Pathogen 1 | 9 | 6/8/2018 | 6400 | 1 | Drought | Indigenous Pathogen | 1 | 1 | 3 | 1 | 1.1459282 | 0.000407974 | -4050.4585 |\n",
       "| 1DroughtIndigenous Pathogen 1 | 9 | 6/8/2018 | 6400 | 1 | Drought | Indigenous Pathogen | 1 | 1 | 3 | 2 | 0.8224351 | 0.000454750 | -2467.0358 |\n",
       "| 1DroughtIndigenous Pathogen 1 | 9 | 6/8/2018 | 6400 | 1 | Drought | Indigenous Pathogen | 1 | 1 | 3 | 3 | 0.8382796 | 0.000673320 | -1575.0865 |\n",
       "| 1DroughtIndigenous Pathogen 1 | 9 | 6/8/2018 | 6400 | 1 | Drought | Indigenous Pathogen | 1 | 1 | 3 | 4 | 1.2894069 | 0.000470876 | -3938.6611 |\n",
       "| 1DroughtIndigenous Pathogen 1 | 9 | 6/8/2018 | 6400 | 1 | Drought | Indigenous Pathogen | 1 | 1 | 3 | 5 | 1.3339338 | 0.000676270 | -2726.5778 |\n",
       "| 1DroughtIndigenous Pathogen 1 | 9 | 6/8/2018 | 6400 | 1 | Drought | Indigenous Pathogen | 1 | 1 | 3 | 6 | 1.1601482 | 0.002413163 |  -365.7831 |\n",
       "\n"
      ],
      "text/plain": [
       "  Sample type                   Days after inoculation Date     Licor Trial\n",
       "1 1DroughtIndigenous Pathogen 1 9                      6/8/2018 6400  1    \n",
       "2 1DroughtIndigenous Pathogen 1 9                      6/8/2018 6400  1    \n",
       "3 1DroughtIndigenous Pathogen 1 9                      6/8/2018 6400  1    \n",
       "4 1DroughtIndigenous Pathogen 1 9                      6/8/2018 6400  1    \n",
       "5 1DroughtIndigenous Pathogen 1 9                      6/8/2018 6400  1    \n",
       "6 1DroughtIndigenous Pathogen 1 9                      6/8/2018 6400  1    \n",
       "  Treatment Species             Plant Number Isolate Number\n",
       "1 Drought   Indigenous Pathogen 1            1             \n",
       "2 Drought   Indigenous Pathogen 1            1             \n",
       "3 Drought   Indigenous Pathogen 1            1             \n",
       "4 Drought   Indigenous Pathogen 1            1             \n",
       "5 Drought   Indigenous Pathogen 1            1             \n",
       "6 Drought   Indigenous Pathogen 1            1             \n",
       "  Unique Sample Number Obs Photosynthesis Conductance Ci        \n",
       "1 3                    1   1.1459282      0.000407974 -4050.4585\n",
       "2 3                    2   0.8224351      0.000454750 -2467.0358\n",
       "3 3                    3   0.8382796      0.000673320 -1575.0865\n",
       "4 3                    4   1.2894069      0.000470876 -3938.6611\n",
       "5 3                    5   1.3339338      0.000676270 -2726.5778\n",
       "6 3                    6   1.1601482      0.002413163  -365.7831"
      ]
     },
     "metadata": {},
     "output_type": "display_data"
    }
   ],
   "source": [
    "head(combined_data)"
   ]
  },
  {
   "cell_type": "markdown",
   "metadata": {},
   "source": [
    "We can see that `left_join` combined `photosynthesis` and `conductivity` data by all the criteria columns we specified above. We basically get `photosynthesis` back, but with the addition of variables `Conductance` and `Ci`, which are unique to `conductivity`. "
   ]
  },
  {
   "cell_type": "markdown",
   "metadata": {},
   "source": [
    "<br>\n",
    "<div class=\"use_console\"></div>"
   ]
  },
  {
   "cell_type": "code",
   "execution_count": 35,
   "metadata": {},
   "outputs": [
    {
     "name": "stdout",
     "output_type": "stream",
     "text": [
      "tibble [1,722 x 14] (S3: spec_tbl_df/tbl_df/tbl/data.frame)\n",
      " $ Sample type           : chr [1:1722] \"1DroughtIndigenous Pathogen 1\" \"1DroughtIndigenous Pathogen 1\" \"1DroughtIndigenous Pathogen 1\" \"1DroughtIndigenous Pathogen 1\" ...\n",
      " $ Days after inoculation: num [1:1722] 9 9 9 9 9 9 9 9 9 9 ...\n",
      " $ Date                  : chr [1:1722] \"6/8/2018\" \"6/8/2018\" \"6/8/2018\" \"6/8/2018\" ...\n",
      " $ Licor                 : num [1:1722] 6400 6400 6400 6400 6400 6400 6400 6400 6400 6400 ...\n",
      " $ Trial                 : num [1:1722] 1 1 1 1 1 1 1 1 1 1 ...\n",
      " $ Treatment             : chr [1:1722] \"Drought\" \"Drought\" \"Drought\" \"Drought\" ...\n",
      " $ Species               : chr [1:1722] \"Indigenous Pathogen\" \"Indigenous Pathogen\" \"Indigenous Pathogen\" \"Indigenous Pathogen\" ...\n",
      " $ Plant Number          : num [1:1722] 1 1 1 1 1 1 1 1 1 1 ...\n",
      " $ Isolate Number        : num [1:1722] 1 1 1 1 1 1 1 1 1 1 ...\n",
      " $ Unique Sample Number  : num [1:1722] 3 3 3 3 3 3 3 3 3 3 ...\n",
      " $ Obs                   : num [1:1722] 1 2 3 4 5 6 7 8 9 10 ...\n",
      " $ Photosynthesis        : num [1:1722] 1.146 0.822 0.838 1.289 1.334 ...\n",
      " $ Conductance           : num [1:1722] 0.000408 0.000455 0.000673 0.000471 0.000676 ...\n",
      " $ Ci                    : num [1:1722] -4050 -2467 -1575 -3939 -2727 ...\n",
      " - attr(*, \"spec\")=\n",
      "  .. cols(\n",
      "  ..   `Sample type` = \u001b[31mcol_character()\u001b[39m,\n",
      "  ..   `Days after inoculation` = \u001b[32mcol_double()\u001b[39m,\n",
      "  ..   Date = \u001b[31mcol_character()\u001b[39m,\n",
      "  ..   Licor = \u001b[32mcol_double()\u001b[39m,\n",
      "  ..   Trial = \u001b[32mcol_double()\u001b[39m,\n",
      "  ..   Treatment = \u001b[31mcol_character()\u001b[39m,\n",
      "  ..   Species = \u001b[31mcol_character()\u001b[39m,\n",
      "  ..   `Plant Number` = \u001b[32mcol_double()\u001b[39m,\n",
      "  ..   `Isolate Number` = \u001b[32mcol_double()\u001b[39m,\n",
      "  ..   `Unique Sample Number` = \u001b[32mcol_double()\u001b[39m,\n",
      "  ..   Obs = \u001b[32mcol_double()\u001b[39m,\n",
      "  ..   Photosynthesis = \u001b[32mcol_double()\u001b[39m\n",
      "  .. )\n"
     ]
    }
   ],
   "source": [
    "str(combined_data)"
   ]
  },
  {
   "cell_type": "markdown",
   "metadata": {},
   "source": [
    "<div class=\"Q\"><br><br>\n",
    "\n",
    "How many observations(rows) does `combined_data` have? \n",
    "\n",
    "\n",
    "<br><br><div class=\"qhelp\"></div></div>"
   ]
  },
  {
   "cell_type": "markdown",
   "metadata": {},
   "source": [
    "<div class=\"Q\"><br><br>\n",
    "\n",
    "How many columns does `combined_data` have? \n",
    "\n",
    "\n",
    "<br><br><div class=\"qhelp\"></div></div>"
   ]
  },
  {
   "cell_type": "markdown",
   "metadata": {},
   "source": [
    "### inner_join\n",
    "\n",
    "The `inner_join()` function returns all rows from dataframe 1 where there are matching values in dataframe 2, and all columns from dataframe 1  and dataframe 2. If there are multiple matches between them, all combination of the matches are returned. Basically, the result shows only 'matched' records - where there is a matching value in both tables. **Instances where there are no matching values are thrown out.**\n",
    "\n",
    "<img src=\"inner_join.png\" width=\"700px\">\n",
    "\n",
    "<br><br>\n",
    "<div class=\"use_editor\"></div>"
   ]
  },
  {
   "cell_type": "code",
   "execution_count": 36,
   "metadata": {},
   "outputs": [],
   "source": [
    "# inner_join example\n",
    "combined_inner <- inner_join(photosynthesis, conductivity, \n",
    "                             by =c(\"Sample type\",\n",
    "                                   \"Days after inoculation\",\n",
    "                                   \"Date\", \n",
    "                                   \"Trial\",\n",
    "                                   \"Treatment\",\n",
    "                                   \"Species\",\n",
    "                                   \"Plant Number\",\n",
    "                                   \"Isolate Number\", \n",
    "                                   \"Unique Sample Number\",\n",
    "                                   \"Obs\"))"
   ]
  },
  {
   "cell_type": "markdown",
   "metadata": {},
   "source": [
    "Then, \n",
    "\n",
    "<br>\n",
    "<div class=\"use_console\"></div>"
   ]
  },
  {
   "cell_type": "code",
   "execution_count": 37,
   "metadata": {},
   "outputs": [
    {
     "data": {
      "text/html": [
       "<table class=\"dataframe\">\n",
       "<caption>A tibble: 6 × 15</caption>\n",
       "<thead>\n",
       "\t<tr><th scope=col>Sample type</th><th scope=col>Days after inoculation</th><th scope=col>Date</th><th scope=col>Licor.x</th><th scope=col>Trial</th><th scope=col>Treatment</th><th scope=col>Species</th><th scope=col>Plant Number</th><th scope=col>Isolate Number</th><th scope=col>Unique Sample Number</th><th scope=col>Obs</th><th scope=col>Photosynthesis</th><th scope=col>Licor.y</th><th scope=col>Conductance</th><th scope=col>Ci</th></tr>\n",
       "\t<tr><th scope=col>&lt;chr&gt;</th><th scope=col>&lt;dbl&gt;</th><th scope=col>&lt;chr&gt;</th><th scope=col>&lt;dbl&gt;</th><th scope=col>&lt;dbl&gt;</th><th scope=col>&lt;chr&gt;</th><th scope=col>&lt;chr&gt;</th><th scope=col>&lt;dbl&gt;</th><th scope=col>&lt;dbl&gt;</th><th scope=col>&lt;dbl&gt;</th><th scope=col>&lt;dbl&gt;</th><th scope=col>&lt;dbl&gt;</th><th scope=col>&lt;dbl&gt;</th><th scope=col>&lt;dbl&gt;</th><th scope=col>&lt;dbl&gt;</th></tr>\n",
       "</thead>\n",
       "<tbody>\n",
       "\t<tr><td>1DroughtIndigenous Pathogen 1</td><td>9</td><td>6/8/2018</td><td>6400</td><td>1</td><td>Drought</td><td>Indigenous Pathogen</td><td>1</td><td>1</td><td>3</td><td>1</td><td>1.1459282</td><td>6400</td><td>0.000407974</td><td>-4050.4585</td></tr>\n",
       "\t<tr><td>1DroughtIndigenous Pathogen 1</td><td>9</td><td>6/8/2018</td><td>6400</td><td>1</td><td>Drought</td><td>Indigenous Pathogen</td><td>1</td><td>1</td><td>3</td><td>2</td><td>0.8224351</td><td>6400</td><td>0.000454750</td><td>-2467.0358</td></tr>\n",
       "\t<tr><td>1DroughtIndigenous Pathogen 1</td><td>9</td><td>6/8/2018</td><td>6400</td><td>1</td><td>Drought</td><td>Indigenous Pathogen</td><td>1</td><td>1</td><td>3</td><td>3</td><td>0.8382796</td><td>6400</td><td>0.000673320</td><td>-1575.0865</td></tr>\n",
       "\t<tr><td>1DroughtIndigenous Pathogen 1</td><td>9</td><td>6/8/2018</td><td>6400</td><td>1</td><td>Drought</td><td>Indigenous Pathogen</td><td>1</td><td>1</td><td>3</td><td>4</td><td>1.2894069</td><td>6400</td><td>0.000470876</td><td>-3938.6611</td></tr>\n",
       "\t<tr><td>1DroughtIndigenous Pathogen 1</td><td>9</td><td>6/8/2018</td><td>6400</td><td>1</td><td>Drought</td><td>Indigenous Pathogen</td><td>1</td><td>1</td><td>3</td><td>5</td><td>1.3339338</td><td>6400</td><td>0.000676270</td><td>-2726.5778</td></tr>\n",
       "\t<tr><td>1DroughtIndigenous Pathogen 1</td><td>9</td><td>6/8/2018</td><td>6400</td><td>1</td><td>Drought</td><td>Indigenous Pathogen</td><td>1</td><td>1</td><td>3</td><td>6</td><td>1.1601482</td><td>6400</td><td>0.002413163</td><td> -365.7831</td></tr>\n",
       "</tbody>\n",
       "</table>\n"
      ],
      "text/latex": [
       "A tibble: 6 × 15\n",
       "\\begin{tabular}{lllllllllllllll}\n",
       " Sample type & Days after inoculation & Date & Licor.x & Trial & Treatment & Species & Plant Number & Isolate Number & Unique Sample Number & Obs & Photosynthesis & Licor.y & Conductance & Ci\\\\\n",
       " <chr> & <dbl> & <chr> & <dbl> & <dbl> & <chr> & <chr> & <dbl> & <dbl> & <dbl> & <dbl> & <dbl> & <dbl> & <dbl> & <dbl>\\\\\n",
       "\\hline\n",
       "\t 1DroughtIndigenous Pathogen 1 & 9 & 6/8/2018 & 6400 & 1 & Drought & Indigenous Pathogen & 1 & 1 & 3 & 1 & 1.1459282 & 6400 & 0.000407974 & -4050.4585\\\\\n",
       "\t 1DroughtIndigenous Pathogen 1 & 9 & 6/8/2018 & 6400 & 1 & Drought & Indigenous Pathogen & 1 & 1 & 3 & 2 & 0.8224351 & 6400 & 0.000454750 & -2467.0358\\\\\n",
       "\t 1DroughtIndigenous Pathogen 1 & 9 & 6/8/2018 & 6400 & 1 & Drought & Indigenous Pathogen & 1 & 1 & 3 & 3 & 0.8382796 & 6400 & 0.000673320 & -1575.0865\\\\\n",
       "\t 1DroughtIndigenous Pathogen 1 & 9 & 6/8/2018 & 6400 & 1 & Drought & Indigenous Pathogen & 1 & 1 & 3 & 4 & 1.2894069 & 6400 & 0.000470876 & -3938.6611\\\\\n",
       "\t 1DroughtIndigenous Pathogen 1 & 9 & 6/8/2018 & 6400 & 1 & Drought & Indigenous Pathogen & 1 & 1 & 3 & 5 & 1.3339338 & 6400 & 0.000676270 & -2726.5778\\\\\n",
       "\t 1DroughtIndigenous Pathogen 1 & 9 & 6/8/2018 & 6400 & 1 & Drought & Indigenous Pathogen & 1 & 1 & 3 & 6 & 1.1601482 & 6400 & 0.002413163 &  -365.7831\\\\\n",
       "\\end{tabular}\n"
      ],
      "text/markdown": [
       "\n",
       "A tibble: 6 × 15\n",
       "\n",
       "| Sample type &lt;chr&gt; | Days after inoculation &lt;dbl&gt; | Date &lt;chr&gt; | Licor.x &lt;dbl&gt; | Trial &lt;dbl&gt; | Treatment &lt;chr&gt; | Species &lt;chr&gt; | Plant Number &lt;dbl&gt; | Isolate Number &lt;dbl&gt; | Unique Sample Number &lt;dbl&gt; | Obs &lt;dbl&gt; | Photosynthesis &lt;dbl&gt; | Licor.y &lt;dbl&gt; | Conductance &lt;dbl&gt; | Ci &lt;dbl&gt; |\n",
       "|---|---|---|---|---|---|---|---|---|---|---|---|---|---|---|\n",
       "| 1DroughtIndigenous Pathogen 1 | 9 | 6/8/2018 | 6400 | 1 | Drought | Indigenous Pathogen | 1 | 1 | 3 | 1 | 1.1459282 | 6400 | 0.000407974 | -4050.4585 |\n",
       "| 1DroughtIndigenous Pathogen 1 | 9 | 6/8/2018 | 6400 | 1 | Drought | Indigenous Pathogen | 1 | 1 | 3 | 2 | 0.8224351 | 6400 | 0.000454750 | -2467.0358 |\n",
       "| 1DroughtIndigenous Pathogen 1 | 9 | 6/8/2018 | 6400 | 1 | Drought | Indigenous Pathogen | 1 | 1 | 3 | 3 | 0.8382796 | 6400 | 0.000673320 | -1575.0865 |\n",
       "| 1DroughtIndigenous Pathogen 1 | 9 | 6/8/2018 | 6400 | 1 | Drought | Indigenous Pathogen | 1 | 1 | 3 | 4 | 1.2894069 | 6400 | 0.000470876 | -3938.6611 |\n",
       "| 1DroughtIndigenous Pathogen 1 | 9 | 6/8/2018 | 6400 | 1 | Drought | Indigenous Pathogen | 1 | 1 | 3 | 5 | 1.3339338 | 6400 | 0.000676270 | -2726.5778 |\n",
       "| 1DroughtIndigenous Pathogen 1 | 9 | 6/8/2018 | 6400 | 1 | Drought | Indigenous Pathogen | 1 | 1 | 3 | 6 | 1.1601482 | 6400 | 0.002413163 |  -365.7831 |\n",
       "\n"
      ],
      "text/plain": [
       "  Sample type                   Days after inoculation Date     Licor.x Trial\n",
       "1 1DroughtIndigenous Pathogen 1 9                      6/8/2018 6400    1    \n",
       "2 1DroughtIndigenous Pathogen 1 9                      6/8/2018 6400    1    \n",
       "3 1DroughtIndigenous Pathogen 1 9                      6/8/2018 6400    1    \n",
       "4 1DroughtIndigenous Pathogen 1 9                      6/8/2018 6400    1    \n",
       "5 1DroughtIndigenous Pathogen 1 9                      6/8/2018 6400    1    \n",
       "6 1DroughtIndigenous Pathogen 1 9                      6/8/2018 6400    1    \n",
       "  Treatment Species             Plant Number Isolate Number\n",
       "1 Drought   Indigenous Pathogen 1            1             \n",
       "2 Drought   Indigenous Pathogen 1            1             \n",
       "3 Drought   Indigenous Pathogen 1            1             \n",
       "4 Drought   Indigenous Pathogen 1            1             \n",
       "5 Drought   Indigenous Pathogen 1            1             \n",
       "6 Drought   Indigenous Pathogen 1            1             \n",
       "  Unique Sample Number Obs Photosynthesis Licor.y Conductance Ci        \n",
       "1 3                    1   1.1459282      6400    0.000407974 -4050.4585\n",
       "2 3                    2   0.8224351      6400    0.000454750 -2467.0358\n",
       "3 3                    3   0.8382796      6400    0.000673320 -1575.0865\n",
       "4 3                    4   1.2894069      6400    0.000470876 -3938.6611\n",
       "5 3                    5   1.3339338      6400    0.000676270 -2726.5778\n",
       "6 3                    6   1.1601482      6400    0.002413163  -365.7831"
      ]
     },
     "metadata": {},
     "output_type": "display_data"
    }
   ],
   "source": [
    "head(combined_inner)"
   ]
  },
  {
   "cell_type": "markdown",
   "metadata": {},
   "source": [
    "Notice that we get repeated variables `Licor.x` and `Licor.y`. We didn't specify that `Licor` was a criteria for joining and since it appears in both datasets, join will create new variables for them; once from each dataset. "
   ]
  },
  {
   "cell_type": "markdown",
   "metadata": {},
   "source": [
    "<div class=\"Q\"><br><br>\n",
    "What variables would be duplicated if we ran the following code?\n",
    "<br><br>\n",
    "<span class=\"codeX\">inner_join(photosynthesis, conductivity,</span><br> \n",
    "<span class=\"codeX\">&nbsp;&nbsp;&nbsp;&nbsp;&nbsp;&nbsp;&nbsp;&nbsp;&nbsp;&nbsp;by =c(\"Sample type\",</span><br> \n",
    "<span class=\"codeX\">&nbsp;&nbsp;&nbsp;&nbsp;&nbsp;&nbsp;&nbsp;&nbsp;&nbsp;&nbsp;\"Days after inoculation\",</span><br> \n",
    "<span class=\"codeX\">&nbsp;&nbsp;&nbsp;&nbsp;&nbsp;&nbsp;&nbsp;&nbsp;&nbsp;&nbsp;\"Date\",</span><br>  \n",
    "<span class=\"codeX\">&nbsp;&nbsp;&nbsp;&nbsp;&nbsp;&nbsp;&nbsp;&nbsp;&nbsp;&nbsp;\"Trial\",</span><br> \n",
    "<span class=\"codeX\">&nbsp;&nbsp;&nbsp;&nbsp;&nbsp;&nbsp;&nbsp;&nbsp;&nbsp;&nbsp;\"Treatment\",</span><br> \n",
    "<span class=\"codeX\">&nbsp;&nbsp;&nbsp;&nbsp;&nbsp;&nbsp;&nbsp;&nbsp;&nbsp;&nbsp;\"Species\",</span><br> \n",
    "<span class=\"codeX\">&nbsp;&nbsp;&nbsp;&nbsp;&nbsp;&nbsp;&nbsp;&nbsp;&nbsp;&nbsp;\"Plant Number\",</span><br> \n",
    "<span class=\"codeX\">&nbsp;&nbsp;&nbsp;&nbsp;&nbsp;&nbsp;&nbsp;&nbsp;&nbsp;&nbsp;\"Isolate Number\",</span><br>  \n",
    "<span class=\"codeX\">&nbsp;&nbsp;&nbsp;&nbsp;&nbsp;&nbsp;&nbsp;&nbsp;&nbsp;&nbsp;\"Unique Sample Number\"</span><br> \n",
    "<span class=\"codeX\">&nbsp;&nbsp;&nbsp;&nbsp;&nbsp;&nbsp;&nbsp;&nbsp;&nbsp;&nbsp;))</span><br> \n",
    "\n",
    "\n",
    "<br><br><div class=\"qhelp\"></div></div>"
   ]
  },
  {
   "cell_type": "markdown",
   "metadata": {},
   "source": [
    "### full_join\n",
    "\n",
    "`full_join` will return all rows and all columns from both dataframe 1 and dataframe 2. **`full_join` will return NA for instances where there are no matching values.**\n",
    "\n",
    "<img src=\"full_join.png\" width=\"500px\">\n",
    "\n",
    "<br><br>\n",
    "<div class=\"use_editor\"></div>"
   ]
  },
  {
   "cell_type": "code",
   "execution_count": null,
   "metadata": {},
   "outputs": [],
   "source": [
    "# full_join example\n",
    "combined_full <- full_join(photosynthesis, conductivity)"
   ]
  },
  {
   "cell_type": "markdown",
   "metadata": {},
   "source": [
    "<br><br><br>\n",
    "<div class=\"startTASK\"></div>\n",
    "\n",
    "Take a look at `combined_full` using the `head()`, `tail()` and `str()`. Then answer the following questions.\n",
    "\n",
    "<div class=\"endTASK\"></div>\n",
    "<br><br><br>"
   ]
  },
  {
   "cell_type": "markdown",
   "metadata": {},
   "source": [
    "<div class=\"Q\"><br><br>\n",
    "\n",
    "How many observations/rows does the variable Ci have in the <b>combined_full</b> dataset? \n",
    "\n",
    "\n",
    "<br><br><div class=\"qhelp\"></div></div>"
   ]
  },
  {
   "cell_type": "markdown",
   "metadata": {},
   "source": [
    "<div class=\"Q\"><br><br>\n",
    "\n",
    "Are the variables (or columns) of <b>combined_full</b> and <b>combined_data</b> the same? \n",
    "\n",
    "\n",
    "<br><br><div class=\"qhelp\"></div></div>"
   ]
  },
  {
   "cell_type": "markdown",
   "metadata": {},
   "source": [
    "Notice that this returns pretty much the same dataset as the one we created with `left_join`. We didn't have to specify any of the variables to join by in this case. We get all varaibles and rows from both `photosynthesis` and `conductivity`."
   ]
  },
  {
   "cell_type": "markdown",
   "metadata": {},
   "source": [
    "### anti_join\n",
    "\n",
    "`anti_join` removes all records from dataframe 1 where that have matching variables in dataframe 2. This basically filters your datasets. Note that `anti_join()` is essentially the opposite of `inner_join()`.\n",
    "\n",
    "<img src=\"anti_join.png\" width=\"700px\">\n",
    "\n",
    "<br><br>\n",
    "<div class=\"use_editor\"></div>"
   ]
  },
  {
   "cell_type": "code",
   "execution_count": null,
   "metadata": {},
   "outputs": [],
   "source": [
    "# anti_join example\n",
    "combined_anti <- anti_join(photosynthesis, conductivity)"
   ]
  },
  {
   "cell_type": "markdown",
   "metadata": {},
   "source": [
    "<br><br><br>\n",
    "<div class=\"startTASK\"></div>\n",
    "\n",
    "Take a look at `combined_anti` using the `head()`, `tail()` and `str()`. Then answer the following questions.\n",
    "\n",
    "<div class=\"endTASK\"></div>\n",
    "<br><br><br>"
   ]
  },
  {
   "cell_type": "markdown",
   "metadata": {},
   "source": [
    "<div class=\"Q\"><br><br>\n",
    "\n",
    "How many variables does <b>combined_anti</b> have? \n",
    "\n",
    "\n",
    "<br><br><div class=\"qhelp\"></div></div>"
   ]
  },
  {
   "cell_type": "markdown",
   "metadata": {},
   "source": [
    "<div class=\"Q\"><br><br>\n",
    "\n",
    "How many rows does <b>combined_anti</b> have? \n",
    "\n",
    "\n",
    "<br><br><div class=\"qhelp\"></div></div>"
   ]
  },
  {
   "cell_type": "markdown",
   "metadata": {},
   "source": [
    "Notice that we effectively returned all variables of `photosynthesis` without any data! This happened because `conductivity` had the all same variables and these measurements were paired with those of photosynthesis (taken from the same sample at the same time). There were no instances where the variables didn't match that the `anti_join` function could return and observation. "
   ]
  },
  {
   "cell_type": "markdown",
   "metadata": {},
   "source": [
    "## Merge\n",
    "\n",
    "Another way to combine datasets is to use the function `merge()`. By default the data frames are merged on the columns with names they both have, but separate specifications of the columns can be given by the `by`, `by.x` and `by.y` arguments. The rows in the two data frames that match on the specified columns are extracted, and joined together. If there is more than one match, all possible matches contribute one row each. This basically merges two datasets horizontally.\n",
    "\n",
    "<img src=\"merge.png\" width=\"500px\">"
   ]
  },
  {
   "cell_type": "markdown",
   "metadata": {},
   "source": [
    "<br><br><br>\n",
    "<div class=\"startTASK\"></div>\n",
    "\n",
    "Use the function's help file to look at the syntax for `merge()`.\n",
    "\n",
    "<div class=\"endTASK\"></div>\n",
    "<br><br><br>"
   ]
  },
  {
   "cell_type": "markdown",
   "metadata": {},
   "source": [
    "Let's recreate the `combined_data` dataset using merge instead.\n",
    "\n",
    "<br>\n",
    "<div class=\"use_editor\"></div>"
   ]
  },
  {
   "cell_type": "code",
   "execution_count": 40,
   "metadata": {},
   "outputs": [],
   "source": [
    "# merge example\n",
    "combined_data <- merge(photosynthesis, conductivity, all.x = TRUE, all.y = TRUE)"
   ]
  },
  {
   "cell_type": "markdown",
   "metadata": {},
   "source": [
    " Now, lets take a look at `combined_data`\n",
    " \n",
    "<br>\n",
    "<div class=\"use_console\"></div>"
   ]
  },
  {
   "cell_type": "code",
   "execution_count": 41,
   "metadata": {},
   "outputs": [
    {
     "data": {
      "text/html": [
       "<table class=\"dataframe\">\n",
       "<caption>A data.frame: 6 × 14</caption>\n",
       "<thead>\n",
       "\t<tr><th></th><th scope=col>Sample type</th><th scope=col>Days after inoculation</th><th scope=col>Date</th><th scope=col>Licor</th><th scope=col>Trial</th><th scope=col>Treatment</th><th scope=col>Species</th><th scope=col>Plant Number</th><th scope=col>Isolate Number</th><th scope=col>Unique Sample Number</th><th scope=col>Obs</th><th scope=col>Photosynthesis</th><th scope=col>Conductance</th><th scope=col>Ci</th></tr>\n",
       "\t<tr><th></th><th scope=col>&lt;chr&gt;</th><th scope=col>&lt;dbl&gt;</th><th scope=col>&lt;chr&gt;</th><th scope=col>&lt;dbl&gt;</th><th scope=col>&lt;dbl&gt;</th><th scope=col>&lt;chr&gt;</th><th scope=col>&lt;chr&gt;</th><th scope=col>&lt;dbl&gt;</th><th scope=col>&lt;dbl&gt;</th><th scope=col>&lt;dbl&gt;</th><th scope=col>&lt;dbl&gt;</th><th scope=col>&lt;dbl&gt;</th><th scope=col>&lt;dbl&gt;</th><th scope=col>&lt;dbl&gt;</th></tr>\n",
       "</thead>\n",
       "<tbody>\n",
       "\t<tr><th scope=row>1</th><td>1DroughtBoth Pathogens9</td><td>9</td><td>6/8/2018</td><td>6800</td><td>1</td><td>Drought</td><td>Both Pathogens</td><td>9</td><td>NA</td><td>148</td><td> 1</td><td>0.05671618</td><td>0.001441047</td><td>332.3998</td></tr>\n",
       "\t<tr><th scope=row>2</th><td>1DroughtBoth Pathogens9</td><td>9</td><td>6/8/2018</td><td>6800</td><td>1</td><td>Drought</td><td>Both Pathogens</td><td>9</td><td>NA</td><td>148</td><td>10</td><td>0.07601768</td><td>0.001588715</td><td>318.1265</td></tr>\n",
       "\t<tr><th scope=row>3</th><td>1DroughtBoth Pathogens9</td><td>9</td><td>6/8/2018</td><td>6800</td><td>1</td><td>Drought</td><td>Both Pathogens</td><td>9</td><td>NA</td><td>148</td><td> 2</td><td>0.06055765</td><td>0.001520727</td><td>331.2409</td></tr>\n",
       "\t<tr><th scope=row>4</th><td>1DroughtBoth Pathogens9</td><td>9</td><td>6/8/2018</td><td>6800</td><td>1</td><td>Drought</td><td>Both Pathogens</td><td>9</td><td>NA</td><td>148</td><td> 3</td><td>0.04863937</td><td>0.001897092</td><td>354.0128</td></tr>\n",
       "\t<tr><th scope=row>5</th><td>1DroughtBoth Pathogens9</td><td>9</td><td>6/8/2018</td><td>6800</td><td>1</td><td>Drought</td><td>Both Pathogens</td><td>9</td><td>NA</td><td>148</td><td> 4</td><td>0.07465322</td><td>0.000933100</td><td>267.8774</td></tr>\n",
       "\t<tr><th scope=row>6</th><td>1DroughtBoth Pathogens9</td><td>9</td><td>6/8/2018</td><td>6800</td><td>1</td><td>Drought</td><td>Both Pathogens</td><td>9</td><td>NA</td><td>148</td><td> 5</td><td>0.07911806</td><td>0.001011424</td><td>270.5740</td></tr>\n",
       "</tbody>\n",
       "</table>\n"
      ],
      "text/latex": [
       "A data.frame: 6 × 14\n",
       "\\begin{tabular}{r|llllllllllllll}\n",
       "  & Sample type & Days after inoculation & Date & Licor & Trial & Treatment & Species & Plant Number & Isolate Number & Unique Sample Number & Obs & Photosynthesis & Conductance & Ci\\\\\n",
       "  & <chr> & <dbl> & <chr> & <dbl> & <dbl> & <chr> & <chr> & <dbl> & <dbl> & <dbl> & <dbl> & <dbl> & <dbl> & <dbl>\\\\\n",
       "\\hline\n",
       "\t1 & 1DroughtBoth Pathogens9 & 9 & 6/8/2018 & 6800 & 1 & Drought & Both Pathogens & 9 & NA & 148 &  1 & 0.05671618 & 0.001441047 & 332.3998\\\\\n",
       "\t2 & 1DroughtBoth Pathogens9 & 9 & 6/8/2018 & 6800 & 1 & Drought & Both Pathogens & 9 & NA & 148 & 10 & 0.07601768 & 0.001588715 & 318.1265\\\\\n",
       "\t3 & 1DroughtBoth Pathogens9 & 9 & 6/8/2018 & 6800 & 1 & Drought & Both Pathogens & 9 & NA & 148 &  2 & 0.06055765 & 0.001520727 & 331.2409\\\\\n",
       "\t4 & 1DroughtBoth Pathogens9 & 9 & 6/8/2018 & 6800 & 1 & Drought & Both Pathogens & 9 & NA & 148 &  3 & 0.04863937 & 0.001897092 & 354.0128\\\\\n",
       "\t5 & 1DroughtBoth Pathogens9 & 9 & 6/8/2018 & 6800 & 1 & Drought & Both Pathogens & 9 & NA & 148 &  4 & 0.07465322 & 0.000933100 & 267.8774\\\\\n",
       "\t6 & 1DroughtBoth Pathogens9 & 9 & 6/8/2018 & 6800 & 1 & Drought & Both Pathogens & 9 & NA & 148 &  5 & 0.07911806 & 0.001011424 & 270.5740\\\\\n",
       "\\end{tabular}\n"
      ],
      "text/markdown": [
       "\n",
       "A data.frame: 6 × 14\n",
       "\n",
       "| <!--/--> | Sample type &lt;chr&gt; | Days after inoculation &lt;dbl&gt; | Date &lt;chr&gt; | Licor &lt;dbl&gt; | Trial &lt;dbl&gt; | Treatment &lt;chr&gt; | Species &lt;chr&gt; | Plant Number &lt;dbl&gt; | Isolate Number &lt;dbl&gt; | Unique Sample Number &lt;dbl&gt; | Obs &lt;dbl&gt; | Photosynthesis &lt;dbl&gt; | Conductance &lt;dbl&gt; | Ci &lt;dbl&gt; |\n",
       "|---|---|---|---|---|---|---|---|---|---|---|---|---|---|---|\n",
       "| 1 | 1DroughtBoth Pathogens9 | 9 | 6/8/2018 | 6800 | 1 | Drought | Both Pathogens | 9 | NA | 148 |  1 | 0.05671618 | 0.001441047 | 332.3998 |\n",
       "| 2 | 1DroughtBoth Pathogens9 | 9 | 6/8/2018 | 6800 | 1 | Drought | Both Pathogens | 9 | NA | 148 | 10 | 0.07601768 | 0.001588715 | 318.1265 |\n",
       "| 3 | 1DroughtBoth Pathogens9 | 9 | 6/8/2018 | 6800 | 1 | Drought | Both Pathogens | 9 | NA | 148 |  2 | 0.06055765 | 0.001520727 | 331.2409 |\n",
       "| 4 | 1DroughtBoth Pathogens9 | 9 | 6/8/2018 | 6800 | 1 | Drought | Both Pathogens | 9 | NA | 148 |  3 | 0.04863937 | 0.001897092 | 354.0128 |\n",
       "| 5 | 1DroughtBoth Pathogens9 | 9 | 6/8/2018 | 6800 | 1 | Drought | Both Pathogens | 9 | NA | 148 |  4 | 0.07465322 | 0.000933100 | 267.8774 |\n",
       "| 6 | 1DroughtBoth Pathogens9 | 9 | 6/8/2018 | 6800 | 1 | Drought | Both Pathogens | 9 | NA | 148 |  5 | 0.07911806 | 0.001011424 | 270.5740 |\n",
       "\n"
      ],
      "text/plain": [
       "  Sample type             Days after inoculation Date     Licor Trial Treatment\n",
       "1 1DroughtBoth Pathogens9 9                      6/8/2018 6800  1     Drought  \n",
       "2 1DroughtBoth Pathogens9 9                      6/8/2018 6800  1     Drought  \n",
       "3 1DroughtBoth Pathogens9 9                      6/8/2018 6800  1     Drought  \n",
       "4 1DroughtBoth Pathogens9 9                      6/8/2018 6800  1     Drought  \n",
       "5 1DroughtBoth Pathogens9 9                      6/8/2018 6800  1     Drought  \n",
       "6 1DroughtBoth Pathogens9 9                      6/8/2018 6800  1     Drought  \n",
       "  Species        Plant Number Isolate Number Unique Sample Number Obs\n",
       "1 Both Pathogens 9            NA             148                   1 \n",
       "2 Both Pathogens 9            NA             148                  10 \n",
       "3 Both Pathogens 9            NA             148                   2 \n",
       "4 Both Pathogens 9            NA             148                   3 \n",
       "5 Both Pathogens 9            NA             148                   4 \n",
       "6 Both Pathogens 9            NA             148                   5 \n",
       "  Photosynthesis Conductance Ci      \n",
       "1 0.05671618     0.001441047 332.3998\n",
       "2 0.07601768     0.001588715 318.1265\n",
       "3 0.06055765     0.001520727 331.2409\n",
       "4 0.04863937     0.001897092 354.0128\n",
       "5 0.07465322     0.000933100 267.8774\n",
       "6 0.07911806     0.001011424 270.5740"
      ]
     },
     "metadata": {},
     "output_type": "display_data"
    }
   ],
   "source": [
    "head(combined_data) "
   ]
  },
  {
   "cell_type": "markdown",
   "metadata": {},
   "source": [
    "<br>\n",
    "<div class=\"use_console\"></div>"
   ]
  },
  {
   "cell_type": "code",
   "execution_count": 42,
   "metadata": {},
   "outputs": [
    {
     "name": "stdout",
     "output_type": "stream",
     "text": [
      "'data.frame':\t1722 obs. of  14 variables:\n",
      " $ Sample type           : chr  \"1DroughtBoth Pathogens9\" \"1DroughtBoth Pathogens9\" \"1DroughtBoth Pathogens9\" \"1DroughtBoth Pathogens9\" ...\n",
      " $ Days after inoculation: num  9 9 9 9 9 9 9 9 9 9 ...\n",
      " $ Date                  : chr  \"6/8/2018\" \"6/8/2018\" \"6/8/2018\" \"6/8/2018\" ...\n",
      " $ Licor                 : num  6800 6800 6800 6800 6800 6800 6800 6800 6800 6800 ...\n",
      " $ Trial                 : num  1 1 1 1 1 1 1 1 1 1 ...\n",
      " $ Treatment             : chr  \"Drought\" \"Drought\" \"Drought\" \"Drought\" ...\n",
      " $ Species               : chr  \"Both Pathogens\" \"Both Pathogens\" \"Both Pathogens\" \"Both Pathogens\" ...\n",
      " $ Plant Number          : num  9 9 9 9 9 9 9 9 9 9 ...\n",
      " $ Isolate Number        : num  NA NA NA NA NA NA NA NA NA NA ...\n",
      " $ Unique Sample Number  : num  148 148 148 148 148 148 148 148 148 148 ...\n",
      " $ Obs                   : num  1 10 2 3 4 5 6 7 8 9 ...\n",
      " $ Photosynthesis        : num  0.0567 0.076 0.0606 0.0486 0.0747 ...\n",
      " $ Conductance           : num  0.001441 0.001589 0.001521 0.001897 0.000933 ...\n",
      " $ Ci                    : num  332 318 331 354 268 ...\n"
     ]
    }
   ],
   "source": [
    "str(combined_data)"
   ]
  },
  {
   "cell_type": "markdown",
   "metadata": {},
   "source": [
    "<div class=\"Q\"><br><br>\n",
    "\n",
    "What does the arguement \"by\" in the merge function do? \n",
    "\n",
    "\n",
    "<br><br><div class=\"qhelp\"></div></div>"
   ]
  },
  {
   "cell_type": "markdown",
   "metadata": {},
   "source": [
    "<div class=\"Q\"><br><br>\n",
    "\n",
    "How many variables does <b>combined_data</b> have? \n",
    "\n",
    "\n",
    "<br><br><div class=\"qhelp\"></div></div>"
   ]
  },
  {
   "cell_type": "markdown",
   "metadata": {},
   "source": [
    "<div class=\"Q\"><br><br>\n",
    "\n",
    "What extra variable does <b>combined_data</b> have that <b>conductivity</b> does not? \n",
    "\n",
    "\n",
    "<br><br><div class=\"qhelp\"></div></div>"
   ]
  },
  {
   "cell_type": "markdown",
   "metadata": {},
   "source": [
    "<div class=\"Q\"><br><br>\n",
    "\n",
    "Are the variable classes of <b>combined_data</b> created using <b>left_join</b> and <b>merge</b> the same? \n",
    "\n",
    "\n",
    "<br><br><div class=\"qhelp\"></div></div>"
   ]
  },
  {
   "cell_type": "markdown",
   "metadata": {},
   "source": [
    "<br><br><br>\n",
    "<div class=\"startTASK\"></div>\n",
    "\n",
    "Let us download the task datasets <span class=\"file\">task_data_fox_size.csv</span> and <span class=\"file\">task_data_fox_weight.csv</span> \n",
    "\n",
    "Using `Joins` or `merge`, create a new dataset called `fox_data` combining data from both <span class=\"file\">task_data_fox_size.csv</span> and <span class=\"file\">task_data_fox_weight.csv</span> \n",
    "\n",
    "<div class=\"endTASK\"></div>\n",
    "\n",
    "<br><br><br>"
   ]
  },
  {
   "cell_type": "markdown",
   "metadata": {},
   "source": [
    "<div class=\"Q\"><br><br>\n",
    "\n",
    "How many rows does fox_data have? \n",
    "\n",
    "\n",
    "<br><br><div class=\"qhelp\"></div></div>"
   ]
  },
  {
   "cell_type": "markdown",
   "metadata": {},
   "source": [
    "<div class=\"Q\"><br><br>\n",
    "\n",
    "How many columns does fox_data have? \n",
    "\n",
    "\n",
    "<br><br><div class=\"qhelp\"></div></div>"
   ]
  },
  {
   "cell_type": "markdown",
   "metadata": {},
   "source": [
    "<div class=\"Q\"><br><br>\n",
    "\n",
    "Using the <b>summary()</b> function, what is the median value of avfood? \n",
    "\n",
    "\n",
    "<br><br><div class=\"qhelp\"></div></div>"
   ]
  },
  {
   "cell_type": "markdown",
   "metadata": {},
   "source": [
    "<div class=\"Q\"><br><br>\n",
    "\n",
    "What class of variable is ID? \n",
    "\n",
    "\n",
    "<br><br><div class=\"qhelp\"></div></div>"
   ]
  },
  {
   "cell_type": "markdown",
   "metadata": {},
   "source": [
    "Next, we're going to learn some of the most common `dplyr` functions:\n",
    "\n",
    "* `select()`: subset columns\n",
    "* `filter()`: subset rows on conditions\n",
    "* `mutate()`: create new columns by using information from other columns\n",
    "* `group_by()` and `summarize()`: create summary statistics on grouped data\n",
    "* `arrange()`: sort results\n",
    "* `count()`: count discrete values\n",
    "\n",
    "_________________________________________________________________________________________________________________________"
   ]
  },
  {
   "cell_type": "markdown",
   "metadata": {},
   "source": [
    "# Selecting columns\n",
    "\n",
    "If we only want to keep certain columns of data, we can use `select()`. The first argument of this function is the dataset, and the subsequent arguments are the columns to keep. You can read all the details on how to use `select()` in its help file. However, the basic syntax is:\n",
    "\n",
    "<span class=\"nomenclature\">newSelectedData <- select(data, column names)</span>\n",
    "    \n",
    "Graphically, `select()` looks like this:\n",
    "\n",
    "<img src=\"select.png\" width=\"450px\">\n",
    "\n",
    "\n",
    "---------------------\n",
    "\n",
    "\n",
    "In the following code, we will select the columns `Sample type`, `Photosynthesis`, and `Conductance`. \n",
    "\n",
    "<br>\n",
    "<div class=\"use_editor\"></div>"
   ]
  },
  {
   "cell_type": "code",
   "execution_count": 43,
   "metadata": {},
   "outputs": [],
   "source": [
    "# select example\n",
    "sml_data <- select(combined_data, `Sample type`, Photosynthesis, Conductance)"
   ]
  },
  {
   "cell_type": "markdown",
   "metadata": {},
   "source": [
    "Let's take look ar `sml_data`:\n",
    "\n",
    "<br>\n",
    "<div class=\"use_console\"></div>"
   ]
  },
  {
   "cell_type": "code",
   "execution_count": 44,
   "metadata": {},
   "outputs": [
    {
     "data": {
      "text/html": [
       "<table class=\"dataframe\">\n",
       "<caption>A data.frame: 6 × 3</caption>\n",
       "<thead>\n",
       "\t<tr><th></th><th scope=col>Sample type</th><th scope=col>Photosynthesis</th><th scope=col>Conductance</th></tr>\n",
       "\t<tr><th></th><th scope=col>&lt;chr&gt;</th><th scope=col>&lt;dbl&gt;</th><th scope=col>&lt;dbl&gt;</th></tr>\n",
       "</thead>\n",
       "<tbody>\n",
       "\t<tr><th scope=row>1</th><td>1DroughtBoth Pathogens9</td><td>0.05671618</td><td>0.001441047</td></tr>\n",
       "\t<tr><th scope=row>2</th><td>1DroughtBoth Pathogens9</td><td>0.07601768</td><td>0.001588715</td></tr>\n",
       "\t<tr><th scope=row>3</th><td>1DroughtBoth Pathogens9</td><td>0.06055765</td><td>0.001520727</td></tr>\n",
       "\t<tr><th scope=row>4</th><td>1DroughtBoth Pathogens9</td><td>0.04863937</td><td>0.001897092</td></tr>\n",
       "\t<tr><th scope=row>5</th><td>1DroughtBoth Pathogens9</td><td>0.07465322</td><td>0.000933100</td></tr>\n",
       "\t<tr><th scope=row>6</th><td>1DroughtBoth Pathogens9</td><td>0.07911806</td><td>0.001011424</td></tr>\n",
       "</tbody>\n",
       "</table>\n"
      ],
      "text/latex": [
       "A data.frame: 6 × 3\n",
       "\\begin{tabular}{r|lll}\n",
       "  & Sample type & Photosynthesis & Conductance\\\\\n",
       "  & <chr> & <dbl> & <dbl>\\\\\n",
       "\\hline\n",
       "\t1 & 1DroughtBoth Pathogens9 & 0.05671618 & 0.001441047\\\\\n",
       "\t2 & 1DroughtBoth Pathogens9 & 0.07601768 & 0.001588715\\\\\n",
       "\t3 & 1DroughtBoth Pathogens9 & 0.06055765 & 0.001520727\\\\\n",
       "\t4 & 1DroughtBoth Pathogens9 & 0.04863937 & 0.001897092\\\\\n",
       "\t5 & 1DroughtBoth Pathogens9 & 0.07465322 & 0.000933100\\\\\n",
       "\t6 & 1DroughtBoth Pathogens9 & 0.07911806 & 0.001011424\\\\\n",
       "\\end{tabular}\n"
      ],
      "text/markdown": [
       "\n",
       "A data.frame: 6 × 3\n",
       "\n",
       "| <!--/--> | Sample type &lt;chr&gt; | Photosynthesis &lt;dbl&gt; | Conductance &lt;dbl&gt; |\n",
       "|---|---|---|---|\n",
       "| 1 | 1DroughtBoth Pathogens9 | 0.05671618 | 0.001441047 |\n",
       "| 2 | 1DroughtBoth Pathogens9 | 0.07601768 | 0.001588715 |\n",
       "| 3 | 1DroughtBoth Pathogens9 | 0.06055765 | 0.001520727 |\n",
       "| 4 | 1DroughtBoth Pathogens9 | 0.04863937 | 0.001897092 |\n",
       "| 5 | 1DroughtBoth Pathogens9 | 0.07465322 | 0.000933100 |\n",
       "| 6 | 1DroughtBoth Pathogens9 | 0.07911806 | 0.001011424 |\n",
       "\n"
      ],
      "text/plain": [
       "  Sample type             Photosynthesis Conductance\n",
       "1 1DroughtBoth Pathogens9 0.05671618     0.001441047\n",
       "2 1DroughtBoth Pathogens9 0.07601768     0.001588715\n",
       "3 1DroughtBoth Pathogens9 0.06055765     0.001520727\n",
       "4 1DroughtBoth Pathogens9 0.04863937     0.001897092\n",
       "5 1DroughtBoth Pathogens9 0.07465322     0.000933100\n",
       "6 1DroughtBoth Pathogens9 0.07911806     0.001011424"
      ]
     },
     "metadata": {},
     "output_type": "display_data"
    }
   ],
   "source": [
    "head(sml_data)"
   ]
  },
  {
   "cell_type": "markdown",
   "metadata": {},
   "source": [
    "Then,\n",
    "\n",
    "<br>\n",
    "<div class=\"use_console\"></div>"
   ]
  },
  {
   "cell_type": "code",
   "execution_count": 45,
   "metadata": {},
   "outputs": [
    {
     "name": "stdout",
     "output_type": "stream",
     "text": [
      "'data.frame':\t1722 obs. of  3 variables:\n",
      " $ Sample type   : chr  \"1DroughtBoth Pathogens9\" \"1DroughtBoth Pathogens9\" \"1DroughtBoth Pathogens9\" \"1DroughtBoth Pathogens9\" ...\n",
      " $ Photosynthesis: num  0.0567 0.076 0.0606 0.0486 0.0747 ...\n",
      " $ Conductance   : num  0.001441 0.001589 0.001521 0.001897 0.000933 ...\n"
     ]
    }
   ],
   "source": [
    "str(sml_data)"
   ]
  },
  {
   "cell_type": "markdown",
   "metadata": {},
   "source": [
    "<div class=\"Q\"><br><br>\n",
    "\n",
    "How many variables (or columns) are in <b>sml_data</b>?\n",
    "\n",
    "\n",
    "<br><br><div class=\"qhelp\"></div></div>"
   ]
  },
  {
   "cell_type": "markdown",
   "metadata": {},
   "source": [
    "## Selecting multiple columns with :\n",
    "\n",
    "We can also use `:` to select multiple columns from left to right.\n",
    "\n",
    "<br>\n",
    "<div class=\"use_editor\"></div>"
   ]
  },
  {
   "cell_type": "code",
   "execution_count": 46,
   "metadata": {},
   "outputs": [],
   "source": [
    "# select example using :\n",
    "sml_data_select <- select(combined_data, `Sample type`:Species, Photosynthesis, Conductance)"
   ]
  },
  {
   "cell_type": "markdown",
   "metadata": {},
   "source": [
    "Let's take a look at `sml_data_select`:\n",
    "\n",
    "<br>\n",
    "<div class=\"use_console\"></div>"
   ]
  },
  {
   "cell_type": "code",
   "execution_count": 47,
   "metadata": {},
   "outputs": [
    {
     "data": {
      "text/html": [
       "<table class=\"dataframe\">\n",
       "<caption>A data.frame: 6 × 9</caption>\n",
       "<thead>\n",
       "\t<tr><th></th><th scope=col>Sample type</th><th scope=col>Days after inoculation</th><th scope=col>Date</th><th scope=col>Licor</th><th scope=col>Trial</th><th scope=col>Treatment</th><th scope=col>Species</th><th scope=col>Photosynthesis</th><th scope=col>Conductance</th></tr>\n",
       "\t<tr><th></th><th scope=col>&lt;chr&gt;</th><th scope=col>&lt;dbl&gt;</th><th scope=col>&lt;chr&gt;</th><th scope=col>&lt;dbl&gt;</th><th scope=col>&lt;dbl&gt;</th><th scope=col>&lt;chr&gt;</th><th scope=col>&lt;chr&gt;</th><th scope=col>&lt;dbl&gt;</th><th scope=col>&lt;dbl&gt;</th></tr>\n",
       "</thead>\n",
       "<tbody>\n",
       "\t<tr><th scope=row>1</th><td>1DroughtBoth Pathogens9</td><td>9</td><td>6/8/2018</td><td>6800</td><td>1</td><td>Drought</td><td>Both Pathogens</td><td>0.05671618</td><td>0.001441047</td></tr>\n",
       "\t<tr><th scope=row>2</th><td>1DroughtBoth Pathogens9</td><td>9</td><td>6/8/2018</td><td>6800</td><td>1</td><td>Drought</td><td>Both Pathogens</td><td>0.07601768</td><td>0.001588715</td></tr>\n",
       "\t<tr><th scope=row>3</th><td>1DroughtBoth Pathogens9</td><td>9</td><td>6/8/2018</td><td>6800</td><td>1</td><td>Drought</td><td>Both Pathogens</td><td>0.06055765</td><td>0.001520727</td></tr>\n",
       "\t<tr><th scope=row>4</th><td>1DroughtBoth Pathogens9</td><td>9</td><td>6/8/2018</td><td>6800</td><td>1</td><td>Drought</td><td>Both Pathogens</td><td>0.04863937</td><td>0.001897092</td></tr>\n",
       "\t<tr><th scope=row>5</th><td>1DroughtBoth Pathogens9</td><td>9</td><td>6/8/2018</td><td>6800</td><td>1</td><td>Drought</td><td>Both Pathogens</td><td>0.07465322</td><td>0.000933100</td></tr>\n",
       "\t<tr><th scope=row>6</th><td>1DroughtBoth Pathogens9</td><td>9</td><td>6/8/2018</td><td>6800</td><td>1</td><td>Drought</td><td>Both Pathogens</td><td>0.07911806</td><td>0.001011424</td></tr>\n",
       "</tbody>\n",
       "</table>\n"
      ],
      "text/latex": [
       "A data.frame: 6 × 9\n",
       "\\begin{tabular}{r|lllllllll}\n",
       "  & Sample type & Days after inoculation & Date & Licor & Trial & Treatment & Species & Photosynthesis & Conductance\\\\\n",
       "  & <chr> & <dbl> & <chr> & <dbl> & <dbl> & <chr> & <chr> & <dbl> & <dbl>\\\\\n",
       "\\hline\n",
       "\t1 & 1DroughtBoth Pathogens9 & 9 & 6/8/2018 & 6800 & 1 & Drought & Both Pathogens & 0.05671618 & 0.001441047\\\\\n",
       "\t2 & 1DroughtBoth Pathogens9 & 9 & 6/8/2018 & 6800 & 1 & Drought & Both Pathogens & 0.07601768 & 0.001588715\\\\\n",
       "\t3 & 1DroughtBoth Pathogens9 & 9 & 6/8/2018 & 6800 & 1 & Drought & Both Pathogens & 0.06055765 & 0.001520727\\\\\n",
       "\t4 & 1DroughtBoth Pathogens9 & 9 & 6/8/2018 & 6800 & 1 & Drought & Both Pathogens & 0.04863937 & 0.001897092\\\\\n",
       "\t5 & 1DroughtBoth Pathogens9 & 9 & 6/8/2018 & 6800 & 1 & Drought & Both Pathogens & 0.07465322 & 0.000933100\\\\\n",
       "\t6 & 1DroughtBoth Pathogens9 & 9 & 6/8/2018 & 6800 & 1 & Drought & Both Pathogens & 0.07911806 & 0.001011424\\\\\n",
       "\\end{tabular}\n"
      ],
      "text/markdown": [
       "\n",
       "A data.frame: 6 × 9\n",
       "\n",
       "| <!--/--> | Sample type &lt;chr&gt; | Days after inoculation &lt;dbl&gt; | Date &lt;chr&gt; | Licor &lt;dbl&gt; | Trial &lt;dbl&gt; | Treatment &lt;chr&gt; | Species &lt;chr&gt; | Photosynthesis &lt;dbl&gt; | Conductance &lt;dbl&gt; |\n",
       "|---|---|---|---|---|---|---|---|---|---|\n",
       "| 1 | 1DroughtBoth Pathogens9 | 9 | 6/8/2018 | 6800 | 1 | Drought | Both Pathogens | 0.05671618 | 0.001441047 |\n",
       "| 2 | 1DroughtBoth Pathogens9 | 9 | 6/8/2018 | 6800 | 1 | Drought | Both Pathogens | 0.07601768 | 0.001588715 |\n",
       "| 3 | 1DroughtBoth Pathogens9 | 9 | 6/8/2018 | 6800 | 1 | Drought | Both Pathogens | 0.06055765 | 0.001520727 |\n",
       "| 4 | 1DroughtBoth Pathogens9 | 9 | 6/8/2018 | 6800 | 1 | Drought | Both Pathogens | 0.04863937 | 0.001897092 |\n",
       "| 5 | 1DroughtBoth Pathogens9 | 9 | 6/8/2018 | 6800 | 1 | Drought | Both Pathogens | 0.07465322 | 0.000933100 |\n",
       "| 6 | 1DroughtBoth Pathogens9 | 9 | 6/8/2018 | 6800 | 1 | Drought | Both Pathogens | 0.07911806 | 0.001011424 |\n",
       "\n"
      ],
      "text/plain": [
       "  Sample type             Days after inoculation Date     Licor Trial Treatment\n",
       "1 1DroughtBoth Pathogens9 9                      6/8/2018 6800  1     Drought  \n",
       "2 1DroughtBoth Pathogens9 9                      6/8/2018 6800  1     Drought  \n",
       "3 1DroughtBoth Pathogens9 9                      6/8/2018 6800  1     Drought  \n",
       "4 1DroughtBoth Pathogens9 9                      6/8/2018 6800  1     Drought  \n",
       "5 1DroughtBoth Pathogens9 9                      6/8/2018 6800  1     Drought  \n",
       "6 1DroughtBoth Pathogens9 9                      6/8/2018 6800  1     Drought  \n",
       "  Species        Photosynthesis Conductance\n",
       "1 Both Pathogens 0.05671618     0.001441047\n",
       "2 Both Pathogens 0.07601768     0.001588715\n",
       "3 Both Pathogens 0.06055765     0.001520727\n",
       "4 Both Pathogens 0.04863937     0.001897092\n",
       "5 Both Pathogens 0.07465322     0.000933100\n",
       "6 Both Pathogens 0.07911806     0.001011424"
      ]
     },
     "metadata": {},
     "output_type": "display_data"
    },
    {
     "name": "stdout",
     "output_type": "stream",
     "text": [
      "'data.frame':\t1722 obs. of  9 variables:\n",
      " $ Sample type           : chr  \"1DroughtBoth Pathogens9\" \"1DroughtBoth Pathogens9\" \"1DroughtBoth Pathogens9\" \"1DroughtBoth Pathogens9\" ...\n",
      " $ Days after inoculation: num  9 9 9 9 9 9 9 9 9 9 ...\n",
      " $ Date                  : chr  \"6/8/2018\" \"6/8/2018\" \"6/8/2018\" \"6/8/2018\" ...\n",
      " $ Licor                 : num  6800 6800 6800 6800 6800 6800 6800 6800 6800 6800 ...\n",
      " $ Trial                 : num  1 1 1 1 1 1 1 1 1 1 ...\n",
      " $ Treatment             : chr  \"Drought\" \"Drought\" \"Drought\" \"Drought\" ...\n",
      " $ Species               : chr  \"Both Pathogens\" \"Both Pathogens\" \"Both Pathogens\" \"Both Pathogens\" ...\n",
      " $ Photosynthesis        : num  0.0567 0.076 0.0606 0.0486 0.0747 ...\n",
      " $ Conductance           : num  0.001441 0.001589 0.001521 0.001897 0.000933 ...\n"
     ]
    }
   ],
   "source": [
    "head(sml_data_select)\n",
    "str(sml_data_select)"
   ]
  },
  {
   "cell_type": "markdown",
   "metadata": {},
   "source": [
    "<div class=\"Q\"><br><br>\n",
    "\n",
    "How many variables (or columns) are in <b>sml_data_select</b>?\n",
    "\n",
    "\n",
    "<br><br><div class=\"qhelp\"></div></div>"
   ]
  },
  {
   "cell_type": "markdown",
   "metadata": {},
   "source": [
    "## Omiting columns during select\n",
    "\n",
    "To select all columns except certain ones, put a \"-\" in front of the variable to exclude it. In the following code, we want to exclude the columns \"Licor\" and \"Obs\".\n",
    "\n",
    "<br>\n",
    "<div class=\"use_editor\"></div>"
   ]
  },
  {
   "cell_type": "code",
   "execution_count": 48,
   "metadata": {},
   "outputs": [],
   "source": [
    "# select example using -\n",
    "sml_data_omit <- select(combined_data, -Licor, -Obs)"
   ]
  },
  {
   "cell_type": "markdown",
   "metadata": {},
   "source": [
    "Let's take a look at `sml_data_omit`:\n",
    "\n",
    "<br>\n",
    "<div class=\"use_console\"></div>"
   ]
  },
  {
   "cell_type": "code",
   "execution_count": 49,
   "metadata": {},
   "outputs": [
    {
     "data": {
      "text/html": [
       "<table class=\"dataframe\">\n",
       "<caption>A data.frame: 6 × 12</caption>\n",
       "<thead>\n",
       "\t<tr><th></th><th scope=col>Sample type</th><th scope=col>Days after inoculation</th><th scope=col>Date</th><th scope=col>Trial</th><th scope=col>Treatment</th><th scope=col>Species</th><th scope=col>Plant Number</th><th scope=col>Isolate Number</th><th scope=col>Unique Sample Number</th><th scope=col>Photosynthesis</th><th scope=col>Conductance</th><th scope=col>Ci</th></tr>\n",
       "\t<tr><th></th><th scope=col>&lt;chr&gt;</th><th scope=col>&lt;dbl&gt;</th><th scope=col>&lt;chr&gt;</th><th scope=col>&lt;dbl&gt;</th><th scope=col>&lt;chr&gt;</th><th scope=col>&lt;chr&gt;</th><th scope=col>&lt;dbl&gt;</th><th scope=col>&lt;dbl&gt;</th><th scope=col>&lt;dbl&gt;</th><th scope=col>&lt;dbl&gt;</th><th scope=col>&lt;dbl&gt;</th><th scope=col>&lt;dbl&gt;</th></tr>\n",
       "</thead>\n",
       "<tbody>\n",
       "\t<tr><th scope=row>1</th><td>1DroughtBoth Pathogens9</td><td>9</td><td>6/8/2018</td><td>1</td><td>Drought</td><td>Both Pathogens</td><td>9</td><td>NA</td><td>148</td><td>0.05671618</td><td>0.001441047</td><td>332.3998</td></tr>\n",
       "\t<tr><th scope=row>2</th><td>1DroughtBoth Pathogens9</td><td>9</td><td>6/8/2018</td><td>1</td><td>Drought</td><td>Both Pathogens</td><td>9</td><td>NA</td><td>148</td><td>0.07601768</td><td>0.001588715</td><td>318.1265</td></tr>\n",
       "\t<tr><th scope=row>3</th><td>1DroughtBoth Pathogens9</td><td>9</td><td>6/8/2018</td><td>1</td><td>Drought</td><td>Both Pathogens</td><td>9</td><td>NA</td><td>148</td><td>0.06055765</td><td>0.001520727</td><td>331.2409</td></tr>\n",
       "\t<tr><th scope=row>4</th><td>1DroughtBoth Pathogens9</td><td>9</td><td>6/8/2018</td><td>1</td><td>Drought</td><td>Both Pathogens</td><td>9</td><td>NA</td><td>148</td><td>0.04863937</td><td>0.001897092</td><td>354.0128</td></tr>\n",
       "\t<tr><th scope=row>5</th><td>1DroughtBoth Pathogens9</td><td>9</td><td>6/8/2018</td><td>1</td><td>Drought</td><td>Both Pathogens</td><td>9</td><td>NA</td><td>148</td><td>0.07465322</td><td>0.000933100</td><td>267.8774</td></tr>\n",
       "\t<tr><th scope=row>6</th><td>1DroughtBoth Pathogens9</td><td>9</td><td>6/8/2018</td><td>1</td><td>Drought</td><td>Both Pathogens</td><td>9</td><td>NA</td><td>148</td><td>0.07911806</td><td>0.001011424</td><td>270.5740</td></tr>\n",
       "</tbody>\n",
       "</table>\n"
      ],
      "text/latex": [
       "A data.frame: 6 × 12\n",
       "\\begin{tabular}{r|llllllllllll}\n",
       "  & Sample type & Days after inoculation & Date & Trial & Treatment & Species & Plant Number & Isolate Number & Unique Sample Number & Photosynthesis & Conductance & Ci\\\\\n",
       "  & <chr> & <dbl> & <chr> & <dbl> & <chr> & <chr> & <dbl> & <dbl> & <dbl> & <dbl> & <dbl> & <dbl>\\\\\n",
       "\\hline\n",
       "\t1 & 1DroughtBoth Pathogens9 & 9 & 6/8/2018 & 1 & Drought & Both Pathogens & 9 & NA & 148 & 0.05671618 & 0.001441047 & 332.3998\\\\\n",
       "\t2 & 1DroughtBoth Pathogens9 & 9 & 6/8/2018 & 1 & Drought & Both Pathogens & 9 & NA & 148 & 0.07601768 & 0.001588715 & 318.1265\\\\\n",
       "\t3 & 1DroughtBoth Pathogens9 & 9 & 6/8/2018 & 1 & Drought & Both Pathogens & 9 & NA & 148 & 0.06055765 & 0.001520727 & 331.2409\\\\\n",
       "\t4 & 1DroughtBoth Pathogens9 & 9 & 6/8/2018 & 1 & Drought & Both Pathogens & 9 & NA & 148 & 0.04863937 & 0.001897092 & 354.0128\\\\\n",
       "\t5 & 1DroughtBoth Pathogens9 & 9 & 6/8/2018 & 1 & Drought & Both Pathogens & 9 & NA & 148 & 0.07465322 & 0.000933100 & 267.8774\\\\\n",
       "\t6 & 1DroughtBoth Pathogens9 & 9 & 6/8/2018 & 1 & Drought & Both Pathogens & 9 & NA & 148 & 0.07911806 & 0.001011424 & 270.5740\\\\\n",
       "\\end{tabular}\n"
      ],
      "text/markdown": [
       "\n",
       "A data.frame: 6 × 12\n",
       "\n",
       "| <!--/--> | Sample type &lt;chr&gt; | Days after inoculation &lt;dbl&gt; | Date &lt;chr&gt; | Trial &lt;dbl&gt; | Treatment &lt;chr&gt; | Species &lt;chr&gt; | Plant Number &lt;dbl&gt; | Isolate Number &lt;dbl&gt; | Unique Sample Number &lt;dbl&gt; | Photosynthesis &lt;dbl&gt; | Conductance &lt;dbl&gt; | Ci &lt;dbl&gt; |\n",
       "|---|---|---|---|---|---|---|---|---|---|---|---|---|\n",
       "| 1 | 1DroughtBoth Pathogens9 | 9 | 6/8/2018 | 1 | Drought | Both Pathogens | 9 | NA | 148 | 0.05671618 | 0.001441047 | 332.3998 |\n",
       "| 2 | 1DroughtBoth Pathogens9 | 9 | 6/8/2018 | 1 | Drought | Both Pathogens | 9 | NA | 148 | 0.07601768 | 0.001588715 | 318.1265 |\n",
       "| 3 | 1DroughtBoth Pathogens9 | 9 | 6/8/2018 | 1 | Drought | Both Pathogens | 9 | NA | 148 | 0.06055765 | 0.001520727 | 331.2409 |\n",
       "| 4 | 1DroughtBoth Pathogens9 | 9 | 6/8/2018 | 1 | Drought | Both Pathogens | 9 | NA | 148 | 0.04863937 | 0.001897092 | 354.0128 |\n",
       "| 5 | 1DroughtBoth Pathogens9 | 9 | 6/8/2018 | 1 | Drought | Both Pathogens | 9 | NA | 148 | 0.07465322 | 0.000933100 | 267.8774 |\n",
       "| 6 | 1DroughtBoth Pathogens9 | 9 | 6/8/2018 | 1 | Drought | Both Pathogens | 9 | NA | 148 | 0.07911806 | 0.001011424 | 270.5740 |\n",
       "\n"
      ],
      "text/plain": [
       "  Sample type             Days after inoculation Date     Trial Treatment\n",
       "1 1DroughtBoth Pathogens9 9                      6/8/2018 1     Drought  \n",
       "2 1DroughtBoth Pathogens9 9                      6/8/2018 1     Drought  \n",
       "3 1DroughtBoth Pathogens9 9                      6/8/2018 1     Drought  \n",
       "4 1DroughtBoth Pathogens9 9                      6/8/2018 1     Drought  \n",
       "5 1DroughtBoth Pathogens9 9                      6/8/2018 1     Drought  \n",
       "6 1DroughtBoth Pathogens9 9                      6/8/2018 1     Drought  \n",
       "  Species        Plant Number Isolate Number Unique Sample Number\n",
       "1 Both Pathogens 9            NA             148                 \n",
       "2 Both Pathogens 9            NA             148                 \n",
       "3 Both Pathogens 9            NA             148                 \n",
       "4 Both Pathogens 9            NA             148                 \n",
       "5 Both Pathogens 9            NA             148                 \n",
       "6 Both Pathogens 9            NA             148                 \n",
       "  Photosynthesis Conductance Ci      \n",
       "1 0.05671618     0.001441047 332.3998\n",
       "2 0.07601768     0.001588715 318.1265\n",
       "3 0.06055765     0.001520727 331.2409\n",
       "4 0.04863937     0.001897092 354.0128\n",
       "5 0.07465322     0.000933100 267.8774\n",
       "6 0.07911806     0.001011424 270.5740"
      ]
     },
     "metadata": {},
     "output_type": "display_data"
    },
    {
     "name": "stdout",
     "output_type": "stream",
     "text": [
      "'data.frame':\t1722 obs. of  12 variables:\n",
      " $ Sample type           : chr  \"1DroughtBoth Pathogens9\" \"1DroughtBoth Pathogens9\" \"1DroughtBoth Pathogens9\" \"1DroughtBoth Pathogens9\" ...\n",
      " $ Days after inoculation: num  9 9 9 9 9 9 9 9 9 9 ...\n",
      " $ Date                  : chr  \"6/8/2018\" \"6/8/2018\" \"6/8/2018\" \"6/8/2018\" ...\n",
      " $ Trial                 : num  1 1 1 1 1 1 1 1 1 1 ...\n",
      " $ Treatment             : chr  \"Drought\" \"Drought\" \"Drought\" \"Drought\" ...\n",
      " $ Species               : chr  \"Both Pathogens\" \"Both Pathogens\" \"Both Pathogens\" \"Both Pathogens\" ...\n",
      " $ Plant Number          : num  9 9 9 9 9 9 9 9 9 9 ...\n",
      " $ Isolate Number        : num  NA NA NA NA NA NA NA NA NA NA ...\n",
      " $ Unique Sample Number  : num  148 148 148 148 148 148 148 148 148 148 ...\n",
      " $ Photosynthesis        : num  0.0567 0.076 0.0606 0.0486 0.0747 ...\n",
      " $ Conductance           : num  0.001441 0.001589 0.001521 0.001897 0.000933 ...\n",
      " $ Ci                    : num  332 318 331 354 268 ...\n"
     ]
    }
   ],
   "source": [
    "head(sml_data_omit)\n",
    "str(sml_data_omit)"
   ]
  },
  {
   "cell_type": "markdown",
   "metadata": {},
   "source": [
    "<div class=\"Q\"><br><br>\n",
    "\n",
    "How many variables (or columns) are in <b>sml_data_omit</b>?\n",
    "\n",
    "\n",
    "<br><br><div class=\"qhelp\"></div></div>"
   ]
  },
  {
   "cell_type": "markdown",
   "metadata": {},
   "source": [
    "<div class=\"Q\"><br><br>\n",
    "\n",
    "Using the \"combined_data\" dataset and the \"-\", what would the code look like to select all columns except Species?\n",
    "\n",
    "\n",
    "<br><br><div class=\"qhelp\"></div></div>"
   ]
  },
  {
   "cell_type": "markdown",
   "metadata": {},
   "source": [
    "# Filtering rows\n",
    "\n",
    "What if we only want to select the data from one Species? You can also choose rows based on a specific criterion using the `filter()` function. You can read all the details on how to use `filter()` in its help file. However, the basic syntax is:\n",
    "\n",
    "<span class=\"nomenclature\">filteredData <- filter(dataset, selection criteria)</span>\n",
    "    \n",
    "Graphically, `filter()` looks like this:\n",
    "\n",
    "<img src=\"filter.png\" width=\"500px\">\n",
    "\n",
    "In the following code, we want to select all data from Indigenous Pathogen Species only.\n",
    "    \n",
    "You could do this following the same approach as above...\n",
    "    \n",
    "Step 1: create a new filtered_variable:\n",
    "\n",
    "<br>\n",
    "<div class=\"use_editor\"></div>"
   ]
  },
  {
   "cell_type": "code",
   "execution_count": 50,
   "metadata": {},
   "outputs": [],
   "source": [
    "# Filter example\n",
    "filtered_data <- filter(combined_data, Species == \"Indigenous Pathogen\")"
   ]
  },
  {
   "cell_type": "markdown",
   "metadata": {},
   "source": [
    "Step 2: Use the new `filtered_data` variable:\n",
    "\n",
    "<br>\n",
    "<div class=\"use_console\"></div>"
   ]
  },
  {
   "cell_type": "code",
   "execution_count": 51,
   "metadata": {},
   "outputs": [
    {
     "data": {
      "text/html": [
       "<table class=\"dataframe\">\n",
       "<caption>A data.frame: 6 × 14</caption>\n",
       "<thead>\n",
       "\t<tr><th></th><th scope=col>Sample type</th><th scope=col>Days after inoculation</th><th scope=col>Date</th><th scope=col>Licor</th><th scope=col>Trial</th><th scope=col>Treatment</th><th scope=col>Species</th><th scope=col>Plant Number</th><th scope=col>Isolate Number</th><th scope=col>Unique Sample Number</th><th scope=col>Obs</th><th scope=col>Photosynthesis</th><th scope=col>Conductance</th><th scope=col>Ci</th></tr>\n",
       "\t<tr><th></th><th scope=col>&lt;chr&gt;</th><th scope=col>&lt;dbl&gt;</th><th scope=col>&lt;chr&gt;</th><th scope=col>&lt;dbl&gt;</th><th scope=col>&lt;dbl&gt;</th><th scope=col>&lt;chr&gt;</th><th scope=col>&lt;chr&gt;</th><th scope=col>&lt;dbl&gt;</th><th scope=col>&lt;dbl&gt;</th><th scope=col>&lt;dbl&gt;</th><th scope=col>&lt;dbl&gt;</th><th scope=col>&lt;dbl&gt;</th><th scope=col>&lt;dbl&gt;</th><th scope=col>&lt;dbl&gt;</th></tr>\n",
       "</thead>\n",
       "<tbody>\n",
       "\t<tr><th scope=row>1</th><td>1DroughtIndigenous Pathogen 1</td><td>17</td><td>6/16/2018</td><td>6800</td><td>1</td><td>Drought</td><td>Indigenous Pathogen</td><td>1</td><td>1</td><td>116</td><td> 1</td><td>0.3648225</td><td>0.003559033</td><td>231.1741</td></tr>\n",
       "\t<tr><th scope=row>2</th><td>1DroughtIndigenous Pathogen 1</td><td>17</td><td>6/16/2018</td><td>6800</td><td>1</td><td>Drought</td><td>Indigenous Pathogen</td><td>1</td><td>1</td><td>116</td><td>10</td><td>0.7743988</td><td>0.005086506</td><td>151.8653</td></tr>\n",
       "\t<tr><th scope=row>3</th><td>1DroughtIndigenous Pathogen 1</td><td>17</td><td>6/16/2018</td><td>6800</td><td>1</td><td>Drought</td><td>Indigenous Pathogen</td><td>1</td><td>1</td><td>116</td><td>11</td><td>0.7948750</td><td>0.005197517</td><td>150.6128</td></tr>\n",
       "\t<tr><th scope=row>4</th><td>1DroughtIndigenous Pathogen 1</td><td>17</td><td>6/16/2018</td><td>6800</td><td>1</td><td>Drought</td><td>Indigenous Pathogen</td><td>1</td><td>1</td><td>116</td><td> 2</td><td>0.4385167</td><td>0.003528366</td><td>196.6384</td></tr>\n",
       "\t<tr><th scope=row>5</th><td>1DroughtIndigenous Pathogen 1</td><td>17</td><td>6/16/2018</td><td>6800</td><td>1</td><td>Drought</td><td>Indigenous Pathogen</td><td>1</td><td>1</td><td>116</td><td> 3</td><td>0.5007142</td><td>0.003146543</td><td>141.4915</td></tr>\n",
       "\t<tr><th scope=row>6</th><td>1DroughtIndigenous Pathogen 1</td><td>17</td><td>6/16/2018</td><td>6800</td><td>1</td><td>Drought</td><td>Indigenous Pathogen</td><td>1</td><td>1</td><td>116</td><td> 4</td><td>0.5631102</td><td>0.004374931</td><td>189.2657</td></tr>\n",
       "</tbody>\n",
       "</table>\n"
      ],
      "text/latex": [
       "A data.frame: 6 × 14\n",
       "\\begin{tabular}{r|llllllllllllll}\n",
       "  & Sample type & Days after inoculation & Date & Licor & Trial & Treatment & Species & Plant Number & Isolate Number & Unique Sample Number & Obs & Photosynthesis & Conductance & Ci\\\\\n",
       "  & <chr> & <dbl> & <chr> & <dbl> & <dbl> & <chr> & <chr> & <dbl> & <dbl> & <dbl> & <dbl> & <dbl> & <dbl> & <dbl>\\\\\n",
       "\\hline\n",
       "\t1 & 1DroughtIndigenous Pathogen 1 & 17 & 6/16/2018 & 6800 & 1 & Drought & Indigenous Pathogen & 1 & 1 & 116 &  1 & 0.3648225 & 0.003559033 & 231.1741\\\\\n",
       "\t2 & 1DroughtIndigenous Pathogen 1 & 17 & 6/16/2018 & 6800 & 1 & Drought & Indigenous Pathogen & 1 & 1 & 116 & 10 & 0.7743988 & 0.005086506 & 151.8653\\\\\n",
       "\t3 & 1DroughtIndigenous Pathogen 1 & 17 & 6/16/2018 & 6800 & 1 & Drought & Indigenous Pathogen & 1 & 1 & 116 & 11 & 0.7948750 & 0.005197517 & 150.6128\\\\\n",
       "\t4 & 1DroughtIndigenous Pathogen 1 & 17 & 6/16/2018 & 6800 & 1 & Drought & Indigenous Pathogen & 1 & 1 & 116 &  2 & 0.4385167 & 0.003528366 & 196.6384\\\\\n",
       "\t5 & 1DroughtIndigenous Pathogen 1 & 17 & 6/16/2018 & 6800 & 1 & Drought & Indigenous Pathogen & 1 & 1 & 116 &  3 & 0.5007142 & 0.003146543 & 141.4915\\\\\n",
       "\t6 & 1DroughtIndigenous Pathogen 1 & 17 & 6/16/2018 & 6800 & 1 & Drought & Indigenous Pathogen & 1 & 1 & 116 &  4 & 0.5631102 & 0.004374931 & 189.2657\\\\\n",
       "\\end{tabular}\n"
      ],
      "text/markdown": [
       "\n",
       "A data.frame: 6 × 14\n",
       "\n",
       "| <!--/--> | Sample type &lt;chr&gt; | Days after inoculation &lt;dbl&gt; | Date &lt;chr&gt; | Licor &lt;dbl&gt; | Trial &lt;dbl&gt; | Treatment &lt;chr&gt; | Species &lt;chr&gt; | Plant Number &lt;dbl&gt; | Isolate Number &lt;dbl&gt; | Unique Sample Number &lt;dbl&gt; | Obs &lt;dbl&gt; | Photosynthesis &lt;dbl&gt; | Conductance &lt;dbl&gt; | Ci &lt;dbl&gt; |\n",
       "|---|---|---|---|---|---|---|---|---|---|---|---|---|---|---|\n",
       "| 1 | 1DroughtIndigenous Pathogen 1 | 17 | 6/16/2018 | 6800 | 1 | Drought | Indigenous Pathogen | 1 | 1 | 116 |  1 | 0.3648225 | 0.003559033 | 231.1741 |\n",
       "| 2 | 1DroughtIndigenous Pathogen 1 | 17 | 6/16/2018 | 6800 | 1 | Drought | Indigenous Pathogen | 1 | 1 | 116 | 10 | 0.7743988 | 0.005086506 | 151.8653 |\n",
       "| 3 | 1DroughtIndigenous Pathogen 1 | 17 | 6/16/2018 | 6800 | 1 | Drought | Indigenous Pathogen | 1 | 1 | 116 | 11 | 0.7948750 | 0.005197517 | 150.6128 |\n",
       "| 4 | 1DroughtIndigenous Pathogen 1 | 17 | 6/16/2018 | 6800 | 1 | Drought | Indigenous Pathogen | 1 | 1 | 116 |  2 | 0.4385167 | 0.003528366 | 196.6384 |\n",
       "| 5 | 1DroughtIndigenous Pathogen 1 | 17 | 6/16/2018 | 6800 | 1 | Drought | Indigenous Pathogen | 1 | 1 | 116 |  3 | 0.5007142 | 0.003146543 | 141.4915 |\n",
       "| 6 | 1DroughtIndigenous Pathogen 1 | 17 | 6/16/2018 | 6800 | 1 | Drought | Indigenous Pathogen | 1 | 1 | 116 |  4 | 0.5631102 | 0.004374931 | 189.2657 |\n",
       "\n"
      ],
      "text/plain": [
       "  Sample type                   Days after inoculation Date      Licor Trial\n",
       "1 1DroughtIndigenous Pathogen 1 17                     6/16/2018 6800  1    \n",
       "2 1DroughtIndigenous Pathogen 1 17                     6/16/2018 6800  1    \n",
       "3 1DroughtIndigenous Pathogen 1 17                     6/16/2018 6800  1    \n",
       "4 1DroughtIndigenous Pathogen 1 17                     6/16/2018 6800  1    \n",
       "5 1DroughtIndigenous Pathogen 1 17                     6/16/2018 6800  1    \n",
       "6 1DroughtIndigenous Pathogen 1 17                     6/16/2018 6800  1    \n",
       "  Treatment Species             Plant Number Isolate Number\n",
       "1 Drought   Indigenous Pathogen 1            1             \n",
       "2 Drought   Indigenous Pathogen 1            1             \n",
       "3 Drought   Indigenous Pathogen 1            1             \n",
       "4 Drought   Indigenous Pathogen 1            1             \n",
       "5 Drought   Indigenous Pathogen 1            1             \n",
       "6 Drought   Indigenous Pathogen 1            1             \n",
       "  Unique Sample Number Obs Photosynthesis Conductance Ci      \n",
       "1 116                   1  0.3648225      0.003559033 231.1741\n",
       "2 116                  10  0.7743988      0.005086506 151.8653\n",
       "3 116                  11  0.7948750      0.005197517 150.6128\n",
       "4 116                   2  0.4385167      0.003528366 196.6384\n",
       "5 116                   3  0.5007142      0.003146543 141.4915\n",
       "6 116                   4  0.5631102      0.004374931 189.2657"
      ]
     },
     "metadata": {},
     "output_type": "display_data"
    }
   ],
   "source": [
    "head(filtered_data)"
   ]
  },
  {
   "cell_type": "markdown",
   "metadata": {},
   "source": [
    "<br>\n",
    "\n",
    "...or we can skip the intermediate variable and \"nest\" one function within another (see example below). This is preferable if you are only going to use the \"filtered\" data once. If you are going to use the filtered data multiple times, it is better to create a sepate variable, like `filtered_data`. We'll talk more about nesting functions is a section below. \n",
    "\n",
    "For now, let's filter `combined_data` and take a look, using nested functions:\n",
    "\n",
    "<br>\n",
    "<div class=\"use_console\"></div>"
   ]
  },
  {
   "cell_type": "code",
   "execution_count": 52,
   "metadata": {},
   "outputs": [
    {
     "data": {
      "text/html": [
       "<table class=\"dataframe\">\n",
       "<caption>A data.frame: 6 × 14</caption>\n",
       "<thead>\n",
       "\t<tr><th></th><th scope=col>Sample type</th><th scope=col>Days after inoculation</th><th scope=col>Date</th><th scope=col>Licor</th><th scope=col>Trial</th><th scope=col>Treatment</th><th scope=col>Species</th><th scope=col>Plant Number</th><th scope=col>Isolate Number</th><th scope=col>Unique Sample Number</th><th scope=col>Obs</th><th scope=col>Photosynthesis</th><th scope=col>Conductance</th><th scope=col>Ci</th></tr>\n",
       "\t<tr><th></th><th scope=col>&lt;chr&gt;</th><th scope=col>&lt;dbl&gt;</th><th scope=col>&lt;chr&gt;</th><th scope=col>&lt;dbl&gt;</th><th scope=col>&lt;dbl&gt;</th><th scope=col>&lt;chr&gt;</th><th scope=col>&lt;chr&gt;</th><th scope=col>&lt;dbl&gt;</th><th scope=col>&lt;dbl&gt;</th><th scope=col>&lt;dbl&gt;</th><th scope=col>&lt;dbl&gt;</th><th scope=col>&lt;dbl&gt;</th><th scope=col>&lt;dbl&gt;</th><th scope=col>&lt;dbl&gt;</th></tr>\n",
       "</thead>\n",
       "<tbody>\n",
       "\t<tr><th scope=row>1</th><td>1DroughtIndigenous Pathogen 1</td><td>17</td><td>6/16/2018</td><td>6800</td><td>1</td><td>Drought</td><td>Indigenous Pathogen</td><td>1</td><td>1</td><td>116</td><td> 1</td><td>0.3648225</td><td>0.003559033</td><td>231.1741</td></tr>\n",
       "\t<tr><th scope=row>2</th><td>1DroughtIndigenous Pathogen 1</td><td>17</td><td>6/16/2018</td><td>6800</td><td>1</td><td>Drought</td><td>Indigenous Pathogen</td><td>1</td><td>1</td><td>116</td><td>10</td><td>0.7743988</td><td>0.005086506</td><td>151.8653</td></tr>\n",
       "\t<tr><th scope=row>3</th><td>1DroughtIndigenous Pathogen 1</td><td>17</td><td>6/16/2018</td><td>6800</td><td>1</td><td>Drought</td><td>Indigenous Pathogen</td><td>1</td><td>1</td><td>116</td><td>11</td><td>0.7948750</td><td>0.005197517</td><td>150.6128</td></tr>\n",
       "\t<tr><th scope=row>4</th><td>1DroughtIndigenous Pathogen 1</td><td>17</td><td>6/16/2018</td><td>6800</td><td>1</td><td>Drought</td><td>Indigenous Pathogen</td><td>1</td><td>1</td><td>116</td><td> 2</td><td>0.4385167</td><td>0.003528366</td><td>196.6384</td></tr>\n",
       "\t<tr><th scope=row>5</th><td>1DroughtIndigenous Pathogen 1</td><td>17</td><td>6/16/2018</td><td>6800</td><td>1</td><td>Drought</td><td>Indigenous Pathogen</td><td>1</td><td>1</td><td>116</td><td> 3</td><td>0.5007142</td><td>0.003146543</td><td>141.4915</td></tr>\n",
       "\t<tr><th scope=row>6</th><td>1DroughtIndigenous Pathogen 1</td><td>17</td><td>6/16/2018</td><td>6800</td><td>1</td><td>Drought</td><td>Indigenous Pathogen</td><td>1</td><td>1</td><td>116</td><td> 4</td><td>0.5631102</td><td>0.004374931</td><td>189.2657</td></tr>\n",
       "</tbody>\n",
       "</table>\n"
      ],
      "text/latex": [
       "A data.frame: 6 × 14\n",
       "\\begin{tabular}{r|llllllllllllll}\n",
       "  & Sample type & Days after inoculation & Date & Licor & Trial & Treatment & Species & Plant Number & Isolate Number & Unique Sample Number & Obs & Photosynthesis & Conductance & Ci\\\\\n",
       "  & <chr> & <dbl> & <chr> & <dbl> & <dbl> & <chr> & <chr> & <dbl> & <dbl> & <dbl> & <dbl> & <dbl> & <dbl> & <dbl>\\\\\n",
       "\\hline\n",
       "\t1 & 1DroughtIndigenous Pathogen 1 & 17 & 6/16/2018 & 6800 & 1 & Drought & Indigenous Pathogen & 1 & 1 & 116 &  1 & 0.3648225 & 0.003559033 & 231.1741\\\\\n",
       "\t2 & 1DroughtIndigenous Pathogen 1 & 17 & 6/16/2018 & 6800 & 1 & Drought & Indigenous Pathogen & 1 & 1 & 116 & 10 & 0.7743988 & 0.005086506 & 151.8653\\\\\n",
       "\t3 & 1DroughtIndigenous Pathogen 1 & 17 & 6/16/2018 & 6800 & 1 & Drought & Indigenous Pathogen & 1 & 1 & 116 & 11 & 0.7948750 & 0.005197517 & 150.6128\\\\\n",
       "\t4 & 1DroughtIndigenous Pathogen 1 & 17 & 6/16/2018 & 6800 & 1 & Drought & Indigenous Pathogen & 1 & 1 & 116 &  2 & 0.4385167 & 0.003528366 & 196.6384\\\\\n",
       "\t5 & 1DroughtIndigenous Pathogen 1 & 17 & 6/16/2018 & 6800 & 1 & Drought & Indigenous Pathogen & 1 & 1 & 116 &  3 & 0.5007142 & 0.003146543 & 141.4915\\\\\n",
       "\t6 & 1DroughtIndigenous Pathogen 1 & 17 & 6/16/2018 & 6800 & 1 & Drought & Indigenous Pathogen & 1 & 1 & 116 &  4 & 0.5631102 & 0.004374931 & 189.2657\\\\\n",
       "\\end{tabular}\n"
      ],
      "text/markdown": [
       "\n",
       "A data.frame: 6 × 14\n",
       "\n",
       "| <!--/--> | Sample type &lt;chr&gt; | Days after inoculation &lt;dbl&gt; | Date &lt;chr&gt; | Licor &lt;dbl&gt; | Trial &lt;dbl&gt; | Treatment &lt;chr&gt; | Species &lt;chr&gt; | Plant Number &lt;dbl&gt; | Isolate Number &lt;dbl&gt; | Unique Sample Number &lt;dbl&gt; | Obs &lt;dbl&gt; | Photosynthesis &lt;dbl&gt; | Conductance &lt;dbl&gt; | Ci &lt;dbl&gt; |\n",
       "|---|---|---|---|---|---|---|---|---|---|---|---|---|---|---|\n",
       "| 1 | 1DroughtIndigenous Pathogen 1 | 17 | 6/16/2018 | 6800 | 1 | Drought | Indigenous Pathogen | 1 | 1 | 116 |  1 | 0.3648225 | 0.003559033 | 231.1741 |\n",
       "| 2 | 1DroughtIndigenous Pathogen 1 | 17 | 6/16/2018 | 6800 | 1 | Drought | Indigenous Pathogen | 1 | 1 | 116 | 10 | 0.7743988 | 0.005086506 | 151.8653 |\n",
       "| 3 | 1DroughtIndigenous Pathogen 1 | 17 | 6/16/2018 | 6800 | 1 | Drought | Indigenous Pathogen | 1 | 1 | 116 | 11 | 0.7948750 | 0.005197517 | 150.6128 |\n",
       "| 4 | 1DroughtIndigenous Pathogen 1 | 17 | 6/16/2018 | 6800 | 1 | Drought | Indigenous Pathogen | 1 | 1 | 116 |  2 | 0.4385167 | 0.003528366 | 196.6384 |\n",
       "| 5 | 1DroughtIndigenous Pathogen 1 | 17 | 6/16/2018 | 6800 | 1 | Drought | Indigenous Pathogen | 1 | 1 | 116 |  3 | 0.5007142 | 0.003146543 | 141.4915 |\n",
       "| 6 | 1DroughtIndigenous Pathogen 1 | 17 | 6/16/2018 | 6800 | 1 | Drought | Indigenous Pathogen | 1 | 1 | 116 |  4 | 0.5631102 | 0.004374931 | 189.2657 |\n",
       "\n"
      ],
      "text/plain": [
       "  Sample type                   Days after inoculation Date      Licor Trial\n",
       "1 1DroughtIndigenous Pathogen 1 17                     6/16/2018 6800  1    \n",
       "2 1DroughtIndigenous Pathogen 1 17                     6/16/2018 6800  1    \n",
       "3 1DroughtIndigenous Pathogen 1 17                     6/16/2018 6800  1    \n",
       "4 1DroughtIndigenous Pathogen 1 17                     6/16/2018 6800  1    \n",
       "5 1DroughtIndigenous Pathogen 1 17                     6/16/2018 6800  1    \n",
       "6 1DroughtIndigenous Pathogen 1 17                     6/16/2018 6800  1    \n",
       "  Treatment Species             Plant Number Isolate Number\n",
       "1 Drought   Indigenous Pathogen 1            1             \n",
       "2 Drought   Indigenous Pathogen 1            1             \n",
       "3 Drought   Indigenous Pathogen 1            1             \n",
       "4 Drought   Indigenous Pathogen 1            1             \n",
       "5 Drought   Indigenous Pathogen 1            1             \n",
       "6 Drought   Indigenous Pathogen 1            1             \n",
       "  Unique Sample Number Obs Photosynthesis Conductance Ci      \n",
       "1 116                   1  0.3648225      0.003559033 231.1741\n",
       "2 116                  10  0.7743988      0.005086506 151.8653\n",
       "3 116                  11  0.7948750      0.005197517 150.6128\n",
       "4 116                   2  0.4385167      0.003528366 196.6384\n",
       "5 116                   3  0.5007142      0.003146543 141.4915\n",
       "6 116                   4  0.5631102      0.004374931 189.2657"
      ]
     },
     "metadata": {},
     "output_type": "display_data"
    }
   ],
   "source": [
    "head(filter(combined_data, Species == \"Indigenous Pathogen\")) "
   ]
  },
  {
   "cell_type": "markdown",
   "metadata": {},
   "source": [
    "<div class=\"Q\"><br><br>\n",
    "\n",
    "How many rows are in the original <b>combined_data</b> dataset?\n",
    "\n",
    "\n",
    "<br><br><div class=\"qhelp\"></div></div>"
   ]
  },
  {
   "cell_type": "markdown",
   "metadata": {},
   "source": [
    "<div class=\"Q\"><br><br>\n",
    "\n",
    "How many rows are in <b>filter(combined_data, Species == \"Indigenous Pathogen\")</b>?\n",
    "\n",
    "\n",
    "<br><br><div class=\"qhelp\"></div></div>"
   ]
  },
  {
   "cell_type": "markdown",
   "metadata": {},
   "source": [
    "We can also filter by multiple criteria. Say we want *Obs 1* data from Indigenous Pathogen Species only. We can use the `filter()` function and expand out selection criteria.\n",
    "\n",
    "<br>\n",
    "<div class=\"use_console\"></div>"
   ]
  },
  {
   "cell_type": "code",
   "execution_count": 53,
   "metadata": {},
   "outputs": [
    {
     "data": {
      "text/html": [
       "<table class=\"dataframe\">\n",
       "<caption>A data.frame: 6 × 14</caption>\n",
       "<thead>\n",
       "\t<tr><th></th><th scope=col>Sample type</th><th scope=col>Days after inoculation</th><th scope=col>Date</th><th scope=col>Licor</th><th scope=col>Trial</th><th scope=col>Treatment</th><th scope=col>Species</th><th scope=col>Plant Number</th><th scope=col>Isolate Number</th><th scope=col>Unique Sample Number</th><th scope=col>Obs</th><th scope=col>Photosynthesis</th><th scope=col>Conductance</th><th scope=col>Ci</th></tr>\n",
       "\t<tr><th></th><th scope=col>&lt;chr&gt;</th><th scope=col>&lt;dbl&gt;</th><th scope=col>&lt;chr&gt;</th><th scope=col>&lt;dbl&gt;</th><th scope=col>&lt;dbl&gt;</th><th scope=col>&lt;chr&gt;</th><th scope=col>&lt;chr&gt;</th><th scope=col>&lt;dbl&gt;</th><th scope=col>&lt;dbl&gt;</th><th scope=col>&lt;dbl&gt;</th><th scope=col>&lt;dbl&gt;</th><th scope=col>&lt;dbl&gt;</th><th scope=col>&lt;dbl&gt;</th><th scope=col>&lt;dbl&gt;</th></tr>\n",
       "</thead>\n",
       "<tbody>\n",
       "\t<tr><th scope=row>1</th><td>1DroughtIndigenous Pathogen 1</td><td>17</td><td>6/16/2018</td><td>6800</td><td>1</td><td>Drought</td><td>Indigenous Pathogen</td><td>1</td><td>1</td><td>116</td><td>1</td><td> 0.36482248</td><td>0.003559033</td><td>  231.1741</td></tr>\n",
       "\t<tr><th scope=row>2</th><td>1DroughtIndigenous Pathogen 1</td><td>22</td><td>6/21/2018</td><td>6400</td><td>1</td><td>Drought</td><td>Indigenous Pathogen</td><td>1</td><td>1</td><td> 49</td><td>1</td><td> 0.02565309</td><td>0.004572983</td><td>  384.1540</td></tr>\n",
       "\t<tr><th scope=row>3</th><td>1DroughtIndigenous Pathogen 1</td><td> 9</td><td>6/8/2018 </td><td>6400</td><td>1</td><td>Drought</td><td>Indigenous Pathogen</td><td>1</td><td>1</td><td>  3</td><td>1</td><td> 1.14592822</td><td>0.000407974</td><td>-4050.4585</td></tr>\n",
       "\t<tr><th scope=row>4</th><td>1DroughtIndigenous Pathogen 2</td><td>37</td><td>7/6/2018 </td><td>6800</td><td>1</td><td>Drought</td><td>Indigenous Pathogen</td><td>2</td><td>1</td><td> 80</td><td>1</td><td> 0.03939854</td><td>0.002624114</td><td>  370.6015</td></tr>\n",
       "\t<tr><th scope=row>5</th><td>1DroughtIndigenous Pathogen 3</td><td> 9</td><td>6/8/2018 </td><td>6400</td><td>1</td><td>Drought</td><td>Indigenous Pathogen</td><td>3</td><td>2</td><td>  8</td><td>1</td><td>13.29281498</td><td>0.104861134</td><td>  186.7866</td></tr>\n",
       "\t<tr><th scope=row>6</th><td>1DroughtIndigenous Pathogen 4</td><td>17</td><td>6/16/2018</td><td>6800</td><td>1</td><td>Drought</td><td>Indigenous Pathogen</td><td>4</td><td>2</td><td>111</td><td>1</td><td>-0.01090356</td><td>0.002788285</td><td>  399.8869</td></tr>\n",
       "</tbody>\n",
       "</table>\n"
      ],
      "text/latex": [
       "A data.frame: 6 × 14\n",
       "\\begin{tabular}{r|llllllllllllll}\n",
       "  & Sample type & Days after inoculation & Date & Licor & Trial & Treatment & Species & Plant Number & Isolate Number & Unique Sample Number & Obs & Photosynthesis & Conductance & Ci\\\\\n",
       "  & <chr> & <dbl> & <chr> & <dbl> & <dbl> & <chr> & <chr> & <dbl> & <dbl> & <dbl> & <dbl> & <dbl> & <dbl> & <dbl>\\\\\n",
       "\\hline\n",
       "\t1 & 1DroughtIndigenous Pathogen 1 & 17 & 6/16/2018 & 6800 & 1 & Drought & Indigenous Pathogen & 1 & 1 & 116 & 1 &  0.36482248 & 0.003559033 &   231.1741\\\\\n",
       "\t2 & 1DroughtIndigenous Pathogen 1 & 22 & 6/21/2018 & 6400 & 1 & Drought & Indigenous Pathogen & 1 & 1 &  49 & 1 &  0.02565309 & 0.004572983 &   384.1540\\\\\n",
       "\t3 & 1DroughtIndigenous Pathogen 1 &  9 & 6/8/2018  & 6400 & 1 & Drought & Indigenous Pathogen & 1 & 1 &   3 & 1 &  1.14592822 & 0.000407974 & -4050.4585\\\\\n",
       "\t4 & 1DroughtIndigenous Pathogen 2 & 37 & 7/6/2018  & 6800 & 1 & Drought & Indigenous Pathogen & 2 & 1 &  80 & 1 &  0.03939854 & 0.002624114 &   370.6015\\\\\n",
       "\t5 & 1DroughtIndigenous Pathogen 3 &  9 & 6/8/2018  & 6400 & 1 & Drought & Indigenous Pathogen & 3 & 2 &   8 & 1 & 13.29281498 & 0.104861134 &   186.7866\\\\\n",
       "\t6 & 1DroughtIndigenous Pathogen 4 & 17 & 6/16/2018 & 6800 & 1 & Drought & Indigenous Pathogen & 4 & 2 & 111 & 1 & -0.01090356 & 0.002788285 &   399.8869\\\\\n",
       "\\end{tabular}\n"
      ],
      "text/markdown": [
       "\n",
       "A data.frame: 6 × 14\n",
       "\n",
       "| <!--/--> | Sample type &lt;chr&gt; | Days after inoculation &lt;dbl&gt; | Date &lt;chr&gt; | Licor &lt;dbl&gt; | Trial &lt;dbl&gt; | Treatment &lt;chr&gt; | Species &lt;chr&gt; | Plant Number &lt;dbl&gt; | Isolate Number &lt;dbl&gt; | Unique Sample Number &lt;dbl&gt; | Obs &lt;dbl&gt; | Photosynthesis &lt;dbl&gt; | Conductance &lt;dbl&gt; | Ci &lt;dbl&gt; |\n",
       "|---|---|---|---|---|---|---|---|---|---|---|---|---|---|---|\n",
       "| 1 | 1DroughtIndigenous Pathogen 1 | 17 | 6/16/2018 | 6800 | 1 | Drought | Indigenous Pathogen | 1 | 1 | 116 | 1 |  0.36482248 | 0.003559033 |   231.1741 |\n",
       "| 2 | 1DroughtIndigenous Pathogen 1 | 22 | 6/21/2018 | 6400 | 1 | Drought | Indigenous Pathogen | 1 | 1 |  49 | 1 |  0.02565309 | 0.004572983 |   384.1540 |\n",
       "| 3 | 1DroughtIndigenous Pathogen 1 |  9 | 6/8/2018  | 6400 | 1 | Drought | Indigenous Pathogen | 1 | 1 |   3 | 1 |  1.14592822 | 0.000407974 | -4050.4585 |\n",
       "| 4 | 1DroughtIndigenous Pathogen 2 | 37 | 7/6/2018  | 6800 | 1 | Drought | Indigenous Pathogen | 2 | 1 |  80 | 1 |  0.03939854 | 0.002624114 |   370.6015 |\n",
       "| 5 | 1DroughtIndigenous Pathogen 3 |  9 | 6/8/2018  | 6400 | 1 | Drought | Indigenous Pathogen | 3 | 2 |   8 | 1 | 13.29281498 | 0.104861134 |   186.7866 |\n",
       "| 6 | 1DroughtIndigenous Pathogen 4 | 17 | 6/16/2018 | 6800 | 1 | Drought | Indigenous Pathogen | 4 | 2 | 111 | 1 | -0.01090356 | 0.002788285 |   399.8869 |\n",
       "\n"
      ],
      "text/plain": [
       "  Sample type                   Days after inoculation Date      Licor Trial\n",
       "1 1DroughtIndigenous Pathogen 1 17                     6/16/2018 6800  1    \n",
       "2 1DroughtIndigenous Pathogen 1 22                     6/21/2018 6400  1    \n",
       "3 1DroughtIndigenous Pathogen 1  9                     6/8/2018  6400  1    \n",
       "4 1DroughtIndigenous Pathogen 2 37                     7/6/2018  6800  1    \n",
       "5 1DroughtIndigenous Pathogen 3  9                     6/8/2018  6400  1    \n",
       "6 1DroughtIndigenous Pathogen 4 17                     6/16/2018 6800  1    \n",
       "  Treatment Species             Plant Number Isolate Number\n",
       "1 Drought   Indigenous Pathogen 1            1             \n",
       "2 Drought   Indigenous Pathogen 1            1             \n",
       "3 Drought   Indigenous Pathogen 1            1             \n",
       "4 Drought   Indigenous Pathogen 2            1             \n",
       "5 Drought   Indigenous Pathogen 3            2             \n",
       "6 Drought   Indigenous Pathogen 4            2             \n",
       "  Unique Sample Number Obs Photosynthesis Conductance Ci        \n",
       "1 116                  1    0.36482248    0.003559033   231.1741\n",
       "2  49                  1    0.02565309    0.004572983   384.1540\n",
       "3   3                  1    1.14592822    0.000407974 -4050.4585\n",
       "4  80                  1    0.03939854    0.002624114   370.6015\n",
       "5   8                  1   13.29281498    0.104861134   186.7866\n",
       "6 111                  1   -0.01090356    0.002788285   399.8869"
      ]
     },
     "metadata": {},
     "output_type": "display_data"
    }
   ],
   "source": [
    "head(filter(combined_data, Species == \"Indigenous Pathogen\", Obs == 1))"
   ]
  },
  {
   "cell_type": "markdown",
   "metadata": {},
   "source": [
    "<div class=\"Q\"><br><br>\n",
    "\n",
    "How many rows are in <b>filter(combined_data, Species == \"Indigenous Pathogen\", Obs ==1)</b>?\n",
    "\n",
    "\n",
    "<br><br><div class=\"qhelp\"></div></div>"
   ]
  },
  {
   "cell_type": "markdown",
   "metadata": {},
   "source": [
    "---------------------\n",
    "\n",
    "Let's take a look at our Species data to see if we can clean up our dataset. We note that Species is a ***character*** column, where using the `levels()` function would return `NULL` (i.e. empty, or nothing).\n",
    "\n",
    "<br>\n",
    "<div class=\"use_console\"></div>"
   ]
  },
  {
   "cell_type": "code",
   "execution_count": 54,
   "metadata": {},
   "outputs": [
    {
     "data": {
      "text/plain": [
       "NULL"
      ]
     },
     "metadata": {},
     "output_type": "display_data"
    }
   ],
   "source": [
    "levels(combined_data$Species)  "
   ]
  },
  {
   "cell_type": "markdown",
   "metadata": {},
   "source": [
    "Using the function `as.factor()` we can convert *Species* entries into ***factors***:\n",
    "\n",
    "<br>\n",
    "<div class=\"use_editor\"></div>"
   ]
  },
  {
   "cell_type": "code",
   "execution_count": 55,
   "metadata": {},
   "outputs": [],
   "source": [
    "#convert to factor\n",
    "combined_data$Species <- as.factor(combined_data$Species)"
   ]
  },
  {
   "cell_type": "markdown",
   "metadata": {},
   "source": [
    "Now, we can use the `levels()` function to examine the factor levels:\n",
    "\n",
    "<br>\n",
    "<div class=\"use_console\"></div>"
   ]
  },
  {
   "cell_type": "code",
   "execution_count": 58,
   "metadata": {},
   "outputs": [
    {
     "data": {
      "text/html": [
       "<style>\n",
       ".list-inline {list-style: none; margin:0; padding: 0}\n",
       ".list-inline>li {display: inline-block}\n",
       ".list-inline>li:not(:last-child)::after {content: \"\\00b7\"; padding: 0 .5ex}\n",
       "</style>\n",
       "<ol class=list-inline><li>'Both Pathogens'</li><li>'Control'</li><li>'Exotic Pathogen'</li><li>'Indigenous Pathogen'</li></ol>\n"
      ],
      "text/latex": [
       "\\begin{enumerate*}\n",
       "\\item 'Both Pathogens'\n",
       "\\item 'Control'\n",
       "\\item 'Exotic Pathogen'\n",
       "\\item 'Indigenous Pathogen'\n",
       "\\end{enumerate*}\n"
      ],
      "text/markdown": [
       "1. 'Both Pathogens'\n",
       "2. 'Control'\n",
       "3. 'Exotic Pathogen'\n",
       "4. 'Indigenous Pathogen'\n",
       "\n",
       "\n"
      ],
      "text/plain": [
       "[1] \"Both Pathogens\"      \"Control\"             \"Exotic Pathogen\"    \n",
       "[4] \"Indigenous Pathogen\""
      ]
     },
     "metadata": {},
     "output_type": "display_data"
    }
   ],
   "source": [
    "levels(combined_data$Species)  "
   ]
  },
  {
   "cell_type": "markdown",
   "metadata": {},
   "source": [
    "For simplicity, let's create a new object `data_filtered` and select only rows where Photosyntheis < 200 and Species is not equal to \"Both Pathogens\". Let's take a look at the first 4 rows.\n",
    "\n",
    "<br>\n",
    "<div class=\"use_editor\"></div>"
   ]
  },
  {
   "cell_type": "code",
   "execution_count": 60,
   "metadata": {},
   "outputs": [],
   "source": [
    "# Filter \n",
    "data_filtered <- filter(combined_data, Photosynthesis < 200 & Species != \"Both Pathogens\")"
   ]
  },
  {
   "cell_type": "markdown",
   "metadata": {},
   "source": [
    "Now, lets take a look at `data_filtered`:\n",
    "\n",
    "<br>\n",
    "<div class=\"use_console\"></div>"
   ]
  },
  {
   "cell_type": "code",
   "execution_count": 61,
   "metadata": {},
   "outputs": [
    {
     "data": {
      "text/html": [
       "<table class=\"dataframe\">\n",
       "<caption>A data.frame: 6 × 14</caption>\n",
       "<thead>\n",
       "\t<tr><th></th><th scope=col>Sample type</th><th scope=col>Days after inoculation</th><th scope=col>Date</th><th scope=col>Licor</th><th scope=col>Trial</th><th scope=col>Treatment</th><th scope=col>Species</th><th scope=col>Plant Number</th><th scope=col>Isolate Number</th><th scope=col>Unique Sample Number</th><th scope=col>Obs</th><th scope=col>Photosynthesis</th><th scope=col>Conductance</th><th scope=col>Ci</th></tr>\n",
       "\t<tr><th></th><th scope=col>&lt;chr&gt;</th><th scope=col>&lt;dbl&gt;</th><th scope=col>&lt;chr&gt;</th><th scope=col>&lt;dbl&gt;</th><th scope=col>&lt;dbl&gt;</th><th scope=col>&lt;chr&gt;</th><th scope=col>&lt;fct&gt;</th><th scope=col>&lt;dbl&gt;</th><th scope=col>&lt;dbl&gt;</th><th scope=col>&lt;dbl&gt;</th><th scope=col>&lt;dbl&gt;</th><th scope=col>&lt;dbl&gt;</th><th scope=col>&lt;dbl&gt;</th><th scope=col>&lt;dbl&gt;</th></tr>\n",
       "</thead>\n",
       "<tbody>\n",
       "\t<tr><th scope=row>1</th><td>1DroughtControl1</td><td>22</td><td>6/21/2018</td><td>6400</td><td>1</td><td>Drought</td><td>Control</td><td>1</td><td>5</td><td>51</td><td> 1</td><td>0.7101345</td><td>0.005128090</td><td>174.1684</td></tr>\n",
       "\t<tr><th scope=row>2</th><td>1DroughtControl1</td><td>22</td><td>6/21/2018</td><td>6400</td><td>1</td><td>Drought</td><td>Control</td><td>1</td><td>5</td><td>51</td><td>10</td><td>3.0909224</td><td>0.016987563</td><td>103.6757</td></tr>\n",
       "\t<tr><th scope=row>3</th><td>1DroughtControl1</td><td>22</td><td>6/21/2018</td><td>6400</td><td>1</td><td>Drought</td><td>Control</td><td>1</td><td>5</td><td>51</td><td>11</td><td>2.8754158</td><td>0.017134086</td><td>126.0893</td></tr>\n",
       "\t<tr><th scope=row>4</th><td>1DroughtControl1</td><td>22</td><td>6/21/2018</td><td>6400</td><td>1</td><td>Drought</td><td>Control</td><td>1</td><td>5</td><td>51</td><td>12</td><td>2.8534106</td><td>0.017291149</td><td>130.4522</td></tr>\n",
       "\t<tr><th scope=row>5</th><td>1DroughtControl1</td><td>22</td><td>6/21/2018</td><td>6400</td><td>1</td><td>Drought</td><td>Control</td><td>1</td><td>5</td><td>51</td><td>13</td><td>2.9267403</td><td>0.017253899</td><td>122.9433</td></tr>\n",
       "\t<tr><th scope=row>6</th><td>1DroughtControl1</td><td>22</td><td>6/21/2018</td><td>6400</td><td>1</td><td>Drought</td><td>Control</td><td>1</td><td>5</td><td>51</td><td> 2</td><td>1.0517300</td><td>0.007082619</td><td>158.2148</td></tr>\n",
       "</tbody>\n",
       "</table>\n"
      ],
      "text/latex": [
       "A data.frame: 6 × 14\n",
       "\\begin{tabular}{r|llllllllllllll}\n",
       "  & Sample type & Days after inoculation & Date & Licor & Trial & Treatment & Species & Plant Number & Isolate Number & Unique Sample Number & Obs & Photosynthesis & Conductance & Ci\\\\\n",
       "  & <chr> & <dbl> & <chr> & <dbl> & <dbl> & <chr> & <fct> & <dbl> & <dbl> & <dbl> & <dbl> & <dbl> & <dbl> & <dbl>\\\\\n",
       "\\hline\n",
       "\t1 & 1DroughtControl1 & 22 & 6/21/2018 & 6400 & 1 & Drought & Control & 1 & 5 & 51 &  1 & 0.7101345 & 0.005128090 & 174.1684\\\\\n",
       "\t2 & 1DroughtControl1 & 22 & 6/21/2018 & 6400 & 1 & Drought & Control & 1 & 5 & 51 & 10 & 3.0909224 & 0.016987563 & 103.6757\\\\\n",
       "\t3 & 1DroughtControl1 & 22 & 6/21/2018 & 6400 & 1 & Drought & Control & 1 & 5 & 51 & 11 & 2.8754158 & 0.017134086 & 126.0893\\\\\n",
       "\t4 & 1DroughtControl1 & 22 & 6/21/2018 & 6400 & 1 & Drought & Control & 1 & 5 & 51 & 12 & 2.8534106 & 0.017291149 & 130.4522\\\\\n",
       "\t5 & 1DroughtControl1 & 22 & 6/21/2018 & 6400 & 1 & Drought & Control & 1 & 5 & 51 & 13 & 2.9267403 & 0.017253899 & 122.9433\\\\\n",
       "\t6 & 1DroughtControl1 & 22 & 6/21/2018 & 6400 & 1 & Drought & Control & 1 & 5 & 51 &  2 & 1.0517300 & 0.007082619 & 158.2148\\\\\n",
       "\\end{tabular}\n"
      ],
      "text/markdown": [
       "\n",
       "A data.frame: 6 × 14\n",
       "\n",
       "| <!--/--> | Sample type &lt;chr&gt; | Days after inoculation &lt;dbl&gt; | Date &lt;chr&gt; | Licor &lt;dbl&gt; | Trial &lt;dbl&gt; | Treatment &lt;chr&gt; | Species &lt;fct&gt; | Plant Number &lt;dbl&gt; | Isolate Number &lt;dbl&gt; | Unique Sample Number &lt;dbl&gt; | Obs &lt;dbl&gt; | Photosynthesis &lt;dbl&gt; | Conductance &lt;dbl&gt; | Ci &lt;dbl&gt; |\n",
       "|---|---|---|---|---|---|---|---|---|---|---|---|---|---|---|\n",
       "| 1 | 1DroughtControl1 | 22 | 6/21/2018 | 6400 | 1 | Drought | Control | 1 | 5 | 51 |  1 | 0.7101345 | 0.005128090 | 174.1684 |\n",
       "| 2 | 1DroughtControl1 | 22 | 6/21/2018 | 6400 | 1 | Drought | Control | 1 | 5 | 51 | 10 | 3.0909224 | 0.016987563 | 103.6757 |\n",
       "| 3 | 1DroughtControl1 | 22 | 6/21/2018 | 6400 | 1 | Drought | Control | 1 | 5 | 51 | 11 | 2.8754158 | 0.017134086 | 126.0893 |\n",
       "| 4 | 1DroughtControl1 | 22 | 6/21/2018 | 6400 | 1 | Drought | Control | 1 | 5 | 51 | 12 | 2.8534106 | 0.017291149 | 130.4522 |\n",
       "| 5 | 1DroughtControl1 | 22 | 6/21/2018 | 6400 | 1 | Drought | Control | 1 | 5 | 51 | 13 | 2.9267403 | 0.017253899 | 122.9433 |\n",
       "| 6 | 1DroughtControl1 | 22 | 6/21/2018 | 6400 | 1 | Drought | Control | 1 | 5 | 51 |  2 | 1.0517300 | 0.007082619 | 158.2148 |\n",
       "\n"
      ],
      "text/plain": [
       "  Sample type      Days after inoculation Date      Licor Trial Treatment\n",
       "1 1DroughtControl1 22                     6/21/2018 6400  1     Drought  \n",
       "2 1DroughtControl1 22                     6/21/2018 6400  1     Drought  \n",
       "3 1DroughtControl1 22                     6/21/2018 6400  1     Drought  \n",
       "4 1DroughtControl1 22                     6/21/2018 6400  1     Drought  \n",
       "5 1DroughtControl1 22                     6/21/2018 6400  1     Drought  \n",
       "6 1DroughtControl1 22                     6/21/2018 6400  1     Drought  \n",
       "  Species Plant Number Isolate Number Unique Sample Number Obs Photosynthesis\n",
       "1 Control 1            5              51                    1  0.7101345     \n",
       "2 Control 1            5              51                   10  3.0909224     \n",
       "3 Control 1            5              51                   11  2.8754158     \n",
       "4 Control 1            5              51                   12  2.8534106     \n",
       "5 Control 1            5              51                   13  2.9267403     \n",
       "6 Control 1            5              51                    2  1.0517300     \n",
       "  Conductance Ci      \n",
       "1 0.005128090 174.1684\n",
       "2 0.016987563 103.6757\n",
       "3 0.017134086 126.0893\n",
       "4 0.017291149 130.4522\n",
       "5 0.017253899 122.9433\n",
       "6 0.007082619 158.2148"
      ]
     },
     "metadata": {},
     "output_type": "display_data"
    }
   ],
   "source": [
    "head(data_filtered)"
   ]
  },
  {
   "cell_type": "markdown",
   "metadata": {},
   "source": [
    "Then,\n",
    "\n",
    "<br>\n",
    "<div class=\"use_console\"></div>"
   ]
  },
  {
   "cell_type": "code",
   "execution_count": 62,
   "metadata": {},
   "outputs": [
    {
     "name": "stdout",
     "output_type": "stream",
     "text": [
      "'data.frame':\t1640 obs. of  14 variables:\n",
      " $ Sample type           : chr  \"1DroughtControl1\" \"1DroughtControl1\" \"1DroughtControl1\" \"1DroughtControl1\" ...\n",
      " $ Days after inoculation: num  22 22 22 22 22 22 22 22 22 22 ...\n",
      " $ Date                  : chr  \"6/21/2018\" \"6/21/2018\" \"6/21/2018\" \"6/21/2018\" ...\n",
      " $ Licor                 : num  6400 6400 6400 6400 6400 6400 6400 6400 6400 6400 ...\n",
      " $ Trial                 : num  1 1 1 1 1 1 1 1 1 1 ...\n",
      " $ Treatment             : chr  \"Drought\" \"Drought\" \"Drought\" \"Drought\" ...\n",
      " $ Species               : Factor w/ 4 levels \"Both Pathogens\",..: 2 2 2 2 2 2 2 2 2 2 ...\n",
      " $ Plant Number          : num  1 1 1 1 1 1 1 1 1 1 ...\n",
      " $ Isolate Number        : num  5 5 5 5 5 5 5 5 5 5 ...\n",
      " $ Unique Sample Number  : num  51 51 51 51 51 51 51 51 51 51 ...\n",
      " $ Obs                   : num  1 10 11 12 13 2 3 4 5 6 ...\n",
      " $ Photosynthesis        : num  0.71 3.09 2.88 2.85 2.93 ...\n",
      " $ Conductance           : num  0.00513 0.01699 0.01713 0.01729 0.01725 ...\n",
      " $ Ci                    : num  174 104 126 130 123 ...\n"
     ]
    }
   ],
   "source": [
    "str(data_filtered)"
   ]
  },
  {
   "cell_type": "markdown",
   "metadata": {},
   "source": [
    "Then,\n",
    "\n",
    "<br>\n",
    "<div class=\"use_console\"></div>"
   ]
  },
  {
   "cell_type": "code",
   "execution_count": 63,
   "metadata": {},
   "outputs": [
    {
     "data": {
      "text/html": [
       "<style>\n",
       ".dl-inline {width: auto; margin:0; padding: 0}\n",
       ".dl-inline>dt, .dl-inline>dd {float: none; width: auto; display: inline-block}\n",
       ".dl-inline>dt::after {content: \":\\0020\"; padding-right: .5ex}\n",
       ".dl-inline>dt:not(:first-of-type) {padding-left: .5ex}\n",
       "</style><dl class=dl-inline><dt>Both Pathogens</dt><dd>0</dd><dt>Control</dt><dd>563</dd><dt>Exotic Pathogen</dt><dd>508</dd><dt>Indigenous Pathogen</dt><dd>569</dd></dl>\n"
      ],
      "text/latex": [
       "\\begin{description*}\n",
       "\\item[Both Pathogens] 0\n",
       "\\item[Control] 563\n",
       "\\item[Exotic Pathogen] 508\n",
       "\\item[Indigenous Pathogen] 569\n",
       "\\end{description*}\n"
      ],
      "text/markdown": [
       "Both Pathogens\n",
       ":   0Control\n",
       ":   563Exotic Pathogen\n",
       ":   508Indigenous Pathogen\n",
       ":   569\n",
       "\n"
      ],
      "text/plain": [
       "     Both Pathogens             Control     Exotic Pathogen Indigenous Pathogen \n",
       "                  0                 563                 508                 569 "
      ]
     },
     "metadata": {},
     "output_type": "display_data"
    }
   ],
   "source": [
    "summary(data_filtered$Species)"
   ]
  },
  {
   "cell_type": "markdown",
   "metadata": {},
   "source": [
    "Note that \"Both Pathogens\" still appears as a level of `Species` in `data_filtered` but all the observations have been removed.\n",
    "Let's compare Photosynthesis vs Conductance between `combined_data` and `data_filtered` graphically.\n",
    "\n",
    "<br>\n",
    "<div class=\"use_editor\"></div>"
   ]
  },
  {
   "cell_type": "code",
   "execution_count": 87,
   "metadata": {},
   "outputs": [
    {
     "data": {
      "image/png": "[encoded data removed]",
      "text/plain": [
       "plot without title"
      ]
     },
     "metadata": {
      "image/png": {
       "height": 500,
       "width": 875
      }
     },
     "output_type": "display_data"
    }
   ],
   "source": [
    "# Make plot of all data\n",
    "ggplot(data = combined_data,\n",
    "    aes(x = Photosynthesis, y = Conductance, fill = Species)) +\n",
    "    geom_point(shape = 21) +\n",
    "    theme_classic() +\n",
    "    labs(title = \"combined_data\")"
   ]
  },
  {
   "cell_type": "markdown",
   "metadata": {},
   "source": [
    "Then,\n",
    "\n",
    "<br>\n",
    "<div class=\"use_editor\"></div>"
   ]
  },
  {
   "cell_type": "code",
   "execution_count": 88,
   "metadata": {},
   "outputs": [
    {
     "data": {
      "image/png": "[encoded data removed]",
      "text/plain": [
       "plot without title"
      ]
     },
     "metadata": {
      "image/png": {
       "height": 500,
       "width": 875
      }
     },
     "output_type": "display_data"
    }
   ],
   "source": [
    "# Make plot on FILTERED data (without outliers)\n",
    "ggplot(data = data_filtered,\n",
    "        aes(x = Photosynthesis, y = Conductance, fill = Species)) +\n",
    "        geom_point(shape = 21) +\n",
    "        theme_classic() +\n",
    "        labs(title = \"data_filtered\")"
   ]
  },
  {
   "cell_type": "markdown",
   "metadata": {},
   "source": [
    " In `data_filtered`, outlying data points (Photosynthesis>200) have been filtered out making it easier to visualize our data."
   ]
  },
  {
   "cell_type": "markdown",
   "metadata": {},
   "source": [
    "<div class=\"Q\"><br><br>\n",
    "\n",
    "What does <b>!=</b> in the <b>select()</b> function mean?\n",
    "\n",
    "\n",
    "<br><br><div class=\"qhelp\"></div></div>"
   ]
  },
  {
   "cell_type": "markdown",
   "metadata": {},
   "source": [
    "<div class=\"Q\"><br><br>\n",
    "\n",
    "How many levels does Species have in <b>data_filtered</b>?\n",
    "\n",
    "\n",
    "<br><br><div class=\"qhelp\"></div></div>"
   ]
  },
  {
   "cell_type": "markdown",
   "metadata": {},
   "source": [
    "<div class=\"Q\"><br><br>\n",
    "\n",
    "TRUE or FALSE: \"Both Pathogens\" in <b>data_filtered</b> has 0 observations because they did not take measurements?\n",
    "\n",
    "\n",
    "<br><br><div class=\"qhelp\"></div></div>"
   ]
  },
  {
   "cell_type": "markdown",
   "metadata": {},
   "source": [
    "<br><br><br>\n",
    "<div class=\"startTASK\"></div>\n",
    "\n",
    "Create a dataset called `male_fox_data` wherein only data from male foxes are included.\n",
    "\n",
    "<div class=\"endTASK\"></div>\n",
    "<br><br><br>"
   ]
  },
  {
   "cell_type": "markdown",
   "metadata": {},
   "source": [
    "<div class=\"Q\"><br><br>\n",
    "\n",
    "How many rows does <b>male_fox_data</b> have?\n",
    "\n",
    "\n",
    "<br><br><div class=\"qhelp\"></div></div>"
   ]
  },
  {
   "cell_type": "markdown",
   "metadata": {},
   "source": [
    "# Sequential operations\n",
    "\n",
    "What if you want to select and filter at the same time? In other words, what if you need to do something to your data, get the output and do something else with it, and again get the output and do again something else it...\n",
    "\n",
    "There are three ways to do this: \n",
    "\n",
    "1. use intermediate steps,\n",
    "2. use nested functions, or\n",
    "3. use pipes"
   ]
  },
  {
   "cell_type": "markdown",
   "metadata": {},
   "source": [
    "## Intermediate steps\n",
    "\n",
    "This is when you save the output of intermediate steps into a variable, then you feed that intermediate variable as the input of next subsequent step.\n",
    "\n",
    "Example:\n",
    "\n",
    "What if we wanted to select only `Sample type`, `Photosynthesis` and `Conductance` from the `Control` and `Indigenous Pathogen` Species? We could create multiple objects.\n",
    "\n",
    "1. First, filter for species `Control` and `Indigenous Pathogen` and save the output to an **intermediate** variable (i.e. `species_filtered`)\n",
    "\n",
    "2. Then apply `select()` to the inter **intermediate** variable `species_filtered` to create your final output: `species_sml`\n",
    "\n",
    "We can use `%in%` with `select()` to specify a list of paramters/levels we want to keep.\n",
    "\n",
    "Graphically, what we want to do would look like this:\n",
    "\n",
    "<img src=\"nested.png\" width=\"600px\">\n",
    "\n",
    "The actual code to do it is bellow:\n",
    "\n",
    "<br>\n",
    "<div class=\"use_editor\"></div>"
   ]
  },
  {
   "cell_type": "code",
   "execution_count": 66,
   "metadata": {},
   "outputs": [],
   "source": [
    "# Creates a new data frame with rows containing only data from Indigenous Pathogen and Control Species\n",
    "species_filtered <- filter(data_filtered, Species %in% c(\"Indigenous Pathogen\", \"Control\")) \n",
    "\n",
    "# Then only selects the columns \"Sample type\", Species,Photosynthesis, Conductance)  \n",
    "species_sml <- select(species_filtered, `Sample type`, Species, Photosynthesis, Conductance)"
   ]
  },
  {
   "cell_type": "markdown",
   "metadata": {},
   "source": [
    "Now, lets take a look at `species_sml`:\n",
    "\n",
    "<br>\n",
    "<div class=\"use_console\"></div>\n"
   ]
  },
  {
   "cell_type": "code",
   "execution_count": 67,
   "metadata": {},
   "outputs": [
    {
     "data": {
      "text/html": [
       "<table class=\"dataframe\">\n",
       "<caption>A data.frame: 6 × 4</caption>\n",
       "<thead>\n",
       "\t<tr><th></th><th scope=col>Sample type</th><th scope=col>Species</th><th scope=col>Photosynthesis</th><th scope=col>Conductance</th></tr>\n",
       "\t<tr><th></th><th scope=col>&lt;chr&gt;</th><th scope=col>&lt;fct&gt;</th><th scope=col>&lt;dbl&gt;</th><th scope=col>&lt;dbl&gt;</th></tr>\n",
       "</thead>\n",
       "<tbody>\n",
       "\t<tr><th scope=row>1</th><td>1DroughtControl1</td><td>Control</td><td>0.7101345</td><td>0.005128090</td></tr>\n",
       "\t<tr><th scope=row>2</th><td>1DroughtControl1</td><td>Control</td><td>3.0909224</td><td>0.016987563</td></tr>\n",
       "\t<tr><th scope=row>3</th><td>1DroughtControl1</td><td>Control</td><td>2.8754158</td><td>0.017134086</td></tr>\n",
       "\t<tr><th scope=row>4</th><td>1DroughtControl1</td><td>Control</td><td>2.8534106</td><td>0.017291149</td></tr>\n",
       "\t<tr><th scope=row>5</th><td>1DroughtControl1</td><td>Control</td><td>2.9267403</td><td>0.017253899</td></tr>\n",
       "\t<tr><th scope=row>6</th><td>1DroughtControl1</td><td>Control</td><td>1.0517300</td><td>0.007082619</td></tr>\n",
       "</tbody>\n",
       "</table>\n"
      ],
      "text/latex": [
       "A data.frame: 6 × 4\n",
       "\\begin{tabular}{r|llll}\n",
       "  & Sample type & Species & Photosynthesis & Conductance\\\\\n",
       "  & <chr> & <fct> & <dbl> & <dbl>\\\\\n",
       "\\hline\n",
       "\t1 & 1DroughtControl1 & Control & 0.7101345 & 0.005128090\\\\\n",
       "\t2 & 1DroughtControl1 & Control & 3.0909224 & 0.016987563\\\\\n",
       "\t3 & 1DroughtControl1 & Control & 2.8754158 & 0.017134086\\\\\n",
       "\t4 & 1DroughtControl1 & Control & 2.8534106 & 0.017291149\\\\\n",
       "\t5 & 1DroughtControl1 & Control & 2.9267403 & 0.017253899\\\\\n",
       "\t6 & 1DroughtControl1 & Control & 1.0517300 & 0.007082619\\\\\n",
       "\\end{tabular}\n"
      ],
      "text/markdown": [
       "\n",
       "A data.frame: 6 × 4\n",
       "\n",
       "| <!--/--> | Sample type &lt;chr&gt; | Species &lt;fct&gt; | Photosynthesis &lt;dbl&gt; | Conductance &lt;dbl&gt; |\n",
       "|---|---|---|---|---|\n",
       "| 1 | 1DroughtControl1 | Control | 0.7101345 | 0.005128090 |\n",
       "| 2 | 1DroughtControl1 | Control | 3.0909224 | 0.016987563 |\n",
       "| 3 | 1DroughtControl1 | Control | 2.8754158 | 0.017134086 |\n",
       "| 4 | 1DroughtControl1 | Control | 2.8534106 | 0.017291149 |\n",
       "| 5 | 1DroughtControl1 | Control | 2.9267403 | 0.017253899 |\n",
       "| 6 | 1DroughtControl1 | Control | 1.0517300 | 0.007082619 |\n",
       "\n"
      ],
      "text/plain": [
       "  Sample type      Species Photosynthesis Conductance\n",
       "1 1DroughtControl1 Control 0.7101345      0.005128090\n",
       "2 1DroughtControl1 Control 3.0909224      0.016987563\n",
       "3 1DroughtControl1 Control 2.8754158      0.017134086\n",
       "4 1DroughtControl1 Control 2.8534106      0.017291149\n",
       "5 1DroughtControl1 Control 2.9267403      0.017253899\n",
       "6 1DroughtControl1 Control 1.0517300      0.007082619"
      ]
     },
     "metadata": {},
     "output_type": "display_data"
    }
   ],
   "source": [
    "head(species_sml)"
   ]
  },
  {
   "cell_type": "markdown",
   "metadata": {},
   "source": [
    "Then, \n",
    "\n",
    "<br>\n",
    "<div class=\"use_console\"></div>"
   ]
  },
  {
   "cell_type": "code",
   "execution_count": 68,
   "metadata": {},
   "outputs": [
    {
     "name": "stdout",
     "output_type": "stream",
     "text": [
      "'data.frame':\t1132 obs. of  4 variables:\n",
      " $ Sample type   : chr  \"1DroughtControl1\" \"1DroughtControl1\" \"1DroughtControl1\" \"1DroughtControl1\" ...\n",
      " $ Species       : Factor w/ 4 levels \"Both Pathogens\",..: 2 2 2 2 2 2 2 2 2 2 ...\n",
      " $ Photosynthesis: num  0.71 3.09 2.88 2.85 2.93 ...\n",
      " $ Conductance   : num  0.00513 0.01699 0.01713 0.01729 0.01725 ...\n"
     ]
    }
   ],
   "source": [
    "str(species_sml)"
   ]
  },
  {
   "cell_type": "markdown",
   "metadata": {},
   "source": [
    "This is readable, but is clunky and can clutter up your workspace with lots of small objects that youd have to keep track of."
   ]
  },
  {
   "cell_type": "markdown",
   "metadata": {},
   "source": [
    "## Nested functions\n",
    "\n",
    "Another method would be to use **nested functions**. This is when you write one function inside of another function, like this:\n",
    "\n",
    "<br>\n",
    "<div class=\"use_editor\"></div>\n"
   ]
  },
  {
   "cell_type": "code",
   "execution_count": 69,
   "metadata": {},
   "outputs": [],
   "source": [
    "# Example of nested functions\n",
    "species_sml <- select(filter(data_filtered, Species %in% c(\"Indigenous Pathogen\", \"Control\")),\n",
    "                      `Sample type`, Species, Photosynthesis, Conductance)"
   ]
  },
  {
   "cell_type": "markdown",
   "metadata": {},
   "source": [
    "Let's take a look:\n",
    "\n",
    "<br>\n",
    "<div class=\"use_console\"></div>"
   ]
  },
  {
   "cell_type": "code",
   "execution_count": 109,
   "metadata": {
    "scrolled": true
   },
   "outputs": [
    {
     "data": {
      "text/html": [
       "<table>\n",
       "<thead><tr><th scope=col>Sample type</th><th scope=col>Species</th><th scope=col>Photosynthesis</th><th scope=col>Conductance</th></tr></thead>\n",
       "<tbody>\n",
       "\t<tr><td>1DroughtControl1</td><td>Control         </td><td>0.7101345       </td><td>0.005128090     </td></tr>\n",
       "\t<tr><td>1DroughtControl1</td><td>Control         </td><td>3.0909224       </td><td>0.016987563     </td></tr>\n",
       "\t<tr><td>1DroughtControl1</td><td>Control         </td><td>2.8754158       </td><td>0.017134086     </td></tr>\n",
       "\t<tr><td>1DroughtControl1</td><td>Control         </td><td>2.8534106       </td><td>0.017291149     </td></tr>\n",
       "\t<tr><td>1DroughtControl1</td><td>Control         </td><td>2.9267403       </td><td>0.017253899     </td></tr>\n",
       "\t<tr><td>1DroughtControl1</td><td>Control         </td><td>1.0517300       </td><td>0.007082619     </td></tr>\n",
       "</tbody>\n",
       "</table>\n"
      ],
      "text/latex": [
       "\\begin{tabular}{r|llll}\n",
       " Sample type & Species & Photosynthesis & Conductance\\\\\n",
       "\\hline\n",
       "\t 1DroughtControl1 & Control          & 0.7101345        & 0.005128090     \\\\\n",
       "\t 1DroughtControl1 & Control          & 3.0909224        & 0.016987563     \\\\\n",
       "\t 1DroughtControl1 & Control          & 2.8754158        & 0.017134086     \\\\\n",
       "\t 1DroughtControl1 & Control          & 2.8534106        & 0.017291149     \\\\\n",
       "\t 1DroughtControl1 & Control          & 2.9267403        & 0.017253899     \\\\\n",
       "\t 1DroughtControl1 & Control          & 1.0517300        & 0.007082619     \\\\\n",
       "\\end{tabular}\n"
      ],
      "text/markdown": [
       "\n",
       "| Sample type | Species | Photosynthesis | Conductance |\n",
       "|---|---|---|---|\n",
       "| 1DroughtControl1 | Control          | 0.7101345        | 0.005128090      |\n",
       "| 1DroughtControl1 | Control          | 3.0909224        | 0.016987563      |\n",
       "| 1DroughtControl1 | Control          | 2.8754158        | 0.017134086      |\n",
       "| 1DroughtControl1 | Control          | 2.8534106        | 0.017291149      |\n",
       "| 1DroughtControl1 | Control          | 2.9267403        | 0.017253899      |\n",
       "| 1DroughtControl1 | Control          | 1.0517300        | 0.007082619      |\n",
       "\n"
      ],
      "text/plain": [
       "  Sample type      Species Photosynthesis Conductance\n",
       "1 1DroughtControl1 Control 0.7101345      0.005128090\n",
       "2 1DroughtControl1 Control 3.0909224      0.016987563\n",
       "3 1DroughtControl1 Control 2.8754158      0.017134086\n",
       "4 1DroughtControl1 Control 2.8534106      0.017291149\n",
       "5 1DroughtControl1 Control 2.9267403      0.017253899\n",
       "6 1DroughtControl1 Control 1.0517300      0.007082619"
      ]
     },
     "metadata": {},
     "output_type": "display_data"
    }
   ],
   "source": [
    "head(species_sml)"
   ]
  },
  {
   "cell_type": "markdown",
   "metadata": {},
   "source": [
    "Then,\n",
    "\n",
    "<br>\n",
    "<div class=\"use_console\"></div>"
   ]
  },
  {
   "cell_type": "code",
   "execution_count": 70,
   "metadata": {},
   "outputs": [
    {
     "name": "stdout",
     "output_type": "stream",
     "text": [
      "'data.frame':\t1132 obs. of  4 variables:\n",
      " $ Sample type   : chr  \"1DroughtControl1\" \"1DroughtControl1\" \"1DroughtControl1\" \"1DroughtControl1\" ...\n",
      " $ Species       : Factor w/ 4 levels \"Both Pathogens\",..: 2 2 2 2 2 2 2 2 2 2 ...\n",
      " $ Photosynthesis: num  0.71 3.09 2.88 2.85 2.93 ...\n",
      " $ Conductance   : num  0.00513 0.01699 0.01713 0.01729 0.01725 ...\n"
     ]
    }
   ],
   "source": [
    "str(species_sml)"
   ]
  },
  {
   "cell_type": "markdown",
   "metadata": {},
   "source": [
    "See, same results as above...\n",
    "\n",
    "R evaluates the expression from the inside out (in this case, filtering, then selecting). **I would avoid this method since it makes debugging your code a nightmare! It is also hard to read!**"
   ]
  },
  {
   "cell_type": "markdown",
   "metadata": {},
   "source": [
    "## Pipes\n",
    "\n",
    "A better method is to use pipes. Pipes let you take the output of one function and send it directly to the next, which is useful when you need to do many things to the same dataset. Pipes in R look like `%>%` and are made available via the `magrittr` package, installed automatically with `dplyr`. \n",
    "\n",
    "If you use RStudio, you can type the pipe with `Ctrl + Shift + M` if you have a PC or `Cmd + Shift + M` if you have a Mac.\n",
    "\n",
    "We will re-create the `species_sml` dataset using pipes. First, we want to filter data from the `data_filtered` dataset, keeping rows where Species is either `Indigenous Pathogen` or `Control`, then select only the `Sample type`, `Species`, `Photosynthesis` and `Conductance` columns. We will use the pipe to send the `data_filtered` dataset through the `filter()` then `select()` functions.\n",
    "\n",
    "<br>\n",
    "<div class=\"use_editor\"></div>"
   ]
  },
  {
   "cell_type": "code",
   "execution_count": 71,
   "metadata": {},
   "outputs": [],
   "source": [
    "# Example of Pipes\n",
    "species_sml <- data_filtered %>%\n",
    "  filter(Species %in% c(\"Indigenous Pathogen\", \"Control\")) %>% \n",
    "  select(`Sample type`, Species, Photosynthesis, Conductance)  "
   ]
  },
  {
   "cell_type": "markdown",
   "metadata": {},
   "source": [
    "You can also use pipes to take a look at your data:\n",
    "\n",
    "<br>\n",
    "<div class=\"use_console\"></div>"
   ]
  },
  {
   "cell_type": "code",
   "execution_count": 72,
   "metadata": {
    "scrolled": true
   },
   "outputs": [
    {
     "data": {
      "text/html": [
       "<table class=\"dataframe\">\n",
       "<caption>A data.frame: 6 × 4</caption>\n",
       "<thead>\n",
       "\t<tr><th></th><th scope=col>Sample type</th><th scope=col>Species</th><th scope=col>Photosynthesis</th><th scope=col>Conductance</th></tr>\n",
       "\t<tr><th></th><th scope=col>&lt;chr&gt;</th><th scope=col>&lt;fct&gt;</th><th scope=col>&lt;dbl&gt;</th><th scope=col>&lt;dbl&gt;</th></tr>\n",
       "</thead>\n",
       "<tbody>\n",
       "\t<tr><th scope=row>1</th><td>1DroughtControl1</td><td>Control</td><td>0.7101345</td><td>0.005128090</td></tr>\n",
       "\t<tr><th scope=row>2</th><td>1DroughtControl1</td><td>Control</td><td>3.0909224</td><td>0.016987563</td></tr>\n",
       "\t<tr><th scope=row>3</th><td>1DroughtControl1</td><td>Control</td><td>2.8754158</td><td>0.017134086</td></tr>\n",
       "\t<tr><th scope=row>4</th><td>1DroughtControl1</td><td>Control</td><td>2.8534106</td><td>0.017291149</td></tr>\n",
       "\t<tr><th scope=row>5</th><td>1DroughtControl1</td><td>Control</td><td>2.9267403</td><td>0.017253899</td></tr>\n",
       "\t<tr><th scope=row>6</th><td>1DroughtControl1</td><td>Control</td><td>1.0517300</td><td>0.007082619</td></tr>\n",
       "</tbody>\n",
       "</table>\n"
      ],
      "text/latex": [
       "A data.frame: 6 × 4\n",
       "\\begin{tabular}{r|llll}\n",
       "  & Sample type & Species & Photosynthesis & Conductance\\\\\n",
       "  & <chr> & <fct> & <dbl> & <dbl>\\\\\n",
       "\\hline\n",
       "\t1 & 1DroughtControl1 & Control & 0.7101345 & 0.005128090\\\\\n",
       "\t2 & 1DroughtControl1 & Control & 3.0909224 & 0.016987563\\\\\n",
       "\t3 & 1DroughtControl1 & Control & 2.8754158 & 0.017134086\\\\\n",
       "\t4 & 1DroughtControl1 & Control & 2.8534106 & 0.017291149\\\\\n",
       "\t5 & 1DroughtControl1 & Control & 2.9267403 & 0.017253899\\\\\n",
       "\t6 & 1DroughtControl1 & Control & 1.0517300 & 0.007082619\\\\\n",
       "\\end{tabular}\n"
      ],
      "text/markdown": [
       "\n",
       "A data.frame: 6 × 4\n",
       "\n",
       "| <!--/--> | Sample type &lt;chr&gt; | Species &lt;fct&gt; | Photosynthesis &lt;dbl&gt; | Conductance &lt;dbl&gt; |\n",
       "|---|---|---|---|---|\n",
       "| 1 | 1DroughtControl1 | Control | 0.7101345 | 0.005128090 |\n",
       "| 2 | 1DroughtControl1 | Control | 3.0909224 | 0.016987563 |\n",
       "| 3 | 1DroughtControl1 | Control | 2.8754158 | 0.017134086 |\n",
       "| 4 | 1DroughtControl1 | Control | 2.8534106 | 0.017291149 |\n",
       "| 5 | 1DroughtControl1 | Control | 2.9267403 | 0.017253899 |\n",
       "| 6 | 1DroughtControl1 | Control | 1.0517300 | 0.007082619 |\n",
       "\n"
      ],
      "text/plain": [
       "  Sample type      Species Photosynthesis Conductance\n",
       "1 1DroughtControl1 Control 0.7101345      0.005128090\n",
       "2 1DroughtControl1 Control 3.0909224      0.016987563\n",
       "3 1DroughtControl1 Control 2.8754158      0.017134086\n",
       "4 1DroughtControl1 Control 2.8534106      0.017291149\n",
       "5 1DroughtControl1 Control 2.9267403      0.017253899\n",
       "6 1DroughtControl1 Control 1.0517300      0.007082619"
      ]
     },
     "metadata": {},
     "output_type": "display_data"
    }
   ],
   "source": [
    "head(species_sml)"
   ]
  },
  {
   "cell_type": "markdown",
   "metadata": {},
   "source": [
    "However, I find it simpler to use the \"normal\" approach:\n",
    "\n",
    "<br>\n",
    "<div class=\"use_console\"></div>"
   ]
  },
  {
   "cell_type": "code",
   "execution_count": 73,
   "metadata": {},
   "outputs": [
    {
     "name": "stdout",
     "output_type": "stream",
     "text": [
      "'data.frame':\t1132 obs. of  4 variables:\n",
      " $ Sample type   : chr  \"1DroughtControl1\" \"1DroughtControl1\" \"1DroughtControl1\" \"1DroughtControl1\" ...\n",
      " $ Species       : Factor w/ 4 levels \"Both Pathogens\",..: 2 2 2 2 2 2 2 2 2 2 ...\n",
      " $ Photosynthesis: num  0.71 3.09 2.88 2.85 2.93 ...\n",
      " $ Conductance   : num  0.00513 0.01699 0.01713 0.01729 0.01725 ...\n"
     ]
    }
   ],
   "source": [
    "str(species_sml)"
   ]
  },
  {
   "cell_type": "markdown",
   "metadata": {},
   "source": [
    "See, same results as above...\n",
    "\n",
    "\n",
    "Now, let's make a plot also using **pipes**:\n",
    "\n",
    "<br>\n",
    "<div class=\"use_editor\"></div>"
   ]
  },
  {
   "cell_type": "code",
   "execution_count": 89,
   "metadata": {},
   "outputs": [
    {
     "data": {
      "image/png": "[encoded data removed]",
      "text/plain": [
       "plot without title"
      ]
     },
     "metadata": {
      "image/png": {
       "height": 500,
       "width": 875
      }
     },
     "output_type": "display_data"
    }
   ],
   "source": [
    "# Example of a plot using pipes\n",
    "species_sml %>% \n",
    "    ggplot() +\n",
    "    geom_boxplot(aes(x = Species, y = Photosynthesis, fill = Species)) +\n",
    "    theme_classic()"
   ]
  },
  {
   "cell_type": "markdown",
   "metadata": {},
   "source": [
    "Since `%>%` takes the object on its left and passes it as the first argument to the function on its right, we don't need to explicitly include the data frame as an argument to the `filter()` and `select()` functions any more.\n",
    "\n",
    "<img src=\"pipes.png\" width=\"800px\">"
   ]
  },
  {
   "cell_type": "markdown",
   "metadata": {},
   "source": [
    "<br><br><br>\n",
    "<div class=\"startTASK\"></div>\n",
    "\n",
    "Using the `fox_data` dataset, create a new object `fox_data_cleaned` that contains only the columns ID, Sex, avfood, from female foxes only.\n",
    "<div class=\"endTASK\"></div>\n",
    "<br><br><br>"
   ]
  },
  {
   "cell_type": "markdown",
   "metadata": {},
   "source": [
    "<div class=\"Q\"><br><br>\n",
    "\n",
    "How many rows are there in <b>fox_data_cleaned</b>?\n",
    "    \n",
    "<br><br><div class=\"qhelp\"></div></div>"
   ]
  },
  {
   "cell_type": "markdown",
   "metadata": {},
   "source": [
    "<div class=\"Q\"><br><br>\n",
    "\n",
    "What is the median weight of female foxes in the <b>fox_data_cleaned</b> dataset?\n",
    "    \n",
    "<br><br><div class=\"qhelp\"></div></div>"
   ]
  },
  {
   "cell_type": "markdown",
   "metadata": {},
   "source": [
    "_________________________________________________________________________\n",
    "\n",
    "# Reshaping dataframes\n",
    "\n",
    "Useful links:\n",
    "\n",
    "1. [Pivot tutorial](https://tidyr.tidyverse.org/articles/pivot.html)\n",
    "1. [pivot_longer](https://rdrr.io/github/tidyverse/tidyr/man/pivot_longer.html)\n",
    "1. [pivot_wider](https://tidyr.tidyverse.org/reference/pivot_wider.html)\n",
    "\n",
    "Sometimes you may need to alter the layout of tabluar datasets while preserving the values and relationships contained within. This can also be very useful when plotting data from very large datasets with multiple columns. You may have heard of `spread()` and `gather()`. These are functions with similar but more limited functionality and were replaced by `pivot_wider()` and `pivot_longer()`.\n",
    "\n",
    "## pivot_wider\n",
    "\n",
    "**`pivot_wider()`** moves rows into columns (long to wide format). Values in the \"Parameter\" column become new column names and their respective values get copied into the reshaped data. Columns with no observations will get coded with a value of NA.\n",
    "\n",
    "<img src=\"pivot_wider.png\" width=\"700px\">\n",
    "\n",
    "Let's use `pivot_wider()` to turn Species factors into column names by changing the dataset from long to wide format.\n",
    "\n",
    "<br>\n",
    "<div class=\"use_editor\"></div>"
   ]
  },
  {
   "cell_type": "code",
   "execution_count": 75,
   "metadata": {},
   "outputs": [],
   "source": [
    "# Example of pivot_wide\n",
    "data_wide <- data_filtered  %>% \n",
    "    filter(Treatment == \"Drought\", Obs == 1) %>% \n",
    "    select(Species, `Sample type`, Date, Photosynthesis) %>% \n",
    "    pivot_wider(names_from = \"Species\", values_from = \"Photosynthesis\") "
   ]
  },
  {
   "cell_type": "markdown",
   "metadata": {},
   "source": [
    "Let's take a look at `data_wide`:\n",
    "\n",
    "<br>\n",
    "<div class=\"use_console\"></div>"
   ]
  },
  {
   "cell_type": "code",
   "execution_count": 76,
   "metadata": {},
   "outputs": [
    {
     "data": {
      "text/html": [
       "<table class=\"dataframe\">\n",
       "<caption>A tibble: 4 × 5</caption>\n",
       "<thead>\n",
       "\t<tr><th scope=col>Sample type</th><th scope=col>Date</th><th scope=col>Control</th><th scope=col>Exotic Pathogen</th><th scope=col>Indigenous Pathogen</th></tr>\n",
       "\t<tr><th scope=col>&lt;chr&gt;</th><th scope=col>&lt;chr&gt;</th><th scope=col>&lt;dbl&gt;</th><th scope=col>&lt;dbl&gt;</th><th scope=col>&lt;dbl&gt;</th></tr>\n",
       "</thead>\n",
       "<tbody>\n",
       "\t<tr><td>1DroughtControl1 </td><td>6/21/2018</td><td>0.7101345</td><td>NA</td><td>NA</td></tr>\n",
       "\t<tr><td>1DroughtControl1 </td><td>6/8/2018 </td><td>1.5643579</td><td>NA</td><td>NA</td></tr>\n",
       "\t<tr><td>1DroughtControl10</td><td>6/12/2018</td><td>0.3439647</td><td>NA</td><td>NA</td></tr>\n",
       "\t<tr><td>1DroughtControl10</td><td>7/4/2018 </td><td>0.4086491</td><td>NA</td><td>NA</td></tr>\n",
       "</tbody>\n",
       "</table>\n"
      ],
      "text/latex": [
       "A tibble: 4 × 5\n",
       "\\begin{tabular}{lllll}\n",
       " Sample type & Date & Control & Exotic Pathogen & Indigenous Pathogen\\\\\n",
       " <chr> & <chr> & <dbl> & <dbl> & <dbl>\\\\\n",
       "\\hline\n",
       "\t 1DroughtControl1  & 6/21/2018 & 0.7101345 & NA & NA\\\\\n",
       "\t 1DroughtControl1  & 6/8/2018  & 1.5643579 & NA & NA\\\\\n",
       "\t 1DroughtControl10 & 6/12/2018 & 0.3439647 & NA & NA\\\\\n",
       "\t 1DroughtControl10 & 7/4/2018  & 0.4086491 & NA & NA\\\\\n",
       "\\end{tabular}\n"
      ],
      "text/markdown": [
       "\n",
       "A tibble: 4 × 5\n",
       "\n",
       "| Sample type &lt;chr&gt; | Date &lt;chr&gt; | Control &lt;dbl&gt; | Exotic Pathogen &lt;dbl&gt; | Indigenous Pathogen &lt;dbl&gt; |\n",
       "|---|---|---|---|---|\n",
       "| 1DroughtControl1  | 6/21/2018 | 0.7101345 | NA | NA |\n",
       "| 1DroughtControl1  | 6/8/2018  | 1.5643579 | NA | NA |\n",
       "| 1DroughtControl10 | 6/12/2018 | 0.3439647 | NA | NA |\n",
       "| 1DroughtControl10 | 7/4/2018  | 0.4086491 | NA | NA |\n",
       "\n"
      ],
      "text/plain": [
       "  Sample type       Date      Control   Exotic Pathogen Indigenous Pathogen\n",
       "1 1DroughtControl1  6/21/2018 0.7101345 NA              NA                 \n",
       "2 1DroughtControl1  6/8/2018  1.5643579 NA              NA                 \n",
       "3 1DroughtControl10 6/12/2018 0.3439647 NA              NA                 \n",
       "4 1DroughtControl10 7/4/2018  0.4086491 NA              NA                 "
      ]
     },
     "metadata": {},
     "output_type": "display_data"
    }
   ],
   "source": [
    "data_wide %>% \n",
    "    head(4)"
   ]
  },
  {
   "cell_type": "markdown",
   "metadata": {},
   "source": [
    "<br>\n",
    "<div class=\"use_console\"></div>"
   ]
  },
  {
   "cell_type": "code",
   "execution_count": 77,
   "metadata": {},
   "outputs": [
    {
     "name": "stdout",
     "output_type": "stream",
     "text": [
      "tibble [73 x 5] (S3: tbl_df/tbl/data.frame)\n",
      " $ Sample type        : chr [1:73] \"1DroughtControl1\" \"1DroughtControl1\" \"1DroughtControl10\" \"1DroughtControl10\" ...\n",
      " $ Date               : chr [1:73] \"6/21/2018\" \"6/8/2018\" \"6/12/2018\" \"7/4/2018\" ...\n",
      " $ Control            : num [1:73] 0.7101 1.5644 0.344 0.4086 0.0945 ...\n",
      " $ Exotic Pathogen    : num [1:73] NA NA NA NA NA NA NA NA NA NA ...\n",
      " $ Indigenous Pathogen: num [1:73] NA NA NA NA NA NA NA NA NA NA ...\n"
     ]
    }
   ],
   "source": [
    "str(data_wide)"
   ]
  },
  {
   "cell_type": "markdown",
   "metadata": {},
   "source": [
    "Notice that some columns have NA values. `pivot_wider` creates that value if it doesn't exist in the data.\n",
    "\n",
    "Let's try to plot the data from the Control, Exotic Pathogen, and Indigenous Pathogen columns by date. In the wide format we will have to create 3 separate plots and used a plotting package like `cowplot` to acheive what we want. Wide format is nice for people that are not used to seeing data separated into value (i.e. mg/L O2) and classifier/parameter (i.e. ogygen) columns (like what you'll see in a little bit).\n",
    "\n",
    "First, if you have not yet installed `cowplot`, you may have to:\n",
    "\n",
    "<br>\n",
    "<div class=\"use_console\"></div>"
   ]
  },
  {
   "cell_type": "code",
   "execution_count": null,
   "metadata": {},
   "outputs": [],
   "source": [
    "install.packages(\"cowplot\")"
   ]
  },
  {
   "cell_type": "markdown",
   "metadata": {},
   "source": [
    "Then, load the `cowplpot` package:\n",
    "\n",
    "<br>\n",
    "<div class=\"use_editor\"></div>"
   ]
  },
  {
   "cell_type": "code",
   "execution_count": 80,
   "metadata": {},
   "outputs": [],
   "source": [
    "library(cowplot)"
   ]
  },
  {
   "cell_type": "markdown",
   "metadata": {},
   "source": [
    "Then, do the plot...\n",
    "\n",
    "<br>\n",
    "<div class=\"use_editor\"></div>"
   ]
  },
  {
   "cell_type": "code",
   "execution_count": 134,
   "metadata": {},
   "outputs": [
    {
     "name": "stderr",
     "output_type": "stream",
     "text": [
      "Warning message:\n",
      "\"Removed 50 rows containing non-finite values (stat_boxplot).\"\n",
      "Warning message:\n",
      "\"Removed 49 rows containing non-finite values (stat_boxplot).\"\n",
      "Warning message:\n",
      "\"Removed 47 rows containing non-finite values (stat_boxplot).\"\n"
     ]
    },
    {
     "data": {
      "image/png": "[encoded data removed]",
      "text/plain": [
       "plot without title"
      ]
     },
     "metadata": {
      "image/png": {
       "height": 500,
       "width": 875
      }
     },
     "output_type": "display_data"
    }
   ],
   "source": [
    "control <- data_wide %>% \n",
    "    ggplot()+\n",
    "    geom_boxplot(aes(x = Date, y = Control)) +\n",
    "    theme_classic() +\n",
    "    theme(axis.text.x = element_text(angle = 90)) #roates X-axis text to 90 degrees\n",
    "\n",
    "exotic <- data_wide %>% \n",
    "    ggplot() +\n",
    "    geom_boxplot(aes(x = Date, y = `Exotic Pathogen`)) +\n",
    "    theme_classic() +\n",
    "    theme(axis.text.x = element_text(angle = 90))\n",
    "\n",
    "indigenous <- data_wide %>% \n",
    "    ggplot() +\n",
    "    geom_boxplot(aes(x = Date, y = `Indigenous Pathogen`)) +\n",
    "    theme_classic() +\n",
    "    theme(axis.text.x = element_text(angle = 90))\n",
    "\n",
    "cowplot::plot_grid(control, exotic,indigenous, nrow = 1)"
   ]
  },
  {
   "cell_type": "markdown",
   "metadata": {},
   "source": [
    "<div class=\"Q\"><br><br>\n",
    "\n",
    "How many observations does <b>data_wide</b> have?\n",
    "\n",
    "\n",
    "<br><br><div class=\"qhelp\"></div></div>"
   ]
  },
  {
   "cell_type": "markdown",
   "metadata": {},
   "source": [
    "## pivot_longer\n",
    "\n",
    "In this situation we are gathering the column names and turning them into a pair of new variables. One variable represents the column names as values, and the other variable contains the values previously associated with the column names.\n",
    "\n",
    "**pivot_longer** moves columns into rows (wide to long format). `pivot_longer` takes several arguements but the most important ones for this exercise are `names_to` and `values_to`. `names_to` creates a new classifier/criteria column, taking arguements from your column names. `values_to` takes values from those columns and creates a new column of values classfied by the factors created by `names_to`.\n",
    "\n",
    "<img src=\"pivot_longer.png\" width=\"700px\">\n",
    "\n",
    "Let's use `pivot_longer` to transform `data_wide` back into `data_filtered`.\n",
    "\n",
    "<br>\n",
    "<div class=\"use_editor\"></div>"
   ]
  },
  {
   "cell_type": "code",
   "execution_count": 91,
   "metadata": {},
   "outputs": [],
   "source": [
    "# Example of pivot_wide\n",
    "data_long <- data_wide %>%\n",
    "    pivot_longer(names_to = \"Species\",\n",
    "                 values_to = \"Photosynthesis\",\n",
    "                 values_drop_na = TRUE,\n",
    "                 !`Sample type`:Date) "
   ]
  },
  {
   "cell_type": "markdown",
   "metadata": {},
   "source": [
    "Let't take alook:\n",
    "\n",
    "<br>\n",
    "<div class=\"use_console\"></div>"
   ]
  },
  {
   "cell_type": "code",
   "execution_count": 92,
   "metadata": {
    "scrolled": true
   },
   "outputs": [
    {
     "data": {
      "text/html": [
       "<table class=\"dataframe\">\n",
       "<caption>A tibble: 4 × 4</caption>\n",
       "<thead>\n",
       "\t<tr><th scope=col>Sample type</th><th scope=col>Date</th><th scope=col>Species</th><th scope=col>Photosynthesis</th></tr>\n",
       "\t<tr><th scope=col>&lt;chr&gt;</th><th scope=col>&lt;chr&gt;</th><th scope=col>&lt;chr&gt;</th><th scope=col>&lt;dbl&gt;</th></tr>\n",
       "</thead>\n",
       "<tbody>\n",
       "\t<tr><td>1DroughtControl1 </td><td>6/21/2018</td><td>Control</td><td>0.7101345</td></tr>\n",
       "\t<tr><td>1DroughtControl1 </td><td>6/8/2018 </td><td>Control</td><td>1.5643579</td></tr>\n",
       "\t<tr><td>1DroughtControl10</td><td>6/12/2018</td><td>Control</td><td>0.3439647</td></tr>\n",
       "\t<tr><td>1DroughtControl10</td><td>7/4/2018 </td><td>Control</td><td>0.4086491</td></tr>\n",
       "</tbody>\n",
       "</table>\n"
      ],
      "text/latex": [
       "A tibble: 4 × 4\n",
       "\\begin{tabular}{llll}\n",
       " Sample type & Date & Species & Photosynthesis\\\\\n",
       " <chr> & <chr> & <chr> & <dbl>\\\\\n",
       "\\hline\n",
       "\t 1DroughtControl1  & 6/21/2018 & Control & 0.7101345\\\\\n",
       "\t 1DroughtControl1  & 6/8/2018  & Control & 1.5643579\\\\\n",
       "\t 1DroughtControl10 & 6/12/2018 & Control & 0.3439647\\\\\n",
       "\t 1DroughtControl10 & 7/4/2018  & Control & 0.4086491\\\\\n",
       "\\end{tabular}\n"
      ],
      "text/markdown": [
       "\n",
       "A tibble: 4 × 4\n",
       "\n",
       "| Sample type &lt;chr&gt; | Date &lt;chr&gt; | Species &lt;chr&gt; | Photosynthesis &lt;dbl&gt; |\n",
       "|---|---|---|---|\n",
       "| 1DroughtControl1  | 6/21/2018 | Control | 0.7101345 |\n",
       "| 1DroughtControl1  | 6/8/2018  | Control | 1.5643579 |\n",
       "| 1DroughtControl10 | 6/12/2018 | Control | 0.3439647 |\n",
       "| 1DroughtControl10 | 7/4/2018  | Control | 0.4086491 |\n",
       "\n"
      ],
      "text/plain": [
       "  Sample type       Date      Species Photosynthesis\n",
       "1 1DroughtControl1  6/21/2018 Control 0.7101345     \n",
       "2 1DroughtControl1  6/8/2018  Control 1.5643579     \n",
       "3 1DroughtControl10 6/12/2018 Control 0.3439647     \n",
       "4 1DroughtControl10 7/4/2018  Control 0.4086491     "
      ]
     },
     "metadata": {},
     "output_type": "display_data"
    }
   ],
   "source": [
    "data_long %>% \n",
    "    head(4)"
   ]
  },
  {
   "cell_type": "markdown",
   "metadata": {},
   "source": [
    "<br>\n",
    "<div class=\"use_console\"></div>"
   ]
  },
  {
   "cell_type": "code",
   "execution_count": 93,
   "metadata": {},
   "outputs": [
    {
     "name": "stdout",
     "output_type": "stream",
     "text": [
      "tibble [73 x 4] (S3: tbl_df/tbl/data.frame)\n",
      " $ Sample type   : chr [1:73] \"1DroughtControl1\" \"1DroughtControl1\" \"1DroughtControl10\" \"1DroughtControl10\" ...\n",
      " $ Date          : chr [1:73] \"6/21/2018\" \"6/8/2018\" \"6/12/2018\" \"7/4/2018\" ...\n",
      " $ Species       : chr [1:73] \"Control\" \"Control\" \"Control\" \"Control\" ...\n",
      " $ Photosynthesis: num [1:73] 0.7101 1.5644 0.344 0.4086 0.0945 ...\n"
     ]
    }
   ],
   "source": [
    "str(data_long)"
   ]
  },
  {
   "cell_type": "markdown",
   "metadata": {},
   "source": [
    "We have bassically created a column for values called `Photosynthesis` and a classifier/parameter column called `Species`. Let's try and plot Photosynthesis for all three species by date again.\n",
    "\n",
    "<br>\n",
    "<div class=\"use_editor\"></div>"
   ]
  },
  {
   "cell_type": "code",
   "execution_count": 94,
   "metadata": {},
   "outputs": [
    {
     "data": {
      "image/png": "[encoded data removed]",
      "text/plain": [
       "plot without title"
      ]
     },
     "metadata": {
      "image/png": {
       "height": 500,
       "width": 875
      }
     },
     "output_type": "display_data"
    }
   ],
   "source": [
    "ggplot(data_long,\n",
    "    aes(x = Date, y = Photosynthesis, fill = factor(Species))) +\n",
    "    geom_boxplot() +\n",
    "    theme_classic() +\n",
    "    theme(axis.text.x = element_text(angle = 90))"
   ]
  },
  {
   "cell_type": "markdown",
   "metadata": {},
   "source": [
    "We got a similar graphical result with less lines of code! Long format is great when you need to plot data with multiple factor levels. "
   ]
  },
  {
   "cell_type": "markdown",
   "metadata": {},
   "source": [
    "<div class=\"Q\"><br><br>\n",
    "\n",
    "How many rows does <b>data_long</b> have?\n",
    "\n",
    "\n",
    "<br><br><div class=\"qhelp\"></div></div>"
   ]
  },
  {
   "cell_type": "markdown",
   "metadata": {},
   "source": [
    "<div class=\"Q\"><br><br>\n",
    "\n",
    "TRUE or FALSE: <b>data_wide</b> and <b>data_long</b> have the same number of nobservations because <b>pivot_wider</b> fills missing observations with NA?\n",
    "\n",
    "\n",
    "<br><br><div class=\"qhelp\"></div></div>"
   ]
  },
  {
   "cell_type": "markdown",
   "metadata": {},
   "source": [
    "_______________________________________________________________________________________________\n",
    "\n",
    "# Mutate\n",
    "\n",
    "We can use `mutate()` to create new columns based on the values in existing columns, for example to do unit conversions, or to find the ratio of values in two columns.\n",
    "\n",
    "For example, we can convert Photosynthesis oxygen measurements from mg/L to ug/L by creating a new column called `Photosynthesis_ppb`\n",
    "\n",
    "<img src=\"mutate.png\" width=\"700px\">\n",
    "\n",
    "<br>\n",
    "<br>\n",
    "<div class=\"use_editor\"></div>"
   ]
  },
  {
   "cell_type": "code",
   "execution_count": 95,
   "metadata": {},
   "outputs": [],
   "source": [
    "# Example of mutate\n",
    "unit_conversion <- data_filtered %>%\n",
    "    mutate(Photosynthesis_ppb = Photosynthesis * 1000) %>% \n",
    "    select(`Sample type`, Photosynthesis, Photosynthesis_ppb) "
   ]
  },
  {
   "cell_type": "markdown",
   "metadata": {},
   "source": [
    "Let's take a look at `unit_conversion`:\n",
    "\n",
    "<br>\n",
    "<div class=\"use_console\"></div>"
   ]
  },
  {
   "cell_type": "code",
   "execution_count": 96,
   "metadata": {},
   "outputs": [
    {
     "data": {
      "text/html": [
       "<table class=\"dataframe\">\n",
       "<caption>A data.frame: 4 × 3</caption>\n",
       "<thead>\n",
       "\t<tr><th></th><th scope=col>Sample type</th><th scope=col>Photosynthesis</th><th scope=col>Photosynthesis_ppb</th></tr>\n",
       "\t<tr><th></th><th scope=col>&lt;chr&gt;</th><th scope=col>&lt;dbl&gt;</th><th scope=col>&lt;dbl&gt;</th></tr>\n",
       "</thead>\n",
       "<tbody>\n",
       "\t<tr><th scope=row>1</th><td>1DroughtControl1</td><td>0.7101345</td><td> 710.1345</td></tr>\n",
       "\t<tr><th scope=row>2</th><td>1DroughtControl1</td><td>3.0909224</td><td>3090.9224</td></tr>\n",
       "\t<tr><th scope=row>3</th><td>1DroughtControl1</td><td>2.8754158</td><td>2875.4158</td></tr>\n",
       "\t<tr><th scope=row>4</th><td>1DroughtControl1</td><td>2.8534106</td><td>2853.4106</td></tr>\n",
       "</tbody>\n",
       "</table>\n"
      ],
      "text/latex": [
       "A data.frame: 4 × 3\n",
       "\\begin{tabular}{r|lll}\n",
       "  & Sample type & Photosynthesis & Photosynthesis\\_ppb\\\\\n",
       "  & <chr> & <dbl> & <dbl>\\\\\n",
       "\\hline\n",
       "\t1 & 1DroughtControl1 & 0.7101345 &  710.1345\\\\\n",
       "\t2 & 1DroughtControl1 & 3.0909224 & 3090.9224\\\\\n",
       "\t3 & 1DroughtControl1 & 2.8754158 & 2875.4158\\\\\n",
       "\t4 & 1DroughtControl1 & 2.8534106 & 2853.4106\\\\\n",
       "\\end{tabular}\n"
      ],
      "text/markdown": [
       "\n",
       "A data.frame: 4 × 3\n",
       "\n",
       "| <!--/--> | Sample type &lt;chr&gt; | Photosynthesis &lt;dbl&gt; | Photosynthesis_ppb &lt;dbl&gt; |\n",
       "|---|---|---|---|\n",
       "| 1 | 1DroughtControl1 | 0.7101345 |  710.1345 |\n",
       "| 2 | 1DroughtControl1 | 3.0909224 | 3090.9224 |\n",
       "| 3 | 1DroughtControl1 | 2.8754158 | 2875.4158 |\n",
       "| 4 | 1DroughtControl1 | 2.8534106 | 2853.4106 |\n",
       "\n"
      ],
      "text/plain": [
       "  Sample type      Photosynthesis Photosynthesis_ppb\n",
       "1 1DroughtControl1 0.7101345       710.1345         \n",
       "2 1DroughtControl1 3.0909224      3090.9224         \n",
       "3 1DroughtControl1 2.8754158      2875.4158         \n",
       "4 1DroughtControl1 2.8534106      2853.4106         "
      ]
     },
     "metadata": {},
     "output_type": "display_data"
    }
   ],
   "source": [
    "unit_conversion %>% \n",
    "    head(4)"
   ]
  },
  {
   "cell_type": "markdown",
   "metadata": {},
   "source": [
    "Then,\n",
    "\n",
    "<br>\n",
    "<div class=\"use_console\"></div>"
   ]
  },
  {
   "cell_type": "code",
   "execution_count": 97,
   "metadata": {},
   "outputs": [
    {
     "name": "stdout",
     "output_type": "stream",
     "text": [
      "'data.frame':\t1640 obs. of  3 variables:\n",
      " $ Sample type       : chr  \"1DroughtControl1\" \"1DroughtControl1\" \"1DroughtControl1\" \"1DroughtControl1\" ...\n",
      " $ Photosynthesis    : num  0.71 3.09 2.88 2.85 2.93 ...\n",
      " $ Photosynthesis_ppb: num  710 3091 2875 2853 2927 ...\n"
     ]
    }
   ],
   "source": [
    "str(unit_conversion)"
   ]
  },
  {
   "cell_type": "markdown",
   "metadata": {},
   "source": [
    "Let's make a plot to make sure it worked. That is, that the relationship between `Photosynthesis` and `Photosynthesis_ppb` is linear and with a slope of 1000:\n",
    "\n",
    "<br>\n",
    "<div class=\"use_editor\"></div>"
   ]
  },
  {
   "cell_type": "code",
   "execution_count": 98,
   "metadata": {},
   "outputs": [
    {
     "data": {
      "image/png": "[encoded data removed]",
      "text/plain": [
       "plot without title"
      ]
     },
     "metadata": {
      "image/png": {
       "height": 500,
       "width": 875
      }
     },
     "output_type": "display_data"
    }
   ],
   "source": [
    "# PLot of unit_conversion\n",
    "unit_conversion %>% \n",
    "    ggplot(aes(x = Photosynthesis, y = Photosynthesis_ppb)) +\n",
    "    geom_point() +\n",
    "    theme_classic()"
   ]
  },
  {
   "cell_type": "markdown",
   "metadata": {},
   "source": [
    "Let's see some summary statistics:\n",
    "\n",
    "<br>\n",
    "<div class=\"use_console\"></div>"
   ]
  },
  {
   "cell_type": "code",
   "execution_count": 160,
   "metadata": {},
   "outputs": [
    {
     "data": {
      "text/plain": [
       "                         Sample type   Photosynthesis    Photosynthesis_ppb\n",
       " 1WetControl4                  :  36   Min.   :-7.0274   Min.   :-7027.4   \n",
       " 1DroughtIndigenous Pathogen 1 :  33   1st Qu.: 0.4305   1st Qu.:  430.5   \n",
       " 1WetExotic Pathogen 6         :  33   Median : 2.5453   Median : 2545.3   \n",
       " 1WetIndigenous Pathogen 10    :  33   Mean   : 3.7214   Mean   : 3721.4   \n",
       " 1WetIndigenous Pathogen 7     :  32   3rd Qu.: 6.7877   3rd Qu.: 6787.7   \n",
       " 2DroughtIndigenous Pathogen 10:  32   Max.   :14.6453   Max.   :14645.3   \n",
       " (Other)                       :1441                                       "
      ]
     },
     "metadata": {},
     "output_type": "display_data"
    }
   ],
   "source": [
    "summary(unit_conversion)"
   ]
  },
  {
   "cell_type": "markdown",
   "metadata": {},
   "source": [
    "Notice that summary statistics after the mutation are 1000 times the original."
   ]
  },
  {
   "cell_type": "markdown",
   "metadata": {},
   "source": [
    "We can also use mutate to change variable level names.\n",
    "\n",
    "First, let's check original levels:\n",
    "\n",
    "<br>\n",
    "<div class=\"use_console\"></div>"
   ]
  },
  {
   "cell_type": "code",
   "execution_count": 99,
   "metadata": {},
   "outputs": [
    {
     "data": {
      "text/plain": [
       "NULL"
      ]
     },
     "metadata": {},
     "output_type": "display_data"
    }
   ],
   "source": [
    "levels(unit_conversion$Species)"
   ]
  },
  {
   "cell_type": "markdown",
   "metadata": {},
   "source": [
    "Now, let's create a new `change_lables` with new variable names:\n",
    "\n",
    "\n",
    "<br>\n",
    "<div class=\"use_editor\"></div>\n",
    "\n"
   ]
  },
  {
   "cell_type": "code",
   "execution_count": 100,
   "metadata": {},
   "outputs": [],
   "source": [
    "# Change variable names\n",
    "change_lables <- data_filtered %>%\n",
    "    mutate(Species = factor(Species,\n",
    "                         levels = c(\"Control\", \"Exotic Pathogen\",\"Indigenous Pathogen\"),\n",
    "                         labels = c(\"Control\", \"P.Cinnamomi\", \"P.Multivora\")))"
   ]
  },
  {
   "cell_type": "markdown",
   "metadata": {},
   "source": [
    "Let's check levels again:\n",
    "\n",
    "<br>\n",
    "<div class=\"use_console\"></div>"
   ]
  },
  {
   "cell_type": "code",
   "execution_count": 101,
   "metadata": {},
   "outputs": [
    {
     "data": {
      "text/html": [
       "<style>\n",
       ".list-inline {list-style: none; margin:0; padding: 0}\n",
       ".list-inline>li {display: inline-block}\n",
       ".list-inline>li:not(:last-child)::after {content: \"\\00b7\"; padding: 0 .5ex}\n",
       "</style>\n",
       "<ol class=list-inline><li>'Control'</li><li>'P.Cinnamomi'</li><li>'P.Multivora'</li></ol>\n"
      ],
      "text/latex": [
       "\\begin{enumerate*}\n",
       "\\item 'Control'\n",
       "\\item 'P.Cinnamomi'\n",
       "\\item 'P.Multivora'\n",
       "\\end{enumerate*}\n"
      ],
      "text/markdown": [
       "1. 'Control'\n",
       "2. 'P.Cinnamomi'\n",
       "3. 'P.Multivora'\n",
       "\n",
       "\n"
      ],
      "text/plain": [
       "[1] \"Control\"     \"P.Cinnamomi\" \"P.Multivora\""
      ]
     },
     "metadata": {},
     "output_type": "display_data"
    }
   ],
   "source": [
    "levels(change_lables$Species)"
   ]
  },
  {
   "cell_type": "markdown",
   "metadata": {},
   "source": [
    "We can also use `mutate()` to change variable types. Here, we will convert some variables from character to factors:\n",
    "\n",
    "<br>\n",
    "<div class=\"use_editor\"></div>"
   ]
  },
  {
   "cell_type": "code",
   "execution_count": 102,
   "metadata": {},
   "outputs": [],
   "source": [
    "# Example of use of mutate to change variable types\n",
    "data_filtered <- data_filtered %>% \n",
    "    mutate(`Sample type` = factor(`Sample type`),\n",
    "          Trial = factor(Trial),\n",
    "          Treatment = factor(Treatment),\n",
    "          Species = factor(Species),\n",
    "          `Days after inoculation` = factor(`Days after inoculation`))"
   ]
  },
  {
   "cell_type": "markdown",
   "metadata": {},
   "source": [
    "We can use the function `sapply()` to see the column variable classes:\n",
    "\n",
    "<br>\n",
    "<div class=\"use_console\"></div>"
   ]
  },
  {
   "cell_type": "code",
   "execution_count": 103,
   "metadata": {},
   "outputs": [
    {
     "data": {
      "text/html": [
       "<style>\n",
       ".dl-inline {width: auto; margin:0; padding: 0}\n",
       ".dl-inline>dt, .dl-inline>dd {float: none; width: auto; display: inline-block}\n",
       ".dl-inline>dt::after {content: \":\\0020\"; padding-right: .5ex}\n",
       ".dl-inline>dt:not(:first-of-type) {padding-left: .5ex}\n",
       "</style><dl class=dl-inline><dt>Sample type</dt><dd>'factor'</dd><dt>Days after inoculation</dt><dd>'factor'</dd><dt>Date</dt><dd>'character'</dd><dt>Licor</dt><dd>'numeric'</dd><dt>Trial</dt><dd>'factor'</dd><dt>Treatment</dt><dd>'factor'</dd><dt>Species</dt><dd>'factor'</dd><dt>Plant Number</dt><dd>'numeric'</dd><dt>Isolate Number</dt><dd>'numeric'</dd><dt>Unique Sample Number</dt><dd>'numeric'</dd><dt>Obs</dt><dd>'numeric'</dd><dt>Photosynthesis</dt><dd>'numeric'</dd><dt>Conductance</dt><dd>'numeric'</dd><dt>Ci</dt><dd>'numeric'</dd></dl>\n"
      ],
      "text/latex": [
       "\\begin{description*}\n",
       "\\item[Sample type] 'factor'\n",
       "\\item[Days after inoculation] 'factor'\n",
       "\\item[Date] 'character'\n",
       "\\item[Licor] 'numeric'\n",
       "\\item[Trial] 'factor'\n",
       "\\item[Treatment] 'factor'\n",
       "\\item[Species] 'factor'\n",
       "\\item[Plant Number] 'numeric'\n",
       "\\item[Isolate Number] 'numeric'\n",
       "\\item[Unique Sample Number] 'numeric'\n",
       "\\item[Obs] 'numeric'\n",
       "\\item[Photosynthesis] 'numeric'\n",
       "\\item[Conductance] 'numeric'\n",
       "\\item[Ci] 'numeric'\n",
       "\\end{description*}\n"
      ],
      "text/markdown": [
       "Sample type\n",
       ":   'factor'Days after inoculation\n",
       ":   'factor'Date\n",
       ":   'character'Licor\n",
       ":   'numeric'Trial\n",
       ":   'factor'Treatment\n",
       ":   'factor'Species\n",
       ":   'factor'Plant Number\n",
       ":   'numeric'Isolate Number\n",
       ":   'numeric'Unique Sample Number\n",
       ":   'numeric'Obs\n",
       ":   'numeric'Photosynthesis\n",
       ":   'numeric'Conductance\n",
       ":   'numeric'Ci\n",
       ":   'numeric'\n",
       "\n"
      ],
      "text/plain": [
       "           Sample type Days after inoculation                   Date \n",
       "              \"factor\"               \"factor\"            \"character\" \n",
       "                 Licor                  Trial              Treatment \n",
       "             \"numeric\"               \"factor\"               \"factor\" \n",
       "               Species           Plant Number         Isolate Number \n",
       "              \"factor\"              \"numeric\"              \"numeric\" \n",
       "  Unique Sample Number                    Obs         Photosynthesis \n",
       "             \"numeric\"              \"numeric\"              \"numeric\" \n",
       "           Conductance                     Ci \n",
       "             \"numeric\"              \"numeric\" "
      ]
     },
     "metadata": {},
     "output_type": "display_data"
    }
   ],
   "source": [
    "sapply(data_filtered,class)"
   ]
  },
  {
   "cell_type": "markdown",
   "metadata": {},
   "source": [
    "<br><br><br>\n",
    "<div class=\"startTASK\"></div>\n",
    "\n",
    "In fox_data, create a new column called 'Consumption' which will contain values of avfood divided by weight\n",
    "i.e Consumption =avfood/weight\n",
    "\n",
    "<div class=\"endTASK\"></div>\n",
    "<br><br><br>"
   ]
  },
  {
   "cell_type": "markdown",
   "metadata": {},
   "source": [
    "<div class=\"Q\"><br><br>\n",
    "\n",
    "What is the mean Consumption?\n",
    "\n",
    "    \n",
    "<br><br><div class=\"qhelp\"></div></div>"
   ]
  },
  {
   "cell_type": "markdown",
   "metadata": {},
   "source": [
    "_______________________________________________________________________________________________\n",
    "\n",
    "# group_by() and summarize() functions\n",
    "\n",
    "Many data analysis tasks can be approached using the split-apply-combine paradigm: \n",
    "\n",
    "1. split the data into groups \n",
    "1. apply some analysis to each group\n",
    "1. combine the results. \n",
    "\n",
    "`dplyr` makes this very easy through the use of the `group_by()` function. `group_by()` takes an existing data frame and converts it into a \"grouped\" data frame where operations are performed \"by group\".\n",
    "\n",
    "\n",
    "`group_by()` is often used together with `summarize()`, which collapses each group into a single-row summary of that group. `group_by()` takes as arguments the column names that contain the categorical variables for which you want to calculate the summary statistics. \n",
    "\n",
    "<img src=\"groupbysummarize.png\" width=\"800px\">\n",
    "\n",
    "In the example below, we compute the mean and standard deviation of Photosynthesis measurements by Treatment.\n",
    "\n",
    "<br>\n",
    "<div class=\"use_editor\"></div>"
   ]
  },
  {
   "cell_type": "code",
   "execution_count": 104,
   "metadata": {},
   "outputs": [
    {
     "data": {
      "text/html": [
       "<table class=\"dataframe\">\n",
       "<caption>A tibble: 2 × 3</caption>\n",
       "<thead>\n",
       "\t<tr><th></th><th scope=col>Treatment</th><th scope=col>average</th><th scope=col>dev</th></tr>\n",
       "\t<tr><th></th><th scope=col>&lt;fct&gt;</th><th scope=col>&lt;dbl&gt;</th><th scope=col>&lt;dbl&gt;</th></tr>\n",
       "</thead>\n",
       "<tbody>\n",
       "\t<tr><th scope=row>1</th><td>Drought</td><td>1.232575</td><td>2.488081</td></tr>\n",
       "\t<tr><th scope=row>2</th><td>Wet    </td><td>5.918684</td><td>3.682469</td></tr>\n",
       "</tbody>\n",
       "</table>\n"
      ],
      "text/latex": [
       "A tibble: 2 × 3\n",
       "\\begin{tabular}{r|lll}\n",
       "  & Treatment & average & dev\\\\\n",
       "  & <fct> & <dbl> & <dbl>\\\\\n",
       "\\hline\n",
       "\t1 & Drought & 1.232575 & 2.488081\\\\\n",
       "\t2 & Wet     & 5.918684 & 3.682469\\\\\n",
       "\\end{tabular}\n"
      ],
      "text/markdown": [
       "\n",
       "A tibble: 2 × 3\n",
       "\n",
       "| <!--/--> | Treatment &lt;fct&gt; | average &lt;dbl&gt; | dev &lt;dbl&gt; |\n",
       "|---|---|---|---|\n",
       "| 1 | Drought | 1.232575 | 2.488081 |\n",
       "| 2 | Wet     | 5.918684 | 3.682469 |\n",
       "\n"
      ],
      "text/plain": [
       "  Treatment average  dev     \n",
       "1 Drought   1.232575 2.488081\n",
       "2 Wet       5.918684 3.682469"
      ]
     },
     "metadata": {},
     "output_type": "display_data"
    }
   ],
   "source": [
    "# Example of group_by + summarize\n",
    "data_filtered %>% \n",
    "    group_by(Treatment) %>% \n",
    "    summarize(average=mean(Photosynthesis),\n",
    "            dev=sd(Photosynthesis))"
   ]
  },
  {
   "cell_type": "markdown",
   "metadata": {},
   "source": [
    "<div class=\"Q\"><br><br>\n",
    "\n",
    "What would the code inside the summarise function look like if we wanted to get the mean of Conductance?\n",
    "\n",
    "    \n",
    "<br><br><div class=\"qhelp\"></div></div>"
   ]
  },
  {
   "cell_type": "markdown",
   "metadata": {},
   "source": [
    "Let's take a look at our data graphically. We notice that the solid horizontal lines representing our average Wet and Drought values don't line up with the boxplot median. This indicates that our data might not be normally distributed. We may want to use the `median()` function to find the midpoint of the data instead.\n",
    "\n",
    "<br>\n",
    "<div class=\"use_editor\"></div>"
   ]
  },
  {
   "cell_type": "code",
   "execution_count": 105,
   "metadata": {},
   "outputs": [
    {
     "data": {
      "image/png": "[encoded data removed]",
      "text/plain": [
       "plot without title"
      ]
     },
     "metadata": {
      "image/png": {
       "height": 500,
       "width": 875
      }
     },
     "output_type": "display_data"
    }
   ],
   "source": [
    "# Plot using group_by\n",
    "data_filtered %>% \n",
    "    group_by(Treatment) %>% \n",
    "    ggplot() +\n",
    "    geom_boxplot(aes(x = Treatment, y = Photosynthesis, fill = Treatment)) +\n",
    "    geom_hline(aes(yintercept = 1.232575), color = \"red\") +\n",
    "    annotate(\"text\", x = 0.7, y = 3,label =\"Drought average = 1.23\", size = 3, fontface = 2, color = \"red\") +\n",
    "    geom_hline(aes(yintercept = 5.918684), color = \"blue\") +\n",
    "    annotate(\"text\", x = 1.4, y = 7,label = \"Wet average = 5.92\", size = 3, fontface = 2, color = \"blue\") +\n",
    "    theme_classic() +\n",
    "    guides(fill = FALSE)"
   ]
  },
  {
   "cell_type": "markdown",
   "metadata": {},
   "source": [
    "We can also group by mutliple columns.\n",
    "\n",
    "<br>\n",
    "<div class=\"use_editor\"></div>"
   ]
  },
  {
   "cell_type": "code",
   "execution_count": 106,
   "metadata": {
    "scrolled": true
   },
   "outputs": [
    {
     "name": "stderr",
     "output_type": "stream",
     "text": [
      "`summarise()` has grouped output by 'Treatment'. You can override using the `.groups` argument.\n",
      "\n"
     ]
    },
    {
     "data": {
      "text/html": [
       "<table class=\"dataframe\">\n",
       "<caption>A grouped_df: 6 × 3</caption>\n",
       "<thead>\n",
       "\t<tr><th scope=col>Treatment</th><th scope=col>Species</th><th scope=col>median</th></tr>\n",
       "\t<tr><th scope=col>&lt;fct&gt;</th><th scope=col>&lt;fct&gt;</th><th scope=col>&lt;dbl&gt;</th></tr>\n",
       "</thead>\n",
       "<tbody>\n",
       "\t<tr><td>Drought</td><td>Control            </td><td>1.0502198</td></tr>\n",
       "\t<tr><td>Drought</td><td>Exotic Pathogen    </td><td>1.0440030</td></tr>\n",
       "\t<tr><td>Drought</td><td>Indigenous Pathogen</td><td>0.3459798</td></tr>\n",
       "\t<tr><td>Wet    </td><td>Control            </td><td>6.2841864</td></tr>\n",
       "\t<tr><td>Wet    </td><td>Exotic Pathogen    </td><td>4.7105453</td></tr>\n",
       "\t<tr><td>Wet    </td><td>Indigenous Pathogen</td><td>7.2282008</td></tr>\n",
       "</tbody>\n",
       "</table>\n"
      ],
      "text/latex": [
       "A grouped\\_df: 6 × 3\n",
       "\\begin{tabular}{lll}\n",
       " Treatment & Species & median\\\\\n",
       " <fct> & <fct> & <dbl>\\\\\n",
       "\\hline\n",
       "\t Drought & Control             & 1.0502198\\\\\n",
       "\t Drought & Exotic Pathogen     & 1.0440030\\\\\n",
       "\t Drought & Indigenous Pathogen & 0.3459798\\\\\n",
       "\t Wet     & Control             & 6.2841864\\\\\n",
       "\t Wet     & Exotic Pathogen     & 4.7105453\\\\\n",
       "\t Wet     & Indigenous Pathogen & 7.2282008\\\\\n",
       "\\end{tabular}\n"
      ],
      "text/markdown": [
       "\n",
       "A grouped_df: 6 × 3\n",
       "\n",
       "| Treatment &lt;fct&gt; | Species &lt;fct&gt; | median &lt;dbl&gt; |\n",
       "|---|---|---|\n",
       "| Drought | Control             | 1.0502198 |\n",
       "| Drought | Exotic Pathogen     | 1.0440030 |\n",
       "| Drought | Indigenous Pathogen | 0.3459798 |\n",
       "| Wet     | Control             | 6.2841864 |\n",
       "| Wet     | Exotic Pathogen     | 4.7105453 |\n",
       "| Wet     | Indigenous Pathogen | 7.2282008 |\n",
       "\n"
      ],
      "text/plain": [
       "  Treatment Species             median   \n",
       "1 Drought   Control             1.0502198\n",
       "2 Drought   Exotic Pathogen     1.0440030\n",
       "3 Drought   Indigenous Pathogen 0.3459798\n",
       "4 Wet       Control             6.2841864\n",
       "5 Wet       Exotic Pathogen     4.7105453\n",
       "6 Wet       Indigenous Pathogen 7.2282008"
      ]
     },
     "metadata": {},
     "output_type": "display_data"
    }
   ],
   "source": [
    "# Example of group_by + summarize (multiple columns)\n",
    "data_filtered %>% \n",
    "    group_by(Treatment, Species) %>% \n",
    "    summarize(median = median(Photosynthesis))"
   ]
  },
  {
   "cell_type": "markdown",
   "metadata": {},
   "source": [
    "<br>\n",
    "<div class=\"use_editor\"></div>"
   ]
  },
  {
   "cell_type": "code",
   "execution_count": 107,
   "metadata": {},
   "outputs": [
    {
     "data": {
      "image/png": "[encoded data removed]",
      "text/plain": [
       "plot without title"
      ]
     },
     "metadata": {
      "image/png": {
       "height": 500,
       "width": 875
      }
     },
     "output_type": "display_data"
    }
   ],
   "source": [
    "# Plot using group_by (multiple columns)\n",
    "data_filtered %>% \n",
    "    group_by(Treatment, Species) %>%  \n",
    "    ggplot(aes(x = Species, y = Photosynthesis)) +\n",
    "    geom_boxplot(aes(fill = Species)) +\n",
    "    labs(x = \"\") +\n",
    "    theme_classic() +\n",
    "    theme(axis.text.x = element_text(size = 8),\n",
    "         legend.position = \"bottom\") + \n",
    "    facet_wrap(~Treatment) # separates plots by Treatment"
   ]
  },
  {
   "cell_type": "markdown",
   "metadata": {},
   "source": [
    "<div class=\"Q\"><br><br>\n",
    "\n",
    "What would the code inside the group_by function look like if we wanted to group by both Date, Treatment and Species?\n",
    "\n",
    "    \n",
    "<br><br><div class=\"qhelp\"></div></div>"
   ]
  },
  {
   "cell_type": "markdown",
   "metadata": {},
   "source": [
    "We can also arrange the values in order of \"median photosysthesis\" using the `arrange()` function. To sort in descending order, we need to add the `desc()` function.\n",
    "\n",
    "<br>\n",
    "<div class=\"use_editor\"></div>"
   ]
  },
  {
   "cell_type": "code",
   "execution_count": 108,
   "metadata": {},
   "outputs": [
    {
     "name": "stderr",
     "output_type": "stream",
     "text": [
      "`summarise()` has grouped output by 'Treatment'. You can override using the `.groups` argument.\n",
      "\n"
     ]
    },
    {
     "data": {
      "text/html": [
       "<table class=\"dataframe\">\n",
       "<caption>A grouped_df: 6 × 3</caption>\n",
       "<thead>\n",
       "\t<tr><th scope=col>Treatment</th><th scope=col>Species</th><th scope=col>median</th></tr>\n",
       "\t<tr><th scope=col>&lt;fct&gt;</th><th scope=col>&lt;fct&gt;</th><th scope=col>&lt;dbl&gt;</th></tr>\n",
       "</thead>\n",
       "<tbody>\n",
       "\t<tr><td>Wet    </td><td>Indigenous Pathogen</td><td>7.2282008</td></tr>\n",
       "\t<tr><td>Wet    </td><td>Control            </td><td>6.2841864</td></tr>\n",
       "\t<tr><td>Wet    </td><td>Exotic Pathogen    </td><td>4.7105453</td></tr>\n",
       "\t<tr><td>Drought</td><td>Control            </td><td>1.0502198</td></tr>\n",
       "\t<tr><td>Drought</td><td>Exotic Pathogen    </td><td>1.0440030</td></tr>\n",
       "\t<tr><td>Drought</td><td>Indigenous Pathogen</td><td>0.3459798</td></tr>\n",
       "</tbody>\n",
       "</table>\n"
      ],
      "text/latex": [
       "A grouped\\_df: 6 × 3\n",
       "\\begin{tabular}{lll}\n",
       " Treatment & Species & median\\\\\n",
       " <fct> & <fct> & <dbl>\\\\\n",
       "\\hline\n",
       "\t Wet     & Indigenous Pathogen & 7.2282008\\\\\n",
       "\t Wet     & Control             & 6.2841864\\\\\n",
       "\t Wet     & Exotic Pathogen     & 4.7105453\\\\\n",
       "\t Drought & Control             & 1.0502198\\\\\n",
       "\t Drought & Exotic Pathogen     & 1.0440030\\\\\n",
       "\t Drought & Indigenous Pathogen & 0.3459798\\\\\n",
       "\\end{tabular}\n"
      ],
      "text/markdown": [
       "\n",
       "A grouped_df: 6 × 3\n",
       "\n",
       "| Treatment &lt;fct&gt; | Species &lt;fct&gt; | median &lt;dbl&gt; |\n",
       "|---|---|---|\n",
       "| Wet     | Indigenous Pathogen | 7.2282008 |\n",
       "| Wet     | Control             | 6.2841864 |\n",
       "| Wet     | Exotic Pathogen     | 4.7105453 |\n",
       "| Drought | Control             | 1.0502198 |\n",
       "| Drought | Exotic Pathogen     | 1.0440030 |\n",
       "| Drought | Indigenous Pathogen | 0.3459798 |\n",
       "\n"
      ],
      "text/plain": [
       "  Treatment Species             median   \n",
       "1 Wet       Indigenous Pathogen 7.2282008\n",
       "2 Wet       Control             6.2841864\n",
       "3 Wet       Exotic Pathogen     4.7105453\n",
       "4 Drought   Control             1.0502198\n",
       "5 Drought   Exotic Pathogen     1.0440030\n",
       "6 Drought   Indigenous Pathogen 0.3459798"
      ]
     },
     "metadata": {},
     "output_type": "display_data"
    }
   ],
   "source": [
    "# Example of group_by + summarize (arrange() by median Photosynthesis)\n",
    "data_filtered %>% \n",
    "    group_by(Treatment, Species) %>% \n",
    "    summarize(median = median(Photosynthesis)) %>%\n",
    "    arrange(desc(median))"
   ]
  },
  {
   "cell_type": "markdown",
   "metadata": {},
   "source": [
    "Here is a table of some useful functions you can use with `summarize`. \n",
    "\n",
    "<img src=\"datasummaryfunction.png\" width=\"500px\">\n"
   ]
  },
  {
   "cell_type": "markdown",
   "metadata": {},
   "source": [
    "<div class=\"Q\"><br><br>\n",
    "\n",
    "Using the help section, what would your arrange function code look like to arrange median in ascending order?\n",
    "\n",
    "    \n",
    "<br><br><div class=\"qhelp\"></div></div>"
   ]
  },
  {
   "cell_type": "markdown",
   "metadata": {},
   "source": [
    "<br><br><br>\n",
    "<div class=\"startTASK\"></div>\n",
    "\n",
    "In `fox_data`, find the mean weight by sex of the fox population.\n",
    "\n",
    "\n",
    "<div class=\"endTASK\"></div>\n",
    "<br><br><br>"
   ]
  },
  {
   "cell_type": "markdown",
   "metadata": {},
   "source": [
    "<div class=\"Q\"><br><br>\n",
    "\n",
    "What is the mean weight of Male foxes?\n",
    "\n",
    "\n",
    "\n",
    "<br><br><div class=\"qhelp\"></div></div>"
   ]
  },
  {
   "cell_type": "markdown",
   "metadata": {},
   "source": [
    "_______________________________________________________________________________________________\n",
    "\n",
    "# Counting observations\n",
    "\n",
    "When working with data, we often want to know the number of observations found for each factor or combination of factors. For this task, `dplyr` provides `count()`. Let's summarise the number of measurements made for each plant on each day.\n",
    "\n",
    "<br>\n",
    "<div class=\"use_editor\"></div>"
   ]
  },
  {
   "cell_type": "code",
   "execution_count": 109,
   "metadata": {},
   "outputs": [
    {
     "data": {
      "text/html": [
       "<table class=\"dataframe\">\n",
       "<caption>A data.frame: 4 × 3</caption>\n",
       "<thead>\n",
       "\t<tr><th></th><th scope=col>Sample type</th><th scope=col>Days after inoculation</th><th scope=col>n</th></tr>\n",
       "\t<tr><th></th><th scope=col>&lt;fct&gt;</th><th scope=col>&lt;fct&gt;</th><th scope=col>&lt;int&gt;</th></tr>\n",
       "</thead>\n",
       "<tbody>\n",
       "\t<tr><th scope=row>1</th><td>1DroughtControl1 </td><td>9 </td><td>10</td></tr>\n",
       "\t<tr><th scope=row>2</th><td>1DroughtControl1 </td><td>22</td><td>13</td></tr>\n",
       "\t<tr><th scope=row>3</th><td>1DroughtControl10</td><td>13</td><td>10</td></tr>\n",
       "\t<tr><th scope=row>4</th><td>1DroughtControl10</td><td>35</td><td>10</td></tr>\n",
       "</tbody>\n",
       "</table>\n"
      ],
      "text/latex": [
       "A data.frame: 4 × 3\n",
       "\\begin{tabular}{r|lll}\n",
       "  & Sample type & Days after inoculation & n\\\\\n",
       "  & <fct> & <fct> & <int>\\\\\n",
       "\\hline\n",
       "\t1 & 1DroughtControl1  & 9  & 10\\\\\n",
       "\t2 & 1DroughtControl1  & 22 & 13\\\\\n",
       "\t3 & 1DroughtControl10 & 13 & 10\\\\\n",
       "\t4 & 1DroughtControl10 & 35 & 10\\\\\n",
       "\\end{tabular}\n"
      ],
      "text/markdown": [
       "\n",
       "A data.frame: 4 × 3\n",
       "\n",
       "| <!--/--> | Sample type &lt;fct&gt; | Days after inoculation &lt;fct&gt; | n &lt;int&gt; |\n",
       "|---|---|---|---|\n",
       "| 1 | 1DroughtControl1  | 9  | 10 |\n",
       "| 2 | 1DroughtControl1  | 22 | 13 |\n",
       "| 3 | 1DroughtControl10 | 13 | 10 |\n",
       "| 4 | 1DroughtControl10 | 35 | 10 |\n",
       "\n"
      ],
      "text/plain": [
       "  Sample type       Days after inoculation n \n",
       "1 1DroughtControl1  9                      10\n",
       "2 1DroughtControl1  22                     13\n",
       "3 1DroughtControl10 13                     10\n",
       "4 1DroughtControl10 35                     10"
      ]
     },
     "metadata": {},
     "output_type": "display_data"
    }
   ],
   "source": [
    "# Example of count\n",
    "data_filtered %>%\n",
    "    count(`Sample type`, `Days after inoculation`) %>% \n",
    "    head(4)"
   ]
  },
  {
   "cell_type": "markdown",
   "metadata": {},
   "source": [
    "We can also use `summarise()`,`n()` with `group_by()` to attain similar results.\n",
    "\n",
    "<br>\n",
    "<div class=\"use_editor\"></div>"
   ]
  },
  {
   "cell_type": "code",
   "execution_count": 110,
   "metadata": {},
   "outputs": [
    {
     "name": "stderr",
     "output_type": "stream",
     "text": [
      "`summarise()` has grouped output by 'Sample type'. You can override using the `.groups` argument.\n",
      "\n"
     ]
    },
    {
     "data": {
      "text/html": [
       "<table class=\"dataframe\">\n",
       "<caption>A grouped_df: 4 × 3</caption>\n",
       "<thead>\n",
       "\t<tr><th scope=col>Sample type</th><th scope=col>Days after inoculation</th><th scope=col>count</th></tr>\n",
       "\t<tr><th scope=col>&lt;fct&gt;</th><th scope=col>&lt;fct&gt;</th><th scope=col>&lt;int&gt;</th></tr>\n",
       "</thead>\n",
       "<tbody>\n",
       "\t<tr><td>1DroughtControl1 </td><td>9 </td><td>10</td></tr>\n",
       "\t<tr><td>1DroughtControl1 </td><td>22</td><td>13</td></tr>\n",
       "\t<tr><td>1DroughtControl10</td><td>13</td><td>10</td></tr>\n",
       "\t<tr><td>1DroughtControl10</td><td>35</td><td>10</td></tr>\n",
       "</tbody>\n",
       "</table>\n"
      ],
      "text/latex": [
       "A grouped\\_df: 4 × 3\n",
       "\\begin{tabular}{lll}\n",
       " Sample type & Days after inoculation & count\\\\\n",
       " <fct> & <fct> & <int>\\\\\n",
       "\\hline\n",
       "\t 1DroughtControl1  & 9  & 10\\\\\n",
       "\t 1DroughtControl1  & 22 & 13\\\\\n",
       "\t 1DroughtControl10 & 13 & 10\\\\\n",
       "\t 1DroughtControl10 & 35 & 10\\\\\n",
       "\\end{tabular}\n"
      ],
      "text/markdown": [
       "\n",
       "A grouped_df: 4 × 3\n",
       "\n",
       "| Sample type &lt;fct&gt; | Days after inoculation &lt;fct&gt; | count &lt;int&gt; |\n",
       "|---|---|---|\n",
       "| 1DroughtControl1  | 9  | 10 |\n",
       "| 1DroughtControl1  | 22 | 13 |\n",
       "| 1DroughtControl10 | 13 | 10 |\n",
       "| 1DroughtControl10 | 35 | 10 |\n",
       "\n"
      ],
      "text/plain": [
       "  Sample type       Days after inoculation count\n",
       "1 1DroughtControl1  9                      10   \n",
       "2 1DroughtControl1  22                     13   \n",
       "3 1DroughtControl10 13                     10   \n",
       "4 1DroughtControl10 35                     10   "
      ]
     },
     "metadata": {},
     "output_type": "display_data"
    }
   ],
   "source": [
    "# Example of group_by + summarize | count via n()\n",
    "data_filtered %>%\n",
    "    group_by(`Sample type`, `Days after inoculation`) %>%\n",
    "    summarise(count = n())  %>% \n",
    "    head(4)"
   ]
  },
  {
   "cell_type": "markdown",
   "metadata": {},
   "source": [
    "There should be at least 10 measurements per plant per day (count >= 10). Say we wanted to see how many plants were there per Treatment and Species, we could use the function `n_distinct()` to count unique instances and remove duplicates. \n",
    "\n",
    "<br>\n",
    "<div class=\"use_editor\"></div>"
   ]
  },
  {
   "cell_type": "code",
   "execution_count": 111,
   "metadata": {},
   "outputs": [
    {
     "name": "stderr",
     "output_type": "stream",
     "text": [
      "`summarise()` has grouped output by 'Treatment', 'Species'. You can override using the `.groups` argument.\n",
      "\n"
     ]
    },
    {
     "data": {
      "text/html": [
       "<table class=\"dataframe\">\n",
       "<caption>A grouped_df: 4 × 4</caption>\n",
       "<thead>\n",
       "\t<tr><th scope=col>Treatment</th><th scope=col>Species</th><th scope=col>Days after inoculation</th><th scope=col>count</th></tr>\n",
       "\t<tr><th scope=col>&lt;fct&gt;</th><th scope=col>&lt;fct&gt;</th><th scope=col>&lt;fct&gt;</th><th scope=col>&lt;int&gt;</th></tr>\n",
       "</thead>\n",
       "<tbody>\n",
       "\t<tr><td>Drought</td><td>Control</td><td>3 </td><td>1</td></tr>\n",
       "\t<tr><td>Drought</td><td>Control</td><td>6 </td><td>2</td></tr>\n",
       "\t<tr><td>Drought</td><td>Control</td><td>9 </td><td>5</td></tr>\n",
       "\t<tr><td>Drought</td><td>Control</td><td>13</td><td>1</td></tr>\n",
       "</tbody>\n",
       "</table>\n"
      ],
      "text/latex": [
       "A grouped\\_df: 4 × 4\n",
       "\\begin{tabular}{llll}\n",
       " Treatment & Species & Days after inoculation & count\\\\\n",
       " <fct> & <fct> & <fct> & <int>\\\\\n",
       "\\hline\n",
       "\t Drought & Control & 3  & 1\\\\\n",
       "\t Drought & Control & 6  & 2\\\\\n",
       "\t Drought & Control & 9  & 5\\\\\n",
       "\t Drought & Control & 13 & 1\\\\\n",
       "\\end{tabular}\n"
      ],
      "text/markdown": [
       "\n",
       "A grouped_df: 4 × 4\n",
       "\n",
       "| Treatment &lt;fct&gt; | Species &lt;fct&gt; | Days after inoculation &lt;fct&gt; | count &lt;int&gt; |\n",
       "|---|---|---|---|\n",
       "| Drought | Control | 3  | 1 |\n",
       "| Drought | Control | 6  | 2 |\n",
       "| Drought | Control | 9  | 5 |\n",
       "| Drought | Control | 13 | 1 |\n",
       "\n"
      ],
      "text/plain": [
       "  Treatment Species Days after inoculation count\n",
       "1 Drought   Control 3                      1    \n",
       "2 Drought   Control 6                      2    \n",
       "3 Drought   Control 9                      5    \n",
       "4 Drought   Control 13                     1    "
      ]
     },
     "metadata": {},
     "output_type": "display_data"
    }
   ],
   "source": [
    "# Example of group_by + summarize | n_distinct()\n",
    "plant.count <- data_filtered %>% \n",
    "    group_by(Treatment,Species, `Days after inoculation`) %>% \n",
    "    summarize(count = n_distinct(`Sample type`)) \n",
    "\n",
    "    plant.count %>% head(4)"
   ]
  },
  {
   "cell_type": "markdown",
   "metadata": {},
   "source": [
    "We can proceed with `arrange()` to sort the table according to a number of criteria so that we have a better comparison. For instance, we might want to arrange the table above in:\n",
    "\n",
    "1. by Treatment and,\n",
    "1. in descending order of the count:\n",
    "\n",
    "<br>\n",
    "<div class=\"use_editor\"></div>"
   ]
  },
  {
   "cell_type": "code",
   "execution_count": 112,
   "metadata": {},
   "outputs": [
    {
     "data": {
      "text/html": [
       "<table class=\"dataframe\">\n",
       "<caption>A grouped_df: 10 × 4</caption>\n",
       "<thead>\n",
       "\t<tr><th scope=col>Treatment</th><th scope=col>Species</th><th scope=col>Days after inoculation</th><th scope=col>count</th></tr>\n",
       "\t<tr><th scope=col>&lt;fct&gt;</th><th scope=col>&lt;fct&gt;</th><th scope=col>&lt;fct&gt;</th><th scope=col>&lt;int&gt;</th></tr>\n",
       "</thead>\n",
       "<tbody>\n",
       "\t<tr><td>Drought</td><td>Exotic Pathogen    </td><td>37</td><td>6</td></tr>\n",
       "\t<tr><td>Drought</td><td>Control            </td><td>9 </td><td>5</td></tr>\n",
       "\t<tr><td>Drought</td><td>Control            </td><td>35</td><td>5</td></tr>\n",
       "\t<tr><td>Drought</td><td>Exotic Pathogen    </td><td>22</td><td>5</td></tr>\n",
       "\t<tr><td>Drought</td><td>Indigenous Pathogen</td><td>9 </td><td>5</td></tr>\n",
       "\t<tr><td>Drought</td><td>Indigenous Pathogen</td><td>35</td><td>5</td></tr>\n",
       "\t<tr><td>Drought</td><td>Indigenous Pathogen</td><td>37</td><td>5</td></tr>\n",
       "\t<tr><td>Drought</td><td>Control            </td><td>37</td><td>4</td></tr>\n",
       "\t<tr><td>Drought</td><td>Exotic Pathogen    </td><td>9 </td><td>4</td></tr>\n",
       "\t<tr><td>Drought</td><td>Exotic Pathogen    </td><td>35</td><td>4</td></tr>\n",
       "</tbody>\n",
       "</table>\n"
      ],
      "text/latex": [
       "A grouped\\_df: 10 × 4\n",
       "\\begin{tabular}{llll}\n",
       " Treatment & Species & Days after inoculation & count\\\\\n",
       " <fct> & <fct> & <fct> & <int>\\\\\n",
       "\\hline\n",
       "\t Drought & Exotic Pathogen     & 37 & 6\\\\\n",
       "\t Drought & Control             & 9  & 5\\\\\n",
       "\t Drought & Control             & 35 & 5\\\\\n",
       "\t Drought & Exotic Pathogen     & 22 & 5\\\\\n",
       "\t Drought & Indigenous Pathogen & 9  & 5\\\\\n",
       "\t Drought & Indigenous Pathogen & 35 & 5\\\\\n",
       "\t Drought & Indigenous Pathogen & 37 & 5\\\\\n",
       "\t Drought & Control             & 37 & 4\\\\\n",
       "\t Drought & Exotic Pathogen     & 9  & 4\\\\\n",
       "\t Drought & Exotic Pathogen     & 35 & 4\\\\\n",
       "\\end{tabular}\n"
      ],
      "text/markdown": [
       "\n",
       "A grouped_df: 10 × 4\n",
       "\n",
       "| Treatment &lt;fct&gt; | Species &lt;fct&gt; | Days after inoculation &lt;fct&gt; | count &lt;int&gt; |\n",
       "|---|---|---|---|\n",
       "| Drought | Exotic Pathogen     | 37 | 6 |\n",
       "| Drought | Control             | 9  | 5 |\n",
       "| Drought | Control             | 35 | 5 |\n",
       "| Drought | Exotic Pathogen     | 22 | 5 |\n",
       "| Drought | Indigenous Pathogen | 9  | 5 |\n",
       "| Drought | Indigenous Pathogen | 35 | 5 |\n",
       "| Drought | Indigenous Pathogen | 37 | 5 |\n",
       "| Drought | Control             | 37 | 4 |\n",
       "| Drought | Exotic Pathogen     | 9  | 4 |\n",
       "| Drought | Exotic Pathogen     | 35 | 4 |\n",
       "\n"
      ],
      "text/plain": [
       "   Treatment Species             Days after inoculation count\n",
       "1  Drought   Exotic Pathogen     37                     6    \n",
       "2  Drought   Control             9                      5    \n",
       "3  Drought   Control             35                     5    \n",
       "4  Drought   Exotic Pathogen     22                     5    \n",
       "5  Drought   Indigenous Pathogen 9                      5    \n",
       "6  Drought   Indigenous Pathogen 35                     5    \n",
       "7  Drought   Indigenous Pathogen 37                     5    \n",
       "8  Drought   Control             37                     4    \n",
       "9  Drought   Exotic Pathogen     9                      4    \n",
       "10 Drought   Exotic Pathogen     35                     4    "
      ]
     },
     "metadata": {},
     "output_type": "display_data"
    }
   ],
   "source": [
    "# Example of sorting via arrange()\n",
    "plant.count %>%\n",
    "    arrange(Treatment, desc(count)) %>% \n",
    "    head(10)"
   ]
  },
  {
   "cell_type": "markdown",
   "metadata": {},
   "source": [
    "Let's see how may samples were taken for each species and treatment for each value of `Days after inoculation`. \n",
    "\n",
    "<br>\n",
    "<div class=\"use_editor\"></div>"
   ]
  },
  {
   "cell_type": "code",
   "execution_count": 113,
   "metadata": {},
   "outputs": [
    {
     "data": {
      "image/png": "[encoded data removed]",
      "text/plain": [
       "plot without title"
      ]
     },
     "metadata": {
      "image/png": {
       "height": 500,
       "width": 875
      }
     },
     "output_type": "display_data"
    }
   ],
   "source": [
    "plant.count %>% \n",
    "    ggplot(aes(x = `Days after inoculation`, y = count, fill = Treatment)) +\n",
    "    geom_col(position = \"dodge\", color = \"black\") +\n",
    "    theme_classic() +\n",
    "    facet_wrap(~Species) +\n",
    "    scale_y_continuous(expand=c(0,0)) + # removes space between plot and axis\n",
    "    theme(legend.position = \"bottom\")"
   ]
  },
  {
   "cell_type": "markdown",
   "metadata": {},
   "source": [
    "<div class=\"Q\"><br><br>\n",
    "\n",
    "What is the difference between the functions n() and n_distinct()?\n",
    "    \n",
    "<br><br><div class=\"qhelp\"></div></div>"
   ]
  },
  {
   "cell_type": "markdown",
   "metadata": {},
   "source": [
    "# Preliminary data examination\n",
    "\n",
    "Now that we've got the basics down, let's play around with our data. \n",
    "\n",
    "## Mean per plant\n",
    "\n",
    "Let's take a look at the mean photosynthesis value per plant while keeping our other variables of interest. Here we are calculating a plant average for each plant. Note that we did not use the same plants every time we took measurements (1DroughtControl1 was only measured on days 9 and 22). We could only measure <30 plants per day, so we randomly selected them from the treatments each time we went to measure.\n",
    "\n",
    "<br>\n",
    "<div class=\"use_editor\"></div>"
   ]
  },
  {
   "cell_type": "code",
   "execution_count": 122,
   "metadata": {},
   "outputs": [
    {
     "name": "stderr",
     "output_type": "stream",
     "text": [
      "`summarise()` has grouped output by 'Sample type', 'Trial', 'Treatment', 'Species'. You can override using the `.groups` argument.\n",
      "\n"
     ]
    },
    {
     "data": {
      "text/html": [
       "<table class=\"dataframe\">\n",
       "<caption>A grouped_df: 4 × 6</caption>\n",
       "<thead>\n",
       "\t<tr><th scope=col>Sample type</th><th scope=col>Trial</th><th scope=col>Treatment</th><th scope=col>Species</th><th scope=col>Days after inoculation</th><th scope=col>photo_average</th></tr>\n",
       "\t<tr><th scope=col>&lt;fct&gt;</th><th scope=col>&lt;fct&gt;</th><th scope=col>&lt;fct&gt;</th><th scope=col>&lt;fct&gt;</th><th scope=col>&lt;fct&gt;</th><th scope=col>&lt;dbl&gt;</th></tr>\n",
       "</thead>\n",
       "<tbody>\n",
       "\t<tr><td>1DroughtControl1 </td><td>1</td><td>Drought</td><td>Control</td><td>9 </td><td>1.6631289</td></tr>\n",
       "\t<tr><td>1DroughtControl1 </td><td>1</td><td>Drought</td><td>Control</td><td>22</td><td>2.1347472</td></tr>\n",
       "\t<tr><td>1DroughtControl10</td><td>1</td><td>Drought</td><td>Control</td><td>13</td><td>0.4922988</td></tr>\n",
       "\t<tr><td>1DroughtControl10</td><td>1</td><td>Drought</td><td>Control</td><td>35</td><td>0.5280732</td></tr>\n",
       "</tbody>\n",
       "</table>\n"
      ],
      "text/latex": [
       "A grouped\\_df: 4 × 6\n",
       "\\begin{tabular}{llllll}\n",
       " Sample type & Trial & Treatment & Species & Days after inoculation & photo\\_average\\\\\n",
       " <fct> & <fct> & <fct> & <fct> & <fct> & <dbl>\\\\\n",
       "\\hline\n",
       "\t 1DroughtControl1  & 1 & Drought & Control & 9  & 1.6631289\\\\\n",
       "\t 1DroughtControl1  & 1 & Drought & Control & 22 & 2.1347472\\\\\n",
       "\t 1DroughtControl10 & 1 & Drought & Control & 13 & 0.4922988\\\\\n",
       "\t 1DroughtControl10 & 1 & Drought & Control & 35 & 0.5280732\\\\\n",
       "\\end{tabular}\n"
      ],
      "text/markdown": [
       "\n",
       "A grouped_df: 4 × 6\n",
       "\n",
       "| Sample type &lt;fct&gt; | Trial &lt;fct&gt; | Treatment &lt;fct&gt; | Species &lt;fct&gt; | Days after inoculation &lt;fct&gt; | photo_average &lt;dbl&gt; |\n",
       "|---|---|---|---|---|---|\n",
       "| 1DroughtControl1  | 1 | Drought | Control | 9  | 1.6631289 |\n",
       "| 1DroughtControl1  | 1 | Drought | Control | 22 | 2.1347472 |\n",
       "| 1DroughtControl10 | 1 | Drought | Control | 13 | 0.4922988 |\n",
       "| 1DroughtControl10 | 1 | Drought | Control | 35 | 0.5280732 |\n",
       "\n"
      ],
      "text/plain": [
       "  Sample type       Trial Treatment Species Days after inoculation\n",
       "1 1DroughtControl1  1     Drought   Control 9                     \n",
       "2 1DroughtControl1  1     Drought   Control 22                    \n",
       "3 1DroughtControl10 1     Drought   Control 13                    \n",
       "4 1DroughtControl10 1     Drought   Control 35                    \n",
       "  photo_average\n",
       "1 1.6631289    \n",
       "2 2.1347472    \n",
       "3 0.4922988    \n",
       "4 0.5280732    "
      ]
     },
     "metadata": {},
     "output_type": "display_data"
    }
   ],
   "source": [
    "# Calculate mean per plant\n",
    "PlantMeanPhoto <- data_filtered %>% \n",
    "    group_by(`Sample type`, Trial, Treatment, Species, `Days after inoculation`) %>% \n",
    "    summarize(photo_average = mean(Photosynthesis, na.rm = TRUE))\n",
    "\n",
    "PlantMeanPhoto  %>% \n",
    "    head(4)"
   ]
  },
  {
   "cell_type": "markdown",
   "metadata": {},
   "source": [
    "<br>\n",
    "<div class=\"use_editor\"></div>"
   ]
  },
  {
   "cell_type": "code",
   "execution_count": 123,
   "metadata": {},
   "outputs": [
    {
     "data": {
      "image/png": "[encoded data removed]",
      "text/plain": [
       "plot without title"
      ]
     },
     "metadata": {
      "image/png": {
       "height": 500,
       "width": 875
      }
     },
     "output_type": "display_data"
    }
   ],
   "source": [
    "# PLot mean per plant\n",
    "PlantMeanPhoto %>% \n",
    "    ggplot(aes(Species, photo_average, shape = Treatment, color = Species)) +\n",
    "    geom_point(position = \"jitter\") +\n",
    "    theme_classic()"
   ]
  },
  {
   "cell_type": "markdown",
   "metadata": {},
   "source": [
    "Each plant is a sampling unit, so we want to conduct our analysis with a single value for each plant. If we include each measurement as a seperate observation, we are incorporating pseudoreplication because each measurement was not independant (10 measurements were made on a single plant–therefore, each measurement is dependant on the plant).\n",
    "\n",
    "## Mean per group\n",
    "\n",
    "Ok now that we have the means per plant, we can look at the means per trial, treatment, etc.\n",
    "\n",
    "<br>\n",
    "<div class=\"use_editor\"></div>"
   ]
  },
  {
   "cell_type": "code",
   "execution_count": 130,
   "metadata": {},
   "outputs": [
    {
     "name": "stderr",
     "output_type": "stream",
     "text": [
      "`summarise()` has grouped output by 'Treatment', 'Species'. You can override using the `.groups` argument.\n",
      "\n"
     ]
    },
    {
     "data": {
      "text/html": [
       "<table class=\"dataframe\">\n",
       "<caption>A grouped_df: 4 × 7</caption>\n",
       "<thead>\n",
       "\t<tr><th scope=col>Treatment</th><th scope=col>Species</th><th scope=col>Days after inoculation</th><th scope=col>count</th><th scope=col>ave</th><th scope=col>dev</th><th scope=col>se</th></tr>\n",
       "\t<tr><th scope=col>&lt;fct&gt;</th><th scope=col>&lt;fct&gt;</th><th scope=col>&lt;fct&gt;</th><th scope=col>&lt;int&gt;</th><th scope=col>&lt;dbl&gt;</th><th scope=col>&lt;dbl&gt;</th><th scope=col>&lt;dbl&gt;</th></tr>\n",
       "</thead>\n",
       "<tbody>\n",
       "\t<tr><td>Drought</td><td>Control</td><td>3 </td><td>1</td><td>1.1315650</td><td>       NA</td><td>       NA</td></tr>\n",
       "\t<tr><td>Drought</td><td>Control</td><td>6 </td><td>2</td><td>0.6558923</td><td>0.6616764</td><td>0.4678758</td></tr>\n",
       "\t<tr><td>Drought</td><td>Control</td><td>9 </td><td>5</td><td>2.5938583</td><td>2.8121587</td><td>1.2576356</td></tr>\n",
       "\t<tr><td>Drought</td><td>Control</td><td>13</td><td>1</td><td>0.4922988</td><td>       NA</td><td>       NA</td></tr>\n",
       "</tbody>\n",
       "</table>\n"
      ],
      "text/latex": [
       "A grouped\\_df: 4 × 7\n",
       "\\begin{tabular}{lllllll}\n",
       " Treatment & Species & Days after inoculation & count & ave & dev & se\\\\\n",
       " <fct> & <fct> & <fct> & <int> & <dbl> & <dbl> & <dbl>\\\\\n",
       "\\hline\n",
       "\t Drought & Control & 3  & 1 & 1.1315650 &        NA &        NA\\\\\n",
       "\t Drought & Control & 6  & 2 & 0.6558923 & 0.6616764 & 0.4678758\\\\\n",
       "\t Drought & Control & 9  & 5 & 2.5938583 & 2.8121587 & 1.2576356\\\\\n",
       "\t Drought & Control & 13 & 1 & 0.4922988 &        NA &        NA\\\\\n",
       "\\end{tabular}\n"
      ],
      "text/markdown": [
       "\n",
       "A grouped_df: 4 × 7\n",
       "\n",
       "| Treatment &lt;fct&gt; | Species &lt;fct&gt; | Days after inoculation &lt;fct&gt; | count &lt;int&gt; | ave &lt;dbl&gt; | dev &lt;dbl&gt; | se &lt;dbl&gt; |\n",
       "|---|---|---|---|---|---|---|\n",
       "| Drought | Control | 3  | 1 | 1.1315650 |        NA |        NA |\n",
       "| Drought | Control | 6  | 2 | 0.6558923 | 0.6616764 | 0.4678758 |\n",
       "| Drought | Control | 9  | 5 | 2.5938583 | 2.8121587 | 1.2576356 |\n",
       "| Drought | Control | 13 | 1 | 0.4922988 |        NA |        NA |\n",
       "\n"
      ],
      "text/plain": [
       "  Treatment Species Days after inoculation count ave       dev       se       \n",
       "1 Drought   Control 3                      1     1.1315650        NA        NA\n",
       "2 Drought   Control 6                      2     0.6558923 0.6616764 0.4678758\n",
       "3 Drought   Control 9                      5     2.5938583 2.8121587 1.2576356\n",
       "4 Drought   Control 13                     1     0.4922988        NA        NA"
      ]
     },
     "metadata": {},
     "output_type": "display_data"
    }
   ],
   "source": [
    "# Calculate mean per group\n",
    "GroupMeanPhoto <- PlantMeanPhoto %>% \n",
    "    group_by(Treatment,Species,`Days after inoculation`) %>% \n",
    "    summarize(count = n(), \n",
    "        ave = mean(photo_average),\n",
    "        dev = sd(photo_average), #standard deviation\n",
    "        se = dev/sqrt(count) #standard error\n",
    "        )\n",
    "\n",
    "GroupMeanPhoto  %>% \n",
    "    head(4)"
   ]
  },
  {
   "cell_type": "markdown",
   "metadata": {},
   "source": [
    "<span class=\"note\"></span> If there was only one plant in a group, the standard deviation, `dev` could not be calculated because there is no variation Some of the data might be missing and we would need to address this in real analysis.\n",
    "\n",
    "We can plot the mean values from each Species and each Treatment on each day they were measured.\n",
    "\n",
    "<br>\n",
    "<div class=\"use_editor\"></div>"
   ]
  },
  {
   "cell_type": "code",
   "execution_count": 125,
   "metadata": {},
   "outputs": [
    {
     "data": {
      "image/png": "[encoded data removed]",
      "text/plain": [
       "plot without title"
      ]
     },
     "metadata": {
      "image/png": {
       "height": 500,
       "width": 875
      }
     },
     "output_type": "display_data"
    }
   ],
   "source": [
    "# PLot mean per group\n",
    "ggplot(GroupMeanPhoto, aes(x = `Days after inoculation`, y = ave, color = Species)) +\n",
    "    geom_point() +\n",
    "    facet_wrap(~Treatment, ncol = 1) +\n",
    "    theme_classic()"
   ]
  },
  {
   "cell_type": "markdown",
   "metadata": {},
   "source": [
    "This plot reveals some concerns: only control plants were measured on day 3 and no control plants were measured on day 5. Only one group of plants measured on day 36. Lots of errors in data, demonstrating the importance of exploring your data graphically!"
   ]
  },
  {
   "cell_type": "markdown",
   "metadata": {},
   "source": [
    "Let's see if we can add estimates of error to our measurments.\n",
    "\n",
    "<br>\n",
    "<div class=\"use_editor\"></div>"
   ]
  },
  {
   "cell_type": "code",
   "execution_count": 132,
   "metadata": {},
   "outputs": [
    {
     "data": {
      "image/png": "[encoded data removed]",
      "text/plain": [
       "plot without title"
      ]
     },
     "metadata": {
      "image/png": {
       "height": 500,
       "width": 875
      }
     },
     "output_type": "display_data"
    }
   ],
   "source": [
    "# Add error bars\n",
    "ggplot(GroupMeanPhoto, aes(x = `Days after inoculation`, y = ave, color = Species)) +\n",
    "    geom_point() +\n",
    "    geom_errorbar(aes(ymin = ave-se, ymax = ave+se)) +\n",
    "    facet_wrap(~Treatment, ncol = 1) +\n",
    "    theme_classic()"
   ]
  },
  {
   "cell_type": "markdown",
   "metadata": {},
   "source": [
    "_________________________________________________________________________\n",
    "\n",
    "# Exporting data\n",
    "\n",
    "Now that you have learned how to use `dplyr` to extract information from or summarize your raw data, you may want to export these new data sets to share them with your collaborators or for archival.\n",
    "\n",
    "Similar to the `read_csv()` function used for reading CSV files into R, there is a `write_csv()` function that generates CSV files from data frames.\n",
    "\n",
    "Before using `write_csv()`, we are going to create a new folder, data, in our working directory that will store this generated dataset. We don't want to write generated datasets in the same directory as our raw data. It's good practice to keep them separate. The folder for raw data should only contain the raw, unaltered data, and should be left alone to make sure we don't delete or modify it. In contrast, our script will generate the contents of the data directory, so even if the files it contains are deleted, we can always re-generate them.\n",
    "\n",
    "Let's create a new folder/directory called `data_cleaned` using the `dir.create` function."
   ]
  },
  {
   "cell_type": "code",
   "execution_count": null,
   "metadata": {},
   "outputs": [],
   "source": [
    "# Create new directory\n",
    "dir.create(file.path(\"data_cleaned\"))"
   ]
  },
  {
   "cell_type": "markdown",
   "metadata": {},
   "source": [
    "Now that our data set and data_cleaned folder is ready, we can save it as a CSV file in our data folder."
   ]
  },
  {
   "cell_type": "code",
   "execution_count": 128,
   "metadata": {},
   "outputs": [],
   "source": [
    "# Save file\n",
    "write_csv(combined_data,\"./data_cleaned/combined_data.csv\")"
   ]
  },
  {
   "cell_type": "markdown",
   "metadata": {},
   "source": [
    "<div class=\"big_title\">This is the end of lab</div>\n",
    "\n",
    "*******************\n",
    "*******************\n",
    "\n",
    "Code below is for formatting of this lab. Do not alter!"
   ]
  },
  {
   "cell_type": "code",
   "execution_count": 129,
   "metadata": {},
   "outputs": [
    {
     "data": {
      "text/html": [
       "<style>\r\n",
       "\r\n",
       "body {\r\n",
       "  counter-reset: question_num task_num;                     /* Set a counter named 'section', and it`s initial value is 0. */\r\n",
       "}\r\n",
       "\r\n",
       "/* Question Box */\r\n",
       ".Q {\r\n",
       "    background-color:#ff9900;\r\n",
       "    color:black;\r\n",
       "    font-size:17px;\r\n",
       "    width:100%;\r\n",
       "    border:1px solid #666666;\r\n",
       "    padding:5px;\r\n",
       "}\r\n",
       "\r\n",
       ".Q::before {\r\n",
       "    counter-increment: question_num;\r\n",
       "    content: \"QUESTION \" counter(question_num) '\\A';\r\n",
       "    white-space: pre;\r\n",
       "}\r\n",
       "\r\n",
       "\r\n",
       "/* Question Box */\r\n",
       ".T {\r\n",
       "    background-color:#00F7FF;\r\n",
       "    color:black;\r\n",
       "    font-size:17px;\r\n",
       "    font-weight: bold;\r\n",
       "    width:10%;\r\n",
       "    padding:5px;\r\n",
       "}\r\n",
       "\r\n",
       "\r\n",
       ".T::before {\r\n",
       "    counter-increment: task_num;\r\n",
       "    content: \"Task \" counter(task_num) ': ';\r\n",
       "}\r\n",
       "\r\n",
       "\r\n",
       "/* TASK BOX */\r\n",
       ".startTASK {\r\n",
       "    background: linear-gradient(to bottom, #b3ffb3 0%, #ffffff 100%);\r\n",
       "    border-top-left-radius: 10px;\r\n",
       "    border-top-right-radius: 10px;\r\n",
       "    border:1px solid #009900;\r\n",
       "    border-bottom:1px solid #ffffff;\r\n",
       "    color:#006600;\r\n",
       "    font-size:17px;\r\n",
       "    width:100%;\r\n",
       "    font-weight: bold;\r\n",
       "    padding:5px;\r\n",
       "    padding-top:15px;\r\n",
       "}\r\n",
       ".startTASK::before {\r\n",
       "    counter-increment: task_num;\r\n",
       "    content: \"Task \" counter(task_num) ': ';\r\n",
       "}\r\n",
       "\r\n",
       ".endTASK {\r\n",
       "    background: linear-gradient(to bottom, #ffffff 0%, #b3ffb3 100%);\r\n",
       "    border-bottom-left-radius: 10px;\r\n",
       "    border-bottom-right-radius: 10px;\r\n",
       "    border:1px solid #009900;\r\n",
       "    border-top:1px solid #ffffff;\r\n",
       "    color:#006600;\r\n",
       "    font-size:13px;\r\n",
       "    width:100%;\r\n",
       "    font-weight: bold;\r\n",
       "    padding:5px;\r\n",
       "    padding-top:15px;\r\n",
       "}\r\n",
       ".endTASK::before {\r\n",
       "    content: \"End of Task\";\r\n",
       "}\r\n",
       "\r\n",
       "\r\n",
       "\r\n",
       "\r\n",
       "\r\n",
       "\r\n",
       "/* Use Editor */\r\n",
       ".use_editor {\r\n",
       "    background: linear-gradient(to right, #ccffcc 0%, #ffffff 100%);\r\n",
       "    border-top-left-radius: 10px;\r\n",
       "    border-top-right-radius: 10px;\r\n",
       "    border:1px solid #ffffff;\r\n",
       "    border-bottom:1px solid #ffffff;\r\n",
       "    color:#66cc66;\r\n",
       "    font-size:10px;\r\n",
       "    width:100%;\r\n",
       "    padding:0px;\r\n",
       "    padding-bottom:3px;\r\n",
       "    padding-left:7px;\r\n",
       "    margin-left: -5px;\r\n",
       "    margin-right: 150px;\r\n",
       "    margin-bottom: -13px;\r\n",
       "}\r\n",
       ".use_editor::before {\r\n",
       "    content: \"Type in EDITOR, hightlight, and click RUN\";\r\n",
       "    }\r\n",
       "\r\n",
       "\r\n",
       "/* Use Console */\r\n",
       ".use_console {\r\n",
       "    background: linear-gradient(to right, #ffe6e6 0%, #ffffff 100%);\r\n",
       "    border-top-left-radius: 10px;\r\n",
       "    border-top-right-radius: 10px;\r\n",
       "    border:1px solid #ffffff;\r\n",
       "    border-bottom:1px solid #ffffff;\r\n",
       "    color:#ff9999;\r\n",
       "    font-size:10px;\r\n",
       "    width:100%;\r\n",
       "    padding:0px;\r\n",
       "    padding-bottom:3px;\r\n",
       "    padding-left:7px;\r\n",
       "    margin-left: -5px;\r\n",
       "    margin-right: 150px;\r\n",
       "    margin-bottom: -13px;\r\n",
       "}\r\n",
       ".use_console::before {\r\n",
       "    content: \"Type in CONSOLE and click ENTER\";\r\n",
       "    }\r\n",
       "\r\n",
       "\r\n",
       "\r\n",
       "\r\n",
       "\r\n",
       "\r\n",
       "\r\n",
       "\r\n",
       "\r\n",
       "\r\n",
       "\r\n",
       "\r\n",
       "\r\n",
       ".qhelp {\r\n",
       "    color:#666666;\r\n",
       "    font-size:15px\r\n",
       "}\r\n",
       "\r\n",
       ".qhelp::after {\r\n",
       "    content: \"Answer this question in the corresponding Brightspace LAB quiz\"\r\n",
       "}\r\n",
       "\r\n",
       "\r\n",
       "\r\n",
       "/* code */\r\n",
       ".rendered_html pre, .rendered_html code {\r\n",
       "    font-family: \"SF Mono\",\"Segoe UI Mono\",\"Roboto Mono\",\"Ubuntu Mono\",Menlo,Courier,monospace;\r\n",
       "    padding: 1px 3px;\r\n",
       "    border: 1px solid #e6e6e6;\r\n",
       "    border-radius: 3px;\r\n",
       "    background: #e6e6e6;\r\n",
       "    font-size: 12px;\r\n",
       "    line-height: 1.4;\r\n",
       "    color: #0052CC;\r\n",
       "}\r\n",
       "\r\n",
       "\r\n",
       "/* Console */\r\n",
       ".console {\r\n",
       "    background-color:#d2d2d2;\r\n",
       "    color:#FF2525;\r\n",
       "    font-size:12px;\r\n",
       "    line-height: 1.4;\r\n",
       "    border:1px solid #bfbfbf;\r\n",
       "    padding-top:0px;\r\n",
       "    padding-bottom:0px;\r\n",
       "    padding-left:3px;\r\n",
       "    padding-right:3px;\r\n",
       "    border-radius: 3px;\r\n",
       "    display: inline-block;\r\n",
       "}\r\n",
       ".console::before {\r\n",
       "    content: \"Console\";\r\n",
       "}\r\n",
       "\r\n",
       "/* Editor */\r\n",
       ".editor {\r\n",
       "    background-color:#d2d2d2;\r\n",
       "    color:#00b300;\r\n",
       "    font-size: 12px;\r\n",
       "    line-height: 1.4;\r\n",
       "    border:1px solid #bfbfbf;\r\n",
       "    padding-top:0px;\r\n",
       "    padding-bottom:0px;\r\n",
       "    padding-left:3px;\r\n",
       "    padding-right:3px;\r\n",
       "    border-radius: 3px;\r\n",
       "    display: inline-block;\r\n",
       "}\r\n",
       ".editor::before {\r\n",
       "    content: \"Editor\";\r\n",
       "}\r\n",
       "\r\n",
       "\r\n",
       "\r\n",
       "/* Copy to CONSOLE */\r\n",
       ".c2c {\r\n",
       "    background-color:#d2d2d2;\r\n",
       "    color:#ff8080;\r\n",
       "    font-size:13px;\r\n",
       "    border:1px solid #bfbfbf;\r\n",
       "    padding:1px 3px;\r\n",
       "    border-radius: 3px;\r\n",
       "    margin-top: 10px;\r\n",
       "    display: inline-block;\r\n",
       "}\r\n",
       "\r\n",
       ".c2c::before {\r\n",
       "    content: \"Copy-paste into Spyder's Console\";\r\n",
       "}\r\n",
       "\r\n",
       "/* Type in CONSOLE */\r\n",
       ".t2c {\r\n",
       "    background-color:#d2d2d2;\r\n",
       "    color:#ff8080;\r\n",
       "    font-size:13px;\r\n",
       "    border:1px solid #bfbfbf;\r\n",
       "    padding:1px 3px;\r\n",
       "    border-radius: 3px;\r\n",
       "    margin-top: 10px;\r\n",
       "    display: inline-block;\r\n",
       "}\r\n",
       "\r\n",
       ".t2c::before {\r\n",
       "    content: \"Type into Spyder's Console\";\r\n",
       "}\r\n",
       "\r\n",
       "\r\n",
       "/* SOURCE */\r\n",
       ".source {\r\n",
       "    background-color:#d2d2d2;\r\n",
       "    color:#009EBF;\r\n",
       "    font-size: 12px;\r\n",
       "    line-height: 1.4;\r\n",
       "    font-weight: bold;\r\n",
       "    border:1px solid #bfbfbf;\r\n",
       "    padding-top:0px;\r\n",
       "    padding-bottom:0px;\r\n",
       "    padding-left:3px;\r\n",
       "    padding-right:3px;\r\n",
       "    border-radius: 3px;\r\n",
       "    display: inline-block;\r\n",
       "}\r\n",
       ".source::before {\r\n",
       "    content: \"\\25B6\" \"Source\";\r\n",
       "}\r\n",
       "\r\n",
       "\r\n",
       "/* RUN */\r\n",
       ".run {\r\n",
       "    background-color:#d2d2d2;\r\n",
       "    color:#00b300;\r\n",
       "    font-size: 12px;\r\n",
       "    line-height: 1.4;\r\n",
       "    font-weight: bold;\r\n",
       "    border:1px solid #bfbfbf;\r\n",
       "    padding-top:0px;\r\n",
       "    padding-bottom:0px;\r\n",
       "    padding-left:3px;\r\n",
       "    padding-right:3px;\r\n",
       "    border-radius: 3px;\r\n",
       "    display: inline-block;\r\n",
       "}\r\n",
       ".run::before {\r\n",
       "    content: \"\\25B6\" \"RUN\";\r\n",
       "}\r\n",
       "\r\n",
       "/* RUN */\r\n",
       ".runcell {\r\n",
       "    background-color:#d2d2d2;\r\n",
       "    color:#00b300;\r\n",
       "    font-size: 12px;\r\n",
       "    line-height: 1.4;\r\n",
       "    border:1px solid #bfbfbf;\r\n",
       "    padding-top:0px;\r\n",
       "    padding-bottom:0px;\r\n",
       "    padding-left:3px;\r\n",
       "    padding-right:3px;\r\n",
       "    border-radius: 3px;\r\n",
       "    display: inline-block;\r\n",
       "}\r\n",
       ".runcell::before {\r\n",
       "    content: \"RUN current cell\";\r\n",
       "}\r\n",
       "\r\n",
       "/* FILE */\r\n",
       ".file {\r\n",
       "    color:#b36b00;\r\n",
       "    font-size: 12px;\r\n",
       "    line-height: 1.4;\r\n",
       "    font-weight: bold;\r\n",
       "    border:1px solid #bfbfbf;\r\n",
       "    padding-top:0px;\r\n",
       "    padding-bottom:0px;\r\n",
       "    padding-left:3px;\r\n",
       "    padding-right:3px;\r\n",
       "    border-radius: 3px;\r\n",
       "    display: inline-block;\r\n",
       "}\r\n",
       "\r\n",
       "/* important */\r\n",
       ".important {\r\n",
       "    background-color:#ff4d4d;\r\n",
       "    color:black;\r\n",
       "    font-size: 13px;\r\n",
       "    line-height: 1.4;\r\n",
       "    font-weight: bold;\r\n",
       "    border:1px solid #bfbfbf;\r\n",
       "    padding-top:0px;\r\n",
       "    padding-bottom:0px;\r\n",
       "    padding-left:3px;\r\n",
       "    padding-right:3px;\r\n",
       "    border-radius: 3px;\r\n",
       "    display: inline-block;\r\n",
       "    margin-top:5px;\r\n",
       "}\r\n",
       ".important::before {\r\n",
       "    content: \"Important:\";\r\n",
       "}\r\n",
       "\r\n",
       "/* important */\r\n",
       ".note {\r\n",
       "    background-color:#ffff80;\r\n",
       "    color:black;\r\n",
       "    font-size: 13px;\r\n",
       "    line-height: 1.4;\r\n",
       "    font-weight: bold;\r\n",
       "    border:1px solid #bfbfbf;\r\n",
       "    padding-top:0px;\r\n",
       "    padding-bottom:0px;\r\n",
       "    padding-left:3px;\r\n",
       "    padding-right:3px;\r\n",
       "    border-radius: 3px;\r\n",
       "    display: inline-block;\r\n",
       "    margin-top:5px;\r\n",
       "}\r\n",
       ".note::before {\r\n",
       "    content: \"Note:\";\r\n",
       "}\r\n",
       "\r\n",
       "\r\n",
       "/* TODO */\r\n",
       ".TODO {\r\n",
       "    background-color:red;\r\n",
       "    color:black;\r\n",
       "    font-size:18px;\r\n",
       "    width:100%;\r\n",
       "    padding:10px;\r\n",
       "}\r\n",
       ".TODO::before {\r\n",
       "    content: \"TO-DO:\";\r\n",
       "}\r\n",
       "\r\n",
       "\r\n",
       ".nomenclature {\r\n",
       "    font-family: \"SF Mono\",\"Segoe UI Mono\",\"Roboto Mono\",\"Ubuntu Mono\",Menlo,Courier,monospace;\r\n",
       "    background-color:#ffff80;\r\n",
       "    color:black;\r\n",
       "    font-size: 15px;\r\n",
       "    line-height: 1.4;\r\n",
       "    font-weight: bold;\r\n",
       "    border:1px solid #bfbfbf;\r\n",
       "    padding-left:3px;\r\n",
       "    padding-right:3px;\r\n",
       "    display: inline-block;\r\n",
       "    margin-top:3px;\r\n",
       "}\r\n",
       "\r\n",
       "\r\n",
       "\r\n",
       ".big_title {\r\n",
       "    background-color:#cccccc;\r\n",
       "    color:black;\r\n",
       "    font-size: 35px;\r\n",
       "    line-height: 1.4;\r\n",
       "    font-weight: bold;\r\n",
       "    border:1px solid #8c8c8c;\r\n",
       "    padding:20px;\r\n",
       "    margin-top:5px;\r\n",
       "    width:100%;\r\n",
       "}\r\n",
       "\r\n",
       "\r\n",
       ".codeX {\r\n",
       "    font-family: \"SF Mono\",\"Segoe UI Mono\",\"Roboto Mono\",\"Ubuntu Mono\",Menlo,Courier,monospace;\r\n",
       "    background-color:#e6e6e6;\r\n",
       "    color:#0066ff;\r\n",
       "    font-size: 13px;\r\n",
       "    line-height: 1.4;\r\n",
       "    padding:2px;\r\n",
       "    display: inline-block;\r\n",
       "}\r\n",
       "\r\n",
       "\r\n",
       "\r\n",
       "/* checkpoint */\r\n",
       ".checkpoint {\r\n",
       "    background-color:yellow;\r\n",
       "    color:blue;\r\n",
       "    font-size: 15px;\r\n",
       "    line-height: 1.4;\r\n",
       "    font-weight: bold;\r\n",
       "    border:1px solid #bfbfbf;\r\n",
       "    padding-top:0px;\r\n",
       "    padding-bottom:0px;\r\n",
       "    padding-left:3px;\r\n",
       "    padding-right:3px;\r\n",
       "    border-radius: 3px;\r\n",
       "    display: inline-block;\r\n",
       "    margin-top:5px;\r\n",
       "}\r\n",
       "\r\n",
       ".codeerror {\r\n",
       "    background-color:#ffb3b3;\r\n",
       "    color:red;\r\n",
       "    font-size: 13px;\r\n",
       "    line-height: 1.4;\r\n",
       "    border:1px solid #ffb3b3;\r\n",
       "    padding-top:7px;\r\n",
       "    padding-bottom:7px;\r\n",
       "    padding-left:7px;\r\n",
       "    padding-right:7px;\r\n",
       "    border-radius: 3px;\r\n",
       "    margin:20px;\r\n",
       "    margin-left:25px;\r\n",
       "}\r\n",
       "\r\n",
       ".lineerror {\r\n",
       "    background-color:#ffb3b3;\r\n",
       "    color:red;\r\n",
       "    font-size: 13px;\r\n",
       "    line-height: 1.4;\r\n",
       "    border:1px solid #ffb3b3;\r\n",
       "    padding-top:0px;\r\n",
       "    padding-bottom:0px;\r\n",
       "    padding-left:3px;\r\n",
       "    padding-right:3px;\r\n",
       "    border-radius: 3px;\r\n",
       "    display: inline-block;\r\n",
       "    margin-top:5px;\r\n",
       "}\r\n",
       "\r\n",
       "\r\n",
       "/* terminal */\r\n",
       ".terminal {\r\n",
       "    background-color:black;\r\n",
       "    color:white;\r\n",
       "    font-size: 12px;\r\n",
       "    line-height: 1.4;\r\n",
       "    border:1px solid black;\r\n",
       "    padding-top:0px;\r\n",
       "    padding-bottom:0px;\r\n",
       "    padding-left:3px;\r\n",
       "    padding-right:3px;\r\n",
       "    border-radius: 3px;\r\n",
       "    display: inline-block;\r\n",
       "}\r\n",
       ".terminal::before {\r\n",
       "    content: \"Terminal (i.e. Anaconda Promt)\";\r\n",
       "}\r\n",
       ".terminalBlock {\r\n",
       "    font-family: \"SF Mono\",\"Segoe UI Mono\",\"Roboto Mono\",\"Ubuntu Mono\",Menlo,Courier,monospace;\r\n",
       "    background-color:black;\r\n",
       "    color:white;\r\n",
       "    font-size: 14px;\r\n",
       "    line-height: 1.4;\r\n",
       "    border:1px solid black;\r\n",
       "    padding-top:7px;\r\n",
       "    padding-bottom:7px;\r\n",
       "    padding-left:7px;\r\n",
       "    padding-right:7px;\r\n",
       "    border-radius: 3px;\r\n",
       "    margin:20px;\r\n",
       "    margin-left:25px;\r\n",
       "}\r\n",
       "\r\n",
       ".fakeheader {\r\n",
       "    font-size: 20px;\r\n",
       "    font-weight:bold;\r\n",
       "    background-color:#ccebff;\r\n",
       "    border:1px solid #b3e0ff;\r\n",
       "    padding:2px;\r\n",
       "    margin-top:30px;\r\n",
       "    margin-bottom:15px;\r\n",
       "}\r\n",
       "\r\n",
       "\r\n",
       "/* Headers */\r\n",
       "h1 {\r\n",
       "    background-color:#99d6ff;\r\n",
       "    border:1px solid #007acc;\r\n",
       "    padding:8px;\r\n",
       "}\r\n",
       "\r\n",
       "h2 {\r\n",
       "    background-color:#ccebff;\r\n",
       "    border:1px solid #b3e0ff;\r\n",
       "    padding:2px;\r\n",
       "}\r\n",
       "\r\n",
       "h3 {\r\n",
       "    background-color:#e6f5ff;\r\n",
       "    padding:1px;\r\n",
       "}\r\n",
       "\r\n",
       "</style>"
      ]
     },
     "metadata": {},
     "output_type": "display_data"
    },
    {
     "data": {
      "text/html": [
       "<style>.Q::before {counter-increment: question_num;\n",
       "    content: 'QUESTION ' counter(question_num) ': '; white-space: pre; }.T::before {counter-increment: task_num;\n",
       "    content: 'Task ' counter(task_num) ': ';</style>"
      ]
     },
     "metadata": {},
     "output_type": "display_data"
    }
   ],
   "source": [
    "cssFile <- '../css/custom.css'\n",
    "IRdisplay::display_html(readChar(cssFile, file.info(cssFile)$size))\n",
    "\n",
    "IRdisplay::display_html(\"<style>.Q::before {counter-increment: question_num;\n",
    "    content: 'QUESTION ' counter(question_num) ': '; white-space: pre; }.T::before {counter-increment: task_num;\n",
    "    content: 'Task ' counter(task_num) ': ';</style>\")"
   ]
  },
  {
   "cell_type": "code",
   "execution_count": null,
   "metadata": {},
   "outputs": [],
   "source": []
  }
 ],
 "metadata": {
  "kernelspec": {
   "display_name": "R",
   "language": "R",
   "name": "ir"
  },
  "language_info": {
   "codemirror_mode": "r",
   "file_extension": ".r",
   "mimetype": "text/x-r-source",
   "name": "R",
   "pygments_lexer": "r",
   "version": "4.0.3"
  }
 },
 "nbformat": 4,
 "nbformat_minor": 4
}
