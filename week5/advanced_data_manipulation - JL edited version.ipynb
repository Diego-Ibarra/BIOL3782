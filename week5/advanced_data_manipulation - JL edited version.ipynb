{
 "cells": [
  {
   "cell_type": "markdown",
   "metadata": {},
   "source": [
    "<div class=\"big_title\">LAB 5: Advanced data manipulation</div>\n",
    "\n",
    "BIO3782: Biologist's Toolkit (Dalhousie University)\n",
    "\n",
    "----------------------------------------"
   ]
  },
  {
   "cell_type": "markdown",
   "metadata": {},
   "source": [
    "In the previous labs, you learned....\n",
    "\n",
    "how to identify objects like `variables`and `functions`, as well as some basic plotting techniques.\n",
    "\n",
    "In this lab we will work on data cleaning tools and practices.\n",
    "\n",
    "\n",
    "# Data manipulation using dplyr and tidyr\n",
    "\n",
    "`dplyr` is a package for making tabular data manipulation easier. It pairs nicely with tidyr which enables you to swiftly convert between different data formats for plotting and analysis.\n",
    "\n",
    "The `tidyverse` package is an \"umbrella-package\" that installs `tidyr`, `dplyr`, and several other packages useful for data analysis, such as `ggplot2`, `tibble`, etc.\n",
    "\n",
    "The tidyverse package tries to address 3 common issues that arise when doing data analysis with some of the functions that come with R:\n",
    "\n",
    "    1. The results from a base R function sometimes depend on the type of data.\n",
    "\n",
    "    2. Using R expressions in a non standard way, which can be confusing for new learners.\n",
    "    \n",
    "    3. Hidden arguments, having default operations that new learners are not aware of.\n",
    "    \n",
    "You should already have installed and loaded the `tidyverse` package. If we haven't already done so, we can type install.packages(\"tidyverse\") straight into the console. Then, to load the package type library(tidyverse)\n",
    "\n"
   ]
  },
  {
   "cell_type": "code",
   "execution_count": 64,
   "metadata": {},
   "outputs": [
    {
     "name": "stderr",
     "output_type": "stream",
     "text": [
      "Installing package into 'C:/Users/flyin/Documents/R/win-library/3.6'\n",
      "(as 'lib' is unspecified)\n",
      "Warning message:\n",
      "\"package 'tidyverse' is in use and will not be installed\""
     ]
    }
   ],
   "source": [
    "install.packages(\"tidyverse\")\n",
    "\n",
    "library(tidyverse)"
   ]
  },
  {
   "cell_type": "markdown",
   "metadata": {},
   "source": [
    "# What are `dplyr` and `tidyr`?\n",
    "\n",
    "The package `dplyr`provides easy tools for the most common data manipulation tasks. It is built to work directly with data frames, with many common tasks optimized by being written in a compiled language (C++). An additional feature is the ability to work directly with data stored in an external database. The benefits of doing this are that the data can be managed natively in a relational database, queries can be conducted on that database, and only the results of the query are returned.\n",
    "\n",
    "This addresses a common problem with R in that all operations are conducted in-memory and thus the amount of data you can work with is limited by available memory. The database connections essentially remove that limitation in that you can connect to a database of many hundreds of GB, conduct queries on it directly, and pull back into R only what you need for analysis.\n",
    "\n",
    "The package `tidyr` addresses the common problem of wanting to reshape your data for plotting and use by different R functions. Sometimes we want data sets where we have one row per measurement. Sometimes we want a data frame where each measurement type has its own column, and rows are instead more aggregated groups (e.g., a time period, an experimental unit like a plot or a batch number). Moving back and forth between these formats is non-trivial, and `tidyr` gives you tools for this and more sophisticated data manipulation.\n",
    "\n",
    "To learn more about `dplyr` and `tidyr` , you may want to check out this handy data transformation with [`dplyr`](https://4.files.edl.io/b9e2/07/12/19/142839-a23788fb-1d3a-4665-9dc4-33bfd442c296.pdf) cheatsheet \n",
    "\n",
    "The data we will be examining today is from a lead in drinking water survey carried out in Nova Scotia.Lead in drinking water comes from legacy lead pipes or premise plumbing. The use of lead materials in plumbing was banned in Canada and the USA in 1975 and 1986, respectively. However, leaded materials still remain in many distribution systems.Lead corosion produces an extremely toxic by-product. Even at low concentrations, negative health impacts of lead exposure has been recognized and can disproportionately affect infants and pregnant women. To address lead exposure in drinking water, Health Canada implimented stricter drinking water lead guidelines in 2019. Prior to the implimentation of the new regulation, a drinking water quality survey was carried out in four utilities with varying water quality. The aim of the survey was to compare lead measured in parts per billion (ppb) using two drinking water sampling protocols: Random daytime (RDT), and flushed sampling.\n",
    "\n",
    "First, we'll download the data.\n"
   ]
  },
  {
   "cell_type": "markdown",
   "metadata": {},
   "source": [
    "As before, we'll read in our data using the `read_csv()` function from the tidyverse package `readr`. We will need to do the following:\n",
    "\n",
    "1. Make a new directory on your Desktop and call it Lab5\n",
    "1. Download the \"Nova Scotia Drinking water lead survey data.csv\" and \"Nova Scotia Drinking water lead compliance sampling data.csv\" datasets from Brightspace and place them in your Lab5 directory.\n",
    "1. Open R Studio and change your working directory to Lab5. If you don't remeber how to do this, review [this section](https://diego-ibarra.github.io/biol3782/week1/index.html#RStudio's-%22Working-Directory%22)"
   ]
  },
  {
   "cell_type": "code",
   "execution_count": 65,
   "metadata": {
    "scrolled": false
   },
   "outputs": [
    {
     "name": "stderr",
     "output_type": "stream",
     "text": [
      "Parsed with column specification:\n",
      "cols(\n",
      "  Address = col_character(),\n",
      "  Date_sampled = col_character(),\n",
      "  Municipality = col_character(),\n",
      "  RDT_ppb = col_double()\n",
      ")\n",
      "Parsed with column specification:\n",
      "cols(\n",
      "  Address = col_character(),\n",
      "  Date_sampled = col_character(),\n",
      "  Municipality = col_character(),\n",
      "  Flushed_ppb = col_double()\n",
      ")\n"
     ]
    }
   ],
   "source": [
    "#Survey data from sampling project\n",
    "survey <- read_csv(\"Nova Scotia Drinking water lead survey data.csv\")\n",
    "\n",
    "#Complance data from government\n",
    "compliance <- read_csv(\"Nova Scotia Drinking water lead compliance sampling data.csv\")\n"
   ]
  },
  {
   "cell_type": "markdown",
   "metadata": {},
   "source": [
    "Let's take a look at the two datasets below:"
   ]
  },
  {
   "cell_type": "code",
   "execution_count": 68,
   "metadata": {},
   "outputs": [
    {
     "data": {
      "text/html": [
       "<table>\n",
       "<thead><tr><th scope=col>Address</th><th scope=col>Date_sampled</th><th scope=col>Municipality</th><th scope=col>RDT_ppb</th></tr></thead>\n",
       "<tbody>\n",
       "\t<tr><td>A1        </td><td>10/29/2018</td><td>Utility A </td><td>0.694     </td></tr>\n",
       "\t<tr><td>A2        </td><td>10/29/2018</td><td>Utility A </td><td>1.255     </td></tr>\n",
       "\t<tr><td>A3        </td><td>10/29/2018</td><td>Utility A </td><td>0.329     </td></tr>\n",
       "\t<tr><td>A4        </td><td>10/29/2018</td><td>Utility A </td><td>0.885     </td></tr>\n",
       "</tbody>\n",
       "</table>\n"
      ],
      "text/latex": [
       "\\begin{tabular}{r|llll}\n",
       " Address & Date\\_sampled & Municipality & RDT\\_ppb\\\\\n",
       "\\hline\n",
       "\t A1         & 10/29/2018 & Utility A  & 0.694     \\\\\n",
       "\t A2         & 10/29/2018 & Utility A  & 1.255     \\\\\n",
       "\t A3         & 10/29/2018 & Utility A  & 0.329     \\\\\n",
       "\t A4         & 10/29/2018 & Utility A  & 0.885     \\\\\n",
       "\\end{tabular}\n"
      ],
      "text/markdown": [
       "\n",
       "| Address | Date_sampled | Municipality | RDT_ppb |\n",
       "|---|---|---|---|\n",
       "| A1         | 10/29/2018 | Utility A  | 0.694      |\n",
       "| A2         | 10/29/2018 | Utility A  | 1.255      |\n",
       "| A3         | 10/29/2018 | Utility A  | 0.329      |\n",
       "| A4         | 10/29/2018 | Utility A  | 0.885      |\n",
       "\n"
      ],
      "text/plain": [
       "  Address Date_sampled Municipality RDT_ppb\n",
       "1 A1      10/29/2018   Utility A    0.694  \n",
       "2 A2      10/29/2018   Utility A    1.255  \n",
       "3 A3      10/29/2018   Utility A    0.329  \n",
       "4 A4      10/29/2018   Utility A    0.885  "
      ]
     },
     "metadata": {},
     "output_type": "display_data"
    }
   ],
   "source": [
    "survey  %>% \n",
    "head(4)"
   ]
  },
  {
   "cell_type": "code",
   "execution_count": 69,
   "metadata": {},
   "outputs": [
    {
     "data": {
      "text/html": [
       "<table>\n",
       "<thead><tr><th scope=col>Address</th><th scope=col>Date_sampled</th><th scope=col>Municipality</th><th scope=col>Flushed_ppb</th></tr></thead>\n",
       "<tbody>\n",
       "\t<tr><td>A1        </td><td>10/29/2018</td><td>Utility A </td><td>0.506     </td></tr>\n",
       "\t<tr><td>A2        </td><td>10/29/2018</td><td>Utility A </td><td>0.389     </td></tr>\n",
       "\t<tr><td>A3        </td><td>10/29/2018</td><td>Utility A </td><td>0.368     </td></tr>\n",
       "\t<tr><td>A4        </td><td>10/29/2018</td><td>Utility A </td><td>0.168     </td></tr>\n",
       "</tbody>\n",
       "</table>\n"
      ],
      "text/latex": [
       "\\begin{tabular}{r|llll}\n",
       " Address & Date\\_sampled & Municipality & Flushed\\_ppb\\\\\n",
       "\\hline\n",
       "\t A1         & 10/29/2018 & Utility A  & 0.506     \\\\\n",
       "\t A2         & 10/29/2018 & Utility A  & 0.389     \\\\\n",
       "\t A3         & 10/29/2018 & Utility A  & 0.368     \\\\\n",
       "\t A4         & 10/29/2018 & Utility A  & 0.168     \\\\\n",
       "\\end{tabular}\n"
      ],
      "text/markdown": [
       "\n",
       "| Address | Date_sampled | Municipality | Flushed_ppb |\n",
       "|---|---|---|---|\n",
       "| A1         | 10/29/2018 | Utility A  | 0.506      |\n",
       "| A2         | 10/29/2018 | Utility A  | 0.389      |\n",
       "| A3         | 10/29/2018 | Utility A  | 0.368      |\n",
       "| A4         | 10/29/2018 | Utility A  | 0.168      |\n",
       "\n"
      ],
      "text/plain": [
       "  Address Date_sampled Municipality Flushed_ppb\n",
       "1 A1      10/29/2018   Utility A    0.506      \n",
       "2 A2      10/29/2018   Utility A    0.389      \n",
       "3 A3      10/29/2018   Utility A    0.368      \n",
       "4 A4      10/29/2018   Utility A    0.168      "
      ]
     },
     "metadata": {},
     "output_type": "display_data"
    }
   ],
   "source": [
    "compliance  %>% \n",
    "head(4)"
   ]
  },
  {
   "cell_type": "markdown",
   "metadata": {},
   "source": [
    "The two datasets are similar but contain different parameter variables (RDT_ppb and Flushed_ppb). We can use `joins` if to combine both datasets into one, more complete dataset.\n",
    "\n",
    "# Joins\n",
    "\n",
    "Join functions allow you to connect multiple tables based on common variables(columns) so that you can access info from multiple tables at once. There are (believe it or not) 6 different ways to join tables. \n",
    "\n",
    "The most useful of these is a `left join`, which takes a table (say table 1), and then adds all matching records from table 2. The basic syntax of `left_join` is listed below\n",
    "\n",
    "`left_join`(dataframe 1, dateframe 2, by = \"variable names\")\n",
    "\n",
    "R will automatically detect which columns two tables have in common IF they are called the same thing. If not, you have to feed the matching columns names into the join function.\n",
    "\n",
    "## Types of Joins\n",
    "\n",
    "* `left join`: resulting table will show all records from table 1 (the left hand table), and matching records from table 2 (the right hand table)\n",
    "\n",
    "* `right join`: result shows all records from table 2, and matching records from table 1\n",
    "\n",
    "* `inner join`: result shows only 'matched' records - where there is a matching value in both tables\n",
    "\n",
    "* `full join`: result shows all records from both tables\n",
    "\n",
    "* `anti join`: removes all records from table 1 that have a match in table 2\n",
    "\n",
    "* `semi join`: removes all records from table 2 that have a match in table 1\n",
    "\n",
    "We can create a new dataframe with information all the information from both `survey` and `compliance` joining the two dataframes using the qualifying variables \"Address\", \"Date_sampled\", and \"Municipality\".\n"
   ]
  },
  {
   "cell_type": "code",
   "execution_count": 11,
   "metadata": {},
   "outputs": [
    {
     "data": {
      "text/html": [
       "<ol class=list-inline>\n",
       "\t<li>106</li>\n",
       "\t<li>5</li>\n",
       "</ol>\n"
      ],
      "text/latex": [
       "\\begin{enumerate*}\n",
       "\\item 106\n",
       "\\item 5\n",
       "\\end{enumerate*}\n"
      ],
      "text/markdown": [
       "1. 106\n",
       "2. 5\n",
       "\n",
       "\n"
      ],
      "text/plain": [
       "[1] 106   5"
      ]
     },
     "metadata": {},
     "output_type": "display_data"
    }
   ],
   "source": [
    "combined_lead<- left_join(survey,compliance, by =c(\"Address\", \"Date_sampled\", \"Municipality\"))"
   ]
  },
  {
   "cell_type": "markdown",
   "metadata": {},
   "source": [
    "Let's look at the combined dataset below"
   ]
  },
  {
   "cell_type": "code",
   "execution_count": 12,
   "metadata": {},
   "outputs": [
    {
     "data": {
      "text/html": [
       "<table>\n",
       "<thead><tr><th scope=col>Address</th><th scope=col>Date_sampled</th><th scope=col>Municipality</th><th scope=col>RDT_ppb</th><th scope=col>Flushed_ppb</th></tr></thead>\n",
       "<tbody>\n",
       "\t<tr><td>A1        </td><td>10/29/2018</td><td>Utility A </td><td>0.694     </td><td>0.506     </td></tr>\n",
       "\t<tr><td>A2        </td><td>10/29/2018</td><td>Utility A </td><td>1.255     </td><td>0.389     </td></tr>\n",
       "\t<tr><td>A3        </td><td>10/29/2018</td><td>Utility A </td><td>0.329     </td><td>0.368     </td></tr>\n",
       "\t<tr><td>A4        </td><td>10/29/2018</td><td>Utility A </td><td>0.885     </td><td>0.168     </td></tr>\n",
       "</tbody>\n",
       "</table>\n"
      ],
      "text/latex": [
       "\\begin{tabular}{r|lllll}\n",
       " Address & Date\\_sampled & Municipality & RDT\\_ppb & Flushed\\_ppb\\\\\n",
       "\\hline\n",
       "\t A1         & 10/29/2018 & Utility A  & 0.694      & 0.506     \\\\\n",
       "\t A2         & 10/29/2018 & Utility A  & 1.255      & 0.389     \\\\\n",
       "\t A3         & 10/29/2018 & Utility A  & 0.329      & 0.368     \\\\\n",
       "\t A4         & 10/29/2018 & Utility A  & 0.885      & 0.168     \\\\\n",
       "\\end{tabular}\n"
      ],
      "text/markdown": [
       "\n",
       "| Address | Date_sampled | Municipality | RDT_ppb | Flushed_ppb |\n",
       "|---|---|---|---|---|\n",
       "| A1         | 10/29/2018 | Utility A  | 0.694      | 0.506      |\n",
       "| A2         | 10/29/2018 | Utility A  | 1.255      | 0.389      |\n",
       "| A3         | 10/29/2018 | Utility A  | 0.329      | 0.368      |\n",
       "| A4         | 10/29/2018 | Utility A  | 0.885      | 0.168      |\n",
       "\n"
      ],
      "text/plain": [
       "  Address Date_sampled Municipality RDT_ppb Flushed_ppb\n",
       "1 A1      10/29/2018   Utility A    0.694   0.506      \n",
       "2 A2      10/29/2018   Utility A    1.255   0.389      \n",
       "3 A3      10/29/2018   Utility A    0.329   0.368      \n",
       "4 A4      10/29/2018   Utility A    0.885   0.168      "
      ]
     },
     "metadata": {},
     "output_type": "display_data"
    }
   ],
   "source": [
    "combined_lead  %>% \n",
    "head(4)"
   ]
  },
  {
   "cell_type": "markdown",
   "metadata": {},
   "source": [
    "We can see that `left_join` combined RDT_ppb and Flushed_ppb data by the same address, municipality, and date sampled."
   ]
  },
  {
   "cell_type": "markdown",
   "metadata": {},
   "source": [
    "Next, we're going to learn some of the most common `dplyr` functions:\n",
    "\n",
    "* `select()`: subset columns\n",
    "* `filter()`: subset rows on conditions\n",
    "* `mutate()`: create new columns by using information from other columns\n",
    "* `group_by()` and `summarize()`: create summary statistics on grouped data\n",
    "* `arrange()`: sort results\n",
    "* `count()`: count discrete values\n",
    "\n",
    "_________________________________________________________________________________________________________________________"
   ]
  },
  {
   "cell_type": "markdown",
   "metadata": {},
   "source": [
    "# Selecting columns and filtering rows\n",
    "\n",
    "If we only want to keep certain columns of data, we can use `select()`. The first argument to this function is the dataset, and the subsequent arguments are the columns to keep.\n",
    "\n",
    "**select**(data, column names)\n",
    "\n",
    "In the following code, we have selected the columns \"Address\", \"Municipality\", and \"RDT_ppb\". "
   ]
  },
  {
   "cell_type": "code",
   "execution_count": 31,
   "metadata": {},
   "outputs": [
    {
     "data": {
      "text/html": [
       "<table>\n",
       "<thead><tr><th scope=col>Address</th><th scope=col>Municipality</th><th scope=col>RDT_ppb</th></tr></thead>\n",
       "<tbody>\n",
       "\t<tr><td>A1       </td><td>Utility A</td><td> 0.694   </td></tr>\n",
       "\t<tr><td>A2       </td><td>Utility A</td><td> 1.255   </td></tr>\n",
       "\t<tr><td>A3       </td><td>Utility A</td><td> 0.329   </td></tr>\n",
       "\t<tr><td>A4       </td><td>Utility A</td><td> 0.885   </td></tr>\n",
       "\t<tr><td>A5       </td><td>Utility A</td><td>22.970   </td></tr>\n",
       "\t<tr><td>A6       </td><td>Utility A</td><td> 0.161   </td></tr>\n",
       "\t<tr><td>A7       </td><td>Utility A</td><td> 0.089   </td></tr>\n",
       "\t<tr><td>A8       </td><td>Utility A</td><td> 0.794   </td></tr>\n",
       "\t<tr><td>A9       </td><td>Utility A</td><td> 0.112   </td></tr>\n",
       "\t<tr><td>A10      </td><td>Utility A</td><td> 0.755   </td></tr>\n",
       "\t<tr><td>A11      </td><td>Utility A</td><td> 0.421   </td></tr>\n",
       "\t<tr><td>A12      </td><td>Utility A</td><td> 2.479   </td></tr>\n",
       "\t<tr><td>A13      </td><td>Utility A</td><td> 1.072   </td></tr>\n",
       "\t<tr><td>A14      </td><td>Utility A</td><td> 0.391   </td></tr>\n",
       "\t<tr><td>A15      </td><td>Utility A</td><td> 0.519   </td></tr>\n",
       "\t<tr><td>A16      </td><td>Utility A</td><td> 0.300   </td></tr>\n",
       "\t<tr><td>A17      </td><td>Utility A</td><td> 0.054   </td></tr>\n",
       "\t<tr><td>A18      </td><td>Utility A</td><td> 9.100   </td></tr>\n",
       "\t<tr><td>A19      </td><td>Utility A</td><td> 1.654   </td></tr>\n",
       "\t<tr><td>A20      </td><td>Utility A</td><td> 0.769   </td></tr>\n",
       "\t<tr><td>A21      </td><td>Utility A</td><td> 0.059   </td></tr>\n",
       "\t<tr><td>A22      </td><td>Utility A</td><td> 1.877   </td></tr>\n",
       "\t<tr><td>A23      </td><td>Utility A</td><td> 0.056   </td></tr>\n",
       "\t<tr><td>A24      </td><td>Utility A</td><td> 4.621   </td></tr>\n",
       "\t<tr><td>A25      </td><td>Utility A</td><td> 1.223   </td></tr>\n",
       "\t<tr><td>A26      </td><td>Utility A</td><td> 4.554   </td></tr>\n",
       "\t<tr><td>A27      </td><td>Utility A</td><td> 0.378   </td></tr>\n",
       "\t<tr><td>A28      </td><td>Utility A</td><td> 7.703   </td></tr>\n",
       "\t<tr><td>A29      </td><td>Utility A</td><td> 0.225   </td></tr>\n",
       "\t<tr><td>A30      </td><td>Utility A</td><td> 6.959   </td></tr>\n",
       "\t<tr><td>...</td><td>...</td><td>...</td></tr>\n",
       "\t<tr><td>C7       </td><td>Utility C</td><td> 0.076   </td></tr>\n",
       "\t<tr><td>C8       </td><td>Utility C</td><td> 0.444   </td></tr>\n",
       "\t<tr><td>C9       </td><td>Utility C</td><td> 0.002   </td></tr>\n",
       "\t<tr><td>C10      </td><td>Utility C</td><td> 3.233   </td></tr>\n",
       "\t<tr><td>C11      </td><td>Utility C</td><td> 0.438   </td></tr>\n",
       "\t<tr><td>C12      </td><td>Utility C</td><td> 0.159   </td></tr>\n",
       "\t<tr><td>C13      </td><td>Utility C</td><td> 0.201   </td></tr>\n",
       "\t<tr><td>C14      </td><td>Utility C</td><td> 0.092   </td></tr>\n",
       "\t<tr><td>C15      </td><td>Utility C</td><td> 0.657   </td></tr>\n",
       "\t<tr><td>C16      </td><td>Utility C</td><td> 0.038   </td></tr>\n",
       "\t<tr><td>C17      </td><td>Utility C</td><td> 1.250   </td></tr>\n",
       "\t<tr><td>C18      </td><td>Utility C</td><td> 0.765   </td></tr>\n",
       "\t<tr><td>C19      </td><td>Utility C</td><td> 0.785   </td></tr>\n",
       "\t<tr><td>C20      </td><td>Utility C</td><td> 0.383   </td></tr>\n",
       "\t<tr><td>D1       </td><td>Utility D</td><td> 0.204   </td></tr>\n",
       "\t<tr><td>D2       </td><td>Utility D</td><td> 0.023   </td></tr>\n",
       "\t<tr><td>D3       </td><td>Utility D</td><td> 0.132   </td></tr>\n",
       "\t<tr><td>D4       </td><td>Utility D</td><td> 4.692   </td></tr>\n",
       "\t<tr><td>D5       </td><td>Utility D</td><td> 0.305   </td></tr>\n",
       "\t<tr><td>D6       </td><td>Utility D</td><td> 0.098   </td></tr>\n",
       "\t<tr><td>D7       </td><td>Utility D</td><td> 0.152   </td></tr>\n",
       "\t<tr><td>D8       </td><td>Utility D</td><td>-0.006   </td></tr>\n",
       "\t<tr><td>D9       </td><td>Utility D</td><td> 0.299   </td></tr>\n",
       "\t<tr><td>D10      </td><td>Utility D</td><td> 0.003   </td></tr>\n",
       "\t<tr><td>D11      </td><td>Utility D</td><td> 0.053   </td></tr>\n",
       "\t<tr><td>D12      </td><td>Utility D</td><td> 0.003   </td></tr>\n",
       "\t<tr><td>D13      </td><td>Utility D</td><td> 0.012   </td></tr>\n",
       "\t<tr><td>D14      </td><td>Utility D</td><td>-0.008   </td></tr>\n",
       "\t<tr><td>D15      </td><td>Utility D</td><td> 0.049   </td></tr>\n",
       "\t<tr><td>D16      </td><td>Utility D</td><td>-0.007   </td></tr>\n",
       "</tbody>\n",
       "</table>\n"
      ],
      "text/latex": [
       "\\begin{tabular}{r|lll}\n",
       " Address & Municipality & RDT\\_ppb\\\\\n",
       "\\hline\n",
       "\t A1        & Utility A &  0.694   \\\\\n",
       "\t A2        & Utility A &  1.255   \\\\\n",
       "\t A3        & Utility A &  0.329   \\\\\n",
       "\t A4        & Utility A &  0.885   \\\\\n",
       "\t A5        & Utility A & 22.970   \\\\\n",
       "\t A6        & Utility A &  0.161   \\\\\n",
       "\t A7        & Utility A &  0.089   \\\\\n",
       "\t A8        & Utility A &  0.794   \\\\\n",
       "\t A9        & Utility A &  0.112   \\\\\n",
       "\t A10       & Utility A &  0.755   \\\\\n",
       "\t A11       & Utility A &  0.421   \\\\\n",
       "\t A12       & Utility A &  2.479   \\\\\n",
       "\t A13       & Utility A &  1.072   \\\\\n",
       "\t A14       & Utility A &  0.391   \\\\\n",
       "\t A15       & Utility A &  0.519   \\\\\n",
       "\t A16       & Utility A &  0.300   \\\\\n",
       "\t A17       & Utility A &  0.054   \\\\\n",
       "\t A18       & Utility A &  9.100   \\\\\n",
       "\t A19       & Utility A &  1.654   \\\\\n",
       "\t A20       & Utility A &  0.769   \\\\\n",
       "\t A21       & Utility A &  0.059   \\\\\n",
       "\t A22       & Utility A &  1.877   \\\\\n",
       "\t A23       & Utility A &  0.056   \\\\\n",
       "\t A24       & Utility A &  4.621   \\\\\n",
       "\t A25       & Utility A &  1.223   \\\\\n",
       "\t A26       & Utility A &  4.554   \\\\\n",
       "\t A27       & Utility A &  0.378   \\\\\n",
       "\t A28       & Utility A &  7.703   \\\\\n",
       "\t A29       & Utility A &  0.225   \\\\\n",
       "\t A30       & Utility A &  6.959   \\\\\n",
       "\t ... & ... & ...\\\\\n",
       "\t C7        & Utility C &  0.076   \\\\\n",
       "\t C8        & Utility C &  0.444   \\\\\n",
       "\t C9        & Utility C &  0.002   \\\\\n",
       "\t C10       & Utility C &  3.233   \\\\\n",
       "\t C11       & Utility C &  0.438   \\\\\n",
       "\t C12       & Utility C &  0.159   \\\\\n",
       "\t C13       & Utility C &  0.201   \\\\\n",
       "\t C14       & Utility C &  0.092   \\\\\n",
       "\t C15       & Utility C &  0.657   \\\\\n",
       "\t C16       & Utility C &  0.038   \\\\\n",
       "\t C17       & Utility C &  1.250   \\\\\n",
       "\t C18       & Utility C &  0.765   \\\\\n",
       "\t C19       & Utility C &  0.785   \\\\\n",
       "\t C20       & Utility C &  0.383   \\\\\n",
       "\t D1        & Utility D &  0.204   \\\\\n",
       "\t D2        & Utility D &  0.023   \\\\\n",
       "\t D3        & Utility D &  0.132   \\\\\n",
       "\t D4        & Utility D &  4.692   \\\\\n",
       "\t D5        & Utility D &  0.305   \\\\\n",
       "\t D6        & Utility D &  0.098   \\\\\n",
       "\t D7        & Utility D &  0.152   \\\\\n",
       "\t D8        & Utility D & -0.006   \\\\\n",
       "\t D9        & Utility D &  0.299   \\\\\n",
       "\t D10       & Utility D &  0.003   \\\\\n",
       "\t D11       & Utility D &  0.053   \\\\\n",
       "\t D12       & Utility D &  0.003   \\\\\n",
       "\t D13       & Utility D &  0.012   \\\\\n",
       "\t D14       & Utility D & -0.008   \\\\\n",
       "\t D15       & Utility D &  0.049   \\\\\n",
       "\t D16       & Utility D & -0.007   \\\\\n",
       "\\end{tabular}\n"
      ],
      "text/markdown": [
       "\n",
       "| Address | Municipality | RDT_ppb |\n",
       "|---|---|---|\n",
       "| A1        | Utility A |  0.694    |\n",
       "| A2        | Utility A |  1.255    |\n",
       "| A3        | Utility A |  0.329    |\n",
       "| A4        | Utility A |  0.885    |\n",
       "| A5        | Utility A | 22.970    |\n",
       "| A6        | Utility A |  0.161    |\n",
       "| A7        | Utility A |  0.089    |\n",
       "| A8        | Utility A |  0.794    |\n",
       "| A9        | Utility A |  0.112    |\n",
       "| A10       | Utility A |  0.755    |\n",
       "| A11       | Utility A |  0.421    |\n",
       "| A12       | Utility A |  2.479    |\n",
       "| A13       | Utility A |  1.072    |\n",
       "| A14       | Utility A |  0.391    |\n",
       "| A15       | Utility A |  0.519    |\n",
       "| A16       | Utility A |  0.300    |\n",
       "| A17       | Utility A |  0.054    |\n",
       "| A18       | Utility A |  9.100    |\n",
       "| A19       | Utility A |  1.654    |\n",
       "| A20       | Utility A |  0.769    |\n",
       "| A21       | Utility A |  0.059    |\n",
       "| A22       | Utility A |  1.877    |\n",
       "| A23       | Utility A |  0.056    |\n",
       "| A24       | Utility A |  4.621    |\n",
       "| A25       | Utility A |  1.223    |\n",
       "| A26       | Utility A |  4.554    |\n",
       "| A27       | Utility A |  0.378    |\n",
       "| A28       | Utility A |  7.703    |\n",
       "| A29       | Utility A |  0.225    |\n",
       "| A30       | Utility A |  6.959    |\n",
       "| ... | ... | ... |\n",
       "| C7        | Utility C |  0.076    |\n",
       "| C8        | Utility C |  0.444    |\n",
       "| C9        | Utility C |  0.002    |\n",
       "| C10       | Utility C |  3.233    |\n",
       "| C11       | Utility C |  0.438    |\n",
       "| C12       | Utility C |  0.159    |\n",
       "| C13       | Utility C |  0.201    |\n",
       "| C14       | Utility C |  0.092    |\n",
       "| C15       | Utility C |  0.657    |\n",
       "| C16       | Utility C |  0.038    |\n",
       "| C17       | Utility C |  1.250    |\n",
       "| C18       | Utility C |  0.765    |\n",
       "| C19       | Utility C |  0.785    |\n",
       "| C20       | Utility C |  0.383    |\n",
       "| D1        | Utility D |  0.204    |\n",
       "| D2        | Utility D |  0.023    |\n",
       "| D3        | Utility D |  0.132    |\n",
       "| D4        | Utility D |  4.692    |\n",
       "| D5        | Utility D |  0.305    |\n",
       "| D6        | Utility D |  0.098    |\n",
       "| D7        | Utility D |  0.152    |\n",
       "| D8        | Utility D | -0.006    |\n",
       "| D9        | Utility D |  0.299    |\n",
       "| D10       | Utility D |  0.003    |\n",
       "| D11       | Utility D |  0.053    |\n",
       "| D12       | Utility D |  0.003    |\n",
       "| D13       | Utility D |  0.012    |\n",
       "| D14       | Utility D | -0.008    |\n",
       "| D15       | Utility D |  0.049    |\n",
       "| D16       | Utility D | -0.007    |\n",
       "\n"
      ],
      "text/plain": [
       "    Address Municipality RDT_ppb\n",
       "1   A1      Utility A     0.694 \n",
       "2   A2      Utility A     1.255 \n",
       "3   A3      Utility A     0.329 \n",
       "4   A4      Utility A     0.885 \n",
       "5   A5      Utility A    22.970 \n",
       "6   A6      Utility A     0.161 \n",
       "7   A7      Utility A     0.089 \n",
       "8   A8      Utility A     0.794 \n",
       "9   A9      Utility A     0.112 \n",
       "10  A10     Utility A     0.755 \n",
       "11  A11     Utility A     0.421 \n",
       "12  A12     Utility A     2.479 \n",
       "13  A13     Utility A     1.072 \n",
       "14  A14     Utility A     0.391 \n",
       "15  A15     Utility A     0.519 \n",
       "16  A16     Utility A     0.300 \n",
       "17  A17     Utility A     0.054 \n",
       "18  A18     Utility A     9.100 \n",
       "19  A19     Utility A     1.654 \n",
       "20  A20     Utility A     0.769 \n",
       "21  A21     Utility A     0.059 \n",
       "22  A22     Utility A     1.877 \n",
       "23  A23     Utility A     0.056 \n",
       "24  A24     Utility A     4.621 \n",
       "25  A25     Utility A     1.223 \n",
       "26  A26     Utility A     4.554 \n",
       "27  A27     Utility A     0.378 \n",
       "28  A28     Utility A     7.703 \n",
       "29  A29     Utility A     0.225 \n",
       "30  A30     Utility A     6.959 \n",
       "... ...     ...          ...    \n",
       "72  C7      Utility C     0.076 \n",
       "73  C8      Utility C     0.444 \n",
       "74  C9      Utility C     0.002 \n",
       "75  C10     Utility C     3.233 \n",
       "76  C11     Utility C     0.438 \n",
       "77  C12     Utility C     0.159 \n",
       "78  C13     Utility C     0.201 \n",
       "79  C14     Utility C     0.092 \n",
       "80  C15     Utility C     0.657 \n",
       "81  C16     Utility C     0.038 \n",
       "82  C17     Utility C     1.250 \n",
       "83  C18     Utility C     0.765 \n",
       "84  C19     Utility C     0.785 \n",
       "85  C20     Utility C     0.383 \n",
       "86  D1      Utility D     0.204 \n",
       "87  D2      Utility D     0.023 \n",
       "88  D3      Utility D     0.132 \n",
       "89  D4      Utility D     4.692 \n",
       "90  D5      Utility D     0.305 \n",
       "91  D6      Utility D     0.098 \n",
       "92  D7      Utility D     0.152 \n",
       "93  D8      Utility D    -0.006 \n",
       "94  D9      Utility D     0.299 \n",
       "95  D10     Utility D     0.003 \n",
       "96  D11     Utility D     0.053 \n",
       "97  D12     Utility D     0.003 \n",
       "98  D13     Utility D     0.012 \n",
       "99  D14     Utility D    -0.008 \n",
       "100 D15     Utility D     0.049 \n",
       "101 D16     Utility D    -0.007 "
      ]
     },
     "metadata": {},
     "output_type": "display_data"
    }
   ],
   "source": [
    "select(combined_lead, Address, Municipality, RDT_ppb) "
   ]
  },
  {
   "cell_type": "markdown",
   "metadata": {},
   "source": [
    "To select all columns except certain ones, put a \"-\" in front of the variable to exclude it. In the following code, we want to exclude the columns \"Date_sampled\" and \"Municipality\""
   ]
  },
  {
   "cell_type": "code",
   "execution_count": 70,
   "metadata": {},
   "outputs": [
    {
     "data": {
      "text/html": [
       "<table>\n",
       "<thead><tr><th scope=col>Address</th><th scope=col>RDT_ppb</th></tr></thead>\n",
       "<tbody>\n",
       "\t<tr><td>A1    </td><td> 0.694</td></tr>\n",
       "\t<tr><td>A2    </td><td> 1.255</td></tr>\n",
       "\t<tr><td>A3    </td><td> 0.329</td></tr>\n",
       "\t<tr><td>A4    </td><td> 0.885</td></tr>\n",
       "\t<tr><td>A5    </td><td>22.970</td></tr>\n",
       "\t<tr><td>A6    </td><td> 0.161</td></tr>\n",
       "\t<tr><td>A7    </td><td> 0.089</td></tr>\n",
       "\t<tr><td>A8    </td><td> 0.794</td></tr>\n",
       "\t<tr><td>A9    </td><td> 0.112</td></tr>\n",
       "\t<tr><td>A10   </td><td> 0.755</td></tr>\n",
       "\t<tr><td>A11   </td><td> 0.421</td></tr>\n",
       "\t<tr><td>A12   </td><td> 2.479</td></tr>\n",
       "\t<tr><td>A13   </td><td> 1.072</td></tr>\n",
       "\t<tr><td>A14   </td><td> 0.391</td></tr>\n",
       "\t<tr><td>A15   </td><td> 0.519</td></tr>\n",
       "\t<tr><td>A16   </td><td> 0.300</td></tr>\n",
       "\t<tr><td>A17   </td><td> 0.054</td></tr>\n",
       "\t<tr><td>A18   </td><td> 9.100</td></tr>\n",
       "\t<tr><td>A19   </td><td> 1.654</td></tr>\n",
       "\t<tr><td>A20   </td><td> 0.769</td></tr>\n",
       "\t<tr><td>A21   </td><td> 0.059</td></tr>\n",
       "\t<tr><td>A22   </td><td> 1.877</td></tr>\n",
       "\t<tr><td>A23   </td><td> 0.056</td></tr>\n",
       "\t<tr><td>A24   </td><td> 4.621</td></tr>\n",
       "\t<tr><td>A25   </td><td> 1.223</td></tr>\n",
       "\t<tr><td>A26   </td><td> 4.554</td></tr>\n",
       "\t<tr><td>A27   </td><td> 0.378</td></tr>\n",
       "\t<tr><td>A28   </td><td> 7.703</td></tr>\n",
       "\t<tr><td>A29   </td><td> 0.225</td></tr>\n",
       "\t<tr><td>A30   </td><td> 6.959</td></tr>\n",
       "\t<tr><td>...</td><td>...</td></tr>\n",
       "\t<tr><td>C11   </td><td> 0.438</td></tr>\n",
       "\t<tr><td>C12   </td><td> 0.159</td></tr>\n",
       "\t<tr><td>C13   </td><td> 0.201</td></tr>\n",
       "\t<tr><td>C14   </td><td> 0.092</td></tr>\n",
       "\t<tr><td>C15   </td><td> 0.657</td></tr>\n",
       "\t<tr><td>C16   </td><td> 0.038</td></tr>\n",
       "\t<tr><td>C17   </td><td> 1.250</td></tr>\n",
       "\t<tr><td>C18   </td><td> 0.765</td></tr>\n",
       "\t<tr><td>C19   </td><td> 0.785</td></tr>\n",
       "\t<tr><td>C20   </td><td> 0.383</td></tr>\n",
       "\t<tr><td>C21   </td><td>    NA</td></tr>\n",
       "\t<tr><td>C22   </td><td>    NA</td></tr>\n",
       "\t<tr><td>D1    </td><td> 0.204</td></tr>\n",
       "\t<tr><td>D2    </td><td> 0.023</td></tr>\n",
       "\t<tr><td>D3    </td><td> 0.132</td></tr>\n",
       "\t<tr><td>D4    </td><td> 4.692</td></tr>\n",
       "\t<tr><td>D5    </td><td> 0.305</td></tr>\n",
       "\t<tr><td>D6    </td><td> 0.098</td></tr>\n",
       "\t<tr><td>D7    </td><td> 0.152</td></tr>\n",
       "\t<tr><td>D8    </td><td>-0.006</td></tr>\n",
       "\t<tr><td>D9    </td><td> 0.299</td></tr>\n",
       "\t<tr><td>D10   </td><td> 0.003</td></tr>\n",
       "\t<tr><td>D11   </td><td> 0.053</td></tr>\n",
       "\t<tr><td>D12   </td><td> 0.003</td></tr>\n",
       "\t<tr><td>D13   </td><td> 0.012</td></tr>\n",
       "\t<tr><td>D14   </td><td>-0.008</td></tr>\n",
       "\t<tr><td>D15   </td><td> 0.049</td></tr>\n",
       "\t<tr><td>D16   </td><td>-0.007</td></tr>\n",
       "\t<tr><td>D17   </td><td>    NA</td></tr>\n",
       "\t<tr><td>D18   </td><td>    NA</td></tr>\n",
       "</tbody>\n",
       "</table>\n"
      ],
      "text/latex": [
       "\\begin{tabular}{r|ll}\n",
       " Address & RDT\\_ppb\\\\\n",
       "\\hline\n",
       "\t A1     &  0.694\\\\\n",
       "\t A2     &  1.255\\\\\n",
       "\t A3     &  0.329\\\\\n",
       "\t A4     &  0.885\\\\\n",
       "\t A5     & 22.970\\\\\n",
       "\t A6     &  0.161\\\\\n",
       "\t A7     &  0.089\\\\\n",
       "\t A8     &  0.794\\\\\n",
       "\t A9     &  0.112\\\\\n",
       "\t A10    &  0.755\\\\\n",
       "\t A11    &  0.421\\\\\n",
       "\t A12    &  2.479\\\\\n",
       "\t A13    &  1.072\\\\\n",
       "\t A14    &  0.391\\\\\n",
       "\t A15    &  0.519\\\\\n",
       "\t A16    &  0.300\\\\\n",
       "\t A17    &  0.054\\\\\n",
       "\t A18    &  9.100\\\\\n",
       "\t A19    &  1.654\\\\\n",
       "\t A20    &  0.769\\\\\n",
       "\t A21    &  0.059\\\\\n",
       "\t A22    &  1.877\\\\\n",
       "\t A23    &  0.056\\\\\n",
       "\t A24    &  4.621\\\\\n",
       "\t A25    &  1.223\\\\\n",
       "\t A26    &  4.554\\\\\n",
       "\t A27    &  0.378\\\\\n",
       "\t A28    &  7.703\\\\\n",
       "\t A29    &  0.225\\\\\n",
       "\t A30    &  6.959\\\\\n",
       "\t ... & ...\\\\\n",
       "\t C11    &  0.438\\\\\n",
       "\t C12    &  0.159\\\\\n",
       "\t C13    &  0.201\\\\\n",
       "\t C14    &  0.092\\\\\n",
       "\t C15    &  0.657\\\\\n",
       "\t C16    &  0.038\\\\\n",
       "\t C17    &  1.250\\\\\n",
       "\t C18    &  0.765\\\\\n",
       "\t C19    &  0.785\\\\\n",
       "\t C20    &  0.383\\\\\n",
       "\t C21    &     NA\\\\\n",
       "\t C22    &     NA\\\\\n",
       "\t D1     &  0.204\\\\\n",
       "\t D2     &  0.023\\\\\n",
       "\t D3     &  0.132\\\\\n",
       "\t D4     &  4.692\\\\\n",
       "\t D5     &  0.305\\\\\n",
       "\t D6     &  0.098\\\\\n",
       "\t D7     &  0.152\\\\\n",
       "\t D8     & -0.006\\\\\n",
       "\t D9     &  0.299\\\\\n",
       "\t D10    &  0.003\\\\\n",
       "\t D11    &  0.053\\\\\n",
       "\t D12    &  0.003\\\\\n",
       "\t D13    &  0.012\\\\\n",
       "\t D14    & -0.008\\\\\n",
       "\t D15    &  0.049\\\\\n",
       "\t D16    & -0.007\\\\\n",
       "\t D17    &     NA\\\\\n",
       "\t D18    &     NA\\\\\n",
       "\\end{tabular}\n"
      ],
      "text/markdown": [
       "\n",
       "| Address | RDT_ppb |\n",
       "|---|---|\n",
       "| A1     |  0.694 |\n",
       "| A2     |  1.255 |\n",
       "| A3     |  0.329 |\n",
       "| A4     |  0.885 |\n",
       "| A5     | 22.970 |\n",
       "| A6     |  0.161 |\n",
       "| A7     |  0.089 |\n",
       "| A8     |  0.794 |\n",
       "| A9     |  0.112 |\n",
       "| A10    |  0.755 |\n",
       "| A11    |  0.421 |\n",
       "| A12    |  2.479 |\n",
       "| A13    |  1.072 |\n",
       "| A14    |  0.391 |\n",
       "| A15    |  0.519 |\n",
       "| A16    |  0.300 |\n",
       "| A17    |  0.054 |\n",
       "| A18    |  9.100 |\n",
       "| A19    |  1.654 |\n",
       "| A20    |  0.769 |\n",
       "| A21    |  0.059 |\n",
       "| A22    |  1.877 |\n",
       "| A23    |  0.056 |\n",
       "| A24    |  4.621 |\n",
       "| A25    |  1.223 |\n",
       "| A26    |  4.554 |\n",
       "| A27    |  0.378 |\n",
       "| A28    |  7.703 |\n",
       "| A29    |  0.225 |\n",
       "| A30    |  6.959 |\n",
       "| ... | ... |\n",
       "| C11    |  0.438 |\n",
       "| C12    |  0.159 |\n",
       "| C13    |  0.201 |\n",
       "| C14    |  0.092 |\n",
       "| C15    |  0.657 |\n",
       "| C16    |  0.038 |\n",
       "| C17    |  1.250 |\n",
       "| C18    |  0.765 |\n",
       "| C19    |  0.785 |\n",
       "| C20    |  0.383 |\n",
       "| C21    |     NA |\n",
       "| C22    |     NA |\n",
       "| D1     |  0.204 |\n",
       "| D2     |  0.023 |\n",
       "| D3     |  0.132 |\n",
       "| D4     |  4.692 |\n",
       "| D5     |  0.305 |\n",
       "| D6     |  0.098 |\n",
       "| D7     |  0.152 |\n",
       "| D8     | -0.006 |\n",
       "| D9     |  0.299 |\n",
       "| D10    |  0.003 |\n",
       "| D11    |  0.053 |\n",
       "| D12    |  0.003 |\n",
       "| D13    |  0.012 |\n",
       "| D14    | -0.008 |\n",
       "| D15    |  0.049 |\n",
       "| D16    | -0.007 |\n",
       "| D17    |     NA |\n",
       "| D18    |     NA |\n",
       "\n"
      ],
      "text/plain": [
       "    Address RDT_ppb\n",
       "1   A1       0.694 \n",
       "2   A2       1.255 \n",
       "3   A3       0.329 \n",
       "4   A4       0.885 \n",
       "5   A5      22.970 \n",
       "6   A6       0.161 \n",
       "7   A7       0.089 \n",
       "8   A8       0.794 \n",
       "9   A9       0.112 \n",
       "10  A10      0.755 \n",
       "11  A11      0.421 \n",
       "12  A12      2.479 \n",
       "13  A13      1.072 \n",
       "14  A14      0.391 \n",
       "15  A15      0.519 \n",
       "16  A16      0.300 \n",
       "17  A17      0.054 \n",
       "18  A18      9.100 \n",
       "19  A19      1.654 \n",
       "20  A20      0.769 \n",
       "21  A21      0.059 \n",
       "22  A22      1.877 \n",
       "23  A23      0.056 \n",
       "24  A24      4.621 \n",
       "25  A25      1.223 \n",
       "26  A26      4.554 \n",
       "27  A27      0.378 \n",
       "28  A28      7.703 \n",
       "29  A29      0.225 \n",
       "30  A30      6.959 \n",
       "... ...     ...    \n",
       "77  C11      0.438 \n",
       "78  C12      0.159 \n",
       "79  C13      0.201 \n",
       "80  C14      0.092 \n",
       "81  C15      0.657 \n",
       "82  C16      0.038 \n",
       "83  C17      1.250 \n",
       "84  C18      0.765 \n",
       "85  C19      0.785 \n",
       "86  C20      0.383 \n",
       "87  C21         NA \n",
       "88  C22         NA \n",
       "89  D1       0.204 \n",
       "90  D2       0.023 \n",
       "91  D3       0.132 \n",
       "92  D4       4.692 \n",
       "93  D5       0.305 \n",
       "94  D6       0.098 \n",
       "95  D7       0.152 \n",
       "96  D8      -0.006 \n",
       "97  D9       0.299 \n",
       "98  D10      0.003 \n",
       "99  D11      0.053 \n",
       "100 D12      0.003 \n",
       "101 D13      0.012 \n",
       "102 D14     -0.008 \n",
       "103 D15      0.049 \n",
       "104 D16     -0.007 \n",
       "105 D17         NA \n",
       "106 D18         NA "
      ]
     },
     "metadata": {},
     "output_type": "display_data"
    }
   ],
   "source": [
    "select(survey, -Date_sampled, -Municipality)"
   ]
  },
  {
   "cell_type": "markdown",
   "metadata": {},
   "source": [
    "<div class=\"Q\"><br><br>\n",
    "\n",
    "Using the \"combined_lead\" dataset and the \"-\", what would the code to recreate the dataset in line 32 look like?\n",
    "    \n",
    "ANSWER to be removed in final iteration: select(combined_lead, -Flushed_ppb) <br><br>\n",
    "    \n",
    "    \n",
    "    other mutiple choice options: \n",
    "    \n",
    "    select(combined_lead, Address, Date_sampled)\n",
    "    \n",
    "    select(combined_lead, Address, Date_sampled, Municipality, Flushed_ppb)\n",
    "    \n",
    "    select(combined_lead, Address, Date_sampled, Municipality, Flushed_ppb, -RDT_ppb) \n",
    "\n",
    "<br><br><div class=\"qhelp\"></div></div>"
   ]
  },
  {
   "cell_type": "markdown",
   "metadata": {},
   "source": [
    "\n",
    "What if we only want to select the data from one utility? You can also choose rows based on a specific criterion using the `filter()` function. The syntax for `filter()` is found below\n",
    "\n",
    "filter(dataset, selection criteria)\n",
    "\n",
    "In the following code, we want to select all data from Utility A only."
   ]
  },
  {
   "cell_type": "code",
   "execution_count": 14,
   "metadata": {},
   "outputs": [
    {
     "data": {
      "text/html": [
       "<table>\n",
       "<thead><tr><th scope=col>Address</th><th scope=col>Date_sampled</th><th scope=col>Municipality</th><th scope=col>RDT_ppb</th><th scope=col>Flushed_ppb</th></tr></thead>\n",
       "<tbody>\n",
       "\t<tr><td>A1        </td><td>10/29/2018</td><td>Utility A </td><td> 0.694    </td><td> 0.506    </td></tr>\n",
       "\t<tr><td>A2        </td><td>10/29/2018</td><td>Utility A </td><td> 1.255    </td><td> 0.389    </td></tr>\n",
       "\t<tr><td>A3        </td><td>10/29/2018</td><td>Utility A </td><td> 0.329    </td><td> 0.368    </td></tr>\n",
       "\t<tr><td>A4        </td><td>10/29/2018</td><td>Utility A </td><td> 0.885    </td><td> 0.168    </td></tr>\n",
       "\t<tr><td>A5        </td><td>10/29/2018</td><td>Utility A </td><td>22.970    </td><td> 3.233    </td></tr>\n",
       "\t<tr><td>A6        </td><td>10/29/2018</td><td>Utility A </td><td> 0.161    </td><td> 0.438    </td></tr>\n",
       "\t<tr><td>A7        </td><td>10/29/2018</td><td>Utility A </td><td> 0.089    </td><td> 0.159    </td></tr>\n",
       "\t<tr><td>A8        </td><td>10/29/2018</td><td>Utility A </td><td> 0.794    </td><td> 0.201    </td></tr>\n",
       "\t<tr><td>A9        </td><td>10/29/2018</td><td>Utility A </td><td> 0.112    </td><td> 0.092    </td></tr>\n",
       "\t<tr><td>A10       </td><td>10/29/2018</td><td>Utility A </td><td> 0.755    </td><td> 0.657    </td></tr>\n",
       "\t<tr><td>A11       </td><td>10/29/2018</td><td>Utility A </td><td> 0.421    </td><td> 0.038    </td></tr>\n",
       "\t<tr><td>A12       </td><td>10/29/2018</td><td>Utility A </td><td> 2.479    </td><td> 1.250    </td></tr>\n",
       "\t<tr><td>A13       </td><td>10/29/2018</td><td>Utility A </td><td> 1.072    </td><td> 0.765    </td></tr>\n",
       "\t<tr><td>A14       </td><td>10/29/2018</td><td>Utility A </td><td> 0.391    </td><td> 0.785    </td></tr>\n",
       "\t<tr><td>A15       </td><td>10/29/2018</td><td>Utility A </td><td> 0.519    </td><td> 0.383    </td></tr>\n",
       "\t<tr><td>A16       </td><td>10/2/2018 </td><td>Utility A </td><td> 0.300    </td><td> 0.305    </td></tr>\n",
       "\t<tr><td>A17       </td><td>8/29/2018 </td><td>Utility A </td><td> 0.054    </td><td> 0.098    </td></tr>\n",
       "\t<tr><td>A18       </td><td>8/29/2018 </td><td>Utility A </td><td> 9.100    </td><td> 0.152    </td></tr>\n",
       "\t<tr><td>A19       </td><td>8/29/2018 </td><td>Utility A </td><td> 1.654    </td><td>-0.006    </td></tr>\n",
       "\t<tr><td>A20       </td><td>8/29/2018 </td><td>Utility A </td><td> 0.769    </td><td> 0.299    </td></tr>\n",
       "\t<tr><td>A21       </td><td>8/29/2018 </td><td>Utility A </td><td> 0.059    </td><td> 0.003    </td></tr>\n",
       "\t<tr><td>A22       </td><td>8/29/2018 </td><td>Utility A </td><td> 1.877    </td><td> 0.053    </td></tr>\n",
       "\t<tr><td>A23       </td><td>8/29/2018 </td><td>Utility A </td><td> 0.056    </td><td> 0.003    </td></tr>\n",
       "\t<tr><td>A24       </td><td>8/29/2018 </td><td>Utility A </td><td> 4.621    </td><td> 0.012    </td></tr>\n",
       "\t<tr><td>A25       </td><td>8/29/2018 </td><td>Utility A </td><td> 1.223    </td><td>-0.008    </td></tr>\n",
       "\t<tr><td>A26       </td><td>8/29/2018 </td><td>Utility A </td><td> 4.554    </td><td> 0.049    </td></tr>\n",
       "\t<tr><td>A27       </td><td>8/29/2018 </td><td>Utility A </td><td> 0.378    </td><td>-0.007    </td></tr>\n",
       "\t<tr><td>A28       </td><td>10/2/2018 </td><td>Utility A </td><td> 7.703    </td><td> 0.397    </td></tr>\n",
       "\t<tr><td>A29       </td><td>11/5/2018 </td><td>Utility A </td><td> 0.225    </td><td> 0.009    </td></tr>\n",
       "\t<tr><td>A30       </td><td>11/5/2018 </td><td>Utility A </td><td> 6.959    </td><td> 0.092    </td></tr>\n",
       "\t<tr><td>A31       </td><td>11/5/2018 </td><td>Utility A </td><td> 2.760    </td><td> 0.091    </td></tr>\n",
       "\t<tr><td>A32       </td><td>11/5/2018 </td><td>Utility A </td><td>-0.027    </td><td> 0.208    </td></tr>\n",
       "\t<tr><td>A33       </td><td>11/5/2018 </td><td>Utility A </td><td>-0.078    </td><td> 0.937    </td></tr>\n",
       "\t<tr><td>A34       </td><td>11/5/2018 </td><td>Utility A </td><td>-0.111    </td><td> 0.597    </td></tr>\n",
       "\t<tr><td>A35       </td><td>11/5/2018 </td><td>Utility A </td><td> 0.303    </td><td> 0.301    </td></tr>\n",
       "\t<tr><td>A36       </td><td>11/5/2018 </td><td>Utility A </td><td> 0.560    </td><td> 0.536    </td></tr>\n",
       "\t<tr><td>A37       </td><td>11/5/2018 </td><td>Utility A </td><td> 0.400    </td><td> 0.556    </td></tr>\n",
       "</tbody>\n",
       "</table>\n"
      ],
      "text/latex": [
       "\\begin{tabular}{r|lllll}\n",
       " Address & Date\\_sampled & Municipality & RDT\\_ppb & Flushed\\_ppb\\\\\n",
       "\\hline\n",
       "\t A1         & 10/29/2018 & Utility A  &  0.694     &  0.506    \\\\\n",
       "\t A2         & 10/29/2018 & Utility A  &  1.255     &  0.389    \\\\\n",
       "\t A3         & 10/29/2018 & Utility A  &  0.329     &  0.368    \\\\\n",
       "\t A4         & 10/29/2018 & Utility A  &  0.885     &  0.168    \\\\\n",
       "\t A5         & 10/29/2018 & Utility A  & 22.970     &  3.233    \\\\\n",
       "\t A6         & 10/29/2018 & Utility A  &  0.161     &  0.438    \\\\\n",
       "\t A7         & 10/29/2018 & Utility A  &  0.089     &  0.159    \\\\\n",
       "\t A8         & 10/29/2018 & Utility A  &  0.794     &  0.201    \\\\\n",
       "\t A9         & 10/29/2018 & Utility A  &  0.112     &  0.092    \\\\\n",
       "\t A10        & 10/29/2018 & Utility A  &  0.755     &  0.657    \\\\\n",
       "\t A11        & 10/29/2018 & Utility A  &  0.421     &  0.038    \\\\\n",
       "\t A12        & 10/29/2018 & Utility A  &  2.479     &  1.250    \\\\\n",
       "\t A13        & 10/29/2018 & Utility A  &  1.072     &  0.765    \\\\\n",
       "\t A14        & 10/29/2018 & Utility A  &  0.391     &  0.785    \\\\\n",
       "\t A15        & 10/29/2018 & Utility A  &  0.519     &  0.383    \\\\\n",
       "\t A16        & 10/2/2018  & Utility A  &  0.300     &  0.305    \\\\\n",
       "\t A17        & 8/29/2018  & Utility A  &  0.054     &  0.098    \\\\\n",
       "\t A18        & 8/29/2018  & Utility A  &  9.100     &  0.152    \\\\\n",
       "\t A19        & 8/29/2018  & Utility A  &  1.654     & -0.006    \\\\\n",
       "\t A20        & 8/29/2018  & Utility A  &  0.769     &  0.299    \\\\\n",
       "\t A21        & 8/29/2018  & Utility A  &  0.059     &  0.003    \\\\\n",
       "\t A22        & 8/29/2018  & Utility A  &  1.877     &  0.053    \\\\\n",
       "\t A23        & 8/29/2018  & Utility A  &  0.056     &  0.003    \\\\\n",
       "\t A24        & 8/29/2018  & Utility A  &  4.621     &  0.012    \\\\\n",
       "\t A25        & 8/29/2018  & Utility A  &  1.223     & -0.008    \\\\\n",
       "\t A26        & 8/29/2018  & Utility A  &  4.554     &  0.049    \\\\\n",
       "\t A27        & 8/29/2018  & Utility A  &  0.378     & -0.007    \\\\\n",
       "\t A28        & 10/2/2018  & Utility A  &  7.703     &  0.397    \\\\\n",
       "\t A29        & 11/5/2018  & Utility A  &  0.225     &  0.009    \\\\\n",
       "\t A30        & 11/5/2018  & Utility A  &  6.959     &  0.092    \\\\\n",
       "\t A31        & 11/5/2018  & Utility A  &  2.760     &  0.091    \\\\\n",
       "\t A32        & 11/5/2018  & Utility A  & -0.027     &  0.208    \\\\\n",
       "\t A33        & 11/5/2018  & Utility A  & -0.078     &  0.937    \\\\\n",
       "\t A34        & 11/5/2018  & Utility A  & -0.111     &  0.597    \\\\\n",
       "\t A35        & 11/5/2018  & Utility A  &  0.303     &  0.301    \\\\\n",
       "\t A36        & 11/5/2018  & Utility A  &  0.560     &  0.536    \\\\\n",
       "\t A37        & 11/5/2018  & Utility A  &  0.400     &  0.556    \\\\\n",
       "\\end{tabular}\n"
      ],
      "text/markdown": [
       "\n",
       "| Address | Date_sampled | Municipality | RDT_ppb | Flushed_ppb |\n",
       "|---|---|---|---|---|\n",
       "| A1         | 10/29/2018 | Utility A  |  0.694     |  0.506     |\n",
       "| A2         | 10/29/2018 | Utility A  |  1.255     |  0.389     |\n",
       "| A3         | 10/29/2018 | Utility A  |  0.329     |  0.368     |\n",
       "| A4         | 10/29/2018 | Utility A  |  0.885     |  0.168     |\n",
       "| A5         | 10/29/2018 | Utility A  | 22.970     |  3.233     |\n",
       "| A6         | 10/29/2018 | Utility A  |  0.161     |  0.438     |\n",
       "| A7         | 10/29/2018 | Utility A  |  0.089     |  0.159     |\n",
       "| A8         | 10/29/2018 | Utility A  |  0.794     |  0.201     |\n",
       "| A9         | 10/29/2018 | Utility A  |  0.112     |  0.092     |\n",
       "| A10        | 10/29/2018 | Utility A  |  0.755     |  0.657     |\n",
       "| A11        | 10/29/2018 | Utility A  |  0.421     |  0.038     |\n",
       "| A12        | 10/29/2018 | Utility A  |  2.479     |  1.250     |\n",
       "| A13        | 10/29/2018 | Utility A  |  1.072     |  0.765     |\n",
       "| A14        | 10/29/2018 | Utility A  |  0.391     |  0.785     |\n",
       "| A15        | 10/29/2018 | Utility A  |  0.519     |  0.383     |\n",
       "| A16        | 10/2/2018  | Utility A  |  0.300     |  0.305     |\n",
       "| A17        | 8/29/2018  | Utility A  |  0.054     |  0.098     |\n",
       "| A18        | 8/29/2018  | Utility A  |  9.100     |  0.152     |\n",
       "| A19        | 8/29/2018  | Utility A  |  1.654     | -0.006     |\n",
       "| A20        | 8/29/2018  | Utility A  |  0.769     |  0.299     |\n",
       "| A21        | 8/29/2018  | Utility A  |  0.059     |  0.003     |\n",
       "| A22        | 8/29/2018  | Utility A  |  1.877     |  0.053     |\n",
       "| A23        | 8/29/2018  | Utility A  |  0.056     |  0.003     |\n",
       "| A24        | 8/29/2018  | Utility A  |  4.621     |  0.012     |\n",
       "| A25        | 8/29/2018  | Utility A  |  1.223     | -0.008     |\n",
       "| A26        | 8/29/2018  | Utility A  |  4.554     |  0.049     |\n",
       "| A27        | 8/29/2018  | Utility A  |  0.378     | -0.007     |\n",
       "| A28        | 10/2/2018  | Utility A  |  7.703     |  0.397     |\n",
       "| A29        | 11/5/2018  | Utility A  |  0.225     |  0.009     |\n",
       "| A30        | 11/5/2018  | Utility A  |  6.959     |  0.092     |\n",
       "| A31        | 11/5/2018  | Utility A  |  2.760     |  0.091     |\n",
       "| A32        | 11/5/2018  | Utility A  | -0.027     |  0.208     |\n",
       "| A33        | 11/5/2018  | Utility A  | -0.078     |  0.937     |\n",
       "| A34        | 11/5/2018  | Utility A  | -0.111     |  0.597     |\n",
       "| A35        | 11/5/2018  | Utility A  |  0.303     |  0.301     |\n",
       "| A36        | 11/5/2018  | Utility A  |  0.560     |  0.536     |\n",
       "| A37        | 11/5/2018  | Utility A  |  0.400     |  0.556     |\n",
       "\n"
      ],
      "text/plain": [
       "   Address Date_sampled Municipality RDT_ppb Flushed_ppb\n",
       "1  A1      10/29/2018   Utility A     0.694   0.506     \n",
       "2  A2      10/29/2018   Utility A     1.255   0.389     \n",
       "3  A3      10/29/2018   Utility A     0.329   0.368     \n",
       "4  A4      10/29/2018   Utility A     0.885   0.168     \n",
       "5  A5      10/29/2018   Utility A    22.970   3.233     \n",
       "6  A6      10/29/2018   Utility A     0.161   0.438     \n",
       "7  A7      10/29/2018   Utility A     0.089   0.159     \n",
       "8  A8      10/29/2018   Utility A     0.794   0.201     \n",
       "9  A9      10/29/2018   Utility A     0.112   0.092     \n",
       "10 A10     10/29/2018   Utility A     0.755   0.657     \n",
       "11 A11     10/29/2018   Utility A     0.421   0.038     \n",
       "12 A12     10/29/2018   Utility A     2.479   1.250     \n",
       "13 A13     10/29/2018   Utility A     1.072   0.765     \n",
       "14 A14     10/29/2018   Utility A     0.391   0.785     \n",
       "15 A15     10/29/2018   Utility A     0.519   0.383     \n",
       "16 A16     10/2/2018    Utility A     0.300   0.305     \n",
       "17 A17     8/29/2018    Utility A     0.054   0.098     \n",
       "18 A18     8/29/2018    Utility A     9.100   0.152     \n",
       "19 A19     8/29/2018    Utility A     1.654  -0.006     \n",
       "20 A20     8/29/2018    Utility A     0.769   0.299     \n",
       "21 A21     8/29/2018    Utility A     0.059   0.003     \n",
       "22 A22     8/29/2018    Utility A     1.877   0.053     \n",
       "23 A23     8/29/2018    Utility A     0.056   0.003     \n",
       "24 A24     8/29/2018    Utility A     4.621   0.012     \n",
       "25 A25     8/29/2018    Utility A     1.223  -0.008     \n",
       "26 A26     8/29/2018    Utility A     4.554   0.049     \n",
       "27 A27     8/29/2018    Utility A     0.378  -0.007     \n",
       "28 A28     10/2/2018    Utility A     7.703   0.397     \n",
       "29 A29     11/5/2018    Utility A     0.225   0.009     \n",
       "30 A30     11/5/2018    Utility A     6.959   0.092     \n",
       "31 A31     11/5/2018    Utility A     2.760   0.091     \n",
       "32 A32     11/5/2018    Utility A    -0.027   0.208     \n",
       "33 A33     11/5/2018    Utility A    -0.078   0.937     \n",
       "34 A34     11/5/2018    Utility A    -0.111   0.597     \n",
       "35 A35     11/5/2018    Utility A     0.303   0.301     \n",
       "36 A36     11/5/2018    Utility A     0.560   0.536     \n",
       "37 A37     11/5/2018    Utility A     0.400   0.556     "
      ]
     },
     "metadata": {},
     "output_type": "display_data"
    }
   ],
   "source": [
    "filter(combined_lead, Municipality == \"Utility A\")"
   ]
  },
  {
   "cell_type": "markdown",
   "metadata": {},
   "source": [
    "We can also filter by multiple criteria. Say we want data from Utility A taken on 10/29/2018 only. We can use the `filter()` function and expand out selection criteria."
   ]
  },
  {
   "cell_type": "code",
   "execution_count": 71,
   "metadata": {},
   "outputs": [
    {
     "data": {
      "text/html": [
       "<table>\n",
       "<thead><tr><th scope=col>Address</th><th scope=col>Date_sampled</th><th scope=col>Municipality</th><th scope=col>RDT_ppb</th><th scope=col>Flushed_ppb</th></tr></thead>\n",
       "<tbody>\n",
       "\t<tr><td>A1        </td><td>10/29/2018</td><td>Utility A </td><td> 0.694    </td><td>0.506     </td></tr>\n",
       "\t<tr><td>A2        </td><td>10/29/2018</td><td>Utility A </td><td> 1.255    </td><td>0.389     </td></tr>\n",
       "\t<tr><td>A3        </td><td>10/29/2018</td><td>Utility A </td><td> 0.329    </td><td>0.368     </td></tr>\n",
       "\t<tr><td>A4        </td><td>10/29/2018</td><td>Utility A </td><td> 0.885    </td><td>0.168     </td></tr>\n",
       "\t<tr><td>A5        </td><td>10/29/2018</td><td>Utility A </td><td>22.970    </td><td>3.233     </td></tr>\n",
       "\t<tr><td>A6        </td><td>10/29/2018</td><td>Utility A </td><td> 0.161    </td><td>0.438     </td></tr>\n",
       "\t<tr><td>A7        </td><td>10/29/2018</td><td>Utility A </td><td> 0.089    </td><td>0.159     </td></tr>\n",
       "\t<tr><td>A8        </td><td>10/29/2018</td><td>Utility A </td><td> 0.794    </td><td>0.201     </td></tr>\n",
       "\t<tr><td>A9        </td><td>10/29/2018</td><td>Utility A </td><td> 0.112    </td><td>0.092     </td></tr>\n",
       "\t<tr><td>A10       </td><td>10/29/2018</td><td>Utility A </td><td> 0.755    </td><td>0.657     </td></tr>\n",
       "\t<tr><td>A11       </td><td>10/29/2018</td><td>Utility A </td><td> 0.421    </td><td>0.038     </td></tr>\n",
       "\t<tr><td>A12       </td><td>10/29/2018</td><td>Utility A </td><td> 2.479    </td><td>1.250     </td></tr>\n",
       "\t<tr><td>A13       </td><td>10/29/2018</td><td>Utility A </td><td> 1.072    </td><td>0.765     </td></tr>\n",
       "\t<tr><td>A14       </td><td>10/29/2018</td><td>Utility A </td><td> 0.391    </td><td>0.785     </td></tr>\n",
       "\t<tr><td>A15       </td><td>10/29/2018</td><td>Utility A </td><td> 0.519    </td><td>0.383     </td></tr>\n",
       "</tbody>\n",
       "</table>\n"
      ],
      "text/latex": [
       "\\begin{tabular}{r|lllll}\n",
       " Address & Date\\_sampled & Municipality & RDT\\_ppb & Flushed\\_ppb\\\\\n",
       "\\hline\n",
       "\t A1         & 10/29/2018 & Utility A  &  0.694     & 0.506     \\\\\n",
       "\t A2         & 10/29/2018 & Utility A  &  1.255     & 0.389     \\\\\n",
       "\t A3         & 10/29/2018 & Utility A  &  0.329     & 0.368     \\\\\n",
       "\t A4         & 10/29/2018 & Utility A  &  0.885     & 0.168     \\\\\n",
       "\t A5         & 10/29/2018 & Utility A  & 22.970     & 3.233     \\\\\n",
       "\t A6         & 10/29/2018 & Utility A  &  0.161     & 0.438     \\\\\n",
       "\t A7         & 10/29/2018 & Utility A  &  0.089     & 0.159     \\\\\n",
       "\t A8         & 10/29/2018 & Utility A  &  0.794     & 0.201     \\\\\n",
       "\t A9         & 10/29/2018 & Utility A  &  0.112     & 0.092     \\\\\n",
       "\t A10        & 10/29/2018 & Utility A  &  0.755     & 0.657     \\\\\n",
       "\t A11        & 10/29/2018 & Utility A  &  0.421     & 0.038     \\\\\n",
       "\t A12        & 10/29/2018 & Utility A  &  2.479     & 1.250     \\\\\n",
       "\t A13        & 10/29/2018 & Utility A  &  1.072     & 0.765     \\\\\n",
       "\t A14        & 10/29/2018 & Utility A  &  0.391     & 0.785     \\\\\n",
       "\t A15        & 10/29/2018 & Utility A  &  0.519     & 0.383     \\\\\n",
       "\\end{tabular}\n"
      ],
      "text/markdown": [
       "\n",
       "| Address | Date_sampled | Municipality | RDT_ppb | Flushed_ppb |\n",
       "|---|---|---|---|---|\n",
       "| A1         | 10/29/2018 | Utility A  |  0.694     | 0.506      |\n",
       "| A2         | 10/29/2018 | Utility A  |  1.255     | 0.389      |\n",
       "| A3         | 10/29/2018 | Utility A  |  0.329     | 0.368      |\n",
       "| A4         | 10/29/2018 | Utility A  |  0.885     | 0.168      |\n",
       "| A5         | 10/29/2018 | Utility A  | 22.970     | 3.233      |\n",
       "| A6         | 10/29/2018 | Utility A  |  0.161     | 0.438      |\n",
       "| A7         | 10/29/2018 | Utility A  |  0.089     | 0.159      |\n",
       "| A8         | 10/29/2018 | Utility A  |  0.794     | 0.201      |\n",
       "| A9         | 10/29/2018 | Utility A  |  0.112     | 0.092      |\n",
       "| A10        | 10/29/2018 | Utility A  |  0.755     | 0.657      |\n",
       "| A11        | 10/29/2018 | Utility A  |  0.421     | 0.038      |\n",
       "| A12        | 10/29/2018 | Utility A  |  2.479     | 1.250      |\n",
       "| A13        | 10/29/2018 | Utility A  |  1.072     | 0.765      |\n",
       "| A14        | 10/29/2018 | Utility A  |  0.391     | 0.785      |\n",
       "| A15        | 10/29/2018 | Utility A  |  0.519     | 0.383      |\n",
       "\n"
      ],
      "text/plain": [
       "   Address Date_sampled Municipality RDT_ppb Flushed_ppb\n",
       "1  A1      10/29/2018   Utility A     0.694  0.506      \n",
       "2  A2      10/29/2018   Utility A     1.255  0.389      \n",
       "3  A3      10/29/2018   Utility A     0.329  0.368      \n",
       "4  A4      10/29/2018   Utility A     0.885  0.168      \n",
       "5  A5      10/29/2018   Utility A    22.970  3.233      \n",
       "6  A6      10/29/2018   Utility A     0.161  0.438      \n",
       "7  A7      10/29/2018   Utility A     0.089  0.159      \n",
       "8  A8      10/29/2018   Utility A     0.794  0.201      \n",
       "9  A9      10/29/2018   Utility A     0.112  0.092      \n",
       "10 A10     10/29/2018   Utility A     0.755  0.657      \n",
       "11 A11     10/29/2018   Utility A     0.421  0.038      \n",
       "12 A12     10/29/2018   Utility A     2.479  1.250      \n",
       "13 A13     10/29/2018   Utility A     1.072  0.765      \n",
       "14 A14     10/29/2018   Utility A     0.391  0.785      \n",
       "15 A15     10/29/2018   Utility A     0.519  0.383      "
      ]
     },
     "metadata": {},
     "output_type": "display_data"
    }
   ],
   "source": [
    "filter(combined_lead, Municipality=='Utility A', Date_sampled == '10/29/2018')"
   ]
  },
  {
   "cell_type": "markdown",
   "metadata": {},
   "source": [
    "____________________________________________________________________________________________________________________________\n",
    "\n",
    "# Nested functions vs Pipes (%>%)\n",
    "\n",
    "What if you want to select and filter at the same time? There are three ways to do this: use intermediate steps, nested functions, or pipes.\n",
    "\n",
    "With intermediate steps, you create a temporary data frame and use that as input to the next function. Let's create a subset of data with values of RDT_ppb < 5 then remove the Date_sampled column."
   ]
  },
  {
   "cell_type": "code",
   "execution_count": 73,
   "metadata": {},
   "outputs": [
    {
     "data": {
      "text/html": [
       "<table>\n",
       "<thead><tr><th scope=col>Address</th><th scope=col>Municipality</th><th scope=col>RDT_ppb</th><th scope=col>Flushed_ppb</th></tr></thead>\n",
       "<tbody>\n",
       "\t<tr><td>A1       </td><td>Utility A</td><td>0.694    </td><td>0.506    </td></tr>\n",
       "\t<tr><td>A2       </td><td>Utility A</td><td>1.255    </td><td>0.389    </td></tr>\n",
       "\t<tr><td>A3       </td><td>Utility A</td><td>0.329    </td><td>0.368    </td></tr>\n",
       "\t<tr><td>A4       </td><td>Utility A</td><td>0.885    </td><td>0.168    </td></tr>\n",
       "\t<tr><td>A6       </td><td>Utility A</td><td>0.161    </td><td>0.438    </td></tr>\n",
       "\t<tr><td>A7       </td><td>Utility A</td><td>0.089    </td><td>0.159    </td></tr>\n",
       "\t<tr><td>A8       </td><td>Utility A</td><td>0.794    </td><td>0.201    </td></tr>\n",
       "\t<tr><td>A9       </td><td>Utility A</td><td>0.112    </td><td>0.092    </td></tr>\n",
       "</tbody>\n",
       "</table>\n"
      ],
      "text/latex": [
       "\\begin{tabular}{r|llll}\n",
       " Address & Municipality & RDT\\_ppb & Flushed\\_ppb\\\\\n",
       "\\hline\n",
       "\t A1        & Utility A & 0.694     & 0.506    \\\\\n",
       "\t A2        & Utility A & 1.255     & 0.389    \\\\\n",
       "\t A3        & Utility A & 0.329     & 0.368    \\\\\n",
       "\t A4        & Utility A & 0.885     & 0.168    \\\\\n",
       "\t A6        & Utility A & 0.161     & 0.438    \\\\\n",
       "\t A7        & Utility A & 0.089     & 0.159    \\\\\n",
       "\t A8        & Utility A & 0.794     & 0.201    \\\\\n",
       "\t A9        & Utility A & 0.112     & 0.092    \\\\\n",
       "\\end{tabular}\n"
      ],
      "text/markdown": [
       "\n",
       "| Address | Municipality | RDT_ppb | Flushed_ppb |\n",
       "|---|---|---|---|\n",
       "| A1        | Utility A | 0.694     | 0.506     |\n",
       "| A2        | Utility A | 1.255     | 0.389     |\n",
       "| A3        | Utility A | 0.329     | 0.368     |\n",
       "| A4        | Utility A | 0.885     | 0.168     |\n",
       "| A6        | Utility A | 0.161     | 0.438     |\n",
       "| A7        | Utility A | 0.089     | 0.159     |\n",
       "| A8        | Utility A | 0.794     | 0.201     |\n",
       "| A9        | Utility A | 0.112     | 0.092     |\n",
       "\n"
      ],
      "text/plain": [
       "  Address Municipality RDT_ppb Flushed_ppb\n",
       "1 A1      Utility A    0.694   0.506      \n",
       "2 A2      Utility A    1.255   0.389      \n",
       "3 A3      Utility A    0.329   0.368      \n",
       "4 A4      Utility A    0.885   0.168      \n",
       "5 A6      Utility A    0.161   0.438      \n",
       "6 A7      Utility A    0.089   0.159      \n",
       "7 A8      Utility A    0.794   0.201      \n",
       "8 A9      Utility A    0.112   0.092      "
      ]
     },
     "metadata": {},
     "output_type": "display_data"
    }
   ],
   "source": [
    "#Creates a new data frame with rows where RDT_ppb < 5\n",
    "lessthan5 <- filter(combined_lead, RDT_ppb <5 )\n",
    "\n",
    "#Then only selects the columns \"Address\", \"Municipality\", \"RDT_ppb\", and \"Flushed_ppb\"  \n",
    " lessthan5_sml<- select(lessthan5, Address, Municipality, RDT_ppb, Flushed_ppb)\n",
    "\n",
    "#inspect new dataframe\n",
    "\n",
    "lessthan5_sml  %>% \n",
    "head(8)"
   ]
  },
  {
   "cell_type": "markdown",
   "metadata": {},
   "source": [
    "This is readable, but is clunky and can clutter up your workspace with lots of small objects that youd have to keep track of.\n",
    "\n",
    "Another method would be to nest functions (i.e. one function inside of another), like this:"
   ]
  },
  {
   "cell_type": "code",
   "execution_count": null,
   "metadata": {},
   "outputs": [],
   "source": [
    "lessthan5_sml <- select(filter(combined_lead, RDT_ppb <5), Address, Municipality, RDT_ppb, Flushed_ppb)"
   ]
  },
  {
   "cell_type": "markdown",
   "metadata": {},
   "source": [
    "R evaluates the expression from the inside out (in this case, filtering, then selecting). **I would avoid this method since it makes debugging your code a nightmare!**\n",
    "\n",
    "A better method is to use pipes. Pipes let you take the output of one function and send it directly to the next, which is useful when you need to do many things to the same dataset. Pipes in R look like `%>%` and are made available via the `magrittr` package, installed automatically with `dplyr`. \n",
    "\n",
    "If you use RStudio, you can type the pipe with `Ctrl + Shift + M` if you have a PC or `Cmd + Shift + M` if you have a Mac.\n",
    "\n",
    "We will re-create the `lessthan5_sml` dataset using pipes. First, we want to filter data from the `combined_lead` dataset, keeping rows where RDT_ppb < 5, then select only the Address, Municipality, RDT_ppb and Flushed_ppb columns. We will use the pipe to send the `combined_lead` dataset through the `filter()` then `select()` functions. "
   ]
  },
  {
   "cell_type": "code",
   "execution_count": 75,
   "metadata": {},
   "outputs": [
    {
     "data": {
      "text/html": [
       "<table>\n",
       "<thead><tr><th scope=col>Address</th><th scope=col>Municipality</th><th scope=col>RDT_ppb</th><th scope=col>Flushed_ppb</th></tr></thead>\n",
       "<tbody>\n",
       "\t<tr><td>A1       </td><td>Utility A</td><td>0.694    </td><td>0.506    </td></tr>\n",
       "\t<tr><td>A2       </td><td>Utility A</td><td>1.255    </td><td>0.389    </td></tr>\n",
       "\t<tr><td>A3       </td><td>Utility A</td><td>0.329    </td><td>0.368    </td></tr>\n",
       "\t<tr><td>A4       </td><td>Utility A</td><td>0.885    </td><td>0.168    </td></tr>\n",
       "\t<tr><td>A6       </td><td>Utility A</td><td>0.161    </td><td>0.438    </td></tr>\n",
       "\t<tr><td>A7       </td><td>Utility A</td><td>0.089    </td><td>0.159    </td></tr>\n",
       "\t<tr><td>A8       </td><td>Utility A</td><td>0.794    </td><td>0.201    </td></tr>\n",
       "\t<tr><td>A9       </td><td>Utility A</td><td>0.112    </td><td>0.092    </td></tr>\n",
       "</tbody>\n",
       "</table>\n"
      ],
      "text/latex": [
       "\\begin{tabular}{r|llll}\n",
       " Address & Municipality & RDT\\_ppb & Flushed\\_ppb\\\\\n",
       "\\hline\n",
       "\t A1        & Utility A & 0.694     & 0.506    \\\\\n",
       "\t A2        & Utility A & 1.255     & 0.389    \\\\\n",
       "\t A3        & Utility A & 0.329     & 0.368    \\\\\n",
       "\t A4        & Utility A & 0.885     & 0.168    \\\\\n",
       "\t A6        & Utility A & 0.161     & 0.438    \\\\\n",
       "\t A7        & Utility A & 0.089     & 0.159    \\\\\n",
       "\t A8        & Utility A & 0.794     & 0.201    \\\\\n",
       "\t A9        & Utility A & 0.112     & 0.092    \\\\\n",
       "\\end{tabular}\n"
      ],
      "text/markdown": [
       "\n",
       "| Address | Municipality | RDT_ppb | Flushed_ppb |\n",
       "|---|---|---|---|\n",
       "| A1        | Utility A | 0.694     | 0.506     |\n",
       "| A2        | Utility A | 1.255     | 0.389     |\n",
       "| A3        | Utility A | 0.329     | 0.368     |\n",
       "| A4        | Utility A | 0.885     | 0.168     |\n",
       "| A6        | Utility A | 0.161     | 0.438     |\n",
       "| A7        | Utility A | 0.089     | 0.159     |\n",
       "| A8        | Utility A | 0.794     | 0.201     |\n",
       "| A9        | Utility A | 0.112     | 0.092     |\n",
       "\n"
      ],
      "text/plain": [
       "  Address Municipality RDT_ppb Flushed_ppb\n",
       "1 A1      Utility A    0.694   0.506      \n",
       "2 A2      Utility A    1.255   0.389      \n",
       "3 A3      Utility A    0.329   0.368      \n",
       "4 A4      Utility A    0.885   0.168      \n",
       "5 A6      Utility A    0.161   0.438      \n",
       "6 A7      Utility A    0.089   0.159      \n",
       "7 A8      Utility A    0.794   0.201      \n",
       "8 A9      Utility A    0.112   0.092      "
      ]
     },
     "metadata": {},
     "output_type": "display_data"
    }
   ],
   "source": [
    "combined_lead %>%\n",
    "  filter(RDT_ppb < 5) %>% \n",
    "  select(Address, Municipality, RDT_ppb, Flushed_ppb)  %>% \n",
    "head(8)"
   ]
  },
  {
   "cell_type": "markdown",
   "metadata": {},
   "source": [
    "Since `%>%` takes the object on its left and passes it as the first argument to the function on its right, we don't need to explicitly include the data frame as an argument to the `filter()` and `select()` functions any more.\n",
    "\n",
    "**Tidy data viewing tip**: Since `combined_lead` dataframe has 106 rows, we can use the `head()`  or `tail()` functions to specify the number of rows we would like to see. `head()` will show the top n rows while `tail()` will show the bottom n rows. If left blank, the default n is 6 rows. In this example, we want to see the first four rows only. "
   ]
  },
  {
   "cell_type": "code",
   "execution_count": 30,
   "metadata": {},
   "outputs": [
    {
     "data": {
      "text/html": [
       "<table>\n",
       "<thead><tr><th scope=col>Address</th><th scope=col>Date_sampled</th><th scope=col>Municipality</th><th scope=col>RDT_ppb</th><th scope=col>Flushed_ppb</th></tr></thead>\n",
       "<tbody>\n",
       "\t<tr><td>A1        </td><td>10/29/2018</td><td>Utility A </td><td>0.694     </td><td>0.506     </td></tr>\n",
       "\t<tr><td>A2        </td><td>10/29/2018</td><td>Utility A </td><td>1.255     </td><td>0.389     </td></tr>\n",
       "\t<tr><td>A3        </td><td>10/29/2018</td><td>Utility A </td><td>0.329     </td><td>0.368     </td></tr>\n",
       "\t<tr><td>A4        </td><td>10/29/2018</td><td>Utility A </td><td>0.885     </td><td>0.168     </td></tr>\n",
       "</tbody>\n",
       "</table>\n"
      ],
      "text/latex": [
       "\\begin{tabular}{r|lllll}\n",
       " Address & Date\\_sampled & Municipality & RDT\\_ppb & Flushed\\_ppb\\\\\n",
       "\\hline\n",
       "\t A1         & 10/29/2018 & Utility A  & 0.694      & 0.506     \\\\\n",
       "\t A2         & 10/29/2018 & Utility A  & 1.255      & 0.389     \\\\\n",
       "\t A3         & 10/29/2018 & Utility A  & 0.329      & 0.368     \\\\\n",
       "\t A4         & 10/29/2018 & Utility A  & 0.885      & 0.168     \\\\\n",
       "\\end{tabular}\n"
      ],
      "text/markdown": [
       "\n",
       "| Address | Date_sampled | Municipality | RDT_ppb | Flushed_ppb |\n",
       "|---|---|---|---|---|\n",
       "| A1         | 10/29/2018 | Utility A  | 0.694      | 0.506      |\n",
       "| A2         | 10/29/2018 | Utility A  | 1.255      | 0.389      |\n",
       "| A3         | 10/29/2018 | Utility A  | 0.329      | 0.368      |\n",
       "| A4         | 10/29/2018 | Utility A  | 0.885      | 0.168      |\n",
       "\n"
      ],
      "text/plain": [
       "  Address Date_sampled Municipality RDT_ppb Flushed_ppb\n",
       "1 A1      10/29/2018   Utility A    0.694   0.506      \n",
       "2 A2      10/29/2018   Utility A    1.255   0.389      \n",
       "3 A3      10/29/2018   Utility A    0.329   0.368      \n",
       "4 A4      10/29/2018   Utility A    0.885   0.168      "
      ]
     },
     "metadata": {},
     "output_type": "display_data"
    }
   ],
   "source": [
    "combined_lead  %>% \n",
    "head(4)"
   ]
  },
  {
   "cell_type": "markdown",
   "metadata": {},
   "source": [
    "_______________________________________________________________________________________________\n",
    "\n",
    "# Mutate\n",
    "\n",
    "We can use `mutate()` to create new columns based on the values in existing columns, for example to do unit conversions, or to find the ratio of values in two columns.\n",
    "\n",
    "For example, the dataset containes negative values (-) which is an artifact of how the analyitical instrument quantifies lead concentrations. Analytical instruments will have quantified limits of detection. This is the smallest concentration that the intrument can accurately measure. In our case, the detection limit is 0.4 ppb. Many environmental datasets will contain similar types of data. We don't want to remove that data (since it will alter the trends of the dataset), instead we will create a classifier column for data below the detection limit (bdl).\n",
    "\n",
    "We will use the function `if_else`. If the value in RDT_ppb is less than the detection limit (0.4) it will return the value \"TRUE\" or else it will return the value \"FALSE\"."
   ]
  },
  {
   "cell_type": "code",
   "execution_count": 43,
   "metadata": {},
   "outputs": [
    {
     "data": {
      "text/html": [
       "<table>\n",
       "<thead><tr><th scope=col>Address</th><th scope=col>Date_sampled</th><th scope=col>Municipality</th><th scope=col>RDT_ppb</th><th scope=col>Flushed_ppb</th><th scope=col>RDT_bdl</th></tr></thead>\n",
       "<tbody>\n",
       "\t<tr><td>D13       </td><td>10/29/2018</td><td>Utility D </td><td> 0.012    </td><td> 0.013    </td><td>TRUE      </td></tr>\n",
       "\t<tr><td>D14       </td><td>10/29/2018</td><td>Utility D </td><td>-0.008    </td><td> 0.011    </td><td>TRUE      </td></tr>\n",
       "\t<tr><td>D15       </td><td>10/29/2018</td><td>Utility D </td><td> 0.049    </td><td> 0.005    </td><td>TRUE      </td></tr>\n",
       "\t<tr><td>D16       </td><td>10/29/2018</td><td>Utility D </td><td>-0.007    </td><td>-0.001    </td><td>TRUE      </td></tr>\n",
       "\t<tr><td>D17       </td><td>10/29/2018</td><td>Utility D </td><td>    NA    </td><td> 0.013    </td><td>  NA      </td></tr>\n",
       "\t<tr><td>D18       </td><td>6/20/2020 </td><td>Utility D </td><td>    NA    </td><td>-0.001    </td><td>  NA      </td></tr>\n",
       "</tbody>\n",
       "</table>\n"
      ],
      "text/latex": [
       "\\begin{tabular}{r|llllll}\n",
       " Address & Date\\_sampled & Municipality & RDT\\_ppb & Flushed\\_ppb & RDT\\_bdl\\\\\n",
       "\\hline\n",
       "\t D13        & 10/29/2018 & Utility D  &  0.012     &  0.013     & TRUE      \\\\\n",
       "\t D14        & 10/29/2018 & Utility D  & -0.008     &  0.011     & TRUE      \\\\\n",
       "\t D15        & 10/29/2018 & Utility D  &  0.049     &  0.005     & TRUE      \\\\\n",
       "\t D16        & 10/29/2018 & Utility D  & -0.007     & -0.001     & TRUE      \\\\\n",
       "\t D17        & 10/29/2018 & Utility D  &     NA     &  0.013     &   NA      \\\\\n",
       "\t D18        & 6/20/2020  & Utility D  &     NA     & -0.001     &   NA      \\\\\n",
       "\\end{tabular}\n"
      ],
      "text/markdown": [
       "\n",
       "| Address | Date_sampled | Municipality | RDT_ppb | Flushed_ppb | RDT_bdl |\n",
       "|---|---|---|---|---|---|\n",
       "| D13        | 10/29/2018 | Utility D  |  0.012     |  0.013     | TRUE       |\n",
       "| D14        | 10/29/2018 | Utility D  | -0.008     |  0.011     | TRUE       |\n",
       "| D15        | 10/29/2018 | Utility D  |  0.049     |  0.005     | TRUE       |\n",
       "| D16        | 10/29/2018 | Utility D  | -0.007     | -0.001     | TRUE       |\n",
       "| D17        | 10/29/2018 | Utility D  |     NA     |  0.013     |   NA       |\n",
       "| D18        | 6/20/2020  | Utility D  |     NA     | -0.001     |   NA       |\n",
       "\n"
      ],
      "text/plain": [
       "  Address Date_sampled Municipality RDT_ppb Flushed_ppb RDT_bdl\n",
       "1 D13     10/29/2018   Utility D     0.012   0.013      TRUE   \n",
       "2 D14     10/29/2018   Utility D    -0.008   0.011      TRUE   \n",
       "3 D15     10/29/2018   Utility D     0.049   0.005      TRUE   \n",
       "4 D16     10/29/2018   Utility D    -0.007  -0.001      TRUE   \n",
       "5 D17     10/29/2018   Utility D        NA   0.013        NA   \n",
       "6 D18     6/20/2020    Utility D        NA  -0.001        NA   "
      ]
     },
     "metadata": {},
     "output_type": "display_data"
    }
   ],
   "source": [
    "combined_lead %>%\n",
    "  mutate(RDT_bdl = if_else(RDT_ppb < 0.4, TRUE, FALSE))  %>% \n",
    "tail()"
   ]
  },
  {
   "cell_type": "markdown",
   "metadata": {},
   "source": [
    "Some rows of the dataset are contain NAs, indicating that a sample was not taken from that address. We could insert a filter() in the chain and use the function `is.na()` to remove those rows. `is.na()` determines whether something is an NA. The `!` symbol negates the result, so if we're asking for every row where weight is not an NA, we use the syntax `!is.na()`."
   ]
  },
  {
   "cell_type": "code",
   "execution_count": 44,
   "metadata": {},
   "outputs": [
    {
     "data": {
      "text/html": [
       "<table>\n",
       "<thead><tr><th scope=col>Address</th><th scope=col>Date_sampled</th><th scope=col>Municipality</th><th scope=col>RDT_ppb</th><th scope=col>Flushed_ppb</th><th scope=col>RDT_bdl</th></tr></thead>\n",
       "<tbody>\n",
       "\t<tr><td>D11       </td><td>10/29/2018</td><td>Utility D </td><td> 0.053    </td><td> 0.027    </td><td>TRUE      </td></tr>\n",
       "\t<tr><td>D12       </td><td>10/29/2018</td><td>Utility D </td><td> 0.003    </td><td> 0.014    </td><td>TRUE      </td></tr>\n",
       "\t<tr><td>D13       </td><td>10/29/2018</td><td>Utility D </td><td> 0.012    </td><td> 0.013    </td><td>TRUE      </td></tr>\n",
       "\t<tr><td>D14       </td><td>10/29/2018</td><td>Utility D </td><td>-0.008    </td><td> 0.011    </td><td>TRUE      </td></tr>\n",
       "\t<tr><td>D15       </td><td>10/29/2018</td><td>Utility D </td><td> 0.049    </td><td> 0.005    </td><td>TRUE      </td></tr>\n",
       "\t<tr><td>D16       </td><td>10/29/2018</td><td>Utility D </td><td>-0.007    </td><td>-0.001    </td><td>TRUE      </td></tr>\n",
       "</tbody>\n",
       "</table>\n"
      ],
      "text/latex": [
       "\\begin{tabular}{r|llllll}\n",
       " Address & Date\\_sampled & Municipality & RDT\\_ppb & Flushed\\_ppb & RDT\\_bdl\\\\\n",
       "\\hline\n",
       "\t D11        & 10/29/2018 & Utility D  &  0.053     &  0.027     & TRUE      \\\\\n",
       "\t D12        & 10/29/2018 & Utility D  &  0.003     &  0.014     & TRUE      \\\\\n",
       "\t D13        & 10/29/2018 & Utility D  &  0.012     &  0.013     & TRUE      \\\\\n",
       "\t D14        & 10/29/2018 & Utility D  & -0.008     &  0.011     & TRUE      \\\\\n",
       "\t D15        & 10/29/2018 & Utility D  &  0.049     &  0.005     & TRUE      \\\\\n",
       "\t D16        & 10/29/2018 & Utility D  & -0.007     & -0.001     & TRUE      \\\\\n",
       "\\end{tabular}\n"
      ],
      "text/markdown": [
       "\n",
       "| Address | Date_sampled | Municipality | RDT_ppb | Flushed_ppb | RDT_bdl |\n",
       "|---|---|---|---|---|---|\n",
       "| D11        | 10/29/2018 | Utility D  |  0.053     |  0.027     | TRUE       |\n",
       "| D12        | 10/29/2018 | Utility D  |  0.003     |  0.014     | TRUE       |\n",
       "| D13        | 10/29/2018 | Utility D  |  0.012     |  0.013     | TRUE       |\n",
       "| D14        | 10/29/2018 | Utility D  | -0.008     |  0.011     | TRUE       |\n",
       "| D15        | 10/29/2018 | Utility D  |  0.049     |  0.005     | TRUE       |\n",
       "| D16        | 10/29/2018 | Utility D  | -0.007     | -0.001     | TRUE       |\n",
       "\n"
      ],
      "text/plain": [
       "  Address Date_sampled Municipality RDT_ppb Flushed_ppb RDT_bdl\n",
       "1 D11     10/29/2018   Utility D     0.053   0.027      TRUE   \n",
       "2 D12     10/29/2018   Utility D     0.003   0.014      TRUE   \n",
       "3 D13     10/29/2018   Utility D     0.012   0.013      TRUE   \n",
       "4 D14     10/29/2018   Utility D    -0.008   0.011      TRUE   \n",
       "5 D15     10/29/2018   Utility D     0.049   0.005      TRUE   \n",
       "6 D16     10/29/2018   Utility D    -0.007  -0.001      TRUE   "
      ]
     },
     "metadata": {},
     "output_type": "display_data"
    }
   ],
   "source": [
    "combined_lead %>%\n",
    "  filter(!is.na(RDT_ppb)) %>%\n",
    "  mutate(RDT_bdl = if_else(RDT_ppb < 0.4, TRUE, FALSE)) %>%\n",
    "  tail()"
   ]
  },
  {
   "cell_type": "markdown",
   "metadata": {},
   "source": [
    "_______________________________________________________________________________________________\n",
    "\n",
    "# Split-apply-combine data analysis and the summarize() function\n",
    "\n",
    "Many data analysis tasks can be approached using the split-apply-combine paradigm: \n",
    "\n",
    "1. split the data into groups \n",
    "1. apply some analysis to each group\n",
    "1. combine the results. \n",
    "\n",
    "dplyr makes this very easy through the use of the `group_by()` function. `group_by()` is often used together with `summarize()`, which collapses each group into a single-row summary of that group. `group_by()` takes as arguments the column names that contain the categorical variables for which you want to calculate the summary statistics. \n",
    "\n",
    "In the example below, we compute the mean and standard deviation of RDT lead concentrations by Municipality."
   ]
  },
  {
   "cell_type": "code",
   "execution_count": 76,
   "metadata": {},
   "outputs": [
    {
     "name": "stderr",
     "output_type": "stream",
     "text": [
      "`summarise()` ungrouping output (override with `.groups` argument)\n"
     ]
    },
    {
     "data": {
      "text/html": [
       "<table>\n",
       "<thead><tr><th scope=col>Municipality</th><th scope=col>mean_ppb</th><th scope=col>dev_ppb</th></tr></thead>\n",
       "<tbody>\n",
       "\t<tr><td>Utility A</td><td>2.0612162</td><td>4.1899977</td></tr>\n",
       "\t<tr><td>Utility B</td><td>0.7459286</td><td>1.0045024</td></tr>\n",
       "\t<tr><td>Utility C</td><td>0.4381000</td><td>0.7422806</td></tr>\n",
       "\t<tr><td>Utility D</td><td>0.3752500</td><td>1.1559148</td></tr>\n",
       "</tbody>\n",
       "</table>\n"
      ],
      "text/latex": [
       "\\begin{tabular}{r|lll}\n",
       " Municipality & mean\\_ppb & dev\\_ppb\\\\\n",
       "\\hline\n",
       "\t Utility A & 2.0612162 & 4.1899977\\\\\n",
       "\t Utility B & 0.7459286 & 1.0045024\\\\\n",
       "\t Utility C & 0.4381000 & 0.7422806\\\\\n",
       "\t Utility D & 0.3752500 & 1.1559148\\\\\n",
       "\\end{tabular}\n"
      ],
      "text/markdown": [
       "\n",
       "| Municipality | mean_ppb | dev_ppb |\n",
       "|---|---|---|\n",
       "| Utility A | 2.0612162 | 4.1899977 |\n",
       "| Utility B | 0.7459286 | 1.0045024 |\n",
       "| Utility C | 0.4381000 | 0.7422806 |\n",
       "| Utility D | 0.3752500 | 1.1559148 |\n",
       "\n"
      ],
      "text/plain": [
       "  Municipality mean_ppb  dev_ppb  \n",
       "1 Utility A    2.0612162 4.1899977\n",
       "2 Utility B    0.7459286 1.0045024\n",
       "3 Utility C    0.4381000 0.7422806\n",
       "4 Utility D    0.3752500 1.1559148"
      ]
     },
     "metadata": {},
     "output_type": "display_data"
    }
   ],
   "source": [
    "combined_lead %>% #dataframe\n",
    "  group_by(Municipality) %>% #group by criteria\n",
    "  summarize(mean_ppb = mean(RDT_ppb, na.rm = TRUE),\n",
    "           dev_ppb=sd(RDT_ppb, na.rm = TRUE)) #function summarize() applies the function mean() to the entirety of the dataframe "
   ]
  },
  {
   "cell_type": "markdown",
   "metadata": {},
   "source": [
    "Let's take a look at our data graphically. We can see that Utility A has the highest average RDT lead concentration but is also the most variable. "
   ]
  },
  {
   "cell_type": "code",
   "execution_count": 77,
   "metadata": {},
   "outputs": [
    {
     "name": "stderr",
     "output_type": "stream",
     "text": [
      "`summarise()` ungrouping output (override with `.groups` argument)\n"
     ]
    },
    {
     "data": {
      "image/png": "[encoded data removed]",
      "text/plain": [
       "plot without title"
      ]
     },
     "metadata": {},
     "output_type": "display_data"
    }
   ],
   "source": [
    "combined_lead %>%\n",
    "  group_by(Municipality) %>% \n",
    "  summarize(mean_ppb = mean(RDT_ppb, na.rm = TRUE),\n",
    "           dev_ppb=sd(RDT_ppb, na.rm = TRUE)) %>% \n",
    "ggplot(aes(color=Municipality))+\n",
    "geom_point(aes(x=Municipality, y=mean_ppb, color=Municipality))+\n",
    "geom_errorbar(aes(x=Municipality,ymin=mean_ppb-dev_ppb, ymax=mean_ppb+dev_ppb))+\n",
    "theme_classic()+\n",
    "labs(y=\"Lead concentration (ug/L)\")+\n",
    "guides(color=FALSE)"
   ]
  },
  {
   "cell_type": "markdown",
   "metadata": {},
   "source": [
    "We can also group by mutliple columns."
   ]
  },
  {
   "cell_type": "code",
   "execution_count": 50,
   "metadata": {},
   "outputs": [
    {
     "name": "stderr",
     "output_type": "stream",
     "text": [
      "`summarise()` regrouping output by 'Date_sampled' (override with `.groups` argument)\n"
     ]
    },
    {
     "data": {
      "text/html": [
       "<table>\n",
       "<thead><tr><th scope=col>Date_sampled</th><th scope=col>Municipality</th><th scope=col>mean_ppb</th><th scope=col>dev_ppb</th></tr></thead>\n",
       "<tbody>\n",
       "\t<tr><td>10/2/2018 </td><td>Utility A </td><td>4.0015000 </td><td>5.2347115 </td></tr>\n",
       "\t<tr><td>10/29/2018</td><td>Utility A </td><td>2.1950667 </td><td>5.7782549 </td></tr>\n",
       "\t<tr><td>10/29/2018</td><td>Utility B </td><td>0.6145714 </td><td>0.8376333 </td></tr>\n",
       "\t<tr><td>10/29/2018</td><td>Utility C </td><td>0.4381000 </td><td>0.7422806 </td></tr>\n",
       "\t<tr><td>10/29/2018</td><td>Utility D </td><td>0.3752500 </td><td>1.1559148 </td></tr>\n",
       "\t<tr><td>11/5/2018 </td><td>Utility A </td><td>1.2212222 </td><td>2.3253493 </td></tr>\n",
       "\t<tr><td>6/20/2020 </td><td>Utility B </td><td>0.5923333 </td><td>1.0642146 </td></tr>\n",
       "\t<tr><td>6/20/2020 </td><td>Utility D </td><td>      NaN </td><td>       NA </td></tr>\n",
       "\t<tr><td>8/29/2018 </td><td>Utility A </td><td>2.2131818 </td><td>2.8199468 </td></tr>\n",
       "\t<tr><td>8/29/2018 </td><td>Utility B </td><td>1.0528889 </td><td>1.0795784 </td></tr>\n",
       "</tbody>\n",
       "</table>\n"
      ],
      "text/latex": [
       "\\begin{tabular}{r|llll}\n",
       " Date\\_sampled & Municipality & mean\\_ppb & dev\\_ppb\\\\\n",
       "\\hline\n",
       "\t 10/2/2018  & Utility A  & 4.0015000  & 5.2347115 \\\\\n",
       "\t 10/29/2018 & Utility A  & 2.1950667  & 5.7782549 \\\\\n",
       "\t 10/29/2018 & Utility B  & 0.6145714  & 0.8376333 \\\\\n",
       "\t 10/29/2018 & Utility C  & 0.4381000  & 0.7422806 \\\\\n",
       "\t 10/29/2018 & Utility D  & 0.3752500  & 1.1559148 \\\\\n",
       "\t 11/5/2018  & Utility A  & 1.2212222  & 2.3253493 \\\\\n",
       "\t 6/20/2020  & Utility B  & 0.5923333  & 1.0642146 \\\\\n",
       "\t 6/20/2020  & Utility D  &       NaN  &        NA \\\\\n",
       "\t 8/29/2018  & Utility A  & 2.2131818  & 2.8199468 \\\\\n",
       "\t 8/29/2018  & Utility B  & 1.0528889  & 1.0795784 \\\\\n",
       "\\end{tabular}\n"
      ],
      "text/markdown": [
       "\n",
       "| Date_sampled | Municipality | mean_ppb | dev_ppb |\n",
       "|---|---|---|---|\n",
       "| 10/2/2018  | Utility A  | 4.0015000  | 5.2347115  |\n",
       "| 10/29/2018 | Utility A  | 2.1950667  | 5.7782549  |\n",
       "| 10/29/2018 | Utility B  | 0.6145714  | 0.8376333  |\n",
       "| 10/29/2018 | Utility C  | 0.4381000  | 0.7422806  |\n",
       "| 10/29/2018 | Utility D  | 0.3752500  | 1.1559148  |\n",
       "| 11/5/2018  | Utility A  | 1.2212222  | 2.3253493  |\n",
       "| 6/20/2020  | Utility B  | 0.5923333  | 1.0642146  |\n",
       "| 6/20/2020  | Utility D  |       NaN  |        NA  |\n",
       "| 8/29/2018  | Utility A  | 2.2131818  | 2.8199468  |\n",
       "| 8/29/2018  | Utility B  | 1.0528889  | 1.0795784  |\n",
       "\n"
      ],
      "text/plain": [
       "   Date_sampled Municipality mean_ppb  dev_ppb  \n",
       "1  10/2/2018    Utility A    4.0015000 5.2347115\n",
       "2  10/29/2018   Utility A    2.1950667 5.7782549\n",
       "3  10/29/2018   Utility B    0.6145714 0.8376333\n",
       "4  10/29/2018   Utility C    0.4381000 0.7422806\n",
       "5  10/29/2018   Utility D    0.3752500 1.1559148\n",
       "6  11/5/2018    Utility A    1.2212222 2.3253493\n",
       "7  6/20/2020    Utility B    0.5923333 1.0642146\n",
       "8  6/20/2020    Utility D          NaN        NA\n",
       "9  8/29/2018    Utility A    2.2131818 2.8199468\n",
       "10 8/29/2018    Utility B    1.0528889 1.0795784"
      ]
     },
     "metadata": {},
     "output_type": "display_data"
    }
   ],
   "source": [
    "combined_lead %>%\n",
    "  group_by(Date_sampled, Municipality) %>%\n",
    "  summarize(mean_ppb = mean(RDT_ppb, na.rm = TRUE),\n",
    "           dev_ppb=sd(RDT_ppb, na.rm = TRUE))  "
   ]
  },
  {
   "cell_type": "markdown",
   "metadata": {},
   "source": [
    "We can see that Utility D did not take samples on 6/20/2020, resulting in NA values. The resulting mean_weight column does not contain NA but **NaN** (which refers to \"Not a Number\") because `mean()` was called on a vector of NA values while at the same time setting `na.rm = TRUE`. To avoid this, we can remove the missing values before we attempt to calculate the summary statistics. Because the missing values are removed first, we can omit `na.rm = TRUE` when computing the mean:"
   ]
  },
  {
   "cell_type": "code",
   "execution_count": 52,
   "metadata": {},
   "outputs": [
    {
     "name": "stderr",
     "output_type": "stream",
     "text": [
      "`summarise()` regrouping output by 'Date_sampled' (override with `.groups` argument)\n"
     ]
    },
    {
     "data": {
      "text/html": [
       "<table>\n",
       "<thead><tr><th scope=col>Date_sampled</th><th scope=col>Municipality</th><th scope=col>mean_ppb</th><th scope=col>dev_ppb</th></tr></thead>\n",
       "<tbody>\n",
       "\t<tr><td>10/2/2018 </td><td>Utility A </td><td>4.0015000 </td><td>5.2347115 </td></tr>\n",
       "\t<tr><td>10/29/2018</td><td>Utility A </td><td>2.1950667 </td><td>5.7782549 </td></tr>\n",
       "\t<tr><td>10/29/2018</td><td>Utility B </td><td>0.6145714 </td><td>0.8376333 </td></tr>\n",
       "\t<tr><td>10/29/2018</td><td>Utility C </td><td>0.4381000 </td><td>0.7422806 </td></tr>\n",
       "\t<tr><td>10/29/2018</td><td>Utility D </td><td>0.3752500 </td><td>1.1559148 </td></tr>\n",
       "\t<tr><td>11/5/2018 </td><td>Utility A </td><td>1.2212222 </td><td>2.3253493 </td></tr>\n",
       "\t<tr><td>6/20/2020 </td><td>Utility B </td><td>0.5923333 </td><td>1.0642146 </td></tr>\n",
       "\t<tr><td>8/29/2018 </td><td>Utility A </td><td>2.2131818 </td><td>2.8199468 </td></tr>\n",
       "\t<tr><td>8/29/2018 </td><td>Utility B </td><td>1.0528889 </td><td>1.0795784 </td></tr>\n",
       "</tbody>\n",
       "</table>\n"
      ],
      "text/latex": [
       "\\begin{tabular}{r|llll}\n",
       " Date\\_sampled & Municipality & mean\\_ppb & dev\\_ppb\\\\\n",
       "\\hline\n",
       "\t 10/2/2018  & Utility A  & 4.0015000  & 5.2347115 \\\\\n",
       "\t 10/29/2018 & Utility A  & 2.1950667  & 5.7782549 \\\\\n",
       "\t 10/29/2018 & Utility B  & 0.6145714  & 0.8376333 \\\\\n",
       "\t 10/29/2018 & Utility C  & 0.4381000  & 0.7422806 \\\\\n",
       "\t 10/29/2018 & Utility D  & 0.3752500  & 1.1559148 \\\\\n",
       "\t 11/5/2018  & Utility A  & 1.2212222  & 2.3253493 \\\\\n",
       "\t 6/20/2020  & Utility B  & 0.5923333  & 1.0642146 \\\\\n",
       "\t 8/29/2018  & Utility A  & 2.2131818  & 2.8199468 \\\\\n",
       "\t 8/29/2018  & Utility B  & 1.0528889  & 1.0795784 \\\\\n",
       "\\end{tabular}\n"
      ],
      "text/markdown": [
       "\n",
       "| Date_sampled | Municipality | mean_ppb | dev_ppb |\n",
       "|---|---|---|---|\n",
       "| 10/2/2018  | Utility A  | 4.0015000  | 5.2347115  |\n",
       "| 10/29/2018 | Utility A  | 2.1950667  | 5.7782549  |\n",
       "| 10/29/2018 | Utility B  | 0.6145714  | 0.8376333  |\n",
       "| 10/29/2018 | Utility C  | 0.4381000  | 0.7422806  |\n",
       "| 10/29/2018 | Utility D  | 0.3752500  | 1.1559148  |\n",
       "| 11/5/2018  | Utility A  | 1.2212222  | 2.3253493  |\n",
       "| 6/20/2020  | Utility B  | 0.5923333  | 1.0642146  |\n",
       "| 8/29/2018  | Utility A  | 2.2131818  | 2.8199468  |\n",
       "| 8/29/2018  | Utility B  | 1.0528889  | 1.0795784  |\n",
       "\n"
      ],
      "text/plain": [
       "  Date_sampled Municipality mean_ppb  dev_ppb  \n",
       "1 10/2/2018    Utility A    4.0015000 5.2347115\n",
       "2 10/29/2018   Utility A    2.1950667 5.7782549\n",
       "3 10/29/2018   Utility B    0.6145714 0.8376333\n",
       "4 10/29/2018   Utility C    0.4381000 0.7422806\n",
       "5 10/29/2018   Utility D    0.3752500 1.1559148\n",
       "6 11/5/2018    Utility A    1.2212222 2.3253493\n",
       "7 6/20/2020    Utility B    0.5923333 1.0642146\n",
       "8 8/29/2018    Utility A    2.2131818 2.8199468\n",
       "9 8/29/2018    Utility B    1.0528889 1.0795784"
      ]
     },
     "metadata": {},
     "output_type": "display_data"
    }
   ],
   "source": [
    "combined_lead %>%\n",
    "  filter(!is.na(RDT_ppb)) %>% \n",
    "  group_by(Date_sampled, Municipality) %>%\n",
    "  summarize(mean_ppb = mean(RDT_ppb),\n",
    "           dev_ppb=sd(RDT_ppb))  "
   ]
  },
  {
   "cell_type": "markdown",
   "metadata": {},
   "source": [
    "We can also arrange the values in order of mean_ppb using the `arrange()` function. To sort in descending order, we need to add the `desc()` function."
   ]
  },
  {
   "cell_type": "code",
   "execution_count": 27,
   "metadata": {},
   "outputs": [
    {
     "name": "stderr",
     "output_type": "stream",
     "text": [
      "`summarise()` regrouping output by 'Date_sampled' (override with `.groups` argument)\n"
     ]
    },
    {
     "data": {
      "text/html": [
       "<table>\n",
       "<thead><tr><th scope=col>Date_sampled</th><th scope=col>Municipality</th><th scope=col>mean_ppb</th><th scope=col>dev_ppb</th></tr></thead>\n",
       "<tbody>\n",
       "\t<tr><td>10/2/2018 </td><td>Utility A </td><td>4.0015000 </td><td>5.2347115 </td></tr>\n",
       "\t<tr><td>8/29/2018 </td><td>Utility A </td><td>2.2131818 </td><td>2.8199468 </td></tr>\n",
       "\t<tr><td>10/29/2018</td><td>Utility A </td><td>2.1950667 </td><td>5.7782549 </td></tr>\n",
       "\t<tr><td>11/5/2018 </td><td>Utility A </td><td>1.2212222 </td><td>2.3253493 </td></tr>\n",
       "\t<tr><td>8/29/2018 </td><td>Utility B </td><td>1.0528889 </td><td>1.0795784 </td></tr>\n",
       "\t<tr><td>10/29/2018</td><td>Utility B </td><td>0.6145714 </td><td>0.8376333 </td></tr>\n",
       "\t<tr><td>6/20/2020 </td><td>Utility B </td><td>0.5923333 </td><td>1.0642146 </td></tr>\n",
       "\t<tr><td>10/29/2018</td><td>Utility C </td><td>0.4381000 </td><td>0.7422806 </td></tr>\n",
       "\t<tr><td>10/29/2018</td><td>Utility D </td><td>0.3752500 </td><td>1.1559148 </td></tr>\n",
       "</tbody>\n",
       "</table>\n"
      ],
      "text/latex": [
       "\\begin{tabular}{r|llll}\n",
       " Date\\_sampled & Municipality & mean\\_ppb & dev\\_ppb\\\\\n",
       "\\hline\n",
       "\t 10/2/2018  & Utility A  & 4.0015000  & 5.2347115 \\\\\n",
       "\t 8/29/2018  & Utility A  & 2.2131818  & 2.8199468 \\\\\n",
       "\t 10/29/2018 & Utility A  & 2.1950667  & 5.7782549 \\\\\n",
       "\t 11/5/2018  & Utility A  & 1.2212222  & 2.3253493 \\\\\n",
       "\t 8/29/2018  & Utility B  & 1.0528889  & 1.0795784 \\\\\n",
       "\t 10/29/2018 & Utility B  & 0.6145714  & 0.8376333 \\\\\n",
       "\t 6/20/2020  & Utility B  & 0.5923333  & 1.0642146 \\\\\n",
       "\t 10/29/2018 & Utility C  & 0.4381000  & 0.7422806 \\\\\n",
       "\t 10/29/2018 & Utility D  & 0.3752500  & 1.1559148 \\\\\n",
       "\\end{tabular}\n"
      ],
      "text/markdown": [
       "\n",
       "| Date_sampled | Municipality | mean_ppb | dev_ppb |\n",
       "|---|---|---|---|\n",
       "| 10/2/2018  | Utility A  | 4.0015000  | 5.2347115  |\n",
       "| 8/29/2018  | Utility A  | 2.2131818  | 2.8199468  |\n",
       "| 10/29/2018 | Utility A  | 2.1950667  | 5.7782549  |\n",
       "| 11/5/2018  | Utility A  | 1.2212222  | 2.3253493  |\n",
       "| 8/29/2018  | Utility B  | 1.0528889  | 1.0795784  |\n",
       "| 10/29/2018 | Utility B  | 0.6145714  | 0.8376333  |\n",
       "| 6/20/2020  | Utility B  | 0.5923333  | 1.0642146  |\n",
       "| 10/29/2018 | Utility C  | 0.4381000  | 0.7422806  |\n",
       "| 10/29/2018 | Utility D  | 0.3752500  | 1.1559148  |\n",
       "\n"
      ],
      "text/plain": [
       "  Date_sampled Municipality mean_ppb  dev_ppb  \n",
       "1 10/2/2018    Utility A    4.0015000 5.2347115\n",
       "2 8/29/2018    Utility A    2.2131818 2.8199468\n",
       "3 10/29/2018   Utility A    2.1950667 5.7782549\n",
       "4 11/5/2018    Utility A    1.2212222 2.3253493\n",
       "5 8/29/2018    Utility B    1.0528889 1.0795784\n",
       "6 10/29/2018   Utility B    0.6145714 0.8376333\n",
       "7 6/20/2020    Utility B    0.5923333 1.0642146\n",
       "8 10/29/2018   Utility C    0.4381000 0.7422806\n",
       "9 10/29/2018   Utility D    0.3752500 1.1559148"
      ]
     },
     "metadata": {},
     "output_type": "display_data"
    }
   ],
   "source": [
    "combined_lead %>%\n",
    "  filter(!is.na(RDT_ppb)) %>% \n",
    "  group_by(Date_sampled, Municipality) %>%\n",
    "  summarize(mean_ppb = mean(RDT_ppb),\n",
    "           dev_ppb=sd(RDT_ppb)) %>%\n",
    "  arrange(desc(mean_ppb))"
   ]
  },
  {
   "cell_type": "markdown",
   "metadata": {},
   "source": [
    "_______________________________________________________________________________________________\n",
    "\n",
    "# Counting observations\n",
    "\n",
    "When working with data, we often want to know the number of observations found for each factor or combination of factors. For this task, dplyr provides `count()`. "
   ]
  },
  {
   "cell_type": "code",
   "execution_count": 58,
   "metadata": {},
   "outputs": [
    {
     "name": "stderr",
     "output_type": "stream",
     "text": [
      "`summarise()` ungrouping output (override with `.groups` argument)\n"
     ]
    },
    {
     "data": {
      "text/html": [
       "<table>\n",
       "<thead><tr><th scope=col>Municipality</th><th scope=col>count</th></tr></thead>\n",
       "<tbody>\n",
       "\t<tr><td>Utility A</td><td>37       </td></tr>\n",
       "\t<tr><td>Utility B</td><td>29       </td></tr>\n",
       "\t<tr><td>Utility C</td><td>22       </td></tr>\n",
       "\t<tr><td>Utility D</td><td>18       </td></tr>\n",
       "</tbody>\n",
       "</table>\n"
      ],
      "text/latex": [
       "\\begin{tabular}{r|ll}\n",
       " Municipality & count\\\\\n",
       "\\hline\n",
       "\t Utility A & 37       \\\\\n",
       "\t Utility B & 29       \\\\\n",
       "\t Utility C & 22       \\\\\n",
       "\t Utility D & 18       \\\\\n",
       "\\end{tabular}\n"
      ],
      "text/markdown": [
       "\n",
       "| Municipality | count |\n",
       "|---|---|\n",
       "| Utility A | 37        |\n",
       "| Utility B | 29        |\n",
       "| Utility C | 22        |\n",
       "| Utility D | 18        |\n",
       "\n"
      ],
      "text/plain": [
       "  Municipality count\n",
       "1 Utility A    37   \n",
       "2 Utility B    29   \n",
       "3 Utility C    22   \n",
       "4 Utility D    18   "
      ]
     },
     "metadata": {},
     "output_type": "display_data"
    }
   ],
   "source": [
    "combined_lead %>%\n",
    "    group_by(Municipality) %>%\n",
    "    summarise(count = n())"
   ]
  },
  {
   "cell_type": "markdown",
   "metadata": {},
   "source": [
    "If we wanted to count combination of factors, such as `Date_sampled` and `Municipality`, we would specify the first and the second factor as the arguments of `count()`:"
   ]
  },
  {
   "cell_type": "code",
   "execution_count": 61,
   "metadata": {},
   "outputs": [
    {
     "data": {
      "text/html": [
       "<table>\n",
       "<thead><tr><th scope=col>Date_sampled</th><th scope=col>Municipality</th><th scope=col>n</th></tr></thead>\n",
       "<tbody>\n",
       "\t<tr><td>10/2/2018 </td><td>Utility A </td><td> 2        </td></tr>\n",
       "\t<tr><td>10/29/2018</td><td>Utility A </td><td>15        </td></tr>\n",
       "\t<tr><td>10/29/2018</td><td>Utility B </td><td> 7        </td></tr>\n",
       "\t<tr><td>10/29/2018</td><td>Utility C </td><td>22        </td></tr>\n",
       "\t<tr><td>10/29/2018</td><td>Utility D </td><td>17        </td></tr>\n",
       "\t<tr><td>11/5/2018 </td><td>Utility A </td><td> 9        </td></tr>\n",
       "\t<tr><td>6/20/2020 </td><td>Utility B </td><td>13        </td></tr>\n",
       "\t<tr><td>6/20/2020 </td><td>Utility D </td><td> 1        </td></tr>\n",
       "\t<tr><td>8/29/2018 </td><td>Utility A </td><td>11        </td></tr>\n",
       "\t<tr><td>8/29/2018 </td><td>Utility B </td><td> 9        </td></tr>\n",
       "</tbody>\n",
       "</table>\n"
      ],
      "text/latex": [
       "\\begin{tabular}{r|lll}\n",
       " Date\\_sampled & Municipality & n\\\\\n",
       "\\hline\n",
       "\t 10/2/2018  & Utility A  &  2        \\\\\n",
       "\t 10/29/2018 & Utility A  & 15        \\\\\n",
       "\t 10/29/2018 & Utility B  &  7        \\\\\n",
       "\t 10/29/2018 & Utility C  & 22        \\\\\n",
       "\t 10/29/2018 & Utility D  & 17        \\\\\n",
       "\t 11/5/2018  & Utility A  &  9        \\\\\n",
       "\t 6/20/2020  & Utility B  & 13        \\\\\n",
       "\t 6/20/2020  & Utility D  &  1        \\\\\n",
       "\t 8/29/2018  & Utility A  & 11        \\\\\n",
       "\t 8/29/2018  & Utility B  &  9        \\\\\n",
       "\\end{tabular}\n"
      ],
      "text/markdown": [
       "\n",
       "| Date_sampled | Municipality | n |\n",
       "|---|---|---|\n",
       "| 10/2/2018  | Utility A  |  2         |\n",
       "| 10/29/2018 | Utility A  | 15         |\n",
       "| 10/29/2018 | Utility B  |  7         |\n",
       "| 10/29/2018 | Utility C  | 22         |\n",
       "| 10/29/2018 | Utility D  | 17         |\n",
       "| 11/5/2018  | Utility A  |  9         |\n",
       "| 6/20/2020  | Utility B  | 13         |\n",
       "| 6/20/2020  | Utility D  |  1         |\n",
       "| 8/29/2018  | Utility A  | 11         |\n",
       "| 8/29/2018  | Utility B  |  9         |\n",
       "\n"
      ],
      "text/plain": [
       "   Date_sampled Municipality n \n",
       "1  10/2/2018    Utility A     2\n",
       "2  10/29/2018   Utility A    15\n",
       "3  10/29/2018   Utility B     7\n",
       "4  10/29/2018   Utility C    22\n",
       "5  10/29/2018   Utility D    17\n",
       "6  11/5/2018    Utility A     9\n",
       "7  6/20/2020    Utility B    13\n",
       "8  6/20/2020    Utility D     1\n",
       "9  8/29/2018    Utility A    11\n",
       "10 8/29/2018    Utility B     9"
      ]
     },
     "metadata": {},
     "output_type": "display_data"
    }
   ],
   "source": [
    "combined_lead%>%\n",
    "  count(Date_sampled, Municipality) "
   ]
  },
  {
   "cell_type": "markdown",
   "metadata": {},
   "source": [
    "We can proceed with `arrange()` to sort the table according to a number of criteria so that we have a better comparison. For instance, we might want to arrange the table above in:\n",
    "\n",
    "1. by date sampled and,\n",
    "1. in descending order of the count:"
   ]
  },
  {
   "cell_type": "code",
   "execution_count": 57,
   "metadata": {},
   "outputs": [
    {
     "data": {
      "text/html": [
       "<table>\n",
       "<thead><tr><th scope=col>Date_sampled</th><th scope=col>Municipality</th><th scope=col>n</th></tr></thead>\n",
       "<tbody>\n",
       "\t<tr><td>10/2/2018 </td><td>Utility A </td><td> 2        </td></tr>\n",
       "\t<tr><td>10/29/2018</td><td>Utility C </td><td>22        </td></tr>\n",
       "\t<tr><td>10/29/2018</td><td>Utility D </td><td>17        </td></tr>\n",
       "\t<tr><td>10/29/2018</td><td>Utility A </td><td>15        </td></tr>\n",
       "\t<tr><td>10/29/2018</td><td>Utility B </td><td> 7        </td></tr>\n",
       "\t<tr><td>11/5/2018 </td><td>Utility A </td><td> 9        </td></tr>\n",
       "\t<tr><td>6/20/2020 </td><td>Utility B </td><td>13        </td></tr>\n",
       "\t<tr><td>6/20/2020 </td><td>Utility D </td><td> 1        </td></tr>\n",
       "\t<tr><td>8/29/2018 </td><td>Utility A </td><td>11        </td></tr>\n",
       "\t<tr><td>8/29/2018 </td><td>Utility B </td><td> 9        </td></tr>\n",
       "</tbody>\n",
       "</table>\n"
      ],
      "text/latex": [
       "\\begin{tabular}{r|lll}\n",
       " Date\\_sampled & Municipality & n\\\\\n",
       "\\hline\n",
       "\t 10/2/2018  & Utility A  &  2        \\\\\n",
       "\t 10/29/2018 & Utility C  & 22        \\\\\n",
       "\t 10/29/2018 & Utility D  & 17        \\\\\n",
       "\t 10/29/2018 & Utility A  & 15        \\\\\n",
       "\t 10/29/2018 & Utility B  &  7        \\\\\n",
       "\t 11/5/2018  & Utility A  &  9        \\\\\n",
       "\t 6/20/2020  & Utility B  & 13        \\\\\n",
       "\t 6/20/2020  & Utility D  &  1        \\\\\n",
       "\t 8/29/2018  & Utility A  & 11        \\\\\n",
       "\t 8/29/2018  & Utility B  &  9        \\\\\n",
       "\\end{tabular}\n"
      ],
      "text/markdown": [
       "\n",
       "| Date_sampled | Municipality | n |\n",
       "|---|---|---|\n",
       "| 10/2/2018  | Utility A  |  2         |\n",
       "| 10/29/2018 | Utility C  | 22         |\n",
       "| 10/29/2018 | Utility D  | 17         |\n",
       "| 10/29/2018 | Utility A  | 15         |\n",
       "| 10/29/2018 | Utility B  |  7         |\n",
       "| 11/5/2018  | Utility A  |  9         |\n",
       "| 6/20/2020  | Utility B  | 13         |\n",
       "| 6/20/2020  | Utility D  |  1         |\n",
       "| 8/29/2018  | Utility A  | 11         |\n",
       "| 8/29/2018  | Utility B  |  9         |\n",
       "\n"
      ],
      "text/plain": [
       "   Date_sampled Municipality n \n",
       "1  10/2/2018    Utility A     2\n",
       "2  10/29/2018   Utility C    22\n",
       "3  10/29/2018   Utility D    17\n",
       "4  10/29/2018   Utility A    15\n",
       "5  10/29/2018   Utility B     7\n",
       "6  11/5/2018    Utility A     9\n",
       "7  6/20/2020    Utility B    13\n",
       "8  6/20/2020    Utility D     1\n",
       "9  8/29/2018    Utility A    11\n",
       "10 8/29/2018    Utility B     9"
      ]
     },
     "metadata": {},
     "output_type": "display_data"
    }
   ],
   "source": [
    "combined_lead%>%\n",
    "  count(Date_sampled, Municipality)  %>%\n",
    "  arrange(Date_sampled, desc(n))"
   ]
  },
  {
   "cell_type": "markdown",
   "metadata": {},
   "source": [
    "_________________________________________________________________________\n",
    "\n",
    "# Reshaping your dataframe with **pivot_longer** and **pivot_wider()**\n",
    "\n",
    "Useful links:\n",
    "\n",
    "1. [Pivot tutorial](https://tidyr.tidyverse.org/articles/pivot.html)\n",
    "1. [pivot_longer](https://rdrr.io/github/tidyverse/tidyr/man/pivot_longer.html)\n",
    "1. [pivot_wider](https://tidyr.tidyverse.org/reference/pivot_wider.html)\n",
    "\n",
    "Sometimes you may need to alter the layout of tabluar datasets while preserving the values and relationships contained within. This can also be very useful when plotting data from very large datasets with multiple columns. You may have heard of `spread()` and `gather()`. These are functions with similar but more limited functionality and were replaced by `pivot_wider()` and `pivot_longer()`.\n",
    "\n",
    "In `combined_lead`, the rows contain the values of variables associated with each sample/observation (i.e. RDT_ppb or Flushed_ppb). What if we wanted to compare RDT and Flushed lead concentrations between Utilities A and B using a box plot? We could try using two `geom_boxplot()` functions:\n"
   ]
  },
  {
   "cell_type": "code",
   "execution_count": 41,
   "metadata": {},
   "outputs": [
    {
     "name": "stderr",
     "output_type": "stream",
     "text": [
      "Warning message:\n",
      "\"Removed 1 rows containing non-finite values (stat_boxplot).\""
     ]
    },
    {
     "data": {
      "image/png": "[encoded data removed]",
      "text/plain": [
       "plot without title"
      ]
     },
     "metadata": {},
     "output_type": "display_data"
    }
   ],
   "source": [
    "combined_lead %>% \n",
    "filter(Municipality %in%c(\"Utility A\", \"Utility B\")) %>% \n",
    "ggplot()+\n",
    "geom_boxplot(aes(x=Municipality, y=RDT_ppb), color=\"red\")+\n",
    "geom_boxplot(aes(x=Municipality, y=Flushed_ppb))+\n",
    "theme_classic()"
   ]
  },
  {
   "cell_type": "markdown",
   "metadata": {},
   "source": [
    "Whoops! That just created a messy, uninformative plot. One way to do it would be to create separate plots for Flushed_ppb and RDT_ppb but that's too much work. What we can do instead is reshape our data to turn RDT_ppb and FLushed_ppb into factors in a new criteria column and copy all their values into one \"values\" column.\n",
    "\n",
    "## pivot_longer\n",
    "\n",
    "In this situation we are gathering the column names and turning them into a pair of new variables. One variable represents the column names as values, and the other variable contains the values previously associated with the column names.\n",
    "\n",
    "**pivot_longer** moves columns into rows (wide to long format). `pivot_longer` takes several arguements but the most important ones for this exercise are `names_to` and `values_to`. `names_to` creates a new classifier/criteria column, taking arguements from your column names. `values_to` takes values from those columns and creates a new column of values classfied by the factors created by `names_to`.\n",
    "\n",
    "We will use `pivot_longer` to convert RDT_ppb and Flushed_ppb into two factors under a variable called protocol. The values from RDT_ppb adn Flushed_ppb will be passed into a new column called Lead_ppb. \n"
   ]
  },
  {
   "cell_type": "code",
   "execution_count": 59,
   "metadata": {},
   "outputs": [
    {
     "data": {
      "text/html": [
       "<table>\n",
       "<thead><tr><th scope=col>Municipality</th><th scope=col>protocol</th><th scope=col>Lead_ppb</th></tr></thead>\n",
       "<tbody>\n",
       "\t<tr><td>Utility A  </td><td>RDT_ppb    </td><td>0.694      </td></tr>\n",
       "\t<tr><td>Utility A  </td><td>Flushed_ppb</td><td>0.506      </td></tr>\n",
       "\t<tr><td>Utility A  </td><td>RDT_ppb    </td><td>1.255      </td></tr>\n",
       "\t<tr><td>Utility A  </td><td>Flushed_ppb</td><td>0.389      </td></tr>\n",
       "\t<tr><td>Utility A  </td><td>RDT_ppb    </td><td>0.329      </td></tr>\n",
       "\t<tr><td>Utility A  </td><td>Flushed_ppb</td><td>0.368      </td></tr>\n",
       "\t<tr><td>Utility A  </td><td>RDT_ppb    </td><td>0.885      </td></tr>\n",
       "\t<tr><td>Utility A  </td><td>Flushed_ppb</td><td>0.168      </td></tr>\n",
       "</tbody>\n",
       "</table>\n"
      ],
      "text/latex": [
       "\\begin{tabular}{r|lll}\n",
       " Municipality & protocol & Lead\\_ppb\\\\\n",
       "\\hline\n",
       "\t Utility A     & RDT\\_ppb     & 0.694        \\\\\n",
       "\t Utility A     & Flushed\\_ppb & 0.506        \\\\\n",
       "\t Utility A     & RDT\\_ppb     & 1.255        \\\\\n",
       "\t Utility A     & Flushed\\_ppb & 0.389        \\\\\n",
       "\t Utility A     & RDT\\_ppb     & 0.329        \\\\\n",
       "\t Utility A     & Flushed\\_ppb & 0.368        \\\\\n",
       "\t Utility A     & RDT\\_ppb     & 0.885        \\\\\n",
       "\t Utility A     & Flushed\\_ppb & 0.168        \\\\\n",
       "\\end{tabular}\n"
      ],
      "text/markdown": [
       "\n",
       "| Municipality | protocol | Lead_ppb |\n",
       "|---|---|---|\n",
       "| Utility A   | RDT_ppb     | 0.694       |\n",
       "| Utility A   | Flushed_ppb | 0.506       |\n",
       "| Utility A   | RDT_ppb     | 1.255       |\n",
       "| Utility A   | Flushed_ppb | 0.389       |\n",
       "| Utility A   | RDT_ppb     | 0.329       |\n",
       "| Utility A   | Flushed_ppb | 0.368       |\n",
       "| Utility A   | RDT_ppb     | 0.885       |\n",
       "| Utility A   | Flushed_ppb | 0.168       |\n",
       "\n"
      ],
      "text/plain": [
       "  Municipality protocol    Lead_ppb\n",
       "1 Utility A    RDT_ppb     0.694   \n",
       "2 Utility A    Flushed_ppb 0.506   \n",
       "3 Utility A    RDT_ppb     1.255   \n",
       "4 Utility A    Flushed_ppb 0.389   \n",
       "5 Utility A    RDT_ppb     0.329   \n",
       "6 Utility A    Flushed_ppb 0.368   \n",
       "7 Utility A    RDT_ppb     0.885   \n",
       "8 Utility A    Flushed_ppb 0.168   "
      ]
     },
     "metadata": {},
     "output_type": "display_data"
    }
   ],
   "source": [
    "combined_lead_gather <-combined_lead %>%\n",
    "filter(Municipality %in%c(\"Utility A\", \"Utility B\")) %>% \n",
    "select(Municipality, RDT_ppb, Flushed_ppb) %>% \n",
    "  pivot_longer(names_to=\"protocol\", values_to=\"Lead_ppb\", !Municipality)\n",
    "\n",
    "combined_lead_gather  %>% \n",
    "head(8)"
   ]
  },
  {
   "cell_type": "markdown",
   "metadata": {},
   "source": [
    "Now let's try that plot again!"
   ]
  },
  {
   "cell_type": "code",
   "execution_count": 56,
   "metadata": {},
   "outputs": [
    {
     "name": "stderr",
     "output_type": "stream",
     "text": [
      "Warning message:\n",
      "\"Removed 1 rows containing non-finite values (stat_boxplot).\""
     ]
    },
    {
     "data": {
      "image/png": "[encoded data removed]",
      "text/plain": [
       "plot without title"
      ]
     },
     "metadata": {},
     "output_type": "display_data"
    }
   ],
   "source": [
    "combined_lead_gather %>% \n",
    "ggplot()+\n",
    "geom_boxplot(aes(x=Municipality, y=Lead_ppb, color=protocol))+\n",
    "theme_classic()+\n",
    "labs(y=\"Lead concentration (ug/L)\")"
   ]
  },
  {
   "cell_type": "markdown",
   "metadata": {},
   "source": [
    "## pivot_wider\n",
    "\n",
    "**pivot_wider** moves rows into columns (long to wide format)\n",
    "\n",
    "Let's use `pivot_wider()` to transform `combined_lead` to find the mean of `RDT_ppb` of each `Municipality` in each plot over the different sample dates. We use `filter()`, `group_by()`, and `summarise()` to filter our observations and variables of interest, and create a new variable for the mean_ppb."
   ]
  },
  {
   "cell_type": "code",
   "execution_count": 60,
   "metadata": {},
   "outputs": [
    {
     "name": "stderr",
     "output_type": "stream",
     "text": [
      "`summarise()` regrouping output by 'Date_sampled' (override with `.groups` argument)\n"
     ]
    },
    {
     "data": {
      "text/html": [
       "<ol class=list-inline>\n",
       "\t<li>9</li>\n",
       "\t<li>3</li>\n",
       "</ol>\n"
      ],
      "text/latex": [
       "\\begin{enumerate*}\n",
       "\\item 9\n",
       "\\item 3\n",
       "\\end{enumerate*}\n"
      ],
      "text/markdown": [
       "1. 9\n",
       "2. 3\n",
       "\n",
       "\n"
      ],
      "text/plain": [
       "[1] 9 3"
      ]
     },
     "metadata": {},
     "output_type": "display_data"
    },
    {
     "data": {
      "text/html": [
       "<table>\n",
       "<thead><tr><th scope=col>Date_sampled</th><th scope=col>Municipality</th><th scope=col>mean_RDT</th></tr></thead>\n",
       "<tbody>\n",
       "\t<tr><td>10/2/2018 </td><td>Utility A </td><td>4.0015000 </td></tr>\n",
       "\t<tr><td>10/29/2018</td><td>Utility A </td><td>2.1950667 </td></tr>\n",
       "\t<tr><td>10/29/2018</td><td>Utility B </td><td>0.6145714 </td></tr>\n",
       "\t<tr><td>10/29/2018</td><td>Utility C </td><td>0.4381000 </td></tr>\n",
       "\t<tr><td>10/29/2018</td><td>Utility D </td><td>0.3752500 </td></tr>\n",
       "\t<tr><td>11/5/2018 </td><td>Utility A </td><td>1.2212222 </td></tr>\n",
       "\t<tr><td>6/20/2020 </td><td>Utility B </td><td>0.5923333 </td></tr>\n",
       "\t<tr><td>8/29/2018 </td><td>Utility A </td><td>2.2131818 </td></tr>\n",
       "\t<tr><td>8/29/2018 </td><td>Utility B </td><td>1.0528889 </td></tr>\n",
       "</tbody>\n",
       "</table>\n"
      ],
      "text/latex": [
       "\\begin{tabular}{r|lll}\n",
       " Date\\_sampled & Municipality & mean\\_RDT\\\\\n",
       "\\hline\n",
       "\t 10/2/2018  & Utility A  & 4.0015000 \\\\\n",
       "\t 10/29/2018 & Utility A  & 2.1950667 \\\\\n",
       "\t 10/29/2018 & Utility B  & 0.6145714 \\\\\n",
       "\t 10/29/2018 & Utility C  & 0.4381000 \\\\\n",
       "\t 10/29/2018 & Utility D  & 0.3752500 \\\\\n",
       "\t 11/5/2018  & Utility A  & 1.2212222 \\\\\n",
       "\t 6/20/2020  & Utility B  & 0.5923333 \\\\\n",
       "\t 8/29/2018  & Utility A  & 2.2131818 \\\\\n",
       "\t 8/29/2018  & Utility B  & 1.0528889 \\\\\n",
       "\\end{tabular}\n"
      ],
      "text/markdown": [
       "\n",
       "| Date_sampled | Municipality | mean_RDT |\n",
       "|---|---|---|\n",
       "| 10/2/2018  | Utility A  | 4.0015000  |\n",
       "| 10/29/2018 | Utility A  | 2.1950667  |\n",
       "| 10/29/2018 | Utility B  | 0.6145714  |\n",
       "| 10/29/2018 | Utility C  | 0.4381000  |\n",
       "| 10/29/2018 | Utility D  | 0.3752500  |\n",
       "| 11/5/2018  | Utility A  | 1.2212222  |\n",
       "| 6/20/2020  | Utility B  | 0.5923333  |\n",
       "| 8/29/2018  | Utility A  | 2.2131818  |\n",
       "| 8/29/2018  | Utility B  | 1.0528889  |\n",
       "\n"
      ],
      "text/plain": [
       "  Date_sampled Municipality mean_RDT \n",
       "1 10/2/2018    Utility A    4.0015000\n",
       "2 10/29/2018   Utility A    2.1950667\n",
       "3 10/29/2018   Utility B    0.6145714\n",
       "4 10/29/2018   Utility C    0.4381000\n",
       "5 10/29/2018   Utility D    0.3752500\n",
       "6 11/5/2018    Utility A    1.2212222\n",
       "7 6/20/2020    Utility B    0.5923333\n",
       "8 8/29/2018    Utility A    2.2131818\n",
       "9 8/29/2018    Utility B    1.0528889"
      ]
     },
     "metadata": {},
     "output_type": "display_data"
    }
   ],
   "source": [
    "combined_lead_gw<-combined_lead %>%\n",
    "  filter(!is.na(RDT_ppb)) %>% \n",
    "  group_by(Date_sampled, Municipality) %>%\n",
    "  summarize(mean_RDT = mean(RDT_ppb))\n",
    "\n",
    "dim(combined_lead_gw)\n",
    "\n",
    "combined_lead_gw"
   ]
  },
  {
   "cell_type": "markdown",
   "metadata": {},
   "source": [
    "This yields the object `combined_lead_gw` where the observations for each plot are spread across multiple rows, 9 observations of 3 variables. Using `pivot_wider()` to key on Municipality with values from mean_ppb this becomes 5 observations of  5 variables, one row for each plot."
   ]
  },
  {
   "cell_type": "code",
   "execution_count": 62,
   "metadata": {},
   "outputs": [
    {
     "data": {
      "text/html": [
       "<table>\n",
       "<thead><tr><th scope=col>Date_sampled</th><th scope=col>Utility A</th><th scope=col>Utility B</th><th scope=col>Utility C</th><th scope=col>Utility D</th></tr></thead>\n",
       "<tbody>\n",
       "\t<tr><td>10/2/2018 </td><td>4.001500  </td><td>       NA </td><td>    NA    </td><td>     NA   </td></tr>\n",
       "\t<tr><td>10/29/2018</td><td>2.195067  </td><td>0.6145714 </td><td>0.4381    </td><td>0.37525   </td></tr>\n",
       "\t<tr><td>11/5/2018 </td><td>1.221222  </td><td>       NA </td><td>    NA    </td><td>     NA   </td></tr>\n",
       "\t<tr><td>6/20/2020 </td><td>      NA  </td><td>0.5923333 </td><td>    NA    </td><td>     NA   </td></tr>\n",
       "\t<tr><td>8/29/2018 </td><td>2.213182  </td><td>1.0528889 </td><td>    NA    </td><td>     NA   </td></tr>\n",
       "</tbody>\n",
       "</table>\n"
      ],
      "text/latex": [
       "\\begin{tabular}{r|lllll}\n",
       " Date\\_sampled & Utility A & Utility B & Utility C & Utility D\\\\\n",
       "\\hline\n",
       "\t 10/2/2018  & 4.001500   &        NA  &     NA     &      NA   \\\\\n",
       "\t 10/29/2018 & 2.195067   & 0.6145714  & 0.4381     & 0.37525   \\\\\n",
       "\t 11/5/2018  & 1.221222   &        NA  &     NA     &      NA   \\\\\n",
       "\t 6/20/2020  &       NA   & 0.5923333  &     NA     &      NA   \\\\\n",
       "\t 8/29/2018  & 2.213182   & 1.0528889  &     NA     &      NA   \\\\\n",
       "\\end{tabular}\n"
      ],
      "text/markdown": [
       "\n",
       "| Date_sampled | Utility A | Utility B | Utility C | Utility D |\n",
       "|---|---|---|---|---|\n",
       "| 10/2/2018  | 4.001500   |        NA  |     NA     |      NA    |\n",
       "| 10/29/2018 | 2.195067   | 0.6145714  | 0.4381     | 0.37525    |\n",
       "| 11/5/2018  | 1.221222   |        NA  |     NA     |      NA    |\n",
       "| 6/20/2020  |       NA   | 0.5923333  |     NA     |      NA    |\n",
       "| 8/29/2018  | 2.213182   | 1.0528889  |     NA     |      NA    |\n",
       "\n"
      ],
      "text/plain": [
       "  Date_sampled Utility A Utility B Utility C Utility D\n",
       "1 10/2/2018    4.001500         NA     NA         NA  \n",
       "2 10/29/2018   2.195067  0.6145714 0.4381    0.37525  \n",
       "3 11/5/2018    1.221222         NA     NA         NA  \n",
       "4 6/20/2020          NA  0.5923333     NA         NA  \n",
       "5 8/29/2018    2.213182  1.0528889     NA         NA  "
      ]
     },
     "metadata": {},
     "output_type": "display_data"
    }
   ],
   "source": [
    "combined_lead_spread<-combined_lead_gw %>%\n",
    "  pivot_wider(names_from=\"Municipality\", values_from=\"mean_RDT\")\n",
    "\n",
    "#examine data\n",
    "\n",
    "combined_lead_spread"
   ]
  },
  {
   "cell_type": "markdown",
   "metadata": {},
   "source": [
    "_________________________________________________________________________\n",
    "\n",
    "# Exporting data\n",
    "\n",
    "Now that you have learned how to use dplyr to extract information from or summarize your raw data, you may want to export these new data sets to share them with your collaborators or for archival.\n",
    "\n",
    "Similar to the `read_csv()` function used for reading CSV files into R, there is a `write_csv()` function that generates CSV files from data frames.\n",
    "\n",
    "Before using `write_csv()`, we are going to create a new folder, data, in our working directory that will store this generated dataset. We don't want to write generated datasets in the same directory as our raw data. It's good practice to keep them separate. The data_raw folder should only contain the raw, unaltered data, and should be left alone to make sure we don't delete or modify it. In contrast, our script will generate the contents of the data directory, so even if the files it contains are deleted, we can always re-generate them.\n",
    "\n",
    "Now that our data set is ready, we can save it as a CSV file in our data folder.\n"
   ]
  },
  {
   "cell_type": "code",
   "execution_count": null,
   "metadata": {},
   "outputs": [],
   "source": [
    "write_csv(surveys_complete, file = \"data/surveys_complete.csv\")"
   ]
  },
  {
   "cell_type": "markdown",
   "metadata": {},
   "source": [
    "<span class=\"console\"></span> <br>\n",
    "----------------------------- <br>\n",
    "<span class=\"editor\"></span> <br>\n",
    "----------------------------- <br>\n",
    "<span class=\"c2c\"></span> <br>\n",
    "<div class=\"c2c\"></div> <br>\n",
    "----------------------------- <br>\n",
    "<span class=\"run\"></span> <br>\n",
    "<div class=\"run\"></div> <br>\n",
    "----------------------------- <br>\n",
    "<span class=\"runcell\"></span> <br>\n",
    "<div class=\"runcell\"></div> <br>\n",
    "----------------------------- <br>\n",
    "<span class=\"file\">Text</span> <br>\n",
    "<div class=\"file\">Text</div> <br>\n",
    "----------------------------- <br>\n",
    "<span class=\"important\"></span> <br>\n",
    "<div class=\"important\"></div> <br>\n",
    "----------------------------- <br>\n",
    "<span class=\"note\"></span> <br>\n",
    "<div class=\"note\"></div> <br>\n",
    "----------------------------- <br>\n",
    "<span class=\"checkpoint\">Text</span> <br>\n",
    "<div class=\"checkpoint\">Text</div> <br>\n",
    "-----------------------------\n",
    "<span class=\"codeerror\">Text</span> <br>\n",
    "<div class=\"codeerror\">Text</div> <br>\n",
    "----------------------------- <br>\n",
    "<span class=\"lineerror\">Text</span> <br>\n",
    "<div class=\"lineerror\">Text</div> <br>\n",
    "----------------------------- <br>\n",
    "<span class=\"terminal\"></span> <br>\n",
    "<div class=\"terminal\"></div> <br>\n",
    "----------------------------- <br>\n",
    "<span class=\"terminalBlock\">Text</span> <br>\n",
    "<div class=\"terminalBlock\">Text</div> <br>\n",
    "----------------------------- <br>\n",
    "<span class=\"nomenclature\">nomenclature</span> <br>\n",
    "<div class=\"nomenclature\">nomenclature</div> <br>\n",
    "----------------------------- <br>\n",
    "<span class=\"code\">code</span> <br>\n",
    "<div class=\"code\">code</div> <br>\n",
    "----------------------------- <br>\n",
    "<span class=\"rendered_html\">rendered_html</span> <br>\n",
    "<div class=\"rendered_html\">rendered_html</div> <br>\n",
    "----------------------------- <br>\n",
    "\n",
    "<br><br><br>\n",
    "<div class=\"startTASK\"></div>\n",
    "\n",
    "Write task here\n",
    "\n",
    "<div class=\"endTASK\"></div>\n",
    "<br><br><br>\n",
    "\n",
    "\n",
    "\n",
    "<img src=\"../media/R_logo.png\" width=\"150px\">\n",
    "<a href=\"bad_layout.png\" target=\"_blank\"><img src=\"bad_layout.png\" width=\"700px\"></a>"
   ]
  },
  {
   "cell_type": "markdown",
   "metadata": {},
   "source": [
    "<div class=\"big_title\">This is the end of lab</div>\n",
    "\n",
    "*******************\n",
    "*******************\n",
    "\n",
    "Code below is for formatting of this lab. Do not alter!"
   ]
  },
  {
   "cell_type": "code",
   "execution_count": 63,
   "metadata": {},
   "outputs": [
    {
     "data": {
      "text/html": [
       "<style>\n",
       "\n",
       "body {\n",
       "  counter-reset: question_num task_num;                     /* Set a counter named 'section', and it`s initial value is 0. */\n",
       "}\n",
       "\n",
       "/* Question Box */\n",
       ".Q {\n",
       "    background-color:#ff9900;\n",
       "    color:black;\n",
       "    font-size:17px;\n",
       "    width:100%;\n",
       "    border:1px solid #666666;\n",
       "    padding:5px;\n",
       "}\n",
       "\n",
       ".Q::before {\n",
       "    counter-increment: question_num;\n",
       "    content: \"QUESTION \" counter(question_num) '\\A';\n",
       "    white-space: pre;\n",
       "}\n",
       "\n",
       "\n",
       "/* Question Box */\n",
       ".T {\n",
       "    background-color:#00F7FF;\n",
       "    color:black;\n",
       "    font-size:17px;\n",
       "    font-weight: bold;\n",
       "    width:10%;\n",
       "    padding:5px;\n",
       "}\n",
       "\n",
       "\n",
       ".T::before {\n",
       "    counter-increment: task_num;\n",
       "    content: \"Task \" counter(task_num) ': ';\n",
       "}\n",
       "\n",
       "\n",
       "/* TASK BOX */\n",
       ".startTASK {\n",
       "    background: linear-gradient(to bottom, #b3ffb3 0%, #ffffff 100%);\n",
       "    border-top-left-radius: 10px;\n",
       "    border-top-right-radius: 10px;\n",
       "    border:1px solid #009900;\n",
       "    border-bottom:1px solid #ffffff;\n",
       "    color:#006600;\n",
       "    font-size:17px;\n",
       "    width:100%;\n",
       "    font-weight: bold;\n",
       "    padding:5px;\n",
       "    padding-top:15px;\n",
       "}\n",
       ".startTASK::before {\n",
       "    counter-increment: task_num;\n",
       "    content: \"Task \" counter(task_num) ': ';\n",
       "}\n",
       "\n",
       ".endTASK {\n",
       "    background: linear-gradient(to bottom, #ffffff 0%, #b3ffb3 100%);\n",
       "    border-bottom-left-radius: 10px;\n",
       "    border-bottom-right-radius: 10px;\n",
       "    border:1px solid #009900;\n",
       "    border-top:1px solid #ffffff;\n",
       "    color:#006600;\n",
       "    font-size:13px;\n",
       "    width:100%;\n",
       "    font-weight: bold;\n",
       "    padding:5px;\n",
       "    padding-top:15px;\n",
       "}\n",
       ".endTASK::before {\n",
       "    content: \"End of Task\";\n",
       "}\n",
       "\n",
       "\n",
       "\n",
       "\n",
       "\n",
       "\n",
       "\n",
       "\n",
       "\n",
       "\n",
       "\n",
       "\n",
       "\n",
       "\n",
       ".qhelp {\n",
       "    color:#666666;\n",
       "    font-size:15px\n",
       "}\n",
       "\n",
       ".qhelp::after {\n",
       "    content: \"Answer this question in the corresponding Brightspace LAB quiz\"\n",
       "}\n",
       "\n",
       "\n",
       "\n",
       "/* code */\n",
       ".rendered_html pre, .rendered_html code {\n",
       "    font-family: \"SF Mono\",\"Segoe UI Mono\",\"Roboto Mono\",\"Ubuntu Mono\",Menlo,Courier,monospace;\n",
       "    padding: 1px 3px;\n",
       "    border: 1px solid #e6e6e6;\n",
       "    border-radius: 3px;\n",
       "    background: #e6e6e6;\n",
       "    font-size: 12px;\n",
       "    line-height: 1.4;\n",
       "    color: #0052CC;\n",
       "}\n",
       "\n",
       "\n",
       "/* Console */\n",
       ".console {\n",
       "    background-color:#d2d2d2;\n",
       "    color:#FF2525;\n",
       "    font-size:12px;\n",
       "    line-height: 1.4;\n",
       "    border:1px solid #bfbfbf;\n",
       "    padding-top:0px;\n",
       "    padding-bottom:0px;\n",
       "    padding-left:3px;\n",
       "    padding-right:3px;\n",
       "    border-radius: 3px;\n",
       "    display: inline-block;\n",
       "}\n",
       ".console::before {\n",
       "    content: \"Console\";\n",
       "}\n",
       "\n",
       "/* Editor */\n",
       ".editor {\n",
       "    background-color:#d2d2d2;\n",
       "    color:#00b300;\n",
       "    font-size: 12px;\n",
       "    line-height: 1.4;\n",
       "    border:1px solid #bfbfbf;\n",
       "    padding-top:0px;\n",
       "    padding-bottom:0px;\n",
       "    padding-left:3px;\n",
       "    padding-right:3px;\n",
       "    border-radius: 3px;\n",
       "    display: inline-block;\n",
       "}\n",
       ".editor::before {\n",
       "    content: \"Editor\";\n",
       "}\n",
       "\n",
       "\n",
       "\n",
       "/* Copy to CONSOLE */\n",
       ".c2c {\n",
       "    background-color:#d2d2d2;\n",
       "    color:#ff8080;\n",
       "    font-size:13px;\n",
       "    border:1px solid #bfbfbf;\n",
       "    padding:1px 3px;\n",
       "    border-radius: 3px;\n",
       "    margin-top: 10px;\n",
       "    display: inline-block;\n",
       "}\n",
       "\n",
       ".c2c::before {\n",
       "    content: \"Copy-paste into Spyder's Console\";\n",
       "}\n",
       "\n",
       "/* Type in CONSOLE */\n",
       ".t2c {\n",
       "    background-color:#d2d2d2;\n",
       "    color:#ff8080;\n",
       "    font-size:13px;\n",
       "    border:1px solid #bfbfbf;\n",
       "    padding:1px 3px;\n",
       "    border-radius: 3px;\n",
       "    margin-top: 10px;\n",
       "    display: inline-block;\n",
       "}\n",
       "\n",
       ".t2c::before {\n",
       "    content: \"Type into Spyder's Console\";\n",
       "}\n",
       "\n",
       "\n",
       "/* SOURCE */\n",
       ".source {\n",
       "    background-color:#d2d2d2;\n",
       "    color:#009EBF;\n",
       "    font-size: 12px;\n",
       "    line-height: 1.4;\n",
       "    font-weight: bold;\n",
       "    border:1px solid #bfbfbf;\n",
       "    padding-top:0px;\n",
       "    padding-bottom:0px;\n",
       "    padding-left:3px;\n",
       "    padding-right:3px;\n",
       "    border-radius: 3px;\n",
       "    display: inline-block;\n",
       "}\n",
       ".source::before {\n",
       "    content: \"\\25B6\" \"Source\";\n",
       "}\n",
       "\n",
       "\n",
       "/* RUN */\n",
       ".run {\n",
       "    background-color:#d2d2d2;\n",
       "    color:#00b300;\n",
       "    font-size: 12px;\n",
       "    line-height: 1.4;\n",
       "    font-weight: bold;\n",
       "    border:1px solid #bfbfbf;\n",
       "    padding-top:0px;\n",
       "    padding-bottom:0px;\n",
       "    padding-left:3px;\n",
       "    padding-right:3px;\n",
       "    border-radius: 3px;\n",
       "    display: inline-block;\n",
       "}\n",
       ".run::before {\n",
       "    content: \"\\25B6\" \"RUN\";\n",
       "}\n",
       "\n",
       "/* RUN */\n",
       ".runcell {\n",
       "    background-color:#d2d2d2;\n",
       "    color:#00b300;\n",
       "    font-size: 12px;\n",
       "    line-height: 1.4;\n",
       "    border:1px solid #bfbfbf;\n",
       "    padding-top:0px;\n",
       "    padding-bottom:0px;\n",
       "    padding-left:3px;\n",
       "    padding-right:3px;\n",
       "    border-radius: 3px;\n",
       "    display: inline-block;\n",
       "}\n",
       ".runcell::before {\n",
       "    content: \"RUN current cell\";\n",
       "}\n",
       "\n",
       "/* FILE */\n",
       ".file {\n",
       "    color:#b36b00;\n",
       "    font-size: 12px;\n",
       "    line-height: 1.4;\n",
       "    font-weight: bold;\n",
       "    border:1px solid #bfbfbf;\n",
       "    padding-top:0px;\n",
       "    padding-bottom:0px;\n",
       "    padding-left:3px;\n",
       "    padding-right:3px;\n",
       "    border-radius: 3px;\n",
       "    display: inline-block;\n",
       "}\n",
       "\n",
       "/* important */\n",
       ".important {\n",
       "    background-color:#ff4d4d;\n",
       "    color:black;\n",
       "    font-size: 13px;\n",
       "    line-height: 1.4;\n",
       "    font-weight: bold;\n",
       "    border:1px solid #bfbfbf;\n",
       "    padding-top:0px;\n",
       "    padding-bottom:0px;\n",
       "    padding-left:3px;\n",
       "    padding-right:3px;\n",
       "    border-radius: 3px;\n",
       "    display: inline-block;\n",
       "    margin-top:5px;\n",
       "}\n",
       ".important::before {\n",
       "    content: \"Important:\";\n",
       "}\n",
       "\n",
       "/* important */\n",
       ".note {\n",
       "    background-color:#ffff80;\n",
       "    color:black;\n",
       "    font-size: 13px;\n",
       "    line-height: 1.4;\n",
       "    font-weight: bold;\n",
       "    border:1px solid #bfbfbf;\n",
       "    padding-top:0px;\n",
       "    padding-bottom:0px;\n",
       "    padding-left:3px;\n",
       "    padding-right:3px;\n",
       "    border-radius: 3px;\n",
       "    display: inline-block;\n",
       "    margin-top:5px;\n",
       "}\n",
       ".note::before {\n",
       "    content: \"Note:\";\n",
       "}\n",
       "\n",
       "\n",
       "/* TODO */\n",
       ".TODO {\n",
       "    background-color:red;\n",
       "    color:black;\n",
       "    font-size:18px;\n",
       "    width:100%;\n",
       "    padding:10px;\n",
       "}\n",
       ".TODO::before {\n",
       "    content: \"TO-DO:\";\n",
       "}\n",
       "\n",
       "\n",
       ".nomenclature {\n",
       "    font-family: \"SF Mono\",\"Segoe UI Mono\",\"Roboto Mono\",\"Ubuntu Mono\",Menlo,Courier,monospace;\n",
       "    background-color:#ffff80;\n",
       "    color:black;\n",
       "    font-size: 15px;\n",
       "    line-height: 1.4;\n",
       "    font-weight: bold;\n",
       "    border:1px solid #bfbfbf;\n",
       "    padding-left:3px;\n",
       "    padding-right:3px;\n",
       "    display: inline-block;\n",
       "    margin-top:3px;\n",
       "}\n",
       "\n",
       "\n",
       "\n",
       ".big_title {\n",
       "    background-color:#cccccc;\n",
       "    color:black;\n",
       "    font-size: 35px;\n",
       "    line-height: 1.4;\n",
       "    font-weight: bold;\n",
       "    border:1px solid #8c8c8c;\n",
       "    padding:20px;\n",
       "    margin-top:5px;\n",
       "    width:100%;\n",
       "}\n",
       "\n",
       "\n",
       ".codeX {\n",
       "    font-family: \"SF Mono\",\"Segoe UI Mono\",\"Roboto Mono\",\"Ubuntu Mono\",Menlo,Courier,monospace;\n",
       "    background-color:#e6e6e6;\n",
       "    color:#0066ff;\n",
       "    font-size: 13px;\n",
       "    line-height: 1.4;\n",
       "    padding:2px;\n",
       "    display: inline-block;\n",
       "}\n",
       "\n",
       "\n",
       "\n",
       "/* checkpoint */\n",
       ".checkpoint {\n",
       "    background-color:yellow;\n",
       "    color:blue;\n",
       "    font-size: 15px;\n",
       "    line-height: 1.4;\n",
       "    font-weight: bold;\n",
       "    border:1px solid #bfbfbf;\n",
       "    padding-top:0px;\n",
       "    padding-bottom:0px;\n",
       "    padding-left:3px;\n",
       "    padding-right:3px;\n",
       "    border-radius: 3px;\n",
       "    display: inline-block;\n",
       "    margin-top:5px;\n",
       "}\n",
       "\n",
       ".codeerror {\n",
       "    background-color:#ffb3b3;\n",
       "    color:red;\n",
       "    font-size: 13px;\n",
       "    line-height: 1.4;\n",
       "    border:1px solid #ffb3b3;\n",
       "    padding-top:7px;\n",
       "    padding-bottom:7px;\n",
       "    padding-left:7px;\n",
       "    padding-right:7px;\n",
       "    border-radius: 3px;\n",
       "    margin:20px;\n",
       "    margin-left:25px;\n",
       "}\n",
       "\n",
       ".lineerror {\n",
       "    background-color:#ffb3b3;\n",
       "    color:red;\n",
       "    font-size: 13px;\n",
       "    line-height: 1.4;\n",
       "    border:1px solid #ffb3b3;\n",
       "    padding-top:0px;\n",
       "    padding-bottom:0px;\n",
       "    padding-left:3px;\n",
       "    padding-right:3px;\n",
       "    border-radius: 3px;\n",
       "    display: inline-block;\n",
       "    margin-top:5px;\n",
       "}\n",
       "\n",
       "\n",
       "/* terminal */\n",
       ".terminal {\n",
       "    background-color:black;\n",
       "    color:white;\n",
       "    font-size: 12px;\n",
       "    line-height: 1.4;\n",
       "    border:1px solid black;\n",
       "    padding-top:0px;\n",
       "    padding-bottom:0px;\n",
       "    padding-left:3px;\n",
       "    padding-right:3px;\n",
       "    border-radius: 3px;\n",
       "    display: inline-block;\n",
       "}\n",
       ".terminal::before {\n",
       "    content: \"Terminal (i.e. Anaconda Promt)\";\n",
       "}\n",
       ".terminalBlock {\n",
       "    font-family: \"SF Mono\",\"Segoe UI Mono\",\"Roboto Mono\",\"Ubuntu Mono\",Menlo,Courier,monospace;\n",
       "    background-color:black;\n",
       "    color:white;\n",
       "    font-size: 14px;\n",
       "    line-height: 1.4;\n",
       "    border:1px solid black;\n",
       "    padding-top:7px;\n",
       "    padding-bottom:7px;\n",
       "    padding-left:7px;\n",
       "    padding-right:7px;\n",
       "    border-radius: 3px;\n",
       "    margin:20px;\n",
       "    margin-left:25px;\n",
       "}\n",
       "\n",
       ".fakeheader {\n",
       "    font-size: 20px;\n",
       "    font-weight:bold;\n",
       "    background-color:#ccebff;\n",
       "    border:1px solid #b3e0ff;\n",
       "    padding:2px;\n",
       "    margin-top:30px;\n",
       "    margin-bottom:15px;\n",
       "}\n",
       "\n",
       "\n",
       "/* Headers */\n",
       "h1 {\n",
       "    background-color:#99d6ff;\n",
       "    border:1px solid #007acc;\n",
       "    padding:8px;\n",
       "}\n",
       "\n",
       "h2 {\n",
       "    background-color:#ccebff;\n",
       "    border:1px solid #b3e0ff;\n",
       "    padding:2px;\n",
       "}\n",
       "\n",
       "h3 {\n",
       "    background-color:#e6f5ff;\n",
       "    padding:1px;\n",
       "}\n",
       "\n",
       "</style>"
      ]
     },
     "metadata": {},
     "output_type": "display_data"
    },
    {
     "data": {
      "text/html": [
       "<style>body {counter-reset: question_num;}.Q::before {counter-increment: question_num;\n",
       "    content: 'QUESTION ' counter(question_num) '\\A'; white-space: pre; }</style>"
      ]
     },
     "metadata": {},
     "output_type": "display_data"
    }
   ],
   "source": [
    "cssFile <- '../css/custom.css'\n",
    "IRdisplay::display_html(readChar(cssFile, file.info(cssFile)$size))\n",
    "\n",
    "IRdisplay::display_html(\"<style>body {counter-reset: question_num;}.Q::before {counter-increment: question_num;\n",
    "    content: 'QUESTION ' counter(question_num) '\\\\A'; white-space: pre; }</style>\")"
   ]
  },
  {
   "cell_type": "code",
   "execution_count": null,
   "metadata": {},
   "outputs": [],
   "source": []
  }
 ],
 "metadata": {
  "kernelspec": {
   "display_name": "R",
   "language": "R",
   "name": "ir"
  },
  "language_info": {
   "codemirror_mode": "r",
   "file_extension": ".r",
   "mimetype": "text/x-r-source",
   "name": "R",
   "pygments_lexer": "r",
   "version": "3.6.1"
  }
 },
 "nbformat": 4,
 "nbformat_minor": 4
}
