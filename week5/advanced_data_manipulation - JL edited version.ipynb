{
 "cells": [
  {
   "cell_type": "code",
   "execution_count": 1,
   "metadata": {},
   "outputs": [],
   "source": [
    "# Lab settings - please ingnore\n",
    "# Make plots a resonable size\n",
    "options(repr.plot.width=7, repr.plot.height=3.5)"
   ]
  },
  {
   "cell_type": "markdown",
   "metadata": {},
   "source": [
    "<div class=\"big_title\">LAB 5: Advanced data manipulation</div>\n",
    "\n",
    "BIO3782: Biologist's Toolkit (Dalhousie University)\n",
    "\n",
    "----------------------------------------"
   ]
  },
  {
   "cell_type": "markdown",
   "metadata": {},
   "source": [
    "In the previous labs, you learned....\n",
    "\n",
    "how to identify objects like `variables` and `functions`, as well as some basic plotting techniques.\n",
    "\n",
    "In this lab we will work on data cleaning tools and practices.\n",
    "\n",
    "\n",
    "# Data manipulation using dplyr and tidyr\n",
    "\n",
    "`dplyr` is a package for making tabular data manipulation easier. It pairs nicely with tidyr which enables you to swiftly convert between different data formats for plotting and analysis.\n",
    "\n",
    "The `tidyverse` package is an \"umbrella-package\" that installs `tidyr`, `dplyr`, and several other packages useful for data analysis, such as `ggplot2`, `tibble`, etc.\n",
    "\n",
    "The tidyverse package tries to address 3 common issues that arise when doing data analysis with some of the functions that come with R:\n",
    "\n",
    "    1. The results from a base R function sometimes depend on the type of data.\n",
    "\n",
    "    2. Using R expressions in a non standard way, which can be confusing for new learners.\n",
    "    \n",
    "    3. Hidden arguments, having default operations that new learners are not aware of.\n",
    "    \n",
    "You should already have installed and loaded the `tidyverse` package. If we haven't already done so, we can type install.packages(\"tidyverse\") straight into the console. Then, to load the package type library(tidyverse)\n",
    "\n",
    "Let's download the [dplyr cheat sheet] (https://github.com/rstudio/cheatsheets/raw/master/data-transformation.pdf) for reference as well \n",
    "\n"
   ]
  },
  {
   "cell_type": "code",
   "execution_count": 8,
   "metadata": {},
   "outputs": [
    {
     "name": "stderr",
     "output_type": "stream",
     "text": [
      "Installing package into 'C:/Users/flyin/Documents/R/win-library/3.6'\n",
      "(as 'lib' is unspecified)\n"
     ]
    },
    {
     "name": "stdout",
     "output_type": "stream",
     "text": [
      "package 'tidyverse' successfully unpacked and MD5 sums checked\n",
      "\n",
      "The downloaded binary packages are in\n",
      "\tC:\\Users\\flyin\\AppData\\Local\\Temp\\Rtmp4cBIgD\\downloaded_packages\n"
     ]
    }
   ],
   "source": [
    "install.packages(\"tidyverse\")"
   ]
  },
  {
   "cell_type": "code",
   "execution_count": 9,
   "metadata": {},
   "outputs": [
    {
     "name": "stderr",
     "output_type": "stream",
     "text": [
      "Warning message:\n",
      "\"package 'tidyverse' was built under R version 3.6.3\"-- Attaching packages --------------------------------------- tidyverse 1.3.0 --\n",
      "v ggplot2 3.3.3     v purrr   0.3.3\n",
      "v tibble  2.1.3     v dplyr   1.0.2\n",
      "v tidyr   1.1.2     v stringr 1.4.0\n",
      "v readr   1.3.1     v forcats 0.5.0\n",
      "Warning message:\n",
      "\"package 'ggplot2' was built under R version 3.6.3\"Warning message:\n",
      "\"package 'tibble' was built under R version 3.6.2\"Warning message:\n",
      "\"package 'tidyr' was built under R version 3.6.3\"Warning message:\n",
      "\"package 'readr' was built under R version 3.6.2\"Warning message:\n",
      "\"package 'purrr' was built under R version 3.6.2\"Warning message:\n",
      "\"package 'dplyr' was built under R version 3.6.3\"Warning message:\n",
      "\"package 'stringr' was built under R version 3.6.2\"Warning message:\n",
      "\"package 'forcats' was built under R version 3.6.3\"-- Conflicts ------------------------------------------ tidyverse_conflicts() --\n",
      "x dplyr::filter() masks stats::filter()\n",
      "x dplyr::lag()    masks stats::lag()\n"
     ]
    }
   ],
   "source": [
    "library(tidyverse)"
   ]
  },
  {
   "cell_type": "markdown",
   "metadata": {},
   "source": [
    "# What are `dplyr` and `tidyr`?\n",
    "\n",
    "The package `dplyr`provides easy tools for the most common data manipulation tasks. It is built to work directly with data frames, with many common tasks optimized by being written in a compiled language (C++). An additional feature is the ability to work directly with data stored in an external database. The benefits of doing this are that the data can be managed natively in a relational database, queries can be conducted on that database, and only the results of the query are returned.\n",
    "\n",
    "This addresses a common problem with R in that all operations are conducted in-memory and thus the amount of data you can work with is limited by available memory. The database connections essentially remove that limitation in that you can connect to a database of many hundreds of GB, conduct queries on it directly, and pull back into R only what you need for analysis.\n",
    "\n",
    "The package `tidyr` addresses the common problem of wanting to reshape your data for plotting and use by different R functions. Sometimes we want data sets where we have one row per measurement. Sometimes we want a data frame where each measurement type has its own column, and rows are instead more aggregated groups (e.g., a time period, an experimental unit like a plot or a batch number). Moving back and forth between these formats is non-trivial, and `tidyr` gives you tools for this and more sophisticated data manipulation.\n",
    "\n",
    "## The experiment \n",
    "We conducted an experiment to evaluate the cummulative effects of drought and disease on the silver tree. We measured physiological responses of the plant such as photosynthetic oxygen evolution and electrical conductivity.\n",
    "\n",
    "First, we'll download the data. \n"
   ]
  },
  {
   "cell_type": "markdown",
   "metadata": {},
   "source": [
    "As before, we'll read in our data using the `read_csv()` function from the tidyverse package `readr`. We will need to do the following:\n",
    "\n",
    "1. Make a new directory on your Desktop and call it Lab5\n",
    "1. Download the <span class=\"file\">Silver Tree Study photosynthetis.csv</span> and <span class=\"file\">Silver tree study conductance.csv</span> datasets from Brightspace and place them in your Lab5 directory.\n",
    "1. Open R Studio and change your working directory to Lab5. If you don't remeber how to do this, review [this section](https://diego-ibarra.github.io/biol3782/week1/index.html#RStudio's-%22Working-Directory%22)"
   ]
  },
  {
   "cell_type": "code",
   "execution_count": 10,
   "metadata": {
    "scrolled": false
   },
   "outputs": [
    {
     "name": "stderr",
     "output_type": "stream",
     "text": [
      "Parsed with column specification:\n",
      "cols(\n",
      "  `Sample type` = col_character(),\n",
      "  `Days after inoculation` = col_double(),\n",
      "  Date = col_character(),\n",
      "  Licor = col_double(),\n",
      "  Trial = col_double(),\n",
      "  Treatment = col_character(),\n",
      "  Species = col_character(),\n",
      "  `Plant Number` = col_double(),\n",
      "  `Isolate Number` = col_double(),\n",
      "  `Unique Sample Number` = col_double(),\n",
      "  Obs = col_double(),\n",
      "  Photosynthesis = col_double()\n",
      ")\n",
      "Parsed with column specification:\n",
      "cols(\n",
      "  `Sample type` = col_character(),\n",
      "  `Days after inoculation` = col_double(),\n",
      "  Date = col_character(),\n",
      "  Licor = col_double(),\n",
      "  Trial = col_double(),\n",
      "  Treatment = col_character(),\n",
      "  Species = col_character(),\n",
      "  `Plant Number` = col_double(),\n",
      "  `Isolate Number` = col_double(),\n",
      "  `Unique Sample Number` = col_double(),\n",
      "  Obs = col_double(),\n",
      "  Conductance = col_double(),\n",
      "  Ci = col_double()\n",
      ")\n"
     ]
    }
   ],
   "source": [
    "photosynthesis <- read_csv(\"Silver Tree Study photosynthetis.csv\")\n",
    "\n",
    "conductivity <- read_csv(\"Silver tree study conductance.csv\")\n"
   ]
  },
  {
   "cell_type": "markdown",
   "metadata": {},
   "source": [
    "Let's take a look at the two datasets below:"
   ]
  },
  {
   "cell_type": "code",
   "execution_count": 11,
   "metadata": {},
   "outputs": [
    {
     "data": {
      "text/html": [
       "<table>\n",
       "<thead><tr><th scope=col>Sample type</th><th scope=col>Days after inoculation</th><th scope=col>Date</th><th scope=col>Licor</th><th scope=col>Trial</th><th scope=col>Treatment</th><th scope=col>Species</th><th scope=col>Plant Number</th><th scope=col>Isolate Number</th><th scope=col>Unique Sample Number</th><th scope=col>Obs</th><th scope=col>Photosynthesis</th></tr></thead>\n",
       "<tbody>\n",
       "\t<tr><td>1DroughtIndigenous Pathogen 1</td><td>9                            </td><td>6/8/2018                     </td><td>6400                         </td><td>1                            </td><td>Drought                      </td><td>Indigenous Pathogen          </td><td>1                            </td><td>1                            </td><td>3                            </td><td>1                            </td><td>1.1459282                    </td></tr>\n",
       "\t<tr><td>1DroughtIndigenous Pathogen 1</td><td>9                            </td><td>6/8/2018                     </td><td>6400                         </td><td>1                            </td><td>Drought                      </td><td>Indigenous Pathogen          </td><td>1                            </td><td>1                            </td><td>3                            </td><td>2                            </td><td>0.8224351                    </td></tr>\n",
       "\t<tr><td>1DroughtIndigenous Pathogen 1</td><td>9                            </td><td>6/8/2018                     </td><td>6400                         </td><td>1                            </td><td>Drought                      </td><td>Indigenous Pathogen          </td><td>1                            </td><td>1                            </td><td>3                            </td><td>3                            </td><td>0.8382796                    </td></tr>\n",
       "\t<tr><td>1DroughtIndigenous Pathogen 1</td><td>9                            </td><td>6/8/2018                     </td><td>6400                         </td><td>1                            </td><td>Drought                      </td><td>Indigenous Pathogen          </td><td>1                            </td><td>1                            </td><td>3                            </td><td>4                            </td><td>1.2894069                    </td></tr>\n",
       "</tbody>\n",
       "</table>\n"
      ],
      "text/latex": [
       "\\begin{tabular}{r|llllllllllll}\n",
       " Sample type & Days after inoculation & Date & Licor & Trial & Treatment & Species & Plant Number & Isolate Number & Unique Sample Number & Obs & Photosynthesis\\\\\n",
       "\\hline\n",
       "\t 1DroughtIndigenous Pathogen 1 & 9                             & 6/8/2018                      & 6400                          & 1                             & Drought                       & Indigenous Pathogen           & 1                             & 1                             & 3                             & 1                             & 1.1459282                    \\\\\n",
       "\t 1DroughtIndigenous Pathogen 1 & 9                             & 6/8/2018                      & 6400                          & 1                             & Drought                       & Indigenous Pathogen           & 1                             & 1                             & 3                             & 2                             & 0.8224351                    \\\\\n",
       "\t 1DroughtIndigenous Pathogen 1 & 9                             & 6/8/2018                      & 6400                          & 1                             & Drought                       & Indigenous Pathogen           & 1                             & 1                             & 3                             & 3                             & 0.8382796                    \\\\\n",
       "\t 1DroughtIndigenous Pathogen 1 & 9                             & 6/8/2018                      & 6400                          & 1                             & Drought                       & Indigenous Pathogen           & 1                             & 1                             & 3                             & 4                             & 1.2894069                    \\\\\n",
       "\\end{tabular}\n"
      ],
      "text/markdown": [
       "\n",
       "| Sample type | Days after inoculation | Date | Licor | Trial | Treatment | Species | Plant Number | Isolate Number | Unique Sample Number | Obs | Photosynthesis |\n",
       "|---|---|---|---|---|---|---|---|---|---|---|---|\n",
       "| 1DroughtIndigenous Pathogen 1 | 9                             | 6/8/2018                      | 6400                          | 1                             | Drought                       | Indigenous Pathogen           | 1                             | 1                             | 3                             | 1                             | 1.1459282                     |\n",
       "| 1DroughtIndigenous Pathogen 1 | 9                             | 6/8/2018                      | 6400                          | 1                             | Drought                       | Indigenous Pathogen           | 1                             | 1                             | 3                             | 2                             | 0.8224351                     |\n",
       "| 1DroughtIndigenous Pathogen 1 | 9                             | 6/8/2018                      | 6400                          | 1                             | Drought                       | Indigenous Pathogen           | 1                             | 1                             | 3                             | 3                             | 0.8382796                     |\n",
       "| 1DroughtIndigenous Pathogen 1 | 9                             | 6/8/2018                      | 6400                          | 1                             | Drought                       | Indigenous Pathogen           | 1                             | 1                             | 3                             | 4                             | 1.2894069                     |\n",
       "\n"
      ],
      "text/plain": [
       "  Sample type                   Days after inoculation Date     Licor Trial\n",
       "1 1DroughtIndigenous Pathogen 1 9                      6/8/2018 6400  1    \n",
       "2 1DroughtIndigenous Pathogen 1 9                      6/8/2018 6400  1    \n",
       "3 1DroughtIndigenous Pathogen 1 9                      6/8/2018 6400  1    \n",
       "4 1DroughtIndigenous Pathogen 1 9                      6/8/2018 6400  1    \n",
       "  Treatment Species             Plant Number Isolate Number\n",
       "1 Drought   Indigenous Pathogen 1            1             \n",
       "2 Drought   Indigenous Pathogen 1            1             \n",
       "3 Drought   Indigenous Pathogen 1            1             \n",
       "4 Drought   Indigenous Pathogen 1            1             \n",
       "  Unique Sample Number Obs Photosynthesis\n",
       "1 3                    1   1.1459282     \n",
       "2 3                    2   0.8224351     \n",
       "3 3                    3   0.8382796     \n",
       "4 3                    4   1.2894069     "
      ]
     },
     "metadata": {},
     "output_type": "display_data"
    }
   ],
   "source": [
    "photosynthesis  %>% \n",
    "head(4)"
   ]
  },
  {
   "cell_type": "code",
   "execution_count": 12,
   "metadata": {},
   "outputs": [
    {
     "data": {
      "text/html": [
       "<table>\n",
       "<thead><tr><th scope=col>Sample type</th><th scope=col>Days after inoculation</th><th scope=col>Date</th><th scope=col>Licor</th><th scope=col>Trial</th><th scope=col>Treatment</th><th scope=col>Species</th><th scope=col>Plant Number</th><th scope=col>Isolate Number</th><th scope=col>Unique Sample Number</th><th scope=col>Obs</th><th scope=col>Conductance</th><th scope=col>Ci</th></tr></thead>\n",
       "<tbody>\n",
       "\t<tr><td>1DroughtIndigenous Pathogen 1</td><td>9                            </td><td>6/8/2018                     </td><td>6400                         </td><td>1                            </td><td>Drought                      </td><td>Indigenous Pathogen          </td><td>1                            </td><td>1                            </td><td>3                            </td><td>1                            </td><td>0.000407974                  </td><td>-4050.458                    </td></tr>\n",
       "\t<tr><td>1DroughtIndigenous Pathogen 1</td><td>9                            </td><td>6/8/2018                     </td><td>6400                         </td><td>1                            </td><td>Drought                      </td><td>Indigenous Pathogen          </td><td>1                            </td><td>1                            </td><td>3                            </td><td>2                            </td><td>0.000454750                  </td><td>-2467.036                    </td></tr>\n",
       "\t<tr><td>1DroughtIndigenous Pathogen 1</td><td>9                            </td><td>6/8/2018                     </td><td>6400                         </td><td>1                            </td><td>Drought                      </td><td>Indigenous Pathogen          </td><td>1                            </td><td>1                            </td><td>3                            </td><td>3                            </td><td>0.000673320                  </td><td>-1575.086                    </td></tr>\n",
       "\t<tr><td>1DroughtIndigenous Pathogen 1</td><td>9                            </td><td>6/8/2018                     </td><td>6400                         </td><td>1                            </td><td>Drought                      </td><td>Indigenous Pathogen          </td><td>1                            </td><td>1                            </td><td>3                            </td><td>4                            </td><td>0.000470876                  </td><td>-3938.661                    </td></tr>\n",
       "</tbody>\n",
       "</table>\n"
      ],
      "text/latex": [
       "\\begin{tabular}{r|lllllllllllll}\n",
       " Sample type & Days after inoculation & Date & Licor & Trial & Treatment & Species & Plant Number & Isolate Number & Unique Sample Number & Obs & Conductance & Ci\\\\\n",
       "\\hline\n",
       "\t 1DroughtIndigenous Pathogen 1 & 9                             & 6/8/2018                      & 6400                          & 1                             & Drought                       & Indigenous Pathogen           & 1                             & 1                             & 3                             & 1                             & 0.000407974                   & -4050.458                    \\\\\n",
       "\t 1DroughtIndigenous Pathogen 1 & 9                             & 6/8/2018                      & 6400                          & 1                             & Drought                       & Indigenous Pathogen           & 1                             & 1                             & 3                             & 2                             & 0.000454750                   & -2467.036                    \\\\\n",
       "\t 1DroughtIndigenous Pathogen 1 & 9                             & 6/8/2018                      & 6400                          & 1                             & Drought                       & Indigenous Pathogen           & 1                             & 1                             & 3                             & 3                             & 0.000673320                   & -1575.086                    \\\\\n",
       "\t 1DroughtIndigenous Pathogen 1 & 9                             & 6/8/2018                      & 6400                          & 1                             & Drought                       & Indigenous Pathogen           & 1                             & 1                             & 3                             & 4                             & 0.000470876                   & -3938.661                    \\\\\n",
       "\\end{tabular}\n"
      ],
      "text/markdown": [
       "\n",
       "| Sample type | Days after inoculation | Date | Licor | Trial | Treatment | Species | Plant Number | Isolate Number | Unique Sample Number | Obs | Conductance | Ci |\n",
       "|---|---|---|---|---|---|---|---|---|---|---|---|---|\n",
       "| 1DroughtIndigenous Pathogen 1 | 9                             | 6/8/2018                      | 6400                          | 1                             | Drought                       | Indigenous Pathogen           | 1                             | 1                             | 3                             | 1                             | 0.000407974                   | -4050.458                     |\n",
       "| 1DroughtIndigenous Pathogen 1 | 9                             | 6/8/2018                      | 6400                          | 1                             | Drought                       | Indigenous Pathogen           | 1                             | 1                             | 3                             | 2                             | 0.000454750                   | -2467.036                     |\n",
       "| 1DroughtIndigenous Pathogen 1 | 9                             | 6/8/2018                      | 6400                          | 1                             | Drought                       | Indigenous Pathogen           | 1                             | 1                             | 3                             | 3                             | 0.000673320                   | -1575.086                     |\n",
       "| 1DroughtIndigenous Pathogen 1 | 9                             | 6/8/2018                      | 6400                          | 1                             | Drought                       | Indigenous Pathogen           | 1                             | 1                             | 3                             | 4                             | 0.000470876                   | -3938.661                     |\n",
       "\n"
      ],
      "text/plain": [
       "  Sample type                   Days after inoculation Date     Licor Trial\n",
       "1 1DroughtIndigenous Pathogen 1 9                      6/8/2018 6400  1    \n",
       "2 1DroughtIndigenous Pathogen 1 9                      6/8/2018 6400  1    \n",
       "3 1DroughtIndigenous Pathogen 1 9                      6/8/2018 6400  1    \n",
       "4 1DroughtIndigenous Pathogen 1 9                      6/8/2018 6400  1    \n",
       "  Treatment Species             Plant Number Isolate Number\n",
       "1 Drought   Indigenous Pathogen 1            1             \n",
       "2 Drought   Indigenous Pathogen 1            1             \n",
       "3 Drought   Indigenous Pathogen 1            1             \n",
       "4 Drought   Indigenous Pathogen 1            1             \n",
       "  Unique Sample Number Obs Conductance Ci       \n",
       "1 3                    1   0.000407974 -4050.458\n",
       "2 3                    2   0.000454750 -2467.036\n",
       "3 3                    3   0.000673320 -1575.086\n",
       "4 3                    4   0.000470876 -3938.661"
      ]
     },
     "metadata": {},
     "output_type": "display_data"
    }
   ],
   "source": [
    "conductivity  %>% \n",
    "head(4)"
   ]
  },
  {
   "cell_type": "markdown",
   "metadata": {},
   "source": [
    "Since the experiment was run with two different instruments, we ended up with two different datasets of paired measurements. We can combined both datasets into one more useful dataset\n",
    "\n",
    "# Joins\n",
    "\n",
    "Join functions allow you to connect multiple tables based on common variables(columns) so that you can access info from multiple tables at once. There are (believe it or not) 6 different ways to join tables. \n",
    "\n",
    "The most useful of these is a `left join`, which takes a table (say table 1), and then adds all matching records from table 2. The basic syntax of `left_join` is listed below\n",
    "\n",
    "`left_join`(dataframe 1, dateframe 2, by = \"variable names\")\n",
    "\n",
    "R will automatically detect which columns two tables have in common IF they are called the same thing. If not, you have to feed the matching columns names into the join function.\n",
    "\n",
    "## Types of Joins\n",
    "\n",
    "* `left join`: resulting table will show all records from table 1 (the left hand table), and matching records from table 2 (the right hand table)\n",
    "\n",
    "* `right join`: result shows all records from table 2, and matching records from table 1\n",
    "\n",
    "* `inner join`: result shows only 'matched' records - where there is a matching value in both tables\n",
    "\n",
    "* `full join`: result shows all records from both tables\n",
    "\n",
    "* `anti join`: removes all records from table 1 that have a match in table 2\n",
    "\n",
    "* `semi join`: removes all records from table 2 that have a match in table 1\n",
    "\n",
    "We can create a new dataframe with information all the information from both `photosynthesis` and `conductivity` joining the two dataframes using the qualifying variables in the columns from \"Sample type\"to \"Obs\".\n"
   ]
  },
  {
   "cell_type": "code",
   "execution_count": 11,
   "metadata": {},
   "outputs": [],
   "source": [
    "combined_data <- left_join(photosynthesis,conductivity, \n",
    "                           by =c(\"Sample type\",\n",
    "                                 \"Days after inoculation\", \n",
    "                                 \"Date\", \n",
    "                                 \"Licor\", \n",
    "                                 \"Trial\",\n",
    "                                 \"Treatment\",\n",
    "                                \"Species\",\n",
    "                                \"Plant Number\",\n",
    "                                \"Isolate Number\", \n",
    "                                \"Unique Sample Number\",\n",
    "                                \"Obs\"))"
   ]
  },
  {
   "cell_type": "markdown",
   "metadata": {},
   "source": [
    "Let's look at the combined dataset below"
   ]
  },
  {
   "cell_type": "code",
   "execution_count": 20,
   "metadata": {
    "scrolled": true
   },
   "outputs": [
    {
     "data": {
      "text/html": [
       "<table>\n",
       "<thead><tr><th scope=col>Sample type</th><th scope=col>Days after inoculation</th><th scope=col>Date</th><th scope=col>Licor</th><th scope=col>Trial</th><th scope=col>Treatment</th><th scope=col>Species</th><th scope=col>Plant Number</th><th scope=col>Isolate Number</th><th scope=col>Unique Sample Number</th><th scope=col>Obs</th><th scope=col>Photosynthesis</th><th scope=col>Conductance</th><th scope=col>Ci</th></tr></thead>\n",
       "<tbody>\n",
       "\t<tr><td>1DroughtIndigenous Pathogen 1</td><td>9                            </td><td>6/8/2018                     </td><td>6400                         </td><td>1                            </td><td>Drought                      </td><td>Indigenous Pathogen          </td><td>1                            </td><td>1                            </td><td>3                            </td><td>1                            </td><td>1.1459282                    </td><td>0.000407974                  </td><td>-4050.458                    </td></tr>\n",
       "\t<tr><td>1DroughtIndigenous Pathogen 1</td><td>9                            </td><td>6/8/2018                     </td><td>6400                         </td><td>1                            </td><td>Drought                      </td><td>Indigenous Pathogen          </td><td>1                            </td><td>1                            </td><td>3                            </td><td>2                            </td><td>0.8224351                    </td><td>0.000454750                  </td><td>-2467.036                    </td></tr>\n",
       "\t<tr><td>1DroughtIndigenous Pathogen 1</td><td>9                            </td><td>6/8/2018                     </td><td>6400                         </td><td>1                            </td><td>Drought                      </td><td>Indigenous Pathogen          </td><td>1                            </td><td>1                            </td><td>3                            </td><td>3                            </td><td>0.8382796                    </td><td>0.000673320                  </td><td>-1575.086                    </td></tr>\n",
       "\t<tr><td>1DroughtIndigenous Pathogen 1</td><td>9                            </td><td>6/8/2018                     </td><td>6400                         </td><td>1                            </td><td>Drought                      </td><td>Indigenous Pathogen          </td><td>1                            </td><td>1                            </td><td>3                            </td><td>4                            </td><td>1.2894069                    </td><td>0.000470876                  </td><td>-3938.661                    </td></tr>\n",
       "</tbody>\n",
       "</table>\n"
      ],
      "text/latex": [
       "\\begin{tabular}{r|llllllllllllll}\n",
       " Sample type & Days after inoculation & Date & Licor & Trial & Treatment & Species & Plant Number & Isolate Number & Unique Sample Number & Obs & Photosynthesis & Conductance & Ci\\\\\n",
       "\\hline\n",
       "\t 1DroughtIndigenous Pathogen 1 & 9                             & 6/8/2018                      & 6400                          & 1                             & Drought                       & Indigenous Pathogen           & 1                             & 1                             & 3                             & 1                             & 1.1459282                     & 0.000407974                   & -4050.458                    \\\\\n",
       "\t 1DroughtIndigenous Pathogen 1 & 9                             & 6/8/2018                      & 6400                          & 1                             & Drought                       & Indigenous Pathogen           & 1                             & 1                             & 3                             & 2                             & 0.8224351                     & 0.000454750                   & -2467.036                    \\\\\n",
       "\t 1DroughtIndigenous Pathogen 1 & 9                             & 6/8/2018                      & 6400                          & 1                             & Drought                       & Indigenous Pathogen           & 1                             & 1                             & 3                             & 3                             & 0.8382796                     & 0.000673320                   & -1575.086                    \\\\\n",
       "\t 1DroughtIndigenous Pathogen 1 & 9                             & 6/8/2018                      & 6400                          & 1                             & Drought                       & Indigenous Pathogen           & 1                             & 1                             & 3                             & 4                             & 1.2894069                     & 0.000470876                   & -3938.661                    \\\\\n",
       "\\end{tabular}\n"
      ],
      "text/markdown": [
       "\n",
       "| Sample type | Days after inoculation | Date | Licor | Trial | Treatment | Species | Plant Number | Isolate Number | Unique Sample Number | Obs | Photosynthesis | Conductance | Ci |\n",
       "|---|---|---|---|---|---|---|---|---|---|---|---|---|---|\n",
       "| 1DroughtIndigenous Pathogen 1 | 9                             | 6/8/2018                      | 6400                          | 1                             | Drought                       | Indigenous Pathogen           | 1                             | 1                             | 3                             | 1                             | 1.1459282                     | 0.000407974                   | -4050.458                     |\n",
       "| 1DroughtIndigenous Pathogen 1 | 9                             | 6/8/2018                      | 6400                          | 1                             | Drought                       | Indigenous Pathogen           | 1                             | 1                             | 3                             | 2                             | 0.8224351                     | 0.000454750                   | -2467.036                     |\n",
       "| 1DroughtIndigenous Pathogen 1 | 9                             | 6/8/2018                      | 6400                          | 1                             | Drought                       | Indigenous Pathogen           | 1                             | 1                             | 3                             | 3                             | 0.8382796                     | 0.000673320                   | -1575.086                     |\n",
       "| 1DroughtIndigenous Pathogen 1 | 9                             | 6/8/2018                      | 6400                          | 1                             | Drought                       | Indigenous Pathogen           | 1                             | 1                             | 3                             | 4                             | 1.2894069                     | 0.000470876                   | -3938.661                     |\n",
       "\n"
      ],
      "text/plain": [
       "  Sample type                   Days after inoculation Date     Licor Trial\n",
       "1 1DroughtIndigenous Pathogen 1 9                      6/8/2018 6400  1    \n",
       "2 1DroughtIndigenous Pathogen 1 9                      6/8/2018 6400  1    \n",
       "3 1DroughtIndigenous Pathogen 1 9                      6/8/2018 6400  1    \n",
       "4 1DroughtIndigenous Pathogen 1 9                      6/8/2018 6400  1    \n",
       "  Treatment Species             Plant Number Isolate Number\n",
       "1 Drought   Indigenous Pathogen 1            1             \n",
       "2 Drought   Indigenous Pathogen 1            1             \n",
       "3 Drought   Indigenous Pathogen 1            1             \n",
       "4 Drought   Indigenous Pathogen 1            1             \n",
       "  Unique Sample Number Obs Photosynthesis Conductance Ci       \n",
       "1 3                    1   1.1459282      0.000407974 -4050.458\n",
       "2 3                    2   0.8224351      0.000454750 -2467.036\n",
       "3 3                    3   0.8382796      0.000673320 -1575.086\n",
       "4 3                    4   1.2894069      0.000470876 -3938.661"
      ]
     },
     "metadata": {},
     "output_type": "display_data"
    }
   ],
   "source": [
    "combined_data  %>% \n",
    "head(4)"
   ]
  },
  {
   "cell_type": "code",
   "execution_count": 32,
   "metadata": {},
   "outputs": [
    {
     "data": {
      "text/html": [
       "<ol class=list-inline>\n",
       "\t<li>1722</li>\n",
       "\t<li>14</li>\n",
       "</ol>\n"
      ],
      "text/latex": [
       "\\begin{enumerate*}\n",
       "\\item 1722\n",
       "\\item 14\n",
       "\\end{enumerate*}\n"
      ],
      "text/markdown": [
       "1. 1722\n",
       "2. 14\n",
       "\n",
       "\n"
      ],
      "text/plain": [
       "[1] 1722   14"
      ]
     },
     "metadata": {},
     "output_type": "display_data"
    }
   ],
   "source": [
    "dim(combined_data)"
   ]
  },
  {
   "cell_type": "code",
   "execution_count": 33,
   "metadata": {},
   "outputs": [
    {
     "name": "stdout",
     "output_type": "stream",
     "text": [
      "'data.frame':\t1722 obs. of  14 variables:\n",
      " $ Sample type           : chr  \"1DroughtBoth Pathogens9\" \"1DroughtBoth Pathogens9\" \"1DroughtBoth Pathogens9\" \"1DroughtBoth Pathogens9\" ...\n",
      " $ Days after inoculation: num  9 9 9 9 9 9 9 9 9 9 ...\n",
      " $ Date                  : chr  \"6/8/2018\" \"6/8/2018\" \"6/8/2018\" \"6/8/2018\" ...\n",
      " $ Licor                 : num  6800 6800 6800 6800 6800 6800 6800 6800 6800 6800 ...\n",
      " $ Trial                 : num  1 1 1 1 1 1 1 1 1 1 ...\n",
      " $ Treatment             : chr  \"Drought\" \"Drought\" \"Drought\" \"Drought\" ...\n",
      " $ Species               : chr  \"Both Pathogens\" \"Both Pathogens\" \"Both Pathogens\" \"Both Pathogens\" ...\n",
      " $ Plant Number          : num  9 9 9 9 9 9 9 9 9 9 ...\n",
      " $ Isolate Number        : num  NA NA NA NA NA NA NA NA NA NA ...\n",
      " $ Unique Sample Number  : num  148 148 148 148 148 148 148 148 148 148 ...\n",
      " $ Obs                   : num  1 10 2 3 4 5 6 7 8 9 ...\n",
      " $ Photosynthesis        : num  0.0567 0.076 0.0606 0.0486 0.0747 ...\n",
      " $ Conductance           : num  0.001441 0.001589 0.001521 0.001897 0.000933 ...\n",
      " $ Ci                    : num  332 318 331 354 268 ...\n"
     ]
    }
   ],
   "source": [
    "str(combined_data)"
   ]
  },
  {
   "cell_type": "markdown",
   "metadata": {},
   "source": [
    "<div class=\"Q\"><br><br>\n",
    "\n",
    "How many observations(rows) does `combined_data` have? \n",
    "\n",
    "ANSWER: 1722<br><br>\n",
    "\n",
    "<br><br><div class=\"qhelp\"></div></div>"
   ]
  },
  {
   "cell_type": "markdown",
   "metadata": {},
   "source": [
    "<div class=\"Q\"><br><br>\n",
    "\n",
    "How many columns does `combined_data` have? \n",
    "\n",
    "ANSWER: 14<br><br>\n",
    "\n",
    "<br><br><div class=\"qhelp\"></div></div>"
   ]
  },
  {
   "cell_type": "markdown",
   "metadata": {},
   "source": [
    "We can see that `left_join` combined `photosynthesis` and `conductivity` data by all the criteria columns we specified above.\n",
    "\n",
    "## Merge\n",
    "\n",
    "Another way to combined datasets is to use the function `merge()`"
   ]
  },
  {
   "cell_type": "markdown",
   "metadata": {},
   "source": [
    "<br><br><br>\n",
    "<div class=\"startTASK\"></div>\n",
    "\n",
    "Using the help section, look at the syntax for merge\n",
    "\n",
    "<div class=\"endTASK\"></div>\n",
    "<br><br><br>"
   ]
  },
  {
   "cell_type": "markdown",
   "metadata": {},
   "source": [
    "Let's recreate the `combined_data` dataset using merge instead."
   ]
  },
  {
   "cell_type": "code",
   "execution_count": 12,
   "metadata": {},
   "outputs": [
    {
     "data": {
      "text/html": [
       "<table>\n",
       "<thead><tr><th scope=col>Sample type</th><th scope=col>Days after inoculation</th><th scope=col>Date</th><th scope=col>Licor</th><th scope=col>Trial</th><th scope=col>Treatment</th><th scope=col>Species</th><th scope=col>Plant Number</th><th scope=col>Isolate Number</th><th scope=col>Unique Sample Number</th><th scope=col>Obs</th><th scope=col>Photosynthesis</th><th scope=col>Conductance</th><th scope=col>Ci</th></tr></thead>\n",
       "<tbody>\n",
       "\t<tr><td>1DroughtBoth Pathogens9</td><td>9                      </td><td>6/8/2018               </td><td>6800                   </td><td>1                      </td><td>Drought                </td><td>Both Pathogens         </td><td>9                      </td><td>NA                     </td><td>148                    </td><td> 1                     </td><td>0.05671618             </td><td>0.001441047            </td><td>332.3998               </td></tr>\n",
       "\t<tr><td>1DroughtBoth Pathogens9</td><td>9                      </td><td>6/8/2018               </td><td>6800                   </td><td>1                      </td><td>Drought                </td><td>Both Pathogens         </td><td>9                      </td><td>NA                     </td><td>148                    </td><td>10                     </td><td>0.07601768             </td><td>0.001588715            </td><td>318.1265               </td></tr>\n",
       "\t<tr><td>1DroughtBoth Pathogens9</td><td>9                      </td><td>6/8/2018               </td><td>6800                   </td><td>1                      </td><td>Drought                </td><td>Both Pathogens         </td><td>9                      </td><td>NA                     </td><td>148                    </td><td> 2                     </td><td>0.06055765             </td><td>0.001520727            </td><td>331.2409               </td></tr>\n",
       "\t<tr><td>1DroughtBoth Pathogens9</td><td>9                      </td><td>6/8/2018               </td><td>6800                   </td><td>1                      </td><td>Drought                </td><td>Both Pathogens         </td><td>9                      </td><td>NA                     </td><td>148                    </td><td> 3                     </td><td>0.04863937             </td><td>0.001897092            </td><td>354.0128               </td></tr>\n",
       "</tbody>\n",
       "</table>\n"
      ],
      "text/latex": [
       "\\begin{tabular}{r|llllllllllllll}\n",
       " Sample type & Days after inoculation & Date & Licor & Trial & Treatment & Species & Plant Number & Isolate Number & Unique Sample Number & Obs & Photosynthesis & Conductance & Ci\\\\\n",
       "\\hline\n",
       "\t 1DroughtBoth Pathogens9 & 9                       & 6/8/2018                & 6800                    & 1                       & Drought                 & Both Pathogens          & 9                       & NA                      & 148                     &  1                      & 0.05671618              & 0.001441047             & 332.3998               \\\\\n",
       "\t 1DroughtBoth Pathogens9 & 9                       & 6/8/2018                & 6800                    & 1                       & Drought                 & Both Pathogens          & 9                       & NA                      & 148                     & 10                      & 0.07601768              & 0.001588715             & 318.1265               \\\\\n",
       "\t 1DroughtBoth Pathogens9 & 9                       & 6/8/2018                & 6800                    & 1                       & Drought                 & Both Pathogens          & 9                       & NA                      & 148                     &  2                      & 0.06055765              & 0.001520727             & 331.2409               \\\\\n",
       "\t 1DroughtBoth Pathogens9 & 9                       & 6/8/2018                & 6800                    & 1                       & Drought                 & Both Pathogens          & 9                       & NA                      & 148                     &  3                      & 0.04863937              & 0.001897092             & 354.0128               \\\\\n",
       "\\end{tabular}\n"
      ],
      "text/markdown": [
       "\n",
       "| Sample type | Days after inoculation | Date | Licor | Trial | Treatment | Species | Plant Number | Isolate Number | Unique Sample Number | Obs | Photosynthesis | Conductance | Ci |\n",
       "|---|---|---|---|---|---|---|---|---|---|---|---|---|---|\n",
       "| 1DroughtBoth Pathogens9 | 9                       | 6/8/2018                | 6800                    | 1                       | Drought                 | Both Pathogens          | 9                       | NA                      | 148                     |  1                      | 0.05671618              | 0.001441047             | 332.3998                |\n",
       "| 1DroughtBoth Pathogens9 | 9                       | 6/8/2018                | 6800                    | 1                       | Drought                 | Both Pathogens          | 9                       | NA                      | 148                     | 10                      | 0.07601768              | 0.001588715             | 318.1265                |\n",
       "| 1DroughtBoth Pathogens9 | 9                       | 6/8/2018                | 6800                    | 1                       | Drought                 | Both Pathogens          | 9                       | NA                      | 148                     |  2                      | 0.06055765              | 0.001520727             | 331.2409                |\n",
       "| 1DroughtBoth Pathogens9 | 9                       | 6/8/2018                | 6800                    | 1                       | Drought                 | Both Pathogens          | 9                       | NA                      | 148                     |  3                      | 0.04863937              | 0.001897092             | 354.0128                |\n",
       "\n"
      ],
      "text/plain": [
       "  Sample type             Days after inoculation Date     Licor Trial Treatment\n",
       "1 1DroughtBoth Pathogens9 9                      6/8/2018 6800  1     Drought  \n",
       "2 1DroughtBoth Pathogens9 9                      6/8/2018 6800  1     Drought  \n",
       "3 1DroughtBoth Pathogens9 9                      6/8/2018 6800  1     Drought  \n",
       "4 1DroughtBoth Pathogens9 9                      6/8/2018 6800  1     Drought  \n",
       "  Species        Plant Number Isolate Number Unique Sample Number Obs\n",
       "1 Both Pathogens 9            NA             148                   1 \n",
       "2 Both Pathogens 9            NA             148                  10 \n",
       "3 Both Pathogens 9            NA             148                   2 \n",
       "4 Both Pathogens 9            NA             148                   3 \n",
       "  Photosynthesis Conductance Ci      \n",
       "1 0.05671618     0.001441047 332.3998\n",
       "2 0.07601768     0.001588715 318.1265\n",
       "3 0.06055765     0.001520727 331.2409\n",
       "4 0.04863937     0.001897092 354.0128"
      ]
     },
     "metadata": {},
     "output_type": "display_data"
    }
   ],
   "source": [
    "combined_data<-merge(photosynthesis,conductivity,all.x = TRUE, all.y = TRUE)\n",
    "\n",
    "combined_data  %>% \n",
    "head(4)"
   ]
  },
  {
   "cell_type": "code",
   "execution_count": 34,
   "metadata": {},
   "outputs": [
    {
     "data": {
      "text/html": [
       "<ol class=list-inline>\n",
       "\t<li>1722</li>\n",
       "\t<li>14</li>\n",
       "</ol>\n"
      ],
      "text/latex": [
       "\\begin{enumerate*}\n",
       "\\item 1722\n",
       "\\item 14\n",
       "\\end{enumerate*}\n"
      ],
      "text/markdown": [
       "1. 1722\n",
       "2. 14\n",
       "\n",
       "\n"
      ],
      "text/plain": [
       "[1] 1722   14"
      ]
     },
     "metadata": {},
     "output_type": "display_data"
    }
   ],
   "source": [
    "dim(combined_data)"
   ]
  },
  {
   "cell_type": "code",
   "execution_count": 35,
   "metadata": {},
   "outputs": [
    {
     "name": "stdout",
     "output_type": "stream",
     "text": [
      "'data.frame':\t1722 obs. of  14 variables:\n",
      " $ Sample type           : chr  \"1DroughtBoth Pathogens9\" \"1DroughtBoth Pathogens9\" \"1DroughtBoth Pathogens9\" \"1DroughtBoth Pathogens9\" ...\n",
      " $ Days after inoculation: num  9 9 9 9 9 9 9 9 9 9 ...\n",
      " $ Date                  : chr  \"6/8/2018\" \"6/8/2018\" \"6/8/2018\" \"6/8/2018\" ...\n",
      " $ Licor                 : num  6800 6800 6800 6800 6800 6800 6800 6800 6800 6800 ...\n",
      " $ Trial                 : num  1 1 1 1 1 1 1 1 1 1 ...\n",
      " $ Treatment             : chr  \"Drought\" \"Drought\" \"Drought\" \"Drought\" ...\n",
      " $ Species               : chr  \"Both Pathogens\" \"Both Pathogens\" \"Both Pathogens\" \"Both Pathogens\" ...\n",
      " $ Plant Number          : num  9 9 9 9 9 9 9 9 9 9 ...\n",
      " $ Isolate Number        : num  NA NA NA NA NA NA NA NA NA NA ...\n",
      " $ Unique Sample Number  : num  148 148 148 148 148 148 148 148 148 148 ...\n",
      " $ Obs                   : num  1 10 2 3 4 5 6 7 8 9 ...\n",
      " $ Photosynthesis        : num  0.0567 0.076 0.0606 0.0486 0.0747 ...\n",
      " $ Conductance           : num  0.001441 0.001589 0.001521 0.001897 0.000933 ...\n",
      " $ Ci                    : num  332 318 331 354 268 ...\n"
     ]
    }
   ],
   "source": [
    "str(combined_data)"
   ]
  },
  {
   "cell_type": "markdown",
   "metadata": {},
   "source": [
    "<div class=\"Q\"><br><br>\n",
    "\n",
    "What does the arguement \"by\" in the merge function do? \n",
    "\n",
    "ANSWER: specifies the columns used as classifiers for merging<br><br>\n",
    "\n",
    "<br><br><div class=\"qhelp\"></div></div>"
   ]
  },
  {
   "cell_type": "markdown",
   "metadata": {},
   "source": [
    "<br><br><br>\n",
    "<div class=\"startTASK\"></div>\n",
    "\n",
    "Let us download the task datasets task_data_fox_size.csv and task_data_fox_weight.csv\n",
    "\n",
    "Using `Joins` or `merge`, create a new dataset called `fox_data` combining data from both <span class=\"file\">task_data_fox_size.csv</span> and <span class=\"file\">task_data_fox_weight.csv</span> \n",
    "\n",
    "<div class=\"endTASK\"></div>\n",
    "\n",
    "<br><br><br>"
   ]
  },
  {
   "cell_type": "markdown",
   "metadata": {},
   "source": [
    "<div class=\"Q\"><br><br>\n",
    "\n",
    "How many rows does fox_data have? \n",
    "\n",
    "ANSWER: 30<br><br>\n",
    "\n",
    "<br><br><div class=\"qhelp\"></div></div>"
   ]
  },
  {
   "cell_type": "markdown",
   "metadata": {},
   "source": [
    "<div class=\"Q\"><br><br>\n",
    "\n",
    "How many columns does fox_data have? \n",
    "\n",
    "ANSWER: 6<br><br>\n",
    "\n",
    "<br><br><div class=\"qhelp\"></div></div>"
   ]
  },
  {
   "cell_type": "markdown",
   "metadata": {},
   "source": [
    "Next, we're going to learn some of the most common `dplyr` functions:\n",
    "\n",
    "* `select()`: subset columns\n",
    "* `filter()`: subset rows on conditions\n",
    "* `mutate()`: create new columns by using information from other columns\n",
    "* `group_by()` and `summarize()`: create summary statistics on grouped data\n",
    "* `arrange()`: sort results\n",
    "* `count()`: count discrete values\n",
    "\n",
    "_________________________________________________________________________________________________________________________"
   ]
  },
  {
   "cell_type": "markdown",
   "metadata": {},
   "source": [
    "# Selecting columns and filtering rows\n",
    "\n",
    "If we only want to keep certain columns of data, we can use `select()`. The first argument to this function is the dataset, and the subsequent arguments are the columns to keep.\n",
    "\n",
    "select(data, column names)\n",
    "\n",
    "In the following code, we have selected the columns \"Sample type\", \"Photosynthesis\", and \"Conductance\". "
   ]
  },
  {
   "cell_type": "code",
   "execution_count": 40,
   "metadata": {},
   "outputs": [
    {
     "data": {
      "text/html": [
       "<table>\n",
       "<thead><tr><th scope=col>Sample type</th><th scope=col>Photosynthesis</th><th scope=col>Conductance</th></tr></thead>\n",
       "<tbody>\n",
       "\t<tr><td>1DroughtBoth Pathogens9</td><td>0.05671618             </td><td>0.001441047            </td></tr>\n",
       "\t<tr><td>1DroughtBoth Pathogens9</td><td>0.07601768             </td><td>0.001588715            </td></tr>\n",
       "\t<tr><td>1DroughtBoth Pathogens9</td><td>0.06055765             </td><td>0.001520727            </td></tr>\n",
       "\t<tr><td>1DroughtBoth Pathogens9</td><td>0.04863937             </td><td>0.001897092            </td></tr>\n",
       "</tbody>\n",
       "</table>\n"
      ],
      "text/latex": [
       "\\begin{tabular}{r|lll}\n",
       " Sample type & Photosynthesis & Conductance\\\\\n",
       "\\hline\n",
       "\t 1DroughtBoth Pathogens9 & 0.05671618              & 0.001441047            \\\\\n",
       "\t 1DroughtBoth Pathogens9 & 0.07601768              & 0.001588715            \\\\\n",
       "\t 1DroughtBoth Pathogens9 & 0.06055765              & 0.001520727            \\\\\n",
       "\t 1DroughtBoth Pathogens9 & 0.04863937              & 0.001897092            \\\\\n",
       "\\end{tabular}\n"
      ],
      "text/markdown": [
       "\n",
       "| Sample type | Photosynthesis | Conductance |\n",
       "|---|---|---|\n",
       "| 1DroughtBoth Pathogens9 | 0.05671618              | 0.001441047             |\n",
       "| 1DroughtBoth Pathogens9 | 0.07601768              | 0.001588715             |\n",
       "| 1DroughtBoth Pathogens9 | 0.06055765              | 0.001520727             |\n",
       "| 1DroughtBoth Pathogens9 | 0.04863937              | 0.001897092             |\n",
       "\n"
      ],
      "text/plain": [
       "  Sample type             Photosynthesis Conductance\n",
       "1 1DroughtBoth Pathogens9 0.05671618     0.001441047\n",
       "2 1DroughtBoth Pathogens9 0.07601768     0.001588715\n",
       "3 1DroughtBoth Pathogens9 0.06055765     0.001520727\n",
       "4 1DroughtBoth Pathogens9 0.04863937     0.001897092"
      ]
     },
     "metadata": {},
     "output_type": "display_data"
    }
   ],
   "source": [
    "select(combined_data, `Sample type`,Photosynthesis, Conductance)  %>% \n",
    "head(4)"
   ]
  },
  {
   "cell_type": "markdown",
   "metadata": {},
   "source": [
    "We can also use `:` to select multiple columns from left to right."
   ]
  },
  {
   "cell_type": "code",
   "execution_count": 41,
   "metadata": {},
   "outputs": [
    {
     "data": {
      "text/html": [
       "<table>\n",
       "<thead><tr><th scope=col>Sample type</th><th scope=col>Days after inoculation</th><th scope=col>Date</th><th scope=col>Licor</th><th scope=col>Trial</th><th scope=col>Treatment</th><th scope=col>Species</th><th scope=col>Photosynthesis</th><th scope=col>Conductance</th></tr></thead>\n",
       "<tbody>\n",
       "\t<tr><td>1DroughtBoth Pathogens9</td><td>9                      </td><td>6/8/2018               </td><td>6800                   </td><td>1                      </td><td>Drought                </td><td>Both Pathogens         </td><td>0.05671618             </td><td>0.001441047            </td></tr>\n",
       "\t<tr><td>1DroughtBoth Pathogens9</td><td>9                      </td><td>6/8/2018               </td><td>6800                   </td><td>1                      </td><td>Drought                </td><td>Both Pathogens         </td><td>0.07601768             </td><td>0.001588715            </td></tr>\n",
       "\t<tr><td>1DroughtBoth Pathogens9</td><td>9                      </td><td>6/8/2018               </td><td>6800                   </td><td>1                      </td><td>Drought                </td><td>Both Pathogens         </td><td>0.06055765             </td><td>0.001520727            </td></tr>\n",
       "\t<tr><td>1DroughtBoth Pathogens9</td><td>9                      </td><td>6/8/2018               </td><td>6800                   </td><td>1                      </td><td>Drought                </td><td>Both Pathogens         </td><td>0.04863937             </td><td>0.001897092            </td></tr>\n",
       "</tbody>\n",
       "</table>\n"
      ],
      "text/latex": [
       "\\begin{tabular}{r|lllllllll}\n",
       " Sample type & Days after inoculation & Date & Licor & Trial & Treatment & Species & Photosynthesis & Conductance\\\\\n",
       "\\hline\n",
       "\t 1DroughtBoth Pathogens9 & 9                       & 6/8/2018                & 6800                    & 1                       & Drought                 & Both Pathogens          & 0.05671618              & 0.001441047            \\\\\n",
       "\t 1DroughtBoth Pathogens9 & 9                       & 6/8/2018                & 6800                    & 1                       & Drought                 & Both Pathogens          & 0.07601768              & 0.001588715            \\\\\n",
       "\t 1DroughtBoth Pathogens9 & 9                       & 6/8/2018                & 6800                    & 1                       & Drought                 & Both Pathogens          & 0.06055765              & 0.001520727            \\\\\n",
       "\t 1DroughtBoth Pathogens9 & 9                       & 6/8/2018                & 6800                    & 1                       & Drought                 & Both Pathogens          & 0.04863937              & 0.001897092            \\\\\n",
       "\\end{tabular}\n"
      ],
      "text/markdown": [
       "\n",
       "| Sample type | Days after inoculation | Date | Licor | Trial | Treatment | Species | Photosynthesis | Conductance |\n",
       "|---|---|---|---|---|---|---|---|---|\n",
       "| 1DroughtBoth Pathogens9 | 9                       | 6/8/2018                | 6800                    | 1                       | Drought                 | Both Pathogens          | 0.05671618              | 0.001441047             |\n",
       "| 1DroughtBoth Pathogens9 | 9                       | 6/8/2018                | 6800                    | 1                       | Drought                 | Both Pathogens          | 0.07601768              | 0.001588715             |\n",
       "| 1DroughtBoth Pathogens9 | 9                       | 6/8/2018                | 6800                    | 1                       | Drought                 | Both Pathogens          | 0.06055765              | 0.001520727             |\n",
       "| 1DroughtBoth Pathogens9 | 9                       | 6/8/2018                | 6800                    | 1                       | Drought                 | Both Pathogens          | 0.04863937              | 0.001897092             |\n",
       "\n"
      ],
      "text/plain": [
       "  Sample type             Days after inoculation Date     Licor Trial Treatment\n",
       "1 1DroughtBoth Pathogens9 9                      6/8/2018 6800  1     Drought  \n",
       "2 1DroughtBoth Pathogens9 9                      6/8/2018 6800  1     Drought  \n",
       "3 1DroughtBoth Pathogens9 9                      6/8/2018 6800  1     Drought  \n",
       "4 1DroughtBoth Pathogens9 9                      6/8/2018 6800  1     Drought  \n",
       "  Species        Photosynthesis Conductance\n",
       "1 Both Pathogens 0.05671618     0.001441047\n",
       "2 Both Pathogens 0.07601768     0.001588715\n",
       "3 Both Pathogens 0.06055765     0.001520727\n",
       "4 Both Pathogens 0.04863937     0.001897092"
      ]
     },
     "metadata": {},
     "output_type": "display_data"
    }
   ],
   "source": [
    "select(combined_data, `Sample type`:Species,Photosynthesis, Conductance)  %>% \n",
    "head(4)"
   ]
  },
  {
   "cell_type": "markdown",
   "metadata": {},
   "source": [
    "To select all columns except certain ones, put a \"-\" in front of the variable to exclude it. In the following code, we want to exclude the columns \"Licor\" and \"Obs\""
   ]
  },
  {
   "cell_type": "code",
   "execution_count": 43,
   "metadata": {},
   "outputs": [
    {
     "data": {
      "text/html": [
       "<table>\n",
       "<thead><tr><th scope=col>Sample type</th><th scope=col>Days after inoculation</th><th scope=col>Date</th><th scope=col>Trial</th><th scope=col>Treatment</th><th scope=col>Species</th><th scope=col>Plant Number</th><th scope=col>Isolate Number</th><th scope=col>Unique Sample Number</th><th scope=col>Photosynthesis</th><th scope=col>Conductance</th><th scope=col>Ci</th></tr></thead>\n",
       "<tbody>\n",
       "\t<tr><td>1DroughtBoth Pathogens9</td><td>9                      </td><td>6/8/2018               </td><td>1                      </td><td>Drought                </td><td>Both Pathogens         </td><td>9                      </td><td>NA                     </td><td>148                    </td><td>0.05671618             </td><td>0.001441047            </td><td>332.3998               </td></tr>\n",
       "\t<tr><td>1DroughtBoth Pathogens9</td><td>9                      </td><td>6/8/2018               </td><td>1                      </td><td>Drought                </td><td>Both Pathogens         </td><td>9                      </td><td>NA                     </td><td>148                    </td><td>0.07601768             </td><td>0.001588715            </td><td>318.1265               </td></tr>\n",
       "\t<tr><td>1DroughtBoth Pathogens9</td><td>9                      </td><td>6/8/2018               </td><td>1                      </td><td>Drought                </td><td>Both Pathogens         </td><td>9                      </td><td>NA                     </td><td>148                    </td><td>0.06055765             </td><td>0.001520727            </td><td>331.2409               </td></tr>\n",
       "\t<tr><td>1DroughtBoth Pathogens9</td><td>9                      </td><td>6/8/2018               </td><td>1                      </td><td>Drought                </td><td>Both Pathogens         </td><td>9                      </td><td>NA                     </td><td>148                    </td><td>0.04863937             </td><td>0.001897092            </td><td>354.0128               </td></tr>\n",
       "</tbody>\n",
       "</table>\n"
      ],
      "text/latex": [
       "\\begin{tabular}{r|llllllllllll}\n",
       " Sample type & Days after inoculation & Date & Trial & Treatment & Species & Plant Number & Isolate Number & Unique Sample Number & Photosynthesis & Conductance & Ci\\\\\n",
       "\\hline\n",
       "\t 1DroughtBoth Pathogens9 & 9                       & 6/8/2018                & 1                       & Drought                 & Both Pathogens          & 9                       & NA                      & 148                     & 0.05671618              & 0.001441047             & 332.3998               \\\\\n",
       "\t 1DroughtBoth Pathogens9 & 9                       & 6/8/2018                & 1                       & Drought                 & Both Pathogens          & 9                       & NA                      & 148                     & 0.07601768              & 0.001588715             & 318.1265               \\\\\n",
       "\t 1DroughtBoth Pathogens9 & 9                       & 6/8/2018                & 1                       & Drought                 & Both Pathogens          & 9                       & NA                      & 148                     & 0.06055765              & 0.001520727             & 331.2409               \\\\\n",
       "\t 1DroughtBoth Pathogens9 & 9                       & 6/8/2018                & 1                       & Drought                 & Both Pathogens          & 9                       & NA                      & 148                     & 0.04863937              & 0.001897092             & 354.0128               \\\\\n",
       "\\end{tabular}\n"
      ],
      "text/markdown": [
       "\n",
       "| Sample type | Days after inoculation | Date | Trial | Treatment | Species | Plant Number | Isolate Number | Unique Sample Number | Photosynthesis | Conductance | Ci |\n",
       "|---|---|---|---|---|---|---|---|---|---|---|---|\n",
       "| 1DroughtBoth Pathogens9 | 9                       | 6/8/2018                | 1                       | Drought                 | Both Pathogens          | 9                       | NA                      | 148                     | 0.05671618              | 0.001441047             | 332.3998                |\n",
       "| 1DroughtBoth Pathogens9 | 9                       | 6/8/2018                | 1                       | Drought                 | Both Pathogens          | 9                       | NA                      | 148                     | 0.07601768              | 0.001588715             | 318.1265                |\n",
       "| 1DroughtBoth Pathogens9 | 9                       | 6/8/2018                | 1                       | Drought                 | Both Pathogens          | 9                       | NA                      | 148                     | 0.06055765              | 0.001520727             | 331.2409                |\n",
       "| 1DroughtBoth Pathogens9 | 9                       | 6/8/2018                | 1                       | Drought                 | Both Pathogens          | 9                       | NA                      | 148                     | 0.04863937              | 0.001897092             | 354.0128                |\n",
       "\n"
      ],
      "text/plain": [
       "  Sample type             Days after inoculation Date     Trial Treatment\n",
       "1 1DroughtBoth Pathogens9 9                      6/8/2018 1     Drought  \n",
       "2 1DroughtBoth Pathogens9 9                      6/8/2018 1     Drought  \n",
       "3 1DroughtBoth Pathogens9 9                      6/8/2018 1     Drought  \n",
       "4 1DroughtBoth Pathogens9 9                      6/8/2018 1     Drought  \n",
       "  Species        Plant Number Isolate Number Unique Sample Number\n",
       "1 Both Pathogens 9            NA             148                 \n",
       "2 Both Pathogens 9            NA             148                 \n",
       "3 Both Pathogens 9            NA             148                 \n",
       "4 Both Pathogens 9            NA             148                 \n",
       "  Photosynthesis Conductance Ci      \n",
       "1 0.05671618     0.001441047 332.3998\n",
       "2 0.07601768     0.001588715 318.1265\n",
       "3 0.06055765     0.001520727 331.2409\n",
       "4 0.04863937     0.001897092 354.0128"
      ]
     },
     "metadata": {},
     "output_type": "display_data"
    }
   ],
   "source": [
    "select(combined_data, -Licor, -Obs)  %>% \n",
    "head(4)"
   ]
  },
  {
   "cell_type": "markdown",
   "metadata": {},
   "source": [
    "<div class=\"Q\"><br><br>\n",
    "\n",
    "Using the \"combined_data\" dataset and the \"-\", what would the code look like to select all columns except Species?\n",
    "    \n",
    "ANSWER to be removed in final iteration: select(combined_data, -Species) <br><br>\n",
    "    \n",
    "    \n",
    "    other mutiple choice options: \n",
    "    \n",
    "    select(combined_data, `Sample type`:Treatment, `Plant Number`:Conductance)\n",
    "    \n",
    "    select(combined_data, Species)\n",
    "    \n",
    "    select(combined_data, -Species) \n",
    "\n",
    "<br><br><div class=\"qhelp\"></div></div>"
   ]
  },
  {
   "cell_type": "markdown",
   "metadata": {},
   "source": [
    "\n",
    "What if we only want to select the data from one Species? You can also choose rows based on a specific criterion using the `filter()` function. The syntax for `filter()` is found below\n",
    "\n",
    "filter(dataset, selection criteria)\n",
    "\n",
    "In the following code, we want to select all data from Indigenous Pathogen Species only."
   ]
  },
  {
   "cell_type": "code",
   "execution_count": 172,
   "metadata": {},
   "outputs": [
    {
     "data": {
      "text/html": [
       "<table>\n",
       "<thead><tr><th></th><th scope=col>Sample type</th><th scope=col>Days after inoculation</th><th scope=col>Date</th><th scope=col>Licor</th><th scope=col>Trial</th><th scope=col>Treatment</th><th scope=col>Species</th><th scope=col>Plant Number</th><th scope=col>Isolate Number</th><th scope=col>Unique Sample Number</th><th scope=col>Obs</th><th scope=col>Photosynthesis</th><th scope=col>Conductance</th><th scope=col>Ci</th></tr></thead>\n",
       "<tbody>\n",
       "\t<tr><th scope=row>566</th><td>2WetIndigenous Pathogen 9</td><td>35                       </td><td>7/4/2018                 </td><td>6800                     </td><td>2                        </td><td>Wet                      </td><td>Indigenous Pathogen      </td><td>9                        </td><td>5                        </td><td>94                       </td><td>6                        </td><td>8.830209                 </td><td>0.1538539                </td><td>282.1423                 </td></tr>\n",
       "\t<tr><th scope=row>567</th><td>2WetIndigenous Pathogen 9</td><td>35                       </td><td>7/4/2018                 </td><td>6800                     </td><td>2                        </td><td>Wet                      </td><td>Indigenous Pathogen      </td><td>9                        </td><td>5                        </td><td>94                       </td><td>7                        </td><td>8.879089                 </td><td>0.1460335                </td><td>275.9352                 </td></tr>\n",
       "\t<tr><th scope=row>568</th><td>2WetIndigenous Pathogen 9</td><td>35                       </td><td>7/4/2018                 </td><td>6800                     </td><td>2                        </td><td>Wet                      </td><td>Indigenous Pathogen      </td><td>9                        </td><td>5                        </td><td>94                       </td><td>8                        </td><td>8.921487                 </td><td>0.1623246                </td><td>285.2202                 </td></tr>\n",
       "\t<tr><th scope=row>569</th><td>2WetIndigenous Pathogen 9</td><td>35                       </td><td>7/4/2018                 </td><td>6800                     </td><td>2                        </td><td>Wet                      </td><td>Indigenous Pathogen      </td><td>9                        </td><td>5                        </td><td>94                       </td><td>9                        </td><td>8.860731                 </td><td>0.1550579                </td><td>282.4953                 </td></tr>\n",
       "</tbody>\n",
       "</table>\n"
      ],
      "text/latex": [
       "\\begin{tabular}{r|llllllllllllll}\n",
       "  & Sample type & Days after inoculation & Date & Licor & Trial & Treatment & Species & Plant Number & Isolate Number & Unique Sample Number & Obs & Photosynthesis & Conductance & Ci\\\\\n",
       "\\hline\n",
       "\t566 & 2WetIndigenous Pathogen 9 & 35                        & 7/4/2018                  & 6800                      & 2                         & Wet                       & Indigenous Pathogen       & 9                         & 5                         & 94                        & 6                         & 8.830209                  & 0.1538539                 & 282.1423                 \\\\\n",
       "\t567 & 2WetIndigenous Pathogen 9 & 35                        & 7/4/2018                  & 6800                      & 2                         & Wet                       & Indigenous Pathogen       & 9                         & 5                         & 94                        & 7                         & 8.879089                  & 0.1460335                 & 275.9352                 \\\\\n",
       "\t568 & 2WetIndigenous Pathogen 9 & 35                        & 7/4/2018                  & 6800                      & 2                         & Wet                       & Indigenous Pathogen       & 9                         & 5                         & 94                        & 8                         & 8.921487                  & 0.1623246                 & 285.2202                 \\\\\n",
       "\t569 & 2WetIndigenous Pathogen 9 & 35                        & 7/4/2018                  & 6800                      & 2                         & Wet                       & Indigenous Pathogen       & 9                         & 5                         & 94                        & 9                         & 8.860731                  & 0.1550579                 & 282.4953                 \\\\\n",
       "\\end{tabular}\n"
      ],
      "text/markdown": [
       "\n",
       "| <!--/--> | Sample type | Days after inoculation | Date | Licor | Trial | Treatment | Species | Plant Number | Isolate Number | Unique Sample Number | Obs | Photosynthesis | Conductance | Ci |\n",
       "|---|---|---|---|---|---|---|---|---|---|---|---|---|---|---|\n",
       "| 566 | 2WetIndigenous Pathogen 9 | 35                        | 7/4/2018                  | 6800                      | 2                         | Wet                       | Indigenous Pathogen       | 9                         | 5                         | 94                        | 6                         | 8.830209                  | 0.1538539                 | 282.1423                  |\n",
       "| 567 | 2WetIndigenous Pathogen 9 | 35                        | 7/4/2018                  | 6800                      | 2                         | Wet                       | Indigenous Pathogen       | 9                         | 5                         | 94                        | 7                         | 8.879089                  | 0.1460335                 | 275.9352                  |\n",
       "| 568 | 2WetIndigenous Pathogen 9 | 35                        | 7/4/2018                  | 6800                      | 2                         | Wet                       | Indigenous Pathogen       | 9                         | 5                         | 94                        | 8                         | 8.921487                  | 0.1623246                 | 285.2202                  |\n",
       "| 569 | 2WetIndigenous Pathogen 9 | 35                        | 7/4/2018                  | 6800                      | 2                         | Wet                       | Indigenous Pathogen       | 9                         | 5                         | 94                        | 9                         | 8.860731                  | 0.1550579                 | 282.4953                  |\n",
       "\n"
      ],
      "text/plain": [
       "    Sample type               Days after inoculation Date     Licor Trial\n",
       "566 2WetIndigenous Pathogen 9 35                     7/4/2018 6800  2    \n",
       "567 2WetIndigenous Pathogen 9 35                     7/4/2018 6800  2    \n",
       "568 2WetIndigenous Pathogen 9 35                     7/4/2018 6800  2    \n",
       "569 2WetIndigenous Pathogen 9 35                     7/4/2018 6800  2    \n",
       "    Treatment Species             Plant Number Isolate Number\n",
       "566 Wet       Indigenous Pathogen 9            5             \n",
       "567 Wet       Indigenous Pathogen 9            5             \n",
       "568 Wet       Indigenous Pathogen 9            5             \n",
       "569 Wet       Indigenous Pathogen 9            5             \n",
       "    Unique Sample Number Obs Photosynthesis Conductance Ci      \n",
       "566 94                   6   8.830209       0.1538539   282.1423\n",
       "567 94                   7   8.879089       0.1460335   275.9352\n",
       "568 94                   8   8.921487       0.1623246   285.2202\n",
       "569 94                   9   8.860731       0.1550579   282.4953"
      ]
     },
     "metadata": {},
     "output_type": "display_data"
    }
   ],
   "source": [
    "filter(combined_data, Species == \"Indigenous Pathogen\")  %>% \n",
    "tail(4)"
   ]
  },
  {
   "cell_type": "markdown",
   "metadata": {},
   "source": [
    "We can also filter by multiple criteria. Say we want Obs 1 data from Indigenous Pathogen Species only. We can use the `filter()` function and expand out selection criteria."
   ]
  },
  {
   "cell_type": "code",
   "execution_count": 170,
   "metadata": {},
   "outputs": [
    {
     "data": {
      "text/html": [
       "<table>\n",
       "<thead><tr><th scope=col>Sample type</th><th scope=col>Days after inoculation</th><th scope=col>Date</th><th scope=col>Licor</th><th scope=col>Trial</th><th scope=col>Treatment</th><th scope=col>Species</th><th scope=col>Plant Number</th><th scope=col>Isolate Number</th><th scope=col>Unique Sample Number</th><th scope=col>Obs</th><th scope=col>Photosynthesis</th><th scope=col>Conductance</th><th scope=col>Ci</th></tr></thead>\n",
       "<tbody>\n",
       "\t<tr><td>1DroughtIndigenous Pathogen 1</td><td>17                           </td><td>6/16/2018                    </td><td>6800                         </td><td>1                            </td><td>Drought                      </td><td>Indigenous Pathogen          </td><td>1                            </td><td>1                            </td><td>116                          </td><td>1                            </td><td>0.36482248                   </td><td>0.003559033                  </td><td>  231.1741                   </td></tr>\n",
       "\t<tr><td>1DroughtIndigenous Pathogen 1</td><td>22                           </td><td>6/21/2018                    </td><td>6400                         </td><td>1                            </td><td>Drought                      </td><td>Indigenous Pathogen          </td><td>1                            </td><td>1                            </td><td> 49                          </td><td>1                            </td><td>0.02565309                   </td><td>0.004572983                  </td><td>  384.1540                   </td></tr>\n",
       "\t<tr><td>1DroughtIndigenous Pathogen 1</td><td> 9                           </td><td>6/8/2018                     </td><td>6400                         </td><td>1                            </td><td>Drought                      </td><td>Indigenous Pathogen          </td><td>1                            </td><td>1                            </td><td>  3                          </td><td>1                            </td><td>1.14592822                   </td><td>0.000407974                  </td><td>-4050.4585                   </td></tr>\n",
       "\t<tr><td>1DroughtIndigenous Pathogen 2</td><td>37                           </td><td>7/6/2018                     </td><td>6800                         </td><td>1                            </td><td>Drought                      </td><td>Indigenous Pathogen          </td><td>2                            </td><td>1                            </td><td> 80                          </td><td>1                            </td><td>0.03939854                   </td><td>0.002624114                  </td><td>  370.6015                   </td></tr>\n",
       "</tbody>\n",
       "</table>\n"
      ],
      "text/latex": [
       "\\begin{tabular}{r|llllllllllllll}\n",
       " Sample type & Days after inoculation & Date & Licor & Trial & Treatment & Species & Plant Number & Isolate Number & Unique Sample Number & Obs & Photosynthesis & Conductance & Ci\\\\\n",
       "\\hline\n",
       "\t 1DroughtIndigenous Pathogen 1 & 17                            & 6/16/2018                     & 6800                          & 1                             & Drought                       & Indigenous Pathogen           & 1                             & 1                             & 116                           & 1                             & 0.36482248                    & 0.003559033                   &   231.1741                   \\\\\n",
       "\t 1DroughtIndigenous Pathogen 1 & 22                            & 6/21/2018                     & 6400                          & 1                             & Drought                       & Indigenous Pathogen           & 1                             & 1                             &  49                           & 1                             & 0.02565309                    & 0.004572983                   &   384.1540                   \\\\\n",
       "\t 1DroughtIndigenous Pathogen 1 &  9                            & 6/8/2018                      & 6400                          & 1                             & Drought                       & Indigenous Pathogen           & 1                             & 1                             &   3                           & 1                             & 1.14592822                    & 0.000407974                   & -4050.4585                   \\\\\n",
       "\t 1DroughtIndigenous Pathogen 2 & 37                            & 7/6/2018                      & 6800                          & 1                             & Drought                       & Indigenous Pathogen           & 2                             & 1                             &  80                           & 1                             & 0.03939854                    & 0.002624114                   &   370.6015                   \\\\\n",
       "\\end{tabular}\n"
      ],
      "text/markdown": [
       "\n",
       "| Sample type | Days after inoculation | Date | Licor | Trial | Treatment | Species | Plant Number | Isolate Number | Unique Sample Number | Obs | Photosynthesis | Conductance | Ci |\n",
       "|---|---|---|---|---|---|---|---|---|---|---|---|---|---|\n",
       "| 1DroughtIndigenous Pathogen 1 | 17                            | 6/16/2018                     | 6800                          | 1                             | Drought                       | Indigenous Pathogen           | 1                             | 1                             | 116                           | 1                             | 0.36482248                    | 0.003559033                   |   231.1741                    |\n",
       "| 1DroughtIndigenous Pathogen 1 | 22                            | 6/21/2018                     | 6400                          | 1                             | Drought                       | Indigenous Pathogen           | 1                             | 1                             |  49                           | 1                             | 0.02565309                    | 0.004572983                   |   384.1540                    |\n",
       "| 1DroughtIndigenous Pathogen 1 |  9                            | 6/8/2018                      | 6400                          | 1                             | Drought                       | Indigenous Pathogen           | 1                             | 1                             |   3                           | 1                             | 1.14592822                    | 0.000407974                   | -4050.4585                    |\n",
       "| 1DroughtIndigenous Pathogen 2 | 37                            | 7/6/2018                      | 6800                          | 1                             | Drought                       | Indigenous Pathogen           | 2                             | 1                             |  80                           | 1                             | 0.03939854                    | 0.002624114                   |   370.6015                    |\n",
       "\n"
      ],
      "text/plain": [
       "  Sample type                   Days after inoculation Date      Licor Trial\n",
       "1 1DroughtIndigenous Pathogen 1 17                     6/16/2018 6800  1    \n",
       "2 1DroughtIndigenous Pathogen 1 22                     6/21/2018 6400  1    \n",
       "3 1DroughtIndigenous Pathogen 1  9                     6/8/2018  6400  1    \n",
       "4 1DroughtIndigenous Pathogen 2 37                     7/6/2018  6800  1    \n",
       "  Treatment Species             Plant Number Isolate Number\n",
       "1 Drought   Indigenous Pathogen 1            1             \n",
       "2 Drought   Indigenous Pathogen 1            1             \n",
       "3 Drought   Indigenous Pathogen 1            1             \n",
       "4 Drought   Indigenous Pathogen 2            1             \n",
       "  Unique Sample Number Obs Photosynthesis Conductance Ci        \n",
       "1 116                  1   0.36482248     0.003559033   231.1741\n",
       "2  49                  1   0.02565309     0.004572983   384.1540\n",
       "3   3                  1   1.14592822     0.000407974 -4050.4585\n",
       "4  80                  1   0.03939854     0.002624114   370.6015"
      ]
     },
     "metadata": {},
     "output_type": "display_data"
    }
   ],
   "source": [
    "filter(combined_data, Species == \"Indigenous Pathogen\", Obs ==1) %>% \n",
    "head(4)"
   ]
  },
  {
   "cell_type": "markdown",
   "metadata": {},
   "source": [
    "With intermediate steps, you create a temporary data frame and use that as input to the next function. Let's first take a look at our Species data to see if we can clean up our dataset. We not that Species is a character column. Using the function `as.factor()` we can convert Species entries into factors then use the `levels()` function to examine the factor levels."
   ]
  },
  {
   "cell_type": "code",
   "execution_count": 13,
   "metadata": {},
   "outputs": [
    {
     "data": {
      "text/html": [
       "<ol class=list-inline>\n",
       "\t<li>'Both Pathogens'</li>\n",
       "\t<li>'Control'</li>\n",
       "\t<li>'Exotic Pathogen'</li>\n",
       "\t<li>'Indigenous Pathogen'</li>\n",
       "</ol>\n"
      ],
      "text/latex": [
       "\\begin{enumerate*}\n",
       "\\item 'Both Pathogens'\n",
       "\\item 'Control'\n",
       "\\item 'Exotic Pathogen'\n",
       "\\item 'Indigenous Pathogen'\n",
       "\\end{enumerate*}\n"
      ],
      "text/markdown": [
       "1. 'Both Pathogens'\n",
       "2. 'Control'\n",
       "3. 'Exotic Pathogen'\n",
       "4. 'Indigenous Pathogen'\n",
       "\n",
       "\n"
      ],
      "text/plain": [
       "[1] \"Both Pathogens\"      \"Control\"             \"Exotic Pathogen\"    \n",
       "[4] \"Indigenous Pathogen\""
      ]
     },
     "metadata": {},
     "output_type": "display_data"
    }
   ],
   "source": [
    "#convert to factor\n",
    "\n",
    "combined_data$Species<-as.factor(combined_data$Species)\n",
    "\n",
    "# provides levels of a factor using the levels command.  \n",
    "\n",
    "levels(combined_data$Species)  "
   ]
  },
  {
   "cell_type": "markdown",
   "metadata": {},
   "source": [
    "For simplicity, let's create a new object `data_filtered` and select only rows where Photosyntheis < 200 and Species is not equal to \"Both Pathogens\"."
   ]
  },
  {
   "cell_type": "code",
   "execution_count": 17,
   "metadata": {},
   "outputs": [
    {
     "data": {
      "text/html": [
       "<dl class=dl-horizontal>\n",
       "\t<dt>Both Pathogens</dt>\n",
       "\t\t<dd>0</dd>\n",
       "\t<dt>Control</dt>\n",
       "\t\t<dd>563</dd>\n",
       "\t<dt>Exotic Pathogen</dt>\n",
       "\t\t<dd>508</dd>\n",
       "\t<dt>Indigenous Pathogen</dt>\n",
       "\t\t<dd>569</dd>\n",
       "</dl>\n"
      ],
      "text/latex": [
       "\\begin{description*}\n",
       "\\item[Both Pathogens] 0\n",
       "\\item[Control] 563\n",
       "\\item[Exotic Pathogen] 508\n",
       "\\item[Indigenous Pathogen] 569\n",
       "\\end{description*}\n"
      ],
      "text/markdown": [
       "Both Pathogens\n",
       ":   0Control\n",
       ":   563Exotic Pathogen\n",
       ":   508Indigenous Pathogen\n",
       ":   569\n",
       "\n"
      ],
      "text/plain": [
       "     Both Pathogens             Control     Exotic Pathogen Indigenous Pathogen \n",
       "                  0                 563                 508                 569 "
      ]
     },
     "metadata": {},
     "output_type": "display_data"
    },
    {
     "data": {
      "text/html": [
       "<table>\n",
       "<thead><tr><th scope=col>Sample type</th><th scope=col>Days after inoculation</th><th scope=col>Date</th><th scope=col>Licor</th><th scope=col>Trial</th><th scope=col>Treatment</th><th scope=col>Species</th><th scope=col>Plant Number</th><th scope=col>Isolate Number</th><th scope=col>Unique Sample Number</th><th scope=col>Obs</th><th scope=col>Photosynthesis</th><th scope=col>Conductance</th><th scope=col>Ci</th></tr></thead>\n",
       "<tbody>\n",
       "\t<tr><td>1DroughtControl1 </td><td>22               </td><td>6/21/2018        </td><td>6400             </td><td>1                </td><td>Drought          </td><td>Control          </td><td> 1               </td><td> 5               </td><td> 51              </td><td> 1               </td><td>0.7101345        </td><td>0.005128090      </td><td>174.1684         </td></tr>\n",
       "\t<tr><td>1DroughtControl1 </td><td>22               </td><td>6/21/2018        </td><td>6400             </td><td>1                </td><td>Drought          </td><td>Control          </td><td> 1               </td><td> 5               </td><td> 51              </td><td>10               </td><td>3.0909224        </td><td>0.016987563      </td><td>103.6757         </td></tr>\n",
       "\t<tr><td>1DroughtControl1 </td><td>22               </td><td>6/21/2018        </td><td>6400             </td><td>1                </td><td>Drought          </td><td>Control          </td><td> 1               </td><td> 5               </td><td> 51              </td><td>11               </td><td>2.8754158        </td><td>0.017134086      </td><td>126.0893         </td></tr>\n",
       "\t<tr><td>1DroughtControl1 </td><td>22               </td><td>6/21/2018        </td><td>6400             </td><td>1                </td><td>Drought          </td><td>Control          </td><td> 1               </td><td> 5               </td><td> 51              </td><td>12               </td><td>2.8534106        </td><td>0.017291149      </td><td>130.4522         </td></tr>\n",
       "\t<tr><td>1DroughtControl1 </td><td>22               </td><td>6/21/2018        </td><td>6400             </td><td>1                </td><td>Drought          </td><td>Control          </td><td> 1               </td><td> 5               </td><td> 51              </td><td>13               </td><td>2.9267403        </td><td>0.017253899      </td><td>122.9433         </td></tr>\n",
       "\t<tr><td>1DroughtControl1 </td><td>22               </td><td>6/21/2018        </td><td>6400             </td><td>1                </td><td>Drought          </td><td>Control          </td><td> 1               </td><td> 5               </td><td> 51              </td><td> 2               </td><td>1.0517300        </td><td>0.007082619      </td><td>158.2148         </td></tr>\n",
       "\t<tr><td>1DroughtControl1 </td><td>22               </td><td>6/21/2018        </td><td>6400             </td><td>1                </td><td>Drought          </td><td>Control          </td><td> 1               </td><td> 5               </td><td> 51              </td><td> 3               </td><td>1.5445176        </td><td>0.008902013      </td><td>118.3503         </td></tr>\n",
       "\t<tr><td>1DroughtControl1 </td><td>22               </td><td>6/21/2018        </td><td>6400             </td><td>1                </td><td>Drought          </td><td>Control          </td><td> 1               </td><td> 5               </td><td> 51              </td><td> 4               </td><td>1.7659935        </td><td>0.010729958      </td><td>132.1754         </td></tr>\n",
       "\t<tr><td>1DroughtControl1 </td><td>22               </td><td>6/21/2018        </td><td>6400             </td><td>1                </td><td>Drought          </td><td>Control          </td><td> 1               </td><td> 5               </td><td> 51              </td><td> 5               </td><td>1.7566293        </td><td>0.011152041      </td><td>143.3055         </td></tr>\n",
       "\t<tr><td>1DroughtControl1 </td><td>22               </td><td>6/21/2018        </td><td>6400             </td><td>1                </td><td>Drought          </td><td>Control          </td><td> 1               </td><td> 5               </td><td> 51              </td><td> 6               </td><td>1.8235920        </td><td>0.011220645      </td><td>135.3768         </td></tr>\n",
       "\t<tr><td>1DroughtControl1 </td><td>22               </td><td>6/21/2018        </td><td>6400             </td><td>1                </td><td>Drought          </td><td>Control          </td><td> 1               </td><td> 5               </td><td> 51              </td><td> 7               </td><td>2.2530887        </td><td>0.013543805      </td><td>128.9954         </td></tr>\n",
       "\t<tr><td>1DroughtControl1 </td><td>22               </td><td>6/21/2018        </td><td>6400             </td><td>1                </td><td>Drought          </td><td>Control          </td><td> 1               </td><td> 5               </td><td> 51              </td><td> 8               </td><td>2.4239005        </td><td>0.014046794      </td><td>119.1012         </td></tr>\n",
       "\t<tr><td>1DroughtControl1 </td><td>22               </td><td>6/21/2018        </td><td>6400             </td><td>1                </td><td>Drought          </td><td>Control          </td><td> 1               </td><td> 5               </td><td> 51              </td><td> 9               </td><td>2.6756389        </td><td>0.015168355      </td><td>112.7450         </td></tr>\n",
       "\t<tr><td>1DroughtControl1 </td><td> 9               </td><td>6/8/2018         </td><td>6800             </td><td>1                </td><td>Drought          </td><td>Control          </td><td> 1               </td><td>NA               </td><td>146              </td><td> 1               </td><td>1.5643579        </td><td>0.009917895      </td><td>141.6251         </td></tr>\n",
       "\t<tr><td>1DroughtControl1 </td><td> 9               </td><td>6/8/2018         </td><td>6800             </td><td>1                </td><td>Drought          </td><td>Control          </td><td> 1               </td><td>NA               </td><td>146              </td><td>10               </td><td>1.7318566        </td><td>0.012369166      </td><td>168.8648         </td></tr>\n",
       "\t<tr><td>1DroughtControl1 </td><td> 9               </td><td>6/8/2018         </td><td>6800             </td><td>1                </td><td>Drought          </td><td>Control          </td><td> 1               </td><td>NA               </td><td>146              </td><td> 2               </td><td>1.5872194        </td><td>0.010007943      </td><td>140.0375         </td></tr>\n",
       "\t<tr><td>1DroughtControl1 </td><td> 9               </td><td>6/8/2018         </td><td>6800             </td><td>1                </td><td>Drought          </td><td>Control          </td><td> 1               </td><td>NA               </td><td>146              </td><td> 3               </td><td>1.6039999        </td><td>0.011755385      </td><td>174.8528         </td></tr>\n",
       "\t<tr><td>1DroughtControl1 </td><td> 9               </td><td>6/8/2018         </td><td>6800             </td><td>1                </td><td>Drought          </td><td>Control          </td><td> 1               </td><td>NA               </td><td>146              </td><td> 4               </td><td>1.6325480        </td><td>0.010298555      </td><td>140.2241         </td></tr>\n",
       "\t<tr><td>1DroughtControl1 </td><td> 9               </td><td>6/8/2018         </td><td>6800             </td><td>1                </td><td>Drought          </td><td>Control          </td><td> 1               </td><td>NA               </td><td>146              </td><td> 5               </td><td>1.6411578        </td><td>0.011254403      </td><td>160.1849         </td></tr>\n",
       "\t<tr><td>1DroughtControl1 </td><td> 9               </td><td>6/8/2018         </td><td>6800             </td><td>1                </td><td>Drought          </td><td>Control          </td><td> 1               </td><td>NA               </td><td>146              </td><td> 6               </td><td>1.7076608        </td><td>0.010394063      </td><td>130.9391         </td></tr>\n",
       "\t<tr><td>1DroughtControl1 </td><td> 9               </td><td>6/8/2018         </td><td>6800             </td><td>1                </td><td>Drought          </td><td>Control          </td><td> 1               </td><td>NA               </td><td>146              </td><td> 7               </td><td>1.7179168        </td><td>0.010495802      </td><td>131.6998         </td></tr>\n",
       "\t<tr><td>1DroughtControl1 </td><td> 9               </td><td>6/8/2018         </td><td>6800             </td><td>1                </td><td>Drought          </td><td>Control          </td><td> 1               </td><td>NA               </td><td>146              </td><td> 8               </td><td>1.7104737        </td><td>0.011769410      </td><td>160.2764         </td></tr>\n",
       "\t<tr><td>1DroughtControl1 </td><td> 9               </td><td>6/8/2018         </td><td>6800             </td><td>1                </td><td>Drought          </td><td>Control          </td><td> 1               </td><td>NA               </td><td>146              </td><td> 9               </td><td>1.7340984        </td><td>0.012962028      </td><td>178.7218         </td></tr>\n",
       "\t<tr><td>1DroughtControl10</td><td>13               </td><td>6/12/2018        </td><td>6800             </td><td>1                </td><td>Drought          </td><td>Control          </td><td>10               </td><td>NA               </td><td>128              </td><td> 1               </td><td>0.3439647        </td><td>0.005115273      </td><td>287.4640         </td></tr>\n",
       "\t<tr><td>1DroughtControl10</td><td>13               </td><td>6/12/2018        </td><td>6800             </td><td>1                </td><td>Drought          </td><td>Control          </td><td>10               </td><td>NA               </td><td>128              </td><td>10               </td><td>0.7097892        </td><td>0.006547640      </td><td>221.3251         </td></tr>\n",
       "\t<tr><td>1DroughtControl10</td><td>13               </td><td>6/12/2018        </td><td>6800             </td><td>1                </td><td>Drought          </td><td>Control          </td><td>10               </td><td>NA               </td><td>128              </td><td> 2               </td><td>0.3666868        </td><td>0.005636363      </td><td>290.5903         </td></tr>\n",
       "\t<tr><td>1DroughtControl10</td><td>13               </td><td>6/12/2018        </td><td>6800             </td><td>1                </td><td>Drought          </td><td>Control          </td><td>10               </td><td>NA               </td><td>128              </td><td> 3               </td><td>0.3805263        </td><td>0.003739980      </td><td>232.8044         </td></tr>\n",
       "\t<tr><td>1DroughtControl10</td><td>13               </td><td>6/12/2018        </td><td>6800             </td><td>1                </td><td>Drought          </td><td>Control          </td><td>10               </td><td>NA               </td><td>128              </td><td> 4               </td><td>0.3760088        </td><td>0.004005650      </td><td>245.2151         </td></tr>\n",
       "\t<tr><td>1DroughtControl10</td><td>13               </td><td>6/12/2018        </td><td>6800             </td><td>1                </td><td>Drought          </td><td>Control          </td><td>10               </td><td>NA               </td><td>128              </td><td> 5               </td><td>0.4492533        </td><td>0.004145141      </td><td>222.2480         </td></tr>\n",
       "\t<tr><td>1DroughtControl10</td><td>13               </td><td>6/12/2018        </td><td>6800             </td><td>1                </td><td>Drought          </td><td>Control          </td><td>10               </td><td>NA               </td><td>128              </td><td> 6               </td><td>0.5019352        </td><td>0.004717970      </td><td>225.2484         </td></tr>\n",
       "\t<tr><td>...</td><td>...</td><td>...</td><td>...</td><td>...</td><td>...</td><td>...</td><td>...</td><td>...</td><td>...</td><td>...</td><td>...</td><td>...</td><td>...</td></tr>\n",
       "\t<tr><td>2WetIndigenous Pathogen 8</td><td>22                       </td><td>6/21/2018                </td><td>6400                     </td><td>2                        </td><td>Wet                      </td><td>Indigenous Pathogen      </td><td>8                        </td><td>4                        </td><td> 39                      </td><td>10                       </td><td>12.224514                </td><td>0.1453931                </td><td>249.3111                 </td></tr>\n",
       "\t<tr><td>2WetIndigenous Pathogen 8</td><td>22                       </td><td>6/21/2018                </td><td>6400                     </td><td>2                        </td><td>Wet                      </td><td>Indigenous Pathogen      </td><td>8                        </td><td>4                        </td><td> 39                      </td><td>11                       </td><td>12.399245                </td><td>0.1446885                </td><td>246.6824                 </td></tr>\n",
       "\t<tr><td>2WetIndigenous Pathogen 8</td><td>22                       </td><td>6/21/2018                </td><td>6400                     </td><td>2                        </td><td>Wet                      </td><td>Indigenous Pathogen      </td><td>8                        </td><td>4                        </td><td> 39                      </td><td> 2                       </td><td>11.777184                </td><td>0.1342671                </td><td>245.0808                 </td></tr>\n",
       "\t<tr><td>2WetIndigenous Pathogen 8</td><td>22                       </td><td>6/21/2018                </td><td>6400                     </td><td>2                        </td><td>Wet                      </td><td>Indigenous Pathogen      </td><td>8                        </td><td>4                        </td><td> 39                      </td><td> 3                       </td><td>11.547644                </td><td>0.1403068                </td><td>253.3995                 </td></tr>\n",
       "\t<tr><td>2WetIndigenous Pathogen 8</td><td>22                       </td><td>6/21/2018                </td><td>6400                     </td><td>2                        </td><td>Wet                      </td><td>Indigenous Pathogen      </td><td>8                        </td><td>4                        </td><td> 39                      </td><td> 4                       </td><td>11.846624                </td><td>0.1407115                </td><td>249.7919                 </td></tr>\n",
       "\t<tr><td>2WetIndigenous Pathogen 8</td><td>22                       </td><td>6/21/2018                </td><td>6400                     </td><td>2                        </td><td>Wet                      </td><td>Indigenous Pathogen      </td><td>8                        </td><td>4                        </td><td> 39                      </td><td> 5                       </td><td>11.996155                </td><td>0.1419621                </td><td>249.2086                 </td></tr>\n",
       "\t<tr><td>2WetIndigenous Pathogen 8</td><td>22                       </td><td>6/21/2018                </td><td>6400                     </td><td>2                        </td><td>Wet                      </td><td>Indigenous Pathogen      </td><td>8                        </td><td>4                        </td><td> 39                      </td><td> 6                       </td><td>12.047185                </td><td>0.1428992                </td><td>249.3537                 </td></tr>\n",
       "\t<tr><td>2WetIndigenous Pathogen 8</td><td>22                       </td><td>6/21/2018                </td><td>6400                     </td><td>2                        </td><td>Wet                      </td><td>Indigenous Pathogen      </td><td>8                        </td><td>4                        </td><td> 39                      </td><td> 7                       </td><td>12.142575                </td><td>0.1441577                </td><td>249.1564                 </td></tr>\n",
       "\t<tr><td>2WetIndigenous Pathogen 8</td><td>22                       </td><td>6/21/2018                </td><td>6400                     </td><td>2                        </td><td>Wet                      </td><td>Indigenous Pathogen      </td><td>8                        </td><td>4                        </td><td> 39                      </td><td> 8                       </td><td>12.088335                </td><td>0.1447279                </td><td>250.2296                 </td></tr>\n",
       "\t<tr><td>2WetIndigenous Pathogen 8</td><td>22                       </td><td>6/21/2018                </td><td>6400                     </td><td>2                        </td><td>Wet                      </td><td>Indigenous Pathogen      </td><td>8                        </td><td>4                        </td><td> 39                      </td><td> 9                       </td><td>12.058912                </td><td>0.1425130                </td><td>248.4752                 </td></tr>\n",
       "\t<tr><td>2WetIndigenous Pathogen 9</td><td>13                       </td><td>6/12/2018                </td><td>6800                     </td><td>2                        </td><td>Wet                      </td><td>Indigenous Pathogen      </td><td>9                        </td><td>5                        </td><td>130                      </td><td> 1                       </td><td> 6.986728                </td><td>0.1177557                </td><td>284.5652                 </td></tr>\n",
       "\t<tr><td>2WetIndigenous Pathogen 9</td><td>13                       </td><td>6/12/2018                </td><td>6800                     </td><td>2                        </td><td>Wet                      </td><td>Indigenous Pathogen      </td><td>9                        </td><td>5                        </td><td>130                      </td><td>10                       </td><td> 7.228201                </td><td>0.1415316                </td><td>296.7663                 </td></tr>\n",
       "\t<tr><td>2WetIndigenous Pathogen 9</td><td>13                       </td><td>6/12/2018                </td><td>6800                     </td><td>2                        </td><td>Wet                      </td><td>Indigenous Pathogen      </td><td>9                        </td><td>5                        </td><td>130                      </td><td> 2                       </td><td> 7.031063                </td><td>0.1216893                </td><td>286.7584                 </td></tr>\n",
       "\t<tr><td>2WetIndigenous Pathogen 9</td><td>13                       </td><td>6/12/2018                </td><td>6800                     </td><td>2                        </td><td>Wet                      </td><td>Indigenous Pathogen      </td><td>9                        </td><td>5                        </td><td>130                      </td><td> 3                       </td><td> 7.065816                </td><td>0.1271616                </td><td>290.1895                 </td></tr>\n",
       "\t<tr><td>2WetIndigenous Pathogen 9</td><td>13                       </td><td>6/12/2018                </td><td>6800                     </td><td>2                        </td><td>Wet                      </td><td>Indigenous Pathogen      </td><td>9                        </td><td>5                        </td><td>130                      </td><td> 4                       </td><td> 7.076819                </td><td>0.1268525                </td><td>289.8431                 </td></tr>\n",
       "\t<tr><td>2WetIndigenous Pathogen 9</td><td>13                       </td><td>6/12/2018                </td><td>6800                     </td><td>2                        </td><td>Wet                      </td><td>Indigenous Pathogen      </td><td>9                        </td><td>5                        </td><td>130                      </td><td> 5                       </td><td> 7.116328                </td><td>0.1250420                </td><td>287.8437                 </td></tr>\n",
       "\t<tr><td>2WetIndigenous Pathogen 9</td><td>13                       </td><td>6/12/2018                </td><td>6800                     </td><td>2                        </td><td>Wet                      </td><td>Indigenous Pathogen      </td><td>9                        </td><td>5                        </td><td>130                      </td><td> 6                       </td><td> 7.163231                </td><td>0.1282970                </td><td>289.3907                 </td></tr>\n",
       "\t<tr><td>2WetIndigenous Pathogen 9</td><td>13                       </td><td>6/12/2018                </td><td>6800                     </td><td>2                        </td><td>Wet                      </td><td>Indigenous Pathogen      </td><td>9                        </td><td>5                        </td><td>130                      </td><td> 7                       </td><td> 7.158871                </td><td>0.1302810                </td><td>290.9428                 </td></tr>\n",
       "\t<tr><td>2WetIndigenous Pathogen 9</td><td>13                       </td><td>6/12/2018                </td><td>6800                     </td><td>2                        </td><td>Wet                      </td><td>Indigenous Pathogen      </td><td>9                        </td><td>5                        </td><td>130                      </td><td> 8                       </td><td> 7.175525                </td><td>0.1314749                </td><td>291.4633                 </td></tr>\n",
       "\t<tr><td>2WetIndigenous Pathogen 9</td><td>13                       </td><td>6/12/2018                </td><td>6800                     </td><td>2                        </td><td>Wet                      </td><td>Indigenous Pathogen      </td><td>9                        </td><td>5                        </td><td>130                      </td><td> 9                       </td><td> 7.201364                </td><td>0.1303278                </td><td>290.2549                 </td></tr>\n",
       "\t<tr><td>2WetIndigenous Pathogen 9</td><td>35                       </td><td>7/4/2018                 </td><td>6800                     </td><td>2                        </td><td>Wet                      </td><td>Indigenous Pathogen      </td><td>9                        </td><td>5                        </td><td> 94                      </td><td> 1                       </td><td> 8.649223                </td><td>0.1516414                </td><td>283.1814                 </td></tr>\n",
       "\t<tr><td>2WetIndigenous Pathogen 9</td><td>35                       </td><td>7/4/2018                 </td><td>6800                     </td><td>2                        </td><td>Wet                      </td><td>Indigenous Pathogen      </td><td>9                        </td><td>5                        </td><td> 94                      </td><td>10                       </td><td> 8.921730                </td><td>0.1588478                </td><td>283.4602                 </td></tr>\n",
       "\t<tr><td>2WetIndigenous Pathogen 9</td><td>35                       </td><td>7/4/2018                 </td><td>6800                     </td><td>2                        </td><td>Wet                      </td><td>Indigenous Pathogen      </td><td>9                        </td><td>5                        </td><td> 94                      </td><td> 2                       </td><td> 8.683033                </td><td>0.1547970                </td><td>284.3892                 </td></tr>\n",
       "\t<tr><td>2WetIndigenous Pathogen 9</td><td>35                       </td><td>7/4/2018                 </td><td>6800                     </td><td>2                        </td><td>Wet                      </td><td>Indigenous Pathogen      </td><td>9                        </td><td>5                        </td><td> 94                      </td><td> 3                       </td><td> 8.657354                </td><td>0.1511889                </td><td>282.7853                 </td></tr>\n",
       "\t<tr><td>2WetIndigenous Pathogen 9</td><td>35                       </td><td>7/4/2018                 </td><td>6800                     </td><td>2                        </td><td>Wet                      </td><td>Indigenous Pathogen      </td><td>9                        </td><td>5                        </td><td> 94                      </td><td> 4                       </td><td> 8.720225                </td><td>0.1514785                </td><td>282.1520                 </td></tr>\n",
       "\t<tr><td>2WetIndigenous Pathogen 9</td><td>35                       </td><td>7/4/2018                 </td><td>6800                     </td><td>2                        </td><td>Wet                      </td><td>Indigenous Pathogen      </td><td>9                        </td><td>5                        </td><td> 94                      </td><td> 5                       </td><td> 8.800167                </td><td>0.1518936                </td><td>281.3487                 </td></tr>\n",
       "\t<tr><td>2WetIndigenous Pathogen 9</td><td>35                       </td><td>7/4/2018                 </td><td>6800                     </td><td>2                        </td><td>Wet                      </td><td>Indigenous Pathogen      </td><td>9                        </td><td>5                        </td><td> 94                      </td><td> 6                       </td><td> 8.830209                </td><td>0.1538539                </td><td>282.1423                 </td></tr>\n",
       "\t<tr><td>2WetIndigenous Pathogen 9</td><td>35                       </td><td>7/4/2018                 </td><td>6800                     </td><td>2                        </td><td>Wet                      </td><td>Indigenous Pathogen      </td><td>9                        </td><td>5                        </td><td> 94                      </td><td> 7                       </td><td> 8.879089                </td><td>0.1460335                </td><td>275.9352                 </td></tr>\n",
       "\t<tr><td>2WetIndigenous Pathogen 9</td><td>35                       </td><td>7/4/2018                 </td><td>6800                     </td><td>2                        </td><td>Wet                      </td><td>Indigenous Pathogen      </td><td>9                        </td><td>5                        </td><td> 94                      </td><td> 8                       </td><td> 8.921487                </td><td>0.1623246                </td><td>285.2202                 </td></tr>\n",
       "\t<tr><td>2WetIndigenous Pathogen 9</td><td>35                       </td><td>7/4/2018                 </td><td>6800                     </td><td>2                        </td><td>Wet                      </td><td>Indigenous Pathogen      </td><td>9                        </td><td>5                        </td><td> 94                      </td><td> 9                       </td><td> 8.860731                </td><td>0.1550579                </td><td>282.4953                 </td></tr>\n",
       "</tbody>\n",
       "</table>\n"
      ],
      "text/latex": [
       "\\begin{tabular}{r|llllllllllllll}\n",
       " Sample type & Days after inoculation & Date & Licor & Trial & Treatment & Species & Plant Number & Isolate Number & Unique Sample Number & Obs & Photosynthesis & Conductance & Ci\\\\\n",
       "\\hline\n",
       "\t 1DroughtControl1  & 22                & 6/21/2018         & 6400              & 1                 & Drought           & Control           &  1                &  5                &  51               &  1                & 0.7101345         & 0.005128090       & 174.1684         \\\\\n",
       "\t 1DroughtControl1  & 22                & 6/21/2018         & 6400              & 1                 & Drought           & Control           &  1                &  5                &  51               & 10                & 3.0909224         & 0.016987563       & 103.6757         \\\\\n",
       "\t 1DroughtControl1  & 22                & 6/21/2018         & 6400              & 1                 & Drought           & Control           &  1                &  5                &  51               & 11                & 2.8754158         & 0.017134086       & 126.0893         \\\\\n",
       "\t 1DroughtControl1  & 22                & 6/21/2018         & 6400              & 1                 & Drought           & Control           &  1                &  5                &  51               & 12                & 2.8534106         & 0.017291149       & 130.4522         \\\\\n",
       "\t 1DroughtControl1  & 22                & 6/21/2018         & 6400              & 1                 & Drought           & Control           &  1                &  5                &  51               & 13                & 2.9267403         & 0.017253899       & 122.9433         \\\\\n",
       "\t 1DroughtControl1  & 22                & 6/21/2018         & 6400              & 1                 & Drought           & Control           &  1                &  5                &  51               &  2                & 1.0517300         & 0.007082619       & 158.2148         \\\\\n",
       "\t 1DroughtControl1  & 22                & 6/21/2018         & 6400              & 1                 & Drought           & Control           &  1                &  5                &  51               &  3                & 1.5445176         & 0.008902013       & 118.3503         \\\\\n",
       "\t 1DroughtControl1  & 22                & 6/21/2018         & 6400              & 1                 & Drought           & Control           &  1                &  5                &  51               &  4                & 1.7659935         & 0.010729958       & 132.1754         \\\\\n",
       "\t 1DroughtControl1  & 22                & 6/21/2018         & 6400              & 1                 & Drought           & Control           &  1                &  5                &  51               &  5                & 1.7566293         & 0.011152041       & 143.3055         \\\\\n",
       "\t 1DroughtControl1  & 22                & 6/21/2018         & 6400              & 1                 & Drought           & Control           &  1                &  5                &  51               &  6                & 1.8235920         & 0.011220645       & 135.3768         \\\\\n",
       "\t 1DroughtControl1  & 22                & 6/21/2018         & 6400              & 1                 & Drought           & Control           &  1                &  5                &  51               &  7                & 2.2530887         & 0.013543805       & 128.9954         \\\\\n",
       "\t 1DroughtControl1  & 22                & 6/21/2018         & 6400              & 1                 & Drought           & Control           &  1                &  5                &  51               &  8                & 2.4239005         & 0.014046794       & 119.1012         \\\\\n",
       "\t 1DroughtControl1  & 22                & 6/21/2018         & 6400              & 1                 & Drought           & Control           &  1                &  5                &  51               &  9                & 2.6756389         & 0.015168355       & 112.7450         \\\\\n",
       "\t 1DroughtControl1  &  9                & 6/8/2018          & 6800              & 1                 & Drought           & Control           &  1                & NA                & 146               &  1                & 1.5643579         & 0.009917895       & 141.6251         \\\\\n",
       "\t 1DroughtControl1  &  9                & 6/8/2018          & 6800              & 1                 & Drought           & Control           &  1                & NA                & 146               & 10                & 1.7318566         & 0.012369166       & 168.8648         \\\\\n",
       "\t 1DroughtControl1  &  9                & 6/8/2018          & 6800              & 1                 & Drought           & Control           &  1                & NA                & 146               &  2                & 1.5872194         & 0.010007943       & 140.0375         \\\\\n",
       "\t 1DroughtControl1  &  9                & 6/8/2018          & 6800              & 1                 & Drought           & Control           &  1                & NA                & 146               &  3                & 1.6039999         & 0.011755385       & 174.8528         \\\\\n",
       "\t 1DroughtControl1  &  9                & 6/8/2018          & 6800              & 1                 & Drought           & Control           &  1                & NA                & 146               &  4                & 1.6325480         & 0.010298555       & 140.2241         \\\\\n",
       "\t 1DroughtControl1  &  9                & 6/8/2018          & 6800              & 1                 & Drought           & Control           &  1                & NA                & 146               &  5                & 1.6411578         & 0.011254403       & 160.1849         \\\\\n",
       "\t 1DroughtControl1  &  9                & 6/8/2018          & 6800              & 1                 & Drought           & Control           &  1                & NA                & 146               &  6                & 1.7076608         & 0.010394063       & 130.9391         \\\\\n",
       "\t 1DroughtControl1  &  9                & 6/8/2018          & 6800              & 1                 & Drought           & Control           &  1                & NA                & 146               &  7                & 1.7179168         & 0.010495802       & 131.6998         \\\\\n",
       "\t 1DroughtControl1  &  9                & 6/8/2018          & 6800              & 1                 & Drought           & Control           &  1                & NA                & 146               &  8                & 1.7104737         & 0.011769410       & 160.2764         \\\\\n",
       "\t 1DroughtControl1  &  9                & 6/8/2018          & 6800              & 1                 & Drought           & Control           &  1                & NA                & 146               &  9                & 1.7340984         & 0.012962028       & 178.7218         \\\\\n",
       "\t 1DroughtControl10 & 13                & 6/12/2018         & 6800              & 1                 & Drought           & Control           & 10                & NA                & 128               &  1                & 0.3439647         & 0.005115273       & 287.4640         \\\\\n",
       "\t 1DroughtControl10 & 13                & 6/12/2018         & 6800              & 1                 & Drought           & Control           & 10                & NA                & 128               & 10                & 0.7097892         & 0.006547640       & 221.3251         \\\\\n",
       "\t 1DroughtControl10 & 13                & 6/12/2018         & 6800              & 1                 & Drought           & Control           & 10                & NA                & 128               &  2                & 0.3666868         & 0.005636363       & 290.5903         \\\\\n",
       "\t 1DroughtControl10 & 13                & 6/12/2018         & 6800              & 1                 & Drought           & Control           & 10                & NA                & 128               &  3                & 0.3805263         & 0.003739980       & 232.8044         \\\\\n",
       "\t 1DroughtControl10 & 13                & 6/12/2018         & 6800              & 1                 & Drought           & Control           & 10                & NA                & 128               &  4                & 0.3760088         & 0.004005650       & 245.2151         \\\\\n",
       "\t 1DroughtControl10 & 13                & 6/12/2018         & 6800              & 1                 & Drought           & Control           & 10                & NA                & 128               &  5                & 0.4492533         & 0.004145141       & 222.2480         \\\\\n",
       "\t 1DroughtControl10 & 13                & 6/12/2018         & 6800              & 1                 & Drought           & Control           & 10                & NA                & 128               &  6                & 0.5019352         & 0.004717970       & 225.2484         \\\\\n",
       "\t ... & ... & ... & ... & ... & ... & ... & ... & ... & ... & ... & ... & ... & ...\\\\\n",
       "\t 2WetIndigenous Pathogen 8 & 22                        & 6/21/2018                 & 6400                      & 2                         & Wet                       & Indigenous Pathogen       & 8                         & 4                         &  39                       & 10                        & 12.224514                 & 0.1453931                 & 249.3111                 \\\\\n",
       "\t 2WetIndigenous Pathogen 8 & 22                        & 6/21/2018                 & 6400                      & 2                         & Wet                       & Indigenous Pathogen       & 8                         & 4                         &  39                       & 11                        & 12.399245                 & 0.1446885                 & 246.6824                 \\\\\n",
       "\t 2WetIndigenous Pathogen 8 & 22                        & 6/21/2018                 & 6400                      & 2                         & Wet                       & Indigenous Pathogen       & 8                         & 4                         &  39                       &  2                        & 11.777184                 & 0.1342671                 & 245.0808                 \\\\\n",
       "\t 2WetIndigenous Pathogen 8 & 22                        & 6/21/2018                 & 6400                      & 2                         & Wet                       & Indigenous Pathogen       & 8                         & 4                         &  39                       &  3                        & 11.547644                 & 0.1403068                 & 253.3995                 \\\\\n",
       "\t 2WetIndigenous Pathogen 8 & 22                        & 6/21/2018                 & 6400                      & 2                         & Wet                       & Indigenous Pathogen       & 8                         & 4                         &  39                       &  4                        & 11.846624                 & 0.1407115                 & 249.7919                 \\\\\n",
       "\t 2WetIndigenous Pathogen 8 & 22                        & 6/21/2018                 & 6400                      & 2                         & Wet                       & Indigenous Pathogen       & 8                         & 4                         &  39                       &  5                        & 11.996155                 & 0.1419621                 & 249.2086                 \\\\\n",
       "\t 2WetIndigenous Pathogen 8 & 22                        & 6/21/2018                 & 6400                      & 2                         & Wet                       & Indigenous Pathogen       & 8                         & 4                         &  39                       &  6                        & 12.047185                 & 0.1428992                 & 249.3537                 \\\\\n",
       "\t 2WetIndigenous Pathogen 8 & 22                        & 6/21/2018                 & 6400                      & 2                         & Wet                       & Indigenous Pathogen       & 8                         & 4                         &  39                       &  7                        & 12.142575                 & 0.1441577                 & 249.1564                 \\\\\n",
       "\t 2WetIndigenous Pathogen 8 & 22                        & 6/21/2018                 & 6400                      & 2                         & Wet                       & Indigenous Pathogen       & 8                         & 4                         &  39                       &  8                        & 12.088335                 & 0.1447279                 & 250.2296                 \\\\\n",
       "\t 2WetIndigenous Pathogen 8 & 22                        & 6/21/2018                 & 6400                      & 2                         & Wet                       & Indigenous Pathogen       & 8                         & 4                         &  39                       &  9                        & 12.058912                 & 0.1425130                 & 248.4752                 \\\\\n",
       "\t 2WetIndigenous Pathogen 9 & 13                        & 6/12/2018                 & 6800                      & 2                         & Wet                       & Indigenous Pathogen       & 9                         & 5                         & 130                       &  1                        &  6.986728                 & 0.1177557                 & 284.5652                 \\\\\n",
       "\t 2WetIndigenous Pathogen 9 & 13                        & 6/12/2018                 & 6800                      & 2                         & Wet                       & Indigenous Pathogen       & 9                         & 5                         & 130                       & 10                        &  7.228201                 & 0.1415316                 & 296.7663                 \\\\\n",
       "\t 2WetIndigenous Pathogen 9 & 13                        & 6/12/2018                 & 6800                      & 2                         & Wet                       & Indigenous Pathogen       & 9                         & 5                         & 130                       &  2                        &  7.031063                 & 0.1216893                 & 286.7584                 \\\\\n",
       "\t 2WetIndigenous Pathogen 9 & 13                        & 6/12/2018                 & 6800                      & 2                         & Wet                       & Indigenous Pathogen       & 9                         & 5                         & 130                       &  3                        &  7.065816                 & 0.1271616                 & 290.1895                 \\\\\n",
       "\t 2WetIndigenous Pathogen 9 & 13                        & 6/12/2018                 & 6800                      & 2                         & Wet                       & Indigenous Pathogen       & 9                         & 5                         & 130                       &  4                        &  7.076819                 & 0.1268525                 & 289.8431                 \\\\\n",
       "\t 2WetIndigenous Pathogen 9 & 13                        & 6/12/2018                 & 6800                      & 2                         & Wet                       & Indigenous Pathogen       & 9                         & 5                         & 130                       &  5                        &  7.116328                 & 0.1250420                 & 287.8437                 \\\\\n",
       "\t 2WetIndigenous Pathogen 9 & 13                        & 6/12/2018                 & 6800                      & 2                         & Wet                       & Indigenous Pathogen       & 9                         & 5                         & 130                       &  6                        &  7.163231                 & 0.1282970                 & 289.3907                 \\\\\n",
       "\t 2WetIndigenous Pathogen 9 & 13                        & 6/12/2018                 & 6800                      & 2                         & Wet                       & Indigenous Pathogen       & 9                         & 5                         & 130                       &  7                        &  7.158871                 & 0.1302810                 & 290.9428                 \\\\\n",
       "\t 2WetIndigenous Pathogen 9 & 13                        & 6/12/2018                 & 6800                      & 2                         & Wet                       & Indigenous Pathogen       & 9                         & 5                         & 130                       &  8                        &  7.175525                 & 0.1314749                 & 291.4633                 \\\\\n",
       "\t 2WetIndigenous Pathogen 9 & 13                        & 6/12/2018                 & 6800                      & 2                         & Wet                       & Indigenous Pathogen       & 9                         & 5                         & 130                       &  9                        &  7.201364                 & 0.1303278                 & 290.2549                 \\\\\n",
       "\t 2WetIndigenous Pathogen 9 & 35                        & 7/4/2018                  & 6800                      & 2                         & Wet                       & Indigenous Pathogen       & 9                         & 5                         &  94                       &  1                        &  8.649223                 & 0.1516414                 & 283.1814                 \\\\\n",
       "\t 2WetIndigenous Pathogen 9 & 35                        & 7/4/2018                  & 6800                      & 2                         & Wet                       & Indigenous Pathogen       & 9                         & 5                         &  94                       & 10                        &  8.921730                 & 0.1588478                 & 283.4602                 \\\\\n",
       "\t 2WetIndigenous Pathogen 9 & 35                        & 7/4/2018                  & 6800                      & 2                         & Wet                       & Indigenous Pathogen       & 9                         & 5                         &  94                       &  2                        &  8.683033                 & 0.1547970                 & 284.3892                 \\\\\n",
       "\t 2WetIndigenous Pathogen 9 & 35                        & 7/4/2018                  & 6800                      & 2                         & Wet                       & Indigenous Pathogen       & 9                         & 5                         &  94                       &  3                        &  8.657354                 & 0.1511889                 & 282.7853                 \\\\\n",
       "\t 2WetIndigenous Pathogen 9 & 35                        & 7/4/2018                  & 6800                      & 2                         & Wet                       & Indigenous Pathogen       & 9                         & 5                         &  94                       &  4                        &  8.720225                 & 0.1514785                 & 282.1520                 \\\\\n",
       "\t 2WetIndigenous Pathogen 9 & 35                        & 7/4/2018                  & 6800                      & 2                         & Wet                       & Indigenous Pathogen       & 9                         & 5                         &  94                       &  5                        &  8.800167                 & 0.1518936                 & 281.3487                 \\\\\n",
       "\t 2WetIndigenous Pathogen 9 & 35                        & 7/4/2018                  & 6800                      & 2                         & Wet                       & Indigenous Pathogen       & 9                         & 5                         &  94                       &  6                        &  8.830209                 & 0.1538539                 & 282.1423                 \\\\\n",
       "\t 2WetIndigenous Pathogen 9 & 35                        & 7/4/2018                  & 6800                      & 2                         & Wet                       & Indigenous Pathogen       & 9                         & 5                         &  94                       &  7                        &  8.879089                 & 0.1460335                 & 275.9352                 \\\\\n",
       "\t 2WetIndigenous Pathogen 9 & 35                        & 7/4/2018                  & 6800                      & 2                         & Wet                       & Indigenous Pathogen       & 9                         & 5                         &  94                       &  8                        &  8.921487                 & 0.1623246                 & 285.2202                 \\\\\n",
       "\t 2WetIndigenous Pathogen 9 & 35                        & 7/4/2018                  & 6800                      & 2                         & Wet                       & Indigenous Pathogen       & 9                         & 5                         &  94                       &  9                        &  8.860731                 & 0.1550579                 & 282.4953                 \\\\\n",
       "\\end{tabular}\n"
      ],
      "text/markdown": [
       "\n",
       "| Sample type | Days after inoculation | Date | Licor | Trial | Treatment | Species | Plant Number | Isolate Number | Unique Sample Number | Obs | Photosynthesis | Conductance | Ci |\n",
       "|---|---|---|---|---|---|---|---|---|---|---|---|---|---|\n",
       "| 1DroughtControl1  | 22                | 6/21/2018         | 6400              | 1                 | Drought           | Control           |  1                |  5                |  51               |  1                | 0.7101345         | 0.005128090       | 174.1684          |\n",
       "| 1DroughtControl1  | 22                | 6/21/2018         | 6400              | 1                 | Drought           | Control           |  1                |  5                |  51               | 10                | 3.0909224         | 0.016987563       | 103.6757          |\n",
       "| 1DroughtControl1  | 22                | 6/21/2018         | 6400              | 1                 | Drought           | Control           |  1                |  5                |  51               | 11                | 2.8754158         | 0.017134086       | 126.0893          |\n",
       "| 1DroughtControl1  | 22                | 6/21/2018         | 6400              | 1                 | Drought           | Control           |  1                |  5                |  51               | 12                | 2.8534106         | 0.017291149       | 130.4522          |\n",
       "| 1DroughtControl1  | 22                | 6/21/2018         | 6400              | 1                 | Drought           | Control           |  1                |  5                |  51               | 13                | 2.9267403         | 0.017253899       | 122.9433          |\n",
       "| 1DroughtControl1  | 22                | 6/21/2018         | 6400              | 1                 | Drought           | Control           |  1                |  5                |  51               |  2                | 1.0517300         | 0.007082619       | 158.2148          |\n",
       "| 1DroughtControl1  | 22                | 6/21/2018         | 6400              | 1                 | Drought           | Control           |  1                |  5                |  51               |  3                | 1.5445176         | 0.008902013       | 118.3503          |\n",
       "| 1DroughtControl1  | 22                | 6/21/2018         | 6400              | 1                 | Drought           | Control           |  1                |  5                |  51               |  4                | 1.7659935         | 0.010729958       | 132.1754          |\n",
       "| 1DroughtControl1  | 22                | 6/21/2018         | 6400              | 1                 | Drought           | Control           |  1                |  5                |  51               |  5                | 1.7566293         | 0.011152041       | 143.3055          |\n",
       "| 1DroughtControl1  | 22                | 6/21/2018         | 6400              | 1                 | Drought           | Control           |  1                |  5                |  51               |  6                | 1.8235920         | 0.011220645       | 135.3768          |\n",
       "| 1DroughtControl1  | 22                | 6/21/2018         | 6400              | 1                 | Drought           | Control           |  1                |  5                |  51               |  7                | 2.2530887         | 0.013543805       | 128.9954          |\n",
       "| 1DroughtControl1  | 22                | 6/21/2018         | 6400              | 1                 | Drought           | Control           |  1                |  5                |  51               |  8                | 2.4239005         | 0.014046794       | 119.1012          |\n",
       "| 1DroughtControl1  | 22                | 6/21/2018         | 6400              | 1                 | Drought           | Control           |  1                |  5                |  51               |  9                | 2.6756389         | 0.015168355       | 112.7450          |\n",
       "| 1DroughtControl1  |  9                | 6/8/2018          | 6800              | 1                 | Drought           | Control           |  1                | NA                | 146               |  1                | 1.5643579         | 0.009917895       | 141.6251          |\n",
       "| 1DroughtControl1  |  9                | 6/8/2018          | 6800              | 1                 | Drought           | Control           |  1                | NA                | 146               | 10                | 1.7318566         | 0.012369166       | 168.8648          |\n",
       "| 1DroughtControl1  |  9                | 6/8/2018          | 6800              | 1                 | Drought           | Control           |  1                | NA                | 146               |  2                | 1.5872194         | 0.010007943       | 140.0375          |\n",
       "| 1DroughtControl1  |  9                | 6/8/2018          | 6800              | 1                 | Drought           | Control           |  1                | NA                | 146               |  3                | 1.6039999         | 0.011755385       | 174.8528          |\n",
       "| 1DroughtControl1  |  9                | 6/8/2018          | 6800              | 1                 | Drought           | Control           |  1                | NA                | 146               |  4                | 1.6325480         | 0.010298555       | 140.2241          |\n",
       "| 1DroughtControl1  |  9                | 6/8/2018          | 6800              | 1                 | Drought           | Control           |  1                | NA                | 146               |  5                | 1.6411578         | 0.011254403       | 160.1849          |\n",
       "| 1DroughtControl1  |  9                | 6/8/2018          | 6800              | 1                 | Drought           | Control           |  1                | NA                | 146               |  6                | 1.7076608         | 0.010394063       | 130.9391          |\n",
       "| 1DroughtControl1  |  9                | 6/8/2018          | 6800              | 1                 | Drought           | Control           |  1                | NA                | 146               |  7                | 1.7179168         | 0.010495802       | 131.6998          |\n",
       "| 1DroughtControl1  |  9                | 6/8/2018          | 6800              | 1                 | Drought           | Control           |  1                | NA                | 146               |  8                | 1.7104737         | 0.011769410       | 160.2764          |\n",
       "| 1DroughtControl1  |  9                | 6/8/2018          | 6800              | 1                 | Drought           | Control           |  1                | NA                | 146               |  9                | 1.7340984         | 0.012962028       | 178.7218          |\n",
       "| 1DroughtControl10 | 13                | 6/12/2018         | 6800              | 1                 | Drought           | Control           | 10                | NA                | 128               |  1                | 0.3439647         | 0.005115273       | 287.4640          |\n",
       "| 1DroughtControl10 | 13                | 6/12/2018         | 6800              | 1                 | Drought           | Control           | 10                | NA                | 128               | 10                | 0.7097892         | 0.006547640       | 221.3251          |\n",
       "| 1DroughtControl10 | 13                | 6/12/2018         | 6800              | 1                 | Drought           | Control           | 10                | NA                | 128               |  2                | 0.3666868         | 0.005636363       | 290.5903          |\n",
       "| 1DroughtControl10 | 13                | 6/12/2018         | 6800              | 1                 | Drought           | Control           | 10                | NA                | 128               |  3                | 0.3805263         | 0.003739980       | 232.8044          |\n",
       "| 1DroughtControl10 | 13                | 6/12/2018         | 6800              | 1                 | Drought           | Control           | 10                | NA                | 128               |  4                | 0.3760088         | 0.004005650       | 245.2151          |\n",
       "| 1DroughtControl10 | 13                | 6/12/2018         | 6800              | 1                 | Drought           | Control           | 10                | NA                | 128               |  5                | 0.4492533         | 0.004145141       | 222.2480          |\n",
       "| 1DroughtControl10 | 13                | 6/12/2018         | 6800              | 1                 | Drought           | Control           | 10                | NA                | 128               |  6                | 0.5019352         | 0.004717970       | 225.2484          |\n",
       "| ... | ... | ... | ... | ... | ... | ... | ... | ... | ... | ... | ... | ... | ... |\n",
       "| 2WetIndigenous Pathogen 8 | 22                        | 6/21/2018                 | 6400                      | 2                         | Wet                       | Indigenous Pathogen       | 8                         | 4                         |  39                       | 10                        | 12.224514                 | 0.1453931                 | 249.3111                  |\n",
       "| 2WetIndigenous Pathogen 8 | 22                        | 6/21/2018                 | 6400                      | 2                         | Wet                       | Indigenous Pathogen       | 8                         | 4                         |  39                       | 11                        | 12.399245                 | 0.1446885                 | 246.6824                  |\n",
       "| 2WetIndigenous Pathogen 8 | 22                        | 6/21/2018                 | 6400                      | 2                         | Wet                       | Indigenous Pathogen       | 8                         | 4                         |  39                       |  2                        | 11.777184                 | 0.1342671                 | 245.0808                  |\n",
       "| 2WetIndigenous Pathogen 8 | 22                        | 6/21/2018                 | 6400                      | 2                         | Wet                       | Indigenous Pathogen       | 8                         | 4                         |  39                       |  3                        | 11.547644                 | 0.1403068                 | 253.3995                  |\n",
       "| 2WetIndigenous Pathogen 8 | 22                        | 6/21/2018                 | 6400                      | 2                         | Wet                       | Indigenous Pathogen       | 8                         | 4                         |  39                       |  4                        | 11.846624                 | 0.1407115                 | 249.7919                  |\n",
       "| 2WetIndigenous Pathogen 8 | 22                        | 6/21/2018                 | 6400                      | 2                         | Wet                       | Indigenous Pathogen       | 8                         | 4                         |  39                       |  5                        | 11.996155                 | 0.1419621                 | 249.2086                  |\n",
       "| 2WetIndigenous Pathogen 8 | 22                        | 6/21/2018                 | 6400                      | 2                         | Wet                       | Indigenous Pathogen       | 8                         | 4                         |  39                       |  6                        | 12.047185                 | 0.1428992                 | 249.3537                  |\n",
       "| 2WetIndigenous Pathogen 8 | 22                        | 6/21/2018                 | 6400                      | 2                         | Wet                       | Indigenous Pathogen       | 8                         | 4                         |  39                       |  7                        | 12.142575                 | 0.1441577                 | 249.1564                  |\n",
       "| 2WetIndigenous Pathogen 8 | 22                        | 6/21/2018                 | 6400                      | 2                         | Wet                       | Indigenous Pathogen       | 8                         | 4                         |  39                       |  8                        | 12.088335                 | 0.1447279                 | 250.2296                  |\n",
       "| 2WetIndigenous Pathogen 8 | 22                        | 6/21/2018                 | 6400                      | 2                         | Wet                       | Indigenous Pathogen       | 8                         | 4                         |  39                       |  9                        | 12.058912                 | 0.1425130                 | 248.4752                  |\n",
       "| 2WetIndigenous Pathogen 9 | 13                        | 6/12/2018                 | 6800                      | 2                         | Wet                       | Indigenous Pathogen       | 9                         | 5                         | 130                       |  1                        |  6.986728                 | 0.1177557                 | 284.5652                  |\n",
       "| 2WetIndigenous Pathogen 9 | 13                        | 6/12/2018                 | 6800                      | 2                         | Wet                       | Indigenous Pathogen       | 9                         | 5                         | 130                       | 10                        |  7.228201                 | 0.1415316                 | 296.7663                  |\n",
       "| 2WetIndigenous Pathogen 9 | 13                        | 6/12/2018                 | 6800                      | 2                         | Wet                       | Indigenous Pathogen       | 9                         | 5                         | 130                       |  2                        |  7.031063                 | 0.1216893                 | 286.7584                  |\n",
       "| 2WetIndigenous Pathogen 9 | 13                        | 6/12/2018                 | 6800                      | 2                         | Wet                       | Indigenous Pathogen       | 9                         | 5                         | 130                       |  3                        |  7.065816                 | 0.1271616                 | 290.1895                  |\n",
       "| 2WetIndigenous Pathogen 9 | 13                        | 6/12/2018                 | 6800                      | 2                         | Wet                       | Indigenous Pathogen       | 9                         | 5                         | 130                       |  4                        |  7.076819                 | 0.1268525                 | 289.8431                  |\n",
       "| 2WetIndigenous Pathogen 9 | 13                        | 6/12/2018                 | 6800                      | 2                         | Wet                       | Indigenous Pathogen       | 9                         | 5                         | 130                       |  5                        |  7.116328                 | 0.1250420                 | 287.8437                  |\n",
       "| 2WetIndigenous Pathogen 9 | 13                        | 6/12/2018                 | 6800                      | 2                         | Wet                       | Indigenous Pathogen       | 9                         | 5                         | 130                       |  6                        |  7.163231                 | 0.1282970                 | 289.3907                  |\n",
       "| 2WetIndigenous Pathogen 9 | 13                        | 6/12/2018                 | 6800                      | 2                         | Wet                       | Indigenous Pathogen       | 9                         | 5                         | 130                       |  7                        |  7.158871                 | 0.1302810                 | 290.9428                  |\n",
       "| 2WetIndigenous Pathogen 9 | 13                        | 6/12/2018                 | 6800                      | 2                         | Wet                       | Indigenous Pathogen       | 9                         | 5                         | 130                       |  8                        |  7.175525                 | 0.1314749                 | 291.4633                  |\n",
       "| 2WetIndigenous Pathogen 9 | 13                        | 6/12/2018                 | 6800                      | 2                         | Wet                       | Indigenous Pathogen       | 9                         | 5                         | 130                       |  9                        |  7.201364                 | 0.1303278                 | 290.2549                  |\n",
       "| 2WetIndigenous Pathogen 9 | 35                        | 7/4/2018                  | 6800                      | 2                         | Wet                       | Indigenous Pathogen       | 9                         | 5                         |  94                       |  1                        |  8.649223                 | 0.1516414                 | 283.1814                  |\n",
       "| 2WetIndigenous Pathogen 9 | 35                        | 7/4/2018                  | 6800                      | 2                         | Wet                       | Indigenous Pathogen       | 9                         | 5                         |  94                       | 10                        |  8.921730                 | 0.1588478                 | 283.4602                  |\n",
       "| 2WetIndigenous Pathogen 9 | 35                        | 7/4/2018                  | 6800                      | 2                         | Wet                       | Indigenous Pathogen       | 9                         | 5                         |  94                       |  2                        |  8.683033                 | 0.1547970                 | 284.3892                  |\n",
       "| 2WetIndigenous Pathogen 9 | 35                        | 7/4/2018                  | 6800                      | 2                         | Wet                       | Indigenous Pathogen       | 9                         | 5                         |  94                       |  3                        |  8.657354                 | 0.1511889                 | 282.7853                  |\n",
       "| 2WetIndigenous Pathogen 9 | 35                        | 7/4/2018                  | 6800                      | 2                         | Wet                       | Indigenous Pathogen       | 9                         | 5                         |  94                       |  4                        |  8.720225                 | 0.1514785                 | 282.1520                  |\n",
       "| 2WetIndigenous Pathogen 9 | 35                        | 7/4/2018                  | 6800                      | 2                         | Wet                       | Indigenous Pathogen       | 9                         | 5                         |  94                       |  5                        |  8.800167                 | 0.1518936                 | 281.3487                  |\n",
       "| 2WetIndigenous Pathogen 9 | 35                        | 7/4/2018                  | 6800                      | 2                         | Wet                       | Indigenous Pathogen       | 9                         | 5                         |  94                       |  6                        |  8.830209                 | 0.1538539                 | 282.1423                  |\n",
       "| 2WetIndigenous Pathogen 9 | 35                        | 7/4/2018                  | 6800                      | 2                         | Wet                       | Indigenous Pathogen       | 9                         | 5                         |  94                       |  7                        |  8.879089                 | 0.1460335                 | 275.9352                  |\n",
       "| 2WetIndigenous Pathogen 9 | 35                        | 7/4/2018                  | 6800                      | 2                         | Wet                       | Indigenous Pathogen       | 9                         | 5                         |  94                       |  8                        |  8.921487                 | 0.1623246                 | 285.2202                  |\n",
       "| 2WetIndigenous Pathogen 9 | 35                        | 7/4/2018                  | 6800                      | 2                         | Wet                       | Indigenous Pathogen       | 9                         | 5                         |  94                       |  9                        |  8.860731                 | 0.1550579                 | 282.4953                  |\n",
       "\n"
      ],
      "text/plain": [
       "     Sample type               Days after inoculation Date      Licor Trial\n",
       "1    1DroughtControl1          22                     6/21/2018 6400  1    \n",
       "2    1DroughtControl1          22                     6/21/2018 6400  1    \n",
       "3    1DroughtControl1          22                     6/21/2018 6400  1    \n",
       "4    1DroughtControl1          22                     6/21/2018 6400  1    \n",
       "5    1DroughtControl1          22                     6/21/2018 6400  1    \n",
       "6    1DroughtControl1          22                     6/21/2018 6400  1    \n",
       "7    1DroughtControl1          22                     6/21/2018 6400  1    \n",
       "8    1DroughtControl1          22                     6/21/2018 6400  1    \n",
       "9    1DroughtControl1          22                     6/21/2018 6400  1    \n",
       "10   1DroughtControl1          22                     6/21/2018 6400  1    \n",
       "11   1DroughtControl1          22                     6/21/2018 6400  1    \n",
       "12   1DroughtControl1          22                     6/21/2018 6400  1    \n",
       "13   1DroughtControl1          22                     6/21/2018 6400  1    \n",
       "14   1DroughtControl1           9                     6/8/2018  6800  1    \n",
       "15   1DroughtControl1           9                     6/8/2018  6800  1    \n",
       "16   1DroughtControl1           9                     6/8/2018  6800  1    \n",
       "17   1DroughtControl1           9                     6/8/2018  6800  1    \n",
       "18   1DroughtControl1           9                     6/8/2018  6800  1    \n",
       "19   1DroughtControl1           9                     6/8/2018  6800  1    \n",
       "20   1DroughtControl1           9                     6/8/2018  6800  1    \n",
       "21   1DroughtControl1           9                     6/8/2018  6800  1    \n",
       "22   1DroughtControl1           9                     6/8/2018  6800  1    \n",
       "23   1DroughtControl1           9                     6/8/2018  6800  1    \n",
       "24   1DroughtControl10         13                     6/12/2018 6800  1    \n",
       "25   1DroughtControl10         13                     6/12/2018 6800  1    \n",
       "26   1DroughtControl10         13                     6/12/2018 6800  1    \n",
       "27   1DroughtControl10         13                     6/12/2018 6800  1    \n",
       "28   1DroughtControl10         13                     6/12/2018 6800  1    \n",
       "29   1DroughtControl10         13                     6/12/2018 6800  1    \n",
       "30   1DroughtControl10         13                     6/12/2018 6800  1    \n",
       "...  ...                       ...                    ...       ...   ...  \n",
       "1611 2WetIndigenous Pathogen 8 22                     6/21/2018 6400  2    \n",
       "1612 2WetIndigenous Pathogen 8 22                     6/21/2018 6400  2    \n",
       "1613 2WetIndigenous Pathogen 8 22                     6/21/2018 6400  2    \n",
       "1614 2WetIndigenous Pathogen 8 22                     6/21/2018 6400  2    \n",
       "1615 2WetIndigenous Pathogen 8 22                     6/21/2018 6400  2    \n",
       "1616 2WetIndigenous Pathogen 8 22                     6/21/2018 6400  2    \n",
       "1617 2WetIndigenous Pathogen 8 22                     6/21/2018 6400  2    \n",
       "1618 2WetIndigenous Pathogen 8 22                     6/21/2018 6400  2    \n",
       "1619 2WetIndigenous Pathogen 8 22                     6/21/2018 6400  2    \n",
       "1620 2WetIndigenous Pathogen 8 22                     6/21/2018 6400  2    \n",
       "1621 2WetIndigenous Pathogen 9 13                     6/12/2018 6800  2    \n",
       "1622 2WetIndigenous Pathogen 9 13                     6/12/2018 6800  2    \n",
       "1623 2WetIndigenous Pathogen 9 13                     6/12/2018 6800  2    \n",
       "1624 2WetIndigenous Pathogen 9 13                     6/12/2018 6800  2    \n",
       "1625 2WetIndigenous Pathogen 9 13                     6/12/2018 6800  2    \n",
       "1626 2WetIndigenous Pathogen 9 13                     6/12/2018 6800  2    \n",
       "1627 2WetIndigenous Pathogen 9 13                     6/12/2018 6800  2    \n",
       "1628 2WetIndigenous Pathogen 9 13                     6/12/2018 6800  2    \n",
       "1629 2WetIndigenous Pathogen 9 13                     6/12/2018 6800  2    \n",
       "1630 2WetIndigenous Pathogen 9 13                     6/12/2018 6800  2    \n",
       "1631 2WetIndigenous Pathogen 9 35                     7/4/2018  6800  2    \n",
       "1632 2WetIndigenous Pathogen 9 35                     7/4/2018  6800  2    \n",
       "1633 2WetIndigenous Pathogen 9 35                     7/4/2018  6800  2    \n",
       "1634 2WetIndigenous Pathogen 9 35                     7/4/2018  6800  2    \n",
       "1635 2WetIndigenous Pathogen 9 35                     7/4/2018  6800  2    \n",
       "1636 2WetIndigenous Pathogen 9 35                     7/4/2018  6800  2    \n",
       "1637 2WetIndigenous Pathogen 9 35                     7/4/2018  6800  2    \n",
       "1638 2WetIndigenous Pathogen 9 35                     7/4/2018  6800  2    \n",
       "1639 2WetIndigenous Pathogen 9 35                     7/4/2018  6800  2    \n",
       "1640 2WetIndigenous Pathogen 9 35                     7/4/2018  6800  2    \n",
       "     Treatment Species             Plant Number Isolate Number\n",
       "1    Drought   Control              1            5            \n",
       "2    Drought   Control              1            5            \n",
       "3    Drought   Control              1            5            \n",
       "4    Drought   Control              1            5            \n",
       "5    Drought   Control              1            5            \n",
       "6    Drought   Control              1            5            \n",
       "7    Drought   Control              1            5            \n",
       "8    Drought   Control              1            5            \n",
       "9    Drought   Control              1            5            \n",
       "10   Drought   Control              1            5            \n",
       "11   Drought   Control              1            5            \n",
       "12   Drought   Control              1            5            \n",
       "13   Drought   Control              1            5            \n",
       "14   Drought   Control              1           NA            \n",
       "15   Drought   Control              1           NA            \n",
       "16   Drought   Control              1           NA            \n",
       "17   Drought   Control              1           NA            \n",
       "18   Drought   Control              1           NA            \n",
       "19   Drought   Control              1           NA            \n",
       "20   Drought   Control              1           NA            \n",
       "21   Drought   Control              1           NA            \n",
       "22   Drought   Control              1           NA            \n",
       "23   Drought   Control              1           NA            \n",
       "24   Drought   Control             10           NA            \n",
       "25   Drought   Control             10           NA            \n",
       "26   Drought   Control             10           NA            \n",
       "27   Drought   Control             10           NA            \n",
       "28   Drought   Control             10           NA            \n",
       "29   Drought   Control             10           NA            \n",
       "30   Drought   Control             10           NA            \n",
       "...  ...       ...                 ...          ...           \n",
       "1611 Wet       Indigenous Pathogen 8            4             \n",
       "1612 Wet       Indigenous Pathogen 8            4             \n",
       "1613 Wet       Indigenous Pathogen 8            4             \n",
       "1614 Wet       Indigenous Pathogen 8            4             \n",
       "1615 Wet       Indigenous Pathogen 8            4             \n",
       "1616 Wet       Indigenous Pathogen 8            4             \n",
       "1617 Wet       Indigenous Pathogen 8            4             \n",
       "1618 Wet       Indigenous Pathogen 8            4             \n",
       "1619 Wet       Indigenous Pathogen 8            4             \n",
       "1620 Wet       Indigenous Pathogen 8            4             \n",
       "1621 Wet       Indigenous Pathogen 9            5             \n",
       "1622 Wet       Indigenous Pathogen 9            5             \n",
       "1623 Wet       Indigenous Pathogen 9            5             \n",
       "1624 Wet       Indigenous Pathogen 9            5             \n",
       "1625 Wet       Indigenous Pathogen 9            5             \n",
       "1626 Wet       Indigenous Pathogen 9            5             \n",
       "1627 Wet       Indigenous Pathogen 9            5             \n",
       "1628 Wet       Indigenous Pathogen 9            5             \n",
       "1629 Wet       Indigenous Pathogen 9            5             \n",
       "1630 Wet       Indigenous Pathogen 9            5             \n",
       "1631 Wet       Indigenous Pathogen 9            5             \n",
       "1632 Wet       Indigenous Pathogen 9            5             \n",
       "1633 Wet       Indigenous Pathogen 9            5             \n",
       "1634 Wet       Indigenous Pathogen 9            5             \n",
       "1635 Wet       Indigenous Pathogen 9            5             \n",
       "1636 Wet       Indigenous Pathogen 9            5             \n",
       "1637 Wet       Indigenous Pathogen 9            5             \n",
       "1638 Wet       Indigenous Pathogen 9            5             \n",
       "1639 Wet       Indigenous Pathogen 9            5             \n",
       "1640 Wet       Indigenous Pathogen 9            5             \n",
       "     Unique Sample Number Obs Photosynthesis Conductance Ci      \n",
       "1     51                   1  0.7101345      0.005128090 174.1684\n",
       "2     51                  10  3.0909224      0.016987563 103.6757\n",
       "3     51                  11  2.8754158      0.017134086 126.0893\n",
       "4     51                  12  2.8534106      0.017291149 130.4522\n",
       "5     51                  13  2.9267403      0.017253899 122.9433\n",
       "6     51                   2  1.0517300      0.007082619 158.2148\n",
       "7     51                   3  1.5445176      0.008902013 118.3503\n",
       "8     51                   4  1.7659935      0.010729958 132.1754\n",
       "9     51                   5  1.7566293      0.011152041 143.3055\n",
       "10    51                   6  1.8235920      0.011220645 135.3768\n",
       "11    51                   7  2.2530887      0.013543805 128.9954\n",
       "12    51                   8  2.4239005      0.014046794 119.1012\n",
       "13    51                   9  2.6756389      0.015168355 112.7450\n",
       "14   146                   1  1.5643579      0.009917895 141.6251\n",
       "15   146                  10  1.7318566      0.012369166 168.8648\n",
       "16   146                   2  1.5872194      0.010007943 140.0375\n",
       "17   146                   3  1.6039999      0.011755385 174.8528\n",
       "18   146                   4  1.6325480      0.010298555 140.2241\n",
       "19   146                   5  1.6411578      0.011254403 160.1849\n",
       "20   146                   6  1.7076608      0.010394063 130.9391\n",
       "21   146                   7  1.7179168      0.010495802 131.6998\n",
       "22   146                   8  1.7104737      0.011769410 160.2764\n",
       "23   146                   9  1.7340984      0.012962028 178.7218\n",
       "24   128                   1  0.3439647      0.005115273 287.4640\n",
       "25   128                  10  0.7097892      0.006547640 221.3251\n",
       "26   128                   2  0.3666868      0.005636363 290.5903\n",
       "27   128                   3  0.3805263      0.003739980 232.8044\n",
       "28   128                   4  0.3760088      0.004005650 245.2151\n",
       "29   128                   5  0.4492533      0.004145141 222.2480\n",
       "30   128                   6  0.5019352      0.004717970 225.2484\n",
       "...  ...                  ... ...            ...         ...     \n",
       "1611  39                  10  12.224514      0.1453931   249.3111\n",
       "1612  39                  11  12.399245      0.1446885   246.6824\n",
       "1613  39                   2  11.777184      0.1342671   245.0808\n",
       "1614  39                   3  11.547644      0.1403068   253.3995\n",
       "1615  39                   4  11.846624      0.1407115   249.7919\n",
       "1616  39                   5  11.996155      0.1419621   249.2086\n",
       "1617  39                   6  12.047185      0.1428992   249.3537\n",
       "1618  39                   7  12.142575      0.1441577   249.1564\n",
       "1619  39                   8  12.088335      0.1447279   250.2296\n",
       "1620  39                   9  12.058912      0.1425130   248.4752\n",
       "1621 130                   1   6.986728      0.1177557   284.5652\n",
       "1622 130                  10   7.228201      0.1415316   296.7663\n",
       "1623 130                   2   7.031063      0.1216893   286.7584\n",
       "1624 130                   3   7.065816      0.1271616   290.1895\n",
       "1625 130                   4   7.076819      0.1268525   289.8431\n",
       "1626 130                   5   7.116328      0.1250420   287.8437\n",
       "1627 130                   6   7.163231      0.1282970   289.3907\n",
       "1628 130                   7   7.158871      0.1302810   290.9428\n",
       "1629 130                   8   7.175525      0.1314749   291.4633\n",
       "1630 130                   9   7.201364      0.1303278   290.2549\n",
       "1631  94                   1   8.649223      0.1516414   283.1814\n",
       "1632  94                  10   8.921730      0.1588478   283.4602\n",
       "1633  94                   2   8.683033      0.1547970   284.3892\n",
       "1634  94                   3   8.657354      0.1511889   282.7853\n",
       "1635  94                   4   8.720225      0.1514785   282.1520\n",
       "1636  94                   5   8.800167      0.1518936   281.3487\n",
       "1637  94                   6   8.830209      0.1538539   282.1423\n",
       "1638  94                   7   8.879089      0.1460335   275.9352\n",
       "1639  94                   8   8.921487      0.1623246   285.2202\n",
       "1640  94                   9   8.860731      0.1550579   282.4953"
      ]
     },
     "metadata": {},
     "output_type": "display_data"
    }
   ],
   "source": [
    "data_filtered<- combined_data %>% \n",
    "filter(Photosynthesis <200 & Species !=\"Both Pathogens\")\n",
    "\n",
    "summary(data_filtered$Species)\n",
    "\n",
    "data_filtered"
   ]
  },
  {
   "cell_type": "code",
   "execution_count": 15,
   "metadata": {},
   "outputs": [
    {
     "data": {
      "image/png": "[encoded data removed]",
      "text/plain": [
       "plot without title"
      ]
     },
     "metadata": {},
     "output_type": "display_data"
    }
   ],
   "source": [
    "data_filtered %>% \n",
    "ggplot()+\n",
    "geom_boxplot(aes(x=Species, y=Photosynthesis, fill=Species))+\n",
    "theme_classic()"
   ]
  },
  {
   "cell_type": "markdown",
   "metadata": {},
   "source": [
    "<div class=\"Q\"><br><br>\n",
    "\n",
    "What does `!=` in the `select()` funtion mean?\n",
    "    \n",
    "ANSWER to be removed in final iteration: Not equal to <br><br>\n",
    "\n",
    "<br><br><div class=\"qhelp\"></div></div>"
   ]
  },
  {
   "cell_type": "markdown",
   "metadata": {},
   "source": [
    "<br><br><br>\n",
    "<div class=\"startTASK\"></div>\n",
    "\n",
    "Create a dataset called `male_fox_data` wherein only data from male foxes are included.\n",
    "\n",
    "<div class=\"endTASK\"></div>\n",
    "<br><br><br>"
   ]
  },
  {
   "cell_type": "markdown",
   "metadata": {},
   "source": [
    "<div class=\"Q\"><br><br>\n",
    "\n",
    "How many rows does `male_fox_data` have?\n",
    "    \n",
    "ANSWER to be removed in final iteration: 15 <br><br>\n",
    "\n",
    "<br><br><div class=\"qhelp\"></div></div>"
   ]
  },
  {
   "cell_type": "markdown",
   "metadata": {},
   "source": [
    "_________________________________________________________________________\n",
    "\n",
    "# Reshaping your dataframe with **pivot_longer** and **pivot_wider()**\n",
    "\n",
    "Useful links:\n",
    "\n",
    "1. [Pivot tutorial](https://tidyr.tidyverse.org/articles/pivot.html)\n",
    "1. [pivot_longer](https://rdrr.io/github/tidyverse/tidyr/man/pivot_longer.html)\n",
    "1. [pivot_wider](https://tidyr.tidyverse.org/reference/pivot_wider.html)\n",
    "\n",
    "Sometimes you may need to alter the layout of tabluar datasets while preserving the values and relationships contained within. This can also be very useful when plotting data from very large datasets with multiple columns. You may have heard of `spread()` and `gather()`. These are functions with similar but more limited functionality and were replaced by `pivot_wider()` and `pivot_longer()`.\n",
    "\n",
    "## pivot_wider\n",
    "\n",
    "**pivot_wider** moves rows into columns (long to wide format)\n",
    "\n",
    "Let's use `pivot_wider()` to turn Species factors into column names by changing the dataset from long to wide format."
   ]
  },
  {
   "cell_type": "code",
   "execution_count": 30,
   "metadata": {},
   "outputs": [
    {
     "data": {
      "text/html": [
       "<table>\n",
       "<thead><tr><th scope=col>Sample type</th><th scope=col>Date</th><th scope=col>Control</th><th scope=col>Exotic Pathogen</th><th scope=col>Indigenous Pathogen</th></tr></thead>\n",
       "<tbody>\n",
       "\t<tr><td>1DroughtControl1 </td><td>6/21/2018        </td><td>0.7101345        </td><td>NA               </td><td>NA               </td></tr>\n",
       "\t<tr><td>1DroughtControl1 </td><td>6/8/2018         </td><td>1.5643579        </td><td>NA               </td><td>NA               </td></tr>\n",
       "\t<tr><td>1DroughtControl10</td><td>6/12/2018        </td><td>0.3439647        </td><td>NA               </td><td>NA               </td></tr>\n",
       "\t<tr><td>1DroughtControl10</td><td>7/4/2018         </td><td>0.4086491        </td><td>NA               </td><td>NA               </td></tr>\n",
       "</tbody>\n",
       "</table>\n"
      ],
      "text/latex": [
       "\\begin{tabular}{r|lllll}\n",
       " Sample type & Date & Control & Exotic Pathogen & Indigenous Pathogen\\\\\n",
       "\\hline\n",
       "\t 1DroughtControl1  & 6/21/2018         & 0.7101345         & NA                & NA               \\\\\n",
       "\t 1DroughtControl1  & 6/8/2018          & 1.5643579         & NA                & NA               \\\\\n",
       "\t 1DroughtControl10 & 6/12/2018         & 0.3439647         & NA                & NA               \\\\\n",
       "\t 1DroughtControl10 & 7/4/2018          & 0.4086491         & NA                & NA               \\\\\n",
       "\\end{tabular}\n"
      ],
      "text/markdown": [
       "\n",
       "| Sample type | Date | Control | Exotic Pathogen | Indigenous Pathogen |\n",
       "|---|---|---|---|---|\n",
       "| 1DroughtControl1  | 6/21/2018         | 0.7101345         | NA                | NA                |\n",
       "| 1DroughtControl1  | 6/8/2018          | 1.5643579         | NA                | NA                |\n",
       "| 1DroughtControl10 | 6/12/2018         | 0.3439647         | NA                | NA                |\n",
       "| 1DroughtControl10 | 7/4/2018          | 0.4086491         | NA                | NA                |\n",
       "\n"
      ],
      "text/plain": [
       "  Sample type       Date      Control   Exotic Pathogen Indigenous Pathogen\n",
       "1 1DroughtControl1  6/21/2018 0.7101345 NA              NA                 \n",
       "2 1DroughtControl1  6/8/2018  1.5643579 NA              NA                 \n",
       "3 1DroughtControl10 6/12/2018 0.3439647 NA              NA                 \n",
       "4 1DroughtControl10 7/4/2018  0.4086491 NA              NA                 "
      ]
     },
     "metadata": {},
     "output_type": "display_data"
    }
   ],
   "source": [
    "data_wide<-data_filtered  %>% \n",
    "filter(Treatment==\"Drought\", Obs==1) %>% \n",
    "select(Species, `Sample type`, Date, Photosynthesis) %>% \n",
    "pivot_wider(names_from=\"Species\", values_from=\"Photosynthesis\") \n",
    "\n",
    "data_wide %>% \n",
    "head(4)"
   ]
  },
  {
   "cell_type": "markdown",
   "metadata": {},
   "source": [
    "## pivot_longer\n",
    "\n",
    "In this situation we are gathering the column names and turning them into a pair of new variables. One variable represents the column names as values, and the other variable contains the values previously associated with the column names.\n",
    "\n",
    "**pivot_longer** moves columns into rows (wide to long format). `pivot_longer` takes several arguements but the most important ones for this exercise are `names_to` and `values_to`. `names_to` creates a new classifier/criteria column, taking arguements from your column names. `values_to` takes values from those columns and creates a new column of values classfied by the factors created by `names_to`.\n",
    "\n",
    "Let's use `pivot_longer` to transform `data_wide` back into `data_filtered`."
   ]
  },
  {
   "cell_type": "code",
   "execution_count": 44,
   "metadata": {},
   "outputs": [
    {
     "data": {
      "text/html": [
       "<table>\n",
       "<thead><tr><th scope=col>Sample type</th><th scope=col>Date</th><th scope=col>Species</th><th scope=col>Photosynthesis</th></tr></thead>\n",
       "<tbody>\n",
       "\t<tr><td>1DroughtControl1 </td><td>6/21/2018        </td><td>Control          </td><td>0.7101345        </td></tr>\n",
       "\t<tr><td>1DroughtControl1 </td><td>6/8/2018         </td><td>Control          </td><td>1.5643579        </td></tr>\n",
       "\t<tr><td>1DroughtControl10</td><td>6/12/2018        </td><td>Control          </td><td>0.3439647        </td></tr>\n",
       "\t<tr><td>1DroughtControl10</td><td>7/4/2018         </td><td>Control          </td><td>0.4086491        </td></tr>\n",
       "</tbody>\n",
       "</table>\n"
      ],
      "text/latex": [
       "\\begin{tabular}{r|llll}\n",
       " Sample type & Date & Species & Photosynthesis\\\\\n",
       "\\hline\n",
       "\t 1DroughtControl1  & 6/21/2018         & Control           & 0.7101345        \\\\\n",
       "\t 1DroughtControl1  & 6/8/2018          & Control           & 1.5643579        \\\\\n",
       "\t 1DroughtControl10 & 6/12/2018         & Control           & 0.3439647        \\\\\n",
       "\t 1DroughtControl10 & 7/4/2018          & Control           & 0.4086491        \\\\\n",
       "\\end{tabular}\n"
      ],
      "text/markdown": [
       "\n",
       "| Sample type | Date | Species | Photosynthesis |\n",
       "|---|---|---|---|\n",
       "| 1DroughtControl1  | 6/21/2018         | Control           | 0.7101345         |\n",
       "| 1DroughtControl1  | 6/8/2018          | Control           | 1.5643579         |\n",
       "| 1DroughtControl10 | 6/12/2018         | Control           | 0.3439647         |\n",
       "| 1DroughtControl10 | 7/4/2018          | Control           | 0.4086491         |\n",
       "\n"
      ],
      "text/plain": [
       "  Sample type       Date      Species Photosynthesis\n",
       "1 1DroughtControl1  6/21/2018 Control 0.7101345     \n",
       "2 1DroughtControl1  6/8/2018  Control 1.5643579     \n",
       "3 1DroughtControl10 6/12/2018 Control 0.3439647     \n",
       "4 1DroughtControl10 7/4/2018  Control 0.4086491     "
      ]
     },
     "metadata": {},
     "output_type": "display_data"
    }
   ],
   "source": [
    "data_wide %>%\n",
    "pivot_longer(names_to=\"Species\", values_to=\"Photosynthesis\", values_drop_na = TRUE, !`Sample type`:Date) %>% \n",
    "head(4)"
   ]
  },
  {
   "cell_type": "markdown",
   "metadata": {},
   "source": [
    "\n",
    "# Nested functions vs Pipes\n",
    "\n",
    "What if you want to select and filter at the same time? There are three ways to do this: use intermediate steps, nested functions, or pipes.\n",
    "\n",
    "What if we wanted to select only Sample type, Photosynthesis and Conductance from the Control and Indigenous Pathogen Species? We could create multiple objects.\n",
    "\n",
    "We can use `%in%` with `select()`to specify a list of paramters/levels we want to keep."
   ]
  },
  {
   "cell_type": "code",
   "execution_count": 73,
   "metadata": {},
   "outputs": [
    {
     "data": {
      "text/html": [
       "<table>\n",
       "<thead><tr><th scope=col>Sample type</th><th scope=col>Species</th><th scope=col>Photosynthesis</th><th scope=col>Conductance</th></tr></thead>\n",
       "<tbody>\n",
       "\t<tr><td>1DroughtControl1</td><td>Control         </td><td>0.7101345       </td><td>0.00512809      </td></tr>\n",
       "\t<tr><td>1DroughtControl1</td><td>Control         </td><td>3.0909224       </td><td>0.01698756      </td></tr>\n",
       "\t<tr><td>1DroughtControl1</td><td>Control         </td><td>2.8754158       </td><td>0.01713409      </td></tr>\n",
       "\t<tr><td>1DroughtControl1</td><td>Control         </td><td>2.8534106       </td><td>0.01729115      </td></tr>\n",
       "</tbody>\n",
       "</table>\n"
      ],
      "text/latex": [
       "\\begin{tabular}{r|llll}\n",
       " Sample type & Species & Photosynthesis & Conductance\\\\\n",
       "\\hline\n",
       "\t 1DroughtControl1 & Control          & 0.7101345        & 0.00512809      \\\\\n",
       "\t 1DroughtControl1 & Control          & 3.0909224        & 0.01698756      \\\\\n",
       "\t 1DroughtControl1 & Control          & 2.8754158        & 0.01713409      \\\\\n",
       "\t 1DroughtControl1 & Control          & 2.8534106        & 0.01729115      \\\\\n",
       "\\end{tabular}\n"
      ],
      "text/markdown": [
       "\n",
       "| Sample type | Species | Photosynthesis | Conductance |\n",
       "|---|---|---|---|\n",
       "| 1DroughtControl1 | Control          | 0.7101345        | 0.00512809       |\n",
       "| 1DroughtControl1 | Control          | 3.0909224        | 0.01698756       |\n",
       "| 1DroughtControl1 | Control          | 2.8754158        | 0.01713409       |\n",
       "| 1DroughtControl1 | Control          | 2.8534106        | 0.01729115       |\n",
       "\n"
      ],
      "text/plain": [
       "  Sample type      Species Photosynthesis Conductance\n",
       "1 1DroughtControl1 Control 0.7101345      0.00512809 \n",
       "2 1DroughtControl1 Control 3.0909224      0.01698756 \n",
       "3 1DroughtControl1 Control 2.8754158      0.01713409 \n",
       "4 1DroughtControl1 Control 2.8534106      0.01729115 "
      ]
     },
     "metadata": {},
     "output_type": "display_data"
    }
   ],
   "source": [
    "#Creates a new data frame with rows containing only data from Indigenous Pathogen and Control Species\n",
    "species_filtered <- filter(data_filtered, Species %in% c(\"Indigenous Pathogen\", \"Control\")) \n",
    "\n",
    "#Then only selects the columns \"Sample type\", Species,Photosynthesis, Conductance)  \n",
    " species_sml<- select(species_filtered, `Sample type`, Species, Photosynthesis, Conductance)\n",
    "\n",
    "#inspect new dataframe\n",
    "\n",
    "species_sml %>% \n",
    "head(4)"
   ]
  },
  {
   "cell_type": "markdown",
   "metadata": {},
   "source": [
    "This is readable, but is clunky and can clutter up your workspace with lots of small objects that youd have to keep track of.\n",
    "\n",
    "Another method would be to nest functions (i.e. one function inside of another), like this:"
   ]
  },
  {
   "cell_type": "code",
   "execution_count": 69,
   "metadata": {},
   "outputs": [
    {
     "data": {
      "text/html": [
       "<table>\n",
       "<thead><tr><th scope=col>Sample type</th><th scope=col>Species</th><th scope=col>Photosynthesis</th><th scope=col>Conductance</th></tr></thead>\n",
       "<tbody>\n",
       "\t<tr><td>1DroughtControl1</td><td>Control         </td><td>0.7101345       </td><td>0.00512809      </td></tr>\n",
       "\t<tr><td>1DroughtControl1</td><td>Control         </td><td>3.0909224       </td><td>0.01698756      </td></tr>\n",
       "\t<tr><td>1DroughtControl1</td><td>Control         </td><td>2.8754158       </td><td>0.01713409      </td></tr>\n",
       "\t<tr><td>1DroughtControl1</td><td>Control         </td><td>2.8534106       </td><td>0.01729115      </td></tr>\n",
       "</tbody>\n",
       "</table>\n"
      ],
      "text/latex": [
       "\\begin{tabular}{r|llll}\n",
       " Sample type & Species & Photosynthesis & Conductance\\\\\n",
       "\\hline\n",
       "\t 1DroughtControl1 & Control          & 0.7101345        & 0.00512809      \\\\\n",
       "\t 1DroughtControl1 & Control          & 3.0909224        & 0.01698756      \\\\\n",
       "\t 1DroughtControl1 & Control          & 2.8754158        & 0.01713409      \\\\\n",
       "\t 1DroughtControl1 & Control          & 2.8534106        & 0.01729115      \\\\\n",
       "\\end{tabular}\n"
      ],
      "text/markdown": [
       "\n",
       "| Sample type | Species | Photosynthesis | Conductance |\n",
       "|---|---|---|---|\n",
       "| 1DroughtControl1 | Control          | 0.7101345        | 0.00512809       |\n",
       "| 1DroughtControl1 | Control          | 3.0909224        | 0.01698756       |\n",
       "| 1DroughtControl1 | Control          | 2.8754158        | 0.01713409       |\n",
       "| 1DroughtControl1 | Control          | 2.8534106        | 0.01729115       |\n",
       "\n"
      ],
      "text/plain": [
       "  Sample type      Species Photosynthesis Conductance\n",
       "1 1DroughtControl1 Control 0.7101345      0.00512809 \n",
       "2 1DroughtControl1 Control 3.0909224      0.01698756 \n",
       "3 1DroughtControl1 Control 2.8754158      0.01713409 \n",
       "4 1DroughtControl1 Control 2.8534106      0.01729115 "
      ]
     },
     "metadata": {},
     "output_type": "display_data"
    }
   ],
   "source": [
    "species_sml <- select(filter(data_filtered, Species %in% c(\"Indigenous Pathogen\", \"Control\")),\n",
    "                      `Sample type`, Species, Photosynthesis, Conductance)\n",
    "\n",
    "species_sml %>% \n",
    "head(4)"
   ]
  },
  {
   "cell_type": "markdown",
   "metadata": {},
   "source": [
    "R evaluates the expression from the inside out (in this case, filtering, then selecting). **I would avoid this method since it makes debugging your code a nightmare!**\n",
    "\n",
    "A better method is to use pipes. Pipes let you take the output of one function and send it directly to the next, which is useful when you need to do many things to the same dataset. Pipes in R look like `%>%` and are made available via the `magrittr` package, installed automatically with `dplyr`. \n",
    "\n",
    "If you use RStudio, you can type the pipe with `Ctrl + Shift + M` if you have a PC or `Cmd + Shift + M` if you have a Mac.\n",
    "\n",
    "We will re-create the `species_sml` dataset using pipes. First, we want to filter data from the `data_filtered` dataset, keeping rows where Species is either \"Indigenous Pathogen\" or \"control\", then select only the Sample type, Species, Photosynthesis, Conductance columns. We will use the pipe to send the `cdata_filtered` dataset through the `filter()` then `select()` functions. "
   ]
  },
  {
   "cell_type": "code",
   "execution_count": 71,
   "metadata": {},
   "outputs": [
    {
     "data": {
      "text/html": [
       "<table>\n",
       "<thead><tr><th scope=col>Sample type</th><th scope=col>Species</th><th scope=col>Photosynthesis</th><th scope=col>Conductance</th></tr></thead>\n",
       "<tbody>\n",
       "\t<tr><td>1DroughtControl1</td><td>Control         </td><td>0.7101345       </td><td>0.00512809      </td></tr>\n",
       "\t<tr><td>1DroughtControl1</td><td>Control         </td><td>3.0909224       </td><td>0.01698756      </td></tr>\n",
       "\t<tr><td>1DroughtControl1</td><td>Control         </td><td>2.8754158       </td><td>0.01713409      </td></tr>\n",
       "\t<tr><td>1DroughtControl1</td><td>Control         </td><td>2.8534106       </td><td>0.01729115      </td></tr>\n",
       "</tbody>\n",
       "</table>\n"
      ],
      "text/latex": [
       "\\begin{tabular}{r|llll}\n",
       " Sample type & Species & Photosynthesis & Conductance\\\\\n",
       "\\hline\n",
       "\t 1DroughtControl1 & Control          & 0.7101345        & 0.00512809      \\\\\n",
       "\t 1DroughtControl1 & Control          & 3.0909224        & 0.01698756      \\\\\n",
       "\t 1DroughtControl1 & Control          & 2.8754158        & 0.01713409      \\\\\n",
       "\t 1DroughtControl1 & Control          & 2.8534106        & 0.01729115      \\\\\n",
       "\\end{tabular}\n"
      ],
      "text/markdown": [
       "\n",
       "| Sample type | Species | Photosynthesis | Conductance |\n",
       "|---|---|---|---|\n",
       "| 1DroughtControl1 | Control          | 0.7101345        | 0.00512809       |\n",
       "| 1DroughtControl1 | Control          | 3.0909224        | 0.01698756       |\n",
       "| 1DroughtControl1 | Control          | 2.8754158        | 0.01713409       |\n",
       "| 1DroughtControl1 | Control          | 2.8534106        | 0.01729115       |\n",
       "\n"
      ],
      "text/plain": [
       "  Sample type      Species Photosynthesis Conductance\n",
       "1 1DroughtControl1 Control 0.7101345      0.00512809 \n",
       "2 1DroughtControl1 Control 3.0909224      0.01698756 \n",
       "3 1DroughtControl1 Control 2.8754158      0.01713409 \n",
       "4 1DroughtControl1 Control 2.8534106      0.01729115 "
      ]
     },
     "metadata": {},
     "output_type": "display_data"
    }
   ],
   "source": [
    "species_sml<-data_filtered %>%\n",
    "  filter(Species %in% c(\"Indigenous Pathogen\", \"Control\")) %>% \n",
    "  select(`Sample type`, Species, Photosynthesis, Conductance)  \n",
    "\n",
    "species_sml %>% \n",
    "head(4)"
   ]
  },
  {
   "cell_type": "code",
   "execution_count": 72,
   "metadata": {},
   "outputs": [
    {
     "data": {
      "image/png": "[encoded data removed]",
      "text/plain": [
       "plot without title"
      ]
     },
     "metadata": {},
     "output_type": "display_data"
    }
   ],
   "source": [
    "species_sml %>% \n",
    "ggplot()+\n",
    "geom_boxplot(aes(x=Species, y=Photosynthesis, fill=Species))+\n",
    "theme_classic()"
   ]
  },
  {
   "cell_type": "markdown",
   "metadata": {},
   "source": [
    "Since `%>%` takes the object on its left and passes it as the first argument to the function on its right, we don't need to explicitly include the data frame as an argument to the `filter()` and `select()` functions any more.\n"
   ]
  },
  {
   "cell_type": "markdown",
   "metadata": {},
   "source": [
    "<br><br><br>\n",
    "<div class=\"startTASK\"></div>\n",
    "\n",
    "Using the `fox_data` dataset, create a new object `fox_data_cleaned` that contains only the columns ID, Sex, avfood, from female foxes only.\n",
    "<div class=\"endTASK\"></div>\n",
    "<br><br><br>"
   ]
  },
  {
   "cell_type": "markdown",
   "metadata": {},
   "source": [
    "<div class=\"Q\"><br><br>\n",
    "\n",
    "How many rows are there in `fox_data_cleaned`?\n",
    "    \n",
    "ANSWER to be removed in final iteration: 15 <br><br>\n",
    "    \n",
    "<br><br><div class=\"qhelp\"></div></div>"
   ]
  },
  {
   "cell_type": "markdown",
   "metadata": {},
   "source": [
    "_______________________________________________________________________________________________\n",
    "\n",
    "# Mutate\n",
    "\n",
    "We can use `mutate()` to create new columns based on the values in existing columns, for example to do unit conversions, or to find the ratio of values in two columns.\n",
    "\n",
    "For example, we can convert Photosynthesis oxygen measurements from mg/L to ug/L by creating a new column called `Photosynthesis_ppb`"
   ]
  },
  {
   "cell_type": "code",
   "execution_count": 80,
   "metadata": {},
   "outputs": [
    {
     "data": {
      "text/html": [
       "<table>\n",
       "<thead><tr><th scope=col>Sample type</th><th scope=col>Photosynthesis</th><th scope=col>Photosynthesis_ppb</th></tr></thead>\n",
       "<tbody>\n",
       "\t<tr><td>1DroughtControl1</td><td>0.7101345       </td><td> 710.1345       </td></tr>\n",
       "\t<tr><td>1DroughtControl1</td><td>3.0909224       </td><td>3090.9224       </td></tr>\n",
       "\t<tr><td>1DroughtControl1</td><td>2.8754158       </td><td>2875.4158       </td></tr>\n",
       "\t<tr><td>1DroughtControl1</td><td>2.8534106       </td><td>2853.4106       </td></tr>\n",
       "</tbody>\n",
       "</table>\n"
      ],
      "text/latex": [
       "\\begin{tabular}{r|lll}\n",
       " Sample type & Photosynthesis & Photosynthesis\\_ppb\\\\\n",
       "\\hline\n",
       "\t 1DroughtControl1 & 0.7101345        &  710.1345       \\\\\n",
       "\t 1DroughtControl1 & 3.0909224        & 3090.9224       \\\\\n",
       "\t 1DroughtControl1 & 2.8754158        & 2875.4158       \\\\\n",
       "\t 1DroughtControl1 & 2.8534106        & 2853.4106       \\\\\n",
       "\\end{tabular}\n"
      ],
      "text/markdown": [
       "\n",
       "| Sample type | Photosynthesis | Photosynthesis_ppb |\n",
       "|---|---|---|\n",
       "| 1DroughtControl1 | 0.7101345        |  710.1345        |\n",
       "| 1DroughtControl1 | 3.0909224        | 3090.9224        |\n",
       "| 1DroughtControl1 | 2.8754158        | 2875.4158        |\n",
       "| 1DroughtControl1 | 2.8534106        | 2853.4106        |\n",
       "\n"
      ],
      "text/plain": [
       "  Sample type      Photosynthesis Photosynthesis_ppb\n",
       "1 1DroughtControl1 0.7101345       710.1345         \n",
       "2 1DroughtControl1 3.0909224      3090.9224         \n",
       "3 1DroughtControl1 2.8754158      2875.4158         \n",
       "4 1DroughtControl1 2.8534106      2853.4106         "
      ]
     },
     "metadata": {},
     "output_type": "display_data"
    }
   ],
   "source": [
    "data_filtered %>%\n",
    "  mutate(Photosynthesis_ppb = Photosynthesis*1000) %>% \n",
    "select(`Sample type`, Photosynthesis, Photosynthesis_ppb) %>% \n",
    "head(4)"
   ]
  },
  {
   "cell_type": "code",
   "execution_count": null,
   "metadata": {},
   "outputs": [],
   "source": [
    "We can also use mutate to change variable level names."
   ]
  },
  {
   "cell_type": "code",
   "execution_count": 124,
   "metadata": {},
   "outputs": [
    {
     "data": {
      "text/html": [
       "<ol class=list-inline>\n",
       "\t<li>'Control'</li>\n",
       "\t<li>'P.Cinnamomi'</li>\n",
       "\t<li>'P.Multivora'</li>\n",
       "</ol>\n"
      ],
      "text/latex": [
       "\\begin{enumerate*}\n",
       "\\item 'Control'\n",
       "\\item 'P.Cinnamomi'\n",
       "\\item 'P.Multivora'\n",
       "\\end{enumerate*}\n"
      ],
      "text/markdown": [
       "1. 'Control'\n",
       "2. 'P.Cinnamomi'\n",
       "3. 'P.Multivora'\n",
       "\n",
       "\n"
      ],
      "text/plain": [
       "[1] \"Control\"     \"P.Cinnamomi\" \"P.Multivora\""
      ]
     },
     "metadata": {},
     "output_type": "display_data"
    }
   ],
   "source": [
    "change_lables<-data_filtered %>%\n",
    "mutate(Species=factor(Species,\n",
    "                     levels=c(\"Control\", \"Exotic Pathogen\",\"Indigenous Pathogen\"),\n",
    "                     labels =c(\"Control\", \"P.Cinnamomi\", \"P.Multivora\")))\n",
    "\n",
    "levels(change_lables$Species)"
   ]
  },
  {
   "cell_type": "markdown",
   "metadata": {},
   "source": [
    "We can also use `mutate()` to change variable types. Here, we will convert some variables from character to factors. We can use the function `sapply()` to see the column variable classes"
   ]
  },
  {
   "cell_type": "code",
   "execution_count": 142,
   "metadata": {},
   "outputs": [
    {
     "data": {
      "text/html": [
       "<dl class=dl-horizontal>\n",
       "\t<dt>Sample type</dt>\n",
       "\t\t<dd>'factor'</dd>\n",
       "\t<dt>Days after inoculation</dt>\n",
       "\t\t<dd>'factor'</dd>\n",
       "\t<dt>Date</dt>\n",
       "\t\t<dd>'character'</dd>\n",
       "\t<dt>Licor</dt>\n",
       "\t\t<dd>'numeric'</dd>\n",
       "\t<dt>Trial</dt>\n",
       "\t\t<dd>'factor'</dd>\n",
       "\t<dt>Treatment</dt>\n",
       "\t\t<dd>'factor'</dd>\n",
       "\t<dt>Species</dt>\n",
       "\t\t<dd>'factor'</dd>\n",
       "\t<dt>Plant Number</dt>\n",
       "\t\t<dd>'numeric'</dd>\n",
       "\t<dt>Isolate Number</dt>\n",
       "\t\t<dd>'numeric'</dd>\n",
       "\t<dt>Unique Sample Number</dt>\n",
       "\t\t<dd>'numeric'</dd>\n",
       "\t<dt>Obs</dt>\n",
       "\t\t<dd>'numeric'</dd>\n",
       "\t<dt>Photosynthesis</dt>\n",
       "\t\t<dd>'numeric'</dd>\n",
       "\t<dt>Conductance</dt>\n",
       "\t\t<dd>'numeric'</dd>\n",
       "\t<dt>Ci</dt>\n",
       "\t\t<dd>'numeric'</dd>\n",
       "</dl>\n"
      ],
      "text/latex": [
       "\\begin{description*}\n",
       "\\item[Sample type] 'factor'\n",
       "\\item[Days after inoculation] 'factor'\n",
       "\\item[Date] 'character'\n",
       "\\item[Licor] 'numeric'\n",
       "\\item[Trial] 'factor'\n",
       "\\item[Treatment] 'factor'\n",
       "\\item[Species] 'factor'\n",
       "\\item[Plant Number] 'numeric'\n",
       "\\item[Isolate Number] 'numeric'\n",
       "\\item[Unique Sample Number] 'numeric'\n",
       "\\item[Obs] 'numeric'\n",
       "\\item[Photosynthesis] 'numeric'\n",
       "\\item[Conductance] 'numeric'\n",
       "\\item[Ci] 'numeric'\n",
       "\\end{description*}\n"
      ],
      "text/markdown": [
       "Sample type\n",
       ":   'factor'Days after inoculation\n",
       ":   'factor'Date\n",
       ":   'character'Licor\n",
       ":   'numeric'Trial\n",
       ":   'factor'Treatment\n",
       ":   'factor'Species\n",
       ":   'factor'Plant Number\n",
       ":   'numeric'Isolate Number\n",
       ":   'numeric'Unique Sample Number\n",
       ":   'numeric'Obs\n",
       ":   'numeric'Photosynthesis\n",
       ":   'numeric'Conductance\n",
       ":   'numeric'Ci\n",
       ":   'numeric'\n",
       "\n"
      ],
      "text/plain": [
       "           Sample type Days after inoculation                   Date \n",
       "              \"factor\"               \"factor\"            \"character\" \n",
       "                 Licor                  Trial              Treatment \n",
       "             \"numeric\"               \"factor\"               \"factor\" \n",
       "               Species           Plant Number         Isolate Number \n",
       "              \"factor\"              \"numeric\"              \"numeric\" \n",
       "  Unique Sample Number                    Obs         Photosynthesis \n",
       "             \"numeric\"              \"numeric\"              \"numeric\" \n",
       "           Conductance                     Ci \n",
       "             \"numeric\"              \"numeric\" "
      ]
     },
     "metadata": {},
     "output_type": "display_data"
    }
   ],
   "source": [
    "data_filtered<-data_filtered %>% \n",
    "mutate(`Sample type`= factor(`Sample type`),\n",
    "      Trial = factor(Trial),\n",
    "      Treatment = factor(Treatment),\n",
    "      Species = factor(Species),\n",
    "      `Days after inoculation`=factor(`Days after inoculation`))\n",
    "\n",
    "sapply(data_filtered,class)"
   ]
  },
  {
   "cell_type": "markdown",
   "metadata": {},
   "source": [
    "<br><br><br>\n",
    "<div class=\"startTASK\"></div>\n",
    "\n",
    "In fox_data, create a new column called 'Consumption' which will contain values of avfood divided by weight\n",
    "i.e Consumption =avfood/weight\n",
    "\n",
    "<div class=\"endTASK\"></div>\n",
    "<br><br><br>"
   ]
  },
  {
   "cell_type": "markdown",
   "metadata": {},
   "source": [
    "_______________________________________________________________________________________________\n",
    "\n",
    "# Split-apply-combine data analysis and the summarize() function\n",
    "\n",
    "Many data analysis tasks can be approached using the split-apply-combine paradigm: \n",
    "\n",
    "1. split the data into groups \n",
    "1. apply some analysis to each group\n",
    "1. combine the results. \n",
    "\n",
    "dplyr makes this very easy through the use of the `group_by()` function. `group_by()` is often used together with `summarize()`, which collapses each group into a single-row summary of that group. `group_by()` takes as arguments the column names that contain the categorical variables for which you want to calculate the summary statistics. \n",
    "\n",
    "In the example below, we compute the mean and standard deviation of Photosynthesis measurements by Treatment."
   ]
  },
  {
   "cell_type": "code",
   "execution_count": 83,
   "metadata": {},
   "outputs": [
    {
     "name": "stderr",
     "output_type": "stream",
     "text": [
      "`summarise()` ungrouping output (override with `.groups` argument)\n"
     ]
    },
    {
     "data": {
      "text/html": [
       "<table>\n",
       "<thead><tr><th scope=col>Treatment</th><th scope=col>average</th><th scope=col>dev</th></tr></thead>\n",
       "<tbody>\n",
       "\t<tr><td>Drought </td><td>1.232575</td><td>2.488081</td></tr>\n",
       "\t<tr><td>Wet     </td><td>5.918684</td><td>3.682469</td></tr>\n",
       "</tbody>\n",
       "</table>\n"
      ],
      "text/latex": [
       "\\begin{tabular}{r|lll}\n",
       " Treatment & average & dev\\\\\n",
       "\\hline\n",
       "\t Drought  & 1.232575 & 2.488081\\\\\n",
       "\t Wet      & 5.918684 & 3.682469\\\\\n",
       "\\end{tabular}\n"
      ],
      "text/markdown": [
       "\n",
       "| Treatment | average | dev |\n",
       "|---|---|---|\n",
       "| Drought  | 1.232575 | 2.488081 |\n",
       "| Wet      | 5.918684 | 3.682469 |\n",
       "\n"
      ],
      "text/plain": [
       "  Treatment average  dev     \n",
       "1 Drought   1.232575 2.488081\n",
       "2 Wet       5.918684 3.682469"
      ]
     },
     "metadata": {},
     "output_type": "display_data"
    }
   ],
   "source": [
    "data_filtered %>% \n",
    "group_by(Treatment) %>% \n",
    "summarize(average=mean(Photosynthesis),\n",
    "        dev=sd(Photosynthesis))"
   ]
  },
  {
   "cell_type": "markdown",
   "metadata": {},
   "source": [
    "<div class=\"Q\"><br><br>\n",
    "\n",
    "What would the code inside the summarise function look like if we wanted to get the mean of Conductance?\n",
    "    \n",
    "ANSWER to be removed in final iteration: summarize(average=mean(Conductance)) <br><br>\n",
    "    \n",
    "<br><br><div class=\"qhelp\"></div></div>"
   ]
  },
  {
   "cell_type": "markdown",
   "metadata": {},
   "source": [
    "Let's take a look at our data graphically. We notice that the solid horrizontal lines representing our average Wet and Drought values don't line up with the boxplot median. This indicates that our data might not be normally distributed. We may want to use the `median()` function to find the midpoint of the data instead. "
   ]
  },
  {
   "cell_type": "code",
   "execution_count": 143,
   "metadata": {},
   "outputs": [
    {
     "data": {
      "image/png": "[encoded data removed]",
      "text/plain": [
       "plot without title"
      ]
     },
     "metadata": {},
     "output_type": "display_data"
    }
   ],
   "source": [
    "data_filtered %>% \n",
    "group_by(Treatment) %>% \n",
    "ggplot()+\n",
    "geom_boxplot(aes(x=Treatment, y=Photosynthesis, fill=Treatment))+\n",
    "geom_hline(aes(yintercept=1.232575), color=\"red\")+\n",
    "annotate(\"text\", x =0.7, y = 3,label =\"Drought average = 1.23\", size = 3,fontface =2, color=\"red\")+\n",
    "geom_hline(aes(yintercept=5.918684), color=\"blue\")+\n",
    "annotate(\"text\", x =1.4, y = 7,label =\"Wet average = 5.92\", size = 3,fontface =2, color=\"blue\")+\n",
    "theme_classic()+\n",
    "guides(fill=FALSE)"
   ]
  },
  {
   "cell_type": "markdown",
   "metadata": {},
   "source": [
    "We can also group by mutliple columns."
   ]
  },
  {
   "cell_type": "code",
   "execution_count": 144,
   "metadata": {},
   "outputs": [
    {
     "name": "stderr",
     "output_type": "stream",
     "text": [
      "`summarise()` regrouping output by 'Treatment' (override with `.groups` argument)\n"
     ]
    },
    {
     "data": {
      "text/html": [
       "<table>\n",
       "<thead><tr><th scope=col>Treatment</th><th scope=col>Species</th><th scope=col>median</th></tr></thead>\n",
       "<tbody>\n",
       "\t<tr><td>Drought            </td><td>Control            </td><td>1.0502198          </td></tr>\n",
       "\t<tr><td>Drought            </td><td>Exotic Pathogen    </td><td>1.0440030          </td></tr>\n",
       "\t<tr><td>Drought            </td><td>Indigenous Pathogen</td><td>0.3459798          </td></tr>\n",
       "\t<tr><td>Wet                </td><td>Control            </td><td>6.2841864          </td></tr>\n",
       "\t<tr><td>Wet                </td><td>Exotic Pathogen    </td><td>4.7105453          </td></tr>\n",
       "\t<tr><td>Wet                </td><td>Indigenous Pathogen</td><td>7.2282008          </td></tr>\n",
       "</tbody>\n",
       "</table>\n"
      ],
      "text/latex": [
       "\\begin{tabular}{r|lll}\n",
       " Treatment & Species & median\\\\\n",
       "\\hline\n",
       "\t Drought             & Control             & 1.0502198          \\\\\n",
       "\t Drought             & Exotic Pathogen     & 1.0440030          \\\\\n",
       "\t Drought             & Indigenous Pathogen & 0.3459798          \\\\\n",
       "\t Wet                 & Control             & 6.2841864          \\\\\n",
       "\t Wet                 & Exotic Pathogen     & 4.7105453          \\\\\n",
       "\t Wet                 & Indigenous Pathogen & 7.2282008          \\\\\n",
       "\\end{tabular}\n"
      ],
      "text/markdown": [
       "\n",
       "| Treatment | Species | median |\n",
       "|---|---|---|\n",
       "| Drought             | Control             | 1.0502198           |\n",
       "| Drought             | Exotic Pathogen     | 1.0440030           |\n",
       "| Drought             | Indigenous Pathogen | 0.3459798           |\n",
       "| Wet                 | Control             | 6.2841864           |\n",
       "| Wet                 | Exotic Pathogen     | 4.7105453           |\n",
       "| Wet                 | Indigenous Pathogen | 7.2282008           |\n",
       "\n"
      ],
      "text/plain": [
       "  Treatment Species             median   \n",
       "1 Drought   Control             1.0502198\n",
       "2 Drought   Exotic Pathogen     1.0440030\n",
       "3 Drought   Indigenous Pathogen 0.3459798\n",
       "4 Wet       Control             6.2841864\n",
       "5 Wet       Exotic Pathogen     4.7105453\n",
       "6 Wet       Indigenous Pathogen 7.2282008"
      ]
     },
     "metadata": {},
     "output_type": "display_data"
    }
   ],
   "source": [
    "data_filtered %>% \n",
    "group_by(Treatment, Species) %>% \n",
    "summarize(median=median(Photosynthesis))"
   ]
  },
  {
   "cell_type": "markdown",
   "metadata": {},
   "source": [
    "<div class=\"Q\"><br><br>\n",
    "\n",
    "What would the code inside the group_by function look like if we wanted to group by both Date, Treatment and Species?\n",
    "    \n",
    "ANSWER to be removed in final iteration: group_by(Date, Treatment, Species) <br><br>\n",
    "    \n",
    "<br><br><div class=\"qhelp\"></div></div>"
   ]
  },
  {
   "cell_type": "markdown",
   "metadata": {},
   "source": [
    "We can also arrange the values in order of mean_ppb using the `arrange()` function. To sort in descending order, we need to add the `desc()` function."
   ]
  },
  {
   "cell_type": "code",
   "execution_count": 145,
   "metadata": {},
   "outputs": [
    {
     "name": "stderr",
     "output_type": "stream",
     "text": [
      "`summarise()` regrouping output by 'Treatment' (override with `.groups` argument)\n"
     ]
    },
    {
     "data": {
      "text/html": [
       "<table>\n",
       "<thead><tr><th scope=col>Treatment</th><th scope=col>Species</th><th scope=col>median</th></tr></thead>\n",
       "<tbody>\n",
       "\t<tr><td>Wet                </td><td>Indigenous Pathogen</td><td>7.2282008          </td></tr>\n",
       "\t<tr><td>Wet                </td><td>Control            </td><td>6.2841864          </td></tr>\n",
       "\t<tr><td>Wet                </td><td>Exotic Pathogen    </td><td>4.7105453          </td></tr>\n",
       "\t<tr><td>Drought            </td><td>Control            </td><td>1.0502198          </td></tr>\n",
       "\t<tr><td>Drought            </td><td>Exotic Pathogen    </td><td>1.0440030          </td></tr>\n",
       "\t<tr><td>Drought            </td><td>Indigenous Pathogen</td><td>0.3459798          </td></tr>\n",
       "</tbody>\n",
       "</table>\n"
      ],
      "text/latex": [
       "\\begin{tabular}{r|lll}\n",
       " Treatment & Species & median\\\\\n",
       "\\hline\n",
       "\t Wet                 & Indigenous Pathogen & 7.2282008          \\\\\n",
       "\t Wet                 & Control             & 6.2841864          \\\\\n",
       "\t Wet                 & Exotic Pathogen     & 4.7105453          \\\\\n",
       "\t Drought             & Control             & 1.0502198          \\\\\n",
       "\t Drought             & Exotic Pathogen     & 1.0440030          \\\\\n",
       "\t Drought             & Indigenous Pathogen & 0.3459798          \\\\\n",
       "\\end{tabular}\n"
      ],
      "text/markdown": [
       "\n",
       "| Treatment | Species | median |\n",
       "|---|---|---|\n",
       "| Wet                 | Indigenous Pathogen | 7.2282008           |\n",
       "| Wet                 | Control             | 6.2841864           |\n",
       "| Wet                 | Exotic Pathogen     | 4.7105453           |\n",
       "| Drought             | Control             | 1.0502198           |\n",
       "| Drought             | Exotic Pathogen     | 1.0440030           |\n",
       "| Drought             | Indigenous Pathogen | 0.3459798           |\n",
       "\n"
      ],
      "text/plain": [
       "  Treatment Species             median   \n",
       "1 Wet       Indigenous Pathogen 7.2282008\n",
       "2 Wet       Control             6.2841864\n",
       "3 Wet       Exotic Pathogen     4.7105453\n",
       "4 Drought   Control             1.0502198\n",
       "5 Drought   Exotic Pathogen     1.0440030\n",
       "6 Drought   Indigenous Pathogen 0.3459798"
      ]
     },
     "metadata": {},
     "output_type": "display_data"
    }
   ],
   "source": [
    "data_filtered %>% \n",
    "group_by(Treatment, Species) %>% \n",
    "summarize(median=median(Photosynthesis)) %>%\n",
    "  arrange(desc(median))"
   ]
  },
  {
   "cell_type": "markdown",
   "metadata": {},
   "source": [
    "<div class=\"Q\"><br><br>\n",
    "\n",
    "Using the help section, what would your arrange function code look like to arrange median in ascending order?\n",
    "    \n",
    "ANSWER to be removed in final iteration: arrange(median) <br><br>\n",
    "\n",
    "multiple choice options: arrange(asc(median))\n",
    "\n",
    "arrange(sort(median))\n",
    "\n",
    "arrange(order(median))\n",
    "    \n",
    "<br><br><div class=\"qhelp\"></div></div>"
   ]
  },
  {
   "cell_type": "markdown",
   "metadata": {},
   "source": [
    "<br><br><br>\n",
    "<div class=\"startTASK\"></div>\n",
    "\n",
    "In `fox_data`, find the mean weight by sex of the fox population.\n",
    "\n",
    "\n",
    "<div class=\"endTASK\"></div>\n",
    "<br><br><br>"
   ]
  },
  {
   "cell_type": "markdown",
   "metadata": {},
   "source": [
    "<div class=\"Q\"><br><br>\n",
    "\n",
    "What is the mean weight of Male foxes?\n",
    "    \n",
    "ANSWER to be removed in final iteration: <br><br>\n",
    "\n",
    "\n",
    "<br><br><div class=\"qhelp\"></div></div>"
   ]
  },
  {
   "cell_type": "markdown",
   "metadata": {},
   "source": [
    "_______________________________________________________________________________________________\n",
    "\n",
    "# Counting observations\n",
    "\n",
    "When working with data, we often want to know the number of observations found for each factor or combination of factors. For this task, dplyr provides `count()`. Let's summarise the number of measurements made for each plant on each day."
   ]
  },
  {
   "cell_type": "code",
   "execution_count": 146,
   "metadata": {},
   "outputs": [
    {
     "data": {
      "text/html": [
       "<table>\n",
       "<thead><tr><th scope=col>Sample type</th><th scope=col>Days after inoculation</th><th scope=col>n</th></tr></thead>\n",
       "<tbody>\n",
       "\t<tr><td>1DroughtControl1 </td><td>9                </td><td>10               </td></tr>\n",
       "\t<tr><td>1DroughtControl1 </td><td>22               </td><td>13               </td></tr>\n",
       "\t<tr><td>1DroughtControl10</td><td>13               </td><td>10               </td></tr>\n",
       "\t<tr><td>1DroughtControl10</td><td>35               </td><td>10               </td></tr>\n",
       "</tbody>\n",
       "</table>\n"
      ],
      "text/latex": [
       "\\begin{tabular}{r|lll}\n",
       " Sample type & Days after inoculation & n\\\\\n",
       "\\hline\n",
       "\t 1DroughtControl1  & 9                 & 10               \\\\\n",
       "\t 1DroughtControl1  & 22                & 13               \\\\\n",
       "\t 1DroughtControl10 & 13                & 10               \\\\\n",
       "\t 1DroughtControl10 & 35                & 10               \\\\\n",
       "\\end{tabular}\n"
      ],
      "text/markdown": [
       "\n",
       "| Sample type | Days after inoculation | n |\n",
       "|---|---|---|\n",
       "| 1DroughtControl1  | 9                 | 10                |\n",
       "| 1DroughtControl1  | 22                | 13                |\n",
       "| 1DroughtControl10 | 13                | 10                |\n",
       "| 1DroughtControl10 | 35                | 10                |\n",
       "\n"
      ],
      "text/plain": [
       "  Sample type       Days after inoculation n \n",
       "1 1DroughtControl1  9                      10\n",
       "2 1DroughtControl1  22                     13\n",
       "3 1DroughtControl10 13                     10\n",
       "4 1DroughtControl10 35                     10"
      ]
     },
     "metadata": {},
     "output_type": "display_data"
    }
   ],
   "source": [
    "data_filtered %>%\n",
    "    count(`Sample type`, `Days after inoculation`) %>% \n",
    "head(4)"
   ]
  },
  {
   "cell_type": "markdown",
   "metadata": {},
   "source": [
    "We can also use `summarise()`,`n()` with `group_by()` to attain similar results."
   ]
  },
  {
   "cell_type": "code",
   "execution_count": 147,
   "metadata": {},
   "outputs": [
    {
     "name": "stderr",
     "output_type": "stream",
     "text": [
      "`summarise()` regrouping output by 'Sample type' (override with `.groups` argument)\n"
     ]
    },
    {
     "data": {
      "text/html": [
       "<table>\n",
       "<thead><tr><th scope=col>Sample type</th><th scope=col>Days after inoculation</th><th scope=col>count</th></tr></thead>\n",
       "<tbody>\n",
       "\t<tr><td>1DroughtControl1 </td><td>9                </td><td>10               </td></tr>\n",
       "\t<tr><td>1DroughtControl1 </td><td>22               </td><td>13               </td></tr>\n",
       "\t<tr><td>1DroughtControl10</td><td>13               </td><td>10               </td></tr>\n",
       "\t<tr><td>1DroughtControl10</td><td>35               </td><td>10               </td></tr>\n",
       "</tbody>\n",
       "</table>\n"
      ],
      "text/latex": [
       "\\begin{tabular}{r|lll}\n",
       " Sample type & Days after inoculation & count\\\\\n",
       "\\hline\n",
       "\t 1DroughtControl1  & 9                 & 10               \\\\\n",
       "\t 1DroughtControl1  & 22                & 13               \\\\\n",
       "\t 1DroughtControl10 & 13                & 10               \\\\\n",
       "\t 1DroughtControl10 & 35                & 10               \\\\\n",
       "\\end{tabular}\n"
      ],
      "text/markdown": [
       "\n",
       "| Sample type | Days after inoculation | count |\n",
       "|---|---|---|\n",
       "| 1DroughtControl1  | 9                 | 10                |\n",
       "| 1DroughtControl1  | 22                | 13                |\n",
       "| 1DroughtControl10 | 13                | 10                |\n",
       "| 1DroughtControl10 | 35                | 10                |\n",
       "\n"
      ],
      "text/plain": [
       "  Sample type       Days after inoculation count\n",
       "1 1DroughtControl1  9                      10   \n",
       "2 1DroughtControl1  22                     13   \n",
       "3 1DroughtControl10 13                     10   \n",
       "4 1DroughtControl10 35                     10   "
      ]
     },
     "metadata": {},
     "output_type": "display_data"
    }
   ],
   "source": [
    "data_filtered %>%\n",
    "    group_by(`Sample type`, `Days after inoculation`) %>%\n",
    "    summarise(count = n())  %>% \n",
    "head(4)"
   ]
  },
  {
   "cell_type": "markdown",
   "metadata": {},
   "source": [
    "There should be at least 10 measurements per plant per day (count >= 10). Say we wanted to see how many plants were there per Treatmet and Species, we could use the function `n_distinct()` to count unique instances and remove duplicates. "
   ]
  },
  {
   "cell_type": "code",
   "execution_count": 148,
   "metadata": {},
   "outputs": [
    {
     "name": "stderr",
     "output_type": "stream",
     "text": [
      "`summarise()` regrouping output by 'Treatment' (override with `.groups` argument)\n"
     ]
    },
    {
     "data": {
      "text/html": [
       "<table>\n",
       "<thead><tr><th scope=col>Treatment</th><th scope=col>Species</th><th scope=col>count</th></tr></thead>\n",
       "<tbody>\n",
       "\t<tr><td>Drought            </td><td>Control            </td><td>17                 </td></tr>\n",
       "\t<tr><td>Drought            </td><td>Exotic Pathogen    </td><td>16                 </td></tr>\n",
       "\t<tr><td>Drought            </td><td>Indigenous Pathogen</td><td>14                 </td></tr>\n",
       "\t<tr><td>Wet                </td><td>Control            </td><td>17                 </td></tr>\n",
       "\t<tr><td>Wet                </td><td>Exotic Pathogen    </td><td>15                 </td></tr>\n",
       "\t<tr><td>Wet                </td><td>Indigenous Pathogen</td><td>17                 </td></tr>\n",
       "</tbody>\n",
       "</table>\n"
      ],
      "text/latex": [
       "\\begin{tabular}{r|lll}\n",
       " Treatment & Species & count\\\\\n",
       "\\hline\n",
       "\t Drought             & Control             & 17                 \\\\\n",
       "\t Drought             & Exotic Pathogen     & 16                 \\\\\n",
       "\t Drought             & Indigenous Pathogen & 14                 \\\\\n",
       "\t Wet                 & Control             & 17                 \\\\\n",
       "\t Wet                 & Exotic Pathogen     & 15                 \\\\\n",
       "\t Wet                 & Indigenous Pathogen & 17                 \\\\\n",
       "\\end{tabular}\n"
      ],
      "text/markdown": [
       "\n",
       "| Treatment | Species | count |\n",
       "|---|---|---|\n",
       "| Drought             | Control             | 17                  |\n",
       "| Drought             | Exotic Pathogen     | 16                  |\n",
       "| Drought             | Indigenous Pathogen | 14                  |\n",
       "| Wet                 | Control             | 17                  |\n",
       "| Wet                 | Exotic Pathogen     | 15                  |\n",
       "| Wet                 | Indigenous Pathogen | 17                  |\n",
       "\n"
      ],
      "text/plain": [
       "  Treatment Species             count\n",
       "1 Drought   Control             17   \n",
       "2 Drought   Exotic Pathogen     16   \n",
       "3 Drought   Indigenous Pathogen 14   \n",
       "4 Wet       Control             17   \n",
       "5 Wet       Exotic Pathogen     15   \n",
       "6 Wet       Indigenous Pathogen 17   "
      ]
     },
     "metadata": {},
     "output_type": "display_data"
    }
   ],
   "source": [
    "plant.count<- data_filtered %>% \n",
    "group_by(Treatment,Species) %>% \n",
    "summarize(count=n_distinct(`Sample type`)) \n",
    "\n",
    "plant.count"
   ]
  },
  {
   "cell_type": "code",
   "execution_count": 149,
   "metadata": {},
   "outputs": [
    {
     "data": {
      "image/png": "[encoded data removed]",
      "text/plain": [
       "plot without title"
      ]
     },
     "metadata": {},
     "output_type": "display_data"
    }
   ],
   "source": [
    "plant.count %>% \n",
    "ggplot(aes(x=Species, y=count, fill =Treatment))+\n",
    "geom_col(position=\"dodge\", color=\"black\")+\n",
    "theme_classic()"
   ]
  },
  {
   "cell_type": "markdown",
   "metadata": {},
   "source": [
    "We can proceed with `arrange()` to sort the table according to a number of criteria so that we have a better comparison. For instance, we might want to arrange the table above in:\n",
    "\n",
    "1. by Treatment and,\n",
    "1. in descending order of the count:"
   ]
  },
  {
   "cell_type": "code",
   "execution_count": 150,
   "metadata": {},
   "outputs": [
    {
     "data": {
      "text/html": [
       "<table>\n",
       "<thead><tr><th scope=col>Treatment</th><th scope=col>Species</th><th scope=col>count</th></tr></thead>\n",
       "<tbody>\n",
       "\t<tr><td>Drought            </td><td>Control            </td><td>17                 </td></tr>\n",
       "\t<tr><td>Drought            </td><td>Exotic Pathogen    </td><td>16                 </td></tr>\n",
       "\t<tr><td>Drought            </td><td>Indigenous Pathogen</td><td>14                 </td></tr>\n",
       "\t<tr><td>Wet                </td><td>Control            </td><td>17                 </td></tr>\n",
       "\t<tr><td>Wet                </td><td>Indigenous Pathogen</td><td>17                 </td></tr>\n",
       "\t<tr><td>Wet                </td><td>Exotic Pathogen    </td><td>15                 </td></tr>\n",
       "</tbody>\n",
       "</table>\n"
      ],
      "text/latex": [
       "\\begin{tabular}{r|lll}\n",
       " Treatment & Species & count\\\\\n",
       "\\hline\n",
       "\t Drought             & Control             & 17                 \\\\\n",
       "\t Drought             & Exotic Pathogen     & 16                 \\\\\n",
       "\t Drought             & Indigenous Pathogen & 14                 \\\\\n",
       "\t Wet                 & Control             & 17                 \\\\\n",
       "\t Wet                 & Indigenous Pathogen & 17                 \\\\\n",
       "\t Wet                 & Exotic Pathogen     & 15                 \\\\\n",
       "\\end{tabular}\n"
      ],
      "text/markdown": [
       "\n",
       "| Treatment | Species | count |\n",
       "|---|---|---|\n",
       "| Drought             | Control             | 17                  |\n",
       "| Drought             | Exotic Pathogen     | 16                  |\n",
       "| Drought             | Indigenous Pathogen | 14                  |\n",
       "| Wet                 | Control             | 17                  |\n",
       "| Wet                 | Indigenous Pathogen | 17                  |\n",
       "| Wet                 | Exotic Pathogen     | 15                  |\n",
       "\n"
      ],
      "text/plain": [
       "  Treatment Species             count\n",
       "1 Drought   Control             17   \n",
       "2 Drought   Exotic Pathogen     16   \n",
       "3 Drought   Indigenous Pathogen 14   \n",
       "4 Wet       Control             17   \n",
       "5 Wet       Indigenous Pathogen 17   \n",
       "6 Wet       Exotic Pathogen     15   "
      ]
     },
     "metadata": {},
     "output_type": "display_data"
    }
   ],
   "source": [
    "plant.count %>%\n",
    "  arrange(Treatment, desc(count))"
   ]
  },
  {
   "cell_type": "markdown",
   "metadata": {},
   "source": [
    "<div class=\"Q\"><br><br>\n",
    "\n",
    "What is the difference between the functions n() and n_distinct()?\n",
    "    \n",
    "ANSWER to be removed in final iteration: n() counts all observations. n_distinct() counts unique observations and excludes duplicates <br><br>\n",
    "    \n",
    "<br><br><div class=\"qhelp\"></div></div>"
   ]
  },
  {
   "cell_type": "markdown",
   "metadata": {},
   "source": [
    "# Preliminary data exmaination\n",
    "\n",
    "Now that we've got the basics down, let's play around with our data. \n",
    "\n",
    "## Mean per plant\n",
    "\n",
    "Let's take a look at the mean photosynthesis value per plant while keeping our other variables of interest. Here we are calculating a plant average for each plant. Note that we did not use the same plants every time we took measurements (1DroughtControl1 was only measured on days 9 and 22). We could only measure <30 plants per day, so we randomly selected them from the treatments each time we went to measure."
   ]
  },
  {
   "cell_type": "code",
   "execution_count": 151,
   "metadata": {},
   "outputs": [
    {
     "name": "stderr",
     "output_type": "stream",
     "text": [
      "`summarise()` regrouping output by 'Sample type', 'Trial', 'Treatment', 'Species' (override with `.groups` argument)\n"
     ]
    },
    {
     "data": {
      "text/html": [
       "<table>\n",
       "<thead><tr><th scope=col>Sample type</th><th scope=col>Trial</th><th scope=col>Treatment</th><th scope=col>Species</th><th scope=col>Days after inoculation</th><th scope=col>photo_average</th></tr></thead>\n",
       "<tbody>\n",
       "\t<tr><td>1DroughtControl1 </td><td>1                </td><td>Drought          </td><td>Control          </td><td>9                </td><td>1.6631289        </td></tr>\n",
       "\t<tr><td>1DroughtControl1 </td><td>1                </td><td>Drought          </td><td>Control          </td><td>22               </td><td>2.1347472        </td></tr>\n",
       "\t<tr><td>1DroughtControl10</td><td>1                </td><td>Drought          </td><td>Control          </td><td>13               </td><td>0.4922988        </td></tr>\n",
       "\t<tr><td>1DroughtControl10</td><td>1                </td><td>Drought          </td><td>Control          </td><td>35               </td><td>0.5280732        </td></tr>\n",
       "</tbody>\n",
       "</table>\n"
      ],
      "text/latex": [
       "\\begin{tabular}{r|llllll}\n",
       " Sample type & Trial & Treatment & Species & Days after inoculation & photo\\_average\\\\\n",
       "\\hline\n",
       "\t 1DroughtControl1  & 1                 & Drought           & Control           & 9                 & 1.6631289        \\\\\n",
       "\t 1DroughtControl1  & 1                 & Drought           & Control           & 22                & 2.1347472        \\\\\n",
       "\t 1DroughtControl10 & 1                 & Drought           & Control           & 13                & 0.4922988        \\\\\n",
       "\t 1DroughtControl10 & 1                 & Drought           & Control           & 35                & 0.5280732        \\\\\n",
       "\\end{tabular}\n"
      ],
      "text/markdown": [
       "\n",
       "| Sample type | Trial | Treatment | Species | Days after inoculation | photo_average |\n",
       "|---|---|---|---|---|---|\n",
       "| 1DroughtControl1  | 1                 | Drought           | Control           | 9                 | 1.6631289         |\n",
       "| 1DroughtControl1  | 1                 | Drought           | Control           | 22                | 2.1347472         |\n",
       "| 1DroughtControl10 | 1                 | Drought           | Control           | 13                | 0.4922988         |\n",
       "| 1DroughtControl10 | 1                 | Drought           | Control           | 35                | 0.5280732         |\n",
       "\n"
      ],
      "text/plain": [
       "  Sample type       Trial Treatment Species Days after inoculation\n",
       "1 1DroughtControl1  1     Drought   Control 9                     \n",
       "2 1DroughtControl1  1     Drought   Control 22                    \n",
       "3 1DroughtControl10 1     Drought   Control 13                    \n",
       "4 1DroughtControl10 1     Drought   Control 35                    \n",
       "  photo_average\n",
       "1 1.6631289    \n",
       "2 2.1347472    \n",
       "3 0.4922988    \n",
       "4 0.5280732    "
      ]
     },
     "metadata": {},
     "output_type": "display_data"
    }
   ],
   "source": [
    "Plant.Mean.Photo <- data_filtered %>% \n",
    "group_by(`Sample type`,Trial,Treatment,Species,`Days after inoculation`) %>% \n",
    "summarize(photo_average=mean(Photosynthesis,na.rm=TRUE))\n",
    "\n",
    "Plant.Mean.Photo  %>% \n",
    "head(4)"
   ]
  },
  {
   "cell_type": "code",
   "execution_count": 152,
   "metadata": {},
   "outputs": [
    {
     "data": {
      "image/png": "[encoded data removed]",
      "text/plain": [
       "plot without title"
      ]
     },
     "metadata": {},
     "output_type": "display_data"
    }
   ],
   "source": [
    "Plant.Mean.Photo %>% \n",
    "ggplot(aes(Species,photo_average,shape=Treatment,color=Species))+\n",
    "geom_point(position=\"jitter\")+\n",
    "theme_classic()"
   ]
  },
  {
   "cell_type": "markdown",
   "metadata": {},
   "source": [
    "Each plant is a sampling unit, so we want to conduct our analysis with a single value for each plant. If we include each measurement as a seperate observation, we are incorporating pseudoreplication because each measurement was not independant (10 measurements were made on a single plant–therefore, each measurement is dependant on the plant).\n",
    "\n",
    "## Mean per group\n",
    "\n",
    "Ok now that we have the means per plant, we can look at the means per trial, treatment, etc."
   ]
  },
  {
   "cell_type": "code",
   "execution_count": 167,
   "metadata": {},
   "outputs": [
    {
     "name": "stderr",
     "output_type": "stream",
     "text": [
      "`summarise()` regrouping output by 'Treatment', 'Species' (override with `.groups` argument)\n"
     ]
    },
    {
     "data": {
      "text/html": [
       "<table>\n",
       "<thead><tr><th scope=col>Treatment</th><th scope=col>Species</th><th scope=col>Days after inoculation</th><th scope=col>count</th><th scope=col>ave</th><th scope=col>dev</th><th scope=col>se</th></tr></thead>\n",
       "<tbody>\n",
       "\t<tr><td>Drought  </td><td>Control  </td><td>3        </td><td>1        </td><td>1.1315650</td><td>       NA</td><td>       NA</td></tr>\n",
       "\t<tr><td>Drought  </td><td>Control  </td><td>6        </td><td>2        </td><td>0.6558923</td><td>0.6616764</td><td>0.4678758</td></tr>\n",
       "\t<tr><td>Drought  </td><td>Control  </td><td>9        </td><td>5        </td><td>2.5938583</td><td>2.8121587</td><td>1.2576356</td></tr>\n",
       "\t<tr><td>Drought  </td><td>Control  </td><td>13       </td><td>1        </td><td>0.4922988</td><td>       NA</td><td>       NA</td></tr>\n",
       "</tbody>\n",
       "</table>\n"
      ],
      "text/latex": [
       "\\begin{tabular}{r|lllllll}\n",
       " Treatment & Species & Days after inoculation & count & ave & dev & se\\\\\n",
       "\\hline\n",
       "\t Drought   & Control   & 3         & 1         & 1.1315650 &        NA &        NA\\\\\n",
       "\t Drought   & Control   & 6         & 2         & 0.6558923 & 0.6616764 & 0.4678758\\\\\n",
       "\t Drought   & Control   & 9         & 5         & 2.5938583 & 2.8121587 & 1.2576356\\\\\n",
       "\t Drought   & Control   & 13        & 1         & 0.4922988 &        NA &        NA\\\\\n",
       "\\end{tabular}\n"
      ],
      "text/markdown": [
       "\n",
       "| Treatment | Species | Days after inoculation | count | ave | dev | se |\n",
       "|---|---|---|---|---|---|---|\n",
       "| Drought   | Control   | 3         | 1         | 1.1315650 |        NA |        NA |\n",
       "| Drought   | Control   | 6         | 2         | 0.6558923 | 0.6616764 | 0.4678758 |\n",
       "| Drought   | Control   | 9         | 5         | 2.5938583 | 2.8121587 | 1.2576356 |\n",
       "| Drought   | Control   | 13        | 1         | 0.4922988 |        NA |        NA |\n",
       "\n"
      ],
      "text/plain": [
       "  Treatment Species Days after inoculation count ave       dev       se       \n",
       "1 Drought   Control 3                      1     1.1315650        NA        NA\n",
       "2 Drought   Control 6                      2     0.6558923 0.6616764 0.4678758\n",
       "3 Drought   Control 9                      5     2.5938583 2.8121587 1.2576356\n",
       "4 Drought   Control 13                     1     0.4922988        NA        NA"
      ]
     },
     "metadata": {},
     "output_type": "display_data"
    }
   ],
   "source": [
    "Group.Mean.Photo<-Plant.Mean.Photo %>% \n",
    "group_by(Treatment,Species,`Days after inoculation`) %>% \n",
    "summarize(count=n(), \n",
    "          ave=mean(photo_average),\n",
    "          dev=sd(photo_average),\n",
    "          se=dev/sqrt(count)\n",
    "         )\n",
    "\n",
    "Group.Mean.Photo  %>% \n",
    "head(4)"
   ]
  },
  {
   "cell_type": "markdown",
   "metadata": {},
   "source": [
    "<span class=\"note\"></span> If there was only one plant in a group, the standard deviation, `dev`could not be calculated because there is no variation Some of the data might be missing and we would need to address this in real analysis.\n",
    "\n",
    "We can plot the mean values from each Species and each Treatment on each day they were measured."
   ]
  },
  {
   "cell_type": "code",
   "execution_count": 162,
   "metadata": {},
   "outputs": [
    {
     "data": {
      "image/png": "[encoded data removed]",
      "text/plain": [
       "plot without title"
      ]
     },
     "metadata": {},
     "output_type": "display_data"
    }
   ],
   "source": [
    "ggplot(Group.Mean.Photo,aes(x=`Days after inoculation`,y=ave,color=Species))+\n",
    "geom_point()+\n",
    "facet_wrap(~Treatment,ncol=1) +\n",
    "theme_classic()"
   ]
  },
  {
   "cell_type": "markdown",
   "metadata": {},
   "source": [
    "This plot reveals some concerns: only control plants were measured on day 3 and no control plants were measured on day 5. Only one group of plants measured on day 36. Lots of errors in data, demonstrating the importance of exploring your data graphically!"
   ]
  },
  {
   "cell_type": "markdown",
   "metadata": {},
   "source": [
    "Let's see if we can add estimates of error to our measurments."
   ]
  },
  {
   "cell_type": "code",
   "execution_count": 169,
   "metadata": {},
   "outputs": [
    {
     "data": {
      "image/png": "[encoded data removed]",
      "text/plain": [
       "plot without title"
      ]
     },
     "metadata": {},
     "output_type": "display_data"
    }
   ],
   "source": [
    "ggplot(Group.Mean.Photo,aes(x=`Days after inoculation`,y=ave,color=Species))+\n",
    "geom_point()+\n",
    "geom_errorbar(aes(ymin=ave-se, ymax=ave+se))+\n",
    "facet_wrap(~Treatment,ncol=1) +\n",
    "theme_classic()"
   ]
  },
  {
   "cell_type": "markdown",
   "metadata": {},
   "source": [
    "_________________________________________________________________________\n",
    "\n",
    "# Exporting data\n",
    "\n",
    "Now that you have learned how to use dplyr to extract information from or summarize your raw data, you may want to export these new data sets to share them with your collaborators or for archival.\n",
    "\n",
    "Similar to the `read_csv()` function used for reading CSV files into R, there is a `write_csv()` function that generates CSV files from data frames.\n",
    "\n",
    "Before using `write_csv()`, we are going to create a new folder, data, in our working directory that will store this generated dataset. We don't want to write generated datasets in the same directory as our raw data. It's good practice to keep them separate. The data_raw folder should only contain the raw, unaltered data, and should be left alone to make sure we don't delete or modify it. In contrast, our script will generate the contents of the data directory, so even if the files it contains are deleted, we can always re-generate them.\n",
    "\n",
    "Now that our data set is ready, we can save it as a CSV file in our data folder.\n"
   ]
  },
  {
   "cell_type": "code",
   "execution_count": 42,
   "metadata": {},
   "outputs": [
    {
     "ename": "ERROR",
     "evalue": "Error in write_csv(surveys_complete, file = \"data/surveys_complete.csv\"): unused argument (file = \"data/surveys_complete.csv\")\n",
     "output_type": "error",
     "traceback": [
      "Error in write_csv(surveys_complete, file = \"data/surveys_complete.csv\"): unused argument (file = \"data/surveys_complete.csv\")\nTraceback:\n"
     ]
    }
   ],
   "source": [
    "write_csv(surveys_complete, file = \"data/surveys_complete.csv\")"
   ]
  },
  {
   "cell_type": "markdown",
   "metadata": {},
   "source": [
    "<span class=\"console\"></span> <br>\n",
    "----------------------------- <br>\n",
    "<span class=\"editor\"></span> <br>\n",
    "----------------------------- <br>\n",
    "<span class=\"c2c\"></span> <br>\n",
    "<div class=\"c2c\"></div> <br>\n",
    "----------------------------- <br>\n",
    "<span class=\"run\"></span> <br>\n",
    "<div class=\"run\"></div> <br>\n",
    "----------------------------- <br>\n",
    "<span class=\"runcell\"></span> <br>\n",
    "<div class=\"runcell\"></div> <br>\n",
    "----------------------------- <br>\n",
    "<span class=\"file\">Text</span> <br>\n",
    "<div class=\"file\">Text</div> <br>\n",
    "----------------------------- <br>\n",
    "<span class=\"important\"></span> <br>\n",
    "<div class=\"important\"></div> <br>\n",
    "----------------------------- <br>\n",
    "<span class=\"note\"></span> <br>\n",
    "<div class=\"note\"></div> <br>\n",
    "----------------------------- <br>\n",
    "<span class=\"checkpoint\">Text</span> <br>\n",
    "<div class=\"checkpoint\">Text</div> <br>\n",
    "-----------------------------\n",
    "<span class=\"codeerror\">Text</span> <br>\n",
    "<div class=\"codeerror\">Text</div> <br>\n",
    "----------------------------- <br>\n",
    "<span class=\"lineerror\">Text</span> <br>\n",
    "<div class=\"lineerror\">Text</div> <br>\n",
    "----------------------------- <br>\n",
    "<span class=\"terminal\"></span> <br>\n",
    "<div class=\"terminal\"></div> <br>\n",
    "----------------------------- <br>\n",
    "<span class=\"terminalBlock\">Text</span> <br>\n",
    "<div class=\"terminalBlock\">Text</div> <br>\n",
    "----------------------------- <br>\n",
    "<span class=\"nomenclature\">nomenclature</span> <br>\n",
    "<div class=\"nomenclature\">nomenclature</div> <br>\n",
    "----------------------------- <br>\n",
    "<span class=\"code\">code</span> <br>\n",
    "<div class=\"code\">code</div> <br>\n",
    "----------------------------- <br>\n",
    "<span class=\"rendered_html\">rendered_html</span> <br>\n",
    "<div class=\"rendered_html\">rendered_html</div> <br>\n",
    "----------------------------- <br>\n",
    "\n",
    "<br><br><br>\n",
    "<div class=\"startTASK\"></div>\n",
    "\n",
    "Write task here\n",
    "\n",
    "<div class=\"endTASK\"></div>\n",
    "<br><br><br>\n",
    "\n",
    "\n",
    "\n",
    "<img src=\"../media/R_logo.png\" width=\"150px\">\n",
    "<a href=\"bad_layout.png\" target=\"_blank\"><img src=\"bad_layout.png\" width=\"700px\"></a>"
   ]
  },
  {
   "cell_type": "markdown",
   "metadata": {},
   "source": [
    "<div class=\"big_title\">This is the end of lab</div>\n",
    "\n",
    "*******************\n",
    "*******************\n",
    "\n",
    "Code below is for formatting of this lab. Do not alter!"
   ]
  },
  {
   "cell_type": "code",
   "execution_count": 1,
   "metadata": {},
   "outputs": [
    {
     "data": {
      "text/html": [
       "<style>\n",
       "\n",
       "body {\n",
       "  counter-reset: question_num task_num;                     /* Set a counter named 'section', and it`s initial value is 0. */\n",
       "}\n",
       "\n",
       "/* Question Box */\n",
       ".Q {\n",
       "    background-color:#ff9900;\n",
       "    color:black;\n",
       "    font-size:17px;\n",
       "    width:100%;\n",
       "    border:1px solid #666666;\n",
       "    padding:5px;\n",
       "}\n",
       "\n",
       ".Q::before {\n",
       "    counter-increment: question_num;\n",
       "    content: \"QUESTION \" counter(question_num) '\\A';\n",
       "    white-space: pre;\n",
       "}\n",
       "\n",
       "\n",
       "/* Question Box */\n",
       ".T {\n",
       "    background-color:#00F7FF;\n",
       "    color:black;\n",
       "    font-size:17px;\n",
       "    font-weight: bold;\n",
       "    width:10%;\n",
       "    padding:5px;\n",
       "}\n",
       "\n",
       "\n",
       ".T::before {\n",
       "    counter-increment: task_num;\n",
       "    content: \"Task \" counter(task_num) ': ';\n",
       "}\n",
       "\n",
       "\n",
       "/* TASK BOX */\n",
       ".startTASK {\n",
       "    background: linear-gradient(to bottom, #b3ffb3 0%, #ffffff 100%);\n",
       "    border-top-left-radius: 10px;\n",
       "    border-top-right-radius: 10px;\n",
       "    border:1px solid #009900;\n",
       "    border-bottom:1px solid #ffffff;\n",
       "    color:#006600;\n",
       "    font-size:17px;\n",
       "    width:100%;\n",
       "    font-weight: bold;\n",
       "    padding:5px;\n",
       "    padding-top:15px;\n",
       "}\n",
       ".startTASK::before {\n",
       "    counter-increment: task_num;\n",
       "    content: \"Task \" counter(task_num) ': ';\n",
       "}\n",
       "\n",
       ".endTASK {\n",
       "    background: linear-gradient(to bottom, #ffffff 0%, #b3ffb3 100%);\n",
       "    border-bottom-left-radius: 10px;\n",
       "    border-bottom-right-radius: 10px;\n",
       "    border:1px solid #009900;\n",
       "    border-top:1px solid #ffffff;\n",
       "    color:#006600;\n",
       "    font-size:13px;\n",
       "    width:100%;\n",
       "    font-weight: bold;\n",
       "    padding:5px;\n",
       "    padding-top:15px;\n",
       "}\n",
       ".endTASK::before {\n",
       "    content: \"End of Task\";\n",
       "}\n",
       "\n",
       "\n",
       "\n",
       "\n",
       "\n",
       "\n",
       "\n",
       "\n",
       "\n",
       "\n",
       "\n",
       "\n",
       "\n",
       "\n",
       ".qhelp {\n",
       "    color:#666666;\n",
       "    font-size:15px\n",
       "}\n",
       "\n",
       ".qhelp::after {\n",
       "    content: \"Answer this question in the corresponding Brightspace LAB quiz\"\n",
       "}\n",
       "\n",
       "\n",
       "\n",
       "/* code */\n",
       ".rendered_html pre, .rendered_html code {\n",
       "    font-family: \"SF Mono\",\"Segoe UI Mono\",\"Roboto Mono\",\"Ubuntu Mono\",Menlo,Courier,monospace;\n",
       "    padding: 1px 3px;\n",
       "    border: 1px solid #e6e6e6;\n",
       "    border-radius: 3px;\n",
       "    background: #e6e6e6;\n",
       "    font-size: 12px;\n",
       "    line-height: 1.4;\n",
       "    color: #0052CC;\n",
       "}\n",
       "\n",
       "\n",
       "/* Console */\n",
       ".console {\n",
       "    background-color:#d2d2d2;\n",
       "    color:#FF2525;\n",
       "    font-size:12px;\n",
       "    line-height: 1.4;\n",
       "    border:1px solid #bfbfbf;\n",
       "    padding-top:0px;\n",
       "    padding-bottom:0px;\n",
       "    padding-left:3px;\n",
       "    padding-right:3px;\n",
       "    border-radius: 3px;\n",
       "    display: inline-block;\n",
       "}\n",
       ".console::before {\n",
       "    content: \"Console\";\n",
       "}\n",
       "\n",
       "/* Editor */\n",
       ".editor {\n",
       "    background-color:#d2d2d2;\n",
       "    color:#00b300;\n",
       "    font-size: 12px;\n",
       "    line-height: 1.4;\n",
       "    border:1px solid #bfbfbf;\n",
       "    padding-top:0px;\n",
       "    padding-bottom:0px;\n",
       "    padding-left:3px;\n",
       "    padding-right:3px;\n",
       "    border-radius: 3px;\n",
       "    display: inline-block;\n",
       "}\n",
       ".editor::before {\n",
       "    content: \"Editor\";\n",
       "}\n",
       "\n",
       "\n",
       "\n",
       "/* Copy to CONSOLE */\n",
       ".c2c {\n",
       "    background-color:#d2d2d2;\n",
       "    color:#ff8080;\n",
       "    font-size:13px;\n",
       "    border:1px solid #bfbfbf;\n",
       "    padding:1px 3px;\n",
       "    border-radius: 3px;\n",
       "    margin-top: 10px;\n",
       "    display: inline-block;\n",
       "}\n",
       "\n",
       ".c2c::before {\n",
       "    content: \"Copy-paste into Spyder's Console\";\n",
       "}\n",
       "\n",
       "/* Type in CONSOLE */\n",
       ".t2c {\n",
       "    background-color:#d2d2d2;\n",
       "    color:#ff8080;\n",
       "    font-size:13px;\n",
       "    border:1px solid #bfbfbf;\n",
       "    padding:1px 3px;\n",
       "    border-radius: 3px;\n",
       "    margin-top: 10px;\n",
       "    display: inline-block;\n",
       "}\n",
       "\n",
       ".t2c::before {\n",
       "    content: \"Type into Spyder's Console\";\n",
       "}\n",
       "\n",
       "\n",
       "/* SOURCE */\n",
       ".source {\n",
       "    background-color:#d2d2d2;\n",
       "    color:#009EBF;\n",
       "    font-size: 12px;\n",
       "    line-height: 1.4;\n",
       "    font-weight: bold;\n",
       "    border:1px solid #bfbfbf;\n",
       "    padding-top:0px;\n",
       "    padding-bottom:0px;\n",
       "    padding-left:3px;\n",
       "    padding-right:3px;\n",
       "    border-radius: 3px;\n",
       "    display: inline-block;\n",
       "}\n",
       ".source::before {\n",
       "    content: \"\\25B6\" \"Source\";\n",
       "}\n",
       "\n",
       "\n",
       "/* RUN */\n",
       ".run {\n",
       "    background-color:#d2d2d2;\n",
       "    color:#00b300;\n",
       "    font-size: 12px;\n",
       "    line-height: 1.4;\n",
       "    font-weight: bold;\n",
       "    border:1px solid #bfbfbf;\n",
       "    padding-top:0px;\n",
       "    padding-bottom:0px;\n",
       "    padding-left:3px;\n",
       "    padding-right:3px;\n",
       "    border-radius: 3px;\n",
       "    display: inline-block;\n",
       "}\n",
       ".run::before {\n",
       "    content: \"\\25B6\" \"RUN\";\n",
       "}\n",
       "\n",
       "/* RUN */\n",
       ".runcell {\n",
       "    background-color:#d2d2d2;\n",
       "    color:#00b300;\n",
       "    font-size: 12px;\n",
       "    line-height: 1.4;\n",
       "    border:1px solid #bfbfbf;\n",
       "    padding-top:0px;\n",
       "    padding-bottom:0px;\n",
       "    padding-left:3px;\n",
       "    padding-right:3px;\n",
       "    border-radius: 3px;\n",
       "    display: inline-block;\n",
       "}\n",
       ".runcell::before {\n",
       "    content: \"RUN current cell\";\n",
       "}\n",
       "\n",
       "/* FILE */\n",
       ".file {\n",
       "    color:#b36b00;\n",
       "    font-size: 12px;\n",
       "    line-height: 1.4;\n",
       "    font-weight: bold;\n",
       "    border:1px solid #bfbfbf;\n",
       "    padding-top:0px;\n",
       "    padding-bottom:0px;\n",
       "    padding-left:3px;\n",
       "    padding-right:3px;\n",
       "    border-radius: 3px;\n",
       "    display: inline-block;\n",
       "}\n",
       "\n",
       "/* important */\n",
       ".important {\n",
       "    background-color:#ff4d4d;\n",
       "    color:black;\n",
       "    font-size: 13px;\n",
       "    line-height: 1.4;\n",
       "    font-weight: bold;\n",
       "    border:1px solid #bfbfbf;\n",
       "    padding-top:0px;\n",
       "    padding-bottom:0px;\n",
       "    padding-left:3px;\n",
       "    padding-right:3px;\n",
       "    border-radius: 3px;\n",
       "    display: inline-block;\n",
       "    margin-top:5px;\n",
       "}\n",
       ".important::before {\n",
       "    content: \"Important:\";\n",
       "}\n",
       "\n",
       "/* important */\n",
       ".note {\n",
       "    background-color:#ffff80;\n",
       "    color:black;\n",
       "    font-size: 13px;\n",
       "    line-height: 1.4;\n",
       "    font-weight: bold;\n",
       "    border:1px solid #bfbfbf;\n",
       "    padding-top:0px;\n",
       "    padding-bottom:0px;\n",
       "    padding-left:3px;\n",
       "    padding-right:3px;\n",
       "    border-radius: 3px;\n",
       "    display: inline-block;\n",
       "    margin-top:5px;\n",
       "}\n",
       ".note::before {\n",
       "    content: \"Note:\";\n",
       "}\n",
       "\n",
       "\n",
       "/* TODO */\n",
       ".TODO {\n",
       "    background-color:red;\n",
       "    color:black;\n",
       "    font-size:18px;\n",
       "    width:100%;\n",
       "    padding:10px;\n",
       "}\n",
       ".TODO::before {\n",
       "    content: \"TO-DO:\";\n",
       "}\n",
       "\n",
       "\n",
       ".nomenclature {\n",
       "    font-family: \"SF Mono\",\"Segoe UI Mono\",\"Roboto Mono\",\"Ubuntu Mono\",Menlo,Courier,monospace;\n",
       "    background-color:#ffff80;\n",
       "    color:black;\n",
       "    font-size: 15px;\n",
       "    line-height: 1.4;\n",
       "    font-weight: bold;\n",
       "    border:1px solid #bfbfbf;\n",
       "    padding-left:3px;\n",
       "    padding-right:3px;\n",
       "    display: inline-block;\n",
       "    margin-top:3px;\n",
       "}\n",
       "\n",
       "\n",
       "\n",
       ".big_title {\n",
       "    background-color:#cccccc;\n",
       "    color:black;\n",
       "    font-size: 35px;\n",
       "    line-height: 1.4;\n",
       "    font-weight: bold;\n",
       "    border:1px solid #8c8c8c;\n",
       "    padding:20px;\n",
       "    margin-top:5px;\n",
       "    width:100%;\n",
       "}\n",
       "\n",
       "\n",
       ".codeX {\n",
       "    font-family: \"SF Mono\",\"Segoe UI Mono\",\"Roboto Mono\",\"Ubuntu Mono\",Menlo,Courier,monospace;\n",
       "    background-color:#e6e6e6;\n",
       "    color:#0066ff;\n",
       "    font-size: 13px;\n",
       "    line-height: 1.4;\n",
       "    padding:2px;\n",
       "    display: inline-block;\n",
       "}\n",
       "\n",
       "\n",
       "\n",
       "/* checkpoint */\n",
       ".checkpoint {\n",
       "    background-color:yellow;\n",
       "    color:blue;\n",
       "    font-size: 15px;\n",
       "    line-height: 1.4;\n",
       "    font-weight: bold;\n",
       "    border:1px solid #bfbfbf;\n",
       "    padding-top:0px;\n",
       "    padding-bottom:0px;\n",
       "    padding-left:3px;\n",
       "    padding-right:3px;\n",
       "    border-radius: 3px;\n",
       "    display: inline-block;\n",
       "    margin-top:5px;\n",
       "}\n",
       "\n",
       ".codeerror {\n",
       "    background-color:#ffb3b3;\n",
       "    color:red;\n",
       "    font-size: 13px;\n",
       "    line-height: 1.4;\n",
       "    border:1px solid #ffb3b3;\n",
       "    padding-top:7px;\n",
       "    padding-bottom:7px;\n",
       "    padding-left:7px;\n",
       "    padding-right:7px;\n",
       "    border-radius: 3px;\n",
       "    margin:20px;\n",
       "    margin-left:25px;\n",
       "}\n",
       "\n",
       ".lineerror {\n",
       "    background-color:#ffb3b3;\n",
       "    color:red;\n",
       "    font-size: 13px;\n",
       "    line-height: 1.4;\n",
       "    border:1px solid #ffb3b3;\n",
       "    padding-top:0px;\n",
       "    padding-bottom:0px;\n",
       "    padding-left:3px;\n",
       "    padding-right:3px;\n",
       "    border-radius: 3px;\n",
       "    display: inline-block;\n",
       "    margin-top:5px;\n",
       "}\n",
       "\n",
       "\n",
       "/* terminal */\n",
       ".terminal {\n",
       "    background-color:black;\n",
       "    color:white;\n",
       "    font-size: 12px;\n",
       "    line-height: 1.4;\n",
       "    border:1px solid black;\n",
       "    padding-top:0px;\n",
       "    padding-bottom:0px;\n",
       "    padding-left:3px;\n",
       "    padding-right:3px;\n",
       "    border-radius: 3px;\n",
       "    display: inline-block;\n",
       "}\n",
       ".terminal::before {\n",
       "    content: \"Terminal (i.e. Anaconda Promt)\";\n",
       "}\n",
       ".terminalBlock {\n",
       "    font-family: \"SF Mono\",\"Segoe UI Mono\",\"Roboto Mono\",\"Ubuntu Mono\",Menlo,Courier,monospace;\n",
       "    background-color:black;\n",
       "    color:white;\n",
       "    font-size: 14px;\n",
       "    line-height: 1.4;\n",
       "    border:1px solid black;\n",
       "    padding-top:7px;\n",
       "    padding-bottom:7px;\n",
       "    padding-left:7px;\n",
       "    padding-right:7px;\n",
       "    border-radius: 3px;\n",
       "    margin:20px;\n",
       "    margin-left:25px;\n",
       "}\n",
       "\n",
       ".fakeheader {\n",
       "    font-size: 20px;\n",
       "    font-weight:bold;\n",
       "    background-color:#ccebff;\n",
       "    border:1px solid #b3e0ff;\n",
       "    padding:2px;\n",
       "    margin-top:30px;\n",
       "    margin-bottom:15px;\n",
       "}\n",
       "\n",
       "\n",
       "/* Headers */\n",
       "h1 {\n",
       "    background-color:#99d6ff;\n",
       "    border:1px solid #007acc;\n",
       "    padding:8px;\n",
       "}\n",
       "\n",
       "h2 {\n",
       "    background-color:#ccebff;\n",
       "    border:1px solid #b3e0ff;\n",
       "    padding:2px;\n",
       "}\n",
       "\n",
       "h3 {\n",
       "    background-color:#e6f5ff;\n",
       "    padding:1px;\n",
       "}\n",
       "\n",
       "</style>"
      ]
     },
     "metadata": {},
     "output_type": "display_data"
    },
    {
     "data": {
      "text/html": [
       "<style>.Q::before {counter-increment: question_num;\n",
       "    content: 'QUESTION ' counter(question_num) ': '; white-space: pre; }.T::before {counter-increment: task_num;\n",
       "    content: 'Task ' counter(task_num) ': ';</style>"
      ]
     },
     "metadata": {},
     "output_type": "display_data"
    }
   ],
   "source": [
    "cssFile <- '../css/custom.css'\n",
    "IRdisplay::display_html(readChar(cssFile, file.info(cssFile)$size))\n",
    "\n",
    "IRdisplay::display_html(\"<style>.Q::before {counter-increment: question_num;\n",
    "    content: 'QUESTION ' counter(question_num) ': '; white-space: pre; }.T::before {counter-increment: task_num;\n",
    "    content: 'Task ' counter(task_num) ': ';</style>\")"
   ]
  },
  {
   "cell_type": "code",
   "execution_count": null,
   "metadata": {},
   "outputs": [],
   "source": []
  },
  {
   "cell_type": "code",
   "execution_count": null,
   "metadata": {},
   "outputs": [],
   "source": []
  }
 ],
 "metadata": {
  "kernelspec": {
   "display_name": "R",
   "language": "R",
   "name": "ir"
  },
  "language_info": {
   "codemirror_mode": "r",
   "file_extension": ".r",
   "mimetype": "text/x-r-source",
   "name": "R",
   "pygments_lexer": "r",
   "version": "3.6.1"
  }
 },
 "nbformat": 4,
 "nbformat_minor": 4
}
