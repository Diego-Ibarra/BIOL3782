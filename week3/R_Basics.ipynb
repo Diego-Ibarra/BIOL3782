{
 "cells": [
  {
   "cell_type": "markdown",
   "metadata": {},
   "source": [
    "<div class=\"big_title\">LAB 3: R Basics</div>\n",
    "\n",
    "BIO3782: Biologist's Toolkit (Dalhousie University)\n",
    "\n",
    "----------------------------------------"
   ]
  },
  {
   "cell_type": "markdown",
   "metadata": {},
   "source": [
    "In LAB 1, you learned how to identify and tell appart ojcets like `variables`, `functions`, `arguments`, `comments`, `data` and `packages`. In this lab we will review again all of these objects. However, this time around we will \"dive deeper\" and learn intrinsic details about each of these objects. \n",
    "\n",
    "-----------------\n"
   ]
  },
  {
   "cell_type": "markdown",
   "metadata": {},
   "source": [
    "# How to get Help\n",
    "\n",
    "Arguably, programming in any language is mainly knowing **\"where and how to get help\"**. Even experienced programmers find themselves searching Google many times per day. If you run into a problem, this is the suggested steps you may want to do:\n",
    "\n",
    "1. Use the `help()` function and/or RStudio's \"Help panel\" (more on this [below](#Help-files-(i.e.-Function-manuals)))\n",
    "1. Google your question followed by `R`. Example: \"How to do functions in R\"\n",
    "    1. Note that Google Results from [Stack overflow](https://stackoverflow.com/) are usually high quality answers\n",
    "1. Search using https://rseek.org/\n",
    "1. Search directly in [Stack Overflow within the [r] tag](https://stackoverflow.com/questions/tagged/r)\n",
    "\n",
    "Other ports of call:\n",
    "* [Quick R](https://www.statmethods.net/)\n",
    "* [RStudio cheat sheets](https://rstudio.com/resources/cheatsheets/)\n",
    "* [Cookbook for R](http://www.cookbook-r.com/)\n",
    "\n",
    "You should also take a look at the page **\"Getting Help with R\"** from the R project: https://www.r-project.org/help.html"
   ]
  },
  {
   "cell_type": "markdown",
   "metadata": {},
   "source": [
    "# Comments and statements\n",
    "\n",
    "* **Comments** are lines of text meant to be read ONLY by humans (i.e. the computer ignores these lines). Comments usually contain annotations and additional information to make easier to understand the code to the programmer. **Comments** are preceded by a `#` (hashtag)\n",
    "\n",
    "* A **Statement** is a line of text read by the computer. This is \"the code\". A statement contains instructions for the computer to do a simple task.\n",
    "\n",
    "Take a look to the sequence of comments and statements below:\n"
   ]
  },
  {
   "cell_type": "code",
   "execution_count": 1,
   "metadata": {},
   "outputs": [
    {
     "name": "stdout",
     "output_type": "stream",
     "text": [
      "[1] 5\n"
     ]
    }
   ],
   "source": [
    "# This is a Comment because it is preceded by a # (hashtag)\n",
    "x <- 5\n",
    "\n",
    "# Lets print our variables to screen\n",
    "print(x) # Note that comments can be written after a statement (but not before)"
   ]
  },
  {
   "cell_type": "markdown",
   "metadata": {},
   "source": [
    "Above...\n",
    "* The 1st line is a **comment**\n",
    "* The 2nd line is a **statement** assigning the value of variable `x` to be equal to `5` (see \"Variables\" section below for more on this)\n",
    "* The 3rd line is a blank line. Blank lines are ignored by R (they exist to space the code and make it easier to read)\n",
    "* The 4th line is a **comment**\n",
    "* The 5th line is a **statement** asking R to print-to-screen the value of `x` to screen. After the statement, there is another comment \n",
    "\n",
    "If you copy-paste the code above to the **RStudio's** <span class=\"editor\"></span> and click <span class=\"source\"></span>, it will print a `5` to the <span class=\"console\"></span>.\n"
   ]
  },
  {
   "cell_type": "markdown",
   "metadata": {},
   "source": [
    "<div class=\"note\"> Once <span class=\"codeX\">x &lt;- 5</span> has been executed, the value of <span class=\"codeX\">x</span> will be stored <b>\"in memory\"</b> until you turn off R, until you delete <span class=\"codeX\">x</span>, or until you update <span class=\"codeX\">x</span> with a different value.</div>"
   ]
  },
  {
   "cell_type": "markdown",
   "metadata": {},
   "source": [
    "## \"Commenting out\" code\n",
    "\n",
    "The beauty of: <span class=\"nomenclature\">Control</span> + <span class=\"nomenclature\">Shift</span> + <span class=\"nomenclature\">c</span>\n",
    "\n",
    "In RStudio, you can comment many lines at once by selecting the lines that you want to \"comment out\" and then click  `Ctr` + `Shift` + `c`. This will insert a `#` at the beginning of all the selected lines. Note that you can do the reverse (i.e. **\"uncomment code\"**) by selecting several lines beginning with a `#` and again click `Ctr` + `Shift` + `c`. Instead of keaboard shortcuts, you can also click on [Code > Comment/Uncomment Lines].\n",
    "\n",
    "Note that **\"commenting out\"** code is very useful during code development or testing. You want to \"disable\" a few lines of code while you run tests or diagnostics; then, at a later time, you can \"enable\" (i.e. uncomment) your code without ever having to delete or re-write your code."
   ]
  },
  {
   "cell_type": "markdown",
   "metadata": {},
   "source": [
    "<br><br><br>\n",
    "<div class=\"startTASK\"></div>\n",
    "\n",
    "<span class=\"TODO\">This refers to a file from LAB 1... </span>\n",
    "\n",
    "In the file that you created above (i.e. <span class=\"file\">buoy.R</span>). Select all lines and click  `Ctr` + `Shift` + `c`. \n",
    "\n",
    "* What happened to your code?\n",
    "\n",
    "Select all lines again and click  `Ctr` + `Shift` + `c` a second time. \n",
    "\n",
    "* What happened to your code?\n",
    "\n",
    "<div class=\"endTASK\"></div>\n",
    "<br><br><br>"
   ]
  },
  {
   "cell_type": "markdown",
   "metadata": {},
   "source": [
    "# Functions and their arguments\n",
    "\n",
    "As we said before, most of the \"magic\" done in R is done through functions `Functions`! \n",
    "\n",
    "`Functions` are **\"commands\"** to do things like calculate means, make graphs, do stats, etc. Technically speaking, a `function` is a \"program\" that does some manipulations to an \"input\" and returns an \"output\", as represented in the diagram below:\n",
    "\n",
    "<img src=\"./function_diagram.png\" width=\"500px\">\n",
    "\n",
    "`functions` can be divided in three:\n",
    "\n",
    "1. **Built-in** `functions`: These functions come included in R. The \"programs\" that make these `functions` were developed (i.e. coded or written) by the core developers of the R programming language.\n",
    "2. **Imported** `functions`: These functions are made available to you when you **\"load a library\"**. These `functions` were developed (i.e. coded or written) by \"community members\" that usually develop them to solve their own problems, but that also don't mind sharing their `functions` with the rest of the world. \n",
    "3. **Your own** `functions`: Yes! you can make your own functions (we'll learn how to that later). This is the essence of \"code reutilization\". If you find yourself re-writting over and over very similar code, you can pack that code in a `function` so that the next time, you can simply \"execute\" your `function`.\n",
    "\n",
    "\n",
    "Regardless of how you got your `functions` (i.e. built-in, from a library, or made by you), in this section you will learn how to use, or \"execute\", these `functions` or \"commands\". However, before that, we need to learn the basic syntax or \"anatomy\" of a function: \n",
    "\n",
    "To use `Functions`, you must follow one the syntaxes below: \n",
    "\n",
    "<ul>\n",
    "  <li><span class=\"nomenclature\">FunctionName()</span></li>\n",
    "  <li><span class=\"nomenclature\">FunctionName(arguments)</span></li>\n",
    "  <li><span class=\"nomenclature\">Function.Name(arguments)</span></li>\n",
    "</ul>\n",
    "\n",
    "1. Note that **parentheses `( )` ALWAYS accompany** `functions`.\n",
    "2. Before the parentheses is the **Function name**, which may or may not have a \"dot\" in between. Function names often refer to what the function does. For example, the function `print` prints text to the screen.\n",
    "3. Inside the parentheses are `arguments`, which are explained below.\n",
    "\n",
    "\n",
    "## Arguments\n",
    "\n",
    "`Arguments` are the function's `input` and other instructions to guide the `function` on how to do their task properly.  \n",
    "\n",
    "`Functions` can have zero, one or more `arguments`. If a `Function` has more than one `argument`, they will always be separated by **commas** `,` .  \n",
    "\n",
    "If a `function` has **zero** `arguments` (i.e., nothing inside the parentheses), that means that the `function` will take its `input` directly from the computer. For example:\n"
   ]
  },
  {
   "cell_type": "code",
   "execution_count": 2,
   "metadata": {},
   "outputs": [
    {
     "data": {
      "text/plain": [
       "[1] \"2020-12-28 16:47:33 AST\""
      ]
     },
     "metadata": {},
     "output_type": "display_data"
    }
   ],
   "source": [
    "# This function returns the computer's current date and time \n",
    "Sys.time()"
   ]
  },
  {
   "cell_type": "markdown",
   "metadata": {},
   "source": [
    "--------\n",
    "\n",
    "If a `function` has **ONE** `argument`, this argumnet is most likely the function's `input`. For example:"
   ]
  },
  {
   "cell_type": "code",
   "execution_count": 3,
   "metadata": {},
   "outputs": [
    {
     "name": "stdout",
     "output_type": "stream",
     "text": [
      "[1] \"Hello world!\"\n"
     ]
    }
   ],
   "source": [
    "# This function prints-to-screen its input\n",
    "print(\"Hello world!\")"
   ]
  },
  {
   "cell_type": "markdown",
   "metadata": {},
   "source": [
    "where `\"Hello world!\"` is the input for the `print` functions above.\n",
    "\n",
    "-----------------"
   ]
  },
  {
   "cell_type": "markdown",
   "metadata": {},
   "source": [
    "If a `function` has **many** `arguments`, the first `argument` is most likely the `input` of the `function`, and the rest of the `arguments` are instructions to guide the `function` on how to do their task properly, or fine-tune the output. For example: "
   ]
  },
  {
   "cell_type": "code",
   "execution_count": 6,
   "metadata": {},
   "outputs": [
    {
     "name": "stdout",
     "output_type": "stream",
     "text": [
      "[1] 2.8\n"
     ]
    }
   ],
   "source": [
    "# This function prints-to-screen its input (i.e. first argument), but also rounds the output to \"3\" significant digits\n",
    "print(2.797337826, digits=3)"
   ]
  },
  {
   "cell_type": "markdown",
   "metadata": {},
   "source": [
    "where `2.797337826` is the input for the `print` functions above, and `digits=3` is an argument that tells the `print` functionto round the output to 3 significant digits."
   ]
  },
  {
   "cell_type": "markdown",
   "metadata": {},
   "source": [
    "### \"Ordered\" arguments\n",
    "\n",
    "These are `arguments` where **the order** in which you type them inside the parentheses `( )` **is important**. \n",
    "\n",
    "In the example above `2.797337826` is an **\"Ordered\" argument**."
   ]
  },
  {
   "cell_type": "markdown",
   "metadata": {},
   "source": [
    "### \"Named\" arguments\n",
    "\n",
    "\n",
    "These are `arguments` where you must specify the `ArgumentName` following by an equal sign `=`. If you have multiple \"named\" arguments inside the parentheses `( )`one `function`, the order in which you type them is **NOT important**.\n",
    "\n",
    "\n",
    "In the example above `digits=3` is a **\"Named\" argument**."
   ]
  },
  {
   "cell_type": "markdown",
   "metadata": {},
   "source": [
    "--------------------\n",
    "\n",
    "Now that you know the general \"anatomy\" of `functions`, you just need two things before you start using any specific `function`:\n",
    "\n",
    "1. You need to know the `FunctionName` of the function you want to use\n",
    "2. You need to get the \"Function manual\", where you can read instructions on how to use the function \n",
    "\n",
    "In the section below we'll address (1). Two sections below (i.e. Help Files), we'll address (2)."
   ]
  },
  {
   "cell_type": "markdown",
   "metadata": {},
   "source": [
    "## How to find Functions\n",
    "\n",
    "There are literally thousands of `functions` in R. Finding the `FunctionName` of the function that you need can be tricky. \n",
    "\n",
    "As you find yourself needing to \"do things\" in R, you will need to find out if there is an R function that \"does that thing\" that you need to do in R. For example: Image that you need calculate the \"standard deviation\" of your data. You quickly arrive to the question \"what is the `FunctionName` of the function to calculate standard deviation in R?\n",
    "\n",
    "This is actually a hard question with no easy solution. Below are a few pointers on how to find the function that will solve your problem:\n",
    "\n",
    "1. Search in Google or in https://rseek.org/ <br>\n",
    "For example, you can search in Google \"How to calculate a mean in R\". The results should point to tutorials or [stackoverflow](https://stackoverflow.com/questions/tagged/r) answers using a function to calculate a mean.<br><br>\n",
    "\n",
    "2. You can use the `help.search()` function to scan the documentation for packages installed in your library.<br><br>\n",
    "\n",
    "3. You can take a look at the lists below, which include some of the most used built-in `functions` in R."
   ]
  },
  {
   "cell_type": "markdown",
   "metadata": {},
   "source": [
    "### General use functions"
   ]
  },
  {
   "cell_type": "code",
   "execution_count": null,
   "metadata": {},
   "outputs": [],
   "source": [
    "builtins() # List all built-in functions\n",
    "options()  # Set options to control how R computes & displays results\n",
    "\n",
    "# General\n",
    "print()      # Print to screen\n",
    "?NA          # Help page on handling of missing data values\n",
    "abs(x)       # The absolute value of \"x\"\n",
    "append()     # Add elements to a vector\n",
    "cat(x)       # Prints the arguments\n",
    "cbind()      # Combine vectors by row/column (cf. \"paste\" in Unix)\n",
    "diff(x)      # Returns suitably lagged and iterated differences\n",
    "gl()         # Generate factors with the pattern of their levels\n",
    "grep()       # Pattern matching\n",
    "identical()  # Test if 2 objects are *exactly* equal\n",
    "jitter()     # Add a small amount of noise to a numeric vector\n",
    "julian()     # Return Julian date\n",
    "length(x)    # Return no. of elements in vector x\n",
    "mat.or.vec() # Create a matrix or vector\n",
    "paste(x)     # Concatenate vectors after converting to character\n",
    "range(x)     # Returns the minimum and maximum of x\n",
    "rep(1,5)     # Repeat the number 1 five times\n",
    "rev(x)       # List the elements of \"x\" in reverse order\n",
    "seq(1,10,0.4)  # Generate a sequence (1 -> 10, spaced by 0.4)\n",
    "sequence()     # Create a vector of sequences\n",
    "sign(x)        # Returns the signs of the elements of x\n",
    "sort(x)        # Sort the vector x\n",
    "order(x)       # list sorted element numbers of x\n",
    "tolower(),toupper()  # Convert string to lower/upper case letters\n",
    "unique(x)      # Remove duplicate entries from vector\n",
    "system(\"cmd\")  # Execute \"cmd\" in operating system (outside of R)\n",
    "floor(x), ceiling(x), round(x), signif(x), trunc(x)   # rounding functions\n",
    "# Container objects\n",
    "c(x)         # Combine values into a vector or List\n",
    "vector()     # Produces a vector of given length and mode\n",
    "matrix()     # Makes a matrix\n",
    "data.frame() # Makes data frame\n",
    "\n",
    "# Environment and working directory\n",
    "ls()         # List objects in current environment\n",
    "getwd()        # Return working directory\n",
    "setwd()        # Set working directory\n",
    "Sys.getenv(x)  # Get the value of the environment variable \"x\"\n",
    "Sys.putenv(x)  # Set the value of the environment variable \"x\"\n",
    "Sys.time()     # Return system time\n",
    "Sys.Date()     # Return system date\n",
    "?files         # Help on low-level interface to file system\n",
    "list.files()   # List files in a give directory\n",
    "file.info()    # Get information about files"
   ]
  },
  {
   "cell_type": "markdown",
   "metadata": {},
   "source": [
    "### Math functions"
   ]
  },
  {
   "cell_type": "code",
   "execution_count": null,
   "metadata": {},
   "outputs": [],
   "source": [
    "log(x),logb(),log10(),log2(),exp(),expm1(),log1p(),sqrt()   # Fairly obvious\n",
    "cos(),sin(),tan(),acos(),asin(),atan(),atan2()       # Usual stuff\n",
    "cosh(),sinh(),tanh(),acosh(),asinh(),atanh()         # Hyperbolic functions\n",
    "union(),intersect(),setdiff(),setequal()             # Set operations\n",
    "eigen() # Computes eigenvalues and eigenvectors\n",
    "sqrt()  # Square root\n",
    "sum()   # Sum\n",
    "\n",
    "pi      # Pi constant\n",
    "\n",
    "deriv()      # Symbolic and algorithmic derivatives of simple expressions\n",
    "integrate()  # Adaptive quadrature over a finite or infinite interval.\n",
    "\n",
    "?Control     # Help on control flow statements (e.g. if, for, while)\n",
    "?Extract     # Help on operators acting to extract or replace subsets of vectors\n",
    "?Logic       # Help on logical operators\n",
    "?regex       # Help on regular expressions used in R\n",
    "?Syntax      # Help on R syntax and giving the precedence of operators"
   ]
  },
  {
   "cell_type": "markdown",
   "metadata": {},
   "source": [
    "### Graphical functions"
   ]
  },
  {
   "cell_type": "code",
   "execution_count": null,
   "metadata": {},
   "outputs": [],
   "source": [
    "help(package=graphics) # List all graphics functions\n",
    "\n",
    "plot()                # Generic function for plotting of R objects\n",
    "par()                 # Set or query graphical parameters\n",
    "curve(5*x^3,add=T)    # Plot an equation as a curve\n",
    "points(x,y)           # Add another set of points to an existing graph\n",
    "arrows()              # Draw arrows [see errorbar script]\n",
    "abline()              # Adds a straight line to an existing graph\n",
    "lines()               # Join specified points with line segments\n",
    "segments()            # Draw line segments between pairs of points\n",
    "hist(x)               # Plot a histogram of x\n",
    "pairs()               # Plot matrix of scatter plots\n",
    "matplot()             # Plot columns of matrices\n",
    "\n",
    "?device               # Help page on available graphical devices\n",
    "postscript()          # Plot to postscript file\n",
    "pdf()                 # Plot to pdf file\n",
    "png()                 # Plot to PNG file\n",
    "jpeg()                # Plot to JPEG file\n",
    "persp()               # Draws perspective plot\n",
    "contour()             # Contour plot\n",
    "image()               # Plot an image"
   ]
  },
  {
   "cell_type": "markdown",
   "metadata": {},
   "source": [
    "### Statistical functions"
   ]
  },
  {
   "cell_type": "code",
   "execution_count": null,
   "metadata": {},
   "outputs": [],
   "source": [
    "help(package=stats)   # List all stats functions\n",
    "\n",
    "?Chisquare            # Help on chi-squared distribution functions\n",
    "?Poisson              # Help on Poisson distribution functions\n",
    "help(package=survival) # Survival analysis\n",
    "\n",
    "cor.test()            # Perform correlation test\n",
    "cumsum(); cumprod(); cummin(); cummax()   # Cumuluative functions for vectors\n",
    "density(x)            # Compute kernel density estimates\n",
    "ks.test()             # Performs one or two sample Kolmogorov-Smirnov tests\n",
    "loess(), lowess()     # Scatter plot smoothing\n",
    "mad()                 # Calculate median absolute deviation\n",
    "mean(x), weighted.mean(x), median(x), min(x), max(x), quantile(x)\n",
    "rnorm(), runif()  # Generate random data with Gaussian/uniform distribution\n",
    "splinefun()           # Perform spline interpolation\n",
    "smooth.spline()       # Fits a cubic smoothing spline\n",
    "sd()                  # Calculate standard deviation\n",
    "summary(x)            # Returns a summary of x: mean, min, max etc.\n",
    "t.test()              # Student's t-test\n",
    "var()                 # Calculate variance\n",
    "sample()              # Random samples & permutations\n",
    "ecdf()                # Empirical Cumulative Distribution Function\n",
    "qqplot()              # quantile-quantile plot\n",
    "\n",
    "lm      # Fit liner model"
   ]
  },
  {
   "cell_type": "markdown",
   "metadata": {},
   "source": [
    "## Help files (i.e. Function manuals)\n",
    "\n",
    "Once you find a function that you want to use, a big questions arise: How do I use this function? What arguments do I need to provide? What kind of input it takes?\n",
    "\n",
    "Luckily, each `function` has its **\"Help File\"**, which is like an \"instruction manual\" with specific instructions on how to use the `function`.\n",
    "\n",
    "If you search in Google for a specific `function`, you should be able to find the **\"Help File\"** of the function and read in directly in your browser. However, most often you probably will RStudio's help panel as shown below.\n",
    "\n",
    "Regardless on where you visualize or read a **help file** of a function, all **help files** are broken down into sections:\n",
    "\n",
    "* Description: An extended description of what the function does.\n",
    "* Usage: The arguments of the function and their default values.\n",
    "* Arguments: An explanation of the data each argument is expecting.\n",
    "* Details: Any important details to be aware of.\n",
    "* Value: The data the function returns.\n",
    "* See Also: Any related functions you might find useful.\n",
    "* Examples: Some examples for how to use the function.\n",
    "\n",
    "Different functions might have different sections, but these are the main ones you should be aware of.\n",
    "\n",
    "<span class=\"note\"></span> From within the function help page, you can highlight code in the Examples and hit `Ctrl`+`Return` to run it in RStudio console. This gives you a quick way to get a feel for how a function works.\n",
    "\n",
    "To display a **help file** in RStudio's Help panle, you can type in the <span class=\"console\"></span> the function name preceded by a `?`. For example: "
   ]
  },
  {
   "cell_type": "code",
   "execution_count": null,
   "metadata": {},
   "outputs": [],
   "source": [
    "?print"
   ]
  },
  {
   "cell_type": "markdown",
   "metadata": {},
   "source": [
    "...or you can use the `help()` function. For example:"
   ]
  },
  {
   "cell_type": "code",
   "execution_count": null,
   "metadata": {},
   "outputs": [],
   "source": [
    "help(print)"
   ]
  },
  {
   "cell_type": "markdown",
   "metadata": {},
   "source": [
    "... or you can use RStudio's **Help panel** by chicking on the **Help tab**; and typing the name of the `function` in question in the search bar within the Help panel.\n",
    "\n",
    "<img src=\"./help_panel.png\" width=\"500px\">"
   ]
  },
  {
   "cell_type": "markdown",
   "metadata": {},
   "source": [
    "<br><br><br>\n",
    "<div class=\"startTASK\"></div>\n",
    "\n",
    "Use the `?` or the `help()` function to obtain the **\"Help files\"** of 5 functions from the list above. Can you undertand what are the required `argumens`? If not, that is ok, I just want you to start getting used to reading and using **\"Help files\"**.\n",
    "\n",
    "<div class=\"endTASK\"></div>\n",
    "<br><br><br>"
   ]
  },
  {
   "cell_type": "markdown",
   "metadata": {},
   "source": [
    "# Variables\n",
    "\n",
    "<img src=\"./sugar_cube.png\" width=\"250px\">\n",
    "\n",
    "A **Variable** is a user-defined label that can be used to name anything. I like to think \"Variables\" as **stickers** that you can glue to anything to give it a name. In the photo above, the \"Variable **Name**\" is what you wrote on the sticker (in this case, \"Sugar\") and the \"Variable **Value**\" is whatever you glued your sticker to (in this case, a 1 gr sugar cube). \n",
    "\n",
    "In R, the way to create variables is with `<-`, `->` and `=`. See examples below:"
   ]
  },
  {
   "cell_type": "code",
   "execution_count": 2,
   "metadata": {},
   "outputs": [],
   "source": [
    "x <- 5 # Example 1\n",
    "\n",
    "5 -> x # Example 2\n",
    "\n",
    "x = 5  # Example 3"
   ]
  },
  {
   "cell_type": "markdown",
   "metadata": {},
   "source": [
    "The convention of using the \"arrow\" symbols (i.e. `<-` and `->`) comes from the precursor of R, the [S Programming Language](https://en.wikipedia.org/wiki/S_(programming_language)). I personally prefer using `=` because `<-` requires you to type two characters (one needing the \"shift\" key); also the majority of other languages (e.g. Python, C++, etc.) use `=`. However, note that `=` only declares the variable in the current workspace (more on this later). \n",
    "\n",
    "Either way, by far `<-` is the most used way to create variables by the R community, so we'll stick with this in this course.\n",
    "\n",
    "In generic terms, the proper **nomenclature** to \"declare\" a variable is as follows:\n",
    "\n",
    "<span class=\"nomenclature\">VariableName <- VariableValue</span>\n",
    "\n",
    "    \n",
    "\n",
    "<br><br>\n",
    "<div class=\"startTASK\"></div>\n",
    "    \n",
    "Lets do a variable:\n",
    "    \n",
    "\n",
    "Type in the <span class=\"console\"></span> the line below and click [Enter]"
   ]
  },
  {
   "cell_type": "code",
   "execution_count": 3,
   "metadata": {},
   "outputs": [],
   "source": [
    "x <- 5 "
   ]
  },
  {
   "cell_type": "markdown",
   "metadata": {},
   "source": [
    "Even though it looks like nothing happened, when you clicked [Enter], R create the new variable `x` in memory and assigned the value `5` to it. You can see the new variable `x`, and its value `5`, in the **Environment panel**. Alternatively, you can type the \"Variable **Name**\" in the <span class=\"console\"></span> to get the \"Variable **Value**\":\n",
    "\n",
    "Type in the <span class=\"console\"></span> the line below and click [Enter]"
   ]
  },
  {
   "cell_type": "code",
   "execution_count": 4,
   "metadata": {},
   "outputs": [
    {
     "data": {
      "text/html": [
       "5"
      ],
      "text/latex": [
       "5"
      ],
      "text/markdown": [
       "5"
      ],
      "text/plain": [
       "[1] 5"
      ]
     },
     "metadata": {},
     "output_type": "display_data"
    }
   ],
   "source": [
    "x "
   ]
  },
  {
   "cell_type": "markdown",
   "metadata": {},
   "source": [
    "Lets do another variable:\n",
    "\n",
    "Copy-paste the code below into the <span class=\"console\"></span> and click [Enter]:"
   ]
  },
  {
   "cell_type": "code",
   "execution_count": 5,
   "metadata": {},
   "outputs": [
    {
     "data": {
      "text/html": [
       "3000"
      ],
      "text/latex": [
       "3000"
      ],
      "text/markdown": [
       "3000"
      ],
      "text/plain": [
       "[1] 3000"
      ]
     },
     "metadata": {},
     "output_type": "display_data"
    }
   ],
   "source": [
    "y <- 3000\n",
    "\n",
    "y"
   ]
  },
  {
   "cell_type": "markdown",
   "metadata": {},
   "source": [
    "<span class=\"note\"></span> Above, we bundled two steps in one <span class=\"console\"></span> entry: (1) we create the variable `y` with the value `3000`, and (2) we display the value of `y` to screen."
   ]
  },
  {
   "cell_type": "markdown",
   "metadata": {},
   "source": [
    "Lets do two more:\n",
    "\n",
    "Copy-paste the code below into the <span class=\"console\"></span> and click [Enter]: "
   ]
  },
  {
   "cell_type": "code",
   "execution_count": 6,
   "metadata": {},
   "outputs": [
    {
     "data": {
      "text/html": [
       "0"
      ],
      "text/latex": [
       "0"
      ],
      "text/markdown": [
       "0"
      ],
      "text/plain": [
       "[1] 0"
      ]
     },
     "metadata": {},
     "output_type": "display_data"
    },
    {
     "data": {
      "text/html": [
       "35"
      ],
      "text/latex": [
       "35"
      ],
      "text/markdown": [
       "35"
      ],
      "text/plain": [
       "[1] 35"
      ]
     },
     "metadata": {},
     "output_type": "display_data"
    }
   ],
   "source": [
    "a = 0\n",
    "\n",
    "a\n",
    "\n",
    "my_cute_variable <- 35\n",
    "\n",
    "my_cute_variable"
   ]
  },
  {
   "cell_type": "markdown",
   "metadata": {},
   "source": [
    "<div class=\"endTASK\"></div>\n",
    "<br><br><br>\n",
    "\n",
    "<span class=\"important\"></span> While you can name your variables anything you want, it is a good practice to choose variable names that describe what is stored within the variable. `Temperature` is better than `col1`, `number_eggs` is better than `e`, `TransectDensity` is better than `td`."
   ]
  },
  {
   "cell_type": "markdown",
   "metadata": {},
   "source": [
    "-------------\n",
    "\n",
    "## Using \"Variables\" and \"Functions\" together"
   ]
  },
  {
   "cell_type": "markdown",
   "metadata": {},
   "source": [
    "You can use `variables` to \"label\" the **output** from a `funtion`. In this case, the following syntax applies:\n",
    "\n",
    "<span class=\"nomenclature\">VariableName <- FunctionName()</span>\n",
    "\n",
    "For example: "
   ]
  },
  {
   "cell_type": "code",
   "execution_count": 1,
   "metadata": {},
   "outputs": [
    {
     "name": "stdout",
     "output_type": "stream",
     "text": [
      "[1] \"2020-12-29 17:35:31 AST\"\n"
     ]
    }
   ],
   "source": [
    "x <- Sys.time()\n",
    "\n",
    "print(x)"
   ]
  },
  {
   "cell_type": "markdown",
   "metadata": {},
   "source": [
    "<span class=\"TODO\">There is no bouy.R   -  Make different questions</span>"
   ]
  },
  {
   "cell_type": "markdown",
   "metadata": {},
   "source": [
    "<div class=\"Q\"><br><br>\n",
    "\n",
    "Take a look at the code you wrote in your file \"bouy.R\" (or see below).<br><br>\n",
    "\n",
    "<span class=\"codeX\">#Define buoy's URL<br>\n",
    "bouyURL = \"http://columbia.loboviz.com/cgi-data/nph-data.cgi? <br> \n",
    "            x=date&y=temperature&min_date=20180820&max_date=20180907&node=32&data_format=text\"<br>\n",
    "<br>\n",
    "#Read data directly from buoy<br>\n",
    "data = read.csv(bouyURL, sep = \"\\t\", skip = 2)<br>\n",
    "<br>\n",
    "#Do quick plot<br>\n",
    "plot.ts(data[2])</span> \n",
    "\n",
    "    \n",
    "<br><br> \n",
    "Which of the following are <b>variables</b>?\n",
    "    \n",
    "    \n",
    "<br><br><div class=\"qhelp\"></div></div>\n"
   ]
  },
  {
   "cell_type": "markdown",
   "metadata": {},
   "source": [
    "## Check \"Variables\" loaded in memory\n",
    "\n",
    "As we saw in the previous lab, you can use RStudio's ***Environment panel*** to see what **variables** are currently loaded into **memory**, and well as their values.\n",
    "\n",
    "\n",
    "<a href=\"environment_panel.png\" target=\"_blank\"><img src=\"environment_panel.png\" width=\"300px\"></a>\n",
    "\n",
    "You can also see a list of what **variables** are currently loaded into **memory** by executing the function `ls()` on RStudio's **console**:\n",
    "\n",
    "<br><br><br>\n",
    "<div class=\"startTASK\"></div>\n",
    "\n",
    "Type in the <span class=\"console\"></span> the line below and click [Enter]"
   ]
  },
  {
   "cell_type": "code",
   "execution_count": 7,
   "metadata": {},
   "outputs": [
    {
     "data": {
      "text/html": [
       "<ol class=list-inline>\n",
       "\t<li>'a'</li>\n",
       "\t<li>'my_cute_variable'</li>\n",
       "\t<li>'x'</li>\n",
       "\t<li>'y'</li>\n",
       "</ol>\n"
      ],
      "text/latex": [
       "\\begin{enumerate*}\n",
       "\\item 'a'\n",
       "\\item 'my\\_cute\\_variable'\n",
       "\\item 'x'\n",
       "\\item 'y'\n",
       "\\end{enumerate*}\n"
      ],
      "text/markdown": [
       "1. 'a'\n",
       "2. 'my_cute_variable'\n",
       "3. 'x'\n",
       "4. 'y'\n",
       "\n",
       "\n"
      ],
      "text/plain": [
       "[1] \"a\"                \"my_cute_variable\" \"x\"                \"y\"               "
      ]
     },
     "metadata": {},
     "output_type": "display_data"
    }
   ],
   "source": [
    "ls()"
   ]
  },
  {
   "cell_type": "markdown",
   "metadata": {},
   "source": [
    "In the <span class=\"console\"></span>, you should see the variables currently loaded in the memory of your computer.\n",
    "\n",
    "<div class=\"endTASK\"></div>\n",
    "<br><br><br>"
   ]
  },
  {
   "cell_type": "markdown",
   "metadata": {},
   "source": [
    "## Overwriting \"Variables\" values\n",
    "\n",
    "When you create a **Variable**, you assign a Variable **Value** to it. However, you can change its Variable **Value** at anytime simply by assigning to it a different value (kinda' \"overwriting\" or \"updating\" its value). See below:"
   ]
  },
  {
   "cell_type": "code",
   "execution_count": 8,
   "metadata": {},
   "outputs": [
    {
     "name": "stdout",
     "output_type": "stream",
     "text": [
      "[1] 4\n",
      "[1] 2986\n"
     ]
    }
   ],
   "source": [
    "x <- 4 # Assign value of 4 to variable \"a\"\n",
    "print(x) # Check the value of \"a\"\n",
    "\n",
    "# Lets change the value of \"a\"\n",
    "x <- 2986 # Assign value 4\n",
    "print(x) # Check again the value of \"a\""
   ]
  },
  {
   "cell_type": "markdown",
   "metadata": {},
   "source": [
    "## Deleting \"Variables\"\n",
    "\n",
    "### Deleting ONE variable\n",
    "\n",
    "* To remove one variable, use the `rm()` function:"
   ]
  },
  {
   "cell_type": "code",
   "execution_count": 9,
   "metadata": {},
   "outputs": [
    {
     "data": {
      "text/html": [
       "<ol class=list-inline>\n",
       "\t<li>'a'</li>\n",
       "\t<li>'my_cute_variable'</li>\n",
       "\t<li>'x'</li>\n",
       "\t<li>'y'</li>\n",
       "</ol>\n"
      ],
      "text/latex": [
       "\\begin{enumerate*}\n",
       "\\item 'a'\n",
       "\\item 'my\\_cute\\_variable'\n",
       "\\item 'x'\n",
       "\\item 'y'\n",
       "\\end{enumerate*}\n"
      ],
      "text/markdown": [
       "1. 'a'\n",
       "2. 'my_cute_variable'\n",
       "3. 'x'\n",
       "4. 'y'\n",
       "\n",
       "\n"
      ],
      "text/plain": [
       "[1] \"a\"                \"my_cute_variable\" \"x\"                \"y\"               "
      ]
     },
     "metadata": {},
     "output_type": "display_data"
    }
   ],
   "source": [
    "a <- 4 # Make variable \"a\"\n",
    "ls() # Check which variables exist in memory"
   ]
  },
  {
   "cell_type": "code",
   "execution_count": 10,
   "metadata": {},
   "outputs": [
    {
     "data": {
      "text/html": [
       "<ol class=list-inline>\n",
       "\t<li>'my_cute_variable'</li>\n",
       "\t<li>'x'</li>\n",
       "\t<li>'y'</li>\n",
       "</ol>\n"
      ],
      "text/latex": [
       "\\begin{enumerate*}\n",
       "\\item 'my\\_cute\\_variable'\n",
       "\\item 'x'\n",
       "\\item 'y'\n",
       "\\end{enumerate*}\n"
      ],
      "text/markdown": [
       "1. 'my_cute_variable'\n",
       "2. 'x'\n",
       "3. 'y'\n",
       "\n",
       "\n"
      ],
      "text/plain": [
       "[1] \"my_cute_variable\" \"x\"                \"y\"               "
      ]
     },
     "metadata": {},
     "output_type": "display_data"
    }
   ],
   "source": [
    "rm(a) # Remove variable \"a\"\n",
    "ls() # Check again which variables exist in memory"
   ]
  },
  {
   "cell_type": "markdown",
   "metadata": {},
   "source": [
    "<br><br><br>\n",
    "<div class=\"startTASK\"></div>\n",
    "\n",
    "* Create a variable in RStudio... make the Variable **Name** `X` and the Variable **Value** `1000`.\n",
    "* Check the that your new variable in displayed in the **Environment Panel**\n",
    "* Use the `ls()` function to double-check that your new variable `X` is indeed present in **memory**\n",
    "* Use the `rm()` command to remove `X`\n",
    "* Verify that `X` is no longer in the **Environment Panel**\n",
    "* Use the `ls()` function to double-check that the variable `X` is indeed not present in **memory**\n",
    "\n",
    "<div class=\"endTASK\"></div>\n",
    "<br><br><br>"
   ]
  },
  {
   "cell_type": "markdown",
   "metadata": {},
   "source": [
    "### Deleting ALL variables\n",
    "\n",
    "* To remove ALL variables, use: `rm(list = ls())`"
   ]
  },
  {
   "cell_type": "code",
   "execution_count": 11,
   "metadata": {},
   "outputs": [
    {
     "data": {
      "text/html": [
       "<ol class=list-inline>\n",
       "\t<li>'my_cute_variable'</li>\n",
       "\t<li>'x'</li>\n",
       "\t<li>'y'</li>\n",
       "</ol>\n"
      ],
      "text/latex": [
       "\\begin{enumerate*}\n",
       "\\item 'my\\_cute\\_variable'\n",
       "\\item 'x'\n",
       "\\item 'y'\n",
       "\\end{enumerate*}\n"
      ],
      "text/markdown": [
       "1. 'my_cute_variable'\n",
       "2. 'x'\n",
       "3. 'y'\n",
       "\n",
       "\n"
      ],
      "text/plain": [
       "[1] \"my_cute_variable\" \"x\"                \"y\"               "
      ]
     },
     "metadata": {},
     "output_type": "display_data"
    }
   ],
   "source": [
    "ls() # Check which variables exist in memory"
   ]
  },
  {
   "cell_type": "code",
   "execution_count": 12,
   "metadata": {},
   "outputs": [
    {
     "data": {
      "text/html": [],
      "text/latex": [],
      "text/markdown": [],
      "text/plain": [
       "character(0)"
      ]
     },
     "metadata": {},
     "output_type": "display_data"
    }
   ],
   "source": [
    "rm(list = ls()) # Remove ALL variables\n",
    "\n",
    "ls() # Check again which variables exist in memory"
   ]
  },
  {
   "cell_type": "markdown",
   "metadata": {},
   "source": [
    "<div class=\"Q\"><br><br>\n",
    "\n",
    "    \n",
    "In R, what function is used to delete <b>one</b> variable?\n",
    "    \n",
    "    \n",
    "<br><br><div class=\"qhelp\"></div></div>\n"
   ]
  },
  {
   "cell_type": "markdown",
   "metadata": {},
   "source": [
    "<div class=\"Q\"><br><br>\n",
    "\n",
    "    \n",
    "In R, what statement is used to delete <b>ALL</b> variables in your environment?\n",
    "    \n",
    "    \n",
    "<br><br><div class=\"qhelp\"></div></div>\n"
   ]
  },
  {
   "cell_type": "markdown",
   "metadata": {},
   "source": [
    "\n",
    "\n",
    "-------------------------------\n",
    "\n",
    "#  Basic data types\n",
    "\n",
    "I mentioned earlier that R is an object-oriented language, where everything is an object. The \"basic data types\" are the simplest and most basic kinds of objects. All your data must be represented with one of these data types. Each data type behaves under different rules, thus it is important to always be aware of what data type each statement is working with. Below are some of the most common data types used in R:\n",
    "\n",
    "* **double** or **numeric**: `2`, `15.5` (these are numbers allowed to have decimals)\n",
    "* **integer**: `2L` (these are \"round\" numbers; the L tells R to store this as an integer)\n",
    "* **character**: `\"a\"`, `\"2\"`, `\"hello\"` (these are letters)\n",
    "* **logical**: `TRUE` or `FALSE`\n",
    "\n",
    "You can use the `typeof()` function to query any variable to see what data type are they made of. \n",
    "\n",
    "Lets dive a bit deeper into each different **basic data type**."
   ]
  },
  {
   "cell_type": "markdown",
   "metadata": {},
   "source": [
    "## Double (or numeric) \n",
    "**Double (or numeric)** objects are numbers that are allowed to have a decimal point. "
   ]
  },
  {
   "cell_type": "code",
   "execution_count": 13,
   "metadata": {},
   "outputs": [
    {
     "data": {
      "text/html": [
       "'double'"
      ],
      "text/latex": [
       "'double'"
      ],
      "text/markdown": [
       "'double'"
      ],
      "text/plain": [
       "[1] \"double\""
      ]
     },
     "metadata": {},
     "output_type": "display_data"
    }
   ],
   "source": [
    "x <- 4.67\n",
    "\n",
    "typeof(x)"
   ]
  },
  {
   "cell_type": "markdown",
   "metadata": {},
   "source": [
    "## Integers\n",
    "\n",
    "**Integers** are \"round\" numbers (i.e. no decimal point). Note that you have to add a capital `L` at the end to specify the number is an integer. If you do not ad an `L`, R will think it is a **double** with .0 as a decimal."
   ]
  },
  {
   "cell_type": "code",
   "execution_count": 14,
   "metadata": {},
   "outputs": [
    {
     "data": {
      "text/html": [
       "'integer'"
      ],
      "text/latex": [
       "'integer'"
      ],
      "text/markdown": [
       "'integer'"
      ],
      "text/plain": [
       "[1] \"integer\""
      ]
     },
     "metadata": {},
     "output_type": "display_data"
    }
   ],
   "source": [
    "y <- 4L\n",
    "\n",
    "typeof(y)"
   ]
  },
  {
   "cell_type": "markdown",
   "metadata": {},
   "source": [
    "## Character\n",
    "**Characters** are letters. Note that you need to wrap the content of the string within quotes to tell R they are a character "
   ]
  },
  {
   "cell_type": "code",
   "execution_count": 15,
   "metadata": {},
   "outputs": [
    {
     "data": {
      "text/html": [
       "'character'"
      ],
      "text/latex": [
       "'character'"
      ],
      "text/markdown": [
       "'character'"
      ],
      "text/plain": [
       "[1] \"character\""
      ]
     },
     "metadata": {},
     "output_type": "display_data"
    },
    {
     "data": {
      "text/html": [
       "'character'"
      ],
      "text/latex": [
       "'character'"
      ],
      "text/markdown": [
       "'character'"
      ],
      "text/plain": [
       "[1] \"character\""
      ]
     },
     "metadata": {},
     "output_type": "display_data"
    }
   ],
   "source": [
    "a <- \"hello\" # Example 1\n",
    "b <- \"2.3\"   # Example 2\n",
    "\n",
    "typeof(a)\n",
    "typeof(b)"
   ]
  },
  {
   "cell_type": "markdown",
   "metadata": {},
   "source": [
    "Note that even though `2.3` is a number, because we declared it with quotes (i.e. `\"2.3\"`), it will be treated by R as \"letters\". Therefore, you won't be able to do math with \"2.3\"."
   ]
  },
  {
   "cell_type": "markdown",
   "metadata": {},
   "source": [
    "## Logical\n",
    "\n",
    "Logicals can only have one of two values `TRUE` or `FALSE`. They are used to represent \"true or false\" statements."
   ]
  },
  {
   "cell_type": "code",
   "execution_count": 16,
   "metadata": {},
   "outputs": [
    {
     "data": {
      "text/html": [
       "'logical'"
      ],
      "text/latex": [
       "'logical'"
      ],
      "text/markdown": [
       "'logical'"
      ],
      "text/plain": [
       "[1] \"logical\""
      ]
     },
     "metadata": {},
     "output_type": "display_data"
    }
   ],
   "source": [
    "x <- FALSE\n",
    "\n",
    "typeof(x)"
   ]
  },
  {
   "cell_type": "markdown",
   "metadata": {},
   "source": [
    "<div class=\"Q\"><br><br>\n",
    "\n",
    "What data type is the following: <br><br>\n",
    "324.91\n",
    "\n",
    "<br><br><div class=\"qhelp\"></div></div>\n"
   ]
  },
  {
   "cell_type": "markdown",
   "metadata": {},
   "source": [
    "<div class=\"Q\"><br><br>\n",
    "\n",
    "What data type is the following: <br><br>\n",
    "\n",
    "<span class=\"codeX\">\"the house is green\"</span><br>\n",
    "\n",
    "<br><br><div class=\"qhelp\"></div></div>"
   ]
  },
  {
   "cell_type": "markdown",
   "metadata": {},
   "source": [
    "<div class=\"Q\"><br><br>\n",
    "\n",
    "What data type is the following: <br><br>\n",
    "    \n",
    "<span class=\"codeX\">87572</span><br>\n",
    "\n",
    "\n",
    "<br><br><div class=\"qhelp\"></div></div>"
   ]
  },
  {
   "cell_type": "markdown",
   "metadata": {},
   "source": [
    "<div class=\"Q\"><br><br>\n",
    "\n",
    "If you execute the following line in Python... <br><br>\n",
    "    \n",
    "<span class=\"codeX\">a = 32</span><br><br>\n",
    "\n",
    "Then, what is \"<b>32</b>\"?\n",
    "\n",
    "<br><br><div class=\"qhelp\"></div></div>"
   ]
  },
  {
   "cell_type": "markdown",
   "metadata": {},
   "source": [
    "<div class=\"Q\"><br><br>\n",
    "\n",
    "If you execute the following line in Python... <br><br>\n",
    "    \n",
    "<span class=\"codeX\">a = 32</span><br><br>\n",
    "\n",
    "Then, what is \"<b>a</b>\"?\n",
    "\n",
    "<br><br><div class=\"qhelp\"></div></div>"
   ]
  },
  {
   "cell_type": "markdown",
   "metadata": {},
   "source": [
    "----------------------------\n",
    "\n",
    "# R Operators\n",
    "\n",
    "Now that you know how to do `numeric`, `integer`, `character` and `logical` elements, you can start doing arithmetic, relational and logical operations. Below is a \"cheat-sheet\" of all the operators in R:"
   ]
  },
  {
   "cell_type": "code",
   "execution_count": null,
   "metadata": {},
   "outputs": [],
   "source": [
    "# Arithmetic Operators -------\n",
    "+   # Addition\n",
    "-   # Subtraction\n",
    "*   # Multiplication\n",
    "/   # Division\n",
    "^   # Exponent\n",
    "%%  # Modulus (Remainder from division)\n",
    "%/% # Integer Division\n",
    "\n",
    "# Relational Operators --------\n",
    "<  # Less than\n",
    ">  # Greater than\n",
    "<= # Less than or equal to\n",
    ">= # Greater than or equal to\n",
    "== # Equal to\n",
    "!= # Not equal to\n",
    "\n",
    "# Logical Operators -----------\n",
    "!  # Logical NOT\n",
    "&  # Element-wise logical AND\n",
    "&& # Logical AND\n",
    "|  # Element-wise logical OR\n",
    "|| # Logical OR\n",
    "\n",
    "# Assignment Operators ---------\n",
    "<-, <<-, = # Leftwards assignment\n",
    "->, ->> # Rightwards assignment"
   ]
  },
  {
   "cell_type": "markdown",
   "metadata": {},
   "source": [
    "We won't dive in all of the operators at this point, but here are few examples:"
   ]
  },
  {
   "cell_type": "code",
   "execution_count": 17,
   "metadata": {},
   "outputs": [
    {
     "data": {
      "text/html": [
       "14"
      ],
      "text/latex": [
       "14"
      ],
      "text/markdown": [
       "14"
      ],
      "text/plain": [
       "[1] 14"
      ]
     },
     "metadata": {},
     "output_type": "display_data"
    }
   ],
   "source": [
    "7 * 2"
   ]
  },
  {
   "cell_type": "code",
   "execution_count": 18,
   "metadata": {},
   "outputs": [
    {
     "data": {
      "text/html": [
       "5"
      ],
      "text/latex": [
       "5"
      ],
      "text/markdown": [
       "5"
      ],
      "text/plain": [
       "[1] 5"
      ]
     },
     "metadata": {},
     "output_type": "display_data"
    }
   ],
   "source": [
    "x <- 8 - 3\n",
    "\n",
    "x"
   ]
  },
  {
   "cell_type": "code",
   "execution_count": 19,
   "metadata": {},
   "outputs": [
    {
     "data": {
      "text/html": [
       "8"
      ],
      "text/latex": [
       "8"
      ],
      "text/markdown": [
       "8"
      ],
      "text/plain": [
       "[1] 8"
      ]
     },
     "metadata": {},
     "output_type": "display_data"
    }
   ],
   "source": [
    "2^3"
   ]
  },
  {
   "cell_type": "code",
   "execution_count": 20,
   "metadata": {},
   "outputs": [
    {
     "data": {
      "text/html": [
       "TRUE"
      ],
      "text/latex": [
       "TRUE"
      ],
      "text/markdown": [
       "TRUE"
      ],
      "text/plain": [
       "[1] TRUE"
      ]
     },
     "metadata": {},
     "output_type": "display_data"
    }
   ],
   "source": [
    "7 > 2"
   ]
  },
  {
   "cell_type": "code",
   "execution_count": 21,
   "metadata": {},
   "outputs": [
    {
     "data": {
      "text/html": [
       "FALSE"
      ],
      "text/latex": [
       "FALSE"
      ],
      "text/markdown": [
       "FALSE"
      ],
      "text/plain": [
       "[1] FALSE"
      ]
     },
     "metadata": {},
     "output_type": "display_data"
    }
   ],
   "source": [
    "9 >= 18"
   ]
  },
  {
   "cell_type": "markdown",
   "metadata": {},
   "source": [
    "# Data Structures (i.e. \"Container\" objects)\n",
    "\n",
    "<img src=\"./sugar_jar.png\" width=\"400px\">\n",
    "\n",
    "We mentioned that everything in R is an object, and that the \"Basic Data Types\" are the simplest type of objects. **\"Data Structures\"** are also objects, however a bit more complicated. **\"Data Structures\"** are designed to contain groups of other objects... thus, I like to call them **\"Container\"** objects.\n",
    "\n",
    "In the photo above (i.e. jar of sugar cubes), the \"Variable **Name**\" is what you wrote on the sticker (in this case, \"Sugar\"), the \"Variable **Value**\" is whatever you glued your sticker to (in this case, a jar with 28 one-gram sugar cubes). The jar is a **\"Container\"** object and each of the sugar cubes is a different object, each with its own \"Basic Data Type\" and value.\n",
    "\n",
    "The main **\"Data Structures\"** that we will discuss here are:\n",
    "\n",
    "* Vector\n",
    "* Matrix\n",
    "* List\n",
    "* Data Frame\n",
    "* Factors\n",
    "\n",
    "You can use the function `class()` to query the type of \"Data Structure\" of a variable, for example:\n",
    "\n",
    "* `class(x)` will return `matrix`, if `x` is a **Matrix** Data Structure\n",
    "* `class(x)` will return `list`, if `x` is a **List** Data Structure\n",
    "* `class(x)` will return `data.frame`, if `x` is a **Data Frame** Data Structure\n",
    "* `class(x)` will return `factor`, if `x` is a **Factor** Data Structure\n",
    "* **Vectors** are the odd one here. `class(x)` will return the **Basic Data Type** of the elements within `x` (see the two examples below)."
   ]
  },
  {
   "cell_type": "markdown",
   "metadata": {},
   "source": [
    "## Vector\n",
    "\n",
    "A vector is a collection of elements of **the same \"Basic Data Type\"** (i.e. `numeric`, `integer`, `character`, or `logical`). You can think of a \"vector\" as **one single column** in a spread-sheet. Technically, vectors can be either (1) **atomic vectors** (i.e. all elements of the same \"Basic Data Type\"), or (2) **lists** (i.e. elements can be of different types). However, the term “vector” most commonly refers to the \"atomic vectors\" and \"list vectors\" are referred simply as \"lists\", which we will discuss in a section below.\n",
    "\n",
    "Vectors are particularly well suited to do matrix algebra.\n",
    "\n",
    "To make a vector, use the \"combine\" function, `c`."
   ]
  },
  {
   "cell_type": "code",
   "execution_count": 22,
   "metadata": {},
   "outputs": [
    {
     "data": {
      "text/html": [
       "<ol class=list-inline>\n",
       "\t<li>5</li>\n",
       "\t<li>2</li>\n",
       "\t<li>7</li>\n",
       "\t<li>4</li>\n",
       "</ol>\n"
      ],
      "text/latex": [
       "\\begin{enumerate*}\n",
       "\\item 5\n",
       "\\item 2\n",
       "\\item 7\n",
       "\\item 4\n",
       "\\end{enumerate*}\n"
      ],
      "text/markdown": [
       "1. 5\n",
       "2. 2\n",
       "3. 7\n",
       "4. 4\n",
       "\n",
       "\n"
      ],
      "text/plain": [
       "[1] 5 2 7 4"
      ]
     },
     "metadata": {},
     "output_type": "display_data"
    },
    {
     "data": {
      "text/html": [
       "'numeric'"
      ],
      "text/latex": [
       "'numeric'"
      ],
      "text/markdown": [
       "'numeric'"
      ],
      "text/plain": [
       "[1] \"numeric\""
      ]
     },
     "metadata": {},
     "output_type": "display_data"
    }
   ],
   "source": [
    "x <- c(5, 2, 7, 4)\n",
    "\n",
    "x\n",
    "\n",
    "class(x)"
   ]
  },
  {
   "cell_type": "markdown",
   "metadata": {},
   "source": [
    "Note that `class(x)` returned `'numeric'` because ALL the elements within `x` are of **Numeric** Basic Data Type."
   ]
  },
  {
   "cell_type": "code",
   "execution_count": 23,
   "metadata": {},
   "outputs": [
    {
     "data": {
      "text/html": [
       "<ol class=list-inline>\n",
       "\t<li>'a'</li>\n",
       "\t<li>'b'</li>\n",
       "\t<li>'c'</li>\n",
       "\t<li>'d'</li>\n",
       "</ol>\n"
      ],
      "text/latex": [
       "\\begin{enumerate*}\n",
       "\\item 'a'\n",
       "\\item 'b'\n",
       "\\item 'c'\n",
       "\\item 'd'\n",
       "\\end{enumerate*}\n"
      ],
      "text/markdown": [
       "1. 'a'\n",
       "2. 'b'\n",
       "3. 'c'\n",
       "4. 'd'\n",
       "\n",
       "\n"
      ],
      "text/plain": [
       "[1] \"a\" \"b\" \"c\" \"d\""
      ]
     },
     "metadata": {},
     "output_type": "display_data"
    },
    {
     "data": {
      "text/html": [
       "'character'"
      ],
      "text/latex": [
       "'character'"
      ],
      "text/markdown": [
       "'character'"
      ],
      "text/plain": [
       "[1] \"character\""
      ]
     },
     "metadata": {},
     "output_type": "display_data"
    }
   ],
   "source": [
    "x <- c(\"a\", \"b\", \"c\", \"d\")\n",
    "\n",
    "x\n",
    "\n",
    "class(x)"
   ]
  },
  {
   "cell_type": "markdown",
   "metadata": {},
   "source": [
    "Note that `class(x)` returned `'character'` because ALL the elements within `x` are of **Character** Basic Data Type.\n",
    "\n",
    "----------------\n",
    "\n",
    "In the example below, lets insert a 'numeric' element among a bunch of 'character' elements to see what happens:"
   ]
  },
  {
   "cell_type": "code",
   "execution_count": 24,
   "metadata": {},
   "outputs": [
    {
     "data": {
      "text/html": [
       "<ol class=list-inline>\n",
       "\t<li>'a'</li>\n",
       "\t<li>'b'</li>\n",
       "\t<li>'7'</li>\n",
       "\t<li>'d'</li>\n",
       "</ol>\n"
      ],
      "text/latex": [
       "\\begin{enumerate*}\n",
       "\\item 'a'\n",
       "\\item 'b'\n",
       "\\item '7'\n",
       "\\item 'd'\n",
       "\\end{enumerate*}\n"
      ],
      "text/markdown": [
       "1. 'a'\n",
       "2. 'b'\n",
       "3. '7'\n",
       "4. 'd'\n",
       "\n",
       "\n"
      ],
      "text/plain": [
       "[1] \"a\" \"b\" \"7\" \"d\""
      ]
     },
     "metadata": {},
     "output_type": "display_data"
    },
    {
     "data": {
      "text/html": [
       "'character'"
      ],
      "text/latex": [
       "'character'"
      ],
      "text/markdown": [
       "'character'"
      ],
      "text/plain": [
       "[1] \"character\""
      ]
     },
     "metadata": {},
     "output_type": "display_data"
    }
   ],
   "source": [
    "x <- c(\"a\", \"b\", 7, \"d\")\n",
    "\n",
    "x\n",
    "\n",
    "class(x)"
   ]
  },
  {
   "cell_type": "markdown",
   "metadata": {},
   "source": [
    "Note that R changed the \"number\" `7` for a \"character\" `'7'`. In this example, R assumed that, since you added three 'character' elements and only one 'numeric' element, you probably want to have an all 'character' vector and thus changed the numeric `7` for the character `'7'`. This behaviour of R is called **\"coercion\"** and is handy to correct for potential errors, but it can also get the programmer into troubles, by changing the data type of an element without warning."
   ]
  },
  {
   "cell_type": "markdown",
   "metadata": {},
   "source": [
    "## Matrix\n",
    "\n",
    "**Matrices** are an extension of vectors. They are simply a vector with dimensions of \"number of rows\" by \"number of columns\". As with vectors, the elements of a matrix must be of the same Data Type.\n",
    "\n",
    "Just like vectors, matrices are particularly well suited to do matrix algebra.\n",
    "\n",
    "To make a **Matrix**, use the function `matrix()`"
   ]
  },
  {
   "cell_type": "code",
   "execution_count": 25,
   "metadata": {},
   "outputs": [
    {
     "data": {
      "text/html": [
       "<table>\n",
       "<tbody>\n",
       "\t<tr><td>1 </td><td>5 </td><td> 9</td></tr>\n",
       "\t<tr><td>2 </td><td>6 </td><td>10</td></tr>\n",
       "\t<tr><td>3 </td><td>7 </td><td>11</td></tr>\n",
       "\t<tr><td>4 </td><td>8 </td><td>12</td></tr>\n",
       "</tbody>\n",
       "</table>\n"
      ],
      "text/latex": [
       "\\begin{tabular}{lll}\n",
       "\t 1  & 5  &  9\\\\\n",
       "\t 2  & 6  & 10\\\\\n",
       "\t 3  & 7  & 11\\\\\n",
       "\t 4  & 8  & 12\\\\\n",
       "\\end{tabular}\n"
      ],
      "text/markdown": [
       "\n",
       "| 1  | 5  |  9 |\n",
       "| 2  | 6  | 10 |\n",
       "| 3  | 7  | 11 |\n",
       "| 4  | 8  | 12 |\n",
       "\n"
      ],
      "text/plain": [
       "     [,1] [,2] [,3]\n",
       "[1,] 1    5     9  \n",
       "[2,] 2    6    10  \n",
       "[3,] 3    7    11  \n",
       "[4,] 4    8    12  "
      ]
     },
     "metadata": {},
     "output_type": "display_data"
    },
    {
     "data": {
      "text/html": [
       "'matrix'"
      ],
      "text/latex": [
       "'matrix'"
      ],
      "text/markdown": [
       "'matrix'"
      ],
      "text/plain": [
       "[1] \"matrix\""
      ]
     },
     "metadata": {},
     "output_type": "display_data"
    }
   ],
   "source": [
    "x <- matrix(c(1, 2, 3, 4, 5, 6, 7, 8, 9, 10, 11, 12), nrow=4, ncol=3)\n",
    "\n",
    "x\n",
    "\n",
    "class(x)"
   ]
  },
  {
   "cell_type": "markdown",
   "metadata": {},
   "source": [
    "## List\n",
    "\n",
    "**Lists** are like vectors, but **without the restriction** of having their contents of a single Data Type. You can mix `numeric`, `integer`, `character`, and `logical` elements within a single **List**. Lists are sometimes called \"generic vectors\", because the elements of a list can be of any type of R object, even lists containing further lists. This property makes them fundamentally different from the atomic vectors that we discussed above.\n",
    "\n",
    "To make a list, use the function `list()`"
   ]
  },
  {
   "cell_type": "code",
   "execution_count": 26,
   "metadata": {},
   "outputs": [
    {
     "data": {
      "text/html": [
       "<ol>\n",
       "\t<li>1</li>\n",
       "\t<li>'a'</li>\n",
       "\t<li>4</li>\n",
       "\t<li>6.87</li>\n",
       "\t<li>TRUE</li>\n",
       "\t<li>'hello'</li>\n",
       "</ol>\n"
      ],
      "text/latex": [
       "\\begin{enumerate}\n",
       "\\item 1\n",
       "\\item 'a'\n",
       "\\item 4\n",
       "\\item 6.87\n",
       "\\item TRUE\n",
       "\\item 'hello'\n",
       "\\end{enumerate}\n"
      ],
      "text/markdown": [
       "1. 1\n",
       "2. 'a'\n",
       "3. 4\n",
       "4. 6.87\n",
       "5. TRUE\n",
       "6. 'hello'\n",
       "\n",
       "\n"
      ],
      "text/plain": [
       "[[1]]\n",
       "[1] 1\n",
       "\n",
       "[[2]]\n",
       "[1] \"a\"\n",
       "\n",
       "[[3]]\n",
       "[1] 4\n",
       "\n",
       "[[4]]\n",
       "[1] 6.87\n",
       "\n",
       "[[5]]\n",
       "[1] TRUE\n",
       "\n",
       "[[6]]\n",
       "[1] \"hello\"\n"
      ]
     },
     "metadata": {},
     "output_type": "display_data"
    },
    {
     "data": {
      "text/html": [
       "'list'"
      ],
      "text/latex": [
       "'list'"
      ],
      "text/markdown": [
       "'list'"
      ],
      "text/plain": [
       "[1] \"list\""
      ]
     },
     "metadata": {},
     "output_type": "display_data"
    }
   ],
   "source": [
    "x <- list(1L, \"a\", 4, 6.87, TRUE, \"hello\")\n",
    "\n",
    "x\n",
    "\n",
    "class(x)"
   ]
  },
  {
   "cell_type": "markdown",
   "metadata": {},
   "source": [
    "Below is an example of a list that contains another list. We'll insert the list created in the code above as the 3rd element of the list below, `y`:"
   ]
  },
  {
   "cell_type": "code",
   "execution_count": 27,
   "metadata": {},
   "outputs": [
    {
     "data": {
      "text/html": [
       "<ol>\n",
       "\t<li>4</li>\n",
       "\t<li>'world'</li>\n",
       "\t<li><ol>\n",
       "\t<li>1</li>\n",
       "\t<li>'a'</li>\n",
       "\t<li>4</li>\n",
       "\t<li>6.87</li>\n",
       "\t<li>TRUE</li>\n",
       "\t<li>'hello'</li>\n",
       "</ol>\n",
       "</li>\n",
       "\t<li>3.67</li>\n",
       "</ol>\n"
      ],
      "text/latex": [
       "\\begin{enumerate}\n",
       "\\item 4\n",
       "\\item 'world'\n",
       "\\item \\begin{enumerate}\n",
       "\\item 1\n",
       "\\item 'a'\n",
       "\\item 4\n",
       "\\item 6.87\n",
       "\\item TRUE\n",
       "\\item 'hello'\n",
       "\\end{enumerate}\n",
       "\n",
       "\\item 3.67\n",
       "\\end{enumerate}\n"
      ],
      "text/markdown": [
       "1. 4\n",
       "2. 'world'\n",
       "3. 1. 1\n",
       "2. 'a'\n",
       "3. 4\n",
       "4. 6.87\n",
       "5. TRUE\n",
       "6. 'hello'\n",
       "\n",
       "\n",
       "\n",
       "4. 3.67\n",
       "\n",
       "\n"
      ],
      "text/plain": [
       "[[1]]\n",
       "[1] 4\n",
       "\n",
       "[[2]]\n",
       "[1] \"world\"\n",
       "\n",
       "[[3]]\n",
       "[[3]][[1]]\n",
       "[1] 1\n",
       "\n",
       "[[3]][[2]]\n",
       "[1] \"a\"\n",
       "\n",
       "[[3]][[3]]\n",
       "[1] 4\n",
       "\n",
       "[[3]][[4]]\n",
       "[1] 6.87\n",
       "\n",
       "[[3]][[5]]\n",
       "[1] TRUE\n",
       "\n",
       "[[3]][[6]]\n",
       "[1] \"hello\"\n",
       "\n",
       "\n",
       "[[4]]\n",
       "[1] 3.67\n"
      ]
     },
     "metadata": {},
     "output_type": "display_data"
    },
    {
     "data": {
      "text/html": [
       "'list'"
      ],
      "text/latex": [
       "'list'"
      ],
      "text/markdown": [
       "'list'"
      ],
      "text/plain": [
       "[1] \"list\""
      ]
     },
     "metadata": {},
     "output_type": "display_data"
    }
   ],
   "source": [
    "# Example of lists within a list\n",
    "y <- list(4, \"world\", x, 3.67)\n",
    "\n",
    "y\n",
    "\n",
    "class(y)"
   ]
  },
  {
   "cell_type": "markdown",
   "metadata": {},
   "source": [
    "## Data Frame\n",
    "\n",
    "**Data frames** are a very important data type in R. It’s pretty much the *de facto* data structure for most tabular data and what we use in the biology field and in plotting in general. **Data frames** can be created by hand, but most commonly they are generated when importing spreadsheets from your hard-drive or the web.\n",
    "\n",
    "Remember that a \"matrix\" is a special type of \"vector\" with multiple rows and columns? Well, similarly, a **Data Frame** is a special type of **list** with multiple rows and column, where every element of the list has same length (i.e. data frame is a “rectangular” list). Same as lists, the elements of a **Data frames** can be of any type of R object (i.e. `numeric`, `integer`, `character`, `logical`, lists and other Data Frames). \n",
    "\n",
    "To make a list, use the `data.frame()` function:"
   ]
  },
  {
   "cell_type": "code",
   "execution_count": 28,
   "metadata": {},
   "outputs": [
    {
     "data": {
      "text/html": [
       "<table>\n",
       "<thead><tr><th scope=col>id</th><th scope=col>x</th><th scope=col>y</th></tr></thead>\n",
       "<tbody>\n",
       "\t<tr><td> 1</td><td>11</td><td>21</td></tr>\n",
       "\t<tr><td> 2</td><td>12</td><td>22</td></tr>\n",
       "\t<tr><td> 3</td><td>13</td><td>23</td></tr>\n",
       "\t<tr><td> 4</td><td>14</td><td>24</td></tr>\n",
       "\t<tr><td> 5</td><td>15</td><td>25</td></tr>\n",
       "\t<tr><td> 6</td><td>16</td><td>26</td></tr>\n",
       "\t<tr><td> 7</td><td>17</td><td>27</td></tr>\n",
       "\t<tr><td> 8</td><td>18</td><td>28</td></tr>\n",
       "\t<tr><td> 9</td><td>19</td><td>29</td></tr>\n",
       "\t<tr><td>10</td><td>20</td><td>30</td></tr>\n",
       "</tbody>\n",
       "</table>\n"
      ],
      "text/latex": [
       "\\begin{tabular}{r|lll}\n",
       " id & x & y\\\\\n",
       "\\hline\n",
       "\t  1 & 11 & 21\\\\\n",
       "\t  2 & 12 & 22\\\\\n",
       "\t  3 & 13 & 23\\\\\n",
       "\t  4 & 14 & 24\\\\\n",
       "\t  5 & 15 & 25\\\\\n",
       "\t  6 & 16 & 26\\\\\n",
       "\t  7 & 17 & 27\\\\\n",
       "\t  8 & 18 & 28\\\\\n",
       "\t  9 & 19 & 29\\\\\n",
       "\t 10 & 20 & 30\\\\\n",
       "\\end{tabular}\n"
      ],
      "text/markdown": [
       "\n",
       "| id | x | y |\n",
       "|---|---|---|\n",
       "|  1 | 11 | 21 |\n",
       "|  2 | 12 | 22 |\n",
       "|  3 | 13 | 23 |\n",
       "|  4 | 14 | 24 |\n",
       "|  5 | 15 | 25 |\n",
       "|  6 | 16 | 26 |\n",
       "|  7 | 17 | 27 |\n",
       "|  8 | 18 | 28 |\n",
       "|  9 | 19 | 29 |\n",
       "| 10 | 20 | 30 |\n",
       "\n"
      ],
      "text/plain": [
       "   id x  y \n",
       "1   1 11 21\n",
       "2   2 12 22\n",
       "3   3 13 23\n",
       "4   4 14 24\n",
       "5   5 15 25\n",
       "6   6 16 26\n",
       "7   7 17 27\n",
       "8   8 18 28\n",
       "9   9 19 29\n",
       "10 10 20 30"
      ]
     },
     "metadata": {},
     "output_type": "display_data"
    },
    {
     "data": {
      "text/html": [
       "'data.frame'"
      ],
      "text/latex": [
       "'data.frame'"
      ],
      "text/markdown": [
       "'data.frame'"
      ],
      "text/plain": [
       "[1] \"data.frame\""
      ]
     },
     "metadata": {},
     "output_type": "display_data"
    }
   ],
   "source": [
    "x <- data.frame(id = 1:10, x = 11:20, y = 21:30)\n",
    "\n",
    "x\n",
    "\n",
    "class(x)"
   ]
  },
  {
   "cell_type": "markdown",
   "metadata": {},
   "source": [
    "## Factors\n",
    "\n",
    "**Factors** are used to represent categorical data. Conceptually, **factors** are variables in R which take on a limited number of different values (e.g. \"male\" and \"female\"). One of the most important uses of factors is in statistical modeling; since categorical variables enter into statistical models differently than continuous variables, storing data as factors insures that the modeling functions will treat such data correctly.\n",
    "\n",
    "Factors in R are stored as a vector of integer values with a corresponding set of character values to use when the factor is displayed. The `factor` function is used to create a factor. The only required argument to factor is a vector of values which will be returned as a vector of factor values. Both numeric and character variables can be made into factors, but a factor's levels will always be character values. Factors represent a very efficient way to store character values, because each unique character value is stored only once, and the data itself is stored as a vector of integers.\n",
    "\n",
    "Below is an example:"
   ]
  },
  {
   "cell_type": "code",
   "execution_count": 3,
   "metadata": {},
   "outputs": [
    {
     "data": {
      "text/html": [
       "<ol class=list-inline>\n",
       "\t<li>beluga</li>\n",
       "\t<li>dolphin</li>\n",
       "\t<li>narwhal</li>\n",
       "\t<li>dolphin</li>\n",
       "\t<li>dolphin</li>\n",
       "\t<li>narwhal</li>\n",
       "\t<li>beluga</li>\n",
       "\t<li>beluga</li>\n",
       "</ol>\n",
       "\n",
       "<details>\n",
       "\t<summary style=display:list-item;cursor:pointer>\n",
       "\t\t<strong>Levels</strong>:\n",
       "\t</summary>\n",
       "\t<ol class=list-inline>\n",
       "\t\t<li>'beluga'</li>\n",
       "\t\t<li>'dolphin'</li>\n",
       "\t\t<li>'narwhal'</li>\n",
       "\t</ol>\n",
       "</details>"
      ],
      "text/latex": [
       "\\begin{enumerate*}\n",
       "\\item beluga\n",
       "\\item dolphin\n",
       "\\item narwhal\n",
       "\\item dolphin\n",
       "\\item dolphin\n",
       "\\item narwhal\n",
       "\\item beluga\n",
       "\\item beluga\n",
       "\\end{enumerate*}\n",
       "\n",
       "\\emph{Levels}: \\begin{enumerate*}\n",
       "\\item 'beluga'\n",
       "\\item 'dolphin'\n",
       "\\item 'narwhal'\n",
       "\\end{enumerate*}\n"
      ],
      "text/markdown": [
       "1. beluga\n",
       "2. dolphin\n",
       "3. narwhal\n",
       "4. dolphin\n",
       "5. dolphin\n",
       "6. narwhal\n",
       "7. beluga\n",
       "8. beluga\n",
       "\n",
       "\n",
       "\n",
       "**Levels**: 1. 'beluga'\n",
       "2. 'dolphin'\n",
       "3. 'narwhal'\n",
       "\n",
       "\n"
      ],
      "text/plain": [
       "[1] beluga  dolphin narwhal dolphin dolphin narwhal beluga  beluga \n",
       "Levels: beluga dolphin narwhal"
      ]
     },
     "metadata": {},
     "output_type": "display_data"
    }
   ],
   "source": [
    "data = c(\"beluga\", \"dolphin\", \"narwhal\", \"dolphin\", \"dolphin\", \"narwhal\", \"beluga\", \"beluga\")\n",
    "\n",
    "fdata = factor(data)\n",
    "\n",
    "fdata"
   ]
  },
  {
   "cell_type": "markdown",
   "metadata": {},
   "source": [
    "You can see the possible levels for a factor through the `levels()` function:"
   ]
  },
  {
   "cell_type": "code",
   "execution_count": 4,
   "metadata": {},
   "outputs": [
    {
     "data": {
      "text/html": [
       "<ol class=list-inline>\n",
       "\t<li>'beluga'</li>\n",
       "\t<li>'dolphin'</li>\n",
       "\t<li>'narwhal'</li>\n",
       "</ol>\n"
      ],
      "text/latex": [
       "\\begin{enumerate*}\n",
       "\\item 'beluga'\n",
       "\\item 'dolphin'\n",
       "\\item 'narwhal'\n",
       "\\end{enumerate*}\n"
      ],
      "text/markdown": [
       "1. 'beluga'\n",
       "2. 'dolphin'\n",
       "3. 'narwhal'\n",
       "\n",
       "\n"
      ],
      "text/plain": [
       "[1] \"beluga\"  \"dolphin\" \"narwhal\""
      ]
     },
     "metadata": {},
     "output_type": "display_data"
    }
   ],
   "source": [
    "levels(fdata)"
   ]
  },
  {
   "cell_type": "markdown",
   "metadata": {},
   "source": [
    "... and the number of levels using the `nlevels()` function:"
   ]
  },
  {
   "cell_type": "code",
   "execution_count": 5,
   "metadata": {},
   "outputs": [
    {
     "data": {
      "text/html": [
       "3"
      ],
      "text/latex": [
       "3"
      ],
      "text/markdown": [
       "3"
      ],
      "text/plain": [
       "[1] 3"
      ]
     },
     "metadata": {},
     "output_type": "display_data"
    }
   ],
   "source": [
    "nlevels(fdata)"
   ]
  },
  {
   "cell_type": "markdown",
   "metadata": {},
   "source": [
    "<div class=\"Q\"><br><br>\n",
    "\n",
    "    \n",
    "Consider the statement below:<br><br>\n",
    "    \n",
    "    \n",
    "<span class=\"codeX\">x <- data.frame(x = 1:20, y = 21:40)</span><br><br>\n",
    "    \n",
    "\n",
    "What is class, or Data Structure is <b>x</b>?<br><br>\n",
    "         \n",
    "<br><div class=\"qhelp\"></div></div>\n"
   ]
  },
  {
   "cell_type": "markdown",
   "metadata": {},
   "source": [
    "<div class=\"Q\"><br><br>\n",
    "\n",
    "    \n",
    "Consider the statement below:<br><br>\n",
    "    \n",
    "<span class=\"codeX\">x <- matrix(c(1, 2, 3, 4), nrow=2, ncol=2)</span><br><br>\n",
    "    \n",
    "What is class, or Data Structure is <b>x</b>?<br><br>\n",
    "         \n",
    "<br><div class=\"qhelp\"></div></div>\n"
   ]
  },
  {
   "cell_type": "markdown",
   "metadata": {},
   "source": [
    "<div class=\"Q\"><br><br>\n",
    "\n",
    "    \n",
    "Consider the statement below:<br><br>\n",
    "    \n",
    "<span class=\"codeX\">x <- list(1, 2, 3, 4)</span><br><br>\n",
    "    \n",
    "What is class, or Data Structure is <b>x</b>?<br><br>\n",
    "         \n",
    "<br><div class=\"qhelp\"></div></div>\n"
   ]
  },
  {
   "cell_type": "markdown",
   "metadata": {},
   "source": [
    "<div class=\"Q\"><br><br>\n",
    "\n",
    "    \n",
    "Consider the statement below:<br><br>\n",
    "    \n",
    "<span class=\"codeX\">x <- c(1, 2, 3, 4)</span><br><br>\n",
    "    \n",
    "<br>\n",
    "What is class, or Data Structure is <b>x</b>?<br><br>\n",
    "         \n",
    "<br><div class=\"qhelp\"></div></div>\n"
   ]
  },
  {
   "cell_type": "markdown",
   "metadata": {},
   "source": [
    "<div class=\"Q\"><br><br>\n",
    "\n",
    "    \n",
    "Consider the statement below:<br><br>\n",
    "    \n",
    "<span class=\"codeX\">x <- factor(c(1, 2, 3, 4))</span><br><br>\n",
    "    \n",
    "<br>\n",
    "What is class, or Data Structure is <b>x</b>?<br><br>\n",
    "         \n",
    "<br><div class=\"qhelp\"></div></div>\n"
   ]
  },
  {
   "cell_type": "markdown",
   "metadata": {},
   "source": [
    "<div class=\"Q\"><br><br>\n",
    "\n",
    "    \n",
    "Which of the Data Structures below <b>MUST</b> have all of their elements be of the same Data Type?<br><br>\n",
    "         \n",
    "<br><div class=\"qhelp\"></div></div>\n"
   ]
  },
  {
   "cell_type": "markdown",
   "metadata": {},
   "source": [
    "<div class=\"Q\"><br><br>\n",
    "\n",
    "    \n",
    "Which of the Data Structures below <b>CAN</b> have their elements be of any type of R object, including multiple Data Types?<br><br>\n",
    "         \n",
    "<br><div class=\"qhelp\"></div></div>\n"
   ]
  },
  {
   "cell_type": "markdown",
   "metadata": {},
   "source": [
    "# Indexing (slicing)\n",
    "\n",
    "There are multiple ways to access or replace values inside data structures. The most common approach is to use “indexing”. This is also referred to as “slicing”.\n",
    "\n",
    "Note that brackets `[ ]` are used for indexing, whereas parentheses `( )` are used to call a function.\n",
    "\n",
    "\n",
    "## Navigating within a vectors and lists\n",
    "\n",
    "Consider the following vector `x` and list `y`:"
   ]
  },
  {
   "cell_type": "code",
   "execution_count": 29,
   "metadata": {},
   "outputs": [],
   "source": [
    "x <- c(5, 2, 7, 4)\n",
    "\n",
    "y <- list(6, \"hello\", FALSE, x, 3.67, \"world\", 8L)"
   ]
  },
  {
   "cell_type": "markdown",
   "metadata": {},
   "source": [
    "To get the first element of vector `x`:"
   ]
  },
  {
   "cell_type": "code",
   "execution_count": 30,
   "metadata": {},
   "outputs": [
    {
     "data": {
      "text/html": [
       "5"
      ],
      "text/latex": [
       "5"
      ],
      "text/markdown": [
       "5"
      ],
      "text/plain": [
       "[1] 5"
      ]
     },
     "metadata": {},
     "output_type": "display_data"
    }
   ],
   "source": [
    "x[1]"
   ]
  },
  {
   "cell_type": "markdown",
   "metadata": {},
   "source": [
    "If the vector `x` is graphically represented by the <span style=\"color:blue\">blue grid</span> below... then `x[1]` would access the <span style=\"color:blue\">red box</span>:\n",
    "\n",
    "<img src=\"./sample_vector1.png\" width=\"50px\">\n",
    "\n"
   ]
  },
  {
   "cell_type": "markdown",
   "metadata": {},
   "source": [
    "To get the second element of list `y`:"
   ]
  },
  {
   "cell_type": "code",
   "execution_count": 31,
   "metadata": {},
   "outputs": [
    {
     "data": {
      "text/html": [
       "<ol>\n",
       "\t<li>'hello'</li>\n",
       "</ol>\n"
      ],
      "text/latex": [
       "\\begin{enumerate}\n",
       "\\item 'hello'\n",
       "\\end{enumerate}\n"
      ],
      "text/markdown": [
       "1. 'hello'\n",
       "\n",
       "\n"
      ],
      "text/plain": [
       "[[1]]\n",
       "[1] \"hello\"\n"
      ]
     },
     "metadata": {},
     "output_type": "display_data"
    }
   ],
   "source": [
    "y[2]"
   ]
  },
  {
   "cell_type": "markdown",
   "metadata": {},
   "source": [
    "If the list `y` is graphically represented by the <span style=\"color:blue\">blue grid</span> below... then `y[2]` would access the <span style=\"color:blue\">red box</span>:\n",
    "\n",
    "<img src=\"./sample_list1.png\" width=\"130px\">\n",
    "\n"
   ]
  },
  {
   "cell_type": "markdown",
   "metadata": {},
   "source": [
    "<span class=\"important\"></span> Elements within a **list** are also **lists!** To get to the contents inside a \"list element\" you need to use double brackets `[[ ]]`:"
   ]
  },
  {
   "cell_type": "code",
   "execution_count": 32,
   "metadata": {},
   "outputs": [
    {
     "data": {
      "text/html": [
       "<ol>\n",
       "\t<li>'hello'</li>\n",
       "</ol>\n"
      ],
      "text/latex": [
       "\\begin{enumerate}\n",
       "\\item 'hello'\n",
       "\\end{enumerate}\n"
      ],
      "text/markdown": [
       "1. 'hello'\n",
       "\n",
       "\n"
      ],
      "text/plain": [
       "[[1]]\n",
       "[1] \"hello\"\n"
      ]
     },
     "metadata": {},
     "output_type": "display_data"
    },
    {
     "data": {
      "text/html": [
       "'list'"
      ],
      "text/latex": [
       "'list'"
      ],
      "text/markdown": [
       "'list'"
      ],
      "text/plain": [
       "[1] \"list\""
      ]
     },
     "metadata": {},
     "output_type": "display_data"
    },
    {
     "data": {
      "text/html": [
       "'hello'"
      ],
      "text/latex": [
       "'hello'"
      ],
      "text/markdown": [
       "'hello'"
      ],
      "text/plain": [
       "[1] \"hello\""
      ]
     },
     "metadata": {},
     "output_type": "display_data"
    },
    {
     "data": {
      "text/html": [
       "'character'"
      ],
      "text/latex": [
       "'character'"
      ],
      "text/markdown": [
       "'character'"
      ],
      "text/plain": [
       "[1] \"character\""
      ]
     },
     "metadata": {},
     "output_type": "display_data"
    }
   ],
   "source": [
    "y[2]\n",
    "class(y[2])\n",
    "\n",
    "y[[2]]\n",
    "class(y[[2]])"
   ]
  },
  {
   "cell_type": "markdown",
   "metadata": {},
   "source": [
    "So, for example, `y[1] + y[5]` will return an error, because you cannot \"add\" two lists. To add the two values you need to do:"
   ]
  },
  {
   "cell_type": "code",
   "execution_count": 33,
   "metadata": {},
   "outputs": [
    {
     "data": {
      "text/html": [
       "9.67"
      ],
      "text/latex": [
       "9.67"
      ],
      "text/markdown": [
       "9.67"
      ],
      "text/plain": [
       "[1] 9.67"
      ]
     },
     "metadata": {},
     "output_type": "display_data"
    }
   ],
   "source": [
    "y[[1]] + y[[5]]"
   ]
  },
  {
   "cell_type": "markdown",
   "metadata": {},
   "source": [
    "To get a **range** of elements use the `:`. For example, to get the first 3 elements of vector `x`:"
   ]
  },
  {
   "cell_type": "code",
   "execution_count": 34,
   "metadata": {},
   "outputs": [
    {
     "data": {
      "text/html": [
       "<ol class=list-inline>\n",
       "\t<li>5</li>\n",
       "\t<li>2</li>\n",
       "\t<li>7</li>\n",
       "</ol>\n"
      ],
      "text/latex": [
       "\\begin{enumerate*}\n",
       "\\item 5\n",
       "\\item 2\n",
       "\\item 7\n",
       "\\end{enumerate*}\n"
      ],
      "text/markdown": [
       "1. 5\n",
       "2. 2\n",
       "3. 7\n",
       "\n",
       "\n"
      ],
      "text/plain": [
       "[1] 5 2 7"
      ]
     },
     "metadata": {},
     "output_type": "display_data"
    }
   ],
   "source": [
    "x[1:3]"
   ]
  },
  {
   "cell_type": "markdown",
   "metadata": {},
   "source": [
    "If the vector `x` is graphically represented by the <span style=\"color:blue\">blue grid</span> below... then `x[1:3]` would access the <span style=\"color:blue\">red box</span>:\n",
    "\n",
    "<img src=\"./sample_vector2.png\" width=\"50px\">\n",
    "\n"
   ]
  },
  {
   "cell_type": "markdown",
   "metadata": {},
   "source": [
    "To get the 5th, 6th and 7th elements of list `y`:"
   ]
  },
  {
   "cell_type": "code",
   "execution_count": 35,
   "metadata": {
    "scrolled": false
   },
   "outputs": [
    {
     "data": {
      "text/html": [
       "<ol>\n",
       "\t<li>3.67</li>\n",
       "\t<li>'world'</li>\n",
       "\t<li>8</li>\n",
       "</ol>\n"
      ],
      "text/latex": [
       "\\begin{enumerate}\n",
       "\\item 3.67\n",
       "\\item 'world'\n",
       "\\item 8\n",
       "\\end{enumerate}\n"
      ],
      "text/markdown": [
       "1. 3.67\n",
       "2. 'world'\n",
       "3. 8\n",
       "\n",
       "\n"
      ],
      "text/plain": [
       "[[1]]\n",
       "[1] 3.67\n",
       "\n",
       "[[2]]\n",
       "[1] \"world\"\n",
       "\n",
       "[[3]]\n",
       "[1] 8\n"
      ]
     },
     "metadata": {},
     "output_type": "display_data"
    }
   ],
   "source": [
    "y[5:7]"
   ]
  },
  {
   "cell_type": "markdown",
   "metadata": {},
   "source": [
    "If the list `y` is graphically represented by the <span style=\"color:blue\">blue grid</span> below... then `y[5:7]` would access the <span style=\"color:blue\">red box</span>:\n",
    "\n",
    "<img src=\"./sample_list2.png\" width=\"130px\">\n",
    "\n"
   ]
  },
  {
   "cell_type": "markdown",
   "metadata": {},
   "source": [
    "To access a **list within list**, you have to first dive into the values of the first list, using double brackets `[[ ]]`: "
   ]
  },
  {
   "cell_type": "code",
   "execution_count": 36,
   "metadata": {},
   "outputs": [
    {
     "data": {
      "text/html": [
       "<ol>\n",
       "\t<li><ol class=list-inline>\n",
       "\t<li>5</li>\n",
       "\t<li>2</li>\n",
       "\t<li>7</li>\n",
       "\t<li>4</li>\n",
       "</ol>\n",
       "</li>\n",
       "</ol>\n"
      ],
      "text/latex": [
       "\\begin{enumerate}\n",
       "\\item \\begin{enumerate*}\n",
       "\\item 5\n",
       "\\item 2\n",
       "\\item 7\n",
       "\\item 4\n",
       "\\end{enumerate*}\n",
       "\n",
       "\\end{enumerate}\n"
      ],
      "text/markdown": [
       "1. 1. 5\n",
       "2. 2\n",
       "3. 7\n",
       "4. 4\n",
       "\n",
       "\n",
       "\n",
       "\n",
       "\n"
      ],
      "text/plain": [
       "[[1]]\n",
       "[1] 5 2 7 4\n"
      ]
     },
     "metadata": {},
     "output_type": "display_data"
    },
    {
     "data": {
      "text/html": [
       "7"
      ],
      "text/latex": [
       "7"
      ],
      "text/markdown": [
       "7"
      ],
      "text/plain": [
       "[1] 7"
      ]
     },
     "metadata": {},
     "output_type": "display_data"
    }
   ],
   "source": [
    "# Here is the list stored in element 3\n",
    "y[4]\n",
    "\n",
    "# Here is the 3rd element of the list stored inside element 3 of list 'y'\n",
    "y[[4]][3]"
   ]
  },
  {
   "cell_type": "markdown",
   "metadata": {},
   "source": [
    "If the list `y` is graphically represented by the <span style=\"color:blue\">blue grid</span> below... then `y[[4]][3]` would access the <span style=\"color:blue\">red box</span>:\n",
    "\n",
    "<img src=\"./sample_list3.png\" width=\"130px\">\n",
    "\n"
   ]
  },
  {
   "cell_type": "markdown",
   "metadata": {},
   "source": [
    "If you need the last element of a vector or list, but don't know how long is the vector or list, use the function `length()`:  "
   ]
  },
  {
   "cell_type": "code",
   "execution_count": 37,
   "metadata": {},
   "outputs": [
    {
     "data": {
      "text/html": [
       "4"
      ],
      "text/latex": [
       "4"
      ],
      "text/markdown": [
       "4"
      ],
      "text/plain": [
       "[1] 4"
      ]
     },
     "metadata": {},
     "output_type": "display_data"
    }
   ],
   "source": [
    "# To retrieve the last element of x\n",
    "x[length(x)]"
   ]
  },
  {
   "cell_type": "code",
   "execution_count": 38,
   "metadata": {
    "scrolled": true
   },
   "outputs": [
    {
     "data": {
      "text/html": [
       "<ol class=list-inline>\n",
       "\t<li>2</li>\n",
       "\t<li>7</li>\n",
       "\t<li>4</li>\n",
       "</ol>\n"
      ],
      "text/latex": [
       "\\begin{enumerate*}\n",
       "\\item 2\n",
       "\\item 7\n",
       "\\item 4\n",
       "\\end{enumerate*}\n"
      ],
      "text/markdown": [
       "1. 2\n",
       "2. 7\n",
       "3. 4\n",
       "\n",
       "\n"
      ],
      "text/plain": [
       "[1] 2 7 4"
      ]
     },
     "metadata": {},
     "output_type": "display_data"
    }
   ],
   "source": [
    "# To retrieve the last 3 elements of x\n",
    "x[(length(x)-2):length(x)]"
   ]
  },
  {
   "cell_type": "markdown",
   "metadata": {},
   "source": [
    "**Logical Indexing** is used when you need to retrieve elements according to a logical expression. This only works with vectors and list that **ONLY** contain numeric or integer data types."
   ]
  },
  {
   "cell_type": "code",
   "execution_count": 39,
   "metadata": {},
   "outputs": [
    {
     "data": {
      "text/html": [
       "<ol class=list-inline>\n",
       "\t<li>5</li>\n",
       "\t<li>7</li>\n",
       "\t<li>4</li>\n",
       "</ol>\n"
      ],
      "text/latex": [
       "\\begin{enumerate*}\n",
       "\\item 5\n",
       "\\item 7\n",
       "\\item 4\n",
       "\\end{enumerate*}\n"
      ],
      "text/markdown": [
       "1. 5\n",
       "2. 7\n",
       "3. 4\n",
       "\n",
       "\n"
      ],
      "text/plain": [
       "[1] 5 7 4"
      ]
     },
     "metadata": {},
     "output_type": "display_data"
    }
   ],
   "source": [
    "x[x > 3]"
   ]
  },
  {
   "cell_type": "code",
   "execution_count": 40,
   "metadata": {},
   "outputs": [
    {
     "data": {
      "text/html": [
       "<ol class=list-inline>\n",
       "\t<li>2</li>\n",
       "\t<li>4</li>\n",
       "</ol>\n"
      ],
      "text/latex": [
       "\\begin{enumerate*}\n",
       "\\item 2\n",
       "\\item 4\n",
       "\\end{enumerate*}\n"
      ],
      "text/markdown": [
       "1. 2\n",
       "2. 4\n",
       "\n",
       "\n"
      ],
      "text/plain": [
       "[1] 2 4"
      ]
     },
     "metadata": {},
     "output_type": "display_data"
    }
   ],
   "source": [
    "x[x <= 4]"
   ]
  },
  {
   "cell_type": "markdown",
   "metadata": {},
   "source": [
    "<div class=\"Q\"><br><br>\n",
    "\n",
    "    \n",
    "Given the following vector <span class=\"codeX\">v</span>:<br><br>\n",
    "    \n",
    "<span class=\"codeX\">v <- c(8, 5, 3, 1, 9, 2)</span><br><br>\n",
    "         \n",
    "...which is represented visually with the diagram below,\n",
    "\n",
    "<img src=\"./vector1.png\" width=\"50px\">\n",
    "         \n",
    "How would you access the value highlighted in the red box?<br><br>\n",
    "         \n",
    "<br><div class=\"qhelp\"></div></div>\n"
   ]
  },
  {
   "cell_type": "markdown",
   "metadata": {},
   "source": [
    "<div class=\"Q\"><br><br>\n",
    "\n",
    "    \n",
    "Given the following vector <span class=\"codeX\">v</span>:<br><br>\n",
    "    \n",
    "<span class=\"codeX\">v <- c(8, 5, 3, 1, 9, 2)</span><br><br>\n",
    "         \n",
    "...which is represented visually with the diagram below,\n",
    "\n",
    "<img src=\"./vector2.png\" width=\"50px\">\n",
    "         \n",
    "How would you access the value highlighted in the red box?<br><br>\n",
    "         \n",
    "<br><div class=\"qhelp\"></div></div>\n"
   ]
  },
  {
   "cell_type": "markdown",
   "metadata": {},
   "source": [
    "<div class=\"Q\"><br><br>\n",
    "\n",
    "    \n",
    "Given the following vector <span class=\"codeX\">v</span>:<br><br>\n",
    "    \n",
    "<span class=\"codeX\">v <- c(8, 5, 3, 1, 9, 2)</span><br><br>\n",
    "         \n",
    "...which is represented visually with the diagram below,\n",
    "\n",
    "<img src=\"./vector3.png\" width=\"50px\">\n",
    "         \n",
    "How would you access the values highlighted within the red box?<br><br>\n",
    "         \n",
    "<br><div class=\"qhelp\"></div></div>\n"
   ]
  },
  {
   "cell_type": "markdown",
   "metadata": {},
   "source": [
    "<div class=\"Q\"><br><br>\n",
    "\n",
    "    \n",
    "Given the following vector <span class=\"codeX\">v</span>:<br><br>\n",
    "    \n",
    "<span class=\"codeX\">v <- c(8, 5, 3, 1, 9, 2)</span><br><br>\n",
    "         \n",
    "...which is represented visually with the diagram below,\n",
    "\n",
    "<img src=\"./vector4.png\" width=\"50px\">\n",
    "         \n",
    "How would you access the value highlighted in the red box?<br><br>\n",
    "         \n",
    "<br><div class=\"qhelp\"></div></div>\n"
   ]
  },
  {
   "cell_type": "markdown",
   "metadata": {},
   "source": [
    "<div class=\"Q\"><br><br>\n",
    "\n",
    "    \n",
    "Given the following vector <span class=\"codeX\">v</span>:<br><br>\n",
    "    \n",
    "<span class=\"codeX\">v <- c(8, 5, 3, 1, 9, 2)</span><br><br>\n",
    "         \n",
    "...which is represented visually with the diagram below,\n",
    "\n",
    "<img src=\"./vector5.png\" width=\"50px\">\n",
    "         \n",
    "How would you access the values highlighted within the red box?<br><br>\n",
    "         \n",
    "<br><div class=\"qhelp\"></div></div>\n"
   ]
  },
  {
   "cell_type": "markdown",
   "metadata": {},
   "source": [
    "<div class=\"Q\"><br><br>\n",
    "\n",
    "    \n",
    "Given the following list <span class=\"codeX\">L</span>:<br><br>\n",
    "    \n",
    "<span class=\"codeX\">L <- list(7L, \"hello\", 3.6, c(7, 5, 2), 9, \"world\")</span><br><br>\n",
    "         \n",
    "...which is represented visually with the diagram below,\n",
    "\n",
    "<img src=\"./list1.png\" width=\"150px\">\n",
    "         \n",
    "How would you access the value highlighted in the red box?<br><br>\n",
    "         \n",
    "<br><div class=\"qhelp\"></div></div>\n"
   ]
  },
  {
   "cell_type": "markdown",
   "metadata": {},
   "source": [
    "<div class=\"Q\"><br><br>\n",
    "\n",
    "Given the following list <span class=\"codeX\">L</span>:<br><br>\n",
    "    \n",
    "<span class=\"codeX\">L <- list(7L, \"hello\", 3.6, c(7, 5, 2), 9, \"world\")</span><br><br>\n",
    "         \n",
    "...which is represented visually with the diagram below,\n",
    "\n",
    "<img src=\"./list2.png\" width=\"150px\">\n",
    "         \n",
    "How would you access the values highlighted in the red box?<br><br>\n",
    "         \n",
    "<br><div class=\"qhelp\"></div></div>\n"
   ]
  },
  {
   "cell_type": "markdown",
   "metadata": {},
   "source": [
    "<div class=\"Q\"><br><br>\n",
    "\n",
    "    \n",
    "Given the following list <span class=\"codeX\">L</span>:<br><br>\n",
    "    \n",
    "<span class=\"codeX\">L <- list(7L, \"hello\", 3.6, c(7, 5, 2), 9, \"world\")</span><br><br>\n",
    "         \n",
    "...which is represented visually with the diagram below,\n",
    "\n",
    "<img src=\"./list3.png\" width=\"150px\">\n",
    "         \n",
    "How would you access the value highlighted in the red box?<br><br>\n",
    "         \n",
    "<br><div class=\"qhelp\"></div></div>\n"
   ]
  },
  {
   "cell_type": "markdown",
   "metadata": {},
   "source": [
    "<div class=\"Q\"><br><br>\n",
    "\n",
    "    \n",
    "Given the following list <span class=\"codeX\">L</span>:<br><br>\n",
    "    \n",
    "<span class=\"codeX\">L <- list(7L, \"hello\", 3.6, c(7, 5, 2), 9, \"world\")</span><br><br>\n",
    "         \n",
    "...which is represented visually with the diagram below,\n",
    "\n",
    "<img src=\"./list4.png\" width=\"150px\">\n",
    "         \n",
    "How would you access the value highlighted in the red box?<br><br>\n",
    "         \n",
    "<br><div class=\"qhelp\"></div></div>\n"
   ]
  },
  {
   "cell_type": "markdown",
   "metadata": {},
   "source": [
    "<div class=\"Q\"><br><br>\n",
    "\n",
    "    \n",
    "Given the following list <span class=\"codeX\">L</span>:<br><br>\n",
    "    \n",
    "<span class=\"codeX\">L <- list(7L, \"hello\", 3.6, c(7, 5, 2), 9, \"world\")</span><br><br>\n",
    "         \n",
    "...which is represented visually with the diagram below,\n",
    "\n",
    "<img src=\"./list5.png\" width=\"150px\">\n",
    "         \n",
    "How would you access the values highlighted in the red box?<br><br>\n",
    "         \n",
    "<br><div class=\"qhelp\"></div></div>\n"
   ]
  },
  {
   "cell_type": "markdown",
   "metadata": {},
   "source": [
    "## Navigating within Matrices\n",
    "\n",
    "Consider the following matrix `m`:\n"
   ]
  },
  {
   "cell_type": "code",
   "execution_count": 41,
   "metadata": {},
   "outputs": [
    {
     "data": {
      "text/html": [
       "<table>\n",
       "<tbody>\n",
       "\t<tr><td>1 </td><td>5 </td><td> 9</td></tr>\n",
       "\t<tr><td>2 </td><td>6 </td><td>10</td></tr>\n",
       "\t<tr><td>3 </td><td>7 </td><td>11</td></tr>\n",
       "\t<tr><td>4 </td><td>8 </td><td>12</td></tr>\n",
       "</tbody>\n",
       "</table>\n"
      ],
      "text/latex": [
       "\\begin{tabular}{lll}\n",
       "\t 1  & 5  &  9\\\\\n",
       "\t 2  & 6  & 10\\\\\n",
       "\t 3  & 7  & 11\\\\\n",
       "\t 4  & 8  & 12\\\\\n",
       "\\end{tabular}\n"
      ],
      "text/markdown": [
       "\n",
       "| 1  | 5  |  9 |\n",
       "| 2  | 6  | 10 |\n",
       "| 3  | 7  | 11 |\n",
       "| 4  | 8  | 12 |\n",
       "\n"
      ],
      "text/plain": [
       "     [,1] [,2] [,3]\n",
       "[1,] 1    5     9  \n",
       "[2,] 2    6    10  \n",
       "[3,] 3    7    11  \n",
       "[4,] 4    8    12  "
      ]
     },
     "metadata": {},
     "output_type": "display_data"
    }
   ],
   "source": [
    "m <- matrix(c(1, 2, 3, 4, 5, 6, 7, 8, 9, 10, 11, 12), nrow=4, ncol=3)\n",
    "\n",
    "m"
   ]
  },
  {
   "cell_type": "markdown",
   "metadata": {},
   "source": [
    "To get to a single number within the matrix, use a pair of indices where the **first index is the row number** and the **second index is the column number**:"
   ]
  },
  {
   "cell_type": "code",
   "execution_count": 42,
   "metadata": {},
   "outputs": [
    {
     "data": {
      "text/html": [
       "5"
      ],
      "text/latex": [
       "5"
      ],
      "text/markdown": [
       "5"
      ],
      "text/plain": [
       "[1] 5"
      ]
     },
     "metadata": {},
     "output_type": "display_data"
    }
   ],
   "source": [
    "m[1,2]"
   ]
  },
  {
   "cell_type": "markdown",
   "metadata": {},
   "source": [
    "Rather than using pairs, you can also get single index. You can think of this index as a “cell number”. Cells are numbered column-wise (i.e., first the rows in the first column, then the second column, etc.). Thus,"
   ]
  },
  {
   "cell_type": "code",
   "execution_count": 43,
   "metadata": {},
   "outputs": [
    {
     "data": {
      "text/html": [
       "6"
      ],
      "text/latex": [
       "6"
      ],
      "text/markdown": [
       "6"
      ],
      "text/plain": [
       "[1] 6"
      ]
     },
     "metadata": {},
     "output_type": "display_data"
    }
   ],
   "source": [
    "m[6]"
   ]
  },
  {
   "cell_type": "markdown",
   "metadata": {},
   "source": [
    "You can also get multiple values at once:"
   ]
  },
  {
   "cell_type": "code",
   "execution_count": 44,
   "metadata": {},
   "outputs": [
    {
     "data": {
      "text/html": [
       "<table>\n",
       "<tbody>\n",
       "\t<tr><td>5 </td><td> 9</td></tr>\n",
       "\t<tr><td>6 </td><td>10</td></tr>\n",
       "</tbody>\n",
       "</table>\n"
      ],
      "text/latex": [
       "\\begin{tabular}{ll}\n",
       "\t 5  &  9\\\\\n",
       "\t 6  & 10\\\\\n",
       "\\end{tabular}\n"
      ],
      "text/markdown": [
       "\n",
       "| 5  |  9 |\n",
       "| 6  | 10 |\n",
       "\n"
      ],
      "text/plain": [
       "     [,1] [,2]\n",
       "[1,] 5     9  \n",
       "[2,] 6    10  "
      ]
     },
     "metadata": {},
     "output_type": "display_data"
    }
   ],
   "source": [
    "m[1:2,2:3]"
   ]
  },
  {
   "cell_type": "markdown",
   "metadata": {},
   "source": [
    "To get a whole **column**, use a coma **before** the column index. The statement below read *return all rows of column 1*:"
   ]
  },
  {
   "cell_type": "code",
   "execution_count": 45,
   "metadata": {},
   "outputs": [
    {
     "data": {
      "text/html": [
       "<ol class=list-inline>\n",
       "\t<li>1</li>\n",
       "\t<li>2</li>\n",
       "\t<li>3</li>\n",
       "\t<li>4</li>\n",
       "</ol>\n"
      ],
      "text/latex": [
       "\\begin{enumerate*}\n",
       "\\item 1\n",
       "\\item 2\n",
       "\\item 3\n",
       "\\item 4\n",
       "\\end{enumerate*}\n"
      ],
      "text/markdown": [
       "1. 1\n",
       "2. 2\n",
       "3. 3\n",
       "4. 4\n",
       "\n",
       "\n"
      ],
      "text/plain": [
       "[1] 1 2 3 4"
      ]
     },
     "metadata": {},
     "output_type": "display_data"
    }
   ],
   "source": [
    "m[, 1]"
   ]
  },
  {
   "cell_type": "markdown",
   "metadata": {},
   "source": [
    "To get a whole **row**, use a coma **after** the row index: The statement below read *return row 1... all columns:"
   ]
  },
  {
   "cell_type": "code",
   "execution_count": 46,
   "metadata": {},
   "outputs": [
    {
     "data": {
      "text/html": [
       "<ol class=list-inline>\n",
       "\t<li>1</li>\n",
       "\t<li>5</li>\n",
       "\t<li>9</li>\n",
       "</ol>\n"
      ],
      "text/latex": [
       "\\begin{enumerate*}\n",
       "\\item 1\n",
       "\\item 5\n",
       "\\item 9\n",
       "\\end{enumerate*}\n"
      ],
      "text/markdown": [
       "1. 1\n",
       "2. 5\n",
       "3. 9\n",
       "\n",
       "\n"
      ],
      "text/plain": [
       "[1] 1 5 9"
      ]
     },
     "metadata": {},
     "output_type": "display_data"
    }
   ],
   "source": [
    "m[1,]"
   ]
  },
  {
   "cell_type": "markdown",
   "metadata": {},
   "source": [
    "<span class=\"note\"></span> Getting a whole **row** or **column** from a matrix returns a `vector`:"
   ]
  },
  {
   "cell_type": "code",
   "execution_count": 47,
   "metadata": {},
   "outputs": [
    {
     "data": {
      "text/html": [
       "'matrix'"
      ],
      "text/latex": [
       "'matrix'"
      ],
      "text/markdown": [
       "'matrix'"
      ],
      "text/plain": [
       "[1] \"matrix\""
      ]
     },
     "metadata": {},
     "output_type": "display_data"
    },
    {
     "data": {
      "text/html": [
       "'numeric'"
      ],
      "text/latex": [
       "'numeric'"
      ],
      "text/markdown": [
       "'numeric'"
      ],
      "text/plain": [
       "[1] \"numeric\""
      ]
     },
     "metadata": {},
     "output_type": "display_data"
    }
   ],
   "source": [
    "class(m)\n",
    "\n",
    "class(m[, 1])"
   ]
  },
  {
   "cell_type": "markdown",
   "metadata": {},
   "source": [
    "<div class=\"Q\"><br><br>\n",
    "\n",
    "    \n",
    "Given the following matrix <span class=\"codeX\">m</span>:<br><br>\n",
    "    \n",
    "<span class=\"codeX\">m <- matrix(c(2,4,7,3,5,3,9,7,0,6,8,2),nrow=4, ncol=3)</span><br><br>\n",
    "         \n",
    "...which is represented visually with the diagram below,\n",
    "\n",
    "<img src=\"./matrix1.png\" width=\"150px\">\n",
    "         \n",
    "How would you access the value highlighted in the red box?<br><br>\n",
    "         \n",
    "<br><div class=\"qhelp\"></div></div>\n"
   ]
  },
  {
   "cell_type": "markdown",
   "metadata": {},
   "source": [
    "<div class=\"Q\"><br><br>\n",
    "\n",
    "    \n",
    "Given the following matrix <span class=\"codeX\">m</span>:<br><br>\n",
    "    \n",
    "<span class=\"codeX\">m <- matrix(c(2,4,7,3,5,3,9,7,0,6,8,2),nrow=4, ncol=3)</span><br><br>\n",
    "         \n",
    "...which is represented visually with the diagram below,\n",
    "\n",
    "<img src=\"./matrix2.png\" width=\"150px\">\n",
    "         \n",
    "How would you access the values highlighted in the red box?<br><br>\n",
    "         \n",
    "<br><div class=\"qhelp\"></div></div>\n"
   ]
  },
  {
   "cell_type": "markdown",
   "metadata": {},
   "source": [
    "<div class=\"Q\"><br><br>\n",
    "\n",
    "    \n",
    "Given the following matrix <span class=\"codeX\">m</span>:<br><br>\n",
    "    \n",
    "<span class=\"codeX\">m <- matrix(c(2,4,7,3,5,3,9,7,0,6,8,2),nrow=4, ncol=3)</span><br><br>\n",
    "         \n",
    "...which is represented visually with the diagram below,\n",
    "\n",
    "<img src=\"./matrix3.png\" width=\"150px\">\n",
    "         \n",
    "How would you access the values highlighted in the red box?<br><br>\n",
    "         \n",
    "<br><div class=\"qhelp\"></div></div>\n"
   ]
  },
  {
   "cell_type": "markdown",
   "metadata": {},
   "source": [
    "<div class=\"Q\"><br><br>\n",
    "\n",
    "    \n",
    "Given the following matrix <span class=\"codeX\">m</span>:<br><br>\n",
    "    \n",
    "<span class=\"codeX\">m <- matrix(c(2,4,7,3,5,3,9,7,0,6,8,2),nrow=4, ncol=3)</span><br><br>\n",
    "         \n",
    "...which is represented visually with the diagram below,\n",
    "\n",
    "<img src=\"./matrix3.png\" width=\"150px\">\n",
    "         \n",
    "If you make a <b>new variable</b> with the values highlighted in the red box (using your answer to the question above)...\n",
    "    \n",
    "...what class or Data Structure will be asigned to your <b>new variable</b>?<br><br>\n",
    "         \n",
    "<br><div class=\"qhelp\"></div></div>\n"
   ]
  },
  {
   "cell_type": "markdown",
   "metadata": {},
   "source": [
    "## Navigating within Data Frames\n",
    "\n",
    "Consider the following data frame `d`:"
   ]
  },
  {
   "cell_type": "code",
   "execution_count": 48,
   "metadata": {},
   "outputs": [
    {
     "data": {
      "text/html": [
       "<table>\n",
       "<thead><tr><th scope=col>id</th><th scope=col>x</th><th scope=col>y</th></tr></thead>\n",
       "<tbody>\n",
       "\t<tr><td> 1</td><td>11</td><td>21</td></tr>\n",
       "\t<tr><td> 2</td><td>12</td><td>22</td></tr>\n",
       "\t<tr><td> 3</td><td>13</td><td>23</td></tr>\n",
       "\t<tr><td> 4</td><td>14</td><td>24</td></tr>\n",
       "\t<tr><td> 5</td><td>15</td><td>25</td></tr>\n",
       "\t<tr><td> 6</td><td>16</td><td>26</td></tr>\n",
       "\t<tr><td> 7</td><td>17</td><td>27</td></tr>\n",
       "\t<tr><td> 8</td><td>18</td><td>28</td></tr>\n",
       "\t<tr><td> 9</td><td>19</td><td>29</td></tr>\n",
       "\t<tr><td>10</td><td>20</td><td>30</td></tr>\n",
       "</tbody>\n",
       "</table>\n"
      ],
      "text/latex": [
       "\\begin{tabular}{r|lll}\n",
       " id & x & y\\\\\n",
       "\\hline\n",
       "\t  1 & 11 & 21\\\\\n",
       "\t  2 & 12 & 22\\\\\n",
       "\t  3 & 13 & 23\\\\\n",
       "\t  4 & 14 & 24\\\\\n",
       "\t  5 & 15 & 25\\\\\n",
       "\t  6 & 16 & 26\\\\\n",
       "\t  7 & 17 & 27\\\\\n",
       "\t  8 & 18 & 28\\\\\n",
       "\t  9 & 19 & 29\\\\\n",
       "\t 10 & 20 & 30\\\\\n",
       "\\end{tabular}\n"
      ],
      "text/markdown": [
       "\n",
       "| id | x | y |\n",
       "|---|---|---|\n",
       "|  1 | 11 | 21 |\n",
       "|  2 | 12 | 22 |\n",
       "|  3 | 13 | 23 |\n",
       "|  4 | 14 | 24 |\n",
       "|  5 | 15 | 25 |\n",
       "|  6 | 16 | 26 |\n",
       "|  7 | 17 | 27 |\n",
       "|  8 | 18 | 28 |\n",
       "|  9 | 19 | 29 |\n",
       "| 10 | 20 | 30 |\n",
       "\n"
      ],
      "text/plain": [
       "   id x  y \n",
       "1   1 11 21\n",
       "2   2 12 22\n",
       "3   3 13 23\n",
       "4   4 14 24\n",
       "5   5 15 25\n",
       "6   6 16 26\n",
       "7   7 17 27\n",
       "8   8 18 28\n",
       "9   9 19 29\n",
       "10 10 20 30"
      ]
     },
     "metadata": {},
     "output_type": "display_data"
    }
   ],
   "source": [
    "d <- data.frame(id = 1:10, x = 11:20, y = 21:30)\n",
    "\n",
    "d"
   ]
  },
  {
   "cell_type": "markdown",
   "metadata": {},
   "source": [
    "You can extract a column by column number:"
   ]
  },
  {
   "cell_type": "code",
   "execution_count": 49,
   "metadata": {},
   "outputs": [
    {
     "data": {
      "text/html": [
       "<ol class=list-inline>\n",
       "\t<li>11</li>\n",
       "\t<li>12</li>\n",
       "\t<li>13</li>\n",
       "\t<li>14</li>\n",
       "\t<li>15</li>\n",
       "\t<li>16</li>\n",
       "\t<li>17</li>\n",
       "\t<li>18</li>\n",
       "\t<li>19</li>\n",
       "\t<li>20</li>\n",
       "</ol>\n"
      ],
      "text/latex": [
       "\\begin{enumerate*}\n",
       "\\item 11\n",
       "\\item 12\n",
       "\\item 13\n",
       "\\item 14\n",
       "\\item 15\n",
       "\\item 16\n",
       "\\item 17\n",
       "\\item 18\n",
       "\\item 19\n",
       "\\item 20\n",
       "\\end{enumerate*}\n"
      ],
      "text/markdown": [
       "1. 11\n",
       "2. 12\n",
       "3. 13\n",
       "4. 14\n",
       "5. 15\n",
       "6. 16\n",
       "7. 17\n",
       "8. 18\n",
       "9. 19\n",
       "10. 20\n",
       "\n",
       "\n"
      ],
      "text/plain": [
       " [1] 11 12 13 14 15 16 17 18 19 20"
      ]
     },
     "metadata": {},
     "output_type": "display_data"
    }
   ],
   "source": [
    "d[,2]"
   ]
  },
  {
   "cell_type": "markdown",
   "metadata": {},
   "source": [
    "Here is an alternative way to address the column number in a data frame:"
   ]
  },
  {
   "cell_type": "code",
   "execution_count": 50,
   "metadata": {},
   "outputs": [
    {
     "data": {
      "text/html": [
       "<table>\n",
       "<thead><tr><th scope=col>x</th></tr></thead>\n",
       "<tbody>\n",
       "\t<tr><td>11</td></tr>\n",
       "\t<tr><td>12</td></tr>\n",
       "\t<tr><td>13</td></tr>\n",
       "\t<tr><td>14</td></tr>\n",
       "\t<tr><td>15</td></tr>\n",
       "\t<tr><td>16</td></tr>\n",
       "\t<tr><td>17</td></tr>\n",
       "\t<tr><td>18</td></tr>\n",
       "\t<tr><td>19</td></tr>\n",
       "\t<tr><td>20</td></tr>\n",
       "</tbody>\n",
       "</table>\n"
      ],
      "text/latex": [
       "\\begin{tabular}{r|l}\n",
       " x\\\\\n",
       "\\hline\n",
       "\t 11\\\\\n",
       "\t 12\\\\\n",
       "\t 13\\\\\n",
       "\t 14\\\\\n",
       "\t 15\\\\\n",
       "\t 16\\\\\n",
       "\t 17\\\\\n",
       "\t 18\\\\\n",
       "\t 19\\\\\n",
       "\t 20\\\\\n",
       "\\end{tabular}\n"
      ],
      "text/markdown": [
       "\n",
       "| x |\n",
       "|---|\n",
       "| 11 |\n",
       "| 12 |\n",
       "| 13 |\n",
       "| 14 |\n",
       "| 15 |\n",
       "| 16 |\n",
       "| 17 |\n",
       "| 18 |\n",
       "| 19 |\n",
       "| 20 |\n",
       "\n"
      ],
      "text/plain": [
       "   x \n",
       "1  11\n",
       "2  12\n",
       "3  13\n",
       "4  14\n",
       "5  15\n",
       "6  16\n",
       "7  17\n",
       "8  18\n",
       "9  19\n",
       "10 20"
      ]
     },
     "metadata": {},
     "output_type": "display_data"
    }
   ],
   "source": [
    "d[2]"
   ]
  },
  {
   "cell_type": "markdown",
   "metadata": {},
   "source": [
    "Note that whereas `[2]` would be the second element in a matrix, it refers to the second *column* in a `data.frame`. This is because a `data.frame` is a special kind of list and not a special kind of matrix.\n",
    "\n",
    "You can also use the column name to get the values of a column: "
   ]
  },
  {
   "cell_type": "code",
   "execution_count": 51,
   "metadata": {},
   "outputs": [
    {
     "data": {
      "text/html": [
       "<ol class=list-inline>\n",
       "\t<li>11</li>\n",
       "\t<li>12</li>\n",
       "\t<li>13</li>\n",
       "\t<li>14</li>\n",
       "\t<li>15</li>\n",
       "\t<li>16</li>\n",
       "\t<li>17</li>\n",
       "\t<li>18</li>\n",
       "\t<li>19</li>\n",
       "\t<li>20</li>\n",
       "</ol>\n"
      ],
      "text/latex": [
       "\\begin{enumerate*}\n",
       "\\item 11\n",
       "\\item 12\n",
       "\\item 13\n",
       "\\item 14\n",
       "\\item 15\n",
       "\\item 16\n",
       "\\item 17\n",
       "\\item 18\n",
       "\\item 19\n",
       "\\item 20\n",
       "\\end{enumerate*}\n"
      ],
      "text/markdown": [
       "1. 11\n",
       "2. 12\n",
       "3. 13\n",
       "4. 14\n",
       "5. 15\n",
       "6. 16\n",
       "7. 17\n",
       "8. 18\n",
       "9. 19\n",
       "10. 20\n",
       "\n",
       "\n"
      ],
      "text/plain": [
       " [1] 11 12 13 14 15 16 17 18 19 20"
      ]
     },
     "metadata": {},
     "output_type": "display_data"
    }
   ],
   "source": [
    "d[,\"x\"]"
   ]
  },
  {
   "cell_type": "markdown",
   "metadata": {},
   "source": [
    " In addition to `d[,\"x\"]` above, you can also use the `$` symbol. \n",
    "\n",
    "<span class=\"important\"></span> Using the `$` symbol is a very common practice to slice a column of a `data.frame`:"
   ]
  },
  {
   "cell_type": "code",
   "execution_count": 52,
   "metadata": {},
   "outputs": [
    {
     "data": {
      "text/html": [
       "<ol class=list-inline>\n",
       "\t<li>11</li>\n",
       "\t<li>12</li>\n",
       "\t<li>13</li>\n",
       "\t<li>14</li>\n",
       "\t<li>15</li>\n",
       "\t<li>16</li>\n",
       "\t<li>17</li>\n",
       "\t<li>18</li>\n",
       "\t<li>19</li>\n",
       "\t<li>20</li>\n",
       "</ol>\n"
      ],
      "text/latex": [
       "\\begin{enumerate*}\n",
       "\\item 11\n",
       "\\item 12\n",
       "\\item 13\n",
       "\\item 14\n",
       "\\item 15\n",
       "\\item 16\n",
       "\\item 17\n",
       "\\item 18\n",
       "\\item 19\n",
       "\\item 20\n",
       "\\end{enumerate*}\n"
      ],
      "text/markdown": [
       "1. 11\n",
       "2. 12\n",
       "3. 13\n",
       "4. 14\n",
       "5. 15\n",
       "6. 16\n",
       "7. 17\n",
       "8. 18\n",
       "9. 19\n",
       "10. 20\n",
       "\n",
       "\n"
      ],
      "text/plain": [
       " [1] 11 12 13 14 15 16 17 18 19 20"
      ]
     },
     "metadata": {},
     "output_type": "display_data"
    }
   ],
   "source": [
    "d$x"
   ]
  },
  {
   "cell_type": "code",
   "execution_count": 53,
   "metadata": {},
   "outputs": [
    {
     "data": {
      "text/html": [
       "<table>\n",
       "<thead><tr><th scope=col>x</th></tr></thead>\n",
       "<tbody>\n",
       "\t<tr><td>11</td></tr>\n",
       "\t<tr><td>12</td></tr>\n",
       "\t<tr><td>13</td></tr>\n",
       "\t<tr><td>14</td></tr>\n",
       "\t<tr><td>15</td></tr>\n",
       "\t<tr><td>16</td></tr>\n",
       "\t<tr><td>17</td></tr>\n",
       "\t<tr><td>18</td></tr>\n",
       "\t<tr><td>19</td></tr>\n",
       "\t<tr><td>20</td></tr>\n",
       "</tbody>\n",
       "</table>\n"
      ],
      "text/latex": [
       "\\begin{tabular}{r|l}\n",
       " x\\\\\n",
       "\\hline\n",
       "\t 11\\\\\n",
       "\t 12\\\\\n",
       "\t 13\\\\\n",
       "\t 14\\\\\n",
       "\t 15\\\\\n",
       "\t 16\\\\\n",
       "\t 17\\\\\n",
       "\t 18\\\\\n",
       "\t 19\\\\\n",
       "\t 20\\\\\n",
       "\\end{tabular}\n"
      ],
      "text/markdown": [
       "\n",
       "| x |\n",
       "|---|\n",
       "| 11 |\n",
       "| 12 |\n",
       "| 13 |\n",
       "| 14 |\n",
       "| 15 |\n",
       "| 16 |\n",
       "| 17 |\n",
       "| 18 |\n",
       "| 19 |\n",
       "| 20 |\n",
       "\n"
      ],
      "text/plain": [
       "   x \n",
       "1  11\n",
       "2  12\n",
       "3  13\n",
       "4  14\n",
       "5  15\n",
       "6  16\n",
       "7  17\n",
       "8  18\n",
       "9  19\n",
       "10 20"
      ]
     },
     "metadata": {},
     "output_type": "display_data"
    }
   ],
   "source": [
    "d[\"x\"]"
   ]
  },
  {
   "cell_type": "markdown",
   "metadata": {},
   "source": [
    "Note that both `d[,\"x\"]` and `d$x` return a `vector`. That is, the complexity of the `data.frame` structure was `dropped`. This does not happen when you do `d[\"x\"]`, where the outputs remains a `data.frame`. Take a look:"
   ]
  },
  {
   "cell_type": "code",
   "execution_count": 54,
   "metadata": {},
   "outputs": [
    {
     "data": {
      "text/html": [
       "'integer'"
      ],
      "text/latex": [
       "'integer'"
      ],
      "text/markdown": [
       "'integer'"
      ],
      "text/plain": [
       "[1] \"integer\""
      ]
     },
     "metadata": {},
     "output_type": "display_data"
    },
    {
     "data": {
      "text/html": [
       "'integer'"
      ],
      "text/latex": [
       "'integer'"
      ],
      "text/markdown": [
       "'integer'"
      ],
      "text/plain": [
       "[1] \"integer\""
      ]
     },
     "metadata": {},
     "output_type": "display_data"
    },
    {
     "data": {
      "text/html": [
       "'data.frame'"
      ],
      "text/latex": [
       "'data.frame'"
      ],
      "text/markdown": [
       "'data.frame'"
      ],
      "text/plain": [
       "[1] \"data.frame\""
      ]
     },
     "metadata": {},
     "output_type": "display_data"
    }
   ],
   "source": [
    "class(d[,\"x\"]) # This drops the data.frame and returns a vector\n",
    "class(d$x)     # This drops the data.frame and returns a vector\n",
    "class(d[\"x\"])  # This preserves the data.frame"
   ]
  },
  {
   "cell_type": "markdown",
   "metadata": {},
   "source": [
    "Why should you care about this `drop` business? In many cases R functions want a specific data type, such as a `matrix` or `data.frame` and report an error if they get something else. One common situation is that you think you provide data of the right type, such as a `data.frame`, but that in fact you are providing a vector, because the structure dropped.\n",
    "\n",
    "Either way, you can use `[ ]` with all three approaches to get to a specific value within a column:"
   ]
  },
  {
   "cell_type": "code",
   "execution_count": 55,
   "metadata": {},
   "outputs": [
    {
     "data": {
      "text/html": [
       "12"
      ],
      "text/latex": [
       "12"
      ],
      "text/markdown": [
       "12"
      ],
      "text/plain": [
       "[1] 12"
      ]
     },
     "metadata": {},
     "output_type": "display_data"
    }
   ],
   "source": [
    "d[[\"x\"]][2]"
   ]
  },
  {
   "cell_type": "code",
   "execution_count": 56,
   "metadata": {},
   "outputs": [
    {
     "data": {
      "text/html": [
       "12"
      ],
      "text/latex": [
       "12"
      ],
      "text/markdown": [
       "12"
      ],
      "text/plain": [
       "[1] 12"
      ]
     },
     "metadata": {},
     "output_type": "display_data"
    }
   ],
   "source": [
    "d$x[2]"
   ]
  },
  {
   "cell_type": "code",
   "execution_count": 57,
   "metadata": {},
   "outputs": [
    {
     "data": {
      "text/html": [
       "<ol class=list-inline>\n",
       "\t<li>12</li>\n",
       "\t<li>13</li>\n",
       "\t<li>14</li>\n",
       "</ol>\n"
      ],
      "text/latex": [
       "\\begin{enumerate*}\n",
       "\\item 12\n",
       "\\item 13\n",
       "\\item 14\n",
       "\\end{enumerate*}\n"
      ],
      "text/markdown": [
       "1. 12\n",
       "2. 13\n",
       "3. 14\n",
       "\n",
       "\n"
      ],
      "text/plain": [
       "[1] 12 13 14"
      ]
     },
     "metadata": {},
     "output_type": "display_data"
    }
   ],
   "source": [
    "d$x[2:4]"
   ]
  },
  {
   "cell_type": "markdown",
   "metadata": {},
   "source": [
    "<div class=\"Q\"><br><br>\n",
    "\n",
    "    \n",
    "Given the following Data Frame <span class=\"codeX\">d</span>:<br><br>\n",
    "    \n",
    "<span class=\"codeX\">d <- data.frame(x=2:6, y=3:7, z=4:8)</span><br><br>\n",
    "         \n",
    "...which is represented visually with the diagram below,\n",
    "\n",
    "<img src=\"./dataframe0.png\" width=\"150px\">\n",
    "         \n",
    "How would you access the values highlighted in the red box?<br><br>\n",
    "         \n",
    "<br><div class=\"qhelp\"></div></div>\n"
   ]
  },
  {
   "cell_type": "markdown",
   "metadata": {},
   "source": [
    "<div class=\"Q\"><br><br>\n",
    "\n",
    "    \n",
    "Given the following Data Frame <span class=\"codeX\">d</span>:<br><br>\n",
    "    \n",
    "<span class=\"codeX\">d <- data.frame(x=2:6, y=3:7, z=4:8)</span><br><br>\n",
    "         \n",
    "...which is represented visually with the diagram below,\n",
    "\n",
    "<img src=\"./dataframe1.png\" width=\"150px\">\n",
    "         \n",
    "Select all the choices that you could use to access the values highlighted in the red box?<br><br>\n",
    "         \n",
    "<br><div class=\"qhelp\"></div></div>\n"
   ]
  },
  {
   "cell_type": "markdown",
   "metadata": {},
   "source": [
    "<div class=\"Q\"><br><br>\n",
    "\n",
    "    \n",
    "Given the following Data Frame <span class=\"codeX\">d</span>:<br><br>\n",
    "    \n",
    "<span class=\"codeX\">d <- data.frame(x=2:6, y=3:7, z=4:8)</span><br><br>\n",
    "         \n",
    "...which is represented visually with the diagram below,\n",
    "\n",
    "<img src=\"./dataframe2.png\" width=\"150px\">\n",
    "         \n",
    "How would you access the value highlighted in the red box?<br><br>\n",
    "         \n",
    "<br><div class=\"qhelp\"></div></div>\n"
   ]
  },
  {
   "cell_type": "markdown",
   "metadata": {},
   "source": [
    "<div class=\"Q\"><br><br>\n",
    "\n",
    "    \n",
    "    \n",
    "Given the following Data Frame <span class=\"codeX\">d</span>:<br><br>\n",
    "    \n",
    "<span class=\"codeX\">d <- data.frame(x=2:6, y=3:7, z=4:8)</span><br><br>\n",
    "         \n",
    "and given the following subset of <span class=\"codeX\">d</span>, created as follows:<br><br>\n",
    "         \n",
    "<span class=\"codeX\">subset_d <- d[,\"x\"]</span><br><br>\n",
    "         \n",
    "What class or Data Structure would be <span class=\"codeX\">subset_d</span>?<br><br>\n",
    "         \n",
    "<br><div class=\"qhelp\"></div></div>\n"
   ]
  },
  {
   "cell_type": "markdown",
   "metadata": {},
   "source": [
    "<div class=\"Q\"><br><br>\n",
    "\n",
    "    \n",
    "Given the following Data Frame <span class=\"codeX\">d</span>:<br><br>\n",
    "    \n",
    "<span class=\"codeX\">d <- data.frame(x=2:6, y=3:7, z=4:8)</span><br><br>\n",
    "         \n",
    "and given the following subset of <span class=\"codeX\">d</span>, created as follows:<br><br>\n",
    "         \n",
    "<span class=\"codeX\">subset_d <- d$x</span><br><br>\n",
    "         \n",
    "What class or Data Structure would be <span class=\"codeX\">subset_d</span>?<br><br>\n",
    "         \n",
    "<br><div class=\"qhelp\"></div></div>\n"
   ]
  },
  {
   "cell_type": "markdown",
   "metadata": {},
   "source": [
    "<div class=\"Q\"><br><br>\n",
    "\n",
    "    \n",
    "Given the following Data Frame <span class=\"codeX\">d</span>:<br><br>\n",
    "    \n",
    "<span class=\"codeX\">d <- data.frame(x=2:6, y=3:7, z=4:8)</span><br><br>\n",
    "         \n",
    "and given the following subset of <span class=\"codeX\">d</span>, created as follows:<br><br>\n",
    "         \n",
    "<span class=\"codeX\">subset_d <- d[\"x\"]</span><br><br>\n",
    "         \n",
    "What class or Data Structure would be <span class=\"codeX\">subset_d</span>?\n",
    "         \n",
    "<br><div class=\"qhelp\"></div></div>\n"
   ]
  },
  {
   "cell_type": "markdown",
   "metadata": {},
   "source": [
    "-------------------\n",
    "\n",
    "Some parts of this lab where borrowed from:\n",
    "\n",
    "* [Software Carpentry](https://software-carpentry.org/)\n",
    "* [Data Carpentry](https://datacarpentry.org/)\n",
    "* [Spatial Data Science with R](https://rspatial.org/)\n",
    "* [Using R](http://www.sr.bham.ac.uk/~ajrs/R/)"
   ]
  },
  {
   "cell_type": "markdown",
   "metadata": {},
   "source": [
    "<div class=\"big_title\">This is the end of lab</div>\n",
    "\n",
    "*******************\n",
    "*******************\n",
    "\n",
    "Code below is for formatting of this lab. Do not alter!"
   ]
  },
  {
   "cell_type": "code",
   "execution_count": 1,
   "metadata": {},
   "outputs": [
    {
     "data": {
      "text/html": [
       "<style>\n",
       "\n",
       "body {\n",
       "  counter-reset: question_num task_num;                     /* Set a counter named 'section', and it`s initial value is 0. */\n",
       "}\n",
       "\n",
       "/* Question Box */\n",
       ".Q {\n",
       "    background-color:#ff9900;\n",
       "    color:black;\n",
       "    font-size:17px;\n",
       "    width:100%;\n",
       "    border:1px solid #666666;\n",
       "    padding:5px;\n",
       "}\n",
       "\n",
       ".Q::before {\n",
       "    counter-increment: question_num;\n",
       "    content: \"QUESTION \" counter(question_num) '\\A';\n",
       "    white-space: pre;\n",
       "}\n",
       "\n",
       "\n",
       "/* Question Box */\n",
       ".T {\n",
       "    background-color:#00F7FF;\n",
       "    color:black;\n",
       "    font-size:17px;\n",
       "    font-weight: bold;\n",
       "    width:10%;\n",
       "    padding:5px;\n",
       "}\n",
       "\n",
       "\n",
       ".T::before {\n",
       "    counter-increment: task_num;\n",
       "    content: \"Task \" counter(task_num) ': ';\n",
       "}\n",
       "\n",
       "\n",
       "/* TASK BOX */\n",
       ".startTASK {\n",
       "    background: linear-gradient(to bottom, #b3ffb3 0%, #ffffff 100%);\n",
       "    border-top-left-radius: 10px;\n",
       "    border-top-right-radius: 10px;\n",
       "    border:1px solid #009900;\n",
       "    border-bottom:1px solid #ffffff;\n",
       "    color:#006600;\n",
       "    font-size:17px;\n",
       "    width:100%;\n",
       "    font-weight: bold;\n",
       "    padding:5px;\n",
       "    padding-top:15px;\n",
       "}\n",
       ".startTASK::before {\n",
       "    counter-increment: task_num;\n",
       "    content: \"Task \" counter(task_num) ': ';\n",
       "}\n",
       "\n",
       ".endTASK {\n",
       "    background: linear-gradient(to bottom, #ffffff 0%, #b3ffb3 100%);\n",
       "    border-bottom-left-radius: 10px;\n",
       "    border-bottom-right-radius: 10px;\n",
       "    border:1px solid #009900;\n",
       "    border-top:1px solid #ffffff;\n",
       "    color:#006600;\n",
       "    font-size:13px;\n",
       "    width:100%;\n",
       "    font-weight: bold;\n",
       "    padding:5px;\n",
       "    padding-top:15px;\n",
       "}\n",
       ".endTASK::before {\n",
       "    content: \"End of Task\";\n",
       "}\n",
       "\n",
       "\n",
       "\n",
       "\n",
       "\n",
       "\n",
       "\n",
       "\n",
       "\n",
       "\n",
       "\n",
       "\n",
       "\n",
       "\n",
       ".qhelp {\n",
       "    color:#666666;\n",
       "    font-size:15px\n",
       "}\n",
       "\n",
       ".qhelp::after {\n",
       "    content: \"Answer this question in the corresponding Brightspace LAB quiz\"\n",
       "}\n",
       "\n",
       "\n",
       "\n",
       "/* code */\n",
       ".rendered_html pre, .rendered_html code {\n",
       "    font-family: \"SF Mono\",\"Segoe UI Mono\",\"Roboto Mono\",\"Ubuntu Mono\",Menlo,Courier,monospace;\n",
       "    padding: 1px 3px;\n",
       "    border: 1px solid #e6e6e6;\n",
       "    border-radius: 3px;\n",
       "    background: #e6e6e6;\n",
       "    font-size: 12px;\n",
       "    line-height: 1.4;\n",
       "    color: #0052CC;\n",
       "}\n",
       "\n",
       "\n",
       "/* Console */\n",
       ".console {\n",
       "    background-color:#d2d2d2;\n",
       "    color:#FF2525;\n",
       "    font-size:12px;\n",
       "    line-height: 1.4;\n",
       "    border:1px solid #bfbfbf;\n",
       "    padding-top:0px;\n",
       "    padding-bottom:0px;\n",
       "    padding-left:3px;\n",
       "    padding-right:3px;\n",
       "    border-radius: 3px;\n",
       "    display: inline-block;\n",
       "}\n",
       ".console::before {\n",
       "    content: \"Console\";\n",
       "}\n",
       "\n",
       "/* Editor */\n",
       ".editor {\n",
       "    background-color:#d2d2d2;\n",
       "    color:#00b300;\n",
       "    font-size: 12px;\n",
       "    line-height: 1.4;\n",
       "    border:1px solid #bfbfbf;\n",
       "    padding-top:0px;\n",
       "    padding-bottom:0px;\n",
       "    padding-left:3px;\n",
       "    padding-right:3px;\n",
       "    border-radius: 3px;\n",
       "    display: inline-block;\n",
       "}\n",
       ".editor::before {\n",
       "    content: \"Editor\";\n",
       "}\n",
       "\n",
       "\n",
       "\n",
       "/* Copy to CONSOLE */\n",
       ".c2c {\n",
       "    background-color:#d2d2d2;\n",
       "    color:#ff8080;\n",
       "    font-size:13px;\n",
       "    border:1px solid #bfbfbf;\n",
       "    padding:1px 3px;\n",
       "    border-radius: 3px;\n",
       "    margin-top: 10px;\n",
       "    display: inline-block;\n",
       "}\n",
       "\n",
       ".c2c::before {\n",
       "    content: \"Copy-paste into Spyder's Console\";\n",
       "}\n",
       "\n",
       "/* Type in CONSOLE */\n",
       ".t2c {\n",
       "    background-color:#d2d2d2;\n",
       "    color:#ff8080;\n",
       "    font-size:13px;\n",
       "    border:1px solid #bfbfbf;\n",
       "    padding:1px 3px;\n",
       "    border-radius: 3px;\n",
       "    margin-top: 10px;\n",
       "    display: inline-block;\n",
       "}\n",
       "\n",
       ".t2c::before {\n",
       "    content: \"Type into Spyder's Console\";\n",
       "}\n",
       "\n",
       "\n",
       "/* SOURCE */\n",
       ".source {\n",
       "    background-color:#d2d2d2;\n",
       "    color:#009EBF;\n",
       "    font-size: 12px;\n",
       "    line-height: 1.4;\n",
       "    font-weight: bold;\n",
       "    border:1px solid #bfbfbf;\n",
       "    padding-top:0px;\n",
       "    padding-bottom:0px;\n",
       "    padding-left:3px;\n",
       "    padding-right:3px;\n",
       "    border-radius: 3px;\n",
       "    display: inline-block;\n",
       "}\n",
       ".source::before {\n",
       "    content: \"\\25B6\" \"Source\";\n",
       "}\n",
       "\n",
       "\n",
       "/* RUN */\n",
       ".run {\n",
       "    background-color:#d2d2d2;\n",
       "    color:#00b300;\n",
       "    font-size: 12px;\n",
       "    line-height: 1.4;\n",
       "    font-weight: bold;\n",
       "    border:1px solid #bfbfbf;\n",
       "    padding-top:0px;\n",
       "    padding-bottom:0px;\n",
       "    padding-left:3px;\n",
       "    padding-right:3px;\n",
       "    border-radius: 3px;\n",
       "    display: inline-block;\n",
       "}\n",
       ".run::before {\n",
       "    content: \"\\25B6\" \"RUN\";\n",
       "}\n",
       "\n",
       "/* RUN */\n",
       ".runcell {\n",
       "    background-color:#d2d2d2;\n",
       "    color:#00b300;\n",
       "    font-size: 12px;\n",
       "    line-height: 1.4;\n",
       "    border:1px solid #bfbfbf;\n",
       "    padding-top:0px;\n",
       "    padding-bottom:0px;\n",
       "    padding-left:3px;\n",
       "    padding-right:3px;\n",
       "    border-radius: 3px;\n",
       "    display: inline-block;\n",
       "}\n",
       ".runcell::before {\n",
       "    content: \"RUN current cell\";\n",
       "}\n",
       "\n",
       "/* FILE */\n",
       ".file {\n",
       "    color:#b36b00;\n",
       "    font-size: 12px;\n",
       "    line-height: 1.4;\n",
       "    font-weight: bold;\n",
       "    border:1px solid #bfbfbf;\n",
       "    padding-top:0px;\n",
       "    padding-bottom:0px;\n",
       "    padding-left:3px;\n",
       "    padding-right:3px;\n",
       "    border-radius: 3px;\n",
       "    display: inline-block;\n",
       "}\n",
       "\n",
       "/* important */\n",
       ".important {\n",
       "    background-color:#ff4d4d;\n",
       "    color:black;\n",
       "    font-size: 13px;\n",
       "    line-height: 1.4;\n",
       "    font-weight: bold;\n",
       "    border:1px solid #bfbfbf;\n",
       "    padding-top:0px;\n",
       "    padding-bottom:0px;\n",
       "    padding-left:3px;\n",
       "    padding-right:3px;\n",
       "    border-radius: 3px;\n",
       "    display: inline-block;\n",
       "    margin-top:5px;\n",
       "}\n",
       ".important::before {\n",
       "    content: \"Important:\";\n",
       "}\n",
       "\n",
       "/* important */\n",
       ".note {\n",
       "    background-color:#ffff80;\n",
       "    color:black;\n",
       "    font-size: 13px;\n",
       "    line-height: 1.4;\n",
       "    font-weight: bold;\n",
       "    border:1px solid #bfbfbf;\n",
       "    padding-top:0px;\n",
       "    padding-bottom:0px;\n",
       "    padding-left:3px;\n",
       "    padding-right:3px;\n",
       "    border-radius: 3px;\n",
       "    display: inline-block;\n",
       "    margin-top:5px;\n",
       "}\n",
       ".note::before {\n",
       "    content: \"Note:\";\n",
       "}\n",
       "\n",
       "\n",
       "/* TODO */\n",
       ".TODO {\n",
       "    background-color:red;\n",
       "    color:black;\n",
       "    font-size:18px;\n",
       "    width:100%;\n",
       "    padding:10px;\n",
       "}\n",
       ".TODO::before {\n",
       "    content: \"TO-DO:\";\n",
       "}\n",
       "\n",
       "\n",
       ".nomenclature {\n",
       "    font-family: \"SF Mono\",\"Segoe UI Mono\",\"Roboto Mono\",\"Ubuntu Mono\",Menlo,Courier,monospace;\n",
       "    background-color:#ffff80;\n",
       "    color:black;\n",
       "    font-size: 15px;\n",
       "    line-height: 1.4;\n",
       "    font-weight: bold;\n",
       "    border:1px solid #bfbfbf;\n",
       "    padding-left:3px;\n",
       "    padding-right:3px;\n",
       "    display: inline-block;\n",
       "    margin-top:3px;\n",
       "}\n",
       "\n",
       "\n",
       "\n",
       ".big_title {\n",
       "    background-color:#cccccc;\n",
       "    color:black;\n",
       "    font-size: 35px;\n",
       "    line-height: 1.4;\n",
       "    font-weight: bold;\n",
       "    border:1px solid #8c8c8c;\n",
       "    padding:20px;\n",
       "    margin-top:5px;\n",
       "    width:100%;\n",
       "}\n",
       "\n",
       "\n",
       ".codeX {\n",
       "    font-family: \"SF Mono\",\"Segoe UI Mono\",\"Roboto Mono\",\"Ubuntu Mono\",Menlo,Courier,monospace;\n",
       "    background-color:#e6e6e6;\n",
       "    color:#0066ff;\n",
       "    font-size: 13px;\n",
       "    line-height: 1.4;\n",
       "    padding:2px;\n",
       "    display: inline-block;\n",
       "}\n",
       "\n",
       "\n",
       "\n",
       "/* checkpoint */\n",
       ".checkpoint {\n",
       "    background-color:yellow;\n",
       "    color:blue;\n",
       "    font-size: 15px;\n",
       "    line-height: 1.4;\n",
       "    font-weight: bold;\n",
       "    border:1px solid #bfbfbf;\n",
       "    padding-top:0px;\n",
       "    padding-bottom:0px;\n",
       "    padding-left:3px;\n",
       "    padding-right:3px;\n",
       "    border-radius: 3px;\n",
       "    display: inline-block;\n",
       "    margin-top:5px;\n",
       "}\n",
       "\n",
       ".codeerror {\n",
       "    background-color:#ffb3b3;\n",
       "    color:red;\n",
       "    font-size: 13px;\n",
       "    line-height: 1.4;\n",
       "    border:1px solid #ffb3b3;\n",
       "    padding-top:7px;\n",
       "    padding-bottom:7px;\n",
       "    padding-left:7px;\n",
       "    padding-right:7px;\n",
       "    border-radius: 3px;\n",
       "    margin:20px;\n",
       "    margin-left:25px;\n",
       "}\n",
       "\n",
       ".lineerror {\n",
       "    background-color:#ffb3b3;\n",
       "    color:red;\n",
       "    font-size: 13px;\n",
       "    line-height: 1.4;\n",
       "    border:1px solid #ffb3b3;\n",
       "    padding-top:0px;\n",
       "    padding-bottom:0px;\n",
       "    padding-left:3px;\n",
       "    padding-right:3px;\n",
       "    border-radius: 3px;\n",
       "    display: inline-block;\n",
       "    margin-top:5px;\n",
       "}\n",
       "\n",
       "\n",
       "/* terminal */\n",
       ".terminal {\n",
       "    background-color:black;\n",
       "    color:white;\n",
       "    font-size: 12px;\n",
       "    line-height: 1.4;\n",
       "    border:1px solid black;\n",
       "    padding-top:0px;\n",
       "    padding-bottom:0px;\n",
       "    padding-left:3px;\n",
       "    padding-right:3px;\n",
       "    border-radius: 3px;\n",
       "    display: inline-block;\n",
       "}\n",
       ".terminal::before {\n",
       "    content: \"Terminal (i.e. Anaconda Promt)\";\n",
       "}\n",
       ".terminalBlock {\n",
       "    font-family: \"SF Mono\",\"Segoe UI Mono\",\"Roboto Mono\",\"Ubuntu Mono\",Menlo,Courier,monospace;\n",
       "    background-color:black;\n",
       "    color:white;\n",
       "    font-size: 14px;\n",
       "    line-height: 1.4;\n",
       "    border:1px solid black;\n",
       "    padding-top:7px;\n",
       "    padding-bottom:7px;\n",
       "    padding-left:7px;\n",
       "    padding-right:7px;\n",
       "    border-radius: 3px;\n",
       "    margin:20px;\n",
       "    margin-left:25px;\n",
       "}\n",
       "\n",
       ".fakeheader {\n",
       "    font-size: 20px;\n",
       "    font-weight:bold;\n",
       "    background-color:#ccebff;\n",
       "    border:1px solid #b3e0ff;\n",
       "    padding:2px;\n",
       "    margin-top:30px;\n",
       "    margin-bottom:15px;\n",
       "}\n",
       "\n",
       "\n",
       "/* Headers */\n",
       "h1 {\n",
       "    background-color:#99d6ff;\n",
       "    border:1px solid #007acc;\n",
       "    padding:8px;\n",
       "}\n",
       "\n",
       "h2 {\n",
       "    background-color:#ccebff;\n",
       "    border:1px solid #b3e0ff;\n",
       "    padding:2px;\n",
       "}\n",
       "\n",
       "h3 {\n",
       "    background-color:#e6f5ff;\n",
       "    padding:1px;\n",
       "}\n",
       "\n",
       "</style>"
      ]
     },
     "metadata": {},
     "output_type": "display_data"
    },
    {
     "data": {
      "text/html": [
       "<style>.Q::before {counter-increment: question_num;\n",
       "    content: 'QUESTION ' counter(question_num) ': '; white-space: pre; }.T::before {counter-increment: task_num;\n",
       "    content: 'Task ' counter(task_num) ': ';</style>"
      ]
     },
     "metadata": {},
     "output_type": "display_data"
    }
   ],
   "source": [
    "cssFile <- '../css/custom.css'\n",
    "IRdisplay::display_html(readChar(cssFile, file.info(cssFile)$size))\n",
    "\n",
    "IRdisplay::display_html(\"<style>.Q::before {counter-increment: question_num;\n",
    "    content: 'QUESTION ' counter(question_num) ': '; white-space: pre; }.T::before {counter-increment: task_num;\n",
    "    content: 'Task ' counter(task_num) ': ';</style>\")"
   ]
  },
  {
   "cell_type": "code",
   "execution_count": null,
   "metadata": {},
   "outputs": [],
   "source": []
  }
 ],
 "metadata": {
  "kernelspec": {
   "display_name": "R",
   "language": "R",
   "name": "ir"
  },
  "language_info": {
   "codemirror_mode": "r",
   "file_extension": ".r",
   "mimetype": "text/x-r-source",
   "name": "R",
   "pygments_lexer": "r",
   "version": "3.6.1"
  }
 },
 "nbformat": 4,
 "nbformat_minor": 4
}
