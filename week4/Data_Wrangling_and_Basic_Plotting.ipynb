{
 "cells": [
  {
   "cell_type": "markdown",
   "metadata": {},
   "source": [
    "<div class=\"big_title\">LAB #: Title</div>\n",
    "\n",
    "BIO3782: Biologist's Toolkit (Dalhousie University)\n",
    "\n",
    "----------------------------------------"
   ]
  },
  {
   "cell_type": "markdown",
   "metadata": {},
   "source": [
    "# Setup of workspace\n",
    "\n",
    "<span class=\"important\"></span> Make sure all required files are in the working directory:\n",
    "\n",
    "* Create a **folder** on the \"Desktop\" and name it <span class='file'>Lab6</span>\n",
    "* From Brightspace, download the following files into your new folder <span class='file'>Desktop\\Lab6</span>:\n",
    "   * <span class='file'>model_NPZD2_SHELLE.py</span>\n",
    "   \n",
    "* In Spyder, change the \"working directory\" to: <span class='file'>Desktop\\Lab6</span>. Note that to change the \"working directory\", click on \"folder icon\" on top-right corner.\n",
    "\n",
    "----------------------------------\n"
   ]
  },
  {
   "cell_type": "markdown",
   "metadata": {},
   "source": [
    "# Loading the survey data\n",
    "\n",
    "We are investigating the animal species diversity and weights found within plots at our study site. The dataset is stored as a comma separated value (CSV) file. Each row holds information for a single animal, and the columns represent:\n",
    "\n",
    "Column\t| Description\n",
    "---- | ----\n",
    "record_id |\tUnique id for the observation\n",
    "month |\tmonth of observation\n",
    "day |\tday of observation\n",
    "year |\tyear of observation\n",
    "plot_id |\tID of a particular plot\n",
    "species_id |\t2-letter code\n",
    "sex |\tsex of animal (\"M\", \"F\")\n",
    "hindfoot_length |\tlength of the hindfoot in mm\n",
    "weight |\tweight of the animal in grams\n",
    "genus |\tgenus of animal\n",
    "species |\tspecies of animal\n",
    "taxon |\te.g. Rodent, Reptile, Bird, Rabbit\n",
    "plot_type |\ttype of plot\n"
   ]
  },
  {
   "cell_type": "markdown",
   "metadata": {},
   "source": [
    "# Downloading the data\n",
    "\n",
    "We are going to use the R function `download.file(`) to download the CSV file that contains the survey data from Figshare, and we will use `read_csv()` to load the content of the CSV file into R.\n",
    "\n",
    "Inside the `download.file` command, the first entry is a character string with the source URL (\"https://ndownloader.figshare.com/files/2292169\"). This source URL downloads a CSV file from figshare. The text after the comma (\"data_raw/portal_data_joined.csv\") is the destination of the file on your local machine. You'll need to have a folder on your machine called \"data_raw\" where you'll download the file. So this command downloads a file from Figshare, names it \"portal_data_joined.csv\" and adds it to a preexisting folder named \"data_raw\"."
   ]
  },
  {
   "cell_type": "markdown",
   "metadata": {},
   "source": [
    "<span class=\"task\"></span>\n",
    "\n",
    "Create a folder named <span class=\"file\">data_raw</span> in your working directory.\n",
    "\n",
    "Then:"
   ]
  },
  {
   "cell_type": "code",
   "execution_count": 2,
   "metadata": {},
   "outputs": [],
   "source": [
    "download.file(url = \"https://ndownloader.figshare.com/files/2292169\",\n",
    "              destfile = \"data_raw/portal_data_joined.csv\")"
   ]
  },
  {
   "cell_type": "markdown",
   "metadata": {},
   "source": [
    "# Reading the data into R\n",
    "\n",
    "The file has now been downloaded to the destination you specified, but R has not yet loaded the data from the file into memory. To do this, we can use the read_csv() function from the tidyverse package.\n",
    "\n",
    "Packages in R are basically sets of additional functions that let you do more stuff. The functions we've been using so far, like round(), sqrt(), or c(), come built into R; packages give you access to additional functions. Before you use a package for the first time you need to install it on your machine, and then you should import it in every subsequent R session when you need it.\n",
    "\n",
    "To install the tidyverse package, we can type install.packages(\"tidyverse\") straight into the console. In fact, it's better to write this in the console than in our script for any package, as there's no need to re-install packages every time we run the script. Then, to load the package type:"
   ]
  },
  {
   "cell_type": "code",
   "execution_count": 5,
   "metadata": {},
   "outputs": [],
   "source": [
    "## load the tidyverse packages, incl. dplyr\n",
    "#library(tidyverse)"
   ]
  },
  {
   "cell_type": "markdown",
   "metadata": {},
   "source": [
    "Now we can use the functions from the tidyverse package. Let's use read_csv() to read the data into a data frame (we will learn more about data frames later):"
   ]
  },
  {
   "cell_type": "code",
   "execution_count": 2,
   "metadata": {},
   "outputs": [],
   "source": [
    "surveys <- read.csv(\"data_raw/portal_data_joined.csv\")"
   ]
  },
  {
   "cell_type": "code",
   "execution_count": 3,
   "metadata": {},
   "outputs": [
    {
     "data": {
      "text/html": [
       "<table>\n",
       "<thead><tr><th scope=col>record_id</th><th scope=col>month</th><th scope=col>day</th><th scope=col>year</th><th scope=col>plot_id</th><th scope=col>species_id</th><th scope=col>sex</th><th scope=col>hindfoot_length</th><th scope=col>weight</th><th scope=col>genus</th><th scope=col>species</th><th scope=col>taxa</th><th scope=col>plot_type</th></tr></thead>\n",
       "<tbody>\n",
       "\t<tr><td>  1     </td><td> 7      </td><td>16      </td><td>1977    </td><td>2       </td><td>NL      </td><td>M       </td><td>32      </td><td>NA      </td><td>Neotoma </td><td>albigula</td><td>Rodent  </td><td>Control </td></tr>\n",
       "\t<tr><td> 72     </td><td> 8      </td><td>19      </td><td>1977    </td><td>2       </td><td>NL      </td><td>M       </td><td>31      </td><td>NA      </td><td>Neotoma </td><td>albigula</td><td>Rodent  </td><td>Control </td></tr>\n",
       "\t<tr><td>224     </td><td> 9      </td><td>13      </td><td>1977    </td><td>2       </td><td>NL      </td><td>        </td><td>NA      </td><td>NA      </td><td>Neotoma </td><td>albigula</td><td>Rodent  </td><td>Control </td></tr>\n",
       "\t<tr><td>266     </td><td>10      </td><td>16      </td><td>1977    </td><td>2       </td><td>NL      </td><td>        </td><td>NA      </td><td>NA      </td><td>Neotoma </td><td>albigula</td><td>Rodent  </td><td>Control </td></tr>\n",
       "\t<tr><td>349     </td><td>11      </td><td>12      </td><td>1977    </td><td>2       </td><td>NL      </td><td>        </td><td>NA      </td><td>NA      </td><td>Neotoma </td><td>albigula</td><td>Rodent  </td><td>Control </td></tr>\n",
       "\t<tr><td>363     </td><td>11      </td><td>12      </td><td>1977    </td><td>2       </td><td>NL      </td><td>        </td><td>NA      </td><td>NA      </td><td>Neotoma </td><td>albigula</td><td>Rodent  </td><td>Control </td></tr>\n",
       "</tbody>\n",
       "</table>\n"
      ],
      "text/latex": [
       "\\begin{tabular}{r|lllllllllllll}\n",
       " record\\_id & month & day & year & plot\\_id & species\\_id & sex & hindfoot\\_length & weight & genus & species & taxa & plot\\_type\\\\\n",
       "\\hline\n",
       "\t   1      &  7       & 16       & 1977     & 2        & NL       & M        & 32       & NA       & Neotoma  & albigula & Rodent   & Control \\\\\n",
       "\t  72      &  8       & 19       & 1977     & 2        & NL       & M        & 31       & NA       & Neotoma  & albigula & Rodent   & Control \\\\\n",
       "\t 224      &  9       & 13       & 1977     & 2        & NL       &          & NA       & NA       & Neotoma  & albigula & Rodent   & Control \\\\\n",
       "\t 266      & 10       & 16       & 1977     & 2        & NL       &          & NA       & NA       & Neotoma  & albigula & Rodent   & Control \\\\\n",
       "\t 349      & 11       & 12       & 1977     & 2        & NL       &          & NA       & NA       & Neotoma  & albigula & Rodent   & Control \\\\\n",
       "\t 363      & 11       & 12       & 1977     & 2        & NL       &          & NA       & NA       & Neotoma  & albigula & Rodent   & Control \\\\\n",
       "\\end{tabular}\n"
      ],
      "text/markdown": [
       "\n",
       "| record_id | month | day | year | plot_id | species_id | sex | hindfoot_length | weight | genus | species | taxa | plot_type |\n",
       "|---|---|---|---|---|---|---|---|---|---|---|---|---|\n",
       "|   1      |  7       | 16       | 1977     | 2        | NL       | M        | 32       | NA       | Neotoma  | albigula | Rodent   | Control  |\n",
       "|  72      |  8       | 19       | 1977     | 2        | NL       | M        | 31       | NA       | Neotoma  | albigula | Rodent   | Control  |\n",
       "| 224      |  9       | 13       | 1977     | 2        | NL       |          | NA       | NA       | Neotoma  | albigula | Rodent   | Control  |\n",
       "| 266      | 10       | 16       | 1977     | 2        | NL       |          | NA       | NA       | Neotoma  | albigula | Rodent   | Control  |\n",
       "| 349      | 11       | 12       | 1977     | 2        | NL       |          | NA       | NA       | Neotoma  | albigula | Rodent   | Control  |\n",
       "| 363      | 11       | 12       | 1977     | 2        | NL       |          | NA       | NA       | Neotoma  | albigula | Rodent   | Control  |\n",
       "\n"
      ],
      "text/plain": [
       "  record_id month day year plot_id species_id sex hindfoot_length weight\n",
       "1   1        7    16  1977 2       NL         M   32              NA    \n",
       "2  72        8    19  1977 2       NL         M   31              NA    \n",
       "3 224        9    13  1977 2       NL             NA              NA    \n",
       "4 266       10    16  1977 2       NL             NA              NA    \n",
       "5 349       11    12  1977 2       NL             NA              NA    \n",
       "6 363       11    12  1977 2       NL             NA              NA    \n",
       "  genus   species  taxa   plot_type\n",
       "1 Neotoma albigula Rodent Control  \n",
       "2 Neotoma albigula Rodent Control  \n",
       "3 Neotoma albigula Rodent Control  \n",
       "4 Neotoma albigula Rodent Control  \n",
       "5 Neotoma albigula Rodent Control  \n",
       "6 Neotoma albigula Rodent Control  "
      ]
     },
     "metadata": {},
     "output_type": "display_data"
    }
   ],
   "source": [
    "head(surveys)"
   ]
  },
  {
   "cell_type": "markdown",
   "metadata": {},
   "source": [
    "## View panel\n",
    "On the Environment Panel, double click on `surveys`"
   ]
  },
  {
   "cell_type": "code",
   "execution_count": 9,
   "metadata": {},
   "outputs": [
    {
     "data": {
      "text/html": [
       "<ol class=list-inline>\n",
       "\t<li>'record_id'</li>\n",
       "\t<li>'month'</li>\n",
       "\t<li>'day'</li>\n",
       "\t<li>'year'</li>\n",
       "\t<li>'plot_id'</li>\n",
       "\t<li>'species_id'</li>\n",
       "\t<li>'sex'</li>\n",
       "\t<li>'hindfoot_length'</li>\n",
       "\t<li>'weight'</li>\n",
       "\t<li>'genus'</li>\n",
       "\t<li>'species'</li>\n",
       "\t<li>'taxa'</li>\n",
       "\t<li>'plot_type'</li>\n",
       "</ol>\n"
      ],
      "text/latex": [
       "\\begin{enumerate*}\n",
       "\\item 'record\\_id'\n",
       "\\item 'month'\n",
       "\\item 'day'\n",
       "\\item 'year'\n",
       "\\item 'plot\\_id'\n",
       "\\item 'species\\_id'\n",
       "\\item 'sex'\n",
       "\\item 'hindfoot\\_length'\n",
       "\\item 'weight'\n",
       "\\item 'genus'\n",
       "\\item 'species'\n",
       "\\item 'taxa'\n",
       "\\item 'plot\\_type'\n",
       "\\end{enumerate*}\n"
      ],
      "text/markdown": [
       "1. 'record_id'\n",
       "2. 'month'\n",
       "3. 'day'\n",
       "4. 'year'\n",
       "5. 'plot_id'\n",
       "6. 'species_id'\n",
       "7. 'sex'\n",
       "8. 'hindfoot_length'\n",
       "9. 'weight'\n",
       "10. 'genus'\n",
       "11. 'species'\n",
       "12. 'taxa'\n",
       "13. 'plot_type'\n",
       "\n",
       "\n"
      ],
      "text/plain": [
       " [1] \"record_id\"       \"month\"           \"day\"             \"year\"           \n",
       " [5] \"plot_id\"         \"species_id\"      \"sex\"             \"hindfoot_length\"\n",
       " [9] \"weight\"          \"genus\"           \"species\"         \"taxa\"           \n",
       "[13] \"plot_type\"      "
      ]
     },
     "metadata": {},
     "output_type": "display_data"
    }
   ],
   "source": [
    "names(surveys)"
   ]
  },
  {
   "cell_type": "code",
   "execution_count": 22,
   "metadata": {},
   "outputs": [
    {
     "name": "stdout",
     "output_type": "stream",
     "text": [
      "'data.frame':\t34786 obs. of  13 variables:\n",
      " $ record_id      : int  1 72 224 266 349 363 435 506 588 661 ...\n",
      " $ month          : int  7 8 9 10 11 11 12 1 2 3 ...\n",
      " $ day            : int  16 19 13 16 12 12 10 8 18 11 ...\n",
      " $ year           : int  1977 1977 1977 1977 1977 1977 1977 1978 1978 1978 ...\n",
      " $ plot_id        : int  2 2 2 2 2 2 2 2 2 2 ...\n",
      " $ species_id     : Factor w/ 48 levels \"AB\",\"AH\",\"AS\",..: 16 16 16 16 16 16 16 16 16 16 ...\n",
      " $ sex            : Factor w/ 3 levels \"\",\"F\",\"M\": 3 3 1 1 1 1 1 1 3 1 ...\n",
      " $ hindfoot_length: int  32 31 NA NA NA NA NA NA NA NA ...\n",
      " $ weight         : int  NA NA NA NA NA NA NA NA 218 NA ...\n",
      " $ genus          : Factor w/ 26 levels \"Ammodramus\",\"Ammospermophilus\",..: 13 13 13 13 13 13 13 13 13 13 ...\n",
      " $ species        : Factor w/ 40 levels \"albigula\",\"audubonii\",..: 1 1 1 1 1 1 1 1 1 1 ...\n",
      " $ taxa           : Factor w/ 4 levels \"Bird\",\"Rabbit\",..: 4 4 4 4 4 4 4 4 4 4 ...\n",
      " $ plot_type      : Factor w/ 5 levels \"Control\",\"Long-term Krat Exclosure\",..: 1 1 1 1 1 1 1 1 1 1 ...\n"
     ]
    }
   ],
   "source": [
    "str(surveys)"
   ]
  },
  {
   "cell_type": "code",
   "execution_count": 23,
   "metadata": {},
   "outputs": [
    {
     "data": {
      "text/html": [
       "<ol class=list-inline>\n",
       "\t<li>34786</li>\n",
       "\t<li>13</li>\n",
       "</ol>\n"
      ],
      "text/latex": [
       "\\begin{enumerate*}\n",
       "\\item 34786\n",
       "\\item 13\n",
       "\\end{enumerate*}\n"
      ],
      "text/markdown": [
       "1. 34786\n",
       "2. 13\n",
       "\n",
       "\n"
      ],
      "text/plain": [
       "[1] 34786    13"
      ]
     },
     "metadata": {},
     "output_type": "display_data"
    }
   ],
   "source": [
    "dim(surveys)"
   ]
  },
  {
   "cell_type": "code",
   "execution_count": 24,
   "metadata": {},
   "outputs": [
    {
     "data": {
      "text/html": [
       "34786"
      ],
      "text/latex": [
       "34786"
      ],
      "text/markdown": [
       "34786"
      ],
      "text/plain": [
       "[1] 34786"
      ]
     },
     "metadata": {},
     "output_type": "display_data"
    }
   ],
   "source": [
    "nrow(surveys)"
   ]
  },
  {
   "cell_type": "code",
   "execution_count": 25,
   "metadata": {},
   "outputs": [
    {
     "data": {
      "text/html": [
       "<table>\n",
       "<thead><tr><th></th><th scope=col>record_id</th><th scope=col>month</th><th scope=col>day</th><th scope=col>year</th><th scope=col>plot_id</th><th scope=col>species_id</th><th scope=col>sex</th><th scope=col>hindfoot_length</th><th scope=col>weight</th><th scope=col>genus</th><th scope=col>species</th><th scope=col>taxa</th><th scope=col>plot_type</th></tr></thead>\n",
       "<tbody>\n",
       "\t<tr><th scope=row>34781</th><td>26787           </td><td> 9              </td><td>27              </td><td>1997            </td><td>7               </td><td>PL              </td><td>F               </td><td>21              </td><td>16              </td><td>Peromyscus      </td><td>leucopus        </td><td>Rodent          </td><td>Rodent Exclosure</td></tr>\n",
       "\t<tr><th scope=row>34782</th><td>26966           </td><td>10              </td><td>25              </td><td>1997            </td><td>7               </td><td>PL              </td><td>M               </td><td>20              </td><td>16              </td><td>Peromyscus      </td><td>leucopus        </td><td>Rodent          </td><td>Rodent Exclosure</td></tr>\n",
       "\t<tr><th scope=row>34783</th><td>27185           </td><td>11              </td><td>22              </td><td>1997            </td><td>7               </td><td>PL              </td><td>F               </td><td>21              </td><td>22              </td><td>Peromyscus      </td><td>leucopus        </td><td>Rodent          </td><td>Rodent Exclosure</td></tr>\n",
       "\t<tr><th scope=row>34784</th><td>27792           </td><td> 5              </td><td> 2              </td><td>1998            </td><td>7               </td><td>PL              </td><td>F               </td><td>20              </td><td> 8              </td><td>Peromyscus      </td><td>leucopus        </td><td>Rodent          </td><td>Rodent Exclosure</td></tr>\n",
       "\t<tr><th scope=row>34785</th><td>28806           </td><td>11              </td><td>21              </td><td>1998            </td><td>7               </td><td>PX              </td><td>                </td><td>NA              </td><td>NA              </td><td>Chaetodipus     </td><td>sp.             </td><td>Rodent          </td><td>Rodent Exclosure</td></tr>\n",
       "\t<tr><th scope=row>34786</th><td>30986           </td><td> 7              </td><td> 1              </td><td>2000            </td><td>7               </td><td>PX              </td><td>                </td><td>NA              </td><td>NA              </td><td>Chaetodipus     </td><td>sp.             </td><td>Rodent          </td><td>Rodent Exclosure</td></tr>\n",
       "</tbody>\n",
       "</table>\n"
      ],
      "text/latex": [
       "\\begin{tabular}{r|lllllllllllll}\n",
       "  & record\\_id & month & day & year & plot\\_id & species\\_id & sex & hindfoot\\_length & weight & genus & species & taxa & plot\\_type\\\\\n",
       "\\hline\n",
       "\t34781 & 26787            &  9               & 27               & 1997             & 7                & PL               & F                & 21               & 16               & Peromyscus       & leucopus         & Rodent           & Rodent Exclosure\\\\\n",
       "\t34782 & 26966            & 10               & 25               & 1997             & 7                & PL               & M                & 20               & 16               & Peromyscus       & leucopus         & Rodent           & Rodent Exclosure\\\\\n",
       "\t34783 & 27185            & 11               & 22               & 1997             & 7                & PL               & F                & 21               & 22               & Peromyscus       & leucopus         & Rodent           & Rodent Exclosure\\\\\n",
       "\t34784 & 27792            &  5               &  2               & 1998             & 7                & PL               & F                & 20               &  8               & Peromyscus       & leucopus         & Rodent           & Rodent Exclosure\\\\\n",
       "\t34785 & 28806            & 11               & 21               & 1998             & 7                & PX               &                  & NA               & NA               & Chaetodipus      & sp.              & Rodent           & Rodent Exclosure\\\\\n",
       "\t34786 & 30986            &  7               &  1               & 2000             & 7                & PX               &                  & NA               & NA               & Chaetodipus      & sp.              & Rodent           & Rodent Exclosure\\\\\n",
       "\\end{tabular}\n"
      ],
      "text/markdown": [
       "\n",
       "| <!--/--> | record_id | month | day | year | plot_id | species_id | sex | hindfoot_length | weight | genus | species | taxa | plot_type |\n",
       "|---|---|---|---|---|---|---|---|---|---|---|---|---|---|\n",
       "| 34781 | 26787            |  9               | 27               | 1997             | 7                | PL               | F                | 21               | 16               | Peromyscus       | leucopus         | Rodent           | Rodent Exclosure |\n",
       "| 34782 | 26966            | 10               | 25               | 1997             | 7                | PL               | M                | 20               | 16               | Peromyscus       | leucopus         | Rodent           | Rodent Exclosure |\n",
       "| 34783 | 27185            | 11               | 22               | 1997             | 7                | PL               | F                | 21               | 22               | Peromyscus       | leucopus         | Rodent           | Rodent Exclosure |\n",
       "| 34784 | 27792            |  5               |  2               | 1998             | 7                | PL               | F                | 20               |  8               | Peromyscus       | leucopus         | Rodent           | Rodent Exclosure |\n",
       "| 34785 | 28806            | 11               | 21               | 1998             | 7                | PX               |                  | NA               | NA               | Chaetodipus      | sp.              | Rodent           | Rodent Exclosure |\n",
       "| 34786 | 30986            |  7               |  1               | 2000             | 7                | PX               |                  | NA               | NA               | Chaetodipus      | sp.              | Rodent           | Rodent Exclosure |\n",
       "\n"
      ],
      "text/plain": [
       "      record_id month day year plot_id species_id sex hindfoot_length weight\n",
       "34781 26787      9    27  1997 7       PL         F   21              16    \n",
       "34782 26966     10    25  1997 7       PL         M   20              16    \n",
       "34783 27185     11    22  1997 7       PL         F   21              22    \n",
       "34784 27792      5     2  1998 7       PL         F   20               8    \n",
       "34785 28806     11    21  1998 7       PX             NA              NA    \n",
       "34786 30986      7     1  2000 7       PX             NA              NA    \n",
       "      genus       species  taxa   plot_type       \n",
       "34781 Peromyscus  leucopus Rodent Rodent Exclosure\n",
       "34782 Peromyscus  leucopus Rodent Rodent Exclosure\n",
       "34783 Peromyscus  leucopus Rodent Rodent Exclosure\n",
       "34784 Peromyscus  leucopus Rodent Rodent Exclosure\n",
       "34785 Chaetodipus sp.      Rodent Rodent Exclosure\n",
       "34786 Chaetodipus sp.      Rodent Rodent Exclosure"
      ]
     },
     "metadata": {},
     "output_type": "display_data"
    }
   ],
   "source": [
    "tail(surveys)"
   ]
  },
  {
   "cell_type": "code",
   "execution_count": 26,
   "metadata": {},
   "outputs": [
    {
     "data": {
      "text/plain": [
       "   record_id         month             day            year         plot_id     \n",
       " Min.   :    1   Min.   : 1.000   Min.   : 1.0   Min.   :1977   Min.   : 1.00  \n",
       " 1st Qu.: 8964   1st Qu.: 4.000   1st Qu.: 9.0   1st Qu.:1984   1st Qu.: 5.00  \n",
       " Median :17762   Median : 6.000   Median :16.0   Median :1990   Median :11.00  \n",
       " Mean   :17804   Mean   : 6.474   Mean   :16.1   Mean   :1990   Mean   :11.34  \n",
       " 3rd Qu.:26655   3rd Qu.:10.000   3rd Qu.:23.0   3rd Qu.:1997   3rd Qu.:17.00  \n",
       " Max.   :35548   Max.   :12.000   Max.   :31.0   Max.   :2002   Max.   :24.00  \n",
       "                                                                               \n",
       "   species_id    sex       hindfoot_length     weight      \n",
       " DM     :10596    : 1748   Min.   : 2.00   Min.   :  4.00  \n",
       " PP     : 3123   F:15690   1st Qu.:21.00   1st Qu.: 20.00  \n",
       " DO     : 3027   M:17348   Median :32.00   Median : 37.00  \n",
       " PB     : 2891             Mean   :29.29   Mean   : 42.67  \n",
       " RM     : 2609             3rd Qu.:36.00   3rd Qu.: 48.00  \n",
       " DS     : 2504             Max.   :70.00   Max.   :280.00  \n",
       " (Other):10036             NA's   :3348    NA's   :2503    \n",
       "             genus               species           taxa      \n",
       " Dipodomys      :16167   merriami    :10596   Bird   :  450  \n",
       " Chaetodipus    : 6029   penicillatus: 3123   Rabbit :   75  \n",
       " Onychomys      : 3267   ordii       : 3027   Reptile:   14  \n",
       " Reithrodontomys: 2694   baileyi     : 2891   Rodent :34247  \n",
       " Peromyscus     : 2234   megalotis   : 2609                  \n",
       " Perognathus    : 1629   spectabilis : 2504                  \n",
       " (Other)        : 2766   (Other)     :10036                  \n",
       "                     plot_type    \n",
       " Control                  :15611  \n",
       " Long-term Krat Exclosure : 5118  \n",
       " Rodent Exclosure         : 4233  \n",
       " Short-term Krat Exclosure: 5906  \n",
       " Spectab exclosure        : 3918  \n",
       "                                  \n",
       "                                  "
      ]
     },
     "metadata": {},
     "output_type": "display_data"
    }
   ],
   "source": [
    "summary(surveys)"
   ]
  },
  {
   "cell_type": "markdown",
   "metadata": {},
   "source": [
    "# VIsualize your data"
   ]
  },
  {
   "cell_type": "code",
   "execution_count": null,
   "metadata": {},
   "outputs": [],
   "source": []
  },
  {
   "cell_type": "code",
   "execution_count": 27,
   "metadata": {},
   "outputs": [
    {
     "data": {
      "image/png": "[encoded data removed]",
      "text/plain": [
       "Plot with title \"Histogram of surveys$weight\""
      ]
     },
     "metadata": {},
     "output_type": "display_data"
    }
   ],
   "source": [
    "hist(surveys$weight)"
   ]
  },
  {
   "cell_type": "code",
   "execution_count": 28,
   "metadata": {},
   "outputs": [
    {
     "data": {
      "image/png": "[encoded data removed]",
      "text/plain": [
       "Plot with title \"Histogram of surveys$weight\""
      ]
     },
     "metadata": {},
     "output_type": "display_data"
    }
   ],
   "source": [
    "hist(surveys$weight, breaks = 20)"
   ]
  },
  {
   "cell_type": "code",
   "execution_count": 44,
   "metadata": {},
   "outputs": [
    {
     "data": {
      "image/png": "[encoded data removed]",
      "text/plain": [
       "Plot with title \"Dipodomys\""
      ]
     },
     "metadata": {},
     "output_type": "display_data"
    }
   ],
   "source": [
    "genus = 'Dipodomys'\n",
    "hist(surveys$weight[surveys$genus == genus],\n",
    "     breaks = 20,\n",
    "     xlim = c(0,250),\n",
    "     main = genus)"
   ]
  },
  {
   "cell_type": "code",
   "execution_count": 45,
   "metadata": {},
   "outputs": [
    {
     "data": {
      "image/png": "[encoded data removed]",
      "text/plain": [
       "Plot with title \"Chaetodipus\""
      ]
     },
     "metadata": {},
     "output_type": "display_data"
    }
   ],
   "source": [
    "genus = 'Chaetodipus'\n",
    "hist(surveys$weight[surveys$genus == genus],\n",
    "     breaks = 20,\n",
    "     xlim = c(0,250),\n",
    "     main = genus)"
   ]
  },
  {
   "cell_type": "code",
   "execution_count": 40,
   "metadata": {},
   "outputs": [
    {
     "data": {
      "text/html": [
       "<ol class=list-inline>\n",
       "\t<li>&lt;NA&gt;</li>\n",
       "\t<li>&lt;NA&gt;</li>\n",
       "\t<li>&lt;NA&gt;</li>\n",
       "\t<li>&lt;NA&gt;</li>\n",
       "\t<li>&lt;NA&gt;</li>\n",
       "\t<li>&lt;NA&gt;</li>\n",
       "</ol>\n"
      ],
      "text/latex": [
       "\\begin{enumerate*}\n",
       "\\item <NA>\n",
       "\\item <NA>\n",
       "\\item <NA>\n",
       "\\item <NA>\n",
       "\\item <NA>\n",
       "\\item <NA>\n",
       "\\end{enumerate*}\n"
      ],
      "text/markdown": [
       "1. &lt;NA&gt;\n",
       "2. &lt;NA&gt;\n",
       "3. &lt;NA&gt;\n",
       "4. &lt;NA&gt;\n",
       "5. &lt;NA&gt;\n",
       "6. &lt;NA&gt;\n",
       "\n",
       "\n"
      ],
      "text/plain": [
       "[1] NA NA NA NA NA NA"
      ]
     },
     "metadata": {},
     "output_type": "display_data"
    }
   ],
   "source": [
    "tail(surveys$weight[surveys$taxa == 'Bird'])\n",
    "\n",
    "\n"
   ]
  },
  {
   "cell_type": "code",
   "execution_count": 9,
   "metadata": {},
   "outputs": [],
   "source": [
    "# Make plots a resonable size\n",
    "options(repr.plot.width=4, repr.plot.height=4)"
   ]
  },
  {
   "cell_type": "code",
   "execution_count": 20,
   "metadata": {},
   "outputs": [
    {
     "data": {
      "image/png": "[encoded data removed]",
      "text/plain": [
       "Plot with title \"hindfoot_length\""
      ]
     },
     "metadata": {},
     "output_type": "display_data"
    }
   ],
   "source": [
    "hist(surveys$hindfoot_length, # Data to plot\n",
    "     main = \"hindfoot_length\",# Title\n",
    "     xlab = \"Length (mm)\",    # x label\n",
    "     ylab = \"Frequency\",      # y label\n",
    "     col = \"red\")             # color of bars"
   ]
  },
  {
   "cell_type": "code",
   "execution_count": 28,
   "metadata": {},
   "outputs": [
    {
     "data": {
      "image/png": "[encoded data removed]",
      "text/plain": [
       "plot without title"
      ]
     },
     "metadata": {},
     "output_type": "display_data"
    }
   ],
   "source": [
    "# Make plots a resonable size\n",
    "options(repr.plot.width=5, repr.plot.height=5)\n",
    "\n",
    "plot(surveys$species_id)"
   ]
  },
  {
   "cell_type": "code",
   "execution_count": 5,
   "metadata": {},
   "outputs": [
    {
     "data": {
      "text/html": [
       "'factor'"
      ],
      "text/latex": [
       "'factor'"
      ],
      "text/markdown": [
       "'factor'"
      ],
      "text/plain": [
       "[1] \"factor\""
      ]
     },
     "metadata": {},
     "output_type": "display_data"
    }
   ],
   "source": [
    "class(surveys$sex)"
   ]
  },
  {
   "cell_type": "code",
   "execution_count": 11,
   "metadata": {},
   "outputs": [
    {
     "data": {
      "image/png": "[encoded data removed]",
      "text/plain": [
       "plot without title"
      ]
     },
     "metadata": {},
     "output_type": "display_data"
    }
   ],
   "source": [
    "plot(surveys$hindfoot_length,surveys$weight)"
   ]
  },
  {
   "cell_type": "code",
   "execution_count": 31,
   "metadata": {},
   "outputs": [
    {
     "data": {
      "image/png": "[encoded data removed]",
      "text/plain": [
       "plot without title"
      ]
     },
     "metadata": {},
     "output_type": "display_data"
    }
   ],
   "source": [
    "plot(surveys$hindfoot_length,surveys$weight)\n",
    "\n",
    "points(surveys$hindfoot_length[surveys$species_id == 'PP'],\n",
    "       surveys$weight[surveys$species_id == 'PP'],\n",
    "       col=\"green\", pch=\"o\",lty=1)\n",
    "\n",
    "points(surveys$hindfoot_length[surveys$species_id == 'DO'],\n",
    "       surveys$weight[surveys$species_id == 'DO'],\n",
    "       col=\"red\", pch=\"o\",lty=2)\n",
    "\n",
    "points(surveys$hindfoot_length[surveys$species_id == 'RO'],\n",
    "       surveys$weight[surveys$species_id == 'RO'],\n",
    "       col=\"blue\", pch=\"o\",lty=3)\n",
    "\n",
    "legend(5,250,legend=c('PP','DO','RO'),col=c(\"green\",\"red\",\"blue\"),pch='o',lty=c(1,2,3))"
   ]
  },
  {
   "cell_type": "code",
   "execution_count": 13,
   "metadata": {},
   "outputs": [
    {
     "data": {
      "text/html": [
       "'factor'"
      ],
      "text/latex": [
       "'factor'"
      ],
      "text/markdown": [
       "'factor'"
      ],
      "text/plain": [
       "[1] \"factor\""
      ]
     },
     "metadata": {},
     "output_type": "display_data"
    }
   ],
   "source": [
    "class(surveys$species_id)"
   ]
  },
  {
   "cell_type": "code",
   "execution_count": 14,
   "metadata": {},
   "outputs": [
    {
     "data": {
      "text/html": [
       "<ol class=list-inline>\n",
       "\t<li>'AB'</li>\n",
       "\t<li>'AH'</li>\n",
       "\t<li>'AS'</li>\n",
       "\t<li>'BA'</li>\n",
       "\t<li>'CB'</li>\n",
       "\t<li>'CM'</li>\n",
       "\t<li>'CQ'</li>\n",
       "\t<li>'CS'</li>\n",
       "\t<li>'CT'</li>\n",
       "\t<li>'CU'</li>\n",
       "\t<li>'CV'</li>\n",
       "\t<li>'DM'</li>\n",
       "\t<li>'DO'</li>\n",
       "\t<li>'DS'</li>\n",
       "\t<li>'DX'</li>\n",
       "\t<li>'NL'</li>\n",
       "\t<li>'OL'</li>\n",
       "\t<li>'OT'</li>\n",
       "\t<li>'OX'</li>\n",
       "\t<li>'PB'</li>\n",
       "\t<li>'PC'</li>\n",
       "\t<li>'PE'</li>\n",
       "\t<li>'PF'</li>\n",
       "\t<li>'PG'</li>\n",
       "\t<li>'PH'</li>\n",
       "\t<li>'PI'</li>\n",
       "\t<li>'PL'</li>\n",
       "\t<li>'PM'</li>\n",
       "\t<li>'PP'</li>\n",
       "\t<li>'PU'</li>\n",
       "\t<li>'PX'</li>\n",
       "\t<li>'RF'</li>\n",
       "\t<li>'RM'</li>\n",
       "\t<li>'RO'</li>\n",
       "\t<li>'RX'</li>\n",
       "\t<li>'SA'</li>\n",
       "\t<li>'SC'</li>\n",
       "\t<li>'SF'</li>\n",
       "\t<li>'SH'</li>\n",
       "\t<li>'SO'</li>\n",
       "\t<li>'SS'</li>\n",
       "\t<li>'ST'</li>\n",
       "\t<li>'SU'</li>\n",
       "\t<li>'UL'</li>\n",
       "\t<li>'UP'</li>\n",
       "\t<li>'UR'</li>\n",
       "\t<li>'US'</li>\n",
       "\t<li>'ZL'</li>\n",
       "</ol>\n"
      ],
      "text/latex": [
       "\\begin{enumerate*}\n",
       "\\item 'AB'\n",
       "\\item 'AH'\n",
       "\\item 'AS'\n",
       "\\item 'BA'\n",
       "\\item 'CB'\n",
       "\\item 'CM'\n",
       "\\item 'CQ'\n",
       "\\item 'CS'\n",
       "\\item 'CT'\n",
       "\\item 'CU'\n",
       "\\item 'CV'\n",
       "\\item 'DM'\n",
       "\\item 'DO'\n",
       "\\item 'DS'\n",
       "\\item 'DX'\n",
       "\\item 'NL'\n",
       "\\item 'OL'\n",
       "\\item 'OT'\n",
       "\\item 'OX'\n",
       "\\item 'PB'\n",
       "\\item 'PC'\n",
       "\\item 'PE'\n",
       "\\item 'PF'\n",
       "\\item 'PG'\n",
       "\\item 'PH'\n",
       "\\item 'PI'\n",
       "\\item 'PL'\n",
       "\\item 'PM'\n",
       "\\item 'PP'\n",
       "\\item 'PU'\n",
       "\\item 'PX'\n",
       "\\item 'RF'\n",
       "\\item 'RM'\n",
       "\\item 'RO'\n",
       "\\item 'RX'\n",
       "\\item 'SA'\n",
       "\\item 'SC'\n",
       "\\item 'SF'\n",
       "\\item 'SH'\n",
       "\\item 'SO'\n",
       "\\item 'SS'\n",
       "\\item 'ST'\n",
       "\\item 'SU'\n",
       "\\item 'UL'\n",
       "\\item 'UP'\n",
       "\\item 'UR'\n",
       "\\item 'US'\n",
       "\\item 'ZL'\n",
       "\\end{enumerate*}\n"
      ],
      "text/markdown": [
       "1. 'AB'\n",
       "2. 'AH'\n",
       "3. 'AS'\n",
       "4. 'BA'\n",
       "5. 'CB'\n",
       "6. 'CM'\n",
       "7. 'CQ'\n",
       "8. 'CS'\n",
       "9. 'CT'\n",
       "10. 'CU'\n",
       "11. 'CV'\n",
       "12. 'DM'\n",
       "13. 'DO'\n",
       "14. 'DS'\n",
       "15. 'DX'\n",
       "16. 'NL'\n",
       "17. 'OL'\n",
       "18. 'OT'\n",
       "19. 'OX'\n",
       "20. 'PB'\n",
       "21. 'PC'\n",
       "22. 'PE'\n",
       "23. 'PF'\n",
       "24. 'PG'\n",
       "25. 'PH'\n",
       "26. 'PI'\n",
       "27. 'PL'\n",
       "28. 'PM'\n",
       "29. 'PP'\n",
       "30. 'PU'\n",
       "31. 'PX'\n",
       "32. 'RF'\n",
       "33. 'RM'\n",
       "34. 'RO'\n",
       "35. 'RX'\n",
       "36. 'SA'\n",
       "37. 'SC'\n",
       "38. 'SF'\n",
       "39. 'SH'\n",
       "40. 'SO'\n",
       "41. 'SS'\n",
       "42. 'ST'\n",
       "43. 'SU'\n",
       "44. 'UL'\n",
       "45. 'UP'\n",
       "46. 'UR'\n",
       "47. 'US'\n",
       "48. 'ZL'\n",
       "\n",
       "\n"
      ],
      "text/plain": [
       " [1] \"AB\" \"AH\" \"AS\" \"BA\" \"CB\" \"CM\" \"CQ\" \"CS\" \"CT\" \"CU\" \"CV\" \"DM\" \"DO\" \"DS\" \"DX\"\n",
       "[16] \"NL\" \"OL\" \"OT\" \"OX\" \"PB\" \"PC\" \"PE\" \"PF\" \"PG\" \"PH\" \"PI\" \"PL\" \"PM\" \"PP\" \"PU\"\n",
       "[31] \"PX\" \"RF\" \"RM\" \"RO\" \"RX\" \"SA\" \"SC\" \"SF\" \"SH\" \"SO\" \"SS\" \"ST\" \"SU\" \"UL\" \"UP\"\n",
       "[46] \"UR\" \"US\" \"ZL\""
      ]
     },
     "metadata": {},
     "output_type": "display_data"
    }
   ],
   "source": [
    "levels(surveys$species_id)"
   ]
  },
  {
   "cell_type": "code",
   "execution_count": 15,
   "metadata": {},
   "outputs": [
    {
     "data": {
      "text/html": [
       "48"
      ],
      "text/latex": [
       "48"
      ],
      "text/markdown": [
       "48"
      ],
      "text/plain": [
       "[1] 48"
      ]
     },
     "metadata": {},
     "output_type": "display_data"
    }
   ],
   "source": [
    "nlevels(surveys$species_id)"
   ]
  },
  {
   "cell_type": "code",
   "execution_count": 21,
   "metadata": {},
   "outputs": [
    {
     "data": {
      "image/png": "[encoded data removed]",
      "text/plain": [
       "plot without title"
      ]
     },
     "metadata": {},
     "output_type": "display_data"
    }
   ],
   "source": [
    "plot(iris$Sepal.Length, iris$Sepal.Width, col = iris$Species)\n",
    "legend(\"topright\", legend = levels(iris$Species), col = 1:3, pch = 21)"
   ]
  },
  {
   "cell_type": "code",
   "execution_count": null,
   "metadata": {},
   "outputs": [],
   "source": []
  },
  {
   "cell_type": "code",
   "execution_count": null,
   "metadata": {},
   "outputs": [],
   "source": []
  },
  {
   "cell_type": "code",
   "execution_count": null,
   "metadata": {},
   "outputs": [],
   "source": []
  },
  {
   "cell_type": "code",
   "execution_count": null,
   "metadata": {},
   "outputs": [],
   "source": []
  },
  {
   "cell_type": "code",
   "execution_count": null,
   "metadata": {},
   "outputs": [],
   "source": []
  },
  {
   "cell_type": "code",
   "execution_count": 14,
   "metadata": {},
   "outputs": [
    {
     "data": {
      "image/png": "[encoded data removed]",
      "text/plain": [
       "plot without title"
      ]
     },
     "metadata": {},
     "output_type": "display_data"
    }
   ],
   "source": []
  },
  {
   "cell_type": "code",
   "execution_count": null,
   "metadata": {},
   "outputs": [],
   "source": []
  },
  {
   "cell_type": "code",
   "execution_count": null,
   "metadata": {},
   "outputs": [],
   "source": []
  },
  {
   "cell_type": "code",
   "execution_count": null,
   "metadata": {},
   "outputs": [],
   "source": []
  },
  {
   "cell_type": "code",
   "execution_count": null,
   "metadata": {},
   "outputs": [],
   "source": []
  },
  {
   "cell_type": "code",
   "execution_count": null,
   "metadata": {},
   "outputs": [],
   "source": []
  },
  {
   "cell_type": "code",
   "execution_count": null,
   "metadata": {},
   "outputs": [],
   "source": []
  },
  {
   "cell_type": "code",
   "execution_count": null,
   "metadata": {},
   "outputs": [],
   "source": []
  },
  {
   "cell_type": "code",
   "execution_count": null,
   "metadata": {},
   "outputs": [],
   "source": []
  },
  {
   "cell_type": "code",
   "execution_count": null,
   "metadata": {},
   "outputs": [],
   "source": []
  },
  {
   "cell_type": "code",
   "execution_count": null,
   "metadata": {},
   "outputs": [],
   "source": []
  },
  {
   "cell_type": "code",
   "execution_count": 10,
   "metadata": {},
   "outputs": [],
   "source": [
    "surveys$sex <- factor(surveys$sex)"
   ]
  },
  {
   "cell_type": "code",
   "execution_count": 12,
   "metadata": {},
   "outputs": [
    {
     "data": {
      "text/html": [
       "'factor'"
      ],
      "text/latex": [
       "'factor'"
      ],
      "text/markdown": [
       "'factor'"
      ],
      "text/plain": [
       "[1] \"factor\""
      ]
     },
     "metadata": {},
     "output_type": "display_data"
    }
   ],
   "source": [
    "class(surveys$sex)\n"
   ]
  },
  {
   "cell_type": "code",
   "execution_count": 13,
   "metadata": {},
   "outputs": [
    {
     "data": {
      "text/html": [
       "<dl class=dl-horizontal>\n",
       "\t<dt>1</dt>\n",
       "\t\t<dd>1748</dd>\n",
       "\t<dt>F</dt>\n",
       "\t\t<dd>15690</dd>\n",
       "\t<dt>M</dt>\n",
       "\t\t<dd>17348</dd>\n",
       "</dl>\n"
      ],
      "text/latex": [
       "\\begin{description*}\n",
       "\\item[1] 1748\n",
       "\\item[F] 15690\n",
       "\\item[M] 17348\n",
       "\\end{description*}\n"
      ],
      "text/markdown": [
       "1\n",
       ":   1748F\n",
       ":   15690M\n",
       ":   17348\n",
       "\n"
      ],
      "text/plain": [
       "          F     M \n",
       " 1748 15690 17348 "
      ]
     },
     "metadata": {},
     "output_type": "display_data"
    }
   ],
   "source": [
    "summary(surveys$sex)"
   ]
  },
  {
   "cell_type": "code",
   "execution_count": null,
   "metadata": {},
   "outputs": [],
   "source": []
  },
  {
   "cell_type": "code",
   "execution_count": null,
   "metadata": {},
   "outputs": [],
   "source": []
  },
  {
   "cell_type": "code",
   "execution_count": null,
   "metadata": {},
   "outputs": [],
   "source": []
  },
  {
   "cell_type": "markdown",
   "metadata": {},
   "source": [
    "<div class=\"Q\"><br>\n",
    "\n",
    "Question goes here.\n",
    "\n",
    "<br><br><div class=\"qhelp\"></div></div>"
   ]
  },
  {
   "cell_type": "markdown",
   "metadata": {},
   "source": [
    "<div class=\"Q\"><br>\n",
    "\n",
    "Question goes here.\n",
    "\n",
    "<br><br><div class=\"qhelp\"></div></div>"
   ]
  },
  {
   "cell_type": "markdown",
   "metadata": {},
   "source": [
    "<span class=\"console\"></span> <br>\n",
    "----------------------------- <br>\n",
    "<span class=\"editor\"></span> <br>\n",
    "----------------------------- <br>\n",
    "<span class=\"c2c\"></span> <br>\n",
    "<div class=\"c2c\"></div> <br>\n",
    "----------------------------- <br>\n",
    "<span class=\"run\"></span> <br>\n",
    "<div class=\"run\"></div> <br>\n",
    "----------------------------- <br>\n",
    "<span class=\"runcell\"></span> <br>\n",
    "<div class=\"runcell\"></div> <br>\n",
    "----------------------------- <br>\n",
    "<span class=\"file\">Text</span> <br>\n",
    "<div class=\"file\">Text</div> <br>\n",
    "----------------------------- <br>\n",
    "<span class=\"important\"></span> <br>\n",
    "<div class=\"important\"></div> <br>\n",
    "----------------------------- <br>\n",
    "<span class=\"note\"></span> <br>\n",
    "<div class=\"note\"></div> <br>\n",
    "----------------------------- <br>\n",
    "<span class=\"checkpoint\">Text</span> <br>\n",
    "<div class=\"checkpoint\">Text</div> <br>\n",
    "-----------------------------\n",
    "<span class=\"codeerror\">Text</span> <br>\n",
    "<div class=\"codeerror\">Text</div> <br>\n",
    "----------------------------- <br>\n",
    "<span class=\"lineerror\">Text</span> <br>\n",
    "<div class=\"lineerror\">Text</div> <br>\n",
    "----------------------------- <br>\n",
    "<span class=\"terminal\"></span> <br>\n",
    "<div class=\"terminal\"></div> <br>\n",
    "----------------------------- <br>\n",
    "<span class=\"terminalBlock\">Text</span> <br>\n",
    "<div class=\"terminalBlock\">Text</div> <br>\n",
    "----------------------------- <br>\n",
    "<span class=\"nomenclature\">nomenclature</span> <br>\n",
    "<div class=\"nomenclature\">nomenclature</div> <br>\n",
    "----------------------------- <br>"
   ]
  },
  {
   "cell_type": "markdown",
   "metadata": {},
   "source": [
    "<span class=\"console\"></span> <br>\n",
    "----------------------------- <br>\n",
    "<span class=\"editor\"></span> <br>\n",
    "----------------------------- <br>\n",
    "<span class=\"c2c\"></span> <br>\n",
    "<div class=\"c2c\"></div> <br>\n",
    "----------------------------- <br>\n",
    "<span class=\"run\"></span> <br>\n",
    "<div class=\"run\"></div> <br>\n",
    "----------------------------- <br>\n",
    "<span class=\"runcell\"></span> <br>\n",
    "<div class=\"runcell\"></div> <br>\n",
    "----------------------------- <br>\n",
    "<span class=\"file\">Text</span> <br>\n",
    "<div class=\"file\">Text</div> <br>\n",
    "----------------------------- <br>\n",
    "<span class=\"important\"></span> <br>\n",
    "<div class=\"important\"></div> <br>\n",
    "----------------------------- <br>\n",
    "<span class=\"note\"></span> <br>\n",
    "<div class=\"note\"></div> <br>\n",
    "----------------------------- <br>\n",
    "<span class=\"checkpoint\">Text</span> <br>\n",
    "<div class=\"checkpoint\">Text</div> <br>\n",
    "-----------------------------\n",
    "<span class=\"codeerror\">Text</span> <br>\n",
    "<div class=\"codeerror\">Text</div> <br>\n",
    "----------------------------- <br>\n",
    "<span class=\"lineerror\">Text</span> <br>\n",
    "<div class=\"lineerror\">Text</div> <br>\n",
    "----------------------------- <br>\n",
    "<span class=\"terminal\"></span> <br>\n",
    "<div class=\"terminal\"></div> <br>\n",
    "----------------------------- <br>\n",
    "<span class=\"terminalBlock\">Text</span> <br>\n",
    "<div class=\"terminalBlock\">Text</div> <br>\n",
    "----------------------------- <br>\n",
    "<span class=\"nomenclature\">nomenclature</span> <br>\n",
    "<div class=\"nomenclature\">nomenclature</div> <br>\n",
    "----------------------------- <br>\n",
    "<span class=\"code\">code</span> <br>\n",
    "<div class=\"code\">code</div> <br>\n",
    "----------------------------- <br>\n",
    "<span class=\"rendered_html\">rendered_html</span> <br>\n",
    "<div class=\"rendered_html\">rendered_html</div> <br>\n",
    "----------------------------- <br>"
   ]
  },
  {
   "cell_type": "markdown",
   "metadata": {},
   "source": [
    "<div class=\"big_title\">This is the end of lab</div>\n",
    "\n",
    "*******************\n",
    "*******************\n",
    "\n",
    "Code below is for formatting of this lab. Do not alter!"
   ]
  },
  {
   "cell_type": "code",
   "execution_count": 4,
   "metadata": {},
   "outputs": [
    {
     "data": {
      "text/html": [
       "<style>\n",
       "\n",
       "body {\n",
       "  counter-reset: question_num task_num;                     /* Set a counter named 'section', and it`s initial value is 0. */\n",
       "}\n",
       "\n",
       "/* Question Box */\n",
       ".Q {\n",
       "    background-color:#ff9900;\n",
       "    color:black;\n",
       "    font-size:17px;\n",
       "    width:100%;\n",
       "    border:1px solid #666666;\n",
       "    padding:5px;\n",
       "}\n",
       "\n",
       ".Q::before {\n",
       "    counter-increment: question_num;\n",
       "    content: \"QUESTION \" counter(question_num) '\\A';\n",
       "    white-space: pre;\n",
       "}\n",
       "\n",
       "\n",
       "/* Question Box */\n",
       ".T {\n",
       "    background-color:#00F7FF;\n",
       "    color:black;\n",
       "    font-size:17px;\n",
       "    font-weight: bold;\n",
       "    width:10%;\n",
       "    padding:5px;\n",
       "}\n",
       "\n",
       "\n",
       ".T::before {\n",
       "    counter-increment: task_num;\n",
       "    content: \"Task \" counter(task_num) ': ';\n",
       "}\n",
       "\n",
       "\n",
       ".qhelp {\n",
       "    color:#666666;\n",
       "    font-size:15px\n",
       "}\n",
       "\n",
       ".qhelp::after {\n",
       "    content: \"Answer this question in the corresponding Brightspace LAB quiz\"\n",
       "}\n",
       "\n",
       "\n",
       "\n",
       "/* code */\n",
       ".rendered_html pre, .rendered_html code {\n",
       "    font-family: \"SF Mono\",\"Segoe UI Mono\",\"Roboto Mono\",\"Ubuntu Mono\",Menlo,Courier,monospace;\n",
       "    padding: 1px 3px;\n",
       "    border: 1px solid #e6e6e6;\n",
       "    border-radius: 3px;\n",
       "    background: #e6e6e6;\n",
       "    font-size: 12px;\n",
       "    line-height: 1.4;\n",
       "    color: #0052CC;\n",
       "}\n",
       "\n",
       "\n",
       "/* Console */\n",
       ".console {\n",
       "    background-color:#d2d2d2;\n",
       "    color:#FF2525;\n",
       "    font-size:12px;\n",
       "    line-height: 1.4;\n",
       "    border:1px solid #bfbfbf;\n",
       "    padding-top:0px;\n",
       "    padding-bottom:0px;\n",
       "    padding-left:3px;\n",
       "    padding-right:3px;\n",
       "    border-radius: 3px;\n",
       "    display: inline-block;\n",
       "}\n",
       ".console::before {\n",
       "    content: \"Console\";\n",
       "}\n",
       "\n",
       "/* Editor */\n",
       ".editor {\n",
       "    background-color:#d2d2d2;\n",
       "    color:#00b300;\n",
       "    font-size: 12px;\n",
       "    line-height: 1.4;\n",
       "    border:1px solid #bfbfbf;\n",
       "    padding-top:0px;\n",
       "    padding-bottom:0px;\n",
       "    padding-left:3px;\n",
       "    padding-right:3px;\n",
       "    border-radius: 3px;\n",
       "    display: inline-block;\n",
       "}\n",
       ".editor::before {\n",
       "    content: \"Editor\";\n",
       "}\n",
       "\n",
       "\n",
       "\n",
       "/* Copy to CONSOLE */\n",
       ".c2c {\n",
       "    background-color:#d2d2d2;\n",
       "    color:#ff8080;\n",
       "    font-size:13px;\n",
       "    border:1px solid #bfbfbf;\n",
       "    padding:1px 3px;\n",
       "    border-radius: 3px;\n",
       "    margin-top: 10px;\n",
       "    display: inline-block;\n",
       "}\n",
       "\n",
       ".c2c::before {\n",
       "    content: \"Copy-paste into Spyder's Console\";\n",
       "}\n",
       "\n",
       "/* Type in CONSOLE */\n",
       ".t2c {\n",
       "    background-color:#d2d2d2;\n",
       "    color:#ff8080;\n",
       "    font-size:13px;\n",
       "    border:1px solid #bfbfbf;\n",
       "    padding:1px 3px;\n",
       "    border-radius: 3px;\n",
       "    margin-top: 10px;\n",
       "    display: inline-block;\n",
       "}\n",
       "\n",
       ".t2c::before {\n",
       "    content: \"Type into Spyder's Console\";\n",
       "}\n",
       "\n",
       "\n",
       "/* SOURCE */\n",
       ".source {\n",
       "    background-color:#d2d2d2;\n",
       "    color:#009EBF;\n",
       "    font-size: 12px;\n",
       "    line-height: 1.4;\n",
       "    font-weight: bold;\n",
       "    border:1px solid #bfbfbf;\n",
       "    padding-top:0px;\n",
       "    padding-bottom:0px;\n",
       "    padding-left:3px;\n",
       "    padding-right:3px;\n",
       "    border-radius: 3px;\n",
       "    display: inline-block;\n",
       "}\n",
       ".source::before {\n",
       "    content: \"\\25B6\" \"Source\";\n",
       "}\n",
       "\n",
       "\n",
       "/* RUN */\n",
       ".run {\n",
       "    background-color:#d2d2d2;\n",
       "    color:#00b300;\n",
       "    font-size: 12px;\n",
       "    line-height: 1.4;\n",
       "    font-weight: bold;\n",
       "    border:1px solid #bfbfbf;\n",
       "    padding-top:0px;\n",
       "    padding-bottom:0px;\n",
       "    padding-left:3px;\n",
       "    padding-right:3px;\n",
       "    border-radius: 3px;\n",
       "    display: inline-block;\n",
       "}\n",
       ".run::before {\n",
       "    content: \"\\25B6\" \"RUN\";\n",
       "}\n",
       "\n",
       "/* RUN */\n",
       ".runcell {\n",
       "    background-color:#d2d2d2;\n",
       "    color:#00b300;\n",
       "    font-size: 12px;\n",
       "    line-height: 1.4;\n",
       "    border:1px solid #bfbfbf;\n",
       "    padding-top:0px;\n",
       "    padding-bottom:0px;\n",
       "    padding-left:3px;\n",
       "    padding-right:3px;\n",
       "    border-radius: 3px;\n",
       "    display: inline-block;\n",
       "}\n",
       ".runcell::before {\n",
       "    content: \"RUN current cell\";\n",
       "}\n",
       "\n",
       "/* FILE */\n",
       ".file {\n",
       "    color:#b36b00;\n",
       "    font-size: 12px;\n",
       "    line-height: 1.4;\n",
       "    font-weight: bold;\n",
       "    border:1px solid #bfbfbf;\n",
       "    padding-top:0px;\n",
       "    padding-bottom:0px;\n",
       "    padding-left:3px;\n",
       "    padding-right:3px;\n",
       "    border-radius: 3px;\n",
       "    display: inline-block;\n",
       "}\n",
       "\n",
       "/* important */\n",
       ".important {\n",
       "    background-color:#ff4d4d;\n",
       "    color:black;\n",
       "    font-size: 13px;\n",
       "    line-height: 1.4;\n",
       "    font-weight: bold;\n",
       "    border:1px solid #bfbfbf;\n",
       "    padding-top:0px;\n",
       "    padding-bottom:0px;\n",
       "    padding-left:3px;\n",
       "    padding-right:3px;\n",
       "    border-radius: 3px;\n",
       "    display: inline-block;\n",
       "    margin-top:5px;\n",
       "}\n",
       ".important::before {\n",
       "    content: \"Important:\";\n",
       "}\n",
       "\n",
       "/* important */\n",
       ".note {\n",
       "    background-color:#ffff80;\n",
       "    color:black;\n",
       "    font-size: 13px;\n",
       "    line-height: 1.4;\n",
       "    font-weight: bold;\n",
       "    border:1px solid #bfbfbf;\n",
       "    padding-top:0px;\n",
       "    padding-bottom:0px;\n",
       "    padding-left:3px;\n",
       "    padding-right:3px;\n",
       "    border-radius: 3px;\n",
       "    display: inline-block;\n",
       "    margin-top:5px;\n",
       "}\n",
       ".note::before {\n",
       "    content: \"Note:\";\n",
       "}\n",
       "\n",
       "\n",
       "/* TODO */\n",
       ".TODO {\n",
       "    background-color:red;\n",
       "    color:black;\n",
       "    font-size:18px;\n",
       "    width:100%;\n",
       "    padding:10px;\n",
       "}\n",
       ".TODO::before {\n",
       "    content: \"TO-DO:\";\n",
       "}\n",
       "\n",
       "\n",
       ".nomenclature {\n",
       "    font-family: \"SF Mono\",\"Segoe UI Mono\",\"Roboto Mono\",\"Ubuntu Mono\",Menlo,Courier,monospace;\n",
       "    background-color:#ffff80;\n",
       "    color:black;\n",
       "    font-size: 20px;\n",
       "    line-height: 1.4;\n",
       "    font-weight: bold;\n",
       "    border:1px solid #bfbfbf;\n",
       "    padding:15px;\n",
       "    display: inline-block;\n",
       "    margin-top:5px;\n",
       "}\n",
       "\n",
       "\n",
       "\n",
       ".big_title {\n",
       "    background-color:#cccccc;\n",
       "    color:black;\n",
       "    font-size: 35px;\n",
       "    line-height: 1.4;\n",
       "    font-weight: bold;\n",
       "    border:1px solid #8c8c8c;\n",
       "    padding:20px;\n",
       "    margin-top:5px;\n",
       "    width:100%;\n",
       "}\n",
       "\n",
       "\n",
       "/*.code {\n",
       "    font-family: \"SF Mono\",\"Segoe UI Mono\",\"Roboto Mono\",\"Ubuntu Mono\",Menlo,Courier,monospace;\n",
       "    background-color:#e6e6e6;\n",
       "    color:#0066ff;\n",
       "    font-size: 13px;\n",
       "    line-height: 1.4;\n",
       "    padding:2px;\n",
       "}\n",
       "*/\n",
       "\n",
       "\n",
       "/* checkpoint */\n",
       ".checkpoint {\n",
       "    background-color:yellow;\n",
       "    color:blue;\n",
       "    font-size: 15px;\n",
       "    line-height: 1.4;\n",
       "    font-weight: bold;\n",
       "    border:1px solid #bfbfbf;\n",
       "    padding-top:0px;\n",
       "    padding-bottom:0px;\n",
       "    padding-left:3px;\n",
       "    padding-right:3px;\n",
       "    border-radius: 3px;\n",
       "    display: inline-block;\n",
       "    margin-top:5px;\n",
       "}\n",
       "\n",
       ".codeerror {\n",
       "    background-color:#ffb3b3;\n",
       "    color:red;\n",
       "    font-size: 13px;\n",
       "    line-height: 1.4;\n",
       "    border:1px solid #ffb3b3;\n",
       "    padding-top:7px;\n",
       "    padding-bottom:7px;\n",
       "    padding-left:7px;\n",
       "    padding-right:7px;\n",
       "    border-radius: 3px;\n",
       "    margin:20px;\n",
       "    margin-left:25px;\n",
       "}\n",
       "\n",
       ".lineerror {\n",
       "    background-color:#ffb3b3;\n",
       "    color:red;\n",
       "    font-size: 13px;\n",
       "    line-height: 1.4;\n",
       "    border:1px solid #ffb3b3;\n",
       "    padding-top:0px;\n",
       "    padding-bottom:0px;\n",
       "    padding-left:3px;\n",
       "    padding-right:3px;\n",
       "    border-radius: 3px;\n",
       "    display: inline-block;\n",
       "    margin-top:5px;\n",
       "}\n",
       "\n",
       "\n",
       "/* terminal */\n",
       ".terminal {\n",
       "    background-color:black;\n",
       "    color:white;\n",
       "    font-size: 12px;\n",
       "    line-height: 1.4;\n",
       "    border:1px solid black;\n",
       "    padding-top:0px;\n",
       "    padding-bottom:0px;\n",
       "    padding-left:3px;\n",
       "    padding-right:3px;\n",
       "    border-radius: 3px;\n",
       "    display: inline-block;\n",
       "}\n",
       ".terminal::before {\n",
       "    content: \"Terminal (i.e. Anaconda Promt)\";\n",
       "}\n",
       ".terminalBlock {\n",
       "    background-color:black;\n",
       "    color:white;\n",
       "    font-size: 14px;\n",
       "    line-height: 1.4;\n",
       "    border:1px solid black;\n",
       "    padding-top:7px;\n",
       "    padding-bottom:7px;\n",
       "    padding-left:7px;\n",
       "    padding-right:7px;\n",
       "    border-radius: 3px;\n",
       "    margin:20px;\n",
       "    margin-left:25px;\n",
       "}\n",
       "\n",
       "/* Headers */\n",
       "h1 {\n",
       "    background-color:#99d6ff;\n",
       "    border:1px solid #007acc;\n",
       "    padding:8px;\n",
       "}\n",
       "\n",
       "h2 {\n",
       "    background-color:#ccebff;\n",
       "    border:1px solid #b3e0ff;\n",
       "    padding:2px;\n",
       "}\n",
       "\n",
       "h3 {\n",
       "    background-color:#e6f5ff;\n",
       "    padding:1px;\n",
       "}\n",
       "\n",
       "</style>"
      ]
     },
     "metadata": {},
     "output_type": "display_data"
    },
    {
     "data": {
      "text/html": [
       "<style>body {counter-reset: question_num;}.Q::before {counter-increment: question_num;\n",
       "    content: 'QUESTION ' counter(question_num) '\\A'; white-space: pre; }</style>"
      ]
     },
     "metadata": {},
     "output_type": "display_data"
    }
   ],
   "source": [
    "cssFile <- '../css/custom.css'\n",
    "IRdisplay::display_html(readChar(cssFile, file.info(cssFile)$size))\n",
    "\n",
    "IRdisplay::display_html(\"<style>body {counter-reset: question_num;}.Q::before {counter-increment: question_num;\n",
    "    content: 'QUESTION ' counter(question_num) '\\\\A'; white-space: pre; }</style>\")"
   ]
  },
  {
   "cell_type": "code",
   "execution_count": null,
   "metadata": {},
   "outputs": [],
   "source": []
  }
 ],
 "metadata": {
  "kernelspec": {
   "display_name": "R",
   "language": "R",
   "name": "ir"
  },
  "language_info": {
   "codemirror_mode": "r",
   "file_extension": ".r",
   "mimetype": "text/x-r-source",
   "name": "R",
   "pygments_lexer": "r",
   "version": "3.6.1"
  }
 },
 "nbformat": 4,
 "nbformat_minor": 4
}
