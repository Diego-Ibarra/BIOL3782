{
 "cells": [
  {
   "cell_type": "code",
   "execution_count": 1,
   "metadata": {},
   "outputs": [],
   "source": [
    "# Lab settings - please ingnore\n",
    "options(repr.plot.width=7, repr.plot.height=4, repr.plot.res=250 ) # Make plots a resonable size"
   ]
  },
  {
   "cell_type": "markdown",
   "metadata": {},
   "source": [
    "<div class=\"big_title\">LAB 7: Flow control and Functions Explained</div>\n",
    "\n",
    "BIO3782: Biologist's Toolkit (Dalhousie University)\n",
    "\n",
    "----------------------------------------"
   ]
  },
  {
   "cell_type": "markdown",
   "metadata": {},
   "source": [
    "# Setup of workspace\n",
    "\n",
    "<span class=\"important\"></span> Make sure the required files are in the working directory:\n",
    "\n",
    "* Create a **folder**  on the \"desktop\" and name it <span class=\"file\">Lab6</span>\n",
    "* Create a **sub-folder** called <span class=\"file\">data_raw</span> inside your <span class=\"file\">Lab6</span> folder. Ideally, you would keep your raw and cleaned data separate in case you ever needed your raw data again.\n",
    "* From Brightspace, download the <span class=\"file\">portal_mammals.sqlite</span> and <span class=\"file\">treebase.Rdata</span> files into your <span class=\"file\">Desktop/Lab6/data_raw</span> folder:\n",
    "* In RStudio, change the working directory to <span class=\"file\">Desktop/Lab6</span>. Click here if you need a [refresher on the **working directory**](https://diego-ibarra.github.io/biol3782/week1/index.html#RStudio's-%22Working-Directory%22)\n",
    "* In RStudio, create a new R script, name it <span class=\"file\">lab6.r</span> and make sure you save it in <span class=\"file\">Desktop\\Lab6</span>. You will be writing and copy-pasting code to your <span class=\"file\">lab6.r</span> file so that you can keep a record of all you did in this lab.\n",
    "\n",
    "\n",
    "As in previous labs, we'll try simulate \"real-life\" coding, by using the tags below to indicate when to use RStudio's <span class=\"editor\"></span> and when to use the <span class=\"console\"></span>: \n",
    "\n",
    "\n",
    "<br>\n",
    "<div class=\"use_editor\"></div>\n",
    "<br><br>\n",
    "\n",
    "<div class=\"use_console\"></div>\n",
    "<br><br>\n",
    "\n",
    "----------------------------------------"
   ]
  },
  {
   "cell_type": "markdown",
   "metadata": {},
   "source": [
    "# Flow Control\n",
    "\n",
    "So far we have written R scripts that are linear; that is, statments are executed in a sequential manner like the diagram below:\n",
    "\n",
    "<img src=\"flow1.png\" width=\"100px\">\n",
    "\n",
    "However, there are ways to execute statments using \"bifurcations\" and \"go-back\" directives that allow the programmer to control the flow of statement execution. Below we explore some of this ways of flow control."
   ]
  },
  {
   "cell_type": "markdown",
   "metadata": {},
   "source": [
    "##  IF statements\n",
    "\n",
    "<span class=\"TODO\">DO TEXT</span>\n",
    "\n",
    "<img src=\"if1.png\" width=\"300px\">"
   ]
  },
  {
   "cell_type": "markdown",
   "metadata": {},
   "source": [
    "### if\n",
    "\n",
    "<div class=\"nomenclature\">\n",
    "if (condition is true) {<br>\n",
    "&nbsp;&nbsp;perform action<br>\n",
    "}<br>\n",
    "</div> "
   ]
  },
  {
   "cell_type": "code",
   "execution_count": 1,
   "metadata": {},
   "outputs": [
    {
     "data": {
      "text/html": [
       "8"
      ],
      "text/latex": [
       "8"
      ],
      "text/markdown": [
       "8"
      ],
      "text/plain": [
       "[1] 8"
      ]
     },
     "metadata": {},
     "output_type": "display_data"
    }
   ],
   "source": [
    "x <- 8\n",
    "\n",
    "if (x >= 10) {\n",
    "  print(\"x is greater than or equal to 10\")\n",
    "}\n",
    "\n",
    "x"
   ]
  },
  {
   "cell_type": "code",
   "execution_count": 2,
   "metadata": {},
   "outputs": [
    {
     "name": "stdout",
     "output_type": "stream",
     "text": [
      "[1] \"x is greater than or equal to 10\"\n"
     ]
    },
    {
     "data": {
      "text/html": [
       "12"
      ],
      "text/latex": [
       "12"
      ],
      "text/markdown": [
       "12"
      ],
      "text/plain": [
       "[1] 12"
      ]
     },
     "metadata": {},
     "output_type": "display_data"
    }
   ],
   "source": [
    "x <- 12\n",
    "\n",
    "if (x >= 10) {\n",
    "  print(\"x is greater than or equal to 10\")\n",
    "}\n",
    "\n",
    "x"
   ]
  },
  {
   "cell_type": "markdown",
   "metadata": {},
   "source": [
    "###  if ... else\n",
    "\n",
    "<div class=\"nomenclature\">\n",
    "if (condition is true) {<br>\n",
    "&nbsp;&nbsp;perform action<br>\n",
    "} else {  # that is, if the condition is false,<br>\n",
    "&nbsp;&nbsp;perform alternative action<br>\n",
    "}\n",
    "</div> \n",
    " "
   ]
  },
  {
   "cell_type": "code",
   "execution_count": 3,
   "metadata": {},
   "outputs": [
    {
     "name": "stdout",
     "output_type": "stream",
     "text": [
      "[1] \"x is less than 10\"\n"
     ]
    }
   ],
   "source": [
    "x <- 8\n",
    "\n",
    "if (x >= 10) {\n",
    "  print(\"x is greater than or equal to 10\")\n",
    "} else {\n",
    "  print(\"x is less than 10\")\n",
    "}"
   ]
  },
  {
   "cell_type": "code",
   "execution_count": 4,
   "metadata": {},
   "outputs": [
    {
     "name": "stdout",
     "output_type": "stream",
     "text": [
      "[1] \"x is greater than or equal to 10\"\n"
     ]
    }
   ],
   "source": [
    "x <- 12\n",
    "\n",
    "if (x >= 10) {\n",
    "  print(\"x is greater than or equal to 10\")\n",
    "} else {\n",
    "  print(\"x is less than 10\")\n",
    "}"
   ]
  },
  {
   "cell_type": "markdown",
   "metadata": {},
   "source": [
    "### if ... else if ... else"
   ]
  },
  {
   "cell_type": "code",
   "execution_count": 5,
   "metadata": {},
   "outputs": [
    {
     "name": "stdout",
     "output_type": "stream",
     "text": [
      "[1] \"x is greater than 5, but less than 10\"\n"
     ]
    }
   ],
   "source": [
    "x <- 8\n",
    "\n",
    "if (x >= 10) {\n",
    "  print(\"x is greater than or equal to 10\")\n",
    "} else if (x > 5) {\n",
    "  print(\"x is greater than 5, but less than 10\")\n",
    "} else {\n",
    "  print(\"x is less than 5\")\n",
    "}"
   ]
  },
  {
   "cell_type": "code",
   "execution_count": 6,
   "metadata": {},
   "outputs": [
    {
     "name": "stdout",
     "output_type": "stream",
     "text": [
      "[1] \"x is less than 5\"\n"
     ]
    }
   ],
   "source": [
    "x <- 2\n",
    "\n",
    "if (x >= 10) {\n",
    "  print(\"x is greater than or equal to 10\")\n",
    "} else if (x > 5) {\n",
    "  print(\"x is greater than 5, but less than 10\")\n",
    "} else {\n",
    "  print(\"x is less than 5\")\n",
    "}"
   ]
  },
  {
   "cell_type": "code",
   "execution_count": 7,
   "metadata": {},
   "outputs": [
    {
     "name": "stdout",
     "output_type": "stream",
     "text": [
      "[1] \"x is greater than or equal to 10\"\n"
     ]
    }
   ],
   "source": [
    "x <- 12\n",
    "\n",
    "if (x >= 10) {\n",
    "  print(\"x is greater than or equal to 10\")\n",
    "} else if (x > 5) {\n",
    "  print(\"x is greater than 5, but less than 10\")\n",
    "} else {\n",
    "  print(\"x is less than 5\")\n",
    "}"
   ]
  },
  {
   "cell_type": "markdown",
   "metadata": {},
   "source": [
    "## FOR Loops\n",
    "\n",
    "If you want to iterate over a set of values, when the order of iteration is important, and perform the same operation on each, a `for(`) loop will do the job. We saw `for()` loops in the shell lessons earlier. This is the most flexible of looping operations, but therefore also the hardest to use correctly. In general, the advice of many R users would be to learn about `for()` loops, but to avoid using `for()` loops unless the order of iteration is important: i.e. the calculation at each iteration depends on the results of previous iterations. If the order of iteration is not important, then you should learn about vectorized alternatives, such as the `purr` package, as they pay off in computational efficiency.\n",
    "\n",
    "\n",
    "<img src=\"for_loop.png\" width=\"300px\">\n",
    "\n",
    "\n",
    "The basic structure of a `for()` loop is:\n",
    "\n",
    "\n",
    "<div class=\"nomenclature\">\n",
    "for (iterator in set of values) {<br>\n",
    "&nbsp;&nbsp;do a thing<br>\n",
    "}<br>\n",
    "</div> \n",
    "\n",
    "For example:"
   ]
  },
  {
   "cell_type": "code",
   "execution_count": 8,
   "metadata": {},
   "outputs": [
    {
     "name": "stdout",
     "output_type": "stream",
     "text": [
      "[1] 1\n",
      "[1] 2\n",
      "[1] 3\n",
      "[1] 4\n",
      "[1] 5\n",
      "[1] 6\n",
      "[1] 7\n",
      "[1] 8\n",
      "[1] 9\n",
      "[1] 10\n"
     ]
    }
   ],
   "source": [
    "for (i in 1:10) {\n",
    "  print(i)\n",
    "}"
   ]
  },
  {
   "cell_type": "markdown",
   "metadata": {},
   "source": [
    "The `1:10` bit creates a vector on the fly; you can iterate over any other vector as well.\n",
    "\n",
    "We can use a `for()` loop nested within another `for()` loop to iterate over two things at once."
   ]
  },
  {
   "cell_type": "code",
   "execution_count": 1,
   "metadata": {},
   "outputs": [
    {
     "name": "stdout",
     "output_type": "stream",
     "text": [
      "[1] \"1 a\"\n",
      "[1] \"1 b\"\n",
      "[1] \"1 c\"\n",
      "[1] \"1 d\"\n",
      "[1] \"1 e\"\n",
      "[1] \"2 a\"\n",
      "[1] \"2 b\"\n",
      "[1] \"2 c\"\n",
      "[1] \"2 d\"\n",
      "[1] \"2 e\"\n",
      "[1] \"3 a\"\n",
      "[1] \"3 b\"\n",
      "[1] \"3 c\"\n",
      "[1] \"3 d\"\n",
      "[1] \"3 e\"\n",
      "[1] \"4 a\"\n",
      "[1] \"4 b\"\n",
      "[1] \"4 c\"\n",
      "[1] \"4 d\"\n",
      "[1] \"4 e\"\n",
      "[1] \"5 a\"\n",
      "[1] \"5 b\"\n",
      "[1] \"5 c\"\n",
      "[1] \"5 d\"\n",
      "[1] \"5 e\"\n"
     ]
    }
   ],
   "source": [
    "for (i in 1:5) {\n",
    "  for (j in c('a', 'b', 'c', 'd', 'e')) {\n",
    "    print(paste(i,j))\n",
    "  }\n",
    "}"
   ]
  },
  {
   "cell_type": "code",
   "execution_count": 2,
   "metadata": {},
   "outputs": [
    {
     "data": {
      "text/html": [
       "<style>\n",
       ".list-inline {list-style: none; margin:0; padding: 0}\n",
       ".list-inline>li {display: inline-block}\n",
       ".list-inline>li:not(:last-child)::after {content: \"\\00b7\"; padding: 0 .5ex}\n",
       "</style>\n",
       "<ol class=list-inline><li>'1 a'</li><li>'1 b'</li><li>'1 c'</li><li>'1 d'</li><li>'1 e'</li><li>'2 a'</li><li>'2 b'</li><li>'2 c'</li><li>'2 d'</li><li>'2 e'</li><li>'3 a'</li><li>'3 b'</li><li>'3 c'</li><li>'3 d'</li><li>'3 e'</li><li>'4 a'</li><li>'4 b'</li><li>'4 c'</li><li>'4 d'</li><li>'4 e'</li><li>'5 a'</li><li>'5 b'</li><li>'5 c'</li><li>'5 d'</li><li>'5 e'</li></ol>\n"
      ],
      "text/latex": [
       "\\begin{enumerate*}\n",
       "\\item '1 a'\n",
       "\\item '1 b'\n",
       "\\item '1 c'\n",
       "\\item '1 d'\n",
       "\\item '1 e'\n",
       "\\item '2 a'\n",
       "\\item '2 b'\n",
       "\\item '2 c'\n",
       "\\item '2 d'\n",
       "\\item '2 e'\n",
       "\\item '3 a'\n",
       "\\item '3 b'\n",
       "\\item '3 c'\n",
       "\\item '3 d'\n",
       "\\item '3 e'\n",
       "\\item '4 a'\n",
       "\\item '4 b'\n",
       "\\item '4 c'\n",
       "\\item '4 d'\n",
       "\\item '4 e'\n",
       "\\item '5 a'\n",
       "\\item '5 b'\n",
       "\\item '5 c'\n",
       "\\item '5 d'\n",
       "\\item '5 e'\n",
       "\\end{enumerate*}\n"
      ],
      "text/markdown": [
       "1. '1 a'\n",
       "2. '1 b'\n",
       "3. '1 c'\n",
       "4. '1 d'\n",
       "5. '1 e'\n",
       "6. '2 a'\n",
       "7. '2 b'\n",
       "8. '2 c'\n",
       "9. '2 d'\n",
       "10. '2 e'\n",
       "11. '3 a'\n",
       "12. '3 b'\n",
       "13. '3 c'\n",
       "14. '3 d'\n",
       "15. '3 e'\n",
       "16. '4 a'\n",
       "17. '4 b'\n",
       "18. '4 c'\n",
       "19. '4 d'\n",
       "20. '4 e'\n",
       "21. '5 a'\n",
       "22. '5 b'\n",
       "23. '5 c'\n",
       "24. '5 d'\n",
       "25. '5 e'\n",
       "\n",
       "\n"
      ],
      "text/plain": [
       " [1] \"1 a\" \"1 b\" \"1 c\" \"1 d\" \"1 e\" \"2 a\" \"2 b\" \"2 c\" \"2 d\" \"2 e\" \"3 a\" \"3 b\"\n",
       "[13] \"3 c\" \"3 d\" \"3 e\" \"4 a\" \"4 b\" \"4 c\" \"4 d\" \"4 e\" \"5 a\" \"5 b\" \"5 c\" \"5 d\"\n",
       "[25] \"5 e\""
      ]
     },
     "metadata": {},
     "output_type": "display_data"
    }
   ],
   "source": [
    "output_vector <- c()\n",
    "for (i in 1:5) {\n",
    "  for (j in c('a', 'b', 'c', 'd', 'e')) {\n",
    "    temp_output <- paste(i, j)\n",
    "    output_vector <- c(output_vector, temp_output)\n",
    "  }\n",
    "}\n",
    "output_vector"
   ]
  },
  {
   "cell_type": "code",
   "execution_count": 13,
   "metadata": {},
   "outputs": [
    {
     "name": "stdout",
     "output_type": "stream",
     "text": [
      " chr [1:50000] \"1 a\" \"1 b\" \"1 c\" \"1 d\" \"1 e\" \"2 a\" \"2 b\" \"2 c\" \"2 d\" \"2 e\" ...\n"
     ]
    },
    {
     "data": {
      "text/plain": [
       "   user  system elapsed \n",
       "  11.99    0.10   12.07 "
      ]
     },
     "metadata": {},
     "output_type": "display_data"
    }
   ],
   "source": [
    "# Start the clock!\n",
    "ptm <- proc.time()\n",
    "\n",
    "output_vector <- c()\n",
    "for (i in 1:10000) {\n",
    "  for (j in c('a', 'b', 'c', 'd', 'e')) {\n",
    "    temp_output <- paste(i, j)\n",
    "    output_vector <- c(output_vector, temp_output)\n",
    "  }\n",
    "}\n",
    "\n",
    "str(output_vector)\n",
    "\n",
    "# Stop the clock\n",
    "proc.time() - ptm"
   ]
  },
  {
   "cell_type": "code",
   "execution_count": 16,
   "metadata": {},
   "outputs": [
    {
     "name": "stdout",
     "output_type": "stream",
     "text": [
      " chr [1:50000] \"1 a\" \"1 b\" \"1 c\" \"1 d\" \"1 e\" \"2 a\" \"2 b\" \"2 c\" \"2 d\" \"2 e\" ...\n"
     ]
    },
    {
     "data": {
      "text/plain": [
       "   user  system elapsed \n",
       "   0.28    0.00    0.28 "
      ]
     },
     "metadata": {},
     "output_type": "display_data"
    }
   ],
   "source": [
    "# Start the clock!\n",
    "ptm <- proc.time()\n",
    "\n",
    "output_matrix <- matrix(nrow=10000, ncol=5)\n",
    "j_vector <- c('a', 'b', 'c', 'd', 'e')\n",
    "for (i in 1:10000) {\n",
    "  for (j in 1:5) {\n",
    "    temp_output <- paste(i, j_vector[j])\n",
    "    output_matrix[i, j] <- temp_output\n",
    "  }\n",
    "}\n",
    "output_vector2 <- as.vector(output_matrix)\n",
    "\n",
    "str(output_vector)\n",
    "\n",
    "# Stop the clock\n",
    "proc.time() - ptm\n"
   ]
  },
  {
   "cell_type": "markdown",
   "metadata": {},
   "source": [
    "## WHILE Loops\n",
    "\n",
    "Sometimes you may need needing to repeat an operation as long as a certain condition is met. You can do this with a `while()` loop.\n",
    "\n",
    "<div class=\"nomenclature\">\n",
    "while(this condition is true){<br>\n",
    "&nbsp;&nbsp;do a thing<br>\n",
    "}<br>\n",
    "</div>\n",
    "\n",
    "In the example below, the `while()` loop will run while the value of `x` is greater than zero. The value of `x` is re-calculated in every iteration of the `while()` loop (also the value of `x` is printed to screen):"
   ]
  },
  {
   "cell_type": "code",
   "execution_count": 19,
   "metadata": {},
   "outputs": [
    {
     "name": "stdout",
     "output_type": "stream",
     "text": [
      "[1] 5\n",
      "[1] 4\n",
      "[1] 3\n",
      "[1] 2\n"
     ]
    }
   ],
   "source": [
    "x <- 5\n",
    "\n",
    "while(x > 0) {\n",
    "    print(x)\n",
    "    x <- x-1\n",
    "}"
   ]
  },
  {
   "cell_type": "markdown",
   "metadata": {},
   "source": [
    "# Functions\n",
    "\n",
    "\n",
    "<div class=\"nomenclature\">\n",
    "functionName &lt;- function(arguments) {<br>\n",
    "&nbsp;&nbsp;do a thing<br>\n",
    "&nbsp;&nbsp;return(output)<br>\n",
    "}<br>\n",
    "</div>"
   ]
  },
  {
   "cell_type": "markdown",
   "metadata": {},
   "source": [
    "<div class=\"big_title\">This is the end of lab</div>\n",
    "\n",
    "*******************\n",
    "*******************\n",
    "\n",
    "Code below is for formatting of this lab. Do not alter!"
   ]
  },
  {
   "cell_type": "code",
   "execution_count": 64,
   "metadata": {},
   "outputs": [
    {
     "data": {
      "text/html": [
       "<style>\r\n",
       "\r\n",
       "body {\r\n",
       "  counter-reset: question_num task_num;                     /* Set a counter named 'section', and it`s initial value is 0. */\r\n",
       "}\r\n",
       "\r\n",
       "/* Question Box */\r\n",
       ".Q {\r\n",
       "    background-color:#ff9900;\r\n",
       "    color:black;\r\n",
       "    font-size:17px;\r\n",
       "    width:100%;\r\n",
       "    border:1px solid #666666;\r\n",
       "    padding:5px;\r\n",
       "}\r\n",
       "\r\n",
       ".Q::before {\r\n",
       "    counter-increment: question_num;\r\n",
       "    content: \"QUESTION \" counter(question_num) '\\A';\r\n",
       "    white-space: pre;\r\n",
       "}\r\n",
       "\r\n",
       "\r\n",
       "/* Question Box */\r\n",
       ".T {\r\n",
       "    background-color:#00F7FF;\r\n",
       "    color:black;\r\n",
       "    font-size:17px;\r\n",
       "    font-weight: bold;\r\n",
       "    width:10%;\r\n",
       "    padding:5px;\r\n",
       "}\r\n",
       "\r\n",
       "\r\n",
       ".T::before {\r\n",
       "    counter-increment: task_num;\r\n",
       "    content: \"Task \" counter(task_num) ': ';\r\n",
       "}\r\n",
       "\r\n",
       "\r\n",
       "/* TASK BOX */\r\n",
       ".startTASK {\r\n",
       "    background: linear-gradient(to bottom, #b3ffb3 0%, #ffffff 100%);\r\n",
       "    border-top-left-radius: 10px;\r\n",
       "    border-top-right-radius: 10px;\r\n",
       "    border:1px solid #009900;\r\n",
       "    border-bottom:1px solid #ffffff;\r\n",
       "    color:#006600;\r\n",
       "    font-size:17px;\r\n",
       "    width:100%;\r\n",
       "    font-weight: bold;\r\n",
       "    padding:5px;\r\n",
       "    padding-top:15px;\r\n",
       "}\r\n",
       ".startTASK::before {\r\n",
       "    counter-increment: task_num;\r\n",
       "    content: \"Task \" counter(task_num) ': ';\r\n",
       "}\r\n",
       "\r\n",
       ".endTASK {\r\n",
       "    background: linear-gradient(to bottom, #ffffff 0%, #b3ffb3 100%);\r\n",
       "    border-bottom-left-radius: 10px;\r\n",
       "    border-bottom-right-radius: 10px;\r\n",
       "    border:1px solid #009900;\r\n",
       "    border-top:1px solid #ffffff;\r\n",
       "    color:#006600;\r\n",
       "    font-size:13px;\r\n",
       "    width:100%;\r\n",
       "    font-weight: bold;\r\n",
       "    padding:5px;\r\n",
       "    padding-top:15px;\r\n",
       "}\r\n",
       ".endTASK::before {\r\n",
       "    content: \"End of Task\";\r\n",
       "}\r\n",
       "\r\n",
       "\r\n",
       "\r\n",
       "\r\n",
       "\r\n",
       "\r\n",
       "/* Use Editor */\r\n",
       ".use_editor {\r\n",
       "    background: linear-gradient(to right, #ccffcc 0%, #ffffff 100%);\r\n",
       "    border-top-left-radius: 10px;\r\n",
       "    border-top-right-radius: 10px;\r\n",
       "    border:1px solid #ffffff;\r\n",
       "    border-bottom:1px solid #ffffff;\r\n",
       "    color:#66cc66;\r\n",
       "    font-size:10px;\r\n",
       "    width:100%;\r\n",
       "    padding:0px;\r\n",
       "    padding-bottom:3px;\r\n",
       "    padding-left:7px;\r\n",
       "    margin-left: -5px;\r\n",
       "    margin-right: 150px;\r\n",
       "    margin-bottom: -13px;\r\n",
       "}\r\n",
       ".use_editor::before {\r\n",
       "    content: \"Type in EDITOR, hightlight, and click RUN\";\r\n",
       "    }\r\n",
       "\r\n",
       "\r\n",
       "/* Use Console */\r\n",
       ".use_console {\r\n",
       "    background: linear-gradient(to right, #ffe6e6 0%, #ffffff 100%);\r\n",
       "    border-top-left-radius: 10px;\r\n",
       "    border-top-right-radius: 10px;\r\n",
       "    border:1px solid #ffffff;\r\n",
       "    border-bottom:1px solid #ffffff;\r\n",
       "    color:#ff9999;\r\n",
       "    font-size:10px;\r\n",
       "    width:100%;\r\n",
       "    padding:0px;\r\n",
       "    padding-bottom:3px;\r\n",
       "    padding-left:7px;\r\n",
       "    margin-left: -5px;\r\n",
       "    margin-right: 150px;\r\n",
       "    margin-bottom: -13px;\r\n",
       "}\r\n",
       ".use_console::before {\r\n",
       "    content: \"Type in CONSOLE and click ENTER\";\r\n",
       "    }\r\n",
       "\r\n",
       "\r\n",
       "\r\n",
       "\r\n",
       "\r\n",
       "\r\n",
       "\r\n",
       "\r\n",
       "\r\n",
       "\r\n",
       "\r\n",
       "\r\n",
       "\r\n",
       ".qhelp {\r\n",
       "    color:#666666;\r\n",
       "    font-size:15px\r\n",
       "}\r\n",
       "\r\n",
       ".qhelp::after {\r\n",
       "    content: \"Answer this question in the corresponding Brightspace LAB quiz\"\r\n",
       "}\r\n",
       "\r\n",
       "\r\n",
       "\r\n",
       "/* code */\r\n",
       ".rendered_html pre, .rendered_html code {\r\n",
       "    font-family: \"SF Mono\",\"Segoe UI Mono\",\"Roboto Mono\",\"Ubuntu Mono\",Menlo,Courier,monospace;\r\n",
       "    padding: 1px 3px;\r\n",
       "    border: 1px solid #e6e6e6;\r\n",
       "    border-radius: 3px;\r\n",
       "    background: #e6e6e6;\r\n",
       "    font-size: 12px;\r\n",
       "    line-height: 1.4;\r\n",
       "    color: #0052CC;\r\n",
       "}\r\n",
       "\r\n",
       "\r\n",
       "/* Console */\r\n",
       ".console {\r\n",
       "    background-color:#d2d2d2;\r\n",
       "    color:#FF2525;\r\n",
       "    font-size:12px;\r\n",
       "    line-height: 1.4;\r\n",
       "    border:1px solid #bfbfbf;\r\n",
       "    padding-top:0px;\r\n",
       "    padding-bottom:0px;\r\n",
       "    padding-left:3px;\r\n",
       "    padding-right:3px;\r\n",
       "    border-radius: 3px;\r\n",
       "    display: inline-block;\r\n",
       "}\r\n",
       ".console::before {\r\n",
       "    content: \"Console\";\r\n",
       "}\r\n",
       "\r\n",
       "/* Editor */\r\n",
       ".editor {\r\n",
       "    background-color:#d2d2d2;\r\n",
       "    color:#00b300;\r\n",
       "    font-size: 12px;\r\n",
       "    line-height: 1.4;\r\n",
       "    border:1px solid #bfbfbf;\r\n",
       "    padding-top:0px;\r\n",
       "    padding-bottom:0px;\r\n",
       "    padding-left:3px;\r\n",
       "    padding-right:3px;\r\n",
       "    border-radius: 3px;\r\n",
       "    display: inline-block;\r\n",
       "}\r\n",
       ".editor::before {\r\n",
       "    content: \"Editor\";\r\n",
       "}\r\n",
       "\r\n",
       "\r\n",
       "\r\n",
       "/* Copy to CONSOLE */\r\n",
       ".c2c {\r\n",
       "    background-color:#d2d2d2;\r\n",
       "    color:#ff8080;\r\n",
       "    font-size:13px;\r\n",
       "    border:1px solid #bfbfbf;\r\n",
       "    padding:1px 3px;\r\n",
       "    border-radius: 3px;\r\n",
       "    margin-top: 10px;\r\n",
       "    display: inline-block;\r\n",
       "}\r\n",
       "\r\n",
       ".c2c::before {\r\n",
       "    content: \"Copy-paste into Spyder's Console\";\r\n",
       "}\r\n",
       "\r\n",
       "/* Type in CONSOLE */\r\n",
       ".t2c {\r\n",
       "    background-color:#d2d2d2;\r\n",
       "    color:#ff8080;\r\n",
       "    font-size:13px;\r\n",
       "    border:1px solid #bfbfbf;\r\n",
       "    padding:1px 3px;\r\n",
       "    border-radius: 3px;\r\n",
       "    margin-top: 10px;\r\n",
       "    display: inline-block;\r\n",
       "}\r\n",
       "\r\n",
       ".t2c::before {\r\n",
       "    content: \"Type into Spyder's Console\";\r\n",
       "}\r\n",
       "\r\n",
       "\r\n",
       "/* SOURCE */\r\n",
       ".source {\r\n",
       "    background-color:#d2d2d2;\r\n",
       "    color:#009EBF;\r\n",
       "    font-size: 12px;\r\n",
       "    line-height: 1.4;\r\n",
       "    font-weight: bold;\r\n",
       "    border:1px solid #bfbfbf;\r\n",
       "    padding-top:0px;\r\n",
       "    padding-bottom:0px;\r\n",
       "    padding-left:3px;\r\n",
       "    padding-right:3px;\r\n",
       "    border-radius: 3px;\r\n",
       "    display: inline-block;\r\n",
       "}\r\n",
       ".source::before {\r\n",
       "    content: \"\\25B6\" \"Source\";\r\n",
       "}\r\n",
       "\r\n",
       "\r\n",
       "/* RUN */\r\n",
       ".run {\r\n",
       "    background-color:#d2d2d2;\r\n",
       "    color:#00b300;\r\n",
       "    font-size: 12px;\r\n",
       "    line-height: 1.4;\r\n",
       "    font-weight: bold;\r\n",
       "    border:1px solid #bfbfbf;\r\n",
       "    padding-top:0px;\r\n",
       "    padding-bottom:0px;\r\n",
       "    padding-left:3px;\r\n",
       "    padding-right:3px;\r\n",
       "    border-radius: 3px;\r\n",
       "    display: inline-block;\r\n",
       "}\r\n",
       ".run::before {\r\n",
       "    content: \"\\25B6\" \"RUN\";\r\n",
       "}\r\n",
       "\r\n",
       "/* RUN */\r\n",
       ".runcell {\r\n",
       "    background-color:#d2d2d2;\r\n",
       "    color:#00b300;\r\n",
       "    font-size: 12px;\r\n",
       "    line-height: 1.4;\r\n",
       "    border:1px solid #bfbfbf;\r\n",
       "    padding-top:0px;\r\n",
       "    padding-bottom:0px;\r\n",
       "    padding-left:3px;\r\n",
       "    padding-right:3px;\r\n",
       "    border-radius: 3px;\r\n",
       "    display: inline-block;\r\n",
       "}\r\n",
       ".runcell::before {\r\n",
       "    content: \"RUN current cell\";\r\n",
       "}\r\n",
       "\r\n",
       "/* FILE */\r\n",
       ".file {\r\n",
       "    color:#b36b00;\r\n",
       "    font-size: 12px;\r\n",
       "    line-height: 1.4;\r\n",
       "    font-weight: bold;\r\n",
       "    border:1px solid #bfbfbf;\r\n",
       "    padding-top:0px;\r\n",
       "    padding-bottom:0px;\r\n",
       "    padding-left:3px;\r\n",
       "    padding-right:3px;\r\n",
       "    border-radius: 3px;\r\n",
       "    display: inline-block;\r\n",
       "}\r\n",
       "\r\n",
       "/* important */\r\n",
       ".important {\r\n",
       "    background-color:#ff4d4d;\r\n",
       "    color:black;\r\n",
       "    font-size: 13px;\r\n",
       "    line-height: 1.4;\r\n",
       "    font-weight: bold;\r\n",
       "    border:1px solid #bfbfbf;\r\n",
       "    padding-top:0px;\r\n",
       "    padding-bottom:0px;\r\n",
       "    padding-left:3px;\r\n",
       "    padding-right:3px;\r\n",
       "    border-radius: 3px;\r\n",
       "    display: inline-block;\r\n",
       "    margin-top:5px;\r\n",
       "}\r\n",
       ".important::before {\r\n",
       "    content: \"Important:\";\r\n",
       "}\r\n",
       "\r\n",
       "/* important */\r\n",
       ".note {\r\n",
       "    background-color:#ffff80;\r\n",
       "    color:black;\r\n",
       "    font-size: 13px;\r\n",
       "    line-height: 1.4;\r\n",
       "    font-weight: bold;\r\n",
       "    border:1px solid #bfbfbf;\r\n",
       "    padding-top:0px;\r\n",
       "    padding-bottom:0px;\r\n",
       "    padding-left:3px;\r\n",
       "    padding-right:3px;\r\n",
       "    border-radius: 3px;\r\n",
       "    display: inline-block;\r\n",
       "    margin-top:5px;\r\n",
       "}\r\n",
       ".note::before {\r\n",
       "    content: \"Note:\";\r\n",
       "}\r\n",
       "\r\n",
       "\r\n",
       "/* TODO */\r\n",
       ".TODO {\r\n",
       "    background-color:red;\r\n",
       "    color:black;\r\n",
       "    font-size:18px;\r\n",
       "    width:100%;\r\n",
       "    padding:10px;\r\n",
       "}\r\n",
       ".TODO::before {\r\n",
       "    content: \"TO-DO:\";\r\n",
       "}\r\n",
       "\r\n",
       "\r\n",
       ".nomenclature {\r\n",
       "    font-family: \"SF Mono\",\"Segoe UI Mono\",\"Roboto Mono\",\"Ubuntu Mono\",Menlo,Courier,monospace;\r\n",
       "    background-color:#ffff80;\r\n",
       "    color:black;\r\n",
       "    font-size: 15px;\r\n",
       "    line-height: 1.4;\r\n",
       "    font-weight: bold;\r\n",
       "    border:1px solid #bfbfbf;\r\n",
       "    padding-left:3px;\r\n",
       "    padding-right:3px;\r\n",
       "    display: inline-block;\r\n",
       "    margin-top:3px;\r\n",
       "}\r\n",
       "\r\n",
       "\r\n",
       "\r\n",
       ".big_title {\r\n",
       "    background-color:#cccccc;\r\n",
       "    color:black;\r\n",
       "    font-size: 35px;\r\n",
       "    line-height: 1.4;\r\n",
       "    font-weight: bold;\r\n",
       "    border:1px solid #8c8c8c;\r\n",
       "    padding:20px;\r\n",
       "    margin-top:5px;\r\n",
       "    width:100%;\r\n",
       "}\r\n",
       "\r\n",
       "\r\n",
       ".codeX {\r\n",
       "    font-family: \"SF Mono\",\"Segoe UI Mono\",\"Roboto Mono\",\"Ubuntu Mono\",Menlo,Courier,monospace;\r\n",
       "    background-color:#e6e6e6;\r\n",
       "    color:#0066ff;\r\n",
       "    font-size: 13px;\r\n",
       "    line-height: 1.4;\r\n",
       "    padding:2px;\r\n",
       "    display: inline-block;\r\n",
       "}\r\n",
       "\r\n",
       "\r\n",
       "\r\n",
       "/* checkpoint */\r\n",
       ".checkpoint {\r\n",
       "    background-color:yellow;\r\n",
       "    color:blue;\r\n",
       "    font-size: 15px;\r\n",
       "    line-height: 1.4;\r\n",
       "    font-weight: bold;\r\n",
       "    border:1px solid #bfbfbf;\r\n",
       "    padding-top:0px;\r\n",
       "    padding-bottom:0px;\r\n",
       "    padding-left:3px;\r\n",
       "    padding-right:3px;\r\n",
       "    border-radius: 3px;\r\n",
       "    display: inline-block;\r\n",
       "    margin-top:5px;\r\n",
       "}\r\n",
       "\r\n",
       ".codeerror {\r\n",
       "    background-color:#ffb3b3;\r\n",
       "    color:red;\r\n",
       "    font-size: 13px;\r\n",
       "    line-height: 1.4;\r\n",
       "    border:1px solid #ffb3b3;\r\n",
       "    padding-top:7px;\r\n",
       "    padding-bottom:7px;\r\n",
       "    padding-left:7px;\r\n",
       "    padding-right:7px;\r\n",
       "    border-radius: 3px;\r\n",
       "    margin:20px;\r\n",
       "    margin-left:25px;\r\n",
       "}\r\n",
       "\r\n",
       ".lineerror {\r\n",
       "    background-color:#ffb3b3;\r\n",
       "    color:red;\r\n",
       "    font-size: 13px;\r\n",
       "    line-height: 1.4;\r\n",
       "    border:1px solid #ffb3b3;\r\n",
       "    padding-top:0px;\r\n",
       "    padding-bottom:0px;\r\n",
       "    padding-left:3px;\r\n",
       "    padding-right:3px;\r\n",
       "    border-radius: 3px;\r\n",
       "    display: inline-block;\r\n",
       "    margin-top:5px;\r\n",
       "}\r\n",
       "\r\n",
       "\r\n",
       "/* terminal */\r\n",
       ".terminal {\r\n",
       "    background-color:black;\r\n",
       "    color:white;\r\n",
       "    font-size: 12px;\r\n",
       "    line-height: 1.4;\r\n",
       "    border:1px solid black;\r\n",
       "    padding-top:0px;\r\n",
       "    padding-bottom:0px;\r\n",
       "    padding-left:3px;\r\n",
       "    padding-right:3px;\r\n",
       "    border-radius: 3px;\r\n",
       "    display: inline-block;\r\n",
       "}\r\n",
       ".terminal::before {\r\n",
       "    content: \"Terminal (i.e. Anaconda Promt)\";\r\n",
       "}\r\n",
       ".terminalBlock {\r\n",
       "    font-family: \"SF Mono\",\"Segoe UI Mono\",\"Roboto Mono\",\"Ubuntu Mono\",Menlo,Courier,monospace;\r\n",
       "    background-color:black;\r\n",
       "    color:white;\r\n",
       "    font-size: 14px;\r\n",
       "    line-height: 1.4;\r\n",
       "    border:1px solid black;\r\n",
       "    padding-top:7px;\r\n",
       "    padding-bottom:7px;\r\n",
       "    padding-left:7px;\r\n",
       "    padding-right:7px;\r\n",
       "    border-radius: 3px;\r\n",
       "    margin:20px;\r\n",
       "    margin-left:25px;\r\n",
       "}\r\n",
       "\r\n",
       ".fakeheader {\r\n",
       "    font-size: 20px;\r\n",
       "    font-weight:bold;\r\n",
       "    background-color:#ccebff;\r\n",
       "    border:1px solid #b3e0ff;\r\n",
       "    padding:2px;\r\n",
       "    margin-top:30px;\r\n",
       "    margin-bottom:15px;\r\n",
       "}\r\n",
       "\r\n",
       "\r\n",
       "/* Headers */\r\n",
       "h1 {\r\n",
       "    background-color:#99d6ff;\r\n",
       "    border:1px solid #007acc;\r\n",
       "    padding:8px;\r\n",
       "}\r\n",
       "\r\n",
       "h2 {\r\n",
       "    background-color:#ccebff;\r\n",
       "    border:1px solid #b3e0ff;\r\n",
       "    padding:2px;\r\n",
       "}\r\n",
       "\r\n",
       "h3 {\r\n",
       "    background-color:#e6f5ff;\r\n",
       "    padding:1px;\r\n",
       "}\r\n",
       "\r\n",
       "</style>"
      ]
     },
     "metadata": {},
     "output_type": "display_data"
    },
    {
     "data": {
      "text/html": [
       "<style>body {counter-reset: question_num;}.Q::before {counter-increment: question_num;\n",
       "    content: 'QUESTION ' counter(question_num) '\\A'; white-space: pre; }</style>"
      ]
     },
     "metadata": {},
     "output_type": "display_data"
    }
   ],
   "source": [
    "cssFile <- '../css/custom.css'\n",
    "IRdisplay::display_html(readChar(cssFile, file.info(cssFile)$size))\n",
    "\n",
    "IRdisplay::display_html(\"<style>body {counter-reset: question_num;}.Q::before {counter-increment: question_num;\n",
    "    content: 'QUESTION ' counter(question_num) '\\\\A'; white-space: pre; }</style>\")"
   ]
  },
  {
   "cell_type": "code",
   "execution_count": null,
   "metadata": {},
   "outputs": [],
   "source": []
  }
 ],
 "metadata": {
  "kernelspec": {
   "display_name": "R",
   "language": "R",
   "name": "ir"
  },
  "language_info": {
   "codemirror_mode": "r",
   "file_extension": ".r",
   "mimetype": "text/x-r-source",
   "name": "R",
   "pygments_lexer": "r",
   "version": "4.0.3"
  }
 },
 "nbformat": 4,
 "nbformat_minor": 4
}
